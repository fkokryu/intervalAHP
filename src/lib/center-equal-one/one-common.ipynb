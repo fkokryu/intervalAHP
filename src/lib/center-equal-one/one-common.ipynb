{
 "cells": [
  {
   "cell_type": "code",
   "execution_count": 1,
   "metadata": {},
   "outputs": [],
   "source": [
    "using LaTeXStrings"
   ]
  },
  {
   "cell_type": "code",
   "execution_count": 2,
   "metadata": {},
   "outputs": [
    {
     "data": {
      "text/plain": [
       "solveoneCommonGroundLP (generic function with 1 method)"
      ]
     },
     "metadata": {},
     "output_type": "display_data"
    }
   ],
   "source": [
    "include(\"../display/display-crisp-matrix.jl\")\n",
    "include(\"../display/display-interval-vector.jl\")\n",
    "include(\"./one-common.jl\")"
   ]
  },
  {
   "cell_type": "code",
   "execution_count": 3,
   "metadata": {},
   "outputs": [
    {
     "data": {
      "text/plain": [
       "4×4 Matrix{Float64}:\n",
       " 1.0       1.0       2.0       6.0\n",
       " 1.0       1.0       3.0       2.0\n",
       " 0.5       0.333333  1.0       3.0\n",
       " 0.166667  0.5       0.333333  1.0"
      ]
     },
     "metadata": {},
     "output_type": "display_data"
    }
   ],
   "source": [
    "A₁ = [\n",
    "    1.0\t2.0\t2.0\t2.0\t4.0\n",
    "    0.5\t1.0\t1.0\t2.0\t2.0\n",
    "    0.5\t1.0\t1.0\t2.0\t4.0\n",
    "    0.5\t0.5\t0.5\t1.0\t2.0\n",
    "    0.25\t0.5\t0.25\t0.5\t1.0\n",
    "]\n",
    "\n",
    "A₂ = [\n",
    "    1.0\t2.0\t2.0\t1.0\t4.0\n",
    "    0.5\t1.0\t2.0\t2.0\t3.0\n",
    "    0.5\t0.5\t1.0\t2.0\t5.0\n",
    "    1.0\t0.5\t0.5\t1.0\t2.0\n",
    "    0.25\t0.3333333333333330\t0.2\t0.5\t1.0\n",
    "]\n",
    "\n",
    "A₃ = [\n",
    "    1.0\t2.0\t1.0\t2.0\t2.0\n",
    "    0.5\t1.0\t1.0\t2.0\t2.0\n",
    "    1.0\t1.0\t1.0\t2.0\t2.0\n",
    "    0.5\t0.5\t0.5\t1.0\t5.0\n",
    "    0.5\t0.5\t0.5\t0.2\t1.0\n",
    "]"
   ]
  },
  {
   "cell_type": "code",
   "execution_count": 4,
   "metadata": {},
   "outputs": [
    {
     "data": {
      "text/plain": [
       "4-element Vector{Interval{Float64}}:\n",
       " [0.374999, 0.375001]\n",
       " [0.366666, 0.375001]\n",
       " [0.124999, 0.183334]\n",
       " [0.0749999, 0.125001]"
      ]
     },
     "metadata": {},
     "output_type": "display_data"
    }
   ],
   "source": [
    "solution = solveoneCommonGroundLP([A₁, A₂, A₃])\n",
    "W_common_center_1 = solution.W_common_center_1"
   ]
  },
  {
   "cell_type": "code",
   "execution_count": 5,
   "metadata": {},
   "outputs": [
    {
     "data": {
      "text/latex": [
       "$W_{common_center_1} = \\begin{pmatrix} \\left[ 0.375, 0.375 \\right] \\\\ \\left[ 0.367, 0.375 \\right] \\\\ \\left[ 0.125, 0.183 \\right] \\\\ \\left[ 0.075, 0.125 \\right] \\end{pmatrix}$"
      ],
      "text/plain": [
       "L\"$W_{common_center_1} = \\begin{pmatrix} \\left[ 0.375, 0.375 \\right] \\\\ \\left[ 0.367, 0.375 \\right] \\\\ \\left[ 0.125, 0.183 \\right] \\\\ \\left[ 0.075, 0.125 \\right] \\end{pmatrix}$\""
      ]
     },
     "metadata": {},
     "output_type": "display_data"
    }
   ],
   "source": [
    "display(L\"W_{common_center_1} = %$(intervalVectorLaTeXString(W_common_center_1))\")"
   ]
  },
  {
   "cell_type": "code",
   "execution_count": 6,
   "metadata": {},
   "outputs": [
    {
     "data": {
      "text/plain": [
       "0.11666666666666692"
      ]
     },
     "metadata": {},
     "output_type": "display_data"
    }
   ],
   "source": [
    "d = solution.optimalValue_common_center_1"
   ]
  }
 ],
 "metadata": {
  "kernelspec": {
   "display_name": "Julia 1.9.3",
   "language": "julia",
   "name": "julia-1.9"
  },
  "language_info": {
   "file_extension": ".jl",
   "mimetype": "application/julia",
   "name": "julia",
   "version": "1.9.3"
  }
 },
 "nbformat": 4,
 "nbformat_minor": 2
}
