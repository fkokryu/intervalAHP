{
 "cells": [
  {
   "cell_type": "code",
   "execution_count": 1,
   "metadata": {},
   "outputs": [
    {
     "data": {
      "text/plain": [
       "solvetPerfectIncorporationLP (generic function with 1 method)"
      ]
     },
     "metadata": {},
     "output_type": "display_data"
    }
   ],
   "source": [
    "using LaTeXStrings\n",
    "include(\"../display/display-crisp-matrix.jl\")\n",
    "include(\"../display/display-interval-vector.jl\")\n",
    "include(\"../entani/partial-incorporarion.jl\")\n",
    "include(\"../ttimes/optimal-value.jl\")\n",
    "include(\"../ttimes/t-perfect.jl\")"
   ]
  },
  {
   "cell_type": "code",
   "execution_count": 2,
   "metadata": {},
   "outputs": [
    {
     "data": {
      "text/plain": [
       "4×4 Matrix{Float64}:\n",
       " 1.0  1.0       2.0       2.0\n",
       " 1.0  1.0       3.0       1.0\n",
       " 0.5  0.333333  1.0       3.0\n",
       " 0.5  1.0       0.333333  1.0"
      ]
     },
     "metadata": {},
     "output_type": "display_data"
    }
   ],
   "source": [
    "A₁ = [\n",
    "    1 2 3 4\n",
    "    1/2 1 2 3\n",
    "    1/3 1/2 1 2\n",
    "    1/4 1/3 1/2 1\n",
    "]\n",
    "\n",
    "A₂ = [\n",
    "    1 3 3 4\n",
    "    1/3 1 3 3\n",
    "    1/3 1/3 1 4\n",
    "    1/4 1/3 1/4 1\n",
    "]\n",
    "\n",
    "A₃ = [\n",
    "    1 1 2 2\n",
    "    1 1 3 1\n",
    "    1/2 1/3 1 3\n",
    "    1/2 1 1/3 1\n",
    "]"
   ]
  },
  {
   "cell_type": "markdown",
   "metadata": {},
   "source": [
    "# partial incorporation approachの実装\n",
    "\n",
    "$$\n",
    "    \\begin{align}\n",
    "        \\begin{split}\n",
    "            \\text{minimize} ~~ & ~~ \\sum_{i\\in N} (w_{i}^{R} - w_{i}^{L}) \\\\\n",
    "            ~~ & ~~ \\sum_{i\\in N} (w_{ki}^{R} - w_{ki}^{L}) \\leq \\hat{d_{k}} , k\\in M \\\\\n",
    "            \\text{subject to} ~~ & ~~ w_{ki}^{L}\\leq a_{kij}w_{kj}^{R},\\, a_{kij}w_{kj}^{L}\\leq w_{ki}^{R},\\, i,j,\\in N(i<j) , k\\in M\\\\\n",
    "            ~~ & ~~ \\sum_{j\\in N\\setminus i} w_{kj}^{R} + w_{ki}^{L}\\geq 1, k\\in M, i\\in N, \\\\\n",
    "            ~~ & ~~ \\sum_{j\\in N\\setminus i} w_{kj}^{L} + w_{ki}^{R}\\leq 1, k\\in M, i\\in N, \\\\\n",
    "            ~~ & ~~ \\sum_{i\\in N} w_{ki} = 1, k\\in M, \\\\\n",
    "            ~~ & ~~ \\epsilon \\geq w_{i}^{L}\\geq w_{ki}\\geq w_{ki}^{R}, \\epsilon \\geq w_{ki}^{L}\\geq w_{ki}\\geq w_{ki}^{R}, k\\in M, i\\in N.\n",
    "        \\end{split}\n",
    "    \\end{align}\n",
    "$$\n"
   ]
  },
  {
   "cell_type": "code",
   "execution_count": 10,
   "metadata": {},
   "outputs": [
    {
     "data": {
      "text/latex": [
       "$W = \\begin{pmatrix} \\left[ 0.375, 0.571 \\right] \\\\ \\left[ 0.214, 0.25 \\right] \\\\ \\left[ 0.167, 0.167 \\right] \\\\ \\left[ 0.048, 0.208 \\right] \\end{pmatrix}$"
      ],
      "text/plain": [
       "L\"$W = \\begin{pmatrix} \\left[ 0.375, 0.571 \\right] \\\\ \\left[ 0.214, 0.25 \\right] \\\\ \\left[ 0.167, 0.167 \\right] \\\\ \\left[ 0.048, 0.208 \\right] \\end{pmatrix}$\""
      ]
     },
     "metadata": {},
     "output_type": "display_data"
    }
   ],
   "source": [
    "solution = solvePartialIncorporationLP([A₁, A₂, A₃])\n",
    "W = solution.W\n",
    "display(L\"W = %$(intervalVectorLaTeXString(W))\")"
   ]
  },
  {
   "cell_type": "code",
   "execution_count": 11,
   "metadata": {},
   "outputs": [
    {
     "data": {
      "text/plain": [
       "0.39285714285714335"
      ]
     },
     "metadata": {},
     "output_type": "display_data"
    }
   ],
   "source": [
    "d = solution.optimalValue"
   ]
  },
  {
   "cell_type": "markdown",
   "metadata": {},
   "source": [
    "# 一般的な区間AHP問題に対して重みをt倍する\n",
    "### 一般的な区間AHP問題は以下の通り\n",
    "$$\n",
    "    \\begin{align}\n",
    "        \\begin{split}\n",
    "            \\text{minimize} ~~ & ~~ \\sum_{i\\in N} (w_{ki}^{R} - w_{ki}^{L}) \\\\\n",
    "            \\text{subject to} ~~ & ~~ w_{ki}^{L}\\leq a_{kij}w_{kj}^{R},\\, a_{kij}w_{kj}^{L}\\leq w_{ki}^{R},\\, i,j,\\in N(i<j) \\\\\n",
    "            ~~ & ~~ \\sum_{j\\in N\\setminus i} w_{kj}^{R} + w_{ki}^{L}\\geq 1, i\\in N, \\\\\n",
    "            ~~ & ~~ \\sum_{j\\in N\\setminus i} w_{kj}^{L} + w_{ki}^{R}\\leq 1, i\\in N, \\\\\n",
    "            ~~ & ~~ w_{ki}^{R}\\geq w_{ki}^{L}\\geq \\epsilon, i\\in N. \\notag\n",
    "        \\end{split}\n",
    "    \\end{align}\n",
    "$$\n",
    "\n",
    "### 重みをt倍する　→ 以下のように定義する\n",
    "$$\n",
    "    \\begin{align}\n",
    "        ~~ & ~~ t \\coloneqq \\frac{1}{\\sum_{i\\in N} (w_{ki}^{R} + w_{ki}^{L})}  \\\\\n",
    "        ~~ & ~~ v_{ki}^{R} \\coloneqq t w_{ki}^{R},\\, v_{ki}^{L} \\coloneqq t w_{ki}^{L} \\\\\n",
    "        ~~ & ~~ \\sum_{i\\in N} (v_{ki}^{R} + v_{ki}^{L}) = 2\n",
    "    \\end{align}\n",
    "$$\n",
    "\n",
    "### 上の区間AHP問題は以下のようになる\n",
    "$$\n",
    "    \\begin{align}\n",
    "        \\begin{split}\n",
    "            \\text{minimize} ~~ & ~~ \\sum_{i\\in N} (v_{ki}^{R} - v_{ki}^{L}) \\\\\n",
    "            \\text{subject to} ~~ & ~~ v_{ki}^{L}\\leq a_{kij}v_{kj}^{R},\\, a_{kij}v_{kj}^{L}\\leq v_{ki}^{R},\\, i,j,\\in N(i<j) \\\\\n",
    "            ~~ & ~~ \\sum_{j\\in N\\setminus i} v_{kj}^{R} + v_{ki}^{L}\\geq t, i\\in N, \\\\\n",
    "            ~~ & ~~ \\sum_{j\\in N\\setminus i} v_{kj}^{L} + v_{ki}^{R}\\leq t, i\\in N, \\\\\n",
    "            ~~ & ~~ v_{ki}^{R}\\geq v_{ki}^{L}\\geq \\epsilon, t\\geq \\epsilon, i\\in N. \\notag\n",
    "        \\end{split}\n",
    "    \\end{align}\n",
    "$$\n"
   ]
  },
  {
   "cell_type": "code",
   "execution_count": 5,
   "metadata": {},
   "outputs": [
    {
     "data": {
      "text/latex": [
       "$V = \\begin{pmatrix} \\left[ 0.5, 0.5 \\right] \\\\ \\left[ 0.25, 0.25 \\right] \\\\ \\left[ 0.125, 0.167 \\right] \\\\ \\left[ 0.083, 0.125 \\right] \\end{pmatrix}$"
      ],
      "text/plain": [
       "L\"$V = \\begin{pmatrix} \\left[ 0.5, 0.5 \\right] \\\\ \\left[ 0.25, 0.25 \\right] \\\\ \\left[ 0.125, 0.167 \\right] \\\\ \\left[ 0.083, 0.125 \\right] \\end{pmatrix}$\""
      ]
     },
     "metadata": {},
     "output_type": "display_data"
    }
   ],
   "source": [
    "solution = solveCrispAHPLP(A₁)\n",
    "V = solution.V\n",
    "display(L\"V = %$(intervalVectorLaTeXString(V))\")"
   ]
  },
  {
   "cell_type": "code",
   "execution_count": 6,
   "metadata": {},
   "outputs": [
    {
     "data": {
      "text/plain": [
       "0.08333333333333326"
      ]
     },
     "metadata": {},
     "output_type": "display_data"
    }
   ],
   "source": [
    "d = solution.optimalValue"
   ]
  },
  {
   "cell_type": "code",
   "execution_count": 7,
   "metadata": {},
   "outputs": [],
   "source": []
  }
 ],
 "metadata": {
  "kernelspec": {
   "display_name": "Julia 1.9.3",
   "language": "julia",
   "name": "julia-1.9"
  },
  "language_info": {
   "file_extension": ".jl",
   "mimetype": "application/julia",
   "name": "julia",
   "version": "1.9.3"
  }
 },
 "nbformat": 4,
 "nbformat_minor": 2
}
