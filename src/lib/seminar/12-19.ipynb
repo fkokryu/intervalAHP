{
 "cells": [
  {
   "cell_type": "markdown",
   "metadata": {},
   "source": [
    "# 12月19日 ゼミ"
   ]
  },
  {
   "cell_type": "markdown",
   "metadata": {},
   "source": [
    "## 各統合手法の意味合い"
   ]
  },
  {
   "cell_type": "markdown",
   "metadata": {},
   "source": [
    "### 区間入力区間重要度推定の意味\n",
    "\n",
    "上近似(外側から推定)\n",
    "$$\n",
    "\\begin{align}\n",
    "    \\begin{split}\n",
    "        \\frac{w_{i}^{\\rm L}}{w_{j}^{\\rm U}}\\leq a_{ij}^{\\rm L}\\leq a_{ij}^{\\rm U}\\leq \\frac{w_{i}^{\\rm U}}{w_{j}^{\\rm L}}, i,j\\in N, i\\neq j\\\\\n",
    "        \\Rightarrow w_{i}^{\\rm L}\\leq a_{ij}^{\\rm L}w_{j}^{\\rm U} , a_{ij}^{\\rm U}w_{j}^{\\rm L}\\leq w_{i}^{\\rm U}, i,j\\in N, i\\neq j\n",
    "    \\end{split}\n",
    "\\end{align}\n",
    "$$\n",
    "\n",
    "これは、区間の外側はありえないことを確信している\n",
    "\n",
    "\n",
    "下近似(内側から推定)\n",
    "$$\n",
    "\\begin{align}\n",
    "    \\begin{split}\n",
    "        a_{ij}^{\\rm L}\\leq \\frac{w_{i}^{\\rm L}}{w_{j}^{\\rm U}}\\leq \\frac{w_{i}^{\\rm U}}{w_{j}^{\\rm L}}\\leq a_{ij}^{\\rm U}, i,j\\in N, i\\neq j\\\\\n",
    "        \\Rightarrow a_{ij}^{\\rm L}w_{j}^{\\rm U}\\leq w_{i}^{\\rm L} , w_{i}^{\\rm U}\\leq a_{ij}^{\\rm U}w_{j}^{\\rm L}, i,j\\in N, i\\neq j\n",
    "    \\end{split}\n",
    "\\end{align}\n",
    "$$\n",
    "\n",
    "これは区間の内側のどれも正しいことを確信している"
   ]
  },
  {
   "cell_type": "markdown",
   "metadata": {},
   "source": [
    "### 2種類の区間入力区間重要度推定と3種類の統合手法　\n",
    "\n",
    "\n",
    "わからなかったので教えて欲しいです。"
   ]
  },
  {
   "cell_type": "markdown",
   "metadata": {},
   "source": [
    "|  | Perfect Incorporation | Common Ground | Partial  |\n",
    "|----------------|-----------------------|-----------------------|-----------------------|\n",
    "| 内側を確信         ||どこかの点でAがBより優れていたらAの方が良いことに全員同意|全ての点でAがBより優れていたらAの方が良いことに全員同意|\n",
    "| 外側を確信         |全ての点でAがBより優れていたらBがAより良いことは絶対ない|全ての点でAがBより優れていたらAの方が良いかも？|これはあまり意味がない？？|\n"
   ]
  },
  {
   "cell_type": "markdown",
   "metadata": {},
   "source": [
    "## 年始のゼミまでに進めておくこと"
   ]
  },
  {
   "cell_type": "markdown",
   "metadata": {},
   "source": [
    "###  シミュレーション\n",
    "\n",
    "perfectとpartialは幅が狭くなったらいい　→ どれくらいの割合で幅が狭くなったかとどれくらい狭まったか  \n",
    "commonは幅が広くなったらいい → どれくらいの割合で幅が広くなったかとどれくらい広まったか  \n",
    "(または共通部分がないものが共通部分があるようになるといい) → 共通部分がないような場合にどれくらいの割合でできるようになるか  \n",
    "どんなPCMを使うのか？  \n",
    "→  \n",
    "何人の意見統合にするか？  \n",
    "→  \n",
    "なんパターンやるか？  \n",
    "→  \n",
    "\n",
    "生成時の閾値を変えてやってみるみたいな話もあったけどあまりわかってないです "
   ]
  },
  {
   "cell_type": "markdown",
   "metadata": {},
   "source": [
    "### 区間入力にした場合のプログラム\n",
    "\n",
    "入力のPCMはどうするか？  \n",
    "→  \n",
    "こちらも何かしらシミュレーションを回すのか？  \n",
    "→  "
   ]
  },
  {
   "cell_type": "markdown",
   "metadata": {},
   "source": [
    "### 統合の際に最適性を緩和する話\n",
    "\n",
    "問題のどこを変えたらいいのか？  \n",
    "→  \n",
    "\n",
    "$\\hat{d_{k}}$ から $\\hat{d_{k}} + \\epsilon$ にする...？  \n",
    "これもできたら同じ条件でシミュレーション回してどれくらい共通部分が増えるか見たい"
   ]
  },
  {
   "cell_type": "markdown",
   "metadata": {},
   "source": []
  }
 ],
 "metadata": {
  "kernelspec": {
   "display_name": "Julia 1.9.3",
   "language": "julia",
   "name": "julia-1.9"
  },
  "language_info": {
   "file_extension": ".jl",
   "mimetype": "application/julia",
   "name": "julia",
   "version": "1.9.3"
  }
 },
 "nbformat": 4,
 "nbformat_minor": 2
}
