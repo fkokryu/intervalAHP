{
 "cells": [
  {
   "cell_type": "markdown",
   "metadata": {},
   "source": [
    "# 12月19日 ゼミ"
   ]
  },
  {
   "cell_type": "markdown",
   "metadata": {},
   "source": [
    "## 各統合手法の意味合い"
   ]
  },
  {
   "cell_type": "code",
   "execution_count": 1,
   "metadata": {},
   "outputs": [
    {
     "name": "stderr",
     "output_type": "stream",
     "text": [
      "\u001b[32m\u001b[1m   Resolving\u001b[22m\u001b[39m package versions...\n"
     ]
    },
    {
     "name": "stderr",
     "output_type": "stream",
     "text": [
      "\u001b[32m\u001b[1m  No Changes\u001b[22m\u001b[39m to `/workspaces/intervalAHP/Project.toml`\n",
      "\u001b[32m\u001b[1m  No Changes\u001b[22m\u001b[39m to `/workspaces/intervalAHP/Manifest.toml`\n"
     ]
    },
    {
     "name": "stderr",
     "output_type": "stream",
     "text": [
      "\u001b[32m\u001b[1m   Resolving\u001b[22m\u001b[39m package versions...\n"
     ]
    },
    {
     "name": "stderr",
     "output_type": "stream",
     "text": [
      "\u001b[32m\u001b[1m  No Changes\u001b[22m\u001b[39m to `/workspaces/intervalAHP/Project.toml`\n",
      "\u001b[32m\u001b[1m  No Changes\u001b[22m\u001b[39m to `/workspaces/intervalAHP/Manifest.toml`\n"
     ]
    },
    {
     "name": "stderr",
     "output_type": "stream",
     "text": [
      "\u001b[32m\u001b[1m   Resolving\u001b[22m\u001b[39m package versions...\n",
      "\u001b[32m\u001b[1m  No Changes\u001b[22m\u001b[39m to `/workspaces/intervalAHP/Project.toml`\n",
      "\u001b[32m\u001b[1m  No Changes\u001b[22m\u001b[39m to `/workspaces/intervalAHP/Manifest.toml`\n"
     ]
    },
    {
     "name": "stderr",
     "output_type": "stream",
     "text": [
      "\u001b[32m\u001b[1m   Resolving\u001b[22m\u001b[39m package versions...\n",
      "\u001b[32m\u001b[1m  No Changes\u001b[22m\u001b[39m to `/workspaces/intervalAHP/Project.toml`\n",
      "\u001b[32m\u001b[1m  No Changes\u001b[22m\u001b[39m to `/workspaces/intervalAHP/Manifest.toml`\n"
     ]
    }
   ],
   "source": [
    "using Pkg\n",
    "Pkg.add(\"XLSX\")\n",
    "Pkg.add(\"DataFrames\")\n",
    "Pkg.add(\"TableView\")\n",
    "Pkg.add(\"WebIO\")"
   ]
  },
  {
   "cell_type": "code",
   "execution_count": 2,
   "metadata": {},
   "outputs": [
    {
     "data": {
      "text/html": [
       "<div\n",
       "    class=\"webio-mountpoint\"\n",
       "    data-webio-mountpoint=\"15478276222193708422\"\n",
       ">\n",
       "    <script>\n",
       "    (function(){\n",
       "    // Some integrations (namely, IJulia/Jupyter) use an alternate render pathway than\n",
       "    // just putting the html on the page. If WebIO isn't defined, then it's pretty likely\n",
       "    // that we're in one of those situations and the integration just isn't installed\n",
       "    // correctly.\n",
       "    if (typeof window.WebIO === \"undefined\") {\n",
       "        document\n",
       "            .querySelector('[data-webio-mountpoint=\"15478276222193708422\"]')\n",
       "            .innerHTML = (\n",
       "                '<div style=\"padding: 1em; background-color: #f8d6da; border: 1px solid #f5c6cb; font-weight: bold;\">' +\n",
       "                '<p><strong>WebIO not detected.</strong></p>' +\n",
       "                '<p>Please read ' +\n",
       "                '<a href=\"https://juliagizmos.github.io/WebIO.jl/latest/troubleshooting/not-detected/\" target=\"_blank\">the troubleshooting guide</a> ' +\n",
       "                'for more information on how to resolve this issue.</p>' +\n",
       "                '<p><a href=\"https://juliagizmos.github.io/WebIO.jl/latest/troubleshooting/not-detected/\" target=\"_blank\">https://juliagizmos.github.io/WebIO.jl/latest/troubleshooting/not-detected/</a></p>' +\n",
       "                '</div>'\n",
       "            );\n",
       "        return;\n",
       "    }\n",
       "    WebIO.mount(\n",
       "        document.querySelector('[data-webio-mountpoint=\"15478276222193708422\"]'),\n",
       "        {\"props\":{},\"nodeType\":\"Scope\",\"type\":\"node\",\"instanceArgs\":{\"imports\":{\"data\":[{\"name\":null,\"type\":\"js\",\"url\":\"\\/assetserver\\/5282e4788eb3c4d67c83d81eec9b03d410243736-rowNumberRenderer.js\"},{\"name\":null,\"type\":\"js\",\"url\":\"\\/assetserver\\/cda314ccce1a9c5f178d7a81d098cfba05402996-ag-grid.js\"},{\"name\":null,\"type\":\"css\",\"url\":\"\\/assetserver\\/f62ba6f263910b69c923deb15c10a00e00b058e4-ag-grid.css\"},{\"name\":null,\"type\":\"css\",\"url\":\"\\/assetserver\\/b64cd695616136f90e451d0e9d28ae620fdee467-ag-grid-light.css\"},{\"name\":null,\"type\":\"css\",\"url\":\"\\/assetserver\\/c6eee480b052a544affaae65ea564a5b0c6ab797-ag-grid-dark.css\"}],\"type\":\"async_block\"},\"id\":\"3830385921097569274\",\"handlers\":{},\"systemjs_options\":null,\"mount_callbacks\":[\"function () {\\n    var handler = ((function (RowNumberRenderer,agGrid){var gridOptions={\\\"onCellFocused\\\":(function (ev){var x={}; (ev.rowIndex!==undefined) ? (x[\\\"rowIndex\\\"]=(ev.rowIndex+1)) : undefined; (ev.colDef!==undefined) ? (x[\\\"column\\\"]=ev.colDef.headerName) : undefined; return WebIO.setval({\\\"name\\\":\\\"onCellFocused\\\",\\\"scope\\\":\\\"3830385921097569274\\\",\\\"id\\\":\\\"4\\\",\\\"type\\\":\\\"observable\\\"},x)}),\\\"onCellValueChanged\\\":(function (){return }),\\\"rowSelection\\\":\\\"multiple\\\",\\\"multiSortKey\\\":\\\"ctrl\\\",\\\"columnDefs\\\":[{\\\"filter\\\":false,\\\"editable\\\":false,\\\"headerTooltip\\\":\\\"\\\",\\\"field\\\":\\\"__row__\\\",\\\"headerName\\\":\\\"Row\\\",\\\"sortable\\\":true,\\\"type\\\":\\\"numericColumn\\\",\\\"cellRenderer\\\":\\\"rowNumberRenderer\\\",\\\"resizable\\\":true},{\\\"filter\\\":true,\\\"editable\\\":false,\\\"headerTooltip\\\":\\\"Any\\\",\\\"field\\\":\\\"区間を\\\",\\\"headerName\\\":\\\"区間を\\\",\\\"sortable\\\":true,\\\"type\\\":null,\\\"resizable\\\":true},{\\\"filter\\\":true,\\\"editable\\\":false,\\\"headerTooltip\\\":\\\"Any\\\",\\\"field\\\":\\\"広げられる\\\",\\\"headerName\\\":\\\"広げられる\\\",\\\"sortable\\\":true,\\\"type\\\":null,\\\"resizable\\\":true},{\\\"filter\\\":true,\\\"editable\\\":false,\\\"headerTooltip\\\":\\\"Any\\\",\\\"field\\\":\\\"広げられない\\\",\\\"headerName\\\":\\\"広げられない\\\",\\\"sortable\\\":true,\\\"type\\\":null,\\\"resizable\\\":true}],\\\"onCellDoubleClicked\\\":(function (ev){var x={}; (ev.rowIndex!==undefined) ? (x[\\\"rowIndex\\\"]=(ev.rowIndex+1)) : undefined; (ev.colDef!==undefined) ? (x[\\\"column\\\"]=ev.colDef.headerName) : undefined; return WebIO.setval({\\\"name\\\":\\\"onCellDoubleClicked\\\",\\\"scope\\\":\\\"3830385921097569274\\\",\\\"id\\\":\\\"2\\\",\\\"type\\\":\\\"observable\\\"},x)}),\\\"onRowClicked\\\":(function (ev){var x={}; (ev.rowIndex!==undefined) ? (x[\\\"rowIndex\\\"]=(ev.rowIndex+1)) : undefined; (ev.colDef!==undefined) ? (x[\\\"column\\\"]=ev.colDef.headerName) : undefined; return WebIO.setval({\\\"name\\\":\\\"onRowClicked\\\",\\\"scope\\\":\\\"3830385921097569274\\\",\\\"id\\\":\\\"3\\\",\\\"type\\\":\\\"observable\\\"},x)}),\\\"onCellKeyDown\\\":(function (ev){var x={}; (ev.rowIndex!==undefined) ? (x[\\\"rowIndex\\\"]=(ev.rowIndex+1)) : undefined; (ev.colDef!==undefined) ? (x[\\\"column\\\"]=ev.colDef.headerName) : undefined; return WebIO.setval({\\\"name\\\":\\\"onCellKeyDown\\\",\\\"scope\\\":\\\"3830385921097569274\\\",\\\"id\\\":\\\"5\\\",\\\"type\\\":\\\"observable\\\"},x)}),\\\"rowData\\\":[{\\\"区間を\\\":\\\"狭められる\\\",\\\"広げられる\\\":\\\"missing\\\",\\\"広げられない\\\":\\\"外側を確信\\\"},{\\\"区間を\\\":\\\"狭められない\\\",\\\"広げられる\\\":\\\"内側を確信\\\",\\\"広げられない\\\":\\\"missing\\\"}],\\\"onCellClicked\\\":(function (ev){var x={}; (ev.rowIndex!==undefined) ? (x[\\\"rowIndex\\\"]=(ev.rowIndex+1)) : undefined; (ev.colDef!==undefined) ? (x[\\\"column\\\"]=ev.colDef.headerName) : undefined; return WebIO.setval({\\\"name\\\":\\\"onCellClicked\\\",\\\"scope\\\":\\\"3830385921097569274\\\",\\\"id\\\":\\\"1\\\",\\\"type\\\":\\\"observable\\\"},x)})}; var el=document.getElementById(\\\"grid-1639e578\\\"); gridOptions.components={\\\"rowNumberRenderer\\\":RowNumberRenderer}; false ? (agGrid.LicenseManager.setLicenseKey(null)) : undefined; this.table=new agGrid.Grid(el,gridOptions); return gridOptions.columnApi.autoSizeAllColumns()}));\\n    (WebIO.importBlock({\\\"data\\\":[{\\\"name\\\":null,\\\"type\\\":\\\"js\\\",\\\"url\\\":\\\"\\/assetserver\\/5282e4788eb3c4d67c83d81eec9b03d410243736-rowNumberRenderer.js\\\"},{\\\"name\\\":null,\\\"type\\\":\\\"js\\\",\\\"url\\\":\\\"\\/assetserver\\/cda314ccce1a9c5f178d7a81d098cfba05402996-ag-grid.js\\\"},{\\\"name\\\":null,\\\"type\\\":\\\"css\\\",\\\"url\\\":\\\"\\/assetserver\\/f62ba6f263910b69c923deb15c10a00e00b058e4-ag-grid.css\\\"},{\\\"name\\\":null,\\\"type\\\":\\\"css\\\",\\\"url\\\":\\\"\\/assetserver\\/b64cd695616136f90e451d0e9d28ae620fdee467-ag-grid-light.css\\\"},{\\\"name\\\":null,\\\"type\\\":\\\"css\\\",\\\"url\\\":\\\"\\/assetserver\\/c6eee480b052a544affaae65ea564a5b0c6ab797-ag-grid-dark.css\\\"}],\\\"type\\\":\\\"async_block\\\"})).then((imports) => handler.apply(this, imports));\\n}\\n\"],\"observables\":{\"onCellKeyDown\":{\"sync\":false,\"id\":\"5\",\"value\":null},\"onRowClicked\":{\"sync\":false,\"id\":\"3\",\"value\":null},\"onCellDoubleClicked\":{\"sync\":false,\"id\":\"2\",\"value\":null},\"onCellClicked\":{\"sync\":false,\"id\":\"1\",\"value\":null},\"onCellFocused\":{\"sync\":false,\"id\":\"4\",\"value\":null}}},\"children\":[{\"props\":{},\"nodeType\":\"DOM\",\"type\":\"node\",\"instanceArgs\":{\"namespace\":\"html\",\"tag\":\"div\"},\"children\":[{\"props\":{\"style\":{\"height\":\"0\",\"padding\":\"0\",\"background-color\":\"#F5F7F7\",\"color\":\"#1c1f20\",\"font-family\":\"-apple-system, BlinkMacSystemFont, \\\"Segoe UI\\\", Roboto, Oxygen-Sans, Ubuntu, Cantarell, \\\"Helvetica Neue\\\", sans-serif\"}},\"nodeType\":\"DOM\",\"type\":\"node\",\"instanceArgs\":{\"namespace\":\"html\",\"tag\":\"div\"},\"children\":[\"\"]},{\"props\":{\"id\":\"grid-1639e578\",\"className\":\"ag-theme-balham\",\"style\":{\"height\":\"106px\",\"width\":\"100%\"}},\"nodeType\":\"DOM\",\"type\":\"node\",\"instanceArgs\":{\"namespace\":\"html\",\"tag\":\"div\"},\"children\":[]}]}]},\n",
       "        window,\n",
       "    );\n",
       "    })()\n",
       "    </script>\n",
       "</div>\n"
      ],
      "text/plain": [
       "Scope(Node{WebIO.DOM}(WebIO.DOM(:html, :div), Any[Node{WebIO.DOM}(WebIO.DOM(:html, :div), Any[\"\"], Dict{Symbol, Any}(:style => Dict(\"height\" => \"0\", \"padding\" => \"0\", \"background-color\" => \"#F5F7F7\", \"color\" => \"#1c1f20\", \"font-family\" => \"-apple-system, BlinkMacSystemFont, \\\"Segoe UI\\\", Roboto, Oxygen-Sans, Ubuntu, Cantarell, \\\"Helvetica Neue\\\", sans-serif\"))), Node{WebIO.DOM}(WebIO.DOM(:html, :div), Any[], Dict{Symbol, Any}(:id => \"grid-1639e578\", :className => \"ag-theme-balham\", :style => Dict(\"height\" => \"106px\", \"width\" => \"100%\")))], Dict{Symbol, Any}()), Dict{String, Tuple{Observables.AbstractObservable, Union{Nothing, Bool}}}(\"onCellKeyDown\" => (Observable{Any}(nothing), nothing), \"onRowClicked\" => (Observable{Any}(nothing), nothing), \"onCellDoubleClicked\" => (Observable{Any}(nothing), nothing), \"onCellClicked\" => (Observable{Any}(nothing), nothing), \"onCellFocused\" => (Observable{Any}(nothing), nothing)), Set{String}(), nothing, Asset[Asset(\"js\", nothing, \"/opt/julia/packages/TableView/hKQ4E/src/rowNumberRenderer.js\"), Asset(\"js\", nothing, \"/opt/julia/packages/TableView/hKQ4E/deps/ag-grid-25.2.0/ag-grid.js\"), Asset(\"css\", nothing, \"/opt/julia/packages/TableView/hKQ4E/deps/ag-grid-25.2.0/ag-grid.css\"), Asset(\"css\", nothing, \"/opt/julia/packages/TableView/hKQ4E/deps/ag-grid-25.2.0/ag-grid-light.css\"), Asset(\"css\", nothing, \"/opt/julia/packages/TableView/hKQ4E/deps/ag-grid-25.2.0/ag-grid-dark.css\")], Dict{Any, Any}(), WebIO.ConnectionPool(Channel{Any}(32), Set{AbstractConnection}(), Base.GenericCondition{ReentrantLock}(Base.IntrusiveLinkedList{Task}(Task (runnable) @0x00007f9ff5c00650, Task (runnable) @0x00007f9ff5c00650), ReentrantLock(nothing, 0x00000000, 0x00, Base.GenericCondition{Base.Threads.SpinLock}(Base.IntrusiveLinkedList{Task}(nothing, nothing), Base.Threads.SpinLock(0)), (0, 140325216901904, 0)))), WebIO.JSString[WebIO.JSString(\"function () {\\n    var handler = ((function (RowNumberRenderer,agGrid){var gridOptions={\\\"onCellFocused\\\":(function (ev){var x={}; (ev.rowIndex!==undefined) ? (x[\\\"rowIndex\\\"]=(ev.rowIndex+1)) : undefined; (ev.colDef!==undefined) ? (x[\\\"column\\\"]=ev.colDef.headerName) : undefined; return WebIO.setval({\\\"name\\\":\\\"onCellFocused\\\",\\\"scope\\\":\\\"3830385921097569274\\\",\\\"id\\\":\\\"4\\\",\\\"type\\\":\\\"observable\\\"},x)}),\\\"onCellValueChanged\\\":(function (){return }),\\\"rowSelection\\\":\\\"multiple\\\",\\\"multiSortKey\\\":\\\"ctrl\\\",\\\"columnDefs\\\":[{\\\"filter\\\":false,\\\"editable\\\":false,\\\"headerTooltip\\\":\\\"\\\",\\\"field\\\":\\\"__row__\\\",\\\"headerName\\\":\\\"Row\\\",\\\"sortable\\\":true,\\\"type\\\":\\\"numericColumn\\\",\\\"cellRenderer\\\":\\\"rowNumberRenderer\\\",\\\"resizable\\\":true},{\\\"filter\\\":true,\\\"editable\\\":false,\\\"headerTooltip\\\":\\\"Any\\\",\\\"field\\\":\\\"区間を\\\",\\\"headerName\\\":\\\"区間を\\\",\\\"sortable\\\":true,\\\"type\\\":null,\\\"resizable\\\":true},{\\\"filter\\\":true,\\\"editable\\\":false,\\\"headerTooltip\\\":\\\"Any\\\",\\\"field\\\":\\\"広げられる\\\",\\\"headerName\\\":\\\"広げられる\\\",\\\"sortable\\\":true,\\\"type\\\":null,\\\"resizable\\\":true},{\\\"filter\\\":true,\\\"editable\\\":false,\\\"headerTooltip\\\":\\\"Any\\\",\\\"field\\\":\\\"広げられない\\\",\\\"headerName\\\":\\\"広げられない\\\",\\\"sortable\\\":true,\\\"type\\\":null,\\\"resizable\\\":true}],\\\"onCellDoubleClicked\\\":(function (ev){var x={}; (ev.rowIndex!==undefined) ? (x[\\\"rowIndex\\\"]=(ev.rowIndex+1)) : undefined; (ev.colDef!==undefined) ? (x[\\\"column\\\"]=ev.colDef.headerName) : undefined; return WebIO.setval({\\\"name\\\":\\\"onCellDoubleClicked\\\",\\\"scope\\\":\\\"3830385921097569274\\\",\\\"id\\\":\\\"2\\\",\\\"type\\\":\\\"observable\\\"},x)}),\\\"onRowClicked\\\":(function (ev){var x={}; (ev.rowIndex!==undefined) ? (x[\\\"rowIndex\\\"]=(ev.rowIndex+1)) : undefined; (ev.colDef!==undefined) ? (x[\\\"column\\\"]=ev.colDef.headerName) : undefined; return WebIO.setval({\\\"name\\\":\\\"onRowClicked\\\",\\\"scope\\\":\\\"3830385921097569274\\\",\\\"id\\\":\\\"3\\\",\\\"type\\\":\\\"observable\\\"},x)}),\\\"onCellKeyDown\\\":(function (ev){var x={}; (ev.rowIndex!==undefined) ? (x[\\\"rowIndex\\\"]=(ev.rowIndex+1)) : undefined; (ev.colDef!==undefined) ? (x[\\\"column\\\"]=ev.colDef.headerName) : undefined; return WebIO.setval({\\\"name\\\":\\\"onCellKeyDown\\\",\\\"scope\\\":\\\"3830385921097569274\\\",\\\"id\\\":\\\"5\\\",\\\"type\\\":\\\"observable\\\"},x)}),\\\"rowData\\\":[{\\\"区間を\\\":\\\"狭められる\\\",\\\"広げられる\\\":\\\"missing\\\",\\\"広げられない\\\":\\\"外側を確信\\\"},{\\\"区間を\\\":\\\"狭められない\\\",\\\"広げられる\\\":\\\"内側を確信\\\",\\\"広げられない\\\":\\\"missing\\\"}],\\\"onCellClicked\\\":(function (ev){var x={}; (ev.rowIndex!==undefined) ? (x[\\\"rowIndex\\\"]=(ev.rowIndex+1)) : undefined; (ev.colDef!==undefined) ? (x[\\\"column\\\"]=ev.colDef.headerName) : undefined; return WebIO.setval({\\\"name\\\":\\\"onCellClicked\\\",\\\"scope\\\":\\\"3830385921097569274\\\",\\\"id\\\":\\\"1\\\",\\\"type\\\":\\\"observable\\\"},x)})}; var el=document.getElementById(\\\"grid-1639e578\\\"); gridOptions.components={\\\"rowNumberRenderer\\\":RowNumberRenderer}; false ? (agGrid.LicenseManager.setLicenseKey(null)) : undefined; this.table=new agGrid.Grid(el,gridOptions); return gridOptions.columnApi.autoSizeAllColumns()}));\\n    (WebIO.importBlock({\\\"data\\\":[{\\\"name\\\":null,\\\"type\\\":\\\"js\\\",\\\"url\\\":\\\"/assetserver/5282e4788eb3c4d67c83d81eec9b03d410243736-rowNumberRenderer.js\\\"},{\\\"name\\\":null,\\\"type\\\":\\\"js\\\",\\\"url\\\":\\\"/assetserver/cda314ccce1a9c5f178d7a81d098cfba05402996-ag-grid.js\\\"},{\\\"name\\\":null,\\\"type\\\":\\\"css\\\",\\\"url\\\":\\\"/assetserver/f62ba6f263910b69c923deb15c10a00e00b058e4-ag-grid.css\\\"},{\\\"name\\\":null,\\\"type\\\":\\\"css\\\",\\\"url\\\":\\\"/assetserver/b64cd695616136f90e451d0e9d28ae620fdee467-ag-grid-light.css\\\"},{\\\"name\\\":null,\\\"type\\\":\\\"css\\\",\\\"url\\\":\\\"/assetserver/c6eee480b052a544affaae65ea564a5b0c6ab797-ag-grid-dark.css\\\"}],\\\"type\\\":\\\"async_block\\\"})).then((imports) => handler.apply(this, imports));\\n}\\n\")])"
      ]
     },
     "metadata": {},
     "output_type": "display_data"
    }
   ],
   "source": [
    "using XLSX\n",
    "using DataFrames\n",
    "using TableView\n",
    "using WebIO\n",
    "\n",
    "# Excelファイルのパス\n",
    "file_path = \"input-meaning.xlsx\"\n",
    "\n",
    "# Excelファイルを読み込む\n",
    "xf = XLSX.readxlsx(file_path)\n",
    "\n",
    "# 特定のシートをデータフレームに変換（例えば、\"Sheet1\"）\n",
    "df = DataFrame(XLSX.eachtablerow(xf[\"Sheet1\"]))\n",
    "\n",
    "showtable(df)"
   ]
  },
  {
   "cell_type": "code",
   "execution_count": 4,
   "metadata": {},
   "outputs": [
    {
     "name": "stdout",
     "output_type": "stream",
     "text": [
      "\u001b[1m2×3 DataFrame\u001b[0m\n",
      "\u001b[1m Row \u001b[0m│\u001b[1m 区間の意味合い \u001b[0m\u001b[1m 広げられる \u001b[0m\u001b[1m 広げられない \u001b[0m\n",
      "─────┼──────────────────────────────────────────\n",
      "   1 │ 狭められる     \u001b[90m missing    \u001b[0m 外側を確信\n",
      "   2 │ 狭められない    内側を確信 \u001b[90m missing      \u001b[0m"
     ]
    }
   ],
   "source": [
    "using DataFrames\n",
    "\n",
    "# 例としてシンプルなデータフレームを作成\n",
    "df = DataFrame(区間の意味合い = [\"狭められる\", \"狭められない\"], \n",
    "               広げられる = [missing, \"内側を確信\"], \n",
    "               広げられない = [\"外側を確信\", missing])\n",
    "\n",
    "# データフレームを表示（行番号とデータ型なし）\n",
    "show(df, allcols=true, eltypes=false, rowid=nothing)\n"
   ]
  },
  {
   "cell_type": "code",
   "execution_count": 5,
   "metadata": {},
   "outputs": [
    {
     "name": "stdout",
     "output_type": "stream",
     "text": [
      "狭められる | missing | 外側を確信\n",
      "狭められない | 内側を確信 | missing\n"
     ]
    }
   ],
   "source": [
    "using DataFrames\n",
    "\n",
    "# 例としてシンプルなデータフレームを作成\n",
    "df = DataFrame(区間の意味合い = [\"狭められる\", \"狭められない\"], \n",
    "               広げられる = [missing, \"内側を確信\"], \n",
    "               広げられない = [\"外側を確信\", missing])\n",
    "\n",
    "# カスタム表示関数\n",
    "function custom_show(df::DataFrame)\n",
    "    for (i, row) in enumerate(eachrow(df))\n",
    "        values = [ismissing(x) ? \"missing\" : x for x in row]\n",
    "        println(join(values, \" | \"))\n",
    "    end\n",
    "end\n",
    "\n",
    "# カスタム表示関数を使用してデータフレームを表示\n",
    "custom_show(df)\n"
   ]
  }
 ],
 "metadata": {
  "kernelspec": {
   "display_name": "Julia 1.9.3",
   "language": "julia",
   "name": "julia-1.9"
  },
  "language_info": {
   "file_extension": ".jl",
   "mimetype": "application/julia",
   "name": "julia",
   "version": "1.9.3"
  }
 },
 "nbformat": 4,
 "nbformat_minor": 2
}
