{
 "cells": [
  {
   "cell_type": "code",
   "execution_count": 1,
   "metadata": {},
   "outputs": [],
   "source": [
    "using LaTeXStrings"
   ]
  },
  {
   "cell_type": "code",
   "execution_count": 2,
   "metadata": {},
   "outputs": [
    {
     "data": {
      "text/plain": [
       "solvetPartialIncorporationLP2 (generic function with 1 method)"
      ]
     },
     "metadata": {},
     "output_type": "display_data"
    }
   ],
   "source": [
    "include(\"../display/display-crisp-matrix.jl\")\n",
    "include(\"../display/display-interval-vector.jl\")\n",
    "include(\"../entani/perfect-incorporation.jl\")\n",
    "include(\"../entani/common-ground.jl\")\n",
    "include(\"../entani/partial-incorporarion.jl\")\n",
    "include(\"../center-equal-one/one-perfect.jl\")\n",
    "include(\"../center-equal-one/one-common.jl\")\n",
    "include(\"../center-equal-one/one-partial.jl\")\n",
    "include(\"../ttimes/t-perfect.jl\")\n",
    "include(\"../ttimes/t-common.jl\")\n",
    "include(\"../ttimes/t-partial.jl\")\n",
    "include(\"../ttimes-center/t-perfect-center.jl\")\n",
    "include(\"../ttimes-center/t-common-center.jl\")\n",
    "include(\"../ttimes-center/t-partial-center.jl\")"
   ]
  },
  {
   "cell_type": "code",
   "execution_count": 3,
   "metadata": {},
   "outputs": [
    {
     "data": {
      "text/plain": [
       "4×4 Matrix{Float64}:\n",
       " 1.0       1.0       2.0       6.0\n",
       " 1.0       1.0       3.0       2.0\n",
       " 0.5       0.333333  1.0       3.0\n",
       " 0.166667  0.5       0.333333  1.0"
      ]
     },
     "metadata": {},
     "output_type": "display_data"
    }
   ],
   "source": [
    "A₁ = [\n",
    "    1 2 3 4\n",
    "    1/2 1 2 3\n",
    "    1/3 1/2 1 2\n",
    "    1/4 1/3 1/2 1\n",
    "]\n",
    "\n",
    "A₂ = [\n",
    "    1 3 3 4\n",
    "    1/3 1 3 3\n",
    "    1/3 1/3 1 4\n",
    "    1/4 1/3 1/4 1\n",
    "]\n",
    "\n",
    "A₃ = [\n",
    "    1 1 2 2\n",
    "    1 1 3 1\n",
    "    1/2 1/3 1 3\n",
    "    1/2 1 1/3 1\n",
    "]\n",
    "\n",
    "A₄ = [\n",
    "    1 1 2 2\n",
    "    1 1 3 1\n",
    "    1/2 1/3 1 3\n",
    "    1/2 1 1/3 1\n",
    "]\n",
    "\n",
    "A₅ = [\n",
    "    1 1 3 3\n",
    "    1 1 2 5\n",
    "    1/3 1/2 1 2\n",
    "    1/3 1/5 1/2 1\n",
    "]\n",
    "\n",
    "A₆ = [\n",
    "    1 1 2 6\n",
    "    1 1 3 2\n",
    "    1/2 1/3 1 3\n",
    "    1/6 1/2 1/3 1\n",
    "]"
   ]
  },
  {
   "cell_type": "code",
   "execution_count": 4,
   "metadata": {},
   "outputs": [
    {
     "data": {
      "text/plain": [
       "(wᴸ = [0.375, 0.2142857142857142, 0.0892857142857143, 0.12499999999999997], wᵁ = [0.5714285714285715, 0.375, 0.125, 0.125], W = Interval{Float64}[Interval{Float64}(0.375, 0.5714285714285715), Interval{Float64}(0.2142857142857142, 0.375), Interval{Float64}(0.0892857142857143, 0.125), Interval{Float64}(0.12499999999999997, 0.125)], ŵᴸ = [0.5000000000000002 0.2500000000000001 0.12500000000000006 0.08333333333333337; 0.5714285714285716 0.19047619047619052 0.07142857142857141 0.04761904761904763; 0.375 0.25 0.125 0.0625], ŵᵁ = [0.5000000000000004 0.2500000000000001 0.16666666666666674 0.12500000000000006; 0.5714285714285716 0.21428571428571422 0.19047619047619052 0.1428571428571429; 0.375 0.375 0.1875 0.25], ŵ = Vector{Interval{Float64}}[[Interval{Float64}(0.5000000000000002, 0.5000000000000004), Interval{Float64}(0.2500000000000001, 0.2500000000000001), Interval{Float64}(0.12500000000000006, 0.16666666666666674), Interval{Float64}(0.08333333333333337, 0.12500000000000006)], [Interval{Float64}(0.5714285714285716, 0.5714285714285716), Interval{Float64}(0.19047619047619052, 0.21428571428571422), Interval{Float64}(0.07142857142857141, 0.19047619047619052), Interval{Float64}(0.04761904761904763, 0.1428571428571429)], [Interval{Float64}(0.375, 0.375), Interval{Float64}(0.25, 0.375), Interval{Float64}(0.125, 0.1875), Interval{Float64}(0.0625, 0.25)]], Ŵ = [[0.5000000000000001, 0.24999999999999992, 0.12499999999999997, 0.12499999999999997], [0.5714285714285715, 0.2142857142857142, 0.0892857142857143, 0.125], [0.375, 0.375, 0.125, 0.125]], optimalValue = 0.3928571428571431, s = [0.9999999999999993, 0.9999999999999999, 1.0])"
      ]
     },
     "metadata": {},
     "output_type": "display_data"
    }
   ],
   "source": [
    "originalPerfectIncorporation = solvePerfectIncorporationLP([A₁, A₂, A₃])\n",
    "originalCommonGround = solveCommonGroundLP([A₄, A₅, A₆])\n",
    "originalPartialIncorporation = solvePartialIncorporationLP([A₁, A₂, A₃])\n",
    "PerfectIncorporation = solveonePerfectIncorporationLP([A₁, A₂, A₃])\n",
    "CommonGround = solveoneCommonGroundLP([A₄, A₅, A₆])\n",
    "PartialIncorporation = solveonePartialIncorporationLP([A₁, A₂, A₃])\n",
    "tPerfectIncorporation = solvetPerfectIncorporationLP([A₁, A₂, A₃])\n",
    "tCommonGround = solvetCommonGroundLP([A₄, A₅, A₆])\n",
    "tPartialIncorporation = solvetPartialIncorporationLP([A₁, A₂, A₃])\n",
    "tPerfectIncorporation2 = solvetPerfectIncorporationLP2([A₁, A₂, A₃])\n",
    "tCommonGround2 = solvetCommonGroundLP2([A₄, A₅, A₆])\n",
    "tPartialIncorporation2 = solvetPartialIncorporationLP2([A₁, A₂, A₃])"
   ]
  },
  {
   "cell_type": "markdown",
   "metadata": {},
   "source": [
    "perfect incorporation approach\n",
    "\n",
    "従来法\n",
    "$$\n",
    "    \\begin{align}\n",
    "        \\begin{split}\n",
    "            \\text{minimize} ~~ & ~~ \\sum_{i\\in N} (w_{i}^{U} - w_{i}^{L}) \\\\\n",
    "            \\text{subject to} ~~ & ~~ \\sum_{i\\in N} (w_{ki}^{U} - w_{ki}^{L}) \\leq \\hat{d_{k}} , k\\in M \\\\\n",
    "            ~~ & ~~ w_{ki}^{L}\\leq a_{kij}w_{kj}^{R},\\, a_{kij}w_{kj}^{L}\\leq w_{ki}^{U},\\, i,j,\\in N(i<j) , k\\in M\\\\\n",
    "            ~~ & ~~ \\sum_{j\\in N\\setminus i} w_{kj}^{R} + w_{ki}^{L}\\geq 1, k\\in M, i\\in N, \\\\\n",
    "            ~~ & ~~ \\sum_{j\\in N\\setminus i} w_{kj}^{L} + w_{ki}^{U}\\leq 1, k\\in M, i\\in N, \\\\\n",
    "            ~~ & ~~ \\sum_{i\\in N} \\frac{w_{ki}^{U} + w_{ki}^{L}}{2} = 1, k\\in M,  \\\\\n",
    "            ~~ & ~~ \\sum_{i\\in N} \\frac{w_{i}^{U} + w_{i}^{L}}{2} = 1,  \\\\\n",
    "            ~~ & ~~ \\epsilon \\leq w_{i}^{L}\\leq w_{ki}^{L}\\leq w_{ki}^{U} \\leq w_{i}^{U}, k\\in M, i\\in N.\n",
    "        \\end{split}\n",
    "    \n",
    "    \\end{align}\n",
    "$$\n",
    "提案法(変更前)\n",
    "$$\n",
    "    \\begin{align}\n",
    "        \\begin{split}\n",
    "            \\text{minimize} ~~ & ~~ \\sum_{i\\in N} (w_{i}^{U} - w_{i}^{L}) \\\\\n",
    "            \\text{subject to} ~~ & ~~ \\sum_{i\\in N} (t_{k}w_{ki}^{U} - t_{k}w_{ki}^{L}) = t_{k}\\hat{d_{k}} , k\\in M \\\\\n",
    "            ~~ & ~~ t_{k}w_{ki}^{L}\\leq a_{kij}t_{k}w_{kj}^{R},\\, a_{kij}t_{k}w_{kj}^{L}\\leq t_{k}w_{ki}^{U},\\, i,j,\\in N(i<j) , k\\in M\\\\\n",
    "            ~~ & ~~ \\sum_{j\\in N\\setminus i} t_{k}w_{kj}^{R} + t_{k}w_{ki}^{L}\\geq 1, k\\in M, i\\in N, \\\\\n",
    "            ~~ & ~~ \\sum_{j\\in N\\setminus i} t_{k}w_{kj}^{L} + t_{k}w_{ki}^{U}\\leq 1, k\\in M, i\\in N, \\\\\n",
    "            ~~ & ~~ \\sum_{i\\in N} \\frac{w_{i}^{U} + w_{i}^{L}}{2} = 1, \\\\\n",
    "            ~~ & ~~ \\epsilon \\leq w_{i}^{L}\\leq t_{k}w_{ki}^{L}\\leq t_{k}w_{ki}^{U} \\leq w_{i}^{U}, k\\in M, i\\in N.\n",
    "        \\end{split}\n",
    "    \n",
    "    \\end{align}\n",
    "$$\n",
    "\n",
    "提案法(変更後)\n",
    "$$\n",
    "    \\begin{align}\n",
    "        \\begin{split}\n",
    "            \\text{minimize} ~~ & ~~ \\sum_{i\\in N} (w_{i}^{U} - w_{i}^{L}) \\\\\n",
    "            \\text{subject to} ~~ & ~~ \\sum_{i\\in N} (w_{ki}^{U} - w_{ki}^{L}) = t_{k}\\hat{d_{k}} , k\\in M \\\\\n",
    "            ~~ & ~~ w_{ki}^{L}\\leq a_{kij}w_{kj}^{R},\\, a_{kij}w_{kj}^{L}\\leq w_{ki}^{U},\\, i,j,\\in N(i<j) , k\\in M\\\\\n",
    "            ~~ & ~~ \\sum_{j\\in N\\setminus i} w_{kj}^{R} + w_{ki}^{L}\\geq 1, k\\in M, i\\in N, \\\\\n",
    "            ~~ & ~~ \\sum_{j\\in N\\setminus i} w_{kj}^{L} + w_{ki}^{U}\\leq 1, k\\in M, i\\in N, \\\\\n",
    "            ~~ & ~~ \\sum_{i\\in N} \\frac{w_{i}^{U} + w_{i}^{L}}{2} = 1, \\\\\n",
    "            ~~ & ~~ t_{k} = \\sum_{i\\in N} \\frac{w_{ki}^{U} + w_{ki}^{L}}{2}, k\\in M, \\\\\n",
    "            ~~ & ~~ \\epsilon \\leq w_{i}^{L}\\leq w_{ki}^{L}\\leq w_{ki}^{U} \\leq w_{i}^{U}, k\\in M, i\\in N.\n",
    "        \\end{split}\n",
    "    \n",
    "    \\end{align}\n",
    "$$"
   ]
  },
  {
   "cell_type": "code",
   "execution_count": 5,
   "metadata": {},
   "outputs": [
    {
     "data": {
      "text/latex": [
       "$OriginalPerfectIncorporation :$"
      ],
      "text/plain": [
       "L\"$OriginalPerfectIncorporation :$\""
      ]
     },
     "metadata": {},
     "output_type": "display_data"
    },
    {
     "data": {
      "text/latex": [
       "$W = \\begin{pmatrix} \\left[ 0.375, 0.571 \\right] \\\\ \\left[ 0.19, 0.375 \\right] \\\\ \\left[ 0.071, 0.19 \\right] \\\\ \\left[ 0.048, 0.219 \\right] \\end{pmatrix}$"
      ],
      "text/plain": [
       "L\"$W = \\begin{pmatrix} \\left[ 0.375, 0.571 \\right] \\\\ \\left[ 0.19, 0.375 \\right] \\\\ \\left[ 0.071, 0.19 \\right] \\\\ \\left[ 0.048, 0.219 \\right] \\end{pmatrix}$\""
      ]
     },
     "metadata": {},
     "output_type": "display_data"
    },
    {
     "data": {
      "text/latex": [
       "$d = 0.671130952380952$"
      ],
      "text/plain": [
       "L\"$d = 0.671130952380952$\""
      ]
     },
     "metadata": {},
     "output_type": "display_data"
    },
    {
     "data": {
      "text/latex": [
       "$PerfectIncorporation :$"
      ],
      "text/plain": [
       "L\"$PerfectIncorporation :$\""
      ]
     },
     "metadata": {},
     "output_type": "display_data"
    },
    {
     "data": {
      "text/latex": [
       "$W = \\begin{pmatrix} \\left[ 0.304, 0.571 \\right] \\\\ \\left[ 0.19, 0.375 \\right] \\\\ \\left[ 0.071, 0.19 \\right] \\\\ \\left[ 0.048, 0.25 \\right] \\end{pmatrix}$"
      ],
      "text/plain": [
       "L\"$W = \\begin{pmatrix} \\left[ 0.304, 0.571 \\right] \\\\ \\left[ 0.19, 0.375 \\right] \\\\ \\left[ 0.071, 0.19 \\right] \\\\ \\left[ 0.048, 0.25 \\right] \\end{pmatrix}$\""
      ]
     },
     "metadata": {},
     "output_type": "display_data"
    },
    {
     "data": {
      "text/latex": [
       "$d = 0.7738095238095238$"
      ],
      "text/plain": [
       "L\"$d = 0.7738095238095238$\""
      ]
     },
     "metadata": {},
     "output_type": "display_data"
    },
    {
     "data": {
      "text/latex": [
       "$tPerfectIncorporation (変更前):$"
      ],
      "text/plain": [
       "L\"$tPerfectIncorporation (変更前):$\""
      ]
     },
     "metadata": {},
     "output_type": "display_data"
    },
    {
     "data": {
      "text/latex": [
       "$W = \\begin{pmatrix} \\left[ 0.407, 0.445 \\right] \\\\ \\left[ 0.148, 0.407 \\right] \\\\ \\left[ 0.136, 0.203 \\right] \\\\ \\left[ 0.051, 0.203 \\right] \\end{pmatrix}$"
      ],
      "text/plain": [
       "L\"$W = \\begin{pmatrix} \\left[ 0.407, 0.445 \\right] \\\\ \\left[ 0.148, 0.407 \\right] \\\\ \\left[ 0.136, 0.203 \\right] \\\\ \\left[ 0.051, 0.203 \\right] \\end{pmatrix}$\""
      ]
     },
     "metadata": {},
     "output_type": "display_data"
    },
    {
     "data": {
      "text/latex": [
       "$d = 0.5169491525423728$"
      ],
      "text/plain": [
       "L\"$d = 0.5169491525423728$\""
      ]
     },
     "metadata": {},
     "output_type": "display_data"
    },
    {
     "data": {
      "text/latex": [
       "$s = [1.8708873379860345, 2.171186440677966, 1.1751412429378536]$"
      ],
      "text/plain": [
       "L\"$s = [1.8708873379860345, 2.171186440677966, 1.1751412429378536]$\""
      ]
     },
     "metadata": {},
     "output_type": "display_data"
    },
    {
     "data": {
      "text/latex": [
       "$tPerfectIncorporation (変更後):$"
      ],
      "text/plain": [
       "L\"$tPerfectIncorporation (変更後):$\""
      ]
     },
     "metadata": {},
     "output_type": "display_data"
    },
    {
     "data": {
      "text/latex": [
       "$W = \\begin{pmatrix} \\left[ 0.375, 0.571 \\right] \\\\ \\left[ 0.19, 0.375 \\right] \\\\ \\left[ 0.0, 0.19 \\right] \\\\ \\left[ 0.048, 0.25 \\right] \\end{pmatrix}$"
      ],
      "text/plain": [
       "L\"$W = \\begin{pmatrix} \\left[ 0.375, 0.571 \\right] \\\\ \\left[ 0.19, 0.375 \\right] \\\\ \\left[ 0.0, 0.19 \\right] \\\\ \\left[ 0.048, 0.25 \\right] \\end{pmatrix}$\""
      ]
     },
     "metadata": {},
     "output_type": "display_data"
    },
    {
     "data": {
      "text/latex": [
       "$d = 0.773809523809524$"
      ],
      "text/plain": [
       "L\"$d = 0.773809523809524$\""
      ]
     },
     "metadata": {},
     "output_type": "display_data"
    },
    {
     "data": {
      "text/latex": [
       "$s = [1.0, 0.9999999999999999, 1.0]$"
      ],
      "text/plain": [
       "L\"$s = [1.0, 0.9999999999999999, 1.0]$\""
      ]
     },
     "metadata": {},
     "output_type": "display_data"
    }
   ],
   "source": [
    "display(L\"OriginalPerfectIncorporation :\")\n",
    "W_originalPerfectIncorporation = originalPerfectIncorporation.W\n",
    "display(L\"W = %$(intervalVectorLaTeXString(W_originalPerfectIncorporation))\")\n",
    "d_originalPerfectIncorporation = originalPerfectIncorporation.optimalValue\n",
    "display(L\"d = %$(d_originalPerfectIncorporation)\")\n",
    "\n",
    "display(L\"PerfectIncorporation :\")\n",
    "W_PerfectIncorporation = PerfectIncorporation.W\n",
    "display(L\"W = %$(intervalVectorLaTeXString(W_PerfectIncorporation))\")\n",
    "d_PerfectIncorporation = PerfectIncorporation.optimalValue\n",
    "display(L\"d = %$(d_PerfectIncorporation)\")\n",
    "\n",
    "display(L\"tPerfectIncorporation (変更前):\")\n",
    "W_tPerfectIncorporation = tPerfectIncorporation.W\n",
    "display(L\"W = %$(intervalVectorLaTeXString(W_tPerfectIncorporation))\")\n",
    "d_tPerfectIncorporation = tPerfectIncorporation.optimalValue\n",
    "display(L\"d = %$(d_tPerfectIncorporation)\")\n",
    "s_tPerfectIncorporation = tPerfectIncorporation.s\n",
    "display(L\"s = %$(s_tPerfectIncorporation)\")\n",
    "\n",
    "display(L\"tPerfectIncorporation (変更後):\")\n",
    "W_tPerfectIncorporation2 = tPerfectIncorporation2.W\n",
    "display(L\"W = %$(intervalVectorLaTeXString(W_tPerfectIncorporation2))\")\n",
    "d_tPerfectIncorporation2 = tPerfectIncorporation2.optimalValue\n",
    "display(L\"d = %$(d_tPerfectIncorporation2)\")\n",
    "s_tPerfectIncorporation2 = tPerfectIncorporation2.s\n",
    "display(L\"s = %$(s_tPerfectIncorporation2)\")"
   ]
  },
  {
   "cell_type": "markdown",
   "metadata": {},
   "source": [
    "common ground apploach\n",
    "\n",
    "従来法\n",
    "$$\n",
    "    \\begin{align}\n",
    "        \\begin{split}\n",
    "            \\text{maximize} ~~ & ~~ \\sum_{i\\in N} (w_{i}^{U} - w_{i}^{L}) \\\\\n",
    "            \\text{subject to} ~~ & ~~ \\sum_{i\\in N} (w_{ki}^{U} - w_{ki}^{L}) \\leq \\hat{d_{k}} , k\\in M \\\\\n",
    "            ~~ & ~~ w_{ki}^{L}\\leq a_{kij}w_{kj}^{R},\\, a_{kij}w_{kj}^{L}\\leq w_{ki}^{U},\\, i,j,\\in N(i<j) , k\\in M\\\\\n",
    "            ~~ & ~~ \\sum_{j\\in N\\setminus i} w_{kj}^{R} + w_{ki}^{L}\\geq 1, k\\in M, i\\in N, \\\\\n",
    "            ~~ & ~~ \\sum_{j\\in N\\setminus i} w_{kj}^{L} + w_{ki}^{U}\\leq 1, k\\in M, i\\in N, \\\\\n",
    "            ~~ & ~~ \\sum_{j\\in N\\setminus i} w_{j}^{R} + w_{i}^{L}\\geq 1, i\\in N, \\\\\n",
    "            ~~ & ~~ \\sum_{j\\in N\\setminus i} w_{j}^{L} + w_{i}^{U}\\leq 1, i\\in N, \\\\\n",
    "            ~~ & ~~ \\sum_{i\\in N} \\frac{w_{ki}^{U} + w_{ki}^{L}}{2} = 1, k\\in M,  \\\\\n",
    "            ~~ & ~~ \\sum_{i\\in N} \\frac{w_{i}^{U} + w_{i}^{L}}{2} = 1,  \\\\\n",
    "            ~~ & ~~ \\epsilon \\leq w_{ki}^{L}\\leq w_{i}^{L}\\leq w_{i}^{U}\\leq w_{ki}^{U}, k\\in M, i\\in N.\n",
    "        \\end{split}\n",
    "    \n",
    "    \\end{align}\n",
    "$$\n",
    "提案法(変更前)\n",
    "$$\n",
    "    \\begin{align}\n",
    "        \\begin{split}\n",
    "            \\text{maximize} ~~ & ~~ \\sum_{i\\in N} (w_{i}^{U} - w_{i}^{L}) \\\\\n",
    "            \\text{subject to} ~~ & ~~ \\sum_{i\\in N} (t_{k}w_{ki}^{U} - t_{k}w_{ki}^{L}) = t_{k}\\hat{d_{k}} , k\\in M \\\\\n",
    "            ~~ & ~~ t_{k}w_{ki}^{L}\\leq a_{kij}t_{k}w_{kj}^{R},\\, a_{kij}t_{k}w_{kj}^{L}\\leq t_{k}w_{ki}^{U},\\, i,j,\\in N(i<j) , k\\in M\\\\\n",
    "            ~~ & ~~ \\sum_{j\\in N\\setminus i} t_{k}w_{kj}^{R} + t_{k}w_{ki}^{L}\\geq 1, k\\in M, i\\in N, \\\\\n",
    "            ~~ & ~~ \\sum_{j\\in N\\setminus i} t_{k}w_{kj}^{L} + t_{k}w_{ki}^{U}\\leq 1, k\\in M, i\\in N, \\\\\n",
    "            ~~ & ~~ \\sum_{j\\in N\\setminus i} w_{j}^{R} + w_{i}^{L}\\geq 1, i\\in N, \\\\\n",
    "            ~~ & ~~ \\sum_{j\\in N\\setminus i} w_{j}^{L} + w_{i}^{U}\\leq 1, i\\in N, \\\\\n",
    "            ~~ & ~~ \\sum_{i\\in N} \\frac{w_{i}^{U} + w_{i}^{L}}{2} = 1,  \\\\\n",
    "            ~~ & ~~ \\epsilon \\leq t_{k}w_{ki}^{L}\\leq w_{i}^{L}\\leq w_{i}^{U}\\leq t_{k}w_{ki}^{U}, k\\in M, i\\in N.\n",
    "        \\end{split}\n",
    "    \n",
    "    \\end{align}\n",
    "$$\n",
    "\n",
    "提案法(変更後)\n",
    "$$\n",
    "    \\begin{align}\n",
    "        \\begin{split}\n",
    "            \\text{maximize} ~~ & ~~ \\sum_{i\\in N} (w_{i}^{U} - w_{i}^{L}) \\\\\n",
    "            \\text{subject to} ~~ & ~~ \\sum_{i\\in N} (w_{ki}^{U} - w_{ki}^{L}) = t_{k}\\hat{d_{k}} , k\\in M \\\\\n",
    "            ~~ & ~~ w_{ki}^{L}\\leq a_{kij}w_{kj}^{R},\\, a_{kij}w_{kj}^{L}\\leq w_{ki}^{U},\\, i,j,\\in N(i<j) , k\\in M\\\\\n",
    "            ~~ & ~~ \\sum_{j\\in N\\setminus i} w_{kj}^{R} + w_{ki}^{L}\\geq 1, k\\in M, i\\in N, \\\\\n",
    "            ~~ & ~~ \\sum_{j\\in N\\setminus i} w_{kj}^{L} + w_{ki}^{U}\\leq 1, k\\in M, i\\in N, \\\\\n",
    "            ~~ & ~~ \\sum_{j\\in N\\setminus i} w_{j}^{R} + w_{i}^{L}\\geq 1, i\\in N, \\\\\n",
    "            ~~ & ~~ \\sum_{j\\in N\\setminus i} w_{j}^{L} + w_{i}^{U}\\leq 1, i\\in N, \\\\\n",
    "            ~~ & ~~ \\sum_{i\\in N} \\frac{w_{i}^{U} + w_{i}^{L}}{2} = 1,  \\\\\n",
    "            ~~ & ~~ t_{k} = \\sum_{i\\in N} \\frac{w_{ki}^{U} + w_{ki}^{L}}{2}, k\\in M, \\\\\n",
    "            ~~ & ~~ \\epsilon \\leq w_{ki}^{L}\\leq w_{i}^{L}\\leq w_{i}^{U}\\leq w_{ki}^{U}, k\\in M, i\\in N.\n",
    "        \\end{split}\n",
    "    \n",
    "    \\end{align}\n",
    "$$"
   ]
  },
  {
   "cell_type": "code",
   "execution_count": 6,
   "metadata": {},
   "outputs": [
    {
     "data": {
      "text/latex": [
       "$OriginalCommonGround : $"
      ],
      "text/plain": [
       "L\"$OriginalCommonGround : $\""
      ]
     },
     "metadata": {},
     "output_type": "display_data"
    },
    {
     "data": {
      "text/latex": [
       "$W = \\begin{pmatrix} \\left[ 0.375, 0.375 \\right] \\\\ \\left[ 0.367, 0.375 \\right] \\\\ \\left[ 0.125, 0.183 \\right] \\\\ \\left[ 0.075, 0.125 \\right] \\end{pmatrix}$"
      ],
      "text/plain": [
       "L\"$W = \\begin{pmatrix} \\left[ 0.375, 0.375 \\right] \\\\ \\left[ 0.367, 0.375 \\right] \\\\ \\left[ 0.125, 0.183 \\right] \\\\ \\left[ 0.075, 0.125 \\right] \\end{pmatrix}$\""
      ]
     },
     "metadata": {},
     "output_type": "display_data"
    },
    {
     "data": {
      "text/latex": [
       "$d = 0.11666666666666736$"
      ],
      "text/plain": [
       "L\"$d = 0.11666666666666736$\""
      ]
     },
     "metadata": {},
     "output_type": "display_data"
    },
    {
     "data": {
      "text/latex": [
       "$CommonGround : $"
      ],
      "text/plain": [
       "L\"$CommonGround : $\""
      ]
     },
     "metadata": {},
     "output_type": "display_data"
    },
    {
     "data": {
      "text/latex": [
       "$W = \\begin{pmatrix} \\left[ 0.375, 0.375 \\right] \\\\ \\left[ 0.367, 0.375 \\right] \\\\ \\left[ 0.125, 0.183 \\right] \\\\ \\left[ 0.075, 0.125 \\right] \\end{pmatrix}$"
      ],
      "text/plain": [
       "L\"$W = \\begin{pmatrix} \\left[ 0.375, 0.375 \\right] \\\\ \\left[ 0.367, 0.375 \\right] \\\\ \\left[ 0.125, 0.183 \\right] \\\\ \\left[ 0.075, 0.125 \\right] \\end{pmatrix}$\""
      ]
     },
     "metadata": {},
     "output_type": "display_data"
    },
    {
     "data": {
      "text/latex": [
       "$d = 0.11666666666666692$"
      ],
      "text/plain": [
       "L\"$d = 0.11666666666666692$\""
      ]
     },
     "metadata": {},
     "output_type": "display_data"
    },
    {
     "data": {
      "text/latex": [
       "$tCommonGround (変更前): $"
      ],
      "text/plain": [
       "L\"$tCommonGround (変更前): $\""
      ]
     },
     "metadata": {},
     "output_type": "display_data"
    },
    {
     "data": {
      "text/latex": [
       "$W = \\begin{pmatrix} \\left[ 0.0, 1.0 \\right] \\\\ \\left[ 0.0, 1.0 \\right] \\\\ \\left[ 0.0, 0.0 \\right] \\\\ \\left[ 0.0, 0.0 \\right] \\end{pmatrix}$"
      ],
      "text/plain": [
       "L\"$W = \\begin{pmatrix} \\left[ 0.0, 1.0 \\right] \\\\ \\left[ 0.0, 1.0 \\right] \\\\ \\left[ 0.0, 0.0 \\right] \\\\ \\left[ 0.0, 0.0 \\right] \\end{pmatrix}$\""
      ]
     },
     "metadata": {},
     "output_type": "display_data"
    },
    {
     "data": {
      "text/latex": [
       "$d = 1.99999992$"
      ],
      "text/plain": [
       "L\"$d = 1.99999992$\""
      ]
     },
     "metadata": {},
     "output_type": "display_data"
    },
    {
     "data": {
      "text/latex": [
       "$s = [5.333333137777777, 17.14285645714282, 9.599999615999968]$"
      ],
      "text/plain": [
       "L\"$s = [5.333333137777777, 17.14285645714282, 9.599999615999968]$\""
      ]
     },
     "metadata": {},
     "output_type": "display_data"
    },
    {
     "data": {
      "text/latex": [
       "$tCommonGround (変更後): $"
      ],
      "text/plain": [
       "L\"$tCommonGround (変更後): $\""
      ]
     },
     "metadata": {},
     "output_type": "display_data"
    },
    {
     "data": {
      "text/latex": [
       "$W = \\begin{pmatrix} \\left[ 0.375, 0.375 \\right] \\\\ \\left[ 0.367, 0.375 \\right] \\\\ \\left[ 0.125, 0.183 \\right] \\\\ \\left[ 0.075, 0.125 \\right] \\end{pmatrix}$"
      ],
      "text/plain": [
       "L\"$W = \\begin{pmatrix} \\left[ 0.375, 0.375 \\right] \\\\ \\left[ 0.367, 0.375 \\right] \\\\ \\left[ 0.125, 0.183 \\right] \\\\ \\left[ 0.075, 0.125 \\right] \\end{pmatrix}$\""
      ]
     },
     "metadata": {},
     "output_type": "display_data"
    },
    {
     "data": {
      "text/latex": [
       "$d = 0.11666666666666703$"
      ],
      "text/plain": [
       "L\"$d = 0.11666666666666703$\""
      ]
     },
     "metadata": {},
     "output_type": "display_data"
    },
    {
     "data": {
      "text/latex": [
       "$s = [1.0, 0.9999999999999998, 0.9999999999999991]$"
      ],
      "text/plain": [
       "L\"$s = [1.0, 0.9999999999999998, 0.9999999999999991]$\""
      ]
     },
     "metadata": {},
     "output_type": "display_data"
    }
   ],
   "source": [
    "display(L\"OriginalCommonGround : \")\n",
    "W_originalCommonGround = originalCommonGround.W\n",
    "display(L\"W = %$(intervalVectorLaTeXString(W_originalCommonGround))\")\n",
    "d_originalCommonGround = originalCommonGround.optimalValue\n",
    "display(L\"d = %$(d_originalCommonGround)\")\n",
    "\n",
    "display(L\"CommonGround : \")\n",
    "W_CommonGround = CommonGround.W\n",
    "display(L\"W = %$(intervalVectorLaTeXString(W_CommonGround))\")\n",
    "d_CommonGround = CommonGround.optimalValue\n",
    "display(L\"d = %$(d_CommonGround)\")\n",
    "\n",
    "display(L\"tCommonGround (変更前): \")\n",
    "W_tCommonGround = tCommonGround.W\n",
    "display(L\"W = %$(intervalVectorLaTeXString(W_tCommonGround))\")\n",
    "d_tCommonGround = tCommonGround.optimalValue\n",
    "display(L\"d = %$(d_tCommonGround)\")\n",
    "s_tCommonGround = tCommonGround.s\n",
    "display(L\"s = %$(s_tCommonGround)\")\n",
    "\n",
    "display(L\"tCommonGround (変更後): \")\n",
    "W_tCommonGround2 = tCommonGround2.W\n",
    "display(L\"W = %$(intervalVectorLaTeXString(W_tCommonGround2))\")\n",
    "d_tCommonGround2 = tCommonGround2.optimalValue\n",
    "display(L\"d = %$(d_tCommonGround2)\")\n",
    "s_tCommonGround2 = tCommonGround2.s\n",
    "display(L\"s = %$(s_tCommonGround2)\")"
   ]
  },
  {
   "cell_type": "markdown",
   "metadata": {},
   "source": [
    "partial incorporation apploach\n",
    "\n",
    "従来法\n",
    "$$\n",
    "    \\begin{align}\n",
    "        \\begin{split}\n",
    "            \\text{minimize} ~~ & ~~ \\sum_{i\\in N} (w_{i}^{U} - w_{i}^{L}) \\\\\n",
    "            \\text{subject to}  ~~ & ~~ \\sum_{i\\in N} (w_{ki}^{U} - w_{ki}^{L}) \\leq \\hat{d_{k}} , k\\in M \\\\\n",
    "            ~~ & ~~ w_{ki}^{L}\\leq a_{kij}w_{kj}^{R},\\, a_{kij}w_{kj}^{L}\\leq w_{ki}^{U},\\, i,j,\\in N(i<j) , k\\in M\\\\\n",
    "            ~~ & ~~ \\sum_{j\\in N\\setminus i} w_{kj}^{R} + w_{ki}^{L}\\geq 1, k\\in M, i\\in N, \\\\\n",
    "            ~~ & ~~ \\sum_{j\\in N\\setminus i} w_{kj}^{L} + w_{ki}^{U}\\leq 1, k\\in M, i\\in N, \\\\\n",
    "            ~~ & ~~ \\sum_{i\\in N} w_{ki} = 1, k\\in M, \\\\\n",
    "            ~~ & ~~ \\sum_{i\\in N} \\frac{w_{ki}^{U} + w_{ki}^{L}}{2} = 1, k\\in M,  \\\\\n",
    "            ~~ & ~~ \\sum_{i\\in N} \\frac{w_{i}^{U} + w_{i}^{L}}{2} = 1,  \\\\\n",
    "            ~~ & ~~ \\epsilon \\leq w_{i}^{L}\\leq w_{ki}\\leq w_{ki}^{U}, \\epsilon \\leq w_{ki}^{L}\\leq w_{ki}\\leq w_{i}^{U}, k\\in M, i\\in N.\n",
    "        \\end{split}\n",
    "    \\end{align}\n",
    "$$\n",
    "提案法(変更前)\n",
    "$$\n",
    "    \\begin{align}\n",
    "        \\begin{split}\n",
    "            \\text{minimize} ~~ & ~~ \\sum_{i\\in N} (w_{i}^{U} - w_{i}^{L}) \\\\\n",
    "            \\text{subject to}  ~~ & ~~ \\sum_{i\\in N} (t_{k}w_{ki}^{U} - t_{k}w_{ki}^{L}) = t_{k}\\hat{d_{k}} , k\\in M \\\\\n",
    "            ~~ & ~~ t_{k}w_{ki}^{L}\\leq a_{kij}t_{k}w_{kj}^{R},\\, a_{kij}t_{k}w_{kj}^{L}\\leq t_{k}w_{ki}^{U},\\, i,j,\\in N(i<j) , k\\in M\\\\\n",
    "            ~~ & ~~ \\sum_{j\\in N\\setminus i} t_{k}w_{kj}^{R} + t_{k}w_{ki}^{L}\\geq 1, k\\in M, i\\in N, \\\\\n",
    "            ~~ & ~~ \\sum_{j\\in N\\setminus i} t_{k}w_{kj}^{L} + t_{k}w_{ki}^{U}\\leq 1, k\\in M, i\\in N, \\\\\n",
    "            ~~ & ~~ \\sum_{i\\in N} w_{ki} = 1, k\\in M \\\\\n",
    "            ~~ & ~~ \\sum_{i\\in N} \\frac{w_{i}^{U} + w_{i}^{L}}{2} = 1,   \\\\\n",
    "            ~~ & ~~ \\epsilon \\leq w_{i}^{L}\\leq w_{ki}\\leq t_{k}w_{ki}^{U}, \\epsilon \\leq t_{k}w_{ki}^{L}\\leq w_{ki}\\leq w_{i}^{U}, k\\in M, i\\in N.\n",
    "        \\end{split}\n",
    "    \\end{align}\n",
    "$$\n",
    "\n",
    "提案法(変更後)\n",
    "$$\n",
    "    \\begin{align}\n",
    "        \\begin{split}\n",
    "            \\text{minimize} ~~ & ~~ \\sum_{i\\in N} (w_{i}^{U} - w_{i}^{L}) \\\\\n",
    "            \\text{subject to}  ~~ & ~~ \\sum_{i\\in N} (w_{ki}^{U} - w_{ki}^{L}) = t_{k}\\hat{d_{k}} , k\\in M \\\\\n",
    "            ~~ & ~~ w_{ki}^{L}\\leq a_{kij}w_{kj}^{R},\\, a_{kij}w_{kj}^{L}\\leq w_{ki}^{U},\\, i,j,\\in N(i<j) , k\\in M\\\\\n",
    "            ~~ & ~~ \\sum_{j\\in N\\setminus i} w_{kj}^{R} + w_{ki}^{L}\\geq 1, k\\in M, i\\in N, \\\\\n",
    "            ~~ & ~~ \\sum_{j\\in N\\setminus i} w_{kj}^{L} + w_{ki}^{U}\\leq 1, k\\in M, i\\in N, \\\\\n",
    "            ~~ & ~~ \\sum_{i\\in N} w_{ki} = 1, k\\in M \\\\\n",
    "            ~~ & ~~ \\sum_{i\\in N} \\frac{w_{i}^{U} + w_{i}^{L}}{2} = 1,   \\\\\n",
    "            ~~ & ~~ t_{k} = \\sum_{i\\in N} \\frac{w_{ki}^{U} + w_{ki}^{L}}{2}, k\\in M, \\\\\n",
    "            ~~ & ~~ \\epsilon \\leq w_{i}^{L}\\leq w_{ki}\\leq w_{ki}^{U}, \\epsilon \\leq w_{ki}^{L}\\leq w_{ki}\\leq w_{i}^{U}, k\\in M, i\\in N.\n",
    "        \\end{split}\n",
    "    \\end{align}\n",
    "$$\n"
   ]
  },
  {
   "cell_type": "code",
   "execution_count": 7,
   "metadata": {},
   "outputs": [
    {
     "data": {
      "text/latex": [
       "$OriginalPartialIncorporation :$"
      ],
      "text/plain": [
       "L\"$OriginalPartialIncorporation :$\""
      ]
     },
     "metadata": {},
     "output_type": "display_data"
    },
    {
     "data": {
      "text/latex": [
       "$W = \\begin{pmatrix} \\left[ 0.375, 0.571 \\right] \\\\ \\left[ 0.214, 0.25 \\right] \\\\ \\left[ 0.167, 0.167 \\right] \\\\ \\left[ 0.048, 0.208 \\right] \\end{pmatrix}$"
      ],
      "text/plain": [
       "L\"$W = \\begin{pmatrix} \\left[ 0.375, 0.571 \\right] \\\\ \\left[ 0.214, 0.25 \\right] \\\\ \\left[ 0.167, 0.167 \\right] \\\\ \\left[ 0.048, 0.208 \\right] \\end{pmatrix}$\""
      ]
     },
     "metadata": {},
     "output_type": "display_data"
    },
    {
     "data": {
      "text/latex": [
       "$d = 0.39285714285714335$"
      ],
      "text/plain": [
       "L\"$d = 0.39285714285714335$\""
      ]
     },
     "metadata": {},
     "output_type": "display_data"
    },
    {
     "data": {
      "text/latex": [
       "$PartialIncorporation :$"
      ],
      "text/plain": [
       "L\"$PartialIncorporation :$\""
      ]
     },
     "metadata": {},
     "output_type": "display_data"
    },
    {
     "data": {
      "text/latex": [
       "$W = \\begin{pmatrix} \\left[ 0.375, 0.571 \\right] \\\\ \\left[ 0.19, 0.25 \\right] \\\\ \\left[ 0.113, 0.125 \\right] \\\\ \\left[ 0.125, 0.25 \\right] \\end{pmatrix}$"
      ],
      "text/plain": [
       "L\"$W = \\begin{pmatrix} \\left[ 0.375, 0.571 \\right] \\\\ \\left[ 0.19, 0.25 \\right] \\\\ \\left[ 0.113, 0.125 \\right] \\\\ \\left[ 0.125, 0.25 \\right] \\end{pmatrix}$\""
      ]
     },
     "metadata": {},
     "output_type": "display_data"
    },
    {
     "data": {
      "text/latex": [
       "$d = 0.3928571428571431$"
      ],
      "text/plain": [
       "L\"$d = 0.3928571428571431$\""
      ]
     },
     "metadata": {},
     "output_type": "display_data"
    },
    {
     "data": {
      "text/latex": [
       "$tPartialIncorporation (変更前):$"
      ],
      "text/plain": [
       "L\"$tPartialIncorporation (変更前):$\""
      ]
     },
     "metadata": {},
     "output_type": "display_data"
    },
    {
     "data": {
      "text/latex": [
       "$W = \\begin{pmatrix} \\left[ 0.556, 0.556 \\right] \\\\ \\left[ 0.296, 0.296 \\right] \\\\ \\left[ 0.037, 0.037 \\right] \\\\ \\left[ 0.111, 0.111 \\right] \\end{pmatrix}$"
      ],
      "text/plain": [
       "L\"$W = \\begin{pmatrix} \\left[ 0.556, 0.556 \\right] \\\\ \\left[ 0.296, 0.296 \\right] \\\\ \\left[ 0.037, 0.037 \\right] \\\\ \\left[ 0.111, 0.111 \\right] \\end{pmatrix}$\""
      ]
     },
     "metadata": {},
     "output_type": "display_data"
    },
    {
     "data": {
      "text/latex": [
       "$d = 0.0$"
      ],
      "text/plain": [
       "L\"$d = 0.0$\""
      ]
     },
     "metadata": {},
     "output_type": "display_data"
    },
    {
     "data": {
      "text/latex": [
       "$s = [4.222221818518509, 1.8666665235555557, 1.9259258656790117]$"
      ],
      "text/plain": [
       "L\"$s = [4.222221818518509, 1.8666665235555557, 1.9259258656790117]$\""
      ]
     },
     "metadata": {},
     "output_type": "display_data"
    },
    {
     "data": {
      "text/latex": [
       "$tPartialIncorporation (変更後):$"
      ],
      "text/plain": [
       "L\"$tPartialIncorporation (変更後):$\""
      ]
     },
     "metadata": {},
     "output_type": "display_data"
    },
    {
     "data": {
      "text/latex": [
       "$W = \\begin{pmatrix} \\left[ 0.375, 0.571 \\right] \\\\ \\left[ 0.214, 0.375 \\right] \\\\ \\left[ 0.089, 0.125 \\right] \\\\ \\left[ 0.125, 0.125 \\right] \\end{pmatrix}$"
      ],
      "text/plain": [
       "L\"$W = \\begin{pmatrix} \\left[ 0.375, 0.571 \\right] \\\\ \\left[ 0.214, 0.375 \\right] \\\\ \\left[ 0.089, 0.125 \\right] \\\\ \\left[ 0.125, 0.125 \\right] \\end{pmatrix}$\""
      ]
     },
     "metadata": {},
     "output_type": "display_data"
    },
    {
     "data": {
      "text/latex": [
       "$d = 0.3928571428571431$"
      ],
      "text/plain": [
       "L\"$d = 0.3928571428571431$\""
      ]
     },
     "metadata": {},
     "output_type": "display_data"
    },
    {
     "data": {
      "text/latex": [
       "$s = [0.9999999999999993, 0.9999999999999999, 1.0]$"
      ],
      "text/plain": [
       "L\"$s = [0.9999999999999993, 0.9999999999999999, 1.0]$\""
      ]
     },
     "metadata": {},
     "output_type": "display_data"
    }
   ],
   "source": [
    "display(L\"OriginalPartialIncorporation :\")\n",
    "W_originalPartialIncorporation = originalPartialIncorporation.W\n",
    "display(L\"W = %$(intervalVectorLaTeXString(W_originalPartialIncorporation))\")\n",
    "d_originalPartialIncorporation = originalPartialIncorporation.optimalValue\n",
    "display(L\"d = %$(d_originalPartialIncorporation)\")\n",
    "\n",
    "display(L\"PartialIncorporation :\")\n",
    "W_PartialIncorporation = PartialIncorporation.W\n",
    "display(L\"W = %$(intervalVectorLaTeXString(W_PartialIncorporation))\")\n",
    "d_PartialIncorporation = PartialIncorporation.optimalValue\n",
    "display(L\"d = %$(d_PartialIncorporation)\")\n",
    "\n",
    "display(L\"tPartialIncorporation (変更前):\")\n",
    "W_tPartialIncorporation = tPartialIncorporation.W\n",
    "display(L\"W = %$(intervalVectorLaTeXString(W_tPartialIncorporation))\")\n",
    "d_tPartialIncorporation = tPartialIncorporation.optimalValue\n",
    "display(L\"d = %$(d_tPartialIncorporation)\")\n",
    "s_tPartialIncorporation = tPartialIncorporation.s\n",
    "display(L\"s = %$(s_tPartialIncorporation)\")\n",
    "\n",
    "display(L\"tPartialIncorporation (変更後):\")\n",
    "W_tPartialIncorporation2 = tPartialIncorporation2.W\n",
    "display(L\"W = %$(intervalVectorLaTeXString(W_tPartialIncorporation2))\")\n",
    "d_tPartialIncorporation2 = tPartialIncorporation2.optimalValue\n",
    "display(L\"d = %$(d_tPartialIncorporation2)\")\n",
    "s_tPartialIncorporation2 = tPartialIncorporation2.s\n",
    "display(L\"s = %$(s_tPartialIncorporation2)\")"
   ]
  },
  {
   "cell_type": "code",
   "execution_count": 8,
   "metadata": {},
   "outputs": [],
   "source": []
  }
 ],
 "metadata": {
  "kernelspec": {
   "display_name": "Julia 1.9.3",
   "language": "julia",
   "name": "julia-1.9"
  },
  "language_info": {
   "file_extension": ".jl",
   "mimetype": "application/julia",
   "name": "julia",
   "version": "1.9.3"
  }
 },
 "nbformat": 4,
 "nbformat_minor": 2
}
