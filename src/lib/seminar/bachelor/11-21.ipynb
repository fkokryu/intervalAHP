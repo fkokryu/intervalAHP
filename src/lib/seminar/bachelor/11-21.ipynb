{
 "cells": [
  {
   "cell_type": "markdown",
   "metadata": {},
   "source": [
    "# 11月21日　ゼミ"
   ]
  },
  {
   "cell_type": "code",
   "execution_count": 1,
   "metadata": {},
   "outputs": [
    {
     "data": {
      "text/plain": [
       "solvetPerfectIncorporationLP (generic function with 1 method)"
      ]
     },
     "metadata": {},
     "output_type": "display_data"
    }
   ],
   "source": [
    "using LaTeXStrings\n",
    "include(\"../display/display-crisp-matrix.jl\")\n",
    "include(\"../display/display-interval-vector.jl\")\n",
    "include(\"../entani/partial-incorporarion.jl\")\n",
    "include(\"../ttimes/optimal-value.jl\")\n",
    "include(\"../ttimes/t-perfect.jl\")"
   ]
  },
  {
   "cell_type": "code",
   "execution_count": 2,
   "metadata": {},
   "outputs": [
    {
     "data": {
      "text/plain": [
       "4×4 Matrix{Float64}:\n",
       " 1.0  1.0       2.0       2.0\n",
       " 1.0  1.0       3.0       1.0\n",
       " 0.5  0.333333  1.0       3.0\n",
       " 0.5  1.0       0.333333  1.0"
      ]
     },
     "metadata": {},
     "output_type": "display_data"
    }
   ],
   "source": [
    "A₁ = [\n",
    "    1 2 3 4\n",
    "    1/2 1 2 3\n",
    "    1/3 1/2 1 2\n",
    "    1/4 1/3 1/2 1\n",
    "]\n",
    "\n",
    "A₂ = [\n",
    "    1 3 3 4\n",
    "    1/3 1 3 3\n",
    "    1/3 1/3 1 4\n",
    "    1/4 1/3 1/4 1\n",
    "]\n",
    "\n",
    "A₃ = [\n",
    "    1 1 2 2\n",
    "    1 1 3 1\n",
    "    1/2 1/3 1 3\n",
    "    1/2 1 1/3 1\n",
    "]"
   ]
  },
  {
   "cell_type": "markdown",
   "metadata": {},
   "source": [
    "# partial incorporation approachの実装\n",
    "\n",
    "$$\n",
    "    \\begin{align}\n",
    "        \\begin{split}\n",
    "            \\text{minimize} ~~ & ~~ \\sum_{i\\in N} (w_{i}^{U} - w_{i}^{L}) \\\\\n",
    "            \\text{subject to}  ~~ & ~~ \\sum_{i\\in N} (w_{ki}^{U} - w_{ki}^{L}) \\leq \\hat{d_{k}} , k\\in M \\\\\n",
    "            ~~ & ~~ w_{ki}^{L}\\leq a_{kij}w_{kj}^{R},\\, a_{kij}w_{kj}^{L}\\leq w_{ki}^{U},\\, i,j,\\in N(i<j) , k\\in M\\\\\n",
    "            ~~ & ~~ \\sum_{j\\in N\\setminus i} w_{kj}^{R} + w_{ki}^{L}\\geq 1, k\\in M, i\\in N, \\\\\n",
    "            ~~ & ~~ \\sum_{j\\in N\\setminus i} w_{kj}^{L} + w_{ki}^{U}\\leq 1, k\\in M, i\\in N, \\\\\n",
    "            ~~ & ~~ \\sum_{i\\in N} w_{ki} = 1, k\\in M, \\\\\n",
    "            ~~ & ~~ \\epsilon \\leq w_{i}^{L}\\leq w_{ki}\\leq w_{ki}^{U}, \\epsilon \\leq w_{ki}^{L}\\leq w_{ki}\\leq w_{ki}^{U}, k\\in M, i\\in N.\n",
    "        \\end{split}\n",
    "    \\end{align}\n",
    "$$\n"
   ]
  },
  {
   "cell_type": "code",
   "execution_count": 10,
   "metadata": {},
   "outputs": [
    {
     "data": {
      "text/latex": [
       "$W = \\begin{pmatrix} \\left[ 0.375, 0.571 \\right] \\\\ \\left[ 0.214, 0.25 \\right] \\\\ \\left[ 0.167, 0.167 \\right] \\\\ \\left[ 0.048, 0.208 \\right] \\end{pmatrix}$"
      ],
      "text/plain": [
       "L\"$W = \\begin{pmatrix} \\left[ 0.375, 0.571 \\right] \\\\ \\left[ 0.214, 0.25 \\right] \\\\ \\left[ 0.167, 0.167 \\right] \\\\ \\left[ 0.048, 0.208 \\right] \\end{pmatrix}$\""
      ]
     },
     "metadata": {},
     "output_type": "display_data"
    }
   ],
   "source": [
    "solution = solvePartialIncorporationLP([A₁, A₂, A₃])\n",
    "W = solution.W\n",
    "display(L\"W = %$(intervalVectorLaTeXString(W))\")"
   ]
  },
  {
   "cell_type": "code",
   "execution_count": 11,
   "metadata": {},
   "outputs": [
    {
     "data": {
      "text/plain": [
       "0.39285714285714335"
      ]
     },
     "metadata": {},
     "output_type": "display_data"
    }
   ],
   "source": [
    "d = solution.optimalValue"
   ]
  },
  {
   "cell_type": "markdown",
   "metadata": {},
   "source": [
    "# 区間AHP問題に対して重みをp倍する\n",
    "論文の各個人の区間重みを求める問題\n",
    "$$\n",
    "    \\begin{align}\n",
    "        \\begin{split}\n",
    "            \\text{minimize} ~~ & ~~ \\sum_{i\\in N} (w_{ki}^{U} - w_{ki}^{L}) \\\\\n",
    "            \\text{subject to} ~~ & ~~ w_{ki}^{L}\\leq a_{kij}w_{kj}^{R},\\, a_{kij}w_{kj}^{L}\\leq w_{ki}^{U},\\, i,j,\\in N(i<j) \\\\\n",
    "            ~~ & ~~ \\sum_{j\\in N\\setminus i} w_{kj}^{R} + w_{ki}^{L}\\geq 1, i\\in N, \\\\\n",
    "            ~~ & ~~ \\sum_{j\\in N\\setminus i} w_{kj}^{L} + w_{ki}^{U}\\leq 1, i\\in N, \\\\\n",
    "            ~~ & ~~ w_{ki}^{U}\\geq w_{ki}^{L}\\geq \\epsilon, i\\in N. \n",
    "        \\end{split}\n",
    "    \\end{align}\n",
    "$$\n",
    "\n",
    "この問題によって、各個人の区間重みが求まる\n",
    "\n",
    "曖昧性があることを利用して、うまく意見を統合する目的で、この区間を広げたり狭めたりしてもいいんじゃないか？\n",
    "\n",
    "重みをp倍した問題を考える。pは以下のように定義する\n",
    "$$\n",
    "    \\begin{align}\n",
    "        \\begin{split}\n",
    "            \n",
    "            ~~ & ~~ p = \\frac{1}{\\sum_{i\\in N} \\frac{(w_{ki}^{U} + w_{ki}^{L})}{2}} \\\\\n",
    "            ~~ & ~~ v_{ki}^{R} = pw_{ki}^{U} , v_{ki}^{L} = pw_{ki}^{L} \\\\\n",
    "        \\end{split}\n",
    "    \\end{align}\n",
    "$$\n",
    "\n",
    "つまり下のような問題\n",
    "$$\n",
    "    \\begin{align}\n",
    "        \\begin{split}\n",
    "            \\text{minimize} ~~ & ~~ \\frac{\\sum_{i\\in N} (w_{ki}^{U} - w_{ki}^{L})}{\\sum_{i\\in N} \\frac{(w_{ki}^{U} + w_{ki}^{L})}{2}} \\\\\n",
    "            \\text{subject to} ~~ & ~~ ...\n",
    "        \\end{split}\n",
    "    \\end{align}\n",
    "$$\n",
    "\n",
    "上の$v$を用いて書くと下のような問題\n",
    "\n",
    "$$\n",
    "    \\begin{align}\n",
    "        \\begin{split}\n",
    "            \\text{minimize} ~~ & ~~ \\sum_{i\\in N} (v_{ki}^{R} - v_{ki}^{L}) \\\\\n",
    "            \\text{subject to} ~~ & ~~ v_{ki}^{L}\\leq a_{kij}v_{kj}^{R},\\, a_{kij}v_{kj}^{L}\\leq v_{ki}^{R},\\, i,j,\\in N(i<j) \\\\\n",
    "            ~~ & ~~ \\sum_{j\\in N\\setminus i} v_{kj}^{R} + v_{ki}^{L}\\geq p, i\\in N, \\\\\n",
    "            ~~ & ~~ \\sum_{j\\in N\\setminus i} v_{kj}^{L} + v_{ki}^{R}\\leq p, i\\in N, \\\\\n",
    "            ~~ & ~~ v_{ki}^{R}\\geq v_{ki}^{L}\\geq \\epsilon, i\\in N. \n",
    "        \\end{split}\n",
    "    \\end{align}\n",
    "$$\n",
    "\n",
    "これが下の問題と同値である\n",
    "\n",
    "$$\n",
    "    \\begin{align}\n",
    "        \\begin{split}\n",
    "            \\text{minimize} ~~ & ~~ \\sum_{i\\in N} (w_{ki}^{U} - w_{ki}^{L}) \\\\\n",
    "            \\text{subject to} ~~ & ~~ w_{ki}^{L}\\leq a_{kij}w_{kj}^{R},\\, a_{kij}w_{kj}^{L}\\leq w_{ki}^{U},\\, i,j,\\in N(i<j) \\\\\n",
    "            ~~ & ~~ \\sum_{j\\in N\\setminus i} w_{kj}^{R} + w_{ki}^{L}\\geq 1, i\\in N, \\\\\n",
    "            ~~ & ~~ \\sum_{j\\in N\\setminus i} w_{kj}^{L} + w_{ki}^{U}\\leq 1, i\\in N, \\\\\n",
    "            ~~ & ~~ \\sum_{i\\in N} (w_{ki}^{U} + w_{ki}^{L}) = 2 \\\\\n",
    "            ~~ & ~~ w_{ki}^{U}\\geq w_{ki}^{L}\\geq \\epsilon, i\\in N. \n",
    "        \\end{split}\n",
    "    \\end{align}\n",
    "$$\n"
   ]
  },
  {
   "cell_type": "code",
   "execution_count": 5,
   "metadata": {},
   "outputs": [
    {
     "data": {
      "text/latex": [
       "$V = \\begin{pmatrix} \\left[ 0.5, 0.5 \\right] \\\\ \\left[ 0.25, 0.25 \\right] \\\\ \\left[ 0.125, 0.167 \\right] \\\\ \\left[ 0.083, 0.125 \\right] \\end{pmatrix}$"
      ],
      "text/plain": [
       "L\"$V = \\begin{pmatrix} \\left[ 0.5, 0.5 \\right] \\\\ \\left[ 0.25, 0.25 \\right] \\\\ \\left[ 0.125, 0.167 \\right] \\\\ \\left[ 0.083, 0.125 \\right] \\end{pmatrix}$\""
      ]
     },
     "metadata": {},
     "output_type": "display_data"
    }
   ],
   "source": [
    "solution = solveCrispAHPLP(A₁)\n",
    "V = solution.V\n",
    "display(L\"V = %$(intervalVectorLaTeXString(V))\")"
   ]
  },
  {
   "cell_type": "code",
   "execution_count": 6,
   "metadata": {},
   "outputs": [
    {
     "data": {
      "text/plain": [
       "0.08333333333333326"
      ]
     },
     "metadata": {},
     "output_type": "display_data"
    }
   ],
   "source": [
    "d = solution.optimalValue"
   ]
  },
  {
   "cell_type": "markdown",
   "metadata": {},
   "source": [
    "### 質問\n",
    "perfect incorporation approach\n",
    "\n",
    "$$\n",
    "    \\begin{align}\n",
    "        \\begin{split}\n",
    "            \\text{minimize} ~~ & ~~ \\sum_{i\\in N} (w_{i}^{U} - w_{i}^{L}) \\\\\n",
    "            \\text{subject to} ~~ & ~~ \\sum_{i\\in N} (w_{ki}^{U} - w_{ki}^{L}) \\leq \\hat{d_{k}} , k\\in M \\\\\n",
    "            ~~ & ~~ w_{ki}^{L}\\leq a_{kij}w_{kj}^{R},\\, a_{kij}w_{kj}^{L}\\leq w_{ki}^{U},\\, i,j,\\in N(i<j) , k\\in M\\\\\n",
    "            ~~ & ~~ \\sum_{j\\in N\\setminus i} w_{kj}^{R} + w_{ki}^{L}\\geq 1, k\\in M, i\\in N, \\\\\n",
    "            ~~ & ~~ \\sum_{j\\in N\\setminus i} w_{kj}^{L} + w_{ki}^{U}\\leq 1, k\\in M, i\\in N, \\\\\n",
    "            ~~ & ~~ \\epsilon \\leq w_{i}^{L}\\leq w_{ki}^{L}\\leq w_{ki}^{U} \\leq w_{i}^{U}, k\\in M, i\\in N.\n",
    "        \\end{split}\n",
    "    \n",
    "    \\end{align}\n",
    "$$\n",
    "\n",
    "重みをt倍するときに、kごとに$t_{k}$みたいな感じにするのか？"
   ]
  },
  {
   "cell_type": "markdown",
   "metadata": {},
   "source": []
  }
 ],
 "metadata": {
  "kernelspec": {
   "display_name": "Julia 1.9.3",
   "language": "julia",
   "name": "julia-1.9"
  },
  "language_info": {
   "file_extension": ".jl",
   "mimetype": "application/julia",
   "name": "julia",
   "version": "1.9.3"
  }
 },
 "nbformat": 4,
 "nbformat_minor": 2
}
