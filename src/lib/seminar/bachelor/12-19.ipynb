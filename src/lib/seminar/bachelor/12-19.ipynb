{
 "cells": [
  {
   "cell_type": "markdown",
   "metadata": {},
   "source": [
    "# 12月19日 ゼミ"
   ]
  },
  {
   "cell_type": "markdown",
   "metadata": {},
   "source": [
    "## 各統合手法の意味合い"
   ]
  },
  {
   "cell_type": "markdown",
   "metadata": {},
   "source": [
    "### 区間入力区間重要度推定の意味\n",
    "\n",
    "上近似(外側から推定)\n",
    "$$\n",
    "\\begin{align}\n",
    "    \\begin{split}\n",
    "        \\frac{w_{i}^{\\rm L}}{w_{j}^{\\rm U}}\\leq a_{ij}^{\\rm L}\\leq a_{ij}^{\\rm U}\\leq \\frac{w_{i}^{\\rm U}}{w_{j}^{\\rm L}}, i,j\\in N, i\\neq j\\\\\n",
    "        \\Rightarrow w_{i}^{\\rm L}\\leq a_{ij}^{\\rm L}w_{j}^{\\rm U} , a_{ij}^{\\rm U}w_{j}^{\\rm L}\\leq w_{i}^{\\rm U}, i,j\\in N, i\\neq j\n",
    "    \\end{split}\n",
    "\\end{align}\n",
    "$$\n",
    "\n",
    "これは、$a_{ij}$として考えられるもの全部を含んでる区間を求めてる\n",
    "\n",
    "\n",
    "下近似(内側から推定)\n",
    "$$\n",
    "\\begin{align}\n",
    "    \\begin{split}\n",
    "        a_{ij}^{\\rm L}\\leq \\frac{w_{i}^{\\rm L}}{w_{j}^{\\rm U}}\\leq \\frac{w_{i}^{\\rm U}}{w_{j}^{\\rm L}}\\leq a_{ij}^{\\rm U}, i,j\\in N, i\\neq j\\\\\n",
    "        \\Rightarrow a_{ij}^{\\rm L}w_{j}^{\\rm U}\\leq w_{i}^{\\rm L} , w_{i}^{\\rm U}\\leq a_{ij}^{\\rm U}w_{j}^{\\rm L}, i,j\\in N, i\\neq j\n",
    "    \\end{split}\n",
    "\\end{align}\n",
    "$$\n",
    "\n",
    "これは、あり得ないところは削除、ありうるか、確信はできないけどあり得ないとは言い切れないものを含む区間"
   ]
  },
  {
   "cell_type": "markdown",
   "metadata": {},
   "source": [
    "### 2種類の区間入力区間重要度推定と3種類の統合手法　\n",
    "\n",
    "\n",
    "わからなかったので教えて欲しいです。"
   ]
  },
  {
   "cell_type": "markdown",
   "metadata": {},
   "source": [
    "|  | Perfect Incorporation | Common Ground | Partial  |\n",
    "|----------------|-----------------------|-----------------------|-----------------------|\n",
    "| 上近似         |少なくとも1人が許容するかもしれない重みの集合の近似(全部の点でAがBより良ければみんながAがいいというだろう)|推定したい重みが各個人が支持することが間違いない重みとすれば全員が支持する重みの集合(どこかの点でAがBより優れていたらAの方が良いことに全員が同意)|推定したい重みが各個人が支持することが間違いない重みとすれば全ての点でAがBより優れていたらAの方が良い|\n",
    "| 下近似         |全員が一致して支持しないとは言い切れない重みの集合(全部の点でAがBより良ければみんながAがいいと(より?)いうだろう) その外側は誰も支持してない|一番存在しない可能性が高い,誰もが否定しない重みの集合(ある点でAがBより優れていたらAの方が良いことを認めうる)|全ての点で言えればみんなが支持するかもしれない(1点だけで繋がってるかもしれない)|\n"
   ]
  },
  {
   "cell_type": "markdown",
   "metadata": {},
   "source": [
    "## 年始のゼミまでに進めておくこと"
   ]
  },
  {
   "cell_type": "markdown",
   "metadata": {},
   "source": [
    "###  シミュレーション\n",
    "\n",
    "perfectとpartialは幅が狭くなったらいい　→ どれくらいの割合で幅が狭くなったかとどれくらい狭まったか  最適値比較して小さくなってる割合  \n",
    "commonは幅が広くなったらいい → どれくらいの割合で幅が広くなったかとどれくらい広まったか  \n",
    "(または共通部分がないものが共通部分があるようになるといい) → 共通部分がないような場合にどれくらいの割合でできるようになるか  \n",
    "最適値をならべる  \n",
    "どんなPCMを使うのか？クリスプ  \n",
    "→対数正規分布で乱数生成して戻す、点の周りの半径で（順々に）今回は近いものばかりでもいいかも  \n",
    "a_ijでバラつかせるか、重みでバラつかせるか\n",
    "何人の意見統合にするか？  \n",
    "→5人~10人(少なくとも3人) とりあえず5人  \n",
    "なんパターンやるか？  \n",
    "→  \n",
    "\n",
    "卒論までにこれをやり切る"
   ]
  },
  {
   "cell_type": "markdown",
   "metadata": {},
   "source": [
    "### 区間入力にした場合のプログラム\n",
    "\n",
    "入力のPCMはどうするか？  \n",
    "→中心の整合  \n",
    "こちらも何かしらシミュレーションを回すのか？  \n",
    "→  "
   ]
  },
  {
   "cell_type": "markdown",
   "metadata": {},
   "source": [
    "### 統合の際に最適性を緩和する話\n",
    "\n",
    "問題のどこを変えたらいいのか？  \n",
    "→  \n",
    "\n",
    "$\\hat{d_{k}}$ から $\\hat{d_{k}} + \\epsilon$ にする...？  \n",
    "これもできたら同じ条件でシミュレーション回してどれくらい共通部分が増えるか見たい"
   ]
  },
  {
   "cell_type": "markdown",
   "metadata": {},
   "source": []
  }
 ],
 "metadata": {
  "kernelspec": {
   "display_name": "Julia 1.9.3",
   "language": "julia",
   "name": "julia-1.9"
  },
  "language_info": {
   "file_extension": ".jl",
   "mimetype": "application/julia",
   "name": "julia",
   "version": "1.9.3"
  }
 },
 "nbformat": 4,
 "nbformat_minor": 2
}
