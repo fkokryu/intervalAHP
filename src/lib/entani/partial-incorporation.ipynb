{
 "cells": [
  {
   "cell_type": "code",
   "execution_count": 1,
   "metadata": {},
   "outputs": [],
   "source": [
    "using LaTeXStrings"
   ]
  },
  {
   "cell_type": "code",
   "execution_count": 2,
   "metadata": {},
   "outputs": [
    {
     "data": {
      "text/plain": [
       "solvePartialIncorporationLP (generic function with 1 method)"
      ]
     },
     "metadata": {},
     "output_type": "display_data"
    }
   ],
   "source": [
    "include(\"../display/display-crisp-matrix.jl\")\n",
    "include(\"../display/display-interval-vector.jl\")\n",
    "include(\"./partial-incorporarion.jl\")"
   ]
  },
  {
   "cell_type": "code",
   "execution_count": 3,
   "metadata": {},
   "outputs": [
    {
     "data": {
      "text/plain": [
       "4×4 Matrix{Float64}:\n",
       " 1.0  1.0       2.0       2.0\n",
       " 1.0  1.0       3.0       1.0\n",
       " 0.5  0.333333  1.0       3.0\n",
       " 0.5  1.0       0.333333  1.0"
      ]
     },
     "metadata": {},
     "output_type": "display_data"
    }
   ],
   "source": [
    "A₁ = [\n",
    "    1 2 3 4\n",
    "    1/2 1 2 3\n",
    "    1/3 1/2 1 2\n",
    "    1/4 1/3 1/2 1\n",
    "]\n",
    "\n",
    "A₂ = [\n",
    "    1 3 3 4\n",
    "    1/3 1 3 3\n",
    "    1/3 1/3 1 4\n",
    "    1/4 1/3 1/4 1\n",
    "]\n",
    "\n",
    "A₃ = [\n",
    "    1 1 2 2\n",
    "    1 1 3 1\n",
    "    1/2 1/3 1 3\n",
    "    1/2 1 1/3 1\n",
    "]"
   ]
  },
  {
   "cell_type": "code",
   "execution_count": 4,
   "metadata": {},
   "outputs": [
    {
     "name": "stdout",
     "output_type": "stream",
     "text": [
      "[0.08333333333333348, 0.23809523809523814, 0.3749999999999998]"
     ]
    },
    {
     "ename": "MathOptInterface.ResultIndexBoundsError{MathOptInterface.VariablePrimal}",
     "evalue": "Result index of attribute MathOptInterface.VariablePrimal(1) out of bounds. There are currently 0 solution(s) in the model.",
     "output_type": "error",
     "traceback": [
      "Result index of attribute MathOptInterface.VariablePrimal(1) out of bounds. There are currently 0 solution(s) in the model.\n",
      "\n",
      "Stacktrace:\n",
      "  [1] check_result_index_bounds\n",
      "    @ /opt/julia/packages/MathOptInterface/pgWRA/src/attributes.jl:207 [inlined]\n",
      "  [2] get\n",
      "    @ /opt/julia/packages/HiGHS/rDeTZ/src/MOI_wrapper.jl:2016 [inlined]\n",
      "  [3] get(b::MathOptInterface.Bridges.LazyBridgeOptimizer{HiGHS.Optimizer}, attr::MathOptInterface.VariablePrimal, index::MathOptInterface.VariableIndex)\n",
      "    @ MathOptInterface.Bridges /opt/julia/packages/MathOptInterface/pgWRA/src/Bridges/bridge_optimizer.jl:1202\n",
      "  [4] get(model::MathOptInterface.Utilities.CachingOptimizer{MathOptInterface.Bridges.LazyBridgeOptimizer{HiGHS.Optimizer}, MathOptInterface.Utilities.UniversalFallback{MathOptInterface.Utilities.Model{Float64}}}, attr::MathOptInterface.VariablePrimal, index::MathOptInterface.VariableIndex)\n",
      "    @ MathOptInterface.Utilities /opt/julia/packages/MathOptInterface/pgWRA/src/Utilities/cachingoptimizer.jl:911\n",
      "  [5] _moi_get_result(::MathOptInterface.Utilities.CachingOptimizer{MathOptInterface.Bridges.LazyBridgeOptimizer{HiGHS.Optimizer}, MathOptInterface.Utilities.UniversalFallback{MathOptInterface.Utilities.Model{Float64}}}, ::MathOptInterface.VariablePrimal, ::Vararg{Any})\n",
      "    @ JuMP /opt/julia/packages/JuMP/ToPd2/src/optimizer_interface.jl:663\n",
      "  [6] get(model::Model, attr::MathOptInterface.VariablePrimal, v::VariableRef)\n",
      "    @ JuMP /opt/julia/packages/JuMP/ToPd2/src/optimizer_interface.jl:703\n",
      "  [7] value(v::VariableRef; result::Int64)\n",
      "    @ JuMP /opt/julia/packages/JuMP/ToPd2/src/variables.jl:1693\n",
      "  [8] value\n",
      "    @ /opt/julia/packages/JuMP/ToPd2/src/variables.jl:1692 [inlined]\n",
      "  [9] _broadcast_getindex_evalf\n",
      "    @ ./broadcast.jl:683 [inlined]\n",
      " [10] _broadcast_getindex\n",
      "    @ ./broadcast.jl:656 [inlined]\n",
      " [11] getindex\n",
      "    @ ./broadcast.jl:610 [inlined]\n",
      " [12] macro expansion\n",
      "    @ ./broadcast.jl:974 [inlined]\n",
      " [13] macro expansion\n",
      "    @ ./simdloop.jl:77 [inlined]\n",
      " [14] copyto!\n",
      "    @ ./broadcast.jl:973 [inlined]\n",
      " [15] copyto!\n",
      "    @ ./broadcast.jl:926 [inlined]\n",
      " [16] copy\n",
      "    @ ./broadcast.jl:898 [inlined]\n",
      " [17] materialize\n",
      "    @ ./broadcast.jl:873 [inlined]\n",
      " [18] solvePartialIncorporationLP(matrices::Vector{Matrix{Float64}})\n",
      "    @ Main /workspaces/intervalAHP/src/lib/entani/partial-incorporarion.jl:104\n",
      " [19] top-level scope\n",
      "    @ /workspaces/intervalAHP/src/lib/entani/partial-incorporation.ipynb:1"
     ]
    }
   ],
   "source": [
    "solution = solvePartialIncorporationLP([A₁, A₂, A₃])\n",
    "W = solution.W"
   ]
  },
  {
   "cell_type": "code",
   "execution_count": 5,
   "metadata": {},
   "outputs": [
    {
     "ename": "UndefVarError",
     "evalue": "UndefVarError: `W` not defined",
     "output_type": "error",
     "traceback": [
      "UndefVarError: `W` not defined\n",
      "\n",
      "Stacktrace:\n",
      " [1] top-level scope\n",
      "   @ /workspaces/intervalAHP/src/lib/entani/partial-incorporation.ipynb:1"
     ]
    }
   ],
   "source": [
    "display(L\"W = %$(intervalVectorLaTeXString(W))\")"
   ]
  },
  {
   "cell_type": "code",
   "execution_count": 6,
   "metadata": {},
   "outputs": [],
   "source": []
  }
 ],
 "metadata": {
  "kernelspec": {
   "display_name": "Julia 1.9.3",
   "language": "julia",
   "name": "julia-1.9"
  },
  "language_info": {
   "file_extension": ".jl",
   "mimetype": "application/julia",
   "name": "julia",
   "version": "1.9.3"
  }
 },
 "nbformat": 4,
 "nbformat_minor": 2
}
