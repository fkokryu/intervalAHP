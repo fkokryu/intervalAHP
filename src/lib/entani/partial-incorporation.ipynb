{
 "cells": [
  {
   "cell_type": "code",
   "execution_count": 1,
   "metadata": {},
   "outputs": [],
   "source": [
    "using LaTeXStrings"
   ]
  },
  {
   "cell_type": "code",
   "execution_count": 2,
   "metadata": {},
   "outputs": [
    {
     "ename": "LoadError",
     "evalue": "LoadError: syntax: \"1\" is not a valid function argument name around /opt/julia/packages/JuMP/D44Aq/src/Containers/macro.jl:301\nin expression starting at /workspaces/intervalAHP/src/lib/entani/partial-incorporarion.jl:20",
     "output_type": "error",
     "traceback": [
      "LoadError: syntax: \"1\" is not a valid function argument name around /opt/julia/packages/JuMP/D44Aq/src/Containers/macro.jl:301\n",
      "in expression starting at /workspaces/intervalAHP/src/lib/entani/partial-incorporarion.jl:20\n",
      "\n",
      "Stacktrace:\n",
      " [1] top-level scope\n",
      "   @ /workspaces/intervalAHP/src/lib/entani/partial-incorporarion.jl:20"
     ]
    }
   ],
   "source": [
    "include(\"../display/display-crisp-matrix.jl\")\n",
    "include(\"../display/display-interval-vector.jl\")\n",
    "include(\"./partial-incorporarion.jl\")"
   ]
  },
  {
   "cell_type": "code",
   "execution_count": 3,
   "metadata": {},
   "outputs": [
    {
     "data": {
      "text/plain": [
       "4×4 Matrix{Float64}:\n",
       " 1.0  1.0       2.0       2.0\n",
       " 1.0  1.0       3.0       1.0\n",
       " 0.5  0.333333  1.0       3.0\n",
       " 0.5  1.0       0.333333  1.0"
      ]
     },
     "metadata": {},
     "output_type": "display_data"
    }
   ],
   "source": [
    "A₁ = [\n",
    "    1 2 3 4\n",
    "    1/2 1 2 3\n",
    "    1/3 1/2 1 2\n",
    "    1/4 1/3 1/2 1\n",
    "]\n",
    "\n",
    "A₂ = [\n",
    "    1 3 3 4\n",
    "    1/3 1 3 3\n",
    "    1/3 1/3 1 4\n",
    "    1/4 1/3 1/4 1\n",
    "]\n",
    "\n",
    "A₃ = [\n",
    "    1 1 2 2\n",
    "    1 1 3 1\n",
    "    1/2 1/3 1 3\n",
    "    1/2 1 1/3 1\n",
    "]"
   ]
  },
  {
   "cell_type": "code",
   "execution_count": 4,
   "metadata": {},
   "outputs": [
    {
     "ename": "UndefVarError",
     "evalue": "UndefVarError: `solvePartialIncorporationLP` not defined",
     "output_type": "error",
     "traceback": [
      "UndefVarError: `solvePartialIncorporationLP` not defined\n",
      "\n",
      "Stacktrace:\n",
      " [1] top-level scope\n",
      "   @ /workspaces/intervalAHP/src/lib/entani/partial-incorporation.ipynb:1"
     ]
    }
   ],
   "source": [
    "solution = solvePartialIncorporationLP([A₁, A₂, A₃])\n",
    "W = solution.W"
   ]
  },
  {
   "cell_type": "code",
   "execution_count": 5,
   "metadata": {},
   "outputs": [
    {
     "ename": "UndefVarError",
     "evalue": "UndefVarError: `W` not defined",
     "output_type": "error",
     "traceback": [
      "UndefVarError: `W` not defined\n",
      "\n",
      "Stacktrace:\n",
      " [1] top-level scope\n",
      "   @ /workspaces/intervalAHP/src/lib/entani/partial-incorporation.ipynb:1"
     ]
    }
   ],
   "source": [
    "display(L\"W = %$(intervalVectorLaTeXString(W))\")"
   ]
  },
  {
   "cell_type": "code",
   "execution_count": 6,
   "metadata": {},
   "outputs": [],
   "source": []
  }
 ],
 "metadata": {
  "kernelspec": {
   "display_name": "Julia 1.9.3",
   "language": "julia",
   "name": "julia-1.9"
  },
  "language_info": {
   "file_extension": ".jl",
   "mimetype": "application/julia",
   "name": "julia",
   "version": "1.9.3"
  }
 },
 "nbformat": 4,
 "nbformat_minor": 2
}
