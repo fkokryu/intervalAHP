{
 "cells": [
  {
   "cell_type": "code",
   "execution_count": 1,
   "metadata": {},
   "outputs": [],
   "source": [
    "using LaTeXStrings"
   ]
  },
  {
   "cell_type": "code",
   "execution_count": 2,
   "metadata": {},
   "outputs": [
    {
     "data": {
      "text/plain": [
       "solveCommonGroundLP (generic function with 1 method)"
      ]
     },
     "metadata": {},
     "output_type": "display_data"
    }
   ],
   "source": [
    "include(\"../display/display-crisp-matrix.jl\")\n",
    "include(\"../display/display-interval-vector.jl\")\n",
    "include(\"./common-ground.jl\")"
   ]
  },
  {
   "cell_type": "code",
   "execution_count": 3,
   "metadata": {},
   "outputs": [
    {
     "data": {
      "text/plain": [
       "4×4 Matrix{Float64}:\n",
       " 1.0       1.0       2.0       6.0\n",
       " 1.0       1.0       3.0       2.0\n",
       " 0.5       0.333333  1.0       3.0\n",
       " 0.166667  0.5       0.333333  1.0"
      ]
     },
     "metadata": {},
     "output_type": "display_data"
    }
   ],
   "source": [
    "A₁ = [\n",
    "    1 1 2 2\n",
    "    1 1 3 1\n",
    "    1/2 1/3 1 3\n",
    "    1/2 1 1/3 1\n",
    "]\n",
    "\n",
    "A₂ = [\n",
    "    1 1 3 3\n",
    "    1 1 2 5\n",
    "    1/3 1/2 1 2\n",
    "    1/3 1/5 1/2 1\n",
    "]\n",
    "\n",
    "A₃ = [\n",
    "    1 1 2 6\n",
    "    1 1 3 2\n",
    "    1/2 1/3 1 3\n",
    "    1/6 1/2 1/3 1\n",
    "]"
   ]
  },
  {
   "cell_type": "code",
   "execution_count": 4,
   "metadata": {},
   "outputs": [
    {
     "data": {
      "text/plain": [
       "4-element Vector{Interval{Float64}}:\n",
       " [0.374999, 0.375001]\n",
       " [0.366666, 0.375001]\n",
       " [0.124999, 0.183334]\n",
       " [0.0749999, 0.125]"
      ]
     },
     "metadata": {},
     "output_type": "display_data"
    }
   ],
   "source": [
    "solution = solveCommonGroundLP([A₁, A₂, A₃])\n",
    "W_common_entani = solution.W_common_entani"
   ]
  },
  {
   "cell_type": "code",
   "execution_count": 5,
   "metadata": {},
   "outputs": [
    {
     "data": {
      "text/latex": [
       "$W_{common_entani} = \\begin{pmatrix} \\left[ 0.375, 0.375 \\right] \\\\ \\left[ 0.367, 0.375 \\right] \\\\ \\left[ 0.125, 0.183 \\right] \\\\ \\left[ 0.075, 0.125 \\right] \\end{pmatrix}$"
      ],
      "text/plain": [
       "L\"$W_{common_entani} = \\begin{pmatrix} \\left[ 0.375, 0.375 \\right] \\\\ \\left[ 0.367, 0.375 \\right] \\\\ \\left[ 0.125, 0.183 \\right] \\\\ \\left[ 0.075, 0.125 \\right] \\end{pmatrix}$\""
      ]
     },
     "metadata": {},
     "output_type": "display_data"
    }
   ],
   "source": [
    "display(L\"W_{common_entani} = %$(intervalVectorLaTeXString(W_common_entani))\")"
   ]
  },
  {
   "cell_type": "code",
   "execution_count": 6,
   "metadata": {},
   "outputs": [
    {
     "data": {
      "text/plain": [
       "0.11666666666666736"
      ]
     },
     "metadata": {},
     "output_type": "display_data"
    }
   ],
   "source": [
    "d = solution.optimalValue_common_entani"
   ]
  },
  {
   "cell_type": "code",
   "execution_count": 7,
   "metadata": {},
   "outputs": [
    {
     "data": {
      "text/plain": [
       "solveIntervalAHPLP (generic function with 1 method)"
      ]
     },
     "metadata": {},
     "output_type": "display_data"
    }
   ],
   "source": [
    "include(\"../ttimes/optimal-value.jl\")\n",
    "include(\"../interval-ahp.jl\")"
   ]
  },
  {
   "cell_type": "code",
   "execution_count": 8,
   "metadata": {},
   "outputs": [
    {
     "data": {
      "text/latex": [
       "$V1 = \\begin{pmatrix} \\left[ 0.375, 0.375 \\right] \\\\ \\left[ 0.25, 0.375 \\right] \\\\ \\left[ 0.125, 0.188 \\right] \\\\ \\left[ 0.063, 0.25 \\right] \\end{pmatrix}$"
      ],
      "text/plain": [
       "L\"$V1 = \\begin{pmatrix} \\left[ 0.375, 0.375 \\right] \\\\ \\left[ 0.25, 0.375 \\right] \\\\ \\left[ 0.125, 0.188 \\right] \\\\ \\left[ 0.063, 0.25 \\right] \\end{pmatrix}$\""
      ]
     },
     "metadata": {},
     "output_type": "display_data"
    },
    {
     "data": {
      "text/latex": [
       "$V2 = \\begin{pmatrix} \\left[ 0.375, 0.375 \\right] \\\\ \\left[ 0.367, 0.375 \\right] \\\\ \\left[ 0.125, 0.183 \\right] \\\\ \\left[ 0.075, 0.125 \\right] \\end{pmatrix}$"
      ],
      "text/plain": [
       "L\"$V2 = \\begin{pmatrix} \\left[ 0.375, 0.375 \\right] \\\\ \\left[ 0.367, 0.375 \\right] \\\\ \\left[ 0.125, 0.183 \\right] \\\\ \\left[ 0.075, 0.125 \\right] \\end{pmatrix}$\""
      ]
     },
     "metadata": {},
     "output_type": "display_data"
    }
   ],
   "source": [
    "A1 = solveCrispAHPLP(A₁)\n",
    "A2 = solveCrispAHPLP(A₂)\n",
    "display(L\"V1 = %$(intervalVectorLaTeXString(A1.W_center_1))\")\n",
    "display(L\"V2 = %$(intervalVectorLaTeXString(A2.W_center_1))\")"
   ]
  },
  {
   "cell_type": "code",
   "execution_count": 9,
   "metadata": {},
   "outputs": [
    {
     "data": {
      "text/plain": [
       "5×5 Matrix{Float64}:\n",
       " 1.0       2.0       7.0  1.0  6.0\n",
       " 0.5       1.0       1.0  1.0  3.0\n",
       " 0.142857  1.0       1.0  1.0  2.0\n",
       " 1.0       1.0       1.0  1.0  2.0\n",
       " 0.166667  0.333333  0.5  0.5  1.0"
      ]
     },
     "metadata": {},
     "output_type": "display_data"
    }
   ],
   "source": [
    "A₁ = [\n",
    "    1.0\t2.0\t2.0\t1.0\t4.0\n",
    "    0.5\t1.0\t2.0\t1.0\t2.0\n",
    "    0.5\t0.5\t1.0\t1.0\t1.0\n",
    "    1.0\t1.0\t1.0\t1.0\t2.0\n",
    "    0.25\t0.5\t1.0\t0.5\t1.0\n",
    "]\n",
    "\n",
    "A₂ = [\n",
    "    1.0\t2.0\t4.0\t1.0\t3.0\n",
    "    0.5\t1.0\t1.0\t1.0\t2.0\n",
    "    0.25\t1.0\t1.0\t1.0\t3.0\n",
    "    1.0\t1.0\t1.0\t1.0\t3.0\n",
    "    0.3333333333333330\t0.5\t0.3333333333333330\t0.3333333333333330\t1.0\n",
    "]\n",
    "\n",
    "A₃ = [\n",
    "    1.0\t2.0\t7.0\t1.0\t6.0\n",
    "    0.5\t1.0\t1.0\t1.0\t3.0\n",
    "    0.14285714285714300\t1.0\t1.0\t1.0\t2.0\n",
    "    1.0\t1.0\t1.0\t1.0\t2.0\n",
    "    0.16666666666666700\t0.3333333333333330\t0.5\t0.5\t1.0\n",
    "]"
   ]
  },
  {
   "cell_type": "code",
   "execution_count": 10,
   "metadata": {},
   "outputs": [
    {
     "data": {
      "text/latex": [
       "$V1 = \\begin{pmatrix} \\left[ 0.273, 0.364 \\right] \\\\ \\left[ 0.182, 0.182 \\right] \\\\ \\left[ 0.091, 0.182 \\right] \\\\ \\left[ 0.182, 0.273 \\right] \\\\ \\left[ 0.091, 0.091 \\right] \\end{pmatrix}$"
      ],
      "text/plain": [
       "L\"$V1 = \\begin{pmatrix} \\left[ 0.273, 0.364 \\right] \\\\ \\left[ 0.182, 0.182 \\right] \\\\ \\left[ 0.091, 0.182 \\right] \\\\ \\left[ 0.182, 0.273 \\right] \\\\ \\left[ 0.091, 0.091 \\right] \\end{pmatrix}$\""
      ]
     },
     "metadata": {},
     "output_type": "display_data"
    },
    {
     "data": {
      "text/latex": [
       "$V2 = \\begin{pmatrix} \\left[ 0.273, 0.364 \\right] \\\\ \\left[ 0.182, 0.182 \\right] \\\\ \\left[ 0.091, 0.182 \\right] \\\\ \\left[ 0.182, 0.273 \\right] \\\\ \\left[ 0.061, 0.091 \\right] \\end{pmatrix}$"
      ],
      "text/plain": [
       "L\"$V2 = \\begin{pmatrix} \\left[ 0.273, 0.364 \\right] \\\\ \\left[ 0.182, 0.182 \\right] \\\\ \\left[ 0.091, 0.182 \\right] \\\\ \\left[ 0.182, 0.273 \\right] \\\\ \\left[ 0.061, 0.091 \\right] \\end{pmatrix}$\""
      ]
     },
     "metadata": {},
     "output_type": "display_data"
    },
    {
     "data": {
      "text/latex": [
       "$V2 = \\begin{pmatrix} \\left[ 0.312, 0.364 \\right] \\\\ \\left[ 0.182, 0.182 \\right] \\\\ \\left[ 0.052, 0.182 \\right] \\\\ \\left[ 0.182, 0.312 \\right] \\\\ \\left[ 0.061, 0.091 \\right] \\end{pmatrix}$"
      ],
      "text/plain": [
       "L\"$V2 = \\begin{pmatrix} \\left[ 0.312, 0.364 \\right] \\\\ \\left[ 0.182, 0.182 \\right] \\\\ \\left[ 0.052, 0.182 \\right] \\\\ \\left[ 0.182, 0.312 \\right] \\\\ \\left[ 0.061, 0.091 \\right] \\end{pmatrix}$\""
      ]
     },
     "metadata": {},
     "output_type": "display_data"
    }
   ],
   "source": [
    "B1 = solveIntervalAHPLP(A₁)\n",
    "B2 = solveIntervalAHPLP(A₂)\n",
    "B3 = solveIntervalAHPLP(A₃)\n",
    "display(L\"V1 = %$(intervalVectorLaTeXString(B1.W))\")\n",
    "display(L\"V2 = %$(intervalVectorLaTeXString(B2.W))\")\n",
    "display(L\"V2 = %$(intervalVectorLaTeXString(B3.W))\")"
   ]
  },
  {
   "cell_type": "code",
   "execution_count": 11,
   "metadata": {},
   "outputs": [
    {
     "data": {
      "text/latex": [
       "$W_{common_entani} = \\begin{pmatrix} \\left[ 0.312, 0.364 \\right] \\\\ \\left[ 0.182, 0.182 \\right] \\\\ \\left[ 0.091, 0.182 \\right] \\\\ \\left[ 0.182, 0.273 \\right] \\\\ \\left[ 0.091, 0.091 \\right] \\end{pmatrix}$"
      ],
      "text/plain": [
       "L\"$W_{common_entani} = \\begin{pmatrix} \\left[ 0.312, 0.364 \\right] \\\\ \\left[ 0.182, 0.182 \\right] \\\\ \\left[ 0.091, 0.182 \\right] \\\\ \\left[ 0.182, 0.273 \\right] \\\\ \\left[ 0.091, 0.091 \\right] \\end{pmatrix}$\""
      ]
     },
     "metadata": {},
     "output_type": "display_data"
    }
   ],
   "source": [
    "solution = solveCommonGroundLP([A₁, A₂, A₃])\n",
    "W2_common_entani = solution.W_common_entani\n",
    "display(L\"W_{common_entani} = %$(intervalVectorLaTeXString(W2_common_entani))\")"
   ]
  }
 ],
 "metadata": {
  "kernelspec": {
   "display_name": "Julia 1.9.3",
   "language": "julia",
   "name": "julia-1.9"
  },
  "language_info": {
   "file_extension": ".jl",
   "mimetype": "application/julia",
   "name": "julia",
   "version": "1.9.3"
  }
 },
 "nbformat": 4,
 "nbformat_minor": 2
}
