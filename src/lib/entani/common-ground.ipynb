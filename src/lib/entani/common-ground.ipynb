{
 "cells": [
  {
   "cell_type": "code",
   "execution_count": 1,
   "metadata": {},
   "outputs": [],
   "source": [
    "using LaTeXStrings"
   ]
  },
  {
   "cell_type": "code",
   "execution_count": 2,
   "metadata": {},
   "outputs": [
    {
     "data": {
      "text/plain": [
       "solveCommonGroundLP (generic function with 1 method)"
      ]
     },
     "metadata": {},
     "output_type": "display_data"
    }
   ],
   "source": [
    "include(\"../display/display-crisp-matrix.jl\")\n",
    "include(\"../display/display-interval-vector.jl\")\n",
    "include(\"./common-ground.jl\")"
   ]
  },
  {
   "cell_type": "code",
   "execution_count": 3,
   "metadata": {},
   "outputs": [
    {
     "data": {
      "text/plain": [
       "5×5 Matrix{Float64}:\n",
       " 1.0       2.0  1.0       2.0  6.0\n",
       " 0.5       1.0  1.0       2.0  2.0\n",
       " 1.0       1.0  1.0       6.0  5.0\n",
       " 0.5       0.5  0.166667  1.0  1.0\n",
       " 0.166667  0.5  0.2       1.0  1.0"
      ]
     },
     "metadata": {},
     "output_type": "display_data"
    }
   ],
   "source": [
    "A₁ = [\n",
    "    1.0\t2.0\t1.0\t2.0\t5.0\n",
    "    0.5\t1.0\t1.0\t2.0\t2.0\n",
    "    1.0\t1.0\t1.0\t2.0\t2.0\n",
    "    0.5\t0.5\t0.5\t1.0\t2.0\n",
    "    0.2\t0.5\t0.5\t0.5\t1.0\n",
    "]\n",
    "\n",
    "A₂ = [\n",
    "    1.0\t2.0\t1.0\t5.0\t4.0\n",
    "    0.5\t1.0\t1.0\t1.0\t2.0\n",
    "    1.0\t1.0\t1.0\t2.0\t3.0\n",
    "    0.2\t1.0\t0.5\t1.0\t1.0\n",
    "    0.25\t0.5\t0.3333333333333330\t1.0\t1.0\n",
    "]\n",
    "\n",
    "A₃ = [\n",
    "    1.0\t2.0\t1.0\t2.0\t6.0\n",
    "    0.5\t1.0\t1.0\t2.0\t2.0\n",
    "    1.0\t1.0\t1.0\t6.0\t5.0\n",
    "    0.5\t0.5\t0.16666666666666700\t1.0\t1.0\n",
    "    0.16666666666666700\t0.5\t0.2\t1.0\t1.0\n",
    "]"
   ]
  },
  {
   "cell_type": "code",
   "execution_count": 4,
   "metadata": {},
   "outputs": [
    {
     "data": {
      "text/plain": [
       "5-element Vector{Interval{Float64}}:\n",
       " [0.307692, 0.307693]\n",
       " [0.228287, 0.228289]\n",
       " [0.258064, 0.258065]\n",
       " [0.129032, 0.129033]\n",
       " [0.076923, 0.0769231]"
      ]
     },
     "metadata": {},
     "output_type": "display_data"
    }
   ],
   "source": [
    "solution = solveCommonGroundLP([A₁, A₂, A₃])\n",
    "W_common_entani = solution.W_common_entani"
   ]
  },
  {
   "cell_type": "code",
   "execution_count": 5,
   "metadata": {},
   "outputs": [
    {
     "data": {
      "text/latex": [
       "$W_{common_entani} = \\begin{pmatrix} \\left[ 0.308, 0.308 \\right] \\\\ \\left[ 0.228, 0.228 \\right] \\\\ \\left[ 0.258, 0.258 \\right] \\\\ \\left[ 0.129, 0.129 \\right] \\\\ \\left[ 0.077, 0.077 \\right] \\end{pmatrix}$"
      ],
      "text/plain": [
       "L\"$W_{common_entani} = \\begin{pmatrix} \\left[ 0.308, 0.308 \\right] \\\\ \\left[ 0.228, 0.228 \\right] \\\\ \\left[ 0.258, 0.258 \\right] \\\\ \\left[ 0.129, 0.129 \\right] \\\\ \\left[ 0.077, 0.077 \\right] \\end{pmatrix}$\""
      ]
     },
     "metadata": {},
     "output_type": "display_data"
    }
   ],
   "source": [
    "display(L\"W_{common_entani} = %$(intervalVectorLaTeXString(W_common_entani))\")"
   ]
  },
  {
   "cell_type": "code",
   "execution_count": 6,
   "metadata": {},
   "outputs": [
    {
     "data": {
      "text/plain": [
       "3.8142855818268373e-7"
      ]
     },
     "metadata": {},
     "output_type": "display_data"
    }
   ],
   "source": [
    "d = solution.optimalValue_common_entani"
   ]
  },
  {
   "cell_type": "code",
   "execution_count": 7,
   "metadata": {},
   "outputs": [
    {
     "data": {
      "text/plain": [
       "solveIntervalAHPLP (generic function with 1 method)"
      ]
     },
     "metadata": {},
     "output_type": "display_data"
    }
   ],
   "source": [
    "include(\"../ttimes/optimal-value.jl\")\n",
    "include(\"../interval-ahp.jl\")"
   ]
  },
  {
   "cell_type": "code",
   "execution_count": 8,
   "metadata": {},
   "outputs": [
    {
     "data": {
      "text/latex": [
       "$V1 = \\begin{pmatrix} \\left[ 0.268, 0.309 \\right] \\\\ \\left[ 0.155, 0.268 \\right] \\\\ \\left[ 0.268, 0.268 \\right] \\\\ \\left[ 0.134, 0.134 \\right] \\\\ \\left[ 0.062, 0.134 \\right] \\end{pmatrix}$"
      ],
      "text/plain": [
       "L\"$V1 = \\begin{pmatrix} \\left[ 0.268, 0.309 \\right] \\\\ \\left[ 0.155, 0.268 \\right] \\\\ \\left[ 0.268, 0.268 \\right] \\\\ \\left[ 0.134, 0.134 \\right] \\\\ \\left[ 0.062, 0.134 \\right] \\end{pmatrix}$\""
      ]
     },
     "metadata": {},
     "output_type": "display_data"
    },
    {
     "data": {
      "text/latex": [
       "$V2 = \\begin{pmatrix} \\left[ 0.323, 0.323 \\right] \\\\ \\left[ 0.161, 0.242 \\right] \\\\ \\left[ 0.242, 0.323 \\right] \\\\ \\left[ 0.065, 0.161 \\right] \\\\ \\left[ 0.081, 0.081 \\right] \\end{pmatrix}$"
      ],
      "text/plain": [
       "L\"$V2 = \\begin{pmatrix} \\left[ 0.323, 0.323 \\right] \\\\ \\left[ 0.161, 0.242 \\right] \\\\ \\left[ 0.242, 0.323 \\right] \\\\ \\left[ 0.065, 0.161 \\right] \\\\ \\left[ 0.081, 0.081 \\right] \\end{pmatrix}$\""
      ]
     },
     "metadata": {},
     "output_type": "display_data"
    },
    {
     "data": {
      "text/latex": [
       "$V2 = \\begin{pmatrix} \\left[ 0.308, 0.308 \\right] \\\\ \\left[ 0.154, 0.295 \\right] \\\\ \\left[ 0.295, 0.308 \\right] \\\\ \\left[ 0.051, 0.154 \\right] \\\\ \\left[ 0.051, 0.077 \\right] \\end{pmatrix}$"
      ],
      "text/plain": [
       "L\"$V2 = \\begin{pmatrix} \\left[ 0.308, 0.308 \\right] \\\\ \\left[ 0.154, 0.295 \\right] \\\\ \\left[ 0.295, 0.308 \\right] \\\\ \\left[ 0.051, 0.154 \\right] \\\\ \\left[ 0.051, 0.077 \\right] \\end{pmatrix}$\""
      ]
     },
     "metadata": {},
     "output_type": "display_data"
    }
   ],
   "source": [
    "A1 = solveCrispAHPLP(A₁)\n",
    "A2 = solveCrispAHPLP(A₂)\n",
    "A3 = solveCrispAHPLP(A₃)\n",
    "display(L\"V1 = %$(intervalVectorLaTeXString(A1.W_center_1))\")\n",
    "display(L\"V2 = %$(intervalVectorLaTeXString(A2.W_center_1))\")\n",
    "display(L\"V2 = %$(intervalVectorLaTeXString(A3.W_center_1))\")"
   ]
  },
  {
   "cell_type": "code",
   "execution_count": 9,
   "metadata": {},
   "outputs": [
    {
     "data": {
      "text/latex": [
       "$V1 = \\begin{pmatrix} \\left[ 0.258, 0.323 \\right] \\\\ \\left[ 0.161, 0.258 \\right] \\\\ \\left[ 0.258, 0.258 \\right] \\\\ \\left[ 0.129, 0.129 \\right] \\\\ \\left[ 0.065, 0.129 \\right] \\end{pmatrix}$"
      ],
      "text/plain": [
       "L\"$V1 = \\begin{pmatrix} \\left[ 0.258, 0.323 \\right] \\\\ \\left[ 0.161, 0.258 \\right] \\\\ \\left[ 0.258, 0.258 \\right] \\\\ \\left[ 0.129, 0.129 \\right] \\\\ \\left[ 0.065, 0.129 \\right] \\end{pmatrix}$\""
      ]
     },
     "metadata": {},
     "output_type": "display_data"
    },
    {
     "data": {
      "text/latex": [
       "$V2 = \\begin{pmatrix} \\left[ 0.312, 0.312 \\right] \\\\ \\left[ 0.148, 0.234 \\right] \\\\ \\left[ 0.234, 0.312 \\right] \\\\ \\left[ 0.062, 0.148 \\right] \\\\ \\left[ 0.078, 0.078 \\right] \\end{pmatrix}$"
      ],
      "text/plain": [
       "L\"$V2 = \\begin{pmatrix} \\left[ 0.312, 0.312 \\right] \\\\ \\left[ 0.148, 0.234 \\right] \\\\ \\left[ 0.234, 0.312 \\right] \\\\ \\left[ 0.062, 0.148 \\right] \\\\ \\left[ 0.078, 0.078 \\right] \\end{pmatrix}$\""
      ]
     },
     "metadata": {},
     "output_type": "display_data"
    },
    {
     "data": {
      "text/latex": [
       "$V2 = \\begin{pmatrix} \\left[ 0.308, 0.308 \\right] \\\\ \\left[ 0.154, 0.256 \\right] \\\\ \\left[ 0.256, 0.308 \\right] \\\\ \\left[ 0.051, 0.154 \\right] \\\\ \\left[ 0.051, 0.077 \\right] \\end{pmatrix}$"
      ],
      "text/plain": [
       "L\"$V2 = \\begin{pmatrix} \\left[ 0.308, 0.308 \\right] \\\\ \\left[ 0.154, 0.256 \\right] \\\\ \\left[ 0.256, 0.308 \\right] \\\\ \\left[ 0.051, 0.154 \\right] \\\\ \\left[ 0.051, 0.077 \\right] \\end{pmatrix}$\""
      ]
     },
     "metadata": {},
     "output_type": "display_data"
    }
   ],
   "source": [
    "B1 = solveIntervalAHPLP(A₁)\n",
    "B2 = solveIntervalAHPLP(A₂)\n",
    "B3 = solveIntervalAHPLP(A₃)\n",
    "display(L\"V1 = %$(intervalVectorLaTeXString(B1.W))\")\n",
    "display(L\"V2 = %$(intervalVectorLaTeXString(B2.W))\")\n",
    "display(L\"V2 = %$(intervalVectorLaTeXString(B3.W))\")"
   ]
  },
  {
   "cell_type": "code",
   "execution_count": 24,
   "metadata": {},
   "outputs": [
    {
     "data": {
      "text/plain": [
       "1.0"
      ]
     },
     "metadata": {},
     "output_type": "display_data"
    }
   ],
   "source": [
    "sum([0.2702700902702767, 0.13449120393609015, 0.23809522920634887, 0.23809522920634887, 0.09009003009009155]+[0.27027064527025696, 0.16344942122693407, 0.23809526031746114, 0.23809526031746114, 0.11904763015873057])/2"
   ]
  },
  {
   "cell_type": "code",
   "execution_count": 20,
   "metadata": {},
   "outputs": [
    {
     "data": {
      "text/plain": [
       "5-element Vector{Float64}:\n",
       " 0.27027064527025696\n",
       " 0.16344942122693407\n",
       " 0.23809526031746114\n",
       " 0.23809526031746114\n",
       " 0.11904763015873057"
      ]
     },
     "metadata": {},
     "output_type": "display_data"
    }
   ],
   "source": [
    "[0.27027064527025696, 0.16344942122693407, 0.23809526031746114, 0.23809526031746114, 0.11904763015873057]"
   ]
  },
  {
   "cell_type": "code",
   "execution_count": 10,
   "metadata": {},
   "outputs": [
    {
     "data": {
      "text/plain": [
       "0.2220790378006871"
      ]
     },
     "metadata": {},
     "output_type": "display_data"
    },
    {
     "data": {
      "text/plain": [
       "0.25806451612903203"
      ]
     },
     "metadata": {},
     "output_type": "display_data"
    },
    {
     "data": {
      "text/plain": [
       "0.26365663322185134"
      ]
     },
     "metadata": {},
     "output_type": "display_data"
    }
   ],
   "source": [
    "display(A1.optimalValue_center_1*0.9791666666666670)\n",
    "display(A2.optimalValue_center_1)\n",
    "display(A3.optimalValue_center_1*0.9347826086956530)"
   ]
  },
  {
   "cell_type": "code",
   "execution_count": 11,
   "metadata": {},
   "outputs": [
    {
     "data": {
      "text/plain": [
       "0.2258064516129027"
      ]
     },
     "metadata": {},
     "output_type": "display_data"
    },
    {
     "data": {
      "text/plain": [
       "0.25"
      ]
     },
     "metadata": {},
     "output_type": "display_data"
    },
    {
     "data": {
      "text/plain": [
       "0.28205128205128216"
      ]
     },
     "metadata": {},
     "output_type": "display_data"
    }
   ],
   "source": [
    "display(B1.optimalValue)\n",
    "display(B2.optimalValue)\n",
    "display(B3.optimalValue)"
   ]
  },
  {
   "cell_type": "code",
   "execution_count": 12,
   "metadata": {},
   "outputs": [
    {
     "data": {
      "text/latex": [
       "$W_{common_entani} = \\begin{pmatrix} \\left[ 0.308, 0.308 \\right] \\\\ \\left[ 0.228, 0.228 \\right] \\\\ \\left[ 0.258, 0.258 \\right] \\\\ \\left[ 0.129, 0.129 \\right] \\\\ \\left[ 0.077, 0.077 \\right] \\end{pmatrix}$"
      ],
      "text/plain": [
       "L\"$W_{common_entani} = \\begin{pmatrix} \\left[ 0.308, 0.308 \\right] \\\\ \\left[ 0.228, 0.228 \\right] \\\\ \\left[ 0.258, 0.258 \\right] \\\\ \\left[ 0.129, 0.129 \\right] \\\\ \\left[ 0.077, 0.077 \\right] \\end{pmatrix}$\""
      ]
     },
     "metadata": {},
     "output_type": "display_data"
    }
   ],
   "source": [
    "solution = solveCommonGroundLP([A₁, A₂, A₃])\n",
    "W2_common_entani = solution.W_common_entani\n",
    "display(L\"W_{common_entani} = %$(intervalVectorLaTeXString(W2_common_entani))\")"
   ]
  }
 ],
 "metadata": {
  "kernelspec": {
   "display_name": "Julia 1.9.3",
   "language": "julia",
   "name": "julia-1.9"
  },
  "language_info": {
   "file_extension": ".jl",
   "mimetype": "application/julia",
   "name": "julia",
   "version": "1.9.3"
  }
 },
 "nbformat": 4,
 "nbformat_minor": 2
}
