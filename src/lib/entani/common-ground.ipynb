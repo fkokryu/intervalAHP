{
 "cells": [
  {
   "cell_type": "code",
   "execution_count": 1,
   "metadata": {},
   "outputs": [],
   "source": [
    "using LaTeXStrings"
   ]
  },
  {
   "cell_type": "code",
   "execution_count": 2,
   "metadata": {},
   "outputs": [
    {
     "data": {
      "text/plain": [
       "solveCommonGroundLP (generic function with 1 method)"
      ]
     },
     "metadata": {},
     "output_type": "display_data"
    }
   ],
   "source": [
    "include(\"../display/display-crisp-matrix.jl\")\n",
    "include(\"../display/display-interval-vector.jl\")\n",
    "include(\"./common-ground.jl\")"
   ]
  },
  {
   "cell_type": "code",
   "execution_count": 3,
   "metadata": {},
   "outputs": [
    {
     "data": {
      "text/plain": [
       "4×4 Matrix{Float64}:\n",
       " 1.0       1.0       2.0       6.0\n",
       " 1.0       1.0       3.0       2.0\n",
       " 0.5       0.333333  1.0       3.0\n",
       " 0.166667  0.5       0.333333  1.0"
      ]
     },
     "metadata": {},
     "output_type": "display_data"
    }
   ],
   "source": [
    "A₁ = [\n",
    "    1 1 2 2\n",
    "    1 1 3 1\n",
    "    1/2 1/3 1 3\n",
    "    1/2 1 1/3 1\n",
    "]\n",
    "\n",
    "A₂ = [\n",
    "    1 1 3 3\n",
    "    1 1 2 5\n",
    "    1/3 1/2 1 2\n",
    "    1/3 1/5 1/2 1\n",
    "]\n",
    "\n",
    "A₃ = [\n",
    "    1 1 2 6\n",
    "    1 1 3 2\n",
    "    1/2 1/3 1 3\n",
    "    1/6 1/2 1/3 1\n",
    "]"
   ]
  },
  {
   "cell_type": "code",
   "execution_count": 4,
   "metadata": {},
   "outputs": [
    {
     "name": "stdout",
     "output_type": "stream",
     "text": [
      "[0.3749999999999998, 0.11666666666666736, 0.20833333333333348]"
     ]
    },
    {
     "data": {
      "text/plain": [
       "4-element Vector{Interval{Float64}}:\n",
       " [0.374999, 0.375001]\n",
       " [0.366666, 0.375001]\n",
       " [0.124999, 0.183334]\n",
       " [0.0749999, 0.125]"
      ]
     },
     "metadata": {},
     "output_type": "display_data"
    }
   ],
   "source": [
    "solution = solveCommonGroundLP([A₁, A₂, A₃])\n",
    "W = solution.W"
   ]
  },
  {
   "cell_type": "code",
   "execution_count": 5,
   "metadata": {},
   "outputs": [
    {
     "data": {
      "text/latex": [
       "$W = \\begin{pmatrix} \\left[ 0.375, 0.375 \\right] \\\\ \\left[ 0.367, 0.375 \\right] \\\\ \\left[ 0.125, 0.183 \\right] \\\\ \\left[ 0.075, 0.125 \\right] \\end{pmatrix}$"
      ],
      "text/plain": [
       "L\"$W = \\begin{pmatrix} \\left[ 0.375, 0.375 \\right] \\\\ \\left[ 0.367, 0.375 \\right] \\\\ \\left[ 0.125, 0.183 \\right] \\\\ \\left[ 0.075, 0.125 \\right] \\end{pmatrix}$\""
      ]
     },
     "metadata": {},
     "output_type": "display_data"
    }
   ],
   "source": [
    "display(L\"W = %$(intervalVectorLaTeXString(W))\")"
   ]
  },
  {
   "cell_type": "code",
   "execution_count": 7,
   "metadata": {},
   "outputs": [
    {
     "data": {
      "text/plain": [
       "0.11666666666666736"
      ]
     },
     "metadata": {},
     "output_type": "display_data"
    }
   ],
   "source": [
    "d = solution.optimalValue"
   ]
  },
  {
   "cell_type": "code",
   "execution_count": null,
   "metadata": {},
   "outputs": [],
   "source": []
  }
 ],
 "metadata": {
  "kernelspec": {
   "display_name": "Julia 1.9.3",
   "language": "julia",
   "name": "julia-1.9"
  },
  "language_info": {
   "file_extension": ".jl",
   "mimetype": "application/julia",
   "name": "julia",
   "version": "1.9.3"
  }
 },
 "nbformat": 4,
 "nbformat_minor": 2
}
