{
 "cells": [
  {
   "cell_type": "code",
   "execution_count": 1,
   "metadata": {},
   "outputs": [],
   "source": [
    "using LaTeXStrings"
   ]
  },
  {
   "cell_type": "code",
   "execution_count": 2,
   "metadata": {},
   "outputs": [
    {
     "data": {
      "text/plain": [
       "solvePerfectIncorporationLP (generic function with 1 method)"
      ]
     },
     "metadata": {},
     "output_type": "display_data"
    }
   ],
   "source": [
    "include(\"../display/display-crisp-matrix.jl\")\n",
    "include(\"../display/display-interval-vector.jl\")\n",
    "include(\"./perfect-incorporation.jl\")"
   ]
  },
  {
   "cell_type": "code",
   "execution_count": 3,
   "metadata": {},
   "outputs": [
    {
     "data": {
      "text/plain": [
       "4×4 Matrix{Float64}:\n",
       " 1.0  1.0       2.0       2.0\n",
       " 1.0  1.0       3.0       1.0\n",
       " 0.5  0.333333  1.0       3.0\n",
       " 0.5  1.0       0.333333  1.0"
      ]
     },
     "metadata": {},
     "output_type": "display_data"
    }
   ],
   "source": [
    "A₁ = [\n",
    "    1\t2\t3\t4\n",
    "    0.5\t1\t2\t3\n",
    "    0.333333333\t0.5\t1\t2\n",
    "    0.25\t0.333333333\t0.5\t1\n",
    "]\n",
    "\n",
    "A₂ = [\n",
    "    1\t3\t3\t4\n",
    "    0.333333333\t1\t3\t3\n",
    "    0.333333333\t0.333333333\t1\t4\n",
    "    0.25\t0.333333333\t0.25\t1\n",
    "]\n",
    "\n",
    "A₃ = [\n",
    "    1\t1\t2\t2\n",
    "    1\t1\t3\t1\n",
    "    0.5\t0.333333333\t1\t3\n",
    "    0.5\t1\t0.333333333\t1\n",
    "]"
   ]
  },
  {
   "cell_type": "code",
   "execution_count": 4,
   "metadata": {},
   "outputs": [
    {
     "data": {
      "text/plain": [
       "4-element Vector{Interval{Float64}}:\n",
       " [0.374999, 0.571429]\n",
       " [0.190476, 0.375001]\n",
       " [0.0714285, 0.190477]\n",
       " [0.047619, 0.218751]"
      ]
     },
     "metadata": {},
     "output_type": "display_data"
    }
   ],
   "source": [
    "solution = solvePerfectIncorporationLP([A₁, A₂, A₃])\n",
    "W_perfect_entani = solution.W_perfect_entani"
   ]
  },
  {
   "cell_type": "code",
   "execution_count": 5,
   "metadata": {},
   "outputs": [
    {
     "data": {
      "text/latex": [
       "$W_{perfect_entani} = \\begin{pmatrix} \\left[ 0.375, 0.571 \\right] \\\\ \\left[ 0.19, 0.375 \\right] \\\\ \\left[ 0.071, 0.19 \\right] \\\\ \\left[ 0.048, 0.219 \\right] \\end{pmatrix}$"
      ],
      "text/plain": [
       "L\"$W_{perfect_entani} = \\begin{pmatrix} \\left[ 0.375, 0.571 \\right] \\\\ \\left[ 0.19, 0.375 \\right] \\\\ \\left[ 0.071, 0.19 \\right] \\\\ \\left[ 0.048, 0.219 \\right] \\end{pmatrix}$\""
      ]
     },
     "metadata": {},
     "output_type": "display_data"
    }
   ],
   "source": [
    "display(L\"W_{perfect_entani} = %$(intervalVectorLaTeXString(W_perfect_entani))\")"
   ]
  },
  {
   "cell_type": "code",
   "execution_count": 6,
   "metadata": {},
   "outputs": [
    {
     "data": {
      "text/plain": [
       "4-element Vector{Float64}:\n",
       " 0.4999999850000003\n",
       " 0.24999999250000018\n",
       " 0.12500000374999998\n",
       " 0.08333333583333324"
      ]
     },
     "metadata": {},
     "output_type": "display_data"
    }
   ],
   "source": [
    "solution.ŵᴸ_perfect_entani[1, :]"
   ]
  },
  {
   "cell_type": "code",
   "execution_count": 7,
   "metadata": {},
   "outputs": [
    {
     "data": {
      "text/plain": [
       "0.6711309180627709"
      ]
     },
     "metadata": {},
     "output_type": "display_data"
    }
   ],
   "source": [
    "d = solution.optimalValue_perfect_entani"
   ]
  },
  {
   "cell_type": "code",
   "execution_count": 8,
   "metadata": {},
   "outputs": [
    {
     "data": {
      "text/plain": [
       "calculate_result (generic function with 1 method)"
      ]
     },
     "metadata": {},
     "output_type": "display_data"
    }
   ],
   "source": [
    "# 計算結果のチェックと計算を行う関数\n",
    "function calculate_result(method, n, name)\n",
    "    # methodが\"Error\"の場合、エラーを返す\n",
    "    if method == \"Error\"\n",
    "        return \"Error\"\n",
    "    else\n",
    "        # Methodのフィールドにアクセスして計算を行う\n",
    "        wᴸ = getfield(method, Symbol(\"wᴸ_\", name))\n",
    "        wᵁ = getfield(method, Symbol(\"wᵁ_\", name))\n",
    "\n",
    "        return (n - 1) * sum(log.(wᵁ[i]) - log.(wᴸ[i]) for i in 1:n)\n",
    "    end\n",
    "end"
   ]
  },
  {
   "cell_type": "code",
   "execution_count": 9,
   "metadata": {},
   "outputs": [
    {
     "ename": "BoundsError",
     "evalue": "BoundsError: attempt to access 4-element Vector{Float64} at index [5]",
     "output_type": "error",
     "traceback": [
      "BoundsError: attempt to access 4-element Vector{Float64} at index [5]\n",
      "\n",
      "Stacktrace:\n",
      "  [1] getindex\n",
      "    @ ./essentials.jl:13 [inlined]\n",
      "  [2] #59\n",
      "    @ ./none:0 [inlined]\n",
      "  [3] MappingRF\n",
      "    @ ./reduce.jl:95 [inlined]\n",
      "  [4] _foldl_impl(op::Base.MappingRF{var\"#59#60\"{Vector{Float64}, Vector{Float64}}, Base.BottomRF{typeof(Base.add_sum)}}, init::Base._InitialValue, itr::UnitRange{Int64})\n",
      "    @ Base ./reduce.jl:62\n",
      "  [5] foldl_impl\n",
      "    @ ./reduce.jl:48 [inlined]\n",
      "  [6] mapfoldl_impl\n",
      "    @ ./reduce.jl:44 [inlined]\n",
      "  [7] #mapfoldl#288\n",
      "    @ ./reduce.jl:170 [inlined]\n",
      "  [8] mapfoldl\n",
      "    @ ./reduce.jl:170 [inlined]\n",
      "  [9] #mapreduce#292\n",
      "    @ ./reduce.jl:302 [inlined]\n",
      " [10] mapreduce\n",
      "    @ ./reduce.jl:302 [inlined]\n",
      " [11] #sum#295\n",
      "    @ ./reduce.jl:530 [inlined]\n",
      " [12] sum\n",
      "    @ ./reduce.jl:530 [inlined]\n",
      " [13] #sum#296\n",
      "    @ ./reduce.jl:559 [inlined]\n",
      " [14] sum(a::Base.Generator{UnitRange{Int64}, var\"#59#60\"{Vector{Float64}, Vector{Float64}}})\n",
      "    @ Base ./reduce.jl:559\n",
      " [15] calculate_result(method::NamedTuple{(:wᴸ_perfect_entani, :wᵁ_perfect_entani, :W_perfect_entani, :ŵᴸ_perfect_entani, :ŵᵁ_perfect_entani, :Ŵ_perfect_entani, :optimalValue_perfect_entani), Tuple{Vector{Float64}, Vector{Float64}, Vector{Interval{Float64}}, Matrix{Float64}, Matrix{Float64}, Vector{Vector{Interval{Float64}}}, Float64}}, n::Int64, name::String)\n",
      "    @ Main /workspaces/intervalAHP/src/lib/entani/jl_notebook_cell_df34fa98e69747e1a8f8a730347b8e2f_X10sdnNjb2RlLXJlbW90ZQ==.jl:11\n",
      " [16] top-level scope\n",
      "    @ /workspaces/intervalAHP/src/lib/entani/jl_notebook_cell_df34fa98e69747e1a8f8a730347b8e2f_X11sdnNjb2RlLXJlbW90ZQ==.jl:1"
     ]
    }
   ],
   "source": [
    "calculate_result(solution, 5, \"perfect_entani\")"
   ]
  },
  {
   "cell_type": "code",
   "execution_count": 10,
   "metadata": {},
   "outputs": [],
   "source": []
  }
 ],
 "metadata": {
  "kernelspec": {
   "display_name": "Julia 1.9.3",
   "language": "julia",
   "name": "julia-1.9"
  },
  "language_info": {
   "file_extension": ".jl",
   "mimetype": "application/julia",
   "name": "julia",
   "version": "1.9.3"
  }
 },
 "nbformat": 4,
 "nbformat_minor": 2
}
