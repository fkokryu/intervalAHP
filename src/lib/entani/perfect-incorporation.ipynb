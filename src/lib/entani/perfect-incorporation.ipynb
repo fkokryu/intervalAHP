{
 "cells": [
  {
   "cell_type": "code",
   "execution_count": 1,
   "metadata": {},
   "outputs": [],
   "source": [
    "using LaTeXStrings"
   ]
  },
  {
   "cell_type": "code",
   "execution_count": 2,
   "metadata": {},
   "outputs": [
    {
     "data": {
      "text/plain": [
       "solvePerfectIncorporationLP (generic function with 1 method)"
      ]
     },
     "metadata": {},
     "output_type": "display_data"
    }
   ],
   "source": [
    "include(\"../display/display-crisp-matrix.jl\")\n",
    "include(\"../display/display-interval-vector.jl\")\n",
    "include(\"./perfect-incorporation.jl\")"
   ]
  },
  {
   "cell_type": "code",
   "execution_count": 3,
   "metadata": {},
   "outputs": [
    {
     "data": {
      "text/plain": [
       "5×5 Matrix{Float64}:\n",
       " 1.0  2.0  5.0  1.0       5.0\n",
       " 0.5  1.0  1.0  1.0       2.0\n",
       " 0.2  1.0  1.0  1.0       2.0\n",
       " 1.0  1.0  1.0  1.0       6.0\n",
       " 0.2  0.5  0.5  0.166667  1.0"
      ]
     },
     "metadata": {},
     "output_type": "display_data"
    }
   ],
   "source": [
    "A₁ = [\n",
    "    1.0\t3.0\t3.0\t2.0\t4.0\n",
    "    0.3333333333333330\t1.0\t1.0\t1.0\t2.0\n",
    "    0.3333333333333330\t1.0\t1.0\t1.0\t2.0\n",
    "    0.5\t1.0\t1.0\t1.0\t2.0\n",
    "    0.25\t0.5\t0.5\t0.5\t1.0\n",
    "]\n",
    "\n",
    "A₂ = [\n",
    "    1.0\t3.0\t4.0\t1.0\t3.0\n",
    "    0.3333333333333330\t1.0\t1.0\t1.0\t2.0\n",
    "    0.25\t1.0\t1.0\t1.0\t2.0\n",
    "    1.0\t1.0\t1.0\t1.0\t2.0\n",
    "    0.3333333333333330\t0.5\t0.5\t0.5\t1.0\n",
    "]\n",
    "\n",
    "A₃ = [\n",
    "    1.0\t2.0\t5.0\t1.0\t5.0\n",
    "    0.5\t1.0\t1.0\t1.0\t2.0\n",
    "    0.2\t1.0\t1.0\t1.0\t2.0\n",
    "    1.0\t1.0\t1.0\t1.0\t6.0\n",
    "    0.2\t0.5\t0.5\t0.16666666666666700\t1.0\n",
    "]"
   ]
  },
  {
   "cell_type": "code",
   "execution_count": 4,
   "metadata": {},
   "outputs": [
    {
     "data": {
      "text/plain": [
       "5-element Vector{Interval{Float64}}:\n",
       " [0.311688, 0.425532]\n",
       " [0.103896, 0.194806]\n",
       " [0.0697674, 0.194806]\n",
       " [0.156028, 0.348838]\n",
       " [0.0581395, 0.106384]"
      ]
     },
     "metadata": {},
     "output_type": "display_data"
    }
   ],
   "source": [
    "solution = solvePerfectIncorporationLP([A₁, A₂, A₃])\n",
    "W_perfect_entani = solution.W_perfect_entani"
   ]
  },
  {
   "cell_type": "code",
   "execution_count": 5,
   "metadata": {},
   "outputs": [
    {
     "data": {
      "text/latex": [
       "$W_{perfect_entani} = \\begin{pmatrix} \\left[ 0.312, 0.426 \\right] \\\\ \\left[ 0.104, 0.195 \\right] \\\\ \\left[ 0.07, 0.195 \\right] \\\\ \\left[ 0.156, 0.349 \\right] \\\\ \\left[ 0.058, 0.106 \\right] \\end{pmatrix}$"
      ],
      "text/plain": [
       "L\"$W_{perfect_entani} = \\begin{pmatrix} \\left[ 0.312, 0.426 \\right] \\\\ \\left[ 0.104, 0.195 \\right] \\\\ \\left[ 0.07, 0.195 \\right] \\\\ \\left[ 0.156, 0.349 \\right] \\\\ \\left[ 0.058, 0.106 \\right] \\end{pmatrix}$\""
      ]
     },
     "metadata": {},
     "output_type": "display_data"
    }
   ],
   "source": [
    "display(L\"W_{perfect_entani} = %$(intervalVectorLaTeXString(W_perfect_entani))\")"
   ]
  },
  {
   "cell_type": "code",
   "execution_count": 6,
   "metadata": {},
   "outputs": [
    {
     "data": {
      "text/plain": [
       "0.5708427314068146"
      ]
     },
     "metadata": {},
     "output_type": "display_data"
    }
   ],
   "source": [
    "d = solution.optimalValue_perfect_entani"
   ]
  }
 ],
 "metadata": {
  "kernelspec": {
   "display_name": "Julia 1.9.3",
   "language": "julia",
   "name": "julia-1.9"
  },
  "language_info": {
   "file_extension": ".jl",
   "mimetype": "application/julia",
   "name": "julia",
   "version": "1.9.3"
  }
 },
 "nbformat": 4,
 "nbformat_minor": 2
}
