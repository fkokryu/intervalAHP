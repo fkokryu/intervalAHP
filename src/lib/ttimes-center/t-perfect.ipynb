{
 "cells": [
  {
   "cell_type": "code",
   "execution_count": 1,
   "metadata": {},
   "outputs": [],
   "source": [
    "using LaTeXStrings"
   ]
  },
  {
   "cell_type": "code",
   "execution_count": 2,
   "metadata": {},
   "outputs": [
    {
     "data": {
      "text/plain": [
       "solvetPerfectIncorporationLP2 (generic function with 1 method)"
      ]
     },
     "metadata": {},
     "output_type": "display_data"
    }
   ],
   "source": [
    "include(\"../display/display-crisp-matrix.jl\")\n",
    "include(\"../display/display-interval-vector.jl\")\n",
    "include(\"./t-perfect-center.jl\")"
   ]
  },
  {
   "cell_type": "code",
   "execution_count": 3,
   "metadata": {},
   "outputs": [
    {
     "data": {
      "text/plain": [
       "5×5 Matrix{Float64}:\n",
       " 1.0       2.0  2.0  1.0       3.0\n",
       " 0.5       1.0  2.0  1.0       2.0\n",
       " 0.5       0.5  1.0  1.0       2.0\n",
       " 1.0       1.0  1.0  1.0       3.0\n",
       " 0.333333  0.5  0.5  0.333333  1.0"
      ]
     },
     "metadata": {},
     "output_type": "display_data"
    }
   ],
   "source": [
    "A₁ = [\n",
    "    1\t3\t3\t1\t2\n",
    "    0.333333333\t1\t2\t1\t2\n",
    "    0.333333333\t0.5\t1\t1\t1\n",
    "    1\t1\t1\t1\t3\n",
    "    0.5\t0.5\t1\t0.333333333\t1\n",
    "]\n",
    "\n",
    "A₂ = [\n",
    "    1\t1\t2\t1\t2\n",
    "    1\t1\t2\t1\t1\n",
    "    0.5\t0.5\t1\t1\t2\n",
    "    1\t1\t1\t1\t4\n",
    "    0.5\t1\t0.5\t0.25\t1\n",
    "]\n",
    "\n",
    "A₃ = [\n",
    "    1\t2\t2\t1\t3\n",
    "    0.5\t1\t2\t1\t2\n",
    "    0.5\t0.5\t1\t1\t2\n",
    "    1\t1\t1\t1\t3\n",
    "    0.333333333\t0.5\t0.5\t0.333333333\t1\n",
    "]"
   ]
  },
  {
   "cell_type": "code",
   "execution_count": 4,
   "metadata": {},
   "outputs": [
    {
     "data": {
      "text/plain": [
       "5-element Vector{Interval{Float64}}:\n",
       " [0.235294, 0.31579]\n",
       " [0.105263, 0.235295]\n",
       " [0.105263, 0.235295]\n",
       " [0.210526, 0.31579]\n",
       " [0.0588235, 0.205883]"
      ]
     },
     "metadata": {},
     "output_type": "display_data"
    }
   ],
   "source": [
    "solution = solvetPerfectIncorporationLP2([A₁, A₂, A₃])\n",
    "W_tperfect_center_1 = solution.W_tperfect_center_1"
   ]
  },
  {
   "cell_type": "code",
   "execution_count": 5,
   "metadata": {},
   "outputs": [
    {
     "data": {
      "text/latex": [
       "$W_{tperfect_center_1} = \\begin{pmatrix} \\left[ 0.235, 0.316 \\right] \\\\ \\left[ 0.105, 0.235 \\right] \\\\ \\left[ 0.105, 0.235 \\right] \\\\ \\left[ 0.211, 0.316 \\right] \\\\ \\left[ 0.059, 0.206 \\right] \\end{pmatrix}$"
      ],
      "text/plain": [
       "L\"$W_{tperfect_center_1} = \\begin{pmatrix} \\left[ 0.235, 0.316 \\right] \\\\ \\left[ 0.105, 0.235 \\right] \\\\ \\left[ 0.105, 0.235 \\right] \\\\ \\left[ 0.211, 0.316 \\right] \\\\ \\left[ 0.059, 0.206 \\right] \\end{pmatrix}$\""
      ]
     },
     "metadata": {},
     "output_type": "display_data"
    }
   ],
   "source": [
    "display(L\"W_{tperfect_center_1} = %$(intervalVectorLaTeXString(W_tperfect_center_1))\")"
   ]
  },
  {
   "cell_type": "code",
   "execution_count": 6,
   "metadata": {},
   "outputs": [
    {
     "data": {
      "text/plain": [
       "0.5860748836396314"
      ]
     },
     "metadata": {},
     "output_type": "display_data"
    }
   ],
   "source": [
    "d = solution.optimalValue_tperfect_center_1"
   ]
  },
  {
   "cell_type": "code",
   "execution_count": 7,
   "metadata": {},
   "outputs": [
    {
     "data": {
      "text/plain": [
       "0.9885230881480495"
      ]
     },
     "metadata": {},
     "output_type": "display_data"
    }
   ],
   "source": [
    "s = solution.s_tperfect_center_1"
   ]
  },
  {
   "cell_type": "code",
   "execution_count": 8,
   "metadata": {},
   "outputs": [
    {
     "data": {
      "text/plain": [
       "calculate_result (generic function with 1 method)"
      ]
     },
     "metadata": {},
     "output_type": "display_data"
    }
   ],
   "source": [
    "# 計算結果のチェックと計算を行う関数\n",
    "function calculate_result(method, n, name)\n",
    "    # methodが\"Error\"の場合、エラーを返す\n",
    "    if method == \"Error\"\n",
    "        return \"Error\"\n",
    "    else\n",
    "        # Methodのフィールドにアクセスして計算を行う\n",
    "        wᴸ = getfield(method, Symbol(\"wᴸ_\", name))\n",
    "        wᵁ = getfield(method, Symbol(\"wᵁ_\", name))\n",
    "\n",
    "        return (n - 1) * sum(log.(wᵁ[i]) - log.(wᴸ[i]) for i in 1:n)\n",
    "    end\n",
    "end"
   ]
  },
  {
   "cell_type": "code",
   "execution_count": 9,
   "metadata": {},
   "outputs": [
    {
     "data": {
      "text/plain": [
       "14.244849510821819"
      ]
     },
     "metadata": {},
     "output_type": "display_data"
    }
   ],
   "source": [
    "calculate_result(solution, 5, \"tperfect_center_1\")"
   ]
  },
  {
   "cell_type": "code",
   "execution_count": 10,
   "metadata": {},
   "outputs": [],
   "source": []
  }
 ],
 "metadata": {
  "kernelspec": {
   "display_name": "Julia 1.9.3",
   "language": "julia",
   "name": "julia-1.9"
  },
  "language_info": {
   "file_extension": ".jl",
   "mimetype": "application/julia",
   "name": "julia",
   "version": "1.9.3"
  }
 },
 "nbformat": 4,
 "nbformat_minor": 2
}
