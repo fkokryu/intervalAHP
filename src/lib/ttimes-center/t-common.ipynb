{
 "cells": [
  {
   "cell_type": "code",
   "execution_count": 1,
   "metadata": {},
   "outputs": [],
   "source": [
    "using LaTeXStrings"
   ]
  },
  {
   "cell_type": "code",
   "execution_count": 2,
   "metadata": {},
   "outputs": [
    {
     "data": {
      "text/plain": [
       "solvetCommonGroundLP2 (generic function with 1 method)"
      ]
     },
     "metadata": {},
     "output_type": "display_data"
    }
   ],
   "source": [
    "include(\"../display/display-crisp-matrix.jl\")\n",
    "include(\"../display/display-interval-vector.jl\")\n",
    "include(\"./t-common-center.jl\")"
   ]
  },
  {
   "cell_type": "code",
   "execution_count": 16,
   "metadata": {},
   "outputs": [
    {
     "data": {
      "text/plain": [
       "4×4 Matrix{Float64}:\n",
       " 1.0       1.0       2.0       6.0\n",
       " 1.0       1.0       3.0       2.0\n",
       " 0.5       0.333333  1.0       3.0\n",
       " 0.166667  0.5       0.333333  1.0"
      ]
     },
     "metadata": {},
     "output_type": "display_data"
    }
   ],
   "source": [
    "A₁ = [\n",
    "    1 1 2 2\n",
    "    1 1 3 1\n",
    "    1/2 1/3 1 3\n",
    "    1/2 1 1/3 1\n",
    "]\n",
    "\n",
    "A₂ = [\n",
    "    1 1 3 3\n",
    "    1 1 2 5\n",
    "    1/3 1/2 1 2\n",
    "    1/3 1/5 1/2 1\n",
    "]\n",
    "\n",
    "A₃ = [\n",
    "    1 1 2 6\n",
    "    1 1 3 2\n",
    "    1/2 1/3 1 3\n",
    "    1/6 1/2 1/3 1\n",
    "]"
   ]
  },
  {
   "cell_type": "code",
   "execution_count": 18,
   "metadata": {},
   "outputs": [
    {
     "data": {
      "text/plain": [
       "5×5 Matrix{Float64}:\n",
       " 1.0  2.0  1.0  1.0  1.0\n",
       " 0.5  1.0  1.0  1.0  1.0\n",
       " 1.0  1.0  1.0  2.0  2.0\n",
       " 1.0  1.0  0.5  1.0  1.0\n",
       " 1.0  1.0  0.5  1.0  1.0"
      ]
     },
     "metadata": {},
     "output_type": "display_data"
    }
   ],
   "source": [
    "A₁ = [\n",
    "    1 2 1 1 1\n",
    "    1/2 1 1 1 1\n",
    "    1 1 1 2 3\n",
    "    1 1 1/2 1 1\n",
    "    1 1 1/3 1 1\n",
    "]\n",
    "\n",
    "A₂ = [\n",
    "    1 1/3 1 1 1\n",
    "    1/3 1 1 1 1\n",
    "    1 1 1 1 2\n",
    "    1 1 1 1 2\n",
    "    1 1 1/2 1/2 1\n",
    "]\n",
    "\n",
    "A₃ = [\n",
    "    1 2 1 1 1\n",
    "    1/2 1 1 1 1\n",
    "    1 1 1 2 2\n",
    "    1 1 1/2 1 1\n",
    "    1 1 1/2 1 1\n",
    "]"
   ]
  },
  {
   "cell_type": "code",
   "execution_count": 15,
   "metadata": {},
   "outputs": [
    {
     "data": {
      "text/plain": [
       "5×5 Matrix{Float64}:\n",
       " 1.0  2.0  1.0       1.0  1.0\n",
       " 0.5  1.0  1.0       1.0  1.0\n",
       " 1.0  1.0  1.0       2.0  3.0\n",
       " 1.0  1.0  0.5       1.0  1.0\n",
       " 1.0  1.0  0.333333  1.0  1.0"
      ]
     },
     "metadata": {},
     "output_type": "display_data"
    }
   ],
   "source": [
    "A₁"
   ]
  },
  {
   "cell_type": "code",
   "execution_count": 19,
   "metadata": {},
   "outputs": [
    {
     "ename": "ArgumentError",
     "evalue": "ArgumentError: Aₖ is not a crisp PCM",
     "output_type": "error",
     "traceback": [
      "ArgumentError: Aₖ is not a crisp PCM\n",
      "\n",
      "Stacktrace:\n",
      " [1] solvetCommonGroundLP2(matrices::Vector{Matrix{Float64}})\n",
      "   @ Main /workspaces/intervalAHP/src/lib/ttimes-center/t-common-center.jl:27\n",
      " [2] top-level scope\n",
      "   @ /workspaces/intervalAHP/src/lib/ttimes-center/jl_notebook_cell_df34fa98e69747e1a8f8a730347b8e2f_W3sdnNjb2RlLXJlbW90ZQ==.jl:1"
     ]
    }
   ],
   "source": [
    "solution = solvetCommonGroundLP2([A₁, A₂, A₃])\n",
    "W_tcommon_center_1 = solution.W_tcommon_center_1"
   ]
  },
  {
   "cell_type": "code",
   "execution_count": 5,
   "metadata": {},
   "outputs": [
    {
     "ename": "UndefVarError",
     "evalue": "UndefVarError: `W_tcommon_center_1` not defined",
     "output_type": "error",
     "traceback": [
      "UndefVarError: `W_tcommon_center_1` not defined\n",
      "\n",
      "Stacktrace:\n",
      " [1] top-level scope\n",
      "   @ /workspaces/intervalAHP/src/lib/ttimes-center/jl_notebook_cell_df34fa98e69747e1a8f8a730347b8e2f_W4sdnNjb2RlLXJlbW90ZQ==.jl:1"
     ]
    }
   ],
   "source": [
    "display(L\"W_{tcommon_center_1} = %$(intervalVectorLaTeXString(W_tcommon_center_1))\")"
   ]
  },
  {
   "cell_type": "code",
   "execution_count": 6,
   "metadata": {},
   "outputs": [
    {
     "ename": "UndefVarError",
     "evalue": "UndefVarError: `solution` not defined",
     "output_type": "error",
     "traceback": [
      "UndefVarError: `solution` not defined\n",
      "\n",
      "Stacktrace:\n",
      " [1] top-level scope\n",
      "   @ /workspaces/intervalAHP/src/lib/ttimes-center/jl_notebook_cell_df34fa98e69747e1a8f8a730347b8e2f_W5sdnNjb2RlLXJlbW90ZQ==.jl:1"
     ]
    }
   ],
   "source": [
    "d = solution.optimalValue_tcommon_center_1"
   ]
  },
  {
   "cell_type": "code",
   "execution_count": 7,
   "metadata": {},
   "outputs": [
    {
     "ename": "UndefVarError",
     "evalue": "UndefVarError: `solution` not defined",
     "output_type": "error",
     "traceback": [
      "UndefVarError: `solution` not defined\n",
      "\n",
      "Stacktrace:\n",
      " [1] top-level scope\n",
      "   @ /workspaces/intervalAHP/src/lib/ttimes-center/jl_notebook_cell_df34fa98e69747e1a8f8a730347b8e2f_W6sdnNjb2RlLXJlbW90ZQ==.jl:1"
     ]
    }
   ],
   "source": [
    "s = solution.s_tcommon_center_1"
   ]
  }
 ],
 "metadata": {
  "kernelspec": {
   "display_name": "Julia 1.9.3",
   "language": "julia",
   "name": "julia-1.9"
  },
  "language_info": {
   "file_extension": ".jl",
   "mimetype": "application/julia",
   "name": "julia",
   "version": "1.9.3"
  }
 },
 "nbformat": 4,
 "nbformat_minor": 2
}
