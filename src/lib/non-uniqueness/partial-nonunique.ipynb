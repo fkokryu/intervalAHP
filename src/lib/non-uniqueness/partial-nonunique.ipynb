{
 "cells": [
  {
   "cell_type": "code",
   "execution_count": 1,
   "metadata": {},
   "outputs": [],
   "source": [
    "using LaTeXStrings"
   ]
  },
  {
   "cell_type": "code",
   "execution_count": 2,
   "metadata": {},
   "outputs": [
    {
     "data": {
      "text/plain": [
       "solveNonUniquePartialIncorporationLP (generic function with 1 method)"
      ]
     },
     "metadata": {},
     "output_type": "display_data"
    }
   ],
   "source": [
    "include(\"../display/display-crisp-matrix.jl\")\n",
    "include(\"../display/display-interval-vector.jl\")\n",
    "include(\"./partial-nonunique.jl\")"
   ]
  },
  {
   "cell_type": "code",
   "execution_count": 3,
   "metadata": {},
   "outputs": [
    {
     "data": {
      "text/plain": [
       "4×4 Matrix{Float64}:\n",
       " 1.0  1.0       2.0       2.0\n",
       " 1.0  1.0       3.0       1.0\n",
       " 0.5  0.333333  1.0       3.0\n",
       " 0.5  1.0       0.333333  1.0"
      ]
     },
     "metadata": {},
     "output_type": "display_data"
    }
   ],
   "source": [
    "A₁ = [\n",
    "    1 2 3 4\n",
    "    1/2 1 2 3\n",
    "    1/3 1/2 1 2\n",
    "    1/4 1/3 1/2 1\n",
    "]\n",
    "\n",
    "A₂ = [\n",
    "    1 3 3 4\n",
    "    1/3 1 3 3\n",
    "    1/3 1/3 1 4\n",
    "    1/4 1/3 1/4 1\n",
    "]\n",
    "\n",
    "A₃ = [\n",
    "    1 1 2 2\n",
    "    1 1 3 1\n",
    "    1/2 1/3 1 3\n",
    "    1/2 1 1/3 1\n",
    "]"
   ]
  },
  {
   "cell_type": "code",
   "execution_count": 4,
   "metadata": {},
   "outputs": [
    {
     "data": {
      "text/plain": [
       "4-element Vector{Interval{Float64}}:\n",
       " [0.461538, 0.509505]\n",
       " [0.250329, 0.25033]\n",
       " [0.162393, 0.162394]\n",
       " [0.0777727, 0.12574]"
      ]
     },
     "metadata": {},
     "output_type": "display_data"
    }
   ],
   "source": [
    "solution = solveNonUniquePartialIncorporationLP([A₁, A₂, A₃])\n",
    "W_partial_entani = solution.W_partial_entani"
   ]
  },
  {
   "cell_type": "code",
   "execution_count": 5,
   "metadata": {},
   "outputs": [
    {
     "ename": "UndefVarError",
     "evalue": "UndefVarError: `solvePartialIncorporationLP` not defined",
     "output_type": "error",
     "traceback": [
      "UndefVarError: `solvePartialIncorporationLP` not defined\n",
      "\n",
      "Stacktrace:\n",
      " [1] top-level scope\n",
      "   @ /workspaces/intervalAHP/src/lib/non-uniqueness/partial-nonunique.ipynb:1"
     ]
    }
   ],
   "source": [
    "solution = solvePartialIncorporationLP([A₁, A₂, A₃])\n",
    "W_partial_entani = solution.W_partial_entani"
   ]
  },
  {
   "cell_type": "code",
   "execution_count": 6,
   "metadata": {},
   "outputs": [
    {
     "ename": "UndefVarError",
     "evalue": "UndefVarError: `solvePartialIncorporationLP` not defined",
     "output_type": "error",
     "traceback": [
      "UndefVarError: `solvePartialIncorporationLP` not defined\n",
      "\n",
      "Stacktrace:\n",
      " [1] top-level scope\n",
      "   @ /workspaces/intervalAHP/src/lib/non-uniqueness/partial-nonunique.ipynb:1"
     ]
    }
   ],
   "source": [
    "solution = solvePartialIncorporationLP([A₁, A₂, A₃])\n",
    "W_partial_entani = solution.W_partial_entani"
   ]
  },
  {
   "cell_type": "code",
   "execution_count": 7,
   "metadata": {},
   "outputs": [
    {
     "data": {
      "text/latex": [
       "$W_{partial_entani} = \\begin{pmatrix} \\left[ 0.462, 0.51 \\right] \\\\ \\left[ 0.25, 0.25 \\right] \\\\ \\left[ 0.162, 0.162 \\right] \\\\ \\left[ 0.078, 0.126 \\right] \\end{pmatrix}$"
      ],
      "text/plain": [
       "L\"$W_{partial_entani} = \\begin{pmatrix} \\left[ 0.462, 0.51 \\right] \\\\ \\left[ 0.25, 0.25 \\right] \\\\ \\left[ 0.162, 0.162 \\right] \\\\ \\left[ 0.078, 0.126 \\right] \\end{pmatrix}$\""
      ]
     },
     "metadata": {},
     "output_type": "display_data"
    }
   ],
   "source": [
    "display(L\"W_{partial_entani} = %$(intervalVectorLaTeXString(W_partial_entani))\")"
   ]
  },
  {
   "cell_type": "code",
   "execution_count": 8,
   "metadata": {},
   "outputs": [
    {
     "data": {
      "text/plain": [
       "0.09593246282366319"
      ]
     },
     "metadata": {},
     "output_type": "display_data"
    }
   ],
   "source": [
    "d = solution.optimalValue_partial_entani"
   ]
  }
 ],
 "metadata": {
  "kernelspec": {
   "display_name": "Julia 1.9.3",
   "language": "julia",
   "name": "julia-1.9"
  },
  "language_info": {
   "file_extension": ".jl",
   "mimetype": "application/julia",
   "name": "julia",
   "version": "1.9.3"
  }
 },
 "nbformat": 4,
 "nbformat_minor": 2
}
