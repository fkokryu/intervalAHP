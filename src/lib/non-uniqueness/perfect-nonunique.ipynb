{
 "cells": [
  {
   "cell_type": "code",
   "execution_count": 1,
   "metadata": {},
   "outputs": [],
   "source": [
    "using LaTeXStrings"
   ]
  },
  {
   "cell_type": "code",
   "execution_count": 10,
   "metadata": {},
   "outputs": [
    {
     "data": {
      "text/plain": [
       "solveNonUniquePerfectIncorporationLP (generic function with 1 method)"
      ]
     },
     "metadata": {},
     "output_type": "display_data"
    }
   ],
   "source": [
    "include(\"../display/display-crisp-matrix.jl\")\n",
    "include(\"../display/display-interval-vector.jl\")\n",
    "include(\"./perfect-nonunique.jl\")"
   ]
  },
  {
   "cell_type": "code",
   "execution_count": 3,
   "metadata": {},
   "outputs": [
    {
     "data": {
      "text/plain": [
       "5×5 Matrix{Float64}:\n",
       " 1.0  2.0  5.0  1.0       5.0\n",
       " 0.5  1.0  1.0  1.0       2.0\n",
       " 0.2  1.0  1.0  1.0       2.0\n",
       " 1.0  1.0  1.0  1.0       6.0\n",
       " 0.2  0.5  0.5  0.166667  1.0"
      ]
     },
     "metadata": {},
     "output_type": "display_data"
    }
   ],
   "source": [
    "A₁ = [\n",
    "    1.0\t3.0\t3.0\t2.0\t4.0\n",
    "    0.3333333333333330\t1.0\t1.0\t1.0\t2.0\n",
    "    0.3333333333333330\t1.0\t1.0\t1.0\t2.0\n",
    "    0.5\t1.0\t1.0\t1.0\t2.0\n",
    "    0.25\t0.5\t0.5\t0.5\t1.0\n",
    "]\n",
    "\n",
    "A₂ = [\n",
    "    1.0\t3.0\t4.0\t1.0\t3.0\n",
    "    0.3333333333333330\t1.0\t1.0\t1.0\t2.0\n",
    "    0.25\t1.0\t1.0\t1.0\t2.0\n",
    "    1.0\t1.0\t1.0\t1.0\t2.0\n",
    "    0.3333333333333330\t0.5\t0.5\t0.5\t1.0\n",
    "]\n",
    "\n",
    "A₃ = [\n",
    "    1.0\t2.0\t5.0\t1.0\t5.0\n",
    "    0.5\t1.0\t1.0\t1.0\t2.0\n",
    "    0.2\t1.0\t1.0\t1.0\t2.0\n",
    "    1.0\t1.0\t1.0\t1.0\t6.0\n",
    "    0.2\t0.5\t0.5\t0.16666666666666700\t1.0\n",
    "]"
   ]
  },
  {
   "cell_type": "code",
   "execution_count": 11,
   "metadata": {},
   "outputs": [
    {
     "data": {
      "text/plain": [
       "5-element Vector{Interval{Float64}}:\n",
       " [0.298478, 0.397972]\n",
       " [0.132657, 0.167512]\n",
       " [0.0795943, 0.167512]\n",
       " [0.167511, 0.298479]\n",
       " [0.0497464, 0.099493]"
      ]
     },
     "metadata": {},
     "output_type": "display_data"
    }
   ],
   "source": [
    "solution = solveNonUniquePerfectIncorporationLP([A₁, A₂, A₃])\n",
    "W_perfect_entani = solution.W_perfect_entani"
   ]
  },
  {
   "cell_type": "code",
   "execution_count": 12,
   "metadata": {},
   "outputs": [
    {
     "data": {
      "text/latex": [
       "$W_{perfect_entani} = \\begin{pmatrix} \\left[ 0.298, 0.398 \\right] \\\\ \\left[ 0.133, 0.168 \\right] \\\\ \\left[ 0.08, 0.168 \\right] \\\\ \\left[ 0.168, 0.298 \\right] \\\\ \\left[ 0.05, 0.099 \\right] \\end{pmatrix}$"
      ],
      "text/plain": [
       "L\"$W_{perfect_entani} = \\begin{pmatrix} \\left[ 0.298, 0.398 \\right] \\\\ \\left[ 0.133, 0.168 \\right] \\\\ \\left[ 0.08, 0.168 \\right] \\\\ \\left[ 0.168, 0.298 \\right] \\\\ \\left[ 0.05, 0.099 \\right] \\end{pmatrix}$\""
      ]
     },
     "metadata": {},
     "output_type": "display_data"
    }
   ],
   "source": [
    "display(L\"W_{perfect_entani} = %$(intervalVectorLaTeXString(W_perfect_entani))\")"
   ]
  },
  {
   "cell_type": "code",
   "execution_count": 13,
   "metadata": {},
   "outputs": [
    {
     "data": {
      "text/plain": [
       "5-element Vector{Float64}:\n",
       " 0.3979716674523516\n",
       " 0.13265722248411718\n",
       " 0.13265722248411718\n",
       " 0.16751180522818698\n",
       " 0.08375590261409349"
      ]
     },
     "metadata": {},
     "output_type": "display_data"
    }
   ],
   "source": [
    "solution.ŵᴸ_perfect_entani[1, :]"
   ]
  },
  {
   "cell_type": "code",
   "execution_count": 14,
   "metadata": {},
   "outputs": [
    {
     "data": {
      "text/plain": [
       "0.4029783751374949"
      ]
     },
     "metadata": {},
     "output_type": "display_data"
    }
   ],
   "source": [
    "d = solution.optimalValue_perfect_entani"
   ]
  }
 ],
 "metadata": {
  "kernelspec": {
   "display_name": "Julia 1.9.3",
   "language": "julia",
   "name": "julia-1.9"
  },
  "language_info": {
   "file_extension": ".jl",
   "mimetype": "application/julia",
   "name": "julia",
   "version": "1.9.3"
  }
 },
 "nbformat": 4,
 "nbformat_minor": 2
}
