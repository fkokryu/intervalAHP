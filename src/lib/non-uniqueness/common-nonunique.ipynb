{
 "cells": [
  {
   "cell_type": "code",
   "execution_count": 1,
   "metadata": {},
   "outputs": [],
   "source": [
    "using LaTeXStrings"
   ]
  },
  {
   "cell_type": "code",
   "execution_count": 24,
   "metadata": {},
   "outputs": [
    {
     "data": {
      "text/plain": [
       "solveNonUniqueCommonGroundLP (generic function with 1 method)"
      ]
     },
     "metadata": {},
     "output_type": "display_data"
    }
   ],
   "source": [
    "include(\"../display/display-crisp-matrix.jl\")\n",
    "include(\"../display/display-interval-vector.jl\")\n",
    "include(\"./common-nonunique.jl\")"
   ]
  },
  {
   "cell_type": "code",
   "execution_count": 3,
   "metadata": {},
   "outputs": [
    {
     "data": {
      "text/plain": [
       "5×5 Matrix{Float64}:\n",
       " 1.0   2.0  4.0  1.0       2.0\n",
       " 0.5   1.0  2.0  1.0       2.0\n",
       " 0.25  0.5  1.0  1.0       1.0\n",
       " 1.0   1.0  1.0  1.0       3.0\n",
       " 0.5   0.5  1.0  0.333333  1.0"
      ]
     },
     "metadata": {},
     "output_type": "display_data"
    }
   ],
   "source": [
    "A₁ = [\n",
    "    1.0\t2.0\t2.0\t1.0\t2.0\n",
    "    0.5\t1.0\t2.0\t1.0\t2.0\n",
    "    0.5\t0.5\t1.0\t1.0\t2.0\n",
    "    1.0\t1.0\t1.0\t1.0\t3.0\n",
    "    0.5\t0.5\t0.5\t0.3333333333333330\t1.0\n",
    "]\n",
    "\n",
    "A₂ = [\n",
    "    1.0\t2.0\t2.0\t1.0\t2.0\n",
    "    0.5\t1.0\t1.0\t1.0\t2.0\n",
    "    0.5\t1.0\t1.0\t1.0\t2.0\n",
    "    1.0\t1.0\t1.0\t1.0\t6.0\n",
    "    0.5\t0.5\t0.5\t0.16666666666666700\t1.0\n",
    "]\n",
    "\n",
    "A₃ = [\n",
    "    1.0\t2.0\t4.0\t1.0\t2.0\n",
    "    0.5\t1.0\t2.0\t1.0\t2.0\n",
    "    0.25\t0.5\t1.0\t1.0\t1.0\n",
    "    1.0\t1.0\t1.0\t1.0\t3.0\n",
    "    0.5\t0.5\t1.0\t0.3333333333333330\t1.0\n",
    "]"
   ]
  },
  {
   "cell_type": "code",
   "execution_count": 25,
   "metadata": {},
   "outputs": [
    {
     "name": "stdout",
     "output_type": "stream",
     "text": [
      "0.8703703703703702\n",
      "0.8805970149253729\n",
      "0.86\n",
      "1.175\n",
      "1.1568627450980395\n",
      "1.1944444444444444\n"
     ]
    },
    {
     "data": {
      "text/plain": [
       "5-element Vector{Interval{Float64}}:\n",
       " [0.259999, 0.346667]\n",
       " [0.173333, 0.176667]\n",
       " [0.122941, 0.173334]\n",
       " [0.173333, 0.260001]\n",
       " [0.0433333, 0.130001]"
      ]
     },
     "metadata": {},
     "output_type": "display_data"
    }
   ],
   "source": [
    "solution = solveNonUniqueCommonGroundLP([A₁, A₂, A₃])\n",
    "W_common_entani = solution.W_common_entani"
   ]
  },
  {
   "cell_type": "code",
   "execution_count": 15,
   "metadata": {},
   "outputs": [
    {
     "data": {
      "text/latex": [
       "$W_{common_entani} = \\begin{pmatrix} \\left[ 0.26, 0.347 \\right] \\\\ \\left[ 0.173, 0.177 \\right] \\\\ \\left[ 0.123, 0.173 \\right] \\\\ \\left[ 0.173, 0.26 \\right] \\\\ \\left[ 0.043, 0.13 \\right] \\end{pmatrix}$"
      ],
      "text/plain": [
       "L\"$W_{common_entani} = \\begin{pmatrix} \\left[ 0.26, 0.347 \\right] \\\\ \\left[ 0.173, 0.177 \\right] \\\\ \\left[ 0.123, 0.173 \\right] \\\\ \\left[ 0.173, 0.26 \\right] \\\\ \\left[ 0.043, 0.13 \\right] \\end{pmatrix}$\""
      ]
     },
     "metadata": {},
     "output_type": "display_data"
    }
   ],
   "source": [
    "display(L\"W_{common_entani} = %$(intervalVectorLaTeXString(W_common_entani))\")"
   ]
  },
  {
   "cell_type": "code",
   "execution_count": 16,
   "metadata": {},
   "outputs": [
    {
     "data": {
      "text/plain": [
       "0.3137255017647066"
      ]
     },
     "metadata": {},
     "output_type": "display_data"
    }
   ],
   "source": [
    "d = solution.optimalValue_common_entani"
   ]
  },
  {
   "cell_type": "code",
   "execution_count": 17,
   "metadata": {},
   "outputs": [
    {
     "data": {
      "text/plain": [
       "solveIntervalAHPLP (generic function with 1 method)"
      ]
     },
     "metadata": {},
     "output_type": "display_data"
    }
   ],
   "source": [
    "include(\"../ttimes/optimal-value.jl\")\n",
    "include(\"../interval-ahp.jl\")"
   ]
  },
  {
   "cell_type": "code",
   "execution_count": 18,
   "metadata": {},
   "outputs": [
    {
     "data": {
      "text/latex": [
       "$V1 = \\begin{pmatrix} \\left[ 0.255, 0.255 \\right] \\\\ \\left[ 0.128, 0.255 \\right] \\\\ \\left[ 0.128, 0.255 \\right] \\\\ \\left[ 0.255, 0.255 \\right] \\\\ \\left[ 0.085, 0.128 \\right] \\end{pmatrix}$"
      ],
      "text/plain": [
       "L\"$V1 = \\begin{pmatrix} \\left[ 0.255, 0.255 \\right] \\\\ \\left[ 0.128, 0.255 \\right] \\\\ \\left[ 0.128, 0.255 \\right] \\\\ \\left[ 0.255, 0.255 \\right] \\\\ \\left[ 0.085, 0.128 \\right] \\end{pmatrix}$\""
      ]
     },
     "metadata": {},
     "output_type": "display_data"
    },
    {
     "data": {
      "text/latex": [
       "$V2 = \\begin{pmatrix} \\left[ 0.305, 0.339 \\right] \\\\ \\left[ 0.169, 0.169 \\right] \\\\ \\left[ 0.169, 0.169 \\right] \\\\ \\left[ 0.169, 0.305 \\right] \\\\ \\left[ 0.051, 0.153 \\right] \\end{pmatrix}$"
      ],
      "text/plain": [
       "L\"$V2 = \\begin{pmatrix} \\left[ 0.305, 0.339 \\right] \\\\ \\left[ 0.169, 0.169 \\right] \\\\ \\left[ 0.169, 0.169 \\right] \\\\ \\left[ 0.169, 0.305 \\right] \\\\ \\left[ 0.051, 0.153 \\right] \\end{pmatrix}$\""
      ]
     },
     "metadata": {},
     "output_type": "display_data"
    },
    {
     "data": {
      "text/latex": [
       "$V2 = \\begin{pmatrix} \\left[ 0.279, 0.372 \\right] \\\\ \\left[ 0.186, 0.186 \\right] \\\\ \\left[ 0.093, 0.186 \\right] \\\\ \\left[ 0.186, 0.279 \\right] \\\\ \\left[ 0.093, 0.14 \\right] \\end{pmatrix}$"
      ],
      "text/plain": [
       "L\"$V2 = \\begin{pmatrix} \\left[ 0.279, 0.372 \\right] \\\\ \\left[ 0.186, 0.186 \\right] \\\\ \\left[ 0.093, 0.186 \\right] \\\\ \\left[ 0.186, 0.279 \\right] \\\\ \\left[ 0.093, 0.14 \\right] \\end{pmatrix}$\""
      ]
     },
     "metadata": {},
     "output_type": "display_data"
    }
   ],
   "source": [
    "A1 = solveCrispAHPLP(A₁)\n",
    "A2 = solveCrispAHPLP(A₂)\n",
    "A3 = solveCrispAHPLP(A₃)\n",
    "display(L\"V1 = %$(intervalVectorLaTeXString(A1.W_center_1))\")\n",
    "display(L\"V2 = %$(intervalVectorLaTeXString(A2.W_center_1))\")\n",
    "display(L\"V2 = %$(intervalVectorLaTeXString(A3.W_center_1))\")"
   ]
  },
  {
   "cell_type": "code",
   "execution_count": 19,
   "metadata": {},
   "outputs": [
    {
     "data": {
      "text/latex": [
       "$V1 = \\begin{pmatrix} \\left[ 0.286, 0.286 \\right] \\\\ \\left[ 0.143, 0.19 \\right] \\\\ \\left[ 0.095, 0.19 \\right] \\\\ \\left[ 0.19, 0.286 \\right] \\\\ \\left[ 0.095, 0.143 \\right] \\end{pmatrix}$"
      ],
      "text/plain": [
       "L\"$V1 = \\begin{pmatrix} \\left[ 0.286, 0.286 \\right] \\\\ \\left[ 0.143, 0.19 \\right] \\\\ \\left[ 0.095, 0.19 \\right] \\\\ \\left[ 0.19, 0.286 \\right] \\\\ \\left[ 0.095, 0.143 \\right] \\end{pmatrix}$\""
      ]
     },
     "metadata": {},
     "output_type": "display_data"
    },
    {
     "data": {
      "text/latex": [
       "$V2 = \\begin{pmatrix} \\left[ 0.261, 0.348 \\right] \\\\ \\left[ 0.174, 0.174 \\right] \\\\ \\left[ 0.174, 0.174 \\right] \\\\ \\left[ 0.174, 0.261 \\right] \\\\ \\left[ 0.043, 0.13 \\right] \\end{pmatrix}$"
      ],
      "text/plain": [
       "L\"$V2 = \\begin{pmatrix} \\left[ 0.261, 0.348 \\right] \\\\ \\left[ 0.174, 0.174 \\right] \\\\ \\left[ 0.174, 0.174 \\right] \\\\ \\left[ 0.174, 0.261 \\right] \\\\ \\left[ 0.043, 0.13 \\right] \\end{pmatrix}$\""
      ]
     },
     "metadata": {},
     "output_type": "display_data"
    },
    {
     "data": {
      "text/latex": [
       "$V2 = \\begin{pmatrix} \\left[ 0.261, 0.348 \\right] \\\\ \\left[ 0.174, 0.174 \\right] \\\\ \\left[ 0.087, 0.174 \\right] \\\\ \\left[ 0.174, 0.261 \\right] \\\\ \\left[ 0.087, 0.13 \\right] \\end{pmatrix}$"
      ],
      "text/plain": [
       "L\"$V2 = \\begin{pmatrix} \\left[ 0.261, 0.348 \\right] \\\\ \\left[ 0.174, 0.174 \\right] \\\\ \\left[ 0.087, 0.174 \\right] \\\\ \\left[ 0.174, 0.261 \\right] \\\\ \\left[ 0.087, 0.13 \\right] \\end{pmatrix}$\""
      ]
     },
     "metadata": {},
     "output_type": "display_data"
    }
   ],
   "source": [
    "B1 = solveIntervalAHPLP(A₁)\n",
    "B2 = solveIntervalAHPLP(A₂)\n",
    "B3 = solveIntervalAHPLP(A₃)\n",
    "display(L\"V1 = %$(intervalVectorLaTeXString(B1.W))\")\n",
    "display(L\"V2 = %$(intervalVectorLaTeXString(B2.W))\")\n",
    "display(L\"V2 = %$(intervalVectorLaTeXString(B3.W))\")"
   ]
  },
  {
   "cell_type": "code",
   "execution_count": 20,
   "metadata": {},
   "outputs": [
    {
     "data": {
      "text/plain": [
       "0.29166666666666674"
      ]
     },
     "metadata": {},
     "output_type": "display_data"
    },
    {
     "data": {
      "text/plain": [
       "0.2711864406779667"
      ]
     },
     "metadata": {},
     "output_type": "display_data"
    },
    {
     "data": {
      "text/plain": [
       "0.30434782608695693"
      ]
     },
     "metadata": {},
     "output_type": "display_data"
    }
   ],
   "source": [
    "display(A1.optimalValue_center_1*0.9791666666666670)\n",
    "display(A2.optimalValue_center_1)\n",
    "display(A3.optimalValue_center_1*0.9347826086956530)"
   ]
  },
  {
   "cell_type": "code",
   "execution_count": 21,
   "metadata": {},
   "outputs": [
    {
     "data": {
      "text/plain": [
       "0.28571428571428514"
      ]
     },
     "metadata": {},
     "output_type": "display_data"
    },
    {
     "data": {
      "text/plain": [
       "0.2608695652173909"
      ]
     },
     "metadata": {},
     "output_type": "display_data"
    },
    {
     "data": {
      "text/plain": [
       "0.3043478260869572"
      ]
     },
     "metadata": {},
     "output_type": "display_data"
    }
   ],
   "source": [
    "display(B1.optimalValue)\n",
    "display(B2.optimalValue)\n",
    "display(B3.optimalValue)"
   ]
  },
  {
   "cell_type": "code",
   "execution_count": 22,
   "metadata": {},
   "outputs": [
    {
     "ename": "UndefVarError",
     "evalue": "UndefVarError: `solveCommonGroundLP` not defined",
     "output_type": "error",
     "traceback": [
      "UndefVarError: `solveCommonGroundLP` not defined\n",
      "\n",
      "Stacktrace:\n",
      " [1] top-level scope\n",
      "   @ /workspaces/intervalAHP/src/lib/non-uniqueness/common-nonunique.ipynb:1"
     ]
    }
   ],
   "source": [
    "solution = solveCommonGroundLP([A₁, A₂, A₃])\n",
    "W2_common_entani = solution.W_common_entani\n",
    "display(L\"W_{common_entani} = %$(intervalVectorLaTeXString(W2_common_entani))\")"
   ]
  }
 ],
 "metadata": {
  "kernelspec": {
   "display_name": "Julia 1.9.3",
   "language": "julia",
   "name": "julia-1.9"
  },
  "language_info": {
   "file_extension": ".jl",
   "mimetype": "application/julia",
   "name": "julia",
   "version": "1.9.3"
  }
 },
 "nbformat": 4,
 "nbformat_minor": 2
}
