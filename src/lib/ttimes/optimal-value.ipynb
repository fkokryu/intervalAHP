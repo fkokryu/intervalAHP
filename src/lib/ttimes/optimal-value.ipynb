{
 "cells": [
  {
   "cell_type": "code",
   "execution_count": 1,
   "metadata": {},
   "outputs": [],
   "source": [
    "using LaTeXStrings"
   ]
  },
  {
   "cell_type": "code",
   "execution_count": 2,
   "metadata": {},
   "outputs": [
    {
     "data": {
      "text/plain": [
       "solveCrispAHPLP (generic function with 1 method)"
      ]
     },
     "metadata": {},
     "output_type": "display_data"
    }
   ],
   "source": [
    "include(\"../display/display-crisp-matrix.jl\")\n",
    "include(\"../display/display-interval-vector.jl\")\n",
    "include(\"./optimal-value.jl\")"
   ]
  },
  {
   "cell_type": "code",
   "execution_count": 3,
   "metadata": {},
   "outputs": [
    {
     "data": {
      "text/plain": [
       "4×4 Matrix{Float64}:\n",
       " 1.0  1.0       2.0       2.0\n",
       " 1.0  1.0       3.0       1.0\n",
       " 0.5  0.333333  1.0       3.0\n",
       " 0.5  1.0       0.333333  1.0"
      ]
     },
     "metadata": {},
     "output_type": "display_data"
    }
   ],
   "source": [
    "A₁ = [\n",
    "    1 2 3 4\n",
    "    1/2 1 2 3\n",
    "    1/3 1/2 1 2\n",
    "    1/4 1/3 1/2 1\n",
    "]\n",
    "\n",
    "A₂ = [\n",
    "    1 3 3 4\n",
    "    1/3 1 3 3\n",
    "    1/3 1/3 1 4\n",
    "    1/4 1/3 1/4 1\n",
    "]\n",
    "\n",
    "A₃ = [\n",
    "    1 1 2 2\n",
    "    1 1 3 1\n",
    "    1/2 1/3 1 3\n",
    "    1/2 1 1/3 1\n",
    "]"
   ]
  },
  {
   "cell_type": "code",
   "execution_count": 4,
   "metadata": {},
   "outputs": [
    {
     "data": {
      "text/plain": [
       "4-element Vector{Interval{Float64}}:\n",
       " [0.166666, 0.166667]\n",
       " [0.5, 0.500001]\n",
       " [0.166666, 0.166667]\n",
       " [0.0555555, 0.166667]"
      ]
     },
     "metadata": {},
     "output_type": "display_data"
    }
   ],
   "source": [
    "solution = solveCrispAHPLP(A₃)\n",
    "V = solution.V"
   ]
  },
  {
   "cell_type": "code",
   "execution_count": 5,
   "metadata": {},
   "outputs": [
    {
     "data": {
      "text/latex": [
       "$V = \\begin{pmatrix} \\left[ 0.167, 0.167 \\right] \\\\ \\left[ 0.5, 0.5 \\right] \\\\ \\left[ 0.167, 0.167 \\right] \\\\ \\left[ 0.056, 0.167 \\right] \\end{pmatrix}$"
      ],
      "text/plain": [
       "L\"$V = \\begin{pmatrix} \\left[ 0.167, 0.167 \\right] \\\\ \\left[ 0.5, 0.5 \\right] \\\\ \\left[ 0.167, 0.167 \\right] \\\\ \\left[ 0.056, 0.167 \\right] \\end{pmatrix}$\""
      ]
     },
     "metadata": {},
     "output_type": "display_data"
    }
   ],
   "source": [
    "display(L\"V = %$(intervalVectorLaTeXString(V))\")"
   ]
  },
  {
   "cell_type": "code",
   "execution_count": 7,
   "metadata": {},
   "outputs": [
    {
     "data": {
      "text/plain": [
       "0.0"
      ]
     },
     "metadata": {},
     "output_type": "display_data"
    }
   ],
   "source": [
    "d = solution.optimalValue"
   ]
  },
  {
   "cell_type": "code",
   "execution_count": null,
   "metadata": {},
   "outputs": [],
   "source": []
  }
 ],
 "metadata": {
  "kernelspec": {
   "display_name": "Julia 1.9.3",
   "language": "julia",
   "name": "julia-1.9"
  },
  "language_info": {
   "file_extension": ".jl",
   "mimetype": "application/julia",
   "name": "julia",
   "version": "1.9.3"
  }
 },
 "nbformat": 4,
 "nbformat_minor": 2
}
