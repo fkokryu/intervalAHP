{
 "cells": [
  {
   "cell_type": "code",
   "execution_count": 1,
   "metadata": {},
   "outputs": [],
   "source": [
    "using LaTeXStrings"
   ]
  },
  {
   "cell_type": "code",
   "execution_count": 2,
   "metadata": {},
   "outputs": [
    {
     "data": {
      "text/plain": [
       "solveIntervalAHPLP (generic function with 1 method)"
      ]
     },
     "metadata": {},
     "output_type": "display_data"
    }
   ],
   "source": [
    "include(\"../display/display-crisp-matrix.jl\")\n",
    "include(\"../display/display-interval-vector.jl\")\n",
    "include(\"./optimal-value.jl\")\n",
    "include(\"../interval-ahp.jl\")"
   ]
  },
  {
   "cell_type": "code",
   "execution_count": 3,
   "metadata": {},
   "outputs": [
    {
     "data": {
      "text/plain": [
       "6×6 Matrix{Float64}:\n",
       " 1.0       0.5       1.0   1.0  3.0  3.0\n",
       " 2.0       1.0       1.0   1.0  3.0  4.0\n",
       " 1.0       1.0       1.0   2.0  1.0  4.0\n",
       " 1.0       1.0       0.5   1.0  2.0  2.0\n",
       " 0.333333  0.333333  1.0   0.5  1.0  1.0\n",
       " 0.333333  0.25      0.25  0.5  1.0  1.0"
      ]
     },
     "metadata": {},
     "output_type": "display_data"
    }
   ],
   "source": [
    "A₁ = [\n",
    "    1.000000\t1.000000\t1.000000\t1.000000\t3.000000\t3.000000\n",
    "    1.000000\t1.000000\t1.000000\t1.000000\t3.000000\t4.000000\n",
    "    1.000000\t1.000000\t1.000000\t2.000000\t1.000000\t4.000000\n",
    "    1.000000\t1.000000\t0.500000\t1.000000\t2.000000\t2.000000\n",
    "    1/3\t1/3\t1.000000\t0.500000\t1.000000\t1.000000\n",
    "    1/3\t0.250000\t0.250000\t0.500000\t1.000000\t1.000000\n",
    "]\n",
    "\n",
    "A₂ = [\n",
    "    1.000000\t0.500000\t1.000000\t1.000000\t2.000000\t2.000000\n",
    "    2.000000\t1.000000\t1.000000\t1.000000\t2.000000\t2.000000\n",
    "    1.000000\t1.000000\t1.000000\t2.000000\t1.000000\t2.000000\n",
    "    1.000000\t1.000000\t0.500000\t1.000000\t2.000000\t1.000000\n",
    "    0.500000\t0.500000\t1.000000\t0.500000\t1.000000\t1.000000\n",
    "    0.500000\t0.500000\t0.500000\t1.000000\t1.000000\t1.000000\n",
    "]\n",
    "\n",
    "A₃ = [\n",
    "    1.000000\t0.500000\t1.000000\t1.000000\t3.000000\t3.000000\n",
    "    2.000000\t1.000000\t1.000000\t1.000000\t3.000000\t4.000000\n",
    "    1.000000\t1.000000\t1.000000\t2.000000\t1.000000\t4.000000\n",
    "    1.000000\t1.000000\t0.500000\t1.000000\t2.000000\t2.000000\n",
    "    1/3\t1/3\t1.000000\t0.500000\t1.000000\t1.000000\n",
    "    1/3\t0.250000\t0.250000\t0.500000\t1.000000\t1.000000\n",
    "]\n"
   ]
  },
  {
   "cell_type": "code",
   "execution_count": 4,
   "metadata": {},
   "outputs": [
    {
     "data": {
      "text/plain": [
       "6-element Vector{Interval{Float64}}:\n",
       " [0.214285, 0.214286]\n",
       " [0.214285, 0.214286]\n",
       " [0.205357, 0.214286]\n",
       " [0.107142, 0.214286]\n",
       " [0.0714285, 0.205358]\n",
       " [0.0535714, 0.0714286]"
      ]
     },
     "metadata": {},
     "output_type": "display_data"
    }
   ],
   "source": [
    "solution = solveCrispAHPLP(A₁)\n",
    "V = solution.V"
   ]
  },
  {
   "cell_type": "code",
   "execution_count": 5,
   "metadata": {},
   "outputs": [
    {
     "data": {
      "text/latex": [
       "$V = \\begin{pmatrix} \\left[ 0.214, 0.214 \\right] \\\\ \\left[ 0.214, 0.214 \\right] \\\\ \\left[ 0.205, 0.214 \\right] \\\\ \\left[ 0.107, 0.214 \\right] \\\\ \\left[ 0.071, 0.205 \\right] \\\\ \\left[ 0.054, 0.071 \\right] \\end{pmatrix}$"
      ],
      "text/plain": [
       "L\"$V = \\begin{pmatrix} \\left[ 0.214, 0.214 \\right] \\\\ \\left[ 0.214, 0.214 \\right] \\\\ \\left[ 0.205, 0.214 \\right] \\\\ \\left[ 0.107, 0.214 \\right] \\\\ \\left[ 0.071, 0.205 \\right] \\\\ \\left[ 0.054, 0.071 \\right] \\end{pmatrix}$\""
      ]
     },
     "metadata": {},
     "output_type": "display_data"
    }
   ],
   "source": [
    "display(L\"V = %$(intervalVectorLaTeXString(V))\")"
   ]
  },
  {
   "cell_type": "code",
   "execution_count": 6,
   "metadata": {},
   "outputs": [
    {
     "data": {
      "text/plain": [
       "0.26785714285714357"
      ]
     },
     "metadata": {},
     "output_type": "display_data"
    }
   ],
   "source": [
    "d = solution.optimalValue"
   ]
  },
  {
   "cell_type": "code",
   "execution_count": 7,
   "metadata": {},
   "outputs": [
    {
     "data": {
      "text/plain": [
       "0.2678571428571416"
      ]
     },
     "metadata": {},
     "output_type": "display_data"
    }
   ],
   "source": [
    "solution1 = solveIntervalAHPLP(A₁)\n",
    "d1 = solution1.optimalValue"
   ]
  }
 ],
 "metadata": {
  "kernelspec": {
   "display_name": "Julia 1.9.3",
   "language": "julia",
   "name": "julia-1.9"
  },
  "language_info": {
   "file_extension": ".jl",
   "mimetype": "application/julia",
   "name": "julia",
   "version": "1.9.3"
  }
 },
 "nbformat": 4,
 "nbformat_minor": 2
}
