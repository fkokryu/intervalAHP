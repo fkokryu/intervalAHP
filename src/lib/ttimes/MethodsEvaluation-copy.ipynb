{
 "cells": [
  {
   "cell_type": "code",
   "execution_count": 1,
   "metadata": {},
   "outputs": [],
   "source": [
    "using LaTeXStrings"
   ]
  },
  {
   "cell_type": "code",
   "execution_count": 2,
   "metadata": {},
   "outputs": [
    {
     "data": {
      "text/plain": [
       "solvetPartialIncorporationLP3 (generic function with 1 method)"
      ]
     },
     "metadata": {},
     "output_type": "display_data"
    }
   ],
   "source": [
    "include(\"../display/display-crisp-matrix.jl\")\n",
    "include(\"../display/display-interval-vector.jl\")\n",
    "include(\"../entani/perfect-incorporation.jl\")\n",
    "include(\"../entani/common-ground.jl\")\n",
    "include(\"../entani/partial-incorporarion.jl\")\n",
    "include(\"../center-equal-one/one-perfect.jl\")\n",
    "include(\"../center-equal-one/one-common.jl\")\n",
    "include(\"../center-equal-one/one-partial.jl\")\n",
    "include(\"./t-perfect.jl\")\n",
    "include(\"./t-common.jl\")\n",
    "include(\"./t-partial.jl\")\n",
    "include(\"../ttimes-center/t-perfect-center.jl\")\n",
    "include(\"../ttimes-center/t-common-center.jl\")\n",
    "include(\"../ttimes-center/t-partial-center.jl\")\n",
    "include(\"../ttimes-range/t-perfect-range.jl\")\n",
    "include(\"../ttimes-range/t-common-range.jl\")\n",
    "include(\"../ttimes-range/t-partial-range.jl\")"
   ]
  },
  {
   "cell_type": "code",
   "execution_count": 3,
   "metadata": {},
   "outputs": [
    {
     "data": {
      "text/plain": [
       "6×6 Matrix{Float64}:\n",
       " 1.0       1.0       1.0  2.0  3.0       1.0\n",
       " 1.0       1.0       1.0  1.0  2.0       3.0\n",
       " 1.0       1.0       1.0  1.0  1.0       1.0\n",
       " 0.5       1.0       1.0  1.0  1.0       1.0\n",
       " 0.333333  0.5       1.0  1.0  1.0       3.0\n",
       " 1.0       0.333333  1.0  1.0  0.333333  1.0"
      ]
     },
     "metadata": {},
     "output_type": "display_data"
    }
   ],
   "source": [
    "A₁ = [\n",
    "    1.000000\t1.000000\t1.000000\t1.000000\t3.000000\t3.000000\n",
    "    1.000000\t1.000000\t1.000000\t1.000000\t3.000000\t4.000000\n",
    "    1.000000\t1.000000\t1.000000\t2.000000\t1.000000\t4.000000\n",
    "    1.000000\t1.000000\t0.500000\t1.000000\t2.000000\t2.000000\n",
    "    1/3\t1/3\t1.000000\t0.500000\t1.000000\t1.000000\n",
    "    1/3\t0.250000\t0.250000\t0.500000\t1.000000\t1.000000\n",
    "]\n",
    "\n",
    "A₂ = [\n",
    "    1.000000\t0.500000\t1.000000\t1.000000\t2.000000\t2.000000\n",
    "    2.000000\t1.000000\t1.000000\t1.000000\t2.000000\t2.000000\n",
    "    1.000000\t1.000000\t1.000000\t2.000000\t1.000000\t2.000000\n",
    "    1.000000\t1.000000\t0.500000\t1.000000\t2.000000\t1.000000\n",
    "    0.500000\t0.500000\t1.000000\t0.500000\t1.000000\t1.000000\n",
    "    0.500000\t0.500000\t0.500000\t1.000000\t1.000000\t1.000000\n",
    "]\n",
    "\n",
    "A₃ = [\n",
    "    1.000000\t0.500000\t1.000000\t1.000000\t1.000000\t1.000000\n",
    "    2.000000\t1.000000\t2.000000\t1.000000\t1.000000\t1.000000\n",
    "    1.000000\t0.500000\t1.000000\t1.000000\t1.000000\t2.000000\n",
    "    1.000000\t1.000000\t1.000000\t1.000000\t1.000000\t2.000000\n",
    "    1.000000\t1.000000\t1.000000\t1.000000\t1.000000\t2.000000\n",
    "    1.000000\t1.000000\t0.500000\t0.500000\t0.500000\t1.000000\n",
    "]\n",
    "\n",
    "A₄ = [\n",
    "    1.000000\t1.000000\t1.000000\t1.000000\t3.000000\t3.000000\n",
    "    1.000000\t1.000000\t1.000000\t1.000000\t3.000000\t4.000000\n",
    "    1.000000\t1.000000\t1.000000\t2.000000\t1.000000\t4.000000\n",
    "    1.000000\t1.000000\t0.500000\t1.000000\t2.000000\t2.000000\n",
    "    1/3\t1/3\t1.000000\t0.500000\t1.000000\t1.000000\n",
    "    1/3\t0.250000\t0.250000\t0.500000\t1.000000\t1.000000\n",
    "]\n",
    "\n",
    "A₅ = [\n",
    "    1.000000\t1.000000\t1.000000\t2.000000\t1.000000\t2.000000\n",
    "    1.000000\t1.000000\t2.000000\t1.000000\t1.000000\t1.000000\n",
    "    1.000000\t0.500000\t1.000000\t1.000000\t1.000000\t2.000000\n",
    "    0.500000\t1.000000\t1.000000\t1.000000\t1.000000\t2.000000\n",
    "    1.000000\t1.000000\t1.000000\t1.000000\t1.000000\t2.000000\n",
    "    0.500000\t1.000000\t0.500000\t0.500000\t0.500000\t1.000000\n",
    "]\n",
    "\n",
    "A₆ = [\n",
    "    1.000000\t1.000000\t1.000000\t2.000000\t3.000000\t1.000000\n",
    "    1.000000\t1.000000\t1.000000\t1.000000\t2.000000\t3.000000\n",
    "    1.000000\t1.000000\t1.000000\t1.000000\t1.000000\t1.000000\n",
    "    0.500000\t1.000000\t1.000000\t1.000000\t1.000000\t1.000000\n",
    "    1/3\t0.500000\t1.000000\t1.000000\t1.000000\t3.000000\n",
    "    1.000000\t1/3\t1.000000\t1.000000\t1/3\t1.000000\n",
    "]"
   ]
  },
  {
   "cell_type": "code",
   "execution_count": 9,
   "metadata": {},
   "outputs": [
    {
     "data": {
      "text/plain": [
       "(wᴸ = [0.16666666666666757, 0.20982142857142735, 0.16666666666666755, 0.16666666666666755, 0.1279761904761922, 0.07142857142857144], wᵁ = [0.21428571428571433, 0.21428571428571433, 0.20982142857142697, 0.16666666666666755, 0.16666666666666757, 0.11904761904761538], W = Interval{Float64}[Interval{Float64}(0.16666666666666757, 0.21428571428571433), Interval{Float64}(0.20982142857142735, 0.21428571428571433), Interval{Float64}(0.16666666666666755, 0.20982142857142697), Interval{Float64}(0.16666666666666755, 0.16666666666666755), Interval{Float64}(0.1279761904761922, 0.16666666666666757), Interval{Float64}(0.07142857142857144, 0.11904761904761538)], ŵᴸ = [0.21428571428571486 0.21428571428571483 … 0.07142857142857162 0.05357142857142871; 0.105263157894737 0.21052631578947362 … 0.10526315789473681 0.10526315789473681; 0.1458333333333324 0.1666666666666671 … 0.1666666666666671 0.08333333333333356], ŵᵁ = [0.21428571428571486 0.21428571428571483 … 0.20535714285714074 0.07142857142857162; 0.21052631578947362 0.210526315789474 … 0.21052631578947362 0.10526315789473681; 0.16666666666666713 0.2916666666666648 … 0.16666666666666713 0.1666666666666671], ŵ = Vector{Interval{Float64}}[[Interval{Float64}(0.21428571428571486, 0.21428571428571486), Interval{Float64}(0.21428571428571483, 0.21428571428571483), Interval{Float64}(0.20535714285714074, 0.21428571428571486), Interval{Float64}(0.10714285714285743, 0.21428571428571486), Interval{Float64}(0.07142857142857162, 0.20535714285714074), Interval{Float64}(0.05357142857142871, 0.07142857142857162)], [Interval{Float64}(0.105263157894737, 0.21052631578947362), Interval{Float64}(0.21052631578947362, 0.210526315789474), Interval{Float64}(0.21052631578947362, 0.21052631578947362), Interval{Float64}(0.10526315789473681, 0.21052631578947362), Interval{Float64}(0.10526315789473681, 0.21052631578947362), Interval{Float64}(0.10526315789473681, 0.10526315789473681)], [Interval{Float64}(0.1458333333333324, 0.16666666666666713), Interval{Float64}(0.1666666666666671, 0.2916666666666648), Interval{Float64}(0.1458333333333324, 0.1666666666666671), Interval{Float64}(0.1666666666666671, 0.1666666666666671), Interval{Float64}(0.1666666666666671, 0.16666666666666713), Interval{Float64}(0.08333333333333356, 0.1666666666666671)]], Ŵ = [[0.21428571428571433, 0.21428571428571433, 0.20535714285714024, 0.16666666666666755, 0.1279761904761922, 0.07142857142857144], [0.18080357142857248, 0.20982142857142735, 0.20982142857142697, 0.16666666666666755, 0.1279761904761922, 0.10491071428571348], [0.16666666666666757, 0.21428571428571433, 0.16666666666666755, 0.16666666666666755, 0.16666666666666757, 0.11904761904761538]], optimalValue = 0.1815476190476124, s = [0.9999999999999976, 0.9966517857142784, 1.0000000000000027])"
      ]
     },
     "metadata": {},
     "output_type": "display_data"
    }
   ],
   "source": [
    "originalPerfectIncorporation = solvePerfectIncorporationLP([A₁, A₂, A₃])\n",
    "#originalCommonGround = solveCommonGroundLP([A₄, A₅, A₆])\n",
    "originalPartialIncorporation = solvePartialIncorporationLP([A₁, A₂, A₃])\n",
    "PerfectIncorporation = solveonePerfectIncorporationLP([A₁, A₂, A₃])\n",
    "#CommonGround = solveoneCommonGroundLP([A₄, A₅, A₆])\n",
    "PartialIncorporation = solveonePartialIncorporationLP([A₁, A₂, A₃])\n",
    "#tPerfectIncorporation = solvetPerfectIncorporationLP([A₁, A₂, A₃])\n",
    "#tCommonGround = solvetCommonGroundLP([A₄, A₅, A₆])\n",
    "#tPartialIncorporation = solvetPartialIncorporationLP([A₁, A₂, A₃])\n",
    "tPerfectIncorporation2 = solvetPerfectIncorporationLP2([A₁, A₂, A₃])\n",
    "#tCommonGround2 = solvetCommonGroundLP2([A₄, A₅, A₆])\n",
    "tPartialIncorporation2 = solvetPartialIncorporationLP2([A₁, A₂, A₃])\n",
    "#tPerfectIncorporation3 = solvetPerfectIncorporationLP3([A₁, A₂, A₃])\n",
    "#tCommonGround3 = solvetCommonGroundLP3([A₄, A₅, A₆])\n",
    "#tPartialIncorporation3 = solvetPartialIncorporationLP3([A₁, A₂, A₃])"
   ]
  },
  {
   "cell_type": "markdown",
   "metadata": {},
   "source": [
    "perfect incorporation approach\n",
    "\n",
    "従来法\n",
    "$$\n",
    "    \\begin{align}\n",
    "        \\begin{split}\n",
    "            \\text{minimize} ~~ & ~~ \\sum_{i\\in N} (w_{i}^{R} - w_{i}^{L}) \\\\\n",
    "            \\text{subject to} ~~ & ~~ \\sum_{i\\in N} (w_{ki}^{R} - w_{ki}^{L}) \\leq \\hat{d_{k}} , k\\in M \\\\\n",
    "            ~~ & ~~ w_{ki}^{L}\\leq a_{kij}w_{kj}^{R},\\, a_{kij}w_{kj}^{L}\\leq w_{ki}^{R},\\, i,j,\\in N(i<j) , k\\in M\\\\\n",
    "            ~~ & ~~ \\sum_{j\\in N\\setminus i} w_{kj}^{R} + w_{ki}^{L}\\geq 1, k\\in M, i\\in N, \\\\\n",
    "            ~~ & ~~ \\sum_{j\\in N\\setminus i} w_{kj}^{L} + w_{ki}^{R}\\leq 1, k\\in M, i\\in N, \\\\\n",
    "            ~~ & ~~ \\sum_{i\\in N} \\frac{w_{ki}^{R} + w_{ki}^{L}}{2} = 1, k\\in M,  \\\\\n",
    "            ~~ & ~~ \\sum_{i\\in N} \\frac{w_{i}^{R} + w_{i}^{L}}{2} = 1,  \\\\\n",
    "            ~~ & ~~ \\epsilon \\leq w_{i}^{L}\\leq w_{ki}^{L}\\leq w_{ki}^{R} \\leq w_{i}^{R}, k\\in M, i\\in N.\n",
    "        \\end{split}\n",
    "    \n",
    "    \\end{align}\n",
    "$$\n",
    "\n",
    "提案法\n",
    "$$\n",
    "    \\begin{align}\n",
    "        \\begin{split}\n",
    "            \\text{minimize} ~~ & ~~ \\sum_{i\\in N} (w_{i}^{R} - w_{i}^{L}) \\\\\n",
    "            \\text{subject to} ~~ & ~~ \\sum_{i\\in N} (w_{ki}^{R} - w_{ki}^{L}) = t_{k}\\hat{d_{k}} , k\\in M \\\\\n",
    "            ~~ & ~~ w_{ki}^{L}\\leq a_{kij}w_{kj}^{R},\\, a_{kij}w_{kj}^{L}\\leq w_{ki}^{R},\\, i,j,\\in N(i<j) , k\\in M\\\\\n",
    "            ~~ & ~~ \\sum_{j\\in N\\setminus i} w_{kj}^{R} + w_{ki}^{L}\\geq 1, k\\in M, i\\in N, \\\\\n",
    "            ~~ & ~~ \\sum_{j\\in N\\setminus i} w_{kj}^{L} + w_{ki}^{R}\\leq 1, k\\in M, i\\in N, \\\\\n",
    "            ~~ & ~~ \\sum_{i\\in N} \\frac{w_{i}^{R} + w_{i}^{L}}{2} = 1, \\\\\n",
    "            ~~ & ~~ t_{k} = \\sum_{i\\in N} \\frac{w_{ki}^{R} + w_{ki}^{L}}{2}, k\\in M, \\\\\n",
    "            ~~ & ~~ \\epsilon \\leq w_{i}^{L}\\leq w_{ki}^{L}\\leq w_{ki}^{R} \\leq w_{i}^{R}, k\\in M, i\\in N.\n",
    "        \\end{split}\n",
    "    \n",
    "    \\end{align}\n",
    "$$"
   ]
  },
  {
   "cell_type": "markdown",
   "metadata": {},
   "source": [
    "perfect incorporation approach\n",
    "\n",
    "従来法\n",
    "$$\n",
    "    \\begin{align}\n",
    "        \\begin{split}\n",
    "            \\text{minimize} ~~ & ~~ \\sum_{i\\in N} (w_{i}^{R} - w_{i}^{L}) \\\\\n",
    "            \\text{subject to} ~~ & ~~ \\sum_{i\\in N} (w_{ki}^{R} - w_{ki}^{L}) \\leq \\hat{d_{k}} , k\\in M \\\\\n",
    "            ~~ & ~~ w_{ki}^{L}\\leq a_{kij}w_{kj}^{R},\\, a_{kij}w_{kj}^{L}\\leq w_{ki}^{R},\\, i,j,\\in N(i<j) , k\\in M\\\\\n",
    "            ~~ & ~~ \\sum_{j\\in N\\setminus i} w_{kj}^{R} + w_{ki}^{L}\\geq 1, k\\in M, i\\in N, \\\\\n",
    "            ~~ & ~~ \\sum_{j\\in N\\setminus i} w_{kj}^{L} + w_{ki}^{R}\\leq 1, k\\in M, i\\in N, \\\\\n",
    "            ~~ & ~~ \\sum_{i\\in N} \\frac{w_{ki}^{R} + w_{ki}^{L}}{2} = 1, k\\in M,  \\\\\n",
    "            ~~ & ~~ \\sum_{i\\in N} \\frac{w_{i}^{R} + w_{i}^{L}}{2} = 1,  \\\\\n",
    "            ~~ & ~~ \\epsilon \\leq w_{i}^{L}\\leq w_{ki}^{L}\\leq w_{ki}^{R} \\leq w_{i}^{R}, k\\in M, i\\in N.\n",
    "        \\end{split}\n",
    "    \n",
    "    \\end{align}\n",
    "$$\n",
    "\n",
    "提案法\n",
    "$$\n",
    "    \\begin{align}\n",
    "        \\begin{split}\n",
    "            \\text{minimize} ~~ & ~~ \\sum_{i\\in N} (w_{i}^{R} - w_{i}^{L}) \\\\\n",
    "            \\text{subject to} ~~ & ~~ \\sum_{i\\in N} (w_{ki}^{R} - w_{ki}^{L}) = t_{k}\\hat{d_{k}} , k\\in M \\\\\n",
    "            ~~ & ~~ w_{ki}^{L}\\leq a_{kij}w_{kj}^{R},\\, a_{kij}w_{kj}^{L}\\leq w_{ki}^{R},\\, i,j,\\in N(i<j) , k\\in M\\\\\n",
    "            ~~ & ~~ \\sum_{j\\in N\\setminus i} w_{kj}^{R} + w_{ki}^{L}\\geq 1, k\\in M, i\\in N, \\\\\n",
    "            ~~ & ~~ \\sum_{j\\in N\\setminus i} w_{kj}^{L} + w_{ki}^{R}\\leq 1, k\\in M, i\\in N, \\\\\n",
    "            ~~ & ~~ \\sum_{i\\in N} \\frac{w_{i}^{R} + w_{i}^{L}}{2} = 1, \\\\\n",
    "            ~~ & ~~ t_{k} = \\sum_{i\\in N} \\frac{w_{ki}^{R} + w_{ki}^{L}}{2}, k\\in M, \\\\\n",
    "            ~~ & ~~ \\epsilon \\leq w_{i}^{L}\\leq w_{ki}^{L}\\leq w_{ki}^{R} \\leq w_{i}^{R}, k\\in M, i\\in N.\n",
    "        \\end{split}\n",
    "    \n",
    "    \\end{align}\n",
    "$$"
   ]
  },
  {
   "cell_type": "code",
   "execution_count": 10,
   "metadata": {},
   "outputs": [
    {
     "data": {
      "text/latex": [
       "$OriginalPerfectIncorporation :$"
      ],
      "text/plain": [
       "L\"$OriginalPerfectIncorporation :$\""
      ]
     },
     "metadata": {},
     "output_type": "display_data"
    },
    {
     "data": {
      "text/latex": [
       "$W = \\begin{pmatrix} \\left[ 0.1, 0.214 \\right] \\\\ \\left[ 0.167, 0.25 \\right] \\\\ \\left[ 0.125, 0.214 \\right] \\\\ \\left[ 0.1, 0.214 \\right] \\\\ \\left[ 0.071, 0.2 \\right] \\\\ \\left[ 0.054, 0.167 \\right] \\end{pmatrix}$"
      ],
      "text/plain": [
       "L\"$W = \\begin{pmatrix} \\left[ 0.1, 0.214 \\right] \\\\ \\left[ 0.167, 0.25 \\right] \\\\ \\left[ 0.125, 0.214 \\right] \\\\ \\left[ 0.1, 0.214 \\right] \\\\ \\left[ 0.071, 0.2 \\right] \\\\ \\left[ 0.054, 0.167 \\right] \\end{pmatrix}$\""
      ]
     },
     "metadata": {},
     "output_type": "display_data"
    },
    {
     "data": {
      "text/latex": [
       "$d = 0.6428571428571433$"
      ],
      "text/plain": [
       "L\"$d = 0.6428571428571433$\""
      ]
     },
     "metadata": {},
     "output_type": "display_data"
    },
    {
     "data": {
      "text/latex": [
       "$PerfectIncorporation :$"
      ],
      "text/plain": [
       "L\"$PerfectIncorporation :$\""
      ]
     },
     "metadata": {},
     "output_type": "display_data"
    },
    {
     "data": {
      "text/latex": [
       "$W = \\begin{pmatrix} \\left[ 0.105, 0.255 \\right] \\\\ \\left[ 0.167, 0.292 \\right] \\\\ \\left[ 0.146, 0.214 \\right] \\\\ \\left[ 0.105, 0.214 \\right] \\\\ \\left[ 0.071, 0.211 \\right] \\\\ \\left[ 0.054, 0.167 \\right] \\end{pmatrix}$"
      ],
      "text/plain": [
       "L\"$W = \\begin{pmatrix} \\left[ 0.105, 0.255 \\right] \\\\ \\left[ 0.167, 0.292 \\right] \\\\ \\left[ 0.146, 0.214 \\right] \\\\ \\left[ 0.105, 0.214 \\right] \\\\ \\left[ 0.071, 0.211 \\right] \\\\ \\left[ 0.054, 0.167 \\right] \\end{pmatrix}$\""
      ]
     },
     "metadata": {},
     "output_type": "display_data"
    },
    {
     "data": {
      "text/latex": [
       "$d = 0.7039473684210501$"
      ],
      "text/plain": [
       "L\"$d = 0.7039473684210501$\""
      ]
     },
     "metadata": {},
     "output_type": "display_data"
    },
    {
     "data": {
      "text/latex": [
       "$tPerfectIncorporation :$"
      ],
      "text/plain": [
       "L\"$tPerfectIncorporation :$\""
      ]
     },
     "metadata": {},
     "output_type": "display_data"
    },
    {
     "data": {
      "text/latex": [
       "$W = \\begin{pmatrix} \\left[ 0.111, 0.222 \\right] \\\\ \\left[ 0.167, 0.292 \\right] \\\\ \\left[ 0.146, 0.222 \\right] \\\\ \\left[ 0.107, 0.222 \\right] \\\\ \\left[ 0.071, 0.222 \\right] \\\\ \\left[ 0.054, 0.167 \\right] \\end{pmatrix}$"
      ],
      "text/plain": [
       "L\"$W = \\begin{pmatrix} \\left[ 0.111, 0.222 \\right] \\\\ \\left[ 0.167, 0.292 \\right] \\\\ \\left[ 0.146, 0.222 \\right] \\\\ \\left[ 0.107, 0.222 \\right] \\\\ \\left[ 0.071, 0.222 \\right] \\\\ \\left[ 0.054, 0.167 \\right] \\end{pmatrix}$\""
      ]
     },
     "metadata": {},
     "output_type": "display_data"
    },
    {
     "data": {
      "text/latex": [
       "$d = 0.6891534391534356$"
      ],
      "text/plain": [
       "L\"$d = 0.6891534391534356$\""
      ]
     },
     "metadata": {},
     "output_type": "display_data"
    },
    {
     "data": {
      "text/latex": [
       "$s = [1.0000000000000027, 1.0524140211640185, 1.0000000000000002]$"
      ],
      "text/plain": [
       "L\"$s = [1.0000000000000027, 1.0524140211640185, 1.0000000000000002]$\""
      ]
     },
     "metadata": {},
     "output_type": "display_data"
    }
   ],
   "source": [
    "display(L\"OriginalPerfectIncorporation :\")\n",
    "W_originalPerfectIncorporation = originalPerfectIncorporation.W\n",
    "display(L\"W = %$(intervalVectorLaTeXString(W_originalPerfectIncorporation))\")\n",
    "d_originalPerfectIncorporation = originalPerfectIncorporation.optimalValue\n",
    "display(L\"d = %$(d_originalPerfectIncorporation)\")\n",
    "\n",
    "display(L\"PerfectIncorporation :\")\n",
    "W_PerfectIncorporation = PerfectIncorporation.W\n",
    "display(L\"W = %$(intervalVectorLaTeXString(W_PerfectIncorporation))\")\n",
    "d_PerfectIncorporation = PerfectIncorporation.optimalValue\n",
    "display(L\"d = %$(d_PerfectIncorporation)\")\n",
    "\n",
    "display(L\"tPerfectIncorporation :\")\n",
    "W_tPerfectIncorporation2 = tPerfectIncorporation2.W\n",
    "display(L\"W = %$(intervalVectorLaTeXString(W_tPerfectIncorporation2))\")\n",
    "d_tPerfectIncorporation2 = tPerfectIncorporation2.optimalValue\n",
    "display(L\"d = %$(d_tPerfectIncorporation2)\")\n",
    "s_tPerfectIncorporation2 = tPerfectIncorporation2.s\n",
    "display(L\"s = %$(s_tPerfectIncorporation2)\")"
   ]
  },
  {
   "cell_type": "markdown",
   "metadata": {},
   "source": [
    "common ground apploach\n",
    "\n",
    "従来法\n",
    "$$\n",
    "    \\begin{align}\n",
    "        \\begin{split}\n",
    "            \\text{maximize} ~~ & ~~ \\sum_{i\\in N} (w_{i}^{R} - w_{i}^{L}) \\\\\n",
    "            \\text{subject to} ~~ & ~~ \\sum_{i\\in N} (w_{ki}^{R} - w_{ki}^{L}) \\leq \\hat{d_{k}} , k\\in M \\\\\n",
    "            ~~ & ~~ w_{ki}^{L}\\leq a_{kij}w_{kj}^{R},\\, a_{kij}w_{kj}^{L}\\leq w_{ki}^{R},\\, i,j,\\in N(i<j) , k\\in M\\\\\n",
    "            ~~ & ~~ \\sum_{j\\in N\\setminus i} w_{kj}^{R} + w_{ki}^{L}\\geq 1, k\\in M, i\\in N, \\\\\n",
    "            ~~ & ~~ \\sum_{j\\in N\\setminus i} w_{kj}^{L} + w_{ki}^{R}\\leq 1, k\\in M, i\\in N, \\\\\n",
    "            ~~ & ~~ \\sum_{j\\in N\\setminus i} w_{j}^{R} + w_{i}^{L}\\geq 1, i\\in N, \\\\\n",
    "            ~~ & ~~ \\sum_{j\\in N\\setminus i} w_{j}^{L} + w_{i}^{R}\\leq 1, i\\in N, \\\\\n",
    "            ~~ & ~~ \\sum_{i\\in N} \\frac{w_{ki}^{R} + w_{ki}^{L}}{2} = 1, k\\in M,  \\\\\n",
    "            ~~ & ~~ \\sum_{i\\in N} \\frac{w_{i}^{R} + w_{i}^{L}}{2} = 1,  \\\\\n",
    "            ~~ & ~~ \\epsilon \\leq w_{ki}^{L}\\leq w_{i}^{L}\\leq w_{i}^{R}\\leq w_{ki}^{R}, k\\in M, i\\in N.\n",
    "        \\end{split}\n",
    "    \\end{align}\n",
    "$$\n",
    "\n",
    "提案法\n",
    "$$\n",
    "    \\begin{align}\n",
    "        \\begin{split}\n",
    "            \\text{maximize} ~~ & ~~ \\sum_{i\\in N} (w_{i}^{R} - w_{i}^{L}) \\\\\n",
    "            \\text{subject to} ~~ & ~~ \\sum_{i\\in N} (w_{ki}^{R} - w_{ki}^{L}) = t_{k}\\hat{d_{k}} , k\\in M \\\\\n",
    "            ~~ & ~~ w_{ki}^{L}\\leq a_{kij}w_{kj}^{R},\\, a_{kij}w_{kj}^{L}\\leq w_{ki}^{R},\\, i,j,\\in N(i<j) , k\\in M\\\\\n",
    "            ~~ & ~~ \\sum_{j\\in N\\setminus i} w_{kj}^{R} + w_{ki}^{L}\\geq 1, k\\in M, i\\in N, \\\\\n",
    "            ~~ & ~~ \\sum_{j\\in N\\setminus i} w_{kj}^{L} + w_{ki}^{R}\\leq 1, k\\in M, i\\in N, \\\\\n",
    "            ~~ & ~~ \\sum_{j\\in N\\setminus i} w_{j}^{R} + w_{i}^{L}\\geq 1, i\\in N, \\\\\n",
    "            ~~ & ~~ \\sum_{j\\in N\\setminus i} w_{j}^{L} + w_{i}^{R}\\leq 1, i\\in N, \\\\\n",
    "            ~~ & ~~ \\sum_{i\\in N} \\frac{w_{i}^{R} + w_{i}^{L}}{2} = 1,  \\\\\n",
    "            ~~ & ~~ t_{k} = \\sum_{i\\in N} \\frac{w_{ki}^{R} + w_{ki}^{L}}{2}, k\\in M, \\\\\n",
    "            ~~ & ~~ \\epsilon \\leq w_{ki}^{L}\\leq w_{i}^{L}\\leq w_{i}^{R}\\leq w_{ki}^{R}, k\\in M, i\\in N.\n",
    "        \\end{split}\n",
    "    \\end{align}\n",
    "$$"
   ]
  },
  {
   "cell_type": "code",
   "execution_count": 11,
   "metadata": {},
   "outputs": [
    {
     "data": {
      "text/latex": [
       "$OriginalCommonGround : $"
      ],
      "text/plain": [
       "L\"$OriginalCommonGround : $\""
      ]
     },
     "metadata": {},
     "output_type": "display_data"
    },
    {
     "ename": "UndefVarError",
     "evalue": "UndefVarError: `originalCommonGround` not defined",
     "output_type": "error",
     "traceback": [
      "UndefVarError: `originalCommonGround` not defined\n",
      "\n",
      "Stacktrace:\n",
      " [1] top-level scope\n",
      "   @ /workspaces/intervalAHP/src/lib/ttimes/MethodsEvaluation copy.ipynb:2"
     ]
    }
   ],
   "source": [
    "display(L\"OriginalCommonGround : \")\n",
    "W_originalCommonGround = originalCommonGround.W\n",
    "display(L\"W = %$(intervalVectorLaTeXString(W_originalCommonGround))\")\n",
    "d_originalCommonGround = originalCommonGround.optimalValue\n",
    "display(L\"d = %$(d_originalCommonGround)\")\n",
    "\n",
    "display(L\"CommonGround : \")\n",
    "W_CommonGround = CommonGround.W\n",
    "display(L\"W = %$(intervalVectorLaTeXString(W_CommonGround))\")\n",
    "d_CommonGround = CommonGround.optimalValue\n",
    "display(L\"d = %$(d_CommonGround)\")\n",
    "\n",
    "display(L\"tCommonGround : \")\n",
    "W_tCommonGround2 = tCommonGround2.W\n",
    "display(L\"W = %$(intervalVectorLaTeXString(W_tCommonGround2))\")\n",
    "d_tCommonGround2 = tCommonGround2.optimalValue\n",
    "display(L\"d = %$(d_tCommonGround2)\")\n",
    "s_tCommonGround2 = tCommonGround2.s\n",
    "display(L\"s = %$(s_tCommonGround2)\")"
   ]
  },
  {
   "cell_type": "markdown",
   "metadata": {},
   "source": [
    "partial incorporation apploach\n",
    "\n",
    "従来法\n",
    "$$\n",
    "    \\begin{align}\n",
    "        \\begin{split}\n",
    "            \\text{minimize} ~~ & ~~ \\sum_{i\\in N} (w_{i}^{R} - w_{i}^{L}) \\\\\n",
    "            \\text{subject to}  ~~ & ~~ \\sum_{i\\in N} (w_{ki}^{R} - w_{ki}^{L}) \\leq \\hat{d_{k}} , k\\in M \\\\\n",
    "            ~~ & ~~ w_{ki}^{L}\\leq a_{kij}w_{kj}^{R},\\, a_{kij}w_{kj}^{L}\\leq w_{ki}^{R},\\, i,j,\\in N(i<j) , k\\in M\\\\\n",
    "            ~~ & ~~ \\sum_{j\\in N\\setminus i} w_{kj}^{R} + w_{ki}^{L}\\geq 1, k\\in M, i\\in N, \\\\\n",
    "            ~~ & ~~ \\sum_{j\\in N\\setminus i} w_{kj}^{L} + w_{ki}^{R}\\leq 1, k\\in M, i\\in N, \\\\\n",
    "            ~~ & ~~ \\sum_{i\\in N} w_{ki} = 1, k\\in M, \\\\\n",
    "            ~~ & ~~ \\sum_{i\\in N} \\frac{w_{ki}^{R} + w_{ki}^{L}}{2} = 1, k\\in M,  \\\\\n",
    "            ~~ & ~~ \\sum_{i\\in N} \\frac{w_{i}^{R} + w_{i}^{L}}{2} = 1,  \\\\\n",
    "            ~~ & ~~ \\epsilon \\leq w_{i}^{L}\\leq w_{ki}\\leq w_{ki}^{R}, \\epsilon \\leq w_{ki}^{L}\\leq w_{ki}\\leq w_{i}^{R}, k\\in M, i\\in N.\n",
    "        \\end{split}\n",
    "    \\end{align}\n",
    "$$\n",
    "\n",
    "提案法\n",
    "$$\n",
    "    \\begin{align}\n",
    "        \\begin{split}\n",
    "            \\text{minimize} ~~ & ~~ \\sum_{i\\in N} (w_{i}^{R} - w_{i}^{L}) \\\\\n",
    "            \\text{subject to}  ~~ & ~~ \\sum_{i\\in N} (w_{ki}^{R} - w_{ki}^{L}) = t_{k}\\hat{d_{k}} , k\\in M \\\\\n",
    "            ~~ & ~~ w_{ki}^{L}\\leq a_{kij}w_{kj}^{R},\\, a_{kij}w_{kj}^{L}\\leq w_{ki}^{R},\\, i,j,\\in N(i<j) , k\\in M\\\\\n",
    "            ~~ & ~~ \\sum_{j\\in N\\setminus i} w_{kj}^{R} + w_{ki}^{L}\\geq 1, k\\in M, i\\in N, \\\\\n",
    "            ~~ & ~~ \\sum_{j\\in N\\setminus i} w_{kj}^{L} + w_{ki}^{R}\\leq 1, k\\in M, i\\in N, \\\\\n",
    "            ~~ & ~~ \\sum_{i\\in N} w_{ki} = 1, k\\in M \\\\\n",
    "            ~~ & ~~ \\sum_{i\\in N} \\frac{w_{i}^{R} + w_{i}^{L}}{2} = 1,   \\\\\n",
    "            ~~ & ~~ t_{k} = \\sum_{i\\in N} \\frac{w_{ki}^{R} + w_{ki}^{L}}{2}, k\\in M, \\\\\n",
    "            ~~ & ~~ \\epsilon \\leq w_{i}^{L}\\leq w_{ki}\\leq w_{ki}^{R}, \\epsilon \\leq w_{ki}^{L}\\leq w_{ki}\\leq w_{i}^{R}, k\\in M, i\\in N.\n",
    "        \\end{split}\n",
    "    \\end{align}\n",
    "$$\n"
   ]
  },
  {
   "cell_type": "code",
   "execution_count": 12,
   "metadata": {},
   "outputs": [
    {
     "data": {
      "text/latex": [
       "$OriginalPartialIncorporation :$"
      ],
      "text/plain": [
       "L\"$OriginalPartialIncorporation :$\""
      ]
     },
     "metadata": {},
     "output_type": "display_data"
    },
    {
     "data": {
      "text/latex": [
       "$W = \\begin{pmatrix} \\left[ 0.167, 0.214 \\right] \\\\ \\left[ 0.2, 0.214 \\right] \\\\ \\left[ 0.167, 0.2 \\right] \\\\ \\left[ 0.167, 0.167 \\right] \\\\ \\left[ 0.155, 0.167 \\right] \\\\ \\left[ 0.071, 0.119 \\right] \\end{pmatrix}$"
      ],
      "text/plain": [
       "L\"$W = \\begin{pmatrix} \\left[ 0.167, 0.214 \\right] \\\\ \\left[ 0.2, 0.214 \\right] \\\\ \\left[ 0.167, 0.2 \\right] \\\\ \\left[ 0.167, 0.167 \\right] \\\\ \\left[ 0.155, 0.167 \\right] \\\\ \\left[ 0.071, 0.119 \\right] \\end{pmatrix}$\""
      ]
     },
     "metadata": {},
     "output_type": "display_data"
    },
    {
     "data": {
      "text/latex": [
       "$d = 0.15476190476191132$"
      ],
      "text/plain": [
       "L\"$d = 0.15476190476191132$\""
      ]
     },
     "metadata": {},
     "output_type": "display_data"
    },
    {
     "data": {
      "text/latex": [
       "$PartialIncorporation :$"
      ],
      "text/plain": [
       "L\"$PartialIncorporation :$\""
      ]
     },
     "metadata": {},
     "output_type": "display_data"
    },
    {
     "data": {
      "text/latex": [
       "$W = \\begin{pmatrix} \\left[ 0.167, 0.214 \\right] \\\\ \\left[ 0.211, 0.214 \\right] \\\\ \\left[ 0.167, 0.211 \\right] \\\\ \\left[ 0.167, 0.167 \\right] \\\\ \\left[ 0.14, 0.167 \\right] \\\\ \\left[ 0.058, 0.119 \\right] \\end{pmatrix}$"
      ],
      "text/plain": [
       "L\"$W = \\begin{pmatrix} \\left[ 0.167, 0.214 \\right] \\\\ \\left[ 0.211, 0.214 \\right] \\\\ \\left[ 0.167, 0.211 \\right] \\\\ \\left[ 0.167, 0.167 \\right] \\\\ \\left[ 0.14, 0.167 \\right] \\\\ \\left[ 0.058, 0.119 \\right] \\end{pmatrix}$\""
      ]
     },
     "metadata": {},
     "output_type": "display_data"
    },
    {
     "data": {
      "text/latex": [
       "$d = 0.18295739348370588$"
      ],
      "text/plain": [
       "L\"$d = 0.18295739348370588$\""
      ]
     },
     "metadata": {},
     "output_type": "display_data"
    },
    {
     "data": {
      "text/latex": [
       "$tPartialIncorporation :$"
      ],
      "text/plain": [
       "L\"$tPartialIncorporation :$\""
      ]
     },
     "metadata": {},
     "output_type": "display_data"
    },
    {
     "data": {
      "text/latex": [
       "$W = \\begin{pmatrix} \\left[ 0.167, 0.214 \\right] \\\\ \\left[ 0.21, 0.214 \\right] \\\\ \\left[ 0.167, 0.21 \\right] \\\\ \\left[ 0.167, 0.167 \\right] \\\\ \\left[ 0.128, 0.167 \\right] \\\\ \\left[ 0.071, 0.119 \\right] \\end{pmatrix}$"
      ],
      "text/plain": [
       "L\"$W = \\begin{pmatrix} \\left[ 0.167, 0.214 \\right] \\\\ \\left[ 0.21, 0.214 \\right] \\\\ \\left[ 0.167, 0.21 \\right] \\\\ \\left[ 0.167, 0.167 \\right] \\\\ \\left[ 0.128, 0.167 \\right] \\\\ \\left[ 0.071, 0.119 \\right] \\end{pmatrix}$\""
      ]
     },
     "metadata": {},
     "output_type": "display_data"
    },
    {
     "data": {
      "text/latex": [
       "$d = 0.1815476190476124$"
      ],
      "text/plain": [
       "L\"$d = 0.1815476190476124$\""
      ]
     },
     "metadata": {},
     "output_type": "display_data"
    },
    {
     "data": {
      "text/latex": [
       "$s = [0.9999999999999976, 0.9966517857142784, 1.0000000000000027]$"
      ],
      "text/plain": [
       "L\"$s = [0.9999999999999976, 0.9966517857142784, 1.0000000000000027]$\""
      ]
     },
     "metadata": {},
     "output_type": "display_data"
    }
   ],
   "source": [
    "display(L\"OriginalPartialIncorporation :\")\n",
    "W_originalPartialIncorporation = originalPartialIncorporation.W\n",
    "display(L\"W = %$(intervalVectorLaTeXString(W_originalPartialIncorporation))\")\n",
    "d_originalPartialIncorporation = originalPartialIncorporation.optimalValue\n",
    "display(L\"d = %$(d_originalPartialIncorporation)\")\n",
    "\n",
    "display(L\"PartialIncorporation :\")\n",
    "W_PartialIncorporation = PartialIncorporation.W\n",
    "display(L\"W = %$(intervalVectorLaTeXString(W_PartialIncorporation))\")\n",
    "d_PartialIncorporation = PartialIncorporation.optimalValue\n",
    "display(L\"d = %$(d_PartialIncorporation)\")\n",
    "\n",
    "display(L\"tPartialIncorporation :\")\n",
    "W_tPartialIncorporation2 = tPartialIncorporation2.W\n",
    "display(L\"W = %$(intervalVectorLaTeXString(W_tPartialIncorporation2))\")\n",
    "d_tPartialIncorporation2 = tPartialIncorporation2.optimalValue\n",
    "display(L\"d = %$(d_tPartialIncorporation2)\")\n",
    "s_tPartialIncorporation2 = tPartialIncorporation2.s\n",
    "display(L\"s = %$(s_tPartialIncorporation2)\")"
   ]
  },
  {
   "cell_type": "code",
   "execution_count": 13,
   "metadata": {},
   "outputs": [],
   "source": []
  },
  {
   "cell_type": "code",
   "execution_count": null,
   "metadata": {},
   "outputs": [],
   "source": []
  }
 ],
 "metadata": {
  "kernelspec": {
   "display_name": "Julia 1.9.3",
   "language": "julia",
   "name": "julia-1.9"
  },
  "language_info": {
   "file_extension": ".jl",
   "mimetype": "application/julia",
   "name": "julia",
   "version": "1.9.3"
  }
 },
 "nbformat": 4,
 "nbformat_minor": 2
}
