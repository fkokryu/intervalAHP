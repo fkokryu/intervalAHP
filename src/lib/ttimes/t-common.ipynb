{
 "cells": [
  {
   "cell_type": "code",
   "execution_count": 1,
   "metadata": {},
   "outputs": [],
   "source": [
    "using LaTeXStrings"
   ]
  },
  {
   "cell_type": "code",
   "execution_count": 2,
   "metadata": {},
   "outputs": [
    {
     "data": {
      "text/plain": [
       "solvetCommonGroundLP (generic function with 1 method)"
      ]
     },
     "metadata": {},
     "output_type": "display_data"
    }
   ],
   "source": [
    "include(\"../display/display-crisp-matrix.jl\")\n",
    "include(\"../display/display-interval-vector.jl\")\n",
    "include(\"./t-common.jl\")"
   ]
  },
  {
   "cell_type": "code",
   "execution_count": 3,
   "metadata": {},
   "outputs": [
    {
     "data": {
      "text/plain": [
       "4×4 Matrix{Float64}:\n",
       " 1.0       1.0       2.0       6.0\n",
       " 1.0       1.0       3.0       2.0\n",
       " 0.5       0.333333  1.0       3.0\n",
       " 0.166667  0.5       0.333333  1.0"
      ]
     },
     "metadata": {},
     "output_type": "display_data"
    }
   ],
   "source": [
    "A₁ = [\n",
    "    1 1 2 2\n",
    "    1 1 3 1\n",
    "    1/2 1/3 1 3\n",
    "    1/2 1 1/3 1\n",
    "]\n",
    "\n",
    "A₂ = [\n",
    "    1 1 3 3\n",
    "    1 1 2 5\n",
    "    1/3 1/2 1 2\n",
    "    1/3 1/5 1/2 1\n",
    "]\n",
    "\n",
    "A₃ = [\n",
    "    1 1 2 6\n",
    "    1 1 3 2\n",
    "    1/2 1/3 1 3\n",
    "    1/6 1/2 1/3 1\n",
    "]"
   ]
  },
  {
   "cell_type": "markdown",
   "metadata": {},
   "source": [
    "common ground apploach\n",
    "従来法\n",
    "$$\n",
    "    \\begin{align}\n",
    "        \\begin{split}\n",
    "            \\text{maximize} ~~ & ~~ \\sum_{i\\in N} (w_{i}^{U} - w_{i}^{L}) \\\\\n",
    "            \\text{subject to} ~~ & ~~ \\sum_{i\\in N} (w_{ki}^{U} - w_{ki}^{L}) \\leq \\hat{d_{k}} , k\\in M \\\\\n",
    "            ~~ & ~~ w_{ki}^{L}\\leq a_{kij}w_{kj}^{R},\\, a_{kij}w_{kj}^{L}\\leq w_{ki}^{U},\\, i,j,\\in N(i<j) , k\\in M\\\\\n",
    "            ~~ & ~~ \\sum_{j\\in N\\setminus i} w_{kj}^{R} + w_{ki}^{L}\\geq 1, k\\in M, i\\in N, \\\\\n",
    "            ~~ & ~~ \\sum_{j\\in N\\setminus i} w_{kj}^{L} + w_{ki}^{U}\\leq 1, k\\in M, i\\in N, \\\\\n",
    "            ~~ & ~~ \\sum_{j\\in N\\setminus i} w_{j}^{R} + w_{i}^{L}\\geq 1, i\\in N, \\\\\n",
    "            ~~ & ~~ \\sum_{j\\in N\\setminus i} w_{j}^{L} + w_{i}^{U}\\leq 1, i\\in N, \\\\\n",
    "            ~~ & ~~ \\epsilon \\leq w_{ki}^{L}\\leq w_{i}^{L}\\leq w_{i}^{U}\\leq w_{ki}^{U}, k\\in M, i\\in N.\n",
    "        \\end{split}\n",
    "    \n",
    "    \\end{align}\n",
    "$$\n",
    "提案法\n",
    "$$\n",
    "    \\begin{align}\n",
    "        \\begin{split}\n",
    "            \\text{maximize} ~~ & ~~ \\sum_{i\\in N} (w_{i}^{U} - w_{i}^{L}) \\\\\n",
    "            \\text{subject to} ~~ & ~~ \\sum_{i\\in N} (t_{k}w_{ki}^{U} - t_{k}w_{ki}^{L}) \\leq t_{k}\\hat{d_{k}} , k\\in M \\\\\n",
    "            ~~ & ~~ t_{k}w_{ki}^{L}\\leq a_{kij}t_{k}w_{kj}^{R},\\, a_{kij}t_{k}w_{kj}^{L}\\leq t_{k}w_{ki}^{U},\\, i,j,\\in N(i<j) , k\\in M\\\\\n",
    "            ~~ & ~~ \\sum_{j\\in N\\setminus i} t_{k}w_{kj}^{R} + t_{k}w_{ki}^{L}\\geq 1, k\\in M, i\\in N, \\\\\n",
    "            ~~ & ~~ \\sum_{j\\in N\\setminus i} t_{k}w_{kj}^{L} + t_{k}w_{ki}^{U}\\leq 1, k\\in M, i\\in N, \\\\\n",
    "            ~~ & ~~ \\sum_{j\\in N\\setminus i} w_{j}^{R} + w_{i}^{L}\\geq 1, i\\in N, \\\\\n",
    "            ~~ & ~~ \\sum_{j\\in N\\setminus i} w_{j}^{L} + w_{i}^{U}\\leq 1, i\\in N, \\\\\n",
    "            ~~ & ~~ \\sum_{i\\in N} \\frac{v_{ki}^{R} + v_{ki}^{L}}{2} = 1, k\\in M  \\\\\n",
    "            ~~ & ~~ \\epsilon \\leq t_{k}w_{ki}^{L}\\leq w_{i}^{L}\\leq w_{i}^{U}\\leq t_{k}w_{ki}^{U}, k\\in M, i\\in N.\n",
    "        \\end{split}\n",
    "    \n",
    "    \\end{align}\n",
    "$$\n"
   ]
  },
  {
   "cell_type": "code",
   "execution_count": 4,
   "metadata": {},
   "outputs": [
    {
     "name": "stdout",
     "output_type": "stream",
     "text": [
      "[0.375, 0.11666666666666692, 0.20833333333333404]"
     ]
    },
    {
     "data": {
      "text/plain": [
       "4-element Vector{Interval{Float64}}:\n",
       " [0.999999e-08, 1.00001]\n",
       " [0.999999e-08, 1.00001]\n",
       " [0.999999e-08, 1.00001e-08]\n",
       " [0.999999e-08, 1.00001e-08]"
      ]
     },
     "metadata": {},
     "output_type": "display_data"
    }
   ],
   "source": [
    "solution = solvetCommonGroundLP([A₁, A₂, A₃])\n",
    "W = solution.W"
   ]
  },
  {
   "cell_type": "code",
   "execution_count": 5,
   "metadata": {},
   "outputs": [
    {
     "data": {
      "text/latex": [
       "$W = \\begin{pmatrix} \\left[ 0.0, 1.0 \\right] \\\\ \\left[ 0.0, 1.0 \\right] \\\\ \\left[ 0.0, 0.0 \\right] \\\\ \\left[ 0.0, 0.0 \\right] \\end{pmatrix}$"
      ],
      "text/plain": [
       "L\"$W = \\begin{pmatrix} \\left[ 0.0, 1.0 \\right] \\\\ \\left[ 0.0, 1.0 \\right] \\\\ \\left[ 0.0, 0.0 \\right] \\\\ \\left[ 0.0, 0.0 \\right] \\end{pmatrix}$\""
      ]
     },
     "metadata": {},
     "output_type": "display_data"
    }
   ],
   "source": [
    "display(L\"W = %$(intervalVectorLaTeXString(W))\")"
   ]
  },
  {
   "cell_type": "code",
   "execution_count": 6,
   "metadata": {},
   "outputs": [
    {
     "data": {
      "text/plain": [
       "1.99999992"
      ]
     },
     "metadata": {},
     "output_type": "display_data"
    }
   ],
   "source": [
    "d = solution.optimalValue"
   ]
  },
  {
   "cell_type": "code",
   "execution_count": 7,
   "metadata": {},
   "outputs": [
    {
     "data": {
      "text/plain": [
       "3-element Vector{Float64}:\n",
       "  5.33333312\n",
       " 17.14285645714282\n",
       "  9.599999615999968"
      ]
     },
     "metadata": {},
     "output_type": "display_data"
    }
   ],
   "source": [
    "s = solution.s"
   ]
  },
  {
   "cell_type": "code",
   "execution_count": 8,
   "metadata": {},
   "outputs": [],
   "source": []
  }
 ],
 "metadata": {
  "kernelspec": {
   "display_name": "Julia 1.9.3",
   "language": "julia",
   "name": "julia-1.9"
  },
  "language_info": {
   "file_extension": ".jl",
   "mimetype": "application/julia",
   "name": "julia",
   "version": "1.9.3"
  }
 },
 "nbformat": 4,
 "nbformat_minor": 2
}
