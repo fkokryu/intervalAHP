{
 "cells": [
  {
   "cell_type": "code",
   "execution_count": 1,
   "metadata": {},
   "outputs": [],
   "source": [
    "using LaTeXStrings"
   ]
  },
  {
   "cell_type": "code",
   "execution_count": 2,
   "metadata": {},
   "outputs": [
    {
     "data": {
      "text/plain": [
       "solvetPartialIncorporationLP (generic function with 1 method)"
      ]
     },
     "metadata": {},
     "output_type": "display_data"
    }
   ],
   "source": [
    "include(\"../display/display-crisp-matrix.jl\")\n",
    "include(\"../display/display-interval-vector.jl\")\n",
    "include(\"./t-partial.jl\")"
   ]
  },
  {
   "cell_type": "code",
   "execution_count": 3,
   "metadata": {},
   "outputs": [
    {
     "data": {
      "text/plain": [
       "4×4 Matrix{Float64}:\n",
       " 1.0  1.0       2.0       2.0\n",
       " 1.0  1.0       3.0       1.0\n",
       " 0.5  0.333333  1.0       3.0\n",
       " 0.5  1.0       0.333333  1.0"
      ]
     },
     "metadata": {},
     "output_type": "display_data"
    }
   ],
   "source": [
    "A₁ = [\n",
    "    1 2 3 4\n",
    "    1/2 1 2 3\n",
    "    1/3 1/2 1 2\n",
    "    1/4 1/3 1/2 1\n",
    "]\n",
    "\n",
    "A₂ = [\n",
    "    1 3 3 4\n",
    "    1/3 1 3 3\n",
    "    1/3 1/3 1 4\n",
    "    1/4 1/3 1/4 1\n",
    "]\n",
    "\n",
    "A₃ = [\n",
    "    1 1 2 2\n",
    "    1 1 3 1\n",
    "    1/2 1/3 1 3\n",
    "    1/2 1 1/3 1\n",
    "]"
   ]
  },
  {
   "cell_type": "markdown",
   "metadata": {},
   "source": [
    "partial incorporation apploach\n",
    "\n",
    "従来法\n",
    "$$\n",
    "    \\begin{align}\n",
    "        \\begin{split}\n",
    "            \\text{minimize} ~~ & ~~ \\sum_{i\\in N} (w_{i}^{R} - w_{i}^{L}) \\\\\n",
    "            \\text{subject to}  ~~ & ~~ \\sum_{i\\in N} (w_{ki}^{R} - w_{ki}^{L}) \\leq \\hat{d_{k}} , k\\in M \\\\\n",
    "            ~~ & ~~ w_{ki}^{L}\\leq a_{kij}w_{kj}^{R},\\, a_{kij}w_{kj}^{L}\\leq w_{ki}^{R},\\, i,j,\\in N(i<j) , k\\in M\\\\\n",
    "            ~~ & ~~ \\sum_{j\\in N\\setminus i} w_{kj}^{R} + w_{ki}^{L}\\geq 1, k\\in M, i\\in N, \\\\\n",
    "            ~~ & ~~ \\sum_{j\\in N\\setminus i} w_{kj}^{L} + w_{ki}^{R}\\leq 1, k\\in M, i\\in N, \\\\\n",
    "            ~~ & ~~ \\sum_{i\\in N} w_{ki} = 1, k\\in M, \\\\\n",
    "            ~~ & ~~ \\epsilon \\leq w_{i}^{L}\\leq w_{ki}\\leq w_{ki}^{R}, \\epsilon \\leq w_{ki}^{L}\\leq w_{ki}\\leq w_{i}^{R}, k\\in M, i\\in N.\n",
    "        \\end{split}\n",
    "    \\end{align}\n",
    "$$\n",
    "提案法\n",
    "$$\n",
    "    \\begin{align}\n",
    "        \\begin{split}\n",
    "            \\text{minimize} ~~ & ~~ \\sum_{i\\in N} (w_{i}^{R} - w_{i}^{L}) \\\\\n",
    "            \\text{subject to}  ~~ & ~~ \\sum_{i\\in N} (t_{k}w_{ki}^{R} - t_{k}w_{ki}^{L}) \\leq t_{k}\\hat{d_{k}} , k\\in M \\\\\n",
    "            ~~ & ~~ t_{k}w_{ki}^{L}\\leq a_{kij}t_{k}w_{kj}^{R},\\, a_{kij}t_{k}w_{kj}^{L}\\leq t_{k}w_{ki}^{R},\\, i,j,\\in N(i<j) , k\\in M\\\\\n",
    "            ~~ & ~~ \\sum_{j\\in N\\setminus i} t_{k}w_{kj}^{R} + t_{k}w_{ki}^{L}\\geq 1, k\\in M, i\\in N, \\\\\n",
    "            ~~ & ~~ \\sum_{j\\in N\\setminus i} t_{k}w_{kj}^{L} + t_{k}w_{ki}^{R}\\leq 1, k\\in M, i\\in N, \\\\\n",
    "            ~~ & ~~ \\sum_{i\\in N} t_{k}w_{ki} = t_{k}, k\\in M \\\\\n",
    "            ~~ & ~~ \\sum_{i\\in N} \\frac{v_{ki}^{R} + v_{ki}^{L}}{2} = 1, k\\in M  \\\\\n",
    "            ~~ & ~~ \\epsilon \\leq w_{i}^{L}\\leq t_{k}w_{ki}\\leq t_{k}w_{ki}^{R}, \\epsilon \\leq t_{k}w_{ki}^{L}\\leq t_{k}w_{ki}\\leq w_{i}^{R}, k\\in M, i\\in N.\n",
    "        \\end{split}\n",
    "    \\end{align}\n",
    "$$\n"
   ]
  },
  {
   "cell_type": "code",
   "execution_count": 4,
   "metadata": {},
   "outputs": [
    {
     "data": {
      "text/plain": [
       "4-element Vector{Interval{Float64}}:\n",
       " [0.374999, 0.547298]\n",
       " [0.256728, 0.305744]\n",
       " [0.165631, 0.182433]\n",
       " [0.124223, 0.136825]"
      ]
     },
     "metadata": {},
     "output_type": "display_data"
    }
   ],
   "source": [
    "solution = solvetPartialIncorporationLP([A₁, A₂, A₃])\n",
    "W = solution.W"
   ]
  },
  {
   "cell_type": "code",
   "execution_count": 5,
   "metadata": {},
   "outputs": [
    {
     "data": {
      "text/latex": [
       "$W = \\begin{pmatrix} \\left[ 0.375, 0.547 \\right] \\\\ \\left[ 0.257, 0.306 \\right] \\\\ \\left[ 0.166, 0.182 \\right] \\\\ \\left[ 0.124, 0.137 \\right] \\end{pmatrix}$"
      ],
      "text/plain": [
       "L\"$W = \\begin{pmatrix} \\left[ 0.375, 0.547 \\right] \\\\ \\left[ 0.257, 0.306 \\right] \\\\ \\left[ 0.166, 0.182 \\right] \\\\ \\left[ 0.124, 0.137 \\right] \\end{pmatrix}$\""
      ]
     },
     "metadata": {},
     "output_type": "display_data"
    }
   ],
   "source": [
    "display(L\"W = %$(intervalVectorLaTeXString(W))\")"
   ]
  },
  {
   "cell_type": "code",
   "execution_count": 6,
   "metadata": {},
   "outputs": [
    {
     "data": {
      "text/plain": [
       "0.2507134463656203"
      ]
     },
     "metadata": {},
     "output_type": "display_data"
    }
   ],
   "source": [
    "d = solution.optimalValue"
   ]
  },
  {
   "cell_type": "code",
   "execution_count": 7,
   "metadata": {},
   "outputs": [],
   "source": []
  }
 ],
 "metadata": {
  "kernelspec": {
   "display_name": "Julia 1.9.3",
   "language": "julia",
   "name": "julia-1.9"
  },
  "language_info": {
   "file_extension": ".jl",
   "mimetype": "application/julia",
   "name": "julia",
   "version": "1.9.3"
  }
 },
 "nbformat": 4,
 "nbformat_minor": 2
}
