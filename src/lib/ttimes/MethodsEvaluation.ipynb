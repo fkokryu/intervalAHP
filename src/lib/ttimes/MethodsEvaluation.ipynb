{
 "cells": [
  {
   "cell_type": "code",
   "execution_count": 1,
   "metadata": {},
   "outputs": [],
   "source": [
    "using LaTeXStrings"
   ]
  },
  {
   "cell_type": "code",
   "execution_count": 2,
   "metadata": {},
   "outputs": [
    {
     "data": {
      "text/plain": [
       "solvetPartialIncorporationLP (generic function with 1 method)"
      ]
     },
     "metadata": {},
     "output_type": "display_data"
    }
   ],
   "source": [
    "include(\"../display/display-crisp-matrix.jl\")\n",
    "include(\"../display/display-interval-vector.jl\")\n",
    "include(\"../entani/perfect-incorporation.jl\")\n",
    "include(\"../entani/common-ground.jl\")\n",
    "include(\"../entani/partial-incorporarion.jl\")\n",
    "include(\"../center-equal-one/one-perfect.jl\")\n",
    "include(\"../center-equal-one/one-common.jl\")\n",
    "include(\"../center-equal-one/one-partial.jl\")\n",
    "include(\"./t-perfect.jl\")\n",
    "include(\"./t-common.jl\")\n",
    "include(\"./t-partial.jl\")"
   ]
  },
  {
   "cell_type": "code",
   "execution_count": 3,
   "metadata": {},
   "outputs": [
    {
     "data": {
      "text/plain": [
       "4×4 Matrix{Float64}:\n",
       " 1.0       1.0       2.0       6.0\n",
       " 1.0       1.0       3.0       2.0\n",
       " 0.5       0.333333  1.0       3.0\n",
       " 0.166667  0.5       0.333333  1.0"
      ]
     },
     "metadata": {},
     "output_type": "display_data"
    }
   ],
   "source": [
    "A₁ = [\n",
    "    1 2 3 4\n",
    "    1/2 1 2 3\n",
    "    1/3 1/2 1 2\n",
    "    1/4 1/3 1/2 1\n",
    "]\n",
    "\n",
    "A₂ = [\n",
    "    1 3 3 4\n",
    "    1/3 1 3 3\n",
    "    1/3 1/3 1 4\n",
    "    1/4 1/3 1/4 1\n",
    "]\n",
    "\n",
    "A₃ = [\n",
    "    1 1 2 2\n",
    "    1 1 3 1\n",
    "    1/2 1/3 1 3\n",
    "    1/2 1 1/3 1\n",
    "]\n",
    "\n",
    "A₄ = [\n",
    "    1 1 2 2\n",
    "    1 1 3 1\n",
    "    1/2 1/3 1 3\n",
    "    1/2 1 1/3 1\n",
    "]\n",
    "\n",
    "A₅ = [\n",
    "    1 1 3 3\n",
    "    1 1 2 5\n",
    "    1/3 1/2 1 2\n",
    "    1/3 1/5 1/2 1\n",
    "]\n",
    "\n",
    "A₆ = [\n",
    "    1 1 2 6\n",
    "    1 1 3 2\n",
    "    1/2 1/3 1 3\n",
    "    1/6 1/2 1/3 1\n",
    "]"
   ]
  },
  {
   "cell_type": "code",
   "execution_count": 4,
   "metadata": {},
   "outputs": [
    {
     "data": {
      "text/plain": [
       "(wᴸ = [0.5555555529629629, 0.29629628691358034, 0.0370370475308642, 0.11111111259259258], wᵁ = [0.5555555529629629, 0.29629628691358034, 0.0370370475308642, 0.11111111259259258], W = Interval{Float64}[Interval{Float64}(0.5555555529629629, 0.5555555529629629), Interval{Float64}(0.29629628691358034, 0.29629628691358034), Interval{Float64}(0.0370370475308642, 0.0370370475308642), Interval{Float64}(0.11111111259259258, 0.11111111259259258)], vᴸ = [0.10526316936288221 0.06578947966759073 0.008771933148661475 2.3684212790858995e-9; 0.23809525952381116 0.09920635634920688 0.019841276984127534 5.357143205561172e-9; 0.17307692849112452 0.08653846424556226 5.1923078547337346e-9 5.1923078547337346e-9], vᵁ = [0.13157895933518146 0.07017544308402644 0.035087723120960736 0.026315792340720554; 0.2976190690476207 0.15873016587301642 0.07936508650793705 0.059523814880952784; 0.28846154613905356 0.17307692849112447 0.08653846424556226 0.08653846424556226], v = Vector{Interval{Float64}}[[Interval{Float64}(0.10526316936288221, 0.13157895933518146), Interval{Float64}(0.06578947966759073, 0.07017544308402644), Interval{Float64}(0.008771933148661475, 0.035087723120960736), Interval{Float64}(2.3684212790858995e-9, 0.026315792340720554)], [Interval{Float64}(0.23809525952381116, 0.2976190690476207), Interval{Float64}(0.09920635634920688, 0.15873016587301642), Interval{Float64}(0.019841276984127534, 0.07936508650793705), Interval{Float64}(5.357143205561172e-9, 0.059523814880952784)], [Interval{Float64}(0.17307692849112452, 0.28846154613905356), Interval{Float64}(0.08653846424556226, 0.17307692849112447), Interval{Float64}(5.1923078547337346e-9, 0.08653846424556226), Interval{Float64}(5.1923078547337346e-9, 0.08653846424556226)]], V = [[0.5555555529629629, 0.29629628691358034, 0.0370370475308642, 0.11111111259259257], [0.5555555529629629, 0.2962962869135803, 0.0370370475308642, 0.11111111259259258], [0.5555555529629629, 0.29629628691358034, 0.0370370475308642, 0.11111111259259254]], optimalValue = 0.0, s = [4.222221818518509, 1.8666665235555557, 1.9259258656790117])"
      ]
     },
     "metadata": {},
     "output_type": "display_data"
    }
   ],
   "source": [
    "originalPerfectIncorporation = solvePerfectIncorporationLP([A₁, A₂, A₃])\n",
    "originalCommonGround = solveCommonGroundLP([A₄, A₅, A₆])\n",
    "originalPartialIncorporation = solvePartialIncorporationLP([A₁, A₂, A₃])\n",
    "PerfectIncorporation = solveonePerfectIncorporationLP([A₁, A₂, A₃])\n",
    "CommonGround = solveoneCommonGroundLP([A₄, A₅, A₆])\n",
    "PartialIncorporation = solveonePartialIncorporationLP([A₁, A₂, A₃])\n",
    "tPerfectIncorporation = solvetPerfectIncorporationLP([A₁, A₂, A₃])\n",
    "tCommonGround = solvetCommonGroundLP([A₄, A₅, A₆])\n",
    "tPartialIncorporation = solvetPartialIncorporationLP([A₁, A₂, A₃])"
   ]
  },
  {
   "cell_type": "markdown",
   "metadata": {},
   "source": [
    "perfect incorporation approach\n",
    "\n",
    "従来法\n",
    "$$\n",
    "    \\begin{align}\n",
    "        \\begin{split}\n",
    "            \\text{minimize} ~~ & ~~ \\sum_{i\\in N} (w_{i}^{R} - w_{i}^{L}) \\\\\n",
    "            \\text{subject to} ~~ & ~~ \\sum_{i\\in N} (w_{ki}^{R} - w_{ki}^{L}) \\leq \\hat{d_{k}} , k\\in M \\\\\n",
    "            ~~ & ~~ w_{ki}^{L}\\leq a_{kij}w_{kj}^{R},\\, a_{kij}w_{kj}^{L}\\leq w_{ki}^{R},\\, i,j,\\in N(i<j) , k\\in M\\\\\n",
    "            ~~ & ~~ \\sum_{j\\in N\\setminus i} w_{kj}^{R} + w_{ki}^{L}\\geq 1, k\\in M, i\\in N, \\\\\n",
    "            ~~ & ~~ \\sum_{j\\in N\\setminus i} w_{kj}^{L} + w_{ki}^{R}\\leq 1, k\\in M, i\\in N, \\\\\n",
    "            ~~ & ~~ \\sum_{i\\in N} \\frac{w_{ki}^{R} + w_{ki}^{L}}{2} = 1, k\\in M,  \\\\\n",
    "            ~~ & ~~ \\sum_{i\\in N} \\frac{w_{i}^{R} + w_{i}^{L}}{2} = 1,  \\\\\n",
    "            ~~ & ~~ \\epsilon \\leq w_{i}^{L}\\leq w_{ki}^{L}\\leq w_{ki}^{R} \\leq w_{i}^{R}, k\\in M, i\\in N.\n",
    "        \\end{split}\n",
    "    \n",
    "    \\end{align}\n",
    "$$\n",
    "提案法\n",
    "$$\n",
    "    \\begin{align}\n",
    "        \\begin{split}\n",
    "            \\text{minimize} ~~ & ~~ \\sum_{i\\in N} (w_{i}^{R} - w_{i}^{L}) \\\\\n",
    "            \\text{subject to} ~~ & ~~ \\sum_{i\\in N} (t_{k}w_{ki}^{R} - t_{k}w_{ki}^{L}) = t_{k}\\hat{d_{k}} , k\\in M \\\\\n",
    "            ~~ & ~~ t_{k}w_{ki}^{L}\\leq a_{kij}t_{k}w_{kj}^{R},\\, a_{kij}t_{k}w_{kj}^{L}\\leq t_{k}w_{ki}^{R},\\, i,j,\\in N(i<j) , k\\in M\\\\\n",
    "            ~~ & ~~ \\sum_{j\\in N\\setminus i} t_{k}w_{kj}^{R} + t_{k}w_{ki}^{L}\\geq 1, k\\in M, i\\in N, \\\\\n",
    "            ~~ & ~~ \\sum_{j\\in N\\setminus i} t_{k}w_{kj}^{L} + t_{k}w_{ki}^{R}\\leq 1, k\\in M, i\\in N, \\\\\n",
    "            ~~ & ~~ \\sum_{i\\in N} \\frac{w_{i}^{R} + w_{i}^{L}}{2} = 1, \\\\\n",
    "            ~~ & ~~ \\epsilon \\leq w_{i}^{L}\\leq t_{k}w_{ki}^{L}\\leq t_{k}w_{ki}^{R} \\leq w_{i}^{R}, k\\in M, i\\in N.\n",
    "        \\end{split}\n",
    "    \n",
    "    \\end{align}\n",
    "$$\n"
   ]
  },
  {
   "cell_type": "code",
   "execution_count": 5,
   "metadata": {},
   "outputs": [
    {
     "data": {
      "text/latex": [
       "$PerfectIncorporation :$"
      ],
      "text/plain": [
       "L\"$PerfectIncorporation :$\""
      ]
     },
     "metadata": {},
     "output_type": "display_data"
    },
    {
     "data": {
      "text/latex": [
       "$W = \\begin{pmatrix} \\left[ 0.304, 0.571 \\right] \\\\ \\left[ 0.19, 0.375 \\right] \\\\ \\left[ 0.071, 0.19 \\right] \\\\ \\left[ 0.048, 0.25 \\right] \\end{pmatrix}$"
      ],
      "text/plain": [
       "L\"$W = \\begin{pmatrix} \\left[ 0.304, 0.571 \\right] \\\\ \\left[ 0.19, 0.375 \\right] \\\\ \\left[ 0.071, 0.19 \\right] \\\\ \\left[ 0.048, 0.25 \\right] \\end{pmatrix}$\""
      ]
     },
     "metadata": {},
     "output_type": "display_data"
    },
    {
     "data": {
      "text/latex": [
       "$d = 0.7738095238095243$"
      ],
      "text/plain": [
       "L\"$d = 0.7738095238095243$\""
      ]
     },
     "metadata": {},
     "output_type": "display_data"
    },
    {
     "data": {
      "text/latex": [
       "$tPerfectIncorporation :$"
      ],
      "text/plain": [
       "L\"$tPerfectIncorporation :$\""
      ]
     },
     "metadata": {},
     "output_type": "display_data"
    },
    {
     "data": {
      "text/latex": [
       "$W = \\begin{pmatrix} \\left[ 0.407, 0.445 \\right] \\\\ \\left[ 0.148, 0.407 \\right] \\\\ \\left[ 0.136, 0.203 \\right] \\\\ \\left[ 0.051, 0.203 \\right] \\end{pmatrix}$"
      ],
      "text/plain": [
       "L\"$W = \\begin{pmatrix} \\left[ 0.407, 0.445 \\right] \\\\ \\left[ 0.148, 0.407 \\right] \\\\ \\left[ 0.136, 0.203 \\right] \\\\ \\left[ 0.051, 0.203 \\right] \\end{pmatrix}$\""
      ]
     },
     "metadata": {},
     "output_type": "display_data"
    },
    {
     "data": {
      "text/latex": [
       "$d = 0.5169491525423728$"
      ],
      "text/plain": [
       "L\"$d = 0.5169491525423728$\""
      ]
     },
     "metadata": {},
     "output_type": "display_data"
    },
    {
     "data": {
      "text/latex": [
       "$s = [1.8708873379860345, 2.171186440677966, 1.1751412429378536]$"
      ],
      "text/plain": [
       "L\"$s = [1.8708873379860345, 2.171186440677966, 1.1751412429378536]$\""
      ]
     },
     "metadata": {},
     "output_type": "display_data"
    }
   ],
   "source": [
    "display(L\"d_originalPerfectIncorporationriginalPerfectIncorporation :\")\n",
    "W_originalPerfectIncorporation = originalPerfectIncorporation.W\n",
    "display(L\"W = %$(intervalVectorLaTeXString(W_originalPerfectIncorporation))\")\n",
    "d_originalPerfectIncorporation = originalPerfectIncorporation.optimalValue\n",
    "display(L\"d = %$(d_oroginalPerfectIncorporation)\")\n",
    "\n",
    "display(L\"PerfectIncorporation :\")\n",
    "W_PerfectIncorporation = PerfectIncorporation.W\n",
    "display(L\"W = %$(intervalVectorLaTeXString(W_PerfectIncorporation))\")\n",
    "d_PerfectIncorporation = PerfectIncorporation.optimalValue\n",
    "display(L\"d = %$(d_PerfectIncorporation)\")\n",
    "\n",
    "display(L\"tPerfectIncorporation :\")\n",
    "W_tPerfectIncorporation = tPerfectIncorporation.W\n",
    "display(L\"W = %$(intervalVectorLaTeXString(W_tPerfectIncorporation))\")\n",
    "d_tPerfectIncorporation = tPerfectIncorporation.optimalValue\n",
    "display(L\"d = %$(d_tPerfectIncorporation)\")\n",
    "s_tPerfectIncorporation = tPerfectIncorporation.s\n",
    "display(L\"s = %$(s_tPerfectIncorporation)\")"
   ]
  },
  {
   "cell_type": "markdown",
   "metadata": {},
   "source": [
    "common ground apploach\n",
    "\n",
    "従来法\n",
    "$$\n",
    "    \\begin{align}\n",
    "        \\begin{split}\n",
    "            \\text{maximize} ~~ & ~~ \\sum_{i\\in N} (w_{i}^{R} - w_{i}^{L}) \\\\\n",
    "            \\text{subject to} ~~ & ~~ \\sum_{i\\in N} (w_{ki}^{R} - w_{ki}^{L}) \\leq \\hat{d_{k}} , k\\in M \\\\\n",
    "            ~~ & ~~ w_{ki}^{L}\\leq a_{kij}w_{kj}^{R},\\, a_{kij}w_{kj}^{L}\\leq w_{ki}^{R},\\, i,j,\\in N(i<j) , k\\in M\\\\\n",
    "            ~~ & ~~ \\sum_{j\\in N\\setminus i} w_{kj}^{R} + w_{ki}^{L}\\geq 1, k\\in M, i\\in N, \\\\\n",
    "            ~~ & ~~ \\sum_{j\\in N\\setminus i} w_{kj}^{L} + w_{ki}^{R}\\leq 1, k\\in M, i\\in N, \\\\\n",
    "            ~~ & ~~ \\sum_{j\\in N\\setminus i} w_{j}^{R} + w_{i}^{L}\\geq 1, i\\in N, \\\\\n",
    "            ~~ & ~~ \\sum_{j\\in N\\setminus i} w_{j}^{L} + w_{i}^{R}\\leq 1, i\\in N, \\\\\n",
    "            ~~ & ~~ \\sum_{i\\in N} \\frac{w_{ki}^{R} + w_{ki}^{L}}{2} = 1, k\\in M,  \\\\\n",
    "            ~~ & ~~ \\sum_{i\\in N} \\frac{w_{i}^{R} + w_{i}^{L}}{2} = 1,  \\\\\n",
    "            ~~ & ~~ \\epsilon \\leq w_{ki}^{L}\\leq w_{i}^{L}\\leq w_{i}^{R}\\leq w_{ki}^{R}, k\\in M, i\\in N.\n",
    "        \\end{split}\n",
    "    \n",
    "    \\end{align}\n",
    "$$\n",
    "提案法\n",
    "$$\n",
    "    \\begin{align}\n",
    "        \\begin{split}\n",
    "            \\text{maximize} ~~ & ~~ \\sum_{i\\in N} (w_{i}^{R} - w_{i}^{L}) \\\\\n",
    "            \\text{subject to} ~~ & ~~ \\sum_{i\\in N} (t_{k}w_{ki}^{R} - t_{k}w_{ki}^{L}) = t_{k}\\hat{d_{k}} , k\\in M \\\\\n",
    "            ~~ & ~~ t_{k}w_{ki}^{L}\\leq a_{kij}t_{k}w_{kj}^{R},\\, a_{kij}t_{k}w_{kj}^{L}\\leq t_{k}w_{ki}^{R},\\, i,j,\\in N(i<j) , k\\in M\\\\\n",
    "            ~~ & ~~ \\sum_{j\\in N\\setminus i} t_{k}w_{kj}^{R} + t_{k}w_{ki}^{L}\\geq 1, k\\in M, i\\in N, \\\\\n",
    "            ~~ & ~~ \\sum_{j\\in N\\setminus i} t_{k}w_{kj}^{L} + t_{k}w_{ki}^{R}\\leq 1, k\\in M, i\\in N, \\\\\n",
    "            ~~ & ~~ \\sum_{j\\in N\\setminus i} w_{j}^{R} + w_{i}^{L}\\geq 1, i\\in N, \\\\\n",
    "            ~~ & ~~ \\sum_{j\\in N\\setminus i} w_{j}^{L} + w_{i}^{R}\\leq 1, i\\in N, \\\\\n",
    "            ~~ & ~~ \\sum_{i\\in N} \\frac{w_{i}^{R} + w_{i}^{L}}{2} = 1,  \\\\\n",
    "            ~~ & ~~ \\epsilon \\leq t_{k}w_{ki}^{L}\\leq w_{i}^{L}\\leq w_{i}^{R}\\leq t_{k}w_{ki}^{R}, k\\in M, i\\in N.\n",
    "        \\end{split}\n",
    "    \n",
    "    \\end{align}\n",
    "$$"
   ]
  },
  {
   "cell_type": "code",
   "execution_count": 6,
   "metadata": {},
   "outputs": [
    {
     "data": {
      "text/latex": [
       "$CommonGround : $"
      ],
      "text/plain": [
       "L\"$CommonGround : $\""
      ]
     },
     "metadata": {},
     "output_type": "display_data"
    },
    {
     "data": {
      "text/latex": [
       "$W = \\begin{pmatrix} \\left[ 0.375, 0.375 \\right] \\\\ \\left[ 0.367, 0.375 \\right] \\\\ \\left[ 0.125, 0.183 \\right] \\\\ \\left[ 0.075, 0.125 \\right] \\end{pmatrix}$"
      ],
      "text/plain": [
       "L\"$W = \\begin{pmatrix} \\left[ 0.375, 0.375 \\right] \\\\ \\left[ 0.367, 0.375 \\right] \\\\ \\left[ 0.125, 0.183 \\right] \\\\ \\left[ 0.075, 0.125 \\right] \\end{pmatrix}$\""
      ]
     },
     "metadata": {},
     "output_type": "display_data"
    },
    {
     "data": {
      "text/latex": [
       "$d = 0.11666666666666736$"
      ],
      "text/plain": [
       "L\"$d = 0.11666666666666736$\""
      ]
     },
     "metadata": {},
     "output_type": "display_data"
    },
    {
     "data": {
      "text/latex": [
       "$tCommonGround : $"
      ],
      "text/plain": [
       "L\"$tCommonGround : $\""
      ]
     },
     "metadata": {},
     "output_type": "display_data"
    },
    {
     "data": {
      "text/latex": [
       "$W = \\begin{pmatrix} \\left[ 0.0, 1.0 \\right] \\\\ \\left[ 0.0, 1.0 \\right] \\\\ \\left[ 0.0, 0.0 \\right] \\\\ \\left[ 0.0, 0.0 \\right] \\end{pmatrix}$"
      ],
      "text/plain": [
       "L\"$W = \\begin{pmatrix} \\left[ 0.0, 1.0 \\right] \\\\ \\left[ 0.0, 1.0 \\right] \\\\ \\left[ 0.0, 0.0 \\right] \\\\ \\left[ 0.0, 0.0 \\right] \\end{pmatrix}$\""
      ]
     },
     "metadata": {},
     "output_type": "display_data"
    },
    {
     "data": {
      "text/latex": [
       "$d = 1.99999992$"
      ],
      "text/plain": [
       "L\"$d = 1.99999992$\""
      ]
     },
     "metadata": {},
     "output_type": "display_data"
    },
    {
     "data": {
      "text/latex": [
       "$s = [5.333333137777777, 17.14285645714282, 9.599999615999968]$"
      ],
      "text/plain": [
       "L\"$s = [5.333333137777777, 17.14285645714282, 9.599999615999968]$\""
      ]
     },
     "metadata": {},
     "output_type": "display_data"
    }
   ],
   "source": [
    "display(L\"OriginalCommonGround : \")\n",
    "W_originalCommonGround = originalCommonGround.W\n",
    "display(L\"W = %$(intervalVectorLaTeXString(W_originalCommonGround))\")\n",
    "d_originalCommonGround = originalCommonGround.optimalValue\n",
    "display(L\"d = %$(d_originalCommonGround)\")\n",
    "\n",
    "display(L\"CommonGround : \")\n",
    "W_CommonGround = CommonGround.W\n",
    "display(L\"W = %$(intervalVectorLaTeXString(W_CommonGround))\")\n",
    "d_CommonGround = CommonGround.optimalValue\n",
    "display(L\"d = %$(d_CommonGround)\")\n",
    "\n",
    "display(L\"tCommonGround : \")\n",
    "W_tCommonGround = tCommonGround.W\n",
    "display(L\"W = %$(intervalVectorLaTeXString(W_tCommonGround))\")\n",
    "d_tCommonGround = tCommonGround.optimalValue\n",
    "display(L\"d = %$(d_tCommonGround)\")\n",
    "s_tCommonGround = tCommonGround.s\n",
    "display(L\"s = %$(s_tCommonGround)\")"
   ]
  },
  {
   "cell_type": "markdown",
   "metadata": {},
   "source": [
    "partial incorporation apploach\n",
    "\n",
    "従来法\n",
    "$$\n",
    "    \\begin{align}\n",
    "        \\begin{split}\n",
    "            \\text{minimize} ~~ & ~~ \\sum_{i\\in N} (w_{i}^{R} - w_{i}^{L}) \\\\\n",
    "            \\text{subject to}  ~~ & ~~ \\sum_{i\\in N} (w_{ki}^{R} - w_{ki}^{L}) \\leq \\hat{d_{k}} , k\\in M \\\\\n",
    "            ~~ & ~~ w_{ki}^{L}\\leq a_{kij}w_{kj}^{R},\\, a_{kij}w_{kj}^{L}\\leq w_{ki}^{R},\\, i,j,\\in N(i<j) , k\\in M\\\\\n",
    "            ~~ & ~~ \\sum_{j\\in N\\setminus i} w_{kj}^{R} + w_{ki}^{L}\\geq 1, k\\in M, i\\in N, \\\\\n",
    "            ~~ & ~~ \\sum_{j\\in N\\setminus i} w_{kj}^{L} + w_{ki}^{R}\\leq 1, k\\in M, i\\in N, \\\\\n",
    "            ~~ & ~~ \\sum_{i\\in N} w_{ki} = 1, k\\in M, \\\\\n",
    "            ~~ & ~~ \\sum_{i\\in N} \\frac{w_{ki}^{R} + w_{ki}^{L}}{2} = 1, k\\in M,  \\\\\n",
    "            ~~ & ~~ \\sum_{i\\in N} \\frac{w_{i}^{R} + w_{i}^{L}}{2} = 1,  \\\\\n",
    "            ~~ & ~~ \\epsilon \\leq w_{i}^{L}\\leq w_{ki}\\leq w_{ki}^{R}, \\epsilon \\leq w_{ki}^{L}\\leq w_{ki}\\leq w_{i}^{R}, k\\in M, i\\in N.\n",
    "        \\end{split}\n",
    "    \\end{align}\n",
    "$$\n",
    "提案法\n",
    "$$\n",
    "    \\begin{align}\n",
    "        \\begin{split}\n",
    "            \\text{minimize} ~~ & ~~ \\sum_{i\\in N} (w_{i}^{R} - w_{i}^{L}) \\\\\n",
    "            \\text{subject to}  ~~ & ~~ \\sum_{i\\in N} (t_{k}w_{ki}^{R} - t_{k}w_{ki}^{L}) = t_{k}\\hat{d_{k}} , k\\in M \\\\\n",
    "            ~~ & ~~ t_{k}w_{ki}^{L}\\leq a_{kij}t_{k}w_{kj}^{R},\\, a_{kij}t_{k}w_{kj}^{L}\\leq t_{k}w_{ki}^{R},\\, i,j,\\in N(i<j) , k\\in M\\\\\n",
    "            ~~ & ~~ \\sum_{j\\in N\\setminus i} t_{k}w_{kj}^{R} + t_{k}w_{ki}^{L}\\geq 1, k\\in M, i\\in N, \\\\\n",
    "            ~~ & ~~ \\sum_{j\\in N\\setminus i} t_{k}w_{kj}^{L} + t_{k}w_{ki}^{R}\\leq 1, k\\in M, i\\in N, \\\\\n",
    "            ~~ & ~~ \\sum_{i\\in N} w_{ki} = 1, k\\in M \\\\\n",
    "            ~~ & ~~ \\sum_{i\\in N} \\frac{w_{i}^{R} + w_{i}^{L}}{2} = 1,   \\\\\n",
    "            ~~ & ~~ \\epsilon \\leq w_{i}^{L}\\leq w_{ki}\\leq t_{k}w_{ki}^{R}, \\epsilon \\leq t_{k}w_{ki}^{L}\\leq w_{ki}\\leq w_{i}^{R}, k\\in M, i\\in N.\n",
    "        \\end{split}\n",
    "    \\end{align}\n",
    "$$\n"
   ]
  },
  {
   "cell_type": "code",
   "execution_count": 7,
   "metadata": {},
   "outputs": [
    {
     "data": {
      "text/latex": [
       "$PartialIncorporation :$"
      ],
      "text/plain": [
       "L\"$PartialIncorporation :$\""
      ]
     },
     "metadata": {},
     "output_type": "display_data"
    },
    {
     "data": {
      "text/latex": [
       "$W = \\begin{pmatrix} \\left[ 0.375, 0.571 \\right] \\\\ \\left[ 0.19, 0.25 \\right] \\\\ \\left[ 0.113, 0.125 \\right] \\\\ \\left[ 0.125, 0.25 \\right] \\end{pmatrix}$"
      ],
      "text/plain": [
       "L\"$W = \\begin{pmatrix} \\left[ 0.375, 0.571 \\right] \\\\ \\left[ 0.19, 0.25 \\right] \\\\ \\left[ 0.113, 0.125 \\right] \\\\ \\left[ 0.125, 0.25 \\right] \\end{pmatrix}$\""
      ]
     },
     "metadata": {},
     "output_type": "display_data"
    },
    {
     "data": {
      "text/latex": [
       "$d = 0.3928571428571439$"
      ],
      "text/plain": [
       "L\"$d = 0.3928571428571439$\""
      ]
     },
     "metadata": {},
     "output_type": "display_data"
    },
    {
     "data": {
      "text/latex": [
       "$tPartialIncorporation :$"
      ],
      "text/plain": [
       "L\"$tPartialIncorporation :$\""
      ]
     },
     "metadata": {},
     "output_type": "display_data"
    },
    {
     "data": {
      "text/latex": [
       "$W = \\begin{pmatrix} \\left[ 0.556, 0.556 \\right] \\\\ \\left[ 0.296, 0.296 \\right] \\\\ \\left[ 0.037, 0.037 \\right] \\\\ \\left[ 0.111, 0.111 \\right] \\end{pmatrix}$"
      ],
      "text/plain": [
       "L\"$W = \\begin{pmatrix} \\left[ 0.556, 0.556 \\right] \\\\ \\left[ 0.296, 0.296 \\right] \\\\ \\left[ 0.037, 0.037 \\right] \\\\ \\left[ 0.111, 0.111 \\right] \\end{pmatrix}$\""
      ]
     },
     "metadata": {},
     "output_type": "display_data"
    },
    {
     "data": {
      "text/latex": [
       "$d = 0.0$"
      ],
      "text/plain": [
       "L\"$d = 0.0$\""
      ]
     },
     "metadata": {},
     "output_type": "display_data"
    },
    {
     "data": {
      "text/latex": [
       "$s = [4.222221818518509, 1.8666665235555557, 1.9259258656790117]$"
      ],
      "text/plain": [
       "L\"$s = [4.222221818518509, 1.8666665235555557, 1.9259258656790117]$\""
      ]
     },
     "metadata": {},
     "output_type": "display_data"
    }
   ],
   "source": [
    "display(L\"OriginalPartialIncorporation :\")\n",
    "W_originalPartialIncorporation = originalPartialIncorporation.W\n",
    "display(L\"W = %$(intervalVectorLaTeXString(W_originalPartialIncorporation))\")\n",
    "d_originalPartialIncorporation = originalPartialIncorporation.optimalValue\n",
    "display(L\"d = %$(d_originalPartialIncorporation)\")\n",
    "\n",
    "display(L\"PartialIncorporation :\")\n",
    "W_PartialIncorporation = PartialIncorporation.W\n",
    "display(L\"W = %$(intervalVectorLaTeXString(W_PartialIncorporation))\")\n",
    "d_PartialIncorporation = PartialIncorporation.optimalValue\n",
    "display(L\"d = %$(d_PartialIncorporation)\")\n",
    "\n",
    "display(L\"tPartialIncorporation :\")\n",
    "W_tPartialIncorporation = tPartialIncorporation.W\n",
    "display(L\"W = %$(intervalVectorLaTeXString(W_tPartialIncorporation))\")\n",
    "d_tPartialIncorporation = tPartialIncorporation.optimalValue\n",
    "display(L\"d = %$(d_tPartialIncorporation)\")\n",
    "s_tPartialIncorporation = tPartialIncorporation.s\n",
    "display(L\"s = %$(s_tPartialIncorporation)\")"
   ]
  },
  {
   "cell_type": "code",
   "execution_count": 8,
   "metadata": {},
   "outputs": [],
   "source": []
  }
 ],
 "metadata": {
  "kernelspec": {
   "display_name": "Julia 1.9.3",
   "language": "julia",
   "name": "julia-1.9"
  },
  "language_info": {
   "file_extension": ".jl",
   "mimetype": "application/julia",
   "name": "julia",
   "version": "1.9.3"
  }
 },
 "nbformat": 4,
 "nbformat_minor": 2
}
