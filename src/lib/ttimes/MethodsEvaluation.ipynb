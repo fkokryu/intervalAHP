{
 "cells": [
  {
   "cell_type": "code",
   "execution_count": 1,
   "metadata": {},
   "outputs": [],
   "source": [
    "using LaTeXStrings"
   ]
  },
  {
   "cell_type": "code",
   "execution_count": 2,
   "metadata": {},
   "outputs": [
    {
     "data": {
      "text/plain": [
       "solvetPartialIncorporationLP3 (generic function with 1 method)"
      ]
     },
     "metadata": {},
     "output_type": "display_data"
    }
   ],
   "source": [
    "include(\"../display/display-crisp-matrix.jl\")\n",
    "include(\"../display/display-interval-vector.jl\")\n",
    "include(\"../entani/perfect-incorporation.jl\")\n",
    "include(\"../entani/common-ground.jl\")\n",
    "include(\"../entani/partial-incorporarion.jl\")\n",
    "include(\"../center-equal-one/one-perfect.jl\")\n",
    "include(\"../center-equal-one/one-common.jl\")\n",
    "include(\"../center-equal-one/one-partial.jl\")\n",
    "include(\"./t-perfect.jl\")\n",
    "include(\"./t-common.jl\")\n",
    "include(\"./t-partial.jl\")\n",
    "include(\"../ttimes-center/t-perfect-center.jl\")\n",
    "include(\"../ttimes-center/t-common-center.jl\")\n",
    "include(\"../ttimes-center/t-partial-center.jl\")\n",
    "include(\"../ttimes-range/t-perfect-range.jl\")\n",
    "include(\"../ttimes-range/t-common-range.jl\")\n",
    "include(\"../ttimes-range/t-partial-range.jl\")"
   ]
  },
  {
   "cell_type": "code",
   "execution_count": 3,
   "metadata": {},
   "outputs": [
    {
     "data": {
      "text/plain": [
       "4×4 Matrix{Float64}:\n",
       " 1.0       1.0       2.0       6.0\n",
       " 1.0       1.0       3.0       2.0\n",
       " 0.5       0.333333  1.0       3.0\n",
       " 0.166667  0.5       0.333333  1.0"
      ]
     },
     "metadata": {},
     "output_type": "display_data"
    }
   ],
   "source": [
    "A₁ = [\n",
    "    1 2 3 4\n",
    "    1/2 1 2 3\n",
    "    1/3 1/2 1 2\n",
    "    1/4 1/3 1/2 1\n",
    "]\n",
    "\n",
    "A₂ = [\n",
    "    1 3 3 4\n",
    "    1/3 1 3 3\n",
    "    1/3 1/3 1 4\n",
    "    1/4 1/3 1/4 1\n",
    "]\n",
    "\n",
    "A₃ = [\n",
    "    1 1 2 2\n",
    "    1 1 3 1\n",
    "    1/2 1/3 1 3\n",
    "    1/2 1 1/3 1\n",
    "]\n",
    "\n",
    "A₄ = [\n",
    "    1 1 2 2\n",
    "    1 1 3 1\n",
    "    1/2 1/3 1 3\n",
    "    1/2 1 1/3 1\n",
    "]\n",
    "\n",
    "A₅ = [\n",
    "    1 1 3 3\n",
    "    1 1 2 5\n",
    "    1/3 1/2 1 2\n",
    "    1/3 1/5 1/2 1\n",
    "]\n",
    "\n",
    "A₆ = [\n",
    "    1 1 2 6\n",
    "    1 1 3 2\n",
    "    1/2 1/3 1 3\n",
    "    1/6 1/2 1/3 1\n",
    "]"
   ]
  },
  {
   "cell_type": "code",
   "execution_count": 4,
   "metadata": {},
   "outputs": [
    {
     "data": {
      "text/plain": [
       "(wᴸ = [0.5340540540540543, 0.23999999999999996, 0.10594594594594575, 0.12000000000000001], wᵁ = [0.5340540540540543, 0.23999999999999996, 0.10594594594594575, 0.12000000000000001], W = Interval{Float64}[Interval{Float64}(0.5340540540540543, 0.5340540540540543), Interval{Float64}(0.23999999999999996, 0.23999999999999996), Interval{Float64}(0.10594594594594575, 0.10594594594594575), Interval{Float64}(0.12000000000000001, 0.12000000000000001)], ŵᴸ = [0.24666666666666673 0.12333333333333328 0.05444444444444435 0.03388888888888883; 0.2653061248177843 0.0935374013453593 0.022108849262026338 5.5272109337038395e-9; 0.19085759303721486 0.09542879651860743 0.02621360471844991 5.725727791116445e-9], ŵᵁ = [0.27444444444444455 0.12333333333333328 0.08222222222222224 0.06166666666666668; 0.3316326504950194 0.13265306240889213 0.08843537493926143 0.06632653120444608; 0.3057848139255703 0.1908575930372148 0.09542879651860743 0.09542879651860743], ŵ = Vector{Interval{Float64}}[[Interval{Float64}(0.24666666666666673, 0.27444444444444455), Interval{Float64}(0.12333333333333328, 0.12333333333333328), Interval{Float64}(0.05444444444444435, 0.08222222222222224), Interval{Float64}(0.03388888888888883, 0.06166666666666668)], [Interval{Float64}(0.2653061248177843, 0.3316326504950194), Interval{Float64}(0.0935374013453593, 0.13265306240889213), Interval{Float64}(0.022108849262026338, 0.08843537493926143), Interval{Float64}(5.5272109337038395e-9, 0.06632653120444608)], [Interval{Float64}(0.19085759303721486, 0.3057848139255703), Interval{Float64}(0.09542879651860743, 0.1908575930372148), Interval{Float64}(0.02621360471844991, 0.09542879651860743), Interval{Float64}(5.725727791116445e-9, 0.09542879651860743)]], Ŵ = [[0.5340540540540543, 0.24000000000000007, 0.10594594594594575, 0.12000000000000002], [0.5340540540540543, 0.23999999999999996, 0.10594594594594575, 0.12000000000000001], [0.5340540540540543, 0.23999999999999996, 0.10594594594594575, 0.12000000000000002]], optimalValue = 0.0, s = [1.9459459459459458, 1.809230753076923, 1.746502866502867])"
      ]
     },
     "metadata": {},
     "output_type": "display_data"
    }
   ],
   "source": [
    "originalPerfectIncorporation = solvePerfectIncorporationLP([A₁, A₂, A₃])\n",
    "originalCommonGround = solveCommonGroundLP([A₄, A₅, A₆])\n",
    "originalPartialIncorporation = solvePartialIncorporationLP([A₁, A₂, A₃])\n",
    "PerfectIncorporation = solveonePerfectIncorporationLP([A₁, A₂, A₃])\n",
    "CommonGround = solveoneCommonGroundLP([A₄, A₅, A₆])\n",
    "PartialIncorporation = solveonePartialIncorporationLP([A₁, A₂, A₃])\n",
    "tPerfectIncorporation = solvetPerfectIncorporationLP([A₁, A₂, A₃])\n",
    "tCommonGround = solvetCommonGroundLP([A₄, A₅, A₆])\n",
    "tPartialIncorporation = solvetPartialIncorporationLP([A₁, A₂, A₃])\n",
    "tPerfectIncorporation2 = solvetPerfectIncorporationLP2([A₁, A₂, A₃])\n",
    "tCommonGround2 = solvetCommonGroundLP2([A₄, A₅, A₆])\n",
    "tPartialIncorporation2 = solvetPartialIncorporationLP2([A₁, A₂, A₃])\n",
    "tPerfectIncorporation3 = solvetPerfectIncorporationLP3([A₁, A₂, A₃])\n",
    "tCommonGround3 = solvetCommonGroundLP3([A₄, A₅, A₆])\n",
    "tPartialIncorporation3 = solvetPartialIncorporationLP3([A₁, A₂, A₃])"
   ]
  },
  {
   "cell_type": "markdown",
   "metadata": {},
   "source": [
    "perfect incorporation approach\n",
    "\n",
    "従来法\n",
    "$$\n",
    "    \\begin{align}\n",
    "        \\begin{split}\n",
    "            \\text{minimize} ~~ & ~~ \\sum_{i\\in N} (w_{i}^{R} - w_{i}^{L}) \\\\\n",
    "            \\text{subject to} ~~ & ~~ \\sum_{i\\in N} (w_{ki}^{R} - w_{ki}^{L}) \\leq \\hat{d_{k}} , k\\in M \\\\\n",
    "            ~~ & ~~ w_{ki}^{L}\\leq a_{kij}w_{kj}^{R},\\, a_{kij}w_{kj}^{L}\\leq w_{ki}^{R},\\, i,j,\\in N(i<j) , k\\in M\\\\\n",
    "            ~~ & ~~ \\sum_{j\\in N\\setminus i} w_{kj}^{R} + w_{ki}^{L}\\geq 1, k\\in M, i\\in N, \\\\\n",
    "            ~~ & ~~ \\sum_{j\\in N\\setminus i} w_{kj}^{L} + w_{ki}^{R}\\leq 1, k\\in M, i\\in N, \\\\\n",
    "            ~~ & ~~ \\sum_{i\\in N} \\frac{w_{ki}^{R} + w_{ki}^{L}}{2} = 1, k\\in M,  \\\\\n",
    "            ~~ & ~~ \\sum_{i\\in N} \\frac{w_{i}^{R} + w_{i}^{L}}{2} = 1,  \\\\\n",
    "            ~~ & ~~ \\epsilon \\leq w_{i}^{L}\\leq w_{ki}^{L}\\leq w_{ki}^{R} \\leq w_{i}^{R}, k\\in M, i\\in N.\n",
    "        \\end{split}\n",
    "    \n",
    "    \\end{align}\n",
    "$$\n",
    "\n",
    "提案法\n",
    "$$\n",
    "    \\begin{align}\n",
    "        \\begin{split}\n",
    "            \\text{minimize} ~~ & ~~ \\sum_{i\\in N} (w_{i}^{R} - w_{i}^{L}) \\\\\n",
    "            \\text{subject to} ~~ & ~~ \\sum_{i\\in N} (w_{ki}^{R} - w_{ki}^{L}) = t_{k}\\hat{d_{k}} , k\\in M \\\\\n",
    "            ~~ & ~~ w_{ki}^{L}\\leq a_{kij}w_{kj}^{R},\\, a_{kij}w_{kj}^{L}\\leq w_{ki}^{R},\\, i,j,\\in N(i<j) , k\\in M\\\\\n",
    "            ~~ & ~~ \\sum_{j\\in N\\setminus i} w_{kj}^{R} + w_{ki}^{L}\\geq 1, k\\in M, i\\in N, \\\\\n",
    "            ~~ & ~~ \\sum_{j\\in N\\setminus i} w_{kj}^{L} + w_{ki}^{R}\\leq 1, k\\in M, i\\in N, \\\\\n",
    "            ~~ & ~~ \\sum_{i\\in N} \\frac{w_{i}^{R} + w_{i}^{L}}{2} = 1, \\\\\n",
    "            ~~ & ~~ t_{k} = \\sum_{i\\in N} \\frac{w_{ki}^{R} + w_{ki}^{L}}{2}, k\\in M, \\\\\n",
    "            ~~ & ~~ \\epsilon \\leq w_{i}^{L}\\leq w_{ki}^{L}\\leq w_{ki}^{R} \\leq w_{i}^{R}, k\\in M, i\\in N.\n",
    "        \\end{split}\n",
    "    \n",
    "    \\end{align}\n",
    "$$"
   ]
  },
  {
   "cell_type": "code",
   "execution_count": 5,
   "metadata": {},
   "outputs": [
    {
     "data": {
      "text/latex": [
       "$OriginalPerfectIncorporation :$"
      ],
      "text/plain": [
       "L\"$OriginalPerfectIncorporation :$\""
      ]
     },
     "metadata": {},
     "output_type": "display_data"
    },
    {
     "data": {
      "text/latex": [
       "$W = \\begin{pmatrix} \\left[ 0.375, 0.571 \\right] \\\\ \\left[ 0.19, 0.375 \\right] \\\\ \\left[ 0.071, 0.19 \\right] \\\\ \\left[ 0.048, 0.219 \\right] \\end{pmatrix}$"
      ],
      "text/plain": [
       "L\"$W = \\begin{pmatrix} \\left[ 0.375, 0.571 \\right] \\\\ \\left[ 0.19, 0.375 \\right] \\\\ \\left[ 0.071, 0.19 \\right] \\\\ \\left[ 0.048, 0.219 \\right] \\end{pmatrix}$\""
      ]
     },
     "metadata": {},
     "output_type": "display_data"
    },
    {
     "data": {
      "text/latex": [
       "$d = 0.671130952380952$"
      ],
      "text/plain": [
       "L\"$d = 0.671130952380952$\""
      ]
     },
     "metadata": {},
     "output_type": "display_data"
    },
    {
     "data": {
      "text/latex": [
       "$PerfectIncorporation :$"
      ],
      "text/plain": [
       "L\"$PerfectIncorporation :$\""
      ]
     },
     "metadata": {},
     "output_type": "display_data"
    },
    {
     "data": {
      "text/latex": [
       "$W = \\begin{pmatrix} \\left[ 0.304, 0.571 \\right] \\\\ \\left[ 0.19, 0.375 \\right] \\\\ \\left[ 0.071, 0.19 \\right] \\\\ \\left[ 0.048, 0.25 \\right] \\end{pmatrix}$"
      ],
      "text/plain": [
       "L\"$W = \\begin{pmatrix} \\left[ 0.304, 0.571 \\right] \\\\ \\left[ 0.19, 0.375 \\right] \\\\ \\left[ 0.071, 0.19 \\right] \\\\ \\left[ 0.048, 0.25 \\right] \\end{pmatrix}$\""
      ]
     },
     "metadata": {},
     "output_type": "display_data"
    },
    {
     "data": {
      "text/latex": [
       "$d = 0.7738095238095238$"
      ],
      "text/plain": [
       "L\"$d = 0.7738095238095238$\""
      ]
     },
     "metadata": {},
     "output_type": "display_data"
    },
    {
     "data": {
      "text/latex": [
       "$tPerfectIncorporation :$"
      ],
      "text/plain": [
       "L\"$tPerfectIncorporation :$\""
      ]
     },
     "metadata": {},
     "output_type": "display_data"
    },
    {
     "data": {
      "text/latex": [
       "$W = \\begin{pmatrix} \\left[ 0.375, 0.571 \\right] \\\\ \\left[ 0.19, 0.375 \\right] \\\\ \\left[ 0.0, 0.19 \\right] \\\\ \\left[ 0.048, 0.25 \\right] \\end{pmatrix}$"
      ],
      "text/plain": [
       "L\"$W = \\begin{pmatrix} \\left[ 0.375, 0.571 \\right] \\\\ \\left[ 0.19, 0.375 \\right] \\\\ \\left[ 0.0, 0.19 \\right] \\\\ \\left[ 0.048, 0.25 \\right] \\end{pmatrix}$\""
      ]
     },
     "metadata": {},
     "output_type": "display_data"
    },
    {
     "data": {
      "text/latex": [
       "$d = 0.773809523809524$"
      ],
      "text/plain": [
       "L\"$d = 0.773809523809524$\""
      ]
     },
     "metadata": {},
     "output_type": "display_data"
    },
    {
     "data": {
      "text/latex": [
       "$s = [1.0, 0.9999999999999999, 1.0]$"
      ],
      "text/plain": [
       "L\"$s = [1.0, 0.9999999999999999, 1.0]$\""
      ]
     },
     "metadata": {},
     "output_type": "display_data"
    }
   ],
   "source": [
    "display(L\"OriginalPerfectIncorporation :\")\n",
    "W_originalPerfectIncorporation = originalPerfectIncorporation.W\n",
    "display(L\"W = %$(intervalVectorLaTeXString(W_originalPerfectIncorporation))\")\n",
    "d_originalPerfectIncorporation = originalPerfectIncorporation.optimalValue\n",
    "display(L\"d = %$(d_originalPerfectIncorporation)\")\n",
    "\n",
    "display(L\"PerfectIncorporation :\")\n",
    "W_PerfectIncorporation = PerfectIncorporation.W\n",
    "display(L\"W = %$(intervalVectorLaTeXString(W_PerfectIncorporation))\")\n",
    "d_PerfectIncorporation = PerfectIncorporation.optimalValue\n",
    "display(L\"d = %$(d_PerfectIncorporation)\")\n",
    "\n",
    "display(L\"tPerfectIncorporation :\")\n",
    "W_tPerfectIncorporation2 = tPerfectIncorporation2.W\n",
    "display(L\"W = %$(intervalVectorLaTeXString(W_tPerfectIncorporation2))\")\n",
    "d_tPerfectIncorporation2 = tPerfectIncorporation2.optimalValue\n",
    "display(L\"d = %$(d_tPerfectIncorporation2)\")\n",
    "s_tPerfectIncorporation2 = tPerfectIncorporation2.s\n",
    "display(L\"s = %$(s_tPerfectIncorporation2)\")"
   ]
  },
  {
   "cell_type": "markdown",
   "metadata": {},
   "source": [
    "common ground apploach\n",
    "\n",
    "従来法\n",
    "$$\n",
    "    \\begin{align}\n",
    "        \\begin{split}\n",
    "            \\text{maximize} ~~ & ~~ \\sum_{i\\in N} (w_{i}^{R} - w_{i}^{L}) \\\\\n",
    "            \\text{subject to} ~~ & ~~ \\sum_{i\\in N} (w_{ki}^{R} - w_{ki}^{L}) \\leq \\hat{d_{k}} , k\\in M \\\\\n",
    "            ~~ & ~~ w_{ki}^{L}\\leq a_{kij}w_{kj}^{R},\\, a_{kij}w_{kj}^{L}\\leq w_{ki}^{R},\\, i,j,\\in N(i<j) , k\\in M\\\\\n",
    "            ~~ & ~~ \\sum_{j\\in N\\setminus i} w_{kj}^{R} + w_{ki}^{L}\\geq 1, k\\in M, i\\in N, \\\\\n",
    "            ~~ & ~~ \\sum_{j\\in N\\setminus i} w_{kj}^{L} + w_{ki}^{R}\\leq 1, k\\in M, i\\in N, \\\\\n",
    "            ~~ & ~~ \\sum_{j\\in N\\setminus i} w_{j}^{R} + w_{i}^{L}\\geq 1, i\\in N, \\\\\n",
    "            ~~ & ~~ \\sum_{j\\in N\\setminus i} w_{j}^{L} + w_{i}^{R}\\leq 1, i\\in N, \\\\\n",
    "            ~~ & ~~ \\sum_{i\\in N} \\frac{w_{ki}^{R} + w_{ki}^{L}}{2} = 1, k\\in M,  \\\\\n",
    "            ~~ & ~~ \\sum_{i\\in N} \\frac{w_{i}^{R} + w_{i}^{L}}{2} = 1,  \\\\\n",
    "            ~~ & ~~ \\epsilon \\leq w_{ki}^{L}\\leq w_{i}^{L}\\leq w_{i}^{R}\\leq w_{ki}^{R}, k\\in M, i\\in N.\n",
    "        \\end{split}\n",
    "    \\end{align}\n",
    "$$\n",
    "\n",
    "提案法\n",
    "$$\n",
    "    \\begin{align}\n",
    "        \\begin{split}\n",
    "            \\text{maximize} ~~ & ~~ \\sum_{i\\in N} (w_{i}^{R} - w_{i}^{L}) \\\\\n",
    "            \\text{subject to} ~~ & ~~ \\sum_{i\\in N} (w_{ki}^{R} - w_{ki}^{L}) = t_{k}\\hat{d_{k}} , k\\in M \\\\\n",
    "            ~~ & ~~ w_{ki}^{L}\\leq a_{kij}w_{kj}^{R},\\, a_{kij}w_{kj}^{L}\\leq w_{ki}^{R},\\, i,j,\\in N(i<j) , k\\in M\\\\\n",
    "            ~~ & ~~ \\sum_{j\\in N\\setminus i} w_{kj}^{R} + w_{ki}^{L}\\geq 1, k\\in M, i\\in N, \\\\\n",
    "            ~~ & ~~ \\sum_{j\\in N\\setminus i} w_{kj}^{L} + w_{ki}^{R}\\leq 1, k\\in M, i\\in N, \\\\\n",
    "            ~~ & ~~ \\sum_{j\\in N\\setminus i} w_{j}^{R} + w_{i}^{L}\\geq 1, i\\in N, \\\\\n",
    "            ~~ & ~~ \\sum_{j\\in N\\setminus i} w_{j}^{L} + w_{i}^{R}\\leq 1, i\\in N, \\\\\n",
    "            ~~ & ~~ \\sum_{i\\in N} \\frac{w_{i}^{R} + w_{i}^{L}}{2} = 1,  \\\\\n",
    "            ~~ & ~~ t_{k} = \\sum_{i\\in N} \\frac{w_{ki}^{R} + w_{ki}^{L}}{2}, k\\in M, \\\\\n",
    "            ~~ & ~~ \\epsilon \\leq w_{ki}^{L}\\leq w_{i}^{L}\\leq w_{i}^{R}\\leq w_{ki}^{R}, k\\in M, i\\in N.\n",
    "        \\end{split}\n",
    "    \\end{align}\n",
    "$$"
   ]
  },
  {
   "cell_type": "code",
   "execution_count": 6,
   "metadata": {},
   "outputs": [
    {
     "data": {
      "text/latex": [
       "$OriginalCommonGround : $"
      ],
      "text/plain": [
       "L\"$OriginalCommonGround : $\""
      ]
     },
     "metadata": {},
     "output_type": "display_data"
    },
    {
     "data": {
      "text/latex": [
       "$W = \\begin{pmatrix} \\left[ 0.375, 0.375 \\right] \\\\ \\left[ 0.367, 0.375 \\right] \\\\ \\left[ 0.125, 0.183 \\right] \\\\ \\left[ 0.075, 0.125 \\right] \\end{pmatrix}$"
      ],
      "text/plain": [
       "L\"$W = \\begin{pmatrix} \\left[ 0.375, 0.375 \\right] \\\\ \\left[ 0.367, 0.375 \\right] \\\\ \\left[ 0.125, 0.183 \\right] \\\\ \\left[ 0.075, 0.125 \\right] \\end{pmatrix}$\""
      ]
     },
     "metadata": {},
     "output_type": "display_data"
    },
    {
     "data": {
      "text/latex": [
       "$d = 0.11666666666666736$"
      ],
      "text/plain": [
       "L\"$d = 0.11666666666666736$\""
      ]
     },
     "metadata": {},
     "output_type": "display_data"
    },
    {
     "data": {
      "text/latex": [
       "$CommonGround : $"
      ],
      "text/plain": [
       "L\"$CommonGround : $\""
      ]
     },
     "metadata": {},
     "output_type": "display_data"
    },
    {
     "data": {
      "text/latex": [
       "$W = \\begin{pmatrix} \\left[ 0.375, 0.375 \\right] \\\\ \\left[ 0.367, 0.375 \\right] \\\\ \\left[ 0.125, 0.183 \\right] \\\\ \\left[ 0.075, 0.125 \\right] \\end{pmatrix}$"
      ],
      "text/plain": [
       "L\"$W = \\begin{pmatrix} \\left[ 0.375, 0.375 \\right] \\\\ \\left[ 0.367, 0.375 \\right] \\\\ \\left[ 0.125, 0.183 \\right] \\\\ \\left[ 0.075, 0.125 \\right] \\end{pmatrix}$\""
      ]
     },
     "metadata": {},
     "output_type": "display_data"
    },
    {
     "data": {
      "text/latex": [
       "$d = 0.11666666666666692$"
      ],
      "text/plain": [
       "L\"$d = 0.11666666666666692$\""
      ]
     },
     "metadata": {},
     "output_type": "display_data"
    },
    {
     "data": {
      "text/latex": [
       "$tCommonGround : $"
      ],
      "text/plain": [
       "L\"$tCommonGround : $\""
      ]
     },
     "metadata": {},
     "output_type": "display_data"
    },
    {
     "data": {
      "text/latex": [
       "$W = \\begin{pmatrix} \\left[ 0.375, 0.375 \\right] \\\\ \\left[ 0.367, 0.375 \\right] \\\\ \\left[ 0.125, 0.183 \\right] \\\\ \\left[ 0.075, 0.125 \\right] \\end{pmatrix}$"
      ],
      "text/plain": [
       "L\"$W = \\begin{pmatrix} \\left[ 0.375, 0.375 \\right] \\\\ \\left[ 0.367, 0.375 \\right] \\\\ \\left[ 0.125, 0.183 \\right] \\\\ \\left[ 0.075, 0.125 \\right] \\end{pmatrix}$\""
      ]
     },
     "metadata": {},
     "output_type": "display_data"
    },
    {
     "data": {
      "text/latex": [
       "$d = 0.11666666666666703$"
      ],
      "text/plain": [
       "L\"$d = 0.11666666666666703$\""
      ]
     },
     "metadata": {},
     "output_type": "display_data"
    },
    {
     "data": {
      "text/latex": [
       "$s = [1.0, 0.9999999999999998, 0.9999999999999991]$"
      ],
      "text/plain": [
       "L\"$s = [1.0, 0.9999999999999998, 0.9999999999999991]$\""
      ]
     },
     "metadata": {},
     "output_type": "display_data"
    }
   ],
   "source": [
    "display(L\"OriginalCommonGround : \")\n",
    "W_originalCommonGround = originalCommonGround.W\n",
    "display(L\"W = %$(intervalVectorLaTeXString(W_originalCommonGround))\")\n",
    "d_originalCommonGround = originalCommonGround.optimalValue\n",
    "display(L\"d = %$(d_originalCommonGround)\")\n",
    "\n",
    "display(L\"CommonGround : \")\n",
    "W_CommonGround = CommonGround.W\n",
    "display(L\"W = %$(intervalVectorLaTeXString(W_CommonGround))\")\n",
    "d_CommonGround = CommonGround.optimalValue\n",
    "display(L\"d = %$(d_CommonGround)\")\n",
    "\n",
    "display(L\"tCommonGround : \")\n",
    "W_tCommonGround2 = tCommonGround2.W\n",
    "display(L\"W = %$(intervalVectorLaTeXString(W_tCommonGround2))\")\n",
    "d_tCommonGround2 = tCommonGround2.optimalValue\n",
    "display(L\"d = %$(d_tCommonGround2)\")\n",
    "s_tCommonGround2 = tCommonGround2.s\n",
    "display(L\"s = %$(s_tCommonGround2)\")"
   ]
  },
  {
   "cell_type": "markdown",
   "metadata": {},
   "source": [
    "partial incorporation apploach\n",
    "\n",
    "従来法\n",
    "$$\n",
    "    \\begin{align}\n",
    "        \\begin{split}\n",
    "            \\text{minimize} ~~ & ~~ \\sum_{i\\in N} (w_{i}^{R} - w_{i}^{L}) \\\\\n",
    "            \\text{subject to}  ~~ & ~~ \\sum_{i\\in N} (w_{ki}^{R} - w_{ki}^{L}) \\leq \\hat{d_{k}} , k\\in M \\\\\n",
    "            ~~ & ~~ w_{ki}^{L}\\leq a_{kij}w_{kj}^{R},\\, a_{kij}w_{kj}^{L}\\leq w_{ki}^{R},\\, i,j,\\in N(i<j) , k\\in M\\\\\n",
    "            ~~ & ~~ \\sum_{j\\in N\\setminus i} w_{kj}^{R} + w_{ki}^{L}\\geq 1, k\\in M, i\\in N, \\\\\n",
    "            ~~ & ~~ \\sum_{j\\in N\\setminus i} w_{kj}^{L} + w_{ki}^{R}\\leq 1, k\\in M, i\\in N, \\\\\n",
    "            ~~ & ~~ \\sum_{i\\in N} w_{ki} = 1, k\\in M, \\\\\n",
    "            ~~ & ~~ \\sum_{i\\in N} \\frac{w_{ki}^{R} + w_{ki}^{L}}{2} = 1, k\\in M,  \\\\\n",
    "            ~~ & ~~ \\sum_{i\\in N} \\frac{w_{i}^{R} + w_{i}^{L}}{2} = 1,  \\\\\n",
    "            ~~ & ~~ \\epsilon \\leq w_{i}^{L}\\leq w_{ki}\\leq w_{ki}^{R}, \\epsilon \\leq w_{ki}^{L}\\leq w_{ki}\\leq w_{i}^{R}, k\\in M, i\\in N.\n",
    "        \\end{split}\n",
    "    \\end{align}\n",
    "$$\n",
    "\n",
    "提案法\n",
    "$$\n",
    "    \\begin{align}\n",
    "        \\begin{split}\n",
    "            \\text{minimize} ~~ & ~~ \\sum_{i\\in N} (w_{i}^{R} - w_{i}^{L}) \\\\\n",
    "            \\text{subject to}  ~~ & ~~ \\sum_{i\\in N} (w_{ki}^{R} - w_{ki}^{L}) = t_{k}\\hat{d_{k}} , k\\in M \\\\\n",
    "            ~~ & ~~ w_{ki}^{L}\\leq a_{kij}w_{kj}^{R},\\, a_{kij}w_{kj}^{L}\\leq w_{ki}^{R},\\, i,j,\\in N(i<j) , k\\in M\\\\\n",
    "            ~~ & ~~ \\sum_{j\\in N\\setminus i} w_{kj}^{R} + w_{ki}^{L}\\geq 1, k\\in M, i\\in N, \\\\\n",
    "            ~~ & ~~ \\sum_{j\\in N\\setminus i} w_{kj}^{L} + w_{ki}^{R}\\leq 1, k\\in M, i\\in N, \\\\\n",
    "            ~~ & ~~ \\sum_{i\\in N} w_{ki} = 1, k\\in M \\\\\n",
    "            ~~ & ~~ \\sum_{i\\in N} \\frac{w_{i}^{R} + w_{i}^{L}}{2} = 1,   \\\\\n",
    "            ~~ & ~~ t_{k} = \\sum_{i\\in N} \\frac{w_{ki}^{R} + w_{ki}^{L}}{2}, k\\in M, \\\\\n",
    "            ~~ & ~~ \\epsilon \\leq w_{i}^{L}\\leq w_{ki}\\leq w_{ki}^{R}, \\epsilon \\leq w_{ki}^{L}\\leq w_{ki}\\leq w_{i}^{R}, k\\in M, i\\in N.\n",
    "        \\end{split}\n",
    "    \\end{align}\n",
    "$$\n"
   ]
  },
  {
   "cell_type": "code",
   "execution_count": 7,
   "metadata": {},
   "outputs": [
    {
     "data": {
      "text/latex": [
       "$OriginalPartialIncorporation :$"
      ],
      "text/plain": [
       "L\"$OriginalPartialIncorporation :$\""
      ]
     },
     "metadata": {},
     "output_type": "display_data"
    },
    {
     "data": {
      "text/latex": [
       "$W = \\begin{pmatrix} \\left[ 0.375, 0.571 \\right] \\\\ \\left[ 0.214, 0.25 \\right] \\\\ \\left[ 0.167, 0.167 \\right] \\\\ \\left[ 0.048, 0.208 \\right] \\end{pmatrix}$"
      ],
      "text/plain": [
       "L\"$W = \\begin{pmatrix} \\left[ 0.375, 0.571 \\right] \\\\ \\left[ 0.214, 0.25 \\right] \\\\ \\left[ 0.167, 0.167 \\right] \\\\ \\left[ 0.048, 0.208 \\right] \\end{pmatrix}$\""
      ]
     },
     "metadata": {},
     "output_type": "display_data"
    },
    {
     "data": {
      "text/latex": [
       "$d = 0.39285714285714335$"
      ],
      "text/plain": [
       "L\"$d = 0.39285714285714335$\""
      ]
     },
     "metadata": {},
     "output_type": "display_data"
    },
    {
     "data": {
      "text/latex": [
       "$PartialIncorporation :$"
      ],
      "text/plain": [
       "L\"$PartialIncorporation :$\""
      ]
     },
     "metadata": {},
     "output_type": "display_data"
    },
    {
     "data": {
      "text/latex": [
       "$W = \\begin{pmatrix} \\left[ 0.375, 0.571 \\right] \\\\ \\left[ 0.19, 0.25 \\right] \\\\ \\left[ 0.113, 0.125 \\right] \\\\ \\left[ 0.125, 0.25 \\right] \\end{pmatrix}$"
      ],
      "text/plain": [
       "L\"$W = \\begin{pmatrix} \\left[ 0.375, 0.571 \\right] \\\\ \\left[ 0.19, 0.25 \\right] \\\\ \\left[ 0.113, 0.125 \\right] \\\\ \\left[ 0.125, 0.25 \\right] \\end{pmatrix}$\""
      ]
     },
     "metadata": {},
     "output_type": "display_data"
    },
    {
     "data": {
      "text/latex": [
       "$d = 0.3928571428571431$"
      ],
      "text/plain": [
       "L\"$d = 0.3928571428571431$\""
      ]
     },
     "metadata": {},
     "output_type": "display_data"
    },
    {
     "data": {
      "text/latex": [
       "$tPartialIncorporation :$"
      ],
      "text/plain": [
       "L\"$tPartialIncorporation :$\""
      ]
     },
     "metadata": {},
     "output_type": "display_data"
    },
    {
     "data": {
      "text/latex": [
       "$W = \\begin{pmatrix} \\left[ 0.375, 0.571 \\right] \\\\ \\left[ 0.214, 0.375 \\right] \\\\ \\left[ 0.089, 0.125 \\right] \\\\ \\left[ 0.125, 0.125 \\right] \\end{pmatrix}$"
      ],
      "text/plain": [
       "L\"$W = \\begin{pmatrix} \\left[ 0.375, 0.571 \\right] \\\\ \\left[ 0.214, 0.375 \\right] \\\\ \\left[ 0.089, 0.125 \\right] \\\\ \\left[ 0.125, 0.125 \\right] \\end{pmatrix}$\""
      ]
     },
     "metadata": {},
     "output_type": "display_data"
    },
    {
     "data": {
      "text/latex": [
       "$d = 0.3928571428571431$"
      ],
      "text/plain": [
       "L\"$d = 0.3928571428571431$\""
      ]
     },
     "metadata": {},
     "output_type": "display_data"
    },
    {
     "data": {
      "text/latex": [
       "$s = [0.9999999999999993, 0.9999999999999999, 1.0]$"
      ],
      "text/plain": [
       "L\"$s = [0.9999999999999993, 0.9999999999999999, 1.0]$\""
      ]
     },
     "metadata": {},
     "output_type": "display_data"
    }
   ],
   "source": [
    "display(L\"OriginalPartialIncorporation :\")\n",
    "W_originalPartialIncorporation = originalPartialIncorporation.W\n",
    "display(L\"W = %$(intervalVectorLaTeXString(W_originalPartialIncorporation))\")\n",
    "d_originalPartialIncorporation = originalPartialIncorporation.optimalValue\n",
    "display(L\"d = %$(d_originalPartialIncorporation)\")\n",
    "\n",
    "display(L\"PartialIncorporation :\")\n",
    "W_PartialIncorporation = PartialIncorporation.W\n",
    "display(L\"W = %$(intervalVectorLaTeXString(W_PartialIncorporation))\")\n",
    "d_PartialIncorporation = PartialIncorporation.optimalValue\n",
    "display(L\"d = %$(d_PartialIncorporation)\")\n",
    "\n",
    "display(L\"tPartialIncorporation :\")\n",
    "W_tPartialIncorporation2 = tPartialIncorporation2.W\n",
    "display(L\"W = %$(intervalVectorLaTeXString(W_tPartialIncorporation2))\")\n",
    "d_tPartialIncorporation2 = tPartialIncorporation2.optimalValue\n",
    "display(L\"d = %$(d_tPartialIncorporation2)\")\n",
    "s_tPartialIncorporation2 = tPartialIncorporation2.s\n",
    "display(L\"s = %$(s_tPartialIncorporation2)\")"
   ]
  },
  {
   "cell_type": "code",
   "execution_count": 8,
   "metadata": {},
   "outputs": [],
   "source": []
  }
 ],
 "metadata": {
  "kernelspec": {
   "display_name": "Julia 1.9.3",
   "language": "julia",
   "name": "julia-1.9"
  },
  "language_info": {
   "file_extension": ".jl",
   "mimetype": "application/julia",
   "name": "julia",
   "version": "1.9.3"
  }
 },
 "nbformat": 4,
 "nbformat_minor": 2
}
