{
 "cells": [
  {
   "cell_type": "code",
   "execution_count": 1,
   "metadata": {},
   "outputs": [],
   "source": [
    "using LaTeXStrings"
   ]
  },
  {
   "cell_type": "code",
   "execution_count": 2,
   "metadata": {},
   "outputs": [
    {
     "data": {
      "text/plain": [
       "solvetPerfectIncorporationLP (generic function with 1 method)"
      ]
     },
     "metadata": {},
     "output_type": "display_data"
    }
   ],
   "source": [
    "include(\"../display/display-crisp-matrix.jl\")\n",
    "include(\"../display/display-interval-vector.jl\")\n",
    "include(\"./optimal-value.jl\")\n",
    "include(\"./t-perfect.jl\")"
   ]
  },
  {
   "cell_type": "code",
   "execution_count": 3,
   "metadata": {},
   "outputs": [
    {
     "data": {
      "text/plain": [
       "4×4 Matrix{Float64}:\n",
       " 1.0  1.0       2.0       2.0\n",
       " 1.0  1.0       3.0       1.0\n",
       " 0.5  0.333333  1.0       3.0\n",
       " 0.5  1.0       0.333333  1.0"
      ]
     },
     "metadata": {},
     "output_type": "display_data"
    }
   ],
   "source": [
    "A₁ = [\n",
    "    1 2 3 4\n",
    "    1/2 1 2 3\n",
    "    1/3 1/2 1 2\n",
    "    1/4 1/3 1/2 1\n",
    "]\n",
    "\n",
    "A₂ = [\n",
    "    1 3 3 4\n",
    "    1/3 1 3 3\n",
    "    1/3 1/3 1 4\n",
    "    1/4 1/3 1/4 1\n",
    "]\n",
    "\n",
    "A₃ = [\n",
    "    1 1 2 2\n",
    "    1 1 3 1\n",
    "    1/2 1/3 1 3\n",
    "    1/2 1 1/3 1\n",
    "]"
   ]
  },
  {
   "cell_type": "code",
   "execution_count": 4,
   "metadata": {},
   "outputs": [
    {
     "name": "stdout",
     "output_type": "stream",
     "text": [
      "[0.08333333333333348, 0.23809523809523814, 0.375]"
     ]
    },
    {
     "ename": "TypeError",
     "evalue": "TypeError: non-boolean (Int64) used in boolean context",
     "output_type": "error",
     "traceback": [
      "TypeError: non-boolean (Int64) used in boolean context\n",
      "\n",
      "Stacktrace:\n",
      "  [1] _first_iterate(#unused#::Tuple{}, condition::Function, elems::Tuple{Int64}, states::Tuple{Tuple{Int64, Nothing, Int64}})\n",
      "    @ JuMP.Containers /opt/julia/packages/JuMP/D44Aq/src/Containers/nested_iterator.jl:114\n",
      "  [2] _next_iterate\n",
      "    @ /opt/julia/packages/JuMP/D44Aq/src/Containers/nested_iterator.jl:93 [inlined]\n",
      "  [3] _first_iterate(iterators::Tuple{var\"#69#86\"}, condition::Function, elems::Tuple{}, states::Tuple{})\n",
      "    @ JuMP.Containers /opt/julia/packages/JuMP/D44Aq/src/Containers/nested_iterator.jl:122\n",
      "  [4] iterate(it::JuMP.Containers.NestedIterator{Tuple{var\"#69#86\"}, var\"#70#87\"{Int64}})\n",
      "    @ JuMP.Containers /opt/julia/packages/JuMP/D44Aq/src/Containers/nested_iterator.jl:157\n",
      "  [5] iterate\n",
      "    @ ./generator.jl:44 [inlined]\n",
      "  [6] grow_to!(dest::JuMP.Containers.NoDuplicateDict{Any, Any}, itr::Base.Generator{JuMP.Containers.NestedIterator{Tuple{var\"#69#86\"}, var\"#70#87\"{Int64}}, JuMP.Containers.var\"#91#93\"{var\"#68#85\"{Float64, Model}}})\n",
      "    @ Base ./dict.jl:120\n",
      "  [7] dict_with_eltype(DT_apply::JuMP.Containers.var\"#82#83\", kv::Base.Generator{JuMP.Containers.NestedIterator{Tuple{var\"#69#86\"}, var\"#70#87\"{Int64}}, JuMP.Containers.var\"#91#93\"{var\"#68#85\"{Float64, Model}}}, t::Type)\n",
      "    @ Base ./abstractdict.jl:590\n",
      "  [8] JuMP.Containers.NoDuplicateDict(it::Base.Generator{JuMP.Containers.NestedIterator{Tuple{var\"#69#86\"}, var\"#70#87\"{Int64}}, JuMP.Containers.var\"#91#93\"{var\"#68#85\"{Float64, Model}}})\n",
      "    @ JuMP.Containers /opt/julia/packages/JuMP/D44Aq/src/Containers/no_duplicate_dict.jl:41\n",
      "  [9] container(f::Function, indices::JuMP.Containers.NestedIterator{Tuple{var\"#69#86\"}, var\"#70#87\"{Int64}}, ::Type{JuMP.Containers.SparseAxisArray}, names::Vector{Any})\n",
      "    @ JuMP.Containers /opt/julia/packages/JuMP/D44Aq/src/Containers/container.jl:146\n",
      " [10] container(f::Function, indices::JuMP.Containers.NestedIterator{Tuple{var\"#69#86\"}, var\"#70#87\"{Int64}}, #unused#::Type{JuMP.Containers.AutoContainerType}, names::Vector{Any})\n",
      "    @ JuMP.Containers /opt/julia/packages/JuMP/D44Aq/src/Containers/container.jl:75\n",
      " [11] macro expansion\n",
      "    @ /opt/julia/packages/JuMP/D44Aq/src/macros.jl:1213 [inlined]\n",
      " [12] solvetPerfectIncorporationLP(matrices::Vector{Matrix{Float64}})\n",
      "    @ Main /workspaces/intervalAHP/src/lib/ttimes/t-perfect.jl:50\n",
      " [13] top-level scope\n",
      "    @ /workspaces/intervalAHP/src/lib/ttimes/t-perfect.ipynb:1"
     ]
    }
   ],
   "source": [
    "solution = solvetPerfectIncorporationLP([A₁, A₂, A₃])\n",
    "v = solution.v"
   ]
  },
  {
   "cell_type": "code",
   "execution_count": 5,
   "metadata": {},
   "outputs": [
    {
     "ename": "UndefVarError",
     "evalue": "UndefVarError: `v` not defined",
     "output_type": "error",
     "traceback": [
      "UndefVarError: `v` not defined\n",
      "\n",
      "Stacktrace:\n",
      " [1] top-level scope\n",
      "   @ /workspaces/intervalAHP/src/lib/ttimes/t-perfect.ipynb:1"
     ]
    }
   ],
   "source": [
    "display(L\"v = %$(intervalVectorLaTeXString(v))\")"
   ]
  },
  {
   "cell_type": "code",
   "execution_count": 6,
   "metadata": {},
   "outputs": [
    {
     "ename": "UndefVarError",
     "evalue": "UndefVarError: `solution` not defined",
     "output_type": "error",
     "traceback": [
      "UndefVarError: `solution` not defined\n",
      "\n",
      "Stacktrace:\n",
      " [1] top-level scope\n",
      "   @ /workspaces/intervalAHP/src/lib/ttimes/t-perfect.ipynb:1"
     ]
    }
   ],
   "source": [
    "d = solution.optimalValue"
   ]
  },
  {
   "cell_type": "code",
   "execution_count": 7,
   "metadata": {},
   "outputs": [],
   "source": []
  }
 ],
 "metadata": {
  "kernelspec": {
   "display_name": "Julia 1.9.3",
   "language": "julia",
   "name": "julia-1.9"
  },
  "language_info": {
   "file_extension": ".jl",
   "mimetype": "application/julia",
   "name": "julia",
   "version": "1.9.3"
  }
 },
 "nbformat": 4,
 "nbformat_minor": 2
}
