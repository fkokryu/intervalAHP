{
 "cells": [
  {
   "cell_type": "code",
   "execution_count": 1,
   "metadata": {},
   "outputs": [],
   "source": [
    "using LaTeXStrings"
   ]
  },
  {
   "cell_type": "code",
   "execution_count": 2,
   "metadata": {},
   "outputs": [
    {
     "data": {
      "text/plain": [
       "run_experiments (generic function with 1 method)"
      ]
     },
     "metadata": {},
     "output_type": "display_data"
    }
   ],
   "source": [
    "include(\"./sim.jl\")\n",
    "include(\"../display/display-crisp-matrix.jl\")\n",
    "include(\"../display/display-interval-vector.jl\")\n",
    "include(\"display-csv.jl\")"
   ]
  },
  {
   "cell_type": "code",
   "execution_count": 3,
   "metadata": {},
   "outputs": [
    {
     "name": "stdout",
     "output_type": "stream",
     "text": [
      "Number of threads: 4\n"
     ]
    }
   ],
   "source": [
    "using Base.Threads\n",
    "\n",
    "println(\"Number of threads: \", nthreads())"
   ]
  },
  {
   "cell_type": "code",
   "execution_count": 4,
   "metadata": {},
   "outputs": [
    {
     "data": {
      "text/plain": [
       "1001-element Vector{Matrix{Float64}}:\n",
       " [1.0 0.5051616878827418 … 0.39462805469818474 0.23087923840975677; 1.9795642147591366 1.0 … 0.22647563015145286 0.22647563015145286; … ; 2.5340316992029606 4.415486113588742 … 1.0 0.4843653790614833; 4.33126861855475 4.415486113588742 … 2.0645571364692112 1.0]\n",
       " [1.0 0.3172525116345689 … 0.2268303101898135 0.30835446877173384; 3.152063303920701 1.0 … 0.2268303101898135 0.2268303101898135; … ; 4.408581900554611 4.408581900554611 … 1.0 0.2268303101898135; 3.2430209426939487 4.408581900554611 … 4.408581900554611 1.0]\n",
       " [1.0 0.45346146898040224 … 0.38075847075559166 0.23221521151472146; 2.2052590317066567 1.0 … 0.23221521151472146 0.2346206141443159; … ; 2.6263368429218708 4.306350102894117 … 1.0 0.4452675415138008; 4.306350102894117 4.262200078399321 … 2.245840773841822 1.0]\n",
       " [1.0 0.475976371965527 … 0.20582545241106295 0.20582545241106295; 2.1009446243529624 1.0 … 0.20582545241106295 0.20582545241106295; … ; 4.858485616263127 4.858485616263127 … 1.0 0.2870146768090583; 4.858485616263127 4.858485616263127 … 3.4841423829530087 1.0]\n",
       " [1.0 0.45164325926971155 … 0.3327494008753212 0.21393566836572947; 2.214136886747648 1.0 … 0.21393566836572947 0.21393566836572947; … ; 3.0052646146602466 4.674302362196424 … 1.0 0.2335416367065809; 4.674302362196424 4.674302362196424 … 4.281891717905483 1.0]\n",
       " [1.0 0.31779802624253856 … 0.2356838294295579 0.18231609816668143; 3.1466526454661343 1.0 … 0.2134157084687559 0.2150680997195728; … ; 4.242972470450646 4.685690698097793 … 1.0 0.32265690277707304; 5.48497916561244 4.6496900344769845 … 3.0992673375127207 1.0]\n",
       " [1.0 0.641824009763144 … 0.41225825561718393 0.16517690872376495; 1.55805950663802 1.0 … 0.16562911992971588 0.16517690872376495; … ; 2.4256639773117925 6.0375856638273895 … 1.0 0.24112582872031962; 6.054114995409914 6.054114995409914 … 4.147212288733671 1.0]\n",
       " [1.0 0.5749177042195229 … 0.5102573158879828 0.23576003632850193; 1.7393793801454518 1.0 … 0.23576003632850193 0.23576003632850193; … ; 1.9597955166203451 4.24160097518235 … 1.0 0.23576003632850193; 4.24160097518235 4.24160097518235 … 4.24160097518235 1.0]\n",
       " [1.0 0.4527790743834681 … 0.24824956065121603 0.2183165291298986; 2.2085826324055757 1.0 … 0.2183165291298986 0.2183165291298986; … ; 4.028204510722068 4.580505214082983 … 1.0 0.2183165291298986; 4.580505214082983 4.580505214082983 … 4.580505214082983 1.0]\n",
       " [1.0 0.3023376342437142 … 0.3270435542853349 0.3031094759313506; 3.3075604448035754 1.0 … 0.23675264512397778 0.23675264512397778; … ; 3.057696710107096 4.223817645105255 … 1.0 0.5316164780566475; 3.2991380323143833 4.223817645105255 … 1.8810553120090512 1.0]\n",
       " ⋮\n",
       " [1.0 0.37299808766028353 … 0.5275135343788561 0.24203976934432292; 2.6809788926070115 1.0 … 0.24203976934432292 0.24203976934432292; … ; 1.895685958422837 4.1315524416048 … 1.0 0.24203976934432292; 4.1315524416048 4.1315524416048 … 4.1315524416048 1.0]\n",
       " [1.0 0.40477862412231413 … 0.20210900260103992 0.20210900260103992; 2.470486187773158 1.0 … 0.20210900260103992 0.20210900260103992; … ; 4.947825119764628 4.947825119764628 … 1.0 0.42842864638058553; 4.947825119764628 4.947825119764628 … 2.3341109621126295 1.0]\n",
       " [1.0 0.5580839731993108 … 0.27960563615670536 0.24546727175175734; 1.7918450412889135 1.0 … 0.24546727175175734 0.24546727175175734; … ; 3.576465817160955 4.073862852931802 … 1.0 0.27983371270663776; 4.073862852931802 4.073862852931802 … 3.5735508432050316 1.0]\n",
       " [1.0 0.3129524533981841 … 0.16086887738461814 0.2753497527239739; 3.195373575575242 1.0 … 0.1693282873805602 0.2368218684271057; … ; 6.216242795112695 5.905687794222653 … 1.0 0.48972169522949377; 3.631744681472281 4.222583018374429 … 2.0419761054926906 1.0]\n",
       " [1.0 0.807052256630416 … 0.19931147260786192 0.19931147260786192; 1.239077137551383 1.0 … 0.19931147260786192 0.19931147260786192; … ; 5.0172726482607635 5.0172726482607635 … 1.0 0.19931147260786192; 5.0172726482607635 5.0172726482607635 … 5.0172726482607635 1.0]\n",
       " [1.0 0.46575931022089173 … 0.23480240247280965 0.3099671325048534; 2.147031692239793 1.0 … 0.23480240247280965 0.23480240247280965; … ; 4.2589002048895175 4.2589002048895175 … 1.0 0.23480240247280965; 3.226148501355518 4.2589002048895175 … 4.2589002048895175 1.0]\n",
       " [1.0 0.5264684978942304 … 0.21396224926458074 0.21396224926458074; 1.899448882506364 1.0 … 0.21396224926458074 0.21396224926458074; … ; 4.673721665560841 4.673721665560841 … 1.0 0.24657618151621907; 4.673721665560841 4.673721665560841 … 4.055541755294085 1.0]\n",
       " [1.0 1.0099675369546126 … 0.199227714124515 0.199227714124515; 0.9901308343190237 1.0 … 0.199227714124515 0.199227714124515; … ; 5.019381989069109 5.019381989069109 … 1.0 0.2783186751967793; 5.019381989069109 5.019381989069109 … 3.593003593068167 1.0]\n",
       " [1.0 0.4077170570206182 … 0.2946546234153213 0.24444935589330022; 2.452681296454639 1.0 … 0.24444935589330022 0.24444935589330022; … ; 3.3938038657227554 4.090826896825575 … 1.0 0.31524329825153824; 4.090826896825575 4.090826896825575 … 3.1721530815924983 1.0]"
      ]
     },
     "metadata": {},
     "output_type": "display_data"
    }
   ],
   "source": [
    "# 例：5x5のPCMをdesired_count個生成する\n",
    "n = 5\n",
    "perturbation_strength = 0.8\n",
    "desired_count = 1000\n",
    "\n",
    "pcms = generate_similar_pcms(n, perturbation_strength, desired_count)"
   ]
  },
  {
   "cell_type": "code",
   "execution_count": 5,
   "metadata": {},
   "outputs": [
    {
     "data": {
      "text/latex": [
       "$A = \\begin{pmatrix} 1.0 & 0.505 & 0.226 & 0.395 & 0.231 \\\\1.98 & 1.0 & 0.226 & 0.226 & 0.226 \\\\4.415 & 4.415 & 1.0 & 0.959 & 0.756 \\\\2.534 & 4.415 & 1.042 & 1.0 & 0.484 \\\\4.331 & 4.415 & 1.322 & 2.065 & 1.0 \\\\ \\end{pmatrix}$"
      ],
      "text/plain": [
       "L\"$A = \\begin{pmatrix} 1.0 & 0.505 & 0.226 & 0.395 & 0.231 \\\\1.98 & 1.0 & 0.226 & 0.226 & 0.226 \\\\4.415 & 4.415 & 1.0 & 0.959 & 0.756 \\\\2.534 & 4.415 & 1.042 & 1.0 & 0.484 \\\\4.331 & 4.415 & 1.322 & 2.065 & 1.0 \\\\ \\end{pmatrix}$\""
      ]
     },
     "metadata": {},
     "output_type": "display_data"
    },
    {
     "data": {
      "text/latex": [
       "$A = \\begin{pmatrix} 1.0 & 0.317 & 0.227 & 0.227 & 0.308 \\\\3.152 & 1.0 & 0.227 & 0.227 & 0.227 \\\\4.409 & 4.409 & 1.0 & 1.01 & 0.276 \\\\4.409 & 4.409 & 0.99 & 1.0 & 0.227 \\\\3.243 & 4.409 & 3.626 & 4.409 & 1.0 \\\\ \\end{pmatrix}$"
      ],
      "text/plain": [
       "L\"$A = \\begin{pmatrix} 1.0 & 0.317 & 0.227 & 0.227 & 0.308 \\\\3.152 & 1.0 & 0.227 & 0.227 & 0.227 \\\\4.409 & 4.409 & 1.0 & 1.01 & 0.276 \\\\4.409 & 4.409 & 0.99 & 1.0 & 0.227 \\\\3.243 & 4.409 & 3.626 & 4.409 & 1.0 \\\\ \\end{pmatrix}$\""
      ]
     },
     "metadata": {},
     "output_type": "display_data"
    },
    {
     "data": {
      "text/latex": [
       "$A = \\begin{pmatrix} 1.0 & 0.453 & 0.232 & 0.381 & 0.232 \\\\2.205 & 1.0 & 0.232 & 0.232 & 0.235 \\\\4.306 & 4.306 & 1.0 & 0.276 & 0.368 \\\\2.626 & 4.306 & 3.625 & 1.0 & 0.445 \\\\4.306 & 4.262 & 2.716 & 2.246 & 1.0 \\\\ \\end{pmatrix}$"
      ],
      "text/plain": [
       "L\"$A = \\begin{pmatrix} 1.0 & 0.453 & 0.232 & 0.381 & 0.232 \\\\2.205 & 1.0 & 0.232 & 0.232 & 0.235 \\\\4.306 & 4.306 & 1.0 & 0.276 & 0.368 \\\\2.626 & 4.306 & 3.625 & 1.0 & 0.445 \\\\4.306 & 4.262 & 2.716 & 2.246 & 1.0 \\\\ \\end{pmatrix}$\""
      ]
     },
     "metadata": {},
     "output_type": "display_data"
    }
   ],
   "source": [
    "display(L\"A = %$(matrixLaTeXString(pcms[1]))\")\n",
    "display(L\"A = %$(matrixLaTeXString(pcms[2]))\")\n",
    "display(L\"A = %$(matrixLaTeXString(pcms[3]))\")"
   ]
  },
  {
   "cell_type": "code",
   "execution_count": 6,
   "metadata": {},
   "outputs": [
    {
     "ename": "ErrorException",
     "evalue": "type NamedTuple has no field V",
     "output_type": "error",
     "traceback": [
      "type NamedTuple has no field V\n",
      "\n",
      "Stacktrace:\n",
      " [1] getproperty(x::NamedTuple{(:wᴸ_center_1, :wᵁ_center_1, :W_center_1, :optimalValue_center_1), Tuple{Vector{Float64}, Vector{Float64}, Vector{Interval{Float64}}, Float64}}, f::Symbol)\n",
      "   @ Base ./Base.jl:37\n",
      " [2] top-level scope\n",
      "   @ /workspaces/intervalAHP/src/lib/sim/simulation.ipynb:4"
     ]
    }
   ],
   "source": [
    "A1 = solveCrispAHPLP(pcms[1])\n",
    "A2 = solveCrispAHPLP(pcms[2])\n",
    "A3 = solveCrispAHPLP(pcms[3])\n",
    "display(L\"V1 = %$(intervalVectorLaTeXString(A1.V))\")\n",
    "display(L\"V2 = %$(intervalVectorLaTeXString(A2.V))\")\n",
    "display(L\"V3 = %$(intervalVectorLaTeXString(A3.V))\")"
   ]
  },
  {
   "cell_type": "code",
   "execution_count": 7,
   "metadata": {},
   "outputs": [
    {
     "ename": "CompositeException",
     "evalue": "TaskFailedException\n\n    nested task error: type NamedTuple has no field optimalValue\n    Stacktrace:\n      [1] getproperty(x::NamedTuple{(:wᴸ_center_1, :wᵁ_center_1, :W_center_1, :optimalValue_center_1), Tuple{Vector{Float64}, Vector{Float64}, Vector{Interval{Float64}}, Float64}}, f::Symbol)\n        @ Base ./Base.jl:37\n      [2] (::var\"#338#353\")(Aₖ::Matrix{Float64})\n        @ Main /workspaces/intervalAHP/src/lib/ttimes-center/t-perfect-center.jl:37\n      [3] iterate\n        @ ./generator.jl:47 [inlined]\n      [4] _collect(c::Vector{Matrix{Float64}}, itr::Base.Generator{Vector{Matrix{Float64}}, var\"#338#353\"}, #unused#::Base.EltypeUnknown, isz::Base.HasShape{1})\n        @ Base ./array.jl:802\n      [5] collect_similar\n        @ ./array.jl:711 [inlined]\n      [6] map\n        @ ./abstractarray.jl:3263 [inlined]\n      [7] solvetPerfectIncorporationLP2(matrices::Vector{Matrix{Float64}})\n        @ Main /workspaces/intervalAHP/src/lib/ttimes-center/t-perfect-center.jl:37\n      [8] macro expansion\n        @ /workspaces/intervalAHP/src/lib/sim/display-csv.jl:55 [inlined]\n      [9] (::var\"#1956#threadsfor_fun#493\"{var\"#1956#threadsfor_fun#492#494\"{Vector{Matrix{Float64}}, Int64, Int64, Vector{Any}, UnitRange{Int64}}})(tid::Int64; onethread::Bool)\n        @ Main ./threadingconstructs.jl:200\n     [10] #1956#threadsfor_fun\n        @ ./threadingconstructs.jl:167 [inlined]\n     [11] (::Base.Threads.var\"#1#2\"{var\"#1956#threadsfor_fun#493\"{var\"#1956#threadsfor_fun#492#494\"{Vector{Matrix{Float64}}, Int64, Int64, Vector{Any}, UnitRange{Int64}}}, Int64})()\n        @ Base.Threads ./threadingconstructs.jl:139\n\n...and 3 more exceptions.\n",
     "output_type": "error",
     "traceback": [
      "TaskFailedException\n",
      "\n",
      "    nested task error: type NamedTuple has no field optimalValue\n",
      "    Stacktrace:\n",
      "      [1] getproperty(x::NamedTuple{(:wᴸ_center_1, :wᵁ_center_1, :W_center_1, :optimalValue_center_1), Tuple{Vector{Float64}, Vector{Float64}, Vector{Interval{Float64}}, Float64}}, f::Symbol)\n",
      "        @ Base ./Base.jl:37\n",
      "      [2] (::var\"#338#353\")(Aₖ::Matrix{Float64})\n",
      "        @ Main /workspaces/intervalAHP/src/lib/ttimes-center/t-perfect-center.jl:37\n",
      "      [3] iterate\n",
      "        @ ./generator.jl:47 [inlined]\n",
      "      [4] _collect(c::Vector{Matrix{Float64}}, itr::Base.Generator{Vector{Matrix{Float64}}, var\"#338#353\"}, #unused#::Base.EltypeUnknown, isz::Base.HasShape{1})\n",
      "        @ Base ./array.jl:802\n",
      "      [5] collect_similar\n",
      "        @ ./array.jl:711 [inlined]\n",
      "      [6] map\n",
      "        @ ./abstractarray.jl:3263 [inlined]\n",
      "      [7] solvetPerfectIncorporationLP2(matrices::Vector{Matrix{Float64}})\n",
      "        @ Main /workspaces/intervalAHP/src/lib/ttimes-center/t-perfect-center.jl:37\n",
      "      [8] macro expansion\n",
      "        @ /workspaces/intervalAHP/src/lib/sim/display-csv.jl:55 [inlined]\n",
      "      [9] (::var\"#1956#threadsfor_fun#493\"{var\"#1956#threadsfor_fun#492#494\"{Vector{Matrix{Float64}}, Int64, Int64, Vector{Any}, UnitRange{Int64}}})(tid::Int64; onethread::Bool)\n",
      "        @ Main ./threadingconstructs.jl:200\n",
      "     [10] #1956#threadsfor_fun\n",
      "        @ ./threadingconstructs.jl:167 [inlined]\n",
      "     [11] (::Base.Threads.var\"#1#2\"{var\"#1956#threadsfor_fun#493\"{var\"#1956#threadsfor_fun#492#494\"{Vector{Matrix{Float64}}, Int64, Int64, Vector{Any}, UnitRange{Int64}}}, Int64})()\n",
      "        @ Base.Threads ./threadingconstructs.jl:139\n",
      "\n",
      "...and 3 more exceptions.\n",
      "\n",
      "\n",
      "Stacktrace:\n",
      " [1] threading_run(fun::var\"#1956#threadsfor_fun#493\"{var\"#1956#threadsfor_fun#492#494\"{Vector{Matrix{Float64}}, Int64, Int64, Vector{Any}, UnitRange{Int64}}}, static::Bool)\n",
      "   @ Base.Threads ./threadingconstructs.jl:157\n",
      " [2] macro expansion\n",
      "   @ ./threadingconstructs.jl:205 [inlined]\n",
      " [3] run_experiments(pcms::Vector{Matrix{Float64}}, n::Int64, k::Int64, trials::Int64)\n",
      "   @ Main /workspaces/intervalAHP/src/lib/sim/display-csv.jl:43\n",
      " [4] top-level scope\n",
      "   @ /workspaces/intervalAHP/src/lib/sim/simulation.ipynb:1"
     ]
    }
   ],
   "source": [
    "run_experiments(pcms, 5, 3, 5)"
   ]
  },
  {
   "cell_type": "code",
   "execution_count": 8,
   "metadata": {},
   "outputs": [
    {
     "data": {
      "text/plain": [
       "3-element Vector{Matrix{Float64}}:\n",
       " [1.0 0.2839369054426793 … 0.5348080637539239 0.22107572398374312; 3.521909201767638 1.0 … 0.22107572398374312 0.22107572398374312; … ; 1.8698296973699344 4.523336990512515 … 1.0 0.22107572398374312; 4.523336990512515 4.523336990512515 … 4.523336990512515 1.0]\n",
       " [1.0 0.631907112970684 … 0.20001317199500462 0.1920717104309451; 1.5825110676454641 1.0 … 0.1920717104309451 0.1920717104309451; … ; 4.999670721811138 5.20638878966784 … 1.0 0.1920717104309451; 5.20638878966784 5.20638878966784 … 5.20638878966784 1.0]\n",
       " [1.0 0.24397486186757633 … 0.3301370370603338 0.24397486186757633; 4.09878293339408 1.0 … 0.24397486186757633 0.24397486186757633; … ; 3.02904517743414 4.09878293339408 … 1.0 0.24397486186757633; 4.09878293339408 4.09878293339408 … 4.09878293339408 1.0]"
      ]
     },
     "metadata": {},
     "output_type": "display_data"
    }
   ],
   "source": [
    "selected_pcms = random_select_pcms(pcms, 3)"
   ]
  },
  {
   "cell_type": "code",
   "execution_count": 9,
   "metadata": {},
   "outputs": [
    {
     "ename": "ErrorException",
     "evalue": "type NamedTuple has no field optimalValue",
     "output_type": "error",
     "traceback": [
      "type NamedTuple has no field optimalValue\n",
      "\n",
      "Stacktrace:\n",
      " [1] getproperty(x::NamedTuple{(:wᴸ_center_1, :wᵁ_center_1, :W_center_1, :optimalValue_center_1), Tuple{Vector{Float64}, Vector{Float64}, Vector{Interval{Float64}}, Float64}}, f::Symbol)\n",
      "   @ Base ./Base.jl:37\n",
      " [2] (::var\"#338#353\")(Aₖ::Matrix{Float64})\n",
      "   @ Main /workspaces/intervalAHP/src/lib/ttimes-center/t-perfect-center.jl:37\n",
      " [3] iterate\n",
      "   @ ./generator.jl:47 [inlined]\n",
      " [4] _collect(c::Vector{Matrix{Float64}}, itr::Base.Generator{Vector{Matrix{Float64}}, var\"#338#353\"}, #unused#::Base.EltypeUnknown, isz::Base.HasShape{1})\n",
      "   @ Base ./array.jl:802\n",
      " [5] collect_similar\n",
      "   @ ./array.jl:711 [inlined]\n",
      " [6] map\n",
      "   @ ./abstractarray.jl:3263 [inlined]\n",
      " [7] solvetPerfectIncorporationLP2(matrices::Vector{Matrix{Float64}})\n",
      "   @ Main /workspaces/intervalAHP/src/lib/ttimes-center/t-perfect-center.jl:37\n",
      " [8] top-level scope\n",
      "   @ /workspaces/intervalAHP/src/lib/sim/simulation.ipynb:10"
     ]
    }
   ],
   "source": [
    "    # PerfectIncorporationの計算\n",
    "    PerfectIncorporation_before = solvePerfectIncorporationLP(selected_pcms)\n",
    "    if PerfectIncorporation_before === nothing\n",
    "        PerfectIncorporation_before = \"Error\"\n",
    "    end\n",
    "    PerfectIncorporation = solveonePerfectIncorporationLP(selected_pcms)\n",
    "    if PerfectIncorporation === nothing\n",
    "        PerfectIncorporation = \"Error\"\n",
    "    end\n",
    "    tPerfectIncorporation2 = solvetPerfectIncorporationLP2(selected_pcms)\n",
    "    if tPerfectIncorporation2 === nothing\n",
    "        tPerfectIncorporation2 = \"Error\"\n",
    "    end\n",
    "\n",
    "    # CommonGroundの計算\n",
    "    CommonGround_before = solveCommonGroundLP(selected_pcms)\n",
    "    if CommonGround_before === nothing\n",
    "        CommonGround_before = \"Error\"\n",
    "    end\n",
    "    CommonGround = solveoneCommonGroundLP(selected_pcms)\n",
    "    if CommonGround === nothing\n",
    "        CommonGround = \"Error\"\n",
    "    end\n",
    "    tCommonGround2 = solvetCommonGroundLP2(selected_pcms)\n",
    "    if tCommonGround2 === nothing\n",
    "        tCommonGround2 = \"Error\"\n",
    "    end\n",
    "\n",
    "    # PartialIncorporationの計算\n",
    "    PartialIncorporation_before = solvePartialIncorporationLP(selected_pcms)\n",
    "    if PartialIncorporation_before === nothing\n",
    "        PartialIncorporation_before = \"Error\"\n",
    "    end\n",
    "    PartialIncorporation = solveonePartialIncorporationLP(selected_pcms)\n",
    "    if PartialIncorporation === nothing\n",
    "        PartialIncorporation = \"Error\"\n",
    "    end\n",
    "    tPartialIncorporation2 = solvetPartialIncorporationLP2(selected_pcms)\n",
    "    if tPartialIncorporation2 === nothing\n",
    "        tPartialIncorporation2 = \"Error\"\n",
    "    end\n"
   ]
  },
  {
   "cell_type": "code",
   "execution_count": 10,
   "metadata": {},
   "outputs": [
    {
     "ename": "ErrorException",
     "evalue": "type NamedTuple has no field W",
     "output_type": "error",
     "traceback": [
      "type NamedTuple has no field W\n",
      "\n",
      "Stacktrace:\n",
      " [1] getproperty(x::NamedTuple{(:wᴸ_perfect_center_1, :wᵁ_perfect_center_1, :W_perfect_center_1, :ŵᴸ_perfect_center_1, :ŵᵁ_perfect_center_1, :Ŵ_perfect_center_1, :optimalValue_perfect_center_1), Tuple{Vector{Float64}, Vector{Float64}, Vector{Interval{Float64}}, Matrix{Float64}, Matrix{Float64}, Vector{Vector{Interval{Float64}}}, Float64}}, f::Symbol)\n",
      "   @ Base ./Base.jl:37\n",
      " [2] top-level scope\n",
      "   @ /workspaces/intervalAHP/src/lib/sim/simulation.ipynb:1"
     ]
    }
   ],
   "source": [
    "PerfectIncorporation.W"
   ]
  },
  {
   "cell_type": "code",
   "execution_count": 11,
   "metadata": {},
   "outputs": [
    {
     "ename": "ErrorException",
     "evalue": "type NamedTuple has no field W",
     "output_type": "error",
     "traceback": [
      "type NamedTuple has no field W\n",
      "\n",
      "Stacktrace:\n",
      " [1] getproperty(x::NamedTuple{(:wᴸ_perfect_entani, :wᵁ_perfect_entani, :W_perfect_entani, :ŵᴸ_perfect_entani, :ŵᵁ_perfect_entani, :Ŵ_perfect_entani, :optimalValue_perfect_entani), Tuple{Vector{Float64}, Vector{Float64}, Vector{Interval{Float64}}, Matrix{Float64}, Matrix{Float64}, Vector{Vector{Interval{Float64}}}, Float64}}, f::Symbol)\n",
      "   @ Base ./Base.jl:37\n",
      " [2] top-level scope\n",
      "   @ /workspaces/intervalAHP/src/lib/sim/simulation.ipynb:1"
     ]
    }
   ],
   "source": [
    "display(L\"%$(intervalVectorLaTeXString(PerfectIncorporation_before.W))\")\n",
    "display(L\"%$(intervalVectorLaTeXString(PerfectIncorporation.W))\") \n",
    "display(L\"%$(intervalVectorLaTeXString(tPerfectIncorporation2.W))\")"
   ]
  },
  {
   "cell_type": "code",
   "execution_count": 12,
   "metadata": {},
   "outputs": [
    {
     "data": {
      "text/plain": [
       "intervalmatrixLaTeXString (generic function with 1 method)"
      ]
     },
     "metadata": {},
     "output_type": "display_data"
    }
   ],
   "source": [
    "include(\"../generate-pcm.jl\")\n",
    "include(\"../display/display-interval-matrix.jl\")"
   ]
  },
  {
   "cell_type": "code",
   "execution_count": 13,
   "metadata": {},
   "outputs": [
    {
     "ename": "ErrorException",
     "evalue": "type NamedTuple has no field W",
     "output_type": "error",
     "traceback": [
      "type NamedTuple has no field W\n",
      "\n",
      "Stacktrace:\n",
      " [1] getproperty(x::NamedTuple{(:wᴸ_perfect_entani, :wᵁ_perfect_entani, :W_perfect_entani, :ŵᴸ_perfect_entani, :ŵᵁ_perfect_entani, :Ŵ_perfect_entani, :optimalValue_perfect_entani), Tuple{Vector{Float64}, Vector{Float64}, Vector{Interval{Float64}}, Matrix{Float64}, Matrix{Float64}, Vector{Vector{Interval{Float64}}}, Float64}}, f::Symbol)\n",
      "   @ Base ./Base.jl:37\n",
      " [2] top-level scope\n",
      "   @ /workspaces/intervalAHP/src/lib/sim/simulation.ipynb:1"
     ]
    }
   ],
   "source": [
    "display(L\"%$(intervalmatrixLaTeXString(create_interval_pcm(PerfectIncorporation_before.W)))\")\n",
    "display(L\"%$(intervalmatrixLaTeXString(create_interval_pcm(PerfectIncorporation.W)))\")\n",
    "display(L\"%$(intervalmatrixLaTeXString(create_interval_pcm(tPerfectIncorporation2.W)))\")"
   ]
  },
  {
   "cell_type": "code",
   "execution_count": 14,
   "metadata": {},
   "outputs": [
    {
     "ename": "ErrorException",
     "evalue": "type NamedTuple has no field wᵁ",
     "output_type": "error",
     "traceback": [
      "type NamedTuple has no field wᵁ\n",
      "\n",
      "Stacktrace:\n",
      "  [1] getproperty\n",
      "    @ ./Base.jl:37 [inlined]\n",
      "  [2] (::var\"#490#491\"{NamedTuple{(:wᴸ_perfect_entani, :wᵁ_perfect_entani, :W_perfect_entani, :ŵᴸ_perfect_entani, :ŵᵁ_perfect_entani, :Ŵ_perfect_entani, :optimalValue_perfect_entani), Tuple{Vector{Float64}, Vector{Float64}, Vector{Interval{Float64}}, Matrix{Float64}, Matrix{Float64}, Vector{Vector{Interval{Float64}}}, Float64}}})(i::Int64)\n",
      "    @ Main ./none:0\n",
      "  [3] MappingRF\n",
      "    @ ./reduce.jl:95 [inlined]\n",
      "  [4] _foldl_impl\n",
      "    @ ./reduce.jl:58 [inlined]\n",
      "  [5] foldl_impl(op::Base.MappingRF{var\"#490#491\"{NamedTuple{(:wᴸ_perfect_entani, :wᵁ_perfect_entani, :W_perfect_entani, :ŵᴸ_perfect_entani, :ŵᵁ_perfect_entani, :Ŵ_perfect_entani, :optimalValue_perfect_entani), Tuple{Vector{Float64}, Vector{Float64}, Vector{Interval{Float64}}, Matrix{Float64}, Matrix{Float64}, Vector{Vector{Interval{Float64}}}, Float64}}}, Base.BottomRF{typeof(Base.add_sum)}}, nt::Base._InitialValue, itr::UnitRange{Int64})\n",
      "    @ Base ./reduce.jl:48\n",
      "  [6] mapfoldl_impl(f::typeof(identity), op::typeof(Base.add_sum), nt::Base._InitialValue, itr::Base.Generator{UnitRange{Int64}, var\"#490#491\"{NamedTuple{(:wᴸ_perfect_entani, :wᵁ_perfect_entani, :W_perfect_entani, :ŵᴸ_perfect_entani, :ŵᵁ_perfect_entani, :Ŵ_perfect_entani, :optimalValue_perfect_entani), Tuple{Vector{Float64}, Vector{Float64}, Vector{Interval{Float64}}, Matrix{Float64}, Matrix{Float64}, Vector{Vector{Interval{Float64}}}, Float64}}}})\n",
      "    @ Base ./reduce.jl:44\n",
      "  [7] mapfoldl(f::Function, op::Function, itr::Base.Generator{UnitRange{Int64}, var\"#490#491\"{NamedTuple{(:wᴸ_perfect_entani, :wᵁ_perfect_entani, :W_perfect_entani, :ŵᴸ_perfect_entani, :ŵᵁ_perfect_entani, :Ŵ_perfect_entani, :optimalValue_perfect_entani), Tuple{Vector{Float64}, Vector{Float64}, Vector{Interval{Float64}}, Matrix{Float64}, Matrix{Float64}, Vector{Vector{Interval{Float64}}}, Float64}}}}; init::Base._InitialValue)\n",
      "    @ Base ./reduce.jl:170\n",
      "  [8] mapfoldl(f::Function, op::Function, itr::Base.Generator{UnitRange{Int64}, var\"#490#491\"{NamedTuple{(:wᴸ_perfect_entani, :wᵁ_perfect_entani, :W_perfect_entani, :ŵᴸ_perfect_entani, :ŵᵁ_perfect_entani, :Ŵ_perfect_entani, :optimalValue_perfect_entani), Tuple{Vector{Float64}, Vector{Float64}, Vector{Interval{Float64}}, Matrix{Float64}, Matrix{Float64}, Vector{Vector{Interval{Float64}}}, Float64}}}})\n",
      "    @ Base ./reduce.jl:170\n",
      "  [9] mapreduce(f::Function, op::Function, itr::Base.Generator{UnitRange{Int64}, var\"#490#491\"{NamedTuple{(:wᴸ_perfect_entani, :wᵁ_perfect_entani, :W_perfect_entani, :ŵᴸ_perfect_entani, :ŵᵁ_perfect_entani, :Ŵ_perfect_entani, :optimalValue_perfect_entani), Tuple{Vector{Float64}, Vector{Float64}, Vector{Interval{Float64}}, Matrix{Float64}, Matrix{Float64}, Vector{Vector{Interval{Float64}}}, Float64}}}}; kw::Base.Pairs{Symbol, Union{}, Tuple{}, NamedTuple{(), Tuple{}}})\n",
      "    @ Base ./reduce.jl:302\n",
      " [10] mapreduce(f::Function, op::Function, itr::Base.Generator{UnitRange{Int64}, var\"#490#491\"{NamedTuple{(:wᴸ_perfect_entani, :wᵁ_perfect_entani, :W_perfect_entani, :ŵᴸ_perfect_entani, :ŵᵁ_perfect_entani, :Ŵ_perfect_entani, :optimalValue_perfect_entani), Tuple{Vector{Float64}, Vector{Float64}, Vector{Interval{Float64}}, Matrix{Float64}, Matrix{Float64}, Vector{Vector{Interval{Float64}}}, Float64}}}})\n",
      "    @ Base ./reduce.jl:302\n",
      " [11] sum(f::Function, a::Base.Generator{UnitRange{Int64}, var\"#490#491\"{NamedTuple{(:wᴸ_perfect_entani, :wᵁ_perfect_entani, :W_perfect_entani, :ŵᴸ_perfect_entani, :ŵᵁ_perfect_entani, :Ŵ_perfect_entani, :optimalValue_perfect_entani), Tuple{Vector{Float64}, Vector{Float64}, Vector{Interval{Float64}}, Matrix{Float64}, Matrix{Float64}, Vector{Vector{Interval{Float64}}}, Float64}}}}; kw::Base.Pairs{Symbol, Union{}, Tuple{}, NamedTuple{(), Tuple{}}})\n",
      "    @ Base ./reduce.jl:530\n",
      " [12] sum(f::Function, a::Base.Generator{UnitRange{Int64}, var\"#490#491\"{NamedTuple{(:wᴸ_perfect_entani, :wᵁ_perfect_entani, :W_perfect_entani, :ŵᴸ_perfect_entani, :ŵᵁ_perfect_entani, :Ŵ_perfect_entani, :optimalValue_perfect_entani), Tuple{Vector{Float64}, Vector{Float64}, Vector{Interval{Float64}}, Matrix{Float64}, Matrix{Float64}, Vector{Vector{Interval{Float64}}}, Float64}}}})\n",
      "    @ Base ./reduce.jl:530\n",
      " [13] sum(a::Base.Generator{UnitRange{Int64}, var\"#490#491\"{NamedTuple{(:wᴸ_perfect_entani, :wᵁ_perfect_entani, :W_perfect_entani, :ŵᴸ_perfect_entani, :ŵᵁ_perfect_entani, :Ŵ_perfect_entani, :optimalValue_perfect_entani), Tuple{Vector{Float64}, Vector{Float64}, Vector{Interval{Float64}}, Matrix{Float64}, Matrix{Float64}, Vector{Vector{Interval{Float64}}}, Float64}}}}; kw::Base.Pairs{Symbol, Union{}, Tuple{}, NamedTuple{(), Tuple{}}})\n",
      "    @ Base ./reduce.jl:559\n",
      " [14] sum(a::Base.Generator{UnitRange{Int64}, var\"#490#491\"{NamedTuple{(:wᴸ_perfect_entani, :wᵁ_perfect_entani, :W_perfect_entani, :ŵᴸ_perfect_entani, :ŵᵁ_perfect_entani, :Ŵ_perfect_entani, :optimalValue_perfect_entani), Tuple{Vector{Float64}, Vector{Float64}, Vector{Interval{Float64}}, Matrix{Float64}, Matrix{Float64}, Vector{Vector{Interval{Float64}}}, Float64}}}})\n",
      "    @ Base ./reduce.jl:559\n",
      " [15] calculate_result(Method::NamedTuple{(:wᴸ_perfect_entani, :wᵁ_perfect_entani, :W_perfect_entani, :ŵᴸ_perfect_entani, :ŵᵁ_perfect_entani, :Ŵ_perfect_entani, :optimalValue_perfect_entani), Tuple{Vector{Float64}, Vector{Float64}, Vector{Interval{Float64}}, Matrix{Float64}, Matrix{Float64}, Vector{Vector{Interval{Float64}}}, Float64}}, n::Int64)\n",
      "    @ Main /workspaces/intervalAHP/src/lib/sim/display-csv.jl:33\n",
      " [16] top-level scope\n",
      "    @ /workspaces/intervalAHP/src/lib/sim/simulation.ipynb:1"
     ]
    }
   ],
   "source": [
    "A = calculate_result(PerfectIncorporation_before, 5)\n",
    "B = calculate_result(PerfectIncorporation, 5)\n",
    "C = calculate_result(tPerfectIncorporation2, 5)"
   ]
  },
  {
   "cell_type": "code",
   "execution_count": 15,
   "metadata": {},
   "outputs": [
    {
     "ename": "UndefVarError",
     "evalue": "UndefVarError: `A` not defined",
     "output_type": "error",
     "traceback": [
      "UndefVarError: `A` not defined\n"
     ]
    }
   ],
   "source": [
    "A"
   ]
  },
  {
   "cell_type": "code",
   "execution_count": 16,
   "metadata": {},
   "outputs": [
    {
     "ename": "UndefVarError",
     "evalue": "UndefVarError: `B` not defined",
     "output_type": "error",
     "traceback": [
      "UndefVarError: `B` not defined\n"
     ]
    }
   ],
   "source": [
    "B"
   ]
  },
  {
   "cell_type": "code",
   "execution_count": 17,
   "metadata": {},
   "outputs": [
    {
     "ename": "UndefVarError",
     "evalue": "UndefVarError: `C` not defined",
     "output_type": "error",
     "traceback": [
      "UndefVarError: `C` not defined\n"
     ]
    }
   ],
   "source": [
    "C"
   ]
  },
  {
   "cell_type": "code",
   "execution_count": 18,
   "metadata": {},
   "outputs": [],
   "source": []
  }
 ],
 "metadata": {
  "kernelspec": {
   "display_name": "Julia 1.9.3",
   "language": "julia",
   "name": "julia-1.9"
  },
  "language_info": {
   "file_extension": ".jl",
   "mimetype": "application/julia",
   "name": "julia",
   "version": "1.9.3"
  }
 },
 "nbformat": 4,
 "nbformat_minor": 2
}
