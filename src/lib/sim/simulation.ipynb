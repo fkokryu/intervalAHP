{
 "cells": [
  {
   "cell_type": "code",
   "execution_count": 1,
   "metadata": {},
   "outputs": [],
   "source": [
    "using LaTeXStrings"
   ]
  },
  {
   "cell_type": "code",
   "execution_count": 2,
   "metadata": {},
   "outputs": [
    {
     "data": {
      "text/plain": [
       "solveCrispAHPLP (generic function with 1 method)"
      ]
     },
     "metadata": {},
     "output_type": "display_data"
    }
   ],
   "source": [
    "include(\"./sim.jl\")\n",
    "include(\"../display/display-crisp-matrix.jl\")\n",
    "include(\"../display/display-interval-vector.jl\")\n",
    "include(\"../center-equal-one/one-perfect.jl\")\n",
    "include(\"../center-equal-one/one-common.jl\")\n",
    "include(\"../center-equal-one/one-partial.jl\")\n",
    "include(\"../ttimes-center/t-perfect-center.jl\")\n",
    "include(\"../ttimes-center/t-common-center.jl\")\n",
    "include(\"../ttimes-center/t-partial-center.jl\")\n",
    "include(\"../ttimes/optimal-value.jl\")"
   ]
  },
  {
   "cell_type": "code",
   "execution_count": 3,
   "metadata": {},
   "outputs": [
    {
     "name": "stdout",
     "output_type": "stream",
     "text": [
      "Number of threads: 4\n"
     ]
    }
   ],
   "source": [
    "using Base.Threads\n",
    "\n",
    "println(\"Number of threads: \", nthreads())"
   ]
  },
  {
   "cell_type": "code",
   "execution_count": 16,
   "metadata": {},
   "outputs": [
    {
     "data": {
      "text/plain": [
       "4-element Vector{Matrix{Float64}}:\n",
       " [1.0 1.6507124474040786 … 0.27701696968437073 1.0775907010347874; 0.6057990303354207 1.0 … 0.1570830000515437 0.6815052572127238; … ; 3.6098871529039758 6.366061252152491 … 1.0 3.8424316213790584; 0.9279961297361988 1.467340111343942 … 0.2602518661454013 1.0]\n",
       " [1.0 1.5574505407854151 … 0.26170307043827373 1.149191596374699; 0.6420749640599852 1.0 … 0.15411239426423556 0.6441154686318066; … ; 3.821124445828249 6.488770775213809 … 1.0 4.060033159733436; 0.8701769166731232 1.55251666618742 … 0.24630340705533932 1.0]\n",
       " [1.0 1.483002261670245 … 0.2648413873383099 1.0974812295762075; 0.6743078050830082 1.0 … 0.1770827421614441 0.6964124839300583; … ; 3.775844893617757 5.647077675634324 … 1.0 4.073164776781176; 0.9111773149743527 1.4359306058913663 … 0.24550934096760296 1.0]\n",
       " [1.0 1.5962271503854162 … 0.27264520839461553 1.0400684807201346; 0.6264772527885806 1.0 … 0.1601248749120493 0.6219933265818103; … ; 3.6677703081164768 6.24512587784542 … 1.0 4.022447501198384; 0.96147515143196 1.6077342911306474 … 0.24860486052386663 1.0]"
      ]
     },
     "metadata": {},
     "output_type": "display_data"
    }
   ],
   "source": [
    "# 例：5x5のPCMをdesired_count個生成する\n",
    "n = 5\n",
    "perturbation_strength = 0.05\n",
    "desired_count = 1000\n",
    "\n",
    "pcms = generate_similar_pcms(n, perturbation_strength, desired_count)"
   ]
  },
  {
   "cell_type": "code",
   "execution_count": 17,
   "metadata": {},
   "outputs": [
    {
     "data": {
      "text/latex": [
       "$A = \\begin{pmatrix} 1.0 & 1.651 & 0.414 & 0.277 & 1.078 \\\\0.606 & 1.0 & 0.241 & 0.157 & 0.682 \\\\2.416 & 4.152 & 1.0 & 0.645 & 2.628 \\\\3.61 & 6.366 & 1.551 & 1.0 & 3.842 \\\\0.928 & 1.467 & 0.381 & 0.26 & 1.0 \\\\ \\end{pmatrix}$"
      ],
      "text/plain": [
       "L\"$A = \\begin{pmatrix} 1.0 & 1.651 & 0.414 & 0.277 & 1.078 \\\\0.606 & 1.0 & 0.241 & 0.157 & 0.682 \\\\2.416 & 4.152 & 1.0 & 0.645 & 2.628 \\\\3.61 & 6.366 & 1.551 & 1.0 & 3.842 \\\\0.928 & 1.467 & 0.381 & 0.26 & 1.0 \\\\ \\end{pmatrix}$\""
      ]
     },
     "metadata": {},
     "output_type": "display_data"
    },
    {
     "data": {
      "text/latex": [
       "$A = \\begin{pmatrix} 1.0 & 1.557 & 0.461 & 0.262 & 1.149 \\\\0.642 & 1.0 & 0.247 & 0.154 & 0.644 \\\\2.168 & 4.048 & 1.0 & 0.688 & 2.546 \\\\3.821 & 6.489 & 1.453 & 1.0 & 4.06 \\\\0.87 & 1.553 & 0.393 & 0.246 & 1.0 \\\\ \\end{pmatrix}$"
      ],
      "text/plain": [
       "L\"$A = \\begin{pmatrix} 1.0 & 1.557 & 0.461 & 0.262 & 1.149 \\\\0.642 & 1.0 & 0.247 & 0.154 & 0.644 \\\\2.168 & 4.048 & 1.0 & 0.688 & 2.546 \\\\3.821 & 6.489 & 1.453 & 1.0 & 4.06 \\\\0.87 & 1.553 & 0.393 & 0.246 & 1.0 \\\\ \\end{pmatrix}$\""
      ]
     },
     "metadata": {},
     "output_type": "display_data"
    },
    {
     "data": {
      "text/latex": [
       "$A = \\begin{pmatrix} 1.0 & 1.483 & 0.397 & 0.265 & 1.097 \\\\0.674 & 1.0 & 0.247 & 0.177 & 0.696 \\\\2.517 & 4.056 & 1.0 & 0.674 & 2.704 \\\\3.776 & 5.647 & 1.483 & 1.0 & 4.073 \\\\0.911 & 1.436 & 0.37 & 0.246 & 1.0 \\\\ \\end{pmatrix}$"
      ],
      "text/plain": [
       "L\"$A = \\begin{pmatrix} 1.0 & 1.483 & 0.397 & 0.265 & 1.097 \\\\0.674 & 1.0 & 0.247 & 0.177 & 0.696 \\\\2.517 & 4.056 & 1.0 & 0.674 & 2.704 \\\\3.776 & 5.647 & 1.483 & 1.0 & 4.073 \\\\0.911 & 1.436 & 0.37 & 0.246 & 1.0 \\\\ \\end{pmatrix}$\""
      ]
     },
     "metadata": {},
     "output_type": "display_data"
    }
   ],
   "source": [
    "display(L\"A = %$(matrixLaTeXString(pcms[1]))\")\n",
    "display(L\"A = %$(matrixLaTeXString(pcms[2]))\")\n",
    "display(L\"A = %$(matrixLaTeXString(pcms[3]))\")"
   ]
  },
  {
   "cell_type": "code",
   "execution_count": 18,
   "metadata": {},
   "outputs": [
    {
     "data": {
      "text/latex": [
       "$V1 = \\begin{pmatrix} \\left[ 0.115, 0.119 \\right] \\\\ \\left[ 0.067, 0.072 \\right] \\\\ \\left[ 0.277, 0.277 \\right] \\\\ \\left[ 0.429, 0.429 \\right] \\\\ \\left[ 0.105, 0.112 \\right] \\end{pmatrix}$"
      ],
      "text/plain": [
       "L\"$V1 = \\begin{pmatrix} \\left[ 0.115, 0.119 \\right] \\\\ \\left[ 0.067, 0.072 \\right] \\\\ \\left[ 0.277, 0.277 \\right] \\\\ \\left[ 0.429, 0.429 \\right] \\\\ \\left[ 0.105, 0.112 \\right] \\end{pmatrix}$\""
      ]
     },
     "metadata": {},
     "output_type": "display_data"
    },
    {
     "data": {
      "text/latex": [
       "$V2 = \\begin{pmatrix} \\left[ 0.11, 0.13 \\right] \\\\ \\left[ 0.065, 0.071 \\right] \\\\ \\left[ 0.282, 0.289 \\right] \\\\ \\left[ 0.42, 0.42 \\right] \\\\ \\left[ 0.103, 0.111 \\right] \\end{pmatrix}$"
      ],
      "text/plain": [
       "L\"$V2 = \\begin{pmatrix} \\left[ 0.11, 0.13 \\right] \\\\ \\left[ 0.065, 0.071 \\right] \\\\ \\left[ 0.282, 0.289 \\right] \\\\ \\left[ 0.42, 0.42 \\right] \\\\ \\left[ 0.103, 0.111 \\right] \\end{pmatrix}$\""
      ]
     },
     "metadata": {},
     "output_type": "display_data"
    },
    {
     "data": {
      "text/latex": [
       "$V3 = \\begin{pmatrix} \\left[ 0.111, 0.114 \\right] \\\\ \\left[ 0.071, 0.075 \\right] \\\\ \\left[ 0.286, 0.286 \\right] \\\\ \\left[ 0.424, 0.424 \\right] \\\\ \\left[ 0.104, 0.106 \\right] \\end{pmatrix}$"
      ],
      "text/plain": [
       "L\"$V3 = \\begin{pmatrix} \\left[ 0.111, 0.114 \\right] \\\\ \\left[ 0.071, 0.075 \\right] \\\\ \\left[ 0.286, 0.286 \\right] \\\\ \\left[ 0.424, 0.424 \\right] \\\\ \\left[ 0.104, 0.106 \\right] \\end{pmatrix}$\""
      ]
     },
     "metadata": {},
     "output_type": "display_data"
    }
   ],
   "source": [
    "A1 = solveCrispAHPLP(pcms[1])\n",
    "A2 = solveCrispAHPLP(pcms[2])\n",
    "A3 = solveCrispAHPLP(pcms[3])\n",
    "display(L\"V1 = %$(intervalVectorLaTeXString(A1.V))\")\n",
    "display(L\"V2 = %$(intervalVectorLaTeXString(A2.V))\")\n",
    "display(L\"V3 = %$(intervalVectorLaTeXString(A3.V))\")"
   ]
  },
  {
   "cell_type": "code",
   "execution_count": 19,
   "metadata": {},
   "outputs": [
    {
     "name": "stdout",
     "output_type": "stream",
     "text": [
      "The CommonGround optimization problem had no optimal solution.\n",
      "The tCommonGround optimization problem had no optimal solution.\n"
     ]
    },
    {
     "data": {
      "text/plain": [
       "(wᴸ = [0.11359812599956474, 0.07055424008945177, 0.2770756392685478, 0.41988326387610536, 0.10572105690117617], wᵁ = [0.11892499449055227, 0.07055424008945177, 0.2860222764263546, 0.4296638734262024, 0.10800228943259277], W = Interval{Float64}[Interval{Float64}(0.11359812599956474, 0.11892499449055227), Interval{Float64}(0.07055424008945177, 0.07055424008945177), Interval{Float64}(0.2770756392685478, 0.2860222764263546), Interval{Float64}(0.41988326387610536, 0.4296638734262024), Interval{Float64}(0.10572105690117617, 0.10800228943259277)], ŵᴸ = [0.11452882470552744 0.06663381078462374 … 0.4290078511060106 0.10527705893469468; 0.10988473938201951 0.06470921510742772 … 0.41988326387610087 0.10341867845819974; 0.1113757722269491 0.0705269694042254 … 0.4241043005834526 0.10350803543440158], ŵᵁ = [0.11884245488419076 0.07174686912788818 … 0.4290078511060106 0.11165009384136772; 0.13004797911435953 0.07055424008945102 … 0.41988326387610087 0.11074392706248451; 0.11359812599956472 0.07510155250977912 … 0.4241043005834526 0.10572105690117614], ŵ = Vector{Interval{Float64}}[[Interval{Float64}(0.11452882470552744, 0.11884245488419076), Interval{Float64}(0.06663381078462374, 0.07174686912788818), Interval{Float64}(0.27665259275478776, 0.27665259275478776), Interval{Float64}(0.4290078511060106, 0.4290078511060106), Interval{Float64}(0.10527705893469468, 0.11165009384136772)], [Interval{Float64}(0.10988473938201951, 0.13004797911435953), Interval{Float64}(0.06470921510742772, 0.07055424008945102), Interval{Float64}(0.2819408634439015, 0.28893382958995495), Interval{Float64}(0.41988326387610087, 0.41988326387610087), Interval{Float64}(0.10341867845819974, 0.11074392706248451)], [Interval{Float64}(0.1113757722269491, 0.11359812599956472), Interval{Float64}(0.0705269694042254, 0.07510155250977912), Interval{Float64}(0.28591033924541737, 0.286049547111581), Interval{Float64}(0.4241043005834526, 0.4241043005834526), Interval{Float64}(0.10350803543440158, 0.10572105690117614)]], Ŵ = [[0.1147039577832053, 0.07055424008945177, 0.2770756392685478, 0.4296638734262024, 0.10800228943259277], [0.11892499449055227, 0.07055424008945177, 0.2849164446427144, 0.41988326387610536, 0.10572105690117617], [0.11359812599956474, 0.07055424008945177, 0.2860222764263546, 0.4241043005834527, 0.10572105690117617]], optimalValue = 0.02633534773030799, s = [1.0015291615724526, 1.0000000000000107, 1.0000000000000002])"
      ]
     },
     "metadata": {},
     "output_type": "display_data"
    }
   ],
   "source": [
    "PerfectIncorporation = solveonePerfectIncorporationLP([pcms[1], pcms[2], pcms[3]])\n",
    "CommonGround = solveoneCommonGroundLP([pcms[1], pcms[2], pcms[3]])\n",
    "PartialIncorporation = solveonePartialIncorporationLP([pcms[1], pcms[2], pcms[3]])\n",
    "\n",
    "tPerfectIncorporation2 = solvetPerfectIncorporationLP2([pcms[1], pcms[2], pcms[3]])\n",
    "tCommonGround2 = solvetCommonGroundLP2([pcms[1], pcms[2], pcms[3]])\n",
    "tPartialIncorporation2 = solvetPartialIncorporationLP2([pcms[1], pcms[2], pcms[3]])"
   ]
  },
  {
   "cell_type": "code",
   "execution_count": 8,
   "metadata": {},
   "outputs": [
    {
     "data": {
      "text/latex": [
       "$PerfectIncorporation :$"
      ],
      "text/plain": [
       "L\"$PerfectIncorporation :$\""
      ]
     },
     "metadata": {},
     "output_type": "display_data"
    },
    {
     "data": {
      "text/latex": [
       "$W = \\begin{pmatrix} \\left[ 0.149, 0.186 \\right] \\\\ \\left[ 0.168, 0.267 \\right] \\\\ \\left[ 0.166, 0.19 \\right] \\\\ \\left[ 0.153, 0.193 \\right] \\\\ \\left[ 0.251, 0.276 \\right] \\end{pmatrix}$"
      ],
      "text/plain": [
       "L\"$W = \\begin{pmatrix} \\left[ 0.149, 0.186 \\right] \\\\ \\left[ 0.168, 0.267 \\right] \\\\ \\left[ 0.166, 0.19 \\right] \\\\ \\left[ 0.153, 0.193 \\right] \\\\ \\left[ 0.251, 0.276 \\right] \\end{pmatrix}$\""
      ]
     },
     "metadata": {},
     "output_type": "display_data"
    },
    {
     "data": {
      "text/latex": [
       "$d = 0.2249723023336978$"
      ],
      "text/plain": [
       "L\"$d = 0.2249723023336978$\""
      ]
     },
     "metadata": {},
     "output_type": "display_data"
    },
    {
     "data": {
      "text/latex": [
       "$PerfectIncorporation(nonunique) :$"
      ],
      "text/plain": [
       "L\"$PerfectIncorporation(nonunique) :$\""
      ]
     },
     "metadata": {},
     "output_type": "display_data"
    },
    {
     "data": {
      "text/latex": [
       "$W = \\begin{pmatrix} \\left[ 0.149, 0.186 \\right] \\\\ \\left[ 0.168, 0.213 \\right] \\\\ \\left[ 0.166, 0.19 \\right] \\\\ \\left[ 0.153, 0.248 \\right] \\\\ \\left[ 0.251, 0.276 \\right] \\end{pmatrix}$"
      ],
      "text/plain": [
       "L\"$W = \\begin{pmatrix} \\left[ 0.149, 0.186 \\right] \\\\ \\left[ 0.168, 0.213 \\right] \\\\ \\left[ 0.166, 0.19 \\right] \\\\ \\left[ 0.153, 0.248 \\right] \\\\ \\left[ 0.251, 0.276 \\right] \\end{pmatrix}$\""
      ]
     },
     "metadata": {},
     "output_type": "display_data"
    },
    {
     "data": {
      "text/latex": [
       "$d = 0.22482017142469868$"
      ],
      "text/plain": [
       "L\"$d = 0.22482017142469868$\""
      ]
     },
     "metadata": {},
     "output_type": "display_data"
    },
    {
     "data": {
      "text/latex": [
       "$s = [1.0003034125534689, 0.9999999999999974, 1.0000000000000144]$"
      ],
      "text/plain": [
       "L\"$s = [1.0003034125534689, 0.9999999999999974, 1.0000000000000144]$\""
      ]
     },
     "metadata": {},
     "output_type": "display_data"
    }
   ],
   "source": [
    "display(L\"PerfectIncorporation :\")\n",
    "W_PerfectIncorporation = PerfectIncorporation.W\n",
    "display(L\"W = %$(intervalVectorLaTeXString(W_PerfectIncorporation))\")\n",
    "d_PerfectIncorporation = PerfectIncorporation.optimalValue\n",
    "display(L\"d = %$(d_PerfectIncorporation)\")\n",
    "\n",
    "display(L\"PerfectIncorporation(nonunique) :\")\n",
    "W_tPerfectIncorporation2 = tPerfectIncorporation2.W\n",
    "display(L\"W = %$(intervalVectorLaTeXString(W_tPerfectIncorporation2))\")\n",
    "d_tPerfectIncorporation2 = tPerfectIncorporation2.optimalValue\n",
    "display(L\"d = %$(d_tPerfectIncorporation2)\")\n",
    "s_tPerfectIncorporation2 = tPerfectIncorporation2.s\n",
    "display(L\"s = %$(s_tPerfectIncorporation2)\")"
   ]
  },
  {
   "cell_type": "code",
   "execution_count": 9,
   "metadata": {},
   "outputs": [
    {
     "data": {
      "text/latex": [
       "$CommonGround : $"
      ],
      "text/plain": [
       "L\"$CommonGround : $\""
      ]
     },
     "metadata": {},
     "output_type": "display_data"
    },
    {
     "ename": "ErrorException",
     "evalue": "type Nothing has no field W",
     "output_type": "error",
     "traceback": [
      "type Nothing has no field W\n",
      "\n",
      "Stacktrace:\n",
      " [1] getproperty(x::Nothing, f::Symbol)\n",
      "   @ Base ./Base.jl:37\n",
      " [2] top-level scope\n",
      "   @ /workspaces/intervalAHP/src/lib/sim/simulation.ipynb:2"
     ]
    }
   ],
   "source": [
    "display(L\"CommonGround : \")\n",
    "W_CommonGround = CommonGround.W\n",
    "display(L\"W = %$(intervalVectorLaTeXString(W_CommonGround))\")\n",
    "d_CommonGround = CommonGround.optimalValue\n",
    "display(L\"d = %$(d_CommonGround)\")\n",
    "\n",
    "display(L\"CommonGround(nonunique) : \")\n",
    "W_tCommonGround2 = tCommonGround2.W\n",
    "display(L\"W = %$(intervalVectorLaTeXString(W_tCommonGround2))\")\n",
    "d_tCommonGround2 = tCommonGround2.optimalValue\n",
    "display(L\"d = %$(d_tCommonGround2)\")\n",
    "s_tCommonGround2 = tCommonGround2.s\n",
    "display(L\"s = %$(s_tCommonGround2)\")"
   ]
  },
  {
   "cell_type": "code",
   "execution_count": 10,
   "metadata": {},
   "outputs": [
    {
     "data": {
      "text/latex": [
       "$PartialIncorporation :$"
      ],
      "text/plain": [
       "L\"$PartialIncorporation :$\""
      ]
     },
     "metadata": {},
     "output_type": "display_data"
    },
    {
     "data": {
      "text/latex": [
       "$W = \\begin{pmatrix} \\left[ 0.164, 0.183 \\right] \\\\ \\left[ 0.192, 0.202 \\right] \\\\ \\left[ 0.181, 0.189 \\right] \\\\ \\left[ 0.169, 0.178 \\right] \\\\ \\left[ 0.267, 0.276 \\right] \\end{pmatrix}$"
      ],
      "text/plain": [
       "L\"$W = \\begin{pmatrix} \\left[ 0.164, 0.183 \\right] \\\\ \\left[ 0.192, 0.202 \\right] \\\\ \\left[ 0.181, 0.189 \\right] \\\\ \\left[ 0.169, 0.178 \\right] \\\\ \\left[ 0.267, 0.276 \\right] \\end{pmatrix}$\""
      ]
     },
     "metadata": {},
     "output_type": "display_data"
    },
    {
     "data": {
      "text/latex": [
       "$d = 0.05539612541787298$"
      ],
      "text/plain": [
       "L\"$d = 0.05539612541787298$\""
      ]
     },
     "metadata": {},
     "output_type": "display_data"
    },
    {
     "data": {
      "text/latex": [
       "$PartialIncorporation(nonunique) :$"
      ],
      "text/plain": [
       "L\"$PartialIncorporation(nonunique) :$\""
      ]
     },
     "metadata": {},
     "output_type": "display_data"
    },
    {
     "data": {
      "text/latex": [
       "$W = \\begin{pmatrix} \\left[ 0.181, 0.183 \\right] \\\\ \\left[ 0.188, 0.202 \\right] \\\\ \\left[ 0.175, 0.189 \\right] \\\\ \\left[ 0.153, 0.178 \\right] \\\\ \\left[ 0.274, 0.276 \\right] \\end{pmatrix}$"
      ],
      "text/plain": [
       "L\"$W = \\begin{pmatrix} \\left[ 0.181, 0.183 \\right] \\\\ \\left[ 0.188, 0.202 \\right] \\\\ \\left[ 0.175, 0.189 \\right] \\\\ \\left[ 0.153, 0.178 \\right] \\\\ \\left[ 0.274, 0.276 \\right] \\end{pmatrix}$\""
      ]
     },
     "metadata": {},
     "output_type": "display_data"
    },
    {
     "data": {
      "text/latex": [
       "$d = 0.05517740453715958$"
      ],
      "text/plain": [
       "L\"$d = 0.05517740453715958$\""
      ]
     },
     "metadata": {},
     "output_type": "display_data"
    },
    {
     "data": {
      "text/latex": [
       "$s = [0.9996967714532264, 1.000000000000002, 1.0000000000000002]$"
      ],
      "text/plain": [
       "L\"$s = [0.9996967714532264, 1.000000000000002, 1.0000000000000002]$\""
      ]
     },
     "metadata": {},
     "output_type": "display_data"
    }
   ],
   "source": [
    "display(L\"PartialIncorporation :\")\n",
    "W_PartialIncorporation = PartialIncorporation.W\n",
    "display(L\"W = %$(intervalVectorLaTeXString(W_PartialIncorporation))\")\n",
    "d_PartialIncorporation = PartialIncorporation.optimalValue\n",
    "display(L\"d = %$(d_PartialIncorporation)\")\n",
    "\n",
    "display(L\"PartialIncorporation(nonunique) :\")\n",
    "W_tPartialIncorporation2 = tPartialIncorporation2.W\n",
    "display(L\"W = %$(intervalVectorLaTeXString(W_tPartialIncorporation2))\")\n",
    "d_tPartialIncorporation2 = tPartialIncorporation2.optimalValue\n",
    "display(L\"d = %$(d_tPartialIncorporation2)\")\n",
    "s_tPartialIncorporation2 = tPartialIncorporation2.s\n",
    "display(L\"s = %$(s_tPartialIncorporation2)\")"
   ]
  },
  {
   "cell_type": "code",
   "execution_count": 11,
   "metadata": {},
   "outputs": [
    {
     "data": {
      "text/plain": [
       "5-element Vector{Float64}:\n",
       " 0.16585746246616595\n",
       " 0.21556968924576198\n",
       " 0.18218004115774403\n",
       " 0.217687245351052\n",
       " 0.21870556177927605"
      ]
     },
     "metadata": {},
     "output_type": "display_data"
    }
   ],
   "source": [
    "generate_normalized_weight_vector(5)"
   ]
  },
  {
   "cell_type": "code",
   "execution_count": 21,
   "metadata": {},
   "outputs": [
    {
     "name": "stderr",
     "output_type": "stream",
     "text": [
      "\u001b[32m\u001b[1m    Updating\u001b[22m\u001b[39m registry at `/opt/julia/registries/General.toml`\n"
     ]
    },
    {
     "name": "stderr",
     "output_type": "stream",
     "text": [
      "\u001b[32m\u001b[1m   Resolving\u001b[22m\u001b[39m package versions...\n"
     ]
    },
    {
     "name": "stderr",
     "output_type": "stream",
     "text": [
      "\u001b[32m\u001b[1m   Installed\u001b[22m\u001b[39m WeakRefStrings ── v1.4.2\n",
      "\u001b[32m\u001b[1m   Installed\u001b[22m\u001b[39m WorkerUtilities ─ v1.6.1\n",
      "\u001b[32m\u001b[1m   Installed\u001b[22m\u001b[39m FilePathsBase ─── v0.9.21\n"
     ]
    },
    {
     "name": "stderr",
     "output_type": "stream",
     "text": [
      "\u001b[32m\u001b[1m   Installed\u001b[22m\u001b[39m CSV ───────────── v0.10.12\n"
     ]
    },
    {
     "name": "stderr",
     "output_type": "stream",
     "text": [
      "\u001b[32m\u001b[1m    Updating\u001b[22m\u001b[39m `/workspaces/intervalAHP/Project.toml`\n",
      "  \u001b[90m[336ed68f] \u001b[39m\u001b[92m+ CSV v0.10.12\u001b[39m\n",
      "\u001b[32m\u001b[1m    Updating\u001b[22m\u001b[39m `/workspaces/intervalAHP/Manifest.toml`\n",
      "  \u001b[90m[336ed68f] \u001b[39m\u001b[92m+ CSV v0.10.12\u001b[39m\n",
      "  \u001b[90m[48062228] \u001b[39m\u001b[92m+ FilePathsBase v0.9.21\u001b[39m\n",
      "  \u001b[90m[ea10d353] \u001b[39m\u001b[92m+ WeakRefStrings v1.4.2\u001b[39m\n",
      "  \u001b[90m[76eceee3] \u001b[39m\u001b[92m+ WorkerUtilities v1.6.1\u001b[39m\n"
     ]
    },
    {
     "name": "stderr",
     "output_type": "stream",
     "text": [
      "\u001b[32m\u001b[1mPrecompiling\u001b[22m\u001b[39m "
     ]
    },
    {
     "name": "stderr",
     "output_type": "stream",
     "text": [
      "project...\n"
     ]
    },
    {
     "name": "stderr",
     "output_type": "stream",
     "text": [
      "\u001b[32m  ✓ \u001b[39m\u001b[90mWorkerUtilities\u001b[39m\n"
     ]
    },
    {
     "name": "stderr",
     "output_type": "stream",
     "text": [
      "\u001b[32m  ✓ \u001b[39m\u001b[90mWeakRefStrings\u001b[39m\n"
     ]
    },
    {
     "name": "stderr",
     "output_type": "stream",
     "text": [
      "\u001b[32m  ✓ \u001b[39m\u001b[90mFilePathsBase\u001b[39m\n"
     ]
    },
    {
     "name": "stderr",
     "output_type": "stream",
     "text": [
      "\u001b[32m  ✓ \u001b[39mCSV\n",
      "  4 dependencies successfully precompiled in 34 seconds. 64 already precompiled.\n",
      "\u001b[32m\u001b[1m   Resolving\u001b[22m\u001b[39m package versions...\n"
     ]
    },
    {
     "name": "stderr",
     "output_type": "stream",
     "text": [
      "\u001b[32m\u001b[1m  No Changes\u001b[22m\u001b[39m to `/workspaces/intervalAHP/Project.toml`\n",
      "\u001b[32m\u001b[1m  No Changes\u001b[22m\u001b[39m to `/workspaces/intervalAHP/Manifest.toml`\n"
     ]
    }
   ],
   "source": [
    "using Pkg\n",
    "Pkg.add(\"CSV\")\n",
    "Pkg.add(\"DataFrames\")"
   ]
  },
  {
   "cell_type": "code",
   "execution_count": 22,
   "metadata": {},
   "outputs": [
    {
     "name": "stderr",
     "output_type": "stream",
     "text": [
      "┌ Warning: Assignment to `PerfectIncorporation` in soft scope is ambiguous because a global variable by the same name exists: `PerfectIncorporation` will be treated as a new local. Disambiguate by using `local PerfectIncorporation` to suppress this warning or `global PerfectIncorporation` to assign to the existing global variable.\n",
      "└ @ nothing /workspaces/intervalAHP/src/lib/sim/display-csv.jl:25\n",
      "┌ Warning: Assignment to `tPerfectIncorporation2` in soft scope is ambiguous because a global variable by the same name exists: `tPerfectIncorporation2` will be treated as a new local. Disambiguate by using `local tPerfectIncorporation2` to suppress this warning or `global tPerfectIncorporation2` to assign to the existing global variable.\n",
      "└ @ nothing /workspaces/intervalAHP/src/lib/sim/display-csv.jl:26\n",
      "┌ Warning: Assignment to `CommonGround` in soft scope is ambiguous because a global variable by the same name exists: `CommonGround` will be treated as a new local. Disambiguate by using `local CommonGround` to suppress this warning or `global CommonGround` to assign to the existing global variable.\n",
      "└ @ nothing /workspaces/intervalAHP/src/lib/sim/display-csv.jl:29\n",
      "┌ Warning: Assignment to `tCommonGround2` in soft scope is ambiguous because a global variable by the same name exists: `tCommonGround2` will be treated as a new local. Disambiguate by using `local tCommonGround2` to suppress this warning or `global tCommonGround2` to assign to the existing global variable.\n",
      "└ @ nothing /workspaces/intervalAHP/src/lib/sim/display-csv.jl:30\n",
      "┌ Warning: Assignment to `PartialIncorporation` in soft scope is ambiguous because a global variable by the same name exists: `PartialIncorporation` will be treated as a new local. Disambiguate by using `local PartialIncorporation` to suppress this warning or `global PartialIncorporation` to assign to the existing global variable.\n",
      "└ @ nothing /workspaces/intervalAHP/src/lib/sim/display-csv.jl:33\n",
      "┌ Warning: Assignment to `tPartialIncorporation2` in soft scope is ambiguous because a global variable by the same name exists: `tPartialIncorporation2` will be treated as a new local. Disambiguate by using `local tPartialIncorporation2` to suppress this warning or `global tPartialIncorporation2` to assign to the existing global variable.\n",
      "└ @ nothing /workspaces/intervalAHP/src/lib/sim/display-csv.jl:34\n"
     ]
    },
    {
     "name": "stdout",
     "output_type": "stream",
     "text": [
      "The CommonGround optimization problem had no optimal solution.\n",
      "The tCommonGround optimization problem had no optimal solution.\n"
     ]
    },
    {
     "ename": "LoadError",
     "evalue": "LoadError: type Nothing has no field W\nin expression starting at /workspaces/intervalAHP/src/lib/sim/display-csv.jl:21",
     "output_type": "error",
     "traceback": [
      "LoadError: type Nothing has no field W\n",
      "in expression starting at /workspaces/intervalAHP/src/lib/sim/display-csv.jl:21\n",
      "\n",
      "Stacktrace:\n",
      " [1] getproperty(x::Nothing, f::Symbol)\n",
      "   @ Base ./Base.jl:37\n",
      " [2] top-level scope\n",
      "   @ /workspaces/intervalAHP/src/lib/sim/display-csv.jl:37"
     ]
    }
   ],
   "source": [
    "include(\"display-csv.jl\")"
   ]
  },
  {
   "cell_type": "code",
   "execution_count": null,
   "metadata": {},
   "outputs": [],
   "source": []
  }
 ],
 "metadata": {
  "kernelspec": {
   "display_name": "Julia 1.9.3",
   "language": "julia",
   "name": "julia-1.9"
  },
  "language_info": {
   "file_extension": ".jl",
   "mimetype": "application/julia",
   "name": "julia",
   "version": "1.9.3"
  }
 },
 "nbformat": 4,
 "nbformat_minor": 2
}
