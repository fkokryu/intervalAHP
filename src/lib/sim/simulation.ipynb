{
 "cells": [
  {
   "cell_type": "code",
   "execution_count": 1,
   "metadata": {},
   "outputs": [],
   "source": [
    "using LaTeXStrings"
   ]
  },
  {
   "cell_type": "code",
   "execution_count": 2,
   "metadata": {},
   "outputs": [
    {
     "data": {
      "text/plain": [
       "run_experiments (generic function with 1 method)"
      ]
     },
     "metadata": {},
     "output_type": "display_data"
    }
   ],
   "source": [
    "include(\"./sim.jl\")\n",
    "include(\"../display/display-crisp-matrix.jl\")\n",
    "include(\"../display/display-interval-vector.jl\")\n",
    "include(\"display-csv.jl\")"
   ]
  },
  {
   "cell_type": "code",
   "execution_count": 3,
   "metadata": {},
   "outputs": [
    {
     "name": "stdout",
     "output_type": "stream",
     "text": [
      "Number of threads: 4\n"
     ]
    }
   ],
   "source": [
    "using Base.Threads\n",
    "\n",
    "println(\"Number of threads: \", nthreads())"
   ]
  },
  {
   "cell_type": "code",
   "execution_count": 4,
   "metadata": {},
   "outputs": [
    {
     "data": {
      "text/plain": [
       "1001-element Vector{Matrix{Float64}}:\n",
       " [1.0 1.0 … 1.0 1.0; 1.0 1.0 … 1.0 2.0; … ; 1.0 1.0 … 1.0 1.0; 1.0 0.5 … 1.0 1.0]\n",
       " [1.0 1.0 … 1.0 1.0; 1.0 1.0 … 1.0 1.0; … ; 1.0 1.0 … 1.0 1.0; 1.0 1.0 … 1.0 1.0]\n",
       " [1.0 1.0 … 1.0 1.0; 1.0 1.0 … 2.0 1.0; … ; 1.0 0.5 … 1.0 1.0; 1.0 1.0 … 1.0 1.0]\n",
       " [1.0 1.0 … 1.0 1.0; 1.0 1.0 … 2.0 1.0; … ; 1.0 0.5 … 1.0 1.0; 1.0 1.0 … 1.0 1.0]\n",
       " [1.0 1.0 … 1.0 1.0; 1.0 1.0 … 2.0 2.0; … ; 1.0 0.5 … 1.0 1.0; 1.0 0.5 … 1.0 1.0]\n",
       " [1.0 1.0 … 1.0 1.0; 1.0 1.0 … 1.0 1.0; … ; 1.0 1.0 … 1.0 1.0; 1.0 1.0 … 1.0 1.0]\n",
       " [1.0 1.0 … 1.0 1.0; 1.0 1.0 … 1.0 1.0; … ; 1.0 1.0 … 1.0 1.0; 1.0 1.0 … 1.0 1.0]\n",
       " [1.0 1.0 … 1.0 1.0; 1.0 1.0 … 3.0 2.0; … ; 1.0 0.3333333333333333 … 1.0 1.0; 1.0 0.5 … 1.0 1.0]\n",
       " [1.0 1.0 … 1.0 1.0; 1.0 1.0 … 2.0 1.0; … ; 1.0 0.5 … 1.0 1.0; 1.0 1.0 … 1.0 1.0]\n",
       " [1.0 1.0 … 1.0 1.0; 1.0 1.0 … 2.0 1.0; … ; 1.0 0.5 … 1.0 1.0; 1.0 1.0 … 1.0 1.0]\n",
       " ⋮\n",
       " [1.0 1.0 … 1.0 1.0; 1.0 1.0 … 2.0 1.0; … ; 1.0 0.5 … 1.0 1.0; 1.0 1.0 … 1.0 1.0]\n",
       " [1.0 1.0 … 1.0 1.0; 1.0 1.0 … 2.0 1.0; … ; 1.0 0.5 … 1.0 1.0; 1.0 1.0 … 1.0 1.0]\n",
       " [1.0 1.0 … 1.0 1.0; 1.0 1.0 … 2.0 1.0; … ; 1.0 0.5 … 1.0 1.0; 1.0 1.0 … 1.0 1.0]\n",
       " [1.0 1.0 … 1.0 1.0; 1.0 1.0 … 2.0 1.0; … ; 1.0 0.5 … 1.0 1.0; 1.0 1.0 … 1.0 1.0]\n",
       " [1.0 1.0 … 1.0 1.0; 1.0 1.0 … 2.0 2.0; … ; 1.0 0.5 … 1.0 1.0; 1.0 0.5 … 1.0 1.0]\n",
       " [1.0 1.0 … 1.0 1.0; 1.0 1.0 … 2.0 2.0; … ; 1.0 0.5 … 1.0 1.0; 1.0 0.5 … 1.0 1.0]\n",
       " [1.0 1.0 … 1.0 1.0; 1.0 1.0 … 2.0 2.0; … ; 1.0 0.5 … 1.0 1.0; 1.0 0.5 … 1.0 1.0]\n",
       " [1.0 1.0 … 1.0 1.0; 1.0 1.0 … 2.0 1.0; … ; 1.0 0.5 … 1.0 1.0; 1.0 1.0 … 1.0 1.0]\n",
       " [1.0 1.0 … 1.0 1.0; 1.0 1.0 … 2.0 1.0; … ; 1.0 0.5 … 1.0 1.0; 1.0 1.0 … 1.0 1.0]"
      ]
     },
     "metadata": {},
     "output_type": "display_data"
    }
   ],
   "source": [
    "perturbation_strength = 0.65\n",
    "desired_count = 1000\n",
    "\n",
    "pcms4 = generate_similar_pcms(4, perturbation_strength, desired_count)\n",
    "pcms5 = generate_similar_pcms(5, perturbation_strength, desired_count)\n",
    "pcms6 = generate_similar_pcms(6, perturbation_strength, desired_count)\n",
    "pcms7 = generate_similar_pcms(7, perturbation_strength, desired_count)\n",
    "pcms8 = generate_similar_pcms(8, perturbation_strength, desired_count)"
   ]
  },
  {
   "cell_type": "code",
   "execution_count": 5,
   "metadata": {},
   "outputs": [
    {
     "data": {
      "text/plain": [
       "3-element Vector{Matrix{Float64}}:\n",
       " [1.0 1.0 2.0 1.0; 1.0 1.0 2.0 1.0; 0.5 0.5 1.0 1.0; 1.0 1.0 1.0 1.0]\n",
       " [1.0 1.0 1.0 1.0; 1.0 1.0 3.0 1.0; 1.0 0.3333333333333333 1.0 1.0; 1.0 1.0 1.0 1.0]\n",
       " [1.0 1.0 2.0 1.0; 1.0 1.0 2.0 1.0; 0.5 0.5 1.0 1.0; 1.0 1.0 1.0 1.0]"
      ]
     },
     "metadata": {},
     "output_type": "display_data"
    }
   ],
   "source": [
    "selected_pcms = random_select_pcms(pcms4, 3)"
   ]
  },
  {
   "cell_type": "code",
   "execution_count": 6,
   "metadata": {},
   "outputs": [
    {
     "name": "stdout",
     "output_type": "stream",
     "text": [
      "The CommonGround_entani optimization problem had no optimal solution.\n",
      "The CommonGround_entani optimization problem had no optimal solution.\n",
      "The CommonGround_entani optimization problem had no optimal solution.\n",
      "The CommonGround optimization problem had no optimal solution.\n",
      "The CommonGround optimization problem had no optimal solution.\n",
      "The CommonGround optimization problem had no optimal solution.\n",
      "The tCommonGround optimization problem had no optimal solution.\n",
      "The tCommonGround optimization problem had no optimal solution.\n",
      "The tCommonGround optimization problem had no optimal solution.\n",
      "The CommonGround_entani optimization problem had no optimal solution.\n",
      "The CommonGround_entani optimization problem had no optimal solution.\n",
      "The CommonGround optimization problem had no optimal solution.\n",
      "The tCommonGround optimization problem had no optimal solution.\n",
      "The CommonGround_entani optimization problem had no optimal solution.\n",
      "The CommonGround_entani optimization problem had no optimal solution.\n",
      "The CommonGround optimization problem had no optimal solution.\n",
      "The CommonGround optimization problem had no optimal solution.\n",
      "The tCommonGround optimization problem had no optimal solution.\n",
      "The CommonGround optimization problem had no optimal solution.\n",
      "The tCommonGround optimization problem had no optimal solution.\n"
     ]
    },
    {
     "name": "stdout",
     "output_type": "stream",
     "text": [
      "The tCommonGround optimization problem had no optimal solution.\n",
      "The CommonGround_entani optimization problem had no optimal solution.\n",
      "The CommonGround optimization problem had no optimal solution.\n",
      "The tCommonGround optimization problem had no optimal solution.\n",
      "The CommonGround_entani optimization problem had no optimal solution.\n"
     ]
    },
    {
     "name": "stdout",
     "output_type": "stream",
     "text": [
      "The CommonGround optimization problem had no optimal solution.\n",
      "The tCommonGround optimization problem had no optimal solution.\n"
     ]
    }
   ],
   "source": [
    "desired_count = 10\n",
    "run_experiments(pcms4, 4, 3, desired_count, \"4_3_0.65.csv\", \"PCM_4_3_0.65.csv\")"
   ]
  },
  {
   "cell_type": "code",
   "execution_count": 7,
   "metadata": {},
   "outputs": [
    {
     "ename": "MethodError",
     "evalue": "MethodError: no method matching run_experiments(::Vector{Matrix{Float64}}, ::Int64, ::Int64, ::Int64, ::String)\n\nClosest candidates are:\n  run_experiments(::Any, ::Any, ::Any, ::Any, ::String, !Matched::String)\n   @ Main /workspaces/intervalAHP/src/lib/sim/display-csv.jl:43\n",
     "output_type": "error",
     "traceback": [
      "MethodError: no method matching run_experiments(::Vector{Matrix{Float64}}, ::Int64, ::Int64, ::Int64, ::String)\n",
      "\n",
      "Closest candidates are:\n",
      "  run_experiments(::Any, ::Any, ::Any, ::Any, ::String, !Matched::String)\n",
      "   @ Main /workspaces/intervalAHP/src/lib/sim/display-csv.jl:43\n",
      "\n",
      "\n",
      "Stacktrace:\n",
      " [1] top-level scope\n",
      "   @ /workspaces/intervalAHP/src/lib/sim/simulation.ipynb:2"
     ]
    }
   ],
   "source": [
    "desired_count = 1000\n",
    "run_experiments(pcms4, 4, 3, desired_count, \"4_3_0.65.csv\")\n",
    "run_experiments(pcms5, 5, 3, desired_count, \"5_3_0.65.csv\")\n",
    "run_experiments(pcms6, 6, 3, desired_count, \"6_3_0.65.csv\")\n",
    "run_experiments(pcms7, 7, 3, desired_count, \"7_3_0.65.csv\")\n",
    "run_experiments(pcms8, 8, 3, desired_count, \"8_3_0.65.csv\")"
   ]
  },
  {
   "cell_type": "code",
   "execution_count": 8,
   "metadata": {},
   "outputs": [
    {
     "data": {
      "text/plain": [
       "3-element Vector{Matrix{Float64}}:\n",
       " [1.0 3.0 … 1.0 6.0; 0.3333333333333333 1.0 … 1.0 2.0; … ; 1.0 1.0 … 1.0 3.0; 0.16666666666666666 0.5 … 0.3333333333333333 1.0]\n",
       " [1.0 3.0 … 2.0 2.0; 0.3333333333333333 1.0 … 1.0 2.0; … ; 0.5 1.0 … 1.0 3.0; 0.5 0.5 … 0.3333333333333333 1.0]\n",
       " [1.0 2.0 … 2.0 2.0; 0.5 1.0 … 1.0 1.0; … ; 0.5 1.0 … 1.0 4.0; 0.5 1.0 … 0.25 1.0]"
      ]
     },
     "metadata": {},
     "output_type": "display_data"
    }
   ],
   "source": [
    "selected_pcms = random_select_pcms(pcms7, 3)"
   ]
  },
  {
   "cell_type": "code",
   "execution_count": 9,
   "metadata": {},
   "outputs": [
    {
     "name": "stdout",
     "output_type": "stream",
     "text": [
      "The CommonGround_entani optimization problem had no optimal solution.\n"
     ]
    },
    {
     "name": "stdout",
     "output_type": "stream",
     "text": [
      "The CommonGround optimization problem had no optimal solution.\n",
      "The tCommonGround optimization problem had no optimal solution.\n"
     ]
    }
   ],
   "source": [
    "    # PerfectIncorporationの計算\n",
    "    PerfectIncorporation_before = solvePerfectIncorporationLP(selected_pcms)\n",
    "    if PerfectIncorporation_before === nothing\n",
    "        PerfectIncorporation_before = \"Error\"\n",
    "    end\n",
    "    PerfectIncorporation = solveonePerfectIncorporationLP(selected_pcms)\n",
    "    if PerfectIncorporation === nothing\n",
    "        PerfectIncorporation = \"Error\"\n",
    "    end\n",
    "    tPerfectIncorporation2 = solvetPerfectIncorporationLP2(selected_pcms)\n",
    "    if tPerfectIncorporation2 === nothing\n",
    "        tPerfectIncorporation2 = \"Error\"\n",
    "    end\n",
    "\n",
    "    # CommonGroundの計算\n",
    "    CommonGround_before = solveCommonGroundLP(selected_pcms)\n",
    "    if CommonGround_before === nothing\n",
    "        CommonGround_before = \"Error\"\n",
    "    end\n",
    "    CommonGround = solveoneCommonGroundLP(selected_pcms)\n",
    "    if CommonGround === nothing\n",
    "        CommonGround = \"Error\"\n",
    "    end\n",
    "    tCommonGround2 = solvetCommonGroundLP2(selected_pcms)\n",
    "    if tCommonGround2 === nothing\n",
    "        tCommonGround2 = \"Error\"\n",
    "    end\n",
    "\n",
    "    # PartialIncorporationの計算\n",
    "    PartialIncorporation_before = solvePartialIncorporationLP(selected_pcms)\n",
    "    if PartialIncorporation_before === nothing\n",
    "        PartialIncorporation_before = \"Error\"\n",
    "    end\n",
    "    PartialIncorporation = solveonePartialIncorporationLP(selected_pcms)\n",
    "    if PartialIncorporation === nothing\n",
    "        PartialIncorporation = \"Error\"\n",
    "    end\n",
    "    tPartialIncorporation2 = solvetPartialIncorporationLP2(selected_pcms)\n",
    "    if tPartialIncorporation2 === nothing\n",
    "        tPartialIncorporation2 = \"Error\"\n",
    "    end\n"
   ]
  },
  {
   "cell_type": "code",
   "execution_count": 10,
   "metadata": {},
   "outputs": [
    {
     "data": {
      "text/plain": [
       "7-element Vector{Interval{Float64}}:\n",
       " [0.246913, 0.291971]\n",
       " [0.06308, 0.145986]\n",
       " [0.123456, 0.145986]\n",
       " [0.999999e-08, 0.145986]\n",
       " [0.123456, 0.246914]\n",
       " [0.0486617, 0.246914]\n",
       " [0.0246913, 0.145986]"
      ]
     },
     "metadata": {},
     "output_type": "display_data"
    }
   ],
   "source": [
    "PerfectIncorporation.W_perfect_center_1"
   ]
  },
  {
   "cell_type": "code",
   "execution_count": 11,
   "metadata": {},
   "outputs": [
    {
     "data": {
      "text/latex": [
       "$\\begin{pmatrix} \\left[ 0.182, 0.278 \\right] \\\\ \\left[ 0.091, 0.139 \\right] \\\\ \\left[ 0.136, 0.139 \\right] \\\\ \\left[ 0.069, 0.139 \\right] \\\\ \\left[ 0.136, 0.182 \\right] \\\\ \\left[ 0.046, 0.182 \\right] \\\\ \\left[ 0.027, 0.139 \\right] \\end{pmatrix}$"
      ],
      "text/plain": [
       "L\"$\\begin{pmatrix} \\left[ 0.182, 0.278 \\right] \\\\ \\left[ 0.091, 0.139 \\right] \\\\ \\left[ 0.136, 0.139 \\right] \\\\ \\left[ 0.069, 0.139 \\right] \\\\ \\left[ 0.136, 0.182 \\right] \\\\ \\left[ 0.046, 0.182 \\right] \\\\ \\left[ 0.027, 0.139 \\right] \\end{pmatrix}$\""
      ]
     },
     "metadata": {},
     "output_type": "display_data"
    },
    {
     "data": {
      "text/latex": [
       "$\\begin{pmatrix} \\left[ 0.247, 0.292 \\right] \\\\ \\left[ 0.063, 0.146 \\right] \\\\ \\left[ 0.123, 0.146 \\right] \\\\ \\left[ 0.0, 0.146 \\right] \\\\ \\left[ 0.123, 0.247 \\right] \\\\ \\left[ 0.049, 0.247 \\right] \\\\ \\left[ 0.025, 0.146 \\right] \\end{pmatrix}$"
      ],
      "text/plain": [
       "L\"$\\begin{pmatrix} \\left[ 0.247, 0.292 \\right] \\\\ \\left[ 0.063, 0.146 \\right] \\\\ \\left[ 0.123, 0.146 \\right] \\\\ \\left[ 0.0, 0.146 \\right] \\\\ \\left[ 0.123, 0.247 \\right] \\\\ \\left[ 0.049, 0.247 \\right] \\\\ \\left[ 0.025, 0.146 \\right] \\end{pmatrix}$\""
      ]
     },
     "metadata": {},
     "output_type": "display_data"
    },
    {
     "data": {
      "text/latex": [
       "$\\begin{pmatrix} \\left[ 0.24, 0.278 \\right] \\\\ \\left[ 0.08, 0.139 \\right] \\\\ \\left[ 0.12, 0.139 \\right] \\\\ \\left[ 0.069, 0.139 \\right] \\\\ \\left[ 0.12, 0.24 \\right] \\\\ \\left[ 0.046, 0.24 \\right] \\\\ \\left[ 0.011, 0.139 \\right] \\end{pmatrix}$"
      ],
      "text/plain": [
       "L\"$\\begin{pmatrix} \\left[ 0.24, 0.278 \\right] \\\\ \\left[ 0.08, 0.139 \\right] \\\\ \\left[ 0.12, 0.139 \\right] \\\\ \\left[ 0.069, 0.139 \\right] \\\\ \\left[ 0.12, 0.24 \\right] \\\\ \\left[ 0.046, 0.24 \\right] \\\\ \\left[ 0.011, 0.139 \\right] \\end{pmatrix}$\""
      ]
     },
     "metadata": {},
     "output_type": "display_data"
    }
   ],
   "source": [
    "display(L\"%$(intervalVectorLaTeXString(PerfectIncorporation_before.W_perfect_entani))\")\n",
    "display(L\"%$(intervalVectorLaTeXString(PerfectIncorporation.W_perfect_center_1))\") \n",
    "display(L\"%$(intervalVectorLaTeXString(tPerfectIncorporation2.W_tperfect_center_1))\")"
   ]
  },
  {
   "cell_type": "code",
   "execution_count": 12,
   "metadata": {},
   "outputs": [
    {
     "data": {
      "text/plain": [
       "intervalmatrixLaTeXString (generic function with 1 method)"
      ]
     },
     "metadata": {},
     "output_type": "display_data"
    }
   ],
   "source": [
    "include(\"../generate-pcm.jl\")\n",
    "include(\"../display/display-interval-matrix.jl\")"
   ]
  },
  {
   "cell_type": "code",
   "execution_count": 13,
   "metadata": {},
   "outputs": [
    {
     "data": {
      "text/latex": [
       "$\\begin{pmatrix} \\left[ 1.0, 1.0 \\right] & \\left[ 0.327, 0.764 \\right] & \\left[ 0.491, 0.764 \\right] & \\left[ 0.248, 0.764 \\right] & \\left[ 0.491, 1.0 \\right] & \\left[ 0.167, 1.0 \\right] & \\left[ 0.098, 0.764 \\right] \\\\\\left[ 1.309, 3.056 \\right] & \\left[ 1.0, 1.0 \\right] & \\left[ 0.982, 1.528 \\right] & \\left[ 0.497, 1.528 \\right] & \\left[ 0.982, 2.0 \\right] & \\left[ 0.333, 2.0 \\right] & \\left[ 0.196, 1.528 \\right] \\\\\\left[ 1.309, 2.037 \\right] & \\left[ 0.655, 1.019 \\right] & \\left[ 1.0, 1.0 \\right] & \\left[ 0.497, 1.019 \\right] & \\left[ 0.982, 1.333 \\right] & \\left[ 0.333, 1.333 \\right] & \\left[ 0.196, 1.019 \\right] \\\\\\left[ 1.309, 4.028 \\right] & \\left[ 0.655, 2.014 \\right] & \\left[ 0.982, 2.014 \\right] & \\left[ 1.0, 1.0 \\right] & \\left[ 0.982, 2.636 \\right] & \\left[ 0.333, 2.636 \\right] & \\left[ 0.196, 2.014 \\right] \\\\\\left[ 1.0, 2.037 \\right] & \\left[ 0.5, 1.019 \\right] & \\left[ 0.75, 1.019 \\right] & \\left[ 0.379, 1.019 \\right] & \\left[ 1.0, 1.0 \\right] & \\left[ 0.255, 1.333 \\right] & \\left[ 0.15, 1.019 \\right] \\\\\\left[ 1.0, 6.0 \\right] & \\left[ 0.5, 3.0 \\right] & \\left[ 0.75, 3.0 \\right] & \\left[ 0.379, 3.0 \\right] & \\left[ 0.75, 3.927 \\right] & \\left[ 1.0, 1.0 \\right] & \\left[ 0.15, 3.0 \\right] \\\\\\left[ 1.309, 10.185 \\right] & \\left[ 0.655, 5.093 \\right] & \\left[ 0.982, 5.093 \\right] & \\left[ 0.497, 5.093 \\right] & \\left[ 0.982, 6.667 \\right] & \\left[ 0.333, 6.667 \\right] & \\left[ 1.0, 1.0 \\right] \\end{pmatrix}$"
      ],
      "text/plain": [
       "\"\\$\\\\begin{pmatrix} \\\\left[ 1.0, 1.0 \\\\right] & \\\\left[ 0.327, 0.764 \\\\right] & \\\\left[ 0.491, 0.764 \\\\right] & \\\\left[ 0.248, 0.764 \\\\right] & \\\\left[ 0.491, 1.0 \\\\right] & \\\\left[ 0.167, 1.0 \\\\right] & \\\\left[ 0.098, 0.764 \\\\right] \\\\\\\\\\\\left[ 1.309, 3.056 \\\\right] & \\\\left[ 1.0, 1.0 \\\\right\" ⋯ 900 bytes ⋯ \"eft[ 1.0, 1.0 \\\\right] & \\\\left[ 0.15, 3.0 \\\\right] \\\\\\\\\\\\left[ 1.309, 10.185 \\\\right] & \\\\left[ 0.655, 5.093 \\\\right] & \\\\left[ 0.982, 5.093 \\\\right] & \\\\left[ 0.497, 5.093 \\\\right] & \\\\left[ 0.982, 6.667 \\\\right] & \\\\left[ 0.333, 6.667 \\\\right] & \\\\left[ 1.0, 1.0 \\\\right] \\\\end{pmatrix}\\$\""
      ]
     },
     "metadata": {},
     "output_type": "display_data"
    },
    {
     "data": {
      "text/latex": [
       "$\\begin{pmatrix} \\left[ 1.0, 1.0 \\right] & \\left[ 0.216, 0.591 \\right] & \\left[ 0.423, 0.591 \\right] & \\left[ 0.0, 0.591 \\right] & \\left[ 0.423, 1.0 \\right] & \\left[ 0.167, 1.0 \\right] & \\left[ 0.085, 0.591 \\right] \\\\\\left[ 1.691, 4.629 \\right] & \\left[ 1.0, 1.0 \\right] & \\left[ 0.846, 2.314 \\right] & \\left[ 0.0, 2.314 \\right] & \\left[ 0.846, 3.914 \\right] & \\left[ 0.333, 3.914 \\right] & \\left[ 0.169, 2.314 \\right] \\\\\\left[ 1.691, 2.365 \\right] & \\left[ 0.432, 1.182 \\right] & \\left[ 1.0, 1.0 \\right] & \\left[ 0.0, 1.182 \\right] & \\left[ 0.846, 2.0 \\right] & \\left[ 0.333, 2.0 \\right] & \\left[ 0.169, 1.182 \\right] \\\\\\left[ 1.691, 2.9197080292e7 \\right] & \\left[ 0.432, 1.4598540146e7 \\right] & \\left[ 0.846, 1.4598540146e7 \\right] & \\left[ 1.0, 1.0 \\right] & \\left[ 0.846, 2.4691358025e7 \\right] & \\left[ 0.333, 2.4691358025e7 \\right] & \\left[ 0.169, 1.4598540146e7 \\right] \\\\\\left[ 1.0, 2.365 \\right] & \\left[ 0.255, 1.182 \\right] & \\left[ 0.5, 1.182 \\right] & \\left[ 0.0, 1.182 \\right] & \\left[ 1.0, 1.0 \\right] & \\left[ 0.197, 2.0 \\right] & \\left[ 0.1, 1.182 \\right] \\\\\\left[ 1.0, 6.0 \\right] & \\left[ 0.255, 3.0 \\right] & \\left[ 0.5, 3.0 \\right] & \\left[ 0.0, 3.0 \\right] & \\left[ 0.5, 5.074 \\right] & \\left[ 1.0, 1.0 \\right] & \\left[ 0.1, 3.0 \\right] \\\\\\left[ 1.691, 11.825 \\right] & \\left[ 0.432, 5.912 \\right] & \\left[ 0.846, 5.912 \\right] & \\left[ 0.0, 5.912 \\right] & \\left[ 0.846, 10.0 \\right] & \\left[ 0.333, 10.0 \\right] & \\left[ 1.0, 1.0 \\right] \\end{pmatrix}$"
      ],
      "text/plain": [
       "\"\\$\\\\begin{pmatrix} \\\\left[ 1.0, 1.0 \\\\right] & \\\\left[ 0.216, 0.591 \\\\right] & \\\\left[ 0.423, 0.591 \\\\right] & \\\\left[ 0.0, 0.591 \\\\right] & \\\\left[ 0.423, 1.0 \\\\right] & \\\\left[ 0.167, 1.0 \\\\right] & \\\\left[ 0.085, 0.591 \\\\right] \\\\\\\\\\\\left[ 1.691, 4.629 \\\\right] & \\\\left[ 1.0, 1.0 \\\\right] \" ⋯ 937 bytes ⋯ \" & \\\\left[ 1.0, 1.0 \\\\right] & \\\\left[ 0.1, 3.0 \\\\right] \\\\\\\\\\\\left[ 1.691, 11.825 \\\\right] & \\\\left[ 0.432, 5.912 \\\\right] & \\\\left[ 0.846, 5.912 \\\\right] & \\\\left[ 0.0, 5.912 \\\\right] & \\\\left[ 0.846, 10.0 \\\\right] & \\\\left[ 0.333, 10.0 \\\\right] & \\\\left[ 1.0, 1.0 \\\\right] \\\\end{pmatrix}\\$\""
      ]
     },
     "metadata": {},
     "output_type": "display_data"
    },
    {
     "data": {
      "text/latex": [
       "$\\begin{pmatrix} \\left[ 1.0, 1.0 \\right] & \\left[ 0.288, 0.579 \\right] & \\left[ 0.432, 0.579 \\right] & \\left[ 0.248, 0.579 \\right] & \\left[ 0.432, 1.0 \\right] & \\left[ 0.167, 1.0 \\right] & \\left[ 0.041, 0.579 \\right] \\\\\\left[ 1.728, 3.472 \\right] & \\left[ 1.0, 1.0 \\right] & \\left[ 0.864, 1.736 \\right] & \\left[ 0.497, 1.736 \\right] & \\left[ 0.864, 3.0 \\right] & \\left[ 0.333, 3.0 \\right] & \\left[ 0.082, 1.736 \\right] \\\\\\left[ 1.728, 2.315 \\right] & \\left[ 0.576, 1.157 \\right] & \\left[ 1.0, 1.0 \\right] & \\left[ 0.497, 1.157 \\right] & \\left[ 0.864, 2.0 \\right] & \\left[ 0.333, 2.0 \\right] & \\left[ 0.082, 1.157 \\right] \\\\\\left[ 1.728, 4.028 \\right] & \\left[ 0.576, 2.014 \\right] & \\left[ 0.864, 2.014 \\right] & \\left[ 1.0, 1.0 \\right] & \\left[ 0.864, 3.48 \\right] & \\left[ 0.333, 3.48 \\right] & \\left[ 0.082, 2.014 \\right] \\\\\\left[ 1.0, 2.315 \\right] & \\left[ 0.333, 1.157 \\right] & \\left[ 0.5, 1.157 \\right] & \\left[ 0.287, 1.157 \\right] & \\left[ 1.0, 1.0 \\right] & \\left[ 0.193, 2.0 \\right] & \\left[ 0.048, 1.157 \\right] \\\\\\left[ 1.0, 6.0 \\right] & \\left[ 0.333, 3.0 \\right] & \\left[ 0.5, 3.0 \\right] & \\left[ 0.287, 3.0 \\right] & \\left[ 0.5, 5.184 \\right] & \\left[ 1.0, 1.0 \\right] & \\left[ 0.048, 3.0 \\right] \\\\\\left[ 1.728, 24.356 \\right] & \\left[ 0.576, 12.178 \\right] & \\left[ 0.864, 12.178 \\right] & \\left[ 0.497, 12.178 \\right] & \\left[ 0.864, 21.044 \\right] & \\left[ 0.333, 21.044 \\right] & \\left[ 1.0, 1.0 \\right] \\end{pmatrix}$"
      ],
      "text/plain": [
       "\"\\$\\\\begin{pmatrix} \\\\left[ 1.0, 1.0 \\\\right] & \\\\left[ 0.288, 0.579 \\\\right] & \\\\left[ 0.432, 0.579 \\\\right] & \\\\left[ 0.248, 0.579 \\\\right] & \\\\left[ 0.432, 1.0 \\\\right] & \\\\left[ 0.167, 1.0 \\\\right] & \\\\left[ 0.041, 0.579 \\\\right] \\\\\\\\\\\\left[ 1.728, 3.472 \\\\right] & \\\\left[ 1.0, 1.0 \\\\right\" ⋯ 900 bytes ⋯ \".0, 1.0 \\\\right] & \\\\left[ 0.048, 3.0 \\\\right] \\\\\\\\\\\\left[ 1.728, 24.356 \\\\right] & \\\\left[ 0.576, 12.178 \\\\right] & \\\\left[ 0.864, 12.178 \\\\right] & \\\\left[ 0.497, 12.178 \\\\right] & \\\\left[ 0.864, 21.044 \\\\right] & \\\\left[ 0.333, 21.044 \\\\right] & \\\\left[ 1.0, 1.0 \\\\right] \\\\end{pmatrix}\\$\""
      ]
     },
     "metadata": {},
     "output_type": "display_data"
    }
   ],
   "source": [
    "display(L\"%$(intervalmatrixLaTeXString(create_interval_pcm(PerfectIncorporation_before.W_perfect_entani)))\")\n",
    "display(L\"%$(intervalmatrixLaTeXString(create_interval_pcm(PerfectIncorporation.W_perfect_center_1)))\")\n",
    "display(L\"%$(intervalmatrixLaTeXString(create_interval_pcm(tPerfectIncorporation2.W_tperfect_center_1)))\")"
   ]
  }
 ],
 "metadata": {
  "kernelspec": {
   "display_name": "Julia 1.9.3",
   "language": "julia",
   "name": "julia-1.9"
  },
  "language_info": {
   "file_extension": ".jl",
   "mimetype": "application/julia",
   "name": "julia",
   "version": "1.9.3"
  }
 },
 "nbformat": 4,
 "nbformat_minor": 2
}
