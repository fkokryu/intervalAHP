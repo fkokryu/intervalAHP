{
 "cells": [
  {
   "cell_type": "code",
   "execution_count": 1,
   "metadata": {},
   "outputs": [],
   "source": [
    "using LaTeXStrings"
   ]
  },
  {
   "cell_type": "code",
   "execution_count": 2,
   "metadata": {},
   "outputs": [
    {
     "data": {
      "text/plain": [
       "solveCrispAHPLP (generic function with 1 method)"
      ]
     },
     "metadata": {},
     "output_type": "display_data"
    }
   ],
   "source": [
    "include(\"./sim.jl\")\n",
    "include(\"../display/display-crisp-matrix.jl\")\n",
    "include(\"../display/display-interval-vector.jl\")\n",
    "include(\"../center-equal-one/one-perfect.jl\")\n",
    "include(\"../center-equal-one/one-common.jl\")\n",
    "include(\"../center-equal-one/one-partial.jl\")\n",
    "include(\"../ttimes-center/t-perfect-center.jl\")\n",
    "include(\"../ttimes-center/t-common-center.jl\")\n",
    "include(\"../ttimes-center/t-partial-center.jl\")\n",
    "include(\"../ttimes/optimal-value.jl\")"
   ]
  },
  {
   "cell_type": "code",
   "execution_count": 3,
   "metadata": {},
   "outputs": [
    {
     "name": "stdout",
     "output_type": "stream",
     "text": [
      "Number of threads: 4\n"
     ]
    }
   ],
   "source": [
    "using Base.Threads\n",
    "\n",
    "println(\"Number of threads: \", nthreads())"
   ]
  },
  {
   "cell_type": "code",
   "execution_count": 4,
   "metadata": {},
   "outputs": [
    {
     "data": {
      "text/plain": [
       "1001-element Vector{Matrix{Float64}}:\n",
       " [1.0 1.381257217071084 … 1.4916588409489917 4.429650302186118; 0.7239781176459451 1.0 … 1.0527307608754397 2.6144470433915625; … ; 0.6703945785376776 0.949910496743166 … 1.0 2.794184081288233; 0.22575145480592013 0.3824900575162391 … 0.35788622757415434 1.0]\n",
       " [1.0 1.4004332610526775 … 1.4616947589427614 4.146154774730965; 0.714064731116369 1.0 … 1.0223875693657478 3.0371658168960733; … ; 0.6841373644407787 0.9781026588775563 … 1.0 2.8354728725369824; 0.2411873300279505 0.3292543312705861 … 0.35267486057987574 1.0]\n",
       " [1.0 1.2945349710479348 … 1.6163643044442926 4.248783221544905; 0.7724781658007225 1.0 … 1.0104626181893863 3.0283570185989763; … ; 0.6186724102050749 0.9896457147438725 … 1.0 2.754175941343609; 0.23536150183637491 0.3302120568540611 … 0.3630850102888328 1.0]\n",
       " [1.0 1.4228403704640762 … 1.610932816169033 4.117095681652235; 0.7028195296945632 1.0 … 0.9821630627915879 2.939564419963407; … ; 0.620758351908247 1.018160871533607 … 1.0 2.901813538790114; 0.2428896672128565 0.34018645524783175 … 0.3446120802155129 1.0]\n",
       " [1.0 1.433915845120311 … 1.4229737360594157 3.8329498618493196; 0.6973909964124124 1.0 … 1.0186939188766733 2.594558217817324; … ; 0.7027536592272322 0.9816491307837714 … 1.0 2.9789481437306438; 0.2608956641863091 0.3854220703674368 … 0.3356889585690015 1.0]\n",
       " [1.0 1.6192665226627485 … 1.4709339088506372 4.212887440216279; 0.6175635610347724 1.0 … 1.08455800422093 2.972040225133164; … ; 0.6798401981101809 0.922034594837857 … 1.0 2.894013952400818; 0.23736689246761897 0.3364692010368717 … 0.34554083582438133 1.0]\n",
       " [1.0 1.560823986026546 … 1.5752285882535868 4.21788455305004; 0.640687232482723 1.0 … 1.0190281545387567 2.9637886431644076; … ; 0.634828498833095 0.9813271552370705 … 1.0 2.9737277806494427; 0.23708567349878726 0.3374059760659282 … 0.336278258725352 1.0]\n",
       " [1.0 1.4778624437952406 … 1.4252147403843536 4.025479450086882; 0.6766529619847022 1.0 … 1.0791303092748135 2.5512958456733443; … ; 0.7016486510168417 0.9266721464546855 … 1.0 3.0125547392347616; 0.24841761395115727 0.39195767973983336 … 0.3319441758107328 1.0]\n",
       " [1.0 1.47535419301839 … 1.4127790070038486 4.058726162155853; 0.6778033401959737 1.0 … 0.969808095999076 3.0224447631515985; … ; 0.7078247872048653 1.0311318333240154 … 1.0 2.948362163782946; 0.2463827220777159 0.3308579902572871 … 0.339171358350676 1.0]\n",
       " [1.0 1.4550496931587253 … 1.5891939893298201 4.384139464733221; 0.6872617510602878 1.0 … 0.992280050798905 2.8711900638978287; … ; 0.6292498000333556 1.0077800104868373 … 1.0 2.6313274330214558; 0.22809493357685667 0.3482876360481808 … 0.38003632214320704 1.0]\n",
       " ⋮\n",
       " [1.0 1.4341956793914754 … 1.4303424547664743 4.493673559418491; 0.6972549243937876 1.0 … 1.0487585030005426 2.931494813199666; … ; 0.6991332716634392 0.9535083597786883 … 1.0 2.6622929873702734; 0.22253507887862822 0.3411228959018763 … 0.3756160590678517 1.0]\n",
       " [1.0 1.577773410344763 … 1.4087605566520858 4.419648558346306; 0.6338045713303583 1.0 … 1.0137866407268001 3.145404590171833; … ; 0.7098438377466333 0.9864008459246254 … 1.0 2.720736978368311; 0.22626233439116905 0.31792412433192585 … 0.3675474725968268 1.0]\n",
       " [1.0 1.5439843691511885 … 1.4638285614052358 4.059935501137636; 0.6476749505888806 1.0 … 1.0213598806641564 3.190517875110496; … ; 0.6831401069535268 0.9790868223154929 … 1.0 2.8857196599238293; 0.24630933169253297 0.31342874076998156 … 0.3465340080977914 1.0]\n",
       " [1.0 1.441454081391067 … 1.4499333497983513 4.279696149542928; 0.6937439165838399 1.0 … 0.9684232926820819 2.994150506600346; … ; 0.6896868743236194 1.0326063071350393 … 1.0 2.825592050529145; 0.2336614481630431 0.33398454680069906 … 0.3539081304439299 1.0]\n",
       " [1.0 1.3732813787201845 … 1.4063895860668605 4.2935054802152814; 0.7281828877137617 1.0 … 0.9865854940224069 2.990568144565741; … ; 0.7110405323724144 1.01359690169668 … 1.0 2.78753614756711; 0.23290991582706885 0.3343846224728678 … 0.3587397425761723 1.0]\n",
       " [1.0 1.5055519328616798 … 1.5845215762241787 3.9855157078769476; 0.6642082402958022 1.0 … 0.9589780481782448 2.8209991760590998; … ; 0.6311053222657536 1.042776737068887 … 1.0 2.5944836901046657; 0.25090855821333397 0.35448432898764165 … 0.3854331417900177 1.0]\n",
       " [1.0 1.3081874785400813 … 1.5042663451150204 3.9416420993646977; 0.7644164283822574 1.0 … 1.026706881552298 2.699610903844345; … ; 0.6647758910829965 0.9739878225887418 … 1.0 2.9456102524953423; 0.2537013698329377 0.3704237520214351 … 0.339488226303144 1.0]\n",
       " [1.0 1.3345438813679293 … 1.5647882140839118 4.311041224070309; 0.7493196843965773 1.0 … 0.9735485220560345 2.840613775646805; … ; 0.639064118070086 1.0271701690719048 … 1.0 2.8993986113549215; 0.2319625232105391 0.352036594546297 … 0.3448991097959755 1.0]\n",
       " [1.0 1.4864761399802826 … 1.5265791962864343 4.17926136334095; 0.6727319551952341 1.0 … 1.0055338114477437 2.8790921150501076; … ; 0.6550593656933135 0.9944966430917164 … 1.0 2.858719419065689; 0.23927673171428276 0.3473317143180728 … 0.34980697767353064 1.0]"
      ]
     },
     "metadata": {},
     "output_type": "display_data"
    }
   ],
   "source": [
    "# 例：5x5のPCMをdesired_count個生成する\n",
    "n = 5\n",
    "perturbation_strength = 0.05\n",
    "desired_count = 1000\n",
    "\n",
    "pcms = generate_similar_pcms(n, perturbation_strength, desired_count)"
   ]
  },
  {
   "cell_type": "code",
   "execution_count": 5,
   "metadata": {},
   "outputs": [
    {
     "data": {
      "text/latex": [
       "$A = \\begin{pmatrix} 1.0 & 1.381 & 1.865 & 1.492 & 4.43 \\\\0.724 & 1.0 & 1.216 & 1.053 & 2.614 \\\\0.536 & 0.822 & 1.0 & 0.949 & 2.279 \\\\0.67 & 0.95 & 1.054 & 1.0 & 2.794 \\\\0.226 & 0.382 & 0.439 & 0.358 & 1.0 \\\\ \\end{pmatrix}$"
      ],
      "text/plain": [
       "L\"$A = \\begin{pmatrix} 1.0 & 1.381 & 1.865 & 1.492 & 4.43 \\\\0.724 & 1.0 & 1.216 & 1.053 & 2.614 \\\\0.536 & 0.822 & 1.0 & 0.949 & 2.279 \\\\0.67 & 0.95 & 1.054 & 1.0 & 2.794 \\\\0.226 & 0.382 & 0.439 & 0.358 & 1.0 \\\\ \\end{pmatrix}$\""
      ]
     },
     "metadata": {},
     "output_type": "display_data"
    },
    {
     "data": {
      "text/latex": [
       "$A = \\begin{pmatrix} 1.0 & 1.4 & 1.853 & 1.462 & 4.146 \\\\0.714 & 1.0 & 1.221 & 1.022 & 3.037 \\\\0.54 & 0.819 & 1.0 & 0.861 & 2.338 \\\\0.684 & 0.978 & 1.161 & 1.0 & 2.835 \\\\0.241 & 0.329 & 0.428 & 0.353 & 1.0 \\\\ \\end{pmatrix}$"
      ],
      "text/plain": [
       "L\"$A = \\begin{pmatrix} 1.0 & 1.4 & 1.853 & 1.462 & 4.146 \\\\0.714 & 1.0 & 1.221 & 1.022 & 3.037 \\\\0.54 & 0.819 & 1.0 & 0.861 & 2.338 \\\\0.684 & 0.978 & 1.161 & 1.0 & 2.835 \\\\0.241 & 0.329 & 0.428 & 0.353 & 1.0 \\\\ \\end{pmatrix}$\""
      ]
     },
     "metadata": {},
     "output_type": "display_data"
    },
    {
     "data": {
      "text/latex": [
       "$A = \\begin{pmatrix} 1.0 & 1.295 & 1.793 & 1.616 & 4.249 \\\\0.772 & 1.0 & 1.28 & 1.01 & 3.028 \\\\0.558 & 0.781 & 1.0 & 0.829 & 2.176 \\\\0.619 & 0.99 & 1.206 & 1.0 & 2.754 \\\\0.235 & 0.33 & 0.46 & 0.363 & 1.0 \\\\ \\end{pmatrix}$"
      ],
      "text/plain": [
       "L\"$A = \\begin{pmatrix} 1.0 & 1.295 & 1.793 & 1.616 & 4.249 \\\\0.772 & 1.0 & 1.28 & 1.01 & 3.028 \\\\0.558 & 0.781 & 1.0 & 0.829 & 2.176 \\\\0.619 & 0.99 & 1.206 & 1.0 & 2.754 \\\\0.235 & 0.33 & 0.46 & 0.363 & 1.0 \\\\ \\end{pmatrix}$\""
      ]
     },
     "metadata": {},
     "output_type": "display_data"
    }
   ],
   "source": [
    "display(L\"A = %$(matrixLaTeXString(pcms[1]))\")\n",
    "display(L\"A = %$(matrixLaTeXString(pcms[2]))\")\n",
    "display(L\"A = %$(matrixLaTeXString(pcms[3]))\")"
   ]
  },
  {
   "cell_type": "code",
   "execution_count": 6,
   "metadata": {},
   "outputs": [
    {
     "data": {
      "text/latex": [
       "$V1 = \\begin{pmatrix} \\left[ 0.312, 0.312 \\right] \\\\ \\left[ 0.221, 0.226 \\right] \\\\ \\left[ 0.168, 0.193 \\right] \\\\ \\left[ 0.203, 0.209 \\right] \\\\ \\left[ 0.071, 0.084 \\right] \\end{pmatrix}$"
      ],
      "text/plain": [
       "L\"$V1 = \\begin{pmatrix} \\left[ 0.312, 0.312 \\right] \\\\ \\left[ 0.221, 0.226 \\right] \\\\ \\left[ 0.168, 0.193 \\right] \\\\ \\left[ 0.203, 0.209 \\right] \\\\ \\left[ 0.071, 0.084 \\right] \\end{pmatrix}$\""
      ]
     },
     "metadata": {},
     "output_type": "display_data"
    },
    {
     "data": {
      "text/latex": [
       "$V2 = \\begin{pmatrix} \\left[ 0.314, 0.314 \\right] \\\\ \\left[ 0.221, 0.224 \\right] \\\\ \\left[ 0.17, 0.181 \\right] \\\\ \\left[ 0.21, 0.216 \\right] \\\\ \\left[ 0.074, 0.076 \\right] \\end{pmatrix}$"
      ],
      "text/plain": [
       "L\"$V2 = \\begin{pmatrix} \\left[ 0.314, 0.314 \\right] \\\\ \\left[ 0.221, 0.224 \\right] \\\\ \\left[ 0.17, 0.181 \\right] \\\\ \\left[ 0.21, 0.216 \\right] \\\\ \\left[ 0.074, 0.076 \\right] \\end{pmatrix}$\""
      ]
     },
     "metadata": {},
     "output_type": "display_data"
    },
    {
     "data": {
      "text/latex": [
       "$V3 = \\begin{pmatrix} \\left[ 0.312, 0.312 \\right] \\\\ \\left[ 0.221, 0.241 \\right] \\\\ \\left[ 0.174, 0.174 \\right] \\\\ \\left[ 0.193, 0.219 \\right] \\\\ \\left[ 0.073, 0.08 \\right] \\end{pmatrix}$"
      ],
      "text/plain": [
       "L\"$V3 = \\begin{pmatrix} \\left[ 0.312, 0.312 \\right] \\\\ \\left[ 0.221, 0.241 \\right] \\\\ \\left[ 0.174, 0.174 \\right] \\\\ \\left[ 0.193, 0.219 \\right] \\\\ \\left[ 0.073, 0.08 \\right] \\end{pmatrix}$\""
      ]
     },
     "metadata": {},
     "output_type": "display_data"
    }
   ],
   "source": [
    "A1 = solveCrispAHPLP(pcms[1])\n",
    "A2 = solveCrispAHPLP(pcms[2])\n",
    "A3 = solveCrispAHPLP(pcms[3])\n",
    "display(L\"V1 = %$(intervalVectorLaTeXString(A1.V))\")\n",
    "display(L\"V2 = %$(intervalVectorLaTeXString(A2.V))\")\n",
    "display(L\"V3 = %$(intervalVectorLaTeXString(A3.V))\")"
   ]
  },
  {
   "cell_type": "code",
   "execution_count": 7,
   "metadata": {},
   "outputs": [],
   "source": [
    "using Pkg"
   ]
  },
  {
   "cell_type": "code",
   "execution_count": 8,
   "metadata": {},
   "outputs": [
    {
     "name": "stdout",
     "output_type": "stream",
     "text": [
      "The CommonGround optimization problem had no optimal solution.\n"
     ]
    },
    {
     "name": "stdout",
     "output_type": "stream",
     "text": [
      "The tCommonGround optimization problem had no optimal solution.\n"
     ]
    },
    {
     "name": "stdout",
     "output_type": "stream",
     "text": [
      "The CommonGround optimization problem had no optimal solution.\n",
      "The tCommonGround optimization problem had no optimal solution.\n",
      "The CommonGround optimization problem had no optimal solution.\n",
      "The tCommonGround optimization problem had no optimal solution.\n"
     ]
    },
    {
     "name": "stdout",
     "output_type": "stream",
     "text": [
      "The CommonGround optimization problem had no optimal solution.\n",
      "The tCommonGround optimization problem had no optimal solution.\n"
     ]
    },
    {
     "name": "stdout",
     "output_type": "stream",
     "text": [
      "The CommonGround optimization problem had no optimal solution.\n",
      "The tCommonGround optimization problem had no optimal solution.\n",
      "The CommonGround optimization problem had no optimal solution.\n"
     ]
    },
    {
     "name": "stdout",
     "output_type": "stream",
     "text": [
      "The tCommonGround optimization problem had no optimal solution.\n",
      "The CommonGround optimization problem had no optimal solution.\n",
      "The tCommonGround optimization problem had no optimal solution.\n",
      "The CommonGround optimization problem had no optimal solution.\n"
     ]
    },
    {
     "name": "stdout",
     "output_type": "stream",
     "text": [
      "The tCommonGround optimization problem had no optimal solution.\n",
      "The CommonGround optimization problem had no optimal solution.\n",
      "The tCommonGround optimization problem had no optimal solution.\n"
     ]
    },
    {
     "name": "stdout",
     "output_type": "stream",
     "text": [
      "The CommonGround optimization problem had no optimal solution.\n",
      "The tCommonGround optimization problem had no optimal solution.\n",
      "The CommonGround optimization problem had no optimal solution.\n",
      "The tCommonGround optimization problem had no optimal solution.\n"
     ]
    },
    {
     "name": "stdout",
     "output_type": "stream",
     "text": [
      "The CommonGround optimization problem had no optimal solution.\n",
      "The tCommonGround optimization problem had no optimal solution.\n",
      "The CommonGround optimization problem had no optimal solution.\n",
      "The tCommonGround optimization problem had no optimal solution.\n"
     ]
    },
    {
     "name": "stdout",
     "output_type": "stream",
     "text": [
      "The CommonGround optimization problem had no optimal solution.\n",
      "The tCommonGround optimization problem had no optimal solution.\n",
      "The CommonGround optimization problem had no optimal solution.\n",
      "The tCommonGround optimization problem had no optimal solution.\n"
     ]
    },
    {
     "name": "stdout",
     "output_type": "stream",
     "text": [
      "The CommonGround optimization problem had no optimal solution.\n",
      "The tCommonGround optimization problem had no optimal solution.\n"
     ]
    },
    {
     "name": "stdout",
     "output_type": "stream",
     "text": [
      "The CommonGround optimization problem had no optimal solution.\n",
      "The tCommonGround optimization problem had no optimal solution.\n",
      "The CommonGround optimization problem had no optimal solution.\n",
      "The tCommonGround optimization problem had no optimal solution.\n"
     ]
    },
    {
     "name": "stdout",
     "output_type": "stream",
     "text": [
      "The CommonGround optimization problem had no optimal solution.\n",
      "The tCommonGround optimization problem had no optimal solution.\n",
      "The CommonGround optimization problem had no optimal solution.\n",
      "The tCommonGround optimization problem had no optimal solution.\n"
     ]
    },
    {
     "name": "stdout",
     "output_type": "stream",
     "text": [
      "The CommonGround optimization problem had no optimal solution.\n",
      "The tCommonGround optimization problem had no optimal solution.\n",
      "The CommonGround optimization problem had no optimal solution.\n",
      "The tCommonGround optimization problem had no optimal solution.\n"
     ]
    },
    {
     "name": "stdout",
     "output_type": "stream",
     "text": [
      "The CommonGround optimization problem had no optimal solution.\n",
      "The tCommonGround optimization problem had no optimal solution.\n",
      "The CommonGround optimization problem had no optimal solution.\n",
      "The tCommonGround optimization problem had no optimal solution.\n"
     ]
    },
    {
     "name": "stdout",
     "output_type": "stream",
     "text": [
      "The CommonGround optimization problem had no optimal solution.\n",
      "The tCommonGround optimization problem had no optimal solution.\n",
      "The CommonGround optimization problem had no optimal solution.\n",
      "The tCommonGround optimization problem had no optimal solution.\n"
     ]
    },
    {
     "name": "stdout",
     "output_type": "stream",
     "text": [
      "The CommonGround optimization problem had no optimal solution.\n",
      "The tCommonGround optimization problem had no optimal solution.\n",
      "The CommonGround optimization problem had no optimal solution.\n",
      "The tCommonGround optimization problem had no optimal solution.\n"
     ]
    },
    {
     "name": "stdout",
     "output_type": "stream",
     "text": [
      "The CommonGround optimization problem had no optimal solution.\n",
      "The tCommonGround optimization problem had no optimal solution.\n",
      "The CommonGround optimization problem had no optimal solution.\n",
      "The tCommonGround optimization problem had no optimal solution.\n"
     ]
    },
    {
     "name": "stdout",
     "output_type": "stream",
     "text": [
      "The CommonGround optimization problem had no optimal solution.\n",
      "The tCommonGround optimization problem had no optimal solution.\n",
      "The CommonGround optimization problem had no optimal solution.\n",
      "The tCommonGround optimization problem had no optimal solution.\n"
     ]
    },
    {
     "name": "stdout",
     "output_type": "stream",
     "text": [
      "The CommonGround optimization problem had no optimal solution.\n",
      "The tCommonGround optimization problem had no optimal solution.\n",
      "The CommonGround optimization problem had no optimal solution.\n",
      "The tCommonGround optimization problem had no optimal solution.\n"
     ]
    },
    {
     "name": "stdout",
     "output_type": "stream",
     "text": [
      "The CommonGround optimization problem had no optimal solution.\n",
      "The tCommonGround optimization problem had no optimal solution.\n",
      "The CommonGround optimization problem had no optimal solution.\n",
      "The tCommonGround optimization problem had no optimal solution.\n"
     ]
    },
    {
     "name": "stdout",
     "output_type": "stream",
     "text": [
      "The CommonGround optimization problem had no optimal solution.\n",
      "The tCommonGround optimization problem had no optimal solution.\n",
      "The CommonGround optimization problem had no optimal solution.\n",
      "The tCommonGround optimization problem had no optimal solution.\n"
     ]
    },
    {
     "name": "stdout",
     "output_type": "stream",
     "text": [
      "The CommonGround optimization problem had no optimal solution.\n",
      "The tCommonGround optimization problem had no optimal solution.\n",
      "The CommonGround optimization problem had no optimal solution.\n",
      "The tCommonGround optimization problem had no optimal solution.\n"
     ]
    },
    {
     "name": "stdout",
     "output_type": "stream",
     "text": [
      "The CommonGround optimization problem had no optimal solution.\n",
      "The tCommonGround optimization problem had no optimal solution.\n",
      "The CommonGround optimization problem had no optimal solution.\n",
      "The tCommonGround optimization problem had no optimal solution.\n"
     ]
    },
    {
     "name": "stdout",
     "output_type": "stream",
     "text": [
      "The CommonGround optimization problem had no optimal solution.\n",
      "The tCommonGround optimization problem had no optimal solution.\n",
      "The CommonGround optimization problem had no optimal solution.\n",
      "The tCommonGround optimization problem had no optimal solution.\n"
     ]
    },
    {
     "name": "stdout",
     "output_type": "stream",
     "text": [
      "The CommonGround optimization problem had no optimal solution.\n",
      "The tCommonGround optimization problem had no optimal solution.\n",
      "The CommonGround optimization problem had no optimal solution.\n",
      "The tCommonGround optimization problem had no optimal solution.\n"
     ]
    },
    {
     "name": "stdout",
     "output_type": "stream",
     "text": [
      "The CommonGround optimization problem had no optimal solution.\n",
      "The tCommonGround optimization problem had no optimal solution.\n",
      "The CommonGround optimization problem had no optimal solution.\n",
      "The tCommonGround optimization problem had no optimal solution.\n"
     ]
    },
    {
     "name": "stdout",
     "output_type": "stream",
     "text": [
      "The CommonGround optimization problem had no optimal solution.\n",
      "The tCommonGround optimization problem had no optimal solution.\n",
      "The CommonGround optimization problem had no optimal solution.\n",
      "The tCommonGround optimization problem had no optimal solution.\n"
     ]
    },
    {
     "name": "stdout",
     "output_type": "stream",
     "text": [
      "The CommonGround optimization problem had no optimal solution.\n",
      "The tCommonGround optimization problem had no optimal solution.\n",
      "The CommonGround optimization problem had no optimal solution.\n",
      "The tCommonGround optimization problem had no optimal solution.\n"
     ]
    },
    {
     "name": "stdout",
     "output_type": "stream",
     "text": [
      "The CommonGround optimization problem had no optimal solution.\n",
      "The tCommonGround optimization problem had no optimal solution.\n",
      "The CommonGround optimization problem had no optimal solution.\n",
      "The tCommonGround optimization problem had no optimal solution.\n"
     ]
    },
    {
     "name": "stdout",
     "output_type": "stream",
     "text": [
      "The CommonGround optimization problem had no optimal solution.\n",
      "The tCommonGround optimization problem had no optimal solution.\n",
      "The CommonGround optimization problem had no optimal solution.\n",
      "The tCommonGround optimization problem had no optimal solution.\n"
     ]
    },
    {
     "name": "stdout",
     "output_type": "stream",
     "text": [
      "The CommonGround optimization problem had no optimal solution.\n",
      "The tCommonGround optimization problem had no optimal solution.\n",
      "The CommonGround optimization problem had no optimal solution.\n",
      "The tCommonGround optimization problem had no optimal solution.\n"
     ]
    },
    {
     "name": "stdout",
     "output_type": "stream",
     "text": [
      "The CommonGround optimization problem had no optimal solution.\n",
      "The tCommonGround optimization problem had no optimal solution.\n",
      "The CommonGround optimization problem had no optimal solution.\n",
      "The tCommonGround optimization problem had no optimal solution.\n"
     ]
    },
    {
     "name": "stdout",
     "output_type": "stream",
     "text": [
      "The CommonGround optimization problem had no optimal solution.\n",
      "The tCommonGround optimization problem had no optimal solution.\n",
      "The CommonGround optimization problem had no optimal solution.\n",
      "The tCommonGround optimization problem had no optimal solution.\n"
     ]
    },
    {
     "name": "stdout",
     "output_type": "stream",
     "text": [
      "The CommonGround optimization problem had no optimal solution.\n",
      "The tCommonGround optimization problem had no optimal solution.\n",
      "The CommonGround optimization problem had no optimal solution.\n",
      "The tCommonGround optimization problem had no optimal solution.\n"
     ]
    },
    {
     "name": "stdout",
     "output_type": "stream",
     "text": [
      "The CommonGround optimization problem had no optimal solution.\n",
      "The tCommonGround optimization problem had no optimal solution.\n",
      "The CommonGround optimization problem had no optimal solution.\n",
      "The tCommonGround optimization problem had no optimal solution.\n"
     ]
    },
    {
     "name": "stdout",
     "output_type": "stream",
     "text": [
      "The CommonGround optimization problem had no optimal solution.\n",
      "The tCommonGround optimization problem had no optimal solution.\n",
      "The CommonGround optimization problem had no optimal solution.\n",
      "The tCommonGround optimization problem had no optimal solution.\n"
     ]
    },
    {
     "name": "stdout",
     "output_type": "stream",
     "text": [
      "The CommonGround optimization problem had no optimal solution.\n",
      "The tCommonGround optimization problem had no optimal solution.\n",
      "The CommonGround optimization problem had no optimal solution.\n",
      "The tCommonGround optimization problem had no optimal solution.\n"
     ]
    },
    {
     "name": "stdout",
     "output_type": "stream",
     "text": [
      "The CommonGround optimization problem had no optimal solution.\n",
      "The tCommonGround optimization problem had no optimal solution.\n",
      "The CommonGround optimization problem had no optimal solution.\n",
      "The tCommonGround optimization problem had no optimal solution.\n"
     ]
    },
    {
     "name": "stdout",
     "output_type": "stream",
     "text": [
      "The CommonGround optimization problem had no optimal solution.\n",
      "The tCommonGround optimization problem had no optimal solution.\n",
      "The CommonGround optimization problem had no optimal solution.\n",
      "The tCommonGround optimization problem had no optimal solution.\n"
     ]
    },
    {
     "name": "stdout",
     "output_type": "stream",
     "text": [
      "The CommonGround optimization problem had no optimal solution.\n",
      "The tCommonGround optimization problem had no optimal solution.\n",
      "The CommonGround optimization problem had no optimal solution.\n",
      "The tCommonGround optimization problem had no optimal solution.\n"
     ]
    },
    {
     "name": "stdout",
     "output_type": "stream",
     "text": [
      "The CommonGround optimization problem had no optimal solution.\n",
      "The tCommonGround optimization problem had no optimal solution.\n",
      "The CommonGround optimization problem had no optimal solution.\n",
      "The tCommonGround optimization problem had no optimal solution.\n"
     ]
    },
    {
     "name": "stdout",
     "output_type": "stream",
     "text": [
      "The CommonGround optimization problem had no optimal solution.\n",
      "The tCommonGround optimization problem had no optimal solution.\n",
      "The CommonGround optimization problem had no optimal solution.\n",
      "The tCommonGround optimization problem had no optimal solution.\n"
     ]
    },
    {
     "name": "stdout",
     "output_type": "stream",
     "text": [
      "The CommonGround optimization problem had no optimal solution.\n",
      "The tCommonGround optimization problem had no optimal solution.\n",
      "The CommonGround optimization problem had no optimal solution.\n",
      "The tCommonGround optimization problem had no optimal solution.\n"
     ]
    },
    {
     "name": "stdout",
     "output_type": "stream",
     "text": [
      "The CommonGround optimization problem had no optimal solution.\n",
      "The tCommonGround optimization problem had no optimal solution.\n",
      "The CommonGround optimization problem had no optimal solution.\n",
      "The tCommonGround optimization problem had no optimal solution.\n"
     ]
    },
    {
     "name": "stdout",
     "output_type": "stream",
     "text": [
      "The CommonGround optimization problem had no optimal solution.\n",
      "The tCommonGround optimization problem had no optimal solution.\n",
      "The CommonGround optimization problem had no optimal solution.\n",
      "The tCommonGround optimization problem had no optimal solution.\n"
     ]
    },
    {
     "name": "stdout",
     "output_type": "stream",
     "text": [
      "The CommonGround optimization problem had no optimal solution.\n",
      "The tCommonGround optimization problem had no optimal solution.\n",
      "The CommonGround optimization problem had no optimal solution.\n",
      "The tCommonGround optimization problem had no optimal solution.\n"
     ]
    },
    {
     "name": "stdout",
     "output_type": "stream",
     "text": [
      "The CommonGround optimization problem had no optimal solution.\n",
      "The tCommonGround optimization problem had no optimal solution.\n",
      "The CommonGround optimization problem had no optimal solution.\n",
      "The tCommonGround optimization problem had no optimal solution.\n"
     ]
    },
    {
     "name": "stdout",
     "output_type": "stream",
     "text": [
      "The CommonGround optimization problem had no optimal solution.\n",
      "The tCommonGround optimization problem had no optimal solution.\n",
      "The CommonGround optimization problem had no optimal solution.\n",
      "The tCommonGround optimization problem had no optimal solution.\n"
     ]
    },
    {
     "name": "stdout",
     "output_type": "stream",
     "text": [
      "The CommonGround optimization problem had no optimal solution.\n",
      "The tCommonGround optimization problem had no optimal solution.\n",
      "The CommonGround optimization problem had no optimal solution.\n",
      "The tCommonGround optimization problem had no optimal solution.\n"
     ]
    },
    {
     "name": "stdout",
     "output_type": "stream",
     "text": [
      "The CommonGround optimization problem had no optimal solution.\n",
      "The tCommonGround optimization problem had no optimal solution.\n",
      "The CommonGround optimization problem had no optimal solution.\n",
      "The tCommonGround optimization problem had no optimal solution.\n"
     ]
    },
    {
     "name": "stdout",
     "output_type": "stream",
     "text": [
      "The CommonGround optimization problem had no optimal solution.\n",
      "The tCommonGround optimization problem had no optimal solution.\n",
      "The CommonGround optimization problem had no optimal solution.\n",
      "The tCommonGround optimization problem had no optimal solution.\n"
     ]
    },
    {
     "name": "stdout",
     "output_type": "stream",
     "text": [
      "The CommonGround optimization problem had no optimal solution.\n",
      "The tCommonGround optimization problem had no optimal solution.\n",
      "The CommonGround optimization problem had no optimal solution.\n",
      "The tCommonGround optimization problem had no optimal solution.\n"
     ]
    },
    {
     "name": "stdout",
     "output_type": "stream",
     "text": [
      "The CommonGround optimization problem had no optimal solution.\n",
      "The tCommonGround optimization problem had no optimal solution.\n",
      "The CommonGround optimization problem had no optimal solution.\n",
      "The tCommonGround optimization problem had no optimal solution.\n"
     ]
    },
    {
     "name": "stdout",
     "output_type": "stream",
     "text": [
      "The CommonGround optimization problem had no optimal solution.\n",
      "The tCommonGround optimization problem had no optimal solution.\n",
      "The CommonGround optimization problem had no optimal solution.\n",
      "The tCommonGround optimization problem had no optimal solution.\n"
     ]
    },
    {
     "name": "stdout",
     "output_type": "stream",
     "text": [
      "The CommonGround optimization problem had no optimal solution.\n",
      "The tCommonGround optimization problem had no optimal solution.\n",
      "The CommonGround optimization problem had no optimal solution.\n",
      "The tCommonGround optimization problem had no optimal solution.\n"
     ]
    },
    {
     "name": "stdout",
     "output_type": "stream",
     "text": [
      "The CommonGround optimization problem had no optimal solution.\n",
      "The tCommonGround optimization problem had no optimal solution.\n",
      "The CommonGround optimization problem had no optimal solution.\n",
      "The tCommonGround optimization problem had no optimal solution.\n"
     ]
    },
    {
     "name": "stdout",
     "output_type": "stream",
     "text": [
      "The CommonGround optimization problem had no optimal solution.\n",
      "The tCommonGround optimization problem had no optimal solution.\n",
      "The CommonGround optimization problem had no optimal solution.\n",
      "The tCommonGround optimization problem had no optimal solution.\n"
     ]
    },
    {
     "name": "stdout",
     "output_type": "stream",
     "text": [
      "The CommonGround optimization problem had no optimal solution.\n",
      "The tCommonGround optimization problem had no optimal solution.\n",
      "The CommonGround optimization problem had no optimal solution.\n",
      "The tCommonGround optimization problem had no optimal solution.\n"
     ]
    },
    {
     "name": "stdout",
     "output_type": "stream",
     "text": [
      "The CommonGround optimization problem had no optimal solution.\n",
      "The tCommonGround optimization problem had no optimal solution.\n",
      "The CommonGround optimization problem had no optimal solution.\n",
      "The tCommonGround optimization problem had no optimal solution.\n"
     ]
    },
    {
     "name": "stdout",
     "output_type": "stream",
     "text": [
      "The CommonGround optimization problem had no optimal solution.\n",
      "The tCommonGround optimization problem had no optimal solution.\n",
      "The CommonGround optimization problem had no optimal solution.\n",
      "The tCommonGround optimization problem had no optimal solution.\n"
     ]
    },
    {
     "name": "stdout",
     "output_type": "stream",
     "text": [
      "The CommonGround optimization problem had no optimal solution.\n",
      "The tCommonGround optimization problem had no optimal solution.\n",
      "The CommonGround optimization problem had no optimal solution.\n",
      "The tCommonGround optimization problem had no optimal solution.\n"
     ]
    },
    {
     "name": "stdout",
     "output_type": "stream",
     "text": [
      "The CommonGround optimization problem had no optimal solution.\n",
      "The tCommonGround optimization problem had no optimal solution.\n",
      "The CommonGround optimization problem had no optimal solution.\n",
      "The tCommonGround optimization problem had no optimal solution.\n"
     ]
    },
    {
     "name": "stdout",
     "output_type": "stream",
     "text": [
      "The CommonGround optimization problem had no optimal solution.\n",
      "The tCommonGround optimization problem had no optimal solution.\n"
     ]
    },
    {
     "name": "stdout",
     "output_type": "stream",
     "text": [
      "The CommonGround optimization problem had no optimal solution.\n",
      "The tCommonGround optimization problem had no optimal solution.\n"
     ]
    },
    {
     "name": "stdout",
     "output_type": "stream",
     "text": [
      "The CommonGround optimization problem had no optimal solution.\n",
      "The tCommonGround optimization problem had no optimal solution.\n",
      "The CommonGround optimization problem had no optimal solution.\n",
      "The tCommonGround optimization problem had no optimal solution.\n"
     ]
    },
    {
     "name": "stdout",
     "output_type": "stream",
     "text": [
      "The CommonGround optimization problem had no optimal solution.\n",
      "The tCommonGround optimization problem had no optimal solution.\n",
      "The CommonGround optimization problem had no optimal solution.\n",
      "The tCommonGround optimization problem had no optimal solution.\n"
     ]
    },
    {
     "name": "stdout",
     "output_type": "stream",
     "text": [
      "The CommonGround optimization problem had no optimal solution.\n",
      "The tCommonGround optimization problem had no optimal solution.\n",
      "The CommonGround optimization problem had no optimal solution.\n",
      "The tCommonGround optimization problem had no optimal solution.\n"
     ]
    },
    {
     "name": "stdout",
     "output_type": "stream",
     "text": [
      "The CommonGround optimization problem had no optimal solution.\n",
      "The tCommonGround optimization problem had no optimal solution.\n",
      "The CommonGround optimization problem had no optimal solution.\n",
      "The tCommonGround optimization problem had no optimal solution.\n"
     ]
    },
    {
     "name": "stdout",
     "output_type": "stream",
     "text": [
      "The CommonGround optimization problem had no optimal solution.\n",
      "The tCommonGround optimization problem had no optimal solution.\n",
      "The CommonGround optimization problem had no optimal solution.\n",
      "The tCommonGround optimization problem had no optimal solution.\n"
     ]
    },
    {
     "name": "stdout",
     "output_type": "stream",
     "text": [
      "The CommonGround optimization problem had no optimal solution.\n",
      "The tCommonGround optimization problem had no optimal solution.\n",
      "The CommonGround optimization problem had no optimal solution.\n",
      "The tCommonGround optimization problem had no optimal solution.\n"
     ]
    },
    {
     "name": "stdout",
     "output_type": "stream",
     "text": [
      "The CommonGround optimization problem had no optimal solution.\n",
      "The tCommonGround optimization problem had no optimal solution.\n",
      "The CommonGround optimization problem had no optimal solution.\n",
      "The tCommonGround optimization problem had no optimal solution.\n"
     ]
    },
    {
     "name": "stdout",
     "output_type": "stream",
     "text": [
      "The CommonGround optimization problem had no optimal solution.\n",
      "The tCommonGround optimization problem had no optimal solution.\n",
      "The CommonGround optimization problem had no optimal solution.\n",
      "The tCommonGround optimization problem had no optimal solution.\n"
     ]
    },
    {
     "name": "stdout",
     "output_type": "stream",
     "text": [
      "The CommonGround optimization problem had no optimal solution.\n",
      "The tCommonGround optimization problem had no optimal solution.\n",
      "The CommonGround optimization problem had no optimal solution.\n",
      "The tCommonGround optimization problem had no optimal solution.\n"
     ]
    },
    {
     "name": "stdout",
     "output_type": "stream",
     "text": [
      "The CommonGround optimization problem had no optimal solution.\n",
      "The tCommonGround optimization problem had no optimal solution.\n",
      "The CommonGround optimization problem had no optimal solution.\n",
      "The tCommonGround optimization problem had no optimal solution.\n"
     ]
    },
    {
     "name": "stdout",
     "output_type": "stream",
     "text": [
      "The CommonGround optimization problem had no optimal solution.\n",
      "The tCommonGround optimization problem had no optimal solution.\n",
      "The CommonGround optimization problem had no optimal solution.\n",
      "The tCommonGround optimization problem had no optimal solution.\n"
     ]
    },
    {
     "name": "stdout",
     "output_type": "stream",
     "text": [
      "The CommonGround optimization problem had no optimal solution.\n",
      "The tCommonGround optimization problem had no optimal solution.\n",
      "The CommonGround optimization problem had no optimal solution.\n",
      "The tCommonGround optimization problem had no optimal solution.\n"
     ]
    },
    {
     "name": "stdout",
     "output_type": "stream",
     "text": [
      "The CommonGround optimization problem had no optimal solution.\n",
      "The tCommonGround optimization problem had no optimal solution.\n",
      "The CommonGround optimization problem had no optimal solution.\n",
      "The tCommonGround optimization problem had no optimal solution.\n"
     ]
    },
    {
     "name": "stdout",
     "output_type": "stream",
     "text": [
      "The CommonGround optimization problem had no optimal solution.\n",
      "The tCommonGround optimization problem had no optimal solution.\n",
      "The CommonGround optimization problem had no optimal solution.\n",
      "The tCommonGround optimization problem had no optimal solution.\n"
     ]
    },
    {
     "name": "stdout",
     "output_type": "stream",
     "text": [
      "The CommonGround optimization problem had no optimal solution.\n",
      "The tCommonGround optimization problem had no optimal solution.\n",
      "The CommonGround optimization problem had no optimal solution.\n",
      "The tCommonGround optimization problem had no optimal solution.\n"
     ]
    },
    {
     "name": "stdout",
     "output_type": "stream",
     "text": [
      "The CommonGround optimization problem had no optimal solution.\n",
      "The tCommonGround optimization problem had no optimal solution.\n",
      "The CommonGround optimization problem had no optimal solution.\n",
      "The tCommonGround optimization problem had no optimal solution.\n"
     ]
    },
    {
     "name": "stdout",
     "output_type": "stream",
     "text": [
      "The CommonGround optimization problem had no optimal solution.\n",
      "The tCommonGround optimization problem had no optimal solution.\n",
      "The CommonGround optimization problem had no optimal solution.\n",
      "The tCommonGround optimization problem had no optimal solution.\n"
     ]
    },
    {
     "name": "stdout",
     "output_type": "stream",
     "text": [
      "The CommonGround optimization problem had no optimal solution.\n",
      "The tCommonGround optimization problem had no optimal solution.\n",
      "The CommonGround optimization problem had no optimal solution.\n",
      "The tCommonGround optimization problem had no optimal solution.\n"
     ]
    },
    {
     "name": "stdout",
     "output_type": "stream",
     "text": [
      "The CommonGround optimization problem had no optimal solution.\n",
      "The tCommonGround optimization problem had no optimal solution.\n",
      "The CommonGround optimization problem had no optimal solution.\n",
      "The tCommonGround optimization problem had no optimal solution.\n"
     ]
    },
    {
     "name": "stdout",
     "output_type": "stream",
     "text": [
      "The CommonGround optimization problem had no optimal solution.\n",
      "The tCommonGround optimization problem had no optimal solution.\n",
      "The CommonGround optimization problem had no optimal solution.\n",
      "The tCommonGround optimization problem had no optimal solution.\n"
     ]
    },
    {
     "name": "stdout",
     "output_type": "stream",
     "text": [
      "The CommonGround optimization problem had no optimal solution.\n",
      "The tCommonGround optimization problem had no optimal solution.\n",
      "The CommonGround optimization problem had no optimal solution.\n",
      "The tCommonGround optimization problem had no optimal solution.\n"
     ]
    },
    {
     "name": "stdout",
     "output_type": "stream",
     "text": [
      "The CommonGround optimization problem had no optimal solution.\n",
      "The tCommonGround optimization problem had no optimal solution.\n",
      "The CommonGround optimization problem had no optimal solution.\n",
      "The tCommonGround optimization problem had no optimal solution.\n"
     ]
    },
    {
     "name": "stdout",
     "output_type": "stream",
     "text": [
      "The CommonGround optimization problem had no optimal solution.\n",
      "The tCommonGround optimization problem had no optimal solution.\n",
      "The CommonGround optimization problem had no optimal solution.\n",
      "The tCommonGround optimization problem had no optimal solution.\n"
     ]
    },
    {
     "name": "stdout",
     "output_type": "stream",
     "text": [
      "The CommonGround optimization problem had no optimal solution.\n",
      "The tCommonGround optimization problem had no optimal solution.\n",
      "The CommonGround optimization problem had no optimal solution.\n",
      "The tCommonGround optimization problem had no optimal solution.\n"
     ]
    },
    {
     "name": "stdout",
     "output_type": "stream",
     "text": [
      "The CommonGround optimization problem had no optimal solution.\n",
      "The tCommonGround optimization problem had no optimal solution.\n",
      "The CommonGround optimization problem had no optimal solution.\n",
      "The tCommonGround optimization problem had no optimal solution.\n"
     ]
    },
    {
     "name": "stdout",
     "output_type": "stream",
     "text": [
      "The CommonGround optimization problem had no optimal solution.\n",
      "The tCommonGround optimization problem had no optimal solution.\n",
      "The CommonGround optimization problem had no optimal solution.\n",
      "The tCommonGround optimization problem had no optimal solution.\n"
     ]
    },
    {
     "name": "stdout",
     "output_type": "stream",
     "text": [
      "The CommonGround optimization problem had no optimal solution.\n",
      "The tCommonGround optimization problem had no optimal solution.\n",
      "The CommonGround optimization problem had no optimal solution.\n",
      "The tCommonGround optimization problem had no optimal solution.\n"
     ]
    },
    {
     "name": "stdout",
     "output_type": "stream",
     "text": [
      "The CommonGround optimization problem had no optimal solution.\n",
      "The tCommonGround optimization problem had no optimal solution.\n",
      "The CommonGround optimization problem had no optimal solution.\n",
      "The tCommonGround optimization problem had no optimal solution.\n"
     ]
    },
    {
     "name": "stdout",
     "output_type": "stream",
     "text": [
      "The CommonGround optimization problem had no optimal solution.\n",
      "The tCommonGround optimization problem had no optimal solution.\n",
      "The CommonGround optimization problem had no optimal solution.\n",
      "The tCommonGround optimization problem had no optimal solution.\n"
     ]
    },
    {
     "name": "stdout",
     "output_type": "stream",
     "text": [
      "The CommonGround optimization problem had no optimal solution.\n",
      "The tCommonGround optimization problem had no optimal solution.\n",
      "The CommonGround optimization problem had no optimal solution.\n"
     ]
    },
    {
     "name": "stdout",
     "output_type": "stream",
     "text": [
      "The tCommonGround optimization problem had no optimal solution.\n",
      "The CommonGround optimization problem had no optimal solution.\n",
      "The tCommonGround optimization problem had no optimal solution.\n"
     ]
    },
    {
     "name": "stdout",
     "output_type": "stream",
     "text": [
      "The CommonGround optimization problem had no optimal solution.\n",
      "The tCommonGround optimization problem had no optimal solution.\n",
      "The CommonGround optimization problem had no optimal solution.\n",
      "The tCommonGround optimization problem had no optimal solution.\n"
     ]
    },
    {
     "name": "stdout",
     "output_type": "stream",
     "text": [
      "The CommonGround optimization problem had no optimal solution.\n",
      "The tCommonGround optimization problem had no optimal solution.\n",
      "The CommonGround optimization problem had no optimal solution.\n",
      "The tCommonGround optimization problem had no optimal solution.\n"
     ]
    },
    {
     "name": "stdout",
     "output_type": "stream",
     "text": [
      "The CommonGround optimization problem had no optimal solution.\n",
      "The tCommonGround optimization problem had no optimal solution.\n",
      "The CommonGround optimization problem had no optimal solution.\n",
      "The tCommonGround optimization problem had no optimal solution.\n"
     ]
    },
    {
     "name": "stdout",
     "output_type": "stream",
     "text": [
      "The CommonGround optimization problem had no optimal solution.\n",
      "The tCommonGround optimization problem had no optimal solution.\n",
      "The CommonGround optimization problem had no optimal solution.\n",
      "The tCommonGround optimization problem had no optimal solution.\n"
     ]
    },
    {
     "name": "stdout",
     "output_type": "stream",
     "text": [
      "The CommonGround optimization problem had no optimal solution.\n",
      "The tCommonGround optimization problem had no optimal solution.\n",
      "The CommonGround optimization problem had no optimal solution.\n",
      "The tCommonGround optimization problem had no optimal solution.\n"
     ]
    },
    {
     "name": "stdout",
     "output_type": "stream",
     "text": [
      "The CommonGround optimization problem had no optimal solution.\n",
      "The tCommonGround optimization problem had no optimal solution.\n"
     ]
    },
    {
     "name": "stdout",
     "output_type": "stream",
     "text": [
      "The CommonGround optimization problem had no optimal solution.\n",
      "The tCommonGround optimization problem had no optimal solution.\n",
      "The CommonGround optimization problem had no optimal solution.\n",
      "The tCommonGround optimization problem had no optimal solution.\n"
     ]
    },
    {
     "name": "stdout",
     "output_type": "stream",
     "text": [
      "The CommonGround optimization problem had no optimal solution.\n",
      "The tCommonGround optimization problem had no optimal solution.\n",
      "The CommonGround optimization problem had no optimal solution.\n",
      "The tCommonGround optimization problem had no optimal solution.\n"
     ]
    },
    {
     "name": "stdout",
     "output_type": "stream",
     "text": [
      "The CommonGround optimization problem had no optimal solution.\n",
      "The tCommonGround optimization problem had no optimal solution.\n",
      "The CommonGround optimization problem had no optimal solution.\n",
      "The tCommonGround optimization problem had no optimal solution.\n"
     ]
    },
    {
     "name": "stdout",
     "output_type": "stream",
     "text": [
      "The CommonGround optimization problem had no optimal solution.\n",
      "The tCommonGround optimization problem had no optimal solution.\n",
      "The CommonGround optimization problem had no optimal solution.\n",
      "The tCommonGround optimization problem had no optimal solution.\n"
     ]
    },
    {
     "name": "stdout",
     "output_type": "stream",
     "text": [
      "The CommonGround optimization problem had no optimal solution.\n",
      "The tCommonGround optimization problem had no optimal solution.\n",
      "The CommonGround optimization problem had no optimal solution.\n",
      "The tCommonGround optimization problem had no optimal solution.\n"
     ]
    },
    {
     "name": "stdout",
     "output_type": "stream",
     "text": [
      "The CommonGround optimization problem had no optimal solution.\n",
      "The tCommonGround optimization problem had no optimal solution.\n",
      "The CommonGround optimization problem had no optimal solution.\n",
      "The tCommonGround optimization problem had no optimal solution.\n"
     ]
    },
    {
     "name": "stdout",
     "output_type": "stream",
     "text": [
      "The CommonGround optimization problem had no optimal solution.\n",
      "The tCommonGround optimization problem had no optimal solution.\n",
      "The CommonGround optimization problem had no optimal solution.\n",
      "The tCommonGround optimization problem had no optimal solution.\n"
     ]
    },
    {
     "name": "stdout",
     "output_type": "stream",
     "text": [
      "The CommonGround optimization problem had no optimal solution.\n",
      "The tCommonGround optimization problem had no optimal solution.\n",
      "The CommonGround optimization problem had no optimal solution.\n",
      "The tCommonGround optimization problem had no optimal solution.\n"
     ]
    },
    {
     "name": "stdout",
     "output_type": "stream",
     "text": [
      "The CommonGround optimization problem had no optimal solution.\n",
      "The tCommonGround optimization problem had no optimal solution.\n",
      "The CommonGround optimization problem had no optimal solution.\n",
      "The tCommonGround optimization problem had no optimal solution.\n"
     ]
    },
    {
     "name": "stdout",
     "output_type": "stream",
     "text": [
      "The CommonGround optimization problem had no optimal solution.\n",
      "The tCommonGround optimization problem had no optimal solution.\n",
      "The CommonGround optimization problem had no optimal solution.\n",
      "The tCommonGround optimization problem had no optimal solution.\n"
     ]
    },
    {
     "name": "stdout",
     "output_type": "stream",
     "text": [
      "The CommonGround optimization problem had no optimal solution.\n",
      "The tCommonGround optimization problem had no optimal solution.\n",
      "The CommonGround optimization problem had no optimal solution.\n",
      "The tCommonGround optimization problem had no optimal solution.\n"
     ]
    },
    {
     "name": "stdout",
     "output_type": "stream",
     "text": [
      "The CommonGround optimization problem had no optimal solution.\n",
      "The tCommonGround optimization problem had no optimal solution.\n",
      "The CommonGround optimization problem had no optimal solution.\n",
      "The tCommonGround optimization problem had no optimal solution.\n"
     ]
    },
    {
     "name": "stdout",
     "output_type": "stream",
     "text": [
      "The CommonGround optimization problem had no optimal solution.\n",
      "The tCommonGround optimization problem had no optimal solution.\n",
      "The CommonGround optimization problem had no optimal solution.\n",
      "The tCommonGround optimization problem had no optimal solution.\n"
     ]
    },
    {
     "name": "stdout",
     "output_type": "stream",
     "text": [
      "The CommonGround optimization problem had no optimal solution.\n",
      "The tCommonGround optimization problem had no optimal solution.\n",
      "The CommonGround optimization problem had no optimal solution.\n",
      "The tCommonGround optimization problem had no optimal solution.\n"
     ]
    },
    {
     "name": "stdout",
     "output_type": "stream",
     "text": [
      "The CommonGround optimization problem had no optimal solution.\n",
      "The tCommonGround optimization problem had no optimal solution.\n",
      "The CommonGround optimization problem had no optimal solution.\n",
      "The tCommonGround optimization problem had no optimal solution.\n"
     ]
    },
    {
     "name": "stdout",
     "output_type": "stream",
     "text": [
      "The CommonGround optimization problem had no optimal solution.\n",
      "The tCommonGround optimization problem had no optimal solution.\n",
      "The CommonGround optimization problem had no optimal solution.\n",
      "The tCommonGround optimization problem had no optimal solution.\n"
     ]
    },
    {
     "name": "stdout",
     "output_type": "stream",
     "text": [
      "The CommonGround optimization problem had no optimal solution.\n",
      "The tCommonGround optimization problem had no optimal solution.\n",
      "The CommonGround optimization problem had no optimal solution.\n",
      "The tCommonGround optimization problem had no optimal solution.\n"
     ]
    },
    {
     "name": "stdout",
     "output_type": "stream",
     "text": [
      "The CommonGround optimization problem had no optimal solution.\n",
      "The tCommonGround optimization problem had no optimal solution.\n",
      "The CommonGround optimization problem had no optimal solution.\n",
      "The tCommonGround optimization problem had no optimal solution.\n"
     ]
    },
    {
     "name": "stdout",
     "output_type": "stream",
     "text": [
      "The CommonGround optimization problem had no optimal solution.\n",
      "The tCommonGround optimization problem had no optimal solution.\n",
      "The CommonGround optimization problem had no optimal solution.\n",
      "The tCommonGround optimization problem had no optimal solution.\n"
     ]
    },
    {
     "name": "stdout",
     "output_type": "stream",
     "text": [
      "The CommonGround optimization problem had no optimal solution.\n",
      "The tCommonGround optimization problem had no optimal solution.\n",
      "The CommonGround optimization problem had no optimal solution.\n",
      "The tCommonGround optimization problem had no optimal solution.\n"
     ]
    },
    {
     "name": "stdout",
     "output_type": "stream",
     "text": [
      "The CommonGround optimization problem had no optimal solution.\n",
      "The tCommonGround optimization problem had no optimal solution.\n",
      "The CommonGround optimization problem had no optimal solution.\n",
      "The tCommonGround optimization problem had no optimal solution.\n"
     ]
    },
    {
     "name": "stdout",
     "output_type": "stream",
     "text": [
      "The CommonGround optimization problem had no optimal solution.\n",
      "The tCommonGround optimization problem had no optimal solution.\n",
      "The CommonGround optimization problem had no optimal solution.\n",
      "The tCommonGround optimization problem had no optimal solution.\n"
     ]
    },
    {
     "name": "stdout",
     "output_type": "stream",
     "text": [
      "The CommonGround optimization problem had no optimal solution.\n",
      "The tCommonGround optimization problem had no optimal solution.\n",
      "The CommonGround optimization problem had no optimal solution.\n",
      "The tCommonGround optimization problem had no optimal solution.\n"
     ]
    },
    {
     "name": "stdout",
     "output_type": "stream",
     "text": [
      "The CommonGround optimization problem had no optimal solution.\n",
      "The tCommonGround optimization problem had no optimal solution.\n",
      "The CommonGround optimization problem had no optimal solution.\n",
      "The tCommonGround optimization problem had no optimal solution.\n"
     ]
    },
    {
     "name": "stdout",
     "output_type": "stream",
     "text": [
      "The CommonGround optimization problem had no optimal solution.\n",
      "The tCommonGround optimization problem had no optimal solution.\n",
      "The CommonGround optimization problem had no optimal solution.\n",
      "The tCommonGround optimization problem had no optimal solution.\n"
     ]
    },
    {
     "name": "stdout",
     "output_type": "stream",
     "text": [
      "The CommonGround optimization problem had no optimal solution.\n",
      "The tCommonGround optimization problem had no optimal solution.\n",
      "The CommonGround optimization problem had no optimal solution.\n",
      "The tCommonGround optimization problem had no optimal solution.\n"
     ]
    },
    {
     "name": "stdout",
     "output_type": "stream",
     "text": [
      "The CommonGround optimization problem had no optimal solution.\n",
      "The tCommonGround optimization problem had no optimal solution.\n",
      "The CommonGround optimization problem had no optimal solution.\n",
      "The tCommonGround optimization problem had no optimal solution.\n"
     ]
    },
    {
     "name": "stdout",
     "output_type": "stream",
     "text": [
      "The CommonGround optimization problem had no optimal solution.\n",
      "The tCommonGround optimization problem had no optimal solution.\n",
      "The CommonGround optimization problem had no optimal solution.\n",
      "The tCommonGround optimization problem had no optimal solution.\n"
     ]
    },
    {
     "name": "stdout",
     "output_type": "stream",
     "text": [
      "The CommonGround optimization problem had no optimal solution.\n",
      "The tCommonGround optimization problem had no optimal solution.\n",
      "The CommonGround optimization problem had no optimal solution.\n",
      "The tCommonGround optimization problem had no optimal solution.\n"
     ]
    },
    {
     "name": "stdout",
     "output_type": "stream",
     "text": [
      "The CommonGround optimization problem had no optimal solution.\n",
      "The tCommonGround optimization problem had no optimal solution.\n",
      "The CommonGround optimization problem had no optimal solution.\n",
      "The tCommonGround optimization problem had no optimal solution.\n"
     ]
    },
    {
     "name": "stdout",
     "output_type": "stream",
     "text": [
      "The CommonGround optimization problem had no optimal solution.\n",
      "The tCommonGround optimization problem had no optimal solution.\n",
      "The CommonGround optimization problem had no optimal solution.\n",
      "The tCommonGround optimization problem had no optimal solution.\n"
     ]
    },
    {
     "name": "stdout",
     "output_type": "stream",
     "text": [
      "The CommonGround optimization problem had no optimal solution.\n",
      "The tCommonGround optimization problem had no optimal solution.\n",
      "The CommonGround optimization problem had no optimal solution.\n",
      "The tCommonGround optimization problem had no optimal solution.\n"
     ]
    },
    {
     "name": "stdout",
     "output_type": "stream",
     "text": [
      "The CommonGround optimization problem had no optimal solution.\n",
      "The tCommonGround optimization problem had no optimal solution.\n",
      "The CommonGround optimization problem had no optimal solution.\n",
      "The tCommonGround optimization problem had no optimal solution.\n"
     ]
    },
    {
     "name": "stdout",
     "output_type": "stream",
     "text": [
      "The CommonGround optimization problem had no optimal solution.\n",
      "The tCommonGround optimization problem had no optimal solution.\n",
      "The CommonGround optimization problem had no optimal solution.\n",
      "The tCommonGround optimization problem had no optimal solution.\n"
     ]
    },
    {
     "name": "stdout",
     "output_type": "stream",
     "text": [
      "The CommonGround optimization problem had no optimal solution.\n",
      "The tCommonGround optimization problem had no optimal solution.\n",
      "The CommonGround optimization problem had no optimal solution.\n",
      "The tCommonGround optimization problem had no optimal solution.\n"
     ]
    },
    {
     "name": "stdout",
     "output_type": "stream",
     "text": [
      "The CommonGround optimization problem had no optimal solution.\n",
      "The tCommonGround optimization problem had no optimal solution.\n",
      "The CommonGround optimization problem had no optimal solution.\n",
      "The tCommonGround optimization problem had no optimal solution.\n"
     ]
    },
    {
     "name": "stdout",
     "output_type": "stream",
     "text": [
      "The CommonGround optimization problem had no optimal solution.\n",
      "The tCommonGround optimization problem had no optimal solution.\n",
      "The CommonGround optimization problem had no optimal solution.\n",
      "The tCommonGround optimization problem had no optimal solution.\n"
     ]
    },
    {
     "name": "stdout",
     "output_type": "stream",
     "text": [
      "The CommonGround optimization problem had no optimal solution.\n",
      "The tCommonGround optimization problem had no optimal solution.\n",
      "The CommonGround optimization problem had no optimal solution.\n",
      "The tCommonGround optimization problem had no optimal solution.\n"
     ]
    },
    {
     "name": "stdout",
     "output_type": "stream",
     "text": [
      "The CommonGround optimization problem had no optimal solution.\n",
      "The tCommonGround optimization problem had no optimal solution.\n",
      "The CommonGround optimization problem had no optimal solution.\n",
      "The tCommonGround optimization problem had no optimal solution.\n"
     ]
    },
    {
     "name": "stdout",
     "output_type": "stream",
     "text": [
      "The CommonGround optimization problem had no optimal solution.\n",
      "The tCommonGround optimization problem had no optimal solution.\n",
      "The CommonGround optimization problem had no optimal solution.\n",
      "The tCommonGround optimization problem had no optimal solution.\n"
     ]
    },
    {
     "name": "stdout",
     "output_type": "stream",
     "text": [
      "The CommonGround optimization problem had no optimal solution.\n",
      "The tCommonGround optimization problem had no optimal solution.\n",
      "The CommonGround optimization problem had no optimal solution.\n",
      "The tCommonGround optimization problem had no optimal solution.\n"
     ]
    },
    {
     "name": "stdout",
     "output_type": "stream",
     "text": [
      "The CommonGround optimization problem had no optimal solution.\n",
      "The tCommonGround optimization problem had no optimal solution.\n",
      "The CommonGround optimization problem had no optimal solution.\n",
      "The tCommonGround optimization problem had no optimal solution.\n"
     ]
    },
    {
     "name": "stdout",
     "output_type": "stream",
     "text": [
      "The CommonGround optimization problem had no optimal solution.\n",
      "The tCommonGround optimization problem had no optimal solution.\n",
      "The CommonGround optimization problem had no optimal solution.\n",
      "The tCommonGround optimization problem had no optimal solution.\n"
     ]
    },
    {
     "name": "stdout",
     "output_type": "stream",
     "text": [
      "The CommonGround optimization problem had no optimal solution.\n",
      "The tCommonGround optimization problem had no optimal solution.\n",
      "The CommonGround optimization problem had no optimal solution.\n",
      "The tCommonGround optimization problem had no optimal solution.\n"
     ]
    },
    {
     "name": "stdout",
     "output_type": "stream",
     "text": [
      "The CommonGround optimization problem had no optimal solution.\n",
      "The tCommonGround optimization problem had no optimal solution.\n",
      "The CommonGround optimization problem had no optimal solution.\n",
      "The tCommonGround optimization problem had no optimal solution.\n"
     ]
    },
    {
     "name": "stdout",
     "output_type": "stream",
     "text": [
      "The CommonGround optimization problem had no optimal solution.\n",
      "The tCommonGround optimization problem had no optimal solution.\n",
      "The CommonGround optimization problem had no optimal solution.\n",
      "The tCommonGround optimization problem had no optimal solution.\n"
     ]
    },
    {
     "name": "stdout",
     "output_type": "stream",
     "text": [
      "The CommonGround optimization problem had no optimal solution.\n",
      "The tCommonGround optimization problem had no optimal solution.\n",
      "The CommonGround optimization problem had no optimal solution.\n",
      "The tCommonGround optimization problem had no optimal solution.\n"
     ]
    },
    {
     "name": "stdout",
     "output_type": "stream",
     "text": [
      "The CommonGround optimization problem had no optimal solution.\n",
      "The tCommonGround optimization problem had no optimal solution.\n",
      "The CommonGround optimization problem had no optimal solution.\n",
      "The tCommonGround optimization problem had no optimal solution.\n"
     ]
    },
    {
     "name": "stdout",
     "output_type": "stream",
     "text": [
      "The CommonGround optimization problem had no optimal solution.\n",
      "The tCommonGround optimization problem had no optimal solution.\n",
      "The CommonGround optimization problem had no optimal solution.\n",
      "The tCommonGround optimization problem had no optimal solution.\n"
     ]
    },
    {
     "name": "stdout",
     "output_type": "stream",
     "text": [
      "The CommonGround optimization problem had no optimal solution.\n",
      "The tCommonGround optimization problem had no optimal solution.\n",
      "The CommonGround optimization problem had no optimal solution.\n",
      "The tCommonGround optimization problem had no optimal solution.\n"
     ]
    },
    {
     "name": "stdout",
     "output_type": "stream",
     "text": [
      "The CommonGround optimization problem had no optimal solution.\n",
      "The tCommonGround optimization problem had no optimal solution.\n",
      "The CommonGround optimization problem had no optimal solution.\n",
      "The tCommonGround optimization problem had no optimal solution.\n"
     ]
    },
    {
     "name": "stdout",
     "output_type": "stream",
     "text": [
      "The CommonGround optimization problem had no optimal solution.\n",
      "The tCommonGround optimization problem had no optimal solution.\n",
      "The CommonGround optimization problem had no optimal solution.\n"
     ]
    },
    {
     "name": "stdout",
     "output_type": "stream",
     "text": [
      "The tCommonGround optimization problem had no optimal solution.\n",
      "The CommonGround optimization problem had no optimal solution.\n",
      "The tCommonGround optimization problem had no optimal solution.\n"
     ]
    },
    {
     "name": "stdout",
     "output_type": "stream",
     "text": [
      "The CommonGround optimization problem had no optimal solution.\n",
      "The tCommonGround optimization problem had no optimal solution.\n",
      "The CommonGround optimization problem had no optimal solution.\n",
      "The tCommonGround optimization problem had no optimal solution.\n"
     ]
    },
    {
     "name": "stdout",
     "output_type": "stream",
     "text": [
      "The CommonGround optimization problem had no optimal solution.\n",
      "The tCommonGround optimization problem had no optimal solution.\n",
      "The CommonGround optimization problem had no optimal solution.\n",
      "The tCommonGround optimization problem had no optimal solution.\n"
     ]
    },
    {
     "name": "stdout",
     "output_type": "stream",
     "text": [
      "The CommonGround optimization problem had no optimal solution.\n",
      "The tCommonGround optimization problem had no optimal solution.\n",
      "The CommonGround optimization problem had no optimal solution.\n",
      "The tCommonGround optimization problem had no optimal solution.\n"
     ]
    },
    {
     "name": "stdout",
     "output_type": "stream",
     "text": [
      "The CommonGround optimization problem had no optimal solution.\n",
      "The tCommonGround optimization problem had no optimal solution.\n",
      "The CommonGround optimization problem had no optimal solution.\n",
      "The tCommonGround optimization problem had no optimal solution.\n"
     ]
    },
    {
     "name": "stdout",
     "output_type": "stream",
     "text": [
      "The CommonGround optimization problem had no optimal solution.\n",
      "The tCommonGround optimization problem had no optimal solution.\n",
      "The CommonGround optimization problem had no optimal solution.\n",
      "The tCommonGround optimization problem had no optimal solution.\n"
     ]
    },
    {
     "name": "stdout",
     "output_type": "stream",
     "text": [
      "The CommonGround optimization problem had no optimal solution.\n",
      "The tCommonGround optimization problem had no optimal solution.\n",
      "The CommonGround optimization problem had no optimal solution.\n",
      "The tCommonGround optimization problem had no optimal solution.\n"
     ]
    },
    {
     "name": "stdout",
     "output_type": "stream",
     "text": [
      "The CommonGround optimization problem had no optimal solution.\n",
      "The tCommonGround optimization problem had no optimal solution.\n",
      "The CommonGround optimization problem had no optimal solution.\n",
      "The tCommonGround optimization problem had no optimal solution.\n"
     ]
    },
    {
     "name": "stdout",
     "output_type": "stream",
     "text": [
      "The CommonGround optimization problem had no optimal solution.\n",
      "The tCommonGround optimization problem had no optimal solution.\n",
      "The CommonGround optimization problem had no optimal solution.\n",
      "The tCommonGround optimization problem had no optimal solution.\n"
     ]
    },
    {
     "name": "stdout",
     "output_type": "stream",
     "text": [
      "The CommonGround optimization problem had no optimal solution.\n",
      "The tCommonGround optimization problem had no optimal solution.\n",
      "The CommonGround optimization problem had no optimal solution.\n",
      "The tCommonGround optimization problem had no optimal solution.\n"
     ]
    },
    {
     "name": "stdout",
     "output_type": "stream",
     "text": [
      "The CommonGround optimization problem had no optimal solution.\n",
      "The tCommonGround optimization problem had no optimal solution.\n",
      "The CommonGround optimization problem had no optimal solution.\n",
      "The tCommonGround optimization problem had no optimal solution.\n"
     ]
    },
    {
     "name": "stdout",
     "output_type": "stream",
     "text": [
      "The CommonGround optimization problem had no optimal solution.\n",
      "The tCommonGround optimization problem had no optimal solution.\n",
      "The CommonGround optimization problem had no optimal solution.\n",
      "The tCommonGround optimization problem had no optimal solution.\n"
     ]
    },
    {
     "name": "stdout",
     "output_type": "stream",
     "text": [
      "The CommonGround optimization problem had no optimal solution.\n",
      "The tCommonGround optimization problem had no optimal solution.\n",
      "The CommonGround optimization problem had no optimal solution.\n",
      "The tCommonGround optimization problem had no optimal solution.\n"
     ]
    },
    {
     "name": "stdout",
     "output_type": "stream",
     "text": [
      "The CommonGround optimization problem had no optimal solution.\n",
      "The tCommonGround optimization problem had no optimal solution.\n",
      "The CommonGround optimization problem had no optimal solution.\n",
      "The tCommonGround optimization problem had no optimal solution.\n"
     ]
    },
    {
     "name": "stdout",
     "output_type": "stream",
     "text": [
      "The CommonGround optimization problem had no optimal solution.\n",
      "The tCommonGround optimization problem had no optimal solution.\n",
      "The CommonGround optimization problem had no optimal solution.\n",
      "The tCommonGround optimization problem had no optimal solution.\n"
     ]
    },
    {
     "name": "stdout",
     "output_type": "stream",
     "text": [
      "The CommonGround optimization problem had no optimal solution.\n",
      "The tCommonGround optimization problem had no optimal solution.\n",
      "The CommonGround optimization problem had no optimal solution.\n",
      "The tCommonGround optimization problem had no optimal solution.\n"
     ]
    },
    {
     "name": "stdout",
     "output_type": "stream",
     "text": [
      "The CommonGround optimization problem had no optimal solution.\n",
      "The tCommonGround optimization problem had no optimal solution.\n",
      "The CommonGround optimization problem had no optimal solution.\n",
      "The tCommonGround optimization problem had no optimal solution.\n"
     ]
    },
    {
     "name": "stdout",
     "output_type": "stream",
     "text": [
      "The CommonGround optimization problem had no optimal solution.\n",
      "The tCommonGround optimization problem had no optimal solution.\n",
      "The CommonGround optimization problem had no optimal solution.\n",
      "The tCommonGround optimization problem had no optimal solution.\n"
     ]
    },
    {
     "name": "stdout",
     "output_type": "stream",
     "text": [
      "The CommonGround optimization problem had no optimal solution.\n",
      "The tCommonGround optimization problem had no optimal solution.\n",
      "The CommonGround optimization problem had no optimal solution.\n",
      "The tCommonGround optimization problem had no optimal solution.\n"
     ]
    },
    {
     "name": "stdout",
     "output_type": "stream",
     "text": [
      "The CommonGround optimization problem had no optimal solution.\n",
      "The tCommonGround optimization problem had no optimal solution.\n",
      "The CommonGround optimization problem had no optimal solution.\n",
      "The tCommonGround optimization problem had no optimal solution.\n"
     ]
    },
    {
     "name": "stdout",
     "output_type": "stream",
     "text": [
      "The CommonGround optimization problem had no optimal solution.\n",
      "The tCommonGround optimization problem had no optimal solution.\n",
      "The CommonGround optimization problem had no optimal solution.\n",
      "The tCommonGround optimization problem had no optimal solution.\n"
     ]
    },
    {
     "name": "stdout",
     "output_type": "stream",
     "text": [
      "The CommonGround optimization problem had no optimal solution.\n",
      "The tCommonGround optimization problem had no optimal solution.\n",
      "The CommonGround optimization problem had no optimal solution.\n",
      "The tCommonGround optimization problem had no optimal solution.\n"
     ]
    },
    {
     "name": "stdout",
     "output_type": "stream",
     "text": [
      "The CommonGround optimization problem had no optimal solution.\n",
      "The tCommonGround optimization problem had no optimal solution.\n",
      "The CommonGround optimization problem had no optimal solution.\n",
      "The tCommonGround optimization problem had no optimal solution.\n"
     ]
    },
    {
     "name": "stdout",
     "output_type": "stream",
     "text": [
      "The CommonGround optimization problem had no optimal solution.\n",
      "The tCommonGround optimization problem had no optimal solution.\n",
      "The CommonGround optimization problem had no optimal solution.\n",
      "The tCommonGround optimization problem had no optimal solution.\n"
     ]
    },
    {
     "name": "stdout",
     "output_type": "stream",
     "text": [
      "The CommonGround optimization problem had no optimal solution.\n",
      "The tCommonGround optimization problem had no optimal solution.\n",
      "The CommonGround optimization problem had no optimal solution.\n",
      "The tCommonGround optimization problem had no optimal solution.\n"
     ]
    },
    {
     "name": "stdout",
     "output_type": "stream",
     "text": [
      "The CommonGround optimization problem had no optimal solution.\n",
      "The tCommonGround optimization problem had no optimal solution.\n",
      "The CommonGround optimization problem had no optimal solution.\n",
      "The tCommonGround optimization problem had no optimal solution.\n"
     ]
    },
    {
     "name": "stdout",
     "output_type": "stream",
     "text": [
      "The CommonGround optimization problem had no optimal solution.\n",
      "The tCommonGround optimization problem had no optimal solution.\n",
      "The CommonGround optimization problem had no optimal solution.\n",
      "The tCommonGround optimization problem had no optimal solution.\n"
     ]
    },
    {
     "name": "stdout",
     "output_type": "stream",
     "text": [
      "The CommonGround optimization problem had no optimal solution.\n",
      "The tCommonGround optimization problem had no optimal solution.\n",
      "The CommonGround optimization problem had no optimal solution.\n",
      "The tCommonGround optimization problem had no optimal solution.\n"
     ]
    },
    {
     "name": "stdout",
     "output_type": "stream",
     "text": [
      "The CommonGround optimization problem had no optimal solution.\n",
      "The tCommonGround optimization problem had no optimal solution.\n",
      "The CommonGround optimization problem had no optimal solution.\n",
      "The tCommonGround optimization problem had no optimal solution.\n"
     ]
    },
    {
     "name": "stdout",
     "output_type": "stream",
     "text": [
      "The CommonGround optimization problem had no optimal solution.\n",
      "The tCommonGround optimization problem had no optimal solution.\n",
      "The CommonGround optimization problem had no optimal solution.\n",
      "The tCommonGround optimization problem had no optimal solution.\n"
     ]
    },
    {
     "name": "stdout",
     "output_type": "stream",
     "text": [
      "The CommonGround optimization problem had no optimal solution.\n",
      "The tCommonGround optimization problem had no optimal solution.\n",
      "The CommonGround optimization problem had no optimal solution.\n",
      "The tCommonGround optimization problem had no optimal solution.\n"
     ]
    },
    {
     "name": "stdout",
     "output_type": "stream",
     "text": [
      "The CommonGround optimization problem had no optimal solution.\n",
      "The tCommonGround optimization problem had no optimal solution.\n"
     ]
    },
    {
     "name": "stdout",
     "output_type": "stream",
     "text": [
      "The CommonGround optimization problem had no optimal solution.\n",
      "The tCommonGround optimization problem had no optimal solution.\n",
      "The CommonGround optimization problem had no optimal solution.\n",
      "The tCommonGround optimization problem had no optimal solution.\n"
     ]
    },
    {
     "name": "stdout",
     "output_type": "stream",
     "text": [
      "The CommonGround optimization problem had no optimal solution.\n",
      "The tCommonGround optimization problem had no optimal solution.\n",
      "The CommonGround optimization problem had no optimal solution.\n",
      "The tCommonGround optimization problem had no optimal solution.\n"
     ]
    },
    {
     "name": "stdout",
     "output_type": "stream",
     "text": [
      "The CommonGround optimization problem had no optimal solution.\n",
      "The tCommonGround optimization problem had no optimal solution.\n",
      "The CommonGround optimization problem had no optimal solution.\n",
      "The tCommonGround optimization problem had no optimal solution.\n"
     ]
    },
    {
     "name": "stdout",
     "output_type": "stream",
     "text": [
      "The CommonGround optimization problem had no optimal solution.\n",
      "The tCommonGround optimization problem had no optimal solution.\n",
      "The CommonGround optimization problem had no optimal solution.\n",
      "The tCommonGround optimization problem had no optimal solution.\n"
     ]
    },
    {
     "name": "stdout",
     "output_type": "stream",
     "text": [
      "The CommonGround optimization problem had no optimal solution.\n",
      "The tCommonGround optimization problem had no optimal solution.\n",
      "The CommonGround optimization problem had no optimal solution.\n",
      "The tCommonGround optimization problem had no optimal solution.\n"
     ]
    },
    {
     "name": "stdout",
     "output_type": "stream",
     "text": [
      "The CommonGround optimization problem had no optimal solution.\n",
      "The tCommonGround optimization problem had no optimal solution.\n",
      "The CommonGround optimization problem had no optimal solution.\n",
      "The tCommonGround optimization problem had no optimal solution.\n"
     ]
    },
    {
     "name": "stdout",
     "output_type": "stream",
     "text": [
      "The CommonGround optimization problem had no optimal solution.\n",
      "The tCommonGround optimization problem had no optimal solution.\n",
      "The CommonGround optimization problem had no optimal solution.\n",
      "The tCommonGround optimization problem had no optimal solution.\n"
     ]
    },
    {
     "name": "stdout",
     "output_type": "stream",
     "text": [
      "The CommonGround optimization problem had no optimal solution.\n",
      "The tCommonGround optimization problem had no optimal solution.\n",
      "The CommonGround optimization problem had no optimal solution.\n",
      "The tCommonGround optimization problem had no optimal solution.\n"
     ]
    },
    {
     "name": "stdout",
     "output_type": "stream",
     "text": [
      "The CommonGround optimization problem had no optimal solution.\n",
      "The tCommonGround optimization problem had no optimal solution.\n",
      "The CommonGround optimization problem had no optimal solution.\n",
      "The tCommonGround optimization problem had no optimal solution.\n"
     ]
    },
    {
     "name": "stdout",
     "output_type": "stream",
     "text": [
      "The CommonGround optimization problem had no optimal solution.\n",
      "The tCommonGround optimization problem had no optimal solution.\n",
      "The CommonGround optimization problem had no optimal solution.\n",
      "The tCommonGround optimization problem had no optimal solution.\n"
     ]
    },
    {
     "name": "stdout",
     "output_type": "stream",
     "text": [
      "The CommonGround optimization problem had no optimal solution.\n",
      "The tCommonGround optimization problem had no optimal solution.\n",
      "The CommonGround optimization problem had no optimal solution.\n",
      "The tCommonGround optimization problem had no optimal solution.\n"
     ]
    },
    {
     "name": "stdout",
     "output_type": "stream",
     "text": [
      "The CommonGround optimization problem had no optimal solution.\n",
      "The tCommonGround optimization problem had no optimal solution.\n",
      "The CommonGround optimization problem had no optimal solution.\n",
      "The tCommonGround optimization problem had no optimal solution.\n"
     ]
    },
    {
     "name": "stdout",
     "output_type": "stream",
     "text": [
      "The CommonGround optimization problem had no optimal solution.\n",
      "The tCommonGround optimization problem had no optimal solution.\n",
      "The CommonGround optimization problem had no optimal solution.\n",
      "The tCommonGround optimization problem had no optimal solution.\n"
     ]
    },
    {
     "name": "stdout",
     "output_type": "stream",
     "text": [
      "The CommonGround optimization problem had no optimal solution.\n",
      "The tCommonGround optimization problem had no optimal solution.\n",
      "The CommonGround optimization problem had no optimal solution.\n",
      "The tCommonGround optimization problem had no optimal solution.\n"
     ]
    },
    {
     "name": "stdout",
     "output_type": "stream",
     "text": [
      "The CommonGround optimization problem had no optimal solution.\n",
      "The tCommonGround optimization problem had no optimal solution.\n",
      "The CommonGround optimization problem had no optimal solution.\n",
      "The tCommonGround optimization problem had no optimal solution.\n"
     ]
    },
    {
     "name": "stdout",
     "output_type": "stream",
     "text": [
      "The CommonGround optimization problem had no optimal solution.\n",
      "The tCommonGround optimization problem had no optimal solution.\n",
      "The CommonGround optimization problem had no optimal solution.\n",
      "The tCommonGround optimization problem had no optimal solution.\n"
     ]
    },
    {
     "name": "stdout",
     "output_type": "stream",
     "text": [
      "The CommonGround optimization problem had no optimal solution.\n",
      "The tCommonGround optimization problem had no optimal solution.\n",
      "The CommonGround optimization problem had no optimal solution.\n",
      "The tCommonGround optimization problem had no optimal solution.\n"
     ]
    },
    {
     "name": "stdout",
     "output_type": "stream",
     "text": [
      "The CommonGround optimization problem had no optimal solution.\n",
      "The tCommonGround optimization problem had no optimal solution.\n",
      "The CommonGround optimization problem had no optimal solution.\n",
      "The tCommonGround optimization problem had no optimal solution.\n"
     ]
    },
    {
     "name": "stdout",
     "output_type": "stream",
     "text": [
      "The CommonGround optimization problem had no optimal solution.\n",
      "The tCommonGround optimization problem had no optimal solution.\n",
      "The CommonGround optimization problem had no optimal solution.\n",
      "The tCommonGround optimization problem had no optimal solution.\n"
     ]
    },
    {
     "name": "stdout",
     "output_type": "stream",
     "text": [
      "The CommonGround optimization problem had no optimal solution.\n",
      "The tCommonGround optimization problem had no optimal solution.\n",
      "The CommonGround optimization problem had no optimal solution.\n",
      "The tCommonGround optimization problem had no optimal solution.\n"
     ]
    },
    {
     "name": "stdout",
     "output_type": "stream",
     "text": [
      "The CommonGround optimization problem had no optimal solution.\n",
      "The tCommonGround optimization problem had no optimal solution.\n",
      "The CommonGround optimization problem had no optimal solution.\n",
      "The tCommonGround optimization problem had no optimal solution.\n"
     ]
    },
    {
     "name": "stdout",
     "output_type": "stream",
     "text": [
      "The CommonGround optimization problem had no optimal solution.\n",
      "The tCommonGround optimization problem had no optimal solution.\n",
      "The CommonGround optimization problem had no optimal solution.\n",
      "The tCommonGround optimization problem had no optimal solution.\n"
     ]
    },
    {
     "name": "stdout",
     "output_type": "stream",
     "text": [
      "The CommonGround optimization problem had no optimal solution.\n",
      "The tCommonGround optimization problem had no optimal solution.\n",
      "The CommonGround optimization problem had no optimal solution.\n",
      "The tCommonGround optimization problem had no optimal solution.\n"
     ]
    },
    {
     "name": "stdout",
     "output_type": "stream",
     "text": [
      "The CommonGround optimization problem had no optimal solution.\n",
      "The tCommonGround optimization problem had no optimal solution.\n",
      "The CommonGround optimization problem had no optimal solution.\n",
      "The tCommonGround optimization problem had no optimal solution.\n"
     ]
    },
    {
     "name": "stdout",
     "output_type": "stream",
     "text": [
      "The CommonGround optimization problem had no optimal solution.\n",
      "The tCommonGround optimization problem had no optimal solution.\n",
      "The CommonGround optimization problem had no optimal solution.\n",
      "The tCommonGround optimization problem had no optimal solution.\n"
     ]
    },
    {
     "name": "stdout",
     "output_type": "stream",
     "text": [
      "The CommonGround optimization problem had no optimal solution.\n",
      "The tCommonGround optimization problem had no optimal solution.\n",
      "The CommonGround optimization problem had no optimal solution.\n",
      "The tCommonGround optimization problem had no optimal solution.\n"
     ]
    },
    {
     "name": "stdout",
     "output_type": "stream",
     "text": [
      "The CommonGround optimization problem had no optimal solution.\n",
      "The tCommonGround optimization problem had no optimal solution.\n",
      "The CommonGround optimization problem had no optimal solution.\n",
      "The tCommonGround optimization problem had no optimal solution.\n"
     ]
    },
    {
     "name": "stdout",
     "output_type": "stream",
     "text": [
      "The CommonGround optimization problem had no optimal solution.\n",
      "The tCommonGround optimization problem had no optimal solution.\n",
      "The CommonGround optimization problem had no optimal solution.\n",
      "The tCommonGround optimization problem had no optimal solution.\n"
     ]
    },
    {
     "name": "stdout",
     "output_type": "stream",
     "text": [
      "The CommonGround optimization problem had no optimal solution.\n",
      "The tCommonGround optimization problem had no optimal solution.\n",
      "The CommonGround optimization problem had no optimal solution.\n",
      "The tCommonGround optimization problem had no optimal solution.\n"
     ]
    },
    {
     "name": "stdout",
     "output_type": "stream",
     "text": [
      "The CommonGround optimization problem had no optimal solution.\n",
      "The tCommonGround optimization problem had no optimal solution.\n",
      "The CommonGround optimization problem had no optimal solution.\n",
      "The tCommonGround optimization problem had no optimal solution.\n"
     ]
    },
    {
     "name": "stdout",
     "output_type": "stream",
     "text": [
      "The CommonGround optimization problem had no optimal solution.\n",
      "The tCommonGround optimization problem had no optimal solution.\n",
      "The CommonGround optimization problem had no optimal solution.\n",
      "The tCommonGround optimization problem had no optimal solution.\n"
     ]
    },
    {
     "name": "stdout",
     "output_type": "stream",
     "text": [
      "The CommonGround optimization problem had no optimal solution.\n",
      "The tCommonGround optimization problem had no optimal solution.\n",
      "The CommonGround optimization problem had no optimal solution.\n",
      "The tCommonGround optimization problem had no optimal solution.\n"
     ]
    },
    {
     "name": "stdout",
     "output_type": "stream",
     "text": [
      "The CommonGround optimization problem had no optimal solution.\n",
      "The tCommonGround optimization problem had no optimal solution.\n",
      "The CommonGround optimization problem had no optimal solution.\n",
      "The tCommonGround optimization problem had no optimal solution.\n"
     ]
    },
    {
     "name": "stdout",
     "output_type": "stream",
     "text": [
      "The CommonGround optimization problem had no optimal solution.\n",
      "The tCommonGround optimization problem had no optimal solution.\n",
      "The CommonGround optimization problem had no optimal solution.\n",
      "The tCommonGround optimization problem had no optimal solution.\n"
     ]
    },
    {
     "name": "stdout",
     "output_type": "stream",
     "text": [
      "The CommonGround optimization problem had no optimal solution.\n",
      "The tCommonGround optimization problem had no optimal solution.\n",
      "The CommonGround optimization problem had no optimal solution.\n",
      "The tCommonGround optimization problem had no optimal solution.\n"
     ]
    },
    {
     "name": "stdout",
     "output_type": "stream",
     "text": [
      "The CommonGround optimization problem had no optimal solution.\n",
      "The tCommonGround optimization problem had no optimal solution.\n",
      "The CommonGround optimization problem had no optimal solution.\n",
      "The tCommonGround optimization problem had no optimal solution.\n"
     ]
    },
    {
     "name": "stdout",
     "output_type": "stream",
     "text": [
      "The CommonGround optimization problem had no optimal solution.\n",
      "The tCommonGround optimization problem had no optimal solution.\n",
      "The CommonGround optimization problem had no optimal solution.\n",
      "The tCommonGround optimization problem had no optimal solution.\n"
     ]
    },
    {
     "name": "stdout",
     "output_type": "stream",
     "text": [
      "The CommonGround optimization problem had no optimal solution.\n",
      "The tCommonGround optimization problem had no optimal solution.\n",
      "The CommonGround optimization problem had no optimal solution.\n",
      "The tCommonGround optimization problem had no optimal solution.\n"
     ]
    },
    {
     "name": "stdout",
     "output_type": "stream",
     "text": [
      "The CommonGround optimization problem had no optimal solution.\n",
      "The tCommonGround optimization problem had no optimal solution.\n",
      "The CommonGround optimization problem had no optimal solution.\n",
      "The tCommonGround optimization problem had no optimal solution.\n"
     ]
    },
    {
     "name": "stdout",
     "output_type": "stream",
     "text": [
      "The CommonGround optimization problem had no optimal solution.\n",
      "The tCommonGround optimization problem had no optimal solution.\n",
      "The CommonGround optimization problem had no optimal solution.\n",
      "The tCommonGround optimization problem had no optimal solution.\n"
     ]
    },
    {
     "name": "stdout",
     "output_type": "stream",
     "text": [
      "The CommonGround optimization problem had no optimal solution.\n",
      "The tCommonGround optimization problem had no optimal solution.\n",
      "The CommonGround optimization problem had no optimal solution.\n",
      "The tCommonGround optimization problem had no optimal solution.\n"
     ]
    },
    {
     "name": "stdout",
     "output_type": "stream",
     "text": [
      "The CommonGround optimization problem had no optimal solution.\n",
      "The tCommonGround optimization problem had no optimal solution.\n",
      "The CommonGround optimization problem had no optimal solution.\n",
      "The tCommonGround optimization problem had no optimal solution.\n"
     ]
    },
    {
     "name": "stdout",
     "output_type": "stream",
     "text": [
      "The CommonGround optimization problem had no optimal solution.\n",
      "The tCommonGround optimization problem had no optimal solution.\n",
      "The CommonGround optimization problem had no optimal solution.\n",
      "The tCommonGround optimization problem had no optimal solution.\n"
     ]
    },
    {
     "name": "stdout",
     "output_type": "stream",
     "text": [
      "The CommonGround optimization problem had no optimal solution.\n",
      "The tCommonGround optimization problem had no optimal solution.\n",
      "The CommonGround optimization problem had no optimal solution.\n",
      "The tCommonGround optimization problem had no optimal solution.\n"
     ]
    },
    {
     "name": "stdout",
     "output_type": "stream",
     "text": [
      "The CommonGround optimization problem had no optimal solution.\n",
      "The tCommonGround optimization problem had no optimal solution.\n",
      "The CommonGround optimization problem had no optimal solution.\n"
     ]
    },
    {
     "name": "stdout",
     "output_type": "stream",
     "text": [
      "The tCommonGround optimization problem had no optimal solution.\n"
     ]
    },
    {
     "name": "stdout",
     "output_type": "stream",
     "text": [
      "The CommonGround optimization problem had no optimal solution.\n",
      "The tCommonGround optimization problem had no optimal solution.\n",
      "The CommonGround optimization problem had no optimal solution.\n",
      "The tCommonGround optimization problem had no optimal solution.\n"
     ]
    },
    {
     "name": "stdout",
     "output_type": "stream",
     "text": [
      "The CommonGround optimization problem had no optimal solution.\n",
      "The tCommonGround optimization problem had no optimal solution.\n",
      "The CommonGround optimization problem had no optimal solution.\n",
      "The tCommonGround optimization problem had no optimal solution.\n"
     ]
    },
    {
     "name": "stdout",
     "output_type": "stream",
     "text": [
      "The CommonGround optimization problem had no optimal solution.\n",
      "The tCommonGround optimization problem had no optimal solution.\n",
      "The CommonGround optimization problem had no optimal solution.\n",
      "The tCommonGround optimization problem had no optimal solution.\n"
     ]
    },
    {
     "name": "stdout",
     "output_type": "stream",
     "text": [
      "The CommonGround optimization problem had no optimal solution.\n",
      "The tCommonGround optimization problem had no optimal solution.\n",
      "The CommonGround optimization problem had no optimal solution.\n",
      "The tCommonGround optimization problem had no optimal solution.\n"
     ]
    },
    {
     "name": "stdout",
     "output_type": "stream",
     "text": [
      "The CommonGround optimization problem had no optimal solution.\n",
      "The tCommonGround optimization problem had no optimal solution.\n",
      "The CommonGround optimization problem had no optimal solution.\n",
      "The tCommonGround optimization problem had no optimal solution.\n"
     ]
    },
    {
     "name": "stdout",
     "output_type": "stream",
     "text": [
      "The CommonGround optimization problem had no optimal solution.\n",
      "The tCommonGround optimization problem had no optimal solution.\n",
      "The CommonGround optimization problem had no optimal solution.\n",
      "The tCommonGround optimization problem had no optimal solution.\n"
     ]
    },
    {
     "name": "stdout",
     "output_type": "stream",
     "text": [
      "The CommonGround optimization problem had no optimal solution.\n",
      "The tCommonGround optimization problem had no optimal solution.\n",
      "The CommonGround optimization problem had no optimal solution.\n",
      "The tCommonGround optimization problem had no optimal solution.\n"
     ]
    },
    {
     "name": "stdout",
     "output_type": "stream",
     "text": [
      "The CommonGround optimization problem had no optimal solution.\n",
      "The tCommonGround optimization problem had no optimal solution.\n",
      "The CommonGround optimization problem had no optimal solution.\n",
      "The tCommonGround optimization problem had no optimal solution.\n"
     ]
    },
    {
     "name": "stdout",
     "output_type": "stream",
     "text": [
      "The CommonGround optimization problem had no optimal solution.\n",
      "The tCommonGround optimization problem had no optimal solution.\n",
      "The CommonGround optimization problem had no optimal solution.\n",
      "The tCommonGround optimization problem had no optimal solution.\n"
     ]
    },
    {
     "name": "stdout",
     "output_type": "stream",
     "text": [
      "The CommonGround optimization problem had no optimal solution.\n",
      "The tCommonGround optimization problem had no optimal solution.\n",
      "The CommonGround optimization problem had no optimal solution.\n",
      "The tCommonGround optimization problem had no optimal solution.\n"
     ]
    },
    {
     "name": "stdout",
     "output_type": "stream",
     "text": [
      "The CommonGround optimization problem had no optimal solution.\n",
      "The tCommonGround optimization problem had no optimal solution.\n",
      "The CommonGround optimization problem had no optimal solution.\n",
      "The tCommonGround optimization problem had no optimal solution.\n"
     ]
    },
    {
     "name": "stdout",
     "output_type": "stream",
     "text": [
      "The CommonGround optimization problem had no optimal solution.\n",
      "The tCommonGround optimization problem had no optimal solution.\n",
      "The CommonGround optimization problem had no optimal solution.\n",
      "The tCommonGround optimization problem had no optimal solution.\n"
     ]
    },
    {
     "name": "stdout",
     "output_type": "stream",
     "text": [
      "The CommonGround optimization problem had no optimal solution.\n",
      "The tCommonGround optimization problem had no optimal solution.\n",
      "The CommonGround optimization problem had no optimal solution.\n",
      "The tCommonGround optimization problem had no optimal solution.\n"
     ]
    },
    {
     "name": "stdout",
     "output_type": "stream",
     "text": [
      "The CommonGround optimization problem had no optimal solution.\n",
      "The tCommonGround optimization problem had no optimal solution.\n",
      "The CommonGround optimization problem had no optimal solution.\n",
      "The tCommonGround optimization problem had no optimal solution.\n"
     ]
    },
    {
     "name": "stdout",
     "output_type": "stream",
     "text": [
      "The CommonGround optimization problem had no optimal solution.\n",
      "The tCommonGround optimization problem had no optimal solution.\n",
      "The CommonGround optimization problem had no optimal solution.\n",
      "The tCommonGround optimization problem had no optimal solution.\n"
     ]
    },
    {
     "name": "stdout",
     "output_type": "stream",
     "text": [
      "The CommonGround optimization problem had no optimal solution.\n",
      "The tCommonGround optimization problem had no optimal solution.\n",
      "The CommonGround optimization problem had no optimal solution.\n",
      "The tCommonGround optimization problem had no optimal solution.\n"
     ]
    },
    {
     "name": "stdout",
     "output_type": "stream",
     "text": [
      "The CommonGround optimization problem had no optimal solution.\n",
      "The tCommonGround optimization problem had no optimal solution.\n",
      "The CommonGround optimization problem had no optimal solution.\n",
      "The tCommonGround optimization problem had no optimal solution.\n"
     ]
    },
    {
     "name": "stdout",
     "output_type": "stream",
     "text": [
      "The CommonGround optimization problem had no optimal solution.\n",
      "The tCommonGround optimization problem had no optimal solution.\n",
      "The CommonGround optimization problem had no optimal solution.\n",
      "The tCommonGround optimization problem had no optimal solution.\n"
     ]
    },
    {
     "name": "stdout",
     "output_type": "stream",
     "text": [
      "The CommonGround optimization problem had no optimal solution.\n",
      "The tCommonGround optimization problem had no optimal solution.\n",
      "The CommonGround optimization problem had no optimal solution.\n",
      "The tCommonGround optimization problem had no optimal solution.\n"
     ]
    },
    {
     "name": "stdout",
     "output_type": "stream",
     "text": [
      "The CommonGround optimization problem had no optimal solution.\n",
      "The tCommonGround optimization problem had no optimal solution.\n",
      "The CommonGround optimization problem had no optimal solution.\n",
      "The tCommonGround optimization problem had no optimal solution.\n"
     ]
    },
    {
     "name": "stdout",
     "output_type": "stream",
     "text": [
      "The CommonGround optimization problem had no optimal solution.\n",
      "The tCommonGround optimization problem had no optimal solution.\n",
      "The CommonGround optimization problem had no optimal solution.\n",
      "The tCommonGround optimization problem had no optimal solution.\n"
     ]
    },
    {
     "name": "stdout",
     "output_type": "stream",
     "text": [
      "The CommonGround optimization problem had no optimal solution.\n",
      "The tCommonGround optimization problem had no optimal solution.\n",
      "The CommonGround optimization problem had no optimal solution.\n",
      "The tCommonGround optimization problem had no optimal solution.\n"
     ]
    },
    {
     "name": "stdout",
     "output_type": "stream",
     "text": [
      "The CommonGround optimization problem had no optimal solution.\n",
      "The tCommonGround optimization problem had no optimal solution.\n",
      "The CommonGround optimization problem had no optimal solution.\n",
      "The tCommonGround optimization problem had no optimal solution.\n"
     ]
    },
    {
     "name": "stdout",
     "output_type": "stream",
     "text": [
      "The CommonGround optimization problem had no optimal solution.\n",
      "The tCommonGround optimization problem had no optimal solution.\n",
      "The CommonGround optimization problem had no optimal solution.\n",
      "The tCommonGround optimization problem had no optimal solution.\n"
     ]
    },
    {
     "name": "stdout",
     "output_type": "stream",
     "text": [
      "The CommonGround optimization problem had no optimal solution.\n",
      "The tCommonGround optimization problem had no optimal solution.\n",
      "The CommonGround optimization problem had no optimal solution.\n",
      "The tCommonGround optimization problem had no optimal solution.\n"
     ]
    },
    {
     "name": "stdout",
     "output_type": "stream",
     "text": [
      "The CommonGround optimization problem had no optimal solution.\n",
      "The tCommonGround optimization problem had no optimal solution.\n",
      "The CommonGround optimization problem had no optimal solution.\n",
      "The tCommonGround optimization problem had no optimal solution.\n"
     ]
    },
    {
     "name": "stdout",
     "output_type": "stream",
     "text": [
      "The CommonGround optimization problem had no optimal solution.\n",
      "The tCommonGround optimization problem had no optimal solution.\n",
      "The CommonGround optimization problem had no optimal solution.\n",
      "The tCommonGround optimization problem had no optimal solution.\n"
     ]
    },
    {
     "name": "stdout",
     "output_type": "stream",
     "text": [
      "The CommonGround optimization problem had no optimal solution.\n",
      "The tCommonGround optimization problem had no optimal solution.\n",
      "The CommonGround optimization problem had no optimal solution.\n",
      "The tCommonGround optimization problem had no optimal solution.\n"
     ]
    },
    {
     "name": "stdout",
     "output_type": "stream",
     "text": [
      "The CommonGround optimization problem had no optimal solution.\n",
      "The tCommonGround optimization problem had no optimal solution.\n",
      "The CommonGround optimization problem had no optimal solution.\n",
      "The tCommonGround optimization problem had no optimal solution.\n"
     ]
    },
    {
     "name": "stdout",
     "output_type": "stream",
     "text": [
      "The CommonGround optimization problem had no optimal solution.\n",
      "The tCommonGround optimization problem had no optimal solution.\n",
      "The CommonGround optimization problem had no optimal solution.\n",
      "The tCommonGround optimization problem had no optimal solution.\n"
     ]
    },
    {
     "name": "stdout",
     "output_type": "stream",
     "text": [
      "The CommonGround optimization problem had no optimal solution.\n",
      "The tCommonGround optimization problem had no optimal solution.\n",
      "The CommonGround optimization problem had no optimal solution.\n",
      "The tCommonGround optimization problem had no optimal solution.\n"
     ]
    },
    {
     "name": "stdout",
     "output_type": "stream",
     "text": [
      "The CommonGround optimization problem had no optimal solution.\n",
      "The tCommonGround optimization problem had no optimal solution.\n",
      "The CommonGround optimization problem had no optimal solution.\n",
      "The tCommonGround optimization problem had no optimal solution.\n"
     ]
    },
    {
     "name": "stdout",
     "output_type": "stream",
     "text": [
      "The CommonGround optimization problem had no optimal solution.\n",
      "The tCommonGround optimization problem had no optimal solution.\n",
      "The CommonGround optimization problem had no optimal solution.\n",
      "The tCommonGround optimization problem had no optimal solution.\n"
     ]
    },
    {
     "name": "stdout",
     "output_type": "stream",
     "text": [
      "The CommonGround optimization problem had no optimal solution.\n",
      "The tCommonGround optimization problem had no optimal solution.\n",
      "The CommonGround optimization problem had no optimal solution.\n",
      "The tCommonGround optimization problem had no optimal solution.\n"
     ]
    },
    {
     "name": "stdout",
     "output_type": "stream",
     "text": [
      "The CommonGround optimization problem had no optimal solution.\n",
      "The tCommonGround optimization problem had no optimal solution.\n",
      "The CommonGround optimization problem had no optimal solution.\n",
      "The tCommonGround optimization problem had no optimal solution.\n"
     ]
    },
    {
     "name": "stdout",
     "output_type": "stream",
     "text": [
      "The CommonGround optimization problem had no optimal solution.\n",
      "The tCommonGround optimization problem had no optimal solution.\n",
      "The CommonGround optimization problem had no optimal solution.\n",
      "The tCommonGround optimization problem had no optimal solution.\n"
     ]
    },
    {
     "name": "stdout",
     "output_type": "stream",
     "text": [
      "The CommonGround optimization problem had no optimal solution.\n",
      "The tCommonGround optimization problem had no optimal solution.\n",
      "The CommonGround optimization problem had no optimal solution.\n",
      "The tCommonGround optimization problem had no optimal solution.\n"
     ]
    },
    {
     "name": "stdout",
     "output_type": "stream",
     "text": [
      "The CommonGround optimization problem had no optimal solution.\n",
      "The tCommonGround optimization problem had no optimal solution.\n",
      "The CommonGround optimization problem had no optimal solution.\n",
      "The tCommonGround optimization problem had no optimal solution.\n"
     ]
    },
    {
     "name": "stdout",
     "output_type": "stream",
     "text": [
      "The CommonGround optimization problem had no optimal solution.\n",
      "The tCommonGround optimization problem had no optimal solution.\n",
      "The CommonGround optimization problem had no optimal solution.\n",
      "The tCommonGround optimization problem had no optimal solution.\n"
     ]
    },
    {
     "name": "stdout",
     "output_type": "stream",
     "text": [
      "The CommonGround optimization problem had no optimal solution.\n",
      "The tCommonGround optimization problem had no optimal solution.\n",
      "The CommonGround optimization problem had no optimal solution.\n",
      "The tCommonGround optimization problem had no optimal solution.\n"
     ]
    },
    {
     "name": "stdout",
     "output_type": "stream",
     "text": [
      "The CommonGround optimization problem had no optimal solution.\n",
      "The tCommonGround optimization problem had no optimal solution.\n",
      "The CommonGround optimization problem had no optimal solution.\n",
      "The tCommonGround optimization problem had no optimal solution.\n"
     ]
    },
    {
     "name": "stdout",
     "output_type": "stream",
     "text": [
      "The CommonGround optimization problem had no optimal solution.\n",
      "The tCommonGround optimization problem had no optimal solution.\n",
      "The CommonGround optimization problem had no optimal solution.\n",
      "The tCommonGround optimization problem had no optimal solution.\n"
     ]
    },
    {
     "name": "stdout",
     "output_type": "stream",
     "text": [
      "The CommonGround optimization problem had no optimal solution.\n",
      "The tCommonGround optimization problem had no optimal solution.\n",
      "The CommonGround optimization problem had no optimal solution.\n",
      "The tCommonGround optimization problem had no optimal solution.\n"
     ]
    },
    {
     "name": "stdout",
     "output_type": "stream",
     "text": [
      "The CommonGround optimization problem had no optimal solution.\n",
      "The tCommonGround optimization problem had no optimal solution.\n",
      "The CommonGround optimization problem had no optimal solution.\n",
      "The tCommonGround optimization problem had no optimal solution.\n"
     ]
    },
    {
     "name": "stdout",
     "output_type": "stream",
     "text": [
      "The CommonGround optimization problem had no optimal solution.\n",
      "The tCommonGround optimization problem had no optimal solution.\n",
      "The CommonGround optimization problem had no optimal solution.\n",
      "The tCommonGround optimization problem had no optimal solution.\n"
     ]
    },
    {
     "name": "stdout",
     "output_type": "stream",
     "text": [
      "The CommonGround optimization problem had no optimal solution.\n",
      "The tCommonGround optimization problem had no optimal solution.\n",
      "The CommonGround optimization problem had no optimal solution.\n"
     ]
    },
    {
     "name": "stdout",
     "output_type": "stream",
     "text": [
      "The tCommonGround optimization problem had no optimal solution.\n",
      "The CommonGround optimization problem had no optimal solution.\n",
      "The tCommonGround optimization problem had no optimal solution.\n"
     ]
    },
    {
     "name": "stdout",
     "output_type": "stream",
     "text": [
      "The CommonGround optimization problem had no optimal solution.\n",
      "The tCommonGround optimization problem had no optimal solution.\n",
      "The CommonGround optimization problem had no optimal solution.\n",
      "The tCommonGround optimization problem had no optimal solution.\n"
     ]
    },
    {
     "name": "stdout",
     "output_type": "stream",
     "text": [
      "The CommonGround optimization problem had no optimal solution.\n",
      "The tCommonGround optimization problem had no optimal solution.\n",
      "The CommonGround optimization problem had no optimal solution.\n",
      "The tCommonGround optimization problem had no optimal solution.\n"
     ]
    },
    {
     "name": "stdout",
     "output_type": "stream",
     "text": [
      "The CommonGround optimization problem had no optimal solution.\n",
      "The tCommonGround optimization problem had no optimal solution.\n",
      "The CommonGround optimization problem had no optimal solution.\n",
      "The tCommonGround optimization problem had no optimal solution.\n"
     ]
    },
    {
     "name": "stdout",
     "output_type": "stream",
     "text": [
      "The CommonGround optimization problem had no optimal solution.\n",
      "The tCommonGround optimization problem had no optimal solution.\n",
      "The CommonGround optimization problem had no optimal solution.\n",
      "The tCommonGround optimization problem had no optimal solution.\n"
     ]
    },
    {
     "name": "stdout",
     "output_type": "stream",
     "text": [
      "The CommonGround optimization problem had no optimal solution.\n",
      "The tCommonGround optimization problem had no optimal solution.\n",
      "The CommonGround optimization problem had no optimal solution.\n",
      "The tCommonGround optimization problem had no optimal solution.\n"
     ]
    },
    {
     "name": "stdout",
     "output_type": "stream",
     "text": [
      "The CommonGround optimization problem had no optimal solution.\n",
      "The tCommonGround optimization problem had no optimal solution.\n",
      "The CommonGround optimization problem had no optimal solution.\n",
      "The tCommonGround optimization problem had no optimal solution.\n"
     ]
    },
    {
     "name": "stdout",
     "output_type": "stream",
     "text": [
      "The CommonGround optimization problem had no optimal solution.\n",
      "The tCommonGround optimization problem had no optimal solution.\n",
      "The CommonGround optimization problem had no optimal solution.\n",
      "The tCommonGround optimization problem had no optimal solution.\n"
     ]
    },
    {
     "name": "stdout",
     "output_type": "stream",
     "text": [
      "The CommonGround optimization problem had no optimal solution.\n",
      "The tCommonGround optimization problem had no optimal solution.\n",
      "The CommonGround optimization problem had no optimal solution.\n",
      "The tCommonGround optimization problem had no optimal solution.\n"
     ]
    },
    {
     "name": "stdout",
     "output_type": "stream",
     "text": [
      "The CommonGround optimization problem had no optimal solution.\n",
      "The tCommonGround optimization problem had no optimal solution.\n",
      "The CommonGround optimization problem had no optimal solution.\n",
      "The tCommonGround optimization problem had no optimal solution.\n"
     ]
    },
    {
     "name": "stdout",
     "output_type": "stream",
     "text": [
      "The CommonGround optimization problem had no optimal solution.\n",
      "The tCommonGround optimization problem had no optimal solution.\n",
      "The CommonGround optimization problem had no optimal solution.\n",
      "The tCommonGround optimization problem had no optimal solution.\n"
     ]
    },
    {
     "name": "stdout",
     "output_type": "stream",
     "text": [
      "The CommonGround optimization problem had no optimal solution.\n",
      "The tCommonGround optimization problem had no optimal solution.\n",
      "The CommonGround optimization problem had no optimal solution.\n",
      "The tCommonGround optimization problem had no optimal solution.\n"
     ]
    },
    {
     "name": "stdout",
     "output_type": "stream",
     "text": [
      "The CommonGround optimization problem had no optimal solution.\n",
      "The tCommonGround optimization problem had no optimal solution.\n",
      "The CommonGround optimization problem had no optimal solution.\n",
      "The tCommonGround optimization problem had no optimal solution.\n"
     ]
    },
    {
     "name": "stdout",
     "output_type": "stream",
     "text": [
      "The CommonGround optimization problem had no optimal solution.\n",
      "The tCommonGround optimization problem had no optimal solution.\n",
      "The CommonGround optimization problem had no optimal solution.\n",
      "The tCommonGround optimization problem had no optimal solution.\n"
     ]
    },
    {
     "name": "stdout",
     "output_type": "stream",
     "text": [
      "The CommonGround optimization problem had no optimal solution.\n",
      "The tCommonGround optimization problem had no optimal solution.\n"
     ]
    },
    {
     "name": "stdout",
     "output_type": "stream",
     "text": [
      "The CommonGround optimization problem had no optimal solution.\n",
      "The tCommonGround optimization problem had no optimal solution.\n",
      "The CommonGround optimization problem had no optimal solution.\n",
      "The tCommonGround optimization problem had no optimal solution.\n"
     ]
    },
    {
     "name": "stdout",
     "output_type": "stream",
     "text": [
      "The CommonGround optimization problem had no optimal solution.\n",
      "The tCommonGround optimization problem had no optimal solution.\n",
      "The CommonGround optimization problem had no optimal solution.\n",
      "The tCommonGround optimization problem had no optimal solution.\n"
     ]
    },
    {
     "name": "stdout",
     "output_type": "stream",
     "text": [
      "The CommonGround optimization problem had no optimal solution.\n",
      "The tCommonGround optimization problem had no optimal solution.\n",
      "The CommonGround optimization problem had no optimal solution.\n",
      "The tCommonGround optimization problem had no optimal solution.\n"
     ]
    },
    {
     "name": "stdout",
     "output_type": "stream",
     "text": [
      "The CommonGround optimization problem had no optimal solution.\n",
      "The tCommonGround optimization problem had no optimal solution.\n",
      "The CommonGround optimization problem had no optimal solution.\n",
      "The tCommonGround optimization problem had no optimal solution.\n"
     ]
    },
    {
     "name": "stdout",
     "output_type": "stream",
     "text": [
      "The CommonGround optimization problem had no optimal solution.\n",
      "The tCommonGround optimization problem had no optimal solution.\n",
      "The CommonGround optimization problem had no optimal solution.\n",
      "The tCommonGround optimization problem had no optimal solution.\n"
     ]
    },
    {
     "name": "stdout",
     "output_type": "stream",
     "text": [
      "The CommonGround optimization problem had no optimal solution.\n",
      "The tCommonGround optimization problem had no optimal solution.\n",
      "The CommonGround optimization problem had no optimal solution.\n",
      "The tCommonGround optimization problem had no optimal solution.\n"
     ]
    },
    {
     "name": "stdout",
     "output_type": "stream",
     "text": [
      "The CommonGround optimization problem had no optimal solution.\n",
      "The tCommonGround optimization problem had no optimal solution.\n",
      "The CommonGround optimization problem had no optimal solution.\n",
      "The tCommonGround optimization problem had no optimal solution.\n"
     ]
    },
    {
     "name": "stdout",
     "output_type": "stream",
     "text": [
      "The CommonGround optimization problem had no optimal solution.\n",
      "The tCommonGround optimization problem had no optimal solution.\n"
     ]
    },
    {
     "name": "stdout",
     "output_type": "stream",
     "text": [
      "The CommonGround optimization problem had no optimal solution.\n",
      "The tCommonGround optimization problem had no optimal solution.\n",
      "The CommonGround optimization problem had no optimal solution.\n",
      "The tCommonGround optimization problem had no optimal solution.\n"
     ]
    },
    {
     "name": "stdout",
     "output_type": "stream",
     "text": [
      "The CommonGround optimization problem had no optimal solution.\n",
      "The tCommonGround optimization problem had no optimal solution.\n",
      "The CommonGround optimization problem had no optimal solution.\n",
      "The tCommonGround optimization problem had no optimal solution.\n"
     ]
    },
    {
     "name": "stdout",
     "output_type": "stream",
     "text": [
      "The CommonGround optimization problem had no optimal solution.\n",
      "The tCommonGround optimization problem had no optimal solution.\n",
      "The CommonGround optimization problem had no optimal solution.\n",
      "The tCommonGround optimization problem had no optimal solution.\n"
     ]
    },
    {
     "name": "stdout",
     "output_type": "stream",
     "text": [
      "The CommonGround optimization problem had no optimal solution.\n",
      "The tCommonGround optimization problem had no optimal solution.\n",
      "The CommonGround optimization problem had no optimal solution.\n",
      "The tCommonGround optimization problem had no optimal solution.\n"
     ]
    },
    {
     "name": "stdout",
     "output_type": "stream",
     "text": [
      "The CommonGround optimization problem had no optimal solution.\n",
      "The tCommonGround optimization problem had no optimal solution.\n",
      "The CommonGround optimization problem had no optimal solution.\n",
      "The tCommonGround optimization problem had no optimal solution.\n"
     ]
    },
    {
     "name": "stdout",
     "output_type": "stream",
     "text": [
      "The CommonGround optimization problem had no optimal solution.\n",
      "The tCommonGround optimization problem had no optimal solution.\n",
      "The CommonGround optimization problem had no optimal solution.\n",
      "The tCommonGround optimization problem had no optimal solution.\n"
     ]
    },
    {
     "name": "stdout",
     "output_type": "stream",
     "text": [
      "The CommonGround optimization problem had no optimal solution.\n",
      "The tCommonGround optimization problem had no optimal solution.\n",
      "The CommonGround optimization problem had no optimal solution.\n",
      "The tCommonGround optimization problem had no optimal solution.\n"
     ]
    },
    {
     "name": "stdout",
     "output_type": "stream",
     "text": [
      "The CommonGround optimization problem had no optimal solution.\n",
      "The tCommonGround optimization problem had no optimal solution.\n",
      "The CommonGround optimization problem had no optimal solution.\n",
      "The tCommonGround optimization problem had no optimal solution.\n"
     ]
    },
    {
     "name": "stdout",
     "output_type": "stream",
     "text": [
      "The CommonGround optimization problem had no optimal solution.\n",
      "The tCommonGround optimization problem had no optimal solution.\n",
      "The CommonGround optimization problem had no optimal solution.\n",
      "The tCommonGround optimization problem had no optimal solution.\n"
     ]
    },
    {
     "name": "stdout",
     "output_type": "stream",
     "text": [
      "The CommonGround optimization problem had no optimal solution.\n",
      "The tCommonGround optimization problem had no optimal solution.\n",
      "The CommonGround optimization problem had no optimal solution.\n",
      "The tCommonGround optimization problem had no optimal solution.\n"
     ]
    },
    {
     "name": "stdout",
     "output_type": "stream",
     "text": [
      "The CommonGround optimization problem had no optimal solution.\n",
      "The tCommonGround optimization problem had no optimal solution.\n",
      "The CommonGround optimization problem had no optimal solution.\n",
      "The tCommonGround optimization problem had no optimal solution.\n"
     ]
    },
    {
     "name": "stdout",
     "output_type": "stream",
     "text": [
      "The CommonGround optimization problem had no optimal solution.\n",
      "The tCommonGround optimization problem had no optimal solution.\n",
      "The CommonGround optimization problem had no optimal solution.\n",
      "The tCommonGround optimization problem had no optimal solution.\n"
     ]
    },
    {
     "name": "stdout",
     "output_type": "stream",
     "text": [
      "The CommonGround optimization problem had no optimal solution.\n",
      "The tCommonGround optimization problem had no optimal solution.\n",
      "The CommonGround optimization problem had no optimal solution.\n",
      "The tCommonGround optimization problem had no optimal solution.\n"
     ]
    },
    {
     "name": "stdout",
     "output_type": "stream",
     "text": [
      "The CommonGround optimization problem had no optimal solution.\n",
      "The tCommonGround optimization problem had no optimal solution.\n",
      "The CommonGround optimization problem had no optimal solution.\n",
      "The tCommonGround optimization problem had no optimal solution.\n"
     ]
    },
    {
     "name": "stdout",
     "output_type": "stream",
     "text": [
      "The CommonGround optimization problem had no optimal solution.\n",
      "The tCommonGround optimization problem had no optimal solution.\n",
      "The CommonGround optimization problem had no optimal solution.\n",
      "The tCommonGround optimization problem had no optimal solution.\n"
     ]
    },
    {
     "name": "stdout",
     "output_type": "stream",
     "text": [
      "The CommonGround optimization problem had no optimal solution.\n",
      "The tCommonGround optimization problem had no optimal solution.\n",
      "The CommonGround optimization problem had no optimal solution.\n",
      "The tCommonGround optimization problem had no optimal solution.\n"
     ]
    },
    {
     "name": "stdout",
     "output_type": "stream",
     "text": [
      "The CommonGround optimization problem had no optimal solution.\n",
      "The tCommonGround optimization problem had no optimal solution.\n",
      "The CommonGround optimization problem had no optimal solution.\n",
      "The tCommonGround optimization problem had no optimal solution.\n"
     ]
    },
    {
     "name": "stdout",
     "output_type": "stream",
     "text": [
      "The CommonGround optimization problem had no optimal solution.\n",
      "The tCommonGround optimization problem had no optimal solution.\n",
      "The CommonGround optimization problem had no optimal solution.\n",
      "The tCommonGround optimization problem had no optimal solution.\n"
     ]
    },
    {
     "name": "stdout",
     "output_type": "stream",
     "text": [
      "The CommonGround optimization problem had no optimal solution.\n",
      "The tCommonGround optimization problem had no optimal solution.\n",
      "The CommonGround optimization problem had no optimal solution.\n",
      "The tCommonGround optimization problem had no optimal solution.\n"
     ]
    },
    {
     "name": "stdout",
     "output_type": "stream",
     "text": [
      "The CommonGround optimization problem had no optimal solution.\n",
      "The tCommonGround optimization problem had no optimal solution.\n",
      "The CommonGround optimization problem had no optimal solution.\n",
      "The tCommonGround optimization problem had no optimal solution.\n"
     ]
    },
    {
     "name": "stdout",
     "output_type": "stream",
     "text": [
      "The CommonGround optimization problem had no optimal solution.\n",
      "The tCommonGround optimization problem had no optimal solution.\n",
      "The CommonGround optimization problem had no optimal solution.\n",
      "The tCommonGround optimization problem had no optimal solution.\n"
     ]
    },
    {
     "name": "stdout",
     "output_type": "stream",
     "text": [
      "The CommonGround optimization problem had no optimal solution.\n",
      "The tCommonGround optimization problem had no optimal solution.\n",
      "The CommonGround optimization problem had no optimal solution.\n",
      "The tCommonGround optimization problem had no optimal solution.\n"
     ]
    },
    {
     "name": "stdout",
     "output_type": "stream",
     "text": [
      "The CommonGround optimization problem had no optimal solution.\n",
      "The tCommonGround optimization problem had no optimal solution.\n",
      "The CommonGround optimization problem had no optimal solution.\n",
      "The tCommonGround optimization problem had no optimal solution.\n"
     ]
    },
    {
     "name": "stdout",
     "output_type": "stream",
     "text": [
      "The CommonGround optimization problem had no optimal solution.\n",
      "The tCommonGround optimization problem had no optimal solution.\n",
      "The CommonGround optimization problem had no optimal solution.\n",
      "The tCommonGround optimization problem had no optimal solution.\n"
     ]
    },
    {
     "name": "stdout",
     "output_type": "stream",
     "text": [
      "The CommonGround optimization problem had no optimal solution.\n",
      "The tCommonGround optimization problem had no optimal solution.\n",
      "The CommonGround optimization problem had no optimal solution.\n",
      "The tCommonGround optimization problem had no optimal solution.\n"
     ]
    },
    {
     "name": "stdout",
     "output_type": "stream",
     "text": [
      "The CommonGround optimization problem had no optimal solution.\n",
      "The tCommonGround optimization problem had no optimal solution.\n",
      "The CommonGround optimization problem had no optimal solution.\n",
      "The tCommonGround optimization problem had no optimal solution.\n"
     ]
    },
    {
     "name": "stdout",
     "output_type": "stream",
     "text": [
      "The CommonGround optimization problem had no optimal solution.\n",
      "The tCommonGround optimization problem had no optimal solution.\n",
      "The CommonGround optimization problem had no optimal solution.\n",
      "The tCommonGround optimization problem had no optimal solution.\n"
     ]
    },
    {
     "name": "stdout",
     "output_type": "stream",
     "text": [
      "The CommonGround optimization problem had no optimal solution.\n",
      "The tCommonGround optimization problem had no optimal solution.\n",
      "The CommonGround optimization problem had no optimal solution.\n",
      "The tCommonGround optimization problem had no optimal solution.\n"
     ]
    },
    {
     "name": "stdout",
     "output_type": "stream",
     "text": [
      "The CommonGround optimization problem had no optimal solution.\n",
      "The tCommonGround optimization problem had no optimal solution.\n",
      "The CommonGround optimization problem had no optimal solution.\n",
      "The tCommonGround optimization problem had no optimal solution.\n"
     ]
    },
    {
     "name": "stdout",
     "output_type": "stream",
     "text": [
      "The CommonGround optimization problem had no optimal solution.\n",
      "The tCommonGround optimization problem had no optimal solution.\n",
      "The CommonGround optimization problem had no optimal solution.\n"
     ]
    },
    {
     "name": "stdout",
     "output_type": "stream",
     "text": [
      "The tCommonGround optimization problem had no optimal solution.\n",
      "The CommonGround optimization problem had no optimal solution.\n",
      "The tCommonGround optimization problem had no optimal solution.\n"
     ]
    },
    {
     "name": "stdout",
     "output_type": "stream",
     "text": [
      "The CommonGround optimization problem had no optimal solution.\n",
      "The tCommonGround optimization problem had no optimal solution.\n",
      "The CommonGround optimization problem had no optimal solution.\n",
      "The tCommonGround optimization problem had no optimal solution.\n"
     ]
    },
    {
     "name": "stdout",
     "output_type": "stream",
     "text": [
      "The CommonGround optimization problem had no optimal solution.\n",
      "The tCommonGround optimization problem had no optimal solution.\n",
      "The CommonGround optimization problem had no optimal solution.\n",
      "The tCommonGround optimization problem had no optimal solution.\n"
     ]
    },
    {
     "name": "stdout",
     "output_type": "stream",
     "text": [
      "The CommonGround optimization problem had no optimal solution.\n",
      "The tCommonGround optimization problem had no optimal solution.\n",
      "The CommonGround optimization problem had no optimal solution.\n",
      "The tCommonGround optimization problem had no optimal solution.\n"
     ]
    },
    {
     "name": "stdout",
     "output_type": "stream",
     "text": [
      "The CommonGround optimization problem had no optimal solution.\n",
      "The tCommonGround optimization problem had no optimal solution.\n",
      "The CommonGround optimization problem had no optimal solution.\n",
      "The tCommonGround optimization problem had no optimal solution.\n"
     ]
    },
    {
     "name": "stdout",
     "output_type": "stream",
     "text": [
      "The CommonGround optimization problem had no optimal solution.\n",
      "The tCommonGround optimization problem had no optimal solution.\n",
      "The CommonGround optimization problem had no optimal solution.\n",
      "The tCommonGround optimization problem had no optimal solution.\n"
     ]
    },
    {
     "name": "stdout",
     "output_type": "stream",
     "text": [
      "The CommonGround optimization problem had no optimal solution.\n",
      "The tCommonGround optimization problem had no optimal solution.\n",
      "The CommonGround optimization problem had no optimal solution.\n",
      "The tCommonGround optimization problem had no optimal solution.\n"
     ]
    },
    {
     "name": "stdout",
     "output_type": "stream",
     "text": [
      "The CommonGround optimization problem had no optimal solution.\n",
      "The tCommonGround optimization problem had no optimal solution.\n",
      "The CommonGround optimization problem had no optimal solution.\n",
      "The tCommonGround optimization problem had no optimal solution.\n"
     ]
    },
    {
     "name": "stdout",
     "output_type": "stream",
     "text": [
      "The CommonGround optimization problem had no optimal solution.\n",
      "The tCommonGround optimization problem had no optimal solution.\n",
      "The CommonGround optimization problem had no optimal solution.\n",
      "The tCommonGround optimization problem had no optimal solution.\n"
     ]
    },
    {
     "name": "stdout",
     "output_type": "stream",
     "text": [
      "The CommonGround optimization problem had no optimal solution.\n",
      "The tCommonGround optimization problem had no optimal solution.\n",
      "The CommonGround optimization problem had no optimal solution.\n",
      "The tCommonGround optimization problem had no optimal solution.\n"
     ]
    },
    {
     "name": "stdout",
     "output_type": "stream",
     "text": [
      "The CommonGround optimization problem had no optimal solution.\n",
      "The tCommonGround optimization problem had no optimal solution.\n",
      "The CommonGround optimization problem had no optimal solution.\n",
      "The tCommonGround optimization problem had no optimal solution.\n"
     ]
    },
    {
     "name": "stdout",
     "output_type": "stream",
     "text": [
      "The CommonGround optimization problem had no optimal solution.\n",
      "The tCommonGround optimization problem had no optimal solution.\n",
      "The CommonGround optimization problem had no optimal solution.\n",
      "The tCommonGround optimization problem had no optimal solution.\n"
     ]
    },
    {
     "name": "stdout",
     "output_type": "stream",
     "text": [
      "The CommonGround optimization problem had no optimal solution.\n",
      "The tCommonGround optimization problem had no optimal solution.\n",
      "The CommonGround optimization problem had no optimal solution.\n",
      "The tCommonGround optimization problem had no optimal solution.\n"
     ]
    },
    {
     "name": "stdout",
     "output_type": "stream",
     "text": [
      "The CommonGround optimization problem had no optimal solution.\n",
      "The tCommonGround optimization problem had no optimal solution.\n",
      "The CommonGround optimization problem had no optimal solution.\n",
      "The tCommonGround optimization problem had no optimal solution.\n"
     ]
    },
    {
     "name": "stdout",
     "output_type": "stream",
     "text": [
      "The CommonGround optimization problem had no optimal solution.\n",
      "The tCommonGround optimization problem had no optimal solution.\n",
      "The CommonGround optimization problem had no optimal solution.\n",
      "The tCommonGround optimization problem had no optimal solution.\n"
     ]
    },
    {
     "name": "stdout",
     "output_type": "stream",
     "text": [
      "The CommonGround optimization problem had no optimal solution.\n",
      "The tCommonGround optimization problem had no optimal solution.\n",
      "The CommonGround optimization problem had no optimal solution.\n",
      "The tCommonGround optimization problem had no optimal solution.\n"
     ]
    },
    {
     "name": "stdout",
     "output_type": "stream",
     "text": [
      "The CommonGround optimization problem had no optimal solution.\n",
      "The tCommonGround optimization problem had no optimal solution.\n",
      "The CommonGround optimization problem had no optimal solution.\n",
      "The tCommonGround optimization problem had no optimal solution.\n"
     ]
    },
    {
     "name": "stdout",
     "output_type": "stream",
     "text": [
      "The CommonGround optimization problem had no optimal solution.\n",
      "The tCommonGround optimization problem had no optimal solution.\n",
      "The CommonGround optimization problem had no optimal solution.\n",
      "The tCommonGround optimization problem had no optimal solution.\n"
     ]
    },
    {
     "name": "stdout",
     "output_type": "stream",
     "text": [
      "The CommonGround optimization problem had no optimal solution.\n",
      "The tCommonGround optimization problem had no optimal solution.\n",
      "The CommonGround optimization problem had no optimal solution.\n",
      "The tCommonGround optimization problem had no optimal solution.\n"
     ]
    },
    {
     "name": "stdout",
     "output_type": "stream",
     "text": [
      "The CommonGround optimization problem had no optimal solution.\n",
      "The tCommonGround optimization problem had no optimal solution.\n",
      "The CommonGround optimization problem had no optimal solution.\n",
      "The tCommonGround optimization problem had no optimal solution.\n"
     ]
    },
    {
     "name": "stdout",
     "output_type": "stream",
     "text": [
      "The CommonGround optimization problem had no optimal solution.\n",
      "The tCommonGround optimization problem had no optimal solution.\n",
      "The CommonGround optimization problem had no optimal solution.\n",
      "The tCommonGround optimization problem had no optimal solution.\n"
     ]
    },
    {
     "name": "stdout",
     "output_type": "stream",
     "text": [
      "The CommonGround optimization problem had no optimal solution.\n",
      "The tCommonGround optimization problem had no optimal solution.\n",
      "The CommonGround optimization problem had no optimal solution.\n",
      "The tCommonGround optimization problem had no optimal solution.\n"
     ]
    },
    {
     "name": "stdout",
     "output_type": "stream",
     "text": [
      "The CommonGround optimization problem had no optimal solution.\n",
      "The tCommonGround optimization problem had no optimal solution.\n",
      "The CommonGround optimization problem had no optimal solution.\n",
      "The tCommonGround optimization problem had no optimal solution.\n"
     ]
    },
    {
     "name": "stdout",
     "output_type": "stream",
     "text": [
      "The CommonGround optimization problem had no optimal solution.\n",
      "The tCommonGround optimization problem had no optimal solution.\n",
      "The CommonGround optimization problem had no optimal solution.\n",
      "The tCommonGround optimization problem had no optimal solution.\n"
     ]
    },
    {
     "name": "stdout",
     "output_type": "stream",
     "text": [
      "The CommonGround optimization problem had no optimal solution.\n",
      "The tCommonGround optimization problem had no optimal solution.\n",
      "The CommonGround optimization problem had no optimal solution.\n",
      "The tCommonGround optimization problem had no optimal solution.\n"
     ]
    },
    {
     "name": "stdout",
     "output_type": "stream",
     "text": [
      "The CommonGround optimization problem had no optimal solution.\n",
      "The tCommonGround optimization problem had no optimal solution.\n",
      "The CommonGround optimization problem had no optimal solution.\n",
      "The tCommonGround optimization problem had no optimal solution.\n"
     ]
    },
    {
     "name": "stdout",
     "output_type": "stream",
     "text": [
      "The CommonGround optimization problem had no optimal solution.\n",
      "The tCommonGround optimization problem had no optimal solution.\n",
      "The CommonGround optimization problem had no optimal solution.\n",
      "The tCommonGround optimization problem had no optimal solution.\n"
     ]
    },
    {
     "name": "stdout",
     "output_type": "stream",
     "text": [
      "The CommonGround optimization problem had no optimal solution.\n",
      "The tCommonGround optimization problem had no optimal solution.\n",
      "The CommonGround optimization problem had no optimal solution.\n",
      "The tCommonGround optimization problem had no optimal solution.\n"
     ]
    },
    {
     "name": "stdout",
     "output_type": "stream",
     "text": [
      "The CommonGround optimization problem had no optimal solution.\n",
      "The tCommonGround optimization problem had no optimal solution.\n",
      "The CommonGround optimization problem had no optimal solution.\n",
      "The tCommonGround optimization problem had no optimal solution.\n"
     ]
    },
    {
     "name": "stdout",
     "output_type": "stream",
     "text": [
      "The CommonGround optimization problem had no optimal solution.\n",
      "The tCommonGround optimization problem had no optimal solution.\n",
      "The CommonGround optimization problem had no optimal solution.\n",
      "The tCommonGround optimization problem had no optimal solution.\n"
     ]
    },
    {
     "name": "stdout",
     "output_type": "stream",
     "text": [
      "The CommonGround optimization problem had no optimal solution.\n",
      "The tCommonGround optimization problem had no optimal solution.\n",
      "The CommonGround optimization problem had no optimal solution.\n",
      "The tCommonGround optimization problem had no optimal solution.\n"
     ]
    },
    {
     "name": "stdout",
     "output_type": "stream",
     "text": [
      "The CommonGround optimization problem had no optimal solution.\n",
      "The tCommonGround optimization problem had no optimal solution.\n",
      "The CommonGround optimization problem had no optimal solution.\n",
      "The tCommonGround optimization problem had no optimal solution.\n"
     ]
    },
    {
     "name": "stdout",
     "output_type": "stream",
     "text": [
      "The CommonGround optimization problem had no optimal solution.\n",
      "The tCommonGround optimization problem had no optimal solution.\n",
      "The CommonGround optimization problem had no optimal solution.\n",
      "The tCommonGround optimization problem had no optimal solution.\n"
     ]
    },
    {
     "name": "stdout",
     "output_type": "stream",
     "text": [
      "The CommonGround optimization problem had no optimal solution.\n",
      "The tCommonGround optimization problem had no optimal solution.\n",
      "The CommonGround optimization problem had no optimal solution.\n"
     ]
    },
    {
     "name": "stdout",
     "output_type": "stream",
     "text": [
      "The tCommonGround optimization problem had no optimal solution.\n",
      "The CommonGround optimization problem had no optimal solution.\n",
      "The tCommonGround optimization problem had no optimal solution.\n",
      "The CommonGround optimization problem had no optimal solution.\n"
     ]
    },
    {
     "name": "stdout",
     "output_type": "stream",
     "text": [
      "The tCommonGround optimization problem had no optimal solution.\n",
      "The CommonGround optimization problem had no optimal solution.\n",
      "The tCommonGround optimization problem had no optimal solution.\n",
      "The CommonGround optimization problem had no optimal solution.\n"
     ]
    },
    {
     "name": "stdout",
     "output_type": "stream",
     "text": [
      "The tCommonGround optimization problem had no optimal solution.\n",
      "The CommonGround optimization problem had no optimal solution.\n",
      "The tCommonGround optimization problem had no optimal solution.\n"
     ]
    },
    {
     "name": "stdout",
     "output_type": "stream",
     "text": [
      "The CommonGround optimization problem had no optimal solution.\n",
      "The tCommonGround optimization problem had no optimal solution.\n",
      "The CommonGround optimization problem had no optimal solution.\n",
      "The tCommonGround optimization problem had no optimal solution.\n"
     ]
    },
    {
     "name": "stdout",
     "output_type": "stream",
     "text": [
      "The CommonGround optimization problem had no optimal solution.\n",
      "The tCommonGround optimization problem had no optimal solution.\n",
      "The CommonGround optimization problem had no optimal solution.\n",
      "The tCommonGround optimization problem had no optimal solution.\n"
     ]
    },
    {
     "name": "stdout",
     "output_type": "stream",
     "text": [
      "The CommonGround optimization problem had no optimal solution.\n",
      "The tCommonGround optimization problem had no optimal solution.\n",
      "The CommonGround optimization problem had no optimal solution.\n",
      "The tCommonGround optimization problem had no optimal solution.\n"
     ]
    },
    {
     "name": "stdout",
     "output_type": "stream",
     "text": [
      "The CommonGround optimization problem had no optimal solution.\n",
      "The tCommonGround optimization problem had no optimal solution.\n",
      "The CommonGround optimization problem had no optimal solution.\n",
      "The tCommonGround optimization problem had no optimal solution.\n"
     ]
    },
    {
     "name": "stdout",
     "output_type": "stream",
     "text": [
      "The CommonGround optimization problem had no optimal solution.\n",
      "The tCommonGround optimization problem had no optimal solution.\n",
      "The CommonGround optimization problem had no optimal solution.\n",
      "The tCommonGround optimization problem had no optimal solution.\n"
     ]
    },
    {
     "name": "stdout",
     "output_type": "stream",
     "text": [
      "The CommonGround optimization problem had no optimal solution.\n",
      "The tCommonGround optimization problem had no optimal solution.\n",
      "The CommonGround optimization problem had no optimal solution.\n",
      "The tCommonGround optimization problem had no optimal solution.\n"
     ]
    },
    {
     "name": "stdout",
     "output_type": "stream",
     "text": [
      "The CommonGround optimization problem had no optimal solution.\n",
      "The tCommonGround optimization problem had no optimal solution.\n",
      "The CommonGround optimization problem had no optimal solution.\n",
      "The tCommonGround optimization problem had no optimal solution.\n"
     ]
    },
    {
     "name": "stdout",
     "output_type": "stream",
     "text": [
      "The CommonGround optimization problem had no optimal solution.\n",
      "The tCommonGround optimization problem had no optimal solution.\n",
      "The CommonGround optimization problem had no optimal solution.\n",
      "The tCommonGround optimization problem had no optimal solution.\n"
     ]
    },
    {
     "name": "stdout",
     "output_type": "stream",
     "text": [
      "The CommonGround optimization problem had no optimal solution.\n",
      "The tCommonGround optimization problem had no optimal solution.\n",
      "The CommonGround optimization problem had no optimal solution.\n"
     ]
    },
    {
     "name": "stdout",
     "output_type": "stream",
     "text": [
      "The tCommonGround optimization problem had no optimal solution.\n"
     ]
    },
    {
     "name": "stdout",
     "output_type": "stream",
     "text": [
      "The CommonGround optimization problem had no optimal solution.\n",
      "The tCommonGround optimization problem had no optimal solution.\n",
      "The CommonGround optimization problem had no optimal solution.\n",
      "The tCommonGround optimization problem had no optimal solution.\n"
     ]
    },
    {
     "name": "stdout",
     "output_type": "stream",
     "text": [
      "The CommonGround optimization problem had no optimal solution.\n",
      "The tCommonGround optimization problem had no optimal solution.\n",
      "The CommonGround optimization problem had no optimal solution.\n",
      "The tCommonGround optimization problem had no optimal solution.\n"
     ]
    },
    {
     "name": "stdout",
     "output_type": "stream",
     "text": [
      "The CommonGround optimization problem had no optimal solution.\n",
      "The tCommonGround optimization problem had no optimal solution.\n",
      "The CommonGround optimization problem had no optimal solution.\n",
      "The tCommonGround optimization problem had no optimal solution.\n"
     ]
    },
    {
     "name": "stdout",
     "output_type": "stream",
     "text": [
      "The CommonGround optimization problem had no optimal solution.\n",
      "The tCommonGround optimization problem had no optimal solution.\n",
      "The CommonGround optimization problem had no optimal solution.\n",
      "The tCommonGround optimization problem had no optimal solution.\n"
     ]
    },
    {
     "name": "stdout",
     "output_type": "stream",
     "text": [
      "The CommonGround optimization problem had no optimal solution.\n",
      "The tCommonGround optimization problem had no optimal solution.\n",
      "The CommonGround optimization problem had no optimal solution.\n",
      "The tCommonGround optimization problem had no optimal solution.\n"
     ]
    },
    {
     "name": "stdout",
     "output_type": "stream",
     "text": [
      "The CommonGround optimization problem had no optimal solution.\n",
      "The tCommonGround optimization problem had no optimal solution.\n",
      "The CommonGround optimization problem had no optimal solution.\n",
      "The tCommonGround optimization problem had no optimal solution.\n"
     ]
    },
    {
     "name": "stdout",
     "output_type": "stream",
     "text": [
      "The CommonGround optimization problem had no optimal solution.\n",
      "The tCommonGround optimization problem had no optimal solution.\n",
      "The CommonGround optimization problem had no optimal solution.\n",
      "The tCommonGround optimization problem had no optimal solution.\n"
     ]
    },
    {
     "name": "stdout",
     "output_type": "stream",
     "text": [
      "The CommonGround optimization problem had no optimal solution.\n",
      "The tCommonGround optimization problem had no optimal solution.\n",
      "The CommonGround optimization problem had no optimal solution.\n",
      "The tCommonGround optimization problem had no optimal solution.\n"
     ]
    },
    {
     "name": "stdout",
     "output_type": "stream",
     "text": [
      "The CommonGround optimization problem had no optimal solution.\n",
      "The tCommonGround optimization problem had no optimal solution.\n",
      "The CommonGround optimization problem had no optimal solution.\n",
      "The tCommonGround optimization problem had no optimal solution.\n"
     ]
    },
    {
     "name": "stdout",
     "output_type": "stream",
     "text": [
      "The CommonGround optimization problem had no optimal solution.\n",
      "The tCommonGround optimization problem had no optimal solution.\n",
      "The CommonGround optimization problem had no optimal solution.\n",
      "The tCommonGround optimization problem had no optimal solution.\n"
     ]
    },
    {
     "name": "stdout",
     "output_type": "stream",
     "text": [
      "The CommonGround optimization problem had no optimal solution.\n",
      "The tCommonGround optimization problem had no optimal solution.\n",
      "The CommonGround optimization problem had no optimal solution.\n",
      "The tCommonGround optimization problem had no optimal solution.\n"
     ]
    },
    {
     "name": "stdout",
     "output_type": "stream",
     "text": [
      "The CommonGround optimization problem had no optimal solution.\n",
      "The tCommonGround optimization problem had no optimal solution.\n",
      "The CommonGround optimization problem had no optimal solution.\n",
      "The tCommonGround optimization problem had no optimal solution.\n"
     ]
    },
    {
     "name": "stdout",
     "output_type": "stream",
     "text": [
      "The CommonGround optimization problem had no optimal solution.\n",
      "The tCommonGround optimization problem had no optimal solution.\n",
      "The CommonGround optimization problem had no optimal solution.\n",
      "The tCommonGround optimization problem had no optimal solution.\n"
     ]
    },
    {
     "name": "stdout",
     "output_type": "stream",
     "text": [
      "The CommonGround optimization problem had no optimal solution.\n",
      "The tCommonGround optimization problem had no optimal solution.\n",
      "The CommonGround optimization problem had no optimal solution.\n",
      "The tCommonGround optimization problem had no optimal solution.\n"
     ]
    },
    {
     "name": "stdout",
     "output_type": "stream",
     "text": [
      "The CommonGround optimization problem had no optimal solution.\n",
      "The tCommonGround optimization problem had no optimal solution.\n",
      "The CommonGround optimization problem had no optimal solution.\n",
      "The tCommonGround optimization problem had no optimal solution.\n"
     ]
    },
    {
     "name": "stdout",
     "output_type": "stream",
     "text": [
      "The CommonGround optimization problem had no optimal solution.\n",
      "The tCommonGround optimization problem had no optimal solution.\n",
      "The CommonGround optimization problem had no optimal solution.\n",
      "The tCommonGround optimization problem had no optimal solution.\n"
     ]
    },
    {
     "name": "stdout",
     "output_type": "stream",
     "text": [
      "The CommonGround optimization problem had no optimal solution.\n",
      "The tCommonGround optimization problem had no optimal solution.\n",
      "The CommonGround optimization problem had no optimal solution.\n",
      "The tCommonGround optimization problem had no optimal solution.\n"
     ]
    },
    {
     "name": "stdout",
     "output_type": "stream",
     "text": [
      "The CommonGround optimization problem had no optimal solution.\n",
      "The tCommonGround optimization problem had no optimal solution.\n",
      "The CommonGround optimization problem had no optimal solution.\n",
      "The tCommonGround optimization problem had no optimal solution.\n"
     ]
    },
    {
     "name": "stdout",
     "output_type": "stream",
     "text": [
      "The CommonGround optimization problem had no optimal solution.\n",
      "The tCommonGround optimization problem had no optimal solution.\n",
      "The CommonGround optimization problem had no optimal solution.\n",
      "The tCommonGround optimization problem had no optimal solution.\n"
     ]
    },
    {
     "name": "stdout",
     "output_type": "stream",
     "text": [
      "The CommonGround optimization problem had no optimal solution.\n",
      "The tCommonGround optimization problem had no optimal solution.\n",
      "The CommonGround optimization problem had no optimal solution.\n",
      "The tCommonGround optimization problem had no optimal solution.\n"
     ]
    },
    {
     "name": "stdout",
     "output_type": "stream",
     "text": [
      "The CommonGround optimization problem had no optimal solution.\n",
      "The tCommonGround optimization problem had no optimal solution.\n",
      "The CommonGround optimization problem had no optimal solution.\n",
      "The tCommonGround optimization problem had no optimal solution.\n"
     ]
    },
    {
     "name": "stdout",
     "output_type": "stream",
     "text": [
      "The CommonGround optimization problem had no optimal solution.\n",
      "The tCommonGround optimization problem had no optimal solution.\n",
      "The CommonGround optimization problem had no optimal solution.\n",
      "The tCommonGround optimization problem had no optimal solution.\n"
     ]
    },
    {
     "name": "stdout",
     "output_type": "stream",
     "text": [
      "The CommonGround optimization problem had no optimal solution.\n",
      "The tCommonGround optimization problem had no optimal solution.\n",
      "The CommonGround optimization problem had no optimal solution.\n",
      "The tCommonGround optimization problem had no optimal solution.\n"
     ]
    },
    {
     "name": "stdout",
     "output_type": "stream",
     "text": [
      "The CommonGround optimization problem had no optimal solution.\n",
      "The tCommonGround optimization problem had no optimal solution.\n",
      "The CommonGround optimization problem had no optimal solution.\n",
      "The tCommonGround optimization problem had no optimal solution.\n"
     ]
    },
    {
     "name": "stdout",
     "output_type": "stream",
     "text": [
      "The CommonGround optimization problem had no optimal solution.\n",
      "The tCommonGround optimization problem had no optimal solution.\n",
      "The CommonGround optimization problem had no optimal solution.\n",
      "The tCommonGround optimization problem had no optimal solution.\n"
     ]
    },
    {
     "name": "stdout",
     "output_type": "stream",
     "text": [
      "The CommonGround optimization problem had no optimal solution.\n",
      "The tCommonGround optimization problem had no optimal solution.\n",
      "The CommonGround optimization problem had no optimal solution.\n",
      "The tCommonGround optimization problem had no optimal solution.\n"
     ]
    },
    {
     "name": "stdout",
     "output_type": "stream",
     "text": [
      "The CommonGround optimization problem had no optimal solution.\n",
      "The tCommonGround optimization problem had no optimal solution.\n",
      "The CommonGround optimization problem had no optimal solution.\n",
      "The tCommonGround optimization problem had no optimal solution.\n"
     ]
    },
    {
     "name": "stdout",
     "output_type": "stream",
     "text": [
      "The CommonGround optimization problem had no optimal solution.\n",
      "The tCommonGround optimization problem had no optimal solution.\n",
      "The CommonGround optimization problem had no optimal solution.\n",
      "The tCommonGround optimization problem had no optimal solution.\n"
     ]
    },
    {
     "name": "stdout",
     "output_type": "stream",
     "text": [
      "The CommonGround optimization problem had no optimal solution.\n",
      "The tCommonGround optimization problem had no optimal solution.\n",
      "The CommonGround optimization problem had no optimal solution.\n",
      "The tCommonGround optimization problem had no optimal solution.\n"
     ]
    },
    {
     "name": "stdout",
     "output_type": "stream",
     "text": [
      "The CommonGround optimization problem had no optimal solution.\n",
      "The tCommonGround optimization problem had no optimal solution.\n",
      "The CommonGround optimization problem had no optimal solution.\n",
      "The tCommonGround optimization problem had no optimal solution.\n"
     ]
    },
    {
     "name": "stdout",
     "output_type": "stream",
     "text": [
      "The CommonGround optimization problem had no optimal solution.\n",
      "The tCommonGround optimization problem had no optimal solution.\n",
      "The CommonGround optimization problem had no optimal solution.\n",
      "The tCommonGround optimization problem had no optimal solution.\n"
     ]
    },
    {
     "name": "stdout",
     "output_type": "stream",
     "text": [
      "The CommonGround optimization problem had no optimal solution.\n",
      "The tCommonGround optimization problem had no optimal solution.\n",
      "The CommonGround optimization problem had no optimal solution.\n",
      "The tCommonGround optimization problem had no optimal solution.\n"
     ]
    },
    {
     "name": "stdout",
     "output_type": "stream",
     "text": [
      "The CommonGround optimization problem had no optimal solution.\n",
      "The tCommonGround optimization problem had no optimal solution.\n",
      "The CommonGround optimization problem had no optimal solution.\n",
      "The tCommonGround optimization problem had no optimal solution.\n"
     ]
    },
    {
     "name": "stdout",
     "output_type": "stream",
     "text": [
      "The CommonGround optimization problem had no optimal solution.\n",
      "The tCommonGround optimization problem had no optimal solution.\n",
      "The CommonGround optimization problem had no optimal solution.\n",
      "The tCommonGround optimization problem had no optimal solution.\n"
     ]
    },
    {
     "name": "stdout",
     "output_type": "stream",
     "text": [
      "The CommonGround optimization problem had no optimal solution.\n",
      "The tCommonGround optimization problem had no optimal solution.\n",
      "The CommonGround optimization problem had no optimal solution.\n",
      "The tCommonGround optimization problem had no optimal solution.\n"
     ]
    },
    {
     "name": "stdout",
     "output_type": "stream",
     "text": [
      "The CommonGround optimization problem had no optimal solution.\n",
      "The tCommonGround optimization problem had no optimal solution.\n",
      "The CommonGround optimization problem had no optimal solution.\n",
      "The tCommonGround optimization problem had no optimal solution.\n"
     ]
    },
    {
     "name": "stdout",
     "output_type": "stream",
     "text": [
      "The CommonGround optimization problem had no optimal solution.\n",
      "The tCommonGround optimization problem had no optimal solution.\n",
      "The CommonGround optimization problem had no optimal solution.\n",
      "The tCommonGround optimization problem had no optimal solution.\n"
     ]
    },
    {
     "name": "stdout",
     "output_type": "stream",
     "text": [
      "The CommonGround optimization problem had no optimal solution.\n",
      "The tCommonGround optimization problem had no optimal solution.\n",
      "The CommonGround optimization problem had no optimal solution.\n"
     ]
    },
    {
     "name": "stdout",
     "output_type": "stream",
     "text": [
      "The tCommonGround optimization problem had no optimal solution.\n",
      "The CommonGround optimization problem had no optimal solution.\n",
      "The tCommonGround optimization problem had no optimal solution.\n",
      "The CommonGround optimization problem had no optimal solution.\n"
     ]
    },
    {
     "name": "stdout",
     "output_type": "stream",
     "text": [
      "The tCommonGround optimization problem had no optimal solution.\n",
      "The CommonGround optimization problem had no optimal solution.\n",
      "The tCommonGround optimization problem had no optimal solution.\n",
      "The CommonGround optimization problem had no optimal solution.\n"
     ]
    },
    {
     "name": "stdout",
     "output_type": "stream",
     "text": [
      "The tCommonGround optimization problem had no optimal solution.\n",
      "The CommonGround optimization problem had no optimal solution.\n",
      "The tCommonGround optimization problem had no optimal solution.\n"
     ]
    },
    {
     "name": "stdout",
     "output_type": "stream",
     "text": [
      "The CommonGround optimization problem had no optimal solution.\n",
      "The tCommonGround optimization problem had no optimal solution.\n",
      "The CommonGround optimization problem had no optimal solution.\n",
      "The tCommonGround optimization problem had no optimal solution.\n"
     ]
    },
    {
     "name": "stdout",
     "output_type": "stream",
     "text": [
      "The CommonGround optimization problem had no optimal solution.\n",
      "The tCommonGround optimization problem had no optimal solution.\n",
      "The CommonGround optimization problem had no optimal solution.\n",
      "The tCommonGround optimization problem had no optimal solution.\n"
     ]
    },
    {
     "name": "stdout",
     "output_type": "stream",
     "text": [
      "The CommonGround optimization problem had no optimal solution.\n",
      "The tCommonGround optimization problem had no optimal solution.\n",
      "The CommonGround optimization problem had no optimal solution.\n",
      "The tCommonGround optimization problem had no optimal solution.\n"
     ]
    },
    {
     "name": "stdout",
     "output_type": "stream",
     "text": [
      "The CommonGround optimization problem had no optimal solution.\n",
      "The tCommonGround optimization problem had no optimal solution.\n",
      "The CommonGround optimization problem had no optimal solution.\n",
      "The tCommonGround optimization problem had no optimal solution.\n"
     ]
    },
    {
     "name": "stdout",
     "output_type": "stream",
     "text": [
      "The CommonGround optimization problem had no optimal solution.\n",
      "The tCommonGround optimization problem had no optimal solution.\n"
     ]
    },
    {
     "name": "stdout",
     "output_type": "stream",
     "text": [
      "The CommonGround optimization problem had no optimal solution.\n",
      "The tCommonGround optimization problem had no optimal solution.\n",
      "The CommonGround optimization problem had no optimal solution.\n",
      "The tCommonGround optimization problem had no optimal solution.\n"
     ]
    },
    {
     "name": "stdout",
     "output_type": "stream",
     "text": [
      "The CommonGround optimization problem had no optimal solution.\n",
      "The tCommonGround optimization problem had no optimal solution.\n",
      "The CommonGround optimization problem had no optimal solution.\n",
      "The tCommonGround optimization problem had no optimal solution.\n"
     ]
    },
    {
     "name": "stdout",
     "output_type": "stream",
     "text": [
      "The CommonGround optimization problem had no optimal solution.\n",
      "The tCommonGround optimization problem had no optimal solution.\n",
      "The CommonGround optimization problem had no optimal solution.\n",
      "The tCommonGround optimization problem had no optimal solution.\n"
     ]
    },
    {
     "name": "stdout",
     "output_type": "stream",
     "text": [
      "The CommonGround optimization problem had no optimal solution.\n",
      "The tCommonGround optimization problem had no optimal solution.\n",
      "The CommonGround optimization problem had no optimal solution.\n",
      "The tCommonGround optimization problem had no optimal solution.\n"
     ]
    },
    {
     "name": "stdout",
     "output_type": "stream",
     "text": [
      "The CommonGround optimization problem had no optimal solution.\n",
      "The tCommonGround optimization problem had no optimal solution.\n",
      "The CommonGround optimization problem had no optimal solution.\n",
      "The tCommonGround optimization problem had no optimal solution.\n"
     ]
    },
    {
     "name": "stdout",
     "output_type": "stream",
     "text": [
      "The CommonGround optimization problem had no optimal solution.\n",
      "The tCommonGround optimization problem had no optimal solution.\n",
      "The CommonGround optimization problem had no optimal solution.\n",
      "The tCommonGround optimization problem had no optimal solution.\n"
     ]
    },
    {
     "name": "stdout",
     "output_type": "stream",
     "text": [
      "The CommonGround optimization problem had no optimal solution.\n",
      "The tCommonGround optimization problem had no optimal solution.\n",
      "The CommonGround optimization problem had no optimal solution.\n",
      "The tCommonGround optimization problem had no optimal solution.\n"
     ]
    },
    {
     "name": "stdout",
     "output_type": "stream",
     "text": [
      "The CommonGround optimization problem had no optimal solution.\n",
      "The tCommonGround optimization problem had no optimal solution.\n",
      "The CommonGround optimization problem had no optimal solution.\n",
      "The tCommonGround optimization problem had no optimal solution.\n"
     ]
    },
    {
     "name": "stdout",
     "output_type": "stream",
     "text": [
      "The CommonGround optimization problem had no optimal solution.\n",
      "The tCommonGround optimization problem had no optimal solution.\n",
      "The CommonGround optimization problem had no optimal solution.\n",
      "The tCommonGround optimization problem had no optimal solution.\n"
     ]
    },
    {
     "name": "stdout",
     "output_type": "stream",
     "text": [
      "The CommonGround optimization problem had no optimal solution.\n",
      "The tCommonGround optimization problem had no optimal solution.\n",
      "The CommonGround optimization problem had no optimal solution.\n",
      "The tCommonGround optimization problem had no optimal solution.\n"
     ]
    },
    {
     "name": "stdout",
     "output_type": "stream",
     "text": [
      "The CommonGround optimization problem had no optimal solution.\n",
      "The tCommonGround optimization problem had no optimal solution.\n",
      "The CommonGround optimization problem had no optimal solution.\n",
      "The tCommonGround optimization problem had no optimal solution.\n"
     ]
    },
    {
     "name": "stdout",
     "output_type": "stream",
     "text": [
      "The CommonGround optimization problem had no optimal solution.\n",
      "The tCommonGround optimization problem had no optimal solution.\n",
      "The CommonGround optimization problem had no optimal solution.\n",
      "The tCommonGround optimization problem had no optimal solution.\n"
     ]
    },
    {
     "name": "stdout",
     "output_type": "stream",
     "text": [
      "The CommonGround optimization problem had no optimal solution.\n",
      "The tCommonGround optimization problem had no optimal solution.\n",
      "The CommonGround optimization problem had no optimal solution.\n",
      "The tCommonGround optimization problem had no optimal solution.\n"
     ]
    },
    {
     "name": "stdout",
     "output_type": "stream",
     "text": [
      "The CommonGround optimization problem had no optimal solution.\n",
      "The tCommonGround optimization problem had no optimal solution.\n",
      "The CommonGround optimization problem had no optimal solution.\n",
      "The tCommonGround optimization problem had no optimal solution.\n"
     ]
    },
    {
     "name": "stdout",
     "output_type": "stream",
     "text": [
      "The CommonGround optimization problem had no optimal solution.\n",
      "The tCommonGround optimization problem had no optimal solution.\n",
      "The CommonGround optimization problem had no optimal solution.\n",
      "The tCommonGround optimization problem had no optimal solution.\n"
     ]
    },
    {
     "name": "stdout",
     "output_type": "stream",
     "text": [
      "The CommonGround optimization problem had no optimal solution.\n",
      "The tCommonGround optimization problem had no optimal solution.\n",
      "The CommonGround optimization problem had no optimal solution.\n",
      "The tCommonGround optimization problem had no optimal solution.\n"
     ]
    },
    {
     "name": "stdout",
     "output_type": "stream",
     "text": [
      "The CommonGround optimization problem had no optimal solution.\n",
      "The tCommonGround optimization problem had no optimal solution.\n",
      "The CommonGround optimization problem had no optimal solution.\n",
      "The tCommonGround optimization problem had no optimal solution.\n"
     ]
    },
    {
     "name": "stdout",
     "output_type": "stream",
     "text": [
      "The CommonGround optimization problem had no optimal solution.\n",
      "The tCommonGround optimization problem had no optimal solution.\n",
      "The CommonGround optimization problem had no optimal solution.\n",
      "The tCommonGround optimization problem had no optimal solution.\n"
     ]
    },
    {
     "name": "stdout",
     "output_type": "stream",
     "text": [
      "The CommonGround optimization problem had no optimal solution.\n",
      "The tCommonGround optimization problem had no optimal solution.\n",
      "The CommonGround optimization problem had no optimal solution.\n",
      "The tCommonGround optimization problem had no optimal solution.\n"
     ]
    },
    {
     "name": "stdout",
     "output_type": "stream",
     "text": [
      "The CommonGround optimization problem had no optimal solution.\n",
      "The tCommonGround optimization problem had no optimal solution.\n",
      "The CommonGround optimization problem had no optimal solution.\n",
      "The tCommonGround optimization problem had no optimal solution.\n"
     ]
    },
    {
     "name": "stdout",
     "output_type": "stream",
     "text": [
      "The CommonGround optimization problem had no optimal solution.\n",
      "The tCommonGround optimization problem had no optimal solution.\n",
      "The CommonGround optimization problem had no optimal solution.\n",
      "The tCommonGround optimization problem had no optimal solution.\n"
     ]
    },
    {
     "name": "stdout",
     "output_type": "stream",
     "text": [
      "The CommonGround optimization problem had no optimal solution.\n",
      "The tCommonGround optimization problem had no optimal solution.\n",
      "The CommonGround optimization problem had no optimal solution.\n",
      "The tCommonGround optimization problem had no optimal solution.\n"
     ]
    },
    {
     "name": "stdout",
     "output_type": "stream",
     "text": [
      "The CommonGround optimization problem had no optimal solution.\n",
      "The tCommonGround optimization problem had no optimal solution.\n",
      "The CommonGround optimization problem had no optimal solution.\n",
      "The tCommonGround optimization problem had no optimal solution.\n"
     ]
    },
    {
     "name": "stdout",
     "output_type": "stream",
     "text": [
      "The CommonGround optimization problem had no optimal solution.\n",
      "The tCommonGround optimization problem had no optimal solution.\n",
      "The CommonGround optimization problem had no optimal solution.\n",
      "The tCommonGround optimization problem had no optimal solution.\n"
     ]
    },
    {
     "name": "stdout",
     "output_type": "stream",
     "text": [
      "The CommonGround optimization problem had no optimal solution.\n",
      "The tCommonGround optimization problem had no optimal solution.\n",
      "The CommonGround optimization problem had no optimal solution.\n",
      "The tCommonGround optimization problem had no optimal solution.\n"
     ]
    },
    {
     "name": "stdout",
     "output_type": "stream",
     "text": [
      "The CommonGround optimization problem had no optimal solution.\n",
      "The tCommonGround optimization problem had no optimal solution.\n",
      "The CommonGround optimization problem had no optimal solution.\n",
      "The tCommonGround optimization problem had no optimal solution.\n"
     ]
    },
    {
     "name": "stdout",
     "output_type": "stream",
     "text": [
      "The CommonGround optimization problem had no optimal solution.\n",
      "The tCommonGround optimization problem had no optimal solution.\n",
      "The CommonGround optimization problem had no optimal solution.\n",
      "The tCommonGround optimization problem had no optimal solution.\n"
     ]
    },
    {
     "name": "stdout",
     "output_type": "stream",
     "text": [
      "The CommonGround optimization problem had no optimal solution.\n",
      "The tCommonGround optimization problem had no optimal solution.\n",
      "The CommonGround optimization problem had no optimal solution.\n",
      "The tCommonGround optimization problem had no optimal solution.\n"
     ]
    },
    {
     "name": "stdout",
     "output_type": "stream",
     "text": [
      "The CommonGround optimization problem had no optimal solution.\n",
      "The tCommonGround optimization problem had no optimal solution.\n",
      "The CommonGround optimization problem had no optimal solution.\n"
     ]
    },
    {
     "name": "stdout",
     "output_type": "stream",
     "text": [
      "The tCommonGround optimization problem had no optimal solution.\n",
      "The CommonGround optimization problem had no optimal solution.\n",
      "The tCommonGround optimization problem had no optimal solution.\n",
      "The CommonGround optimization problem had no optimal solution.\n"
     ]
    },
    {
     "name": "stdout",
     "output_type": "stream",
     "text": [
      "The tCommonGround optimization problem had no optimal solution.\n",
      "The CommonGround optimization problem had no optimal solution.\n",
      "The tCommonGround optimization problem had no optimal solution.\n",
      "The CommonGround optimization problem had no optimal solution.\n"
     ]
    },
    {
     "name": "stdout",
     "output_type": "stream",
     "text": [
      "The tCommonGround optimization problem had no optimal solution.\n",
      "The CommonGround optimization problem had no optimal solution.\n",
      "The tCommonGround optimization problem had no optimal solution.\n"
     ]
    },
    {
     "name": "stdout",
     "output_type": "stream",
     "text": [
      "The CommonGround optimization problem had no optimal solution.\n",
      "The tCommonGround optimization problem had no optimal solution.\n",
      "The CommonGround optimization problem had no optimal solution.\n",
      "The tCommonGround optimization problem had no optimal solution.\n"
     ]
    },
    {
     "name": "stdout",
     "output_type": "stream",
     "text": [
      "The CommonGround optimization problem had no optimal solution.\n",
      "The tCommonGround optimization problem had no optimal solution.\n",
      "The CommonGround optimization problem had no optimal solution.\n",
      "The tCommonGround optimization problem had no optimal solution.\n"
     ]
    },
    {
     "name": "stdout",
     "output_type": "stream",
     "text": [
      "The CommonGround optimization problem had no optimal solution.\n",
      "The tCommonGround optimization problem had no optimal solution.\n",
      "The CommonGround optimization problem had no optimal solution.\n",
      "The tCommonGround optimization problem had no optimal solution.\n"
     ]
    },
    {
     "name": "stdout",
     "output_type": "stream",
     "text": [
      "The CommonGround optimization problem had no optimal solution.\n",
      "The tCommonGround optimization problem had no optimal solution.\n",
      "The CommonGround optimization problem had no optimal solution.\n",
      "The tCommonGround optimization problem had no optimal solution.\n"
     ]
    },
    {
     "name": "stdout",
     "output_type": "stream",
     "text": [
      "The CommonGround optimization problem had no optimal solution.\n",
      "The tCommonGround optimization problem had no optimal solution.\n",
      "The CommonGround optimization problem had no optimal solution.\n",
      "The tCommonGround optimization problem had no optimal solution.\n"
     ]
    },
    {
     "name": "stdout",
     "output_type": "stream",
     "text": [
      "The CommonGround optimization problem had no optimal solution.\n",
      "The tCommonGround optimization problem had no optimal solution.\n",
      "The CommonGround optimization problem had no optimal solution.\n"
     ]
    },
    {
     "name": "stdout",
     "output_type": "stream",
     "text": [
      "The tCommonGround optimization problem had no optimal solution.\n",
      "The CommonGround optimization problem had no optimal solution.\n",
      "The tCommonGround optimization problem had no optimal solution.\n"
     ]
    },
    {
     "name": "stdout",
     "output_type": "stream",
     "text": [
      "The CommonGround optimization problem had no optimal solution.\n",
      "The tCommonGround optimization problem had no optimal solution.\n",
      "The CommonGround optimization problem had no optimal solution.\n",
      "The tCommonGround optimization problem had no optimal solution.\n"
     ]
    },
    {
     "name": "stdout",
     "output_type": "stream",
     "text": [
      "The CommonGround optimization problem had no optimal solution.\n",
      "The tCommonGround optimization problem had no optimal solution.\n",
      "The CommonGround optimization problem had no optimal solution.\n",
      "The tCommonGround optimization problem had no optimal solution.\n"
     ]
    },
    {
     "name": "stdout",
     "output_type": "stream",
     "text": [
      "The CommonGround optimization problem had no optimal solution.\n",
      "The tCommonGround optimization problem had no optimal solution.\n",
      "The CommonGround optimization problem had no optimal solution.\n",
      "The tCommonGround optimization problem had no optimal solution.\n"
     ]
    },
    {
     "name": "stdout",
     "output_type": "stream",
     "text": [
      "The CommonGround optimization problem had no optimal solution.\n",
      "The tCommonGround optimization problem had no optimal solution.\n",
      "The CommonGround optimization problem had no optimal solution.\n",
      "The tCommonGround optimization problem had no optimal solution.\n"
     ]
    },
    {
     "name": "stdout",
     "output_type": "stream",
     "text": [
      "The CommonGround optimization problem had no optimal solution.\n",
      "The tCommonGround optimization problem had no optimal solution.\n"
     ]
    },
    {
     "name": "stdout",
     "output_type": "stream",
     "text": [
      "The CommonGround optimization problem had no optimal solution.\n",
      "The tCommonGround optimization problem had no optimal solution.\n",
      "The CommonGround optimization problem had no optimal solution.\n",
      "The tCommonGround optimization problem had no optimal solution.\n"
     ]
    },
    {
     "name": "stdout",
     "output_type": "stream",
     "text": [
      "The CommonGround optimization problem had no optimal solution.\n",
      "The tCommonGround optimization problem had no optimal solution.\n",
      "The CommonGround optimization problem had no optimal solution.\n",
      "The tCommonGround optimization problem had no optimal solution.\n"
     ]
    },
    {
     "name": "stdout",
     "output_type": "stream",
     "text": [
      "The CommonGround optimization problem had no optimal solution.\n",
      "The tCommonGround optimization problem had no optimal solution.\n",
      "The CommonGround optimization problem had no optimal solution.\n",
      "The tCommonGround optimization problem had no optimal solution.\n"
     ]
    },
    {
     "name": "stdout",
     "output_type": "stream",
     "text": [
      "The CommonGround optimization problem had no optimal solution.\n",
      "The tCommonGround optimization problem had no optimal solution.\n",
      "The CommonGround optimization problem had no optimal solution.\n",
      "The tCommonGround optimization problem had no optimal solution.\n"
     ]
    },
    {
     "name": "stdout",
     "output_type": "stream",
     "text": [
      "The CommonGround optimization problem had no optimal solution.\n",
      "The tCommonGround optimization problem had no optimal solution.\n",
      "The CommonGround optimization problem had no optimal solution.\n",
      "The tCommonGround optimization problem had no optimal solution.\n"
     ]
    },
    {
     "name": "stdout",
     "output_type": "stream",
     "text": [
      "The CommonGround optimization problem had no optimal solution.\n",
      "The tCommonGround optimization problem had no optimal solution.\n",
      "The CommonGround optimization problem had no optimal solution.\n",
      "The tCommonGround optimization problem had no optimal solution.\n"
     ]
    },
    {
     "name": "stdout",
     "output_type": "stream",
     "text": [
      "The CommonGround optimization problem had no optimal solution.\n",
      "The tCommonGround optimization problem had no optimal solution.\n",
      "The CommonGround optimization problem had no optimal solution.\n",
      "The tCommonGround optimization problem had no optimal solution.\n"
     ]
    },
    {
     "name": "stdout",
     "output_type": "stream",
     "text": [
      "The CommonGround optimization problem had no optimal solution.\n",
      "The tCommonGround optimization problem had no optimal solution.\n",
      "The CommonGround optimization problem had no optimal solution.\n",
      "The tCommonGround optimization problem had no optimal solution.\n"
     ]
    },
    {
     "name": "stdout",
     "output_type": "stream",
     "text": [
      "The CommonGround optimization problem had no optimal solution.\n",
      "The tCommonGround optimization problem had no optimal solution.\n",
      "The CommonGround optimization problem had no optimal solution.\n",
      "The tCommonGround optimization problem had no optimal solution.\n"
     ]
    },
    {
     "name": "stdout",
     "output_type": "stream",
     "text": [
      "The CommonGround optimization problem had no optimal solution.\n",
      "The tCommonGround optimization problem had no optimal solution.\n",
      "The CommonGround optimization problem had no optimal solution.\n",
      "The tCommonGround optimization problem had no optimal solution.\n"
     ]
    },
    {
     "name": "stdout",
     "output_type": "stream",
     "text": [
      "The CommonGround optimization problem had no optimal solution.\n",
      "The tCommonGround optimization problem had no optimal solution.\n",
      "The CommonGround optimization problem had no optimal solution.\n",
      "The tCommonGround optimization problem had no optimal solution.\n"
     ]
    },
    {
     "name": "stdout",
     "output_type": "stream",
     "text": [
      "The CommonGround optimization problem had no optimal solution.\n",
      "The tCommonGround optimization problem had no optimal solution.\n",
      "The CommonGround optimization problem had no optimal solution.\n",
      "The tCommonGround optimization problem had no optimal solution.\n"
     ]
    },
    {
     "name": "stdout",
     "output_type": "stream",
     "text": [
      "The CommonGround optimization problem had no optimal solution.\n",
      "The tCommonGround optimization problem had no optimal solution.\n",
      "The CommonGround optimization problem had no optimal solution.\n",
      "The tCommonGround optimization problem had no optimal solution.\n"
     ]
    },
    {
     "name": "stdout",
     "output_type": "stream",
     "text": [
      "The CommonGround optimization problem had no optimal solution.\n",
      "The tCommonGround optimization problem had no optimal solution.\n",
      "The CommonGround optimization problem had no optimal solution.\n",
      "The tCommonGround optimization problem had no optimal solution.\n"
     ]
    },
    {
     "name": "stdout",
     "output_type": "stream",
     "text": [
      "The CommonGround optimization problem had no optimal solution.\n",
      "The tCommonGround optimization problem had no optimal solution.\n",
      "The CommonGround optimization problem had no optimal solution.\n",
      "The tCommonGround optimization problem had no optimal solution.\n"
     ]
    },
    {
     "name": "stdout",
     "output_type": "stream",
     "text": [
      "The CommonGround optimization problem had no optimal solution.\n",
      "The tCommonGround optimization problem had no optimal solution.\n",
      "The CommonGround optimization problem had no optimal solution.\n",
      "The tCommonGround optimization problem had no optimal solution.\n"
     ]
    },
    {
     "name": "stdout",
     "output_type": "stream",
     "text": [
      "The CommonGround optimization problem had no optimal solution.\n",
      "The tCommonGround optimization problem had no optimal solution.\n",
      "The CommonGround optimization problem had no optimal solution.\n",
      "The tCommonGround optimization problem had no optimal solution.\n"
     ]
    },
    {
     "name": "stdout",
     "output_type": "stream",
     "text": [
      "The CommonGround optimization problem had no optimal solution.\n",
      "The tCommonGround optimization problem had no optimal solution.\n",
      "The CommonGround optimization problem had no optimal solution.\n",
      "The tCommonGround optimization problem had no optimal solution.\n"
     ]
    },
    {
     "name": "stdout",
     "output_type": "stream",
     "text": [
      "The CommonGround optimization problem had no optimal solution.\n",
      "The tCommonGround optimization problem had no optimal solution.\n",
      "The CommonGround optimization problem had no optimal solution.\n",
      "The tCommonGround optimization problem had no optimal solution.\n"
     ]
    },
    {
     "name": "stdout",
     "output_type": "stream",
     "text": [
      "The CommonGround optimization problem had no optimal solution.\n",
      "The tCommonGround optimization problem had no optimal solution.\n",
      "The CommonGround optimization problem had no optimal solution.\n",
      "The tCommonGround optimization problem had no optimal solution.\n"
     ]
    },
    {
     "name": "stdout",
     "output_type": "stream",
     "text": [
      "The CommonGround optimization problem had no optimal solution.\n",
      "The tCommonGround optimization problem had no optimal solution.\n",
      "The CommonGround optimization problem had no optimal solution.\n",
      "The tCommonGround optimization problem had no optimal solution.\n"
     ]
    },
    {
     "name": "stdout",
     "output_type": "stream",
     "text": [
      "The CommonGround optimization problem had no optimal solution.\n",
      "The tCommonGround optimization problem had no optimal solution.\n",
      "The CommonGround optimization problem had no optimal solution.\n",
      "The tCommonGround optimization problem had no optimal solution.\n"
     ]
    },
    {
     "name": "stdout",
     "output_type": "stream",
     "text": [
      "The CommonGround optimization problem had no optimal solution.\n",
      "The tCommonGround optimization problem had no optimal solution.\n",
      "The CommonGround optimization problem had no optimal solution.\n",
      "The tCommonGround optimization problem had no optimal solution.\n"
     ]
    },
    {
     "name": "stdout",
     "output_type": "stream",
     "text": [
      "The CommonGround optimization problem had no optimal solution.\n",
      "The tCommonGround optimization problem had no optimal solution.\n",
      "The CommonGround optimization problem had no optimal solution.\n",
      "The tCommonGround optimization problem had no optimal solution.\n"
     ]
    },
    {
     "name": "stdout",
     "output_type": "stream",
     "text": [
      "The CommonGround optimization problem had no optimal solution.\n",
      "The tCommonGround optimization problem had no optimal solution.\n",
      "The CommonGround optimization problem had no optimal solution.\n",
      "The tCommonGround optimization problem had no optimal solution.\n"
     ]
    },
    {
     "name": "stdout",
     "output_type": "stream",
     "text": [
      "The CommonGround optimization problem had no optimal solution.\n",
      "The tCommonGround optimization problem had no optimal solution.\n",
      "The CommonGround optimization problem had no optimal solution.\n",
      "The tCommonGround optimization problem had no optimal solution.\n"
     ]
    },
    {
     "name": "stdout",
     "output_type": "stream",
     "text": [
      "The CommonGround optimization problem had no optimal solution.\n",
      "The tCommonGround optimization problem had no optimal solution.\n",
      "The CommonGround optimization problem had no optimal solution.\n",
      "The tCommonGround optimization problem had no optimal solution.\n"
     ]
    },
    {
     "name": "stdout",
     "output_type": "stream",
     "text": [
      "The CommonGround optimization problem had no optimal solution.\n",
      "The tCommonGround optimization problem had no optimal solution.\n",
      "The CommonGround optimization problem had no optimal solution.\n",
      "The tCommonGround optimization problem had no optimal solution.\n"
     ]
    },
    {
     "name": "stdout",
     "output_type": "stream",
     "text": [
      "The CommonGround optimization problem had no optimal solution.\n",
      "The tCommonGround optimization problem had no optimal solution.\n",
      "The CommonGround optimization problem had no optimal solution.\n",
      "The tCommonGround optimization problem had no optimal solution.\n"
     ]
    },
    {
     "name": "stdout",
     "output_type": "stream",
     "text": [
      "The CommonGround optimization problem had no optimal solution.\n",
      "The tCommonGround optimization problem had no optimal solution.\n",
      "The CommonGround optimization problem had no optimal solution.\n",
      "The tCommonGround optimization problem had no optimal solution.\n"
     ]
    },
    {
     "name": "stdout",
     "output_type": "stream",
     "text": [
      "The CommonGround optimization problem had no optimal solution.\n",
      "The tCommonGround optimization problem had no optimal solution.\n",
      "The CommonGround optimization problem had no optimal solution.\n",
      "The tCommonGround optimization problem had no optimal solution.\n"
     ]
    },
    {
     "name": "stdout",
     "output_type": "stream",
     "text": [
      "The CommonGround optimization problem had no optimal solution.\n",
      "The tCommonGround optimization problem had no optimal solution.\n",
      "The CommonGround optimization problem had no optimal solution.\n",
      "The tCommonGround optimization problem had no optimal solution.\n"
     ]
    },
    {
     "name": "stdout",
     "output_type": "stream",
     "text": [
      "The CommonGround optimization problem had no optimal solution.\n",
      "The tCommonGround optimization problem had no optimal solution.\n",
      "The CommonGround optimization problem had no optimal solution.\n",
      "The tCommonGround optimization problem had no optimal solution.\n"
     ]
    },
    {
     "name": "stdout",
     "output_type": "stream",
     "text": [
      "The CommonGround optimization problem had no optimal solution.\n",
      "The tCommonGround optimization problem had no optimal solution.\n",
      "The CommonGround optimization problem had no optimal solution.\n",
      "The tCommonGround optimization problem had no optimal solution.\n"
     ]
    },
    {
     "name": "stdout",
     "output_type": "stream",
     "text": [
      "The CommonGround optimization problem had no optimal solution.\n",
      "The tCommonGround optimization problem had no optimal solution.\n",
      "The CommonGround optimization problem had no optimal solution.\n",
      "The tCommonGround optimization problem had no optimal solution.\n"
     ]
    },
    {
     "name": "stdout",
     "output_type": "stream",
     "text": [
      "The CommonGround optimization problem had no optimal solution.\n",
      "The tCommonGround optimization problem had no optimal solution.\n",
      "The CommonGround optimization problem had no optimal solution.\n",
      "The tCommonGround optimization problem had no optimal solution.\n"
     ]
    },
    {
     "name": "stdout",
     "output_type": "stream",
     "text": [
      "The CommonGround optimization problem had no optimal solution.\n",
      "The tCommonGround optimization problem had no optimal solution.\n",
      "The CommonGround optimization problem had no optimal solution.\n",
      "The tCommonGround optimization problem had no optimal solution.\n"
     ]
    },
    {
     "name": "stdout",
     "output_type": "stream",
     "text": [
      "The CommonGround optimization problem had no optimal solution.\n",
      "The tCommonGround optimization problem had no optimal solution.\n",
      "The CommonGround optimization problem had no optimal solution.\n",
      "The tCommonGround optimization problem had no optimal solution.\n"
     ]
    },
    {
     "name": "stdout",
     "output_type": "stream",
     "text": [
      "The CommonGround optimization problem had no optimal solution.\n",
      "The tCommonGround optimization problem had no optimal solution.\n",
      "The CommonGround optimization problem had no optimal solution.\n"
     ]
    },
    {
     "name": "stdout",
     "output_type": "stream",
     "text": [
      "The tCommonGround optimization problem had no optimal solution.\n",
      "The CommonGround optimization problem had no optimal solution.\n",
      "The tCommonGround optimization problem had no optimal solution.\n"
     ]
    },
    {
     "name": "stdout",
     "output_type": "stream",
     "text": [
      "The CommonGround optimization problem had no optimal solution.\n",
      "The tCommonGround optimization problem had no optimal solution.\n",
      "The CommonGround optimization problem had no optimal solution.\n",
      "The tCommonGround optimization problem had no optimal solution.\n"
     ]
    },
    {
     "name": "stdout",
     "output_type": "stream",
     "text": [
      "The CommonGround optimization problem had no optimal solution.\n",
      "The tCommonGround optimization problem had no optimal solution.\n",
      "The CommonGround optimization problem had no optimal solution.\n",
      "The tCommonGround optimization problem had no optimal solution.\n"
     ]
    },
    {
     "name": "stdout",
     "output_type": "stream",
     "text": [
      "The CommonGround optimization problem had no optimal solution.\n",
      "The tCommonGround optimization problem had no optimal solution.\n",
      "The CommonGround optimization problem had no optimal solution.\n",
      "The tCommonGround optimization problem had no optimal solution.\n"
     ]
    },
    {
     "name": "stdout",
     "output_type": "stream",
     "text": [
      "The CommonGround optimization problem had no optimal solution.\n",
      "The tCommonGround optimization problem had no optimal solution.\n",
      "The CommonGround optimization problem had no optimal solution.\n",
      "The tCommonGround optimization problem had no optimal solution.\n"
     ]
    },
    {
     "name": "stdout",
     "output_type": "stream",
     "text": [
      "The CommonGround optimization problem had no optimal solution.\n",
      "The tCommonGround optimization problem had no optimal solution.\n",
      "The CommonGround optimization problem had no optimal solution.\n",
      "The tCommonGround optimization problem had no optimal solution.\n"
     ]
    },
    {
     "name": "stdout",
     "output_type": "stream",
     "text": [
      "The CommonGround optimization problem had no optimal solution.\n",
      "The tCommonGround optimization problem had no optimal solution.\n"
     ]
    },
    {
     "data": {
      "text/plain": [
       "\"results.csv\""
      ]
     },
     "metadata": {},
     "output_type": "display_data"
    }
   ],
   "source": [
    "include(\"display-csv.jl\")"
   ]
  },
  {
   "cell_type": "code",
   "execution_count": 9,
   "metadata": {},
   "outputs": [],
   "source": []
  },
  {
   "cell_type": "code",
   "execution_count": 10,
   "metadata": {},
   "outputs": [],
   "source": []
  }
 ],
 "metadata": {
  "kernelspec": {
   "display_name": "Julia 1.9.3",
   "language": "julia",
   "name": "julia-1.9"
  },
  "language_info": {
   "file_extension": ".jl",
   "mimetype": "application/julia",
   "name": "julia",
   "version": "1.9.3"
  }
 },
 "nbformat": 4,
 "nbformat_minor": 2
}
