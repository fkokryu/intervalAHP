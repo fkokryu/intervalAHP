{
 "cells": [
  {
   "cell_type": "code",
   "execution_count": 1,
   "metadata": {},
   "outputs": [],
   "source": [
    "using LaTeXStrings"
   ]
  },
  {
   "cell_type": "code",
   "execution_count": 2,
   "metadata": {},
   "outputs": [
    {
     "data": {
      "text/plain": [
       "solveCrispAHPLP (generic function with 1 method)"
      ]
     },
     "metadata": {},
     "output_type": "display_data"
    }
   ],
   "source": [
    "include(\"./sim.jl\")\n",
    "include(\"../display/display-crisp-matrix.jl\")\n",
    "include(\"../display/display-interval-vector.jl\")\n",
    "include(\"../center-equal-one/one-perfect.jl\")\n",
    "include(\"../center-equal-one/one-common.jl\")\n",
    "include(\"../center-equal-one/one-partial.jl\")\n",
    "include(\"../ttimes-center/t-perfect-center.jl\")\n",
    "include(\"../ttimes-center/t-common-center.jl\")\n",
    "include(\"../ttimes-center/t-partial-center.jl\")\n",
    "include(\"../ttimes/optimal-value.jl\")"
   ]
  },
  {
   "cell_type": "code",
   "execution_count": 3,
   "metadata": {},
   "outputs": [
    {
     "name": "stdout",
     "output_type": "stream",
     "text": [
      "Number of threads: 4\n"
     ]
    }
   ],
   "source": [
    "using Base.Threads\n",
    "\n",
    "println(\"Number of threads: \", nthreads())"
   ]
  },
  {
   "cell_type": "code",
   "execution_count": 4,
   "metadata": {},
   "outputs": [
    {
     "data": {
      "text/plain": [
       "1001-element Vector{Matrix{Float64}}:\n",
       " [1.0 2.7737190435780747 … 0.9745377889681022 3.345687852025906; 0.36052678165630225 1.0 … 0.3487505622927947 1.225017065290032; … ; 1.026127474296157 2.867378889443758 … 1.0 3.195902783459293; 0.2988921992212969 0.8163151586490286 … 0.3129006317637688 1.0]\n",
       " [1.0 3.220383728452742 … 0.9748728564830693 3.6338712381354275; 0.3105220012027752 1.0 … 0.35973314870495776 1.1430087881874667; … ; 1.0257747903737713 2.7798383429495117 … 1.0 3.2350782613115547; 0.27518861689582297 0.8748839119476555 … 0.309111532774661 1.0]\n",
       " [1.0 2.9566248204278387 … 0.9693139030881941 3.4264530715288624; 0.33822350170736065 1.0 … 0.3981738177968835 1.1805335226238083; … ; 1.031657543355193 2.5114659862194157 … 1.0 3.302745893784052; 0.2918469855341711 0.8470746326435852 … 0.30277836447607265 1.0]\n",
       " [1.0 2.7539118286519786 … 1.0159080014616606 3.377300219798209; 0.3631198317955929 1.0 … 0.34014206745221137 1.2643730154099604; … ; 0.9843411003370653 2.939948026688866 … 1.0 3.3936218910965876; 0.29609449409852856 0.7909058385556892 … 0.2946704235447008 1.0]\n",
       " [1.0 2.8500476731887767 … 1.0946824254707481 3.5741776107166157; 0.35087132380531366 1.0 … 0.3870084778402612 1.1832802144565322; … ; 0.9135069466105371 2.583922723296911 … 1.0 3.344101238157462; 0.27978464108824797 0.8451083587663039 … 0.2990340090753298 1.0]\n",
       " [1.0 2.6758336849406175 … 0.944761963773978 3.4455538747555297; 0.37371530436585865 1.0 … 0.35369394220469963 1.1802701319881888; … ; 1.058467675821078 2.8273031586762434 … 1.0 3.4915279613445835; 0.29022909997915863 0.8472636669331621 … 0.2864075588313207 1.0]\n",
       " [1.0 2.8923391965103766 … 0.9452550980092366 3.51795782522591; 0.3457409148990912 1.0 … 0.3564706584893605 1.2365440710259061; … ; 1.0579154792246659 2.805279975181595 … 1.0 3.237480193701051; 0.28425582388435366 0.8087055070915055 … 0.30888219855232885 1.0]\n",
       " [1.0 2.932817815394097 … 0.9504388405660097 3.098505664555072; 0.34096901442397476 1.0 … 0.3738326210428281 1.1469988113425356; … ; 1.0521455535260695 2.6749939510640917 … 1.0 3.752407661878369; 0.32273621811938635 0.8718404850215347 … 0.26649556500996563 1.0]\n",
       " [1.0 2.7347065269353537 … 1.053057578796928 3.3597011643949064; 0.3656699503769602 1.0 … 0.33926111698043726 1.3113442622710816; … ; 0.9496156906657051 2.9475821128587003 … 1.0 3.4413486344702653; 0.2976455199640065 0.7625762576397194 … 0.2905837525391938 1.0]\n",
       " [1.0 2.8502484211991037 … 1.0493472919846556 3.238198211542023; 0.35084661132074185 1.0 … 0.38032964868927455 1.2428364504487899; … ; 0.9529733460393995 2.6292980403875634 … 1.0 3.439729537725746; 0.3088137089433454 0.8046110971712317 … 0.29072053166749046 1.0]\n",
       " ⋮\n",
       " [1.0 2.8533042005533384 … 0.9613759233022703 3.5794500092484838; 0.3504708680574861 1.0 … 0.3442709859858569 1.2195909695409324; … ; 1.0401758310787088 2.9046885758798195 … 1.0 3.640540145500637; 0.279372528577359 0.81994703550192 … 0.2746845138449868 1.0]\n",
       " [1.0 2.7989584513633496 … 1.0337483756259953 3.494642297083739; 0.35727575717063903 1.0 … 0.36573099385295255 1.1636105324896437; … ; 0.9673533942865364 2.7342500821848983 … 1.0 3.531674285574437; 0.2861523197480025 0.8593940773812135 … 0.2831518195448047 1.0]\n",
       " [1.0 2.5882714562560003 … 0.9575919049399726 3.408167709597084; 0.38635823826861077 1.0 … 0.33971467994590854 1.2646133167222342; … ; 1.0442861879275032 2.943646710113399 … 1.0 3.596232079053681; 0.2934127910384494 0.7907555509473136 … 0.278068817033394 1.0]\n",
       " [1.0 2.8861542621957947 … 0.9512975155432755 3.4146715148003; 0.3464818263869226 1.0 … 0.3340654451535794 1.2134877581874182; … ; 1.0511958495223348 2.993425433571172 … 1.0 3.484937611061933; 0.29285393797490444 0.8240709420041419 … 0.28694918291385973 1.0]\n",
       " [1.0 2.793674386401637 … 1.1192581919588098 3.5020156563044926; 0.3579515225065436 1.0 … 0.36253013738766143 1.1681893041658034; … ; 0.8934488996233332 2.758391363559047 … 1.0 3.3085803351996494; 0.28554983704877307 0.856025642790912 … 0.3022444367939632 1.0]\n",
       " [1.0 2.8970699470413113 … 0.9769201091451905 3.3078632871357194; 0.34517633963973476 1.0 … 0.3438572391843634 1.1221521379881982; … ; 1.02362515689743 2.908183647295084 … 1.0 3.2414479594608836; 0.3023099545525355 0.8911447620576712 … 0.3085041044948072 1.0]\n",
       " [1.0 2.989036016894802 … 1.050664851043289 3.2957396850514473; 0.33455602219168395 1.0 … 0.3392571275873213 1.1670833376898226; … ; 0.9517782944837454 2.9476167740723747 … 1.0 3.2509325420455037; 0.30342202223546966 0.8568368407858903 … 0.30760404501374083 1.0]\n",
       " [1.0 2.7570719906990426 … 1.0184141491085634 3.682564197086549; 0.3627036230368634 1.0 … 0.3537042926866221 1.1260515196440821; … ; 0.9819188007897557 2.827220423038485 … 1.0 3.31123433903165; 0.27154991643897136 0.8880588343915881 … 0.30200218335874224 1.0]\n",
       " [1.0 3.08341475525122 … 1.0018844087363359 3.507109247773946; 0.32431576008285834 1.0 … 0.3454722951191854 1.1514226082962575; … ; 0.9981191355810072 2.894588116407445 … 1.0 3.32780660337117; 0.2851351153759257 0.8684908501837434 … 0.30049823177433727 1.0]"
      ]
     },
     "metadata": {},
     "output_type": "display_data"
    }
   ],
   "source": [
    "# 例：5x5のPCMをdesired_count個生成する\n",
    "n = 5\n",
    "perturbation_strength = 0.05\n",
    "desired_count = 1000\n",
    "\n",
    "pcms = generate_similar_pcms(n, perturbation_strength, desired_count)"
   ]
  },
  {
   "cell_type": "code",
   "execution_count": 5,
   "metadata": {},
   "outputs": [
    {
     "data": {
      "text/latex": [
       "$A = \\begin{pmatrix} 1.0 & 2.774 & 2.123 & 0.975 & 3.346 \\\\0.361 & 1.0 & 0.799 & 0.349 & 1.225 \\\\0.471 & 1.252 & 1.0 & 0.486 & 1.742 \\\\1.026 & 2.867 & 2.057 & 1.0 & 3.196 \\\\0.299 & 0.816 & 0.574 & 0.313 & 1.0 \\\\ \\end{pmatrix}$"
      ],
      "text/plain": [
       "L\"$A = \\begin{pmatrix} 1.0 & 2.774 & 2.123 & 0.975 & 3.346 \\\\0.361 & 1.0 & 0.799 & 0.349 & 1.225 \\\\0.471 & 1.252 & 1.0 & 0.486 & 1.742 \\\\1.026 & 2.867 & 2.057 & 1.0 & 3.196 \\\\0.299 & 0.816 & 0.574 & 0.313 & 1.0 \\\\ \\end{pmatrix}$\""
      ]
     },
     "metadata": {},
     "output_type": "display_data"
    },
    {
     "data": {
      "text/latex": [
       "$A = \\begin{pmatrix} 1.0 & 3.22 & 2.006 & 0.975 & 3.634 \\\\0.311 & 1.0 & 0.702 & 0.36 & 1.143 \\\\0.498 & 1.425 & 1.0 & 0.482 & 1.591 \\\\1.026 & 2.78 & 2.075 & 1.0 & 3.235 \\\\0.275 & 0.875 & 0.628 & 0.309 & 1.0 \\\\ \\end{pmatrix}$"
      ],
      "text/plain": [
       "L\"$A = \\begin{pmatrix} 1.0 & 3.22 & 2.006 & 0.975 & 3.634 \\\\0.311 & 1.0 & 0.702 & 0.36 & 1.143 \\\\0.498 & 1.425 & 1.0 & 0.482 & 1.591 \\\\1.026 & 2.78 & 2.075 & 1.0 & 3.235 \\\\0.275 & 0.875 & 0.628 & 0.309 & 1.0 \\\\ \\end{pmatrix}$\""
      ]
     },
     "metadata": {},
     "output_type": "display_data"
    },
    {
     "data": {
      "text/latex": [
       "$A = \\begin{pmatrix} 1.0 & 2.957 & 1.919 & 0.969 & 3.426 \\\\0.338 & 1.0 & 0.72 & 0.398 & 1.181 \\\\0.521 & 1.388 & 1.0 & 0.534 & 1.593 \\\\1.032 & 2.511 & 1.874 & 1.0 & 3.303 \\\\0.292 & 0.847 & 0.628 & 0.303 & 1.0 \\\\ \\end{pmatrix}$"
      ],
      "text/plain": [
       "L\"$A = \\begin{pmatrix} 1.0 & 2.957 & 1.919 & 0.969 & 3.426 \\\\0.338 & 1.0 & 0.72 & 0.398 & 1.181 \\\\0.521 & 1.388 & 1.0 & 0.534 & 1.593 \\\\1.032 & 2.511 & 1.874 & 1.0 & 3.303 \\\\0.292 & 0.847 & 0.628 & 0.303 & 1.0 \\\\ \\end{pmatrix}$\""
      ]
     },
     "metadata": {},
     "output_type": "display_data"
    }
   ],
   "source": [
    "display(L\"A = %$(matrixLaTeXString(pcms[1]))\")\n",
    "display(L\"A = %$(matrixLaTeXString(pcms[2]))\")\n",
    "display(L\"A = %$(matrixLaTeXString(pcms[3]))\")"
   ]
  },
  {
   "cell_type": "code",
   "execution_count": 6,
   "metadata": {},
   "outputs": [
    {
     "data": {
      "text/latex": [
       "$V1 = \\begin{pmatrix} \\left[ 0.314, 0.314 \\right] \\\\ \\left[ 0.112, 0.118 \\right] \\\\ \\left[ 0.148, 0.157 \\right] \\\\ \\left[ 0.323, 0.323 \\right] \\\\ \\left[ 0.09, 0.101 \\right] \\end{pmatrix}$"
      ],
      "text/plain": [
       "L\"$V1 = \\begin{pmatrix} \\left[ 0.314, 0.314 \\right] \\\\ \\left[ 0.112, 0.118 \\right] \\\\ \\left[ 0.148, 0.157 \\right] \\\\ \\left[ 0.323, 0.323 \\right] \\\\ \\left[ 0.09, 0.101 \\right] \\end{pmatrix}$\""
      ]
     },
     "metadata": {},
     "output_type": "display_data"
    },
    {
     "data": {
      "text/latex": [
       "$V2 = \\begin{pmatrix} \\left[ 0.318, 0.318 \\right] \\\\ \\left[ 0.099, 0.116 \\right] \\\\ \\left[ 0.157, 0.158 \\right] \\\\ \\left[ 0.322, 0.326 \\right] \\\\ \\left[ 0.087, 0.1 \\right] \\end{pmatrix}$"
      ],
      "text/plain": [
       "L\"$V2 = \\begin{pmatrix} \\left[ 0.318, 0.318 \\right] \\\\ \\left[ 0.099, 0.116 \\right] \\\\ \\left[ 0.157, 0.158 \\right] \\\\ \\left[ 0.322, 0.326 \\right] \\\\ \\left[ 0.087, 0.1 \\right] \\end{pmatrix}$\""
      ]
     },
     "metadata": {},
     "output_type": "display_data"
    },
    {
     "data": {
      "text/latex": [
       "$V3 = \\begin{pmatrix} \\left[ 0.308, 0.308 \\right] \\\\ \\left[ 0.104, 0.126 \\right] \\\\ \\left[ 0.161, 0.168 \\right] \\\\ \\left[ 0.315, 0.318 \\right] \\\\ \\left[ 0.09, 0.101 \\right] \\end{pmatrix}$"
      ],
      "text/plain": [
       "L\"$V3 = \\begin{pmatrix} \\left[ 0.308, 0.308 \\right] \\\\ \\left[ 0.104, 0.126 \\right] \\\\ \\left[ 0.161, 0.168 \\right] \\\\ \\left[ 0.315, 0.318 \\right] \\\\ \\left[ 0.09, 0.101 \\right] \\end{pmatrix}$\""
      ]
     },
     "metadata": {},
     "output_type": "display_data"
    }
   ],
   "source": [
    "A1 = solveCrispAHPLP(pcms[1])\n",
    "A2 = solveCrispAHPLP(pcms[2])\n",
    "A3 = solveCrispAHPLP(pcms[3])\n",
    "display(L\"V1 = %$(intervalVectorLaTeXString(A1.V))\")\n",
    "display(L\"V2 = %$(intervalVectorLaTeXString(A2.V))\")\n",
    "display(L\"V3 = %$(intervalVectorLaTeXString(A3.V))\")"
   ]
  },
  {
   "cell_type": "code",
   "execution_count": 7,
   "metadata": {},
   "outputs": [],
   "source": [
    "using Pkg"
   ]
  },
  {
   "cell_type": "code",
   "execution_count": 8,
   "metadata": {},
   "outputs": [
    {
     "name": "stdout",
     "output_type": "stream",
     "text": [
      "The CommonGround optimization problem had no optimal solution.\n",
      "The CommonGround optimization problem had no optimal solution.\n",
      "The CommonGround optimization problem had no optimal solution.\n"
     ]
    },
    {
     "name": "stdout",
     "output_type": "stream",
     "text": [
      "The CommonGround optimization problem had no optimal solution.\n",
      "The tCommonGround optimization problem had no optimal solution.\n",
      "The tCommonGround optimization problem had no optimal solution.\n",
      "The tCommonGround optimization problem had no optimal solution.\n",
      "The tCommonGround optimization problem had no optimal solution.\n"
     ]
    },
    {
     "name": "stdout",
     "output_type": "stream",
     "text": [
      "The CommonGround optimization problem had no optimal solution.\n",
      "The CommonGround optimization problem had no optimal solution.\n",
      "The CommonGround optimization problem had no optimal solution.\n",
      "The CommonGround optimization problem had no optimal solution.\n",
      "The tCommonGround optimization problem had no optimal solution.\n",
      "The tCommonGround optimization problem had no optimal solution.\n",
      "The tCommonGround optimization problem had no optimal solution.\n",
      "The tCommonGround optimization problem had no optimal solution.\n",
      "The CommonGround optimization problem had no optimal solution.\n",
      "The CommonGround optimization problem had no optimal solution.\n",
      "The tCommonGround optimization problem had no optimal solution.\n",
      "The CommonGround optimization problem had no optimal solution."
     ]
    },
    {
     "name": "stdout",
     "output_type": "stream",
     "text": [
      "\n",
      "The CommonGround optimization problem had no optimal solution.\n",
      "The tCommonGround optimization problem had no optimal solution.\n",
      "The tCommonGround optimization problem had no optimal solution.\n",
      "The tCommonGround optimization problem had no optimal solution.\n",
      "The CommonGround optimization problem had no optimal solution.\n",
      "The CommonGround optimization problem had no optimal solution."
     ]
    },
    {
     "name": "stdout",
     "output_type": "stream",
     "text": [
      "\n",
      "The CommonGround optimization problem had no optimal solution.\n",
      "The CommonGround optimization problem had no optimal solution.\n",
      "The tCommonGround optimization problem had no optimal solution.\n",
      "The tCommonGround optimization problem had no optimal solution.\n",
      "The tCommonGround optimization problem had no optimal solution.\n",
      "The tCommonGround optimization problem had no optimal solution.\n",
      "The CommonGround optimization problem had no optimal solution."
     ]
    },
    {
     "name": "stdout",
     "output_type": "stream",
     "text": [
      "\n",
      "The tCommonGround optimization problem had no optimal solution.\n",
      "The CommonGround optimization problem had no optimal solution.\n",
      "The CommonGround optimization problem had no optimal solution.\n",
      "The tCommonGround optimization problem had no optimal solution.\n",
      "The CommonGround optimization problem had no optimal solution.\n",
      "The tCommonGround optimization problem had no optimal solution.\n",
      "The tCommonGround optimization problem had no optimal solution.\n",
      "The CommonGround optimization problem had no optimal solution."
     ]
    },
    {
     "name": "stdout",
     "output_type": "stream",
     "text": [
      "\n",
      "The tCommonGround optimization problem had no optimal solution.\n",
      "The CommonGround optimization problem had no optimal solution.\n",
      "The tCommonGround optimization problem had no optimal solution.\n",
      "The CommonGround optimization problem had no optimal solution.\n",
      "The CommonGround optimization problem had no optimal solution.\n",
      "The tCommonGround optimization problem had no optimal solution.\n",
      "The tCommonGround optimization problem had no optimal solution.\n",
      "The CommonGround optimization problem had no optimal solution."
     ]
    },
    {
     "name": "stdout",
     "output_type": "stream",
     "text": [
      "\n",
      "The CommonGround optimization problem had no optimal solution.\n",
      "The CommonGround optimization problem had no optimal solution.\n",
      "The CommonGround optimization problem had no optimal solution.\n",
      "The tCommonGround optimization problem had no optimal solution.\n",
      "The tCommonGround optimization problem had no optimal solution."
     ]
    },
    {
     "name": "stdout",
     "output_type": "stream",
     "text": [
      "\n",
      "The tCommonGround optimization problem had no optimal solution.\n",
      "The tCommonGround optimization problem had no optimal solution.\n",
      "The CommonGround optimization problem had no optimal solution.\n",
      "The tCommonGround optimization problem had no optimal solution.\n",
      "The CommonGround optimization problem had no optimal solution.\n",
      "The CommonGround optimization problem had no optimal solution.\n",
      "The CommonGround optimization problem had no optimal solution.\n",
      "The tCommonGround optimization problem had no optimal solution."
     ]
    },
    {
     "name": "stdout",
     "output_type": "stream",
     "text": [
      "\n",
      "The tCommonGround optimization problem had no optimal solution.\n",
      "The tCommonGround optimization problem had no optimal solution.\n",
      "The CommonGround optimization problem had no optimal solution.\n",
      "The CommonGround optimization problem had no optimal solution.\n",
      "The tCommonGround optimization problem had no optimal solution.\n",
      "The CommonGround optimization problem had no optimal solution.\n",
      "The tCommonGround optimization problem had no optimal solution.\n",
      "The CommonGround optimization problem had no optimal solution.\n",
      "The tCommonGround optimization problem had no optimal solution."
     ]
    },
    {
     "name": "stdout",
     "output_type": "stream",
     "text": [
      "\n",
      "The tCommonGround optimization problem had no optimal solution.\n",
      "The CommonGround optimization problem had no optimal solution.\n",
      "The CommonGround optimization problem had no optimal solution.\n",
      "The tCommonGround optimization problem had no optimal solution.\n",
      "The CommonGround optimization problem had no optimal solution.\n",
      "The tCommonGround optimization problem had no optimal solution.\n",
      "The tCommonGround optimization problem had no optimal solution.\n"
     ]
    },
    {
     "name": "stdout",
     "output_type": "stream",
     "text": [
      "The CommonGround optimization problem had no optimal solution.\n",
      "The CommonGround optimization problem had no optimal solution.\n",
      "The tCommonGround optimization problem had no optimal solution.\n",
      "The CommonGround optimization problem had no optimal solution.\n",
      "The tCommonGround optimization problem had no optimal solution.\n",
      "The CommonGround optimization problem had no optimal solution.\n",
      "The tCommonGround optimization problem had no optimal solution.\n",
      "The tCommonGround optimization problem had no optimal solution.\n",
      "The CommonGround optimization problem had no optimal solution.\n",
      "The CommonGround optimization problem had no optimal solution."
     ]
    },
    {
     "name": "stdout",
     "output_type": "stream",
     "text": [
      "\n",
      "The tCommonGround optimization problem had no optimal solution.\n",
      "The tCommonGround optimization problem had no optimal solution.\n",
      "The CommonGround optimization problem had no optimal solution.\n",
      "The CommonGround optimization problem had no optimal solution.\n",
      "The CommonGround optimization problem had no optimal solution.\n",
      "The tCommonGround optimization problem had no optimal solution.\n",
      "The tCommonGround optimization problem had no optimal solution.\n",
      "The tCommonGround optimization problem had no optimal solution.\n",
      "The CommonGround optimization problem had no optimal solution.\n",
      "The tCommonGround optimization problem had no optimal solution.\n",
      "The CommonGround optimization problem had no optimal solution."
     ]
    },
    {
     "name": "stdout",
     "output_type": "stream",
     "text": [
      "\n",
      "The CommonGround optimization problem had no optimal solution.\n",
      "The tCommonGround optimization problem had no optimal solution.\n"
     ]
    },
    {
     "name": "stdout",
     "output_type": "stream",
     "text": [
      "The tCommonGround optimization problem had no optimal solution.\n",
      "The CommonGround optimization problem had no optimal solution.\n",
      "The CommonGround optimization problem had no optimal solution.\n",
      "The tCommonGround optimization problem had no optimal solution.\n",
      "The tCommonGround optimization problem had no optimal solution.\n",
      "The CommonGround optimization problem had no optimal solution.\n",
      "The tCommonGround optimization problem had no optimal solution.\n",
      "The CommonGround optimization problem had no optimal solution.\n",
      "The tCommonGround optimization problem had no optimal solution.\n",
      "The CommonGround optimization problem had no optimal solution.\n",
      "The tCommonGround optimization problem had no optimal solution.\n",
      "The CommonGround optimization problem had no optimal solution.\n",
      "The tCommonGround optimization problem had no optimal solution.\n",
      "The CommonGround optimization problem had no optimal solution."
     ]
    },
    {
     "name": "stdout",
     "output_type": "stream",
     "text": [
      "\n",
      "The tCommonGround optimization problem had no optimal solution.\n",
      "The CommonGround optimization problem had no optimal solution.\n",
      "The CommonGround optimization problem had no optimal solution.\n",
      "The tCommonGround optimization problem had no optimal solution.\n",
      "The tCommonGround optimization problem had no optimal solution.\n",
      "The CommonGround optimization problem had no optimal solution.\n",
      "The tCommonGround optimization problem had no optimal solution.\n",
      "The CommonGround optimization problem had no optimal solution."
     ]
    },
    {
     "name": "stdout",
     "output_type": "stream",
     "text": [
      "\n",
      "The tCommonGround optimization problem had no optimal solution.\n",
      "The CommonGround optimization problem had no optimal solution.\n",
      "The tCommonGround optimization problem had no optimal solution.\n",
      "The CommonGround optimization problem had no optimal solution.\n",
      "The CommonGround optimization problem had no optimal solution.\n",
      "The tCommonGround optimization problem had no optimal solution.\n",
      "The tCommonGround optimization problem had no optimal solution.\n",
      "The CommonGround optimization problem had no optimal solution."
     ]
    },
    {
     "name": "stdout",
     "output_type": "stream",
     "text": [
      "\n",
      "The tCommonGround optimization problem had no optimal solution.\n"
     ]
    },
    {
     "name": "stdout",
     "output_type": "stream",
     "text": [
      "The CommonGround optimization problem had no optimal solution.\n",
      "The CommonGround optimization problem had no optimal solution.\n",
      "The tCommonGround optimization problem had no optimal solution.\n",
      "The CommonGround optimization problem had no optimal solution.\n",
      "The tCommonGround optimization problem had no optimal solution.\n",
      "The tCommonGround optimization problem had no optimal solution.\n",
      "The CommonGround optimization problem had no optimal solution.\n",
      "The CommonGround optimization problem had no optimal solution.\n",
      "The tCommonGround optimization problem had no optimal solution."
     ]
    },
    {
     "name": "stdout",
     "output_type": "stream",
     "text": [
      "\n",
      "The tCommonGround optimization problem had no optimal solution.\n",
      "The CommonGround optimization problem had no optimal solution.\n",
      "The tCommonGround optimization problem had no optimal solution.\n",
      "The CommonGround optimization problem had no optimal solution.\n",
      "The tCommonGround optimization problem had no optimal solution.\n",
      "The CommonGround optimization problem had no optimal solution.\n"
     ]
    },
    {
     "name": "stdout",
     "output_type": "stream",
     "text": [
      "The CommonGround optimization problem had no optimal solution.\n",
      "The tCommonGround optimization problem had no optimal solution.\n",
      "The CommonGround optimization problem had no optimal solution.\n",
      "The tCommonGround optimization problem had no optimal solution.\n",
      "The tCommonGround optimization problem had no optimal solution.\n",
      "The CommonGround optimization problem had no optimal solution.\n",
      "The tCommonGround optimization problem had no optimal solution.\n"
     ]
    },
    {
     "name": "stdout",
     "output_type": "stream",
     "text": [
      "The CommonGround optimization problem had no optimal solution.\n",
      "The tCommonGround optimization problem had no optimal solution.\n",
      "The CommonGround optimization problem had no optimal solution.\n",
      "The CommonGround optimization problem had no optimal solution.\n",
      "The tCommonGround optimization problem had no optimal solution.\n",
      "The tCommonGround optimization problem had no optimal solution.\n",
      "The CommonGround optimization problem had no optimal solution.\n",
      "The CommonGround optimization problem had no optimal solution.\n",
      "The tCommonGround optimization problem had no optimal solution.\n",
      "The tCommonGround optimization problem had no optimal solution.\n",
      "The CommonGround optimization problem had no optimal solution."
     ]
    },
    {
     "name": "stdout",
     "output_type": "stream",
     "text": [
      "\n",
      "The tCommonGround optimization problem had no optimal solution.\n",
      "The CommonGround optimization problem had no optimal solution.\n",
      "The tCommonGround optimization problem had no optimal solution.\n",
      "The CommonGround optimization problem had no optimal solution.\n",
      "The CommonGround optimization problem had no optimal solution.\n",
      "The tCommonGround optimization problem had no optimal solution.\n",
      "The tCommonGround optimization problem had no optimal solution.\n",
      "The CommonGround optimization problem had no optimal solution."
     ]
    },
    {
     "name": "stdout",
     "output_type": "stream",
     "text": [
      "\n",
      "The tCommonGround optimization problem had no optimal solution.\n",
      "The CommonGround optimization problem had no optimal solution.\n",
      "The tCommonGround optimization problem had no optimal solution.\n",
      "The CommonGround optimization problem had no optimal solution.\n",
      "The CommonGround optimization problem had no optimal solution.\n",
      "The tCommonGround optimization problem had no optimal solution.\n",
      "The tCommonGround optimization problem had no optimal solution.\n",
      "The CommonGround optimization problem had no optimal solution."
     ]
    },
    {
     "name": "stdout",
     "output_type": "stream",
     "text": [
      "\n",
      "The tCommonGround optimization problem had no optimal solution.\n",
      "The CommonGround optimization problem had no optimal solution.\n",
      "The tCommonGround optimization problem had no optimal solution.\n",
      "The CommonGround optimization problem had no optimal solution.\n",
      "The CommonGround optimization problem had no optimal solution.\n",
      "The tCommonGround optimization problem had no optimal solution.\n",
      "The tCommonGround optimization problem had no optimal solution.\n",
      "The CommonGround optimization problem had no optimal solution."
     ]
    },
    {
     "name": "stdout",
     "output_type": "stream",
     "text": [
      "\n",
      "The tCommonGround optimization problem had no optimal solution.\n",
      "The CommonGround optimization problem had no optimal solution.\n",
      "The tCommonGround optimization problem had no optimal solution.\n",
      "The CommonGround optimization problem had no optimal solution.\n",
      "The tCommonGround optimization problem had no optimal solution.\n",
      "The CommonGround optimization problem had no optimal solution.\n",
      "The CommonGround optimization problem had no optimal solution.\n",
      "The tCommonGround optimization problem had no optimal solution.\n",
      "The tCommonGround optimization problem had no optimal solution.\n",
      "The CommonGround optimization problem had no optimal solution."
     ]
    },
    {
     "name": "stdout",
     "output_type": "stream",
     "text": [
      "\n",
      "The tCommonGround optimization problem had no optimal solution.\n",
      "The CommonGround optimization problem had no optimal solution.\n",
      "The tCommonGround optimization problem had no optimal solution.\n",
      "The CommonGround optimization problem had no optimal solution.\n",
      "The CommonGround optimization problem had no optimal solution.\n",
      "The tCommonGround optimization problem had no optimal solution.\n",
      "The tCommonGround optimization problem had no optimal solution.\n",
      "The CommonGround optimization problem had no optimal solution.\n",
      "The tCommonGround optimization problem had no optimal solution.\n",
      "The CommonGround optimization problem had no optimal solution.\n",
      "The CommonGround optimization problem had no optimal solution.\n",
      "The tCommonGround optimization problem had no optimal solution.\n",
      "The CommonGround optimization problem had no optimal solution."
     ]
    },
    {
     "name": "stdout",
     "output_type": "stream",
     "text": [
      "\n",
      "The tCommonGround optimization problem had no optimal solution.\n",
      "The tCommonGround optimization problem had no optimal solution.\n",
      "The CommonGround optimization problem had no optimal solution.\n",
      "The tCommonGround optimization problem had no optimal solution.\n",
      "The CommonGround optimization problem had no optimal solution.\n",
      "The CommonGround optimization problem had no optimal solution.\n",
      "The CommonGround optimization problem had no optimal solution."
     ]
    },
    {
     "name": "stdout",
     "output_type": "stream",
     "text": [
      "\n",
      "The tCommonGround optimization problem had no optimal solution.\n",
      "The tCommonGround optimization problem had no optimal solution.\n",
      "The tCommonGround optimization problem had no optimal solution.\n",
      "The CommonGround optimization problem had no optimal solution.\n",
      "The tCommonGround optimization problem had no optimal solution.\n",
      "The CommonGround optimization problem had no optimal solution.\n",
      "The CommonGround optimization problem had no optimal solution.\n",
      "The tCommonGround optimization problem had no optimal solution.\n",
      "The CommonGround optimization problem had no optimal solution."
     ]
    },
    {
     "name": "stdout",
     "output_type": "stream",
     "text": [
      "\n",
      "The tCommonGround optimization problem had no optimal solution.\n",
      "The tCommonGround optimization problem had no optimal solution.\n",
      "The CommonGround optimization problem had no optimal solution.\n",
      "The tCommonGround optimization problem had no optimal solution.\n",
      "The CommonGround optimization problem had no optimal solution.\n",
      "The CommonGround optimization problem had no optimal solution.\n",
      "The tCommonGround optimization problem had no optimal solution.\n",
      "The CommonGround optimization problem had no optimal solution."
     ]
    },
    {
     "name": "stdout",
     "output_type": "stream",
     "text": [
      "\n",
      "The tCommonGround optimization problem had no optimal solution.\n",
      "The tCommonGround optimization problem had no optimal solution.\n",
      "The CommonGround optimization problem had no optimal solution.\n",
      "The tCommonGround optimization problem had no optimal solution.\n",
      "The CommonGround optimization problem had no optimal solution.\n",
      "The CommonGround optimization problem had no optimal solution.\n",
      "The tCommonGround optimization problem had no optimal solution.\n",
      "The CommonGround optimization problem had no optimal solution."
     ]
    },
    {
     "name": "stdout",
     "output_type": "stream",
     "text": [
      "\n",
      "The tCommonGround optimization problem had no optimal solution.\n",
      "The tCommonGround optimization problem had no optimal solution.\n",
      "The CommonGround optimization problem had no optimal solution.\n",
      "The tCommonGround optimization problem had no optimal solution.\n",
      "The CommonGround optimization problem had no optimal solution.\n",
      "The CommonGround optimization problem had no optimal solution.\n",
      "The tCommonGround optimization problem had no optimal solution.\n",
      "The CommonGround optimization problem had no optimal solution."
     ]
    },
    {
     "name": "stdout",
     "output_type": "stream",
     "text": [
      "\n",
      "The tCommonGround optimization problem had no optimal solution.\n",
      "The tCommonGround optimization problem had no optimal solution.\n",
      "The CommonGround optimization problem had no optimal solution.\n",
      "The tCommonGround optimization problem had no optimal solution.\n",
      "The CommonGround optimization problem had no optimal solution.\n",
      "The CommonGround optimization problem had no optimal solution.\n",
      "The CommonGround optimization problem had no optimal solution.\n"
     ]
    },
    {
     "name": "stdout",
     "output_type": "stream",
     "text": [
      "The tCommonGround optimization problem had no optimal solution.\n",
      "The tCommonGround optimization problem had no optimal solution.\n",
      "The tCommonGround optimization problem had no optimal solution.\n",
      "The CommonGround optimization problem had no optimal solution.\n",
      "The tCommonGround optimization problem had no optimal solution.\n",
      "The CommonGround optimization problem had no optimal solution."
     ]
    },
    {
     "name": "stdout",
     "output_type": "stream",
     "text": [
      "\n",
      "The tCommonGround optimization problem had no optimal solution.\n",
      "The CommonGround optimization problem had no optimal solution.\n",
      "The CommonGround optimization problem had no optimal solution.\n",
      "The tCommonGround optimization problem had no optimal solution.\n",
      "The tCommonGround optimization problem had no optimal solution.\n",
      "The CommonGround optimization problem had no optimal solution.\n",
      "The CommonGround optimization problem had no optimal solution.\n",
      "The tCommonGround optimization problem had no optimal solution.\n",
      "The tCommonGround optimization problem had no optimal solution.\n"
     ]
    },
    {
     "name": "stdout",
     "output_type": "stream",
     "text": [
      "The CommonGround optimization problem had no optimal solution.\n",
      "The CommonGround optimization problem had no optimal solution.\n",
      "The tCommonGround optimization problem had no optimal solution.\n",
      "The tCommonGround optimization problem had no optimal solution.\n",
      "The CommonGround optimization problem had no optimal solution.\n",
      "The CommonGround optimization problem had no optimal solution.\n",
      "The tCommonGround optimization problem had no optimal solution.\n",
      "The tCommonGround optimization problem had no optimal solution.\n",
      "The CommonGround optimization problem had no optimal solution.\n"
     ]
    },
    {
     "name": "stdout",
     "output_type": "stream",
     "text": [
      "The CommonGround optimization problem had no optimal solution.\n",
      "The tCommonGround optimization problem had no optimal solution.\n",
      "The tCommonGround optimization problem had no optimal solution.\n",
      "The CommonGround optimization problem had no optimal solution.\n",
      "The tCommonGround optimization problem had no optimal solution.\n",
      "The CommonGround optimization problem had no optimal solution.\n",
      "The CommonGround optimization problem had no optimal solution.\n",
      "The tCommonGround optimization problem had no optimal solution.\n",
      "The CommonGround optimization problem had no optimal solution.\n"
     ]
    },
    {
     "name": "stdout",
     "output_type": "stream",
     "text": [
      "The tCommonGround optimization problem had no optimal solution.\n",
      "The tCommonGround optimization problem had no optimal solution.\n",
      "The CommonGround optimization problem had no optimal solution.\n",
      "The tCommonGround optimization problem had no optimal solution.\n",
      "The CommonGround optimization problem had no optimal solution.\n",
      "The CommonGround optimization problem had no optimal solution.\n",
      "The CommonGround optimization problem had no optimal solution.\n",
      "The tCommonGround optimization problem had no optimal solution.\n",
      "The tCommonGround optimization problem had no optimal solution.\n",
      "The tCommonGround optimization problem had no optimal solution."
     ]
    },
    {
     "name": "stdout",
     "output_type": "stream",
     "text": [
      "\n",
      "The CommonGround optimization problem had no optimal solution.\n",
      "The tCommonGround optimization problem had no optimal solution.\n",
      "The CommonGround optimization problem had no optimal solution.\n",
      "The tCommonGround optimization problem had no optimal solution.\n",
      "The CommonGround optimization problem had no optimal solution.\n",
      "The tCommonGround optimization problem had no optimal solution.\n",
      "The CommonGround optimization problem had no optimal solution.\n",
      "The CommonGround optimization problem had no optimal solution."
     ]
    },
    {
     "name": "stdout",
     "output_type": "stream",
     "text": [
      "\n",
      "The tCommonGround optimization problem had no optimal solution.\n",
      "The tCommonGround optimization problem had no optimal solution.\n"
     ]
    },
    {
     "name": "stdout",
     "output_type": "stream",
     "text": [
      "The CommonGround optimization problem had no optimal solution.\n",
      "The CommonGround optimization problem had no optimal solution.\n",
      "The CommonGround optimization problem had no optimal solution.\n",
      "The CommonGround optimization problem had no optimal solution.\n",
      "The tCommonGround optimization problem had no optimal solution.\n",
      "The tCommonGround optimization problem had no optimal solution.\n",
      "The tCommonGround optimization problem had no optimal solution."
     ]
    },
    {
     "name": "stdout",
     "output_type": "stream",
     "text": [
      "\n",
      "The tCommonGround optimization problem had no optimal solution.\n",
      "The CommonGround optimization problem had no optimal solution.\n",
      "The tCommonGround optimization problem had no optimal solution.\n",
      "The CommonGround optimization problem had no optimal solution.\n",
      "The CommonGround optimization problem had no optimal solution.\n",
      "The CommonGround optimization problem had no optimal solution."
     ]
    },
    {
     "name": "stdout",
     "output_type": "stream",
     "text": [
      "\n",
      "The tCommonGround optimization problem had no optimal solution.\n",
      "The tCommonGround optimization problem had no optimal solution.\n",
      "The tCommonGround optimization problem had no optimal solution.\n"
     ]
    },
    {
     "name": "stdout",
     "output_type": "stream",
     "text": [
      "The CommonGround optimization problem had no optimal solution.\n",
      "The tCommonGround optimization problem had no optimal solution.\n",
      "The CommonGround optimization problem had no optimal solution.\n",
      "The tCommonGround optimization problem had no optimal solution.\n",
      "The CommonGround optimization problem had no optimal solution.\n",
      "The CommonGround optimization problem had no optimal solution.\n",
      "The tCommonGround optimization problem had no optimal solution.\n",
      "The tCommonGround optimization problem had no optimal solution.\n",
      "The CommonGround optimization problem had no optimal solution.\n",
      "The tCommonGround optimization problem had no optimal solution.\n",
      "The CommonGround optimization problem had no optimal solution.\n",
      "The CommonGround optimization problem had no optimal solution.\n",
      "The tCommonGround optimization problem had no optimal solution.\n",
      "The CommonGround optimization problem had no optimal solution."
     ]
    },
    {
     "name": "stdout",
     "output_type": "stream",
     "text": [
      "\n",
      "The tCommonGround optimization problem had no optimal solution.\n",
      "The tCommonGround optimization problem had no optimal solution.\n",
      "The CommonGround optimization problem had no optimal solution.\n",
      "The tCommonGround optimization problem had no optimal solution.\n",
      "The CommonGround optimization problem had no optimal solution.\n",
      "The tCommonGround optimization problem had no optimal solution.\n",
      "The CommonGround optimization problem had no optimal solution."
     ]
    },
    {
     "name": "stdout",
     "output_type": "stream",
     "text": [
      "\n",
      "The CommonGround optimization problem had no optimal solution.\n",
      "The tCommonGround optimization problem had no optimal solution.\n",
      "The CommonGround optimization problem had no optimal solution.\n",
      "The tCommonGround optimization problem had no optimal solution.\n",
      "The tCommonGround optimization problem had no optimal solution.\n",
      "The CommonGround optimization problem had no optimal solution.\n",
      "The tCommonGround optimization problem had no optimal solution.\n",
      "The CommonGround optimization problem had no optimal solution."
     ]
    },
    {
     "name": "stdout",
     "output_type": "stream",
     "text": [
      "\n",
      "The CommonGround optimization problem had no optimal solution.\n",
      "The tCommonGround optimization problem had no optimal solution.\n",
      "The tCommonGround optimization problem had no optimal solution.\n",
      "The CommonGround optimization problem had no optimal solution.\n",
      "The tCommonGround optimization problem had no optimal solution.\n",
      "The CommonGround optimization problem had no optimal solution.\n",
      "The tCommonGround optimization problem had no optimal solution.\n",
      "The CommonGround optimization problem had no optimal solution."
     ]
    },
    {
     "name": "stdout",
     "output_type": "stream",
     "text": [
      "\n",
      "The tCommonGround optimization problem had no optimal solution.\n",
      "The CommonGround optimization problem had no optimal solution.\n",
      "The CommonGround optimization problem had no optimal solution.\n",
      "The tCommonGround optimization problem had no optimal solution.\n",
      "The tCommonGround optimization problem had no optimal solution.\n",
      "The CommonGround optimization problem had no optimal solution.\n",
      "The tCommonGround optimization problem had no optimal solution.\n",
      "The CommonGround optimization problem had no optimal solution.\n",
      "The tCommonGround optimization problem had no optimal solution.\n",
      "The CommonGround optimization problem had no optimal solution.\n",
      "The tCommonGround optimization problem had no optimal solution.\n"
     ]
    },
    {
     "name": "stdout",
     "output_type": "stream",
     "text": [
      "The CommonGround optimization problem had no optimal solution.\n",
      "The CommonGround optimization problem had no optimal solution.\n",
      "The tCommonGround optimization problem had no optimal solution."
     ]
    },
    {
     "name": "stdout",
     "output_type": "stream",
     "text": [
      "\n",
      "The tCommonGround optimization problem had no optimal solution.\n",
      "The CommonGround optimization problem had no optimal solution.\n",
      "The tCommonGround optimization problem had no optimal solution.\n",
      "The CommonGround optimization problem had no optimal solution.\n",
      "The tCommonGround optimization problem had no optimal solution.\n",
      "The CommonGround optimization problem had no optimal solution.\n",
      "The CommonGround optimization problem had no optimal solution.\n",
      "The tCommonGround optimization problem had no optimal solution.\n"
     ]
    },
    {
     "name": "stdout",
     "output_type": "stream",
     "text": [
      "The tCommonGround optimization problem had no optimal solution.\n",
      "The CommonGround optimization problem had no optimal solution.\n",
      "The tCommonGround optimization problem had no optimal solution.\n",
      "The CommonGround optimization problem had no optimal solution.\n",
      "The tCommonGround optimization problem had no optimal solution.\n",
      "The CommonGround optimization problem had no optimal solution.\n",
      "The CommonGround optimization problem had no optimal solution.\n"
     ]
    },
    {
     "name": "stdout",
     "output_type": "stream",
     "text": [
      "The tCommonGround optimization problem had no optimal solution.\n",
      "The tCommonGround optimization problem had no optimal solution.\n",
      "The CommonGround optimization problem had no optimal solution.\n",
      "The tCommonGround optimization problem had no optimal solution.\n",
      "The CommonGround optimization problem had no optimal solution.\n",
      "The tCommonGround optimization problem had no optimal solution.\n",
      "The CommonGround optimization problem had no optimal solution."
     ]
    },
    {
     "name": "stdout",
     "output_type": "stream",
     "text": [
      "\n",
      "The CommonGround optimization problem had no optimal solution.\n",
      "The tCommonGround optimization problem had no optimal solution.\n",
      "The tCommonGround optimization problem had no optimal solution.\n",
      "The CommonGround optimization problem had no optimal solution.\n",
      "The tCommonGround optimization problem had no optimal solution.\n",
      "The CommonGround optimization problem had no optimal solution.\n",
      "The CommonGround optimization problem had no optimal solution."
     ]
    },
    {
     "name": "stdout",
     "output_type": "stream",
     "text": [
      "\n",
      "The tCommonGround optimization problem had no optimal solution.\n",
      "The CommonGround optimization problem had no optimal solution.\n",
      "The tCommonGround optimization problem had no optimal solution.\n",
      "The CommonGround optimization problem had no optimal solution.\n",
      "The tCommonGround optimization problem had no optimal solution.\n",
      "The tCommonGround optimization problem had no optimal solution.\n",
      "The CommonGround optimization problem had no optimal solution.\n",
      "The tCommonGround optimization problem had no optimal solution.\n",
      "The CommonGround optimization problem had no optimal solution.\n",
      "The CommonGround optimization problem had no optimal solution."
     ]
    },
    {
     "name": "stdout",
     "output_type": "stream",
     "text": [
      "\n",
      "The CommonGround optimization problem had no optimal solution.\n",
      "The tCommonGround optimization problem had no optimal solution.\n",
      "The tCommonGround optimization problem had no optimal solution.\n",
      "The tCommonGround optimization problem had no optimal solution.\n",
      "The CommonGround optimization problem had no optimal solution.\n",
      "The CommonGround optimization problem had no optimal solution.\n",
      "The tCommonGround optimization problem had no optimal solution.\n",
      "The tCommonGround optimization problem had no optimal solution.\n",
      "The CommonGround optimization problem had no optimal solution.\n",
      "The tCommonGround optimization problem had no optimal solution.\n"
     ]
    },
    {
     "name": "stdout",
     "output_type": "stream",
     "text": [
      "The CommonGround optimization problem had no optimal solution.\n"
     ]
    },
    {
     "name": "stdout",
     "output_type": "stream",
     "text": [
      "The tCommonGround optimization problem had no optimal solution.\n",
      "The CommonGround optimization problem had no optimal solution.\n",
      "The CommonGround optimization problem had no optimal solution.\n",
      "The tCommonGround optimization problem had no optimal solution.\n",
      "The tCommonGround optimization problem had no optimal solution.\n",
      "The CommonGround optimization problem had no optimal solution.\n",
      "The tCommonGround optimization problem had no optimal solution.\n",
      "The CommonGround optimization problem had no optimal solution.\n",
      "The tCommonGround optimization problem had no optimal solution.\n"
     ]
    },
    {
     "name": "stdout",
     "output_type": "stream",
     "text": [
      "The CommonGround optimization problem had no optimal solution.\n",
      "The CommonGround optimization problem had no optimal solution.\n",
      "The tCommonGround optimization problem had no optimal solution.\n",
      "The tCommonGround optimization problem had no optimal solution.\n",
      "The CommonGround optimization problem had no optimal solution.\n",
      "The tCommonGround optimization problem had no optimal solution.\n",
      "The CommonGround optimization problem had no optimal solution.\n",
      "The CommonGround optimization problem had no optimal solution.\n",
      "The tCommonGround optimization problem had no optimal solution.\n",
      "The CommonGround optimization problem had no optimal solution.\n",
      "The tCommonGround optimization problem had no optimal solution.\n",
      "The tCommonGround optimization problem had no optimal solution.\n",
      "The CommonGround optimization problem had no optimal solution.\n",
      "The tCommonGround optimization problem had no optimal solution.\n",
      "The CommonGround optimization problem had no optimal solution."
     ]
    },
    {
     "name": "stdout",
     "output_type": "stream",
     "text": [
      "\n",
      "The tCommonGround optimization problem had no optimal solution.\n",
      "The CommonGround optimization problem had no optimal solution.\n",
      "The CommonGround optimization problem had no optimal solution.\n",
      "The tCommonGround optimization problem had no optimal solution.\n",
      "The tCommonGround optimization problem had no optimal solution.\n",
      "The CommonGround optimization problem had no optimal solution.\n",
      "The tCommonGround optimization problem had no optimal solution.\n",
      "The CommonGround optimization problem had no optimal solution."
     ]
    },
    {
     "name": "stdout",
     "output_type": "stream",
     "text": [
      "\n",
      "The tCommonGround optimization problem had no optimal solution.\n",
      "The CommonGround optimization problem had no optimal solution.\n",
      "The CommonGround optimization problem had no optimal solution.\n",
      "The tCommonGround optimization problem had no optimal solution.\n",
      "The tCommonGround optimization problem had no optimal solution.\n",
      "The CommonGround optimization problem had no optimal solution.\n",
      "The tCommonGround optimization problem had no optimal solution.\n",
      "The CommonGround optimization problem had no optimal solution.\n",
      "The tCommonGround optimization problem had no optimal solution."
     ]
    },
    {
     "name": "stdout",
     "output_type": "stream",
     "text": [
      "\n",
      "The CommonGround optimization problem had no optimal solution.\n",
      "The CommonGround optimization problem had no optimal solution.\n",
      "The tCommonGround optimization problem had no optimal solution.\n",
      "The tCommonGround optimization problem had no optimal solution.\n",
      "The CommonGround optimization problem had no optimal solution.\n",
      "The tCommonGround optimization problem had no optimal solution.\n",
      "The CommonGround optimization problem had no optimal solution.\n",
      "The CommonGround optimization problem had no optimal solution.\n",
      "The tCommonGround optimization problem had no optimal solution.\n",
      "The CommonGround optimization problem had no optimal solution."
     ]
    },
    {
     "name": "stdout",
     "output_type": "stream",
     "text": [
      "\n",
      "The tCommonGround optimization problem had no optimal solution.\n",
      "The CommonGround optimization problem had no optimal solution.\n",
      "The tCommonGround optimization problem had no optimal solution.\n",
      "The tCommonGround optimization problem had no optimal solution.\n"
     ]
    },
    {
     "name": "stdout",
     "output_type": "stream",
     "text": [
      "The CommonGround optimization problem had no optimal solution.\n",
      "The CommonGround optimization problem had no optimal solution.\n",
      "The CommonGround optimization problem had no optimal solution.\n",
      "The tCommonGround optimization problem had no optimal solution.\n",
      "The CommonGround optimization problem had no optimal solution.\n",
      "The tCommonGround optimization problem had no optimal solution.\n",
      "The tCommonGround optimization problem had no optimal solution.\n",
      "The tCommonGround optimization problem had no optimal solution.\n"
     ]
    },
    {
     "name": "stdout",
     "output_type": "stream",
     "text": [
      "The CommonGround optimization problem had no optimal solution.\n",
      "The CommonGround optimization problem had no optimal solution.\n",
      "The CommonGround optimization problem had no optimal solution.\n",
      "The CommonGround optimization problem had no optimal solution.\n",
      "The tCommonGround optimization problem had no optimal solution.\n",
      "The tCommonGround optimization problem had no optimal solution.\n",
      "The tCommonGround optimization problem had no optimal solution.\n",
      "The tCommonGround optimization problem had no optimal solution.\n"
     ]
    },
    {
     "name": "stdout",
     "output_type": "stream",
     "text": [
      "The CommonGround optimization problem had no optimal solution.\n",
      "The CommonGround optimization problem had no optimal solution.\n",
      "The CommonGround optimization problem had no optimal solution.\n",
      "The CommonGround optimization problem had no optimal solution.\n",
      "The tCommonGround optimization problem had no optimal solution.\n",
      "The tCommonGround optimization problem had no optimal solution.\n",
      "The tCommonGround optimization problem had no optimal solution.\n",
      "The tCommonGround optimization problem had no optimal solution.\n",
      "The CommonGround optimization problem had no optimal solution."
     ]
    },
    {
     "name": "stdout",
     "output_type": "stream",
     "text": [
      "\n",
      "The CommonGround optimization problem had no optimal solution.\n",
      "The CommonGround optimization problem had no optimal solution.\n",
      "The CommonGround optimization problem had no optimal solution.\n",
      "The tCommonGround optimization problem had no optimal solution.\n",
      "The tCommonGround optimization problem had no optimal solution.\n",
      "The tCommonGround optimization problem had no optimal solution.\n",
      "The tCommonGround optimization problem had no optimal solution.\n",
      "The CommonGround optimization problem had no optimal solution.\n",
      "The CommonGround optimization problem had no optimal solution."
     ]
    },
    {
     "name": "stdout",
     "output_type": "stream",
     "text": [
      "\n",
      "The CommonGround optimization problem had no optimal solution.\n",
      "The CommonGround optimization problem had no optimal solution.\n",
      "The tCommonGround optimization problem had no optimal solution.\n",
      "The tCommonGround optimization problem had no optimal solution.\n",
      "The tCommonGround optimization problem had no optimal solution.\n",
      "The tCommonGround optimization problem had no optimal solution.\n",
      "The CommonGround optimization problem had no optimal solution.\n",
      "The CommonGround optimization problem had no optimal solution.\n"
     ]
    },
    {
     "name": "stdout",
     "output_type": "stream",
     "text": [
      "The CommonGround optimization problem had no optimal solution.\n",
      "The CommonGround optimization problem had no optimal solution.\n",
      "The tCommonGround optimization problem had no optimal solution.\n",
      "The tCommonGround optimization problem had no optimal solution.\n",
      "The tCommonGround optimization problem had no optimal solution.\n",
      "The tCommonGround optimization problem had no optimal solution.\n",
      "The CommonGround optimization problem had no optimal solution.\n",
      "The CommonGround optimization problem had no optimal solution.\n",
      "The CommonGround optimization problem had no optimal solution."
     ]
    },
    {
     "name": "stdout",
     "output_type": "stream",
     "text": [
      "\n",
      "The CommonGround optimization problem had no optimal solution.\n",
      "The tCommonGround optimization problem had no optimal solution.\n",
      "The tCommonGround optimization problem had no optimal solution.\n",
      "The tCommonGround optimization problem had no optimal solution.\n",
      "The tCommonGround optimization problem had no optimal solution.\n",
      "The CommonGround optimization problem had no optimal solution.\n",
      "The CommonGround optimization problem had no optimal solution."
     ]
    },
    {
     "name": "stdout",
     "output_type": "stream",
     "text": [
      "\n",
      "The CommonGround optimization problem had no optimal solution.\n",
      "The tCommonGround optimization problem had no optimal solution.\n",
      "The tCommonGround optimization problem had no optimal solution.\n",
      "The CommonGround optimization problem had no optimal solution.\n",
      "The tCommonGround optimization problem had no optimal solution.\n",
      "The tCommonGround optimization problem had no optimal solution.\n",
      "The CommonGround optimization problem had no optimal solution.\n",
      "The CommonGround optimization problem had no optimal solution."
     ]
    },
    {
     "name": "stdout",
     "output_type": "stream",
     "text": [
      "\n",
      "The tCommonGround optimization problem had no optimal solution.\n",
      "The CommonGround optimization problem had no optimal solution.\n",
      "The tCommonGround optimization problem had no optimal solution.\n",
      "The tCommonGround optimization problem had no optimal solution.\n",
      "The CommonGround optimization problem had no optimal solution.\n",
      "The tCommonGround optimization problem had no optimal solution.\n",
      "The CommonGround optimization problem had no optimal solution."
     ]
    },
    {
     "name": "stdout",
     "output_type": "stream",
     "text": [
      "\n",
      "The CommonGround optimization problem had no optimal solution.\n",
      "The tCommonGround optimization problem had no optimal solution.\n",
      "The CommonGround optimization problem had no optimal solution.\n",
      "The tCommonGround optimization problem had no optimal solution.\n",
      "The tCommonGround optimization problem had no optimal solution.\n",
      "The CommonGround optimization problem had no optimal solution.\n",
      "The tCommonGround optimization problem had no optimal solution.\n",
      "The CommonGround optimization problem had no optimal solution."
     ]
    },
    {
     "name": "stdout",
     "output_type": "stream",
     "text": [
      "\n",
      "The CommonGround optimization problem had no optimal solution.\n",
      "The CommonGround optimization problem had no optimal solution.\n",
      "The tCommonGround optimization problem had no optimal solution.\n",
      "The tCommonGround optimization problem had no optimal solution.\n",
      "The tCommonGround optimization problem had no optimal solution.\n",
      "The CommonGround optimization problem had no optimal solution.\n",
      "The tCommonGround optimization problem had no optimal solution.\n",
      "The CommonGround optimization problem had no optimal solution.\n"
     ]
    },
    {
     "name": "stdout",
     "output_type": "stream",
     "text": [
      "The CommonGround optimization problem had no optimal solution.\n",
      "The CommonGround optimization problem had no optimal solution.\n",
      "The tCommonGround optimization problem had no optimal solution.\n",
      "The tCommonGround optimization problem had no optimal solution.\n",
      "The tCommonGround optimization problem had no optimal solution.\n",
      "The CommonGround optimization problem had no optimal solution.\n",
      "The tCommonGround optimization problem had no optimal solution.\n",
      "The CommonGround optimization problem had no optimal solution.\n"
     ]
    },
    {
     "name": "stdout",
     "output_type": "stream",
     "text": [
      "The CommonGround optimization problem had no optimal solution.\n",
      "The CommonGround optimization problem had no optimal solution.\n",
      "The tCommonGround optimization problem had no optimal solution.\n",
      "The tCommonGround optimization problem had no optimal solution.\n",
      "The tCommonGround optimization problem had no optimal solution.\n",
      "The CommonGround optimization problem had no optimal solution.\n",
      "The tCommonGround optimization problem had no optimal solution.\n",
      "The CommonGround optimization problem had no optimal solution.\n",
      "The CommonGround optimization problem had no optimal solution.\n",
      "The CommonGround optimization problem had no optimal solution.\n",
      "The tCommonGround optimization problem had no optimal solution."
     ]
    },
    {
     "name": "stdout",
     "output_type": "stream",
     "text": [
      "\n",
      "The tCommonGround optimization problem had no optimal solution.\n",
      "The tCommonGround optimization problem had no optimal solution.\n",
      "The CommonGround optimization problem had no optimal solution.\n",
      "The tCommonGround optimization problem had no optimal solution.\n",
      "The CommonGround optimization problem had no optimal solution.\n",
      "The CommonGround optimization problem had no optimal solution.\n",
      "The CommonGround optimization problem had no optimal solution.\n",
      "The tCommonGround optimization problem had no optimal solution."
     ]
    },
    {
     "name": "stdout",
     "output_type": "stream",
     "text": [
      "\n",
      "The tCommonGround optimization problem had no optimal solution.\n",
      "The tCommonGround optimization problem had no optimal solution.\n",
      "The CommonGround optimization problem had no optimal solution.\n",
      "The tCommonGround optimization problem had no optimal solution.\n",
      "The CommonGround optimization problem had no optimal solution."
     ]
    },
    {
     "name": "stdout",
     "output_type": "stream",
     "text": [
      "\n",
      "The CommonGround optimization problem had no optimal solution.\n",
      "The CommonGround optimization problem had no optimal solution.\n",
      "The CommonGround optimization problem had no optimal solution.\n",
      "The tCommonGround optimization problem had no optimal solution.\n",
      "The tCommonGround optimization problem had no optimal solution.\n",
      "The tCommonGround optimization problem had no optimal solution.\n",
      "The tCommonGround optimization problem had no optimal solution.\n",
      "The CommonGround optimization problem had no optimal solution.\n",
      "The CommonGround optimization problem had no optimal solution.\n",
      "The CommonGround optimization problem had no optimal solution.\n",
      "The tCommonGround optimization problem had no optimal solution.\n",
      "The CommonGround optimization problem had no optimal solution."
     ]
    },
    {
     "name": "stdout",
     "output_type": "stream",
     "text": [
      "\n",
      "The tCommonGround optimization problem had no optimal solution.\n",
      "The tCommonGround optimization problem had no optimal solution.\n",
      "The tCommonGround optimization problem had no optimal solution.\n",
      "The CommonGround optimization problem had no optimal solution.\n",
      "The tCommonGround optimization problem had no optimal solution.\n",
      "The CommonGround optimization problem had no optimal solution.\n",
      "The CommonGround optimization problem had no optimal solution."
     ]
    },
    {
     "name": "stdout",
     "output_type": "stream",
     "text": [
      "\n",
      "The CommonGround optimization problem had no optimal solution.\n",
      "The tCommonGround optimization problem had no optimal solution.\n",
      "The tCommonGround optimization problem had no optimal solution.\n",
      "The tCommonGround optimization problem had no optimal solution.\n",
      "The CommonGround optimization problem had no optimal solution.\n",
      "The tCommonGround optimization problem had no optimal solution.\n",
      "The CommonGround optimization problem had no optimal solution.\n",
      "The tCommonGround optimization problem had no optimal solution.\n",
      "The CommonGround optimization problem had no optimal solution."
     ]
    },
    {
     "name": "stdout",
     "output_type": "stream",
     "text": [
      "\n",
      "The CommonGround optimization problem had no optimal solution.\n",
      "The tCommonGround optimization problem had no optimal solution.\n",
      "The tCommonGround optimization problem had no optimal solution.\n",
      "The CommonGround optimization problem had no optimal solution.\n",
      "The tCommonGround optimization problem had no optimal solution.\n",
      "The CommonGround optimization problem had no optimal solution.\n",
      "The CommonGround optimization problem had no optimal solution.\n",
      "The CommonGround optimization problem had no optimal solution.\n",
      "The tCommonGround optimization problem had no optimal solution.\n",
      "The tCommonGround optimization problem had no optimal solution."
     ]
    },
    {
     "name": "stdout",
     "output_type": "stream",
     "text": [
      "\n",
      "The tCommonGround optimization problem had no optimal solution.\n",
      "The CommonGround optimization problem had no optimal solution.\n",
      "The CommonGround optimization problem had no optimal solution.\n",
      "The tCommonGround optimization problem had no optimal solution.\n",
      "The CommonGround optimization problem had no optimal solution.\n",
      "The tCommonGround optimization problem had no optimal solution.\n",
      "The CommonGround optimization problem had no optimal solution.\n",
      "The tCommonGround optimization problem had no optimal solution."
     ]
    },
    {
     "name": "stdout",
     "output_type": "stream",
     "text": [
      "\n",
      "The tCommonGround optimization problem had no optimal solution.\n",
      "The CommonGround optimization problem had no optimal solution.\n",
      "The CommonGround optimization problem had no optimal solution.\n",
      "The tCommonGround optimization problem had no optimal solution.\n",
      "The tCommonGround optimization problem had no optimal solution.\n",
      "The CommonGround optimization problem had no optimal solution.\n"
     ]
    },
    {
     "name": "stdout",
     "output_type": "stream",
     "text": [
      "The tCommonGround optimization problem had no optimal solution.\n",
      "The CommonGround optimization problem had no optimal solution.\n",
      "The tCommonGround optimization problem had no optimal solution.\n",
      "The CommonGround optimization problem had no optimal solution.\n",
      "The CommonGround optimization problem had no optimal solution.\n",
      "The tCommonGround optimization problem had no optimal solution.\n",
      "The CommonGround optimization problem had no optimal solution.\n"
     ]
    },
    {
     "name": "stdout",
     "output_type": "stream",
     "text": [
      "The tCommonGround optimization problem had no optimal solution.\n",
      "The tCommonGround optimization problem had no optimal solution.\n",
      "The CommonGround optimization problem had no optimal solution.\n",
      "The CommonGround optimization problem had no optimal solution.\n",
      "The CommonGround optimization problem had no optimal solution.\n",
      "The CommonGround optimization problem had no optimal solution.\n",
      "The tCommonGround optimization problem had no optimal solution.\n",
      "The tCommonGround optimization problem had no optimal solution."
     ]
    },
    {
     "name": "stdout",
     "output_type": "stream",
     "text": [
      "\n",
      "The tCommonGround optimization problem had no optimal solution.\n",
      "The tCommonGround optimization problem had no optimal solution.\n",
      "The CommonGround optimization problem had no optimal solution.\n",
      "The CommonGround optimization problem had no optimal solution."
     ]
    },
    {
     "name": "stdout",
     "output_type": "stream",
     "text": [
      "\n",
      "The tCommonGround optimization problem had no optimal solution.\n",
      "The CommonGround optimization problem had no optimal solution.\n",
      "The CommonGround optimization problem had no optimal solution.\n",
      "The tCommonGround optimization problem had no optimal solution.\n",
      "The tCommonGround optimization problem had no optimal solution.\n",
      "The tCommonGround optimization problem had no optimal solution.\n",
      "The CommonGround optimization problem had no optimal solution.\n",
      "The tCommonGround optimization problem had no optimal solution.\n",
      "The CommonGround optimization problem had no optimal solution."
     ]
    },
    {
     "name": "stdout",
     "output_type": "stream",
     "text": [
      "\n",
      "The CommonGround optimization problem had no optimal solution.\n",
      "The CommonGround optimization problem had no optimal solution.\n",
      "The tCommonGround optimization problem had no optimal solution.\n",
      "The tCommonGround optimization problem had no optimal solution.\n",
      "The tCommonGround optimization problem had no optimal solution."
     ]
    },
    {
     "name": "stdout",
     "output_type": "stream",
     "text": [
      "\n",
      "The CommonGround optimization problem had no optimal solution.\n",
      "The tCommonGround optimization problem had no optimal solution.\n",
      "The CommonGround optimization problem had no optimal solution.\n",
      "The tCommonGround optimization problem had no optimal solution.\n",
      "The CommonGround optimization problem had no optimal solution."
     ]
    },
    {
     "name": "stdout",
     "output_type": "stream",
     "text": [
      "\n",
      "The CommonGround optimization problem had no optimal solution.\n",
      "The tCommonGround optimization problem had no optimal solution.\n",
      "The tCommonGround optimization problem had no optimal solution.\n",
      "The CommonGround optimization problem had no optimal solution.\n",
      "The tCommonGround optimization problem had no optimal solution.\n",
      "The CommonGround optimization problem had no optimal solution.\n",
      "The CommonGround optimization problem had no optimal solution."
     ]
    },
    {
     "name": "stdout",
     "output_type": "stream",
     "text": [
      "\n",
      "The tCommonGround optimization problem had no optimal solution.\n",
      "The tCommonGround optimization problem had no optimal solution.\n",
      "The CommonGround optimization problem had no optimal solution.\n",
      "The CommonGround optimization problem had no optimal solution.\n",
      "The tCommonGround optimization problem had no optimal solution.\n",
      "The tCommonGround optimization problem had no optimal solution.\n",
      "The CommonGround optimization problem had no optimal solution."
     ]
    },
    {
     "name": "stdout",
     "output_type": "stream",
     "text": [
      "\n",
      "The tCommonGround optimization problem had no optimal solution.\n",
      "The CommonGround optimization problem had no optimal solution.\n",
      "The CommonGround optimization problem had no optimal solution.\n",
      "The tCommonGround optimization problem had no optimal solution.\n",
      "The CommonGround optimization problem had no optimal solution.\n",
      "The tCommonGround optimization problem had no optimal solution.\n",
      "The tCommonGround optimization problem had no optimal solution.\n",
      "The CommonGround optimization problem had no optimal solution."
     ]
    },
    {
     "name": "stdout",
     "output_type": "stream",
     "text": [
      "\n",
      "The tCommonGround optimization problem had no optimal solution.\n",
      "The CommonGround optimization problem had no optimal solution.\n",
      "The tCommonGround optimization problem had no optimal solution.\n",
      "The CommonGround optimization problem had no optimal solution.\n",
      "The tCommonGround optimization problem had no optimal solution.\n",
      "The CommonGround optimization problem had no optimal solution."
     ]
    },
    {
     "name": "stdout",
     "output_type": "stream",
     "text": [
      "\n",
      "The CommonGround optimization problem had no optimal solution.\n",
      "The tCommonGround optimization problem had no optimal solution.\n",
      "The tCommonGround optimization problem had no optimal solution.\n",
      "The CommonGround optimization problem had no optimal solution.\n",
      "The tCommonGround optimization problem had no optimal solution.\n",
      "The CommonGround optimization problem had no optimal solution.\n",
      "The tCommonGround optimization problem had no optimal solution.\n",
      "The CommonGround optimization problem had no optimal solution."
     ]
    },
    {
     "name": "stdout",
     "output_type": "stream",
     "text": [
      "\n",
      "The CommonGround optimization problem had no optimal solution.\n",
      "The tCommonGround optimization problem had no optimal solution.\n",
      "The tCommonGround optimization problem had no optimal solution.\n",
      "The CommonGround optimization problem had no optimal solution.\n",
      "The tCommonGround optimization problem had no optimal solution.\n",
      "The CommonGround optimization problem had no optimal solution.\n",
      "The tCommonGround optimization problem had no optimal solution.\n",
      "The CommonGround optimization problem had no optimal solution.\n",
      "The CommonGround optimization problem had no optimal solution."
     ]
    },
    {
     "name": "stdout",
     "output_type": "stream",
     "text": [
      "\n",
      "The tCommonGround optimization problem had no optimal solution.\n",
      "The tCommonGround optimization problem had no optimal solution.\n",
      "The CommonGround optimization problem had no optimal solution.\n",
      "The tCommonGround optimization problem had no optimal solution.\n",
      "The CommonGround optimization problem had no optimal solution.\n",
      "The tCommonGround optimization problem had no optimal solution.\n",
      "The CommonGround optimization problem had no optimal solution."
     ]
    },
    {
     "name": "stdout",
     "output_type": "stream",
     "text": [
      "\n",
      "The tCommonGround optimization problem had no optimal solution.\n",
      "The CommonGround optimization problem had no optimal solution.\n",
      "The tCommonGround optimization problem had no optimal solution.\n",
      "The CommonGround optimization problem had no optimal solution.\n",
      "The CommonGround optimization problem had no optimal solution.\n",
      "The tCommonGround optimization problem had no optimal solution.\n",
      "The tCommonGround optimization problem had no optimal solution.\n",
      "The CommonGround optimization problem had no optimal solution.\n",
      "The CommonGround optimization problem had no optimal solution."
     ]
    },
    {
     "name": "stdout",
     "output_type": "stream",
     "text": [
      "\n",
      "The tCommonGround optimization problem had no optimal solution.\n",
      "The tCommonGround optimization problem had no optimal solution.\n",
      "The CommonGround optimization problem had no optimal solution.\n",
      "The CommonGround optimization problem had no optimal solution.\n",
      "The tCommonGround optimization problem had no optimal solution.\n",
      "The tCommonGround optimization problem had no optimal solution.\n",
      "The CommonGround optimization problem had no optimal solution.\n",
      "The CommonGround optimization problem had no optimal solution."
     ]
    },
    {
     "name": "stdout",
     "output_type": "stream",
     "text": [
      "\n",
      "The CommonGround optimization problem had no optimal solution.\n",
      "The tCommonGround optimization problem had no optimal solution.\n",
      "The tCommonGround optimization problem had no optimal solution.\n",
      "The tCommonGround optimization problem had no optimal solution.\n",
      "The CommonGround optimization problem had no optimal solution.\n",
      "The CommonGround optimization problem had no optimal solution.\n",
      "The tCommonGround optimization problem had no optimal solution.\n",
      "The tCommonGround optimization problem had no optimal solution.\n",
      "The CommonGround optimization problem had no optimal solution.\n",
      "The tCommonGround optimization problem had no optimal solution.\n",
      "The CommonGround optimization problem had no optimal solution."
     ]
    },
    {
     "name": "stdout",
     "output_type": "stream",
     "text": [
      "\n",
      "The tCommonGround optimization problem had no optimal solution.\n",
      "The CommonGround optimization problem had no optimal solution.\n",
      "The tCommonGround optimization problem had no optimal solution.\n",
      "The CommonGround optimization problem had no optimal solution.\n",
      "The CommonGround optimization problem had no optimal solution.\n",
      "The tCommonGround optimization problem had no optimal solution.\n",
      "The tCommonGround optimization problem had no optimal solution.\n",
      "The CommonGround optimization problem had no optimal solution.\n",
      "The tCommonGround optimization problem had no optimal solution.\n",
      "The CommonGround optimization problem had no optimal solution."
     ]
    },
    {
     "name": "stdout",
     "output_type": "stream",
     "text": [
      "\n",
      "The tCommonGround optimization problem had no optimal solution.\n"
     ]
    },
    {
     "name": "stdout",
     "output_type": "stream",
     "text": [
      "The CommonGround optimization problem had no optimal solution.\n",
      "The CommonGround optimization problem had no optimal solution.\n",
      "The tCommonGround optimization problem had no optimal solution.\n",
      "The CommonGround optimization problem had no optimal solution.\n",
      "The tCommonGround optimization problem had no optimal solution.\n",
      "The tCommonGround optimization problem had no optimal solution.\n",
      "The CommonGround optimization problem had no optimal solution.\n",
      "The tCommonGround optimization problem had no optimal solution.\n",
      "The CommonGround optimization problem had no optimal solution.\n",
      "The CommonGround optimization problem had no optimal solution.\n",
      "The CommonGround optimization problem had no optimal solution.\n",
      "The tCommonGround optimization problem had no optimal solution.\n",
      "The tCommonGround optimization problem had no optimal solution.\n",
      "The CommonGround optimization problem had no optimal solution."
     ]
    },
    {
     "name": "stdout",
     "output_type": "stream",
     "text": [
      "\n",
      "The tCommonGround optimization problem had no optimal solution.\n",
      "The tCommonGround optimization problem had no optimal solution.\n"
     ]
    },
    {
     "name": "stdout",
     "output_type": "stream",
     "text": [
      "The CommonGround optimization problem had no optimal solution.\n",
      "The CommonGround optimization problem had no optimal solution.\n",
      "The CommonGround optimization problem had no optimal solution.\n",
      "The tCommonGround optimization problem had no optimal solution.\n",
      "The tCommonGround optimization problem had no optimal solution.\n",
      "The tCommonGround optimization problem had no optimal solution.\n",
      "The CommonGround optimization problem had no optimal solution.\n",
      "The tCommonGround optimization problem had no optimal solution.\n",
      "The CommonGround optimization problem had no optimal solution.\n",
      "The CommonGround optimization problem had no optimal solution.\n",
      "The CommonGround optimization problem had no optimal solution.\n",
      "The tCommonGround optimization problem had no optimal solution.\n",
      "The tCommonGround optimization problem had no optimal solution.\n",
      "The tCommonGround optimization problem had no optimal solution.\n",
      "The CommonGround optimization problem had no optimal solution."
     ]
    },
    {
     "name": "stdout",
     "output_type": "stream",
     "text": [
      "\n",
      "The tCommonGround optimization problem had no optimal solution.\n",
      "The CommonGround optimization problem had no optimal solution.\n",
      "The tCommonGround optimization problem had no optimal solution.\n",
      "The CommonGround optimization problem had no optimal solution.\n",
      "The CommonGround optimization problem had no optimal solution.\n",
      "The tCommonGround optimization problem had no optimal solution.\n",
      "The tCommonGround optimization problem had no optimal solution.\n",
      "The CommonGround optimization problem had no optimal solution."
     ]
    },
    {
     "name": "stdout",
     "output_type": "stream",
     "text": [
      "\n",
      "The tCommonGround optimization problem had no optimal solution.\n",
      "The CommonGround optimization problem had no optimal solution.\n",
      "The CommonGround optimization problem had no optimal solution.\n",
      "The tCommonGround optimization problem had no optimal solution.\n",
      "The CommonGround optimization problem had no optimal solution.\n",
      "The tCommonGround optimization problem had no optimal solution.\n",
      "The CommonGround optimization problem had no optimal solution."
     ]
    },
    {
     "name": "stdout",
     "output_type": "stream",
     "text": [
      "\n",
      "The tCommonGround optimization problem had no optimal solution.\n"
     ]
    },
    {
     "name": "stdout",
     "output_type": "stream",
     "text": [
      "The CommonGround optimization problem had no optimal solution.\n",
      "The tCommonGround optimization problem had no optimal solution.\n",
      "The tCommonGround optimization problem had no optimal solution.\n",
      "The CommonGround optimization problem had no optimal solution.\n",
      "The tCommonGround optimization problem had no optimal solution.\n",
      "The CommonGround optimization problem had no optimal solution.\n",
      "The tCommonGround optimization problem had no optimal solution.\n",
      "The CommonGround optimization problem had no optimal solution.\n"
     ]
    },
    {
     "name": "stdout",
     "output_type": "stream",
     "text": [
      "The tCommonGround optimization problem had no optimal solution.\n",
      "The CommonGround optimization problem had no optimal solution.\n",
      "The CommonGround optimization problem had no optimal solution.\n",
      "The tCommonGround optimization problem had no optimal solution.\n",
      "The tCommonGround optimization problem had no optimal solution.\n",
      "The CommonGround optimization problem had no optimal solution.\n",
      "The tCommonGround optimization problem had no optimal solution.\n",
      "The CommonGround optimization problem had no optimal solution.\n"
     ]
    },
    {
     "name": "stdout",
     "output_type": "stream",
     "text": [
      "The tCommonGround optimization problem had no optimal solution.\n",
      "The CommonGround optimization problem had no optimal solution.\n",
      "The CommonGround optimization problem had no optimal solution.\n",
      "The tCommonGround optimization problem had no optimal solution.\n",
      "The tCommonGround optimization problem had no optimal solution.\n",
      "The CommonGround optimization problem had no optimal solution.\n",
      "The tCommonGround optimization problem had no optimal solution.\n",
      "The CommonGround optimization problem had no optimal solution.\n",
      "The tCommonGround optimization problem had no optimal solution.\n"
     ]
    },
    {
     "name": "stdout",
     "output_type": "stream",
     "text": [
      "The CommonGround optimization problem had no optimal solution.\n",
      "The CommonGround optimization problem had no optimal solution.\n",
      "The tCommonGround optimization problem had no optimal solution.\n",
      "The tCommonGround optimization problem had no optimal solution.\n",
      "The CommonGround optimization problem had no optimal solution.\n",
      "The tCommonGround optimization problem had no optimal solution.\n",
      "The CommonGround optimization problem had no optimal solution.\n",
      "The tCommonGround optimization problem had no optimal solution.\n",
      "The CommonGround optimization problem had no optimal solution.\n",
      "The tCommonGround optimization problem had no optimal solution.\n",
      "The CommonGround optimization problem had no optimal solution.\n",
      "The tCommonGround optimization problem had no optimal solution.\n",
      "The CommonGround optimization problem had no optimal solution.\n",
      "The tCommonGround optimization problem had no optimal solution.\n",
      "The CommonGround optimization problem had no optimal solution."
     ]
    },
    {
     "name": "stdout",
     "output_type": "stream",
     "text": [
      "\n",
      "The tCommonGround optimization problem had no optimal solution.\n",
      "The CommonGround optimization problem had no optimal solution.\n",
      "The CommonGround optimization problem had no optimal solution.\n",
      "The tCommonGround optimization problem had no optimal solution.\n",
      "The tCommonGround optimization problem had no optimal solution.\n",
      "The CommonGround optimization problem had no optimal solution.\n",
      "The tCommonGround optimization problem had no optimal solution.\n",
      "The CommonGround optimization problem had no optimal solution."
     ]
    },
    {
     "name": "stdout",
     "output_type": "stream",
     "text": [
      "\n",
      "The tCommonGround optimization problem had no optimal solution.\n"
     ]
    },
    {
     "name": "stdout",
     "output_type": "stream",
     "text": [
      "The CommonGround optimization problem had no optimal solution.\n",
      "The tCommonGround optimization problem had no optimal solution.\n",
      "The CommonGround optimization problem had no optimal solution.\n",
      "The CommonGround optimization problem had no optimal solution.\n",
      "The tCommonGround optimization problem had no optimal solution.\n",
      "The tCommonGround optimization problem had no optimal solution.\n",
      "The CommonGround optimization problem had no optimal solution.\n",
      "The tCommonGround optimization problem had no optimal solution.\n"
     ]
    },
    {
     "name": "stdout",
     "output_type": "stream",
     "text": [
      "The CommonGround optimization problem had no optimal solution.\n",
      "The tCommonGround optimization problem had no optimal solution.\n",
      "The CommonGround optimization problem had no optimal solution.\n",
      "The CommonGround optimization problem had no optimal solution.\n",
      "The tCommonGround optimization problem had no optimal solution.\n",
      "The tCommonGround optimization problem had no optimal solution.\n",
      "The CommonGround optimization problem had no optimal solution.\n",
      "The tCommonGround optimization problem had no optimal solution.\n"
     ]
    },
    {
     "name": "stdout",
     "output_type": "stream",
     "text": [
      "The CommonGround optimization problem had no optimal solution.\n",
      "The tCommonGround optimization problem had no optimal solution.\n",
      "The CommonGround optimization problem had no optimal solution.\n",
      "The tCommonGround optimization problem had no optimal solution.\n",
      "The CommonGround optimization problem had no optimal solution.\n",
      "The tCommonGround optimization problem had no optimal solution.\n",
      "The CommonGround optimization problem had no optimal solution.\n",
      "The CommonGround optimization problem had no optimal solution.\n"
     ]
    },
    {
     "name": "stdout",
     "output_type": "stream",
     "text": [
      "The tCommonGround optimization problem had no optimal solution.\n",
      "The tCommonGround optimization problem had no optimal solution.\n",
      "The CommonGround optimization problem had no optimal solution.\n",
      "The tCommonGround optimization problem had no optimal solution.\n",
      "The CommonGround optimization problem had no optimal solution.\n",
      "The tCommonGround optimization problem had no optimal solution.\n",
      "The CommonGround optimization problem had no optimal solution.\n",
      "The CommonGround optimization problem had no optimal solution."
     ]
    },
    {
     "name": "stdout",
     "output_type": "stream",
     "text": [
      "\n",
      "The CommonGround optimization problem had no optimal solution.\n",
      "The tCommonGround optimization problem had no optimal solution.\n",
      "The tCommonGround optimization problem had no optimal solution.\n",
      "The tCommonGround optimization problem had no optimal solution.\n",
      "The CommonGround optimization problem had no optimal solution.\n",
      "The tCommonGround optimization problem had no optimal solution.\n",
      "The CommonGround optimization problem had no optimal solution.\n",
      "The CommonGround optimization problem had no optimal solution."
     ]
    },
    {
     "name": "stdout",
     "output_type": "stream",
     "text": [
      "\n",
      "The tCommonGround optimization problem had no optimal solution.\n",
      "The CommonGround optimization problem had no optimal solution.\n",
      "The tCommonGround optimization problem had no optimal solution.\n",
      "The tCommonGround optimization problem had no optimal solution.\n",
      "The CommonGround optimization problem had no optimal solution.\n",
      "The CommonGround optimization problem had no optimal solution.\n",
      "The tCommonGround optimization problem had no optimal solution.\n",
      "The tCommonGround optimization problem had no optimal solution.\n",
      "The CommonGround optimization problem had no optimal solution."
     ]
    },
    {
     "name": "stdout",
     "output_type": "stream",
     "text": [
      "\n",
      "The CommonGround optimization problem had no optimal solution.\n",
      "The tCommonGround optimization problem had no optimal solution.\n",
      "The tCommonGround optimization problem had no optimal solution.\n",
      "The CommonGround optimization problem had no optimal solution.\n",
      "The tCommonGround optimization problem had no optimal solution.\n",
      "The CommonGround optimization problem had no optimal solution.\n",
      "The tCommonGround optimization problem had no optimal solution.\n",
      "The CommonGround optimization problem had no optimal solution."
     ]
    },
    {
     "name": "stdout",
     "output_type": "stream",
     "text": [
      "\n",
      "The CommonGround optimization problem had no optimal solution.\n",
      "The tCommonGround optimization problem had no optimal solution.\n",
      "The tCommonGround optimization problem had no optimal solution.\n",
      "The CommonGround optimization problem had no optimal solution.\n",
      "The tCommonGround optimization problem had no optimal solution.\n",
      "The CommonGround optimization problem had no optimal solution.\n",
      "The CommonGround optimization problem had no optimal solution."
     ]
    },
    {
     "name": "stdout",
     "output_type": "stream",
     "text": [
      "\n",
      "The CommonGround optimization problem had no optimal solution.\n",
      "The tCommonGround optimization problem had no optimal solution.\n",
      "The tCommonGround optimization problem had no optimal solution.\n",
      "The tCommonGround optimization problem had no optimal solution.\n",
      "The CommonGround optimization problem had no optimal solution.\n",
      "The tCommonGround optimization problem had no optimal solution.\n",
      "The CommonGround optimization problem had no optimal solution."
     ]
    },
    {
     "name": "stdout",
     "output_type": "stream",
     "text": [
      "\n",
      "The CommonGround optimization problem had no optimal solution.\n",
      "The tCommonGround optimization problem had no optimal solution.\n",
      "The tCommonGround optimization problem had no optimal solution.\n",
      "The CommonGround optimization problem had no optimal solution.\n",
      "The tCommonGround optimization problem had no optimal solution.\n",
      "The CommonGround optimization problem had no optimal solution.\n",
      "The tCommonGround optimization problem had no optimal solution.\n",
      "The CommonGround optimization problem had no optimal solution."
     ]
    },
    {
     "name": "stdout",
     "output_type": "stream",
     "text": [
      "\n",
      "The CommonGround optimization problem had no optimal solution.\n",
      "The tCommonGround optimization problem had no optimal solution.\n",
      "The CommonGround optimization problem had no optimal solution.\n",
      "The tCommonGround optimization problem had no optimal solution.\n",
      "The tCommonGround optimization problem had no optimal solution.\n",
      "The CommonGround optimization problem had no optimal solution.\n",
      "The tCommonGround optimization problem had no optimal solution.\n",
      "The CommonGround optimization problem had no optimal solution."
     ]
    },
    {
     "name": "stdout",
     "output_type": "stream",
     "text": [
      "\n",
      "The CommonGround optimization problem had no optimal solution.\n",
      "The CommonGround optimization problem had no optimal solution.\n",
      "The tCommonGround optimization problem had no optimal solution.\n",
      "The tCommonGround optimization problem had no optimal solution.\n",
      "The tCommonGround optimization problem had no optimal solution.\n",
      "The CommonGround optimization problem had no optimal solution.\n",
      "The tCommonGround optimization problem had no optimal solution.\n",
      "The CommonGround optimization problem had no optimal solution."
     ]
    },
    {
     "name": "stdout",
     "output_type": "stream",
     "text": [
      "\n",
      "The CommonGround optimization problem had no optimal solution.\n",
      "The tCommonGround optimization problem had no optimal solution.\n",
      "The tCommonGround optimization problem had no optimal solution.\n",
      "The CommonGround optimization problem had no optimal solution.\n",
      "The CommonGround optimization problem had no optimal solution.\n",
      "The tCommonGround optimization problem had no optimal solution.\n",
      "The tCommonGround optimization problem had no optimal solution.\n",
      "The CommonGround optimization problem had no optimal solution.\n",
      "The tCommonGround optimization problem had no optimal solution.\n",
      "The CommonGround optimization problem had no optimal solution.\n",
      "The tCommonGround optimization problem had no optimal solution.\n",
      "The CommonGround optimization problem had no optimal solution.\n",
      "The tCommonGround optimization problem had no optimal solution.\n",
      "The CommonGround optimization problem had no optimal solution."
     ]
    },
    {
     "name": "stdout",
     "output_type": "stream",
     "text": [
      "\n",
      "The CommonGround optimization problem had no optimal solution.\n",
      "The tCommonGround optimization problem had no optimal solution.\n",
      "The tCommonGround optimization problem had no optimal solution.\n",
      "The CommonGround optimization problem had no optimal solution.\n",
      "The tCommonGround optimization problem had no optimal solution.\n",
      "The CommonGround optimization problem had no optimal solution.\n",
      "The tCommonGround optimization problem had no optimal solution.\n",
      "The CommonGround optimization problem had no optimal solution."
     ]
    },
    {
     "name": "stdout",
     "output_type": "stream",
     "text": [
      "\n",
      "The CommonGround optimization problem had no optimal solution.\n",
      "The tCommonGround optimization problem had no optimal solution.\n",
      "The tCommonGround optimization problem had no optimal solution.\n"
     ]
    },
    {
     "name": "stdout",
     "output_type": "stream",
     "text": [
      "The CommonGround optimization problem had no optimal solution.\n",
      "The tCommonGround optimization problem had no optimal solution.\n",
      "The CommonGround optimization problem had no optimal solution.\n",
      "The CommonGround optimization problem had no optimal solution.\n",
      "The tCommonGround optimization problem had no optimal solution.\n",
      "The tCommonGround optimization problem had no optimal solution.\n",
      "The CommonGround optimization problem had no optimal solution.\n",
      "The tCommonGround optimization problem had no optimal solution.\n",
      "The CommonGround optimization problem had no optimal solution.\n",
      "The tCommonGround optimization problem had no optimal solution.\n",
      "The CommonGround optimization problem had no optimal solution.\n",
      "The CommonGround optimization problem had no optimal solution."
     ]
    },
    {
     "name": "stdout",
     "output_type": "stream",
     "text": [
      "\n",
      "The CommonGround optimization problem had no optimal solution.\n",
      "The CommonGround optimization problem had no optimal solution.\n",
      "The tCommonGround optimization problem had no optimal solution.\n",
      "The tCommonGround optimization problem had no optimal solution.\n",
      "The tCommonGround optimization problem had no optimal solution.\n",
      "The tCommonGround optimization problem had no optimal solution.\n",
      "The CommonGround optimization problem had no optimal solution.\n",
      "The tCommonGround optimization problem had no optimal solution.\n",
      "The CommonGround optimization problem had no optimal solution."
     ]
    },
    {
     "name": "stdout",
     "output_type": "stream",
     "text": [
      "\n",
      "The CommonGround optimization problem had no optimal solution.\n",
      "The CommonGround optimization problem had no optimal solution.\n",
      "The tCommonGround optimization problem had no optimal solution.\n",
      "The tCommonGround optimization problem had no optimal solution.\n",
      "The CommonGround optimization problem had no optimal solution.\n",
      "The tCommonGround optimization problem had no optimal solution.\n",
      "The CommonGround optimization problem had no optimal solution.\n",
      "The tCommonGround optimization problem had no optimal solution.\n",
      "The tCommonGround optimization problem had no optimal solution.\n",
      "The CommonGround optimization problem had no optimal solution.\n",
      "The CommonGround optimization problem had no optimal solution."
     ]
    },
    {
     "name": "stdout",
     "output_type": "stream",
     "text": [
      "\n",
      "The CommonGround optimization problem had no optimal solution.\n",
      "The CommonGround optimization problem had no optimal solution.\n",
      "The tCommonGround optimization problem had no optimal solution.\n",
      "The tCommonGround optimization problem had no optimal solution.\n",
      "The tCommonGround optimization problem had no optimal solution.\n",
      "The tCommonGround optimization problem had no optimal solution.\n",
      "The CommonGround optimization problem had no optimal solution.\n",
      "The CommonGround optimization problem had no optimal solution.\n",
      "The CommonGround optimization problem had no optimal solution."
     ]
    },
    {
     "name": "stdout",
     "output_type": "stream",
     "text": [
      "\n",
      "The tCommonGround optimization problem had no optimal solution.\n",
      "The CommonGround optimization problem had no optimal solution.\n",
      "The tCommonGround optimization problem had no optimal solution.\n",
      "The tCommonGround optimization problem had no optimal solution.\n",
      "The tCommonGround optimization problem had no optimal solution.\n",
      "The CommonGround optimization problem had no optimal solution.\n",
      "The CommonGround optimization problem had no optimal solution."
     ]
    },
    {
     "name": "stdout",
     "output_type": "stream",
     "text": [
      "\n",
      "The CommonGround optimization problem had no optimal solution.\n",
      "The tCommonGround optimization problem had no optimal solution.\n",
      "The tCommonGround optimization problem had no optimal solution.\n",
      "The tCommonGround optimization problem had no optimal solution.\n",
      "The CommonGround optimization problem had no optimal solution.\n",
      "The tCommonGround optimization problem had no optimal solution.\n",
      "The CommonGround optimization problem had no optimal solution."
     ]
    },
    {
     "name": "stdout",
     "output_type": "stream",
     "text": [
      "\n",
      "The tCommonGround optimization problem had no optimal solution.\n",
      "The CommonGround optimization problem had no optimal solution.\n",
      "The CommonGround optimization problem had no optimal solution.\n",
      "The tCommonGround optimization problem had no optimal solution.\n",
      "The CommonGround optimization problem had no optimal solution.\n",
      "The tCommonGround optimization problem had no optimal solution.\n",
      "The tCommonGround optimization problem had no optimal solution.\n",
      "The CommonGround optimization problem had no optimal solution.\n",
      "The tCommonGround optimization problem had no optimal solution.\n",
      "The CommonGround optimization problem had no optimal solution.\n",
      "The tCommonGround optimization problem had no optimal solution.\n",
      "The CommonGround optimization problem had no optimal solution.\n",
      "The CommonGround optimization problem had no optimal solution."
     ]
    },
    {
     "name": "stdout",
     "output_type": "stream",
     "text": [
      "\n",
      "The tCommonGround optimization problem had no optimal solution.\n",
      "The tCommonGround optimization problem had no optimal solution.\n",
      "The CommonGround optimization problem had no optimal solution.\n",
      "The CommonGround optimization problem had no optimal solution.\n",
      "The tCommonGround optimization problem had no optimal solution.\n",
      "The tCommonGround optimization problem had no optimal solution.\n",
      "The CommonGround optimization problem had no optimal solution."
     ]
    },
    {
     "name": "stdout",
     "output_type": "stream",
     "text": [
      "\n",
      "The tCommonGround optimization problem had no optimal solution.\n"
     ]
    },
    {
     "name": "stdout",
     "output_type": "stream",
     "text": [
      "The CommonGround optimization problem had no optimal solution.\n",
      "The CommonGround optimization problem had no optimal solution.\n",
      "The tCommonGround optimization problem had no optimal solution.\n",
      "The tCommonGround optimization problem had no optimal solution.\n",
      "The CommonGround optimization problem had no optimal solution.\n",
      "The CommonGround optimization problem had no optimal solution.\n",
      "The tCommonGround optimization problem had no optimal solution.\n",
      "The tCommonGround optimization problem had no optimal solution.\n",
      "The CommonGround optimization problem had no optimal solution.\n",
      "The CommonGround optimization problem had no optimal solution."
     ]
    },
    {
     "name": "stdout",
     "output_type": "stream",
     "text": [
      "\n",
      "The tCommonGround optimization problem had no optimal solution.\n",
      "The CommonGround optimization problem had no optimal solution.\n",
      "The tCommonGround optimization problem had no optimal solution.\n",
      "The CommonGround optimization problem had no optimal solution.\n",
      "The tCommonGround optimization problem had no optimal solution.\n",
      "The tCommonGround optimization problem had no optimal solution.\n",
      "The CommonGround optimization problem had no optimal solution."
     ]
    },
    {
     "name": "stdout",
     "output_type": "stream",
     "text": [
      "\n",
      "The CommonGround optimization problem had no optimal solution.\n",
      "The tCommonGround optimization problem had no optimal solution.\n",
      "The tCommonGround optimization problem had no optimal solution.\n",
      "The CommonGround optimization problem had no optimal solution.\n",
      "The CommonGround optimization problem had no optimal solution.\n",
      "The tCommonGround optimization problem had no optimal solution.\n",
      "The CommonGround optimization problem had no optimal solution.\n"
     ]
    },
    {
     "name": "stdout",
     "output_type": "stream",
     "text": [
      "The tCommonGround optimization problem had no optimal solution.\n",
      "The tCommonGround optimization problem had no optimal solution.\n",
      "The CommonGround optimization problem had no optimal solution.\n",
      "The tCommonGround optimization problem had no optimal solution.\n",
      "The CommonGround optimization problem had no optimal solution.\n",
      "The CommonGround optimization problem had no optimal solution."
     ]
    },
    {
     "name": "stdout",
     "output_type": "stream",
     "text": [
      "\n",
      "The tCommonGround optimization problem had no optimal solution.\n",
      "The tCommonGround optimization problem had no optimal solution.\n",
      "The CommonGround optimization problem had no optimal solution.\n",
      "The tCommonGround optimization problem had no optimal solution.\n",
      "The CommonGround optimization problem had no optimal solution.\n",
      "The CommonGround optimization problem had no optimal solution.\n",
      "The tCommonGround optimization problem had no optimal solution.\n",
      "The CommonGround optimization problem had no optimal solution.\n",
      "The tCommonGround optimization problem had no optimal solution.\n",
      "The tCommonGround optimization problem had no optimal solution."
     ]
    },
    {
     "name": "stdout",
     "output_type": "stream",
     "text": [
      "\n",
      "The CommonGround optimization problem had no optimal solution.\n",
      "The tCommonGround optimization problem had no optimal solution.\n",
      "The CommonGround optimization problem had no optimal solution.\n",
      "The tCommonGround optimization problem had no optimal solution.\n",
      "The CommonGround optimization problem had no optimal solution.\n",
      "The CommonGround optimization problem had no optimal solution."
     ]
    },
    {
     "name": "stdout",
     "output_type": "stream",
     "text": [
      "\n",
      "The tCommonGround optimization problem had no optimal solution.\n",
      "The tCommonGround optimization problem had no optimal solution.\n",
      "The CommonGround optimization problem had no optimal solution.\n",
      "The tCommonGround optimization problem had no optimal solution.\n",
      "The CommonGround optimization problem had no optimal solution.\n",
      "The tCommonGround optimization problem had no optimal solution.\n",
      "The CommonGround optimization problem had no optimal solution.\n"
     ]
    },
    {
     "name": "stdout",
     "output_type": "stream",
     "text": [
      "The CommonGround optimization problem had no optimal solution.\n",
      "The tCommonGround optimization problem had no optimal solution.\n",
      "The tCommonGround optimization problem had no optimal solution.\n",
      "The CommonGround optimization problem had no optimal solution.\n",
      "The tCommonGround optimization problem had no optimal solution.\n",
      "The CommonGround optimization problem had no optimal solution.\n",
      "The CommonGround optimization problem had no optimal solution."
     ]
    },
    {
     "name": "stdout",
     "output_type": "stream",
     "text": [
      "\n",
      "The CommonGround optimization problem had no optimal solution.\n",
      "The tCommonGround optimization problem had no optimal solution.\n",
      "The tCommonGround optimization problem had no optimal solution.\n",
      "The tCommonGround optimization problem had no optimal solution.\n",
      "The CommonGround optimization problem had no optimal solution.\n",
      "The tCommonGround optimization problem had no optimal solution.\n",
      "The CommonGround optimization problem had no optimal solution."
     ]
    },
    {
     "name": "stdout",
     "output_type": "stream",
     "text": [
      "\n",
      "The CommonGround optimization problem had no optimal solution.\n",
      "The CommonGround optimization problem had no optimal solution.\n",
      "The tCommonGround optimization problem had no optimal solution.\n",
      "The tCommonGround optimization problem had no optimal solution.\n",
      "The tCommonGround optimization problem had no optimal solution.\n"
     ]
    },
    {
     "name": "stdout",
     "output_type": "stream",
     "text": [
      "The CommonGround optimization problem had no optimal solution.\n",
      "The CommonGround optimization problem had no optimal solution.\n",
      "The CommonGround optimization problem had no optimal solution.\n",
      "The tCommonGround optimization problem had no optimal solution.\n",
      "The tCommonGround optimization problem had no optimal solution.\n",
      "The CommonGround optimization problem had no optimal solution.\n",
      "The tCommonGround optimization problem had no optimal solution.\n",
      "The tCommonGround optimization problem had no optimal solution.\n"
     ]
    },
    {
     "name": "stdout",
     "output_type": "stream",
     "text": [
      "The CommonGround optimization problem had no optimal solution.\n",
      "The tCommonGround optimization problem had no optimal solution.\n",
      "The CommonGround optimization problem had no optimal solution.\n",
      "The CommonGround optimization problem had no optimal solution.\n",
      "The tCommonGround optimization problem had no optimal solution.\n",
      "The tCommonGround optimization problem had no optimal solution.\n",
      "The CommonGround optimization problem had no optimal solution.\n",
      "The tCommonGround optimization problem had no optimal solution.\n",
      "The CommonGround optimization problem had no optimal solution.\n",
      "The tCommonGround optimization problem had no optimal solution.\n",
      "The CommonGround optimization problem had no optimal solution.\n",
      "The CommonGround optimization problem had no optimal solution.\n",
      "The tCommonGround optimization problem had no optimal solution.\n",
      "The tCommonGround optimization problem had no optimal solution.\n",
      "The CommonGround optimization problem had no optimal solution."
     ]
    },
    {
     "name": "stdout",
     "output_type": "stream",
     "text": [
      "\n",
      "The CommonGround optimization problem had no optimal solution.\n",
      "The tCommonGround optimization problem had no optimal solution.\n"
     ]
    },
    {
     "name": "stdout",
     "output_type": "stream",
     "text": [
      "The tCommonGround optimization problem had no optimal solution.\n",
      "The CommonGround optimization problem had no optimal solution.\n",
      "The tCommonGround optimization problem had no optimal solution.\n",
      "The CommonGround optimization problem had no optimal solution.\n",
      "The tCommonGround optimization problem had no optimal solution.\n",
      "The CommonGround optimization problem had no optimal solution.\n",
      "The CommonGround optimization problem had no optimal solution.\n",
      "The tCommonGround optimization problem had no optimal solution.\n",
      "The CommonGround optimization problem had no optimal solution.\n",
      "The tCommonGround optimization problem had no optimal solution.\n",
      "The tCommonGround optimization problem had no optimal solution.\n",
      "The CommonGround optimization problem had no optimal solution.\n",
      "The tCommonGround optimization problem had no optimal solution.\n",
      "The CommonGround optimization problem had no optimal solution.\n"
     ]
    },
    {
     "name": "stdout",
     "output_type": "stream",
     "text": [
      "The tCommonGround optimization problem had no optimal solution.\n",
      "The CommonGround optimization problem had no optimal solution.\n",
      "The CommonGround optimization problem had no optimal solution.\n",
      "The tCommonGround optimization problem had no optimal solution.\n",
      "The tCommonGround optimization problem had no optimal solution.\n",
      "The CommonGround optimization problem had no optimal solution.\n",
      "The tCommonGround optimization problem had no optimal solution.\n",
      "The CommonGround optimization problem had no optimal solution.\n"
     ]
    },
    {
     "name": "stdout",
     "output_type": "stream",
     "text": [
      "The tCommonGround optimization problem had no optimal solution.\n",
      "The CommonGround optimization problem had no optimal solution.\n",
      "The CommonGround optimization problem had no optimal solution.\n",
      "The tCommonGround optimization problem had no optimal solution.\n",
      "The CommonGround optimization problem had no optimal solution.\n",
      "The tCommonGround optimization problem had no optimal solution.\n",
      "The tCommonGround optimization problem had no optimal solution.\n",
      "The CommonGround optimization problem had no optimal solution.\n"
     ]
    },
    {
     "name": "stdout",
     "output_type": "stream",
     "text": [
      "The tCommonGround optimization problem had no optimal solution.\n",
      "The CommonGround optimization problem had no optimal solution.\n",
      "The CommonGround optimization problem had no optimal solution.\n",
      "The tCommonGround optimization problem had no optimal solution.\n",
      "The CommonGround optimization problem had no optimal solution.\n",
      "The tCommonGround optimization problem had no optimal solution.\n",
      "The tCommonGround optimization problem had no optimal solution.\n",
      "The CommonGround optimization problem had no optimal solution.\n",
      "The tCommonGround optimization problem had no optimal solution.\n"
     ]
    },
    {
     "name": "stdout",
     "output_type": "stream",
     "text": [
      "The CommonGround optimization problem had no optimal solution.\n",
      "The CommonGround optimization problem had no optimal solution.\n",
      "The tCommonGround optimization problem had no optimal solution.\n",
      "The CommonGround optimization problem had no optimal solution.\n",
      "The tCommonGround optimization problem had no optimal solution.\n",
      "The CommonGround optimization problem had no optimal solution.\n",
      "The tCommonGround optimization problem had no optimal solution.\n"
     ]
    },
    {
     "name": "stdout",
     "output_type": "stream",
     "text": [
      "The tCommonGround optimization problem had no optimal solution.\n",
      "The CommonGround optimization problem had no optimal solution.\n",
      "The CommonGround optimization problem had no optimal solution.\n",
      "The tCommonGround optimization problem had no optimal solution.\n",
      "The tCommonGround optimization problem had no optimal solution.\n",
      "The CommonGround optimization problem had no optimal solution.\n",
      "The CommonGround optimization problem had no optimal solution.\n",
      "The tCommonGround optimization problem had no optimal solution.\n",
      "The tCommonGround optimization problem had no optimal solution.\n"
     ]
    },
    {
     "name": "stdout",
     "output_type": "stream",
     "text": [
      "The CommonGround optimization problem had no optimal solution.\n",
      "The tCommonGround optimization problem had no optimal solution.\n",
      "The CommonGround optimization problem had no optimal solution.\n",
      "The tCommonGround optimization problem had no optimal solution.\n",
      "The CommonGround optimization problem had no optimal solution.\n",
      "The CommonGround optimization problem had no optimal solution.\n",
      "The tCommonGround optimization problem had no optimal solution.\n",
      "The tCommonGround optimization problem had no optimal solution.\n"
     ]
    },
    {
     "name": "stdout",
     "output_type": "stream",
     "text": [
      "The CommonGround optimization problem had no optimal solution.\n",
      "The tCommonGround optimization problem had no optimal solution.\n",
      "The CommonGround optimization problem had no optimal solution.\n",
      "The tCommonGround optimization problem had no optimal solution.\n",
      "The CommonGround optimization problem had no optimal solution.\n",
      "The CommonGround optimization problem had no optimal solution.\n",
      "The tCommonGround optimization problem had no optimal solution.\n",
      "The tCommonGround optimization problem had no optimal solution.\n",
      "The CommonGround optimization problem had no optimal solution.\n",
      "The tCommonGround optimization problem had no optimal solution.\n",
      "The CommonGround optimization problem had no optimal solution.\n",
      "The CommonGround optimization problem had no optimal solution.\n",
      "The CommonGround optimization problem had no optimal solution."
     ]
    },
    {
     "name": "stdout",
     "output_type": "stream",
     "text": [
      "\n",
      "The tCommonGround optimization problem had no optimal solution.\n",
      "The tCommonGround optimization problem had no optimal solution.\n",
      "The tCommonGround optimization problem had no optimal solution.\n",
      "The CommonGround optimization problem had no optimal solution."
     ]
    },
    {
     "name": "stdout",
     "output_type": "stream",
     "text": [
      "\n",
      "The tCommonGround optimization problem had no optimal solution.\n",
      "The CommonGround optimization problem had no optimal solution.\n",
      "The tCommonGround optimization problem had no optimal solution.\n",
      "The CommonGround optimization problem had no optimal solution.\n",
      "The CommonGround optimization problem had no optimal solution.\n",
      "The tCommonGround optimization problem had no optimal solution.\n",
      "The tCommonGround optimization problem had no optimal solution.\n",
      "The CommonGround optimization problem had no optimal solution.\n",
      "The CommonGround optimization problem had no optimal solution."
     ]
    },
    {
     "name": "stdout",
     "output_type": "stream",
     "text": [
      "\n",
      "The tCommonGround optimization problem had no optimal solution.\n",
      "The CommonGround optimization problem had no optimal solution.\n",
      "The tCommonGround optimization problem had no optimal solution.\n",
      "The CommonGround optimization problem had no optimal solution.\n",
      "The tCommonGround optimization problem had no optimal solution.\n",
      "The tCommonGround optimization problem had no optimal solution.\n",
      "The CommonGround optimization problem had no optimal solution."
     ]
    },
    {
     "name": "stdout",
     "output_type": "stream",
     "text": [
      "\n",
      "The CommonGround optimization problem had no optimal solution.\n",
      "The tCommonGround optimization problem had no optimal solution.\n",
      "The CommonGround optimization problem had no optimal solution.\n",
      "The CommonGround optimization problem had no optimal solution.\n",
      "The tCommonGround optimization problem had no optimal solution.\n",
      "The tCommonGround optimization problem had no optimal solution.\n",
      "The tCommonGround optimization problem had no optimal solution.\n",
      "The CommonGround optimization problem had no optimal solution.\n",
      "The CommonGround optimization problem had no optimal solution.\n",
      "The tCommonGround optimization problem had no optimal solution.\n",
      "The tCommonGround optimization problem had no optimal solution.\n",
      "The CommonGround optimization problem had no optimal solution.\n",
      "The tCommonGround optimization problem had no optimal solution.\n",
      "The CommonGround optimization problem had no optimal solution."
     ]
    },
    {
     "name": "stdout",
     "output_type": "stream",
     "text": [
      "\n",
      "The tCommonGround optimization problem had no optimal solution.\n",
      "The CommonGround optimization problem had no optimal solution.\n",
      "The CommonGround optimization problem had no optimal solution.\n",
      "The tCommonGround optimization problem had no optimal solution.\n",
      "The CommonGround optimization problem had no optimal solution.\n",
      "The tCommonGround optimization problem had no optimal solution.\n",
      "The tCommonGround optimization problem had no optimal solution.\n",
      "The CommonGround optimization problem had no optimal solution."
     ]
    },
    {
     "name": "stdout",
     "output_type": "stream",
     "text": [
      "\n",
      "The tCommonGround optimization problem had no optimal solution.\n",
      "The CommonGround optimization problem had no optimal solution.\n",
      "The CommonGround optimization problem had no optimal solution.\n",
      "The tCommonGround optimization problem had no optimal solution.\n",
      "The CommonGround optimization problem had no optimal solution.\n",
      "The tCommonGround optimization problem had no optimal solution.\n",
      "The tCommonGround optimization problem had no optimal solution.\n",
      "The CommonGround optimization problem had no optimal solution."
     ]
    },
    {
     "name": "stdout",
     "output_type": "stream",
     "text": [
      "\n",
      "The tCommonGround optimization problem had no optimal solution.\n",
      "The CommonGround optimization problem had no optimal solution.\n",
      "The CommonGround optimization problem had no optimal solution.\n",
      "The tCommonGround optimization problem had no optimal solution.\n",
      "The CommonGround optimization problem had no optimal solution.\n",
      "The tCommonGround optimization problem had no optimal solution.\n",
      "The tCommonGround optimization problem had no optimal solution.\n",
      "The CommonGround optimization problem had no optimal solution."
     ]
    },
    {
     "name": "stdout",
     "output_type": "stream",
     "text": [
      "\n",
      "The tCommonGround optimization problem had no optimal solution.\n",
      "The CommonGround optimization problem had no optimal solution.\n",
      "The CommonGround optimization problem had no optimal solution.\n",
      "The tCommonGround optimization problem had no optimal solution.\n",
      "The tCommonGround optimization problem had no optimal solution.\n",
      "The CommonGround optimization problem had no optimal solution.\n",
      "The tCommonGround optimization problem had no optimal solution.\n",
      "The CommonGround optimization problem had no optimal solution."
     ]
    },
    {
     "name": "stdout",
     "output_type": "stream",
     "text": [
      "\n",
      "The tCommonGround optimization problem had no optimal solution.\n",
      "The CommonGround optimization problem had no optimal solution.\n",
      "The tCommonGround optimization problem had no optimal solution.\n",
      "The CommonGround optimization problem had no optimal solution.\n",
      "The tCommonGround optimization problem had no optimal solution.\n",
      "The CommonGround optimization problem had no optimal solution.\n",
      "The tCommonGround optimization problem had no optimal solution.\n",
      "The CommonGround optimization problem had no optimal solution."
     ]
    },
    {
     "name": "stdout",
     "output_type": "stream",
     "text": [
      "\n",
      "The tCommonGround optimization problem had no optimal solution.\n",
      "The CommonGround optimization problem had no optimal solution.\n",
      "The CommonGround optimization problem had no optimal solution.\n",
      "The tCommonGround optimization problem had no optimal solution.\n",
      "The CommonGround optimization problem had no optimal solution.\n",
      "The tCommonGround optimization problem had no optimal solution.\n",
      "The tCommonGround optimization problem had no optimal solution.\n",
      "The CommonGround optimization problem had no optimal solution."
     ]
    },
    {
     "name": "stdout",
     "output_type": "stream",
     "text": [
      "\n",
      "The tCommonGround optimization problem had no optimal solution.\n",
      "The CommonGround optimization problem had no optimal solution.\n",
      "The CommonGround optimization problem had no optimal solution.\n",
      "The tCommonGround optimization problem had no optimal solution.\n",
      "The CommonGround optimization problem had no optimal solution.\n",
      "The tCommonGround optimization problem had no optimal solution.\n",
      "The tCommonGround optimization problem had no optimal solution.\n",
      "The CommonGround optimization problem had no optimal solution."
     ]
    },
    {
     "name": "stdout",
     "output_type": "stream",
     "text": [
      "\n",
      "The tCommonGround optimization problem had no optimal solution.\n"
     ]
    },
    {
     "name": "stdout",
     "output_type": "stream",
     "text": [
      "The CommonGround optimization problem had no optimal solution.\n",
      "The CommonGround optimization problem had no optimal solution.\n",
      "The tCommonGround optimization problem had no optimal solution.\n",
      "The CommonGround optimization problem had no optimal solution.\n",
      "The tCommonGround optimization problem had no optimal solution.\n",
      "The tCommonGround optimization problem had no optimal solution.\n",
      "The CommonGround optimization problem had no optimal solution.\n",
      "The tCommonGround optimization problem had no optimal solution.\n",
      "The CommonGround optimization problem had no optimal solution.\n",
      "The tCommonGround optimization problem had no optimal solution.\n",
      "The CommonGround optimization problem had no optimal solution.\n",
      "The tCommonGround optimization problem had no optimal solution.\n",
      "The CommonGround optimization problem had no optimal solution.\n",
      "The tCommonGround optimization problem had no optimal solution.\n",
      "The CommonGround optimization problem had no optimal solution."
     ]
    },
    {
     "name": "stdout",
     "output_type": "stream",
     "text": [
      "\n"
     ]
    },
    {
     "name": "stdout",
     "output_type": "stream",
     "text": [
      "The CommonGround optimization problem had no optimal solution.\n",
      "The tCommonGround optimization problem had no optimal solution.\n",
      "The CommonGround optimization problem had no optimal solution.\n",
      "The tCommonGround optimization problem had no optimal solution.\n",
      "The tCommonGround optimization problem had no optimal solution.\n",
      "The CommonGround optimization problem had no optimal solution.\n",
      "The tCommonGround optimization problem had no optimal solution.\n",
      "The CommonGround optimization problem had no optimal solution.\n",
      "The CommonGround optimization problem had no optimal solution."
     ]
    },
    {
     "name": "stdout",
     "output_type": "stream",
     "text": [
      "\n",
      "The CommonGround optimization problem had no optimal solution.\n",
      "The tCommonGround optimization problem had no optimal solution.\n",
      "The tCommonGround optimization problem had no optimal solution.\n",
      "The tCommonGround optimization problem had no optimal solution.\n",
      "The CommonGround optimization problem had no optimal solution.\n",
      "The tCommonGround optimization problem had no optimal solution.\n",
      "The CommonGround optimization problem had no optimal solution.\n",
      "The CommonGround optimization problem had no optimal solution."
     ]
    },
    {
     "name": "stdout",
     "output_type": "stream",
     "text": [
      "\n",
      "The tCommonGround optimization problem had no optimal solution.\n",
      "The CommonGround optimization problem had no optimal solution.\n",
      "The tCommonGround optimization problem had no optimal solution.\n",
      "The tCommonGround optimization problem had no optimal solution.\n",
      "The CommonGround optimization problem had no optimal solution.\n",
      "The tCommonGround optimization problem had no optimal solution.\n",
      "The CommonGround optimization problem had no optimal solution.\n",
      "The CommonGround optimization problem had no optimal solution."
     ]
    },
    {
     "name": "stdout",
     "output_type": "stream",
     "text": [
      "\n",
      "The tCommonGround optimization problem had no optimal solution.\n",
      "The tCommonGround optimization problem had no optimal solution.\n",
      "The CommonGround optimization problem had no optimal solution.\n",
      "The CommonGround optimization problem had no optimal solution.\n",
      "The tCommonGround optimization problem had no optimal solution.\n",
      "The tCommonGround optimization problem had no optimal solution.\n",
      "The CommonGround optimization problem had no optimal solution.\n",
      "The tCommonGround optimization problem had no optimal solution.\n",
      "The CommonGround optimization problem had no optimal solution."
     ]
    },
    {
     "name": "stdout",
     "output_type": "stream",
     "text": [
      "\n"
     ]
    },
    {
     "name": "stdout",
     "output_type": "stream",
     "text": [
      "The CommonGround optimization problem had no optimal solution.\n",
      "The tCommonGround optimization problem had no optimal solution.\n",
      "The tCommonGround optimization problem had no optimal solution.\n",
      "The CommonGround optimization problem had no optimal solution.\n",
      "The CommonGround optimization problem had no optimal solution.\n",
      "The tCommonGround optimization problem had no optimal solution.\n",
      "The tCommonGround optimization problem had no optimal solution.\n",
      "The CommonGround optimization problem had no optimal solution.\n"
     ]
    },
    {
     "name": "stdout",
     "output_type": "stream",
     "text": [
      "The tCommonGround optimization problem had no optimal solution.\n",
      "The CommonGround optimization problem had no optimal solution.\n",
      "The CommonGround optimization problem had no optimal solution.\n",
      "The tCommonGround optimization problem had no optimal solution.\n",
      "The tCommonGround optimization problem had no optimal solution.\n",
      "The CommonGround optimization problem had no optimal solution.\n",
      "The tCommonGround optimization problem had no optimal solution.\n",
      "The CommonGround optimization problem had no optimal solution.\n",
      "The CommonGround optimization problem had no optimal solution.\n",
      "The CommonGround optimization problem had no optimal solution.\n",
      "The tCommonGround optimization problem had no optimal solution."
     ]
    },
    {
     "name": "stdout",
     "output_type": "stream",
     "text": [
      "\n",
      "The tCommonGround optimization problem had no optimal solution.\n",
      "The tCommonGround optimization problem had no optimal solution.\n",
      "The CommonGround optimization problem had no optimal solution.\n",
      "The tCommonGround optimization problem had no optimal solution.\n",
      "The CommonGround optimization problem had no optimal solution.\n"
     ]
    },
    {
     "name": "stdout",
     "output_type": "stream",
     "text": [
      "The CommonGround optimization problem had no optimal solution.\n",
      "The tCommonGround optimization problem had no optimal solution.\n",
      "The CommonGround optimization problem had no optimal solution.\n",
      "The tCommonGround optimization problem had no optimal solution.\n",
      "The tCommonGround optimization problem had no optimal solution.\n",
      "The CommonGround optimization problem had no optimal solution.\n",
      "The tCommonGround optimization problem had no optimal solution.\n",
      "The CommonGround optimization problem had no optimal solution.\n",
      "The CommonGround optimization problem had no optimal solution.\n"
     ]
    },
    {
     "name": "stdout",
     "output_type": "stream",
     "text": [
      "The CommonGround optimization problem had no optimal solution.\n",
      "The tCommonGround optimization problem had no optimal solution.\n",
      "The tCommonGround optimization problem had no optimal solution.\n",
      "The tCommonGround optimization problem had no optimal solution.\n",
      "The CommonGround optimization problem had no optimal solution.\n",
      "The tCommonGround optimization problem had no optimal solution.\n",
      "The CommonGround optimization problem had no optimal solution.\n",
      "The CommonGround optimization problem had no optimal solution.\n",
      "The CommonGround optimization problem had no optimal solution.\n"
     ]
    },
    {
     "name": "stdout",
     "output_type": "stream",
     "text": [
      "The tCommonGround optimization problem had no optimal solution.\n",
      "The tCommonGround optimization problem had no optimal solution.\n",
      "The tCommonGround optimization problem had no optimal solution.\n",
      "The CommonGround optimization problem had no optimal solution.\n",
      "The tCommonGround optimization problem had no optimal solution.\n",
      "The CommonGround optimization problem had no optimal solution.\n",
      "The CommonGround optimization problem had no optimal solution.\n",
      "The CommonGround optimization problem had no optimal solution."
     ]
    },
    {
     "name": "stdout",
     "output_type": "stream",
     "text": [
      "\n",
      "The CommonGround optimization problem had no optimal solution.\n",
      "The tCommonGround optimization problem had no optimal solution.\n",
      "The tCommonGround optimization problem had no optimal solution.\n",
      "The tCommonGround optimization problem had no optimal solution.\n",
      "The tCommonGround optimization problem had no optimal solution.\n",
      "The CommonGround optimization problem had no optimal solution.\n",
      "The CommonGround optimization problem had no optimal solution.\n",
      "The CommonGround optimization problem had no optimal solution."
     ]
    },
    {
     "name": "stdout",
     "output_type": "stream",
     "text": [
      "\n",
      "The tCommonGround optimization problem had no optimal solution.\n",
      "The tCommonGround optimization problem had no optimal solution.\n",
      "The tCommonGround optimization problem had no optimal solution.\n",
      "The CommonGround optimization problem had no optimal solution.\n",
      "The tCommonGround optimization problem had no optimal solution.\n",
      "The CommonGround optimization problem had no optimal solution."
     ]
    },
    {
     "name": "stdout",
     "output_type": "stream",
     "text": [
      "\n",
      "The CommonGround optimization problem had no optimal solution.\n",
      "The tCommonGround optimization problem had no optimal solution.\n",
      "The CommonGround optimization problem had no optimal solution.\n",
      "The CommonGround optimization problem had no optimal solution.\n",
      "The tCommonGround optimization problem had no optimal solution.\n",
      "The tCommonGround optimization problem had no optimal solution.\n",
      "The tCommonGround optimization problem had no optimal solution.\n",
      "The CommonGround optimization problem had no optimal solution.\n",
      "The CommonGround optimization problem had no optimal solution."
     ]
    },
    {
     "name": "stdout",
     "output_type": "stream",
     "text": [
      "\n",
      "The tCommonGround optimization problem had no optimal solution.\n",
      "The tCommonGround optimization problem had no optimal solution.\n",
      "The CommonGround optimization problem had no optimal solution.\n",
      "The CommonGround optimization problem had no optimal solution.\n",
      "The tCommonGround optimization problem had no optimal solution.\n",
      "The tCommonGround optimization problem had no optimal solution.\n",
      "The CommonGround optimization problem had no optimal solution.\n",
      "The CommonGround optimization problem had no optimal solution."
     ]
    },
    {
     "name": "stdout",
     "output_type": "stream",
     "text": [
      "\n",
      "The tCommonGround optimization problem had no optimal solution.\n",
      "The tCommonGround optimization problem had no optimal solution.\n",
      "The CommonGround optimization problem had no optimal solution.\n",
      "The tCommonGround optimization problem had no optimal solution.\n",
      "The CommonGround optimization problem had no optimal solution.\n",
      "The tCommonGround optimization problem had no optimal solution.\n",
      "The CommonGround optimization problem had no optimal solution.\n",
      "The CommonGround optimization problem had no optimal solution."
     ]
    },
    {
     "name": "stdout",
     "output_type": "stream",
     "text": [
      "\n",
      "The tCommonGround optimization problem had no optimal solution.\n",
      "The tCommonGround optimization problem had no optimal solution.\n",
      "The CommonGround optimization problem had no optimal solution.\n",
      "The CommonGround optimization problem had no optimal solution.\n",
      "The tCommonGround optimization problem had no optimal solution.\n",
      "The tCommonGround optimization problem had no optimal solution.\n",
      "The CommonGround optimization problem had no optimal solution.\n",
      "The tCommonGround optimization problem had no optimal solution.\n",
      "The CommonGround optimization problem had no optimal solution."
     ]
    },
    {
     "name": "stdout",
     "output_type": "stream",
     "text": [
      "\n",
      "The tCommonGround optimization problem had no optimal solution.\n",
      "The CommonGround optimization problem had no optimal solution.\n",
      "The tCommonGround optimization problem had no optimal solution.\n",
      "The CommonGround optimization problem had no optimal solution.\n",
      "The CommonGround optimization problem had no optimal solution.\n",
      "The CommonGround optimization problem had no optimal solution."
     ]
    },
    {
     "name": "stdout",
     "output_type": "stream",
     "text": [
      "\n",
      "The tCommonGround optimization problem had no optimal solution.\n",
      "The tCommonGround optimization problem had no optimal solution.\n",
      "The tCommonGround optimization problem had no optimal solution.\n"
     ]
    },
    {
     "name": "stdout",
     "output_type": "stream",
     "text": [
      "The CommonGround optimization problem had no optimal solution.\n",
      "The CommonGround optimization problem had no optimal solution.\n",
      "The tCommonGround optimization problem had no optimal solution.\n",
      "The CommonGround optimization problem had no optimal solution.\n",
      "The CommonGround optimization problem had no optimal solution.\n",
      "The tCommonGround optimization problem had no optimal solution.\n",
      "The tCommonGround optimization problem had no optimal solution."
     ]
    },
    {
     "name": "stdout",
     "output_type": "stream",
     "text": [
      "\n",
      "The CommonGround optimization problem had no optimal solution.\n",
      "The tCommonGround optimization problem had no optimal solution.\n",
      "The tCommonGround optimization problem had no optimal solution.\n",
      "The CommonGround optimization problem had no optimal solution.\n",
      "The CommonGround optimization problem had no optimal solution."
     ]
    },
    {
     "name": "stdout",
     "output_type": "stream",
     "text": [
      "\n",
      "The tCommonGround optimization problem had no optimal solution.\n",
      "The tCommonGround optimization problem had no optimal solution.\n",
      "The CommonGround optimization problem had no optimal solution.\n",
      "The CommonGround optimization problem had no optimal solution.\n",
      "The tCommonGround optimization problem had no optimal solution.\n",
      "The CommonGround optimization problem had no optimal solution.\n",
      "The tCommonGround optimization problem had no optimal solution.\n",
      "The CommonGround optimization problem had no optimal solution."
     ]
    },
    {
     "name": "stdout",
     "output_type": "stream",
     "text": [
      "\n",
      "The tCommonGround optimization problem had no optimal solution.\n",
      "The tCommonGround optimization problem had no optimal solution.\n",
      "The CommonGround optimization problem had no optimal solution.\n",
      "The tCommonGround optimization problem had no optimal solution.\n",
      "The CommonGround optimization problem had no optimal solution.\n",
      "The CommonGround optimization problem had no optimal solution.\n",
      "The tCommonGround optimization problem had no optimal solution.\n",
      "The tCommonGround optimization problem had no optimal solution.\n",
      "The CommonGround optimization problem had no optimal solution.\n",
      "The CommonGround optimization problem had no optimal solution."
     ]
    },
    {
     "name": "stdout",
     "output_type": "stream",
     "text": [
      "\n",
      "The tCommonGround optimization problem had no optimal solution.\n",
      "The tCommonGround optimization problem had no optimal solution.\n"
     ]
    },
    {
     "name": "stdout",
     "output_type": "stream",
     "text": [
      "The CommonGround optimization problem had no optimal solution.\n",
      "The CommonGround optimization problem had no optimal solution.\n",
      "The CommonGround optimization problem had no optimal solution.\n",
      "The tCommonGround optimization problem had no optimal solution.\n",
      "The tCommonGround optimization problem had no optimal solution.\n",
      "The tCommonGround optimization problem had no optimal solution.\n",
      "The CommonGround optimization problem had no optimal solution.\n",
      "The tCommonGround optimization problem had no optimal solution.\n"
     ]
    },
    {
     "name": "stdout",
     "output_type": "stream",
     "text": [
      "The CommonGround optimization problem had no optimal solution.\n",
      "The CommonGround optimization problem had no optimal solution.\n",
      "The CommonGround optimization problem had no optimal solution.\n",
      "The tCommonGround optimization problem had no optimal solution.\n",
      "The tCommonGround optimization problem had no optimal solution.\n",
      "The tCommonGround optimization problem had no optimal solution.\n",
      "The CommonGround optimization problem had no optimal solution.\n",
      "The tCommonGround optimization problem had no optimal solution.\n",
      "The CommonGround optimization problem had no optimal solution.\n",
      "The CommonGround optimization problem had no optimal solution.\n",
      "The CommonGround optimization problem had no optimal solution."
     ]
    },
    {
     "name": "stdout",
     "output_type": "stream",
     "text": [
      "\n",
      "The tCommonGround optimization problem had no optimal solution.\n",
      "The tCommonGround optimization problem had no optimal solution.\n",
      "The tCommonGround optimization problem had no optimal solution.\n",
      "The CommonGround optimization problem had no optimal solution.\n",
      "The tCommonGround optimization problem had no optimal solution.\n",
      "The CommonGround optimization problem had no optimal solution.\n",
      "The CommonGround optimization problem had no optimal solution.\n",
      "The tCommonGround optimization problem had no optimal solution.\n",
      "The tCommonGround optimization problem had no optimal solution.\n",
      "The CommonGround optimization problem had no optimal solution.\n",
      "The CommonGround optimization problem had no optimal solution."
     ]
    },
    {
     "name": "stdout",
     "output_type": "stream",
     "text": [
      "\n",
      "The tCommonGround optimization problem had no optimal solution.\n",
      "The tCommonGround optimization problem had no optimal solution.\n",
      "The CommonGround optimization problem had no optimal solution.\n",
      "The CommonGround optimization problem had no optimal solution.\n",
      "The tCommonGround optimization problem had no optimal solution.\n",
      "The tCommonGround optimization problem had no optimal solution.\n",
      "The CommonGround optimization problem had no optimal solution."
     ]
    },
    {
     "name": "stdout",
     "output_type": "stream",
     "text": [
      "\n",
      "The CommonGround optimization problem had no optimal solution.\n",
      "The tCommonGround optimization problem had no optimal solution.\n",
      "The tCommonGround optimization problem had no optimal solution.\n",
      "The CommonGround optimization problem had no optimal solution.\n",
      "The CommonGround optimization problem had no optimal solution.\n",
      "The tCommonGround optimization problem had no optimal solution.\n",
      "The tCommonGround optimization problem had no optimal solution.\n",
      "The CommonGround optimization problem had no optimal solution."
     ]
    },
    {
     "name": "stdout",
     "output_type": "stream",
     "text": [
      "\n",
      "The CommonGround optimization problem had no optimal solution.\n",
      "The tCommonGround optimization problem had no optimal solution.\n",
      "The tCommonGround optimization problem had no optimal solution.\n",
      "The CommonGround optimization problem had no optimal solution.\n",
      "The CommonGround optimization problem had no optimal solution.\n",
      "The tCommonGround optimization problem had no optimal solution.\n",
      "The tCommonGround optimization problem had no optimal solution.\n",
      "The CommonGround optimization problem had no optimal solution."
     ]
    },
    {
     "name": "stdout",
     "output_type": "stream",
     "text": [
      "\n",
      "The CommonGround optimization problem had no optimal solution.\n",
      "The tCommonGround optimization problem had no optimal solution.\n",
      "The tCommonGround optimization problem had no optimal solution.\n",
      "The CommonGround optimization problem had no optimal solution.\n",
      "The CommonGround optimization problem had no optimal solution.\n",
      "The tCommonGround optimization problem had no optimal solution.\n",
      "The tCommonGround optimization problem had no optimal solution.\n",
      "The CommonGround optimization problem had no optimal solution."
     ]
    },
    {
     "name": "stdout",
     "output_type": "stream",
     "text": [
      "\n",
      "The CommonGround optimization problem had no optimal solution.\n",
      "The tCommonGround optimization problem had no optimal solution.\n",
      "The tCommonGround optimization problem had no optimal solution.\n",
      "The CommonGround optimization problem had no optimal solution.\n",
      "The CommonGround optimization problem had no optimal solution.\n",
      "The tCommonGround optimization problem had no optimal solution.\n",
      "The tCommonGround optimization problem had no optimal solution.\n",
      "The CommonGround optimization problem had no optimal solution."
     ]
    },
    {
     "name": "stdout",
     "output_type": "stream",
     "text": [
      "\n",
      "The CommonGround optimization problem had no optimal solution.\n",
      "The tCommonGround optimization problem had no optimal solution.\n",
      "The tCommonGround optimization problem had no optimal solution.\n",
      "The CommonGround optimization problem had no optimal solution.\n",
      "The CommonGround optimization problem had no optimal solution.\n",
      "The tCommonGround optimization problem had no optimal solution.\n",
      "The tCommonGround optimization problem had no optimal solution.\n",
      "The CommonGround optimization problem had no optimal solution.\n",
      "The CommonGround optimization problem had no optimal solution."
     ]
    },
    {
     "name": "stdout",
     "output_type": "stream",
     "text": [
      "\n",
      "The tCommonGround optimization problem had no optimal solution.\n",
      "The tCommonGround optimization problem had no optimal solution.\n",
      "The CommonGround optimization problem had no optimal solution.\n",
      "The CommonGround optimization problem had no optimal solution.\n",
      "The tCommonGround optimization problem had no optimal solution.\n",
      "The tCommonGround optimization problem had no optimal solution.\n",
      "The CommonGround optimization problem had no optimal solution."
     ]
    },
    {
     "name": "stdout",
     "output_type": "stream",
     "text": [
      "\n",
      "The CommonGround optimization problem had no optimal solution.\n",
      "The tCommonGround optimization problem had no optimal solution.\n",
      "The tCommonGround optimization problem had no optimal solution.\n",
      "The CommonGround optimization problem had no optimal solution.\n",
      "The tCommonGround optimization problem had no optimal solution.\n",
      "The CommonGround optimization problem had no optimal solution.\n",
      "The CommonGround optimization problem had no optimal solution."
     ]
    },
    {
     "name": "stdout",
     "output_type": "stream",
     "text": [
      "\n",
      "The CommonGround optimization problem had no optimal solution.\n",
      "The tCommonGround optimization problem had no optimal solution.\n",
      "The tCommonGround optimization problem had no optimal solution.\n",
      "The tCommonGround optimization problem had no optimal solution.\n",
      "The CommonGround optimization problem had no optimal solution.\n",
      "The tCommonGround optimization problem had no optimal solution.\n",
      "The CommonGround optimization problem had no optimal solution.\n",
      "The CommonGround optimization problem had no optimal solution."
     ]
    },
    {
     "name": "stdout",
     "output_type": "stream",
     "text": [
      "\n",
      "The CommonGround optimization problem had no optimal solution.\n",
      "The tCommonGround optimization problem had no optimal solution.\n",
      "The tCommonGround optimization problem had no optimal solution.\n",
      "The tCommonGround optimization problem had no optimal solution.\n",
      "The CommonGround optimization problem had no optimal solution.\n",
      "The tCommonGround optimization problem had no optimal solution.\n",
      "The CommonGround optimization problem had no optimal solution.\n",
      "The CommonGround optimization problem had no optimal solution.\n",
      "The CommonGround optimization problem had no optimal solution."
     ]
    },
    {
     "name": "stdout",
     "output_type": "stream",
     "text": [
      "\n",
      "The tCommonGround optimization problem had no optimal solution.\n",
      "The tCommonGround optimization problem had no optimal solution.\n",
      "The tCommonGround optimization problem had no optimal solution.\n",
      "The CommonGround optimization problem had no optimal solution.\n",
      "The tCommonGround optimization problem had no optimal solution.\n",
      "The CommonGround optimization problem had no optimal solution.\n",
      "The CommonGround optimization problem had no optimal solution.\n",
      "The CommonGround optimization problem had no optimal solution.\n",
      "The tCommonGround optimization problem had no optimal solution.\n",
      "The tCommonGround optimization problem had no optimal solution."
     ]
    },
    {
     "name": "stdout",
     "output_type": "stream",
     "text": [
      "\n",
      "The tCommonGround optimization problem had no optimal solution.\n",
      "The CommonGround optimization problem had no optimal solution.\n",
      "The tCommonGround optimization problem had no optimal solution.\n",
      "The CommonGround optimization problem had no optimal solution.\n",
      "The CommonGround optimization problem had no optimal solution.\n",
      "The CommonGround optimization problem had no optimal solution.\n",
      "The tCommonGround optimization problem had no optimal solution.\n",
      "The tCommonGround optimization problem had no optimal solution."
     ]
    },
    {
     "name": "stdout",
     "output_type": "stream",
     "text": [
      "\n",
      "The tCommonGround optimization problem had no optimal solution.\n",
      "The CommonGround optimization problem had no optimal solution.\n",
      "The tCommonGround optimization problem had no optimal solution.\n",
      "The CommonGround optimization problem had no optimal solution.\n",
      "The CommonGround optimization problem had no optimal solution.\n"
     ]
    },
    {
     "name": "stdout",
     "output_type": "stream",
     "text": [
      "The CommonGround optimization problem had no optimal solution.\n",
      "The tCommonGround optimization problem had no optimal solution.\n",
      "The tCommonGround optimization problem had no optimal solution.\n",
      "The tCommonGround optimization problem had no optimal solution.\n",
      "The CommonGround optimization problem had no optimal solution.\n",
      "The tCommonGround optimization problem had no optimal solution.\n",
      "The CommonGround optimization problem had no optimal solution.\n",
      "The CommonGround optimization problem had no optimal solution.\n",
      "The CommonGround optimization problem had no optimal solution."
     ]
    },
    {
     "name": "stdout",
     "output_type": "stream",
     "text": [
      "\n",
      "The tCommonGround optimization problem had no optimal solution.\n",
      "The tCommonGround optimization problem had no optimal solution.\n",
      "The tCommonGround optimization problem had no optimal solution.\n",
      "The CommonGround optimization problem had no optimal solution.\n",
      "The tCommonGround optimization problem had no optimal solution.\n",
      "The CommonGround optimization problem had no optimal solution.\n",
      "The CommonGround optimization problem had no optimal solution.\n",
      "The tCommonGround optimization problem had no optimal solution.\n",
      "The tCommonGround optimization problem had no optimal solution.\n",
      "The CommonGround optimization problem had no optimal solution."
     ]
    },
    {
     "name": "stdout",
     "output_type": "stream",
     "text": [
      "\n",
      "The tCommonGround optimization problem had no optimal solution.\n"
     ]
    },
    {
     "name": "stdout",
     "output_type": "stream",
     "text": [
      "The CommonGround optimization problem had no optimal solution.\n",
      "The tCommonGround optimization problem had no optimal solution.\n",
      "The CommonGround optimization problem had no optimal solution.\n",
      "The tCommonGround optimization problem had no optimal solution.\n",
      "The CommonGround optimization problem had no optimal solution.\n",
      "The CommonGround optimization problem had no optimal solution.\n",
      "The tCommonGround optimization problem had no optimal solution.\n",
      "The tCommonGround optimization problem had no optimal solution.\n",
      "The CommonGround optimization problem had no optimal solution.\n",
      "The CommonGround optimization problem had no optimal solution."
     ]
    },
    {
     "name": "stdout",
     "output_type": "stream",
     "text": [
      "\n",
      "The tCommonGround optimization problem had no optimal solution.\n",
      "The tCommonGround optimization problem had no optimal solution.\n",
      "The CommonGround optimization problem had no optimal solution.\n",
      "The CommonGround optimization problem had no optimal solution.\n",
      "The tCommonGround optimization problem had no optimal solution.\n",
      "The tCommonGround optimization problem had no optimal solution.\n",
      "The CommonGround optimization problem had no optimal solution.\n",
      "The tCommonGround optimization problem had no optimal solution.\n",
      "The CommonGround optimization problem had no optimal solution."
     ]
    },
    {
     "name": "stdout",
     "output_type": "stream",
     "text": [
      "\n",
      "The CommonGround optimization problem had no optimal solution.\n",
      "The tCommonGround optimization problem had no optimal solution."
     ]
    },
    {
     "name": "stdout",
     "output_type": "stream",
     "text": [
      "\n",
      "The tCommonGround optimization problem had no optimal solution.\n",
      "The CommonGround optimization problem had no optimal solution.\n",
      "The tCommonGround optimization problem had no optimal solution.\n",
      "The CommonGround optimization problem had no optimal solution.\n",
      "The CommonGround optimization problem had no optimal solution."
     ]
    },
    {
     "name": "stdout",
     "output_type": "stream",
     "text": [
      "\n",
      "The tCommonGround optimization problem had no optimal solution.\n",
      "The CommonGround optimization problem had no optimal solution.\n",
      "The tCommonGround optimization problem had no optimal solution.\n",
      "The tCommonGround optimization problem had no optimal solution.\n",
      "The CommonGround optimization problem had no optimal solution.\n",
      "The tCommonGround optimization problem had no optimal solution.\n",
      "The CommonGround optimization problem had no optimal solution."
     ]
    },
    {
     "name": "stdout",
     "output_type": "stream",
     "text": [
      "\n",
      "The tCommonGround optimization problem had no optimal solution.\n",
      "The CommonGround optimization problem had no optimal solution.\n",
      "The CommonGround optimization problem had no optimal solution.\n",
      "The tCommonGround optimization problem had no optimal solution.\n",
      "The tCommonGround optimization problem had no optimal solution.\n",
      "The CommonGround optimization problem had no optimal solution.\n",
      "The CommonGround optimization problem had no optimal solution."
     ]
    },
    {
     "name": "stdout",
     "output_type": "stream",
     "text": [
      "\n",
      "The tCommonGround optimization problem had no optimal solution.\n",
      "The CommonGround optimization problem had no optimal solution.\n",
      "The tCommonGround optimization problem had no optimal solution.\n",
      "The tCommonGround optimization problem had no optimal solution.\n",
      "The CommonGround optimization problem had no optimal solution.\n",
      "The CommonGround optimization problem had no optimal solution.\n",
      "The tCommonGround optimization problem had no optimal solution.\n",
      "The tCommonGround optimization problem had no optimal solution.\n",
      "The CommonGround optimization problem had no optimal solution.\n",
      "The CommonGround optimization problem had no optimal solution.\n",
      "The CommonGround optimization problem had no optimal solution."
     ]
    },
    {
     "name": "stdout",
     "output_type": "stream",
     "text": [
      "\n",
      "The tCommonGround optimization problem had no optimal solution.\n",
      "The tCommonGround optimization problem had no optimal solution.\n",
      "The CommonGround optimization problem had no optimal solution.\n",
      "The tCommonGround optimization problem had no optimal solution.\n",
      "The tCommonGround optimization problem had no optimal solution.\n",
      "The CommonGround optimization problem had no optimal solution."
     ]
    },
    {
     "name": "stdout",
     "output_type": "stream",
     "text": [
      "\n",
      "The CommonGround optimization problem had no optimal solution.\n",
      "The tCommonGround optimization problem had no optimal solution.\n",
      "The tCommonGround optimization problem had no optimal solution.\n",
      "The CommonGround optimization problem had no optimal solution.\n",
      "The CommonGround optimization problem had no optimal solution.\n",
      "The tCommonGround optimization problem had no optimal solution.\n",
      "The tCommonGround optimization problem had no optimal solution.\n",
      "The CommonGround optimization problem had no optimal solution."
     ]
    },
    {
     "name": "stdout",
     "output_type": "stream",
     "text": [
      "\n",
      "The CommonGround optimization problem had no optimal solution.\n",
      "The CommonGround optimization problem had no optimal solution.\n",
      "The tCommonGround optimization problem had no optimal solution.\n",
      "The tCommonGround optimization problem had no optimal solution.\n",
      "The CommonGround optimization problem had no optimal solution.\n",
      "The tCommonGround optimization problem had no optimal solution.\n",
      "The tCommonGround optimization problem had no optimal solution.\n",
      "The CommonGround optimization problem had no optimal solution."
     ]
    },
    {
     "name": "stdout",
     "output_type": "stream",
     "text": [
      "\n",
      "The CommonGround optimization problem had no optimal solution.\n",
      "The CommonGround optimization problem had no optimal solution.\n",
      "The tCommonGround optimization problem had no optimal solution.\n",
      "The tCommonGround optimization problem had no optimal solution.\n",
      "The CommonGround optimization problem had no optimal solution.\n",
      "The tCommonGround optimization problem had no optimal solution.\n",
      "The tCommonGround optimization problem had no optimal solution.\n",
      "The CommonGround optimization problem had no optimal solution.\n",
      "The tCommonGround optimization problem had no optimal solution.\n",
      "The CommonGround optimization problem had no optimal solution."
     ]
    },
    {
     "name": "stdout",
     "output_type": "stream",
     "text": [
      "\n",
      "The CommonGround optimization problem had no optimal solution.\n",
      "The tCommonGround optimization problem had no optimal solution.\n",
      "The tCommonGround optimization problem had no optimal solution.\n",
      "The CommonGround optimization problem had no optimal solution.\n",
      "The tCommonGround optimization problem had no optimal solution.\n",
      "The CommonGround optimization problem had no optimal solution.\n",
      "The CommonGround optimization problem had no optimal solution.\n",
      "The CommonGround optimization problem had no optimal solution.\n"
     ]
    },
    {
     "name": "stdout",
     "output_type": "stream",
     "text": [
      "The tCommonGround optimization problem had no optimal solution.\n",
      "The tCommonGround optimization problem had no optimal solution.\n",
      "The tCommonGround optimization problem had no optimal solution.\n",
      "The CommonGround optimization problem had no optimal solution.\n",
      "The tCommonGround optimization problem had no optimal solution.\n",
      "The CommonGround optimization problem had no optimal solution.\n",
      "The CommonGround optimization problem had no optimal solution.\n",
      "The tCommonGround optimization problem had no optimal solution.\n",
      "The tCommonGround optimization problem had no optimal solution.\n",
      "The CommonGround optimization problem had no optimal solution.\n",
      "The tCommonGround optimization problem had no optimal solution.\n",
      "The CommonGround optimization problem had no optimal solution."
     ]
    },
    {
     "name": "stdout",
     "output_type": "stream",
     "text": [
      "\n",
      "The tCommonGround optimization problem had no optimal solution.\n",
      "The CommonGround optimization problem had no optimal solution.\n",
      "The CommonGround optimization problem had no optimal solution.\n",
      "The tCommonGround optimization problem had no optimal solution.\n",
      "The CommonGround optimization problem had no optimal solution.\n",
      "The tCommonGround optimization problem had no optimal solution.\n",
      "The tCommonGround optimization problem had no optimal solution.\n",
      "The CommonGround optimization problem had no optimal solution."
     ]
    },
    {
     "name": "stdout",
     "output_type": "stream",
     "text": [
      "\n",
      "The tCommonGround optimization problem had no optimal solution.\n",
      "The CommonGround optimization problem had no optimal solution.\n",
      "The tCommonGround optimization problem had no optimal solution.\n",
      "The CommonGround optimization problem had no optimal solution.\n",
      "The CommonGround optimization problem had no optimal solution.\n",
      "The tCommonGround optimization problem had no optimal solution.\n",
      "The tCommonGround optimization problem had no optimal solution.\n",
      "The CommonGround optimization problem had no optimal solution."
     ]
    },
    {
     "name": "stdout",
     "output_type": "stream",
     "text": [
      "\n",
      "The tCommonGround optimization problem had no optimal solution.\n",
      "The CommonGround optimization problem had no optimal solution.\n",
      "The tCommonGround optimization problem had no optimal solution.\n",
      "The CommonGround optimization problem had no optimal solution.\n",
      "The tCommonGround optimization problem had no optimal solution.\n",
      "The CommonGround optimization problem had no optimal solution.\n",
      "The tCommonGround optimization problem had no optimal solution.\n",
      "The CommonGround optimization problem had no optimal solution."
     ]
    },
    {
     "name": "stdout",
     "output_type": "stream",
     "text": [
      "\n",
      "The tCommonGround optimization problem had no optimal solution.\n",
      "The CommonGround optimization problem had no optimal solution.\n",
      "The tCommonGround optimization problem had no optimal solution.\n",
      "The CommonGround optimization problem had no optimal solution.\n",
      "The CommonGround optimization problem had no optimal solution.\n",
      "The tCommonGround optimization problem had no optimal solution.\n",
      "The tCommonGround optimization problem had no optimal solution.\n",
      "The CommonGround optimization problem had no optimal solution.\n",
      "The CommonGround optimization problem had no optimal solution."
     ]
    },
    {
     "name": "stdout",
     "output_type": "stream",
     "text": [
      "\n",
      "The CommonGround optimization problem had no optimal solution.\n",
      "The tCommonGround optimization problem had no optimal solution.\n",
      "The tCommonGround optimization problem had no optimal solution.\n",
      "The tCommonGround optimization problem had no optimal solution."
     ]
    },
    {
     "name": "stdout",
     "output_type": "stream",
     "text": [
      "\n",
      "The CommonGround optimization problem had no optimal solution.\n",
      "The tCommonGround optimization problem had no optimal solution.\n",
      "The CommonGround optimization problem had no optimal solution.\n",
      "The tCommonGround optimization problem had no optimal solution.\n",
      "The CommonGround optimization problem had no optimal solution.\n",
      "The CommonGround optimization problem had no optimal solution.\n"
     ]
    },
    {
     "name": "stdout",
     "output_type": "stream",
     "text": [
      "The tCommonGround optimization problem had no optimal solution.\n",
      "The tCommonGround optimization problem had no optimal solution.\n",
      "The CommonGround optimization problem had no optimal solution.\n",
      "The tCommonGround optimization problem had no optimal solution.\n",
      "The CommonGround optimization problem had no optimal solution.\n",
      "The CommonGround optimization problem had no optimal solution.\n",
      "The CommonGround optimization problem had no optimal solution."
     ]
    },
    {
     "name": "stdout",
     "output_type": "stream",
     "text": [
      "\n",
      "The tCommonGround optimization problem had no optimal solution.\n",
      "The tCommonGround optimization problem had no optimal solution.\n",
      "The tCommonGround optimization problem had no optimal solution.\n",
      "The CommonGround optimization problem had no optimal solution.\n",
      "The tCommonGround optimization problem had no optimal solution.\n",
      "The CommonGround optimization problem had no optimal solution.\n",
      "The CommonGround optimization problem had no optimal solution.\n",
      "The CommonGround optimization problem had no optimal solution."
     ]
    },
    {
     "name": "stdout",
     "output_type": "stream",
     "text": [
      "\n",
      "The tCommonGround optimization problem had no optimal solution.\n",
      "The tCommonGround optimization problem had no optimal solution.\n",
      "The tCommonGround optimization problem had no optimal solution.\n",
      "The CommonGround optimization problem had no optimal solution.\n",
      "The tCommonGround optimization problem had no optimal solution.\n",
      "The CommonGround optimization problem had no optimal solution.\n",
      "The CommonGround optimization problem had no optimal solution.\n",
      "The tCommonGround optimization problem had no optimal solution.\n",
      "The CommonGround optimization problem had no optimal solution."
     ]
    },
    {
     "name": "stdout",
     "output_type": "stream",
     "text": [
      "\n",
      "The tCommonGround optimization problem had no optimal solution.\n",
      "The CommonGround optimization problem had no optimal solution.\n",
      "The tCommonGround optimization problem had no optimal solution.\n",
      "The tCommonGround optimization problem had no optimal solution.\n",
      "The CommonGround optimization problem had no optimal solution.\n",
      "The tCommonGround optimization problem had no optimal solution.\n",
      "The CommonGround optimization problem had no optimal solution."
     ]
    },
    {
     "name": "stdout",
     "output_type": "stream",
     "text": [
      "\n",
      "The CommonGround optimization problem had no optimal solution.\n",
      "The tCommonGround optimization problem had no optimal solution.\n"
     ]
    },
    {
     "name": "stdout",
     "output_type": "stream",
     "text": [
      "The CommonGround optimization problem had no optimal solution.\n",
      "The tCommonGround optimization problem had no optimal solution.\n",
      "The tCommonGround optimization problem had no optimal solution.\n",
      "The CommonGround optimization problem had no optimal solution.\n",
      "The tCommonGround optimization problem had no optimal solution.\n",
      "The CommonGround optimization problem had no optimal solution.\n",
      "The CommonGround optimization problem had no optimal solution.\n",
      "The tCommonGround optimization problem had no optimal solution.\n",
      "The tCommonGround optimization problem had no optimal solution.\n",
      "The CommonGround optimization problem had no optimal solution.\n",
      "The tCommonGround optimization problem had no optimal solution.\n",
      "The CommonGround optimization problem had no optimal solution.\n",
      "The tCommonGround optimization problem had no optimal solution.\n",
      "The CommonGround optimization problem had no optimal solution.\n",
      "The CommonGround optimization problem had no optimal solution."
     ]
    },
    {
     "name": "stdout",
     "output_type": "stream",
     "text": [
      "\n",
      "The tCommonGround optimization problem had no optimal solution.\n",
      "The tCommonGround optimization problem had no optimal solution.\n"
     ]
    },
    {
     "name": "stdout",
     "output_type": "stream",
     "text": [
      "The CommonGround optimization problem had no optimal solution.\n",
      "The tCommonGround optimization problem had no optimal solution.\n",
      "The CommonGround optimization problem had no optimal solution.\n",
      "The tCommonGround optimization problem had no optimal solution.\n",
      "The CommonGround optimization problem had no optimal solution.\n",
      "The CommonGround optimization problem had no optimal solution.\n",
      "The tCommonGround optimization problem had no optimal solution.\n",
      "The tCommonGround optimization problem had no optimal solution.\n"
     ]
    },
    {
     "name": "stdout",
     "output_type": "stream",
     "text": [
      "The CommonGround optimization problem had no optimal solution.\n",
      "The CommonGround optimization problem had no optimal solution.\n",
      "The tCommonGround optimization problem had no optimal solution.\n",
      "The tCommonGround optimization problem had no optimal solution.\n",
      "The CommonGround optimization problem had no optimal solution.\n",
      "The tCommonGround optimization problem had no optimal solution.\n",
      "The CommonGround optimization problem had no optimal solution.\n",
      "The tCommonGround optimization problem had no optimal solution."
     ]
    },
    {
     "name": "stdout",
     "output_type": "stream",
     "text": [
      "\n",
      "The CommonGround optimization problem had no optimal solution.\n",
      "The CommonGround optimization problem had no optimal solution.\n",
      "The tCommonGround optimization problem had no optimal solution.\n",
      "The tCommonGround optimization problem had no optimal solution.\n",
      "The CommonGround optimization problem had no optimal solution.\n",
      "The tCommonGround optimization problem had no optimal solution.\n",
      "The CommonGround optimization problem had no optimal solution.\n"
     ]
    },
    {
     "name": "stdout",
     "output_type": "stream",
     "text": [
      "The tCommonGround optimization problem had no optimal solution.\n",
      "The CommonGround optimization problem had no optimal solution.\n",
      "The CommonGround optimization problem had no optimal solution.\n",
      "The tCommonGround optimization problem had no optimal solution.\n",
      "The tCommonGround optimization problem had no optimal solution.\n",
      "The CommonGround optimization problem had no optimal solution.\n"
     ]
    },
    {
     "name": "stdout",
     "output_type": "stream",
     "text": [
      "The CommonGround optimization problem had no optimal solution.\n",
      "The tCommonGround optimization problem had no optimal solution.\n",
      "The tCommonGround optimization problem had no optimal solution.\n",
      "The CommonGround optimization problem had no optimal solution.\n",
      "The CommonGround optimization problem had no optimal solution.\n",
      "The tCommonGround optimization problem had no optimal solution.\n",
      "The tCommonGround optimization problem had no optimal solution.\n",
      "The CommonGround optimization problem had no optimal solution.\n",
      "The CommonGround optimization problem had no optimal solution.\n"
     ]
    },
    {
     "name": "stdout",
     "output_type": "stream",
     "text": [
      "The tCommonGround optimization problem had no optimal solution.\n",
      "The tCommonGround optimization problem had no optimal solution.\n",
      "The CommonGround optimization problem had no optimal solution.\n",
      "The tCommonGround optimization problem had no optimal solution.\n",
      "The CommonGround optimization problem had no optimal solution.\n",
      "The tCommonGround optimization problem had no optimal solution.\n",
      "The CommonGround optimization problem had no optimal solution.\n",
      "The CommonGround optimization problem had no optimal solution.\n",
      "The tCommonGround optimization problem had no optimal solution."
     ]
    },
    {
     "name": "stdout",
     "output_type": "stream",
     "text": [
      "\n",
      "The tCommonGround optimization problem had no optimal solution.\n",
      "The CommonGround optimization problem had no optimal solution.\n",
      "The tCommonGround optimization problem had no optimal solution.\n",
      "The CommonGround optimization problem had no optimal solution.\n",
      "The tCommonGround optimization problem had no optimal solution.\n",
      "The CommonGround optimization problem had no optimal solution.\n",
      "The CommonGround optimization problem had no optimal solution.\n"
     ]
    },
    {
     "name": "stdout",
     "output_type": "stream",
     "text": [
      "The tCommonGround optimization problem had no optimal solution.\n",
      "The tCommonGround optimization problem had no optimal solution.\n",
      "The CommonGround optimization problem had no optimal solution.\n",
      "The tCommonGround optimization problem had no optimal solution.\n",
      "The CommonGround optimization problem had no optimal solution.\n",
      "The tCommonGround optimization problem had no optimal solution.\n",
      "The CommonGround optimization problem had no optimal solution.\n",
      "The CommonGround optimization problem had no optimal solution.\n",
      "The tCommonGround optimization problem had no optimal solution.\n",
      "The tCommonGround optimization problem had no optimal solution.\n",
      "The CommonGround optimization problem had no optimal solution.\n",
      "The tCommonGround optimization problem had no optimal solution.\n",
      "The CommonGround optimization problem had no optimal solution.\n",
      "The tCommonGround optimization problem had no optimal solution.\n",
      "The CommonGround optimization problem had no optimal solution.\n",
      "The tCommonGround optimization problem had no optimal solution.\n",
      "The CommonGround optimization problem had no optimal solution.\n",
      "The CommonGround optimization problem had no optimal solution."
     ]
    },
    {
     "name": "stdout",
     "output_type": "stream",
     "text": [
      "\n"
     ]
    },
    {
     "name": "stdout",
     "output_type": "stream",
     "text": [
      "The tCommonGround optimization problem had no optimal solution.\n",
      "The tCommonGround optimization problem had no optimal solution.\n",
      "The CommonGround optimization problem had no optimal solution.\n",
      "The tCommonGround optimization problem had no optimal solution.\n",
      "The CommonGround optimization problem had no optimal solution.\n",
      "The tCommonGround optimization problem had no optimal solution.\n",
      "The CommonGround optimization problem had no optimal solution.\n",
      "The tCommonGround optimization problem had no optimal solution.\n",
      "The CommonGround optimization problem had no optimal solution."
     ]
    },
    {
     "name": "stdout",
     "output_type": "stream",
     "text": [
      "\n",
      "The tCommonGround optimization problem had no optimal solution.\n",
      "The CommonGround optimization problem had no optimal solution.\n",
      "The tCommonGround optimization problem had no optimal solution.\n",
      "The CommonGround optimization problem had no optimal solution.\n",
      "The tCommonGround optimization problem had no optimal solution.\n",
      "The CommonGround optimization problem had no optimal solution."
     ]
    },
    {
     "name": "stdout",
     "output_type": "stream",
     "text": [
      "\n",
      "The tCommonGround optimization problem had no optimal solution.\n",
      "The CommonGround optimization problem had no optimal solution.\n",
      "The CommonGround optimization problem had no optimal solution.\n",
      "The tCommonGround optimization problem had no optimal solution.\n",
      "The tCommonGround optimization problem had no optimal solution.\n",
      "The CommonGround optimization problem had no optimal solution.\n",
      "The tCommonGround optimization problem had no optimal solution.\n",
      "The CommonGround optimization problem had no optimal solution."
     ]
    },
    {
     "name": "stdout",
     "output_type": "stream",
     "text": [
      "\n",
      "The tCommonGround optimization problem had no optimal solution.\n",
      "The CommonGround optimization problem had no optimal solution.\n",
      "The CommonGround optimization problem had no optimal solution.\n",
      "The tCommonGround optimization problem had no optimal solution.\n",
      "The tCommonGround optimization problem had no optimal solution.\n",
      "The CommonGround optimization problem had no optimal solution.\n",
      "The tCommonGround optimization problem had no optimal solution.\n",
      "The CommonGround optimization problem had no optimal solution."
     ]
    },
    {
     "name": "stdout",
     "output_type": "stream",
     "text": [
      "\n",
      "The tCommonGround optimization problem had no optimal solution.\n",
      "The CommonGround optimization problem had no optimal solution.\n",
      "The CommonGround optimization problem had no optimal solution.\n",
      "The tCommonGround optimization problem had no optimal solution.\n",
      "The tCommonGround optimization problem had no optimal solution.\n",
      "The CommonGround optimization problem had no optimal solution.\n",
      "The CommonGround optimization problem had no optimal solution."
     ]
    },
    {
     "name": "stdout",
     "output_type": "stream",
     "text": [
      "\n",
      "The tCommonGround optimization problem had no optimal solution.\n",
      "The CommonGround optimization problem had no optimal solution.\n",
      "The tCommonGround optimization problem had no optimal solution.\n",
      "The tCommonGround optimization problem had no optimal solution.\n",
      "The CommonGround optimization problem had no optimal solution.\n",
      "The CommonGround optimization problem had no optimal solution.\n",
      "The tCommonGround optimization problem had no optimal solution.\n"
     ]
    },
    {
     "name": "stdout",
     "output_type": "stream",
     "text": [
      "The tCommonGround optimization problem had no optimal solution.\n",
      "The CommonGround optimization problem had no optimal solution.\n",
      "The tCommonGround optimization problem had no optimal solution.\n",
      "The CommonGround optimization problem had no optimal solution.\n",
      "The tCommonGround optimization problem had no optimal solution.\n"
     ]
    },
    {
     "data": {
      "text/plain": [
       "\"results.csv\""
      ]
     },
     "metadata": {},
     "output_type": "display_data"
    }
   ],
   "source": [
    "include(\"display-csv.jl\")"
   ]
  },
  {
   "cell_type": "code",
   "execution_count": 9,
   "metadata": {},
   "outputs": [],
   "source": []
  }
 ],
 "metadata": {
  "kernelspec": {
   "display_name": "Julia 1.9.3",
   "language": "julia",
   "name": "julia-1.9"
  },
  "language_info": {
   "file_extension": ".jl",
   "mimetype": "application/julia",
   "name": "julia",
   "version": "1.9.3"
  }
 },
 "nbformat": 4,
 "nbformat_minor": 2
}
