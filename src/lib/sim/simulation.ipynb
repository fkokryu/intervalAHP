{
 "cells": [
  {
   "cell_type": "code",
   "execution_count": 1,
   "metadata": {},
   "outputs": [],
   "source": [
    "using LaTeXStrings"
   ]
  },
  {
   "cell_type": "code",
   "execution_count": 2,
   "metadata": {},
   "outputs": [
    {
     "data": {
      "text/plain": [
       "matrixLaTeXString (generic function with 1 method)"
      ]
     },
     "metadata": {},
     "output_type": "display_data"
    }
   ],
   "source": [
    "include(\"./sim.jl\")\n",
    "include(\"../display/display-crisp-matrix.jl\")"
   ]
  },
  {
   "cell_type": "code",
   "execution_count": 3,
   "metadata": {},
   "outputs": [
    {
     "name": "stdout",
     "output_type": "stream",
     "text": [
      "Number of threads: 4\n"
     ]
    }
   ],
   "source": [
    "using Base.Threads\n",
    "\n",
    "println(\"Number of threads: \", nthreads())"
   ]
  },
  {
   "cell_type": "code",
   "execution_count": 4,
   "metadata": {},
   "outputs": [
    {
     "data": {
      "text/plain": [
       "4-element Vector{Matrix{Float64}}:\n",
       " [1.0 1.6736678610865787 … 0.9923329311050532 2.198870022195478; 0.5974901133315543 1.0 … 0.5951676062297991 1.2964937079082475; … ; 1.0077263070231972 1.6801989717395536 … 1.0 2.1701400584911323; 0.4547790410101379 0.7713111092636091 … 0.46079975165072334 1.0]\n",
       " [1.0 1.6728627376723475 … 0.9948068057443797 2.2075512796661703; 0.5977776762434309 1.0 … 0.6012934314573388 1.3197811141668694; … ; 1.0052203043099754 1.6630815300548465 … 1.0 2.1842882488491733; 0.45299060964564397 0.7577014015928424 … 0.45781503449778926 1.0]\n",
       " [1.0 1.6719910850400321 … 1.0085971688171917 2.1608989475210496; 0.5980893133626112 1.0 … 0.6008512849166233 1.293332534935061; … ; 0.9914761124827726 1.664305336617137 … 1.0 2.2171137923316233; 0.4627703674654406 0.7731963535968811 … 0.4510368405350778 1.0]\n",
       " [1.0 1.6739786473085967 … 1.003622886226445 2.1866202765712415; 0.5973791849781288 1.0 … 0.6021762914574457 1.3154542138076557; … ; 0.9963901916983313 1.6606432604307664 … 1.0 2.1936047599538453; 0.45732677535034255 0.7601936954578177 … 0.455870637343548 1.0]"
      ]
     },
     "metadata": {},
     "output_type": "display_data"
    }
   ],
   "source": [
    "# 例：5x5のPCMをdesired_count個生成する\n",
    "n = 5\n",
    "perturbation_strength = 0.01\n",
    "desired_count = 4\n",
    "\n",
    "pcms = generate_similar_pcms(n, perturbation_strength, desired_count)"
   ]
  },
  {
   "cell_type": "code",
   "execution_count": 5,
   "metadata": {},
   "outputs": [
    {
     "data": {
      "text/latex": [
       "$A = \\begin{pmatrix} 1.0 & 1.674 & 0.242 & 0.992 & 2.199 \\\\0.597 & 1.0 & 0.145 & 0.595 & 1.296 \\\\4.139 & 6.896 & 1.0 & 4.184 & 9.0 \\\\1.008 & 1.68 & 0.239 & 1.0 & 2.17 \\\\0.455 & 0.771 & 0.111 & 0.461 & 1.0 \\\\ \\end{pmatrix}$"
      ],
      "text/plain": [
       "L\"$A = \\begin{pmatrix} 1.0 & 1.674 & 0.242 & 0.992 & 2.199 \\\\0.597 & 1.0 & 0.145 & 0.595 & 1.296 \\\\4.139 & 6.896 & 1.0 & 4.184 & 9.0 \\\\1.008 & 1.68 & 0.239 & 1.0 & 2.17 \\\\0.455 & 0.771 & 0.111 & 0.461 & 1.0 \\\\ \\end{pmatrix}$\""
      ]
     },
     "metadata": {},
     "output_type": "display_data"
    }
   ],
   "source": [
    "display(L\"A = %$(matrixLaTeXString(pcms[1]))\")"
   ]
  },
  {
   "cell_type": "code",
   "execution_count": 9,
   "metadata": {},
   "outputs": [
    {
     "data": {
      "text/plain": [
       "solvetPartialIncorporationLP2 (generic function with 1 method)"
      ]
     },
     "metadata": {},
     "output_type": "display_data"
    }
   ],
   "source": [
    "include(\"../display/display-interval-vector.jl\")\n",
    "include(\"../center-equal-one/one-perfect.jl\")\n",
    "include(\"../center-equal-one/one-common.jl\")\n",
    "include(\"../center-equal-one/one-partial.jl\")\n",
    "include(\"../ttimes-center/t-perfect-center.jl\")\n",
    "include(\"../ttimes-center/t-common-center.jl\")\n",
    "include(\"../ttimes-center/t-partial-center.jl\")"
   ]
  },
  {
   "cell_type": "code",
   "execution_count": 10,
   "metadata": {},
   "outputs": [
    {
     "name": "stdout",
     "output_type": "stream",
     "text": [
      "The CommonGround optimization problem had no optimal solution.\n"
     ]
    },
    {
     "name": "stdout",
     "output_type": "stream",
     "text": [
      "The tCommonGround optimization problem had no optimal solution.\n"
     ]
    },
    {
     "data": {
      "text/plain": [
       "(wᴸ = [0.13769506311144564, 0.08235394574974593, 0.5757442378872029, 0.13688897686333018, 0.06390391729861289], wᵁ = [0.1386615286142588, 0.0830352821331974, 0.5791580969768654, 0.13851291579516747, 0.06404603557017323], W = Interval{Float64}[Interval{Float64}(0.13769506311144564, 0.1386615286142588), Interval{Float64}(0.08235394574974593, 0.0830352821331974), Interval{Float64}(0.5757442378872029, 0.5791580969768654), Interval{Float64}(0.13688897686333018, 0.13851291579516747), Interval{Float64}(0.06390391729861289, 0.06404603557017323)], ŵᴸ = [0.13844611844114318 0.08303528213324941 … 0.13761805279611322 0.06325856588028075; 0.13799702183793833 0.08292284120723788 … 0.13851291578830008 0.0631066057405166; 0.1376950631114512 0.08235394574974926 … 0.13644199449777167 0.06213233275654557], ŵᵁ = [0.13909736416122703 0.08349430958425604 … 0.1395157956583894 0.06404603557021335; 0.13945884026147098 0.08328690643550836 … 0.13871740828580267 0.06399986633911713; 0.1376950631114512 0.08326005525087977 … 0.1377544519042751 0.06435089966409875], ŵ = Vector{Interval{Float64}}[[Interval{Float64}(0.13844611844114318, 0.13909736416122703), Interval{Float64}(0.08303528213324941, 0.08349430958425604), Interval{Float64}(0.5757442378875637, 0.5757442378875637), Interval{Float64}(0.13761805279611322, 0.1395157956583894), Interval{Float64}(0.06325856588028075, 0.06404603557021335)], [Interval{Float64}(0.13799702183793833, 0.13945884026147098), Interval{Float64}(0.08292284120723788, 0.08328690643550836), Interval{Float64}(0.575998797052054, 0.575998797052054), Interval{Float64}(0.13851291578830008, 0.13871740828580267), Interval{Float64}(0.0631066057405166, 0.06399986633911713)], [Interval{Float64}(0.1376950631114512, 0.1376950631114512), Interval{Float64}(0.08235394574974926, 0.08326005525087977), Interval{Float64}(0.5791580969768888, 0.5791580969768888), Interval{Float64}(0.13644199449777167, 0.1377544519042751), Interval{Float64}(0.06213233275654557, 0.06435089966409875)]], Ŵ = [[0.1386615286142588, 0.0830352821331974, 0.5757442378872031, 0.13851291579516747, 0.06404603557017323], [0.1386615286142588, 0.08292284121134914, 0.5759987970806117, 0.13851291579516747, 0.06390391729861289], [0.13769506311144564, 0.08235394574974593, 0.5791580969768654, 0.13688897686333018, 0.06390391729861289]], optimalValue = 0.006827718179324815, s = [0.9999999999993736, 1.0000000000495795, 0.9999999999999596])"
      ]
     },
     "metadata": {},
     "output_type": "display_data"
    }
   ],
   "source": [
    "PerfectIncorporation = solveonePerfectIncorporationLP([pcms[1], pcms[2], pcms[3]])\n",
    "CommonGround = solveoneCommonGroundLP([pcms[1], pcms[2], pcms[3]])\n",
    "PartialIncorporation = solveonePartialIncorporationLP([pcms[1], pcms[2], pcms[3]])\n",
    "\n",
    "tPerfectIncorporation2 = solvetPerfectIncorporationLP2([pcms[1], pcms[2], pcms[3]])\n",
    "tCommonGround2 = solvetCommonGroundLP2([pcms[1], pcms[2], pcms[3]])\n",
    "tPartialIncorporation2 = solvetPartialIncorporationLP2([pcms[1], pcms[2], pcms[3]])"
   ]
  },
  {
   "cell_type": "code",
   "execution_count": 11,
   "metadata": {},
   "outputs": [
    {
     "data": {
      "text/latex": [
       "$PerfectIncorporation :$"
      ],
      "text/plain": [
       "L\"$PerfectIncorporation :$\""
      ]
     },
     "metadata": {},
     "output_type": "display_data"
    },
    {
     "data": {
      "text/latex": [
       "$W = \\begin{pmatrix} \\left[ 0.138, 0.139 \\right] \\\\ \\left[ 0.082, 0.083 \\right] \\\\ \\left[ 0.576, 0.579 \\right] \\\\ \\left[ 0.136, 0.14 \\right] \\\\ \\left[ 0.062, 0.064 \\right] \\end{pmatrix}$"
      ],
      "text/plain": [
       "L\"$W = \\begin{pmatrix} \\left[ 0.138, 0.139 \\right] \\\\ \\left[ 0.082, 0.083 \\right] \\\\ \\left[ 0.576, 0.579 \\right] \\\\ \\left[ 0.136, 0.14 \\right] \\\\ \\left[ 0.062, 0.064 \\right] \\end{pmatrix}$\""
      ]
     },
     "metadata": {},
     "output_type": "display_data"
    },
    {
     "data": {
      "text/latex": [
       "$d = 0.011955884290025032$"
      ],
      "text/plain": [
       "L\"$d = 0.011955884290025032$\""
      ]
     },
     "metadata": {},
     "output_type": "display_data"
    },
    {
     "data": {
      "text/latex": [
       "$PerfectIncorporation(nonunique) :$"
      ],
      "text/plain": [
       "L\"$PerfectIncorporation(nonunique) :$\""
      ]
     },
     "metadata": {},
     "output_type": "display_data"
    },
    {
     "data": {
      "text/latex": [
       "$W = \\begin{pmatrix} \\left[ 0.138, 0.139 \\right] \\\\ \\left[ 0.082, 0.083 \\right] \\\\ \\left[ 0.575, 0.579 \\right] \\\\ \\left[ 0.136, 0.14 \\right] \\\\ \\left[ 0.062, 0.064 \\right] \\end{pmatrix}$"
      ],
      "text/plain": [
       "L\"$W = \\begin{pmatrix} \\left[ 0.138, 0.139 \\right] \\\\ \\left[ 0.082, 0.083 \\right] \\\\ \\left[ 0.575, 0.579 \\right] \\\\ \\left[ 0.136, 0.14 \\right] \\\\ \\left[ 0.062, 0.064 \\right] \\end{pmatrix}$\""
      ]
     },
     "metadata": {},
     "output_type": "display_data"
    },
    {
     "data": {
      "text/latex": [
       "$d = 0.011955884304263309$"
      ],
      "text/plain": [
       "L\"$d = 0.011955884304263309$\""
      ]
     },
     "metadata": {},
     "output_type": "display_data"
    },
    {
     "data": {
      "text/latex": [
       "$s = [1.0000000000006257, 1.0000000000495795, 0.9999999999999596]$"
      ],
      "text/plain": [
       "L\"$s = [1.0000000000006257, 1.0000000000495795, 0.9999999999999596]$\""
      ]
     },
     "metadata": {},
     "output_type": "display_data"
    }
   ],
   "source": [
    "display(L\"PerfectIncorporation :\")\n",
    "W_PerfectIncorporation = PerfectIncorporation.W\n",
    "display(L\"W = %$(intervalVectorLaTeXString(W_PerfectIncorporation))\")\n",
    "d_PerfectIncorporation = PerfectIncorporation.optimalValue\n",
    "display(L\"d = %$(d_PerfectIncorporation)\")\n",
    "\n",
    "display(L\"PerfectIncorporation(nonunique) :\")\n",
    "W_tPerfectIncorporation2 = tPerfectIncorporation2.W\n",
    "display(L\"W = %$(intervalVectorLaTeXString(W_tPerfectIncorporation2))\")\n",
    "d_tPerfectIncorporation2 = tPerfectIncorporation2.optimalValue\n",
    "display(L\"d = %$(d_tPerfectIncorporation2)\")\n",
    "s_tPerfectIncorporation2 = tPerfectIncorporation2.s\n",
    "display(L\"s = %$(s_tPerfectIncorporation2)\")"
   ]
  },
  {
   "cell_type": "code",
   "execution_count": 12,
   "metadata": {},
   "outputs": [
    {
     "data": {
      "text/latex": [
       "$CommonGround : $"
      ],
      "text/plain": [
       "L\"$CommonGround : $\""
      ]
     },
     "metadata": {},
     "output_type": "display_data"
    },
    {
     "ename": "ErrorException",
     "evalue": "type Nothing has no field W",
     "output_type": "error",
     "traceback": [
      "type Nothing has no field W\n",
      "\n",
      "Stacktrace:\n",
      " [1] getproperty(x::Nothing, f::Symbol)\n",
      "   @ Base ./Base.jl:37\n",
      " [2] top-level scope\n",
      "   @ /workspaces/intervalAHP/src/lib/sim/simulation.ipynb:2"
     ]
    }
   ],
   "source": [
    "display(L\"CommonGround : \")\n",
    "W_CommonGround = CommonGround.W\n",
    "display(L\"W = %$(intervalVectorLaTeXString(W_CommonGround))\")\n",
    "d_CommonGround = CommonGround.optimalValue\n",
    "display(L\"d = %$(d_CommonGround)\")\n",
    "\n",
    "display(L\"CommonGround(nonunique) : \")\n",
    "W_tCommonGround2 = tCommonGround2.W\n",
    "display(L\"W = %$(intervalVectorLaTeXString(W_tCommonGround2))\")\n",
    "d_tCommonGround2 = tCommonGround2.optimalValue\n",
    "display(L\"d = %$(d_tCommonGround2)\")\n",
    "s_tCommonGround2 = tCommonGround2.s\n",
    "display(L\"s = %$(s_tCommonGround2)\")"
   ]
  },
  {
   "cell_type": "code",
   "execution_count": 13,
   "metadata": {},
   "outputs": [
    {
     "data": {
      "text/latex": [
       "$PartialIncorporation :$"
      ],
      "text/plain": [
       "L\"$PartialIncorporation :$\""
      ]
     },
     "metadata": {},
     "output_type": "display_data"
    },
    {
     "data": {
      "text/latex": [
       "$W = \\begin{pmatrix} \\left[ 0.138, 0.139 \\right] \\\\ \\left[ 0.083, 0.083 \\right] \\\\ \\left[ 0.576, 0.579 \\right] \\\\ \\left[ 0.137, 0.139 \\right] \\\\ \\left[ 0.063, 0.063 \\right] \\end{pmatrix}$"
      ],
      "text/plain": [
       "L\"$W = \\begin{pmatrix} \\left[ 0.138, 0.139 \\right] \\\\ \\left[ 0.083, 0.083 \\right] \\\\ \\left[ 0.576, 0.579 \\right] \\\\ \\left[ 0.137, 0.139 \\right] \\\\ \\left[ 0.063, 0.063 \\right] \\end{pmatrix}$\""
      ]
     },
     "metadata": {},
     "output_type": "display_data"
    },
    {
     "data": {
      "text/latex": [
       "$d = 0.006827718178611497$"
      ],
      "text/plain": [
       "L\"$d = 0.006827718178611497$\""
      ]
     },
     "metadata": {},
     "output_type": "display_data"
    },
    {
     "data": {
      "text/latex": [
       "$PartialIncorporation(nonunique) :$"
      ],
      "text/plain": [
       "L\"$PartialIncorporation(nonunique) :$\""
      ]
     },
     "metadata": {},
     "output_type": "display_data"
    },
    {
     "data": {
      "text/latex": [
       "$W = \\begin{pmatrix} \\left[ 0.138, 0.139 \\right] \\\\ \\left[ 0.082, 0.083 \\right] \\\\ \\left[ 0.576, 0.579 \\right] \\\\ \\left[ 0.137, 0.139 \\right] \\\\ \\left[ 0.064, 0.064 \\right] \\end{pmatrix}$"
      ],
      "text/plain": [
       "L\"$W = \\begin{pmatrix} \\left[ 0.138, 0.139 \\right] \\\\ \\left[ 0.082, 0.083 \\right] \\\\ \\left[ 0.576, 0.579 \\right] \\\\ \\left[ 0.137, 0.139 \\right] \\\\ \\left[ 0.064, 0.064 \\right] \\end{pmatrix}$\""
      ]
     },
     "metadata": {},
     "output_type": "display_data"
    },
    {
     "data": {
      "text/latex": [
       "$d = 0.006827718179324815$"
      ],
      "text/plain": [
       "L\"$d = 0.006827718179324815$\""
      ]
     },
     "metadata": {},
     "output_type": "display_data"
    },
    {
     "data": {
      "text/latex": [
       "$s = [0.9999999999993736, 1.0000000000495795, 0.9999999999999596]$"
      ],
      "text/plain": [
       "L\"$s = [0.9999999999993736, 1.0000000000495795, 0.9999999999999596]$\""
      ]
     },
     "metadata": {},
     "output_type": "display_data"
    }
   ],
   "source": [
    "display(L\"PartialIncorporation :\")\n",
    "W_PartialIncorporation = PartialIncorporation.W\n",
    "display(L\"W = %$(intervalVectorLaTeXString(W_PartialIncorporation))\")\n",
    "d_PartialIncorporation = PartialIncorporation.optimalValue\n",
    "display(L\"d = %$(d_PartialIncorporation)\")\n",
    "\n",
    "display(L\"PartialIncorporation(nonunique) :\")\n",
    "W_tPartialIncorporation2 = tPartialIncorporation2.W\n",
    "display(L\"W = %$(intervalVectorLaTeXString(W_tPartialIncorporation2))\")\n",
    "d_tPartialIncorporation2 = tPartialIncorporation2.optimalValue\n",
    "display(L\"d = %$(d_tPartialIncorporation2)\")\n",
    "s_tPartialIncorporation2 = tPartialIncorporation2.s\n",
    "display(L\"s = %$(s_tPartialIncorporation2)\")"
   ]
  }
 ],
 "metadata": {
  "kernelspec": {
   "display_name": "Julia 1.9.3",
   "language": "julia",
   "name": "julia-1.9"
  },
  "language_info": {
   "file_extension": ".jl",
   "mimetype": "application/julia",
   "name": "julia",
   "version": "1.9.3"
  }
 },
 "nbformat": 4,
 "nbformat_minor": 2
}
