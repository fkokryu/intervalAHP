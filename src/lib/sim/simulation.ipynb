{
 "cells": [
  {
   "cell_type": "code",
   "execution_count": 1,
   "metadata": {},
   "outputs": [],
   "source": [
    "using LaTeXStrings"
   ]
  },
  {
   "cell_type": "code",
   "execution_count": 15,
   "metadata": {},
   "outputs": [
    {
     "data": {
      "text/plain": [
       "run_experiments (generic function with 1 method)"
      ]
     },
     "metadata": {},
     "output_type": "display_data"
    }
   ],
   "source": [
    "include(\"./sim.jl\")\n",
    "include(\"../display/display-crisp-matrix.jl\")\n",
    "include(\"../display/display-interval-vector.jl\")\n",
    "include(\"display-csv.jl\")"
   ]
  },
  {
   "cell_type": "code",
   "execution_count": 16,
   "metadata": {},
   "outputs": [
    {
     "name": "stdout",
     "output_type": "stream",
     "text": [
      "Number of threads: 4\n"
     ]
    }
   ],
   "source": [
    "using Base.Threads\n",
    "\n",
    "println(\"Number of threads: \", nthreads())"
   ]
  },
  {
   "cell_type": "markdown",
   "metadata": {},
   "source": [
    "# PCMの生成"
   ]
  },
  {
   "cell_type": "code",
   "execution_count": 21,
   "metadata": {},
   "outputs": [
    {
     "data": {
      "text/plain": [
       "1001-element Vector{Matrix{Float64}}:\n",
       " [1.0 1.0 … 2.0 1.0; 1.0 1.0 … 2.0 4.0; … ; 0.5 0.5 … 1.0 1.0; 1.0 0.25 … 1.0 1.0]\n",
       " [1.0 1.0 … 1.0 1.0; 1.0 1.0 … 2.0 2.0; … ; 1.0 0.5 … 1.0 2.0; 1.0 0.5 … 0.5 1.0]\n",
       " [1.0 1.0 … 1.0 1.0; 1.0 1.0 … 5.0 2.0; … ; 1.0 0.2 … 1.0 1.0; 1.0 0.5 … 1.0 1.0]\n",
       " [1.0 1.0 … 2.0 1.0; 1.0 1.0 … 2.0 2.0; … ; 0.5 0.5 … 1.0 2.0; 1.0 0.5 … 0.5 1.0]\n",
       " [1.0 1.0 … 2.0 1.0; 1.0 1.0 … 4.0 6.0; … ; 0.5 0.25 … 1.0 2.0; 1.0 0.16666666666666666 … 0.5 1.0]\n",
       " [1.0 1.0 … 1.0 1.0; 1.0 1.0 … 2.0 1.0; … ; 1.0 0.5 … 1.0 1.0; 1.0 1.0 … 1.0 1.0]\n",
       " [1.0 1.0 … 3.0 2.0; 1.0 1.0 … 6.0 6.0; … ; 0.3333333333333333 0.16666666666666666 … 1.0 1.0; 0.5 0.16666666666666666 … 1.0 1.0]\n",
       " [1.0 1.0 … 1.0 1.0; 1.0 1.0 … 2.0 5.0; … ; 1.0 0.5 … 1.0 1.0; 1.0 0.2 … 1.0 1.0]\n",
       " [1.0 1.0 … 2.0 1.0; 1.0 1.0 … 2.0 3.0; … ; 0.5 0.5 … 1.0 1.0; 1.0 0.3333333333333333 … 1.0 1.0]\n",
       " [1.0 1.0 … 1.0 2.0; 1.0 1.0 … 2.0 2.0; … ; 1.0 0.5 … 1.0 1.0; 0.5 0.5 … 1.0 1.0]\n",
       " ⋮\n",
       " [1.0 1.0 … 2.0 1.0; 1.0 1.0 … 4.0 3.0; … ; 0.5 0.25 … 1.0 2.0; 1.0 0.3333333333333333 … 0.5 1.0]\n",
       " [1.0 1.0 … 1.0 1.0; 1.0 1.0 … 3.0 2.0; … ; 1.0 0.3333333333333333 … 1.0 1.0; 1.0 0.5 … 1.0 1.0]\n",
       " [1.0 1.0 … 1.0 1.0; 1.0 1.0 … 3.0 6.0; … ; 1.0 0.3333333333333333 … 1.0 1.0; 1.0 0.16666666666666666 … 1.0 1.0]\n",
       " [1.0 1.0 … 1.0 1.0; 1.0 1.0 … 2.0 3.0; … ; 1.0 0.5 … 1.0 1.0; 1.0 0.3333333333333333 … 1.0 1.0]\n",
       " [1.0 1.0 … 1.0 1.0; 1.0 1.0 … 2.0 2.0; … ; 1.0 0.5 … 1.0 1.0; 1.0 0.5 … 1.0 1.0]\n",
       " [1.0 1.0 … 1.0 1.0; 1.0 1.0 … 2.0 2.0; … ; 1.0 0.5 … 1.0 2.0; 1.0 0.5 … 0.5 1.0]\n",
       " [1.0 1.0 … 1.0 1.0; 1.0 1.0 … 3.0 2.0; … ; 1.0 0.3333333333333333 … 1.0 1.0; 1.0 0.5 … 1.0 1.0]\n",
       " [1.0 1.0 … 1.0 1.0; 1.0 1.0 … 5.0 2.0; … ; 1.0 0.2 … 1.0 1.0; 1.0 0.5 … 1.0 1.0]\n",
       " [1.0 1.0 … 1.0 1.0; 1.0 1.0 … 2.0 2.0; … ; 1.0 0.5 … 1.0 1.0; 1.0 0.5 … 1.0 1.0]"
      ]
     },
     "metadata": {},
     "output_type": "display_data"
    }
   ],
   "source": [
    "perturbation_strength = 0.55\n",
    "desired_count = 1000\n",
    "pcms = generate_similar_pcms(5, perturbation_strength, desired_count)"
   ]
  },
  {
   "cell_type": "markdown",
   "metadata": {},
   "source": [
    "# 各手法の数値実験(結果、PCM情報、各手法の重み情報)"
   ]
  },
  {
   "cell_type": "code",
   "execution_count": 22,
   "metadata": {},
   "outputs": [
    {
     "name": "stdout",
     "output_type": "stream",
     "text": [
      "The CommonGround_entani optimization problem had no optimal solution.\n",
      "The CommonGround_entani optimization problem had no optimal solution.\n",
      "The CommonGround_entani optimization problem had no optimal solution.\n",
      "The CommonGround optimization problem had no optimal solution."
     ]
    },
    {
     "name": "stdout",
     "output_type": "stream",
     "text": [
      "\n",
      "The CommonGround optimization problem had no optimal solution.\n",
      "The CommonGround optimization problem had no optimal solution.\n",
      "The CommonGround optimization problem had no optimal solution.\n",
      "The tPerfectIncorporation2 optimization problem had no optimal solution.\n",
      "The tPerfectIncorporation2 optimization problem had no optimal solution.\n",
      "The tPerfectIncorporation2 optimization problem had no optimal solution.\n",
      "The tPerfectIncorporation2 optimization problem had no optimal solution.\n"
     ]
    },
    {
     "name": "stdout",
     "output_type": "stream",
     "text": [
      "The CommonGround_entani optimization problem had no optimal solution.\n",
      "The CommonGround optimization problem had no optimal solution.\n",
      "The CommonGround optimization problem had no optimal solution.\n",
      "The CommonGround optimization problem had no optimal solution.\n",
      "The CommonGround optimization problem had no optimal solution.\n",
      "The tPerfectIncorporation2 optimization problem had no optimal solution.\n",
      "The tPerfectIncorporation2 optimization problem had no optimal solution.\n",
      "The tPerfectIncorporation2 optimization problem had no optimal solution.\n",
      "The CommonGround_entani optimization problem had no optimal solution.\n",
      "The CommonGround_entani optimization problem had no optimal solution.\n",
      "The CommonGround_entani optimization problem had no optimal solution.\n",
      "The CommonGround optimization problem had no optimal solution.\n",
      "The CommonGround optimization problem had no optimal solution.\n",
      "The tPerfectIncorporation2 optimization problem had no optimal solution.\n",
      "The CommonGround optimization problem had no optimal solution.\n",
      "The CommonGround_entani optimization problem had no optimal solution."
     ]
    },
    {
     "name": "stdout",
     "output_type": "stream",
     "text": [
      "\n",
      "The tPerfectIncorporation2 optimization problem had no optimal solution.\n",
      "The tPerfectIncorporation2 optimization problem had no optimal solution.\n",
      "The CommonGround optimization problem had no optimal solution.\n"
     ]
    },
    {
     "name": "stdout",
     "output_type": "stream",
     "text": [
      "The CommonGround_entani optimization problem had no optimal solution.\n",
      "The CommonGround optimization problem had no optimal solution.\n",
      "The tPerfectIncorporation2 optimization problem had no optimal solution.\n",
      "The CommonGround_entani optimization problem had no optimal solution.\n",
      "The CommonGround optimization problem had no optimal solution.\n",
      "The CommonGround_entani optimization problem had no optimal solution.\n",
      "The CommonGround optimization problem had no optimal solution.\n"
     ]
    },
    {
     "name": "stdout",
     "output_type": "stream",
     "text": [
      "The CommonGround optimization problem had no optimal solution.\n",
      "The tPerfectIncorporation2 optimization problem had no optimal solution.\n",
      "The tPerfectIncorporation2 optimization problem had no optimal solution.\n",
      "The tPerfectIncorporation2 optimization problem had no optimal solution.\n",
      "The CommonGround_entani optimization problem had no optimal solution.\n",
      "The CommonGround optimization problem had no optimal solution.\n"
     ]
    },
    {
     "name": "stdout",
     "output_type": "stream",
     "text": [
      "The tPerfectIncorporation2 optimization problem had no optimal solution.\n",
      "The CommonGround_entani optimization problem had no optimal solution.\n",
      "The CommonGround optimization problem had no optimal solution.\n",
      "The tPerfectIncorporation2 optimization problem had no optimal solution.\n",
      "The CommonGround_entani optimization problem had no optimal solution.\n",
      "The CommonGround_entani optimization problem had no optimal solution.\n",
      "The CommonGround optimization problem had no optimal solution.\n",
      "The CommonGround optimization problem had no optimal solution.\n",
      "The tPerfectIncorporation2 optimization problem had no optimal solution.\n",
      "The tPerfectIncorporation2 optimization problem had no optimal solution.\n",
      "The CommonGround_entani optimization problem had no optimal solution."
     ]
    },
    {
     "name": "stdout",
     "output_type": "stream",
     "text": [
      "\n",
      "The CommonGround optimization problem had no optimal solution.\n"
     ]
    },
    {
     "name": "stdout",
     "output_type": "stream",
     "text": [
      "The CommonGround_entani optimization problem had no optimal solution.\n",
      "The tPerfectIncorporation2 optimization problem had no optimal solution.\n",
      "The CommonGround optimization problem had no optimal solution.\n",
      "The CommonGround optimization problem had no optimal solution.\n",
      "The tPerfectIncorporation2 optimization problem had no optimal solution.\n",
      "The CommonGround_entani optimization problem had no optimal solution.\n",
      "The CommonGround optimization problem had no optimal solution.\n",
      "The tPerfectIncorporation2 optimization problem had no optimal solution.\n",
      "The CommonGround_entani optimization problem had no optimal solution.\n",
      "The CommonGround_entani optimization problem had no optimal solution."
     ]
    },
    {
     "name": "stdout",
     "output_type": "stream",
     "text": [
      "\n",
      "The CommonGround optimization problem had no optimal solution.\n",
      "The CommonGround optimization problem had no optimal solution.\n",
      "The CommonGround_entani optimization problem had no optimal solution.\n",
      "The tPerfectIncorporation2 optimization problem had no optimal solution.\n",
      "The tPerfectIncorporation2 optimization problem had no optimal solution."
     ]
    },
    {
     "name": "stdout",
     "output_type": "stream",
     "text": [
      "\n",
      "The CommonGround optimization problem had no optimal solution.\n",
      "The tPerfectIncorporation2 optimization problem had no optimal solution.\n",
      "The CommonGround_entani optimization problem had no optimal solution.\n",
      "The CommonGround optimization problem had no optimal solution.\n",
      "The tPerfectIncorporation2 optimization problem had no optimal solution.\n",
      "The CommonGround_entani optimization problem had no optimal solution.\n",
      "The CommonGround optimization problem had no optimal solution.\n",
      "The CommonGround_entani optimization problem had no optimal solution.\n",
      "The tPerfectIncorporation2 optimization problem had no optimal solution.\n",
      "The CommonGround optimization problem had no optimal solution.\n",
      "The CommonGround_entani optimization problem had no optimal solution."
     ]
    },
    {
     "name": "stdout",
     "output_type": "stream",
     "text": [
      "\n",
      "The tPerfectIncorporation2 optimization problem had no optimal solution.\n",
      "The CommonGround optimization problem had no optimal solution.\n",
      "The tPerfectIncorporation2 optimization problem had no optimal solution.\n"
     ]
    },
    {
     "name": "stdout",
     "output_type": "stream",
     "text": [
      "The CommonGround_entani optimization problem had no optimal solution.\n",
      "The CommonGround optimization problem had no optimal solution.\n",
      "The CommonGround_entani optimization problem had no optimal solution.\n",
      "The tPerfectIncorporation2 optimization problem had no optimal solution.\n",
      "The CommonGround optimization problem had no optimal solution.\n",
      "The tPerfectIncorporation2 optimization problem had no optimal solution.\n",
      "The CommonGround_entani optimization problem had no optimal solution.\n",
      "The CommonGround optimization problem had no optimal solution.\n",
      "The tPerfectIncorporation2 optimization problem had no optimal solution.\n"
     ]
    },
    {
     "name": "stdout",
     "output_type": "stream",
     "text": [
      "The CommonGround_entani optimization problem had no optimal solution.\n",
      "The CommonGround optimization problem had no optimal solution.\n",
      "The CommonGround_entani optimization problem had no optimal solution.\n",
      "The tPerfectIncorporation2 optimization problem had no optimal solution.\n",
      "The CommonGround optimization problem had no optimal solution.\n",
      "The tPerfectIncorporation2 optimization problem had no optimal solution.\n",
      "The CommonGround_entani optimization problem had no optimal solution.\n",
      "The CommonGround optimization problem had no optimal solution.\n",
      "The tPerfectIncorporation2 optimization problem had no optimal solution.\n",
      "The CommonGround_entani optimization problem had no optimal solution.\n",
      "The CommonGround optimization problem had no optimal solution.\n",
      "The tPerfectIncorporation2 optimization problem had no optimal solution.\n"
     ]
    },
    {
     "name": "stdout",
     "output_type": "stream",
     "text": [
      "The CommonGround_entani optimization problem had no optimal solution.\n",
      "The CommonGround_entani optimization problem had no optimal solution.\n",
      "The CommonGround optimization problem had no optimal solution.\n",
      "The CommonGround optimization problem had no optimal solution.\n",
      "The tPerfectIncorporation2 optimization problem had no optimal solution.\n",
      "The tPerfectIncorporation2 optimization problem had no optimal solution.\n",
      "The CommonGround_entani optimization problem had no optimal solution.\n",
      "The CommonGround optimization problem had no optimal solution.\n",
      "The tPerfectIncorporation2 optimization problem had no optimal solution.\n",
      "The CommonGround_entani optimization problem had no optimal solution.\n",
      "The CommonGround optimization problem had no optimal solution.\n",
      "The tPerfectIncorporation2 optimization problem had no optimal solution.\n",
      "The CommonGround_entani optimization problem had no optimal solution.\n",
      "The CommonGround_entani optimization problem had no optimal solution.\n",
      "The CommonGround optimization problem had no optimal solution.\n",
      "The CommonGround optimization problem had no optimal solution.\n",
      "The tPerfectIncorporation2 optimization problem had no optimal solution.\n",
      "The tPerfectIncorporation2 optimization problem had no optimal solution.\n",
      "The CommonGround_entani optimization problem had no optimal solution.\n",
      "The CommonGround optimization problem had no optimal solution.\n",
      "The tPerfectIncorporation2 optimization problem had no optimal solution.\n",
      "The CommonGround_entani optimization problem had no optimal solution."
     ]
    },
    {
     "name": "stdout",
     "output_type": "stream",
     "text": [
      "\n",
      "The CommonGround optimization problem had no optimal solution.\n",
      "The tPerfectIncorporation2 optimization problem had no optimal solution.\n",
      "The CommonGround_entani optimization problem had no optimal solution.\n",
      "The CommonGround_entani optimization problem had no optimal solution.\n",
      "The CommonGround optimization problem had no optimal solution.\n",
      "The tPerfectIncorporation2 optimization problem had no optimal solution.\n",
      "The CommonGround_entani optimization problem had no optimal solution.\n",
      "The CommonGround optimization problem had no optimal solution.\n",
      "The tPerfectIncorporation2 optimization problem had no optimal solution.\n",
      "The CommonGround_entani optimization problem had no optimal solution."
     ]
    },
    {
     "name": "stdout",
     "output_type": "stream",
     "text": [
      "\n"
     ]
    },
    {
     "name": "stdout",
     "output_type": "stream",
     "text": [
      "The CommonGround optimization problem had no optimal solution.\n",
      "The tPerfectIncorporation2 optimization problem had no optimal solution.\n",
      "The CommonGround_entani optimization problem had no optimal solution.\n",
      "The CommonGround optimization problem had no optimal solution.\n",
      "The tPerfectIncorporation2 optimization problem had no optimal solution.\n",
      "The CommonGround_entani optimization problem had no optimal solution.\n",
      "The CommonGround optimization problem had no optimal solution.\n",
      "The tPerfectIncorporation2 optimization problem had no optimal solution.\n",
      "The CommonGround_entani optimization problem had no optimal solution."
     ]
    },
    {
     "name": "stdout",
     "output_type": "stream",
     "text": [
      "\n",
      "The CommonGround optimization problem had no optimal solution.\n",
      "The tPerfectIncorporation2 optimization problem had no optimal solution.\n"
     ]
    },
    {
     "name": "stdout",
     "output_type": "stream",
     "text": [
      "The CommonGround optimization problem had no optimal solution.\n",
      "The tPerfectIncorporation2 optimization problem had no optimal solution.\n",
      "The CommonGround_entani optimization problem had no optimal solution.\n",
      "The CommonGround optimization problem had no optimal solution.\n",
      "The CommonGround_entani optimization problem had no optimal solution.\n",
      "The tPerfectIncorporation2 optimization problem had no optimal solution.\n",
      "The CommonGround optimization problem had no optimal solution.\n",
      "The tPerfectIncorporation2 optimization problem had no optimal solution.\n",
      "The CommonGround_entani optimization problem had no optimal solution.\n",
      "The CommonGround optimization problem had no optimal solution.\n",
      "The tPerfectIncorporation2 optimization problem had no optimal solution.\n",
      "The CommonGround_entani optimization problem had no optimal solution.\n",
      "The CommonGround optimization problem had no optimal solution.\n",
      "The tPerfectIncorporation2 optimization problem had no optimal solution.\n",
      "The CommonGround_entani optimization problem had no optimal solution.\n",
      "The CommonGround optimization problem had no optimal solution.\n",
      "The tPerfectIncorporation2 optimization problem had no optimal solution.\n",
      "The CommonGround_entani optimization problem had no optimal solution."
     ]
    },
    {
     "name": "stdout",
     "output_type": "stream",
     "text": [
      "\n",
      "The CommonGround optimization problem had no optimal solution.\n",
      "The CommonGround_entani optimization problem had no optimal solution.\n",
      "The CommonGround optimization problem had no optimal solution.\n",
      "The tPerfectIncorporation2 optimization problem had no optimal solution."
     ]
    },
    {
     "name": "stdout",
     "output_type": "stream",
     "text": [
      "\n",
      "The tPerfectIncorporation2 optimization problem had no optimal solution.\n",
      "The CommonGround_entani optimization problem had no optimal solution.\n",
      "The CommonGround_entani optimization problem had no optimal solution.\n",
      "The CommonGround optimization problem had no optimal solution.\n",
      "The CommonGround optimization problem had no optimal solution.\n",
      "The tPerfectIncorporation2 optimization problem had no optimal solution.\n",
      "The tPerfectIncorporation2 optimization problem had no optimal solution.\n",
      "The CommonGround_entani optimization problem had no optimal solution."
     ]
    },
    {
     "name": "stdout",
     "output_type": "stream",
     "text": [
      "\n",
      "The CommonGround optimization problem had no optimal solution.\n",
      "The CommonGround_entani optimization problem had no optimal solution.\n",
      "The tPerfectIncorporation2 optimization problem had no optimal solution.\n",
      "The CommonGround optimization problem had no optimal solution.\n",
      "The tPerfectIncorporation2 optimization problem had no optimal solution.\n",
      "The CommonGround_entani optimization problem had no optimal solution.\n",
      "The CommonGround_entani optimization problem had no optimal solution.\n",
      "The CommonGround optimization problem had no optimal solution.\n",
      "The tPerfectIncorporation2 optimization problem had no optimal solution.\n",
      "The CommonGround optimization problem had no optimal solution.\n",
      "The tPerfectIncorporation2 optimization problem had no optimal solution.\n",
      "The CommonGround_entani optimization problem had no optimal solution.\n",
      "The CommonGround optimization problem had no optimal solution.\n",
      "The CommonGround optimization problem had no optimal solution."
     ]
    },
    {
     "name": "stdout",
     "output_type": "stream",
     "text": [
      "\n",
      "The tPerfectIncorporation2 optimization problem had no optimal solution.\n",
      "The CommonGround_entani optimization problem had no optimal solution.\n",
      "The tPerfectIncorporation2 optimization problem had no optimal solution.\n",
      "The CommonGround optimization problem had no optimal solution.\n",
      "The tPerfectIncorporation2 optimization problem had no optimal solution.\n",
      "The CommonGround_entani optimization problem had no optimal solution.\n",
      "The CommonGround optimization problem had no optimal solution.\n",
      "The tPerfectIncorporation2 optimization problem had no optimal solution.\n",
      "The CommonGround_entani optimization problem had no optimal solution."
     ]
    },
    {
     "name": "stdout",
     "output_type": "stream",
     "text": [
      "\n",
      "The CommonGround optimization problem had no optimal solution.\n",
      "The tPerfectIncorporation2 optimization problem had no optimal solution.\n",
      "The CommonGround_entani optimization problem had no optimal solution.\n",
      "The CommonGround optimization problem had no optimal solution.\n",
      "The CommonGround_entani optimization problem had no optimal solution.\n",
      "The CommonGround_entani optimization problem had no optimal solution.\n",
      "The tPerfectIncorporation2 optimization problem had no optimal solution.\n",
      "The CommonGround optimization problem had no optimal solution.\n",
      "The CommonGround optimization problem had no optimal solution."
     ]
    },
    {
     "name": "stdout",
     "output_type": "stream",
     "text": [
      "\n",
      "The CommonGround optimization problem had no optimal solution.\n",
      "The tPerfectIncorporation2 optimization problem had no optimal solution.\n",
      "The tPerfectIncorporation2 optimization problem had no optimal solution.\n",
      "The CommonGround_entani optimization problem had no optimal solution."
     ]
    },
    {
     "name": "stdout",
     "output_type": "stream",
     "text": [
      "\n",
      "The CommonGround_entani optimization problem had no optimal solution.\n",
      "The CommonGround optimization problem had no optimal solution.\n",
      "The CommonGround optimization problem had no optimal solution.\n",
      "The tPerfectIncorporation2 optimization problem had no optimal solution.\n"
     ]
    },
    {
     "name": "stdout",
     "output_type": "stream",
     "text": [
      "The CommonGround_entani optimization problem had no optimal solution.\n",
      "The CommonGround optimization problem had no optimal solution.\n",
      "The tPerfectIncorporation2 optimization problem had no optimal solution.\n",
      "The CommonGround_entani optimization problem had no optimal solution.\n"
     ]
    },
    {
     "name": "stdout",
     "output_type": "stream",
     "text": [
      "The CommonGround optimization problem had no optimal solution.\n",
      "The tPerfectIncorporation2 optimization problem had no optimal solution.\n",
      "The CommonGround_entani optimization problem had no optimal solution.\n",
      "The CommonGround optimization problem had no optimal solution.\n",
      "The CommonGround_entani optimization problem had no optimal solution.\n",
      "The tPerfectIncorporation2 optimization problem had no optimal solution.\n",
      "The CommonGround_entani optimization problem had no optimal solution."
     ]
    },
    {
     "name": "stdout",
     "output_type": "stream",
     "text": [
      "\n",
      "The CommonGround optimization problem had no optimal solution.\n",
      "The CommonGround optimization problem had no optimal solution.\n",
      "The tPerfectIncorporation2 optimization problem had no optimal solution.\n",
      "The CommonGround_entani optimization problem had no optimal solution.\n",
      "The CommonGround optimization problem had no optimal solution.\n",
      "The tPerfectIncorporation2 optimization problem had no optimal solution.\n",
      "The CommonGround_entani optimization problem had no optimal solution.\n",
      "The CommonGround optimization problem had no optimal solution.\n",
      "The tPerfectIncorporation2 optimization problem had no optimal solution.\n",
      "The CommonGround_entani optimization problem had no optimal solution.\n",
      "The CommonGround optimization problem had no optimal solution.\n",
      "The tPerfectIncorporation2 optimization problem had no optimal solution.\n",
      "The CommonGround_entani optimization problem had no optimal solution.\n",
      "The CommonGround optimization problem had no optimal solution.\n",
      "The tPerfectIncorporation2 optimization problem had no optimal solution.\n",
      "The CommonGround_entani optimization problem had no optimal solution.\n",
      "The CommonGround optimization problem had no optimal solution.\n",
      "The CommonGround_entani optimization problem had no optimal solution."
     ]
    },
    {
     "name": "stdout",
     "output_type": "stream",
     "text": [
      "\n",
      "The CommonGround_entani optimization problem had no optimal solution.\n",
      "The tPerfectIncorporation2 optimization problem had no optimal solution.\n",
      "The CommonGround optimization problem had no optimal solution.\n",
      "The CommonGround optimization problem had no optimal solution.\n",
      "The tPerfectIncorporation2 optimization problem had no optimal solution.\n",
      "The tPerfectIncorporation2 optimization problem had no optimal solution.\n",
      "The CommonGround_entani optimization problem had no optimal solution.\n",
      "The CommonGround optimization problem had no optimal solution.\n",
      "The tPerfectIncorporation2 optimization problem had no optimal solution.\n",
      "The CommonGround_entani optimization problem had no optimal solution.\n",
      "The CommonGround optimization problem had no optimal solution.\n",
      "The tPerfectIncorporation2 optimization problem had no optimal solution.\n",
      "The CommonGround_entani optimization problem had no optimal solution.\n",
      "The CommonGround_entani optimization problem had no optimal solution."
     ]
    },
    {
     "name": "stdout",
     "output_type": "stream",
     "text": [
      "\n",
      "The CommonGround optimization problem had no optimal solution.\n",
      "The CommonGround optimization problem had no optimal solution.\n",
      "The tPerfectIncorporation2 optimization problem had no optimal solution.\n",
      "The tPerfectIncorporation2 optimization problem had no optimal solution.\n",
      "The CommonGround_entani optimization problem had no optimal solution.\n",
      "The CommonGround optimization problem had no optimal solution.\n",
      "The CommonGround_entani optimization problem had no optimal solution.\n",
      "The tPerfectIncorporation2 optimization problem had no optimal solution.\n",
      "The CommonGround optimization problem had no optimal solution.\n",
      "The tPerfectIncorporation2 optimization problem had no optimal solution.\n",
      "The CommonGround_entani optimization problem had no optimal solution.\n",
      "The CommonGround_entani optimization problem had no optimal solution."
     ]
    },
    {
     "name": "stdout",
     "output_type": "stream",
     "text": [
      "\n"
     ]
    },
    {
     "name": "stdout",
     "output_type": "stream",
     "text": [
      "The CommonGround optimization problem had no optimal solution.\n",
      "The tPerfectIncorporation2 optimization problem had no optimal solution.\n",
      "The CommonGround optimization problem had no optimal solution.\n",
      "The tPerfectIncorporation2 optimization problem had no optimal solution.\n",
      "The CommonGround_entani optimization problem had no optimal solution.\n",
      "The CommonGround_entani optimization problem had no optimal solution.\n",
      "The CommonGround optimization problem had no optimal solution.\n",
      "The CommonGround optimization problem had no optimal solution.\n",
      "The tPerfectIncorporation2 optimization problem had no optimal solution.\n",
      "The tPerfectIncorporation2 optimization problem had no optimal solution.\n",
      "The CommonGround_entani optimization problem had no optimal solution.\n",
      "The CommonGround_entani optimization problem had no optimal solution."
     ]
    },
    {
     "name": "stdout",
     "output_type": "stream",
     "text": [
      "\n",
      "The CommonGround optimization problem had no optimal solution.\n",
      "The CommonGround optimization problem had no optimal solution.\n",
      "The tPerfectIncorporation2 optimization problem had no optimal solution.\n",
      "The tPerfectIncorporation2 optimization problem had no optimal solution.\n",
      "The CommonGround_entani optimization problem had no optimal solution.\n",
      "The CommonGround_entani optimization problem had no optimal solution.\n",
      "The CommonGround optimization problem had no optimal solution.\n",
      "The CommonGround optimization problem had no optimal solution.\n",
      "The tPerfectIncorporation2 optimization problem had no optimal solution.\n",
      "The tPerfectIncorporation2 optimization problem had no optimal solution.\n",
      "The CommonGround_entani optimization problem had no optimal solution."
     ]
    },
    {
     "name": "stdout",
     "output_type": "stream",
     "text": [
      "\n",
      "The CommonGround optimization problem had no optimal solution.\n",
      "The tPerfectIncorporation2 optimization problem had no optimal solution.\n",
      "The CommonGround_entani optimization problem had no optimal solution.\n",
      "The CommonGround_entani optimization problem had no optimal solution.\n",
      "The CommonGround_entani optimization problem had no optimal solution.\n",
      "The CommonGround optimization problem had no optimal solution.\n",
      "The CommonGround optimization problem had no optimal solution.\n",
      "The CommonGround optimization problem had no optimal solution.\n",
      "The tPerfectIncorporation2 optimization problem had no optimal solution.\n",
      "The tPerfectIncorporation2 optimization problem had no optimal solution.\n",
      "The tPerfectIncorporation2 optimization problem had no optimal solution.\n",
      "The CommonGround_entani optimization problem had no optimal solution."
     ]
    },
    {
     "name": "stdout",
     "output_type": "stream",
     "text": [
      "\n",
      "The CommonGround optimization problem had no optimal solution.\n",
      "The tPerfectIncorporation2 optimization problem had no optimal solution.\n",
      "The CommonGround_entani optimization problem had no optimal solution.\n",
      "The CommonGround_entani optimization problem had no optimal solution.\n",
      "The CommonGround_entani optimization problem had no optimal solution.\n",
      "The CommonGround optimization problem had no optimal solution.\n",
      "The CommonGround optimization problem had no optimal solution.\n",
      "The CommonGround optimization problem had no optimal solution.\n",
      "The tPerfectIncorporation2 optimization problem had no optimal solution.\n",
      "The tPerfectIncorporation2 optimization problem had no optimal solution.\n",
      "The tPerfectIncorporation2 optimization problem had no optimal solution.\n",
      "The CommonGround_entani optimization problem had no optimal solution."
     ]
    },
    {
     "name": "stdout",
     "output_type": "stream",
     "text": [
      "\n",
      "The CommonGround optimization problem had no optimal solution.\n",
      "The tPerfectIncorporation2 optimization problem had no optimal solution.\n",
      "The CommonGround_entani optimization problem had no optimal solution.\n",
      "The CommonGround_entani optimization problem had no optimal solution.\n",
      "The CommonGround optimization problem had no optimal solution.\n",
      "The CommonGround optimization problem had no optimal solution.\n",
      "The CommonGround_entani optimization problem had no optimal solution.\n",
      "The tPerfectIncorporation2 optimization problem had no optimal solution.\n",
      "The tPerfectIncorporation2 optimization problem had no optimal solution.\n",
      "The CommonGround optimization problem had no optimal solution.\n",
      "The CommonGround_entani optimization problem had no optimal solution."
     ]
    },
    {
     "name": "stdout",
     "output_type": "stream",
     "text": [
      "\n",
      "The CommonGround optimization problem had no optimal solution.\n",
      "The tPerfectIncorporation2 optimization problem had no optimal solution.\n",
      "The CommonGround_entani optimization problem had no optimal solution.\n",
      "The CommonGround_entani optimization problem had no optimal solution.\n",
      "The CommonGround optimization problem had no optimal solution.\n",
      "The CommonGround optimization problem had no optimal solution.\n",
      "The tPerfectIncorporation2 optimization problem had no optimal solution.\n",
      "The tPerfectIncorporation2 optimization problem had no optimal solution.\n",
      "The CommonGround optimization problem had no optimal solution.\n",
      "The CommonGround_entani optimization problem had no optimal solution."
     ]
    },
    {
     "name": "stdout",
     "output_type": "stream",
     "text": [
      "\n",
      "The CommonGround optimization problem had no optimal solution.\n",
      "The CommonGround_entani optimization problem had no optimal solution.\n",
      "The CommonGround_entani optimization problem had no optimal solution.\n",
      "The tPerfectIncorporation2 optimization problem had no optimal solution.\n",
      "The CommonGround optimization problem had no optimal solution.\n",
      "The CommonGround optimization problem had no optimal solution.\n",
      "The tPerfectIncorporation2 optimization problem had no optimal solution.\n",
      "The CommonGround_entani optimization problem had no optimal solution.\n",
      "The CommonGround optimization problem had no optimal solution.\n",
      "The tPerfectIncorporation2 optimization problem had no optimal solution.\n",
      "The CommonGround_entani optimization problem had no optimal solution."
     ]
    },
    {
     "name": "stdout",
     "output_type": "stream",
     "text": [
      "\n",
      "The CommonGround optimization problem had no optimal solution.\n",
      "The CommonGround_entani optimization problem had no optimal solution.\n",
      "The tPerfectIncorporation2 optimization problem had no optimal solution.\n"
     ]
    },
    {
     "name": "stdout",
     "output_type": "stream",
     "text": [
      "The CommonGround optimization problem had no optimal solution.\n",
      "The CommonGround optimization problem had no optimal solution.\n",
      "The tPerfectIncorporation2 optimization problem had no optimal solution.\n",
      "The CommonGround_entani optimization problem had no optimal solution.\n",
      "The CommonGround optimization problem had no optimal solution.\n",
      "The tPerfectIncorporation2 optimization problem had no optimal solution.\n",
      "The CommonGround_entani optimization problem had no optimal solution.\n",
      "The CommonGround_entani optimization problem had no optimal solution.\n",
      "The CommonGround optimization problem had no optimal solution.\n",
      "The CommonGround_entani optimization problem had no optimal solution.\n",
      "The tPerfectIncorporation2 optimization problem had no optimal solution.\n",
      "The CommonGround optimization problem had no optimal solution.\n",
      "The CommonGround optimization problem had no optimal solution.\n",
      "The tPerfectIncorporation2 optimization problem had no optimal solution.\n",
      "The tPerfectIncorporation2 optimization problem had no optimal solution.\n",
      "The CommonGround_entani optimization problem had no optimal solution.\n",
      "The CommonGround optimization problem had no optimal solution.\n",
      "The tPerfectIncorporation2 optimization problem had no optimal solution.\n",
      "The CommonGround_entani optimization problem had no optimal solution."
     ]
    },
    {
     "name": "stdout",
     "output_type": "stream",
     "text": [
      "\n",
      "The CommonGround optimization problem had no optimal solution.\n",
      "The tPerfectIncorporation2 optimization problem had no optimal solution.\n"
     ]
    },
    {
     "name": "stdout",
     "output_type": "stream",
     "text": [
      "The CommonGround_entani optimization problem had no optimal solution.\n",
      "The CommonGround optimization problem had no optimal solution.\n",
      "The CommonGround_entani optimization problem had no optimal solution.\n",
      "The tPerfectIncorporation2 optimization problem had no optimal solution.\n",
      "The CommonGround optimization problem had no optimal solution.\n",
      "The tPerfectIncorporation2 optimization problem had no optimal solution.\n",
      "The CommonGround_entani optimization problem had no optimal solution.\n",
      "The CommonGround optimization problem had no optimal solution.\n",
      "The tPerfectIncorporation2 optimization problem had no optimal solution.\n",
      "The CommonGround_entani optimization problem had no optimal solution.\n",
      "The CommonGround optimization problem had no optimal solution.\n",
      "The tPerfectIncorporation2 optimization problem had no optimal solution.\n",
      "The CommonGround_entani optimization problem had no optimal solution."
     ]
    },
    {
     "name": "stdout",
     "output_type": "stream",
     "text": [
      "\n"
     ]
    },
    {
     "name": "stdout",
     "output_type": "stream",
     "text": [
      "The CommonGround optimization problem had no optimal solution.\n",
      "The tPerfectIncorporation2 optimization problem had no optimal solution.\n",
      "The CommonGround_entani optimization problem had no optimal solution.\n",
      "The CommonGround optimization problem had no optimal solution.\n",
      "The tPerfectIncorporation2 optimization problem had no optimal solution.\n",
      "The CommonGround_entani optimization problem had no optimal solution.\n",
      "The CommonGround optimization problem had no optimal solution.\n",
      "The tPerfectIncorporation2 optimization problem had no optimal solution.\n",
      "The CommonGround_entani optimization problem had no optimal solution.\n",
      "The CommonGround_entani optimization problem had no optimal solution.\n",
      "The CommonGround optimization problem had no optimal solution.\n",
      "The CommonGround optimization problem had no optimal solution.\n",
      "The CommonGround_entani optimization problem had no optimal solution.\n",
      "The tPerfectIncorporation2 optimization problem had no optimal solution.\n",
      "The CommonGround optimization problem had no optimal solution.\n",
      "The tPerfectIncorporation2 optimization problem had no optimal solution.\n",
      "The CommonGround_entani optimization problem had no optimal solution.\n",
      "The CommonGround optimization problem had no optimal solution.\n",
      "The tPerfectIncorporation2 optimization problem had no optimal solution.\n",
      "The CommonGround_entani optimization problem had no optimal solution."
     ]
    },
    {
     "name": "stdout",
     "output_type": "stream",
     "text": [
      "\n"
     ]
    },
    {
     "name": "stdout",
     "output_type": "stream",
     "text": [
      "The CommonGround optimization problem had no optimal solution.\n",
      "The tPerfectIncorporation2 optimization problem had no optimal solution.\n",
      "The CommonGround_entani optimization problem had no optimal solution.\n",
      "The CommonGround optimization problem had no optimal solution.\n",
      "The CommonGround_entani optimization problem had no optimal solution.\n",
      "The tPerfectIncorporation2 optimization problem had no optimal solution.\n",
      "The CommonGround optimization problem had no optimal solution.\n",
      "The tPerfectIncorporation2 optimization problem had no optimal solution.\n",
      "The CommonGround_entani optimization problem had no optimal solution.\n",
      "The CommonGround optimization problem had no optimal solution.\n",
      "The tPerfectIncorporation2 optimization problem had no optimal solution.\n",
      "The CommonGround_entani optimization problem had no optimal solution."
     ]
    },
    {
     "name": "stdout",
     "output_type": "stream",
     "text": [
      "\n",
      "The CommonGround optimization problem had no optimal solution.\n",
      "The CommonGround_entani optimization problem had no optimal solution.\n",
      "The tPerfectIncorporation2 optimization problem had no optimal solution.\n",
      "The CommonGround optimization problem had no optimal solution.\n",
      "The CommonGround_entani optimization problem had no optimal solution.\n",
      "The CommonGround optimization problem had no optimal solution.\n",
      "The tPerfectIncorporation2 optimization problem had no optimal solution.\n",
      "The tPerfectIncorporation2 optimization problem had no optimal solution.\n",
      "The CommonGround_entani optimization problem had no optimal solution.\n",
      "The CommonGround optimization problem had no optimal solution.\n",
      "The CommonGround_entani optimization problem had no optimal solution."
     ]
    },
    {
     "name": "stdout",
     "output_type": "stream",
     "text": [
      "\n",
      "The tPerfectIncorporation2 optimization problem had no optimal solution.\n",
      "The CommonGround optimization problem had no optimal solution."
     ]
    },
    {
     "name": "stdout",
     "output_type": "stream",
     "text": [
      "\n",
      "The tPerfectIncorporation2 optimization problem had no optimal solution.\n",
      "The CommonGround_entani optimization problem had no optimal solution.\n",
      "The CommonGround_entani optimization problem had no optimal solution.\n",
      "The CommonGround optimization problem had no optimal solution.\n",
      "The CommonGround optimization problem had no optimal solution.\n",
      "The tPerfectIncorporation2 optimization problem had no optimal solution.\n",
      "The tPerfectIncorporation2 optimization problem had no optimal solution.\n",
      "The CommonGround_entani optimization problem had no optimal solution.\n",
      "The CommonGround optimization problem had no optimal solution.\n",
      "The tPerfectIncorporation2 optimization problem had no optimal solution.\n",
      "The CommonGround_entani optimization problem had no optimal solution."
     ]
    },
    {
     "name": "stdout",
     "output_type": "stream",
     "text": [
      "\n",
      "The CommonGround optimization problem had no optimal solution.\n",
      "The tPerfectIncorporation2 optimization problem had no optimal solution.\n",
      "The CommonGround_entani optimization problem had no optimal solution.\n",
      "The CommonGround_entani optimization problem had no optimal solution.\n",
      "The CommonGround optimization problem had no optimal solution.\n",
      "The CommonGround optimization problem had no optimal solution.\n",
      "The tPerfectIncorporation2 optimization problem had no optimal solution.\n",
      "The tPerfectIncorporation2 optimization problem had no optimal solution.\n",
      "The CommonGround_entani optimization problem had no optimal solution.\n",
      "The CommonGround optimization problem had no optimal solution.\n",
      "The tPerfectIncorporation2 optimization problem had no optimal solution.\n",
      "The CommonGround_entani optimization problem had no optimal solution."
     ]
    },
    {
     "name": "stdout",
     "output_type": "stream",
     "text": [
      "\n",
      "The CommonGround optimization problem had no optimal solution.\n",
      "The CommonGround optimization problem had no optimal solution.\n",
      "The tPerfectIncorporation2 optimization problem had no optimal solution.\n",
      "The tPerfectIncorporation2 optimization problem had no optimal solution.\n",
      "The CommonGround optimization problem had no optimal solution.\n",
      "The CommonGround_entani optimization problem had no optimal solution.\n",
      "The CommonGround optimization problem had no optimal solution.\n",
      "The tPerfectIncorporation2 optimization problem had no optimal solution.\n",
      "The CommonGround_entani optimization problem had no optimal solution."
     ]
    },
    {
     "name": "stdout",
     "output_type": "stream",
     "text": [
      "\n",
      "The CommonGround optimization problem had no optimal solution.\n",
      "The CommonGround_entani optimization problem had no optimal solution.\n",
      "The CommonGround optimization problem had no optimal solution.\n",
      "The tPerfectIncorporation2 optimization problem had no optimal solution.\n"
     ]
    },
    {
     "name": "stdout",
     "output_type": "stream",
     "text": [
      "The CommonGround_entani optimization problem had no optimal solution.\n",
      "The CommonGround optimization problem had no optimal solution.\n",
      "The tPerfectIncorporation2 optimization problem had no optimal solution.\n",
      "The tPerfectIncorporation2 optimization problem had no optimal solution.\n",
      "The CommonGround_entani optimization problem had no optimal solution.\n",
      "The CommonGround optimization problem had no optimal solution.\n",
      "The tPerfectIncorporation2 optimization problem had no optimal solution.\n",
      "The CommonGround_entani optimization problem had no optimal solution.\n",
      "The CommonGround optimization problem had no optimal solution.\n",
      "The CommonGround_entani optimization problem had no optimal solution.\n",
      "The CommonGround_entani optimization problem had no optimal solution.\n",
      "The tPerfectIncorporation2 optimization problem had no optimal solution.\n"
     ]
    },
    {
     "name": "stdout",
     "output_type": "stream",
     "text": [
      "The CommonGround optimization problem had no optimal solution.\n",
      "The CommonGround optimization problem had no optimal solution.\n",
      "The tPerfectIncorporation2 optimization problem had no optimal solution.\n",
      "The tPerfectIncorporation2 optimization problem had no optimal solution.\n",
      "The CommonGround_entani optimization problem had no optimal solution.\n",
      "The CommonGround optimization problem had no optimal solution.\n",
      "The tPerfectIncorporation2 optimization problem had no optimal solution.\n",
      "The CommonGround_entani optimization problem had no optimal solution.\n",
      "The CommonGround optimization problem had no optimal solution.\n",
      "The CommonGround_entani optimization problem had no optimal solution.\n",
      "The tPerfectIncorporation2 optimization problem had no optimal solution.\n",
      "The CommonGround_entani optimization problem had no optimal solution.\n",
      "The CommonGround optimization problem had no optimal solution.\n",
      "The CommonGround optimization problem had no optimal solution.\n",
      "The tPerfectIncorporation2 optimization problem had no optimal solution.\n",
      "The tPerfectIncorporation2 optimization problem had no optimal solution.\n",
      "The CommonGround_entani optimization problem had no optimal solution.\n",
      "The CommonGround optimization problem had no optimal solution.\n",
      "The tPerfectIncorporation2 optimization problem had no optimal solution.\n",
      "The CommonGround_entani optimization problem had no optimal solution."
     ]
    },
    {
     "name": "stdout",
     "output_type": "stream",
     "text": [
      "\n",
      "The CommonGround optimization problem had no optimal solution.\n",
      "The tPerfectIncorporation2 optimization problem had no optimal solution.\n",
      "The CommonGround_entani optimization problem had no optimal solution.\n",
      "The CommonGround_entani optimization problem had no optimal solution.\n",
      "The CommonGround optimization problem had no optimal solution.\n",
      "The CommonGround optimization problem had no optimal solution.\n",
      "The tPerfectIncorporation2 optimization problem had no optimal solution.\n",
      "The tPerfectIncorporation2 optimization problem had no optimal solution.\n",
      "The CommonGround_entani optimization problem had no optimal solution.\n",
      "The CommonGround optimization problem had no optimal solution.\n",
      "The tPerfectIncorporation2 optimization problem had no optimal solution.\n",
      "The CommonGround_entani optimization problem had no optimal solution."
     ]
    },
    {
     "name": "stdout",
     "output_type": "stream",
     "text": [
      "\n",
      "The CommonGround optimization problem had no optimal solution.\n",
      "The tPerfectIncorporation2 optimization problem had no optimal solution.\n",
      "The CommonGround_entani optimization problem had no optimal solution.\n",
      "The CommonGround_entani optimization problem had no optimal solution.\n",
      "The CommonGround_entani optimization problem had no optimal solution.\n",
      "The CommonGround optimization problem had no optimal solution.\n",
      "The CommonGround optimization problem had no optimal solution.\n",
      "The tPerfectIncorporation2 optimization problem had no optimal solution.\n",
      "The CommonGround optimization problem had no optimal solution.\n",
      "The tPerfectIncorporation2 optimization problem had no optimal solution.\n",
      "The tPerfectIncorporation2 optimization problem had no optimal solution.\n",
      "The CommonGround_entani optimization problem had no optimal solution.\n",
      "The CommonGround optimization problem had no optimal solution.\n",
      "The tPerfectIncorporation2 optimization problem had no optimal solution.\n",
      "The CommonGround_entani optimization problem had no optimal solution."
     ]
    },
    {
     "name": "stdout",
     "output_type": "stream",
     "text": [
      "\n",
      "The CommonGround optimization problem had no optimal solution.\n"
     ]
    },
    {
     "name": "stdout",
     "output_type": "stream",
     "text": [
      "The CommonGround_entani optimization problem had no optimal solution.\n",
      "The tPerfectIncorporation2 optimization problem had no optimal solution.\n",
      "The CommonGround optimization problem had no optimal solution.\n",
      "The tPerfectIncorporation2 optimization problem had no optimal solution.\n",
      "The CommonGround_entani optimization problem had no optimal solution.\n",
      "The CommonGround optimization problem had no optimal solution.\n",
      "The tPerfectIncorporation2 optimization problem had no optimal solution.\n",
      "The CommonGround_entani optimization problem had no optimal solution.\n",
      "The CommonGround optimization problem had no optimal solution.\n",
      "The tPerfectIncorporation2 optimization problem had no optimal solution.\n",
      "The CommonGround optimization problem had no optimal solution."
     ]
    },
    {
     "name": "stdout",
     "output_type": "stream",
     "text": [
      "\n",
      "The tPerfectIncorporation2 optimization problem had no optimal solution.\n",
      "The CommonGround_entani optimization problem had no optimal solution.\n",
      "The CommonGround optimization problem had no optimal solution.\n",
      "The tPerfectIncorporation2 optimization problem had no optimal solution.\n",
      "The CommonGround_entani optimization problem had no optimal solution.\n",
      "The CommonGround optimization problem had no optimal solution.\n",
      "The CommonGround_entani optimization problem had no optimal solution."
     ]
    },
    {
     "name": "stdout",
     "output_type": "stream",
     "text": [
      "\n",
      "The CommonGround optimization problem had no optimal solution.\n",
      "The tPerfectIncorporation2 optimization problem had no optimal solution.\n",
      "The tPerfectIncorporation2 optimization problem had no optimal solution.\n",
      "The CommonGround_entani optimization problem had no optimal solution.\n",
      "The CommonGround optimization problem had no optimal solution.\n",
      "The tPerfectIncorporation2 optimization problem had no optimal solution.\n",
      "The CommonGround_entani optimization problem had no optimal solution.\n",
      "The CommonGround_entani optimization problem had no optimal solution.\n",
      "The CommonGround optimization problem had no optimal solution.\n",
      "The CommonGround optimization problem had no optimal solution.\n",
      "The CommonGround_entani optimization problem had no optimal solution."
     ]
    },
    {
     "name": "stdout",
     "output_type": "stream",
     "text": [
      "\n",
      "The tPerfectIncorporation2 optimization problem had no optimal solution.\n",
      "The tPerfectIncorporation2 optimization problem had no optimal solution.\n",
      "The CommonGround optimization problem had no optimal solution.\n",
      "The tPerfectIncorporation2 optimization problem had no optimal solution.\n"
     ]
    },
    {
     "name": "stdout",
     "output_type": "stream",
     "text": [
      "The CommonGround_entani optimization problem had no optimal solution.\n",
      "The CommonGround optimization problem had no optimal solution.\n",
      "The tPerfectIncorporation2 optimization problem had no optimal solution.\n",
      "The CommonGround_entani optimization problem had no optimal solution.\n",
      "The CommonGround optimization problem had no optimal solution.\n",
      "The CommonGround_entani optimization problem had no optimal solution.\n",
      "The tPerfectIncorporation2 optimization problem had no optimal solution.\n",
      "The CommonGround optimization problem had no optimal solution.\n",
      "The tPerfectIncorporation2 optimization problem had no optimal solution.\n",
      "The CommonGround_entani optimization problem had no optimal solution.\n",
      "The CommonGround_entani optimization problem had no optimal solution."
     ]
    },
    {
     "name": "stdout",
     "output_type": "stream",
     "text": [
      "\n",
      "The CommonGround optimization problem had no optimal solution.\n",
      "The tPerfectIncorporation2 optimization problem had no optimal solution.\n",
      "The CommonGround optimization problem had no optimal solution.\n",
      "The tPerfectIncorporation2 optimization problem had no optimal solution.\n",
      "The CommonGround_entani optimization problem had no optimal solution.\n",
      "The CommonGround optimization problem had no optimal solution.\n",
      "The CommonGround_entani optimization problem had no optimal solution.\n",
      "The tPerfectIncorporation2 optimization problem had no optimal solution.\n",
      "The CommonGround optimization problem had no optimal solution.\n",
      "The CommonGround_entani optimization problem had no optimal solution."
     ]
    },
    {
     "name": "stdout",
     "output_type": "stream",
     "text": [
      "\n",
      "The CommonGround_entani optimization problem had no optimal solution.\n",
      "The tPerfectIncorporation2 optimization problem had no optimal solution.\n",
      "The CommonGround optimization problem had no optimal solution.\n"
     ]
    },
    {
     "name": "stdout",
     "output_type": "stream",
     "text": [
      "The tPerfectIncorporation2 optimization problem had no optimal solution.\n",
      "The CommonGround optimization problem had no optimal solution.\n",
      "The tPerfectIncorporation2 optimization problem had no optimal solution.\n",
      "The CommonGround_entani optimization problem had no optimal solution.\n",
      "The CommonGround_entani optimization problem had no optimal solution.\n",
      "The CommonGround optimization problem had no optimal solution.\n",
      "The CommonGround_entani optimization problem had no optimal solution."
     ]
    },
    {
     "name": "stdout",
     "output_type": "stream",
     "text": [
      "\n",
      "The tPerfectIncorporation2 optimization problem had no optimal solution.\n",
      "The CommonGround optimization problem had no optimal solution.\n",
      "The CommonGround optimization problem had no optimal solution.\n",
      "The CommonGround_entani optimization problem had no optimal solution.\n",
      "The tPerfectIncorporation2 optimization problem had no optimal solution.\n",
      "The tPerfectIncorporation2 optimization problem had no optimal solution.\n",
      "The CommonGround optimization problem had no optimal solution.\n",
      "The tPerfectIncorporation2 optimization problem had no optimal solution.\n",
      "The CommonGround_entani optimization problem had no optimal solution.\n",
      "The CommonGround optimization problem had no optimal solution.\n",
      "The CommonGround_entani optimization problem had no optimal solution.\n",
      "The tPerfectIncorporation2 optimization problem had no optimal solution.\n",
      "The CommonGround_entani optimization problem had no optimal solution."
     ]
    },
    {
     "name": "stdout",
     "output_type": "stream",
     "text": [
      "\n"
     ]
    },
    {
     "name": "stdout",
     "output_type": "stream",
     "text": [
      "The CommonGround optimization problem had no optimal solution.\n",
      "The CommonGround optimization problem had no optimal solution.\n",
      "The CommonGround_entani optimization problem had no optimal solution.\n",
      "The tPerfectIncorporation2 optimization problem had no optimal solution.\n",
      "The CommonGround_entani optimization problem had no optimal solution.\n",
      "The CommonGround optimization problem had no optimal solution.\n",
      "The tPerfectIncorporation2 optimization problem had no optimal solution.\n",
      "The CommonGround optimization problem had no optimal solution.\n",
      "The CommonGround_entani optimization problem had no optimal solution.\n",
      "The tPerfectIncorporation2 optimization problem had no optimal solution.\n",
      "The CommonGround optimization problem had no optimal solution.\n",
      "The tPerfectIncorporation2 optimization problem had no optimal solution.\n",
      "The CommonGround_entani optimization problem had no optimal solution."
     ]
    },
    {
     "name": "stdout",
     "output_type": "stream",
     "text": [
      "\n"
     ]
    },
    {
     "name": "stdout",
     "output_type": "stream",
     "text": [
      "The CommonGround optimization problem had no optimal solution.\n",
      "The CommonGround_entani optimization problem had no optimal solution.\n",
      "The tPerfectIncorporation2 optimization problem had no optimal solution.\n",
      "The CommonGround_entani optimization problem had no optimal solution.\n",
      "The CommonGround optimization problem had no optimal solution.\n",
      "The CommonGround_entani optimization problem had no optimal solution.\n",
      "The CommonGround optimization problem had no optimal solution.\n",
      "The tPerfectIncorporation2 optimization problem had no optimal solution.\n",
      "The tPerfectIncorporation2 optimization problem had no optimal solution.\n",
      "The CommonGround optimization problem had no optimal solution.\n",
      "The tPerfectIncorporation2 optimization problem had no optimal solution.\n",
      "The CommonGround_entani optimization problem had no optimal solution."
     ]
    },
    {
     "name": "stdout",
     "output_type": "stream",
     "text": [
      "\n",
      "The CommonGround optimization problem had no optimal solution.\n",
      "The CommonGround_entani optimization problem had no optimal solution.\n",
      "The CommonGround_entani optimization problem had no optimal solution.\n",
      "The tPerfectIncorporation2 optimization problem had no optimal solution.\n",
      "The CommonGround optimization problem had no optimal solution.\n",
      "The CommonGround optimization problem had no optimal solution.\n",
      "The CommonGround_entani optimization problem had no optimal solution.\n",
      "The tPerfectIncorporation2 optimization problem had no optimal solution.\n",
      "The tPerfectIncorporation2 optimization problem had no optimal solution.\n",
      "The CommonGround optimization problem had no optimal solution.\n",
      "The CommonGround_entani optimization problem had no optimal solution."
     ]
    },
    {
     "name": "stdout",
     "output_type": "stream",
     "text": [
      "\n",
      "The CommonGround optimization problem had no optimal solution.\n",
      "The tPerfectIncorporation2 optimization problem had no optimal solution.\n",
      "The tPerfectIncorporation2 optimization problem had no optimal solution.\n",
      "The CommonGround_entani optimization problem had no optimal solution."
     ]
    },
    {
     "name": "stdout",
     "output_type": "stream",
     "text": [
      "\n",
      "The CommonGround optimization problem had no optimal solution.\n",
      "The tPerfectIncorporation2 optimization problem had no optimal solution.\n",
      "The CommonGround_entani optimization problem had no optimal solution.\n",
      "The CommonGround_entani optimization problem had no optimal solution.\n",
      "The CommonGround optimization problem had no optimal solution.\n",
      "The CommonGround optimization problem had no optimal solution.\n",
      "The tPerfectIncorporation2 optimization problem had no optimal solution.\n",
      "The CommonGround_entani optimization problem had no optimal solution.\n",
      "The CommonGround optimization problem had no optimal solution.\n",
      "The CommonGround_entani optimization problem had no optimal solution."
     ]
    },
    {
     "name": "stdout",
     "output_type": "stream",
     "text": [
      "\n",
      "The tPerfectIncorporation2 optimization problem had no optimal solution.\n",
      "The CommonGround optimization problem had no optimal solution.\n",
      "The tPerfectIncorporation2 optimization problem had no optimal solution.\n"
     ]
    },
    {
     "name": "stdout",
     "output_type": "stream",
     "text": [
      "The CommonGround_entani optimization problem had no optimal solution.\n",
      "The CommonGround_entani optimization problem had no optimal solution.\n",
      "The CommonGround optimization problem had no optimal solution.\n",
      "The CommonGround optimization problem had no optimal solution.\n",
      "The CommonGround_entani optimization problem had no optimal solution.\n",
      "The tPerfectIncorporation2 optimization problem had no optimal solution.\n",
      "The tPerfectIncorporation2 optimization problem had no optimal solution.\n",
      "The CommonGround optimization problem had no optimal solution.\n",
      "The CommonGround_entani optimization problem had no optimal solution.\n",
      "The tPerfectIncorporation2 optimization problem had no optimal solution.\n",
      "The CommonGround optimization problem had no optimal solution.\n",
      "The tPerfectIncorporation2 optimization problem had no optimal solution.\n"
     ]
    },
    {
     "name": "stdout",
     "output_type": "stream",
     "text": [
      "The CommonGround_entani optimization problem had no optimal solution.\n",
      "The CommonGround optimization problem had no optimal solution.\n",
      "The CommonGround_entani optimization problem had no optimal solution.\n",
      "The CommonGround optimization problem had no optimal solution.\n",
      "The tPerfectIncorporation2 optimization problem had no optimal solution.\n",
      "The CommonGround optimization problem had no optimal solution.\n",
      "The CommonGround_entani optimization problem had no optimal solution.\n",
      "The CommonGround optimization problem had no optimal solution.\n",
      "The tPerfectIncorporation2 optimization problem had no optimal solution.\n",
      "The tPerfectIncorporation2 optimization problem had no optimal solution.\n"
     ]
    },
    {
     "name": "stdout",
     "output_type": "stream",
     "text": [
      "The CommonGround_entani optimization problem had no optimal solution.\n",
      "The CommonGround_entani optimization problem had no optimal solution.\n",
      "The CommonGround_entani optimization problem had no optimal solution.\n",
      "The CommonGround optimization problem had no optimal solution.\n",
      "The CommonGround optimization problem had no optimal solution.\n",
      "The CommonGround optimization problem had no optimal solution.\n",
      "The tPerfectIncorporation2 optimization problem had no optimal solution.\n",
      "The tPerfectIncorporation2 optimization problem had no optimal solution.\n",
      "The CommonGround_entani optimization problem had no optimal solution.\n",
      "The tPerfectIncorporation2 optimization problem had no optimal solution.\n",
      "The CommonGround_entani optimization problem had no optimal solution.\n",
      "The CommonGround_entani optimization problem had no optimal solution.\n",
      "The CommonGround_entani optimization problem had no optimal solution.\n",
      "The CommonGround optimization problem had no optimal solution.\n",
      "The CommonGround optimization problem had no optimal solution.\n",
      "The CommonGround optimization problem had no optimal solution.\n",
      "The tPerfectIncorporation2 optimization problem had no optimal solution.\n",
      "The tPerfectIncorporation2 optimization problem had no optimal solution.\n",
      "The CommonGround optimization problem had no optimal solution."
     ]
    },
    {
     "name": "stdout",
     "output_type": "stream",
     "text": [
      "\n",
      "The CommonGround_entani optimization problem had no optimal solution.\n",
      "The CommonGround_entani optimization problem had no optimal solution.\n",
      "The CommonGround optimization problem had no optimal solution.\n",
      "The CommonGround optimization problem had no optimal solution.\n",
      "The tPerfectIncorporation2 optimization problem had no optimal solution.\n",
      "The CommonGround_entani optimization problem had no optimal solution."
     ]
    },
    {
     "name": "stdout",
     "output_type": "stream",
     "text": [
      "\n",
      "The CommonGround optimization problem had no optimal solution.\n",
      "The tPerfectIncorporation2 optimization problem had no optimal solution.\n"
     ]
    },
    {
     "name": "stdout",
     "output_type": "stream",
     "text": [
      "The CommonGround_entani optimization problem had no optimal solution.\n",
      "The CommonGround optimization problem had no optimal solution.\n",
      "The CommonGround optimization problem had no optimal solution.\n",
      "The CommonGround_entani optimization problem had no optimal solution.\n",
      "The tPerfectIncorporation2 optimization problem had no optimal solution.\n",
      "The tPerfectIncorporation2 optimization problem had no optimal solution.\n",
      "The CommonGround optimization problem had no optimal solution.\n",
      "The tPerfectIncorporation2 optimization problem had no optimal solution.\n",
      "The CommonGround_entani optimization problem had no optimal solution.\n",
      "The CommonGround optimization problem had no optimal solution.\n",
      "The tPerfectIncorporation2 optimization problem had no optimal solution.\n"
     ]
    },
    {
     "name": "stdout",
     "output_type": "stream",
     "text": [
      "The CommonGround_entani optimization problem had no optimal solution.\n",
      "The CommonGround_entani optimization problem had no optimal solution.\n",
      "The CommonGround optimization problem had no optimal solution.\n",
      "The CommonGround optimization problem had no optimal solution.\n",
      "The CommonGround_entani optimization problem had no optimal solution.\n",
      "The tPerfectIncorporation2 optimization problem had no optimal solution.\n",
      "The tPerfectIncorporation2 optimization problem had no optimal solution.\n",
      "The CommonGround optimization problem had no optimal solution.\n",
      "The tPerfectIncorporation2 optimization problem had no optimal solution.\n",
      "The CommonGround_entani optimization problem had no optimal solution.\n",
      "The CommonGround optimization problem had no optimal solution.\n"
     ]
    },
    {
     "name": "stdout",
     "output_type": "stream",
     "text": [
      "The tPerfectIncorporation2 optimization problem had no optimal solution.\n",
      "The CommonGround_entani optimization problem had no optimal solution.\n",
      "The CommonGround_entani optimization problem had no optimal solution.\n",
      "The CommonGround optimization problem had no optimal solution.\n",
      "The tPerfectIncorporation2 optimization problem had no optimal solution.\n",
      "The CommonGround optimization problem had no optimal solution.\n",
      "The tPerfectIncorporation2 optimization problem had no optimal solution.\n",
      "The CommonGround_entani optimization problem had no optimal solution.\n",
      "The CommonGround optimization problem had no optimal solution.\n",
      "The CommonGround_entani optimization problem had no optimal solution."
     ]
    },
    {
     "name": "stdout",
     "output_type": "stream",
     "text": [
      "\n",
      "The tPerfectIncorporation2 optimization problem had no optimal solution.\n",
      "The CommonGround optimization problem had no optimal solution.\n",
      "The tPerfectIncorporation2 optimization problem had no optimal solution.\n",
      "The CommonGround_entani optimization problem had no optimal solution.\n",
      "The CommonGround optimization problem had no optimal solution.\n",
      "The CommonGround optimization problem had no optimal solution.\n",
      "The tPerfectIncorporation2 optimization problem had no optimal solution.\n",
      "The CommonGround_entani optimization problem had no optimal solution.\n",
      "The CommonGround optimization problem had no optimal solution.\n",
      "The tPerfectIncorporation2 optimization problem had no optimal solution.\n",
      "The CommonGround_entani optimization problem had no optimal solution."
     ]
    },
    {
     "name": "stdout",
     "output_type": "stream",
     "text": [
      "\n"
     ]
    },
    {
     "name": "stdout",
     "output_type": "stream",
     "text": [
      "The CommonGround optimization problem had no optimal solution.\n",
      "The tPerfectIncorporation2 optimization problem had no optimal solution.\n",
      "The CommonGround_entani optimization problem had no optimal solution.\n",
      "The CommonGround optimization problem had no optimal solution.\n",
      "The tPerfectIncorporation2 optimization problem had no optimal solution.\n",
      "The CommonGround_entani optimization problem had no optimal solution.\n",
      "The CommonGround optimization problem had no optimal solution.\n",
      "The tPerfectIncorporation2 optimization problem had no optimal solution.\n",
      "The CommonGround_entani optimization problem had no optimal solution."
     ]
    },
    {
     "name": "stdout",
     "output_type": "stream",
     "text": [
      "\n",
      "The CommonGround optimization problem had no optimal solution.\n",
      "The tPerfectIncorporation2 optimization problem had no optimal solution.\n",
      "The CommonGround_entani optimization problem had no optimal solution.\n",
      "The CommonGround_entani optimization problem had no optimal solution.\n",
      "The CommonGround optimization problem had no optimal solution.\n",
      "The CommonGround optimization problem had no optimal solution.\n",
      "The tPerfectIncorporation2 optimization problem had no optimal solution.\n",
      "The tPerfectIncorporation2 optimization problem had no optimal solution.\n",
      "The CommonGround_entani optimization problem had no optimal solution.\n",
      "The CommonGround optimization problem had no optimal solution.\n",
      "The tPerfectIncorporation2 optimization problem had no optimal solution.\n",
      "The CommonGround_entani optimization problem had no optimal solution."
     ]
    },
    {
     "name": "stdout",
     "output_type": "stream",
     "text": [
      "\n"
     ]
    },
    {
     "name": "stdout",
     "output_type": "stream",
     "text": [
      "The CommonGround optimization problem had no optimal solution.\n",
      "The tPerfectIncorporation2 optimization problem had no optimal solution.\n",
      "The CommonGround_entani optimization problem had no optimal solution.\n",
      "The CommonGround optimization problem had no optimal solution.\n",
      "The CommonGround optimization problem had no optimal solution.\n",
      "The tPerfectIncorporation2 optimization problem had no optimal solution.\n",
      "The tPerfectIncorporation2 optimization problem had no optimal solution.\n",
      "The CommonGround_entani optimization problem had no optimal solution.\n",
      "The CommonGround optimization problem had no optimal solution.\n",
      "The tPerfectIncorporation2 optimization problem had no optimal solution.\n",
      "The CommonGround_entani optimization problem had no optimal solution."
     ]
    },
    {
     "name": "stdout",
     "output_type": "stream",
     "text": [
      "\n",
      "The CommonGround optimization problem had no optimal solution.\n",
      "The tPerfectIncorporation2 optimization problem had no optimal solution.\n",
      "The CommonGround_entani optimization problem had no optimal solution.\n",
      "The CommonGround_entani optimization problem had no optimal solution.\n",
      "The CommonGround optimization problem had no optimal solution.\n",
      "The CommonGround optimization problem had no optimal solution.\n",
      "The tPerfectIncorporation2 optimization problem had no optimal solution.\n",
      "The tPerfectIncorporation2 optimization problem had no optimal solution.\n",
      "The CommonGround_entani optimization problem had no optimal solution.\n",
      "The CommonGround optimization problem had no optimal solution.\n",
      "The tPerfectIncorporation2 optimization problem had no optimal solution.\n",
      "The CommonGround_entani optimization problem had no optimal solution."
     ]
    },
    {
     "name": "stdout",
     "output_type": "stream",
     "text": [
      "\n",
      "The CommonGround optimization problem had no optimal solution.\n",
      "The tPerfectIncorporation2 optimization problem had no optimal solution.\n",
      "The CommonGround_entani optimization problem had no optimal solution.\n",
      "The CommonGround optimization problem had no optimal solution.\n",
      "The CommonGround_entani optimization problem had no optimal solution.\n",
      "The tPerfectIncorporation2 optimization problem had no optimal solution.\n",
      "The CommonGround optimization problem had no optimal solution.\n",
      "The tPerfectIncorporation2 optimization problem had no optimal solution.\n",
      "The CommonGround_entani optimization problem had no optimal solution.\n",
      "The CommonGround optimization problem had no optimal solution.\n",
      "The tPerfectIncorporation2 optimization problem had no optimal solution.\n",
      "The CommonGround optimization problem had no optimal solution."
     ]
    },
    {
     "name": "stdout",
     "output_type": "stream",
     "text": [
      "\n",
      "The CommonGround_entani optimization problem had no optimal solution.\n",
      "The CommonGround_entani optimization problem had no optimal solution.\n",
      "The CommonGround optimization problem had no optimal solution.\n",
      "The CommonGround optimization problem had no optimal solution.\n",
      "The tPerfectIncorporation2 optimization problem had no optimal solution.\n",
      "The tPerfectIncorporation2 optimization problem had no optimal solution.\n",
      "The CommonGround_entani optimization problem had no optimal solution.\n",
      "The CommonGround optimization problem had no optimal solution.\n",
      "The tPerfectIncorporation2 optimization problem had no optimal solution.\n",
      "The CommonGround optimization problem had no optimal solution."
     ]
    },
    {
     "name": "stdout",
     "output_type": "stream",
     "text": [
      "\n",
      "The CommonGround_entani optimization problem had no optimal solution.\n",
      "The CommonGround_entani optimization problem had no optimal solution.\n",
      "The CommonGround optimization problem had no optimal solution.\n",
      "The CommonGround optimization problem had no optimal solution.\n",
      "The tPerfectIncorporation2 optimization problem had no optimal solution.\n",
      "The CommonGround_entani optimization problem had no optimal solution.\n",
      "The CommonGround optimization problem had no optimal solution.\n",
      "The CommonGround_entani optimization problem had no optimal solution."
     ]
    },
    {
     "name": "stdout",
     "output_type": "stream",
     "text": [
      "\n",
      "The tPerfectIncorporation2 optimization problem had no optimal solution.\n",
      "The CommonGround optimization problem had no optimal solution.\n",
      "The tPerfectIncorporation2 optimization problem had no optimal solution.\n",
      "The CommonGround_entani optimization problem had no optimal solution.\n",
      "The CommonGround_entani optimization problem had no optimal solution.\n",
      "The CommonGround optimization problem had no optimal solution.\n",
      "The tPerfectIncorporation2 optimization problem had no optimal solution.\n",
      "The CommonGround optimization problem had no optimal solution.\n",
      "The tPerfectIncorporation2 optimization problem had no optimal solution.\n",
      "The CommonGround_entani optimization problem had no optimal solution.\n",
      "The CommonGround_entani optimization problem had no optimal solution."
     ]
    },
    {
     "name": "stdout",
     "output_type": "stream",
     "text": [
      "\n",
      "The CommonGround optimization problem had no optimal solution.\n",
      "The CommonGround optimization problem had no optimal solution.\n",
      "The tPerfectIncorporation2 optimization problem had no optimal solution.\n",
      "The tPerfectIncorporation2 optimization problem had no optimal solution.\n"
     ]
    },
    {
     "name": "stdout",
     "output_type": "stream",
     "text": [
      "The CommonGround_entani optimization problem had no optimal solution.\n",
      "The CommonGround optimization problem had no optimal solution.\n",
      "The tPerfectIncorporation2 optimization problem had no optimal solution.\n",
      "The CommonGround_entani optimization problem had no optimal solution.\n",
      "The CommonGround optimization problem had no optimal solution.\n",
      "The tPerfectIncorporation2 optimization problem had no optimal solution.\n"
     ]
    },
    {
     "name": "stdout",
     "output_type": "stream",
     "text": [
      "The CommonGround_entani optimization problem had no optimal solution.\n",
      "The CommonGround optimization problem had no optimal solution.\n",
      "The tPerfectIncorporation2 optimization problem had no optimal solution.\n",
      "The CommonGround_entani optimization problem had no optimal solution.\n",
      "The CommonGround optimization problem had no optimal solution.\n",
      "The CommonGround_entani optimization problem had no optimal solution.\n",
      "The tPerfectIncorporation2 optimization problem had no optimal solution.\n",
      "The CommonGround optimization problem had no optimal solution.\n",
      "The tPerfectIncorporation2 optimization problem had no optimal solution.\n",
      "The CommonGround_entani optimization problem had no optimal solution.\n",
      "The CommonGround_entani optimization problem had no optimal solution.\n",
      "The CommonGround optimization problem had no optimal solution.\n",
      "The CommonGround optimization problem had no optimal solution.\n",
      "The tPerfectIncorporation2 optimization problem had no optimal solution.\n",
      "The tPerfectIncorporation2 optimization problem had no optimal solution."
     ]
    },
    {
     "name": "stdout",
     "output_type": "stream",
     "text": [
      "\n",
      "The CommonGround optimization problem had no optimal solution.\n",
      "The CommonGround optimization problem had no optimal solution.\n",
      "The tPerfectIncorporation2 optimization problem had no optimal solution.\n",
      "The CommonGround_entani optimization problem had no optimal solution.\n",
      "The CommonGround optimization problem had no optimal solution.\n",
      "The CommonGround_entani optimization problem had no optimal solution.\n",
      "The CommonGround_entani optimization problem had no optimal solution.\n",
      "The CommonGround optimization problem had no optimal solution.\n",
      "The CommonGround optimization problem had no optimal solution.\n",
      "The CommonGround_entani optimization problem had no optimal solution.\n",
      "The tPerfectIncorporation2 optimization problem had no optimal solution.\n",
      "The tPerfectIncorporation2 optimization problem had no optimal solution.\n",
      "The CommonGround optimization problem had no optimal solution.\n",
      "The tPerfectIncorporation2 optimization problem had no optimal solution.\n",
      "The CommonGround_entani optimization problem had no optimal solution.\n",
      "The CommonGround_entani optimization problem had no optimal solution."
     ]
    },
    {
     "name": "stdout",
     "output_type": "stream",
     "text": [
      "\n",
      "The CommonGround optimization problem had no optimal solution.\n",
      "The CommonGround optimization problem had no optimal solution.\n",
      "The tPerfectIncorporation2 optimization problem had no optimal solution.\n",
      "The tPerfectIncorporation2 optimization problem had no optimal solution.\n",
      "The CommonGround_entani optimization problem had no optimal solution.\n",
      "The CommonGround_entani optimization problem had no optimal solution.\n",
      "The CommonGround optimization problem had no optimal solution.\n",
      "The tPerfectIncorporation2 optimization problem had no optimal solution.\n",
      "The CommonGround_entani optimization problem had no optimal solution.\n",
      "The CommonGround optimization problem had no optimal solution.\n",
      "The CommonGround optimization problem had no optimal solution."
     ]
    },
    {
     "name": "stdout",
     "output_type": "stream",
     "text": [
      "\n",
      "The tPerfectIncorporation2 optimization problem had no optimal solution.\n",
      "The CommonGround_entani optimization problem had no optimal solution.\n",
      "The CommonGround optimization problem had no optimal solution.\n",
      "The tPerfectIncorporation2 optimization problem had no optimal solution.\n",
      "The CommonGround_entani optimization problem had no optimal solution.\n",
      "The CommonGround optimization problem had no optimal solution.\n",
      "The CommonGround_entani optimization problem had no optimal solution.\n",
      "The tPerfectIncorporation2 optimization problem had no optimal solution.\n",
      "The CommonGround optimization problem had no optimal solution.\n",
      "The tPerfectIncorporation2 optimization problem had no optimal solution.\n",
      "The CommonGround_entani optimization problem had no optimal solution."
     ]
    },
    {
     "name": "stdout",
     "output_type": "stream",
     "text": [
      "\n"
     ]
    },
    {
     "name": "stdout",
     "output_type": "stream",
     "text": [
      "The CommonGround optimization problem had no optimal solution.\n",
      "The tPerfectIncorporation2 optimization problem had no optimal solution.\n"
     ]
    },
    {
     "name": "stdout",
     "output_type": "stream",
     "text": [
      "The CommonGround_entani optimization problem had no optimal solution.\n",
      "The CommonGround optimization problem had no optimal solution.\n",
      "The CommonGround_entani optimization problem had no optimal solution.\n",
      "The tPerfectIncorporation2 optimization problem had no optimal solution.\n",
      "The CommonGround optimization problem had no optimal solution.\n",
      "The tPerfectIncorporation2 optimization problem had no optimal solution.\n",
      "The CommonGround_entani optimization problem had no optimal solution.\n",
      "The CommonGround_entani optimization problem had no optimal solution.\n",
      "The CommonGround_entani optimization problem had no optimal solution.\n",
      "The CommonGround optimization problem had no optimal solution.\n",
      "The CommonGround optimization problem had no optimal solution.\n",
      "The CommonGround optimization problem had no optimal solution.\n",
      "The tPerfectIncorporation2 optimization problem had no optimal solution.\n",
      "The tPerfectIncorporation2 optimization problem had no optimal solution.\n",
      "The tPerfectIncorporation2 optimization problem had no optimal solution.\n",
      "The CommonGround_entani optimization problem had no optimal solution.\n",
      "The CommonGround optimization problem had no optimal solution.\n",
      "The tPerfectIncorporation2 optimization problem had no optimal solution.\n",
      "The CommonGround_entani optimization problem had no optimal solution.\n",
      "The CommonGround_entani optimization problem had no optimal solution.\n",
      "The CommonGround optimization problem had no optimal solution.\n",
      "The CommonGround optimization problem had no optimal solution."
     ]
    },
    {
     "name": "stdout",
     "output_type": "stream",
     "text": [
      "\n",
      "The CommonGround optimization problem had no optimal solution.\n",
      "The tPerfectIncorporation2 optimization problem had no optimal solution.\n",
      "The tPerfectIncorporation2 optimization problem had no optimal solution.\n",
      "The tPerfectIncorporation2 optimization problem had no optimal solution."
     ]
    },
    {
     "name": "stdout",
     "output_type": "stream",
     "text": [
      "\n",
      "The CommonGround_entani optimization problem had no optimal solution.\n",
      "The CommonGround optimization problem had no optimal solution.\n",
      "The tPerfectIncorporation2 optimization problem had no optimal solution.\n",
      "The CommonGround_entani optimization problem had no optimal solution."
     ]
    },
    {
     "name": "stdout",
     "output_type": "stream",
     "text": [
      "\n",
      "The CommonGround_entani optimization problem had no optimal solution.\n",
      "The CommonGround optimization problem had no optimal solution.\n",
      "The CommonGround optimization problem had no optimal solution.\n",
      "The tPerfectIncorporation2 optimization problem had no optimal solution.\n",
      "The tPerfectIncorporation2 optimization problem had no optimal solution.\n",
      "The CommonGround_entani optimization problem had no optimal solution.\n",
      "The CommonGround optimization problem had no optimal solution.\n",
      "The tPerfectIncorporation2 optimization problem had no optimal solution.\n",
      "The CommonGround_entani optimization problem had no optimal solution.\n",
      "The CommonGround_entani optimization problem had no optimal solution."
     ]
    },
    {
     "name": "stdout",
     "output_type": "stream",
     "text": [
      "\n",
      "The CommonGround optimization problem had no optimal solution.\n",
      "The CommonGround_entani optimization problem had no optimal solution.\n",
      "The CommonGround optimization problem had no optimal solution.\n",
      "The CommonGround optimization problem had no optimal solution.\n",
      "The tPerfectIncorporation2 optimization problem had no optimal solution.\n",
      "The tPerfectIncorporation2 optimization problem had no optimal solution.\n"
     ]
    },
    {
     "name": "stdout",
     "output_type": "stream",
     "text": [
      "The tPerfectIncorporation2 optimization problem had no optimal solution.\n",
      "The CommonGround_entani optimization problem had no optimal solution.\n",
      "The CommonGround optimization problem had no optimal solution.\n",
      "The tPerfectIncorporation2 optimization problem had no optimal solution.\n",
      "The CommonGround_entani optimization problem had no optimal solution.\n",
      "The CommonGround_entani optimization problem had no optimal solution.\n",
      "The CommonGround optimization problem had no optimal solution.\n",
      "The CommonGround_entani optimization problem had no optimal solution.\n",
      "The CommonGround optimization problem had no optimal solution.\n",
      "The tPerfectIncorporation2 optimization problem had no optimal solution.\n",
      "The CommonGround optimization problem had no optimal solution.\n",
      "The tPerfectIncorporation2 optimization problem had no optimal solution.\n",
      "The tPerfectIncorporation2 optimization problem had no optimal solution.\n",
      "The CommonGround_entani optimization problem had no optimal solution.\n",
      "The CommonGround optimization problem had no optimal solution.\n",
      "The tPerfectIncorporation2 optimization problem had no optimal solution.\n",
      "The CommonGround_entani optimization problem had no optimal solution.\n",
      "The CommonGround_entani optimization problem had no optimal solution.\n",
      "The CommonGround optimization problem had no optimal solution.\n",
      "The tPerfectIncorporation2 optimization problem had no optimal solution.\n",
      "The CommonGround optimization problem had no optimal solution.\n",
      "The tPerfectIncorporation2 optimization problem had no optimal solution.\n",
      "The CommonGround_entani optimization problem had no optimal solution.\n",
      "The CommonGround optimization problem had no optimal solution.\n",
      "The tPerfectIncorporation2 optimization problem had no optimal solution.\n",
      "The CommonGround_entani optimization problem had no optimal solution."
     ]
    },
    {
     "name": "stdout",
     "output_type": "stream",
     "text": [
      "\n",
      "The CommonGround optimization problem had no optimal solution.\n",
      "The tPerfectIncorporation2 optimization problem had no optimal solution.\n"
     ]
    },
    {
     "name": "stdout",
     "output_type": "stream",
     "text": [
      "The CommonGround_entani optimization problem had no optimal solution.\n",
      "The CommonGround_entani optimization problem had no optimal solution.\n",
      "The CommonGround optimization problem had no optimal solution.\n",
      "The tPerfectIncorporation2 optimization problem had no optimal solution.\n",
      "The CommonGround_entani optimization problem had no optimal solution.\n",
      "The CommonGround optimization problem had no optimal solution.\n",
      "The tPerfectIncorporation2 optimization problem had no optimal solution.\n",
      "The CommonGround_entani optimization problem had no optimal solution.\n",
      "The CommonGround optimization problem had no optimal solution.\n",
      "The tPerfectIncorporation2 optimization problem had no optimal solution.\n",
      "The CommonGround_entani optimization problem had no optimal solution.\n",
      "The CommonGround optimization problem had no optimal solution.\n",
      "The tPerfectIncorporation2 optimization problem had no optimal solution.\n",
      "The CommonGround optimization problem had no optimal solution.\n",
      "The CommonGround_entani optimization problem had no optimal solution.\n",
      "The tPerfectIncorporation2 optimization problem had no optimal solution.\n",
      "The CommonGround optimization problem had no optimal solution.\n",
      "The tPerfectIncorporation2 optimization problem had no optimal solution.\n",
      "The CommonGround_entani optimization problem had no optimal solution."
     ]
    },
    {
     "name": "stdout",
     "output_type": "stream",
     "text": [
      "\n",
      "The CommonGround optimization problem had no optimal solution.\n",
      "The tPerfectIncorporation2 optimization problem had no optimal solution.\n",
      "The CommonGround optimization problem had no optimal solution.\n",
      "The CommonGround_entani optimization problem had no optimal solution.\n",
      "The CommonGround optimization problem had no optimal solution.\n",
      "The tPerfectIncorporation2 optimization problem had no optimal solution.\n",
      "The CommonGround_entani optimization problem had no optimal solution.\n",
      "The CommonGround optimization problem had no optimal solution.\n",
      "The tPerfectIncorporation2 optimization problem had no optimal solution.\n",
      "The CommonGround_entani optimization problem had no optimal solution."
     ]
    },
    {
     "name": "stdout",
     "output_type": "stream",
     "text": [
      "\n",
      "The CommonGround optimization problem had no optimal solution.\n",
      "The CommonGround_entani optimization problem had no optimal solution.\n",
      "The tPerfectIncorporation2 optimization problem had no optimal solution."
     ]
    },
    {
     "name": "stdout",
     "output_type": "stream",
     "text": [
      "\n",
      "The CommonGround optimization problem had no optimal solution.\n",
      "The tPerfectIncorporation2 optimization problem had no optimal solution.\n",
      "The CommonGround_entani optimization problem had no optimal solution.\n",
      "The CommonGround optimization problem had no optimal solution.\n",
      "The tPerfectIncorporation2 optimization problem had no optimal solution.\n",
      "The CommonGround_entani optimization problem had no optimal solution.\n",
      "The CommonGround optimization problem had no optimal solution.\n",
      "The tPerfectIncorporation2 optimization problem had no optimal solution.\n",
      "The CommonGround optimization problem had no optimal solution."
     ]
    },
    {
     "name": "stdout",
     "output_type": "stream",
     "text": [
      "\n",
      "The CommonGround_entani optimization problem had no optimal solution.\n",
      "The CommonGround optimization problem had no optimal solution.\n",
      "The tPerfectIncorporation2 optimization problem had no optimal solution.\n",
      "The tPerfectIncorporation2 optimization problem had no optimal solution.\n",
      "The CommonGround optimization problem had no optimal solution.\n",
      "The tPerfectIncorporation2 optimization problem had no optimal solution.\n",
      "The CommonGround_entani optimization problem had no optimal solution.\n",
      "The CommonGround optimization problem had no optimal solution.\n",
      "The CommonGround_entani optimization problem had no optimal solution."
     ]
    },
    {
     "name": "stdout",
     "output_type": "stream",
     "text": [
      "\n",
      "The tPerfectIncorporation2 optimization problem had no optimal solution.\n",
      "The CommonGround optimization problem had no optimal solution.\n",
      "The CommonGround_entani optimization problem had no optimal solution.\n",
      "The CommonGround optimization problem had no optimal solution.\n",
      "The tPerfectIncorporation2 optimization problem had no optimal solution.\n",
      "The CommonGround_entani optimization problem had no optimal solution.\n",
      "The CommonGround optimization problem had no optimal solution.\n",
      "The tPerfectIncorporation2 optimization problem had no optimal solution.\n",
      "The CommonGround_entani optimization problem had no optimal solution."
     ]
    },
    {
     "name": "stdout",
     "output_type": "stream",
     "text": [
      "\n",
      "The CommonGround_entani optimization problem had no optimal solution.\n",
      "The CommonGround optimization problem had no optimal solution.\n",
      "The CommonGround optimization problem had no optimal solution.\n",
      "The CommonGround optimization problem had no optimal solution.\n",
      "The tPerfectIncorporation2 optimization problem had no optimal solution.\n",
      "The tPerfectIncorporation2 optimization problem had no optimal solution.\n",
      "The CommonGround_entani optimization problem had no optimal solution.\n",
      "The CommonGround optimization problem had no optimal solution.\n",
      "The tPerfectIncorporation2 optimization problem had no optimal solution.\n",
      "The CommonGround_entani optimization problem had no optimal solution.\n",
      "The CommonGround optimization problem had no optimal solution.\n",
      "The CommonGround_entani optimization problem had no optimal solution.\n",
      "The CommonGround_entani optimization problem had no optimal solution."
     ]
    },
    {
     "name": "stdout",
     "output_type": "stream",
     "text": [
      "\n",
      "The CommonGround optimization problem had no optimal solution.\n"
     ]
    },
    {
     "name": "stdout",
     "output_type": "stream",
     "text": [
      "The CommonGround_entani optimization problem had no optimal solution.\n",
      "The CommonGround optimization problem had no optimal solution.\n",
      "The tPerfectIncorporation2 optimization problem had no optimal solution.\n",
      "The CommonGround optimization problem had no optimal solution.\n",
      "The tPerfectIncorporation2 optimization problem had no optimal solution.\n",
      "The tPerfectIncorporation2 optimization problem had no optimal solution.\n",
      "The tPerfectIncorporation2 optimization problem had no optimal solution.\n",
      "The CommonGround_entani optimization problem had no optimal solution.\n",
      "The CommonGround optimization problem had no optimal solution.\n",
      "The tPerfectIncorporation2 optimization problem had no optimal solution.\n",
      "The CommonGround_entani optimization problem had no optimal solution.\n",
      "The CommonGround_entani optimization problem had no optimal solution."
     ]
    },
    {
     "name": "stdout",
     "output_type": "stream",
     "text": [
      "\n",
      "The CommonGround optimization problem had no optimal solution.\n",
      "The CommonGround optimization problem had no optimal solution.\n",
      "The tPerfectIncorporation2 optimization problem had no optimal solution.\n",
      "The CommonGround optimization problem had no optimal solution.\n",
      "The tPerfectIncorporation2 optimization problem had no optimal solution.\n",
      "The CommonGround_entani optimization problem had no optimal solution.\n",
      "The CommonGround optimization problem had no optimal solution.\n",
      "The tPerfectIncorporation2 optimization problem had no optimal solution.\n",
      "The CommonGround_entani optimization problem had no optimal solution."
     ]
    },
    {
     "name": "stdout",
     "output_type": "stream",
     "text": [
      "\n",
      "The CommonGround_entani optimization problem had no optimal solution.\n",
      "The CommonGround_entani optimization problem had no optimal solution.\n",
      "The CommonGround optimization problem had no optimal solution.\n",
      "The tPerfectIncorporation2 optimization problem had no optimal solution.\n"
     ]
    },
    {
     "name": "stdout",
     "output_type": "stream",
     "text": [
      "The CommonGround optimization problem had no optimal solution.\n",
      "The CommonGround optimization problem had no optimal solution.\n",
      "The tPerfectIncorporation2 optimization problem had no optimal solution.\n",
      "The tPerfectIncorporation2 optimization problem had no optimal solution.\n",
      "The CommonGround_entani optimization problem had no optimal solution.\n",
      "The CommonGround optimization problem had no optimal solution.\n",
      "The tPerfectIncorporation2 optimization problem had no optimal solution.\n",
      "The CommonGround_entani optimization problem had no optimal solution.\n",
      "The CommonGround optimization problem had no optimal solution.\n",
      "The CommonGround_entani optimization problem had no optimal solution.\n",
      "The CommonGround_entani optimization problem had no optimal solution.\n",
      "The CommonGround optimization problem had no optimal solution.\n",
      "The CommonGround optimization problem had no optimal solution.\n",
      "The tPerfectIncorporation2 optimization problem had no optimal solution.\n",
      "The tPerfectIncorporation2 optimization problem had no optimal solution.\n",
      "The tPerfectIncorporation2 optimization problem had no optimal solution.\n",
      "The CommonGround optimization problem had no optimal solution.\n",
      "The CommonGround_entani optimization problem had no optimal solution."
     ]
    },
    {
     "name": "stdout",
     "output_type": "stream",
     "text": [
      "\n",
      "The CommonGround_entani optimization problem had no optimal solution.\n",
      "The CommonGround_entani optimization problem had no optimal solution.\n",
      "The CommonGround optimization problem had no optimal solution.\n",
      "The CommonGround optimization problem had no optimal solution.\n",
      "The CommonGround optimization problem had no optimal solution.\n",
      "The tPerfectIncorporation2 optimization problem had no optimal solution.\n",
      "The tPerfectIncorporation2 optimization problem had no optimal solution.\n",
      "The tPerfectIncorporation2 optimization problem had no optimal solution.\n"
     ]
    },
    {
     "name": "stdout",
     "output_type": "stream",
     "text": [
      "The CommonGround_entani optimization problem had no optimal solution.\n",
      "The CommonGround optimization problem had no optimal solution.\n",
      "The tPerfectIncorporation2 optimization problem had no optimal solution.\n",
      "The CommonGround_entani optimization problem had no optimal solution.\n",
      "The CommonGround optimization problem had no optimal solution.\n",
      "The CommonGround_entani optimization problem had no optimal solution.\n",
      "The CommonGround optimization problem had no optimal solution.\n"
     ]
    },
    {
     "name": "stdout",
     "output_type": "stream",
     "text": [
      "The CommonGround optimization problem had no optimal solution.\n",
      "The tPerfectIncorporation2 optimization problem had no optimal solution.\n",
      "The tPerfectIncorporation2 optimization problem had no optimal solution.\n",
      "The CommonGround_entani optimization problem had no optimal solution.\n",
      "The CommonGround optimization problem had no optimal solution.\n",
      "The tPerfectIncorporation2 optimization problem had no optimal solution.\n",
      "The CommonGround_entani optimization problem had no optimal solution.\n",
      "The CommonGround optimization problem had no optimal solution.\n",
      "The tPerfectIncorporation2 optimization problem had no optimal solution.\n",
      "The CommonGround_entani optimization problem had no optimal solution.\n"
     ]
    },
    {
     "name": "stdout",
     "output_type": "stream",
     "text": [
      "The CommonGround optimization problem had no optimal solution.\n",
      "The tPerfectIncorporation2 optimization problem had no optimal solution.\n",
      "The CommonGround optimization problem had no optimal solution.\n",
      "The tPerfectIncorporation2 optimization problem had no optimal solution.\n",
      "The CommonGround_entani optimization problem had no optimal solution.\n",
      "The CommonGround_entani optimization problem had no optimal solution.\n",
      "The CommonGround optimization problem had no optimal solution.\n",
      "The CommonGround optimization problem had no optimal solution.\n",
      "The tPerfectIncorporation2 optimization problem had no optimal solution.\n",
      "The tPerfectIncorporation2 optimization problem had no optimal solution.\n",
      "The CommonGround_entani optimization problem had no optimal solution."
     ]
    },
    {
     "name": "stdout",
     "output_type": "stream",
     "text": [
      "\n",
      "The CommonGround optimization problem had no optimal solution.\n"
     ]
    },
    {
     "name": "stdout",
     "output_type": "stream",
     "text": [
      "The tPerfectIncorporation2 optimization problem had no optimal solution.\n",
      "The CommonGround_entani optimization problem had no optimal solution.\n",
      "The CommonGround_entani optimization problem had no optimal solution.\n",
      "The CommonGround optimization problem had no optimal solution.\n",
      "The tPerfectIncorporation2 optimization problem had no optimal solution.\n",
      "The CommonGround optimization problem had no optimal solution.\n",
      "The CommonGround_entani optimization problem had no optimal solution."
     ]
    },
    {
     "name": "stdout",
     "output_type": "stream",
     "text": [
      "\n",
      "The CommonGround optimization problem had no optimal solution.\n",
      "The tPerfectIncorporation2 optimization problem had no optimal solution.\n"
     ]
    },
    {
     "name": "stdout",
     "output_type": "stream",
     "text": [
      "The CommonGround_entani optimization problem had no optimal solution.\n",
      "The CommonGround_entani optimization problem had no optimal solution.\n",
      "The CommonGround optimization problem had no optimal solution.\n",
      "The CommonGround optimization problem had no optimal solution.\n",
      "The tPerfectIncorporation2 optimization problem had no optimal solution.\n",
      "The tPerfectIncorporation2 optimization problem had no optimal solution.\n",
      "The CommonGround_entani optimization problem had no optimal solution.\n",
      "The CommonGround_entani optimization problem had no optimal solution.\n",
      "The CommonGround optimization problem had no optimal solution.\n"
     ]
    },
    {
     "name": "stdout",
     "output_type": "stream",
     "text": [
      "The CommonGround optimization problem had no optimal solution.\n",
      "The tPerfectIncorporation2 optimization problem had no optimal solution.\n",
      "The tPerfectIncorporation2 optimization problem had no optimal solution.\n",
      "The CommonGround_entani optimization problem had no optimal solution.\n",
      "The CommonGround optimization problem had no optimal solution.\n",
      "The CommonGround_entani optimization problem had no optimal solution.\n",
      "The tPerfectIncorporation2 optimization problem had no optimal solution.\n",
      "The CommonGround optimization problem had no optimal solution.\n",
      "The tPerfectIncorporation2 optimization problem had no optimal solution.\n",
      "The CommonGround_entani optimization problem had no optimal solution.\n",
      "The CommonGround optimization problem had no optimal solution.\n",
      "The tPerfectIncorporation2 optimization problem had no optimal solution.\n",
      "The CommonGround_entani optimization problem had no optimal solution."
     ]
    },
    {
     "name": "stdout",
     "output_type": "stream",
     "text": [
      "\n",
      "The CommonGround optimization problem had no optimal solution.\n",
      "The CommonGround optimization problem had no optimal solution.\n",
      "The tPerfectIncorporation2 optimization problem had no optimal solution.\n",
      "The CommonGround_entani optimization problem had no optimal solution.\n",
      "The CommonGround optimization problem had no optimal solution.\n",
      "The tPerfectIncorporation2 optimization problem had no optimal solution.\n",
      "The CommonGround optimization problem had no optimal solution.\n",
      "The tPerfectIncorporation2 optimization problem had no optimal solution.\n",
      "The CommonGround_entani optimization problem had no optimal solution.\n",
      "The CommonGround_entani optimization problem had no optimal solution.\n",
      "The CommonGround optimization problem had no optimal solution.\n",
      "The CommonGround_entani optimization problem had no optimal solution."
     ]
    },
    {
     "name": "stdout",
     "output_type": "stream",
     "text": [
      "\n",
      "The CommonGround_entani optimization problem had no optimal solution.\n",
      "The CommonGround optimization problem had no optimal solution.\n",
      "The CommonGround optimization problem had no optimal solution.\n",
      "The tPerfectIncorporation2 optimization problem had no optimal solution.\n",
      "The tPerfectIncorporation2 optimization problem had no optimal solution.\n",
      "The CommonGround optimization problem had no optimal solution.\n",
      "The tPerfectIncorporation2 optimization problem had no optimal solution.\n",
      "The tPerfectIncorporation2 optimization problem had no optimal solution.\n",
      "The CommonGround_entani optimization problem had no optimal solution.\n",
      "The CommonGround_entani optimization problem had no optimal solution.\n",
      "The CommonGround_entani optimization problem had no optimal solution."
     ]
    },
    {
     "name": "stdout",
     "output_type": "stream",
     "text": [
      "\n",
      "The CommonGround optimization problem had no optimal solution.\n",
      "The CommonGround optimization problem had no optimal solution.\n",
      "The CommonGround_entani optimization problem had no optimal solution.\n",
      "The CommonGround optimization problem had no optimal solution.\n",
      "The tPerfectIncorporation2 optimization problem had no optimal solution.\n",
      "The CommonGround optimization problem had no optimal solution.\n",
      "The tPerfectIncorporation2 optimization problem had no optimal solution.\n",
      "The tPerfectIncorporation2 optimization problem had no optimal solution.\n",
      "The tPerfectIncorporation2 optimization problem had no optimal solution.\n",
      "The CommonGround_entani optimization problem had no optimal solution.\n",
      "The CommonGround_entani optimization problem had no optimal solution."
     ]
    },
    {
     "name": "stdout",
     "output_type": "stream",
     "text": [
      "\n",
      "The CommonGround_entani optimization problem had no optimal solution.\n",
      "The CommonGround optimization problem had no optimal solution.\n",
      "The CommonGround_entani optimization problem had no optimal solution.\n",
      "The CommonGround optimization problem had no optimal solution.\n",
      "The tPerfectIncorporation2 optimization problem had no optimal solution.\n",
      "The CommonGround optimization problem had no optimal solution.\n",
      "The CommonGround optimization problem had no optimal solution.\n",
      "The tPerfectIncorporation2 optimization problem had no optimal solution.\n",
      "The tPerfectIncorporation2 optimization problem had no optimal solution.\n",
      "The tPerfectIncorporation2 optimization problem had no optimal solution.\n",
      "The CommonGround_entani optimization problem had no optimal solution.\n",
      "The CommonGround optimization problem had no optimal solution.\n",
      "The CommonGround_entani optimization problem had no optimal solution.\n",
      "The CommonGround_entani optimization problem had no optimal solution."
     ]
    },
    {
     "name": "stdout",
     "output_type": "stream",
     "text": [
      "\n",
      "The CommonGround optimization problem had no optimal solution.\n",
      "The tPerfectIncorporation2 optimization problem had no optimal solution.\n",
      "The CommonGround_entani optimization problem had no optimal solution.\n",
      "The tPerfectIncorporation2 optimization problem had no optimal solution.\n",
      "The CommonGround optimization problem had no optimal solution.\n",
      "The CommonGround optimization problem had no optimal solution.\n",
      "The tPerfectIncorporation2 optimization problem had no optimal solution.\n",
      "The tPerfectIncorporation2 optimization problem had no optimal solution.\n",
      "The CommonGround_entani optimization problem had no optimal solution.\n",
      "The CommonGround optimization problem had no optimal solution.\n",
      "The CommonGround_entani optimization problem had no optimal solution.\n",
      "The CommonGround_entani optimization problem had no optimal solution.\n",
      "The tPerfectIncorporation2 optimization problem had no optimal solution.\n",
      "The CommonGround optimization problem had no optimal solution.\n",
      "The CommonGround optimization problem had no optimal solution.\n",
      "The CommonGround_entani optimization problem had no optimal solution."
     ]
    },
    {
     "name": "stdout",
     "output_type": "stream",
     "text": [
      "\n"
     ]
    },
    {
     "name": "stdout",
     "output_type": "stream",
     "text": [
      "The tPerfectIncorporation2 optimization problem had no optimal solution.\n",
      "The CommonGround optimization problem had no optimal solution.\n",
      "The tPerfectIncorporation2 optimization problem had no optimal solution.\n",
      "The tPerfectIncorporation2 optimization problem had no optimal solution.\n"
     ]
    },
    {
     "name": "stdout",
     "output_type": "stream",
     "text": [
      "The CommonGround optimization problem had no optimal solution.\n",
      "The CommonGround_entani optimization problem had no optimal solution.\n",
      "The CommonGround_entani optimization problem had no optimal solution.\n",
      "The CommonGround optimization problem had no optimal solution.\n",
      "The CommonGround optimization problem had no optimal solution.\n",
      "The tPerfectIncorporation2 optimization problem had no optimal solution.\n",
      "The tPerfectIncorporation2 optimization problem had no optimal solution.\n",
      "The CommonGround optimization problem had no optimal solution.\n",
      "The tPerfectIncorporation2 optimization problem had no optimal solution.\n",
      "The CommonGround_entani optimization problem had no optimal solution.\n",
      "The CommonGround optimization problem had no optimal solution.\n",
      "The tPerfectIncorporation2 optimization problem had no optimal solution.\n",
      "The CommonGround_entani optimization problem had no optimal solution.\n",
      "The CommonGround_entani optimization problem had no optimal solution."
     ]
    },
    {
     "name": "stdout",
     "output_type": "stream",
     "text": [
      "\n"
     ]
    },
    {
     "name": "stdout",
     "output_type": "stream",
     "text": [
      "The CommonGround optimization problem had no optimal solution.\n",
      "The CommonGround optimization problem had no optimal solution.\n",
      "The tPerfectIncorporation2 optimization problem had no optimal solution.\n",
      "The tPerfectIncorporation2 optimization problem had no optimal solution.\n",
      "The CommonGround optimization problem had no optimal solution.\n",
      "The tPerfectIncorporation2 optimization problem had no optimal solution.\n",
      "The CommonGround_entani optimization problem had no optimal solution.\n",
      "The CommonGround optimization problem had no optimal solution.\n",
      "The tPerfectIncorporation2 optimization problem had no optimal solution.\n",
      "The CommonGround_entani optimization problem had no optimal solution."
     ]
    },
    {
     "name": "stdout",
     "output_type": "stream",
     "text": [
      "\n",
      "The CommonGround_entani optimization problem had no optimal solution.\n",
      "The CommonGround optimization problem had no optimal solution.\n",
      "The CommonGround optimization problem had no optimal solution.\n",
      "The tPerfectIncorporation2 optimization problem had no optimal solution.\n"
     ]
    },
    {
     "name": "stdout",
     "output_type": "stream",
     "text": [
      "The CommonGround_entani optimization problem had no optimal solution.\n",
      "The tPerfectIncorporation2 optimization problem had no optimal solution.\n",
      "The CommonGround optimization problem had no optimal solution.\n",
      "The tPerfectIncorporation2 optimization problem had no optimal solution.\n",
      "The CommonGround_entani optimization problem had no optimal solution.\n",
      "The CommonGround optimization problem had no optimal solution.\n",
      "The tPerfectIncorporation2 optimization problem had no optimal solution.\n",
      "The CommonGround optimization problem had no optimal solution.\n",
      "The CommonGround_entani optimization problem had no optimal solution.\n",
      "The CommonGround optimization problem had no optimal solution.\n",
      "The tPerfectIncorporation2 optimization problem had no optimal solution.\n",
      "The tPerfectIncorporation2 optimization problem had no optimal solution.\n",
      "The CommonGround_entani optimization problem had no optimal solution.\n",
      "The CommonGround optimization problem had no optimal solution.\n",
      "The CommonGround_entani optimization problem had no optimal solution."
     ]
    },
    {
     "name": "stdout",
     "output_type": "stream",
     "text": [
      "\n",
      "The tPerfectIncorporation2 optimization problem had no optimal solution.\n",
      "The CommonGround optimization problem had no optimal solution."
     ]
    },
    {
     "name": "stdout",
     "output_type": "stream",
     "text": [
      "\n",
      "The CommonGround_entani optimization problem had no optimal solution.\n",
      "The tPerfectIncorporation2 optimization problem had no optimal solution.\n",
      "The CommonGround optimization problem had no optimal solution.\n",
      "The tPerfectIncorporation2 optimization problem had no optimal solution.\n",
      "The CommonGround_entani optimization problem had no optimal solution.\n",
      "The CommonGround optimization problem had no optimal solution.\n",
      "The tPerfectIncorporation2 optimization problem had no optimal solution.\n",
      "The CommonGround_entani optimization problem had no optimal solution.\n",
      "The CommonGround_entani optimization problem had no optimal solution."
     ]
    },
    {
     "name": "stdout",
     "output_type": "stream",
     "text": [
      "\n",
      "The CommonGround_entani optimization problem had no optimal solution.\n",
      "The CommonGround optimization problem had no optimal solution.\n",
      "The CommonGround optimization problem had no optimal solution.\n",
      "The CommonGround optimization problem had no optimal solution.\n",
      "The tPerfectIncorporation2 optimization problem had no optimal solution.\n",
      "The tPerfectIncorporation2 optimization problem had no optimal solution."
     ]
    },
    {
     "name": "stdout",
     "output_type": "stream",
     "text": [
      "\n",
      "The tPerfectIncorporation2 optimization problem had no optimal solution.\n",
      "The CommonGround_entani optimization problem had no optimal solution.\n",
      "The CommonGround optimization problem had no optimal solution.\n",
      "The tPerfectIncorporation2 optimization problem had no optimal solution.\n",
      "The CommonGround_entani optimization problem had no optimal solution.\n",
      "The CommonGround_entani optimization problem had no optimal solution."
     ]
    },
    {
     "name": "stdout",
     "output_type": "stream",
     "text": [
      "\n",
      "The CommonGround optimization problem had no optimal solution.\n",
      "The CommonGround_entani optimization problem had no optimal solution.\n",
      "The CommonGround optimization problem had no optimal solution.\n",
      "The tPerfectIncorporation2 optimization problem had no optimal solution.\n",
      "The tPerfectIncorporation2 optimization problem had no optimal solution.\n",
      "The CommonGround optimization problem had no optimal solution.\n",
      "The tPerfectIncorporation2 optimization problem had no optimal solution.\n",
      "The CommonGround optimization problem had no optimal solution.\n",
      "The CommonGround_entani optimization problem had no optimal solution.\n",
      "The CommonGround optimization problem had no optimal solution.\n",
      "The CommonGround_entani optimization problem had no optimal solution."
     ]
    },
    {
     "name": "stdout",
     "output_type": "stream",
     "text": [
      "\n",
      "The CommonGround optimization problem had no optimal solution.\n",
      "The CommonGround_entani optimization problem had no optimal solution.\n",
      "The tPerfectIncorporation2 optimization problem had no optimal solution.\n",
      "The CommonGround optimization problem had no optimal solution.\n",
      "The tPerfectIncorporation2 optimization problem had no optimal solution.\n",
      "The CommonGround_entani optimization problem had no optimal solution.\n",
      "The CommonGround optimization problem had no optimal solution.\n",
      "The tPerfectIncorporation2 optimization problem had no optimal solution.\n",
      "The CommonGround optimization problem had no optimal solution.\n",
      "The tPerfectIncorporation2 optimization problem had no optimal solution.\n",
      "The CommonGround_entani optimization problem had no optimal solution."
     ]
    },
    {
     "name": "stdout",
     "output_type": "stream",
     "text": [
      "\n",
      "The CommonGround optimization problem had no optimal solution.\n",
      "The CommonGround_entani optimization problem had no optimal solution.\n",
      "The CommonGround optimization problem had no optimal solution.\n",
      "The CommonGround_entani optimization problem had no optimal solution.\n",
      "The tPerfectIncorporation2 optimization problem had no optimal solution.\n",
      "The CommonGround_entani optimization problem had no optimal solution.\n",
      "The tPerfectIncorporation2 optimization problem had no optimal solution.\n",
      "The CommonGround optimization problem had no optimal solution.\n",
      "The tPerfectIncorporation2 optimization problem had no optimal solution.\n",
      "The CommonGround optimization problem had no optimal solution.\n",
      "The tPerfectIncorporation2 optimization problem had no optimal solution.\n",
      "The CommonGround optimization problem had no optimal solution."
     ]
    },
    {
     "name": "stdout",
     "output_type": "stream",
     "text": [
      "\n",
      "The CommonGround_entani optimization problem had no optimal solution.\n",
      "The CommonGround_entani optimization problem had no optimal solution.\n",
      "The tPerfectIncorporation2 optimization problem had no optimal solution.\n",
      "The CommonGround optimization problem had no optimal solution.\n",
      "The tPerfectIncorporation2 optimization problem had no optimal solution.\n",
      "The CommonGround_entani optimization problem had no optimal solution.\n",
      "The CommonGround optimization problem had no optimal solution.\n",
      "The CommonGround optimization problem had no optimal solution.\n",
      "The tPerfectIncorporation2 optimization problem had no optimal solution.\n",
      "The tPerfectIncorporation2 optimization problem had no optimal solution.\n",
      "The CommonGround_entani optimization problem had no optimal solution.\n",
      "The CommonGround optimization problem had no optimal solution.\n",
      "The tPerfectIncorporation2 optimization problem had no optimal solution.\n",
      "The CommonGround_entani optimization problem had no optimal solution.\n",
      "The CommonGround optimization problem had no optimal solution.\n",
      "The CommonGround_entani optimization problem had no optimal solution.\n",
      "The tPerfectIncorporation2 optimization problem had no optimal solution.\n",
      "The CommonGround_entani optimization problem had no optimal solution."
     ]
    },
    {
     "name": "stdout",
     "output_type": "stream",
     "text": [
      "\n"
     ]
    },
    {
     "name": "stdout",
     "output_type": "stream",
     "text": [
      "The CommonGround optimization problem had no optimal solution.\n",
      "The CommonGround optimization problem had no optimal solution.\n",
      "The tPerfectIncorporation2 optimization problem had no optimal solution.\n",
      "The tPerfectIncorporation2 optimization problem had no optimal solution.\n",
      "The CommonGround_entani optimization problem had no optimal solution.\n",
      "The CommonGround optimization problem had no optimal solution.\n",
      "The tPerfectIncorporation2 optimization problem had no optimal solution.\n",
      "The CommonGround_entani optimization problem had no optimal solution.\n",
      "The CommonGround optimization problem had no optimal solution.\n",
      "The tPerfectIncorporation2 optimization problem had no optimal solution.\n",
      "The CommonGround_entani optimization problem had no optimal solution.\n",
      "The CommonGround_entani optimization problem had no optimal solution."
     ]
    },
    {
     "name": "stdout",
     "output_type": "stream",
     "text": [
      "\n",
      "The CommonGround optimization problem had no optimal solution.\n",
      "The CommonGround optimization problem had no optimal solution.\n",
      "The tPerfectIncorporation2 optimization problem had no optimal solution.\n",
      "The tPerfectIncorporation2 optimization problem had no optimal solution.\n"
     ]
    },
    {
     "name": "stdout",
     "output_type": "stream",
     "text": [
      "The CommonGround_entani optimization problem had no optimal solution.\n",
      "The CommonGround optimization problem had no optimal solution.\n",
      "The tPerfectIncorporation2 optimization problem had no optimal solution.\n",
      "The CommonGround_entani optimization problem had no optimal solution.\n",
      "The CommonGround optimization problem had no optimal solution.\n",
      "The CommonGround_entani optimization problem had no optimal solution.\n",
      "The tPerfectIncorporation2 optimization problem had no optimal solution.\n",
      "The CommonGround_entani optimization problem had no optimal solution.\n"
     ]
    },
    {
     "name": "stdout",
     "output_type": "stream",
     "text": [
      "The CommonGround optimization problem had no optimal solution.\n",
      "The CommonGround optimization problem had no optimal solution.\n",
      "The tPerfectIncorporation2 optimization problem had no optimal solution.\n",
      "The tPerfectIncorporation2 optimization problem had no optimal solution.\n",
      "The CommonGround_entani optimization problem had no optimal solution.\n",
      "The CommonGround optimization problem had no optimal solution.\n",
      "The tPerfectIncorporation2 optimization problem had no optimal solution.\n",
      "The CommonGround_entani optimization problem had no optimal solution.\n",
      "The CommonGround optimization problem had no optimal solution.\n",
      "The CommonGround_entani optimization problem had no optimal solution.\n",
      "The tPerfectIncorporation2 optimization problem had no optimal solution.\n",
      "The CommonGround_entani optimization problem had no optimal solution."
     ]
    },
    {
     "name": "stdout",
     "output_type": "stream",
     "text": [
      "\n",
      "The CommonGround optimization problem had no optimal solution.\n",
      "The CommonGround optimization problem had no optimal solution.\n",
      "The tPerfectIncorporation2 optimization problem had no optimal solution.\n",
      "The tPerfectIncorporation2 optimization problem had no optimal solution.\n"
     ]
    },
    {
     "name": "stdout",
     "output_type": "stream",
     "text": [
      "The CommonGround_entani optimization problem had no optimal solution.\n",
      "The CommonGround optimization problem had no optimal solution.\n",
      "The tPerfectIncorporation2 optimization problem had no optimal solution.\n",
      "The CommonGround_entani optimization problem had no optimal solution.\n",
      "The CommonGround optimization problem had no optimal solution.\n",
      "The CommonGround_entani optimization problem had no optimal solution.\n",
      "The CommonGround_entani optimization problem had no optimal solution."
     ]
    },
    {
     "name": "stdout",
     "output_type": "stream",
     "text": [
      "\n",
      "The CommonGround optimization problem had no optimal solution.\n",
      "The tPerfectIncorporation2 optimization problem had no optimal solution.\n",
      "The CommonGround optimization problem had no optimal solution.\n",
      "The tPerfectIncorporation2 optimization problem had no optimal solution.\n",
      "The tPerfectIncorporation2 optimization problem had no optimal solution.\n",
      "The CommonGround_entani optimization problem had no optimal solution.\n",
      "The CommonGround optimization problem had no optimal solution.\n",
      "The tPerfectIncorporation2 optimization problem had no optimal solution.\n",
      "The CommonGround_entani optimization problem had no optimal solution."
     ]
    },
    {
     "name": "stdout",
     "output_type": "stream",
     "text": [
      "\n"
     ]
    },
    {
     "name": "stdout",
     "output_type": "stream",
     "text": [
      "The CommonGround optimization problem had no optimal solution.\n",
      "The CommonGround_entani optimization problem had no optimal solution.\n",
      "The CommonGround_entani optimization problem had no optimal solution.\n",
      "The tPerfectIncorporation2 optimization problem had no optimal solution.\n",
      "The CommonGround optimization problem had no optimal solution.\n",
      "The CommonGround optimization problem had no optimal solution.\n",
      "The tPerfectIncorporation2 optimization problem had no optimal solution.\n",
      "The tPerfectIncorporation2 optimization problem had no optimal solution."
     ]
    },
    {
     "name": "stdout",
     "output_type": "stream",
     "text": [
      "\n",
      "The CommonGround_entani optimization problem had no optimal solution.\n",
      "The CommonGround optimization problem had no optimal solution.\n",
      "The tPerfectIncorporation2 optimization problem had no optimal solution.\n",
      "The CommonGround_entani optimization problem had no optimal solution."
     ]
    },
    {
     "name": "stdout",
     "output_type": "stream",
     "text": [
      "\n",
      "The CommonGround_entani optimization problem had no optimal solution.\n",
      "The CommonGround optimization problem had no optimal solution.\n",
      "The CommonGround optimization problem had no optimal solution.\n",
      "The tPerfectIncorporation2 optimization problem had no optimal solution.\n",
      "The tPerfectIncorporation2 optimization problem had no optimal solution.\n",
      "The CommonGround_entani optimization problem had no optimal solution.\n",
      "The CommonGround_entani optimization problem had no optimal solution.\n",
      "The CommonGround optimization problem had no optimal solution.\n",
      "The CommonGround optimization problem had no optimal solution.\n",
      "The tPerfectIncorporation2 optimization problem had no optimal solution.\n",
      "The tPerfectIncorporation2 optimization problem had no optimal solution.\n",
      "The CommonGround_entani optimization problem had no optimal solution."
     ]
    },
    {
     "name": "stdout",
     "output_type": "stream",
     "text": [
      "\n",
      "The CommonGround optimization problem had no optimal solution.\n",
      "The CommonGround_entani optimization problem had no optimal solution.\n",
      "The CommonGround_entani optimization problem had no optimal solution.\n",
      "The tPerfectIncorporation2 optimization problem had no optimal solution.\n",
      "The CommonGround optimization problem had no optimal solution.\n",
      "The CommonGround optimization problem had no optimal solution.\n",
      "The tPerfectIncorporation2 optimization problem had no optimal solution.\n",
      "The tPerfectIncorporation2 optimization problem had no optimal solution.\n",
      "The CommonGround_entani optimization problem had no optimal solution.\n",
      "The CommonGround_entani optimization problem had no optimal solution."
     ]
    },
    {
     "name": "stdout",
     "output_type": "stream",
     "text": [
      "\n",
      "The CommonGround optimization problem had no optimal solution.\n",
      "The CommonGround optimization problem had no optimal solution.\n",
      "The tPerfectIncorporation2 optimization problem had no optimal solution.\n",
      "The tPerfectIncorporation2 optimization problem had no optimal solution.\n",
      "The CommonGround optimization problem had no optimal solution.\n",
      "The tPerfectIncorporation2 optimization problem had no optimal solution.\n",
      "The CommonGround_entani optimization problem had no optimal solution."
     ]
    },
    {
     "name": "stdout",
     "output_type": "stream",
     "text": [
      "\n",
      "The CommonGround optimization problem had no optimal solution.\n",
      "The CommonGround_entani optimization problem had no optimal solution.\n",
      "The CommonGround optimization problem had no optimal solution.\n",
      "The CommonGround_entani optimization problem had no optimal solution.\n",
      "The CommonGround_entani optimization problem had no optimal solution.\n",
      "The tPerfectIncorporation2 optimization problem had no optimal solution.\n",
      "The CommonGround optimization problem had no optimal solution.\n",
      "The tPerfectIncorporation2 optimization problem had no optimal solution.\n",
      "The CommonGround optimization problem had no optimal solution.\n",
      "The tPerfectIncorporation2 optimization problem had no optimal solution.\n",
      "The tPerfectIncorporation2 optimization problem had no optimal solution.\n",
      "The CommonGround_entani optimization problem had no optimal solution.\n",
      "The CommonGround optimization problem had no optimal solution.\n",
      "The CommonGround_entani optimization problem had no optimal solution."
     ]
    },
    {
     "name": "stdout",
     "output_type": "stream",
     "text": [
      "\n",
      "The tPerfectIncorporation2 optimization problem had no optimal solution.\n",
      "The CommonGround_entani optimization problem had no optimal solution.\n",
      "The CommonGround_entani optimization problem had no optimal solution.\n",
      "The CommonGround optimization problem had no optimal solution."
     ]
    },
    {
     "name": "stdout",
     "output_type": "stream",
     "text": [
      "\n",
      "The CommonGround optimization problem had no optimal solution.\n",
      "The tPerfectIncorporation2 optimization problem had no optimal solution.\n",
      "The CommonGround optimization problem had no optimal solution.\n",
      "The tPerfectIncorporation2 optimization problem had no optimal solution.\n",
      "The tPerfectIncorporation2 optimization problem had no optimal solution.\n",
      "The CommonGround_entani optimization problem had no optimal solution.\n",
      "The CommonGround optimization problem had no optimal solution.\n",
      "The tPerfectIncorporation2 optimization problem had no optimal solution.\n",
      "The CommonGround_entani optimization problem had no optimal solution.\n",
      "The CommonGround optimization problem had no optimal solution.\n",
      "The CommonGround_entani optimization problem had no optimal solution."
     ]
    },
    {
     "name": "stdout",
     "output_type": "stream",
     "text": [
      "\n",
      "The CommonGround_entani optimization problem had no optimal solution.\n",
      "The CommonGround optimization problem had no optimal solution.\n",
      "The tPerfectIncorporation2 optimization problem had no optimal solution.\n",
      "The tPerfectIncorporation2 optimization problem had no optimal solution.\n",
      "The CommonGround_entani optimization problem had no optimal solution.\n",
      "The CommonGround optimization problem had no optimal solution.\n",
      "The tPerfectIncorporation2 optimization problem had no optimal solution.\n",
      "The CommonGround optimization problem had no optimal solution.\n",
      "The tPerfectIncorporation2 optimization problem had no optimal solution.\n",
      "The CommonGround_entani optimization problem had no optimal solution.\n",
      "The CommonGround optimization problem had no optimal solution.\n",
      "The CommonGround_entani optimization problem had no optimal solution.\n",
      "The tPerfectIncorporation2 optimization problem had no optimal solution.\n",
      "The CommonGround_entani optimization problem had no optimal solution.\n",
      "The CommonGround optimization problem had no optimal solution.\n",
      "The CommonGround_entani optimization problem had no optimal solution."
     ]
    },
    {
     "name": "stdout",
     "output_type": "stream",
     "text": [
      "\n",
      "The tPerfectIncorporation2 optimization problem had no optimal solution.\n",
      "The CommonGround optimization problem had no optimal solution.\n",
      "The CommonGround optimization problem had no optimal solution."
     ]
    },
    {
     "name": "stdout",
     "output_type": "stream",
     "text": [
      "\n",
      "The tPerfectIncorporation2 optimization problem had no optimal solution.\n",
      "The tPerfectIncorporation2 optimization problem had no optimal solution.\n"
     ]
    },
    {
     "name": "stdout",
     "output_type": "stream",
     "text": [
      "The CommonGround_entani optimization problem had no optimal solution.\n",
      "The CommonGround optimization problem had no optimal solution.\n",
      "The CommonGround_entani optimization problem had no optimal solution.\n",
      "The CommonGround optimization problem had no optimal solution.\n",
      "The CommonGround_entani optimization problem had no optimal solution.\n",
      "The tPerfectIncorporation2 optimization problem had no optimal solution.\n",
      "The tPerfectIncorporation2 optimization problem had no optimal solution.\n",
      "The CommonGround optimization problem had no optimal solution.\n",
      "The tPerfectIncorporation2 optimization problem had no optimal solution.\n",
      "The CommonGround_entani optimization problem had no optimal solution.\n",
      "The CommonGround optimization problem had no optimal solution.\n",
      "The tPerfectIncorporation2 optimization problem had no optimal solution.\n",
      "The CommonGround_entani optimization problem had no optimal solution.\n",
      "The CommonGround optimization problem had no optimal solution.\n",
      "The CommonGround_entani optimization problem had no optimal solution.\n",
      "The CommonGround optimization problem had no optimal solution.\n",
      "The tPerfectIncorporation2 optimization problem had no optimal solution.\n",
      "The CommonGround_entani optimization problem had no optimal solution.\n",
      "The CommonGround optimization problem had no optimal solution.\n",
      "The tPerfectIncorporation2 optimization problem had no optimal solution.\n",
      "The CommonGround_entani optimization problem had no optimal solution."
     ]
    },
    {
     "name": "stdout",
     "output_type": "stream",
     "text": [
      "\n",
      "The CommonGround optimization problem had no optimal solution.\n",
      "The tPerfectIncorporation2 optimization problem had no optimal solution.\n"
     ]
    },
    {
     "name": "stdout",
     "output_type": "stream",
     "text": [
      "The CommonGround_entani optimization problem had no optimal solution.\n",
      "The CommonGround optimization problem had no optimal solution.\n",
      "The CommonGround_entani optimization problem had no optimal solution.\n",
      "The CommonGround optimization problem had no optimal solution.\n",
      "The CommonGround optimization problem had no optimal solution.\n",
      "The tPerfectIncorporation2 optimization problem had no optimal solution.\n",
      "The tPerfectIncorporation2 optimization problem had no optimal solution.\n",
      "The tPerfectIncorporation2 optimization problem had no optimal solution.\n",
      "The CommonGround_entani optimization problem had no optimal solution.\n",
      "The CommonGround optimization problem had no optimal solution.\n",
      "The tPerfectIncorporation2 optimization problem had no optimal solution.\n",
      "The CommonGround_entani optimization problem had no optimal solution.\n",
      "The CommonGround optimization problem had no optimal solution.\n"
     ]
    },
    {
     "name": "stdout",
     "output_type": "stream",
     "text": [
      "The tPerfectIncorporation2 optimization problem had no optimal solution.\n",
      "The CommonGround_entani optimization problem had no optimal solution.\n",
      "The CommonGround_entani optimization problem had no optimal solution.\n",
      "The CommonGround optimization problem had no optimal solution.\n",
      "The CommonGround_entani optimization problem had no optimal solution.\n",
      "The tPerfectIncorporation2 optimization problem had no optimal solution.\n",
      "The CommonGround optimization problem had no optimal solution.\n",
      "The CommonGround optimization problem had no optimal solution.\n",
      "The tPerfectIncorporation2 optimization problem had no optimal solution.\n",
      "The tPerfectIncorporation2 optimization problem had no optimal solution.\n",
      "The CommonGround_entani optimization problem had no optimal solution."
     ]
    },
    {
     "name": "stdout",
     "output_type": "stream",
     "text": [
      "\n",
      "The CommonGround optimization problem had no optimal solution.\n",
      "The tPerfectIncorporation2 optimization problem had no optimal solution.\n",
      "The CommonGround optimization problem had no optimal solution.\n",
      "The CommonGround_entani optimization problem had no optimal solution.\n",
      "The CommonGround optimization problem had no optimal solution.\n",
      "The CommonGround optimization problem had no optimal solution.\n",
      "The tPerfectIncorporation2 optimization problem had no optimal solution.\n",
      "The tPerfectIncorporation2 optimization problem had no optimal solution.\n",
      "The CommonGround_entani optimization problem had no optimal solution."
     ]
    },
    {
     "name": "stdout",
     "output_type": "stream",
     "text": [
      "\n",
      "The CommonGround optimization problem had no optimal solution.\n"
     ]
    },
    {
     "name": "stdout",
     "output_type": "stream",
     "text": [
      "The tPerfectIncorporation2 optimization problem had no optimal solution.\n",
      "The CommonGround_entani optimization problem had no optimal solution.\n",
      "The CommonGround optimization problem had no optimal solution.\n",
      "The CommonGround_entani optimization problem had no optimal solution.\n",
      "The CommonGround_entani optimization problem had no optimal solution.\n",
      "The CommonGround optimization problem had no optimal solution.\n",
      "The CommonGround optimization problem had no optimal solution.\n",
      "The tPerfectIncorporation2 optimization problem had no optimal solution.\n",
      "The tPerfectIncorporation2 optimization problem had no optimal solution.\n",
      "The CommonGround_entani optimization problem had no optimal solution."
     ]
    },
    {
     "name": "stdout",
     "output_type": "stream",
     "text": [
      "\n",
      "The CommonGround optimization problem had no optimal solution.\n",
      "The tPerfectIncorporation2 optimization problem had no optimal solution.\n"
     ]
    },
    {
     "name": "stdout",
     "output_type": "stream",
     "text": [
      "The CommonGround optimization problem had no optimal solution.\n",
      "The tPerfectIncorporation2 optimization problem had no optimal solution.\n",
      "The CommonGround_entani optimization problem had no optimal solution.\n",
      "The CommonGround optimization problem had no optimal solution.\n",
      "The tPerfectIncorporation2 optimization problem had no optimal solution.\n",
      "The CommonGround optimization problem had no optimal solution.\n",
      "The CommonGround_entani optimization problem had no optimal solution.\n",
      "The CommonGround_entani optimization problem had no optimal solution.\n",
      "The CommonGround optimization problem had no optimal solution.\n",
      "The CommonGround optimization problem had no optimal solution.\n",
      "The tPerfectIncorporation2 optimization problem had no optimal solution.\n",
      "The tPerfectIncorporation2 optimization problem had no optimal solution.\n",
      "The CommonGround_entani optimization problem had no optimal solution.\n",
      "The CommonGround optimization problem had no optimal solution.\n",
      "The tPerfectIncorporation2 optimization problem had no optimal solution.\n",
      "The CommonGround_entani optimization problem had no optimal solution."
     ]
    },
    {
     "name": "stdout",
     "output_type": "stream",
     "text": [
      "\n",
      "The CommonGround optimization problem had no optimal solution.\n",
      "The tPerfectIncorporation2 optimization problem had no optimal solution.\n",
      "The CommonGround_entani optimization problem had no optimal solution.\n",
      "The CommonGround optimization problem had no optimal solution.\n",
      "The CommonGround_entani optimization problem had no optimal solution.\n",
      "The tPerfectIncorporation2 optimization problem had no optimal solution.\n",
      "The CommonGround optimization problem had no optimal solution.\n",
      "The CommonGround_entani optimization problem had no optimal solution.\n",
      "The tPerfectIncorporation2 optimization problem had no optimal solution.\n",
      "The CommonGround optimization problem had no optimal solution.\n",
      "The tPerfectIncorporation2 optimization problem had no optimal solution.\n",
      "The CommonGround_entani optimization problem had no optimal solution."
     ]
    },
    {
     "name": "stdout",
     "output_type": "stream",
     "text": [
      "\n",
      "The CommonGround optimization problem had no optimal solution.\n",
      "The CommonGround_entani optimization problem had no optimal solution.\n",
      "The tPerfectIncorporation2 optimization problem had no optimal solution.\n",
      "The CommonGround optimization problem had no optimal solution.\n",
      "The CommonGround_entani optimization problem had no optimal solution.\n",
      "The tPerfectIncorporation2 optimization problem had no optimal solution.\n",
      "The CommonGround optimization problem had no optimal solution.\n",
      "The CommonGround_entani optimization problem had no optimal solution.\n",
      "The CommonGround optimization problem had no optimal solution.\n",
      "The tPerfectIncorporation2 optimization problem had no optimal solution.\n",
      "The tPerfectIncorporation2 optimization problem had no optimal solution.\n",
      "The CommonGround_entani optimization problem had no optimal solution."
     ]
    },
    {
     "name": "stdout",
     "output_type": "stream",
     "text": [
      "\n",
      "The CommonGround optimization problem had no optimal solution.\n",
      "The tPerfectIncorporation2 optimization problem had no optimal solution.\n",
      "The CommonGround_entani optimization problem had no optimal solution.\n",
      "The CommonGround optimization problem had no optimal solution.\n",
      "The CommonGround_entani optimization problem had no optimal solution.\n",
      "The tPerfectIncorporation2 optimization problem had no optimal solution.\n",
      "The CommonGround_entani optimization problem had no optimal solution.\n",
      "The CommonGround optimization problem had no optimal solution.\n",
      "The CommonGround optimization problem had no optimal solution.\n",
      "The tPerfectIncorporation2 optimization problem had no optimal solution.\n",
      "The tPerfectIncorporation2 optimization problem had no optimal solution.\n",
      "The CommonGround_entani optimization problem had no optimal solution."
     ]
    },
    {
     "name": "stdout",
     "output_type": "stream",
     "text": [
      "\n",
      "The CommonGround optimization problem had no optimal solution.\n",
      "The tPerfectIncorporation2 optimization problem had no optimal solution.\n",
      "The CommonGround optimization problem had no optimal solution.\n",
      "The CommonGround_entani optimization problem had no optimal solution.\n",
      "The CommonGround_entani optimization problem had no optimal solution.\n",
      "The CommonGround optimization problem had no optimal solution.\n",
      "The CommonGround optimization problem had no optimal solution.\n",
      "The tPerfectIncorporation2 optimization problem had no optimal solution.\n",
      "The tPerfectIncorporation2 optimization problem had no optimal solution.\n",
      "The CommonGround_entani optimization problem had no optimal solution."
     ]
    },
    {
     "name": "stdout",
     "output_type": "stream",
     "text": [
      "\n",
      "The CommonGround optimization problem had no optimal solution.\n",
      "The tPerfectIncorporation2 optimization problem had no optimal solution.\n"
     ]
    },
    {
     "name": "stdout",
     "output_type": "stream",
     "text": [
      "The CommonGround optimization problem had no optimal solution.\n",
      "The CommonGround_entani optimization problem had no optimal solution.\n",
      "The CommonGround optimization problem had no optimal solution.\n",
      "The CommonGround optimization problem had no optimal solution.\n",
      "The tPerfectIncorporation2 optimization problem had no optimal solution.\n",
      "The tPerfectIncorporation2 optimization problem had no optimal solution.\n",
      "The CommonGround_entani optimization problem had no optimal solution.\n",
      "The CommonGround optimization problem had no optimal solution.\n",
      "The tPerfectIncorporation2 optimization problem had no optimal solution.\n",
      "The CommonGround_entani optimization problem had no optimal solution.\n",
      "The CommonGround optimization problem had no optimal solution.\n",
      "The tPerfectIncorporation2 optimization problem had no optimal solution.\n",
      "The CommonGround_entani optimization problem had no optimal solution.\n",
      "The CommonGround optimization problem had no optimal solution.\n",
      "The tPerfectIncorporation2 optimization problem had no optimal solution.\n",
      "The CommonGround_entani optimization problem had no optimal solution."
     ]
    },
    {
     "name": "stdout",
     "output_type": "stream",
     "text": [
      "\n",
      "The CommonGround optimization problem had no optimal solution.\n",
      "The CommonGround optimization problem had no optimal solution.\n",
      "The tPerfectIncorporation2 optimization problem had no optimal solution."
     ]
    },
    {
     "name": "stdout",
     "output_type": "stream",
     "text": [
      "\n",
      "The tPerfectIncorporation2 optimization problem had no optimal solution.\n",
      "The CommonGround_entani optimization problem had no optimal solution.\n",
      "The CommonGround_entani optimization problem had no optimal solution.\n",
      "The CommonGround optimization problem had no optimal solution.\n",
      "The CommonGround optimization problem had no optimal solution.\n",
      "The tPerfectIncorporation2 optimization problem had no optimal solution.\n",
      "The tPerfectIncorporation2 optimization problem had no optimal solution.\n",
      "The CommonGround_entani optimization problem had no optimal solution."
     ]
    },
    {
     "name": "stdout",
     "output_type": "stream",
     "text": [
      "\n",
      "The CommonGround_entani optimization problem had no optimal solution.\n",
      "The CommonGround optimization problem had no optimal solution.\n",
      "The tPerfectIncorporation2 optimization problem had no optimal solution.\n",
      "The CommonGround optimization problem had no optimal solution.\n",
      "The tPerfectIncorporation2 optimization problem had no optimal solution.\n",
      "The CommonGround_entani optimization problem had no optimal solution.\n",
      "The CommonGround_entani optimization problem had no optimal solution.\n",
      "The CommonGround optimization problem had no optimal solution.\n",
      "The CommonGround optimization problem had no optimal solution.\n",
      "The tPerfectIncorporation2 optimization problem had no optimal solution.\n",
      "The tPerfectIncorporation2 optimization problem had no optimal solution.\n",
      "The CommonGround_entani optimization problem had no optimal solution."
     ]
    },
    {
     "name": "stdout",
     "output_type": "stream",
     "text": [
      "\n"
     ]
    },
    {
     "name": "stdout",
     "output_type": "stream",
     "text": [
      "The CommonGround_entani optimization problem had no optimal solution.\n",
      "The CommonGround optimization problem had no optimal solution.\n",
      "The tPerfectIncorporation2 optimization problem had no optimal solution.\n",
      "The CommonGround optimization problem had no optimal solution.\n",
      "The tPerfectIncorporation2 optimization problem had no optimal solution.\n",
      "The CommonGround_entani optimization problem had no optimal solution.\n",
      "The CommonGround_entani optimization problem had no optimal solution.\n",
      "The CommonGround optimization problem had no optimal solution.\n",
      "The CommonGround optimization problem had no optimal solution.\n",
      "The tPerfectIncorporation2 optimization problem had no optimal solution.\n",
      "The tPerfectIncorporation2 optimization problem had no optimal solution.\n",
      "The CommonGround_entani optimization problem had no optimal solution."
     ]
    },
    {
     "name": "stdout",
     "output_type": "stream",
     "text": [
      "\n",
      "The CommonGround_entani optimization problem had no optimal solution.\n",
      "The CommonGround optimization problem had no optimal solution.\n",
      "The CommonGround optimization problem had no optimal solution.\n"
     ]
    },
    {
     "name": "stdout",
     "output_type": "stream",
     "text": [
      "The tPerfectIncorporation2 optimization problem had no optimal solution.\n",
      "The CommonGround_entani optimization problem had no optimal solution.\n",
      "The CommonGround_entani optimization problem had no optimal solution.\n",
      "The CommonGround optimization problem had no optimal solution.\n",
      "The CommonGround optimization problem had no optimal solution.\n",
      "The tPerfectIncorporation2 optimization problem had no optimal solution.\n",
      "The tPerfectIncorporation2 optimization problem had no optimal solution.\n",
      "The CommonGround_entani optimization problem had no optimal solution.\n",
      "The CommonGround_entani optimization problem had no optimal solution."
     ]
    },
    {
     "name": "stdout",
     "output_type": "stream",
     "text": [
      "\n",
      "The CommonGround optimization problem had no optimal solution.\n",
      "The CommonGround optimization problem had no optimal solution.\n",
      "The tPerfectIncorporation2 optimization problem had no optimal solution.\n",
      "The tPerfectIncorporation2 optimization problem had no optimal solution.\n",
      "The CommonGround_entani optimization problem had no optimal solution.\n",
      "The CommonGround_entani optimization problem had no optimal solution.\n",
      "The CommonGround optimization problem had no optimal solution.\n",
      "The CommonGround optimization problem had no optimal solution.\n",
      "The tPerfectIncorporation2 optimization problem had no optimal solution.\n",
      "The CommonGround_entani optimization problem had no optimal solution."
     ]
    },
    {
     "name": "stdout",
     "output_type": "stream",
     "text": [
      "\n",
      "The CommonGround optimization problem had no optimal solution.\n",
      "The CommonGround optimization problem had no optimal solution.\n",
      "The tPerfectIncorporation2 optimization problem had no optimal solution.\n",
      "The tPerfectIncorporation2 optimization problem had no optimal solution.\n",
      "The CommonGround_entani optimization problem had no optimal solution.\n",
      "The CommonGround optimization problem had no optimal solution.\n",
      "The CommonGround_entani optimization problem had no optimal solution.\n",
      "The tPerfectIncorporation2 optimization problem had no optimal solution.\n",
      "The CommonGround optimization problem had no optimal solution.\n",
      "The tPerfectIncorporation2 optimization problem had no optimal solution.\n",
      "The CommonGround_entani optimization problem had no optimal solution."
     ]
    },
    {
     "name": "stdout",
     "output_type": "stream",
     "text": [
      "\n",
      "The CommonGround optimization problem had no optimal solution.\n",
      "The tPerfectIncorporation2 optimization problem had no optimal solution.\n"
     ]
    },
    {
     "name": "stdout",
     "output_type": "stream",
     "text": [
      "The CommonGround_entani optimization problem had no optimal solution.\n",
      "The CommonGround optimization problem had no optimal solution.\n",
      "The tPerfectIncorporation2 optimization problem had no optimal solution.\n",
      "The CommonGround_entani optimization problem had no optimal solution.\n",
      "The CommonGround_entani optimization problem had no optimal solution.\n",
      "The CommonGround optimization problem had no optimal solution.\n",
      "The CommonGround optimization problem had no optimal solution.\n",
      "The tPerfectIncorporation2 optimization problem had no optimal solution.\n",
      "The tPerfectIncorporation2 optimization problem had no optimal solution.\n",
      "The CommonGround_entani optimization problem had no optimal solution.\n",
      "The CommonGround_entani optimization problem had no optimal solution.\n",
      "The CommonGround optimization problem had no optimal solution.\n",
      "The CommonGround optimization problem had no optimal solution.\n",
      "The tPerfectIncorporation2 optimization problem had no optimal solution.\n",
      "The tPerfectIncorporation2 optimization problem had no optimal solution.\n",
      "The CommonGround_entani optimization problem had no optimal solution."
     ]
    },
    {
     "name": "stdout",
     "output_type": "stream",
     "text": [
      "\n",
      "The CommonGround_entani optimization problem had no optimal solution.\n",
      "The CommonGround optimization problem had no optimal solution.\n",
      "The CommonGround optimization problem had no optimal solution.\n",
      "The tPerfectIncorporation2 optimization problem had no optimal solution.\n",
      "The tPerfectIncorporation2 optimization problem had no optimal solution.\n",
      "The CommonGround_entani optimization problem had no optimal solution.\n",
      "The CommonGround_entani optimization problem had no optimal solution.\n",
      "The CommonGround optimization problem had no optimal solution.\n",
      "The CommonGround optimization problem had no optimal solution.\n",
      "The tPerfectIncorporation2 optimization problem had no optimal solution.\n",
      "The tPerfectIncorporation2 optimization problem had no optimal solution.\n",
      "The CommonGround_entani optimization problem had no optimal solution."
     ]
    },
    {
     "name": "stdout",
     "output_type": "stream",
     "text": [
      "\n",
      "The CommonGround_entani optimization problem had no optimal solution.\n",
      "The CommonGround optimization problem had no optimal solution.\n"
     ]
    },
    {
     "name": "stderr",
     "output_type": "stream",
     "text": [
      "Excessive output truncated after 524636 bytes."
     ]
    },
    {
     "name": "stdout",
     "output_type": "stream",
     "text": [
      "The CommonGround optimization problem had no optimal solution.\n",
      "The tPerfectIncorporation2 optimization problem had no optimal solution.\n",
      "The tPerfectIncorporation2 optimization problem had no optimal solution.\n"
     ]
    }
   ],
   "source": [
    "desired_count = 1000\n",
    "run_experiments(pcms, 5, 3, desired_count, \"5_3_0.65.csv\", \"weights_perfect_5_3_0.65.csv\", \"weights_common_5_3_0.65.csv\", \"weights_partial_5_3_0.65.csv\", \"PCM_5_3_0.65.csv\")"
   ]
  },
  {
   "cell_type": "markdown",
   "metadata": {},
   "source": [
    "# 各手法に関しての最適値等の情報"
   ]
  },
  {
   "cell_type": "code",
   "execution_count": 23,
   "metadata": {},
   "outputs": [
    {
     "data": {
      "text/plain": [
       "process_pcm_data_partial_all (generic function with 1 method)"
      ]
     },
     "metadata": {},
     "output_type": "display_data"
    }
   ],
   "source": [
    "include(\"debug_perfect.jl\")\n",
    "include(\"debug_perfect_all.jl\")\n",
    "include(\"debug_common.jl\")\n",
    "include(\"debug_common_all.jl\")\n",
    "include(\"debug_partial.jl\")\n",
    "include(\"debug_partial_all.jl\")"
   ]
  },
  {
   "cell_type": "code",
   "execution_count": 24,
   "metadata": {},
   "outputs": [
    {
     "data": {
      "text/plain": [
       "\"debug_partial_all_5_3_0.65.csv\""
      ]
     },
     "metadata": {},
     "output_type": "display_data"
    }
   ],
   "source": [
    "process_pcm_data_perfect(\"5_3_0.65.csv\", \"PCM_5_3_0.65.csv\", \"debug_perfect_5_3_0.65.csv\", 5, 3)\n",
    "process_pcm_data_perfect_all(\"5_3_0.65.csv\", \"PCM_5_3_0.65.csv\", \"debug_perfect_all_5_3_0.65.csv\", 5, 3)\n",
    "process_pcm_data_common(\"5_3_0.65.csv\", \"PCM_5_3_0.65.csv\", \"debug_common_5_3_0.65.csv\", 5, 3)\n",
    "process_pcm_data_common_all(\"5_3_0.65.csv\", \"PCM_5_3_0.65.csv\", \"debug_common_all_5_3_0.65.csv\", 5, 3)\n",
    "process_pcm_data_partial(\"5_3_0.65.csv\", \"PCM_5_3_0.65.csv\", \"debug_partial_5_3_0.65.csv\", 5, 3)\n",
    "process_pcm_data_partial_all(\"5_3_0.65.csv\", \"PCM_5_3_0.65.csv\", \"debug_partial_all_5_3_0.65.csv\", 5, 3)"
   ]
  },
  {
   "cell_type": "markdown",
   "metadata": {},
   "source": [
    "# 中心の総和等の情報"
   ]
  },
  {
   "cell_type": "code",
   "execution_count": 28,
   "metadata": {},
   "outputs": [
    {
     "data": {
      "text/plain": [
       "\"perfect_centercheck.csv\""
      ]
     },
     "metadata": {},
     "output_type": "display_data"
    }
   ],
   "source": [
    "include(\"perfect.jl\")\n",
    "perfect(\"weights_perfect_5_3_0.65.csv\", \"debug_perfect_all_5_3_0.65.csv\", \"perfect_centercheck.csv\")"
   ]
  },
  {
   "cell_type": "code",
   "execution_count": 29,
   "metadata": {},
   "outputs": [
    {
     "data": {
      "text/plain": [
       "\"common_centercheck.csv\""
      ]
     },
     "metadata": {},
     "output_type": "display_data"
    }
   ],
   "source": [
    "include(\"common.jl\")\n",
    "common(\"weights_common_5_3_0.65.csv\", \"debug_common_all_5_3_0.65.csv\", \"common_centercheck.csv\")"
   ]
  },
  {
   "cell_type": "code",
   "execution_count": 30,
   "metadata": {},
   "outputs": [
    {
     "data": {
      "text/plain": [
       "\"partial_centercheck.csv\""
      ]
     },
     "metadata": {},
     "output_type": "display_data"
    }
   ],
   "source": [
    "include(\"partial.jl\")\n",
    "partial(\"weights_partial_5_3_0.65.csv\", \"debug_partial_all_5_3_0.65.csv\", \"partial_centercheck.csv\")"
   ]
  },
  {
   "cell_type": "code",
   "execution_count": 31,
   "metadata": {},
   "outputs": [
    {
     "data": {
      "text/plain": [
       "\"tcommon_centercheck.csv\""
      ]
     },
     "metadata": {},
     "output_type": "display_data"
    }
   ],
   "source": [
    "include(\"tcommon.jl\")\n",
    "tcommon(\"weights_common_5_3_0.65.csv\", \"debug_common_all_5_3_0.65.csv\", \"tcommon_centercheck.csv\")"
   ]
  },
  {
   "cell_type": "markdown",
   "metadata": {},
   "source": [
    "# 実行可能性のチェック"
   ]
  },
  {
   "cell_type": "code",
   "execution_count": 25,
   "metadata": {},
   "outputs": [
    {
     "data": {
      "text/plain": [
       "\"feasibility_perfect_5_3_0.65.csv\""
      ]
     },
     "metadata": {},
     "output_type": "display_data"
    }
   ],
   "source": [
    "include(\"check-perfect.jl\")\n",
    "load_and_process_csv_perfect(\"debug_perfect_5_3_0.65.csv\", \"weights_perfect_5_3_0.65.csv\", \"PCM_5_3_0.65.csv\", \"feasibility_perfect_5_3_0.65.csv\")"
   ]
  },
  {
   "cell_type": "code",
   "execution_count": 32,
   "metadata": {},
   "outputs": [
    {
     "data": {
      "text/plain": [
       "\"feasibility_common_5_3_0.65.csv\""
      ]
     },
     "metadata": {},
     "output_type": "display_data"
    }
   ],
   "source": [
    "include(\"check-common.jl\")\n",
    "load_and_process_csv_common(\"debug_common_5_3_0.65.csv\", \"weights_common_5_3_0.65.csv\", \"PCM_5_3_0.65.csv\", \"common_centercheck.csv\", \"feasibility_common_5_3_0.65.csv\")"
   ]
  },
  {
   "cell_type": "code",
   "execution_count": 27,
   "metadata": {},
   "outputs": [
    {
     "data": {
      "text/plain": [
       "\"feasibility_partial_5_3_0.65.csv\""
      ]
     },
     "metadata": {},
     "output_type": "display_data"
    }
   ],
   "source": [
    "include(\"check-partial.jl\")\n",
    "load_and_process_csv_partial(\"debug_partial_5_3_0.65.csv\", \"weights_partial_5_3_0.65.csv\", \"PCM_5_3_0.65.csv\", \"feasibility_partial_5_3_0.65.csv\")"
   ]
  },
  {
   "cell_type": "markdown",
   "metadata": {},
   "source": [
    "# PCMから計算"
   ]
  },
  {
   "cell_type": "code",
   "execution_count": null,
   "metadata": {},
   "outputs": [],
   "source": [
    "include(\"display-csv-from-pcm.csv\")\n",
    "run_experiments_from_csv(\"5_3_0.65.csv\", \"PCM_5_3_0.65.csv\", \"5_3_0.65_from_pcm.csv\", \"weights_perfect_5_3_0.65_from_pcm.csv\", \"weights_common_5_3_0.65_from_pcm.csv\", \"weights_partial_5_3_0.65_from_pcm.csv\")"
   ]
  },
  {
   "cell_type": "code",
   "execution_count": 3,
   "metadata": {},
   "outputs": [
    {
     "data": {
      "text/plain": [
       "1001-element Vector{Matrix{Float64}}:\n",
       " [1.0 1.0 … 1.0 1.0; 1.0 1.0 … 1.0 2.0; … ; 1.0 1.0 … 1.0 1.0; 1.0 0.5 … 1.0 1.0]\n",
       " [1.0 1.0 … 1.0 1.0; 1.0 1.0 … 2.0 2.0; … ; 1.0 0.5 … 1.0 1.0; 1.0 0.5 … 1.0 1.0]\n",
       " [1.0 1.0 … 1.0 1.0; 1.0 1.0 … 2.0 2.0; … ; 1.0 0.5 … 1.0 1.0; 1.0 0.5 … 1.0 1.0]\n",
       " [1.0 1.0 … 1.0 1.0; 1.0 1.0 … 1.0 1.0; … ; 1.0 1.0 … 1.0 1.0; 1.0 1.0 … 1.0 1.0]\n",
       " [1.0 1.0 … 1.0 1.0; 1.0 1.0 … 2.0 2.0; … ; 1.0 0.5 … 1.0 1.0; 1.0 0.5 … 1.0 1.0]\n",
       " [1.0 1.0 … 1.0 1.0; 1.0 1.0 … 1.0 2.0; … ; 1.0 1.0 … 1.0 1.0; 1.0 0.5 … 1.0 1.0]\n",
       " [1.0 1.0 … 1.0 1.0; 1.0 1.0 … 2.0 2.0; … ; 1.0 0.5 … 1.0 1.0; 1.0 0.5 … 1.0 1.0]\n",
       " [1.0 1.0 … 1.0 1.0; 1.0 1.0 … 2.0 2.0; … ; 1.0 0.5 … 1.0 2.0; 1.0 0.5 … 0.5 1.0]\n",
       " [1.0 1.0 … 1.0 1.0; 1.0 1.0 … 2.0 2.0; … ; 1.0 0.5 … 1.0 1.0; 1.0 0.5 … 1.0 1.0]\n",
       " [1.0 1.0 … 1.0 1.0; 1.0 1.0 … 2.0 3.0; … ; 1.0 0.5 … 1.0 1.0; 1.0 0.3333333333333333 … 1.0 1.0]\n",
       " ⋮\n",
       " [1.0 1.0 … 1.0 1.0; 1.0 1.0 … 2.0 2.0; … ; 1.0 0.5 … 1.0 2.0; 1.0 0.5 … 0.5 1.0]\n",
       " [1.0 1.0 … 1.0 1.0; 1.0 1.0 … 2.0 2.0; … ; 1.0 0.5 … 1.0 1.0; 1.0 0.5 … 1.0 1.0]\n",
       " [1.0 1.0 … 1.0 1.0; 1.0 1.0 … 2.0 2.0; … ; 1.0 0.5 … 1.0 1.0; 1.0 0.5 … 1.0 1.0]\n",
       " [1.0 1.0 … 1.0 1.0; 1.0 1.0 … 2.0 2.0; … ; 1.0 0.5 … 1.0 1.0; 1.0 0.5 … 1.0 1.0]\n",
       " [1.0 1.0 … 1.0 1.0; 1.0 1.0 … 2.0 2.0; … ; 1.0 0.5 … 1.0 1.0; 1.0 0.5 … 1.0 1.0]\n",
       " [1.0 1.0 … 1.0 1.0; 1.0 1.0 … 2.0 2.0; … ; 1.0 0.5 … 1.0 1.0; 1.0 0.5 … 1.0 1.0]\n",
       " [1.0 1.0 … 1.0 1.0; 1.0 1.0 … 2.0 2.0; … ; 1.0 0.5 … 1.0 2.0; 1.0 0.5 … 0.5 1.0]\n",
       " [1.0 1.0 … 1.0 1.0; 1.0 1.0 … 2.0 1.0; … ; 1.0 0.5 … 1.0 2.0; 1.0 1.0 … 0.5 1.0]\n",
       " [1.0 1.0 … 1.0 1.0; 1.0 1.0 … 1.0 2.0; … ; 1.0 1.0 … 1.0 2.0; 1.0 0.5 … 0.5 1.0]"
      ]
     },
     "metadata": {},
     "output_type": "display_data"
    }
   ],
   "source": [
    "perturbation_strength = 0.65\n",
    "desired_count = 1000\n",
    "\n",
    "pcms4 = generate_similar_pcms(4, perturbation_strength, desired_count)\n",
    "pcms5 = generate_similar_pcms(5, perturbation_strength, desired_count)\n",
    "pcms6 = generate_similar_pcms(6, perturbation_strength, desired_count)\n",
    "pcms7 = generate_similar_pcms(7, perturbation_strength, desired_count)\n",
    "pcms8 = generate_similar_pcms(8, perturbation_strength, desired_count)"
   ]
  },
  {
   "cell_type": "code",
   "execution_count": 5,
   "metadata": {},
   "outputs": [
    {
     "name": "stdout",
     "output_type": "stream",
     "text": [
      "The CommonGround_entani optimization problem had no optimal solution.\n"
     ]
    },
    {
     "name": "stdout",
     "output_type": "stream",
     "text": [
      "The CommonGround optimization problem had no optimal solution.\n",
      "The CommonGround optimization problem had no optimal solution.\n",
      "The tCommonGround optimization problem had no optimal solution.\n"
     ]
    },
    {
     "name": "stdout",
     "output_type": "stream",
     "text": [
      "The tCommonGround optimization problem had no optimal solution.\n",
      "The CommonGround_entani optimization problem had no optimal solution.\n",
      "The CommonGround optimization problem had no optimal solution.\n",
      "The tCommonGround optimization problem had no optimal solution.\n"
     ]
    },
    {
     "name": "stdout",
     "output_type": "stream",
     "text": [
      "The CommonGround optimization problem had no optimal solution.\n",
      "The tCommonGround optimization problem had no optimal solution.\n",
      "The CommonGround optimization problem had no optimal solution.\n",
      "The CommonGround optimization problem had no optimal solution.\n",
      "The tCommonGround optimization problem had no optimal solution.\n",
      "The tCommonGround optimization problem had no optimal solution.\n"
     ]
    },
    {
     "name": "stdout",
     "output_type": "stream",
     "text": [
      "The CommonGround_entani optimization problem had no optimal solution.\n",
      "The CommonGround optimization problem had no optimal solution.\n",
      "The tCommonGround optimization problem had no optimal solution.\n",
      "The CommonGround optimization problem had no optimal solution.\n",
      "The tCommonGround optimization problem had no optimal solution.\n"
     ]
    },
    {
     "name": "stdout",
     "output_type": "stream",
     "text": [
      "The CommonGround_entani optimization problem had no optimal solution.\n",
      "The CommonGround optimization problem had no optimal solution.\n",
      "The tCommonGround optimization problem had no optimal solution.\n"
     ]
    },
    {
     "name": "stdout",
     "output_type": "stream",
     "text": [
      "The CommonGround optimization problem had no optimal solution.\n",
      "The tCommonGround optimization problem had no optimal solution.\n",
      "The CommonGround optimization problem had no optimal solution.\n",
      "The CommonGround_entani optimization problem had no optimal solution.\n",
      "The CommonGround optimization problem had no optimal solution.\n",
      "The tCommonGround optimization problem had no optimal solution.\n",
      "The tCommonGround optimization problem had no optimal solution.\n",
      "The CommonGround_entani optimization problem had no optimal solution.\n",
      "The CommonGround optimization problem had no optimal solution.\n",
      "The tCommonGround optimization problem had no optimal solution.\n",
      "The CommonGround_entani optimization problem had no optimal solution."
     ]
    },
    {
     "name": "stdout",
     "output_type": "stream",
     "text": [
      "\n",
      "The CommonGround optimization problem had no optimal solution.\n",
      "The tCommonGround optimization problem had no optimal solution.\n",
      "The CommonGround_entani optimization problem had no optimal solution.\n",
      "The CommonGround optimization problem had no optimal solution.\n",
      "The tCommonGround optimization problem had no optimal solution.\n",
      "The CommonGround optimization problem had no optimal solution."
     ]
    },
    {
     "name": "stdout",
     "output_type": "stream",
     "text": [
      "\n"
     ]
    },
    {
     "name": "stdout",
     "output_type": "stream",
     "text": [
      "The CommonGround_entani optimization problem had no optimal solution.\n",
      "The CommonGround optimization problem had no optimal solution.\n",
      "The CommonGround optimization problem had no optimal solution.\n",
      "The tCommonGround optimization problem had no optimal solution.\n",
      "The CommonGround_entani optimization problem had no optimal solution.\n",
      "The CommonGround optimization problem had no optimal solution.\n",
      "The tCommonGround optimization problem had no optimal solution.\n",
      "The CommonGround optimization problem had no optimal solution.\n"
     ]
    },
    {
     "name": "stdout",
     "output_type": "stream",
     "text": [
      "The CommonGround optimization problem had no optimal solution.\n",
      "The tCommonGround optimization problem had no optimal solution.\n",
      "The CommonGround_entani optimization problem had no optimal solution.\n",
      "The CommonGround optimization problem had no optimal solution.\n",
      "The tCommonGround optimization problem had no optimal solution.\n",
      "The CommonGround_entani optimization problem had no optimal solution.\n",
      "The CommonGround optimization problem had no optimal solution.\n",
      "The tCommonGround optimization problem had no optimal solution.\n",
      "The CommonGround_entani optimization problem had no optimal solution.\n",
      "The CommonGround optimization problem had no optimal solution.\n",
      "The CommonGround_entani optimization problem had no optimal solution.\n",
      "The tCommonGround optimization problem had no optimal solution.\n",
      "The CommonGround optimization problem had no optimal solution.\n",
      "The tCommonGround optimization problem had no optimal solution.\n",
      "The CommonGround_entani optimization problem had no optimal solution.\n",
      "The CommonGround optimization problem had no optimal solution.\n",
      "The tCommonGround optimization problem had no optimal solution.\n",
      "The CommonGround optimization problem had no optimal solution.\n",
      "The tCommonGround optimization problem had no optimal solution.\n",
      "The CommonGround_entani optimization problem had no optimal solution.\n",
      "The CommonGround optimization problem had no optimal solution.\n",
      "The tCommonGround optimization problem had no optimal solution.\n"
     ]
    },
    {
     "name": "stdout",
     "output_type": "stream",
     "text": [
      "The CommonGround_entani optimization problem had no optimal solution.\n",
      "The CommonGround optimization problem had no optimal solution.\n",
      "The tCommonGround optimization problem had no optimal solution.\n",
      "The CommonGround optimization problem had no optimal solution.\n",
      "The tCommonGround optimization problem had no optimal solution.\n"
     ]
    },
    {
     "name": "stdout",
     "output_type": "stream",
     "text": [
      "The CommonGround_entani optimization problem had no optimal solution.\n",
      "The CommonGround optimization problem had no optimal solution.\n",
      "The tCommonGround optimization problem had no optimal solution.\n",
      "The CommonGround_entani optimization problem had no optimal solution.\n",
      "The CommonGround optimization problem had no optimal solution.\n",
      "The tCommonGround optimization problem had no optimal solution.\n"
     ]
    },
    {
     "name": "stdout",
     "output_type": "stream",
     "text": [
      "The CommonGround_entani optimization problem had no optimal solution.\n",
      "The CommonGround optimization problem had no optimal solution.\n",
      "The CommonGround_entani optimization problem had no optimal solution.\n",
      "The CommonGround optimization problem had no optimal solution.\n",
      "The tCommonGround optimization problem had no optimal solution.\n",
      "The tCommonGround optimization problem had no optimal solution.\n",
      "The CommonGround optimization problem had no optimal solution.\n",
      "The CommonGround_entani optimization problem had no optimal solution.\n",
      "The CommonGround optimization problem had no optimal solution.\n",
      "The tCommonGround optimization problem had no optimal solution.\n",
      "The CommonGround optimization problem had no optimal solution.\n",
      "The tCommonGround optimization problem had no optimal solution.\n",
      "The CommonGround optimization problem had no optimal solution."
     ]
    },
    {
     "name": "stdout",
     "output_type": "stream",
     "text": [
      "\n",
      "The tCommonGround optimization problem had no optimal solution.\n"
     ]
    },
    {
     "name": "stdout",
     "output_type": "stream",
     "text": [
      "The CommonGround optimization problem had no optimal solution.\n",
      "The tCommonGround optimization problem had no optimal solution.\n"
     ]
    },
    {
     "name": "stdout",
     "output_type": "stream",
     "text": [
      "The CommonGround_entani optimization problem had no optimal solution.\n",
      "The CommonGround optimization problem had no optimal solution.\n",
      "The tCommonGround optimization problem had no optimal solution.\n",
      "The CommonGround optimization problem had no optimal solution.\n",
      "The tCommonGround optimization problem had no optimal solution.\n"
     ]
    },
    {
     "name": "stdout",
     "output_type": "stream",
     "text": [
      "The CommonGround optimization problem had no optimal solution.\n",
      "The tCommonGround optimization problem had no optimal solution.\n",
      "The CommonGround optimization problem had no optimal solution.\n",
      "The CommonGround_entani optimization problem had no optimal solution.\n",
      "The tCommonGround optimization problem had no optimal solution.\n",
      "The CommonGround optimization problem had no optimal solution.\n"
     ]
    },
    {
     "name": "stdout",
     "output_type": "stream",
     "text": [
      "The tCommonGround optimization problem had no optimal solution.\n",
      "The CommonGround optimization problem had no optimal solution.\n",
      "The tCommonGround optimization problem had no optimal solution.\n",
      "The CommonGround_entani optimization problem had no optimal solution.\n",
      "The CommonGround optimization problem had no optimal solution.\n",
      "The tCommonGround optimization problem had no optimal solution.\n",
      "The CommonGround_entani optimization problem had no optimal solution.\n",
      "The CommonGround optimization problem had no optimal solution.\n",
      "The CommonGround optimization problem had no optimal solution."
     ]
    },
    {
     "name": "stdout",
     "output_type": "stream",
     "text": [
      "\n",
      "The tCommonGround optimization problem had no optimal solution.\n",
      "The CommonGround optimization problem had no optimal solution.\n",
      "The tCommonGround optimization problem had no optimal solution.\n",
      "The CommonGround_entani optimization problem had no optimal solution."
     ]
    },
    {
     "name": "stdout",
     "output_type": "stream",
     "text": [
      "\n",
      "The CommonGround optimization problem had no optimal solution.\n",
      "The tCommonGround optimization problem had no optimal solution.\n",
      "The CommonGround_entani optimization problem had no optimal solution.\n",
      "The CommonGround optimization problem had no optimal solution.\n",
      "The CommonGround_entani optimization problem had no optimal solution."
     ]
    },
    {
     "name": "stdout",
     "output_type": "stream",
     "text": [
      "\n",
      "The CommonGround optimization problem had no optimal solution.\n",
      "The CommonGround_entani optimization problem had no optimal solution.\n",
      "The tCommonGround optimization problem had no optimal solution.\n",
      "The CommonGround optimization problem had no optimal solution.\n",
      "The tCommonGround optimization problem had no optimal solution.\n",
      "The CommonGround optimization problem had no optimal solution.\n",
      "The tCommonGround optimization problem had no optimal solution.\n",
      "The CommonGround optimization problem had no optimal solution."
     ]
    },
    {
     "name": "stdout",
     "output_type": "stream",
     "text": [
      "\n",
      "The tCommonGround optimization problem had no optimal solution.\n"
     ]
    },
    {
     "name": "stdout",
     "output_type": "stream",
     "text": [
      "The CommonGround optimization problem had no optimal solution.\n",
      "The tCommonGround optimization problem had no optimal solution.\n",
      "The CommonGround optimization problem had no optimal solution.\n",
      "The tCommonGround optimization problem had no optimal solution.\n"
     ]
    },
    {
     "name": "stdout",
     "output_type": "stream",
     "text": [
      "The CommonGround_entani optimization problem had no optimal solution.\n",
      "The CommonGround optimization problem had no optimal solution.\n",
      "The CommonGround optimization problem had no optimal solution.\n",
      "The tCommonGround optimization problem had no optimal solution.\n",
      "The CommonGround optimization problem had no optimal solution.\n",
      "The tCommonGround optimization problem had no optimal solution.\n",
      "The CommonGround optimization problem had no optimal solution.\n",
      "The CommonGround_entani optimization problem had no optimal solution.\n",
      "The CommonGround optimization problem had no optimal solution.\n",
      "The tCommonGround optimization problem had no optimal solution.\n",
      "The CommonGround optimization problem had no optimal solution.\n",
      "The CommonGround_entani optimization problem had no optimal solution.\n",
      "The CommonGround optimization problem had no optimal solution.\n",
      "The tCommonGround optimization problem had no optimal solution.\n",
      "The CommonGround optimization problem had no optimal solution."
     ]
    },
    {
     "name": "stdout",
     "output_type": "stream",
     "text": [
      "\n",
      "The CommonGround_entani optimization problem had no optimal solution.\n",
      "The tCommonGround optimization problem had no optimal solution.\n",
      "The CommonGround optimization problem had no optimal solution.\n",
      "The CommonGround optimization problem had no optimal solution.\n",
      "The tCommonGround optimization problem had no optimal solution.\n",
      "The CommonGround optimization problem had no optimal solution."
     ]
    },
    {
     "name": "stdout",
     "output_type": "stream",
     "text": [
      "\n",
      "The CommonGround_entani optimization problem had no optimal solution.\n",
      "The tCommonGround optimization problem had no optimal solution.\n",
      "The CommonGround optimization problem had no optimal solution.\n",
      "The tCommonGround optimization problem had no optimal solution.\n",
      "The CommonGround_entani optimization problem had no optimal solution.\n",
      "The CommonGround optimization problem had no optimal solution.\n",
      "The tCommonGround optimization problem had no optimal solution.\n",
      "The CommonGround optimization problem had no optimal solution."
     ]
    },
    {
     "name": "stdout",
     "output_type": "stream",
     "text": [
      "\n",
      "The tCommonGround optimization problem had no optimal solution.\n",
      "The CommonGround optimization problem had no optimal solution.\n",
      "The CommonGround_entani optimization problem had no optimal solution.\n",
      "The CommonGround optimization problem had no optimal solution.\n",
      "The tCommonGround optimization problem had no optimal solution.\n",
      "The CommonGround optimization problem had no optimal solution.\n",
      "The tCommonGround optimization problem had no optimal solution.\n",
      "The CommonGround_entani optimization problem had no optimal solution."
     ]
    },
    {
     "name": "stdout",
     "output_type": "stream",
     "text": [
      "\n",
      "The CommonGround optimization problem had no optimal solution.\n",
      "The tCommonGround optimization problem had no optimal solution.\n",
      "The CommonGround optimization problem had no optimal solution.\n",
      "The tCommonGround optimization problem had no optimal solution.\n",
      "The CommonGround_entani optimization problem had no optimal solution."
     ]
    },
    {
     "name": "stdout",
     "output_type": "stream",
     "text": [
      "\n",
      "The CommonGround optimization problem had no optimal solution.\n",
      "The CommonGround_entani optimization problem had no optimal solution.\n",
      "The tCommonGround optimization problem had no optimal solution.\n",
      "The CommonGround optimization problem had no optimal solution.\n",
      "The tCommonGround optimization problem had no optimal solution.\n",
      "The CommonGround_entani optimization problem had no optimal solution."
     ]
    },
    {
     "name": "stdout",
     "output_type": "stream",
     "text": [
      "\n",
      "The CommonGround optimization problem had no optimal solution.\n",
      "The tCommonGround optimization problem had no optimal solution.\n"
     ]
    },
    {
     "name": "stdout",
     "output_type": "stream",
     "text": [
      "The CommonGround optimization problem had no optimal solution.\n",
      "The tCommonGround optimization problem had no optimal solution.\n",
      "The CommonGround_entani optimization problem had no optimal solution.\n",
      "The CommonGround optimization problem had no optimal solution.\n",
      "The tCommonGround optimization problem had no optimal solution.\n",
      "The CommonGround optimization problem had no optimal solution.\n",
      "The CommonGround optimization problem had no optimal solution.\n",
      "The tCommonGround optimization problem had no optimal solution.\n",
      "The CommonGround_entani optimization problem had no optimal solution.\n",
      "The CommonGround optimization problem had no optimal solution.\n",
      "The tCommonGround optimization problem had no optimal solution.\n",
      "The CommonGround optimization problem had no optimal solution.\n",
      "The tCommonGround optimization problem had no optimal solution.\n",
      "The CommonGround_entani optimization problem had no optimal solution.\n",
      "The CommonGround optimization problem had no optimal solution.\n",
      "The tCommonGround optimization problem had no optimal solution.\n",
      "The CommonGround_entani optimization problem had no optimal solution."
     ]
    },
    {
     "name": "stdout",
     "output_type": "stream",
     "text": [
      "\n",
      "The CommonGround optimization problem had no optimal solution.\n",
      "The tCommonGround optimization problem had no optimal solution.\n",
      "The CommonGround_entani optimization problem had no optimal solution.\n",
      "The CommonGround optimization problem had no optimal solution.\n",
      "The tCommonGround optimization problem had no optimal solution.\n",
      "The CommonGround optimization problem had no optimal solution.\n",
      "The tCommonGround optimization problem had no optimal solution.\n",
      "The CommonGround_entani optimization problem had no optimal solution.\n",
      "The CommonGround optimization problem had no optimal solution.\n",
      "The tCommonGround optimization problem had no optimal solution.\n",
      "The CommonGround_entani optimization problem had no optimal solution."
     ]
    },
    {
     "name": "stdout",
     "output_type": "stream",
     "text": [
      "\n",
      "The CommonGround optimization problem had no optimal solution.\n",
      "The tCommonGround optimization problem had no optimal solution.\n"
     ]
    },
    {
     "name": "stdout",
     "output_type": "stream",
     "text": [
      "The CommonGround_entani optimization problem had no optimal solution.\n",
      "The CommonGround optimization problem had no optimal solution.\n",
      "The tCommonGround optimization problem had no optimal solution.\n",
      "The CommonGround_entani optimization problem had no optimal solution.\n",
      "The CommonGround optimization problem had no optimal solution.\n",
      "The tCommonGround optimization problem had no optimal solution.\n",
      "The CommonGround_entani optimization problem had no optimal solution.\n",
      "The CommonGround optimization problem had no optimal solution.\n",
      "The tCommonGround optimization problem had no optimal solution.\n",
      "The CommonGround_entani optimization problem had no optimal solution.\n",
      "The CommonGround optimization problem had no optimal solution.\n",
      "The tCommonGround optimization problem had no optimal solution.\n"
     ]
    },
    {
     "name": "stdout",
     "output_type": "stream",
     "text": [
      "The CommonGround_entani optimization problem had no optimal solution.\n",
      "The CommonGround optimization problem had no optimal solution.\n",
      "The tCommonGround optimization problem had no optimal solution.\n"
     ]
    },
    {
     "name": "stdout",
     "output_type": "stream",
     "text": [
      "The CommonGround optimization problem had no optimal solution.\n",
      "The tCommonGround optimization problem had no optimal solution.\n",
      "The CommonGround optimization problem had no optimal solution.\n",
      "The tCommonGround optimization problem had no optimal solution.\n",
      "The CommonGround optimization problem had no optimal solution.\n",
      "The tCommonGround optimization problem had no optimal solution.\n",
      "The CommonGround optimization problem had no optimal solution.\n",
      "The tCommonGround optimization problem had no optimal solution.\n",
      "The CommonGround optimization problem had no optimal solution.\n",
      "The CommonGround_entani optimization problem had no optimal solution.\n",
      "The CommonGround optimization problem had no optimal solution.\n",
      "The tCommonGround optimization problem had no optimal solution.\n",
      "The CommonGround_entani optimization problem had no optimal solution.\n",
      "The CommonGround optimization problem had no optimal solution.\n",
      "The tCommonGround optimization problem had no optimal solution.\n",
      "The CommonGround optimization problem had no optimal solution."
     ]
    },
    {
     "name": "stdout",
     "output_type": "stream",
     "text": [
      "\n",
      "The tCommonGround optimization problem had no optimal solution.\n",
      "The CommonGround optimization problem had no optimal solution.\n",
      "The CommonGround_entani optimization problem had no optimal solution.\n",
      "The CommonGround optimization problem had no optimal solution.\n",
      "The tCommonGround optimization problem had no optimal solution.\n",
      "The CommonGround_entani optimization problem had no optimal solution."
     ]
    },
    {
     "name": "stdout",
     "output_type": "stream",
     "text": [
      "\n",
      "The CommonGround optimization problem had no optimal solution.\n",
      "The tCommonGround optimization problem had no optimal solution.\n"
     ]
    },
    {
     "name": "stdout",
     "output_type": "stream",
     "text": [
      "The CommonGround optimization problem had no optimal solution.\n",
      "The tCommonGround optimization problem had no optimal solution.\n",
      "The CommonGround_entani optimization problem had no optimal solution.\n",
      "The CommonGround optimization problem had no optimal solution.\n",
      "The tCommonGround optimization problem had no optimal solution.\n",
      "The CommonGround_entani optimization problem had no optimal solution.\n"
     ]
    },
    {
     "name": "stdout",
     "output_type": "stream",
     "text": [
      "The CommonGround optimization problem had no optimal solution.\n",
      "The tCommonGround optimization problem had no optimal solution.\n"
     ]
    },
    {
     "name": "stdout",
     "output_type": "stream",
     "text": [
      "The CommonGround_entani optimization problem had no optimal solution.\n",
      "The CommonGround optimization problem had no optimal solution.\n",
      "The tCommonGround optimization problem had no optimal solution.\n",
      "The CommonGround optimization problem had no optimal solution.\n",
      "The tCommonGround optimization problem had no optimal solution.\n",
      "The CommonGround optimization problem had no optimal solution.\n",
      "The tCommonGround optimization problem had no optimal solution.\n",
      "The CommonGround optimization problem had no optimal solution.\n",
      "The tCommonGround optimization problem had no optimal solution.\n",
      "The CommonGround optimization problem had no optimal solution.\n"
     ]
    },
    {
     "name": "stdout",
     "output_type": "stream",
     "text": [
      "The CommonGround optimization problem had no optimal solution.\n",
      "The tCommonGround optimization problem had no optimal solution.\n",
      "The CommonGround optimization problem had no optimal solution.\n",
      "The CommonGround_entani optimization problem had no optimal solution.\n",
      "The tCommonGround optimization problem had no optimal solution.\n",
      "The CommonGround optimization problem had no optimal solution.\n",
      "The CommonGround_entani optimization problem had no optimal solution.\n",
      "The CommonGround optimization problem had no optimal solution.\n",
      "The tCommonGround optimization problem had no optimal solution.\n",
      "The tCommonGround optimization problem had no optimal solution.\n"
     ]
    },
    {
     "name": "stdout",
     "output_type": "stream",
     "text": [
      "The CommonGround optimization problem had no optimal solution.\n",
      "The tCommonGround optimization problem had no optimal solution.\n",
      "The CommonGround_entani optimization problem had no optimal solution.\n",
      "The CommonGround optimization problem had no optimal solution.\n",
      "The tCommonGround optimization problem had no optimal solution.\n",
      "The CommonGround_entani optimization problem had no optimal solution.\n",
      "The CommonGround optimization problem had no optimal solution.\n",
      "The tCommonGround optimization problem had no optimal solution.\n",
      "The CommonGround optimization problem had no optimal solution.\n",
      "The tCommonGround optimization problem had no optimal solution.\n",
      "The CommonGround optimization problem had no optimal solution.\n",
      "The tCommonGround optimization problem had no optimal solution.\n",
      "The CommonGround_entani optimization problem had no optimal solution.\n",
      "The CommonGround_entani optimization problem had no optimal solution.\n",
      "The CommonGround optimization problem had no optimal solution.\n",
      "The CommonGround optimization problem had no optimal solution.\n",
      "The tCommonGround optimization problem had no optimal solution.\n",
      "The tCommonGround optimization problem had no optimal solution.\n",
      "The CommonGround optimization problem had no optimal solution.\n",
      "The tCommonGround optimization problem had no optimal solution.\n",
      "The CommonGround_entani optimization problem had no optimal solution."
     ]
    },
    {
     "name": "stdout",
     "output_type": "stream",
     "text": [
      "\n",
      "The CommonGround_entani optimization problem had no optimal solution.\n",
      "The CommonGround optimization problem had no optimal solution.\n",
      "The CommonGround optimization problem had no optimal solution.\n",
      "The tCommonGround optimization problem had no optimal solution.\n",
      "The tCommonGround optimization problem had no optimal solution.\n",
      "The CommonGround optimization problem had no optimal solution.\n",
      "The tCommonGround optimization problem had no optimal solution.\n",
      "The CommonGround optimization problem had no optimal solution."
     ]
    },
    {
     "name": "stdout",
     "output_type": "stream",
     "text": [
      "\n",
      "The tCommonGround optimization problem had no optimal solution.\n"
     ]
    },
    {
     "name": "stdout",
     "output_type": "stream",
     "text": [
      "The CommonGround_entani optimization problem had no optimal solution.\n",
      "The CommonGround_entani optimization problem had no optimal solution.\n",
      "The CommonGround optimization problem had no optimal solution.\n",
      "The CommonGround optimization problem had no optimal solution.\n",
      "The CommonGround_entani optimization problem had no optimal solution.\n",
      "The CommonGround optimization problem had no optimal solution.\n",
      "The tCommonGround optimization problem had no optimal solution.\n",
      "The tCommonGround optimization problem had no optimal solution.\n",
      "The CommonGround_entani optimization problem had no optimal solution.\n",
      "The CommonGround_entani optimization problem had no optimal solution.\n",
      "The CommonGround optimization problem had no optimal solution.\n",
      "The CommonGround optimization problem had no optimal solution.\n"
     ]
    },
    {
     "name": "stdout",
     "output_type": "stream",
     "text": [
      "The tCommonGround optimization problem had no optimal solution.\n",
      "The CommonGround optimization problem had no optimal solution.\n",
      "The tCommonGround optimization problem had no optimal solution.\n",
      "The CommonGround optimization problem had no optimal solution.\n",
      "The CommonGround_entani optimization problem had no optimal solution."
     ]
    },
    {
     "name": "stdout",
     "output_type": "stream",
     "text": [
      "\n",
      "The CommonGround optimization problem had no optimal solution.\n",
      "The tCommonGround optimization problem had no optimal solution.\n"
     ]
    },
    {
     "name": "stdout",
     "output_type": "stream",
     "text": [
      "The CommonGround_entani optimization problem had no optimal solution.\n",
      "The CommonGround optimization problem had no optimal solution.\n",
      "The tCommonGround optimization problem had no optimal solution.\n",
      "The CommonGround_entani optimization problem had no optimal solution.\n",
      "The CommonGround optimization problem had no optimal solution.\n",
      "The CommonGround optimization problem had no optimal solution.\n",
      "The tCommonGround optimization problem had no optimal solution.\n",
      "The CommonGround optimization problem had no optimal solution.\n",
      "The tCommonGround optimization problem had no optimal solution.\n",
      "The CommonGround_entani optimization problem had no optimal solution."
     ]
    },
    {
     "name": "stdout",
     "output_type": "stream",
     "text": [
      "\n",
      "The CommonGround optimization problem had no optimal solution.\n",
      "The tCommonGround optimization problem had no optimal solution.\n"
     ]
    },
    {
     "name": "stdout",
     "output_type": "stream",
     "text": [
      "The CommonGround_entani optimization problem had no optimal solution.\n",
      "The CommonGround optimization problem had no optimal solution.\n",
      "The CommonGround optimization problem had no optimal solution.\n",
      "The tCommonGround optimization problem had no optimal solution.\n",
      "The tCommonGround optimization problem had no optimal solution.\n"
     ]
    },
    {
     "name": "stdout",
     "output_type": "stream",
     "text": [
      "The CommonGround optimization problem had no optimal solution.\n",
      "The tCommonGround optimization problem had no optimal solution.\n",
      "The CommonGround optimization problem had no optimal solution.\n",
      "The tCommonGround optimization problem had no optimal solution.\n",
      "The CommonGround optimization problem had no optimal solution.\n",
      "The tCommonGround optimization problem had no optimal solution.\n",
      "The CommonGround optimization problem had no optimal solution.\n",
      "The CommonGround_entani optimization problem had no optimal solution.\n",
      "The CommonGround optimization problem had no optimal solution.\n",
      "The tCommonGround optimization problem had no optimal solution.\n",
      "The CommonGround optimization problem had no optimal solution.\n",
      "The tCommonGround optimization problem had no optimal solution.\n",
      "The CommonGround_entani optimization problem had no optimal solution.\n",
      "The CommonGround optimization problem had no optimal solution.\n",
      "The tCommonGround optimization problem had no optimal solution.\n",
      "The CommonGround optimization problem had no optimal solution.\n",
      "The tCommonGround optimization problem had no optimal solution.\n",
      "The CommonGround optimization problem had no optimal solution.\n",
      "The tCommonGround optimization problem had no optimal solution.\n",
      "The CommonGround optimization problem had no optimal solution.\n",
      "The CommonGround_entani optimization problem had no optimal solution.\n",
      "The CommonGround optimization problem had no optimal solution.\n",
      "The tCommonGround optimization problem had no optimal solution.\n",
      "The CommonGround optimization problem had no optimal solution.\n",
      "The CommonGround optimization problem had no optimal solution.\n",
      "The tCommonGround optimization problem had no optimal solution.\n",
      "The CommonGround optimization problem had no optimal solution.\n",
      "The tCommonGround optimization problem had no optimal solution.\n",
      "The CommonGround_entani optimization problem had no optimal solution.\n",
      "The CommonGround optimization problem had no optimal solution.\n",
      "The CommonGround optimization problem had no optimal solution.\n",
      "The tCommonGround optimization problem had no optimal solution.\n",
      "The tCommonGround optimization problem had no optimal solution.\n",
      "The CommonGround_entani optimization problem had no optimal solution.\n",
      "The CommonGround optimization problem had no optimal solution.\n",
      "The tCommonGround optimization problem had no optimal solution.\n",
      "The CommonGround optimization problem had no optimal solution.\n",
      "The tCommonGround optimization problem had no optimal solution.\n",
      "The CommonGround_entani optimization problem had no optimal solution.\n",
      "The CommonGround optimization problem had no optimal solution.\n",
      "The CommonGround optimization problem had no optimal solution.\n",
      "The tCommonGround optimization problem had no optimal solution.\n",
      "The CommonGround_entani optimization problem had no optimal solution.\n",
      "The CommonGround optimization problem had no optimal solution.\n",
      "The CommonGround_entani optimization problem had no optimal solution.\n",
      "The CommonGround optimization problem had no optimal solution.\n",
      "The tCommonGround optimization problem had no optimal solution.\n",
      "The CommonGround optimization problem had no optimal solution.\n",
      "The tCommonGround optimization problem had no optimal solution.\n",
      "The CommonGround optimization problem had no optimal solution."
     ]
    },
    {
     "name": "stdout",
     "output_type": "stream",
     "text": [
      "\n",
      "The CommonGround_entani optimization problem had no optimal solution.\n",
      "The tCommonGround optimization problem had no optimal solution.\n",
      "The CommonGround optimization problem had no optimal solution.\n",
      "The CommonGround optimization problem had no optimal solution.\n",
      "The tCommonGround optimization problem had no optimal solution.\n",
      "The CommonGround optimization problem had no optimal solution.\n",
      "The CommonGround_entani optimization problem had no optimal solution.\n",
      "The CommonGround optimization problem had no optimal solution.\n",
      "The tCommonGround optimization problem had no optimal solution.\n",
      "The CommonGround_entani optimization problem had no optimal solution.\n",
      "The CommonGround optimization problem had no optimal solution.\n",
      "The tCommonGround optimization problem had no optimal solution.\n",
      "The CommonGround_entani optimization problem had no optimal solution.\n",
      "The CommonGround optimization problem had no optimal solution.\n",
      "The CommonGround optimization problem had no optimal solution.\n",
      "The tCommonGround optimization problem had no optimal solution.\n",
      "The tCommonGround optimization problem had no optimal solution.\n",
      "The CommonGround_entani optimization problem had no optimal solution.\n",
      "The CommonGround optimization problem had no optimal solution.\n",
      "The tCommonGround optimization problem had no optimal solution.\n",
      "The CommonGround optimization problem had no optimal solution."
     ]
    },
    {
     "name": "stdout",
     "output_type": "stream",
     "text": [
      "\n"
     ]
    },
    {
     "name": "stdout",
     "output_type": "stream",
     "text": [
      "The tCommonGround optimization problem had no optimal solution.\n",
      "The CommonGround optimization problem had no optimal solution.\n",
      "The tCommonGround optimization problem had no optimal solution.\n",
      "The CommonGround_entani optimization problem had no optimal solution.\n"
     ]
    },
    {
     "name": "stdout",
     "output_type": "stream",
     "text": [
      "The CommonGround optimization problem had no optimal solution.\n",
      "The tCommonGround optimization problem had no optimal solution.\n",
      "The CommonGround_entani optimization problem had no optimal solution.\n",
      "The CommonGround optimization problem had no optimal solution.\n",
      "The CommonGround_entani optimization problem had no optimal solution.\n",
      "The CommonGround_entani optimization problem had no optimal solution."
     ]
    },
    {
     "name": "stdout",
     "output_type": "stream",
     "text": [
      "\n",
      "The CommonGround optimization problem had no optimal solution.\n",
      "The tCommonGround optimization problem had no optimal solution.\n",
      "The CommonGround optimization problem had no optimal solution.\n",
      "The tCommonGround optimization problem had no optimal solution.\n",
      "The CommonGround_entani optimization problem had no optimal solution.\n",
      "The CommonGround optimization problem had no optimal solution.\n",
      "The tCommonGround optimization problem had no optimal solution.\n",
      "The CommonGround_entani optimization problem had no optimal solution."
     ]
    },
    {
     "name": "stdout",
     "output_type": "stream",
     "text": [
      "\n",
      "The CommonGround_entani optimization problem had no optimal solution.\n",
      "The CommonGround optimization problem had no optimal solution.\n",
      "The tCommonGround optimization problem had no optimal solution.\n",
      "The CommonGround optimization problem had no optimal solution.\n",
      "The tCommonGround optimization problem had no optimal solution.\n",
      "The CommonGround_entani optimization problem had no optimal solution.\n",
      "The CommonGround optimization problem had no optimal solution.\n",
      "The CommonGround optimization problem had no optimal solution.\n",
      "The tCommonGround optimization problem had no optimal solution.\n",
      "The tCommonGround optimization problem had no optimal solution.\n",
      "The CommonGround optimization problem had no optimal solution.\n",
      "The tCommonGround optimization problem had no optimal solution.\n",
      "The CommonGround optimization problem had no optimal solution.\n",
      "The tCommonGround optimization problem had no optimal solution.\n",
      "The CommonGround_entani optimization problem had no optimal solution."
     ]
    },
    {
     "name": "stdout",
     "output_type": "stream",
     "text": [
      "\n",
      "The CommonGround optimization problem had no optimal solution.\n",
      "The tCommonGround optimization problem had no optimal solution.\n"
     ]
    },
    {
     "name": "stdout",
     "output_type": "stream",
     "text": [
      "The CommonGround optimization problem had no optimal solution.\n",
      "The tCommonGround optimization problem had no optimal solution.\n",
      "The CommonGround optimization problem had no optimal solution.\n",
      "The tCommonGround optimization problem had no optimal solution.\n",
      "The CommonGround optimization problem had no optimal solution.\n",
      "The tCommonGround optimization problem had no optimal solution.\n",
      "The CommonGround_entani optimization problem had no optimal solution.\n",
      "The CommonGround optimization problem had no optimal solution.\n",
      "The tCommonGround optimization problem had no optimal solution.\n",
      "The CommonGround optimization problem had no optimal solution.\n"
     ]
    },
    {
     "name": "stdout",
     "output_type": "stream",
     "text": [
      "The CommonGround optimization problem had no optimal solution.\n",
      "The tCommonGround optimization problem had no optimal solution.\n",
      "The CommonGround optimization problem had no optimal solution.\n",
      "The tCommonGround optimization problem had no optimal solution.\n",
      "The CommonGround optimization problem had no optimal solution.\n",
      "The tCommonGround optimization problem had no optimal solution.\n"
     ]
    },
    {
     "name": "stdout",
     "output_type": "stream",
     "text": [
      "The CommonGround_entani optimization problem had no optimal solution.\n",
      "The CommonGround optimization problem had no optimal solution.\n",
      "The tCommonGround optimization problem had no optimal solution.\n",
      "The CommonGround optimization problem had no optimal solution.\n",
      "The tCommonGround optimization problem had no optimal solution.\n"
     ]
    },
    {
     "name": "stdout",
     "output_type": "stream",
     "text": [
      "The CommonGround_entani optimization problem had no optimal solution.\n",
      "The CommonGround optimization problem had no optimal solution.\n",
      "The tCommonGround optimization problem had no optimal solution.\n",
      "The CommonGround_entani optimization problem had no optimal solution.\n",
      "The CommonGround optimization problem had no optimal solution.\n",
      "The CommonGround_entani optimization problem had no optimal solution.\n",
      "The CommonGround optimization problem had no optimal solution.\n",
      "The tCommonGround optimization problem had no optimal solution.\n",
      "The tCommonGround optimization problem had no optimal solution.\n"
     ]
    },
    {
     "name": "stdout",
     "output_type": "stream",
     "text": [
      "The CommonGround_entani optimization problem had no optimal solution.\n",
      "The CommonGround_entani optimization problem had no optimal solution.\n",
      "The CommonGround optimization problem had no optimal solution.\n",
      "The CommonGround optimization problem had no optimal solution.\n",
      "The tCommonGround optimization problem had no optimal solution.\n",
      "The tCommonGround optimization problem had no optimal solution.\n",
      "The CommonGround optimization problem had no optimal solution.\n",
      "The tCommonGround optimization problem had no optimal solution.\n",
      "The CommonGround_entani optimization problem had no optimal solution."
     ]
    },
    {
     "name": "stdout",
     "output_type": "stream",
     "text": [
      "\n",
      "The CommonGround_entani optimization problem had no optimal solution.\n",
      "The CommonGround_entani optimization problem had no optimal solution.\n",
      "The CommonGround optimization problem had no optimal solution.\n",
      "The CommonGround optimization problem had no optimal solution.\n",
      "The tCommonGround optimization problem had no optimal solution.\n",
      "The tCommonGround optimization problem had no optimal solution.\n",
      "The CommonGround optimization problem had no optimal solution.\n",
      "The tCommonGround optimization problem had no optimal solution.\n",
      "The CommonGround optimization problem had no optimal solution.\n",
      "The tCommonGround optimization problem had no optimal solution.\n",
      "The CommonGround_entani optimization problem had no optimal solution.\n",
      "The CommonGround_entani optimization problem had no optimal solution.\n",
      "The CommonGround optimization problem had no optimal solution.\n",
      "The CommonGround optimization problem had no optimal solution.\n",
      "The tCommonGround optimization problem had no optimal solution.\n",
      "The tCommonGround optimization problem had no optimal solution.\n",
      "The CommonGround_entani optimization problem had no optimal solution.\n",
      "The CommonGround optimization problem had no optimal solution.\n",
      "The tCommonGround optimization problem had no optimal solution.\n",
      "The CommonGround_entani optimization problem had no optimal solution.\n",
      "The CommonGround_entani optimization problem had no optimal solution.\n",
      "The CommonGround optimization problem had no optimal solution.\n",
      "The CommonGround_entani optimization problem had no optimal solution.\n",
      "The CommonGround optimization problem had no optimal solution."
     ]
    },
    {
     "name": "stdout",
     "output_type": "stream",
     "text": [
      "\n",
      "The CommonGround_entani optimization problem had no optimal solution.\n",
      "The tCommonGround optimization problem had no optimal solution.\n",
      "The CommonGround optimization problem had no optimal solution.\n"
     ]
    },
    {
     "name": "stdout",
     "output_type": "stream",
     "text": [
      "The CommonGround optimization problem had no optimal solution.\n",
      "The tCommonGround optimization problem had no optimal solution.\n",
      "The tCommonGround optimization problem had no optimal solution.\n",
      "The CommonGround optimization problem had no optimal solution."
     ]
    },
    {
     "name": "stdout",
     "output_type": "stream",
     "text": [
      "\n",
      "The tCommonGround optimization problem had no optimal solution.\n",
      "The CommonGround_entani optimization problem had no optimal solution.\n",
      "The CommonGround optimization problem had no optimal solution.\n",
      "The tCommonGround optimization problem had no optimal solution.\n",
      "The CommonGround optimization problem had no optimal solution.\n",
      "The tCommonGround optimization problem had no optimal solution.\n",
      "The CommonGround_entani optimization problem had no optimal solution.\n"
     ]
    },
    {
     "name": "stdout",
     "output_type": "stream",
     "text": [
      "The CommonGround optimization problem had no optimal solution.\n",
      "The tCommonGround optimization problem had no optimal solution.\n",
      "The CommonGround_entani optimization problem had no optimal solution.\n",
      "The CommonGround optimization problem had no optimal solution.\n",
      "The tCommonGround optimization problem had no optimal solution.\n",
      "The CommonGround optimization problem had no optimal solution.\n",
      "The tCommonGround optimization problem had no optimal solution.\n",
      "The CommonGround optimization problem had no optimal solution."
     ]
    },
    {
     "name": "stdout",
     "output_type": "stream",
     "text": [
      "\n",
      "The tCommonGround optimization problem had no optimal solution.\n"
     ]
    },
    {
     "name": "stdout",
     "output_type": "stream",
     "text": [
      "The CommonGround_entani optimization problem had no optimal solution.\n",
      "The CommonGround optimization problem had no optimal solution.\n",
      "The tCommonGround optimization problem had no optimal solution.\n",
      "The CommonGround optimization problem had no optimal solution.\n",
      "The tCommonGround optimization problem had no optimal solution.\n",
      "The CommonGround_entani optimization problem had no optimal solution.\n",
      "The CommonGround optimization problem had no optimal solution.\n",
      "The tCommonGround optimization problem had no optimal solution.\n",
      "The CommonGround optimization problem had no optimal solution.\n",
      "The tCommonGround optimization problem had no optimal solution.\n",
      "The CommonGround optimization problem had no optimal solution.\n",
      "The CommonGround_entani optimization problem had no optimal solution.\n",
      "The CommonGround optimization problem had no optimal solution.\n",
      "The CommonGround optimization problem had no optimal solution.\n",
      "The tCommonGround optimization problem had no optimal solution.\n",
      "The CommonGround_entani optimization problem had no optimal solution.\n",
      "The CommonGround optimization problem had no optimal solution.\n",
      "The tCommonGround optimization problem had no optimal solution.\n",
      "The CommonGround_entani optimization problem had no optimal solution.\n"
     ]
    },
    {
     "name": "stdout",
     "output_type": "stream",
     "text": [
      "The CommonGround optimization problem had no optimal solution.\n",
      "The tCommonGround optimization problem had no optimal solution.\n",
      "The CommonGround optimization problem had no optimal solution.\n",
      "The CommonGround_entani optimization problem had no optimal solution.\n",
      "The tCommonGround optimization problem had no optimal solution.\n",
      "The CommonGround optimization problem had no optimal solution.\n",
      "The tCommonGround optimization problem had no optimal solution.\n",
      "The CommonGround_entani optimization problem had no optimal solution.\n",
      "The CommonGround optimization problem had no optimal solution."
     ]
    },
    {
     "name": "stdout",
     "output_type": "stream",
     "text": [
      "\n",
      "The CommonGround optimization problem had no optimal solution.\n",
      "The tCommonGround optimization problem had no optimal solution.\n",
      "The tCommonGround optimization problem had no optimal solution.\n",
      "The CommonGround_entani optimization problem had no optimal solution.\n",
      "The CommonGround optimization problem had no optimal solution.\n",
      "The tCommonGround optimization problem had no optimal solution.\n",
      "The CommonGround optimization problem had no optimal solution.\n",
      "The tCommonGround optimization problem had no optimal solution.\n",
      "The CommonGround optimization problem had no optimal solution."
     ]
    },
    {
     "name": "stdout",
     "output_type": "stream",
     "text": [
      "\n",
      "The tCommonGround optimization problem had no optimal solution.\n"
     ]
    },
    {
     "name": "stdout",
     "output_type": "stream",
     "text": [
      "The CommonGround_entani optimization problem had no optimal solution.\n",
      "The CommonGround_entani optimization problem had no optimal solution.\n",
      "The CommonGround optimization problem had no optimal solution.\n",
      "The CommonGround optimization problem had no optimal solution.\n",
      "The tCommonGround optimization problem had no optimal solution.\n",
      "The tCommonGround optimization problem had no optimal solution.\n",
      "The CommonGround optimization problem had no optimal solution."
     ]
    },
    {
     "name": "stdout",
     "output_type": "stream",
     "text": [
      "\n",
      "The CommonGround_entani optimization problem had no optimal solution.\n",
      "The tCommonGround optimization problem had no optimal solution.\n"
     ]
    },
    {
     "name": "stdout",
     "output_type": "stream",
     "text": [
      "The CommonGround optimization problem had no optimal solution.\n",
      "The tCommonGround optimization problem had no optimal solution.\n",
      "The CommonGround optimization problem had no optimal solution.\n",
      "The tCommonGround optimization problem had no optimal solution.\n",
      "The CommonGround_entani optimization problem had no optimal solution.\n",
      "The CommonGround optimization problem had no optimal solution.\n",
      "The tCommonGround optimization problem had no optimal solution.\n",
      "The CommonGround optimization problem had no optimal solution.\n",
      "The tCommonGround optimization problem had no optimal solution.\n",
      "The CommonGround_entani optimization problem had no optimal solution.\n",
      "The CommonGround optimization problem had no optimal solution.\n",
      "The tCommonGround optimization problem had no optimal solution.\n",
      "The CommonGround_entani optimization problem had no optimal solution.\n",
      "The CommonGround optimization problem had no optimal solution.\n",
      "The tCommonGround optimization problem had no optimal solution.\n",
      "The CommonGround optimization problem had no optimal solution.\n",
      "The tCommonGround optimization problem had no optimal solution.\n",
      "The CommonGround optimization problem had no optimal solution."
     ]
    },
    {
     "name": "stdout",
     "output_type": "stream",
     "text": [
      "\n"
     ]
    },
    {
     "name": "stdout",
     "output_type": "stream",
     "text": [
      "The tCommonGround optimization problem had no optimal solution.\n",
      "The CommonGround_entani optimization problem had no optimal solution.\n",
      "The CommonGround optimization problem had no optimal solution.\n",
      "The tCommonGround optimization problem had no optimal solution.\n",
      "The CommonGround optimization problem had no optimal solution.\n",
      "The tCommonGround optimization problem had no optimal solution.\n",
      "The CommonGround_entani optimization problem had no optimal solution."
     ]
    },
    {
     "name": "stdout",
     "output_type": "stream",
     "text": [
      "\n",
      "The CommonGround optimization problem had no optimal solution.\n",
      "The tCommonGround optimization problem had no optimal solution.\n"
     ]
    },
    {
     "name": "stdout",
     "output_type": "stream",
     "text": [
      "The CommonGround_entani optimization problem had no optimal solution.\n",
      "The CommonGround optimization problem had no optimal solution.\n",
      "The CommonGround optimization problem had no optimal solution.\n",
      "The tCommonGround optimization problem had no optimal solution.\n",
      "The tCommonGround optimization problem had no optimal solution.\n",
      "The CommonGround_entani optimization problem had no optimal solution.\n",
      "The CommonGround_entani optimization problem had no optimal solution.\n",
      "The CommonGround optimization problem had no optimal solution.\n",
      "The tCommonGround optimization problem had no optimal solution.\n",
      "The CommonGround optimization problem had no optimal solution.\n",
      "The tCommonGround optimization problem had no optimal solution.\n",
      "The CommonGround_entani optimization problem had no optimal solution.\n",
      "The CommonGround optimization problem had no optimal solution.\n",
      "The tCommonGround optimization problem had no optimal solution.\n",
      "The CommonGround_entani optimization problem had no optimal solution.\n",
      "The CommonGround optimization problem had no optimal solution.\n",
      "The tCommonGround optimization problem had no optimal solution.\n",
      "The CommonGround optimization problem had no optimal solution.\n",
      "The tCommonGround optimization problem had no optimal solution.\n",
      "The CommonGround_entani optimization problem had no optimal solution.\n",
      "The CommonGround optimization problem had no optimal solution.\n",
      "The tCommonGround optimization problem had no optimal solution.\n",
      "The CommonGround optimization problem had no optimal solution.\n",
      "The tCommonGround optimization problem had no optimal solution.\n",
      "The CommonGround_entani optimization problem had no optimal solution.\n",
      "The CommonGround optimization problem had no optimal solution.\n",
      "The tCommonGround optimization problem had no optimal solution.\n",
      "The CommonGround_entani optimization problem had no optimal solution.\n",
      "The CommonGround optimization problem had no optimal solution.\n",
      "The tCommonGround optimization problem had no optimal solution.\n"
     ]
    },
    {
     "name": "stdout",
     "output_type": "stream",
     "text": [
      "The CommonGround_entani optimization problem had no optimal solution.\n",
      "The CommonGround optimization problem had no optimal solution.\n",
      "The tCommonGround optimization problem had no optimal solution.\n",
      "The CommonGround optimization problem had no optimal solution.\n",
      "The tCommonGround optimization problem had no optimal solution.\n",
      "The CommonGround_entani optimization problem had no optimal solution.\n",
      "The CommonGround optimization problem had no optimal solution.\n",
      "The tCommonGround optimization problem had no optimal solution.\n",
      "The CommonGround_entani optimization problem had no optimal solution.\n",
      "The CommonGround optimization problem had no optimal solution.\n",
      "The tCommonGround optimization problem had no optimal solution.\n",
      "The CommonGround_entani optimization problem had no optimal solution.\n",
      "The CommonGround optimization problem had no optimal solution.\n",
      "The tCommonGround optimization problem had no optimal solution.\n",
      "The CommonGround optimization problem had no optimal solution.\n",
      "The CommonGround_entani optimization problem had no optimal solution."
     ]
    },
    {
     "name": "stdout",
     "output_type": "stream",
     "text": [
      "\n",
      "The CommonGround optimization problem had no optimal solution.\n",
      "The tCommonGround optimization problem had no optimal solution.\n"
     ]
    },
    {
     "name": "stdout",
     "output_type": "stream",
     "text": [
      "The CommonGround_entani optimization problem had no optimal solution.\n",
      "The CommonGround optimization problem had no optimal solution.\n",
      "The CommonGround_entani optimization problem had no optimal solution.\n",
      "The CommonGround optimization problem had no optimal solution.\n",
      "The tCommonGround optimization problem had no optimal solution.\n",
      "The tCommonGround optimization problem had no optimal solution.\n",
      "The CommonGround_entani optimization problem had no optimal solution.\n",
      "The CommonGround optimization problem had no optimal solution.\n",
      "The tCommonGround optimization problem had no optimal solution.\n",
      "The CommonGround optimization problem had no optimal solution.\n",
      "The tCommonGround optimization problem had no optimal solution.\n",
      "The CommonGround_entani optimization problem had no optimal solution.\n",
      "The CommonGround optimization problem had no optimal solution.\n",
      "The CommonGround optimization problem had no optimal solution.\n",
      "The tCommonGround optimization problem had no optimal solution.\n",
      "The CommonGround optimization problem had no optimal solution.\n",
      "The tCommonGround optimization problem had no optimal solution.\n",
      "The CommonGround_entani optimization problem had no optimal solution.\n",
      "The CommonGround optimization problem had no optimal solution.\n",
      "The tCommonGround optimization problem had no optimal solution.\n",
      "The CommonGround_entani optimization problem had no optimal solution."
     ]
    },
    {
     "name": "stdout",
     "output_type": "stream",
     "text": [
      "\n",
      "The CommonGround optimization problem had no optimal solution.\n"
     ]
    },
    {
     "name": "stdout",
     "output_type": "stream",
     "text": [
      "The tCommonGround optimization problem had no optimal solution.\n",
      "The CommonGround_entani optimization problem had no optimal solution.\n",
      "The CommonGround optimization problem had no optimal solution.\n",
      "The tCommonGround optimization problem had no optimal solution.\n",
      "The CommonGround optimization problem had no optimal solution.\n",
      "The tCommonGround optimization problem had no optimal solution.\n",
      "The CommonGround_entani optimization problem had no optimal solution."
     ]
    },
    {
     "name": "stdout",
     "output_type": "stream",
     "text": [
      "\n"
     ]
    },
    {
     "name": "stdout",
     "output_type": "stream",
     "text": [
      "The CommonGround optimization problem had no optimal solution.\n",
      "The CommonGround_entani optimization problem had no optimal solution.\n",
      "The tCommonGround optimization problem had no optimal solution.\n",
      "The CommonGround optimization problem had no optimal solution.\n",
      "The tCommonGround optimization problem had no optimal solution.\n",
      "The CommonGround optimization problem had no optimal solution.\n",
      "The CommonGround_entani optimization problem had no optimal solution.\n",
      "The tCommonGround optimization problem had no optimal solution.\n",
      "The CommonGround optimization problem had no optimal solution.\n",
      "The tCommonGround optimization problem had no optimal solution.\n",
      "The CommonGround optimization problem had no optimal solution.\n",
      "The CommonGround_entani optimization problem had no optimal solution.\n",
      "The CommonGround optimization problem had no optimal solution.\n",
      "The tCommonGround optimization problem had no optimal solution.\n",
      "The tCommonGround optimization problem had no optimal solution.\n",
      "The CommonGround_entani optimization problem had no optimal solution.\n",
      "The CommonGround optimization problem had no optimal solution.\n",
      "The tCommonGround optimization problem had no optimal solution.\n",
      "The CommonGround_entani optimization problem had no optimal solution."
     ]
    },
    {
     "name": "stdout",
     "output_type": "stream",
     "text": [
      "\n",
      "The CommonGround optimization problem had no optimal solution.\n",
      "The tCommonGround optimization problem had no optimal solution.\n"
     ]
    },
    {
     "name": "stdout",
     "output_type": "stream",
     "text": [
      "The CommonGround_entani optimization problem had no optimal solution.\n",
      "The CommonGround optimization problem had no optimal solution.\n",
      "The tCommonGround optimization problem had no optimal solution.\n",
      "The CommonGround optimization problem had no optimal solution.\n",
      "The tCommonGround optimization problem had no optimal solution.\n",
      "The CommonGround optimization problem had no optimal solution.\n",
      "The tCommonGround optimization problem had no optimal solution.\n",
      "The CommonGround optimization problem had no optimal solution.\n",
      "The tCommonGround optimization problem had no optimal solution.\n",
      "The CommonGround_entani optimization problem had no optimal solution.\n",
      "The CommonGround optimization problem had no optimal solution.\n",
      "The tCommonGround optimization problem had no optimal solution.\n",
      "The CommonGround optimization problem had no optimal solution.\n",
      "The tCommonGround optimization problem had no optimal solution.\n",
      "The CommonGround optimization problem had no optimal solution."
     ]
    },
    {
     "name": "stdout",
     "output_type": "stream",
     "text": [
      "\n",
      "The tCommonGround optimization problem had no optimal solution.\n"
     ]
    },
    {
     "name": "stdout",
     "output_type": "stream",
     "text": [
      "The CommonGround optimization problem had no optimal solution.\n",
      "The tCommonGround optimization problem had no optimal solution.\n",
      "The CommonGround_entani optimization problem had no optimal solution.\n",
      "The CommonGround optimization problem had no optimal solution.\n",
      "The CommonGround optimization problem had no optimal solution.\n",
      "The tCommonGround optimization problem had no optimal solution.\n",
      "The tCommonGround optimization problem had no optimal solution.\n",
      "The CommonGround_entani optimization problem had no optimal solution.\n",
      "The CommonGround optimization problem had no optimal solution.\n"
     ]
    },
    {
     "name": "stdout",
     "output_type": "stream",
     "text": [
      "The tCommonGround optimization problem had no optimal solution.\n",
      "The CommonGround_entani optimization problem had no optimal solution.\n",
      "The CommonGround optimization problem had no optimal solution.\n",
      "The tCommonGround optimization problem had no optimal solution.\n",
      "The CommonGround optimization problem had no optimal solution."
     ]
    },
    {
     "name": "stdout",
     "output_type": "stream",
     "text": [
      "\n",
      "The CommonGround_entani optimization problem had no optimal solution.\n",
      "The tCommonGround optimization problem had no optimal solution.\n",
      "The CommonGround optimization problem had no optimal solution.\n",
      "The tCommonGround optimization problem had no optimal solution.\n",
      "The CommonGround optimization problem had no optimal solution."
     ]
    },
    {
     "name": "stdout",
     "output_type": "stream",
     "text": [
      "\n",
      "The CommonGround_entani optimization problem had no optimal solution.\n",
      "The CommonGround_entani optimization problem had no optimal solution.\n",
      "The tCommonGround optimization problem had no optimal solution.\n",
      "The CommonGround optimization problem had no optimal solution.\n",
      "The CommonGround optimization problem had no optimal solution.\n",
      "The tCommonGround optimization problem had no optimal solution.\n",
      "The tCommonGround optimization problem had no optimal solution.\n",
      "The CommonGround_entani optimization problem had no optimal solution.\n",
      "The CommonGround optimization problem had no optimal solution.\n",
      "The tCommonGround optimization problem had no optimal solution.\n",
      "The CommonGround_entani optimization problem had no optimal solution.\n",
      "The CommonGround optimization problem had no optimal solution.\n",
      "The tCommonGround optimization problem had no optimal solution.\n",
      "The CommonGround optimization problem had no optimal solution.\n",
      "The tCommonGround optimization problem had no optimal solution.\n",
      "The CommonGround_entani optimization problem had no optimal solution.\n",
      "The CommonGround optimization problem had no optimal solution.\n",
      "The tCommonGround optimization problem had no optimal solution.\n",
      "The CommonGround_entani optimization problem had no optimal solution.\n",
      "The CommonGround optimization problem had no optimal solution.\n",
      "The CommonGround optimization problem had no optimal solution.\n",
      "The tCommonGround optimization problem had no optimal solution.\n",
      "The CommonGround optimization problem had no optimal solution.\n",
      "The tCommonGround optimization problem had no optimal solution.\n",
      "The CommonGround_entani optimization problem had no optimal solution."
     ]
    },
    {
     "name": "stdout",
     "output_type": "stream",
     "text": [
      "\n",
      "The CommonGround optimization problem had no optimal solution.\n"
     ]
    },
    {
     "name": "stdout",
     "output_type": "stream",
     "text": [
      "The tCommonGround optimization problem had no optimal solution.\n",
      "The CommonGround_entani optimization problem had no optimal solution.\n",
      "The CommonGround optimization problem had no optimal solution.\n",
      "The CommonGround optimization problem had no optimal solution.\n",
      "The tCommonGround optimization problem had no optimal solution.\n",
      "The CommonGround_entani optimization problem had no optimal solution.\n",
      "The CommonGround optimization problem had no optimal solution.\n",
      "The tCommonGround optimization problem had no optimal solution.\n",
      "The CommonGround_entani optimization problem had no optimal solution.\n",
      "The CommonGround optimization problem had no optimal solution.\n",
      "The tCommonGround optimization problem had no optimal solution.\n",
      "The CommonGround_entani optimization problem had no optimal solution.\n",
      "The CommonGround optimization problem had no optimal solution.\n",
      "The tCommonGround optimization problem had no optimal solution.\n",
      "The CommonGround_entani optimization problem had no optimal solution.\n",
      "The CommonGround optimization problem had no optimal solution.\n",
      "The tCommonGround optimization problem had no optimal solution.\n",
      "The CommonGround optimization problem had no optimal solution."
     ]
    },
    {
     "name": "stdout",
     "output_type": "stream",
     "text": [
      "\n",
      "The CommonGround optimization problem had no optimal solution.\n",
      "The CommonGround optimization problem had no optimal solution.\n",
      "The tCommonGround optimization problem had no optimal solution.\n",
      "The CommonGround optimization problem had no optimal solution.\n",
      "The CommonGround optimization problem had no optimal solution."
     ]
    },
    {
     "name": "stdout",
     "output_type": "stream",
     "text": [
      "\n"
     ]
    },
    {
     "name": "stdout",
     "output_type": "stream",
     "text": [
      "The CommonGround optimization problem had no optimal solution.\n",
      "The tCommonGround optimization problem had no optimal solution.\n",
      "The CommonGround_entani optimization problem had no optimal solution.\n",
      "The CommonGround optimization problem had no optimal solution.\n",
      "The CommonGround optimization problem had no optimal solution.\n",
      "The tCommonGround optimization problem had no optimal solution.\n",
      "The tCommonGround optimization problem had no optimal solution.\n",
      "The CommonGround_entani optimization problem had no optimal solution.\n",
      "The CommonGround optimization problem had no optimal solution.\n",
      "The tCommonGround optimization problem had no optimal solution.\n",
      "The CommonGround optimization problem had no optimal solution.\n",
      "The tCommonGround optimization problem had no optimal solution.\n",
      "The CommonGround optimization problem had no optimal solution.\n",
      "The CommonGround_entani optimization problem had no optimal solution.\n",
      "The CommonGround optimization problem had no optimal solution.\n",
      "The tCommonGround optimization problem had no optimal solution.\n",
      "The tCommonGround optimization problem had no optimal solution.\n"
     ]
    },
    {
     "name": "stdout",
     "output_type": "stream",
     "text": [
      "The CommonGround optimization problem had no optimal solution.\n",
      "The CommonGround_entani optimization problem had no optimal solution.\n",
      "The CommonGround optimization problem had no optimal solution.\n",
      "The tCommonGround optimization problem had no optimal solution.\n",
      "The CommonGround_entani optimization problem had no optimal solution.\n",
      "The tCommonGround optimization problem had no optimal solution.\n",
      "The CommonGround optimization problem had no optimal solution.\n",
      "The tCommonGround optimization problem had no optimal solution.\n",
      "The CommonGround optimization problem had no optimal solution.\n",
      "The tCommonGround optimization problem had no optimal solution.\n",
      "The CommonGround_entani optimization problem had no optimal solution.\n",
      "The CommonGround_entani optimization problem had no optimal solution.\n",
      "The CommonGround optimization problem had no optimal solution.\n",
      "The tCommonGround optimization problem had no optimal solution.\n",
      "The CommonGround optimization problem had no optimal solution.\n",
      "The tCommonGround optimization problem had no optimal solution.\n",
      "The CommonGround optimization problem had no optimal solution.\n",
      "The CommonGround_entani optimization problem had no optimal solution."
     ]
    },
    {
     "name": "stdout",
     "output_type": "stream",
     "text": [
      "\n",
      "The CommonGround optimization problem had no optimal solution.\n",
      "The tCommonGround optimization problem had no optimal solution.\n",
      "The CommonGround_entani optimization problem had no optimal solution.\n",
      "The tCommonGround optimization problem had no optimal solution.\n",
      "The CommonGround optimization problem had no optimal solution.\n",
      "The tCommonGround optimization problem had no optimal solution.\n",
      "The CommonGround optimization problem had no optimal solution.\n",
      "The tCommonGround optimization problem had no optimal solution.\n",
      "The CommonGround optimization problem had no optimal solution."
     ]
    },
    {
     "name": "stdout",
     "output_type": "stream",
     "text": [
      "\n",
      "The CommonGround optimization problem had no optimal solution.\n",
      "The tCommonGround optimization problem had no optimal solution.\n",
      "The CommonGround optimization problem had no optimal solution.\n",
      "The tCommonGround optimization problem had no optimal solution.\n",
      "The CommonGround optimization problem had no optimal solution."
     ]
    },
    {
     "name": "stdout",
     "output_type": "stream",
     "text": [
      "\n",
      "The tCommonGround optimization problem had no optimal solution.\n",
      "The CommonGround_entani optimization problem had no optimal solution.\n",
      "The CommonGround optimization problem had no optimal solution.\n",
      "The tCommonGround optimization problem had no optimal solution.\n",
      "The CommonGround_entani optimization problem had no optimal solution."
     ]
    },
    {
     "name": "stdout",
     "output_type": "stream",
     "text": [
      "\n",
      "The CommonGround_entani optimization problem had no optimal solution.\n",
      "The CommonGround optimization problem had no optimal solution.\n",
      "The CommonGround optimization problem had no optimal solution.\n",
      "The CommonGround_entani optimization problem had no optimal solution.\n",
      "The tCommonGround optimization problem had no optimal solution.\n",
      "The CommonGround optimization problem had no optimal solution.\n",
      "The tCommonGround optimization problem had no optimal solution.\n",
      "The tCommonGround optimization problem had no optimal solution.\n",
      "The CommonGround_entani optimization problem had no optimal solution.\n",
      "The CommonGround optimization problem had no optimal solution.\n",
      "The tCommonGround optimization problem had no optimal solution.\n",
      "The CommonGround_entani optimization problem had no optimal solution.\n",
      "The CommonGround_entani optimization problem had no optimal solution.\n",
      "The CommonGround optimization problem had no optimal solution.\n",
      "The CommonGround optimization problem had no optimal solution.\n",
      "The tCommonGround optimization problem had no optimal solution.\n",
      "The tCommonGround optimization problem had no optimal solution.\n",
      "The CommonGround optimization problem had no optimal solution.\n",
      "The CommonGround optimization problem had no optimal solution.\n",
      "The tCommonGround optimization problem had no optimal solution.\n",
      "The CommonGround optimization problem had no optimal solution.\n",
      "The tCommonGround optimization problem had no optimal solution.\n",
      "The CommonGround_entani optimization problem had no optimal solution."
     ]
    },
    {
     "name": "stdout",
     "output_type": "stream",
     "text": [
      "\n",
      "The CommonGround optimization problem had no optimal solution.\n",
      "The tCommonGround optimization problem had no optimal solution.\n",
      "The CommonGround_entani optimization problem had no optimal solution.\n",
      "The CommonGround optimization problem had no optimal solution.\n",
      "The tCommonGround optimization problem had no optimal solution.\n",
      "The CommonGround optimization problem had no optimal solution.\n",
      "The tCommonGround optimization problem had no optimal solution.\n",
      "The CommonGround optimization problem had no optimal solution.\n",
      "The CommonGround optimization problem had no optimal solution.\n",
      "The tCommonGround optimization problem had no optimal solution.\n",
      "The CommonGround optimization problem had no optimal solution.\n",
      "The tCommonGround optimization problem had no optimal solution.\n",
      "The CommonGround optimization problem had no optimal solution."
     ]
    },
    {
     "name": "stdout",
     "output_type": "stream",
     "text": [
      "\n",
      "The CommonGround_entani optimization problem had no optimal solution.\n",
      "The tCommonGround optimization problem had no optimal solution.\n",
      "The CommonGround optimization problem had no optimal solution.\n",
      "The CommonGround optimization problem had no optimal solution.\n",
      "The tCommonGround optimization problem had no optimal solution.\n",
      "The CommonGround optimization problem had no optimal solution.\n",
      "The tCommonGround optimization problem had no optimal solution.\n",
      "The CommonGround_entani optimization problem had no optimal solution."
     ]
    },
    {
     "name": "stdout",
     "output_type": "stream",
     "text": [
      "\n",
      "The CommonGround optimization problem had no optimal solution.\n",
      "The CommonGround_entani optimization problem had no optimal solution.\n",
      "The tCommonGround optimization problem had no optimal solution.\n",
      "The CommonGround optimization problem had no optimal solution.\n",
      "The CommonGround optimization problem had no optimal solution.\n",
      "The CommonGround optimization problem had no optimal solution.\n",
      "The tCommonGround optimization problem had no optimal solution.\n",
      "The tCommonGround optimization problem had no optimal solution.\n",
      "The tCommonGround optimization problem had no optimal solution.\n",
      "The CommonGround optimization problem had no optimal solution.\n",
      "The tCommonGround optimization problem had no optimal solution.\n",
      "The CommonGround optimization problem had no optimal solution.\n",
      "The tCommonGround optimization problem had no optimal solution.\n",
      "The CommonGround_entani optimization problem had no optimal solution.\n",
      "The CommonGround optimization problem had no optimal solution.\n",
      "The tCommonGround optimization problem had no optimal solution.\n",
      "The CommonGround_entani optimization problem had no optimal solution.\n",
      "The CommonGround optimization problem had no optimal solution.\n",
      "The tCommonGround optimization problem had no optimal solution.\n",
      "The CommonGround optimization problem had no optimal solution.\n",
      "The CommonGround optimization problem had no optimal solution.\n",
      "The CommonGround_entani optimization problem had no optimal solution.\n",
      "The tCommonGround optimization problem had no optimal solution.\n",
      "The CommonGround optimization problem had no optimal solution.\n",
      "The tCommonGround optimization problem had no optimal solution.\n",
      "The CommonGround_entani optimization problem had no optimal solution."
     ]
    },
    {
     "name": "stdout",
     "output_type": "stream",
     "text": [
      "\n",
      "The CommonGround optimization problem had no optimal solution.\n",
      "The tCommonGround optimization problem had no optimal solution.\n",
      "The CommonGround optimization problem had no optimal solution.\n",
      "The CommonGround_entani optimization problem had no optimal solution.\n",
      "The CommonGround optimization problem had no optimal solution.\n",
      "The tCommonGround optimization problem had no optimal solution.\n",
      "The tCommonGround optimization problem had no optimal solution.\n",
      "The CommonGround optimization problem had no optimal solution.\n",
      "The tCommonGround optimization problem had no optimal solution.\n",
      "The CommonGround_entani optimization problem had no optimal solution.\n",
      "The CommonGround optimization problem had no optimal solution.\n",
      "The tCommonGround optimization problem had no optimal solution.\n",
      "The CommonGround_entani optimization problem had no optimal solution.\n",
      "The CommonGround optimization problem had no optimal solution.\n",
      "The tCommonGround optimization problem had no optimal solution.\n",
      "The CommonGround_entani optimization problem had no optimal solution."
     ]
    },
    {
     "name": "stdout",
     "output_type": "stream",
     "text": [
      "\n",
      "The CommonGround optimization problem had no optimal solution.\n",
      "The tCommonGround optimization problem had no optimal solution.\n",
      "The CommonGround_entani optimization problem had no optimal solution.\n",
      "The CommonGround optimization problem had no optimal solution.\n",
      "The tCommonGround optimization problem had no optimal solution.\n",
      "The CommonGround_entani optimization problem had no optimal solution.\n",
      "The CommonGround optimization problem had no optimal solution.\n",
      "The tCommonGround optimization problem had no optimal solution.\n",
      "The CommonGround_entani optimization problem had no optimal solution.\n",
      "The CommonGround optimization problem had no optimal solution.\n",
      "The tCommonGround optimization problem had no optimal solution.\n",
      "The CommonGround optimization problem had no optimal solution.\n",
      "The tCommonGround optimization problem had no optimal solution.\n",
      "The CommonGround_entani optimization problem had no optimal solution."
     ]
    },
    {
     "name": "stdout",
     "output_type": "stream",
     "text": [
      "\n",
      "The CommonGround optimization problem had no optimal solution.\n",
      "The tCommonGround optimization problem had no optimal solution.\n",
      "The CommonGround optimization problem had no optimal solution.\n",
      "The tCommonGround optimization problem had no optimal solution.\n",
      "The CommonGround optimization problem had no optimal solution.\n",
      "The CommonGround_entani optimization problem had no optimal solution.\n",
      "The tCommonGround optimization problem had no optimal solution.\n",
      "The CommonGround optimization problem had no optimal solution.\n",
      "The tCommonGround optimization problem had no optimal solution.\n",
      "The CommonGround optimization problem had no optimal solution.\n",
      "The tCommonGround optimization problem had no optimal solution.\n",
      "The CommonGround_entani optimization problem had no optimal solution.\n",
      "The CommonGround optimization problem had no optimal solution.\n",
      "The tCommonGround optimization problem had no optimal solution.\n",
      "The CommonGround_entani optimization problem had no optimal solution.\n",
      "The CommonGround optimization problem had no optimal solution.\n",
      "The tCommonGround optimization problem had no optimal solution.\n",
      "The CommonGround_entani optimization problem had no optimal solution."
     ]
    },
    {
     "name": "stdout",
     "output_type": "stream",
     "text": [
      "\n",
      "The CommonGround optimization problem had no optimal solution.\n",
      "The tCommonGround optimization problem had no optimal solution.\n"
     ]
    },
    {
     "name": "stdout",
     "output_type": "stream",
     "text": [
      "The CommonGround optimization problem had no optimal solution.\n",
      "The tCommonGround optimization problem had no optimal solution.\n",
      "The CommonGround optimization problem had no optimal solution.\n",
      "The CommonGround_entani optimization problem had no optimal solution.\n",
      "The CommonGround optimization problem had no optimal solution.\n",
      "The tCommonGround optimization problem had no optimal solution.\n",
      "The CommonGround_entani optimization problem had no optimal solution.\n",
      "The CommonGround optimization problem had no optimal solution.\n",
      "The CommonGround optimization problem had no optimal solution.\n",
      "The tCommonGround optimization problem had no optimal solution.\n"
     ]
    },
    {
     "name": "stdout",
     "output_type": "stream",
     "text": [
      "The CommonGround optimization problem had no optimal solution.\n",
      "The CommonGround optimization problem had no optimal solution.\n",
      "The tCommonGround optimization problem had no optimal solution.\n",
      "The CommonGround optimization problem had no optimal solution.\n",
      "The tCommonGround optimization problem had no optimal solution.\n",
      "The CommonGround optimization problem had no optimal solution."
     ]
    },
    {
     "name": "stdout",
     "output_type": "stream",
     "text": [
      "\n",
      "The tCommonGround optimization problem had no optimal solution.\n"
     ]
    },
    {
     "name": "stdout",
     "output_type": "stream",
     "text": [
      "The CommonGround_entani optimization problem had no optimal solution.\n",
      "The CommonGround optimization problem had no optimal solution.\n",
      "The tCommonGround optimization problem had no optimal solution.\n",
      "The CommonGround_entani optimization problem had no optimal solution.\n",
      "The CommonGround optimization problem had no optimal solution.\n",
      "The CommonGround_entani optimization problem had no optimal solution.\n",
      "The CommonGround optimization problem had no optimal solution.\n",
      "The CommonGround optimization problem had no optimal solution.\n",
      "The tCommonGround optimization problem had no optimal solution.\n",
      "The tCommonGround optimization problem had no optimal solution.\n",
      "The tCommonGround optimization problem had no optimal solution.\n",
      "The CommonGround_entani optimization problem had no optimal solution.\n",
      "The CommonGround optimization problem had no optimal solution.\n",
      "The tCommonGround optimization problem had no optimal solution.\n",
      "The CommonGround_entani optimization problem had no optimal solution."
     ]
    },
    {
     "name": "stdout",
     "output_type": "stream",
     "text": [
      "\n",
      "The CommonGround optimization problem had no optimal solution.\n",
      "The tCommonGround optimization problem had no optimal solution.\n"
     ]
    },
    {
     "name": "stdout",
     "output_type": "stream",
     "text": [
      "The CommonGround optimization problem had no optimal solution.\n",
      "The CommonGround_entani optimization problem had no optimal solution.\n",
      "The tCommonGround optimization problem had no optimal solution.\n",
      "The CommonGround optimization problem had no optimal solution.\n",
      "The CommonGround optimization problem had no optimal solution.\n",
      "The tCommonGround optimization problem had no optimal solution.\n",
      "The tCommonGround optimization problem had no optimal solution.\n",
      "The CommonGround_entani optimization problem had no optimal solution.\n",
      "The CommonGround optimization problem had no optimal solution.\n",
      "The tCommonGround optimization problem had no optimal solution.\n",
      "The CommonGround_entani optimization problem had no optimal solution.\n",
      "The CommonGround optimization problem had no optimal solution.\n"
     ]
    },
    {
     "name": "stdout",
     "output_type": "stream",
     "text": [
      "The CommonGround optimization problem had no optimal solution.\n",
      "The CommonGround_entani optimization problem had no optimal solution.\n",
      "The tCommonGround optimization problem had no optimal solution.\n",
      "The CommonGround optimization problem had no optimal solution.\n",
      "The tCommonGround optimization problem had no optimal solution.\n",
      "The CommonGround optimization problem had no optimal solution.\n",
      "The CommonGround_entani optimization problem had no optimal solution.\n",
      "The tCommonGround optimization problem had no optimal solution.\n",
      "The CommonGround optimization problem had no optimal solution.\n",
      "The tCommonGround optimization problem had no optimal solution.\n",
      "The CommonGround optimization problem had no optimal solution.\n",
      "The tCommonGround optimization problem had no optimal solution.\n",
      "The CommonGround optimization problem had no optimal solution.\n",
      "The tCommonGround optimization problem had no optimal solution.\n",
      "The CommonGround optimization problem had no optimal solution.\n",
      "The tCommonGround optimization problem had no optimal solution.\n",
      "The CommonGround_entani optimization problem had no optimal solution.\n",
      "The CommonGround optimization problem had no optimal solution.\n",
      "The tCommonGround optimization problem had no optimal solution.\n",
      "The CommonGround_entani optimization problem had no optimal solution.\n",
      "The CommonGround optimization problem had no optimal solution.\n",
      "The tCommonGround optimization problem had no optimal solution.\n",
      "The CommonGround_entani optimization problem had no optimal solution.\n",
      "The CommonGround optimization problem had no optimal solution.\n",
      "The CommonGround_entani optimization problem had no optimal solution.\n",
      "The tCommonGround optimization problem had no optimal solution.\n",
      "The CommonGround optimization problem had no optimal solution.\n",
      "The CommonGround_entani optimization problem had no optimal solution.\n",
      "The tCommonGround optimization problem had no optimal solution.\n",
      "The CommonGround_entani optimization problem had no optimal solution."
     ]
    },
    {
     "name": "stdout",
     "output_type": "stream",
     "text": [
      "\n",
      "The CommonGround optimization problem had no optimal solution.\n",
      "The CommonGround optimization problem had no optimal solution.\n",
      "The tCommonGround optimization problem had no optimal solution.\n",
      "The tCommonGround optimization problem had no optimal solution.\n"
     ]
    },
    {
     "name": "stdout",
     "output_type": "stream",
     "text": [
      "The CommonGround optimization problem had no optimal solution.\n",
      "The tCommonGround optimization problem had no optimal solution.\n",
      "The CommonGround_entani optimization problem had no optimal solution.\n",
      "The CommonGround optimization problem had no optimal solution.\n",
      "The CommonGround_entani optimization problem had no optimal solution.\n",
      "The tCommonGround optimization problem had no optimal solution.\n",
      "The CommonGround_entani optimization problem had no optimal solution.\n",
      "The CommonGround optimization problem had no optimal solution.\n",
      "The CommonGround optimization problem had no optimal solution.\n",
      "The tCommonGround optimization problem had no optimal solution.\n",
      "The tCommonGround optimization problem had no optimal solution.\n"
     ]
    },
    {
     "name": "stdout",
     "output_type": "stream",
     "text": [
      "The CommonGround_entani optimization problem had no optimal solution.\n",
      "The CommonGround_entani optimization problem had no optimal solution.\n",
      "The CommonGround optimization problem had no optimal solution.\n",
      "The CommonGround optimization problem had no optimal solution.\n",
      "The tCommonGround optimization problem had no optimal solution.\n",
      "The tCommonGround optimization problem had no optimal solution.\n",
      "The CommonGround optimization problem had no optimal solution.\n",
      "The tCommonGround optimization problem had no optimal solution.\n",
      "The CommonGround optimization problem had no optimal solution."
     ]
    },
    {
     "name": "stdout",
     "output_type": "stream",
     "text": [
      "\n",
      "The tCommonGround optimization problem had no optimal solution.\n"
     ]
    },
    {
     "name": "stdout",
     "output_type": "stream",
     "text": [
      "The CommonGround optimization problem had no optimal solution.\n",
      "The tCommonGround optimization problem had no optimal solution.\n",
      "The CommonGround optimization problem had no optimal solution.\n",
      "The CommonGround optimization problem had no optimal solution.\n",
      "The tCommonGround optimization problem had no optimal solution.\n"
     ]
    },
    {
     "name": "stdout",
     "output_type": "stream",
     "text": [
      "The CommonGround_entani optimization problem had no optimal solution.\n",
      "The CommonGround optimization problem had no optimal solution.\n",
      "The tCommonGround optimization problem had no optimal solution.\n",
      "The CommonGround optimization problem had no optimal solution.\n",
      "The tCommonGround optimization problem had no optimal solution.\n",
      "The CommonGround_entani optimization problem had no optimal solution.\n",
      "The CommonGround optimization problem had no optimal solution.\n",
      "The tCommonGround optimization problem had no optimal solution.\n"
     ]
    },
    {
     "name": "stdout",
     "output_type": "stream",
     "text": [
      "The CommonGround optimization problem had no optimal solution.\n",
      "The tCommonGround optimization problem had no optimal solution.\n",
      "The CommonGround_entani optimization problem had no optimal solution.\n",
      "The CommonGround optimization problem had no optimal solution.\n",
      "The CommonGround optimization problem had no optimal solution.\n",
      "The tCommonGround optimization problem had no optimal solution.\n",
      "The tCommonGround optimization problem had no optimal solution.\n",
      "The CommonGround optimization problem had no optimal solution.\n",
      "The CommonGround optimization problem had no optimal solution.\n",
      "The tCommonGround optimization problem had no optimal solution.\n",
      "The tCommonGround optimization problem had no optimal solution.\n",
      "The CommonGround_entani optimization problem had no optimal solution.\n",
      "The CommonGround optimization problem had no optimal solution.\n",
      "The CommonGround optimization problem had no optimal solution.\n",
      "The CommonGround_entani optimization problem had no optimal solution.\n",
      "The tCommonGround optimization problem had no optimal solution.\n",
      "The CommonGround optimization problem had no optimal solution.\n",
      "The tCommonGround optimization problem had no optimal solution.\n"
     ]
    },
    {
     "name": "stdout",
     "output_type": "stream",
     "text": [
      "The CommonGround_entani optimization problem had no optimal solution.\n",
      "The CommonGround_entani optimization problem had no optimal solution.\n",
      "The CommonGround optimization problem had no optimal solution.\n",
      "The CommonGround optimization problem had no optimal solution.\n",
      "The tCommonGround optimization problem had no optimal solution.\n",
      "The CommonGround_entani optimization problem had no optimal solution.\n",
      "The CommonGround_entani optimization problem had no optimal solution.\n",
      "The CommonGround optimization problem had no optimal solution.\n",
      "The tCommonGround optimization problem had no optimal solution.\n",
      "The CommonGround optimization problem had no optimal solution.\n",
      "The tCommonGround optimization problem had no optimal solution.\n"
     ]
    },
    {
     "name": "stdout",
     "output_type": "stream",
     "text": [
      "The CommonGround_entani optimization problem had no optimal solution.\n",
      "The CommonGround optimization problem had no optimal solution.\n",
      "The tCommonGround optimization problem had no optimal solution.\n",
      "The CommonGround optimization problem had no optimal solution.\n",
      "The tCommonGround optimization problem had no optimal solution.\n",
      "The CommonGround_entani optimization problem had no optimal solution."
     ]
    },
    {
     "name": "stdout",
     "output_type": "stream",
     "text": [
      "\n",
      "The CommonGround_entani optimization problem had no optimal solution.\n",
      "The CommonGround optimization problem had no optimal solution.\n",
      "The CommonGround optimization problem had no optimal solution.\n",
      "The tCommonGround optimization problem had no optimal solution.\n",
      "The tCommonGround optimization problem had no optimal solution.\n"
     ]
    },
    {
     "name": "stdout",
     "output_type": "stream",
     "text": [
      "The CommonGround_entani optimization problem had no optimal solution.\n",
      "The CommonGround optimization problem had no optimal solution.\n",
      "The tCommonGround optimization problem had no optimal solution.\n",
      "The CommonGround optimization problem had no optimal solution.\n",
      "The tCommonGround optimization problem had no optimal solution.\n",
      "The CommonGround_entani optimization problem had no optimal solution.\n",
      "The CommonGround optimization problem had no optimal solution.\n",
      "The CommonGround_entani optimization problem had no optimal solution.\n",
      "The tCommonGround optimization problem had no optimal solution.\n",
      "The CommonGround optimization problem had no optimal solution.\n",
      "The CommonGround_entani optimization problem had no optimal solution.\n",
      "The CommonGround optimization problem had no optimal solution.\n",
      "The tCommonGround optimization problem had no optimal solution.\n",
      "The CommonGround optimization problem had no optimal solution.\n",
      "The CommonGround_entani optimization problem had no optimal solution."
     ]
    },
    {
     "name": "stdout",
     "output_type": "stream",
     "text": [
      "\n",
      "The tCommonGround optimization problem had no optimal solution.\n",
      "The CommonGround optimization problem had no optimal solution.\n",
      "The tCommonGround optimization problem had no optimal solution.\n"
     ]
    },
    {
     "name": "stdout",
     "output_type": "stream",
     "text": [
      "The CommonGround_entani optimization problem had no optimal solution.\n"
     ]
    },
    {
     "name": "stdout",
     "output_type": "stream",
     "text": [
      "The CommonGround optimization problem had no optimal solution.\n",
      "The tCommonGround optimization problem had no optimal solution.\n"
     ]
    },
    {
     "name": "stdout",
     "output_type": "stream",
     "text": [
      "The CommonGround optimization problem had no optimal solution.\n",
      "The tCommonGround optimization problem had no optimal solution.\n",
      "The CommonGround_entani optimization problem had no optimal solution.\n",
      "The CommonGround optimization problem had no optimal solution.\n",
      "The tCommonGround optimization problem had no optimal solution.\n"
     ]
    },
    {
     "name": "stdout",
     "output_type": "stream",
     "text": [
      "The CommonGround_entani optimization problem had no optimal solution.\n",
      "The CommonGround optimization problem had no optimal solution.\n",
      "The tCommonGround optimization problem had no optimal solution.\n"
     ]
    },
    {
     "name": "stdout",
     "output_type": "stream",
     "text": [
      "The CommonGround_entani optimization problem had no optimal solution.\n",
      "The CommonGround optimization problem had no optimal solution.\n",
      "The CommonGround_entani optimization problem had no optimal solution.\n",
      "The tCommonGround optimization problem had no optimal solution.\n",
      "The CommonGround_entani optimization problem had no optimal solution.\n",
      "The CommonGround optimization problem had no optimal solution.\n",
      "The CommonGround_entani optimization problem had no optimal solution."
     ]
    },
    {
     "name": "stdout",
     "output_type": "stream",
     "text": [
      "\n",
      "The CommonGround optimization problem had no optimal solution.\n",
      "The tCommonGround optimization problem had no optimal solution.\n",
      "The tCommonGround optimization problem had no optimal solution.\n",
      "The CommonGround optimization problem had no optimal solution.\n",
      "The CommonGround_entani optimization problem had no optimal solution.\n",
      "The CommonGround_entani optimization problem had no optimal solution."
     ]
    },
    {
     "name": "stdout",
     "output_type": "stream",
     "text": [
      "\n",
      "The CommonGround optimization problem had no optimal solution.\n",
      "The CommonGround_entani optimization problem had no optimal solution.\n",
      "The CommonGround optimization problem had no optimal solution.\n",
      "The tCommonGround optimization problem had no optimal solution.\n",
      "The CommonGround optimization problem had no optimal solution.\n",
      "The CommonGround_entani optimization problem had no optimal solution.\n",
      "The tCommonGround optimization problem had no optimal solution.\n",
      "The CommonGround optimization problem had no optimal solution.\n",
      "The tCommonGround optimization problem had no optimal solution.\n",
      "The tCommonGround optimization problem had no optimal solution.\n",
      "The CommonGround_entani optimization problem had no optimal solution.\n",
      "The CommonGround_entani optimization problem had no optimal solution."
     ]
    },
    {
     "name": "stdout",
     "output_type": "stream",
     "text": [
      "\n",
      "The CommonGround_entani optimization problem had no optimal solution.\n",
      "The CommonGround optimization problem had no optimal solution.\n",
      "The CommonGround optimization problem had no optimal solution.\n",
      "The CommonGround optimization problem had no optimal solution.\n",
      "The CommonGround_entani optimization problem had no optimal solution.\n",
      "The tCommonGround optimization problem had no optimal solution.\n",
      "The tCommonGround optimization problem had no optimal solution.\n",
      "The tCommonGround optimization problem had no optimal solution.\n",
      "The CommonGround optimization problem had no optimal solution.\n",
      "The tCommonGround optimization problem had no optimal solution.\n",
      "The CommonGround_entani optimization problem had no optimal solution."
     ]
    },
    {
     "name": "stdout",
     "output_type": "stream",
     "text": [
      "\n",
      "The CommonGround optimization problem had no optimal solution.\n",
      "The tCommonGround optimization problem had no optimal solution.\n",
      "The CommonGround_entani optimization problem had no optimal solution.\n",
      "The CommonGround_entani optimization problem had no optimal solution.\n",
      "The CommonGround optimization problem had no optimal solution.\n",
      "The tCommonGround optimization problem had no optimal solution.\n",
      "The CommonGround_entani optimization problem had no optimal solution.\n",
      "The CommonGround optimization problem had no optimal solution.\n",
      "The CommonGround optimization problem had no optimal solution.\n",
      "The tCommonGround optimization problem had no optimal solution.\n",
      "The tCommonGround optimization problem had no optimal solution.\n",
      "The CommonGround_entani optimization problem had no optimal solution."
     ]
    },
    {
     "name": "stdout",
     "output_type": "stream",
     "text": [
      "\n",
      "The CommonGround optimization problem had no optimal solution.\n",
      "The tCommonGround optimization problem had no optimal solution.\n",
      "The CommonGround_entani optimization problem had no optimal solution.\n",
      "The CommonGround optimization problem had no optimal solution.\n",
      "The tCommonGround optimization problem had no optimal solution.\n",
      "The CommonGround_entani optimization problem had no optimal solution.\n",
      "The CommonGround optimization problem had no optimal solution.\n",
      "The tCommonGround optimization problem had no optimal solution.\n",
      "The CommonGround_entani optimization problem had no optimal solution.\n",
      "The CommonGround_entani optimization problem had no optimal solution.\n",
      "The CommonGround optimization problem had no optimal solution.\n",
      "The CommonGround optimization problem had no optimal solution.\n",
      "The tCommonGround optimization problem had no optimal solution.\n",
      "The tCommonGround optimization problem had no optimal solution.\n",
      "The CommonGround_entani optimization problem had no optimal solution."
     ]
    },
    {
     "name": "stdout",
     "output_type": "stream",
     "text": [
      "\n",
      "The CommonGround optimization problem had no optimal solution.\n",
      "The tCommonGround optimization problem had no optimal solution.\n",
      "The CommonGround_entani optimization problem had no optimal solution.\n",
      "The CommonGround_entani optimization problem had no optimal solution.\n",
      "The CommonGround optimization problem had no optimal solution.\n",
      "The CommonGround optimization problem had no optimal solution.\n",
      "The tCommonGround optimization problem had no optimal solution.\n",
      "The tCommonGround optimization problem had no optimal solution.\n",
      "The CommonGround_entani optimization problem had no optimal solution.\n",
      "The CommonGround_entani optimization problem had no optimal solution.\n",
      "The CommonGround optimization problem had no optimal solution.\n",
      "The CommonGround optimization problem had no optimal solution.\n",
      "The CommonGround_entani optimization problem had no optimal solution."
     ]
    },
    {
     "name": "stdout",
     "output_type": "stream",
     "text": [
      "\n",
      "The tCommonGround optimization problem had no optimal solution.\n",
      "The tCommonGround optimization problem had no optimal solution.\n",
      "The CommonGround optimization problem had no optimal solution.\n",
      "The tCommonGround optimization problem had no optimal solution.\n",
      "The CommonGround_entani optimization problem had no optimal solution.\n",
      "The CommonGround optimization problem had no optimal solution.\n",
      "The tCommonGround optimization problem had no optimal solution.\n",
      "The CommonGround_entani optimization problem had no optimal solution.\n",
      "The CommonGround optimization problem had no optimal solution.\n",
      "The CommonGround_entani optimization problem had no optimal solution."
     ]
    },
    {
     "name": "stdout",
     "output_type": "stream",
     "text": [
      "\n",
      "The tCommonGround optimization problem had no optimal solution.\n",
      "The CommonGround optimization problem had no optimal solution.\n",
      "The CommonGround_entani optimization problem had no optimal solution.\n",
      "The tCommonGround optimization problem had no optimal solution."
     ]
    },
    {
     "name": "stdout",
     "output_type": "stream",
     "text": [
      "\n",
      "The CommonGround optimization problem had no optimal solution.\n",
      "The tCommonGround optimization problem had no optimal solution.\n",
      "The CommonGround_entani optimization problem had no optimal solution.\n",
      "The CommonGround optimization problem had no optimal solution.\n",
      "The tCommonGround optimization problem had no optimal solution.\n",
      "The CommonGround_entani optimization problem had no optimal solution."
     ]
    },
    {
     "name": "stdout",
     "output_type": "stream",
     "text": [
      "\n",
      "The CommonGround optimization problem had no optimal solution.\n",
      "The tCommonGround optimization problem had no optimal solution.\n",
      "The CommonGround_entani optimization problem had no optimal solution.\n",
      "The CommonGround optimization problem had no optimal solution.\n",
      "The tCommonGround optimization problem had no optimal solution.\n",
      "The CommonGround_entani optimization problem had no optimal solution.\n",
      "The CommonGround optimization problem had no optimal solution.\n",
      "The tCommonGround optimization problem had no optimal solution.\n",
      "The CommonGround_entani optimization problem had no optimal solution.\n",
      "The CommonGround optimization problem had no optimal solution.\n",
      "The tCommonGround optimization problem had no optimal solution.\n",
      "The CommonGround_entani optimization problem had no optimal solution.\n",
      "The CommonGround_entani optimization problem had no optimal solution."
     ]
    },
    {
     "name": "stdout",
     "output_type": "stream",
     "text": [
      "\n",
      "The CommonGround_entani optimization problem had no optimal solution.\n",
      "The CommonGround optimization problem had no optimal solution.\n",
      "The CommonGround optimization problem had no optimal solution.\n",
      "The CommonGround optimization problem had no optimal solution.\n",
      "The tCommonGround optimization problem had no optimal solution.\n",
      "The tCommonGround optimization problem had no optimal solution.\n",
      "The tCommonGround optimization problem had no optimal solution.\n",
      "The CommonGround_entani optimization problem had no optimal solution.\n",
      "The CommonGround optimization problem had no optimal solution.\n",
      "The tCommonGround optimization problem had no optimal solution.\n",
      "The CommonGround_entani optimization problem had no optimal solution.\n",
      "The CommonGround_entani optimization problem had no optimal solution."
     ]
    },
    {
     "name": "stdout",
     "output_type": "stream",
     "text": [
      "\n",
      "The CommonGround optimization problem had no optimal solution.\n",
      "The CommonGround optimization problem had no optimal solution.\n",
      "The CommonGround_entani optimization problem had no optimal solution."
     ]
    },
    {
     "name": "stdout",
     "output_type": "stream",
     "text": [
      "\n",
      "The tCommonGround optimization problem had no optimal solution.\n",
      "The CommonGround optimization problem had no optimal solution.\n",
      "The tCommonGround optimization problem had no optimal solution.\n",
      "The CommonGround_entani optimization problem had no optimal solution.\n",
      "The CommonGround optimization problem had no optimal solution.\n",
      "The tCommonGround optimization problem had no optimal solution.\n",
      "The CommonGround_entani optimization problem had no optimal solution."
     ]
    },
    {
     "name": "stdout",
     "output_type": "stream",
     "text": [
      "\n",
      "The CommonGround_entani optimization problem had no optimal solution.\n",
      "The CommonGround optimization problem had no optimal solution.\n",
      "The CommonGround_entani optimization problem had no optimal solution.\n",
      "The CommonGround optimization problem had no optimal solution.\n",
      "The tCommonGround optimization problem had no optimal solution.\n",
      "The CommonGround optimization problem had no optimal solution.\n",
      "The tCommonGround optimization problem had no optimal solution.\n",
      "The tCommonGround optimization problem had no optimal solution.\n",
      "The CommonGround_entani optimization problem had no optimal solution.\n",
      "The CommonGround optimization problem had no optimal solution.\n",
      "The tCommonGround optimization problem had no optimal solution.\n",
      "The CommonGround_entani optimization problem had no optimal solution."
     ]
    },
    {
     "name": "stdout",
     "output_type": "stream",
     "text": [
      "\n",
      "The CommonGround_entani optimization problem had no optimal solution.\n",
      "The CommonGround optimization problem had no optimal solution.\n",
      "The CommonGround_entani optimization problem had no optimal solution.\n",
      "The tCommonGround optimization problem had no optimal solution.\n",
      "The CommonGround optimization problem had no optimal solution.\n",
      "The CommonGround optimization problem had no optimal solution.\n",
      "The tCommonGround optimization problem had no optimal solution.\n",
      "The tCommonGround optimization problem had no optimal solution.\n",
      "The CommonGround_entani optimization problem had no optimal solution.\n",
      "The CommonGround optimization problem had no optimal solution.\n",
      "The tCommonGround optimization problem had no optimal solution.\n",
      "The CommonGround_entani optimization problem had no optimal solution."
     ]
    },
    {
     "name": "stdout",
     "output_type": "stream",
     "text": [
      "\n",
      "The CommonGround optimization problem had no optimal solution.\n",
      "The CommonGround_entani optimization problem had no optimal solution.\n",
      "The tCommonGround optimization problem had no optimal solution.\n",
      "The CommonGround_entani optimization problem had no optimal solution.\n",
      "The CommonGround optimization problem had no optimal solution.\n",
      "The CommonGround optimization problem had no optimal solution.\n",
      "The tCommonGround optimization problem had no optimal solution.\n",
      "The tCommonGround optimization problem had no optimal solution.\n",
      "The CommonGround_entani optimization problem had no optimal solution.\n",
      "The CommonGround optimization problem had no optimal solution.\n",
      "The tCommonGround optimization problem had no optimal solution.\n",
      "The CommonGround_entani optimization problem had no optimal solution."
     ]
    },
    {
     "name": "stdout",
     "output_type": "stream",
     "text": [
      "\n",
      "The CommonGround_entani optimization problem had no optimal solution.\n",
      "The CommonGround optimization problem had no optimal solution.\n",
      "The CommonGround optimization problem had no optimal solution.\n",
      "The CommonGround_entani optimization problem had no optimal solution.\n",
      "The CommonGround optimization problem had no optimal solution.\n",
      "The tCommonGround optimization problem had no optimal solution.\n",
      "The tCommonGround optimization problem had no optimal solution.\n",
      "The tCommonGround optimization problem had no optimal solution.\n",
      "The CommonGround_entani optimization problem had no optimal solution.\n",
      "The CommonGround_entani optimization problem had no optimal solution.\n",
      "The CommonGround optimization problem had no optimal solution.\n",
      "The CommonGround optimization problem had no optimal solution.\n",
      "The tCommonGround optimization problem had no optimal solution.\n",
      "The tCommonGround optimization problem had no optimal solution.\n",
      "The CommonGround_entani optimization problem had no optimal solution."
     ]
    },
    {
     "name": "stdout",
     "output_type": "stream",
     "text": [
      "\n",
      "The CommonGround optimization problem had no optimal solution."
     ]
    },
    {
     "name": "stdout",
     "output_type": "stream",
     "text": [
      "\n",
      "The CommonGround_entani optimization problem had no optimal solution.\n",
      "The tCommonGround optimization problem had no optimal solution.\n",
      "The CommonGround optimization problem had no optimal solution.\n",
      "The tCommonGround optimization problem had no optimal solution.\n",
      "The CommonGround_entani optimization problem had no optimal solution.\n",
      "The CommonGround_entani optimization problem had no optimal solution.\n",
      "The CommonGround optimization problem had no optimal solution.\n",
      "The CommonGround optimization problem had no optimal solution.\n",
      "The tCommonGround optimization problem had no optimal solution.\n",
      "The tCommonGround optimization problem had no optimal solution.\n",
      "The CommonGround_entani optimization problem had no optimal solution."
     ]
    },
    {
     "name": "stdout",
     "output_type": "stream",
     "text": [
      "\n",
      "The CommonGround_entani optimization problem had no optimal solution.\n",
      "The CommonGround optimization problem had no optimal solution.\n",
      "The CommonGround optimization problem had no optimal solution.\n",
      "The tCommonGround optimization problem had no optimal solution.\n",
      "The tCommonGround optimization problem had no optimal solution.\n",
      "The CommonGround_entani optimization problem had no optimal solution.\n",
      "The CommonGround optimization problem had no optimal solution.\n",
      "The tCommonGround optimization problem had no optimal solution.\n",
      "The CommonGround_entani optimization problem had no optimal solution."
     ]
    },
    {
     "name": "stdout",
     "output_type": "stream",
     "text": [
      "\n",
      "The CommonGround_entani optimization problem had no optimal solution.\n",
      "The CommonGround optimization problem had no optimal solution.\n",
      "The CommonGround_entani optimization problem had no optimal solution.\n",
      "The CommonGround optimization problem had no optimal solution.\n",
      "The tCommonGround optimization problem had no optimal solution.\n",
      "The CommonGround_entani optimization problem had no optimal solution.\n",
      "The CommonGround optimization problem had no optimal solution.\n",
      "The tCommonGround optimization problem had no optimal solution.\n",
      "The CommonGround optimization problem had no optimal solution.\n",
      "The tCommonGround optimization problem had no optimal solution.\n",
      "The tCommonGround optimization problem had no optimal solution.\n",
      "The CommonGround_entani optimization problem had no optimal solution."
     ]
    },
    {
     "name": "stdout",
     "output_type": "stream",
     "text": [
      "\n",
      "The CommonGround_entani optimization problem had no optimal solution.\n",
      "The CommonGround optimization problem had no optimal solution.\n",
      "The CommonGround optimization problem had no optimal solution.\n",
      "The tCommonGround optimization problem had no optimal solution.\n",
      "The CommonGround_entani optimization problem had no optimal solution.\n",
      "The tCommonGround optimization problem had no optimal solution.\n",
      "The CommonGround optimization problem had no optimal solution.\n",
      "The CommonGround optimization problem had no optimal solution.\n",
      "The tCommonGround optimization problem had no optimal solution.\n",
      "The tCommonGround optimization problem had no optimal solution.\n",
      "The CommonGround_entani optimization problem had no optimal solution."
     ]
    },
    {
     "name": "stdout",
     "output_type": "stream",
     "text": [
      "\n",
      "The CommonGround_entani optimization problem had no optimal solution.\n",
      "The CommonGround optimization problem had no optimal solution.\n",
      "The CommonGround optimization problem had no optimal solution.\n",
      "The tCommonGround optimization problem had no optimal solution.\n",
      "The CommonGround_entani optimization problem had no optimal solution.\n",
      "The CommonGround_entani optimization problem had no optimal solution.\n",
      "The tCommonGround optimization problem had no optimal solution.\n",
      "The CommonGround optimization problem had no optimal solution.\n",
      "The CommonGround optimization problem had no optimal solution.\n",
      "The tCommonGround optimization problem had no optimal solution.\n",
      "The tCommonGround optimization problem had no optimal solution.\n",
      "The CommonGround_entani optimization problem had no optimal solution."
     ]
    },
    {
     "name": "stdout",
     "output_type": "stream",
     "text": [
      "\n",
      "The CommonGround_entani optimization problem had no optimal solution.\n",
      "The CommonGround optimization problem had no optimal solution.\n",
      "The CommonGround optimization problem had no optimal solution.\n",
      "The CommonGround_entani optimization problem had no optimal solution.\n",
      "The tCommonGround optimization problem had no optimal solution.\n",
      "The CommonGround_entani optimization problem had no optimal solution.\n",
      "The CommonGround optimization problem had no optimal solution.\n",
      "The CommonGround optimization problem had no optimal solution.\n",
      "The tCommonGround optimization problem had no optimal solution.\n",
      "The tCommonGround optimization problem had no optimal solution.\n",
      "The CommonGround_entani optimization problem had no optimal solution."
     ]
    },
    {
     "name": "stdout",
     "output_type": "stream",
     "text": [
      "\n",
      "The CommonGround_entani optimization problem had no optimal solution.\n",
      "The CommonGround optimization problem had no optimal solution.\n",
      "The CommonGround optimization problem had no optimal solution.\n",
      "The CommonGround_entani optimization problem had no optimal solution.\n",
      "The tCommonGround optimization problem had no optimal solution.\n",
      "The CommonGround_entani optimization problem had no optimal solution.\n",
      "The tCommonGround optimization problem had no optimal solution.\n",
      "The CommonGround optimization problem had no optimal solution.\n",
      "The CommonGround optimization problem had no optimal solution.\n",
      "The tCommonGround optimization problem had no optimal solution.\n",
      "The tCommonGround optimization problem had no optimal solution.\n",
      "The CommonGround_entani optimization problem had no optimal solution.\n",
      "The CommonGround_entani optimization problem had no optimal solution."
     ]
    },
    {
     "name": "stdout",
     "output_type": "stream",
     "text": [
      "\n",
      "The CommonGround optimization problem had no optimal solution.\n",
      "The CommonGround_entani optimization problem had no optimal solution.\n",
      "The CommonGround optimization problem had no optimal solution.\n",
      "The tCommonGround optimization problem had no optimal solution.\n",
      "The CommonGround_entani optimization problem had no optimal solution.\n",
      "The CommonGround optimization problem had no optimal solution.\n",
      "The CommonGround optimization problem had no optimal solution.\n",
      "The tCommonGround optimization problem had no optimal solution.\n",
      "The tCommonGround optimization problem had no optimal solution.\n",
      "The CommonGround_entani optimization problem had no optimal solution.\n",
      "The CommonGround_entani optimization problem had no optimal solution."
     ]
    },
    {
     "name": "stdout",
     "output_type": "stream",
     "text": [
      "\n",
      "The CommonGround optimization problem had no optimal solution.\n",
      "The CommonGround optimization problem had no optimal solution.\n",
      "The CommonGround_entani optimization problem had no optimal solution.\n",
      "The tCommonGround optimization problem had no optimal solution.\n",
      "The tCommonGround optimization problem had no optimal solution.\n",
      "The CommonGround optimization problem had no optimal solution.\n",
      "The CommonGround_entani optimization problem had no optimal solution.\n",
      "The CommonGround optimization problem had no optimal solution.\n",
      "The tCommonGround optimization problem had no optimal solution.\n",
      "The tCommonGround optimization problem had no optimal solution.\n",
      "The CommonGround_entani optimization problem had no optimal solution."
     ]
    },
    {
     "name": "stdout",
     "output_type": "stream",
     "text": [
      "\n",
      "The CommonGround_entani optimization problem had no optimal solution.\n",
      "The CommonGround optimization problem had no optimal solution.\n",
      "The CommonGround optimization problem had no optimal solution.\n",
      "The tCommonGround optimization problem had no optimal solution.\n",
      "The tCommonGround optimization problem had no optimal solution.\n",
      "The CommonGround optimization problem had no optimal solution.\n",
      "The tCommonGround optimization problem had no optimal solution.\n",
      "The CommonGround_entani optimization problem had no optimal solution.\n",
      "The CommonGround optimization problem had no optimal solution.\n",
      "The tCommonGround optimization problem had no optimal solution.\n",
      "The CommonGround_entani optimization problem had no optimal solution."
     ]
    },
    {
     "name": "stdout",
     "output_type": "stream",
     "text": [
      "\n",
      "The CommonGround optimization problem had no optimal solution.\n",
      "The tCommonGround optimization problem had no optimal solution.\n",
      "The CommonGround_entani optimization problem had no optimal solution.\n",
      "The CommonGround optimization problem had no optimal solution.\n",
      "The tCommonGround optimization problem had no optimal solution.\n",
      "The CommonGround_entani optimization problem had no optimal solution.\n",
      "The CommonGround_entani optimization problem had no optimal solution.\n",
      "The CommonGround optimization problem had no optimal solution.\n",
      "The CommonGround optimization problem had no optimal solution.\n",
      "The tCommonGround optimization problem had no optimal solution.\n",
      "The tCommonGround optimization problem had no optimal solution.\n",
      "The CommonGround_entani optimization problem had no optimal solution."
     ]
    },
    {
     "name": "stdout",
     "output_type": "stream",
     "text": [
      "\n"
     ]
    },
    {
     "name": "stdout",
     "output_type": "stream",
     "text": [
      "The CommonGround optimization problem had no optimal solution.\n",
      "The tCommonGround optimization problem had no optimal solution.\n",
      "The CommonGround_entani optimization problem had no optimal solution.\n",
      "The CommonGround optimization problem had no optimal solution.\n",
      "The CommonGround_entani optimization problem had no optimal solution.\n",
      "The CommonGround optimization problem had no optimal solution.\n",
      "The CommonGround_entani optimization problem had no optimal solution.\n",
      "The CommonGround optimization problem had no optimal solution."
     ]
    },
    {
     "name": "stdout",
     "output_type": "stream",
     "text": [
      "\n",
      "The CommonGround_entani optimization problem had no optimal solution.\n",
      "The CommonGround optimization problem had no optimal solution.\n",
      "The tCommonGround optimization problem had no optimal solution.\n",
      "The tCommonGround optimization problem had no optimal solution.\n",
      "The tCommonGround optimization problem had no optimal solution.\n"
     ]
    },
    {
     "name": "stdout",
     "output_type": "stream",
     "text": [
      "The CommonGround_entani optimization problem had no optimal solution.\n",
      "The CommonGround optimization problem had no optimal solution.\n",
      "The tCommonGround optimization problem had no optimal solution.\n",
      "The CommonGround_entani optimization problem had no optimal solution.\n",
      "The CommonGround_entani optimization problem had no optimal solution.\n",
      "The CommonGround optimization problem had no optimal solution.\n",
      "The CommonGround optimization problem had no optimal solution.\n",
      "The tCommonGround optimization problem had no optimal solution.\n",
      "The CommonGround_entani optimization problem had no optimal solution."
     ]
    },
    {
     "name": "stdout",
     "output_type": "stream",
     "text": [
      "\n",
      "The tCommonGround optimization problem had no optimal solution.\n",
      "The CommonGround optimization problem had no optimal solution.\n",
      "The tCommonGround optimization problem had no optimal solution.\n",
      "The CommonGround_entani optimization problem had no optimal solution.\n",
      "The CommonGround optimization problem had no optimal solution.\n",
      "The tCommonGround optimization problem had no optimal solution.\n",
      "The CommonGround_entani optimization problem had no optimal solution.\n",
      "The CommonGround optimization problem had no optimal solution.\n",
      "The CommonGround_entani optimization problem had no optimal solution."
     ]
    },
    {
     "name": "stdout",
     "output_type": "stream",
     "text": [
      "\n",
      "The tCommonGround optimization problem had no optimal solution.\n",
      "The CommonGround_entani optimization problem had no optimal solution.\n",
      "The CommonGround optimization problem had no optimal solution.\n",
      "The CommonGround optimization problem had no optimal solution.\n",
      "The tCommonGround optimization problem had no optimal solution.\n",
      "The tCommonGround optimization problem had no optimal solution.\n",
      "The CommonGround_entani optimization problem had no optimal solution.\n",
      "The CommonGround_entani optimization problem had no optimal solution.\n",
      "The CommonGround optimization problem had no optimal solution.\n",
      "The tCommonGround optimization problem had no optimal solution.\n",
      "The CommonGround optimization problem had no optimal solution.\n",
      "The CommonGround_entani optimization problem had no optimal solution."
     ]
    },
    {
     "name": "stdout",
     "output_type": "stream",
     "text": [
      "\n",
      "The tCommonGround optimization problem had no optimal solution.\n",
      "The CommonGround_entani optimization problem had no optimal solution.\n",
      "The CommonGround optimization problem had no optimal solution.\n",
      "The CommonGround optimization problem had no optimal solution.\n",
      "The tCommonGround optimization problem had no optimal solution.\n",
      "The tCommonGround optimization problem had no optimal solution.\n",
      "The CommonGround_entani optimization problem had no optimal solution.\n",
      "The CommonGround_entani optimization problem had no optimal solution.\n",
      "The CommonGround optimization problem had no optimal solution.\n",
      "The CommonGround optimization problem had no optimal solution.\n",
      "The tCommonGround optimization problem had no optimal solution.\n",
      "The CommonGround_entani optimization problem had no optimal solution."
     ]
    },
    {
     "name": "stdout",
     "output_type": "stream",
     "text": [
      "\n",
      "The tCommonGround optimization problem had no optimal solution.\n",
      "The CommonGround optimization problem had no optimal solution.\n",
      "The tCommonGround optimization problem had no optimal solution.\n"
     ]
    },
    {
     "name": "stdout",
     "output_type": "stream",
     "text": [
      "The CommonGround_entani optimization problem had no optimal solution.\n",
      "The CommonGround optimization problem had no optimal solution.\n",
      "The tCommonGround optimization problem had no optimal solution.\n",
      "The CommonGround_entani optimization problem had no optimal solution.\n",
      "The CommonGround_entani optimization problem had no optimal solution.\n",
      "The CommonGround optimization problem had no optimal solution.\n",
      "The CommonGround optimization problem had no optimal solution.\n",
      "The tCommonGround optimization problem had no optimal solution.\n",
      "The tCommonGround optimization problem had no optimal solution.\n",
      "The CommonGround_entani optimization problem had no optimal solution.\n",
      "The CommonGround optimization problem had no optimal solution.\n",
      "The tCommonGround optimization problem had no optimal solution.\n",
      "The CommonGround_entani optimization problem had no optimal solution.\n",
      "The CommonGround optimization problem had no optimal solution.\n",
      "The tCommonGround optimization problem had no optimal solution.\n",
      "The CommonGround_entani optimization problem had no optimal solution.\n",
      "The CommonGround optimization problem had no optimal solution.\n",
      "The tCommonGround optimization problem had no optimal solution.\n",
      "The CommonGround_entani optimization problem had no optimal solution."
     ]
    },
    {
     "name": "stdout",
     "output_type": "stream",
     "text": [
      "\n",
      "The CommonGround optimization problem had no optimal solution.\n",
      "The CommonGround_entani optimization problem had no optimal solution.\n",
      "The tCommonGround optimization problem had no optimal solution.\n",
      "The CommonGround optimization problem had no optimal solution.\n",
      "The CommonGround_entani optimization problem had no optimal solution.\n",
      "The tCommonGround optimization problem had no optimal solution.\n",
      "The CommonGround optimization problem had no optimal solution.\n",
      "The tCommonGround optimization problem had no optimal solution.\n",
      "The CommonGround_entani optimization problem had no optimal solution.\n",
      "The CommonGround optimization problem had no optimal solution.\n",
      "The CommonGround_entani optimization problem had no optimal solution."
     ]
    },
    {
     "name": "stdout",
     "output_type": "stream",
     "text": [
      "\n",
      "The tCommonGround optimization problem had no optimal solution.\n",
      "The CommonGround_entani optimization problem had no optimal solution.\n",
      "The CommonGround optimization problem had no optimal solution.\n",
      "The CommonGround optimization problem had no optimal solution.\n",
      "The CommonGround_entani optimization problem had no optimal solution.\n",
      "The tCommonGround optimization problem had no optimal solution.\n",
      "The tCommonGround optimization problem had no optimal solution.\n",
      "The CommonGround optimization problem had no optimal solution.\n",
      "The tCommonGround optimization problem had no optimal solution.\n",
      "The CommonGround_entani optimization problem had no optimal solution."
     ]
    },
    {
     "name": "stdout",
     "output_type": "stream",
     "text": [
      "\n",
      "The CommonGround optimization problem had no optimal solution.\n",
      "The tCommonGround optimization problem had no optimal solution.\n",
      "The CommonGround_entani optimization problem had no optimal solution.\n",
      "The CommonGround_entani optimization problem had no optimal solution.\n",
      "The CommonGround optimization problem had no optimal solution.\n",
      "The CommonGround optimization problem had no optimal solution.\n",
      "The CommonGround_entani optimization problem had no optimal solution.\n",
      "The tCommonGround optimization problem had no optimal solution.\n",
      "The tCommonGround optimization problem had no optimal solution.\n",
      "The CommonGround optimization problem had no optimal solution.\n",
      "The tCommonGround optimization problem had no optimal solution.\n",
      "The CommonGround_entani optimization problem had no optimal solution."
     ]
    },
    {
     "name": "stdout",
     "output_type": "stream",
     "text": [
      "\n",
      "The CommonGround optimization problem had no optimal solution.\n",
      "The tCommonGround optimization problem had no optimal solution.\n"
     ]
    },
    {
     "name": "stdout",
     "output_type": "stream",
     "text": [
      "The CommonGround_entani optimization problem had no optimal solution.\n",
      "The CommonGround optimization problem had no optimal solution.\n",
      "The CommonGround optimization problem had no optimal solution.\n",
      "The CommonGround_entani optimization problem had no optimal solution.\n",
      "The CommonGround optimization problem had no optimal solution.\n",
      "The tCommonGround optimization problem had no optimal solution.\n",
      "The tCommonGround optimization problem had no optimal solution.\n",
      "The CommonGround_entani optimization problem had no optimal solution.\n",
      "The CommonGround optimization problem had no optimal solution.\n",
      "The tCommonGround optimization problem had no optimal solution.\n",
      "The CommonGround_entani optimization problem had no optimal solution.\n",
      "The CommonGround_entani optimization problem had no optimal solution.\n",
      "The CommonGround_entani optimization problem had no optimal solution.\n",
      "The CommonGround optimization problem had no optimal solution.\n",
      "The CommonGround optimization problem had no optimal solution.\n",
      "The tCommonGround optimization problem had no optimal solution.\n",
      "The tCommonGround optimization problem had no optimal solution.\n",
      "The CommonGround optimization problem had no optimal solution.\n",
      "The tCommonGround optimization problem had no optimal solution.\n",
      "The CommonGround_entani optimization problem had no optimal solution."
     ]
    },
    {
     "name": "stdout",
     "output_type": "stream",
     "text": [
      "\n",
      "The CommonGround optimization problem had no optimal solution.\n",
      "The CommonGround_entani optimization problem had no optimal solution.\n",
      "The CommonGround optimization problem had no optimal solution.\n",
      "The CommonGround_entani optimization problem had no optimal solution.\n",
      "The tCommonGround optimization problem had no optimal solution.\n",
      "The CommonGround_entani optimization problem had no optimal solution.\n",
      "The tCommonGround optimization problem had no optimal solution.\n",
      "The CommonGround optimization problem had no optimal solution.\n",
      "The CommonGround optimization problem had no optimal solution.\n",
      "The tCommonGround optimization problem had no optimal solution.\n",
      "The CommonGround_entani optimization problem had no optimal solution.\n",
      "The CommonGround optimization problem had no optimal solution.\n",
      "The CommonGround_entani optimization problem had no optimal solution."
     ]
    },
    {
     "name": "stdout",
     "output_type": "stream",
     "text": [
      "\n",
      "The tCommonGround optimization problem had no optimal solution.\n",
      "The CommonGround optimization problem had no optimal solution.\n",
      "The CommonGround_entani optimization problem had no optimal solution.\n",
      "The tCommonGround optimization problem had no optimal solution.\n",
      "The CommonGround_entani optimization problem had no optimal solution.\n",
      "The CommonGround optimization problem had no optimal solution.\n",
      "The CommonGround optimization problem had no optimal solution.\n",
      "The tCommonGround optimization problem had no optimal solution.\n",
      "The tCommonGround optimization problem had no optimal solution.\n",
      "The CommonGround_entani optimization problem had no optimal solution.\n",
      "The CommonGround optimization problem had no optimal solution.\n",
      "The CommonGround_entani optimization problem had no optimal solution."
     ]
    },
    {
     "name": "stdout",
     "output_type": "stream",
     "text": [
      "\n",
      "The tCommonGround optimization problem had no optimal solution.\n",
      "The CommonGround optimization problem had no optimal solution.\n",
      "The CommonGround_entani optimization problem had no optimal solution.\n",
      "The CommonGround optimization problem had no optimal solution.\n",
      "The CommonGround optimization problem had no optimal solution.\n",
      "The tCommonGround optimization problem had no optimal solution.\n",
      "The tCommonGround optimization problem had no optimal solution.\n",
      "The CommonGround_entani optimization problem had no optimal solution.\n",
      "The CommonGround_entani optimization problem had no optimal solution."
     ]
    },
    {
     "name": "stdout",
     "output_type": "stream",
     "text": [
      "\n",
      "The CommonGround_entani optimization problem had no optimal solution.\n",
      "The CommonGround optimization problem had no optimal solution.\n",
      "The CommonGround optimization problem had no optimal solution.\n",
      "The CommonGround optimization problem had no optimal solution.\n",
      "The tCommonGround optimization problem had no optimal solution.\n",
      "The tCommonGround optimization problem had no optimal solution.\n",
      "The CommonGround_entani optimization problem had no optimal solution.\n",
      "The CommonGround optimization problem had no optimal solution.\n",
      "The tCommonGround optimization problem had no optimal solution.\n",
      "The CommonGround_entani optimization problem had no optimal solution.\n",
      "The CommonGround_entani optimization problem had no optimal solution."
     ]
    },
    {
     "name": "stdout",
     "output_type": "stream",
     "text": [
      "\n",
      "The CommonGround_entani optimization problem had no optimal solution.\n",
      "The CommonGround optimization problem had no optimal solution.\n",
      "The CommonGround optimization problem had no optimal solution.\n",
      "The CommonGround optimization problem had no optimal solution.\n",
      "The tCommonGround optimization problem had no optimal solution."
     ]
    },
    {
     "name": "stdout",
     "output_type": "stream",
     "text": [
      "\n",
      "The tCommonGround optimization problem had no optimal solution.\n",
      "The tCommonGround optimization problem had no optimal solution.\n",
      "The CommonGround_entani optimization problem had no optimal solution.\n",
      "The CommonGround optimization problem had no optimal solution.\n",
      "The tCommonGround optimization problem had no optimal solution.\n",
      "The CommonGround_entani optimization problem had no optimal solution."
     ]
    },
    {
     "name": "stdout",
     "output_type": "stream",
     "text": [
      "\n",
      "The CommonGround optimization problem had no optimal solution.\n",
      "The tCommonGround optimization problem had no optimal solution.\n",
      "The CommonGround_entani optimization problem had no optimal solution.\n",
      "The CommonGround optimization problem had no optimal solution.\n",
      "The CommonGround_entani optimization problem had no optimal solution.\n",
      "The CommonGround optimization problem had no optimal solution.\n",
      "The tCommonGround optimization problem had no optimal solution.\n",
      "The tCommonGround optimization problem had no optimal solution.\n",
      "The CommonGround_entani optimization problem had no optimal solution.\n",
      "The CommonGround optimization problem had no optimal solution.\n",
      "The tCommonGround optimization problem had no optimal solution.\n",
      "The CommonGround_entani optimization problem had no optimal solution."
     ]
    },
    {
     "name": "stdout",
     "output_type": "stream",
     "text": [
      "\n",
      "The CommonGround optimization problem had no optimal solution.\n",
      "The tCommonGround optimization problem had no optimal solution.\n",
      "The CommonGround_entani optimization problem had no optimal solution.\n",
      "The CommonGround_entani optimization problem had no optimal solution.\n",
      "The CommonGround optimization problem had no optimal solution.\n",
      "The CommonGround optimization problem had no optimal solution.\n",
      "The tCommonGround optimization problem had no optimal solution.\n",
      "The CommonGround_entani optimization problem had no optimal solution.\n",
      "The tCommonGround optimization problem had no optimal solution.\n",
      "The CommonGround optimization problem had no optimal solution.\n",
      "The tCommonGround optimization problem had no optimal solution.\n",
      "The CommonGround_entani optimization problem had no optimal solution."
     ]
    },
    {
     "name": "stdout",
     "output_type": "stream",
     "text": [
      "\n",
      "The CommonGround optimization problem had no optimal solution.\n",
      "The CommonGround_entani optimization problem had no optimal solution.\n",
      "The tCommonGround optimization problem had no optimal solution.\n"
     ]
    },
    {
     "name": "stdout",
     "output_type": "stream",
     "text": [
      "The CommonGround optimization problem had no optimal solution.\n",
      "The CommonGround_entani optimization problem had no optimal solution.\n",
      "The tCommonGround optimization problem had no optimal solution.\n",
      "The CommonGround optimization problem had no optimal solution.\n",
      "The CommonGround_entani optimization problem had no optimal solution.\n",
      "The tCommonGround optimization problem had no optimal solution.\n",
      "The CommonGround optimization problem had no optimal solution.\n",
      "The tCommonGround optimization problem had no optimal solution.\n",
      "The CommonGround_entani optimization problem had no optimal solution.\n",
      "The CommonGround optimization problem had no optimal solution.\n",
      "The CommonGround_entani optimization problem had no optimal solution.\n",
      "The tCommonGround optimization problem had no optimal solution.\n",
      "The CommonGround optimization problem had no optimal solution.\n",
      "The CommonGround_entani optimization problem had no optimal solution.\n",
      "The CommonGround optimization problem had no optimal solution.\n",
      "The tCommonGround optimization problem had no optimal solution.\n",
      "The CommonGround_entani optimization problem had no optimal solution.\n",
      "The tCommonGround optimization problem had no optimal solution.\n",
      "The CommonGround optimization problem had no optimal solution.\n",
      "The tCommonGround optimization problem had no optimal solution.\n",
      "The CommonGround_entani optimization problem had no optimal solution."
     ]
    },
    {
     "name": "stdout",
     "output_type": "stream",
     "text": [
      "\n",
      "The CommonGround optimization problem had no optimal solution.\n",
      "The tCommonGround optimization problem had no optimal solution.\n",
      "The CommonGround_entani optimization problem had no optimal solution.\n",
      "The CommonGround_entani optimization problem had no optimal solution.\n",
      "The CommonGround optimization problem had no optimal solution.\n",
      "The CommonGround optimization problem had no optimal solution.\n",
      "The tCommonGround optimization problem had no optimal solution.\n",
      "The CommonGround_entani optimization problem had no optimal solution.\n",
      "The tCommonGround optimization problem had no optimal solution.\n",
      "The CommonGround optimization problem had no optimal solution.\n",
      "The tCommonGround optimization problem had no optimal solution.\n",
      "The CommonGround_entani optimization problem had no optimal solution.\n",
      "The CommonGround_entani optimization problem had no optimal solution.\n",
      "The CommonGround_entani optimization problem had no optimal solution."
     ]
    },
    {
     "name": "stdout",
     "output_type": "stream",
     "text": [
      "\n",
      "The CommonGround optimization problem had no optimal solution.\n",
      "The CommonGround optimization problem had no optimal solution.\n",
      "The CommonGround optimization problem had no optimal solution.\n",
      "The tCommonGround optimization problem had no optimal solution.\n",
      "The tCommonGround optimization problem had no optimal solution.\n",
      "The tCommonGround optimization problem had no optimal solution.\n",
      "The CommonGround_entani optimization problem had no optimal solution.\n",
      "The CommonGround optimization problem had no optimal solution.\n",
      "The tCommonGround optimization problem had no optimal solution.\n",
      "The CommonGround_entani optimization problem had no optimal solution.\n",
      "The CommonGround_entani optimization problem had no optimal solution.\n",
      "The CommonGround optimization problem had no optimal solution.\n",
      "The CommonGround optimization problem had no optimal solution.\n",
      "The CommonGround_entani optimization problem had no optimal solution."
     ]
    },
    {
     "name": "stdout",
     "output_type": "stream",
     "text": [
      "\n",
      "The tCommonGround optimization problem had no optimal solution.\n",
      "The CommonGround optimization problem had no optimal solution.\n"
     ]
    },
    {
     "name": "stdout",
     "output_type": "stream",
     "text": [
      "The tCommonGround optimization problem had no optimal solution.\n",
      "The tCommonGround optimization problem had no optimal solution.\n",
      "The CommonGround_entani optimization problem had no optimal solution.\n",
      "The CommonGround optimization problem had no optimal solution.\n",
      "The tCommonGround optimization problem had no optimal solution.\n",
      "The CommonGround_entani optimization problem had no optimal solution.\n",
      "The CommonGround optimization problem had no optimal solution.\n",
      "The tCommonGround optimization problem had no optimal solution.\n",
      "The CommonGround_entani optimization problem had no optimal solution."
     ]
    },
    {
     "name": "stdout",
     "output_type": "stream",
     "text": [
      "\n",
      "The CommonGround optimization problem had no optimal solution.\n",
      "The tCommonGround optimization problem had no optimal solution.\n",
      "The CommonGround_entani optimization problem had no optimal solution.\n",
      "The CommonGround optimization problem had no optimal solution.\n",
      "The tCommonGround optimization problem had no optimal solution.\n",
      "The CommonGround_entani optimization problem had no optimal solution.\n",
      "The CommonGround_entani optimization problem had no optimal solution.\n",
      "The CommonGround optimization problem had no optimal solution.\n",
      "The CommonGround optimization problem had no optimal solution.\n",
      "The tCommonGround optimization problem had no optimal solution.\n",
      "The tCommonGround optimization problem had no optimal solution.\n",
      "The CommonGround_entani optimization problem had no optimal solution."
     ]
    },
    {
     "name": "stdout",
     "output_type": "stream",
     "text": [
      "\n",
      "The CommonGround optimization problem had no optimal solution.\n",
      "The CommonGround_entani optimization problem had no optimal solution.\n",
      "The tCommonGround optimization problem had no optimal solution.\n",
      "The CommonGround optimization problem had no optimal solution.\n",
      "The tCommonGround optimization problem had no optimal solution.\n",
      "The CommonGround_entani optimization problem had no optimal solution.\n",
      "The CommonGround_entani optimization problem had no optimal solution.\n",
      "The CommonGround optimization problem had no optimal solution.\n",
      "The CommonGround optimization problem had no optimal solution.\n",
      "The tCommonGround optimization problem had no optimal solution.\n",
      "The tCommonGround optimization problem had no optimal solution.\n",
      "The CommonGround_entani optimization problem had no optimal solution."
     ]
    },
    {
     "name": "stdout",
     "output_type": "stream",
     "text": [
      "\n",
      "The CommonGround optimization problem had no optimal solution.\n",
      "The CommonGround_entani optimization problem had no optimal solution.\n",
      "The CommonGround optimization problem had no optimal solution.\n",
      "The tCommonGround optimization problem had no optimal solution.\n"
     ]
    },
    {
     "name": "stdout",
     "output_type": "stream",
     "text": [
      "The tCommonGround optimization problem had no optimal solution.\n",
      "The CommonGround_entani optimization problem had no optimal solution.\n",
      "The CommonGround_entani optimization problem had no optimal solution.\n",
      "The CommonGround optimization problem had no optimal solution.\n",
      "The CommonGround optimization problem had no optimal solution.\n",
      "The tCommonGround optimization problem had no optimal solution.\n",
      "The tCommonGround optimization problem had no optimal solution.\n",
      "The CommonGround_entani optimization problem had no optimal solution.\n",
      "The CommonGround_entani optimization problem had no optimal solution.\n",
      "The CommonGround optimization problem had no optimal solution.\n",
      "The CommonGround optimization problem had no optimal solution.\n",
      "The tCommonGround optimization problem had no optimal solution.\n",
      "The CommonGround_entani optimization problem had no optimal solution.\n",
      "The CommonGround_entani optimization problem had no optimal solution.\n",
      "The CommonGround optimization problem had no optimal solution.\n",
      "The CommonGround optimization problem had no optimal solution.\n",
      "The tCommonGround optimization problem had no optimal solution.\n",
      "The tCommonGround optimization problem had no optimal solution.\n",
      "The CommonGround_entani optimization problem had no optimal solution.\n",
      "The CommonGround_entani optimization problem had no optimal solution."
     ]
    },
    {
     "name": "stdout",
     "output_type": "stream",
     "text": [
      "\n",
      "The CommonGround optimization problem had no optimal solution.\n",
      "The CommonGround optimization problem had no optimal solution.\n",
      "The tCommonGround optimization problem had no optimal solution.\n"
     ]
    },
    {
     "name": "stdout",
     "output_type": "stream",
     "text": [
      "The tCommonGround optimization problem had no optimal solution.\n",
      "The CommonGround_entani optimization problem had no optimal solution.\n",
      "The CommonGround_entani optimization problem had no optimal solution.\n",
      "The CommonGround optimization problem had no optimal solution.\n",
      "The CommonGround optimization problem had no optimal solution.\n",
      "The tCommonGround optimization problem had no optimal solution.\n",
      "The tCommonGround optimization problem had no optimal solution.\n",
      "The CommonGround_entani optimization problem had no optimal solution.\n"
     ]
    },
    {
     "name": "stdout",
     "output_type": "stream",
     "text": [
      "The CommonGround optimization problem had no optimal solution.\n",
      "The CommonGround_entani optimization problem had no optimal solution.\n",
      "The tCommonGround optimization problem had no optimal solution.\n",
      "The CommonGround optimization problem had no optimal solution.\n",
      "The tCommonGround optimization problem had no optimal solution.\n",
      "The CommonGround_entani optimization problem had no optimal solution.\n",
      "The CommonGround_entani optimization problem had no optimal solution.\n",
      "The CommonGround optimization problem had no optimal solution.\n",
      "The tCommonGround optimization problem had no optimal solution.\n",
      "The CommonGround optimization problem had no optimal solution.\n",
      "The tCommonGround optimization problem had no optimal solution.\n",
      "The CommonGround_entani optimization problem had no optimal solution."
     ]
    },
    {
     "name": "stdout",
     "output_type": "stream",
     "text": [
      "\n",
      "The CommonGround optimization problem had no optimal solution.\n",
      "The CommonGround_entani optimization problem had no optimal solution.\n",
      "The tCommonGround optimization problem had no optimal solution.\n",
      "The CommonGround optimization problem had no optimal solution.\n",
      "The tCommonGround optimization problem had no optimal solution.\n",
      "The CommonGround_entani optimization problem had no optimal solution.\n",
      "The CommonGround optimization problem had no optimal solution.\n",
      "The CommonGround_entani optimization problem had no optimal solution.\n",
      "The tCommonGround optimization problem had no optimal solution.\n",
      "The CommonGround optimization problem had no optimal solution.\n",
      "The tCommonGround optimization problem had no optimal solution.\n",
      "The CommonGround_entani optimization problem had no optimal solution."
     ]
    },
    {
     "name": "stdout",
     "output_type": "stream",
     "text": [
      "\n",
      "The CommonGround_entani optimization problem had no optimal solution.\n",
      "The CommonGround optimization problem had no optimal solution.\n",
      "The tCommonGround optimization problem had no optimal solution.\n",
      "The CommonGround optimization problem had no optimal solution.\n",
      "The tCommonGround optimization problem had no optimal solution.\n",
      "The CommonGround_entani optimization problem had no optimal solution.\n",
      "The CommonGround optimization problem had no optimal solution.\n",
      "The tCommonGround optimization problem had no optimal solution.\n",
      "The CommonGround_entani optimization problem had no optimal solution.\n",
      "The CommonGround optimization problem had no optimal solution.\n",
      "The tCommonGround optimization problem had no optimal solution.\n"
     ]
    },
    {
     "name": "stdout",
     "output_type": "stream",
     "text": [
      "The CommonGround_entani optimization problem had no optimal solution.\n",
      "The CommonGround optimization problem had no optimal solution.\n",
      "The CommonGround_entani optimization problem had no optimal solution.\n",
      "The tCommonGround optimization problem had no optimal solution.\n",
      "The CommonGround optimization problem had no optimal solution.\n",
      "The tCommonGround optimization problem had no optimal solution.\n",
      "The CommonGround_entani optimization problem had no optimal solution.\n",
      "The CommonGround_entani optimization problem had no optimal solution.\n",
      "The CommonGround optimization problem had no optimal solution.\n",
      "The CommonGround optimization problem had no optimal solution.\n",
      "The tCommonGround optimization problem had no optimal solution.\n",
      "The tCommonGround optimization problem had no optimal solution.\n",
      "The CommonGround_entani optimization problem had no optimal solution."
     ]
    },
    {
     "name": "stdout",
     "output_type": "stream",
     "text": [
      "\n",
      "The CommonGround optimization problem had no optimal solution.\n"
     ]
    },
    {
     "name": "stdout",
     "output_type": "stream",
     "text": [
      "The CommonGround_entani optimization problem had no optimal solution.\n",
      "The tCommonGround optimization problem had no optimal solution.\n",
      "The CommonGround optimization problem had no optimal solution.\n",
      "The tCommonGround optimization problem had no optimal solution.\n",
      "The CommonGround_entani optimization problem had no optimal solution.\n",
      "The CommonGround optimization problem had no optimal solution.\n",
      "The CommonGround_entani optimization problem had no optimal solution.\n",
      "The tCommonGround optimization problem had no optimal solution.\n",
      "The CommonGround optimization problem had no optimal solution.\n",
      "The CommonGround_entani optimization problem had no optimal solution."
     ]
    },
    {
     "name": "stdout",
     "output_type": "stream",
     "text": [
      "\n",
      "The tCommonGround optimization problem had no optimal solution.\n",
      "The CommonGround optimization problem had no optimal solution.\n",
      "The CommonGround_entani optimization problem had no optimal solution.\n",
      "The tCommonGround optimization problem had no optimal solution."
     ]
    },
    {
     "name": "stdout",
     "output_type": "stream",
     "text": [
      "\n",
      "The CommonGround optimization problem had no optimal solution.\n",
      "The tCommonGround optimization problem had no optimal solution.\n",
      "The CommonGround_entani optimization problem had no optimal solution.\n",
      "The CommonGround optimization problem had no optimal solution.\n",
      "The CommonGround_entani optimization problem had no optimal solution.\n",
      "The tCommonGround optimization problem had no optimal solution.\n",
      "The CommonGround_entani optimization problem had no optimal solution."
     ]
    },
    {
     "name": "stdout",
     "output_type": "stream",
     "text": [
      "\n",
      "The CommonGround optimization problem had no optimal solution.\n",
      "The CommonGround optimization problem had no optimal solution.\n",
      "The CommonGround_entani optimization problem had no optimal solution.\n",
      "The tCommonGround optimization problem had no optimal solution.\n"
     ]
    },
    {
     "name": "stdout",
     "output_type": "stream",
     "text": [
      "The tCommonGround optimization problem had no optimal solution.\n",
      "The CommonGround optimization problem had no optimal solution.\n",
      "The tCommonGround optimization problem had no optimal solution.\n",
      "The CommonGround_entani optimization problem had no optimal solution.\n",
      "The CommonGround optimization problem had no optimal solution.\n",
      "The tCommonGround optimization problem had no optimal solution.\n"
     ]
    },
    {
     "name": "stdout",
     "output_type": "stream",
     "text": [
      "The CommonGround optimization problem had no optimal solution.\n",
      "The tCommonGround optimization problem had no optimal solution.\n",
      "The CommonGround_entani optimization problem had no optimal solution.\n",
      "The CommonGround optimization problem had no optimal solution.\n",
      "The tCommonGround optimization problem had no optimal solution.\n",
      "The CommonGround_entani optimization problem had no optimal solution.\n",
      "The CommonGround optimization problem had no optimal solution.\n"
     ]
    },
    {
     "name": "stdout",
     "output_type": "stream",
     "text": [
      "The tCommonGround optimization problem had no optimal solution.\n",
      "The CommonGround_entani optimization problem had no optimal solution.\n",
      "The CommonGround optimization problem had no optimal solution.\n",
      "The CommonGround_entani optimization problem had no optimal solution.\n",
      "The tCommonGround optimization problem had no optimal solution.\n",
      "The CommonGround optimization problem had no optimal solution.\n",
      "The tCommonGround optimization problem had no optimal solution.\n",
      "The CommonGround_entani optimization problem had no optimal solution.\n",
      "The CommonGround_entani optimization problem had no optimal solution."
     ]
    },
    {
     "name": "stdout",
     "output_type": "stream",
     "text": [
      "\n",
      "The CommonGround optimization problem had no optimal solution.\n",
      "The CommonGround optimization problem had no optimal solution.\n",
      "The tCommonGround optimization problem had no optimal solution.\n",
      "The tCommonGround optimization problem had no optimal solution.\n",
      "The CommonGround_entani optimization problem had no optimal solution.\n",
      "The CommonGround_entani optimization problem had no optimal solution.\n",
      "The CommonGround optimization problem had no optimal solution.\n",
      "The CommonGround optimization problem had no optimal solution.\n",
      "The tCommonGround optimization problem had no optimal solution.\n",
      "The tCommonGround optimization problem had no optimal solution.\n",
      "The CommonGround optimization problem had no optimal solution.\n",
      "The CommonGround_entani optimization problem had no optimal solution."
     ]
    },
    {
     "name": "stdout",
     "output_type": "stream",
     "text": [
      "\n",
      "The tCommonGround optimization problem had no optimal solution.\n",
      "The CommonGround optimization problem had no optimal solution.\n"
     ]
    },
    {
     "name": "stdout",
     "output_type": "stream",
     "text": [
      "The tCommonGround optimization problem had no optimal solution.\n",
      "The CommonGround_entani optimization problem had no optimal solution.\n",
      "The CommonGround optimization problem had no optimal solution.\n",
      "The CommonGround optimization problem had no optimal solution.\n",
      "The tCommonGround optimization problem had no optimal solution.\n",
      "The tCommonGround optimization problem had no optimal solution.\n",
      "The CommonGround_entani optimization problem had no optimal solution.\n",
      "The CommonGround optimization problem had no optimal solution.\n",
      "The tCommonGround optimization problem had no optimal solution.\n",
      "The CommonGround_entani optimization problem had no optimal solution."
     ]
    },
    {
     "name": "stdout",
     "output_type": "stream",
     "text": [
      "\n",
      "The CommonGround optimization problem had no optimal solution.\n",
      "The tCommonGround optimization problem had no optimal solution.\n"
     ]
    },
    {
     "name": "stdout",
     "output_type": "stream",
     "text": [
      "The CommonGround_entani optimization problem had no optimal solution.\n",
      "The CommonGround optimization problem had no optimal solution.\n",
      "The tCommonGround optimization problem had no optimal solution.\n",
      "The CommonGround_entani optimization problem had no optimal solution.\n",
      "The CommonGround optimization problem had no optimal solution.\n",
      "The CommonGround_entani optimization problem had no optimal solution.\n",
      "The tCommonGround optimization problem had no optimal solution.\n",
      "The CommonGround optimization problem had no optimal solution.\n",
      "The CommonGround_entani optimization problem had no optimal solution.\n",
      "The tCommonGround optimization problem had no optimal solution.\n",
      "The CommonGround optimization problem had no optimal solution."
     ]
    },
    {
     "name": "stdout",
     "output_type": "stream",
     "text": [
      "\n",
      "The tCommonGround optimization problem had no optimal solution.\n",
      "The CommonGround_entani optimization problem had no optimal solution.\n",
      "The CommonGround optimization problem had no optimal solution.\n",
      "The tCommonGround optimization problem had no optimal solution.\n",
      "The CommonGround_entani optimization problem had no optimal solution.\n",
      "The CommonGround optimization problem had no optimal solution.\n",
      "The tCommonGround optimization problem had no optimal solution.\n",
      "The CommonGround_entani optimization problem had no optimal solution.\n",
      "The CommonGround optimization problem had no optimal solution.\n",
      "The CommonGround_entani optimization problem had no optimal solution."
     ]
    },
    {
     "name": "stdout",
     "output_type": "stream",
     "text": [
      "\n",
      "The tCommonGround optimization problem had no optimal solution.\n",
      "The CommonGround optimization problem had no optimal solution.\n",
      "The CommonGround_entani optimization problem had no optimal solution.\n",
      "The tCommonGround optimization problem had no optimal solution.\n",
      "The CommonGround optimization problem had no optimal solution.\n",
      "The CommonGround_entani optimization problem had no optimal solution.\n",
      "The tCommonGround optimization problem had no optimal solution.\n",
      "The CommonGround optimization problem had no optimal solution.\n",
      "The tCommonGround optimization problem had no optimal solution.\n",
      "The CommonGround_entani optimization problem had no optimal solution.\n",
      "The CommonGround optimization problem had no optimal solution.\n",
      "The tCommonGround optimization problem had no optimal solution.\n",
      "The CommonGround_entani optimization problem had no optimal solution."
     ]
    },
    {
     "name": "stdout",
     "output_type": "stream",
     "text": [
      "\n",
      "The CommonGround_entani optimization problem had no optimal solution.\n",
      "The CommonGround optimization problem had no optimal solution.\n"
     ]
    },
    {
     "name": "stdout",
     "output_type": "stream",
     "text": [
      "The CommonGround_entani optimization problem had no optimal solution.\n",
      "The CommonGround optimization problem had no optimal solution.\n",
      "The tCommonGround optimization problem had no optimal solution.\n",
      "The CommonGround optimization problem had no optimal solution.\n",
      "The tCommonGround optimization problem had no optimal solution.\n",
      "The tCommonGround optimization problem had no optimal solution.\n",
      "The CommonGround_entani optimization problem had no optimal solution.\n",
      "The CommonGround optimization problem had no optimal solution.\n",
      "The tCommonGround optimization problem had no optimal solution.\n",
      "The CommonGround_entani optimization problem had no optimal solution.\n",
      "The CommonGround_entani optimization problem had no optimal solution."
     ]
    },
    {
     "name": "stdout",
     "output_type": "stream",
     "text": [
      "\n",
      "The CommonGround optimization problem had no optimal solution.\n",
      "The CommonGround optimization problem had no optimal solution.\n",
      "The CommonGround_entani optimization problem had no optimal solution.\n",
      "The tCommonGround optimization problem had no optimal solution.\n",
      "The CommonGround optimization problem had no optimal solution.\n",
      "The tCommonGround optimization problem had no optimal solution.\n",
      "The CommonGround_entani optimization problem had no optimal solution.\n",
      "The tCommonGround optimization problem had no optimal solution.\n",
      "The CommonGround optimization problem had no optimal solution.\n",
      "The tCommonGround optimization problem had no optimal solution.\n",
      "The CommonGround_entani optimization problem had no optimal solution.\n",
      "The CommonGround_entani optimization problem had no optimal solution."
     ]
    },
    {
     "name": "stdout",
     "output_type": "stream",
     "text": [
      "\n",
      "The CommonGround_entani optimization problem had no optimal solution.\n",
      "The CommonGround_entani optimization problem had no optimal solution.\n",
      "The CommonGround optimization problem had no optimal solution.\n",
      "The CommonGround optimization problem had no optimal solution.\n",
      "The CommonGround optimization problem had no optimal solution.\n",
      "The CommonGround optimization problem had no optimal solution.\n",
      "The tCommonGround optimization problem had no optimal solution.\n",
      "The tCommonGround optimization problem had no optimal solution.\n",
      "The tCommonGround optimization problem had no optimal solution.\n",
      "The tCommonGround optimization problem had no optimal solution.\n",
      "The CommonGround_entani optimization problem had no optimal solution."
     ]
    },
    {
     "name": "stdout",
     "output_type": "stream",
     "text": [
      "\n",
      "The CommonGround optimization problem had no optimal solution.\n",
      "The tCommonGround optimization problem had no optimal solution.\n",
      "The CommonGround_entani optimization problem had no optimal solution.\n",
      "The CommonGround optimization problem had no optimal solution.\n",
      "The CommonGround_entani optimization problem had no optimal solution.\n",
      "The CommonGround_entani optimization problem had no optimal solution.\n",
      "The CommonGround optimization problem had no optimal solution.\n",
      "The tCommonGround optimization problem had no optimal solution.\n",
      "The CommonGround optimization problem had no optimal solution.\n",
      "The tCommonGround optimization problem had no optimal solution.\n",
      "The tCommonGround optimization problem had no optimal solution.\n",
      "The CommonGround_entani optimization problem had no optimal solution."
     ]
    },
    {
     "name": "stdout",
     "output_type": "stream",
     "text": [
      "\n"
     ]
    },
    {
     "name": "stdout",
     "output_type": "stream",
     "text": [
      "The CommonGround optimization problem had no optimal solution.\n",
      "The tCommonGround optimization problem had no optimal solution.\n",
      "The CommonGround_entani optimization problem had no optimal solution.\n",
      "The CommonGround_entani optimization problem had no optimal solution.\n",
      "The CommonGround optimization problem had no optimal solution.\n",
      "The CommonGround_entani optimization problem had no optimal solution.\n",
      "The tCommonGround optimization problem had no optimal solution.\n",
      "The CommonGround optimization problem had no optimal solution.\n",
      "The CommonGround optimization problem had no optimal solution.\n",
      "The tCommonGround optimization problem had no optimal solution.\n",
      "The tCommonGround optimization problem had no optimal solution.\n",
      "The CommonGround_entani optimization problem had no optimal solution."
     ]
    },
    {
     "name": "stdout",
     "output_type": "stream",
     "text": [
      "\n",
      "The CommonGround optimization problem had no optimal solution.\n",
      "The tCommonGround optimization problem had no optimal solution.\n",
      "The CommonGround_entani optimization problem had no optimal solution.\n",
      "The CommonGround optimization problem had no optimal solution.\n",
      "The CommonGround_entani optimization problem had no optimal solution.\n",
      "The tCommonGround optimization problem had no optimal solution.\n",
      "The CommonGround optimization problem had no optimal solution.\n",
      "The tCommonGround optimization problem had no optimal solution.\n",
      "The CommonGround_entani optimization problem had no optimal solution."
     ]
    },
    {
     "name": "stdout",
     "output_type": "stream",
     "text": [
      "\n"
     ]
    },
    {
     "name": "stdout",
     "output_type": "stream",
     "text": [
      "The CommonGround_entani optimization problem had no optimal solution.\n",
      "The CommonGround optimization problem had no optimal solution.\n",
      "The CommonGround_entani optimization problem had no optimal solution.\n",
      "The CommonGround optimization problem had no optimal solution.\n",
      "The tCommonGround optimization problem had no optimal solution.\n",
      "The CommonGround optimization problem had no optimal solution.\n",
      "The tCommonGround optimization problem had no optimal solution.\n",
      "The CommonGround_entani optimization problem had no optimal solution.\n",
      "The tCommonGround optimization problem had no optimal solution.\n",
      "The CommonGround optimization problem had no optimal solution.\n",
      "The tCommonGround optimization problem had no optimal solution.\n",
      "The CommonGround_entani optimization problem had no optimal solution."
     ]
    },
    {
     "name": "stdout",
     "output_type": "stream",
     "text": [
      "\n",
      "The CommonGround optimization problem had no optimal solution.\n",
      "The tCommonGround optimization problem had no optimal solution.\n",
      "The CommonGround_entani optimization problem had no optimal solution.\n",
      "The CommonGround_entani optimization problem had no optimal solution.\n",
      "The CommonGround_entani optimization problem had no optimal solution.\n",
      "The CommonGround optimization problem had no optimal solution.\n",
      "The CommonGround optimization problem had no optimal solution.\n",
      "The CommonGround optimization problem had no optimal solution.\n",
      "The tCommonGround optimization problem had no optimal solution.\n",
      "The tCommonGround optimization problem had no optimal solution.\n",
      "The tCommonGround optimization problem had no optimal solution.\n",
      "The CommonGround_entani optimization problem had no optimal solution.\n",
      "The CommonGround optimization problem had no optimal solution.\n",
      "The CommonGround_entani optimization problem had no optimal solution."
     ]
    },
    {
     "name": "stdout",
     "output_type": "stream",
     "text": [
      "\n",
      "The tCommonGround optimization problem had no optimal solution.\n",
      "The CommonGround optimization problem had no optimal solution.\n",
      "The tCommonGround optimization problem had no optimal solution.\n",
      "The CommonGround_entani optimization problem had no optimal solution.\n",
      "The CommonGround optimization problem had no optimal solution.\n",
      "The CommonGround_entani optimization problem had no optimal solution.\n",
      "The tCommonGround optimization problem had no optimal solution.\n",
      "The CommonGround optimization problem had no optimal solution.\n",
      "The tCommonGround optimization problem had no optimal solution.\n",
      "The CommonGround_entani optimization problem had no optimal solution.\n",
      "The CommonGround optimization problem had no optimal solution.\n",
      "The CommonGround_entani optimization problem had no optimal solution."
     ]
    },
    {
     "name": "stdout",
     "output_type": "stream",
     "text": [
      "\n",
      "The tCommonGround optimization problem had no optimal solution.\n",
      "The CommonGround_entani optimization problem had no optimal solution.\n",
      "The CommonGround optimization problem had no optimal solution.\n",
      "The tCommonGround optimization problem had no optimal solution.\n",
      "The CommonGround optimization problem had no optimal solution.\n",
      "The CommonGround_entani optimization problem had no optimal solution.\n",
      "The tCommonGround optimization problem had no optimal solution.\n",
      "The CommonGround optimization problem had no optimal solution.\n",
      "The tCommonGround optimization problem had no optimal solution.\n",
      "The CommonGround_entani optimization problem had no optimal solution."
     ]
    },
    {
     "name": "stdout",
     "output_type": "stream",
     "text": [
      "\n",
      "The CommonGround_entani optimization problem had no optimal solution.\n",
      "The CommonGround optimization problem had no optimal solution.\n",
      "The CommonGround_entani optimization problem had no optimal solution.\n",
      "The CommonGround optimization problem had no optimal solution.\n",
      "The CommonGround optimization problem had no optimal solution.\n",
      "The tCommonGround optimization problem had no optimal solution.\n",
      "The tCommonGround optimization problem had no optimal solution.\n",
      "The CommonGround_entani optimization problem had no optimal solution.\n",
      "The tCommonGround optimization problem had no optimal solution.\n",
      "The CommonGround optimization problem had no optimal solution.\n",
      "The tCommonGround optimization problem had no optimal solution.\n",
      "The CommonGround_entani optimization problem had no optimal solution.\n",
      "The CommonGround_entani optimization problem had no optimal solution."
     ]
    },
    {
     "name": "stdout",
     "output_type": "stream",
     "text": [
      "\n",
      "The CommonGround_entani optimization problem had no optimal solution.\n",
      "The CommonGround optimization problem had no optimal solution.\n",
      "The CommonGround optimization problem had no optimal solution.\n",
      "The CommonGround optimization problem had no optimal solution.\n",
      "The tCommonGround optimization problem had no optimal solution.\n",
      "The tCommonGround optimization problem had no optimal solution.\n",
      "The CommonGround_entani optimization problem had no optimal solution.\n",
      "The tCommonGround optimization problem had no optimal solution.\n",
      "The CommonGround optimization problem had no optimal solution.\n",
      "The tCommonGround optimization problem had no optimal solution.\n",
      "The CommonGround_entani optimization problem had no optimal solution.\n",
      "The CommonGround optimization problem had no optimal solution.\n",
      "The CommonGround optimization problem had no optimal solution."
     ]
    },
    {
     "name": "stdout",
     "output_type": "stream",
     "text": [
      "\n",
      "The CommonGround_entani optimization problem had no optimal solution.\n",
      "The CommonGround_entani optimization problem had no optimal solution.\n",
      "The tCommonGround optimization problem had no optimal solution.\n",
      "The CommonGround optimization problem had no optimal solution.\n",
      "The CommonGround optimization problem had no optimal solution.\n",
      "The tCommonGround optimization problem had no optimal solution.\n",
      "The tCommonGround optimization problem had no optimal solution.\n",
      "The CommonGround_entani optimization problem had no optimal solution."
     ]
    },
    {
     "name": "stdout",
     "output_type": "stream",
     "text": [
      "\n",
      "The CommonGround optimization problem had no optimal solution.\n",
      "The tCommonGround optimization problem had no optimal solution.\n",
      "The CommonGround_entani optimization problem had no optimal solution.\n",
      "The CommonGround_entani optimization problem had no optimal solution.\n",
      "The CommonGround optimization problem had no optimal solution.\n",
      "The CommonGround_entani optimization problem had no optimal solution.\n",
      "The CommonGround optimization problem had no optimal solution.\n",
      "The tCommonGround optimization problem had no optimal solution.\n",
      "The CommonGround optimization problem had no optimal solution.\n",
      "The tCommonGround optimization problem had no optimal solution.\n",
      "The tCommonGround optimization problem had no optimal solution.\n"
     ]
    },
    {
     "name": "stdout",
     "output_type": "stream",
     "text": [
      "The CommonGround_entani optimization problem had no optimal solution.\n",
      "The CommonGround optimization problem had no optimal solution.\n",
      "The tCommonGround optimization problem had no optimal solution.\n"
     ]
    },
    {
     "name": "stdout",
     "output_type": "stream",
     "text": [
      "The CommonGround_entani optimization problem had no optimal solution.\n",
      "The CommonGround_entani optimization problem had no optimal solution.\n",
      "The CommonGround optimization problem had no optimal solution.\n",
      "The CommonGround optimization problem had no optimal solution.\n",
      "The CommonGround_entani optimization problem had no optimal solution.\n",
      "The tCommonGround optimization problem had no optimal solution.\n",
      "The tCommonGround optimization problem had no optimal solution.\n",
      "The CommonGround optimization problem had no optimal solution.\n",
      "The tCommonGround optimization problem had no optimal solution.\n",
      "The CommonGround_entani optimization problem had no optimal solution.\n"
     ]
    },
    {
     "name": "stdout",
     "output_type": "stream",
     "text": [
      "The CommonGround optimization problem had no optimal solution.\n",
      "The tCommonGround optimization problem had no optimal solution.\n",
      "The CommonGround_entani optimization problem had no optimal solution.\n",
      "The CommonGround optimization problem had no optimal solution.\n",
      "The tCommonGround optimization problem had no optimal solution.\n",
      "The CommonGround_entani optimization problem had no optimal solution.\n",
      "The CommonGround optimization problem had no optimal solution.\n",
      "The tCommonGround optimization problem had no optimal solution.\n",
      "The CommonGround_entani optimization problem had no optimal solution.\n",
      "The CommonGround optimization problem had no optimal solution.\n",
      "The tCommonGround optimization problem had no optimal solution.\n",
      "The CommonGround_entani optimization problem had no optimal solution."
     ]
    },
    {
     "name": "stdout",
     "output_type": "stream",
     "text": [
      "\n",
      "The CommonGround_entani optimization problem had no optimal solution.\n",
      "The CommonGround optimization problem had no optimal solution.\n",
      "The CommonGround optimization problem had no optimal solution.\n",
      "The tCommonGround optimization problem had no optimal solution.\n",
      "The tCommonGround optimization problem had no optimal solution.\n",
      "The CommonGround_entani optimization problem had no optimal solution.\n",
      "The CommonGround optimization problem had no optimal solution.\n",
      "The tCommonGround optimization problem had no optimal solution.\n",
      "The CommonGround_entani optimization problem had no optimal solution.\n",
      "The CommonGround optimization problem had no optimal solution.\n",
      "The tCommonGround optimization problem had no optimal solution.\n",
      "The CommonGround_entani optimization problem had no optimal solution."
     ]
    },
    {
     "name": "stdout",
     "output_type": "stream",
     "text": [
      "\n",
      "The CommonGround optimization problem had no optimal solution.\n",
      "The CommonGround_entani optimization problem had no optimal solution.\n",
      "The CommonGround optimization problem had no optimal solution.\n",
      "The tCommonGround optimization problem had no optimal solution.\n",
      "The tCommonGround optimization problem had no optimal solution.\n",
      "The CommonGround_entani optimization problem had no optimal solution.\n",
      "The CommonGround optimization problem had no optimal solution.\n",
      "The CommonGround_entani optimization problem had no optimal solution.\n",
      "The tCommonGround optimization problem had no optimal solution.\n",
      "The CommonGround optimization problem had no optimal solution.\n",
      "The tCommonGround optimization problem had no optimal solution.\n",
      "The CommonGround_entani optimization problem had no optimal solution."
     ]
    },
    {
     "name": "stdout",
     "output_type": "stream",
     "text": [
      "\n",
      "The CommonGround optimization problem had no optimal solution.\n",
      "The CommonGround_entani optimization problem had no optimal solution.\n",
      "The CommonGround optimization problem had no optimal solution.\n",
      "The tCommonGround optimization problem had no optimal solution.\n",
      "The tCommonGround optimization problem had no optimal solution.\n",
      "The CommonGround_entani optimization problem had no optimal solution.\n",
      "The CommonGround optimization problem had no optimal solution.\n",
      "The tCommonGround optimization problem had no optimal solution.\n",
      "The CommonGround_entani optimization problem had no optimal solution.\n",
      "The CommonGround optimization problem had no optimal solution.\n",
      "The tCommonGround optimization problem had no optimal solution.\n",
      "The CommonGround_entani optimization problem had no optimal solution.\n",
      "The CommonGround_entani optimization problem had no optimal solution."
     ]
    },
    {
     "name": "stdout",
     "output_type": "stream",
     "text": [
      "\n"
     ]
    },
    {
     "name": "stdout",
     "output_type": "stream",
     "text": [
      "The CommonGround optimization problem had no optimal solution.\n",
      "The CommonGround optimization problem had no optimal solution.\n",
      "The tCommonGround optimization problem had no optimal solution.\n",
      "The tCommonGround optimization problem had no optimal solution.\n",
      "The CommonGround_entani optimization problem had no optimal solution.\n",
      "The CommonGround optimization problem had no optimal solution.\n",
      "The tCommonGround optimization problem had no optimal solution.\n",
      "The CommonGround_entani optimization problem had no optimal solution.\n",
      "The CommonGround optimization problem had no optimal solution.\n",
      "The tCommonGround optimization problem had no optimal solution.\n",
      "The CommonGround_entani optimization problem had no optimal solution.\n",
      "The CommonGround_entani optimization problem had no optimal solution."
     ]
    },
    {
     "name": "stdout",
     "output_type": "stream",
     "text": [
      "\n",
      "The CommonGround optimization problem had no optimal solution.\n",
      "The CommonGround optimization problem had no optimal solution.\n",
      "The tCommonGround optimization problem had no optimal solution."
     ]
    },
    {
     "name": "stdout",
     "output_type": "stream",
     "text": [
      "\n",
      "The tCommonGround optimization problem had no optimal solution.\n",
      "The CommonGround_entani optimization problem had no optimal solution.\n",
      "The CommonGround optimization problem had no optimal solution.\n",
      "The CommonGround_entani optimization problem had no optimal solution.\n",
      "The tCommonGround optimization problem had no optimal solution.\n",
      "The CommonGround_entani optimization problem had no optimal solution.\n",
      "The CommonGround_entani optimization problem had no optimal solution."
     ]
    },
    {
     "name": "stdout",
     "output_type": "stream",
     "text": [
      "\n",
      "The CommonGround optimization problem had no optimal solution.\n"
     ]
    },
    {
     "name": "stdout",
     "output_type": "stream",
     "text": [
      "The CommonGround_entani optimization problem had no optimal solution.\n",
      "The CommonGround optimization problem had no optimal solution.\n",
      "The tCommonGround optimization problem had no optimal solution.\n",
      "The CommonGround optimization problem had no optimal solution.\n",
      "The tCommonGround optimization problem had no optimal solution.\n",
      "The tCommonGround optimization problem had no optimal solution.\n",
      "The CommonGround optimization problem had no optimal solution.\n",
      "The tCommonGround optimization problem had no optimal solution.\n",
      "The CommonGround_entani optimization problem had no optimal solution."
     ]
    },
    {
     "name": "stdout",
     "output_type": "stream",
     "text": [
      "\n",
      "The CommonGround optimization problem had no optimal solution.\n",
      "The tCommonGround optimization problem had no optimal solution.\n",
      "The CommonGround optimization problem had no optimal solution.\n",
      "The tCommonGround optimization problem had no optimal solution.\n",
      "The CommonGround_entani optimization problem had no optimal solution.\n",
      "The CommonGround_entani optimization problem had no optimal solution.\n",
      "The CommonGround optimization problem had no optimal solution.\n",
      "The CommonGround optimization problem had no optimal solution.\n",
      "The tCommonGround optimization problem had no optimal solution.\n",
      "The CommonGround_entani optimization problem had no optimal solution."
     ]
    },
    {
     "name": "stdout",
     "output_type": "stream",
     "text": [
      "\n",
      "The CommonGround_entani optimization problem had no optimal solution.\n",
      "The CommonGround optimization problem had no optimal solution.\n",
      "The CommonGround optimization problem had no optimal solution.\n",
      "The tCommonGround optimization problem had no optimal solution.\n",
      "The tCommonGround optimization problem had no optimal solution.\n",
      "The CommonGround_entani optimization problem had no optimal solution.\n",
      "The CommonGround_entani optimization problem had no optimal solution.\n",
      "The CommonGround optimization problem had no optimal solution.\n",
      "The CommonGround optimization problem had no optimal solution.\n",
      "The tCommonGround optimization problem had no optimal solution.\n",
      "The tCommonGround optimization problem had no optimal solution.\n",
      "The CommonGround_entani optimization problem had no optimal solution."
     ]
    },
    {
     "name": "stdout",
     "output_type": "stream",
     "text": [
      "\n",
      "The CommonGround optimization problem had no optimal solution.\n",
      "The CommonGround_entani optimization problem had no optimal solution.\n",
      "The tCommonGround optimization problem had no optimal solution.\n",
      "The CommonGround optimization problem had no optimal solution.\n",
      "The tCommonGround optimization problem had no optimal solution.\n",
      "The CommonGround_entani optimization problem had no optimal solution.\n",
      "The CommonGround optimization problem had no optimal solution.\n",
      "The CommonGround_entani optimization problem had no optimal solution.\n",
      "The tCommonGround optimization problem had no optimal solution.\n",
      "The CommonGround optimization problem had no optimal solution.\n",
      "The tCommonGround optimization problem had no optimal solution.\n",
      "The CommonGround_entani optimization problem had no optimal solution."
     ]
    },
    {
     "name": "stdout",
     "output_type": "stream",
     "text": [
      "\n",
      "The CommonGround optimization problem had no optimal solution.\n",
      "The CommonGround optimization problem had no optimal solution.\n",
      "The tCommonGround optimization problem had no optimal solution.\n",
      "The tCommonGround optimization problem had no optimal solution.\n",
      "The CommonGround_entani optimization problem had no optimal solution.\n",
      "The CommonGround optimization problem had no optimal solution.\n",
      "The tCommonGround optimization problem had no optimal solution.\n",
      "The CommonGround_entani optimization problem had no optimal solution.\n",
      "The CommonGround optimization problem had no optimal solution.\n",
      "The CommonGround_entani optimization problem had no optimal solution.\n",
      "The tCommonGround optimization problem had no optimal solution.\n",
      "The CommonGround optimization problem had no optimal solution.\n",
      "The tCommonGround optimization problem had no optimal solution.\n",
      "The CommonGround_entani optimization problem had no optimal solution.\n",
      "The CommonGround_entani optimization problem had no optimal solution."
     ]
    },
    {
     "name": "stdout",
     "output_type": "stream",
     "text": [
      "\n",
      "The CommonGround optimization problem had no optimal solution.\n",
      "The CommonGround optimization problem had no optimal solution.\n",
      "The tCommonGround optimization problem had no optimal solution.\n",
      "The tCommonGround optimization problem had no optimal solution.\n"
     ]
    },
    {
     "name": "stdout",
     "output_type": "stream",
     "text": [
      "The CommonGround_entani optimization problem had no optimal solution.\n",
      "The CommonGround_entani optimization problem had no optimal solution.\n",
      "The CommonGround optimization problem had no optimal solution.\n",
      "The CommonGround optimization problem had no optimal solution.\n",
      "The tCommonGround optimization problem had no optimal solution.\n",
      "The CommonGround_entani optimization problem had no optimal solution.\n",
      "The CommonGround optimization problem had no optimal solution.\n",
      "The CommonGround optimization problem had no optimal solution."
     ]
    },
    {
     "name": "stdout",
     "output_type": "stream",
     "text": [
      "\n",
      "The tCommonGround optimization problem had no optimal solution.\n",
      "The CommonGround_entani optimization problem had no optimal solution.\n",
      "The CommonGround optimization problem had no optimal solution.\n",
      "The CommonGround optimization problem had no optimal solution.\n",
      "The tCommonGround optimization problem had no optimal solution.\n",
      "The tCommonGround optimization problem had no optimal solution.\n",
      "The CommonGround_entani optimization problem had no optimal solution."
     ]
    },
    {
     "name": "stdout",
     "output_type": "stream",
     "text": [
      "\n",
      "The CommonGround_entani optimization problem had no optimal solution.\n",
      "The CommonGround optimization problem had no optimal solution.\n",
      "The CommonGround optimization problem had no optimal solution.\n",
      "The tCommonGround optimization problem had no optimal solution.\n",
      "The tCommonGround optimization problem had no optimal solution.\n",
      "The CommonGround_entani optimization problem had no optimal solution.\n",
      "The CommonGround_entani optimization problem had no optimal solution.\n",
      "The CommonGround optimization problem had no optimal solution.\n",
      "The tCommonGround optimization problem had no optimal solution.\n",
      "The CommonGround_entani optimization problem had no optimal solution."
     ]
    },
    {
     "name": "stdout",
     "output_type": "stream",
     "text": [
      "\n",
      "The CommonGround_entani optimization problem had no optimal solution.\n",
      "The CommonGround optimization problem had no optimal solution.\n",
      "The CommonGround optimization problem had no optimal solution.\n",
      "The CommonGround optimization problem had no optimal solution.\n",
      "The tCommonGround optimization problem had no optimal solution.\n",
      "The tCommonGround optimization problem had no optimal solution.\n",
      "The tCommonGround optimization problem had no optimal solution.\n",
      "The CommonGround_entani optimization problem had no optimal solution.\n",
      "The CommonGround optimization problem had no optimal solution.\n",
      "The tCommonGround optimization problem had no optimal solution.\n",
      "The CommonGround_entani optimization problem had no optimal solution.\n",
      "The CommonGround_entani optimization problem had no optimal solution.\n",
      "The CommonGround optimization problem had no optimal solution.\n",
      "The CommonGround_entani optimization problem had no optimal solution."
     ]
    },
    {
     "name": "stdout",
     "output_type": "stream",
     "text": [
      "\n",
      "The CommonGround optimization problem had no optimal solution.\n"
     ]
    },
    {
     "name": "stdout",
     "output_type": "stream",
     "text": [
      "The tCommonGround optimization problem had no optimal solution.\n",
      "The tCommonGround optimization problem had no optimal solution.\n",
      "The CommonGround optimization problem had no optimal solution.\n",
      "The tCommonGround optimization problem had no optimal solution.\n",
      "The CommonGround_entani optimization problem had no optimal solution.\n",
      "The CommonGround optimization problem had no optimal solution.\n",
      "The tCommonGround optimization problem had no optimal solution.\n",
      "The CommonGround_entani optimization problem had no optimal solution.\n",
      "The CommonGround_entani optimization problem had no optimal solution.\n",
      "The CommonGround optimization problem had no optimal solution.\n",
      "The CommonGround optimization problem had no optimal solution.\n",
      "The tCommonGround optimization problem had no optimal solution.\n",
      "The tCommonGround optimization problem had no optimal solution.\n",
      "The CommonGround_entani optimization problem had no optimal solution."
     ]
    },
    {
     "name": "stdout",
     "output_type": "stream",
     "text": [
      "\n",
      "The CommonGround optimization problem had no optimal solution.\n",
      "The tCommonGround optimization problem had no optimal solution.\n"
     ]
    },
    {
     "name": "stdout",
     "output_type": "stream",
     "text": [
      "The CommonGround_entani optimization problem had no optimal solution.\n",
      "The CommonGround optimization problem had no optimal solution.\n",
      "The tCommonGround optimization problem had no optimal solution.\n",
      "The CommonGround_entani optimization problem had no optimal solution.\n",
      "The CommonGround_entani optimization problem had no optimal solution.\n",
      "The CommonGround optimization problem had no optimal solution.\n",
      "The CommonGround optimization problem had no optimal solution.\n",
      "The tCommonGround optimization problem had no optimal solution.\n",
      "The tCommonGround optimization problem had no optimal solution.\n",
      "The CommonGround_entani optimization problem had no optimal solution.\n"
     ]
    },
    {
     "name": "stdout",
     "output_type": "stream",
     "text": [
      "The CommonGround optimization problem had no optimal solution.\n",
      "The tCommonGround optimization problem had no optimal solution.\n",
      "The CommonGround_entani optimization problem had no optimal solution.\n",
      "The CommonGround optimization problem had no optimal solution.\n",
      "The tCommonGround optimization problem had no optimal solution.\n",
      "The CommonGround_entani optimization problem had no optimal solution.\n",
      "The CommonGround_entani optimization problem had no optimal solution.\n",
      "The CommonGround optimization problem had no optimal solution.\n",
      "The CommonGround optimization problem had no optimal solution.\n",
      "The tCommonGround optimization problem had no optimal solution.\n",
      "The tCommonGround optimization problem had no optimal solution.\n",
      "The CommonGround_entani optimization problem had no optimal solution."
     ]
    },
    {
     "name": "stdout",
     "output_type": "stream",
     "text": [
      "\n",
      "The CommonGround optimization problem had no optimal solution.\n",
      "The tCommonGround optimization problem had no optimal solution.\n"
     ]
    },
    {
     "name": "stdout",
     "output_type": "stream",
     "text": [
      "The CommonGround_entani optimization problem had no optimal solution.\n",
      "The CommonGround optimization problem had no optimal solution.\n",
      "The CommonGround_entani optimization problem had no optimal solution.\n",
      "The CommonGround_entani optimization problem had no optimal solution.\n",
      "The tCommonGround optimization problem had no optimal solution.\n",
      "The CommonGround optimization problem had no optimal solution.\n",
      "The CommonGround optimization problem had no optimal solution.\n",
      "The tCommonGround optimization problem had no optimal solution.\n",
      "The tCommonGround optimization problem had no optimal solution.\n",
      "The CommonGround_entani optimization problem had no optimal solution.\n",
      "The CommonGround optimization problem had no optimal solution.\n",
      "The tCommonGround optimization problem had no optimal solution.\n",
      "The CommonGround_entani optimization problem had no optimal solution.\n",
      "The CommonGround_entani optimization problem had no optimal solution.\n",
      "The CommonGround optimization problem had no optimal solution.\n",
      "The CommonGround optimization problem had no optimal solution.\n",
      "The tCommonGround optimization problem had no optimal solution.\n",
      "The tCommonGround optimization problem had no optimal solution.\n",
      "The CommonGround optimization problem had no optimal solution.\n",
      "The tCommonGround optimization problem had no optimal solution.\n",
      "The CommonGround_entani optimization problem had no optimal solution."
     ]
    },
    {
     "name": "stdout",
     "output_type": "stream",
     "text": [
      "\n",
      "The CommonGround optimization problem had no optimal solution.\n",
      "The tCommonGround optimization problem had no optimal solution.\n"
     ]
    },
    {
     "name": "stdout",
     "output_type": "stream",
     "text": [
      "The CommonGround_entani optimization problem had no optimal solution.\n",
      "The CommonGround optimization problem had no optimal solution.\n",
      "The CommonGround_entani optimization problem had no optimal solution.\n",
      "The CommonGround optimization problem had no optimal solution.\n",
      "The tCommonGround optimization problem had no optimal solution.\n",
      "The CommonGround optimization problem had no optimal solution.\n",
      "The tCommonGround optimization problem had no optimal solution.\n",
      "The tCommonGround optimization problem had no optimal solution.\n",
      "The CommonGround_entani optimization problem had no optimal solution."
     ]
    },
    {
     "name": "stdout",
     "output_type": "stream",
     "text": [
      "\n",
      "The CommonGround optimization problem had no optimal solution.\n",
      "The tCommonGround optimization problem had no optimal solution.\n",
      "The CommonGround_entani optimization problem had no optimal solution.\n",
      "The CommonGround optimization problem had no optimal solution.\n",
      "The CommonGround_entani optimization problem had no optimal solution.\n",
      "The CommonGround optimization problem had no optimal solution.\n",
      "The CommonGround_entani optimization problem had no optimal solution.\n",
      "The tCommonGround optimization problem had no optimal solution.\n",
      "The CommonGround optimization problem had no optimal solution.\n",
      "The CommonGround_entani optimization problem had no optimal solution."
     ]
    },
    {
     "name": "stdout",
     "output_type": "stream",
     "text": [
      "\n",
      "The tCommonGround optimization problem had no optimal solution.\n",
      "The CommonGround optimization problem had no optimal solution.\n",
      "The tCommonGround optimization problem had no optimal solution.\n",
      "The tCommonGround optimization problem had no optimal solution.\n",
      "The CommonGround_entani optimization problem had no optimal solution.\n",
      "The CommonGround optimization problem had no optimal solution.\n",
      "The CommonGround_entani optimization problem had no optimal solution.\n",
      "The tCommonGround optimization problem had no optimal solution.\n",
      "The CommonGround optimization problem had no optimal solution.\n",
      "The tCommonGround optimization problem had no optimal solution.\n",
      "The CommonGround_entani optimization problem had no optimal solution.\n",
      "The CommonGround optimization problem had no optimal solution."
     ]
    },
    {
     "name": "stdout",
     "output_type": "stream",
     "text": [
      "\n",
      "The CommonGround optimization problem had no optimal solution.\n",
      "The tCommonGround optimization problem had no optimal solution.\n",
      "The tCommonGround optimization problem had no optimal solution.\n",
      "The CommonGround_entani optimization problem had no optimal solution.\n",
      "The CommonGround_entani optimization problem had no optimal solution.\n",
      "The CommonGround optimization problem had no optimal solution.\n",
      "The CommonGround optimization problem had no optimal solution.\n",
      "The tCommonGround optimization problem had no optimal solution.\n",
      "The tCommonGround optimization problem had no optimal solution.\n",
      "The CommonGround_entani optimization problem had no optimal solution."
     ]
    },
    {
     "name": "stdout",
     "output_type": "stream",
     "text": [
      "\n",
      "The CommonGround optimization problem had no optimal solution.\n",
      "The CommonGround_entani optimization problem had no optimal solution.\n",
      "The tCommonGround optimization problem had no optimal solution.\n"
     ]
    },
    {
     "name": "stdout",
     "output_type": "stream",
     "text": [
      "The CommonGround optimization problem had no optimal solution.\n",
      "The tCommonGround optimization problem had no optimal solution.\n",
      "The CommonGround_entani optimization problem had no optimal solution.\n",
      "The CommonGround optimization problem had no optimal solution.\n",
      "The CommonGround_entani optimization problem had no optimal solution.\n",
      "The tCommonGround optimization problem had no optimal solution.\n",
      "The CommonGround optimization problem had no optimal solution.\n",
      "The tCommonGround optimization problem had no optimal solution.\n",
      "The CommonGround_entani optimization problem had no optimal solution.\n",
      "The CommonGround optimization problem had no optimal solution.\n",
      "The CommonGround optimization problem had no optimal solution.\n",
      "The tCommonGround optimization problem had no optimal solution.\n",
      "The tCommonGround optimization problem had no optimal solution.\n",
      "The CommonGround_entani optimization problem had no optimal solution.\n",
      "The CommonGround optimization problem had no optimal solution.\n",
      "The tCommonGround optimization problem had no optimal solution.\n",
      "The CommonGround_entani optimization problem had no optimal solution.\n",
      "The CommonGround optimization problem had no optimal solution.\n",
      "The tCommonGround optimization problem had no optimal solution.\n",
      "The CommonGround_entani optimization problem had no optimal solution.\n",
      "The CommonGround_entani optimization problem had no optimal solution."
     ]
    },
    {
     "name": "stdout",
     "output_type": "stream",
     "text": [
      "\n",
      "The CommonGround_entani optimization problem had no optimal solution.\n",
      "The CommonGround optimization problem had no optimal solution.\n",
      "The CommonGround optimization problem had no optimal solution.\n",
      "The tCommonGround optimization problem had no optimal solution.\n",
      "The CommonGround optimization problem had no optimal solution."
     ]
    },
    {
     "name": "stdout",
     "output_type": "stream",
     "text": [
      "\n",
      "The tCommonGround optimization problem had no optimal solution.\n",
      "The tCommonGround optimization problem had no optimal solution.\n"
     ]
    },
    {
     "name": "stdout",
     "output_type": "stream",
     "text": [
      "The CommonGround_entani optimization problem had no optimal solution.\n",
      "The CommonGround optimization problem had no optimal solution.\n",
      "The CommonGround_entani optimization problem had no optimal solution.\n",
      "The CommonGround_entani optimization problem had no optimal solution.\n",
      "The CommonGround optimization problem had no optimal solution.\n",
      "The tCommonGround optimization problem had no optimal solution.\n",
      "The CommonGround optimization problem had no optimal solution.\n",
      "The tCommonGround optimization problem had no optimal solution.\n",
      "The CommonGround_entani optimization problem had no optimal solution.\n",
      "The tCommonGround optimization problem had no optimal solution.\n",
      "The CommonGround optimization problem had no optimal solution.\n",
      "The tCommonGround optimization problem had no optimal solution.\n",
      "The CommonGround_entani optimization problem had no optimal solution.\n",
      "The CommonGround optimization problem had no optimal solution.\n",
      "The CommonGround_entani optimization problem had no optimal solution.\n",
      "The CommonGround optimization problem had no optimal solution.\n",
      "The tCommonGround optimization problem had no optimal solution.\n",
      "The tCommonGround optimization problem had no optimal solution.\n",
      "The CommonGround_entani optimization problem had no optimal solution."
     ]
    },
    {
     "name": "stdout",
     "output_type": "stream",
     "text": [
      "\n",
      "The CommonGround optimization problem had no optimal solution.\n",
      "The CommonGround_entani optimization problem had no optimal solution.\n",
      "The tCommonGround optimization problem had no optimal solution.\n",
      "The CommonGround optimization problem had no optimal solution.\n",
      "The tCommonGround optimization problem had no optimal solution.\n",
      "The CommonGround_entani optimization problem had no optimal solution.\n",
      "The CommonGround optimization problem had no optimal solution.\n",
      "The CommonGround_entani optimization problem had no optimal solution.\n",
      "The tCommonGround optimization problem had no optimal solution.\n",
      "The CommonGround optimization problem had no optimal solution.\n",
      "The tCommonGround optimization problem had no optimal solution.\n",
      "The CommonGround_entani optimization problem had no optimal solution."
     ]
    },
    {
     "name": "stdout",
     "output_type": "stream",
     "text": [
      "\n",
      "The CommonGround optimization problem had no optimal solution.\n",
      "The CommonGround_entani optimization problem had no optimal solution.\n",
      "The tCommonGround optimization problem had no optimal solution."
     ]
    },
    {
     "name": "stdout",
     "output_type": "stream",
     "text": [
      "\n",
      "The CommonGround optimization problem had no optimal solution.\n",
      "The CommonGround_entani optimization problem had no optimal solution.\n",
      "The CommonGround optimization problem had no optimal solution.\n",
      "The tCommonGround optimization problem had no optimal solution.\n",
      "The CommonGround_entani optimization problem had no optimal solution.\n",
      "The CommonGround optimization problem had no optimal solution.\n",
      "The CommonGround_entani optimization problem had no optimal solution."
     ]
    },
    {
     "name": "stdout",
     "output_type": "stream",
     "text": [
      "\n"
     ]
    },
    {
     "name": "stdout",
     "output_type": "stream",
     "text": [
      "The CommonGround optimization problem had no optimal solution.\n",
      "The tCommonGround optimization problem had no optimal solution.\n",
      "The tCommonGround optimization problem had no optimal solution.\n",
      "The tCommonGround optimization problem had no optimal solution.\n",
      "The CommonGround_entani optimization problem had no optimal solution.\n",
      "The CommonGround_entani optimization problem had no optimal solution.\n",
      "The CommonGround optimization problem had no optimal solution.\n",
      "The CommonGround optimization problem had no optimal solution.\n",
      "The CommonGround_entani optimization problem had no optimal solution.\n",
      "The CommonGround_entani optimization problem had no optimal solution."
     ]
    },
    {
     "name": "stdout",
     "output_type": "stream",
     "text": [
      "\n",
      "The tCommonGround optimization problem had no optimal solution.\n",
      "The CommonGround optimization problem had no optimal solution.\n",
      "The CommonGround optimization problem had no optimal solution.\n",
      "The tCommonGround optimization problem had no optimal solution.\n",
      "The tCommonGround optimization problem had no optimal solution.\n",
      "The CommonGround_entani optimization problem had no optimal solution.\n",
      "The CommonGround optimization problem had no optimal solution.\n",
      "The tCommonGround optimization problem had no optimal solution.\n",
      "The CommonGround_entani optimization problem had no optimal solution.\n",
      "The CommonGround_entani optimization problem had no optimal solution.\n",
      "The CommonGround optimization problem had no optimal solution.\n",
      "The CommonGround_entani optimization problem had no optimal solution."
     ]
    },
    {
     "name": "stdout",
     "output_type": "stream",
     "text": [
      "\n",
      "The CommonGround optimization problem had no optimal solution.\n",
      "The tCommonGround optimization problem had no optimal solution.\n",
      "The CommonGround optimization problem had no optimal solution.\n",
      "The tCommonGround optimization problem had no optimal solution.\n",
      "The tCommonGround optimization problem had no optimal solution.\n"
     ]
    },
    {
     "name": "stdout",
     "output_type": "stream",
     "text": [
      "The CommonGround_entani optimization problem had no optimal solution.\n",
      "The CommonGround optimization problem had no optimal solution.\n",
      "The tCommonGround optimization problem had no optimal solution.\n",
      "The CommonGround_entani optimization problem had no optimal solution.\n",
      "The CommonGround_entani optimization problem had no optimal solution.\n",
      "The CommonGround optimization problem had no optimal solution.\n",
      "The tCommonGround optimization problem had no optimal solution.\n",
      "The CommonGround optimization problem had no optimal solution.\n",
      "The CommonGround optimization problem had no optimal solution.\n",
      "The tCommonGround optimization problem had no optimal solution.\n",
      "The tCommonGround optimization problem had no optimal solution.\n",
      "The CommonGround_entani optimization problem had no optimal solution.\n",
      "The CommonGround_entani optimization problem had no optimal solution.\n",
      "The CommonGround optimization problem had no optimal solution.\n",
      "The CommonGround optimization problem had no optimal solution.\n",
      "The tCommonGround optimization problem had no optimal solution.\n",
      "The tCommonGround optimization problem had no optimal solution.\n",
      "The CommonGround_entani optimization problem had no optimal solution.\n",
      "The CommonGround optimization problem had no optimal solution.\n",
      "The CommonGround_entani optimization problem had no optimal solution."
     ]
    },
    {
     "name": "stdout",
     "output_type": "stream",
     "text": [
      "\n",
      "The tCommonGround optimization problem had no optimal solution.\n",
      "The CommonGround optimization problem had no optimal solution.\n"
     ]
    },
    {
     "name": "stdout",
     "output_type": "stream",
     "text": [
      "The tCommonGround optimization problem had no optimal solution.\n",
      "The CommonGround_entani optimization problem had no optimal solution.\n",
      "The CommonGround optimization problem had no optimal solution.\n",
      "The CommonGround_entani optimization problem had no optimal solution.\n",
      "The tCommonGround optimization problem had no optimal solution.\n",
      "The CommonGround optimization problem had no optimal solution.\n",
      "The CommonGround_entani optimization problem had no optimal solution.\n",
      "The tCommonGround optimization problem had no optimal solution.\n",
      "The CommonGround optimization problem had no optimal solution.\n",
      "The tCommonGround optimization problem had no optimal solution.\n",
      "The CommonGround_entani optimization problem had no optimal solution."
     ]
    },
    {
     "name": "stdout",
     "output_type": "stream",
     "text": [
      "\n"
     ]
    },
    {
     "name": "stdout",
     "output_type": "stream",
     "text": [
      "The CommonGround optimization problem had no optimal solution.\n",
      "The tCommonGround optimization problem had no optimal solution.\n",
      "The CommonGround_entani optimization problem had no optimal solution.\n",
      "The CommonGround optimization problem had no optimal solution.\n",
      "The tCommonGround optimization problem had no optimal solution.\n",
      "The CommonGround_entani optimization problem had no optimal solution.\n",
      "The CommonGround optimization problem had no optimal solution.\n",
      "The CommonGround_entani optimization problem had no optimal solution.\n",
      "The CommonGround optimization problem had no optimal solution.\n",
      "The tCommonGround optimization problem had no optimal solution.\n",
      "The tCommonGround optimization problem had no optimal solution.\n",
      "The CommonGround_entani optimization problem had no optimal solution."
     ]
    },
    {
     "name": "stdout",
     "output_type": "stream",
     "text": [
      "\n",
      "The CommonGround optimization problem had no optimal solution.\n",
      "The tCommonGround optimization problem had no optimal solution.\n",
      "The CommonGround_entani optimization problem had no optimal solution.\n",
      "The CommonGround_entani optimization problem had no optimal solution.\n",
      "The CommonGround optimization problem had no optimal solution.\n",
      "The CommonGround_entani optimization problem had no optimal solution.\n",
      "The CommonGround optimization problem had no optimal solution.\n",
      "The CommonGround optimization problem had no optimal solution.\n",
      "The tCommonGround optimization problem had no optimal solution.\n",
      "The tCommonGround optimization problem had no optimal solution.\n",
      "The tCommonGround optimization problem had no optimal solution.\n",
      "The CommonGround_entani optimization problem had no optimal solution.\n",
      "The CommonGround_entani optimization problem had no optimal solution."
     ]
    },
    {
     "name": "stdout",
     "output_type": "stream",
     "text": [
      "\n",
      "The CommonGround_entani optimization problem had no optimal solution.\n",
      "The CommonGround optimization problem had no optimal solution.\n",
      "The CommonGround optimization problem had no optimal solution.\n",
      "The tCommonGround optimization problem had no optimal solution.\n",
      "The tCommonGround optimization problem had no optimal solution.\n",
      "The CommonGround_entani optimization problem had no optimal solution.\n",
      "The CommonGround_entani optimization problem had no optimal solution.\n",
      "The CommonGround optimization problem had no optimal solution.\n",
      "The tCommonGround optimization problem had no optimal solution.\n",
      "The CommonGround optimization problem had no optimal solution.\n",
      "The tCommonGround optimization problem had no optimal solution.\n",
      "The CommonGround optimization problem had no optimal solution.\n",
      "The tCommonGround optimization problem had no optimal solution.\n",
      "The CommonGround_entani optimization problem had no optimal solution."
     ]
    },
    {
     "name": "stdout",
     "output_type": "stream",
     "text": [
      "\n"
     ]
    },
    {
     "name": "stdout",
     "output_type": "stream",
     "text": [
      "The CommonGround optimization problem had no optimal solution.\n",
      "The tCommonGround optimization problem had no optimal solution.\n",
      "The CommonGround_entani optimization problem had no optimal solution.\n",
      "The CommonGround optimization problem had no optimal solution.\n",
      "The tCommonGround optimization problem had no optimal solution.\n",
      "The CommonGround optimization problem had no optimal solution.\n",
      "The CommonGround_entani optimization problem had no optimal solution.\n",
      "The tCommonGround optimization problem had no optimal solution.\n",
      "The CommonGround optimization problem had no optimal solution.\n",
      "The tCommonGround optimization problem had no optimal solution.\n",
      "The CommonGround_entani optimization problem had no optimal solution."
     ]
    },
    {
     "name": "stdout",
     "output_type": "stream",
     "text": [
      "\n",
      "The CommonGround optimization problem had no optimal solution.\n",
      "The CommonGround_entani optimization problem had no optimal solution.\n",
      "The tCommonGround optimization problem had no optimal solution.\n",
      "The CommonGround optimization problem had no optimal solution.\n",
      "The tCommonGround optimization problem had no optimal solution.\n",
      "The CommonGround_entani optimization problem had no optimal solution.\n",
      "The CommonGround_entani optimization problem had no optimal solution.\n",
      "The CommonGround optimization problem had no optimal solution.\n",
      "The CommonGround optimization problem had no optimal solution.\n",
      "The tCommonGround optimization problem had no optimal solution.\n",
      "The CommonGround_entani optimization problem had no optimal solution."
     ]
    },
    {
     "name": "stdout",
     "output_type": "stream",
     "text": [
      "\n",
      "The CommonGround optimization problem had no optimal solution.\n",
      "The tCommonGround optimization problem had no optimal solution.\n",
      "The CommonGround_entani optimization problem had no optimal solution.\n",
      "The CommonGround optimization problem had no optimal solution.\n",
      "The tCommonGround optimization problem had no optimal solution.\n",
      "The CommonGround_entani optimization problem had no optimal solution.\n",
      "The CommonGround_entani optimization problem had no optimal solution.\n",
      "The CommonGround optimization problem had no optimal solution.\n",
      "The CommonGround optimization problem had no optimal solution.\n",
      "The tCommonGround optimization problem had no optimal solution.\n",
      "The CommonGround_entani optimization problem had no optimal solution."
     ]
    },
    {
     "name": "stdout",
     "output_type": "stream",
     "text": [
      "\n"
     ]
    },
    {
     "name": "stdout",
     "output_type": "stream",
     "text": [
      "The tCommonGround optimization problem had no optimal solution.\n",
      "The CommonGround optimization problem had no optimal solution.\n",
      "The tCommonGround optimization problem had no optimal solution.\n",
      "The CommonGround_entani optimization problem had no optimal solution.\n",
      "The CommonGround optimization problem had no optimal solution.\n",
      "The tCommonGround optimization problem had no optimal solution.\n",
      "The CommonGround_entani optimization problem had no optimal solution.\n",
      "The CommonGround_entani optimization problem had no optimal solution."
     ]
    },
    {
     "name": "stdout",
     "output_type": "stream",
     "text": [
      "\n",
      "The CommonGround optimization problem had no optimal solution.\n",
      "The CommonGround optimization problem had no optimal solution.\n",
      "The tCommonGround optimization problem had no optimal solution.\n",
      "The tCommonGround optimization problem had no optimal solution.\n",
      "The CommonGround_entani optimization problem had no optimal solution.\n",
      "The CommonGround optimization problem had no optimal solution.\n",
      "The tCommonGround optimization problem had no optimal solution.\n",
      "The CommonGround_entani optimization problem had no optimal solution.\n",
      "The CommonGround optimization problem had no optimal solution.\n",
      "The tCommonGround optimization problem had no optimal solution.\n",
      "The CommonGround_entani optimization problem had no optimal solution.\n",
      "The CommonGround optimization problem had no optimal solution.\n",
      "The CommonGround_entani optimization problem had no optimal solution."
     ]
    },
    {
     "name": "stdout",
     "output_type": "stream",
     "text": [
      "\n",
      "The tCommonGround optimization problem had no optimal solution.\n",
      "The CommonGround optimization problem had no optimal solution.\n",
      "The CommonGround_entani optimization problem had no optimal solution.\n",
      "The tCommonGround optimization problem had no optimal solution."
     ]
    },
    {
     "name": "stdout",
     "output_type": "stream",
     "text": [
      "\n",
      "The CommonGround optimization problem had no optimal solution.\n",
      "The tCommonGround optimization problem had no optimal solution.\n",
      "The CommonGround_entani optimization problem had no optimal solution.\n",
      "The CommonGround optimization problem had no optimal solution.\n",
      "The tCommonGround optimization problem had no optimal solution.\n",
      "The CommonGround_entani optimization problem had no optimal solution.\n",
      "The CommonGround_entani optimization problem had no optimal solution."
     ]
    },
    {
     "name": "stdout",
     "output_type": "stream",
     "text": [
      "\n",
      "The CommonGround optimization problem had no optimal solution.\n",
      "The CommonGround optimization problem had no optimal solution.\n",
      "The tCommonGround optimization problem had no optimal solution.\n",
      "The tCommonGround optimization problem had no optimal solution.\n",
      "The CommonGround_entani optimization problem had no optimal solution.\n",
      "The CommonGround optimization problem had no optimal solution.\n",
      "The CommonGround_entani optimization problem had no optimal solution.\n",
      "The tCommonGround optimization problem had no optimal solution.\n",
      "The CommonGround optimization problem had no optimal solution.\n",
      "The tCommonGround optimization problem had no optimal solution.\n",
      "The CommonGround_entani optimization problem had no optimal solution.\n",
      "The CommonGround optimization problem had no optimal solution.\n",
      "The CommonGround_entani optimization problem had no optimal solution."
     ]
    },
    {
     "name": "stdout",
     "output_type": "stream",
     "text": [
      "\n",
      "The tCommonGround optimization problem had no optimal solution.\n",
      "The CommonGround optimization problem had no optimal solution.\n",
      "The tCommonGround optimization problem had no optimal solution.\n",
      "The CommonGround_entani optimization problem had no optimal solution.\n",
      "The CommonGround optimization problem had no optimal solution.\n",
      "The CommonGround_entani optimization problem had no optimal solution.\n",
      "The tCommonGround optimization problem had no optimal solution.\n",
      "The CommonGround_entani optimization problem had no optimal solution.\n",
      "The CommonGround optimization problem had no optimal solution.\n",
      "The tCommonGround optimization problem had no optimal solution.\n",
      "The CommonGround optimization problem had no optimal solution.\n",
      "The CommonGround_entani optimization problem had no optimal solution."
     ]
    },
    {
     "name": "stdout",
     "output_type": "stream",
     "text": [
      "\n",
      "The tCommonGround optimization problem had no optimal solution.\n",
      "The CommonGround optimization problem had no optimal solution.\n"
     ]
    },
    {
     "name": "stdout",
     "output_type": "stream",
     "text": [
      "The tCommonGround optimization problem had no optimal solution.\n",
      "The CommonGround_entani optimization problem had no optimal solution.\n",
      "The CommonGround optimization problem had no optimal solution.\n",
      "The CommonGround_entani optimization problem had no optimal solution.\n",
      "The tCommonGround optimization problem had no optimal solution.\n",
      "The CommonGround optimization problem had no optimal solution.\n",
      "The tCommonGround optimization problem had no optimal solution.\n",
      "The CommonGround_entani optimization problem had no optimal solution."
     ]
    },
    {
     "name": "stdout",
     "output_type": "stream",
     "text": [
      "\n",
      "The CommonGround_entani optimization problem had no optimal solution.\n",
      "The CommonGround optimization problem had no optimal solution.\n",
      "The CommonGround optimization problem had no optimal solution.\n",
      "The tCommonGround optimization problem had no optimal solution.\n"
     ]
    },
    {
     "name": "stdout",
     "output_type": "stream",
     "text": [
      "The tCommonGround optimization problem had no optimal solution.\n",
      "The CommonGround_entani optimization problem had no optimal solution.\n",
      "The CommonGround_entani optimization problem had no optimal solution.\n",
      "The CommonGround optimization problem had no optimal solution.\n",
      "The CommonGround optimization problem had no optimal solution.\n",
      "The tCommonGround optimization problem had no optimal solution.\n",
      "The tCommonGround optimization problem had no optimal solution.\n",
      "The CommonGround_entani optimization problem had no optimal solution.\n",
      "The CommonGround optimization problem had no optimal solution.\n",
      "The CommonGround_entani optimization problem had no optimal solution.\n",
      "The tCommonGround optimization problem had no optimal solution.\n",
      "The CommonGround optimization problem had no optimal solution.\n",
      "The tCommonGround optimization problem had no optimal solution.\n",
      "The CommonGround_entani optimization problem had no optimal solution.\n",
      "The CommonGround optimization problem had no optimal solution.\n",
      "The CommonGround_entani optimization problem had no optimal solution.\n",
      "The tCommonGround optimization problem had no optimal solution.\n",
      "The CommonGround optimization problem had no optimal solution.\n",
      "The tCommonGround optimization problem had no optimal solution.\n",
      "The CommonGround_entani optimization problem had no optimal solution."
     ]
    },
    {
     "name": "stdout",
     "output_type": "stream",
     "text": [
      "\n",
      "The CommonGround optimization problem had no optimal solution.\n",
      "The CommonGround_entani optimization problem had no optimal solution.\n",
      "The tCommonGround optimization problem had no optimal solution."
     ]
    },
    {
     "name": "stdout",
     "output_type": "stream",
     "text": [
      "\n",
      "The CommonGround optimization problem had no optimal solution.\n",
      "The tCommonGround optimization problem had no optimal solution.\n",
      "The CommonGround_entani optimization problem had no optimal solution.\n",
      "The CommonGround optimization problem had no optimal solution.\n",
      "The tCommonGround optimization problem had no optimal solution.\n",
      "The CommonGround_entani optimization problem had no optimal solution.\n",
      "The CommonGround optimization problem had no optimal solution.\n",
      "The CommonGround_entani optimization problem had no optimal solution."
     ]
    },
    {
     "name": "stdout",
     "output_type": "stream",
     "text": [
      "\n"
     ]
    },
    {
     "name": "stdout",
     "output_type": "stream",
     "text": [
      "The CommonGround_entani optimization problem had no optimal solution.\n",
      "The tCommonGround optimization problem had no optimal solution.\n",
      "The CommonGround optimization problem had no optimal solution.\n",
      "The CommonGround optimization problem had no optimal solution.\n",
      "The tCommonGround optimization problem had no optimal solution.\n",
      "The tCommonGround optimization problem had no optimal solution.\n",
      "The CommonGround_entani optimization problem had no optimal solution.\n",
      "The CommonGround optimization problem had no optimal solution.\n",
      "The tCommonGround optimization problem had no optimal solution.\n",
      "The CommonGround_entani optimization problem had no optimal solution."
     ]
    },
    {
     "name": "stdout",
     "output_type": "stream",
     "text": [
      "\n",
      "The CommonGround optimization problem had no optimal solution.\n",
      "The CommonGround_entani optimization problem had no optimal solution.\n",
      "The CommonGround optimization problem had no optimal solution.\n",
      "The tCommonGround optimization problem had no optimal solution."
     ]
    },
    {
     "name": "stdout",
     "output_type": "stream",
     "text": [
      "\n",
      "The CommonGround_entani optimization problem had no optimal solution.\n",
      "The tCommonGround optimization problem had no optimal solution.\n",
      "The CommonGround optimization problem had no optimal solution.\n",
      "The tCommonGround optimization problem had no optimal solution.\n",
      "The CommonGround optimization problem had no optimal solution.\n",
      "The CommonGround_entani optimization problem had no optimal solution.\n",
      "The tCommonGround optimization problem had no optimal solution.\n",
      "The CommonGround optimization problem had no optimal solution.\n",
      "The tCommonGround optimization problem had no optimal solution.\n",
      "The CommonGround_entani optimization problem had no optimal solution.\n",
      "The CommonGround optimization problem had no optimal solution.\n",
      "The CommonGround_entani optimization problem had no optimal solution."
     ]
    },
    {
     "name": "stdout",
     "output_type": "stream",
     "text": [
      "\n",
      "The CommonGround_entani optimization problem had no optimal solution.\n",
      "The CommonGround optimization problem had no optimal solution.\n",
      "The CommonGround optimization problem had no optimal solution.\n",
      "The CommonGround_entani optimization problem had no optimal solution.\n",
      "The tCommonGround optimization problem had no optimal solution.\n",
      "The tCommonGround optimization problem had no optimal solution.\n",
      "The tCommonGround optimization problem had no optimal solution.\n",
      "The CommonGround optimization problem had no optimal solution.\n",
      "The tCommonGround optimization problem had no optimal solution.\n",
      "The CommonGround_entani optimization problem had no optimal solution."
     ]
    },
    {
     "name": "stdout",
     "output_type": "stream",
     "text": [
      "\n",
      "The CommonGround_entani optimization problem had no optimal solution.\n",
      "The CommonGround_entani optimization problem had no optimal solution.\n",
      "The CommonGround optimization problem had no optimal solution.\n",
      "The CommonGround_entani optimization problem had no optimal solution.\n",
      "The CommonGround optimization problem had no optimal solution.\n",
      "The CommonGround optimization problem had no optimal solution.\n",
      "The tCommonGround optimization problem had no optimal solution.\n",
      "The tCommonGround optimization problem had no optimal solution.\n",
      "The tCommonGround optimization problem had no optimal solution.\n",
      "The CommonGround optimization problem had no optimal solution.\n",
      "The tCommonGround optimization problem had no optimal solution.\n",
      "The CommonGround_entani optimization problem had no optimal solution."
     ]
    },
    {
     "name": "stdout",
     "output_type": "stream",
     "text": [
      "\n"
     ]
    },
    {
     "name": "stdout",
     "output_type": "stream",
     "text": [
      "The CommonGround_entani optimization problem had no optimal solution.\n",
      "The CommonGround optimization problem had no optimal solution.\n",
      "The CommonGround optimization problem had no optimal solution.\n",
      "The CommonGround_entani optimization problem had no optimal solution.\n",
      "The tCommonGround optimization problem had no optimal solution.\n",
      "The tCommonGround optimization problem had no optimal solution.\n",
      "The CommonGround optimization problem had no optimal solution.\n",
      "The tCommonGround optimization problem had no optimal solution.\n",
      "The CommonGround_entani optimization problem had no optimal solution.\n",
      "The CommonGround optimization problem had no optimal solution.\n",
      "The CommonGround_entani optimization problem had no optimal solution.\n",
      "The tCommonGround optimization problem had no optimal solution.\n",
      "The CommonGround optimization problem had no optimal solution."
     ]
    },
    {
     "name": "stdout",
     "output_type": "stream",
     "text": [
      "\n",
      "The CommonGround optimization problem had no optimal solution.\n",
      "The tCommonGround optimization problem had no optimal solution.\n",
      "The CommonGround_entani optimization problem had no optimal solution.\n",
      "The CommonGround optimization problem had no optimal solution.\n",
      "The tCommonGround optimization problem had no optimal solution.\n",
      "The tCommonGround optimization problem had no optimal solution.\n"
     ]
    },
    {
     "name": "stdout",
     "output_type": "stream",
     "text": [
      "The CommonGround_entani optimization problem had no optimal solution.\n",
      "The CommonGround optimization problem had no optimal solution.\n",
      "The CommonGround_entani optimization problem had no optimal solution.\n",
      "The tCommonGround optimization problem had no optimal solution.\n",
      "The CommonGround_entani optimization problem had no optimal solution.\n",
      "The CommonGround optimization problem had no optimal solution.\n",
      "The CommonGround optimization problem had no optimal solution.\n",
      "The tCommonGround optimization problem had no optimal solution.\n",
      "The tCommonGround optimization problem had no optimal solution.\n",
      "The CommonGround optimization problem had no optimal solution.\n"
     ]
    },
    {
     "name": "stdout",
     "output_type": "stream",
     "text": [
      "The tCommonGround optimization problem had no optimal solution.\n",
      "The CommonGround_entani optimization problem had no optimal solution.\n",
      "The CommonGround optimization problem had no optimal solution.\n",
      "The CommonGround_entani optimization problem had no optimal solution.\n",
      "The CommonGround optimization problem had no optimal solution.\n",
      "The tCommonGround optimization problem had no optimal solution.\n",
      "The CommonGround_entani optimization problem had no optimal solution.\n",
      "The CommonGround_entani optimization problem had no optimal solution."
     ]
    },
    {
     "name": "stdout",
     "output_type": "stream",
     "text": [
      "\n",
      "The tCommonGround optimization problem had no optimal solution.\n",
      "The CommonGround optimization problem had no optimal solution.\n",
      "The CommonGround optimization problem had no optimal solution."
     ]
    },
    {
     "name": "stdout",
     "output_type": "stream",
     "text": [
      "\n",
      "The tCommonGround optimization problem had no optimal solution.\n",
      "The tCommonGround optimization problem had no optimal solution.\n"
     ]
    },
    {
     "name": "stdout",
     "output_type": "stream",
     "text": [
      "The CommonGround_entani optimization problem had no optimal solution.\n",
      "The CommonGround_entani optimization problem had no optimal solution.\n",
      "The CommonGround optimization problem had no optimal solution.\n",
      "The CommonGround_entani optimization problem had no optimal solution.\n",
      "The CommonGround optimization problem had no optimal solution.\n",
      "The CommonGround optimization problem had no optimal solution.\n",
      "The tCommonGround optimization problem had no optimal solution.\n",
      "The CommonGround_entani optimization problem had no optimal solution.\n",
      "The tCommonGround optimization problem had no optimal solution.\n"
     ]
    },
    {
     "name": "stdout",
     "output_type": "stream",
     "text": [
      "The CommonGround optimization problem had no optimal solution.\n",
      "The tCommonGround optimization problem had no optimal solution.\n",
      "The CommonGround_entani optimization problem had no optimal solution.\n",
      "The CommonGround optimization problem had no optimal solution.\n",
      "The CommonGround_entani optimization problem had no optimal solution.\n",
      "The tCommonGround optimization problem had no optimal solution.\n",
      "The CommonGround_entani optimization problem had no optimal solution.\n",
      "The CommonGround optimization problem had no optimal solution.\n",
      "The CommonGround optimization problem had no optimal solution.\n",
      "The CommonGround_entani optimization problem had no optimal solution.\n",
      "The tCommonGround optimization problem had no optimal solution.\n",
      "The tCommonGround optimization problem had no optimal solution.\n",
      "The CommonGround optimization problem had no optimal solution.\n",
      "The tCommonGround optimization problem had no optimal solution.\n",
      "The CommonGround_entani optimization problem had no optimal solution.\n",
      "The CommonGround optimization problem had no optimal solution.\n",
      "The tCommonGround optimization problem had no optimal solution.\n",
      "The CommonGround_entani optimization problem had no optimal solution.\n",
      "The CommonGround optimization problem had no optimal solution.\n",
      "The CommonGround_entani optimization problem had no optimal solution.\n",
      "The tCommonGround optimization problem had no optimal solution.\n",
      "The CommonGround optimization problem had no optimal solution."
     ]
    },
    {
     "name": "stdout",
     "output_type": "stream",
     "text": [
      "\n",
      "The CommonGround optimization problem had no optimal solution.\n",
      "The CommonGround optimization problem had no optimal solution.\n",
      "The tCommonGround optimization problem had no optimal solution.\n",
      "The tCommonGround optimization problem had no optimal solution.\n",
      "The CommonGround_entani optimization problem had no optimal solution.\n",
      "The CommonGround_entani optimization problem had no optimal solution.\n",
      "The CommonGround optimization problem had no optimal solution.\n",
      "The CommonGround optimization problem had no optimal solution.\n",
      "The tCommonGround optimization problem had no optimal solution.\n",
      "The CommonGround_entani optimization problem had no optimal solution."
     ]
    },
    {
     "name": "stdout",
     "output_type": "stream",
     "text": [
      "\n",
      "The tCommonGround optimization problem had no optimal solution.\n",
      "The CommonGround optimization problem had no optimal solution.\n"
     ]
    },
    {
     "name": "stdout",
     "output_type": "stream",
     "text": [
      "The tCommonGround optimization problem had no optimal solution.\n"
     ]
    },
    {
     "name": "stdout",
     "output_type": "stream",
     "text": [
      "The CommonGround_entani optimization problem had no optimal solution.\n",
      "The CommonGround_entani optimization problem had no optimal solution.\n",
      "The CommonGround optimization problem had no optimal solution.\n",
      "The CommonGround_entani optimization problem had no optimal solution.\n",
      "The tCommonGround optimization problem had no optimal solution.\n",
      "The CommonGround optimization problem had no optimal solution.\n",
      "The CommonGround_entani optimization problem had no optimal solution.\n",
      "The CommonGround optimization problem had no optimal solution.\n",
      "The tCommonGround optimization problem had no optimal solution.\n",
      "The tCommonGround optimization problem had no optimal solution.\n",
      "The CommonGround optimization problem had no optimal solution.\n",
      "The CommonGround_entani optimization problem had no optimal solution.\n",
      "The tCommonGround optimization problem had no optimal solution.\n",
      "The CommonGround optimization problem had no optimal solution.\n",
      "The CommonGround_entani optimization problem had no optimal solution.\n",
      "The CommonGround_entani optimization problem had no optimal solution.\n",
      "The CommonGround optimization problem had no optimal solution.\n",
      "The CommonGround_entani optimization problem had no optimal solution."
     ]
    },
    {
     "name": "stdout",
     "output_type": "stream",
     "text": [
      "\n",
      "The CommonGround optimization problem had no optimal solution.\n",
      "The tCommonGround optimization problem had no optimal solution.\n",
      "The CommonGround optimization problem had no optimal solution.\n",
      "The tCommonGround optimization problem had no optimal solution.\n",
      "The CommonGround_entani optimization problem had no optimal solution.\n",
      "The tCommonGround optimization problem had no optimal solution.\n",
      "The CommonGround optimization problem had no optimal solution.\n",
      "The tCommonGround optimization problem had no optimal solution.\n",
      "The CommonGround_entani optimization problem had no optimal solution.\n",
      "The CommonGround_entani optimization problem had no optimal solution.\n",
      "The CommonGround optimization problem had no optimal solution.\n",
      "The CommonGround optimization problem had no optimal solution.\n",
      "The CommonGround_entani optimization problem had no optimal solution."
     ]
    },
    {
     "name": "stdout",
     "output_type": "stream",
     "text": [
      "\n",
      "The CommonGround_entani optimization problem had no optimal solution.\n",
      "The CommonGround optimization problem had no optimal solution.\n",
      "The CommonGround optimization problem had no optimal solution.\n",
      "The tCommonGround optimization problem had no optimal solution.\n",
      "The tCommonGround optimization problem had no optimal solution.\n"
     ]
    },
    {
     "name": "stdout",
     "output_type": "stream",
     "text": [
      "The tCommonGround optimization problem had no optimal solution.\n",
      "The tCommonGround optimization problem had no optimal solution.\n",
      "The CommonGround_entani optimization problem had no optimal solution.\n",
      "The CommonGround_entani optimization problem had no optimal solution.\n",
      "The CommonGround optimization problem had no optimal solution.\n",
      "The CommonGround_entani optimization problem had no optimal solution.\n",
      "The CommonGround_entani optimization problem had no optimal solution.\n",
      "The CommonGround optimization problem had no optimal solution.\n",
      "The CommonGround optimization problem had no optimal solution.\n",
      "The tCommonGround optimization problem had no optimal solution.\n",
      "The CommonGround optimization problem had no optimal solution.\n",
      "The tCommonGround optimization problem had no optimal solution.\n",
      "The tCommonGround optimization problem had no optimal solution.\n",
      "The tCommonGround optimization problem had no optimal solution.\n"
     ]
    },
    {
     "name": "stdout",
     "output_type": "stream",
     "text": [
      "The CommonGround_entani optimization problem had no optimal solution.\n",
      "The CommonGround_entani optimization problem had no optimal solution.\n",
      "The CommonGround optimization problem had no optimal solution.\n",
      "The CommonGround_entani optimization problem had no optimal solution.\n",
      "The CommonGround_entani optimization problem had no optimal solution.\n",
      "The CommonGround optimization problem had no optimal solution.\n",
      "The CommonGround optimization problem had no optimal solution.\n",
      "The CommonGround optimization problem had no optimal solution.\n",
      "The tCommonGround optimization problem had no optimal solution.\n",
      "The tCommonGround optimization problem had no optimal solution.\n",
      "The tCommonGround optimization problem had no optimal solution.\n",
      "The CommonGround_entani optimization problem had no optimal solution.\n",
      "The CommonGround optimization problem had no optimal solution.\n",
      "The tCommonGround optimization problem had no optimal solution.\n",
      "The CommonGround_entani optimization problem had no optimal solution.\n",
      "The CommonGround_entani optimization problem had no optimal solution."
     ]
    },
    {
     "name": "stdout",
     "output_type": "stream",
     "text": [
      "\n",
      "The CommonGround_entani optimization problem had no optimal solution.\n",
      "The CommonGround optimization problem had no optimal solution.\n",
      "The CommonGround optimization problem had no optimal solution.\n",
      "The CommonGround optimization problem had no optimal solution.\n",
      "The tCommonGround optimization problem had no optimal solution.\n",
      "The tCommonGround optimization problem had no optimal solution.\n",
      "The tCommonGround optimization problem had no optimal solution.\n",
      "The CommonGround_entani optimization problem had no optimal solution.\n",
      "The CommonGround optimization problem had no optimal solution.\n",
      "The CommonGround_entani optimization problem had no optimal solution."
     ]
    },
    {
     "name": "stdout",
     "output_type": "stream",
     "text": [
      "\n"
     ]
    },
    {
     "name": "stdout",
     "output_type": "stream",
     "text": [
      "The CommonGround optimization problem had no optimal solution.\n",
      "The CommonGround_entani optimization problem had no optimal solution.\n",
      "The CommonGround_entani optimization problem had no optimal solution.\n",
      "The CommonGround optimization problem had no optimal solution.\n",
      "The tCommonGround optimization problem had no optimal solution.\n",
      "The tCommonGround optimization problem had no optimal solution.\n",
      "The tCommonGround optimization problem had no optimal solution.\n",
      "The CommonGround_entani optimization problem had no optimal solution.\n",
      "The CommonGround_entani optimization problem had no optimal solution."
     ]
    },
    {
     "name": "stdout",
     "output_type": "stream",
     "text": [
      "\n",
      "The CommonGround optimization problem had no optimal solution.\n",
      "The CommonGround_entani optimization problem had no optimal solution.\n",
      "The CommonGround optimization problem had no optimal solution.\n",
      "The CommonGround optimization problem had no optimal solution.\n",
      "The tCommonGround optimization problem had no optimal solution.\n",
      "The tCommonGround optimization problem had no optimal solution."
     ]
    },
    {
     "name": "stdout",
     "output_type": "stream",
     "text": [
      "\n",
      "The CommonGround_entani optimization problem had no optimal solution.\n",
      "The tCommonGround optimization problem had no optimal solution.\n",
      "The CommonGround optimization problem had no optimal solution.\n",
      "The tCommonGround optimization problem had no optimal solution.\n",
      "The CommonGround_entani optimization problem had no optimal solution."
     ]
    },
    {
     "name": "stdout",
     "output_type": "stream",
     "text": [
      "\n",
      "The CommonGround_entani optimization problem had no optimal solution.\n",
      "The CommonGround optimization problem had no optimal solution.\n",
      "The CommonGround_entani optimization problem had no optimal solution.\n",
      "The CommonGround_entani optimization problem had no optimal solution.\n",
      "The CommonGround optimization problem had no optimal solution.\n",
      "The CommonGround optimization problem had no optimal solution.\n",
      "The CommonGround optimization problem had no optimal solution.\n",
      "The tCommonGround optimization problem had no optimal solution.\n",
      "The tCommonGround optimization problem had no optimal solution.\n",
      "The tCommonGround optimization problem had no optimal solution.\n",
      "The tCommonGround optimization problem had no optimal solution.\n",
      "The CommonGround_entani optimization problem had no optimal solution.\n",
      "The CommonGround_entani optimization problem had no optimal solution.\n",
      "The CommonGround optimization problem had no optimal solution.\n",
      "The CommonGround_entani optimization problem had no optimal solution.\n",
      "The CommonGround_entani optimization problem had no optimal solution."
     ]
    },
    {
     "name": "stdout",
     "output_type": "stream",
     "text": [
      "\n",
      "The CommonGround optimization problem had no optimal solution.\n",
      "The CommonGround optimization problem had no optimal solution.\n",
      "The tCommonGround optimization problem had no optimal solution.\n",
      "The CommonGround optimization problem had no optimal solution.\n",
      "The tCommonGround optimization problem had no optimal solution.\n",
      "The tCommonGround optimization problem had no optimal solution.\n",
      "The tCommonGround optimization problem had no optimal solution.\n"
     ]
    },
    {
     "name": "stdout",
     "output_type": "stream",
     "text": [
      "The CommonGround_entani optimization problem had no optimal solution.\n",
      "The CommonGround_entani optimization problem had no optimal solution.\n",
      "The CommonGround optimization problem had no optimal solution.\n",
      "The CommonGround_entani optimization problem had no optimal solution.\n",
      "The CommonGround_entani optimization problem had no optimal solution.\n",
      "The CommonGround optimization problem had no optimal solution.\n",
      "The tCommonGround optimization problem had no optimal solution.\n",
      "The CommonGround optimization problem had no optimal solution.\n",
      "The CommonGround optimization problem had no optimal solution.\n",
      "The tCommonGround optimization problem had no optimal solution.\n",
      "The tCommonGround optimization problem had no optimal solution.\n",
      "The tCommonGround optimization problem had no optimal solution.\n"
     ]
    },
    {
     "name": "stdout",
     "output_type": "stream",
     "text": [
      "The CommonGround_entani optimization problem had no optimal solution.\n",
      "The CommonGround_entani optimization problem had no optimal solution.\n",
      "The CommonGround_entani optimization problem had no optimal solution.\n",
      "The CommonGround optimization problem had no optimal solution.\n",
      "The CommonGround optimization problem had no optimal solution.\n",
      "The CommonGround_entani optimization problem had no optimal solution.\n",
      "The tCommonGround optimization problem had no optimal solution.\n",
      "The CommonGround optimization problem had no optimal solution.\n",
      "The tCommonGround optimization problem had no optimal solution.\n",
      "The CommonGround optimization problem had no optimal solution.\n",
      "The tCommonGround optimization problem had no optimal solution.\n",
      "The tCommonGround optimization problem had no optimal solution.\n"
     ]
    },
    {
     "name": "stdout",
     "output_type": "stream",
     "text": [
      "The CommonGround_entani optimization problem had no optimal solution.\n",
      "The CommonGround_entani optimization problem had no optimal solution.\n",
      "The CommonGround_entani optimization problem had no optimal solution.\n",
      "The CommonGround optimization problem had no optimal solution.\n",
      "The CommonGround optimization problem had no optimal solution.\n",
      "The tCommonGround optimization problem had no optimal solution.\n",
      "The CommonGround_entani optimization problem had no optimal solution.\n",
      "The CommonGround optimization problem had no optimal solution.\n",
      "The tCommonGround optimization problem had no optimal solution.\n",
      "The tCommonGround optimization problem had no optimal solution.\n",
      "The CommonGround optimization problem had no optimal solution.\n",
      "The tCommonGround optimization problem had no optimal solution.\n",
      "The CommonGround_entani optimization problem had no optimal solution.\n",
      "The CommonGround_entani optimization problem had no optimal solution."
     ]
    },
    {
     "name": "stdout",
     "output_type": "stream",
     "text": [
      "\n",
      "The CommonGround optimization problem had no optimal solution.\n",
      "The CommonGround_entani optimization problem had no optimal solution.\n",
      "The CommonGround_entani optimization problem had no optimal solution.\n",
      "The tCommonGround optimization problem had no optimal solution.\n",
      "The CommonGround optimization problem had no optimal solution.\n",
      "The CommonGround optimization problem had no optimal solution.\n",
      "The tCommonGround optimization problem had no optimal solution.\n",
      "The CommonGround optimization problem had no optimal solution.\n",
      "The tCommonGround optimization problem had no optimal solution.\n",
      "The tCommonGround optimization problem had no optimal solution.\n",
      "The CommonGround_entani optimization problem had no optimal solution.\n",
      "The CommonGround optimization problem had no optimal solution.\n",
      "The CommonGround_entani optimization problem had no optimal solution."
     ]
    },
    {
     "name": "stdout",
     "output_type": "stream",
     "text": [
      "\n",
      "The tCommonGround optimization problem had no optimal solution.\n",
      "The CommonGround optimization problem had no optimal solution.\n",
      "The tCommonGround optimization problem had no optimal solution.\n",
      "The CommonGround_entani optimization problem had no optimal solution.\n",
      "The CommonGround optimization problem had no optimal solution.\n",
      "The tCommonGround optimization problem had no optimal solution.\n",
      "The CommonGround_entani optimization problem had no optimal solution.\n",
      "The CommonGround optimization problem had no optimal solution.\n",
      "The tCommonGround optimization problem had no optimal solution.\n",
      "The CommonGround_entani optimization problem had no optimal solution.\n",
      "The CommonGround_entani optimization problem had no optimal solution."
     ]
    },
    {
     "name": "stdout",
     "output_type": "stream",
     "text": [
      "\n",
      "The CommonGround optimization problem had no optimal solution.\n",
      "The CommonGround optimization problem had no optimal solution.\n",
      "The tCommonGround optimization problem had no optimal solution.\n",
      "The tCommonGround optimization problem had no optimal solution.\n",
      "The CommonGround_entani optimization problem had no optimal solution.\n",
      "The CommonGround optimization problem had no optimal solution.\n",
      "The tCommonGround optimization problem had no optimal solution.\n",
      "The CommonGround_entani optimization problem had no optimal solution.\n",
      "The CommonGround optimization problem had no optimal solution.\n",
      "The CommonGround_entani optimization problem had no optimal solution.\n",
      "The tCommonGround optimization problem had no optimal solution.\n",
      "The CommonGround optimization problem had no optimal solution.\n",
      "The tCommonGround optimization problem had no optimal solution.\n",
      "The CommonGround_entani optimization problem had no optimal solution.\n",
      "The CommonGround optimization problem had no optimal solution."
     ]
    },
    {
     "name": "stdout",
     "output_type": "stream",
     "text": [
      "\n",
      "The CommonGround optimization problem had no optimal solution.\n",
      "The tCommonGround optimization problem had no optimal solution.\n",
      "The tCommonGround optimization problem had no optimal solution.\n",
      "The CommonGround_entani optimization problem had no optimal solution.\n",
      "The CommonGround_entani optimization problem had no optimal solution.\n",
      "The CommonGround optimization problem had no optimal solution.\n",
      "The CommonGround optimization problem had no optimal solution.\n",
      "The tCommonGround optimization problem had no optimal solution.\n",
      "The tCommonGround optimization problem had no optimal solution.\n",
      "The CommonGround_entani optimization problem had no optimal solution.\n",
      "The CommonGround optimization problem had no optimal solution.\n",
      "The CommonGround_entani optimization problem had no optimal solution."
     ]
    },
    {
     "name": "stdout",
     "output_type": "stream",
     "text": [
      "\n",
      "The tCommonGround optimization problem had no optimal solution.\n",
      "The CommonGround optimization problem had no optimal solution.\n",
      "The tCommonGround optimization problem had no optimal solution.\n"
     ]
    },
    {
     "name": "stdout",
     "output_type": "stream",
     "text": [
      "The CommonGround_entani optimization problem had no optimal solution.\n",
      "The CommonGround_entani optimization problem had no optimal solution.\n",
      "The CommonGround optimization problem had no optimal solution.\n",
      "The CommonGround optimization problem had no optimal solution.\n",
      "The tCommonGround optimization problem had no optimal solution.\n",
      "The tCommonGround optimization problem had no optimal solution.\n",
      "The CommonGround_entani optimization problem had no optimal solution.\n",
      "The CommonGround_entani optimization problem had no optimal solution.\n",
      "The CommonGround optimization problem had no optimal solution.\n",
      "The CommonGround optimization problem had no optimal solution.\n",
      "The tCommonGround optimization problem had no optimal solution.\n",
      "The tCommonGround optimization problem had no optimal solution.\n",
      "The CommonGround_entani optimization problem had no optimal solution.\n",
      "The CommonGround optimization problem had no optimal solution.\n",
      "The tCommonGround optimization problem had no optimal solution.\n",
      "The CommonGround_entani optimization problem had no optimal solution.\n",
      "The CommonGround optimization problem had no optimal solution.\n",
      "The tCommonGround optimization problem had no optimal solution.\n",
      "The CommonGround_entani optimization problem had no optimal solution.\n",
      "The CommonGround_entani optimization problem had no optimal solution."
     ]
    },
    {
     "name": "stdout",
     "output_type": "stream",
     "text": [
      "\n",
      "The CommonGround optimization problem had no optimal solution.\n",
      "The CommonGround optimization problem had no optimal solution.\n",
      "The tCommonGround optimization problem had no optimal solution.\n",
      "The tCommonGround optimization problem had no optimal solution.\n",
      "The CommonGround_entani optimization problem had no optimal solution.\n",
      "The CommonGround optimization problem had no optimal solution.\n",
      "The tCommonGround optimization problem had no optimal solution.\n",
      "The CommonGround_entani optimization problem had no optimal solution.\n",
      "The CommonGround optimization problem had no optimal solution.\n",
      "The tCommonGround optimization problem had no optimal solution.\n",
      "The CommonGround_entani optimization problem had no optimal solution.\n",
      "The CommonGround_entani optimization problem had no optimal solution."
     ]
    },
    {
     "name": "stdout",
     "output_type": "stream",
     "text": [
      "\n",
      "The CommonGround optimization problem had no optimal solution.\n",
      "The CommonGround optimization problem had no optimal solution.\n",
      "The tCommonGround optimization problem had no optimal solution.\n",
      "The CommonGround_entani optimization problem had no optimal solution.\n",
      "The tCommonGround optimization problem had no optimal solution.\n",
      "The CommonGround optimization problem had no optimal solution.\n",
      "The tCommonGround optimization problem had no optimal solution.\n",
      "The CommonGround_entani optimization problem had no optimal solution.\n",
      "The CommonGround optimization problem had no optimal solution.\n",
      "The tCommonGround optimization problem had no optimal solution.\n",
      "The CommonGround_entani optimization problem had no optimal solution.\n",
      "The CommonGround_entani optimization problem had no optimal solution."
     ]
    },
    {
     "name": "stdout",
     "output_type": "stream",
     "text": [
      "\n",
      "The CommonGround optimization problem had no optimal solution.\n",
      "The CommonGround optimization problem had no optimal solution.\n",
      "The tCommonGround optimization problem had no optimal solution.\n",
      "The tCommonGround optimization problem had no optimal solution.\n",
      "The CommonGround_entani optimization problem had no optimal solution.\n",
      "The CommonGround optimization problem had no optimal solution.\n",
      "The tCommonGround optimization problem had no optimal solution.\n",
      "The CommonGround_entani optimization problem had no optimal solution.\n",
      "The CommonGround optimization problem had no optimal solution.\n",
      "The tCommonGround optimization problem had no optimal solution.\n",
      "The CommonGround_entani optimization problem had no optimal solution.\n",
      "The CommonGround optimization problem had no optimal solution.\n",
      "The tCommonGround optimization problem had no optimal solution.\n",
      "The CommonGround_entani optimization problem had no optimal solution."
     ]
    },
    {
     "name": "stdout",
     "output_type": "stream",
     "text": [
      "\n"
     ]
    },
    {
     "name": "stdout",
     "output_type": "stream",
     "text": [
      "The CommonGround_entani optimization problem had no optimal solution.\n",
      "The CommonGround optimization problem had no optimal solution.\n",
      "The tCommonGround optimization problem had no optimal solution.\n",
      "The CommonGround optimization problem had no optimal solution.\n",
      "The tCommonGround optimization problem had no optimal solution.\n",
      "The CommonGround_entani optimization problem had no optimal solution.\n",
      "The CommonGround optimization problem had no optimal solution.\n",
      "The tCommonGround optimization problem had no optimal solution.\n",
      "The CommonGround_entani optimization problem had no optimal solution."
     ]
    },
    {
     "name": "stdout",
     "output_type": "stream",
     "text": [
      "\n",
      "The CommonGround optimization problem had no optimal solution.\n",
      "The CommonGround optimization problem had no optimal solution.\n",
      "The tCommonGround optimization problem had no optimal solution."
     ]
    },
    {
     "name": "stdout",
     "output_type": "stream",
     "text": [
      "\n",
      "The CommonGround_entani optimization problem had no optimal solution.\n",
      "The tCommonGround optimization problem had no optimal solution.\n",
      "The CommonGround optimization problem had no optimal solution.\n",
      "The tCommonGround optimization problem had no optimal solution.\n",
      "The CommonGround_entani optimization problem had no optimal solution.\n",
      "The CommonGround optimization problem had no optimal solution.\n",
      "The tCommonGround optimization problem had no optimal solution.\n",
      "The CommonGround_entani optimization problem had no optimal solution.\n",
      "The CommonGround optimization problem had no optimal solution.\n",
      "The tCommonGround optimization problem had no optimal solution.\n",
      "The CommonGround_entani optimization problem had no optimal solution."
     ]
    },
    {
     "name": "stdout",
     "output_type": "stream",
     "text": [
      "\n",
      "The CommonGround_entani optimization problem had no optimal solution.\n",
      "The CommonGround optimization problem had no optimal solution.\n",
      "The CommonGround optimization problem had no optimal solution.\n",
      "The tCommonGround optimization problem had no optimal solution.\n",
      "The tCommonGround optimization problem had no optimal solution.\n",
      "The CommonGround_entani optimization problem had no optimal solution.\n",
      "The CommonGround optimization problem had no optimal solution.\n",
      "The tCommonGround optimization problem had no optimal solution.\n",
      "The CommonGround_entani optimization problem had no optimal solution.\n",
      "The CommonGround optimization problem had no optimal solution.\n",
      "The tCommonGround optimization problem had no optimal solution.\n",
      "The CommonGround_entani optimization problem had no optimal solution.\n",
      "The CommonGround_entani optimization problem had no optimal solution."
     ]
    },
    {
     "name": "stdout",
     "output_type": "stream",
     "text": [
      "\n"
     ]
    },
    {
     "name": "stdout",
     "output_type": "stream",
     "text": [
      "The CommonGround optimization problem had no optimal solution.\n",
      "The CommonGround optimization problem had no optimal solution.\n",
      "The tCommonGround optimization problem had no optimal solution.\n",
      "The CommonGround_entani optimization problem had no optimal solution.\n",
      "The tCommonGround optimization problem had no optimal solution.\n",
      "The CommonGround optimization problem had no optimal solution.\n",
      "The tCommonGround optimization problem had no optimal solution.\n",
      "The CommonGround_entani optimization problem had no optimal solution."
     ]
    },
    {
     "name": "stdout",
     "output_type": "stream",
     "text": [
      "\n",
      "The CommonGround_entani optimization problem had no optimal solution.\n",
      "The CommonGround optimization problem had no optimal solution.\n",
      "The CommonGround optimization problem had no optimal solution.\n",
      "The tCommonGround optimization problem had no optimal solution.\n",
      "The tCommonGround optimization problem had no optimal solution.\n",
      "The CommonGround_entani optimization problem had no optimal solution.\n",
      "The CommonGround_entani optimization problem had no optimal solution.\n",
      "The CommonGround optimization problem had no optimal solution.\n",
      "The CommonGround optimization problem had no optimal solution.\n",
      "The tCommonGround optimization problem had no optimal solution.\n",
      "The tCommonGround optimization problem had no optimal solution.\n",
      "The CommonGround_entani optimization problem had no optimal solution.\n",
      "The CommonGround_entani optimization problem had no optimal solution."
     ]
    },
    {
     "name": "stdout",
     "output_type": "stream",
     "text": [
      "\n",
      "The CommonGround optimization problem had no optimal solution.\n",
      "The CommonGround optimization problem had no optimal solution.\n",
      "The CommonGround_entani optimization problem had no optimal solution.\n",
      "The CommonGround_entani optimization problem had no optimal solution.\n",
      "The tCommonGround optimization problem had no optimal solution.\n",
      "The tCommonGround optimization problem had no optimal solution.\n",
      "The CommonGround optimization problem had no optimal solution.\n",
      "The CommonGround optimization problem had no optimal solution.\n",
      "The tCommonGround optimization problem had no optimal solution.\n",
      "The tCommonGround optimization problem had no optimal solution.\n",
      "The CommonGround_entani optimization problem had no optimal solution.\n",
      "The CommonGround optimization problem had no optimal solution.\n",
      "The CommonGround_entani optimization problem had no optimal solution."
     ]
    },
    {
     "name": "stdout",
     "output_type": "stream",
     "text": [
      "\n",
      "The tCommonGround optimization problem had no optimal solution.\n",
      "The CommonGround_entani optimization problem had no optimal solution.\n",
      "The CommonGround_entani optimization problem had no optimal solution.\n",
      "The CommonGround optimization problem had no optimal solution.\n",
      "The CommonGround optimization problem had no optimal solution.\n",
      "The tCommonGround optimization problem had no optimal solution.\n",
      "The tCommonGround optimization problem had no optimal solution.\n",
      "The CommonGround optimization problem had no optimal solution.\n",
      "The tCommonGround optimization problem had no optimal solution.\n",
      "The CommonGround_entani optimization problem had no optimal solution.\n",
      "The CommonGround optimization problem had no optimal solution.\n",
      "The CommonGround_entani optimization problem had no optimal solution."
     ]
    },
    {
     "name": "stdout",
     "output_type": "stream",
     "text": [
      "\n",
      "The tCommonGround optimization problem had no optimal solution.\n",
      "The CommonGround_entani optimization problem had no optimal solution.\n",
      "The CommonGround_entani optimization problem had no optimal solution.\n",
      "The CommonGround optimization problem had no optimal solution.\n",
      "The CommonGround optimization problem had no optimal solution.\n"
     ]
    },
    {
     "name": "stdout",
     "output_type": "stream",
     "text": [
      "The tCommonGround optimization problem had no optimal solution.\n",
      "The CommonGround optimization problem had no optimal solution.\n",
      "The tCommonGround optimization problem had no optimal solution.\n",
      "The tCommonGround optimization problem had no optimal solution.\n",
      "The CommonGround_entani optimization problem had no optimal solution.\n",
      "The CommonGround optimization problem had no optimal solution.\n",
      "The tCommonGround optimization problem had no optimal solution.\n",
      "The CommonGround_entani optimization problem had no optimal solution."
     ]
    },
    {
     "name": "stdout",
     "output_type": "stream",
     "text": [
      "\n",
      "The CommonGround_entani optimization problem had no optimal solution.\n",
      "The CommonGround optimization problem had no optimal solution.\n"
     ]
    },
    {
     "name": "stdout",
     "output_type": "stream",
     "text": [
      "The CommonGround optimization problem had no optimal solution.\n",
      "The tCommonGround optimization problem had no optimal solution.\n",
      "The CommonGround optimization problem had no optimal solution.\n",
      "The tCommonGround optimization problem had no optimal solution.\n",
      "The tCommonGround optimization problem had no optimal solution.\n",
      "The CommonGround_entani optimization problem had no optimal solution."
     ]
    },
    {
     "name": "stdout",
     "output_type": "stream",
     "text": [
      "\n",
      "The CommonGround_entani optimization problem had no optimal solution.\n",
      "The CommonGround_entani optimization problem had no optimal solution.\n",
      "The CommonGround optimization problem had no optimal solution.\n",
      "The CommonGround_entani optimization problem had no optimal solution.\n",
      "The tCommonGround optimization problem had no optimal solution.\n",
      "The CommonGround optimization problem had no optimal solution.\n",
      "The CommonGround optimization problem had no optimal solution.\n",
      "The CommonGround optimization problem had no optimal solution.\n",
      "The tCommonGround optimization problem had no optimal solution.\n",
      "The tCommonGround optimization problem had no optimal solution.\n",
      "The tCommonGround optimization problem had no optimal solution.\n",
      "The CommonGround_entani optimization problem had no optimal solution."
     ]
    },
    {
     "name": "stdout",
     "output_type": "stream",
     "text": [
      "\n",
      "The CommonGround optimization problem had no optimal solution.\n",
      "The CommonGround_entani optimization problem had no optimal solution.\n",
      "The CommonGround_entani optimization problem had no optimal solution.\n",
      "The tCommonGround optimization problem had no optimal solution.\n",
      "The CommonGround_entani optimization problem had no optimal solution.\n",
      "The CommonGround optimization problem had no optimal solution.\n",
      "The CommonGround optimization problem had no optimal solution.\n",
      "The CommonGround optimization problem had no optimal solution.\n",
      "The tCommonGround optimization problem had no optimal solution.\n",
      "The tCommonGround optimization problem had no optimal solution.\n",
      "The tCommonGround optimization problem had no optimal solution.\n",
      "The CommonGround_entani optimization problem had no optimal solution."
     ]
    },
    {
     "name": "stdout",
     "output_type": "stream",
     "text": [
      "\n",
      "The CommonGround optimization problem had no optimal solution.\n",
      "The tCommonGround optimization problem had no optimal solution.\n",
      "The CommonGround_entani optimization problem had no optimal solution.\n",
      "The CommonGround_entani optimization problem had no optimal solution.\n",
      "The CommonGround_entani optimization problem had no optimal solution.\n",
      "The CommonGround optimization problem had no optimal solution.\n",
      "The CommonGround optimization problem had no optimal solution.\n",
      "The CommonGround optimization problem had no optimal solution.\n",
      "The tCommonGround optimization problem had no optimal solution.\n",
      "The tCommonGround optimization problem had no optimal solution.\n",
      "The tCommonGround optimization problem had no optimal solution.\n",
      "The CommonGround_entani optimization problem had no optimal solution."
     ]
    },
    {
     "name": "stdout",
     "output_type": "stream",
     "text": [
      "\n",
      "The CommonGround optimization problem had no optimal solution.\n"
     ]
    },
    {
     "name": "stdout",
     "output_type": "stream",
     "text": [
      "The tCommonGround optimization problem had no optimal solution.\n",
      "The CommonGround_entani optimization problem had no optimal solution.\n",
      "The CommonGround_entani optimization problem had no optimal solution.\n",
      "The CommonGround optimization problem had no optimal solution.\n",
      "The CommonGround optimization problem had no optimal solution.\n",
      "The tCommonGround optimization problem had no optimal solution.\n",
      "The CommonGround_entani optimization problem had no optimal solution.\n",
      "The CommonGround optimization problem had no optimal solution.\n",
      "The tCommonGround optimization problem had no optimal solution.\n",
      "The tCommonGround optimization problem had no optimal solution.\n",
      "The CommonGround_entani optimization problem had no optimal solution."
     ]
    },
    {
     "name": "stdout",
     "output_type": "stream",
     "text": [
      "\n",
      "The CommonGround optimization problem had no optimal solution.\n",
      "The tCommonGround optimization problem had no optimal solution.\n",
      "The CommonGround_entani optimization problem had no optimal solution.\n",
      "The CommonGround optimization problem had no optimal solution.\n",
      "The CommonGround_entani optimization problem had no optimal solution.\n",
      "The CommonGround_entani optimization problem had no optimal solution.\n",
      "The tCommonGround optimization problem had no optimal solution.\n",
      "The CommonGround optimization problem had no optimal solution.\n",
      "The CommonGround optimization problem had no optimal solution.\n",
      "The tCommonGround optimization problem had no optimal solution.\n",
      "The tCommonGround optimization problem had no optimal solution.\n",
      "The CommonGround_entani optimization problem had no optimal solution."
     ]
    },
    {
     "name": "stdout",
     "output_type": "stream",
     "text": [
      "\n",
      "The CommonGround optimization problem had no optimal solution.\n",
      "The tCommonGround optimization problem had no optimal solution.\n"
     ]
    },
    {
     "name": "stdout",
     "output_type": "stream",
     "text": [
      "The CommonGround_entani optimization problem had no optimal solution.\n",
      "The CommonGround optimization problem had no optimal solution.\n",
      "The CommonGround_entani optimization problem had no optimal solution.\n",
      "The tCommonGround optimization problem had no optimal solution.\n",
      "The CommonGround optimization problem had no optimal solution.\n",
      "The tCommonGround optimization problem had no optimal solution.\n",
      "The CommonGround optimization problem had no optimal solution.\n",
      "The tCommonGround optimization problem had no optimal solution.\n",
      "The CommonGround_entani optimization problem had no optimal solution.\n",
      "The CommonGround optimization problem had no optimal solution.\n",
      "The tCommonGround optimization problem had no optimal solution.\n",
      "The CommonGround_entani optimization problem had no optimal solution.\n",
      "The CommonGround optimization problem had no optimal solution.\n",
      "The CommonGround_entani optimization problem had no optimal solution.\n",
      "The CommonGround_entani optimization problem had no optimal solution.\n",
      "The tCommonGround optimization problem had no optimal solution.\n",
      "The CommonGround optimization problem had no optimal solution.\n",
      "The CommonGround optimization problem had no optimal solution.\n",
      "The tCommonGround optimization problem had no optimal solution.\n",
      "The tCommonGround optimization problem had no optimal solution.\n",
      "The CommonGround_entani optimization problem had no optimal solution.\n",
      "The CommonGround optimization problem had no optimal solution.\n",
      "The CommonGround_entani optimization problem had no optimal solution.\n",
      "The tCommonGround optimization problem had no optimal solution.\n",
      "The CommonGround_entani optimization problem had no optimal solution.\n",
      "The CommonGround_entani optimization problem had no optimal solution."
     ]
    },
    {
     "name": "stdout",
     "output_type": "stream",
     "text": [
      "\n",
      "The CommonGround optimization problem had no optimal solution.\n",
      "The CommonGround optimization problem had no optimal solution.\n",
      "The CommonGround optimization problem had no optimal solution.\n",
      "The tCommonGround optimization problem had no optimal solution.\n",
      "The tCommonGround optimization problem had no optimal solution.\n",
      "The tCommonGround optimization problem had no optimal solution.\n",
      "The CommonGround_entani optimization problem had no optimal solution."
     ]
    },
    {
     "name": "stdout",
     "output_type": "stream",
     "text": [
      "\n",
      "The CommonGround optimization problem had no optimal solution.\n",
      "The tCommonGround optimization problem had no optimal solution.\n"
     ]
    },
    {
     "name": "stdout",
     "output_type": "stream",
     "text": [
      "The CommonGround_entani optimization problem had no optimal solution.\n",
      "The CommonGround_entani optimization problem had no optimal solution.\n",
      "The CommonGround_entani optimization problem had no optimal solution.\n",
      "The CommonGround optimization problem had no optimal solution.\n",
      "The CommonGround optimization problem had no optimal solution.\n",
      "The CommonGround_entani optimization problem had no optimal solution.\n",
      "The CommonGround optimization problem had no optimal solution.\n",
      "The tCommonGround optimization problem had no optimal solution.\n",
      "The tCommonGround optimization problem had no optimal solution.\n",
      "The tCommonGround optimization problem had no optimal solution.\n",
      "The CommonGround_entani optimization problem had no optimal solution.\n",
      "The CommonGround_entani optimization problem had no optimal solution.\n",
      "The CommonGround optimization problem had no optimal solution.\n",
      "The CommonGround_entani optimization problem had no optimal solution."
     ]
    },
    {
     "name": "stdout",
     "output_type": "stream",
     "text": [
      "\n",
      "The CommonGround optimization problem had no optimal solution.\n",
      "The CommonGround optimization problem had no optimal solution.\n",
      "The CommonGround_entani optimization problem had no optimal solution.\n",
      "The tCommonGround optimization problem had no optimal solution.\n",
      "The CommonGround optimization problem had no optimal solution.\n",
      "The tCommonGround optimization problem had no optimal solution.\n",
      "The tCommonGround optimization problem had no optimal solution.\n",
      "The tCommonGround optimization problem had no optimal solution.\n",
      "The CommonGround_entani optimization problem had no optimal solution.\n",
      "The CommonGround optimization problem had no optimal solution.\n",
      "The CommonGround_entani optimization problem had no optimal solution.\n",
      "The CommonGround_entani optimization problem had no optimal solution."
     ]
    },
    {
     "name": "stdout",
     "output_type": "stream",
     "text": [
      "\n",
      "The tCommonGround optimization problem had no optimal solution.\n",
      "The CommonGround optimization problem had no optimal solution.\n",
      "The CommonGround optimization problem had no optimal solution.\n",
      "The CommonGround optimization problem had no optimal solution.\n",
      "The tCommonGround optimization problem had no optimal solution.\n",
      "The tCommonGround optimization problem had no optimal solution.\n",
      "The tCommonGround optimization problem had no optimal solution.\n",
      "The CommonGround_entani optimization problem had no optimal solution.\n",
      "The CommonGround optimization problem had no optimal solution.\n",
      "The CommonGround_entani optimization problem had no optimal solution.\n",
      "The CommonGround_entani optimization problem had no optimal solution."
     ]
    },
    {
     "name": "stdout",
     "output_type": "stream",
     "text": [
      "\n",
      "The tCommonGround optimization problem had no optimal solution.\n",
      "The CommonGround_entani optimization problem had no optimal solution.\n",
      "The CommonGround optimization problem had no optimal solution.\n",
      "The CommonGround optimization problem had no optimal solution.\n",
      "The CommonGround optimization problem had no optimal solution.\n",
      "The tCommonGround optimization problem had no optimal solution.\n",
      "The tCommonGround optimization problem had no optimal solution.\n",
      "The tCommonGround optimization problem had no optimal solution.\n"
     ]
    },
    {
     "name": "stdout",
     "output_type": "stream",
     "text": [
      "The CommonGround_entani optimization problem had no optimal solution.\n",
      "The CommonGround optimization problem had no optimal solution.\n",
      "The CommonGround_entani optimization problem had no optimal solution.\n",
      "The CommonGround_entani optimization problem had no optimal solution.\n",
      "The CommonGround_entani optimization problem had no optimal solution.\n",
      "The CommonGround optimization problem had no optimal solution.\n",
      "The CommonGround optimization problem had no optimal solution.\n",
      "The tCommonGround optimization problem had no optimal solution.\n",
      "The CommonGround optimization problem had no optimal solution.\n",
      "The tCommonGround optimization problem had no optimal solution.\n",
      "The tCommonGround optimization problem had no optimal solution.\n",
      "The tCommonGround optimization problem had no optimal solution.\n"
     ]
    },
    {
     "name": "stdout",
     "output_type": "stream",
     "text": [
      "The CommonGround_entani optimization problem had no optimal solution.\n",
      "The CommonGround optimization problem had no optimal solution.\n",
      "The CommonGround_entani optimization problem had no optimal solution.\n",
      "The tCommonGround optimization problem had no optimal solution.\n",
      "The CommonGround optimization problem had no optimal solution.\n",
      "The CommonGround_entani optimization problem had no optimal solution.\n",
      "The CommonGround optimization problem had no optimal solution.\n",
      "The CommonGround_entani optimization problem had no optimal solution.\n",
      "The CommonGround optimization problem had no optimal solution.\n",
      "The tCommonGround optimization problem had no optimal solution.\n",
      "The tCommonGround optimization problem had no optimal solution.\n",
      "The tCommonGround optimization problem had no optimal solution.\n"
     ]
    },
    {
     "name": "stdout",
     "output_type": "stream",
     "text": [
      "The CommonGround_entani optimization problem had no optimal solution.\n",
      "The CommonGround_entani optimization problem had no optimal solution.\n",
      "The CommonGround optimization problem had no optimal solution.\n",
      "The CommonGround_entani optimization problem had no optimal solution.\n",
      "The CommonGround optimization problem had no optimal solution.\n",
      "The tCommonGround optimization problem had no optimal solution.\n",
      "The CommonGround_entani optimization problem had no optimal solution.\n",
      "The CommonGround optimization problem had no optimal solution.\n",
      "The tCommonGround optimization problem had no optimal solution.\n",
      "The CommonGround optimization problem had no optimal solution.\n",
      "The tCommonGround optimization problem had no optimal solution.\n",
      "The tCommonGround optimization problem had no optimal solution.\n",
      "The CommonGround_entani optimization problem had no optimal solution.\n",
      "The CommonGround optimization problem had no optimal solution.\n",
      "The tCommonGround optimization problem had no optimal solution.\n",
      "The CommonGround_entani optimization problem had no optimal solution.\n",
      "The CommonGround optimization problem had no optimal solution.\n",
      "The CommonGround_entani optimization problem had no optimal solution.\n",
      "The CommonGround optimization problem had no optimal solution.\n",
      "The tCommonGround optimization problem had no optimal solution.\n",
      "The tCommonGround optimization problem had no optimal solution.\n",
      "The CommonGround_entani optimization problem had no optimal solution.\n",
      "The CommonGround_entani optimization problem had no optimal solution."
     ]
    },
    {
     "name": "stdout",
     "output_type": "stream",
     "text": [
      "\n",
      "The CommonGround optimization problem had no optimal solution.\n",
      "The CommonGround optimization problem had no optimal solution.\n",
      "The tCommonGround optimization problem had no optimal solution.\n",
      "The CommonGround_entani optimization problem had no optimal solution.\n",
      "The tCommonGround optimization problem had no optimal solution.\n",
      "The CommonGround_entani optimization problem had no optimal solution.\n",
      "The CommonGround optimization problem had no optimal solution.\n",
      "The CommonGround optimization problem had no optimal solution.\n",
      "The tCommonGround optimization problem had no optimal solution.\n",
      "The CommonGround_entani optimization problem had no optimal solution."
     ]
    },
    {
     "name": "stdout",
     "output_type": "stream",
     "text": [
      "\n",
      "The CommonGround optimization problem had no optimal solution.\n",
      "The CommonGround_entani optimization problem had no optimal solution.\n",
      "The tCommonGround optimization problem had no optimal solution.\n",
      "The CommonGround optimization problem had no optimal solution.\n",
      "The CommonGround_entani optimization problem had no optimal solution.\n",
      "The tCommonGround optimization problem had no optimal solution.\n",
      "The CommonGround optimization problem had no optimal solution.\n",
      "The CommonGround optimization problem had no optimal solution.\n",
      "The tCommonGround optimization problem had no optimal solution.\n",
      "The CommonGround_entani optimization problem had no optimal solution."
     ]
    },
    {
     "name": "stdout",
     "output_type": "stream",
     "text": [
      "\n",
      "The CommonGround optimization problem had no optimal solution.\n",
      "The tCommonGround optimization problem had no optimal solution.\n",
      "The CommonGround_entani optimization problem had no optimal solution.\n",
      "The CommonGround optimization problem had no optimal solution.\n",
      "The CommonGround_entani optimization problem had no optimal solution.\n",
      "The CommonGround_entani optimization problem had no optimal solution.\n",
      "The CommonGround optimization problem had no optimal solution.\n",
      "The tCommonGround optimization problem had no optimal solution.\n",
      "The CommonGround_entani optimization problem had no optimal solution."
     ]
    },
    {
     "name": "stdout",
     "output_type": "stream",
     "text": [
      "\n",
      "The tCommonGround optimization problem had no optimal solution.\n",
      "The CommonGround optimization problem had no optimal solution.\n",
      "The CommonGround optimization problem had no optimal solution.\n",
      "The tCommonGround optimization problem had no optimal solution.\n",
      "The tCommonGround optimization problem had no optimal solution.\n"
     ]
    },
    {
     "name": "stdout",
     "output_type": "stream",
     "text": [
      "The CommonGround_entani optimization problem had no optimal solution.\n",
      "The CommonGround optimization problem had no optimal solution.\n",
      "The tCommonGround optimization problem had no optimal solution.\n",
      "The CommonGround_entani optimization problem had no optimal solution.\n",
      "The CommonGround_entani optimization problem had no optimal solution.\n",
      "The CommonGround_entani optimization problem had no optimal solution.\n",
      "The CommonGround optimization problem had no optimal solution.\n",
      "The CommonGround optimization problem had no optimal solution.\n",
      "The CommonGround optimization problem had no optimal solution.\n",
      "The tCommonGround optimization problem had no optimal solution.\n",
      "The tCommonGround optimization problem had no optimal solution.\n",
      "The tCommonGround optimization problem had no optimal solution.\n",
      "The CommonGround_entani optimization problem had no optimal solution."
     ]
    },
    {
     "name": "stdout",
     "output_type": "stream",
     "text": [
      "\n",
      "The CommonGround optimization problem had no optimal solution.\n",
      "The tCommonGround optimization problem had no optimal solution.\n"
     ]
    },
    {
     "name": "stdout",
     "output_type": "stream",
     "text": [
      "The CommonGround_entani optimization problem had no optimal solution.\n",
      "The CommonGround_entani optimization problem had no optimal solution.\n",
      "The CommonGround_entani optimization problem had no optimal solution.\n",
      "The CommonGround optimization problem had no optimal solution.\n",
      "The CommonGround optimization problem had no optimal solution.\n",
      "The CommonGround optimization problem had no optimal solution.\n",
      "The tCommonGround optimization problem had no optimal solution.\n",
      "The tCommonGround optimization problem had no optimal solution.\n",
      "The tCommonGround optimization problem had no optimal solution.\n",
      "The CommonGround_entani optimization problem had no optimal solution.\n",
      "The CommonGround optimization problem had no optimal solution.\n",
      "The tCommonGround optimization problem had no optimal solution.\n"
     ]
    },
    {
     "name": "stdout",
     "output_type": "stream",
     "text": [
      "The CommonGround_entani optimization problem had no optimal solution.\n",
      "The CommonGround optimization problem had no optimal solution.\n",
      "The CommonGround_entani optimization problem had no optimal solution.\n",
      "The CommonGround_entani optimization problem had no optimal solution.\n",
      "The CommonGround_entani optimization problem had no optimal solution.\n",
      "The CommonGround optimization problem had no optimal solution.\n",
      "The tCommonGround optimization problem had no optimal solution.\n",
      "The tCommonGround optimization problem had no optimal solution.\n",
      "The CommonGround optimization problem had no optimal solution.\n",
      "The CommonGround optimization problem had no optimal solution.\n",
      "The tCommonGround optimization problem had no optimal solution.\n",
      "The tCommonGround optimization problem had no optimal solution.\n",
      "The CommonGround_entani optimization problem had no optimal solution.\n",
      "The CommonGround optimization problem had no optimal solution.\n",
      "The tCommonGround optimization problem had no optimal solution.\n",
      "The CommonGround_entani optimization problem had no optimal solution."
     ]
    },
    {
     "name": "stdout",
     "output_type": "stream",
     "text": [
      "\n",
      "The CommonGround_entani optimization problem had no optimal solution.\n",
      "The CommonGround_entani optimization problem had no optimal solution.\n",
      "The CommonGround_entani optimization problem had no optimal solution.\n",
      "The CommonGround optimization problem had no optimal solution.\n",
      "The CommonGround optimization problem had no optimal solution.\n",
      "The CommonGround optimization problem had no optimal solution.\n",
      "The CommonGround optimization problem had no optimal solution.\n"
     ]
    },
    {
     "name": "stdout",
     "output_type": "stream",
     "text": [
      "The tCommonGround optimization problem had no optimal solution.\n",
      "The tCommonGround optimization problem had no optimal solution.\n",
      "The tCommonGround optimization problem had no optimal solution.\n",
      "The CommonGround_entani optimization problem had no optimal solution.\n",
      "The tCommonGround optimization problem had no optimal solution.\n",
      "The CommonGround_entani optimization problem had no optimal solution."
     ]
    },
    {
     "name": "stdout",
     "output_type": "stream",
     "text": [
      "\n",
      "The CommonGround_entani optimization problem had no optimal solution.\n",
      "The CommonGround optimization problem had no optimal solution.\n",
      "The CommonGround optimization problem had no optimal solution.\n",
      "The CommonGround optimization problem had no optimal solution.\n",
      "The tCommonGround optimization problem had no optimal solution.\n",
      "The tCommonGround optimization problem had no optimal solution.\n",
      "The tCommonGround optimization problem had no optimal solution.\n",
      "The CommonGround_entani optimization problem had no optimal solution.\n",
      "The CommonGround optimization problem had no optimal solution.\n",
      "The tCommonGround optimization problem had no optimal solution.\n",
      "The CommonGround_entani optimization problem had no optimal solution.\n",
      "The CommonGround optimization problem had no optimal solution.\n",
      "The CommonGround_entani optimization problem had no optimal solution."
     ]
    },
    {
     "name": "stdout",
     "output_type": "stream",
     "text": [
      "\n",
      "The tCommonGround optimization problem had no optimal solution.\n",
      "The CommonGround_entani optimization problem had no optimal solution.\n",
      "The CommonGround optimization problem had no optimal solution.\n",
      "The CommonGround optimization problem had no optimal solution.\n",
      "The tCommonGround optimization problem had no optimal solution."
     ]
    },
    {
     "name": "stdout",
     "output_type": "stream",
     "text": [
      "\n",
      "The tCommonGround optimization problem had no optimal solution.\n",
      "The CommonGround_entani optimization problem had no optimal solution.\n",
      "The CommonGround optimization problem had no optimal solution.\n",
      "The CommonGround_entani optimization problem had no optimal solution.\n",
      "The tCommonGround optimization problem had no optimal solution.\n",
      "The CommonGround optimization problem had no optimal solution.\n",
      "The CommonGround_entani optimization problem had no optimal solution."
     ]
    },
    {
     "name": "stdout",
     "output_type": "stream",
     "text": [
      "\n",
      "The tCommonGround optimization problem had no optimal solution.\n",
      "The CommonGround_entani optimization problem had no optimal solution.\n",
      "The CommonGround optimization problem had no optimal solution.\n",
      "The CommonGround optimization problem had no optimal solution.\n",
      "The tCommonGround optimization problem had no optimal solution.\n",
      "The tCommonGround optimization problem had no optimal solution.\n"
     ]
    },
    {
     "name": "stdout",
     "output_type": "stream",
     "text": [
      "The CommonGround_entani optimization problem had no optimal solution.\n",
      "The CommonGround optimization problem had no optimal solution.\n",
      "The tCommonGround optimization problem had no optimal solution.\n",
      "The CommonGround_entani optimization problem had no optimal solution.\n",
      "The CommonGround optimization problem had no optimal solution.\n",
      "The tCommonGround optimization problem had no optimal solution.\n",
      "The CommonGround_entani optimization problem had no optimal solution.\n",
      "The CommonGround_entani optimization problem had no optimal solution.\n",
      "The CommonGround optimization problem had no optimal solution.\n",
      "The CommonGround optimization problem had no optimal solution.\n",
      "The tCommonGround optimization problem had no optimal solution.\n",
      "The tCommonGround optimization problem had no optimal solution."
     ]
    },
    {
     "name": "stdout",
     "output_type": "stream",
     "text": [
      "\n",
      "The CommonGround_entani optimization problem had no optimal solution.\n",
      "The CommonGround optimization problem had no optimal solution.\n",
      "The CommonGround_entani optimization problem had no optimal solution.\n",
      "The tCommonGround optimization problem had no optimal solution.\n",
      "The CommonGround optimization problem had no optimal solution.\n",
      "The tCommonGround optimization problem had no optimal solution.\n",
      "The CommonGround_entani optimization problem had no optimal solution."
     ]
    },
    {
     "name": "stdout",
     "output_type": "stream",
     "text": [
      "\n",
      "The CommonGround_entani optimization problem had no optimal solution.\n",
      "The CommonGround optimization problem had no optimal solution.\n",
      "The CommonGround optimization problem had no optimal solution.\n",
      "The tCommonGround optimization problem had no optimal solution.\n",
      "The tCommonGround optimization problem had no optimal solution.\n",
      "The CommonGround_entani optimization problem had no optimal solution.\n",
      "The CommonGround_entani optimization problem had no optimal solution.\n",
      "The CommonGround optimization problem had no optimal solution.\n",
      "The CommonGround optimization problem had no optimal solution.\n",
      "The tCommonGround optimization problem had no optimal solution.\n",
      "The tCommonGround optimization problem had no optimal solution.\n",
      "The CommonGround_entani optimization problem had no optimal solution."
     ]
    },
    {
     "name": "stdout",
     "output_type": "stream",
     "text": [
      "\n",
      "The CommonGround optimization problem had no optimal solution.\n",
      "The CommonGround_entani optimization problem had no optimal solution.\n",
      "The tCommonGround optimization problem had no optimal solution.\n",
      "The CommonGround optimization problem had no optimal solution.\n",
      "The tCommonGround optimization problem had no optimal solution.\n",
      "The CommonGround_entani optimization problem had no optimal solution.\n",
      "The CommonGround_entani optimization problem had no optimal solution.\n",
      "The CommonGround optimization problem had no optimal solution.\n",
      "The CommonGround optimization problem had no optimal solution.\n",
      "The tCommonGround optimization problem had no optimal solution.\n",
      "The tCommonGround optimization problem had no optimal solution.\n",
      "The CommonGround_entani optimization problem had no optimal solution."
     ]
    },
    {
     "name": "stdout",
     "output_type": "stream",
     "text": [
      "\n",
      "The CommonGround optimization problem had no optimal solution.\n",
      "The CommonGround_entani optimization problem had no optimal solution.\n",
      "The CommonGround optimization problem had no optimal solution.\n",
      "The tCommonGround optimization problem had no optimal solution.\n",
      "The tCommonGround optimization problem had no optimal solution.\n",
      "The CommonGround_entani optimization problem had no optimal solution.\n",
      "The CommonGround_entani optimization problem had no optimal solution.\n",
      "The CommonGround optimization problem had no optimal solution.\n",
      "The CommonGround optimization problem had no optimal solution.\n",
      "The tCommonGround optimization problem had no optimal solution.\n",
      "The tCommonGround optimization problem had no optimal solution.\n",
      "The CommonGround_entani optimization problem had no optimal solution.\n",
      "The CommonGround optimization problem had no optimal solution.\n",
      "The tCommonGround optimization problem had no optimal solution.\n"
     ]
    },
    {
     "name": "stdout",
     "output_type": "stream",
     "text": [
      "The CommonGround optimization problem had no optimal solution.\n",
      "The CommonGround_entani optimization problem had no optimal solution.\n",
      "The CommonGround_entani optimization problem had no optimal solution.\n",
      "The CommonGround optimization problem had no optimal solution.\n",
      "The tCommonGround optimization problem had no optimal solution.\n",
      "The CommonGround optimization problem had no optimal solution.\n",
      "The tCommonGround optimization problem had no optimal solution.\n",
      "The tCommonGround optimization problem had no optimal solution.\n",
      "The CommonGround_entani optimization problem had no optimal solution.\n",
      "The CommonGround optimization problem had no optimal solution.\n",
      "The tCommonGround optimization problem had no optimal solution.\n",
      "The CommonGround_entani optimization problem had no optimal solution."
     ]
    },
    {
     "name": "stdout",
     "output_type": "stream",
     "text": [
      "\n",
      "The CommonGround optimization problem had no optimal solution.\n"
     ]
    },
    {
     "name": "stdout",
     "output_type": "stream",
     "text": [
      "The tCommonGround optimization problem had no optimal solution.\n",
      "The CommonGround_entani optimization problem had no optimal solution.\n",
      "The CommonGround_entani optimization problem had no optimal solution.\n",
      "The CommonGround optimization problem had no optimal solution.\n",
      "The CommonGround optimization problem had no optimal solution.\n",
      "The tCommonGround optimization problem had no optimal solution.\n",
      "The tCommonGround optimization problem had no optimal solution.\n",
      "The CommonGround_entani optimization problem had no optimal solution.\n",
      "The CommonGround optimization problem had no optimal solution.\n",
      "The tCommonGround optimization problem had no optimal solution.\n",
      "The CommonGround_entani optimization problem had no optimal solution.\n",
      "The CommonGround optimization problem had no optimal solution.\n",
      "The CommonGround_entani optimization problem had no optimal solution."
     ]
    },
    {
     "name": "stdout",
     "output_type": "stream",
     "text": [
      "\n",
      "The tCommonGround optimization problem had no optimal solution.\n",
      "The CommonGround optimization problem had no optimal solution.\n",
      "The tCommonGround optimization problem had no optimal solution.\n",
      "The CommonGround_entani optimization problem had no optimal solution.\n",
      "The CommonGround optimization problem had no optimal solution.\n",
      "The tCommonGround optimization problem had no optimal solution.\n",
      "The CommonGround_entani optimization problem had no optimal solution.\n",
      "The CommonGround optimization problem had no optimal solution.\n",
      "The tCommonGround optimization problem had no optimal solution.\n",
      "The CommonGround_entani optimization problem had no optimal solution.\n",
      "The CommonGround_entani optimization problem had no optimal solution."
     ]
    },
    {
     "name": "stdout",
     "output_type": "stream",
     "text": [
      "\n",
      "The CommonGround optimization problem had no optimal solution.\n",
      "The CommonGround optimization problem had no optimal solution.\n"
     ]
    },
    {
     "name": "stdout",
     "output_type": "stream",
     "text": [
      "The tCommonGround optimization problem had no optimal solution.\n",
      "The tCommonGround optimization problem had no optimal solution.\n",
      "The CommonGround_entani optimization problem had no optimal solution.\n",
      "The CommonGround optimization problem had no optimal solution.\n",
      "The tCommonGround optimization problem had no optimal solution.\n",
      "The CommonGround_entani optimization problem had no optimal solution.\n",
      "The CommonGround_entani optimization problem had no optimal solution.\n",
      "The CommonGround optimization problem had no optimal solution.\n",
      "The CommonGround optimization problem had no optimal solution.\n",
      "The tCommonGround optimization problem had no optimal solution.\n",
      "The tCommonGround optimization problem had no optimal solution.\n",
      "The CommonGround_entani optimization problem had no optimal solution."
     ]
    },
    {
     "name": "stdout",
     "output_type": "stream",
     "text": [
      "\n",
      "The CommonGround optimization problem had no optimal solution.\n",
      "The tCommonGround optimization problem had no optimal solution.\n",
      "The CommonGround_entani optimization problem had no optimal solution.\n",
      "The CommonGround optimization problem had no optimal solution.\n",
      "The tCommonGround optimization problem had no optimal solution.\n",
      "The CommonGround_entani optimization problem had no optimal solution.\n",
      "The CommonGround_entani optimization problem had no optimal solution.\n",
      "The CommonGround optimization problem had no optimal solution.\n",
      "The CommonGround optimization problem had no optimal solution.\n",
      "The tCommonGround optimization problem had no optimal solution.\n",
      "The tCommonGround optimization problem had no optimal solution.\n",
      "The CommonGround_entani optimization problem had no optimal solution."
     ]
    },
    {
     "name": "stdout",
     "output_type": "stream",
     "text": [
      "\n"
     ]
    },
    {
     "name": "stdout",
     "output_type": "stream",
     "text": [
      "The CommonGround optimization problem had no optimal solution.\n",
      "The tCommonGround optimization problem had no optimal solution.\n",
      "The CommonGround_entani optimization problem had no optimal solution.\n",
      "The CommonGround optimization problem had no optimal solution.\n",
      "The tCommonGround optimization problem had no optimal solution.\n",
      "The CommonGround_entani optimization problem had no optimal solution.\n",
      "The CommonGround_entani optimization problem had no optimal solution.\n",
      "The CommonGround optimization problem had no optimal solution.\n",
      "The CommonGround optimization problem had no optimal solution.\n",
      "The tCommonGround optimization problem had no optimal solution.\n",
      "The tCommonGround optimization problem had no optimal solution.\n",
      "The CommonGround_entani optimization problem had no optimal solution."
     ]
    },
    {
     "name": "stdout",
     "output_type": "stream",
     "text": [
      "\n",
      "The CommonGround optimization problem had no optimal solution.\n"
     ]
    },
    {
     "name": "stdout",
     "output_type": "stream",
     "text": [
      "The tCommonGround optimization problem had no optimal solution.\n",
      "The CommonGround_entani optimization problem had no optimal solution.\n",
      "The CommonGround optimization problem had no optimal solution.\n",
      "The tCommonGround optimization problem had no optimal solution.\n",
      "The CommonGround_entani optimization problem had no optimal solution.\n",
      "The CommonGround_entani optimization problem had no optimal solution.\n",
      "The CommonGround optimization problem had no optimal solution.\n",
      "The CommonGround optimization problem had no optimal solution.\n",
      "The tCommonGround optimization problem had no optimal solution.\n",
      "The tCommonGround optimization problem had no optimal solution.\n",
      "The CommonGround_entani optimization problem had no optimal solution."
     ]
    },
    {
     "name": "stdout",
     "output_type": "stream",
     "text": [
      "\n",
      "The CommonGround optimization problem had no optimal solution.\n",
      "The tCommonGround optimization problem had no optimal solution.\n",
      "The CommonGround_entani optimization problem had no optimal solution.\n",
      "The CommonGround optimization problem had no optimal solution.\n",
      "The tCommonGround optimization problem had no optimal solution.\n",
      "The CommonGround_entani optimization problem had no optimal solution.\n",
      "The CommonGround_entani optimization problem had no optimal solution.\n",
      "The CommonGround optimization problem had no optimal solution.\n",
      "The CommonGround optimization problem had no optimal solution.\n",
      "The tCommonGround optimization problem had no optimal solution.\n",
      "The CommonGround_entani optimization problem had no optimal solution.\n",
      "The CommonGround optimization problem had no optimal solution.\n",
      "The tCommonGround optimization problem had no optimal solution.\n",
      "The CommonGround optimization problem had no optimal solution."
     ]
    },
    {
     "name": "stdout",
     "output_type": "stream",
     "text": [
      "\n",
      "The tCommonGround optimization problem had no optimal solution.\n"
     ]
    },
    {
     "name": "stdout",
     "output_type": "stream",
     "text": [
      "The tCommonGround optimization problem had no optimal solution.\n",
      "The CommonGround_entani optimization problem had no optimal solution.\n",
      "The CommonGround optimization problem had no optimal solution.\n",
      "The tCommonGround optimization problem had no optimal solution.\n",
      "The CommonGround_entani optimization problem had no optimal solution.\n",
      "The CommonGround_entani optimization problem had no optimal solution.\n",
      "The CommonGround optimization problem had no optimal solution.\n",
      "The CommonGround optimization problem had no optimal solution.\n",
      "The tCommonGround optimization problem had no optimal solution.\n",
      "The tCommonGround optimization problem had no optimal solution."
     ]
    },
    {
     "name": "stdout",
     "output_type": "stream",
     "text": [
      "\n",
      "The CommonGround_entani optimization problem had no optimal solution.\n",
      "The CommonGround optimization problem had no optimal solution.\n",
      "The tCommonGround optimization problem had no optimal solution.\n",
      "The CommonGround_entani optimization problem had no optimal solution.\n",
      "The CommonGround optimization problem had no optimal solution.\n",
      "The CommonGround_entani optimization problem had no optimal solution."
     ]
    },
    {
     "name": "stdout",
     "output_type": "stream",
     "text": [
      "\n",
      "The tCommonGround optimization problem had no optimal solution.\n",
      "The CommonGround optimization problem had no optimal solution.\n",
      "The tCommonGround optimization problem had no optimal solution.\n",
      "The CommonGround_entani optimization problem had no optimal solution.\n",
      "The CommonGround optimization problem had no optimal solution.\n",
      "The tCommonGround optimization problem had no optimal solution.\n",
      "The CommonGround_entani optimization problem had no optimal solution.\n",
      "The CommonGround optimization problem had no optimal solution.\n",
      "The CommonGround_entani optimization problem had no optimal solution."
     ]
    },
    {
     "name": "stdout",
     "output_type": "stream",
     "text": [
      "\n",
      "The tCommonGround optimization problem had no optimal solution.\n",
      "The CommonGround optimization problem had no optimal solution."
     ]
    },
    {
     "name": "stdout",
     "output_type": "stream",
     "text": [
      "\n",
      "The tCommonGround optimization problem had no optimal solution.\n",
      "The CommonGround_entani optimization problem had no optimal solution.\n",
      "The CommonGround optimization problem had no optimal solution.\n",
      "The tCommonGround optimization problem had no optimal solution.\n",
      "The CommonGround_entani optimization problem had no optimal solution.\n",
      "The CommonGround optimization problem had no optimal solution.\n",
      "The CommonGround_entani optimization problem had no optimal solution."
     ]
    },
    {
     "name": "stdout",
     "output_type": "stream",
     "text": [
      "\n",
      "The CommonGround_entani optimization problem had no optimal solution.\n",
      "The tCommonGround optimization problem had no optimal solution.\n",
      "The CommonGround optimization problem had no optimal solution.\n",
      "The tCommonGround optimization problem had no optimal solution.\n",
      "The CommonGround optimization problem had no optimal solution.\n",
      "The tCommonGround optimization problem had no optimal solution.\n",
      "The CommonGround_entani optimization problem had no optimal solution.\n",
      "The CommonGround optimization problem had no optimal solution.\n",
      "The tCommonGround optimization problem had no optimal solution.\n",
      "The CommonGround_entani optimization problem had no optimal solution.\n",
      "The CommonGround_entani optimization problem had no optimal solution.\n",
      "The CommonGround optimization problem had no optimal solution."
     ]
    },
    {
     "name": "stdout",
     "output_type": "stream",
     "text": [
      "\n",
      "The tCommonGround optimization problem had no optimal solution.\n",
      "The CommonGround optimization problem had no optimal solution.\n",
      "The tCommonGround optimization problem had no optimal solution.\n",
      "The CommonGround optimization problem had no optimal solution.\n",
      "The tCommonGround optimization problem had no optimal solution.\n",
      "The CommonGround_entani optimization problem had no optimal solution.\n",
      "The CommonGround optimization problem had no optimal solution.\n",
      "The CommonGround_entani optimization problem had no optimal solution."
     ]
    },
    {
     "name": "stdout",
     "output_type": "stream",
     "text": [
      "\n",
      "The tCommonGround optimization problem had no optimal solution.\n",
      "The CommonGround_entani optimization problem had no optimal solution.\n",
      "The CommonGround optimization problem had no optimal solution.\n",
      "The tCommonGround optimization problem had no optimal solution.\n",
      "The CommonGround optimization problem had no optimal solution.\n",
      "The CommonGround_entani optimization problem had no optimal solution.\n",
      "The tCommonGround optimization problem had no optimal solution.\n",
      "The CommonGround optimization problem had no optimal solution.\n",
      "The tCommonGround optimization problem had no optimal solution.\n",
      "The CommonGround_entani optimization problem had no optimal solution."
     ]
    },
    {
     "name": "stdout",
     "output_type": "stream",
     "text": [
      "\n",
      "The CommonGround_entani optimization problem had no optimal solution.\n",
      "The CommonGround optimization problem had no optimal solution.\n",
      "The CommonGround optimization problem had no optimal solution.\n",
      "The tCommonGround optimization problem had no optimal solution.\n",
      "The CommonGround_entani optimization problem had no optimal solution.\n",
      "The tCommonGround optimization problem had no optimal solution.\n",
      "The CommonGround optimization problem had no optimal solution.\n",
      "The tCommonGround optimization problem had no optimal solution.\n",
      "The CommonGround_entani optimization problem had no optimal solution.\n",
      "The CommonGround optimization problem had no optimal solution.\n",
      "The tCommonGround optimization problem had no optimal solution.\n",
      "The CommonGround_entani optimization problem had no optimal solution.\n",
      "The CommonGround optimization problem had no optimal solution.\n",
      "The CommonGround_entani optimization problem had no optimal solution."
     ]
    },
    {
     "name": "stdout",
     "output_type": "stream",
     "text": [
      "\n",
      "The CommonGround_entani optimization problem had no optimal solution.\n",
      "The CommonGround optimization problem had no optimal solution.\n",
      "The tCommonGround optimization problem had no optimal solution.\n",
      "The CommonGround optimization problem had no optimal solution.\n",
      "The CommonGround_entani optimization problem had no optimal solution.\n",
      "The tCommonGround optimization problem had no optimal solution.\n",
      "The CommonGround optimization problem had no optimal solution.\n",
      "The tCommonGround optimization problem had no optimal solution.\n"
     ]
    },
    {
     "name": "stdout",
     "output_type": "stream",
     "text": [
      "The tCommonGround optimization problem had no optimal solution.\n",
      "The CommonGround_entani optimization problem had no optimal solution.\n",
      "The CommonGround_entani optimization problem had no optimal solution.\n",
      "The CommonGround optimization problem had no optimal solution.\n",
      "The tCommonGround optimization problem had no optimal solution.\n",
      "The CommonGround optimization problem had no optimal solution.\n",
      "The tCommonGround optimization problem had no optimal solution.\n",
      "The CommonGround_entani optimization problem had no optimal solution.\n",
      "The CommonGround_entani optimization problem had no optimal solution."
     ]
    },
    {
     "name": "stdout",
     "output_type": "stream",
     "text": [
      "\n",
      "The CommonGround optimization problem had no optimal solution.\n",
      "The CommonGround optimization problem had no optimal solution.\n",
      "The CommonGround_entani optimization problem had no optimal solution.\n",
      "The tCommonGround optimization problem had no optimal solution.\n",
      "The tCommonGround optimization problem had no optimal solution.\n",
      "The CommonGround optimization problem had no optimal solution.\n",
      "The tCommonGround optimization problem had no optimal solution.\n",
      "The CommonGround_entani optimization problem had no optimal solution.\n",
      "The CommonGround_entani optimization problem had no optimal solution.\n",
      "The CommonGround optimization problem had no optimal solution.\n",
      "The CommonGround optimization problem had no optimal solution.\n",
      "The tCommonGround optimization problem had no optimal solution.\n",
      "The tCommonGround optimization problem had no optimal solution.\n",
      "The CommonGround_entani optimization problem had no optimal solution."
     ]
    },
    {
     "name": "stdout",
     "output_type": "stream",
     "text": [
      "\n",
      "The CommonGround optimization problem had no optimal solution.\n",
      "The CommonGround_entani optimization problem had no optimal solution.\n",
      "The CommonGround_entani optimization problem had no optimal solution.\n",
      "The CommonGround optimization problem had no optimal solution.\n",
      "The CommonGround optimization problem had no optimal solution.\n",
      "The tCommonGround optimization problem had no optimal solution.\n",
      "The tCommonGround optimization problem had no optimal solution.\n",
      "The CommonGround_entani optimization problem had no optimal solution.\n",
      "The CommonGround optimization problem had no optimal solution.\n",
      "The tCommonGround optimization problem had no optimal solution.\n",
      "The CommonGround_entani optimization problem had no optimal solution."
     ]
    },
    {
     "name": "stdout",
     "output_type": "stream",
     "text": [
      "\n",
      "The CommonGround optimization problem had no optimal solution.\n",
      "The tCommonGround optimization problem had no optimal solution.\n",
      "The CommonGround_entani optimization problem had no optimal solution.\n",
      "The CommonGround_entani optimization problem had no optimal solution.\n",
      "The CommonGround optimization problem had no optimal solution.\n",
      "The CommonGround optimization problem had no optimal solution.\n",
      "The tCommonGround optimization problem had no optimal solution.\n",
      "The CommonGround_entani optimization problem had no optimal solution.\n",
      "The tCommonGround optimization problem had no optimal solution.\n",
      "The CommonGround optimization problem had no optimal solution.\n",
      "The tCommonGround optimization problem had no optimal solution.\n",
      "The CommonGround_entani optimization problem had no optimal solution."
     ]
    },
    {
     "name": "stdout",
     "output_type": "stream",
     "text": [
      "\n"
     ]
    },
    {
     "name": "stdout",
     "output_type": "stream",
     "text": [
      "The CommonGround optimization problem had no optimal solution.\n",
      "The tCommonGround optimization problem had no optimal solution.\n",
      "The CommonGround_entani optimization problem had no optimal solution.\n",
      "The CommonGround optimization problem had no optimal solution.\n",
      "The CommonGround_entani optimization problem had no optimal solution.\n",
      "The CommonGround optimization problem had no optimal solution.\n",
      "The CommonGround_entani optimization problem had no optimal solution.\n",
      "The tCommonGround optimization problem had no optimal solution.\n",
      "The CommonGround optimization problem had no optimal solution.\n",
      "The tCommonGround optimization problem had no optimal solution.\n",
      "The tCommonGround optimization problem had no optimal solution.\n",
      "The CommonGround_entani optimization problem had no optimal solution."
     ]
    },
    {
     "name": "stdout",
     "output_type": "stream",
     "text": [
      "\n",
      "The CommonGround optimization problem had no optimal solution.\n",
      "The tCommonGround optimization problem had no optimal solution.\n"
     ]
    },
    {
     "name": "stdout",
     "output_type": "stream",
     "text": [
      "The CommonGround_entani optimization problem had no optimal solution.\n",
      "The CommonGround_entani optimization problem had no optimal solution.\n",
      "The CommonGround_entani optimization problem had no optimal solution.\n",
      "The CommonGround optimization problem had no optimal solution.\n",
      "The CommonGround optimization problem had no optimal solution.\n",
      "The tCommonGround optimization problem had no optimal solution.\n",
      "The CommonGround optimization problem had no optimal solution.\n",
      "The tCommonGround optimization problem had no optimal solution.\n",
      "The tCommonGround optimization problem had no optimal solution.\n",
      "The CommonGround_entani optimization problem had no optimal solution.\n"
     ]
    },
    {
     "name": "stdout",
     "output_type": "stream",
     "text": [
      "The CommonGround optimization problem had no optimal solution.\n",
      "The tCommonGround optimization problem had no optimal solution.\n",
      "The CommonGround_entani optimization problem had no optimal solution.\n",
      "The CommonGround_entani optimization problem had no optimal solution.\n",
      "The CommonGround_entani optimization problem had no optimal solution.\n",
      "The CommonGround optimization problem had no optimal solution.\n",
      "The CommonGround optimization problem had no optimal solution.\n",
      "The tCommonGround optimization problem had no optimal solution.\n",
      "The tCommonGround optimization problem had no optimal solution.\n",
      "The CommonGround optimization problem had no optimal solution.\n",
      "The tCommonGround optimization problem had no optimal solution.\n",
      "The CommonGround_entani optimization problem had no optimal solution."
     ]
    },
    {
     "name": "stdout",
     "output_type": "stream",
     "text": [
      "\n",
      "The CommonGround optimization problem had no optimal solution.\n",
      "The tCommonGround optimization problem had no optimal solution.\n"
     ]
    },
    {
     "name": "stdout",
     "output_type": "stream",
     "text": [
      "The CommonGround_entani optimization problem had no optimal solution.\n",
      "The CommonGround optimization problem had no optimal solution.\n",
      "The CommonGround_entani optimization problem had no optimal solution.\n",
      "The CommonGround_entani optimization problem had no optimal solution.\n",
      "The CommonGround optimization problem had no optimal solution.\n",
      "The tCommonGround optimization problem had no optimal solution.\n",
      "The CommonGround optimization problem had no optimal solution.\n",
      "The tCommonGround optimization problem had no optimal solution.\n",
      "The tCommonGround optimization problem had no optimal solution.\n",
      "The CommonGround_entani optimization problem had no optimal solution.\n",
      "The CommonGround optimization problem had no optimal solution.\n",
      "The tCommonGround optimization problem had no optimal solution.\n"
     ]
    },
    {
     "name": "stdout",
     "output_type": "stream",
     "text": [
      "The CommonGround_entani optimization problem had no optimal solution.\n",
      "The CommonGround optimization problem had no optimal solution.\n",
      "The CommonGround_entani optimization problem had no optimal solution.\n",
      "The tCommonGround optimization problem had no optimal solution.\n",
      "The CommonGround optimization problem had no optimal solution.\n",
      "The tCommonGround optimization problem had no optimal solution.\n",
      "The CommonGround_entani optimization problem had no optimal solution.\n",
      "The CommonGround optimization problem had no optimal solution.\n"
     ]
    },
    {
     "name": "stdout",
     "output_type": "stream",
     "text": [
      "The tCommonGround optimization problem had no optimal solution.\n",
      "The CommonGround_entani optimization problem had no optimal solution.\n",
      "The CommonGround optimization problem had no optimal solution.\n",
      "The tCommonGround optimization problem had no optimal solution.\n",
      "The CommonGround_entani optimization problem had no optimal solution.\n",
      "The CommonGround optimization problem had no optimal solution.\n",
      "The tCommonGround optimization problem had no optimal solution.\n",
      "The CommonGround optimization problem had no optimal solution.\n",
      "The CommonGround_entani optimization problem had no optimal solution."
     ]
    },
    {
     "name": "stdout",
     "output_type": "stream",
     "text": [
      "\n",
      "The tCommonGround optimization problem had no optimal solution.\n",
      "The CommonGround optimization problem had no optimal solution.\n",
      "The tCommonGround optimization problem had no optimal solution.\n"
     ]
    },
    {
     "name": "stdout",
     "output_type": "stream",
     "text": [
      "The CommonGround_entani optimization problem had no optimal solution.\n",
      "The CommonGround_entani optimization problem had no optimal solution.\n",
      "The CommonGround optimization problem had no optimal solution.\n",
      "The CommonGround_entani optimization problem had no optimal solution.\n",
      "The CommonGround optimization problem had no optimal solution.\n",
      "The tCommonGround optimization problem had no optimal solution.\n",
      "The tCommonGround optimization problem had no optimal solution.\n",
      "The CommonGround optimization problem had no optimal solution.\n",
      "The tCommonGround optimization problem had no optimal solution.\n",
      "The CommonGround_entani optimization problem had no optimal solution.\n",
      "The CommonGround optimization problem had no optimal solution.\n"
     ]
    },
    {
     "name": "stdout",
     "output_type": "stream",
     "text": [
      "The tCommonGround optimization problem had no optimal solution.\n",
      "The CommonGround_entani optimization problem had no optimal solution.\n",
      "The CommonGround_entani optimization problem had no optimal solution.\n",
      "The CommonGround optimization problem had no optimal solution.\n",
      "The CommonGround_entani optimization problem had no optimal solution.\n",
      "The CommonGround optimization problem had no optimal solution.\n",
      "The CommonGround optimization problem had no optimal solution.\n",
      "The tCommonGround optimization problem had no optimal solution.\n",
      "The tCommonGround optimization problem had no optimal solution.\n",
      "The tCommonGround optimization problem had no optimal solution.\n",
      "The CommonGround_entani optimization problem had no optimal solution."
     ]
    },
    {
     "name": "stdout",
     "output_type": "stream",
     "text": [
      "\n",
      "The CommonGround optimization problem had no optimal solution.\n"
     ]
    },
    {
     "name": "stdout",
     "output_type": "stream",
     "text": [
      "The CommonGround_entani optimization problem had no optimal solution.\n",
      "The CommonGround_entani optimization problem had no optimal solution.\n",
      "The CommonGround optimization problem had no optimal solution.\n",
      "The CommonGround optimization problem had no optimal solution.\n",
      "The CommonGround_entani optimization problem had no optimal solution.\n",
      "The tCommonGround optimization problem had no optimal solution.\n",
      "The CommonGround optimization problem had no optimal solution.\n",
      "The CommonGround_entani optimization problem had no optimal solution.\n",
      "The tCommonGround optimization problem had no optimal solution.\n",
      "The CommonGround optimization problem had no optimal solution.\n",
      "The tCommonGround optimization problem had no optimal solution.\n"
     ]
    },
    {
     "name": "stdout",
     "output_type": "stream",
     "text": [
      "The CommonGround_entani optimization problem had no optimal solution.\n",
      "The CommonGround optimization problem had no optimal solution.\n",
      "The CommonGround_entani optimization problem had no optimal solution.\n",
      "The tCommonGround optimization problem had no optimal solution.\n",
      "The CommonGround optimization problem had no optimal solution.\n",
      "The CommonGround_entani optimization problem had no optimal solution.\n",
      "The tCommonGround optimization problem had no optimal solution.\n",
      "The CommonGround optimization problem had no optimal solution.\n",
      "The tCommonGround optimization problem had no optimal solution.\n"
     ]
    },
    {
     "name": "stdout",
     "output_type": "stream",
     "text": [
      "The CommonGround optimization problem had no optimal solution.\n",
      "The tCommonGround optimization problem had no optimal solution.\n",
      "The CommonGround_entani optimization problem had no optimal solution.\n",
      "The CommonGround optimization problem had no optimal solution.\n",
      "The tCommonGround optimization problem had no optimal solution.\n"
     ]
    },
    {
     "name": "stdout",
     "output_type": "stream",
     "text": [
      "The CommonGround_entani optimization problem had no optimal solution.\n",
      "The CommonGround optimization problem had no optimal solution.\n",
      "The CommonGround optimization problem had no optimal solution.\n",
      "The tCommonGround optimization problem had no optimal solution.\n",
      "The tCommonGround optimization problem had no optimal solution.\n",
      "The CommonGround_entani optimization problem had no optimal solution.\n",
      "The CommonGround optimization problem had no optimal solution.\n",
      "The tCommonGround optimization problem had no optimal solution.\n",
      "The CommonGround_entani optimization problem had no optimal solution.\n",
      "The CommonGround_entani optimization problem had no optimal solution.\n",
      "The CommonGround optimization problem had no optimal solution.\n",
      "The tCommonGround optimization problem had no optimal solution.\n",
      "The CommonGround_entani optimization problem had no optimal solution.\n",
      "The CommonGround optimization problem had no optimal solution.\n",
      "The tCommonGround optimization problem had no optimal solution.\n",
      "The CommonGround optimization problem had no optimal solution.\n",
      "The tCommonGround optimization problem had no optimal solution.\n",
      "The CommonGround_entani optimization problem had no optimal solution.\n",
      "The CommonGround_entani optimization problem had no optimal solution.\n",
      "The CommonGround optimization problem had no optimal solution.\n",
      "The CommonGround optimization problem had no optimal solution.\n",
      "The tCommonGround optimization problem had no optimal solution.\n",
      "The tCommonGround optimization problem had no optimal solution.\n",
      "The CommonGround_entani optimization problem had no optimal solution.\n",
      "The CommonGround optimization problem had no optimal solution.\n",
      "The CommonGround_entani optimization problem had no optimal solution."
     ]
    },
    {
     "name": "stdout",
     "output_type": "stream",
     "text": [
      "\n"
     ]
    },
    {
     "name": "stdout",
     "output_type": "stream",
     "text": [
      "The CommonGround optimization problem had no optimal solution.\n",
      "The tCommonGround optimization problem had no optimal solution.\n",
      "The CommonGround_entani optimization problem had no optimal solution.\n",
      "The CommonGround_entani optimization problem had no optimal solution.\n",
      "The CommonGround optimization problem had no optimal solution.\n",
      "The CommonGround optimization problem had no optimal solution.\n",
      "The tCommonGround optimization problem had no optimal solution.\n",
      "The tCommonGround optimization problem had no optimal solution.\n",
      "The CommonGround_entani optimization problem had no optimal solution.\n",
      "The CommonGround optimization problem had no optimal solution.\n",
      "The CommonGround_entani optimization problem had no optimal solution."
     ]
    },
    {
     "name": "stdout",
     "output_type": "stream",
     "text": [
      "\n",
      "The CommonGround optimization problem had no optimal solution.\n",
      "The tCommonGround optimization problem had no optimal solution.\n",
      "The tCommonGround optimization problem had no optimal solution.\n"
     ]
    },
    {
     "name": "stdout",
     "output_type": "stream",
     "text": [
      "The CommonGround_entani optimization problem had no optimal solution.\n",
      "The CommonGround_entani optimization problem had no optimal solution.\n",
      "The CommonGround optimization problem had no optimal solution.\n",
      "The CommonGround optimization problem had no optimal solution.\n",
      "The tCommonGround optimization problem had no optimal solution.\n",
      "The tCommonGround optimization problem had no optimal solution.\n",
      "The CommonGround_entani optimization problem had no optimal solution.\n",
      "The CommonGround optimization problem had no optimal solution.\n",
      "The CommonGround optimization problem had no optimal solution.\n"
     ]
    },
    {
     "name": "stdout",
     "output_type": "stream",
     "text": [
      "The tCommonGround optimization problem had no optimal solution.\n",
      "The tCommonGround optimization problem had no optimal solution.\n",
      "The CommonGround_entani optimization problem had no optimal solution.\n",
      "The CommonGround optimization problem had no optimal solution.\n",
      "The CommonGround_entani optimization problem had no optimal solution.\n",
      "The tCommonGround optimization problem had no optimal solution.\n",
      "The CommonGround optimization problem had no optimal solution.\n",
      "The CommonGround_entani optimization problem had no optimal solution."
     ]
    },
    {
     "name": "stdout",
     "output_type": "stream",
     "text": [
      "\n",
      "The tCommonGround optimization problem had no optimal solution.\n",
      "The CommonGround optimization problem had no optimal solution.\n",
      "The CommonGround_entani optimization problem had no optimal solution.\n",
      "The tCommonGround optimization problem had no optimal solution.\n",
      "The CommonGround optimization problem had no optimal solution.\n",
      "The tCommonGround optimization problem had no optimal solution.\n",
      "The CommonGround_entani optimization problem had no optimal solution.\n",
      "The CommonGround optimization problem had no optimal solution.\n",
      "The tCommonGround optimization problem had no optimal solution.\n",
      "The CommonGround_entani optimization problem had no optimal solution.\n",
      "The CommonGround optimization problem had no optimal solution.\n",
      "The CommonGround_entani optimization problem had no optimal solution."
     ]
    },
    {
     "name": "stdout",
     "output_type": "stream",
     "text": [
      "\n",
      "The tCommonGround optimization problem had no optimal solution.\n",
      "The CommonGround_entani optimization problem had no optimal solution.\n",
      "The CommonGround optimization problem had no optimal solution.\n",
      "The CommonGround optimization problem had no optimal solution.\n",
      "The tCommonGround optimization problem had no optimal solution.\n",
      "The tCommonGround optimization problem had no optimal solution.\n",
      "The CommonGround_entani optimization problem had no optimal solution.\n",
      "The CommonGround optimization problem had no optimal solution.\n",
      "The tCommonGround optimization problem had no optimal solution.\n",
      "The CommonGround_entani optimization problem had no optimal solution."
     ]
    },
    {
     "name": "stdout",
     "output_type": "stream",
     "text": [
      "\n",
      "The CommonGround optimization problem had no optimal solution.\n",
      "The CommonGround_entani optimization problem had no optimal solution.\n",
      "The tCommonGround optimization problem had no optimal solution.\n",
      "The CommonGround optimization problem had no optimal solution.\n",
      "The CommonGround_entani optimization problem had no optimal solution.\n",
      "The tCommonGround optimization problem had no optimal solution.\n",
      "The CommonGround optimization problem had no optimal solution.\n",
      "The tCommonGround optimization problem had no optimal solution.\n",
      "The CommonGround_entani optimization problem had no optimal solution.\n",
      "The CommonGround optimization problem had no optimal solution.\n",
      "The tCommonGround optimization problem had no optimal solution.\n",
      "The CommonGround_entani optimization problem had no optimal solution."
     ]
    },
    {
     "name": "stdout",
     "output_type": "stream",
     "text": [
      "\n",
      "The CommonGround optimization problem had no optimal solution.\n",
      "The tCommonGround optimization problem had no optimal solution.\n",
      "The CommonGround_entani optimization problem had no optimal solution.\n",
      "The CommonGround optimization problem had no optimal solution.\n",
      "The CommonGround_entani optimization problem had no optimal solution.\n",
      "The tCommonGround optimization problem had no optimal solution.\n",
      "The CommonGround optimization problem had no optimal solution.\n",
      "The tCommonGround optimization problem had no optimal solution.\n",
      "The CommonGround_entani optimization problem had no optimal solution.\n",
      "The CommonGround optimization problem had no optimal solution.\n",
      "The tCommonGround optimization problem had no optimal solution.\n",
      "The CommonGround_entani optimization problem had no optimal solution.\n",
      "The CommonGround_entani optimization problem had no optimal solution."
     ]
    },
    {
     "name": "stdout",
     "output_type": "stream",
     "text": [
      "\n",
      "The CommonGround optimization problem had no optimal solution.\n"
     ]
    },
    {
     "name": "stdout",
     "output_type": "stream",
     "text": [
      "The CommonGround optimization problem had no optimal solution.\n",
      "The tCommonGround optimization problem had no optimal solution.\n"
     ]
    },
    {
     "name": "stdout",
     "output_type": "stream",
     "text": [
      "The CommonGround_entani optimization problem had no optimal solution.\n",
      "The CommonGround_entani optimization problem had no optimal solution.\n",
      "The CommonGround optimization problem had no optimal solution.\n",
      "The tCommonGround optimization problem had no optimal solution.\n",
      "The CommonGround optimization problem had no optimal solution.\n",
      "The CommonGround_entani optimization problem had no optimal solution.\n",
      "The CommonGround optimization problem had no optimal solution.\n",
      "The tCommonGround optimization problem had no optimal solution.\n",
      "The tCommonGround optimization problem had no optimal solution.\n"
     ]
    },
    {
     "name": "stdout",
     "output_type": "stream",
     "text": [
      "The tCommonGround optimization problem had no optimal solution.\n",
      "The CommonGround_entani optimization problem had no optimal solution.\n",
      "The CommonGround_entani optimization problem had no optimal solution."
     ]
    },
    {
     "name": "stdout",
     "output_type": "stream",
     "text": [
      "\n",
      "The CommonGround_entani optimization problem had no optimal solution.\n",
      "The CommonGround optimization problem had no optimal solution.\n",
      "The CommonGround optimization problem had no optimal solution.\n",
      "The CommonGround optimization problem had no optimal solution.\n",
      "The tCommonGround optimization problem had no optimal solution.\n",
      "The tCommonGround optimization problem had no optimal solution.\n",
      "The tCommonGround optimization problem had no optimal solution.\n",
      "The CommonGround_entani optimization problem had no optimal solution.\n",
      "The CommonGround optimization problem had no optimal solution.\n",
      "The tCommonGround optimization problem had no optimal solution.\n",
      "The CommonGround_entani optimization problem had no optimal solution."
     ]
    },
    {
     "name": "stdout",
     "output_type": "stream",
     "text": [
      "\n",
      "The CommonGround optimization problem had no optimal solution.\n",
      "The CommonGround_entani optimization problem had no optimal solution.\n",
      "The CommonGround_entani optimization problem had no optimal solution.\n",
      "The CommonGround optimization problem had no optimal solution.\n",
      "The tCommonGround optimization problem had no optimal solution.\n"
     ]
    },
    {
     "name": "stdout",
     "output_type": "stream",
     "text": [
      "The tCommonGround optimization problem had no optimal solution.\n",
      "The CommonGround optimization problem had no optimal solution.\n",
      "The tCommonGround optimization problem had no optimal solution.\n",
      "The CommonGround_entani optimization problem had no optimal solution.\n",
      "The CommonGround optimization problem had no optimal solution.\n"
     ]
    },
    {
     "name": "stdout",
     "output_type": "stream",
     "text": [
      "The tCommonGround optimization problem had no optimal solution.\n",
      "The CommonGround_entani optimization problem had no optimal solution.\n",
      "The CommonGround optimization problem had no optimal solution.\n"
     ]
    },
    {
     "name": "stdout",
     "output_type": "stream",
     "text": [
      "The CommonGround_entani optimization problem had no optimal solution.\n",
      "The CommonGround_entani optimization problem had no optimal solution.\n",
      "The CommonGround_entani optimization problem had no optimal solution."
     ]
    },
    {
     "name": "stdout",
     "output_type": "stream",
     "text": [
      "\n",
      "The CommonGround optimization problem had no optimal solution.\n",
      "The CommonGround optimization problem had no optimal solution.\n",
      "The CommonGround_entani optimization problem had no optimal solution.\n",
      "The CommonGround optimization problem had no optimal solution.\n",
      "The tCommonGround optimization problem had no optimal solution.\n",
      "The CommonGround optimization problem had no optimal solution.\n",
      "The tCommonGround optimization problem had no optimal solution.\n",
      "The tCommonGround optimization problem had no optimal solution.\n",
      "The CommonGround_entani optimization problem had no optimal solution."
     ]
    },
    {
     "name": "stdout",
     "output_type": "stream",
     "text": [
      "\n",
      "The CommonGround_entani optimization problem had no optimal solution.\n",
      "The CommonGround optimization problem had no optimal solution.\n",
      "The CommonGround optimization problem had no optimal solution.\n",
      "The CommonGround_entani optimization problem had no optimal solution.\n",
      "The tCommonGround optimization problem had no optimal solution.\n",
      "The tCommonGround optimization problem had no optimal solution.\n",
      "The CommonGround optimization problem had no optimal solution.\n",
      "The tCommonGround optimization problem had no optimal solution.\n",
      "The CommonGround_entani optimization problem had no optimal solution.\n",
      "The CommonGround optimization problem had no optimal solution.\n",
      "The CommonGround_entani optimization problem had no optimal solution.\n",
      "The CommonGround_entani optimization problem had no optimal solution."
     ]
    },
    {
     "name": "stdout",
     "output_type": "stream",
     "text": [
      "\n",
      "The tCommonGround optimization problem had no optimal solution.\n",
      "The CommonGround optimization problem had no optimal solution.\n",
      "The CommonGround optimization problem had no optimal solution.\n",
      "The CommonGround_entani optimization problem had no optimal solution.\n",
      "The tCommonGround optimization problem had no optimal solution.\n",
      "The CommonGround optimization problem had no optimal solution.\n",
      "The tCommonGround optimization problem had no optimal solution.\n",
      "The CommonGround_entani optimization problem had no optimal solution.\n",
      "The CommonGround_entani optimization problem had no optimal solution."
     ]
    },
    {
     "name": "stdout",
     "output_type": "stream",
     "text": [
      "\n",
      "The CommonGround_entani optimization problem had no optimal solution.\n",
      "The CommonGround optimization problem had no optimal solution.\n",
      "The CommonGround optimization problem had no optimal solution.\n",
      "The CommonGround optimization problem had no optimal solution.\n",
      "The tCommonGround optimization problem had no optimal solution.\n",
      "The tCommonGround optimization problem had no optimal solution.\n",
      "The tCommonGround optimization problem had no optimal solution.\n",
      "The CommonGround_entani optimization problem had no optimal solution.\n",
      "The CommonGround optimization problem had no optimal solution.\n",
      "The tCommonGround optimization problem had no optimal solution.\n",
      "The CommonGround_entani optimization problem had no optimal solution.\n",
      "The CommonGround_entani optimization problem had no optimal solution.\n",
      "The CommonGround optimization problem had no optimal solution.\n",
      "The CommonGround optimization problem had no optimal solution.\n",
      "The tCommonGround optimization problem had no optimal solution.\n",
      "The tCommonGround optimization problem had no optimal solution.\n",
      "The CommonGround_entani optimization problem had no optimal solution.\n",
      "The CommonGround optimization problem had no optimal solution.\n",
      "The tCommonGround optimization problem had no optimal solution.\n",
      "The CommonGround_entani optimization problem had no optimal solution."
     ]
    },
    {
     "name": "stdout",
     "output_type": "stream",
     "text": [
      "\n",
      "The CommonGround_entani optimization problem had no optimal solution.\n",
      "The CommonGround_entani optimization problem had no optimal solution.\n",
      "The CommonGround optimization problem had no optimal solution."
     ]
    },
    {
     "name": "stdout",
     "output_type": "stream",
     "text": [
      "\n",
      "The CommonGround optimization problem had no optimal solution.\n",
      "The tCommonGround optimization problem had no optimal solution.\n",
      "The CommonGround optimization problem had no optimal solution.\n",
      "The tCommonGround optimization problem had no optimal solution.\n",
      "The tCommonGround optimization problem had no optimal solution.\n",
      "The CommonGround_entani optimization problem had no optimal solution.\n",
      "The CommonGround optimization problem had no optimal solution.\n",
      "The tCommonGround optimization problem had no optimal solution.\n",
      "The CommonGround_entani optimization problem had no optimal solution."
     ]
    },
    {
     "name": "stdout",
     "output_type": "stream",
     "text": [
      "\n"
     ]
    },
    {
     "name": "stdout",
     "output_type": "stream",
     "text": [
      "The CommonGround_entani optimization problem had no optimal solution.\n",
      "The CommonGround_entani optimization problem had no optimal solution.\n",
      "The CommonGround optimization problem had no optimal solution.\n",
      "The CommonGround optimization problem had no optimal solution.\n",
      "The tCommonGround optimization problem had no optimal solution.\n",
      "The tCommonGround optimization problem had no optimal solution.\n",
      "The CommonGround optimization problem had no optimal solution.\n",
      "The CommonGround_entani optimization problem had no optimal solution.\n",
      "The tCommonGround optimization problem had no optimal solution.\n",
      "The CommonGround optimization problem had no optimal solution.\n",
      "The tCommonGround optimization problem had no optimal solution.\n",
      "The CommonGround_entani optimization problem had no optimal solution.\n",
      "The CommonGround_entani optimization problem had no optimal solution.\n",
      "The CommonGround optimization problem had no optimal solution.\n",
      "The CommonGround_entani optimization problem had no optimal solution.\n",
      "The tCommonGround optimization problem had no optimal solution.\n",
      "The CommonGround optimization problem had no optimal solution.\n",
      "The tCommonGround optimization problem had no optimal solution.\n",
      "The CommonGround optimization problem had no optimal solution.\n",
      "The CommonGround_entani optimization problem had no optimal solution."
     ]
    },
    {
     "name": "stdout",
     "output_type": "stream",
     "text": [
      "\n",
      "The CommonGround optimization problem had no optimal solution.\n",
      "The CommonGround_entani optimization problem had no optimal solution.\n",
      "The tCommonGround optimization problem had no optimal solution.\n",
      "The CommonGround_entani optimization problem had no optimal solution.\n",
      "The CommonGround optimization problem had no optimal solution.\n",
      "The tCommonGround optimization problem had no optimal solution.\n",
      "The CommonGround optimization problem had no optimal solution.\n",
      "The tCommonGround optimization problem had no optimal solution.\n",
      "The CommonGround_entani optimization problem had no optimal solution.\n",
      "The CommonGround_entani optimization problem had no optimal solution.\n",
      "The CommonGround optimization problem had no optimal solution.\n",
      "The CommonGround_entani optimization problem had no optimal solution."
     ]
    },
    {
     "name": "stdout",
     "output_type": "stream",
     "text": [
      "\n",
      "The CommonGround optimization problem had no optimal solution.\n",
      "The tCommonGround optimization problem had no optimal solution.\n",
      "The CommonGround optimization problem had no optimal solution.\n",
      "The tCommonGround optimization problem had no optimal solution.\n",
      "The tCommonGround optimization problem had no optimal solution.\n",
      "The CommonGround_entani optimization problem had no optimal solution.\n",
      "The CommonGround optimization problem had no optimal solution.\n",
      "The tCommonGround optimization problem had no optimal solution.\n",
      "The CommonGround_entani optimization problem had no optimal solution.\n",
      "The CommonGround_entani optimization problem had no optimal solution."
     ]
    },
    {
     "name": "stdout",
     "output_type": "stream",
     "text": [
      "\n"
     ]
    },
    {
     "name": "stdout",
     "output_type": "stream",
     "text": [
      "The CommonGround optimization problem had no optimal solution.\n",
      "The tCommonGround optimization problem had no optimal solution.\n",
      "The CommonGround_entani optimization problem had no optimal solution.\n",
      "The CommonGround optimization problem had no optimal solution.\n",
      "The tCommonGround optimization problem had no optimal solution.\n",
      "The CommonGround_entani optimization problem had no optimal solution.\n",
      "The CommonGround_entani optimization problem had no optimal solution.\n",
      "The CommonGround_entani optimization problem had no optimal solution.\n",
      "The CommonGround optimization problem had no optimal solution.\n",
      "The CommonGround optimization problem had no optimal solution.\n",
      "The CommonGround optimization problem had no optimal solution.\n",
      "The tCommonGround optimization problem had no optimal solution.\n",
      "The tCommonGround optimization problem had no optimal solution.\n",
      "The tCommonGround optimization problem had no optimal solution."
     ]
    },
    {
     "name": "stdout",
     "output_type": "stream",
     "text": [
      "\n",
      "The CommonGround_entani optimization problem had no optimal solution.\n",
      "The CommonGround optimization problem had no optimal solution.\n",
      "The tCommonGround optimization problem had no optimal solution.\n",
      "The CommonGround_entani optimization problem had no optimal solution.\n",
      "The CommonGround_entani optimization problem had no optimal solution.\n",
      "The CommonGround optimization problem had no optimal solution.\n",
      "The CommonGround_entani optimization problem had no optimal solution."
     ]
    },
    {
     "name": "stdout",
     "output_type": "stream",
     "text": [
      "\n",
      "The CommonGround optimization problem had no optimal solution.\n",
      "The tCommonGround optimization problem had no optimal solution.\n",
      "The tCommonGround optimization problem had no optimal solution.\n",
      "The CommonGround optimization problem had no optimal solution.\n",
      "The tCommonGround optimization problem had no optimal solution.\n"
     ]
    },
    {
     "name": "stdout",
     "output_type": "stream",
     "text": [
      "The CommonGround_entani optimization problem had no optimal solution.\n",
      "The CommonGround optimization problem had no optimal solution.\n",
      "The tCommonGround optimization problem had no optimal solution.\n",
      "The CommonGround_entani optimization problem had no optimal solution.\n",
      "The CommonGround_entani optimization problem had no optimal solution.\n",
      "The CommonGround optimization problem had no optimal solution.\n",
      "The CommonGround optimization problem had no optimal solution.\n",
      "The tCommonGround optimization problem had no optimal solution.\n",
      "The CommonGround_entani optimization problem had no optimal solution.\n",
      "The tCommonGround optimization problem had no optimal solution.\n",
      "The CommonGround optimization problem had no optimal solution.\n",
      "The tCommonGround optimization problem had no optimal solution.\n"
     ]
    },
    {
     "name": "stdout",
     "output_type": "stream",
     "text": [
      "The CommonGround_entani optimization problem had no optimal solution.\n",
      "The CommonGround optimization problem had no optimal solution.\n",
      "The CommonGround_entani optimization problem had no optimal solution.\n",
      "The tCommonGround optimization problem had no optimal solution.\n",
      "The CommonGround optimization problem had no optimal solution.\n",
      "The tCommonGround optimization problem had no optimal solution.\n",
      "The CommonGround_entani optimization problem had no optimal solution.\n",
      "The CommonGround optimization problem had no optimal solution.\n",
      "The CommonGround_entani optimization problem had no optimal solution.\n",
      "The CommonGround optimization problem had no optimal solution.\n",
      "The tCommonGround optimization problem had no optimal solution.\n",
      "The tCommonGround optimization problem had no optimal solution.\n"
     ]
    },
    {
     "name": "stdout",
     "output_type": "stream",
     "text": [
      "The CommonGround_entani optimization problem had no optimal solution.\n",
      "The CommonGround_entani optimization problem had no optimal solution.\n",
      "The CommonGround optimization problem had no optimal solution.\n",
      "The CommonGround optimization problem had no optimal solution.\n",
      "The tCommonGround optimization problem had no optimal solution.\n",
      "The CommonGround_entani optimization problem had no optimal solution.\n",
      "The CommonGround optimization problem had no optimal solution.\n",
      "The tCommonGround optimization problem had no optimal solution.\n",
      "The CommonGround_entani optimization problem had no optimal solution.\n",
      "The CommonGround optimization problem had no optimal solution.\n",
      "The tCommonGround optimization problem had no optimal solution.\n",
      "The CommonGround_entani optimization problem had no optimal solution.\n",
      "The CommonGround_entani optimization problem had no optimal solution.\n",
      "The CommonGround optimization problem had no optimal solution.\n",
      "The CommonGround optimization problem had no optimal solution.\n",
      "The tCommonGround optimization problem had no optimal solution.\n",
      "The CommonGround_entani optimization problem had no optimal solution."
     ]
    },
    {
     "name": "stdout",
     "output_type": "stream",
     "text": [
      "\n",
      "The tCommonGround optimization problem had no optimal solution.\n",
      "The CommonGround optimization problem had no optimal solution."
     ]
    },
    {
     "name": "stdout",
     "output_type": "stream",
     "text": [
      "\n",
      "The tCommonGround optimization problem had no optimal solution.\n"
     ]
    },
    {
     "name": "stdout",
     "output_type": "stream",
     "text": [
      "The CommonGround_entani optimization problem had no optimal solution.\n",
      "The CommonGround optimization problem had no optimal solution.\n",
      "The CommonGround_entani optimization problem had no optimal solution.\n",
      "The tCommonGround optimization problem had no optimal solution.\n",
      "The CommonGround optimization problem had no optimal solution.\n",
      "The tCommonGround optimization problem had no optimal solution.\n",
      "The CommonGround_entani optimization problem had no optimal solution.\n",
      "The CommonGround optimization problem had no optimal solution.\n",
      "The tCommonGround optimization problem had no optimal solution.\n",
      "The CommonGround_entani optimization problem had no optimal solution.\n",
      "The CommonGround optimization problem had no optimal solution.\n"
     ]
    },
    {
     "name": "stdout",
     "output_type": "stream",
     "text": [
      "The CommonGround_entani optimization problem had no optimal solution.\n",
      "The CommonGround optimization problem had no optimal solution.\n",
      "The tCommonGround optimization problem had no optimal solution.\n",
      "The CommonGround_entani optimization problem had no optimal solution.\n",
      "The CommonGround optimization problem had no optimal solution.\n",
      "The CommonGround_entani optimization problem had no optimal solution.\n",
      "The tCommonGround optimization problem had no optimal solution.\n",
      "The CommonGround optimization problem had no optimal solution.\n",
      "The tCommonGround optimization problem had no optimal solution.\n",
      "The CommonGround_entani optimization problem had no optimal solution.\n",
      "The CommonGround optimization problem had no optimal solution.\n",
      "The tCommonGround optimization problem had no optimal solution.\n"
     ]
    },
    {
     "name": "stdout",
     "output_type": "stream",
     "text": [
      "The CommonGround_entani optimization problem had no optimal solution.\n",
      "The CommonGround optimization problem had no optimal solution.\n",
      "The tCommonGround optimization problem had no optimal solution.\n",
      "The CommonGround_entani optimization problem had no optimal solution.\n",
      "The CommonGround_entani optimization problem had no optimal solution.\n",
      "The CommonGround optimization problem had no optimal solution.\n",
      "The CommonGround optimization problem had no optimal solution.\n",
      "The tCommonGround optimization problem had no optimal solution.\n",
      "The tCommonGround optimization problem had no optimal solution.\n",
      "The CommonGround_entani optimization problem had no optimal solution.\n",
      "The CommonGround optimization problem had no optimal solution.\n",
      "The tCommonGround optimization problem had no optimal solution.\n"
     ]
    },
    {
     "name": "stdout",
     "output_type": "stream",
     "text": [
      "The CommonGround_entani optimization problem had no optimal solution.\n",
      "The CommonGround optimization problem had no optimal solution.\n",
      "The tCommonGround optimization problem had no optimal solution.\n",
      "The CommonGround_entani optimization problem had no optimal solution.\n",
      "The CommonGround_entani optimization problem had no optimal solution.\n",
      "The CommonGround optimization problem had no optimal solution.\n",
      "The CommonGround optimization problem had no optimal solution.\n",
      "The tCommonGround optimization problem had no optimal solution.\n",
      "The tCommonGround optimization problem had no optimal solution.\n",
      "The CommonGround_entani optimization problem had no optimal solution.\n",
      "The CommonGround optimization problem had no optimal solution.\n",
      "The tCommonGround optimization problem had no optimal solution.\n",
      "The CommonGround_entani optimization problem had no optimal solution.\n",
      "The CommonGround optimization problem had no optimal solution.\n",
      "The tCommonGround optimization problem had no optimal solution.\n",
      "The CommonGround_entani optimization problem had no optimal solution.\n",
      "The CommonGround_entani optimization problem had no optimal solution.\n",
      "The CommonGround optimization problem had no optimal solution.\n",
      "The CommonGround optimization problem had no optimal solution.\n",
      "The tCommonGround optimization problem had no optimal solution.\n",
      "The CommonGround_entani optimization problem had no optimal solution."
     ]
    },
    {
     "name": "stdout",
     "output_type": "stream",
     "text": [
      "\n",
      "The CommonGround optimization problem had no optimal solution.\n",
      "The tCommonGround optimization problem had no optimal solution.\n"
     ]
    },
    {
     "name": "stdout",
     "output_type": "stream",
     "text": [
      "The CommonGround_entani optimization problem had no optimal solution.\n",
      "The CommonGround optimization problem had no optimal solution.\n",
      "The CommonGround_entani optimization problem had no optimal solution.\n",
      "The CommonGround optimization problem had no optimal solution.\n",
      "The tCommonGround optimization problem had no optimal solution.\n",
      "The CommonGround_entani optimization problem had no optimal solution.\n",
      "The tCommonGround optimization problem had no optimal solution.\n",
      "The CommonGround optimization problem had no optimal solution.\n",
      "The CommonGround_entani optimization problem had no optimal solution.\n",
      "The CommonGround optimization problem had no optimal solution.\n",
      "The tCommonGround optimization problem had no optimal solution.\n"
     ]
    },
    {
     "name": "stdout",
     "output_type": "stream",
     "text": [
      "The CommonGround_entani optimization problem had no optimal solution.\n",
      "The CommonGround optimization problem had no optimal solution.\n",
      "The CommonGround_entani optimization problem had no optimal solution.\n",
      "The tCommonGround optimization problem had no optimal solution.\n",
      "The CommonGround optimization problem had no optimal solution.\n",
      "The tCommonGround optimization problem had no optimal solution.\n",
      "The CommonGround_entani optimization problem had no optimal solution.\n"
     ]
    },
    {
     "name": "stdout",
     "output_type": "stream",
     "text": [
      "The CommonGround optimization problem had no optimal solution.\n",
      "The tCommonGround optimization problem had no optimal solution.\n",
      "The CommonGround_entani optimization problem had no optimal solution.\n",
      "The CommonGround optimization problem had no optimal solution.\n",
      "The CommonGround_entani optimization problem had no optimal solution.\n",
      "The tCommonGround optimization problem had no optimal solution.\n",
      "The CommonGround optimization problem had no optimal solution.\n",
      "The tCommonGround optimization problem had no optimal solution.\n",
      "The CommonGround_entani optimization problem had no optimal solution.\n",
      "The CommonGround optimization problem had no optimal solution.\n",
      "The tCommonGround optimization problem had no optimal solution.\n",
      "The CommonGround_entani optimization problem had no optimal solution."
     ]
    },
    {
     "name": "stdout",
     "output_type": "stream",
     "text": [
      "\n"
     ]
    },
    {
     "name": "stdout",
     "output_type": "stream",
     "text": [
      "The CommonGround optimization problem had no optimal solution.\n",
      "The tCommonGround optimization problem had no optimal solution.\n",
      "The CommonGround_entani optimization problem had no optimal solution.\n",
      "The CommonGround optimization problem had no optimal solution.\n",
      "The CommonGround_entani optimization problem had no optimal solution.\n",
      "The tCommonGround optimization problem had no optimal solution.\n",
      "The CommonGround optimization problem had no optimal solution.\n",
      "The tCommonGround optimization problem had no optimal solution.\n",
      "The CommonGround_entani optimization problem had no optimal solution."
     ]
    },
    {
     "name": "stdout",
     "output_type": "stream",
     "text": [
      "\n",
      "The CommonGround optimization problem had no optimal solution.\n",
      "The CommonGround_entani optimization problem had no optimal solution.\n",
      "The tCommonGround optimization problem had no optimal solution.\n"
     ]
    },
    {
     "name": "stdout",
     "output_type": "stream",
     "text": [
      "The CommonGround_entani optimization problem had no optimal solution.\n",
      "The CommonGround optimization problem had no optimal solution.\n",
      "The tCommonGround optimization problem had no optimal solution.\n",
      "The CommonGround_entani optimization problem had no optimal solution.\n",
      "The CommonGround_entani optimization problem had no optimal solution.\n",
      "The CommonGround optimization problem had no optimal solution.\n",
      "The CommonGround optimization problem had no optimal solution.\n",
      "The CommonGround optimization problem had no optimal solution.\n",
      "The tCommonGround optimization problem had no optimal solution.\n",
      "The tCommonGround optimization problem had no optimal solution.\n",
      "The tCommonGround optimization problem had no optimal solution.\n",
      "The CommonGround_entani optimization problem had no optimal solution.\n",
      "The CommonGround optimization problem had no optimal solution.\n",
      "The tCommonGround optimization problem had no optimal solution.\n",
      "The CommonGround_entani optimization problem had no optimal solution.\n",
      "The CommonGround_entani optimization problem had no optimal solution.\n",
      "The CommonGround optimization problem had no optimal solution.\n",
      "The CommonGround_entani optimization problem had no optimal solution."
     ]
    },
    {
     "name": "stdout",
     "output_type": "stream",
     "text": [
      "\n"
     ]
    },
    {
     "name": "stdout",
     "output_type": "stream",
     "text": [
      "The CommonGround optimization problem had no optimal solution.\n",
      "The tCommonGround optimization problem had no optimal solution.\n",
      "The CommonGround optimization problem had no optimal solution.\n",
      "The tCommonGround optimization problem had no optimal solution.\n",
      "The tCommonGround optimization problem had no optimal solution.\n",
      "The CommonGround_entani optimization problem had no optimal solution.\n",
      "The CommonGround optimization problem had no optimal solution.\n",
      "The tCommonGround optimization problem had no optimal solution.\n",
      "The CommonGround_entani optimization problem had no optimal solution.\n",
      "The CommonGround_entani optimization problem had no optimal solution.\n",
      "The CommonGround_entani optimization problem had no optimal solution."
     ]
    },
    {
     "name": "stdout",
     "output_type": "stream",
     "text": [
      "\n",
      "The CommonGround optimization problem had no optimal solution.\n",
      "The CommonGround optimization problem had no optimal solution.\n",
      "The CommonGround optimization problem had no optimal solution.\n",
      "The tCommonGround optimization problem had no optimal solution.\n",
      "The tCommonGround optimization problem had no optimal solution.\n",
      "The tCommonGround optimization problem had no optimal solution."
     ]
    },
    {
     "name": "stdout",
     "output_type": "stream",
     "text": [
      "\n",
      "The CommonGround_entani optimization problem had no optimal solution.\n",
      "The CommonGround optimization problem had no optimal solution.\n",
      "The tCommonGround optimization problem had no optimal solution.\n",
      "The CommonGround_entani optimization problem had no optimal solution."
     ]
    },
    {
     "name": "stdout",
     "output_type": "stream",
     "text": [
      "\n",
      "The CommonGround_entani optimization problem had no optimal solution.\n",
      "The CommonGround optimization problem had no optimal solution.\n",
      "The CommonGround_entani optimization problem had no optimal solution.\n",
      "The CommonGround optimization problem had no optimal solution.\n",
      "The tCommonGround optimization problem had no optimal solution."
     ]
    },
    {
     "name": "stdout",
     "output_type": "stream",
     "text": [
      "\n",
      "The CommonGround optimization problem had no optimal solution.\n",
      "The tCommonGround optimization problem had no optimal solution.\n",
      "The CommonGround_entani optimization problem had no optimal solution.\n",
      "The CommonGround_entani optimization problem had no optimal solution.\n",
      "The CommonGround optimization problem had no optimal solution.\n",
      "The CommonGround optimization problem had no optimal solution.\n",
      "The tCommonGround optimization problem had no optimal solution.\n",
      "The tCommonGround optimization problem had no optimal solution.\n",
      "The CommonGround_entani optimization problem had no optimal solution."
     ]
    },
    {
     "name": "stdout",
     "output_type": "stream",
     "text": [
      "\n"
     ]
    },
    {
     "name": "stdout",
     "output_type": "stream",
     "text": [
      "The CommonGround optimization problem had no optimal solution.\n",
      "The CommonGround_entani optimization problem had no optimal solution.\n",
      "The tCommonGround optimization problem had no optimal solution.\n",
      "The CommonGround optimization problem had no optimal solution.\n",
      "The tCommonGround optimization problem had no optimal solution.\n",
      "The CommonGround_entani optimization problem had no optimal solution.\n",
      "The CommonGround optimization problem had no optimal solution.\n",
      "The CommonGround_entani optimization problem had no optimal solution.\n",
      "The tCommonGround optimization problem had no optimal solution.\n",
      "The CommonGround optimization problem had no optimal solution.\n",
      "The tCommonGround optimization problem had no optimal solution.\n",
      "The CommonGround_entani optimization problem had no optimal solution."
     ]
    },
    {
     "name": "stdout",
     "output_type": "stream",
     "text": [
      "\n",
      "The CommonGround_entani optimization problem had no optimal solution.\n",
      "The CommonGround optimization problem had no optimal solution.\n",
      "The tCommonGround optimization problem had no optimal solution.\n",
      "The CommonGround optimization problem had no optimal solution.\n",
      "The tCommonGround optimization problem had no optimal solution.\n",
      "The CommonGround_entani optimization problem had no optimal solution.\n",
      "The CommonGround optimization problem had no optimal solution.\n",
      "The tCommonGround optimization problem had no optimal solution.\n",
      "The CommonGround_entani optimization problem had no optimal solution.\n",
      "The CommonGround optimization problem had no optimal solution.\n",
      "The CommonGround_entani optimization problem had no optimal solution."
     ]
    },
    {
     "name": "stdout",
     "output_type": "stream",
     "text": [
      "\n",
      "The tCommonGround optimization problem had no optimal solution.\n",
      "The CommonGround optimization problem had no optimal solution.\n"
     ]
    },
    {
     "name": "stdout",
     "output_type": "stream",
     "text": [
      "The CommonGround_entani optimization problem had no optimal solution.\n",
      "The tCommonGround optimization problem had no optimal solution.\n",
      "The CommonGround optimization problem had no optimal solution.\n",
      "The tCommonGround optimization problem had no optimal solution.\n",
      "The CommonGround_entani optimization problem had no optimal solution.\n",
      "The CommonGround optimization problem had no optimal solution.\n",
      "The CommonGround_entani optimization problem had no optimal solution.\n",
      "The CommonGround optimization problem had no optimal solution.\n",
      "The CommonGround_entani optimization problem had no optimal solution."
     ]
    },
    {
     "name": "stdout",
     "output_type": "stream",
     "text": [
      "\n",
      "The CommonGround_entani optimization problem had no optimal solution.\n",
      "The tCommonGround optimization problem had no optimal solution.\n",
      "The CommonGround optimization problem had no optimal solution."
     ]
    },
    {
     "name": "stdout",
     "output_type": "stream",
     "text": [
      "\n",
      "The CommonGround optimization problem had no optimal solution.\n",
      "The tCommonGround optimization problem had no optimal solution.\n",
      "The tCommonGround optimization problem had no optimal solution.\n",
      "The CommonGround_entani optimization problem had no optimal solution.\n",
      "The CommonGround optimization problem had no optimal solution.\n",
      "The tCommonGround optimization problem had no optimal solution.\n",
      "The CommonGround_entani optimization problem had no optimal solution.\n",
      "The CommonGround_entani optimization problem had no optimal solution."
     ]
    },
    {
     "name": "stdout",
     "output_type": "stream",
     "text": [
      "\n",
      "The CommonGround_entani optimization problem had no optimal solution.\n",
      "The CommonGround optimization problem had no optimal solution.\n",
      "The CommonGround optimization problem had no optimal solution.\n",
      "The tCommonGround optimization problem had no optimal solution.\n",
      "The CommonGround optimization problem had no optimal solution."
     ]
    },
    {
     "name": "stdout",
     "output_type": "stream",
     "text": [
      "\n",
      "The tCommonGround optimization problem had no optimal solution.\n",
      "The tCommonGround optimization problem had no optimal solution.\n",
      "The CommonGround_entani optimization problem had no optimal solution.\n",
      "The CommonGround optimization problem had no optimal solution.\n",
      "The tCommonGround optimization problem had no optimal solution.\n",
      "The CommonGround_entani optimization problem had no optimal solution.\n",
      "The CommonGround optimization problem had no optimal solution.\n",
      "The tCommonGround optimization problem had no optimal solution.\n",
      "The CommonGround_entani optimization problem had no optimal solution.\n",
      "The CommonGround optimization problem had no optimal solution.\n",
      "The tCommonGround optimization problem had no optimal solution.\n",
      "The CommonGround_entani optimization problem had no optimal solution.\n",
      "The CommonGround optimization problem had no optimal solution.\n",
      "The tCommonGround optimization problem had no optimal solution.\n",
      "The CommonGround_entani optimization problem had no optimal solution.\n",
      "The CommonGround optimization problem had no optimal solution.\n",
      "The CommonGround optimization problem had no optimal solution."
     ]
    },
    {
     "name": "stdout",
     "output_type": "stream",
     "text": [
      "\n",
      "The CommonGround_entani optimization problem had no optimal solution.\n",
      "The tCommonGround optimization problem had no optimal solution.\n",
      "The CommonGround optimization problem had no optimal solution.\n",
      "The tCommonGround optimization problem had no optimal solution.\n",
      "The CommonGround_entani optimization problem had no optimal solution.\n",
      "The CommonGround optimization problem had no optimal solution.\n",
      "The tCommonGround optimization problem had no optimal solution.\n",
      "The CommonGround_entani optimization problem had no optimal solution.\n"
     ]
    },
    {
     "name": "stdout",
     "output_type": "stream",
     "text": [
      "The CommonGround_entani optimization problem had no optimal solution.\n",
      "The CommonGround_entani optimization problem had no optimal solution.\n",
      "The CommonGround optimization problem had no optimal solution.\n",
      "The CommonGround optimization problem had no optimal solution.\n",
      "The tCommonGround optimization problem had no optimal solution.\n",
      "The CommonGround optimization problem had no optimal solution.\n",
      "The tCommonGround optimization problem had no optimal solution.\n",
      "The tCommonGround optimization problem had no optimal solution.\n",
      "The CommonGround_entani optimization problem had no optimal solution.\n",
      "The CommonGround optimization problem had no optimal solution.\n",
      "The tCommonGround optimization problem had no optimal solution.\n",
      "The CommonGround_entani optimization problem had no optimal solution."
     ]
    },
    {
     "name": "stdout",
     "output_type": "stream",
     "text": [
      "\n",
      "The CommonGround_entani optimization problem had no optimal solution.\n",
      "The CommonGround optimization problem had no optimal solution.\n",
      "The CommonGround optimization problem had no optimal solution.\n",
      "The tCommonGround optimization problem had no optimal solution.\n",
      "The tCommonGround optimization problem had no optimal solution.\n",
      "The CommonGround_entani optimization problem had no optimal solution.\n",
      "The CommonGround optimization problem had no optimal solution.\n",
      "The tCommonGround optimization problem had no optimal solution.\n",
      "The CommonGround_entani optimization problem had no optimal solution.\n",
      "The CommonGround optimization problem had no optimal solution.\n",
      "The CommonGround_entani optimization problem had no optimal solution.\n",
      "The CommonGround_entani optimization problem had no optimal solution."
     ]
    },
    {
     "name": "stdout",
     "output_type": "stream",
     "text": [
      "\n",
      "The tCommonGround optimization problem had no optimal solution.\n",
      "The CommonGround optimization problem had no optimal solution.\n",
      "The CommonGround optimization problem had no optimal solution.\n",
      "The tCommonGround optimization problem had no optimal solution.\n",
      "The tCommonGround optimization problem had no optimal solution.\n",
      "The CommonGround_entani optimization problem had no optimal solution.\n",
      "The CommonGround optimization problem had no optimal solution.\n",
      "The tCommonGround optimization problem had no optimal solution.\n",
      "The CommonGround_entani optimization problem had no optimal solution."
     ]
    },
    {
     "name": "stdout",
     "output_type": "stream",
     "text": [
      "\n",
      "The CommonGround optimization problem had no optimal solution.\n",
      "The CommonGround_entani optimization problem had no optimal solution.\n",
      "The CommonGround_entani optimization problem had no optimal solution.\n",
      "The tCommonGround optimization problem had no optimal solution.\n",
      "The CommonGround optimization problem had no optimal solution.\n",
      "The CommonGround optimization problem had no optimal solution.\n",
      "The tCommonGround optimization problem had no optimal solution.\n",
      "The tCommonGround optimization problem had no optimal solution.\n",
      "The CommonGround_entani optimization problem had no optimal solution.\n",
      "The CommonGround optimization problem had no optimal solution.\n",
      "The tCommonGround optimization problem had no optimal solution.\n",
      "The CommonGround_entani optimization problem had no optimal solution."
     ]
    },
    {
     "name": "stdout",
     "output_type": "stream",
     "text": [
      "\n",
      "The CommonGround_entani optimization problem had no optimal solution.\n",
      "The CommonGround optimization problem had no optimal solution.\n",
      "The CommonGround_entani optimization problem had no optimal solution.\n",
      "The CommonGround optimization problem had no optimal solution.\n",
      "The CommonGround_entani optimization problem had no optimal solution.\n",
      "The CommonGround optimization problem had no optimal solution.\n",
      "The CommonGround optimization problem had no optimal solution.\n",
      "The tCommonGround optimization problem had no optimal solution.\n",
      "The tCommonGround optimization problem had no optimal solution.\n",
      "The tCommonGround optimization problem had no optimal solution.\n",
      "The CommonGround_entani optimization problem had no optimal solution."
     ]
    },
    {
     "name": "stdout",
     "output_type": "stream",
     "text": [
      "\n",
      "The CommonGround_entani optimization problem had no optimal solution.\n",
      "The CommonGround optimization problem had no optimal solution.\n",
      "The CommonGround_entani optimization problem had no optimal solution.\n",
      "The CommonGround_entani optimization problem had no optimal solution.\n",
      "The CommonGround optimization problem had no optimal solution.\n",
      "The CommonGround optimization problem had no optimal solution.\n",
      "The tCommonGround optimization problem had no optimal solution.\n",
      "The tCommonGround optimization problem had no optimal solution.\n",
      "The tCommonGround optimization problem had no optimal solution.\n",
      "The CommonGround optimization problem had no optimal solution.\n",
      "The tCommonGround optimization problem had no optimal solution.\n",
      "The CommonGround_entani optimization problem had no optimal solution.\n",
      "The CommonGround_entani optimization problem had no optimal solution."
     ]
    },
    {
     "name": "stdout",
     "output_type": "stream",
     "text": [
      "\n",
      "The CommonGround_entani optimization problem had no optimal solution.\n",
      "The CommonGround optimization problem had no optimal solution.\n",
      "The CommonGround optimization problem had no optimal solution.\n",
      "The CommonGround optimization problem had no optimal solution.\n",
      "The tCommonGround optimization problem had no optimal solution.\n",
      "The CommonGround_entani optimization problem had no optimal solution.\n",
      "The tCommonGround optimization problem had no optimal solution.\n",
      "The tCommonGround optimization problem had no optimal solution.\n",
      "The CommonGround optimization problem had no optimal solution.\n",
      "The tCommonGround optimization problem had no optimal solution.\n",
      "The CommonGround_entani optimization problem had no optimal solution."
     ]
    },
    {
     "name": "stdout",
     "output_type": "stream",
     "text": [
      "\n",
      "The CommonGround optimization problem had no optimal solution.\n",
      "The CommonGround_entani optimization problem had no optimal solution.\n",
      "The tCommonGround optimization problem had no optimal solution.\n",
      "The CommonGround optimization problem had no optimal solution.\n",
      "The CommonGround_entani optimization problem had no optimal solution.\n",
      "The CommonGround optimization problem had no optimal solution.\n",
      "The tCommonGround optimization problem had no optimal solution.\n",
      "The CommonGround_entani optimization problem had no optimal solution.\n"
     ]
    },
    {
     "name": "stdout",
     "output_type": "stream",
     "text": [
      "The CommonGround optimization problem had no optimal solution.\n",
      "The CommonGround_entani optimization problem had no optimal solution.\n",
      "The tCommonGround optimization problem had no optimal solution.\n",
      "The CommonGround optimization problem had no optimal solution.\n",
      "The tCommonGround optimization problem had no optimal solution.\n",
      "The CommonGround_entani optimization problem had no optimal solution.\n",
      "The CommonGround optimization problem had no optimal solution.\n",
      "The tCommonGround optimization problem had no optimal solution.\n",
      "The CommonGround_entani optimization problem had no optimal solution.\n",
      "The CommonGround optimization problem had no optimal solution.\n",
      "The tCommonGround optimization problem had no optimal solution.\n",
      "The CommonGround_entani optimization problem had no optimal solution.\n",
      "The CommonGround optimization problem had no optimal solution.\n",
      "The CommonGround_entani optimization problem had no optimal solution."
     ]
    },
    {
     "name": "stdout",
     "output_type": "stream",
     "text": [
      "\n",
      "The tCommonGround optimization problem had no optimal solution.\n",
      "The CommonGround_entani optimization problem had no optimal solution.\n",
      "The CommonGround optimization problem had no optimal solution.\n",
      "The tCommonGround optimization problem had no optimal solution.\n",
      "The CommonGround optimization problem had no optimal solution.\n",
      "The tCommonGround optimization problem had no optimal solution.\n",
      "The CommonGround_entani optimization problem had no optimal solution.\n",
      "The CommonGround optimization problem had no optimal solution.\n",
      "The tCommonGround optimization problem had no optimal solution.\n",
      "The CommonGround_entani optimization problem had no optimal solution.\n",
      "The CommonGround optimization problem had no optimal solution.\n",
      "The CommonGround_entani optimization problem had no optimal solution.\n",
      "The CommonGround_entani optimization problem had no optimal solution."
     ]
    },
    {
     "name": "stdout",
     "output_type": "stream",
     "text": [
      "\n",
      "The CommonGround optimization problem had no optimal solution.\n",
      "The tCommonGround optimization problem had no optimal solution.\n",
      "The CommonGround optimization problem had no optimal solution.\n",
      "The tCommonGround optimization problem had no optimal solution.\n",
      "The tCommonGround optimization problem had no optimal solution.\n",
      "The CommonGround_entani optimization problem had no optimal solution.\n",
      "The CommonGround optimization problem had no optimal solution.\n",
      "The tCommonGround optimization problem had no optimal solution.\n",
      "The CommonGround_entani optimization problem had no optimal solution.\n",
      "The CommonGround_entani optimization problem had no optimal solution.\n",
      "The CommonGround_entani optimization problem had no optimal solution."
     ]
    },
    {
     "name": "stdout",
     "output_type": "stream",
     "text": [
      "\n",
      "The CommonGround optimization problem had no optimal solution.\n",
      "The CommonGround optimization problem had no optimal solution.\n",
      "The CommonGround optimization problem had no optimal solution.\n",
      "The tCommonGround optimization problem had no optimal solution.\n",
      "The tCommonGround optimization problem had no optimal solution.\n",
      "The CommonGround_entani optimization problem had no optimal solution.\n",
      "The CommonGround optimization problem had no optimal solution.\n",
      "The tCommonGround optimization problem had no optimal solution.\n",
      "The CommonGround_entani optimization problem had no optimal solution.\n",
      "The CommonGround optimization problem had no optimal solution.\n",
      "The CommonGround_entani optimization problem had no optimal solution."
     ]
    },
    {
     "name": "stdout",
     "output_type": "stream",
     "text": [
      "\n",
      "The tCommonGround optimization problem had no optimal solution.\n",
      "The CommonGround optimization problem had no optimal solution.\n",
      "The CommonGround_entani optimization problem had no optimal solution.\n",
      "The CommonGround optimization problem had no optimal solution.\n",
      "The tCommonGround optimization problem had no optimal solution.\n",
      "The CommonGround_entani optimization problem had no optimal solution.\n",
      "The tCommonGround optimization problem had no optimal solution.\n",
      "The CommonGround optimization problem had no optimal solution.\n",
      "The CommonGround_entani optimization problem had no optimal solution.\n",
      "The CommonGround optimization problem had no optimal solution.\n",
      "The CommonGround_entani optimization problem had no optimal solution."
     ]
    },
    {
     "name": "stdout",
     "output_type": "stream",
     "text": [
      "\n",
      "The tCommonGround optimization problem had no optimal solution.\n",
      "The CommonGround optimization problem had no optimal solution.\n",
      "The CommonGround_entani optimization problem had no optimal solution.\n",
      "The tCommonGround optimization problem had no optimal solution.\n",
      "The CommonGround_entani optimization problem had no optimal solution.\n",
      "The CommonGround optimization problem had no optimal solution.\n",
      "The CommonGround optimization problem had no optimal solution.\n",
      "The tCommonGround optimization problem had no optimal solution.\n",
      "The CommonGround_entani optimization problem had no optimal solution."
     ]
    },
    {
     "name": "stdout",
     "output_type": "stream",
     "text": [
      "\n",
      "The CommonGround optimization problem had no optimal solution.\n",
      "The tCommonGround optimization problem had no optimal solution.\n",
      "The CommonGround_entani optimization problem had no optimal solution.\n",
      "The CommonGround_entani optimization problem had no optimal solution.\n",
      "The CommonGround optimization problem had no optimal solution.\n",
      "The CommonGround optimization problem had no optimal solution.\n",
      "The tCommonGround optimization problem had no optimal solution.\n",
      "The tCommonGround optimization problem had no optimal solution.\n",
      "The CommonGround_entani optimization problem had no optimal solution.\n",
      "The CommonGround_entani optimization problem had no optimal solution."
     ]
    },
    {
     "name": "stdout",
     "output_type": "stream",
     "text": [
      "\n",
      "The CommonGround optimization problem had no optimal solution.\n",
      "The CommonGround optimization problem had no optimal solution.\n",
      "The tCommonGround optimization problem had no optimal solution.\n",
      "The CommonGround_entani optimization problem had no optimal solution.\n",
      "The CommonGround_entani optimization problem had no optimal solution.\n",
      "The tCommonGround optimization problem had no optimal solution.\n",
      "The CommonGround optimization problem had no optimal solution.\n",
      "The CommonGround optimization problem had no optimal solution.\n",
      "The tCommonGround optimization problem had no optimal solution.\n",
      "The tCommonGround optimization problem had no optimal solution.\n",
      "The CommonGround_entani optimization problem had no optimal solution."
     ]
    },
    {
     "name": "stdout",
     "output_type": "stream",
     "text": [
      "\n",
      "The CommonGround_entani optimization problem had no optimal solution.\n",
      "The CommonGround optimization problem had no optimal solution.\n",
      "The CommonGround optimization problem had no optimal solution.\n",
      "The CommonGround_entani optimization problem had no optimal solution.\n",
      "The tCommonGround optimization problem had no optimal solution.\n",
      "The CommonGround_entani optimization problem had no optimal solution.\n",
      "The tCommonGround optimization problem had no optimal solution.\n",
      "The CommonGround optimization problem had no optimal solution.\n",
      "The CommonGround optimization problem had no optimal solution.\n",
      "The tCommonGround optimization problem had no optimal solution.\n",
      "The tCommonGround optimization problem had no optimal solution.\n",
      "The CommonGround_entani optimization problem had no optimal solution."
     ]
    },
    {
     "name": "stdout",
     "output_type": "stream",
     "text": [
      "\n",
      "The CommonGround optimization problem had no optimal solution.\n",
      "The tCommonGround optimization problem had no optimal solution.\n",
      "The CommonGround_entani optimization problem had no optimal solution.\n",
      "The CommonGround optimization problem had no optimal solution.\n",
      "The CommonGround_entani optimization problem had no optimal solution.\n",
      "The tCommonGround optimization problem had no optimal solution.\n",
      "The CommonGround optimization problem had no optimal solution.\n",
      "The tCommonGround optimization problem had no optimal solution.\n",
      "The CommonGround_entani optimization problem had no optimal solution.\n",
      "The CommonGround optimization problem had no optimal solution.\n",
      "The CommonGround_entani optimization problem had no optimal solution."
     ]
    },
    {
     "name": "stdout",
     "output_type": "stream",
     "text": [
      "\n"
     ]
    },
    {
     "name": "stdout",
     "output_type": "stream",
     "text": [
      "The tCommonGround optimization problem had no optimal solution.\n",
      "The CommonGround optimization problem had no optimal solution.\n",
      "The tCommonGround optimization problem had no optimal solution.\n",
      "The CommonGround_entani optimization problem had no optimal solution.\n",
      "The CommonGround optimization problem had no optimal solution.\n",
      "The CommonGround_entani optimization problem had no optimal solution.\n",
      "The tCommonGround optimization problem had no optimal solution.\n",
      "The CommonGround optimization problem had no optimal solution.\n",
      "The tCommonGround optimization problem had no optimal solution.\n",
      "The CommonGround_entani optimization problem had no optimal solution.\n",
      "The CommonGround optimization problem had no optimal solution.\n",
      "The CommonGround_entani optimization problem had no optimal solution."
     ]
    },
    {
     "name": "stdout",
     "output_type": "stream",
     "text": [
      "\n"
     ]
    },
    {
     "name": "stdout",
     "output_type": "stream",
     "text": [
      "The tCommonGround optimization problem had no optimal solution.\n",
      "The CommonGround_entani optimization problem had no optimal solution.\n",
      "The CommonGround optimization problem had no optimal solution.\n",
      "The tCommonGround optimization problem had no optimal solution.\n",
      "The CommonGround optimization problem had no optimal solution.\n",
      "The CommonGround_entani optimization problem had no optimal solution.\n",
      "The tCommonGround optimization problem had no optimal solution.\n",
      "The CommonGround optimization problem had no optimal solution.\n",
      "The tCommonGround optimization problem had no optimal solution.\n",
      "The CommonGround_entani optimization problem had no optimal solution.\n",
      "The CommonGround_entani optimization problem had no optimal solution."
     ]
    },
    {
     "name": "stdout",
     "output_type": "stream",
     "text": [
      "\n"
     ]
    },
    {
     "name": "stdout",
     "output_type": "stream",
     "text": [
      "The CommonGround optimization problem had no optimal solution.\n",
      "The CommonGround_entani optimization problem had no optimal solution.\n",
      "The CommonGround optimization problem had no optimal solution.\n",
      "The CommonGround optimization problem had no optimal solution.\n",
      "The tCommonGround optimization problem had no optimal solution.\n",
      "The CommonGround_entani optimization problem had no optimal solution.\n",
      "The tCommonGround optimization problem had no optimal solution.\n",
      "The CommonGround optimization problem had no optimal solution.\n",
      "The tCommonGround optimization problem had no optimal solution.\n",
      "The CommonGround_entani optimization problem had no optimal solution."
     ]
    },
    {
     "name": "stdout",
     "output_type": "stream",
     "text": [
      "\n",
      "The CommonGround optimization problem had no optimal solution.\n",
      "The CommonGround_entani optimization problem had no optimal solution.\n",
      "The CommonGround_entani optimization problem had no optimal solution.\n",
      "The CommonGround optimization problem had no optimal solution.\n",
      "The CommonGround optimization problem had no optimal solution.\n",
      "The tCommonGround optimization problem had no optimal solution.\n",
      "The tCommonGround optimization problem had no optimal solution.\n",
      "The CommonGround_entani optimization problem had no optimal solution."
     ]
    },
    {
     "name": "stdout",
     "output_type": "stream",
     "text": [
      "\n",
      "The CommonGround_entani optimization problem had no optimal solution.\n",
      "The CommonGround_entani optimization problem had no optimal solution.\n",
      "The CommonGround optimization problem had no optimal solution.\n",
      "The CommonGround optimization problem had no optimal solution.\n",
      "The CommonGround_entani optimization problem had no optimal solution.\n",
      "The tCommonGround optimization problem had no optimal solution.\n",
      "The CommonGround optimization problem had no optimal solution.\n",
      "The tCommonGround optimization problem had no optimal solution.\n",
      "The tCommonGround optimization problem had no optimal solution.\n",
      "The CommonGround optimization problem had no optimal solution.\n",
      "The tCommonGround optimization problem had no optimal solution.\n",
      "The CommonGround_entani optimization problem had no optimal solution.\n",
      "The CommonGround optimization problem had no optimal solution.\n",
      "The tCommonGround optimization problem had no optimal solution.\n",
      "The CommonGround_entani optimization problem had no optimal solution.\n",
      "The CommonGround_entani optimization problem had no optimal solution."
     ]
    },
    {
     "name": "stdout",
     "output_type": "stream",
     "text": [
      "\n",
      "The CommonGround optimization problem had no optimal solution.\n",
      "The CommonGround optimization problem had no optimal solution.\n",
      "The tCommonGround optimization problem had no optimal solution.\n",
      "The CommonGround_entani optimization problem had no optimal solution.\n",
      "The CommonGround optimization problem had no optimal solution.\n",
      "The tCommonGround optimization problem had no optimal solution.\n",
      "The CommonGround_entani optimization problem had no optimal solution."
     ]
    },
    {
     "name": "stdout",
     "output_type": "stream",
     "text": [
      "\n",
      "The CommonGround optimization problem had no optimal solution.\n",
      "The CommonGround_entani optimization problem had no optimal solution.\n",
      "The CommonGround_entani optimization problem had no optimal solution.\n",
      "The tCommonGround optimization problem had no optimal solution.\n",
      "The CommonGround optimization problem had no optimal solution.\n",
      "The CommonGround optimization problem had no optimal solution.\n",
      "The CommonGround_entani optimization problem had no optimal solution.\n",
      "The tCommonGround optimization problem had no optimal solution.\n",
      "The tCommonGround optimization problem had no optimal solution.\n",
      "The CommonGround optimization problem had no optimal solution.\n",
      "The tCommonGround optimization problem had no optimal solution.\n",
      "The CommonGround_entani optimization problem had no optimal solution."
     ]
    },
    {
     "name": "stdout",
     "output_type": "stream",
     "text": [
      "\n",
      "The CommonGround optimization problem had no optimal solution.\n",
      "The CommonGround_entani optimization problem had no optimal solution.\n",
      "The tCommonGround optimization problem had no optimal solution."
     ]
    },
    {
     "name": "stdout",
     "output_type": "stream",
     "text": [
      "\n",
      "The CommonGround_entani optimization problem had no optimal solution.\n",
      "The CommonGround optimization problem had no optimal solution.\n",
      "The tCommonGround optimization problem had no optimal solution.\n",
      "The CommonGround optimization problem had no optimal solution.\n",
      "The CommonGround_entani optimization problem had no optimal solution.\n",
      "The tCommonGround optimization problem had no optimal solution.\n",
      "The CommonGround optimization problem had no optimal solution.\n",
      "The tCommonGround optimization problem had no optimal solution.\n",
      "The CommonGround_entani optimization problem had no optimal solution."
     ]
    },
    {
     "name": "stdout",
     "output_type": "stream",
     "text": [
      "\n",
      "The CommonGround optimization problem had no optimal solution.\n",
      "The tCommonGround optimization problem had no optimal solution.\n"
     ]
    },
    {
     "name": "stdout",
     "output_type": "stream",
     "text": [
      "The CommonGround_entani optimization problem had no optimal solution.\n",
      "The CommonGround optimization problem had no optimal solution.\n",
      "The CommonGround_entani optimization problem had no optimal solution.\n",
      "The tCommonGround optimization problem had no optimal solution.\n",
      "The CommonGround optimization problem had no optimal solution.\n",
      "The tCommonGround optimization problem had no optimal solution.\n",
      "The CommonGround_entani optimization problem had no optimal solution.\n",
      "The CommonGround_entani optimization problem had no optimal solution.\n",
      "The CommonGround optimization problem had no optimal solution.\n",
      "The tCommonGround optimization problem had no optimal solution.\n",
      "The CommonGround optimization problem had no optimal solution.\n",
      "The tCommonGround optimization problem had no optimal solution.\n",
      "The CommonGround_entani optimization problem had no optimal solution.\n",
      "The CommonGround optimization problem had no optimal solution.\n",
      "The CommonGround_entani optimization problem had no optimal solution.\n",
      "The tCommonGround optimization problem had no optimal solution.\n",
      "The CommonGround optimization problem had no optimal solution.\n",
      "The tCommonGround optimization problem had no optimal solution.\n",
      "The CommonGround_entani optimization problem had no optimal solution."
     ]
    },
    {
     "name": "stdout",
     "output_type": "stream",
     "text": [
      "\n",
      "The CommonGround optimization problem had no optimal solution.\n",
      "The tCommonGround optimization problem had no optimal solution.\n",
      "The CommonGround_entani optimization problem had no optimal solution.\n",
      "The CommonGround optimization problem had no optimal solution.\n",
      "The CommonGround_entani optimization problem had no optimal solution.\n",
      "The tCommonGround optimization problem had no optimal solution.\n",
      "The CommonGround optimization problem had no optimal solution.\n",
      "The tCommonGround optimization problem had no optimal solution.\n",
      "The CommonGround_entani optimization problem had no optimal solution.\n",
      "The CommonGround optimization problem had no optimal solution.\n",
      "The tCommonGround optimization problem had no optimal solution.\n",
      "The CommonGround_entani optimization problem had no optimal solution."
     ]
    },
    {
     "name": "stdout",
     "output_type": "stream",
     "text": [
      "\n"
     ]
    },
    {
     "name": "stdout",
     "output_type": "stream",
     "text": [
      "The CommonGround optimization problem had no optimal solution.\n",
      "The CommonGround_entani optimization problem had no optimal solution.\n",
      "The CommonGround_entani optimization problem had no optimal solution.\n",
      "The CommonGround optimization problem had no optimal solution.\n",
      "The CommonGround optimization problem had no optimal solution.\n",
      "The tCommonGround optimization problem had no optimal solution.\n",
      "The tCommonGround optimization problem had no optimal solution.\n",
      "The CommonGround_entani optimization problem had no optimal solution.\n",
      "The CommonGround optimization problem had no optimal solution.\n",
      "The CommonGround_entani optimization problem had no optimal solution."
     ]
    },
    {
     "name": "stdout",
     "output_type": "stream",
     "text": [
      "\n",
      "The tCommonGround optimization problem had no optimal solution.\n",
      "The CommonGround optimization problem had no optimal solution.\n"
     ]
    },
    {
     "name": "stdout",
     "output_type": "stream",
     "text": [
      "The tCommonGround optimization problem had no optimal solution.\n",
      "The CommonGround_entani optimization problem had no optimal solution.\n",
      "The CommonGround_entani optimization problem had no optimal solution.\n",
      "The CommonGround optimization problem had no optimal solution.\n",
      "The CommonGround optimization problem had no optimal solution.\n",
      "The tCommonGround optimization problem had no optimal solution.\n",
      "The tCommonGround optimization problem had no optimal solution.\n",
      "The CommonGround_entani optimization problem had no optimal solution.\n",
      "The CommonGround optimization problem had no optimal solution.\n",
      "The CommonGround_entani optimization problem had no optimal solution."
     ]
    },
    {
     "name": "stdout",
     "output_type": "stream",
     "text": [
      "\n",
      "The tCommonGround optimization problem had no optimal solution.\n",
      "The CommonGround optimization problem had no optimal solution.\n"
     ]
    },
    {
     "name": "stdout",
     "output_type": "stream",
     "text": [
      "The tCommonGround optimization problem had no optimal solution.\n",
      "The CommonGround_entani optimization problem had no optimal solution.\n",
      "The CommonGround optimization problem had no optimal solution.\n",
      "The CommonGround_entani optimization problem had no optimal solution.\n",
      "The CommonGround optimization problem had no optimal solution.\n",
      "The tCommonGround optimization problem had no optimal solution.\n",
      "The CommonGround_entani optimization problem had no optimal solution."
     ]
    },
    {
     "name": "stdout",
     "output_type": "stream",
     "text": [
      "\n",
      "The CommonGround optimization problem had no optimal solution.\n"
     ]
    },
    {
     "name": "stdout",
     "output_type": "stream",
     "text": [
      "The tCommonGround optimization problem had no optimal solution.\n",
      "The CommonGround_entani optimization problem had no optimal solution.\n",
      "The CommonGround_entani optimization problem had no optimal solution.\n",
      "The CommonGround optimization problem had no optimal solution.\n",
      "The CommonGround optimization problem had no optimal solution.\n",
      "The tCommonGround optimization problem had no optimal solution.\n",
      "The CommonGround_entani optimization problem had no optimal solution.\n",
      "The CommonGround optimization problem had no optimal solution.\n",
      "The tCommonGround optimization problem had no optimal solution.\n",
      "The CommonGround_entani optimization problem had no optimal solution."
     ]
    },
    {
     "name": "stdout",
     "output_type": "stream",
     "text": [
      "\n",
      "The CommonGround optimization problem had no optimal solution.\n",
      "The CommonGround_entani optimization problem had no optimal solution.\n",
      "The CommonGround_entani optimization problem had no optimal solution.\n",
      "The CommonGround_entani optimization problem had no optimal solution.\n",
      "The CommonGround optimization problem had no optimal solution.\n",
      "The CommonGround optimization problem had no optimal solution.\n",
      "The CommonGround optimization problem had no optimal solution.\n",
      "The tCommonGround optimization problem had no optimal solution.\n",
      "The tCommonGround optimization problem had no optimal solution.\n",
      "The tCommonGround optimization problem had no optimal solution.\n",
      "The tCommonGround optimization problem had no optimal solution.\n",
      "The CommonGround_entani optimization problem had no optimal solution."
     ]
    },
    {
     "name": "stdout",
     "output_type": "stream",
     "text": [
      "\n",
      "The CommonGround_entani optimization problem had no optimal solution.\n",
      "The CommonGround_entani optimization problem had no optimal solution.\n",
      "The CommonGround_entani optimization problem had no optimal solution.\n",
      "The CommonGround optimization problem had no optimal solution.\n",
      "The CommonGround optimization problem had no optimal solution.\n",
      "The CommonGround optimization problem had no optimal solution.\n",
      "The tCommonGround optimization problem had no optimal solution.\n",
      "The CommonGround optimization problem had no optimal solution.\n",
      "The tCommonGround optimization problem had no optimal solution.\n",
      "The tCommonGround optimization problem had no optimal solution.\n",
      "The tCommonGround optimization problem had no optimal solution.\n",
      "The CommonGround_entani optimization problem had no optimal solution."
     ]
    },
    {
     "name": "stdout",
     "output_type": "stream",
     "text": [
      "\n",
      "The CommonGround_entani optimization problem had no optimal solution.\n",
      "The CommonGround_entani optimization problem had no optimal solution.\n",
      "The CommonGround optimization problem had no optimal solution.\n",
      "The CommonGround optimization problem had no optimal solution.\n",
      "The CommonGround optimization problem had no optimal solution.\n",
      "The tCommonGround optimization problem had no optimal solution.\n",
      "The CommonGround_entani optimization problem had no optimal solution.\n",
      "The CommonGround optimization problem had no optimal solution.\n",
      "The tCommonGround optimization problem had no optimal solution.\n",
      "The CommonGround_entani optimization problem had no optimal solution."
     ]
    },
    {
     "name": "stdout",
     "output_type": "stream",
     "text": [
      "\n",
      "The CommonGround_entani optimization problem had no optimal solution.\n",
      "The CommonGround_entani optimization problem had no optimal solution.\n",
      "The CommonGround optimization problem had no optimal solution."
     ]
    },
    {
     "name": "stdout",
     "output_type": "stream",
     "text": [
      "\n",
      "The CommonGround optimization problem had no optimal solution.\n",
      "The tCommonGround optimization problem had no optimal solution.\n",
      "The tCommonGround optimization problem had no optimal solution.\n",
      "The CommonGround optimization problem had no optimal solution.\n",
      "The tCommonGround optimization problem had no optimal solution.\n",
      "The CommonGround_entani optimization problem had no optimal solution.\n",
      "The CommonGround optimization problem had no optimal solution.\n",
      "The tCommonGround optimization problem had no optimal solution.\n",
      "The CommonGround_entani optimization problem had no optimal solution."
     ]
    },
    {
     "name": "stdout",
     "output_type": "stream",
     "text": [
      "\n"
     ]
    },
    {
     "name": "stdout",
     "output_type": "stream",
     "text": [
      "The CommonGround optimization problem had no optimal solution.\n",
      "The CommonGround_entani optimization problem had no optimal solution.\n",
      "The tCommonGround optimization problem had no optimal solution.\n",
      "The CommonGround optimization problem had no optimal solution.\n",
      "The tCommonGround optimization problem had no optimal solution.\n",
      "The CommonGround_entani optimization problem had no optimal solution.\n",
      "The CommonGround optimization problem had no optimal solution.\n",
      "The CommonGround_entani optimization problem had no optimal solution.\n",
      "The tCommonGround optimization problem had no optimal solution.\n",
      "The CommonGround optimization problem had no optimal solution.\n",
      "The tCommonGround optimization problem had no optimal solution.\n",
      "The CommonGround_entani optimization problem had no optimal solution."
     ]
    },
    {
     "name": "stdout",
     "output_type": "stream",
     "text": [
      "\n",
      "The CommonGround optimization problem had no optimal solution.\n",
      "The CommonGround_entani optimization problem had no optimal solution.\n",
      "The tCommonGround optimization problem had no optimal solution.\n"
     ]
    },
    {
     "name": "stdout",
     "output_type": "stream",
     "text": [
      "The CommonGround optimization problem had no optimal solution.\n",
      "The CommonGround_entani optimization problem had no optimal solution.\n",
      "The tCommonGround optimization problem had no optimal solution.\n",
      "The CommonGround optimization problem had no optimal solution.\n",
      "The CommonGround_entani optimization problem had no optimal solution.\n",
      "The tCommonGround optimization problem had no optimal solution.\n",
      "The CommonGround optimization problem had no optimal solution.\n",
      "The tCommonGround optimization problem had no optimal solution.\n",
      "The CommonGround_entani optimization problem had no optimal solution.\n",
      "The CommonGround optimization problem had no optimal solution.\n",
      "The tCommonGround optimization problem had no optimal solution.\n",
      "The CommonGround_entani optimization problem had no optimal solution.\n",
      "The CommonGround optimization problem had no optimal solution.\n",
      "The CommonGround_entani optimization problem had no optimal solution.\n",
      "The CommonGround_entani optimization problem had no optimal solution.\n",
      "The tCommonGround optimization problem had no optimal solution.\n",
      "The CommonGround optimization problem had no optimal solution.\n",
      "The CommonGround optimization problem had no optimal solution.\n",
      "The tCommonGround optimization problem had no optimal solution.\n",
      "The tCommonGround optimization problem had no optimal solution.\n",
      "The CommonGround_entani optimization problem had no optimal solution."
     ]
    },
    {
     "name": "stdout",
     "output_type": "stream",
     "text": [
      "\n",
      "The CommonGround optimization problem had no optimal solution.\n",
      "The tCommonGround optimization problem had no optimal solution.\n",
      "The CommonGround_entani optimization problem had no optimal solution.\n",
      "The CommonGround_entani optimization problem had no optimal solution.\n",
      "The CommonGround_entani optimization problem had no optimal solution.\n",
      "The CommonGround optimization problem had no optimal solution.\n",
      "The CommonGround optimization problem had no optimal solution.\n",
      "The tCommonGround optimization problem had no optimal solution.\n",
      "The CommonGround_entani optimization problem had no optimal solution."
     ]
    },
    {
     "name": "stdout",
     "output_type": "stream",
     "text": [
      "\n",
      "The CommonGround optimization problem had no optimal solution.\n",
      "The CommonGround optimization problem had no optimal solution.\n",
      "The tCommonGround optimization problem had no optimal solution.\n",
      "The tCommonGround optimization problem had no optimal solution.\n"
     ]
    },
    {
     "name": "stdout",
     "output_type": "stream",
     "text": [
      "The CommonGround_entani optimization problem had no optimal solution.\n",
      "The CommonGround_entani optimization problem had no optimal solution.\n",
      "The CommonGround_entani optimization problem had no optimal solution.\n",
      "The CommonGround optimization problem had no optimal solution.\n",
      "The CommonGround_entani optimization problem had no optimal solution.\n",
      "The CommonGround optimization problem had no optimal solution.\n",
      "The tCommonGround optimization problem had no optimal solution.\n",
      "The CommonGround optimization problem had no optimal solution.\n",
      "The tCommonGround optimization problem had no optimal solution.\n",
      "The tCommonGround optimization problem had no optimal solution.\n",
      "The CommonGround optimization problem had no optimal solution.\n"
     ]
    },
    {
     "name": "stdout",
     "output_type": "stream",
     "text": [
      "The CommonGround_entani optimization problem had no optimal solution.\n",
      "The CommonGround_entani optimization problem had no optimal solution.\n",
      "The CommonGround optimization problem had no optimal solution.\n",
      "The CommonGround_entani optimization problem had no optimal solution.\n",
      "The CommonGround optimization problem had no optimal solution.\n",
      "The CommonGround_entani optimization problem had no optimal solution.\n",
      "The tCommonGround optimization problem had no optimal solution.\n",
      "The tCommonGround optimization problem had no optimal solution.\n",
      "The CommonGround optimization problem had no optimal solution.\n",
      "The CommonGround optimization problem had no optimal solution.\n",
      "The tCommonGround optimization problem had no optimal solution.\n"
     ]
    },
    {
     "name": "stdout",
     "output_type": "stream",
     "text": [
      "The tCommonGround optimization problem had no optimal solution.\n",
      "The CommonGround_entani optimization problem had no optimal solution.\n",
      "The CommonGround optimization problem had no optimal solution.\n",
      "The tCommonGround optimization problem had no optimal solution.\n",
      "The CommonGround_entani optimization problem had no optimal solution.\n",
      "The CommonGround_entani optimization problem had no optimal solution.\n",
      "The CommonGround optimization problem had no optimal solution.\n",
      "The CommonGround optimization problem had no optimal solution.\n",
      "The tCommonGround optimization problem had no optimal solution.\n",
      "The tCommonGround optimization problem had no optimal solution.\n",
      "The CommonGround_entani optimization problem had no optimal solution.\n",
      "The CommonGround_entani optimization problem had no optimal solution.\n",
      "The CommonGround optimization problem had no optimal solution.\n",
      "The CommonGround optimization problem had no optimal solution.\n",
      "The tCommonGround optimization problem had no optimal solution.\n",
      "The tCommonGround optimization problem had no optimal solution.\n",
      "The CommonGround_entani optimization problem had no optimal solution.\n",
      "The CommonGround optimization problem had no optimal solution.\n",
      "The CommonGround_entani optimization problem had no optimal solution.\n",
      "The CommonGround_entani optimization problem had no optimal solution."
     ]
    },
    {
     "name": "stdout",
     "output_type": "stream",
     "text": [
      "\n",
      "The tCommonGround optimization problem had no optimal solution.\n",
      "The CommonGround optimization problem had no optimal solution.\n",
      "The CommonGround optimization problem had no optimal solution.\n",
      "The tCommonGround optimization problem had no optimal solution.\n",
      "The tCommonGround optimization problem had no optimal solution.\n",
      "The CommonGround_entani optimization problem had no optimal solution."
     ]
    },
    {
     "name": "stdout",
     "output_type": "stream",
     "text": [
      "\n",
      "The CommonGround optimization problem had no optimal solution.\n",
      "The CommonGround_entani optimization problem had no optimal solution.\n",
      "The CommonGround_entani optimization problem had no optimal solution.\n",
      "The CommonGround optimization problem had no optimal solution.\n",
      "The tCommonGround optimization problem had no optimal solution.\n",
      "The CommonGround optimization problem had no optimal solution.\n",
      "The tCommonGround optimization problem had no optimal solution.\n",
      "The CommonGround_entani optimization problem had no optimal solution.\n",
      "The CommonGround optimization problem had no optimal solution.\n",
      "The tCommonGround optimization problem had no optimal solution.\n",
      "The CommonGround_entani optimization problem had no optimal solution.\n",
      "The CommonGround_entani optimization problem had no optimal solution.\n",
      "The CommonGround optimization problem had no optimal solution.\n",
      "The tCommonGround optimization problem had no optimal solution.\n",
      "The CommonGround_entani optimization problem had no optimal solution.\n",
      "The CommonGround optimization problem had no optimal solution.\n",
      "The CommonGround optimization problem had no optimal solution.\n",
      "The tCommonGround optimization problem had no optimal solution.\n",
      "The tCommonGround optimization problem had no optimal solution.\n",
      "The CommonGround_entani optimization problem had no optimal solution."
     ]
    },
    {
     "name": "stdout",
     "output_type": "stream",
     "text": [
      "\n",
      "The CommonGround optimization problem had no optimal solution.\n",
      "The tCommonGround optimization problem had no optimal solution.\n"
     ]
    },
    {
     "name": "stdout",
     "output_type": "stream",
     "text": [
      "The CommonGround_entani optimization problem had no optimal solution.\n",
      "The CommonGround_entani optimization problem had no optimal solution.\n",
      "The CommonGround optimization problem had no optimal solution.\n",
      "The CommonGround optimization problem had no optimal solution.\n",
      "The tCommonGround optimization problem had no optimal solution.\n",
      "The tCommonGround optimization problem had no optimal solution.\n",
      "The CommonGround_entani optimization problem had no optimal solution.\n",
      "The CommonGround_entani optimization problem had no optimal solution.\n",
      "The CommonGround optimization problem had no optimal solution.\n",
      "The tCommonGround optimization problem had no optimal solution.\n",
      "The CommonGround optimization problem had no optimal solution.\n",
      "The tCommonGround optimization problem had no optimal solution.\n",
      "The CommonGround_entani optimization problem had no optimal solution.\n",
      "The CommonGround_entani optimization problem had no optimal solution.\n",
      "The CommonGround optimization problem had no optimal solution.\n",
      "The CommonGround optimization problem had no optimal solution.\n",
      "The tCommonGround optimization problem had no optimal solution.\n",
      "The tCommonGround optimization problem had no optimal solution.\n",
      "The CommonGround_entani optimization problem had no optimal solution."
     ]
    },
    {
     "name": "stdout",
     "output_type": "stream",
     "text": [
      "\n",
      "The CommonGround optimization problem had no optimal solution.\n",
      "The tCommonGround optimization problem had no optimal solution.\n"
     ]
    },
    {
     "name": "stdout",
     "output_type": "stream",
     "text": [
      "The CommonGround_entani optimization problem had no optimal solution.\n",
      "The CommonGround_entani optimization problem had no optimal solution.\n",
      "The CommonGround optimization problem had no optimal solution.\n",
      "The CommonGround optimization problem had no optimal solution.\n",
      "The tCommonGround optimization problem had no optimal solution.\n",
      "The CommonGround_entani optimization problem had no optimal solution.\n",
      "The CommonGround_entani optimization problem had no optimal solution.\n",
      "The CommonGround optimization problem had no optimal solution."
     ]
    },
    {
     "name": "stdout",
     "output_type": "stream",
     "text": [
      "\n",
      "The CommonGround optimization problem had no optimal solution.\n",
      "The tCommonGround optimization problem had no optimal solution.\n"
     ]
    },
    {
     "name": "stdout",
     "output_type": "stream",
     "text": [
      "The CommonGround_entani optimization problem had no optimal solution.\n",
      "The CommonGround optimization problem had no optimal solution.\n",
      "The CommonGround optimization problem had no optimal solution.\n",
      "The tCommonGround optimization problem had no optimal solution.\n",
      "The CommonGround_entani optimization problem had no optimal solution.\n",
      "The CommonGround_entani optimization problem had no optimal solution.\n",
      "The CommonGround optimization problem had no optimal solution."
     ]
    },
    {
     "name": "stdout",
     "output_type": "stream",
     "text": [
      "\n",
      "The CommonGround optimization problem had no optimal solution.\n",
      "The tCommonGround optimization problem had no optimal solution.\n",
      "The tCommonGround optimization problem had no optimal solution.\n",
      "The CommonGround_entani optimization problem had no optimal solution.\n",
      "The CommonGround optimization problem had no optimal solution.\n",
      "The CommonGround_entani optimization problem had no optimal solution."
     ]
    },
    {
     "name": "stdout",
     "output_type": "stream",
     "text": [
      "\n",
      "The CommonGround_entani optimization problem had no optimal solution.\n",
      "The CommonGround optimization problem had no optimal solution.\n",
      "The tCommonGround optimization problem had no optimal solution.\n",
      "The CommonGround optimization problem had no optimal solution.\n",
      "The tCommonGround optimization problem had no optimal solution.\n",
      "The tCommonGround optimization problem had no optimal solution.\n",
      "The CommonGround_entani optimization problem had no optimal solution.\n",
      "The CommonGround optimization problem had no optimal solution.\n",
      "The tCommonGround optimization problem had no optimal solution.\n",
      "The CommonGround_entani optimization problem had no optimal solution.\n",
      "The CommonGround optimization problem had no optimal solution.\n",
      "The CommonGround_entani optimization problem had no optimal solution.\n",
      "The CommonGround optimization problem had no optimal solution.\n",
      "The tCommonGround optimization problem had no optimal solution.\n",
      "The CommonGround_entani optimization problem had no optimal solution.\n",
      "The CommonGround optimization problem had no optimal solution.\n",
      "The CommonGround_entani optimization problem had no optimal solution."
     ]
    },
    {
     "name": "stdout",
     "output_type": "stream",
     "text": [
      "\n",
      "The tCommonGround optimization problem had no optimal solution.\n",
      "The CommonGround optimization problem had no optimal solution.\n",
      "The CommonGround_entani optimization problem had no optimal solution.\n",
      "The CommonGround optimization problem had no optimal solution.\n",
      "The tCommonGround optimization problem had no optimal solution.\n"
     ]
    },
    {
     "name": "stdout",
     "output_type": "stream",
     "text": [
      "The tCommonGround optimization problem had no optimal solution.\n",
      "The CommonGround_entani optimization problem had no optimal solution.\n",
      "The CommonGround optimization problem had no optimal solution.\n",
      "The tCommonGround optimization problem had no optimal solution.\n",
      "The CommonGround_entani optimization problem had no optimal solution.\n",
      "The CommonGround_entani optimization problem had no optimal solution.\n",
      "The CommonGround optimization problem had no optimal solution.\n",
      "The CommonGround optimization problem had no optimal solution.\n",
      "The CommonGround_entani optimization problem had no optimal solution.\n",
      "The tCommonGround optimization problem had no optimal solution.\n",
      "The CommonGround optimization problem had no optimal solution.\n",
      "The tCommonGround optimization problem had no optimal solution.\n",
      "The CommonGround_entani optimization problem had no optimal solution.\n",
      "The CommonGround optimization problem had no optimal solution.\n",
      "The tCommonGround optimization problem had no optimal solution.\n",
      "The CommonGround_entani optimization problem had no optimal solution."
     ]
    },
    {
     "name": "stdout",
     "output_type": "stream",
     "text": [
      "\n"
     ]
    },
    {
     "name": "stdout",
     "output_type": "stream",
     "text": [
      "The CommonGround optimization problem had no optimal solution.\n",
      "The CommonGround_entani optimization problem had no optimal solution.\n",
      "The CommonGround_entani optimization problem had no optimal solution.\n",
      "The tCommonGround optimization problem had no optimal solution.\n",
      "The CommonGround optimization problem had no optimal solution.\n",
      "The tCommonGround optimization problem had no optimal solution.\n",
      "The CommonGround_entani optimization problem had no optimal solution.\n",
      "The CommonGround optimization problem had no optimal solution.\n",
      "The tCommonGround optimization problem had no optimal solution.\n",
      "The CommonGround_entani optimization problem had no optimal solution."
     ]
    },
    {
     "name": "stdout",
     "output_type": "stream",
     "text": [
      "\n",
      "The CommonGround_entani optimization problem had no optimal solution.\n",
      "The CommonGround_entani optimization problem had no optimal solution.\n",
      "The CommonGround optimization problem had no optimal solution.\n",
      "The CommonGround optimization problem had no optimal solution.\n",
      "The tCommonGround optimization problem had no optimal solution.\n",
      "The tCommonGround optimization problem had no optimal solution.\n",
      "The CommonGround_entani optimization problem had no optimal solution.\n",
      "The CommonGround optimization problem had no optimal solution.\n",
      "The tCommonGround optimization problem had no optimal solution.\n",
      "The CommonGround_entani optimization problem had no optimal solution.\n",
      "The CommonGround optimization problem had no optimal solution.\n",
      "The CommonGround_entani optimization problem had no optimal solution."
     ]
    },
    {
     "name": "stdout",
     "output_type": "stream",
     "text": [
      "\n",
      "The CommonGround optimization problem had no optimal solution.\n",
      "The tCommonGround optimization problem had no optimal solution.\n",
      "The CommonGround_entani optimization problem had no optimal solution.\n",
      "The CommonGround_entani optimization problem had no optimal solution.\n",
      "The CommonGround optimization problem had no optimal solution.\n",
      "The CommonGround optimization problem had no optimal solution.\n",
      "The CommonGround_entani optimization problem had no optimal solution.\n",
      "The tCommonGround optimization problem had no optimal solution.\n",
      "The tCommonGround optimization problem had no optimal solution.\n",
      "The CommonGround optimization problem had no optimal solution.\n",
      "The tCommonGround optimization problem had no optimal solution.\n",
      "The CommonGround_entani optimization problem had no optimal solution.\n",
      "The CommonGround_entani optimization problem had no optimal solution.\n",
      "The CommonGround optimization problem had no optimal solution.\n",
      "The CommonGround optimization problem had no optimal solution.\n",
      "The CommonGround_entani optimization problem had no optimal solution.\n",
      "The tCommonGround optimization problem had no optimal solution.\n",
      "The CommonGround optimization problem had no optimal solution.\n",
      "The tCommonGround optimization problem had no optimal solution.\n",
      "The tCommonGround optimization problem had no optimal solution.\n",
      "The CommonGround_entani optimization problem had no optimal solution."
     ]
    },
    {
     "name": "stdout",
     "output_type": "stream",
     "text": [
      "\n",
      "The CommonGround optimization problem had no optimal solution.\n",
      "The tCommonGround optimization problem had no optimal solution.\n",
      "The CommonGround_entani optimization problem had no optimal solution.\n",
      "The CommonGround optimization problem had no optimal solution.\n",
      "The CommonGround_entani optimization problem had no optimal solution.\n",
      "The CommonGround optimization problem had no optimal solution.\n",
      "The CommonGround_entani optimization problem had no optimal solution.\n",
      "The tCommonGround optimization problem had no optimal solution.\n",
      "The CommonGround optimization problem had no optimal solution.\n",
      "The CommonGround_entani optimization problem had no optimal solution."
     ]
    },
    {
     "name": "stdout",
     "output_type": "stream",
     "text": [
      "\n",
      "The CommonGround optimization problem had no optimal solution.\n",
      "The tCommonGround optimization problem had no optimal solution.\n",
      "The CommonGround_entani optimization problem had no optimal solution.\n",
      "The CommonGround optimization problem had no optimal solution.\n",
      "The CommonGround_entani optimization problem had no optimal solution.\n",
      "The tCommonGround optimization problem had no optimal solution.\n",
      "The CommonGround_entani optimization problem had no optimal solution.\n",
      "The CommonGround optimization problem had no optimal solution.\n",
      "The tCommonGround optimization problem had no optimal solution.\n",
      "The CommonGround optimization problem had no optimal solution.\n",
      "The tCommonGround optimization problem had no optimal solution.\n",
      "The CommonGround_entani optimization problem had no optimal solution."
     ]
    },
    {
     "name": "stdout",
     "output_type": "stream",
     "text": [
      "\n",
      "The CommonGround optimization problem had no optimal solution.\n",
      "The tCommonGround optimization problem had no optimal solution.\n"
     ]
    },
    {
     "name": "stdout",
     "output_type": "stream",
     "text": [
      "The CommonGround_entani optimization problem had no optimal solution.\n",
      "The CommonGround optimization problem had no optimal solution.\n",
      "The tCommonGround optimization problem had no optimal solution.\n",
      "The CommonGround_entani optimization problem had no optimal solution.\n",
      "The CommonGround optimization problem had no optimal solution.\n",
      "The tCommonGround optimization problem had no optimal solution.\n",
      "The CommonGround_entani optimization problem had no optimal solution.\n",
      "The CommonGround optimization problem had no optimal solution.\n",
      "The CommonGround_entani optimization problem had no optimal solution.\n",
      "The CommonGround_entani optimization problem had no optimal solution.\n",
      "The tCommonGround optimization problem had no optimal solution."
     ]
    },
    {
     "name": "stdout",
     "output_type": "stream",
     "text": [
      "\n",
      "The CommonGround optimization problem had no optimal solution.\n",
      "The CommonGround optimization problem had no optimal solution.\n",
      "The tCommonGround optimization problem had no optimal solution.\n",
      "The tCommonGround optimization problem had no optimal solution.\n",
      "The CommonGround_entani optimization problem had no optimal solution.\n",
      "The CommonGround optimization problem had no optimal solution.\n",
      "The tCommonGround optimization problem had no optimal solution.\n",
      "The CommonGround_entani optimization problem had no optimal solution."
     ]
    },
    {
     "name": "stdout",
     "output_type": "stream",
     "text": [
      "\n",
      "The CommonGround optimization problem had no optimal solution.\n",
      "The CommonGround_entani optimization problem had no optimal solution.\n",
      "The CommonGround optimization problem had no optimal solution.\n",
      "The tCommonGround optimization problem had no optimal solution.\n",
      "The tCommonGround optimization problem had no optimal solution."
     ]
    },
    {
     "name": "stdout",
     "output_type": "stream",
     "text": [
      "\n",
      "The CommonGround_entani optimization problem had no optimal solution.\n",
      "The CommonGround optimization problem had no optimal solution.\n",
      "The CommonGround_entani optimization problem had no optimal solution.\n",
      "The tCommonGround optimization problem had no optimal solution.\n",
      "The CommonGround optimization problem had no optimal solution.\n",
      "The tCommonGround optimization problem had no optimal solution.\n",
      "The CommonGround_entani optimization problem had no optimal solution.\n",
      "The CommonGround_entani optimization problem had no optimal solution."
     ]
    },
    {
     "name": "stdout",
     "output_type": "stream",
     "text": [
      "\n",
      "The CommonGround optimization problem had no optimal solution.\n",
      "The CommonGround optimization problem had no optimal solution.\n",
      "The CommonGround optimization problem had no optimal solution.\n",
      "The tCommonGround optimization problem had no optimal solution.\n",
      "The tCommonGround optimization problem had no optimal solution.\n",
      "The CommonGround_entani optimization problem had no optimal solution.\n",
      "The CommonGround optimization problem had no optimal solution.\n",
      "The tCommonGround optimization problem had no optimal solution.\n",
      "The CommonGround_entani optimization problem had no optimal solution.\n",
      "The CommonGround_entani optimization problem had no optimal solution.\n",
      "The CommonGround optimization problem had no optimal solution.\n",
      "The CommonGround optimization problem had no optimal solution.\n",
      "The tCommonGround optimization problem had no optimal solution.\n",
      "The CommonGround_entani optimization problem had no optimal solution."
     ]
    },
    {
     "name": "stdout",
     "output_type": "stream",
     "text": [
      "\n",
      "The tCommonGround optimization problem had no optimal solution.\n",
      "The CommonGround optimization problem had no optimal solution.\n",
      "The tCommonGround optimization problem had no optimal solution.\n",
      "The CommonGround_entani optimization problem had no optimal solution.\n",
      "The CommonGround optimization problem had no optimal solution.\n",
      "The tCommonGround optimization problem had no optimal solution.\n",
      "The CommonGround_entani optimization problem had no optimal solution.\n",
      "The CommonGround_entani optimization problem had no optimal solution.\n",
      "The CommonGround optimization problem had no optimal solution.\n",
      "The CommonGround optimization problem had no optimal solution.\n",
      "The tCommonGround optimization problem had no optimal solution.\n",
      "The CommonGround_entani optimization problem had no optimal solution."
     ]
    },
    {
     "name": "stdout",
     "output_type": "stream",
     "text": [
      "\n",
      "The tCommonGround optimization problem had no optimal solution.\n",
      "The CommonGround optimization problem had no optimal solution.\n",
      "The tCommonGround optimization problem had no optimal solution.\n"
     ]
    },
    {
     "name": "stdout",
     "output_type": "stream",
     "text": [
      "The CommonGround_entani optimization problem had no optimal solution.\n",
      "The CommonGround_entani optimization problem had no optimal solution.\n",
      "The CommonGround optimization problem had no optimal solution.\n",
      "The CommonGround optimization problem had no optimal solution.\n",
      "The tCommonGround optimization problem had no optimal solution.\n",
      "The tCommonGround optimization problem had no optimal solution.\n",
      "The CommonGround_entani optimization problem had no optimal solution.\n",
      "The CommonGround optimization problem had no optimal solution.\n"
     ]
    },
    {
     "name": "stdout",
     "output_type": "stream",
     "text": [
      "The tCommonGround optimization problem had no optimal solution.\n",
      "The CommonGround_entani optimization problem had no optimal solution.\n",
      "The CommonGround optimization problem had no optimal solution.\n",
      "The tCommonGround optimization problem had no optimal solution.\n",
      "The CommonGround_entani optimization problem had no optimal solution.\n",
      "The CommonGround optimization problem had no optimal solution.\n",
      "The tCommonGround optimization problem had no optimal solution.\n",
      "The CommonGround_entani optimization problem had no optimal solution.\n",
      "The CommonGround optimization problem had no optimal solution.\n",
      "The CommonGround_entani optimization problem had no optimal solution."
     ]
    },
    {
     "name": "stdout",
     "output_type": "stream",
     "text": [
      "\n",
      "The CommonGround_entani optimization problem had no optimal solution.\n",
      "The CommonGround optimization problem had no optimal solution.\n",
      "The CommonGround optimization problem had no optimal solution.\n",
      "The tCommonGround optimization problem had no optimal solution.\n",
      "The tCommonGround optimization problem had no optimal solution.\n",
      "The tCommonGround optimization problem had no optimal solution.\n"
     ]
    },
    {
     "name": "stdout",
     "output_type": "stream",
     "text": [
      "The CommonGround_entani optimization problem had no optimal solution.\n",
      "The CommonGround_entani optimization problem had no optimal solution.\n",
      "The CommonGround optimization problem had no optimal solution.\n",
      "The tCommonGround optimization problem had no optimal solution.\n",
      "The CommonGround optimization problem had no optimal solution.\n",
      "The CommonGround_entani optimization problem had no optimal solution.\n",
      "The tCommonGround optimization problem had no optimal solution.\n",
      "The CommonGround optimization problem had no optimal solution.\n",
      "The CommonGround_entani optimization problem had no optimal solution.\n",
      "The tCommonGround optimization problem had no optimal solution.\n",
      "The CommonGround optimization problem had no optimal solution.\n",
      "The tCommonGround optimization problem had no optimal solution.\n",
      "The CommonGround_entani optimization problem had no optimal solution.\n",
      "The CommonGround_entani optimization problem had no optimal solution.\n",
      "The CommonGround optimization problem had no optimal solution.\n",
      "The CommonGround optimization problem had no optimal solution.\n",
      "The tCommonGround optimization problem had no optimal solution.\n",
      "The tCommonGround optimization problem had no optimal solution.\n",
      "The CommonGround_entani optimization problem had no optimal solution."
     ]
    },
    {
     "name": "stdout",
     "output_type": "stream",
     "text": [
      "\n"
     ]
    },
    {
     "name": "stdout",
     "output_type": "stream",
     "text": [
      "The CommonGround_entani optimization problem had no optimal solution.\n",
      "The CommonGround optimization problem had no optimal solution.\n",
      "The CommonGround optimization problem had no optimal solution.\n",
      "The tCommonGround optimization problem had no optimal solution.\n",
      "The tCommonGround optimization problem had no optimal solution.\n",
      "The CommonGround_entani optimization problem had no optimal solution.\n",
      "The CommonGround_entani optimization problem had no optimal solution.\n",
      "The CommonGround optimization problem had no optimal solution.\n",
      "The CommonGround optimization problem had no optimal solution.\n",
      "The tCommonGround optimization problem had no optimal solution.\n",
      "The tCommonGround optimization problem had no optimal solution.\n",
      "The CommonGround_entani optimization problem had no optimal solution."
     ]
    },
    {
     "name": "stdout",
     "output_type": "stream",
     "text": [
      "\n",
      "The CommonGround optimization problem had no optimal solution.\n",
      "The CommonGround_entani optimization problem had no optimal solution.\n",
      "The CommonGround_entani optimization problem had no optimal solution.\n",
      "The CommonGround_entani optimization problem had no optimal solution.\n",
      "The CommonGround optimization problem had no optimal solution.\n",
      "The CommonGround optimization problem had no optimal solution.\n",
      "The CommonGround optimization problem had no optimal solution.\n",
      "The tCommonGround optimization problem had no optimal solution.\n",
      "The tCommonGround optimization problem had no optimal solution.\n",
      "The CommonGround_entani optimization problem had no optimal solution."
     ]
    },
    {
     "name": "stdout",
     "output_type": "stream",
     "text": [
      "\n",
      "The CommonGround_entani optimization problem had no optimal solution.\n",
      "The CommonGround_entani optimization problem had no optimal solution.\n",
      "The CommonGround_entani optimization problem had no optimal solution.\n",
      "The CommonGround optimization problem had no optimal solution.\n",
      "The CommonGround optimization problem had no optimal solution.\n",
      "The CommonGround optimization problem had no optimal solution.\n",
      "The CommonGround optimization problem had no optimal solution.\n",
      "The tCommonGround optimization problem had no optimal solution.\n",
      "The tCommonGround optimization problem had no optimal solution.\n",
      "The tCommonGround optimization problem had no optimal solution.\n",
      "The tCommonGround optimization problem had no optimal solution.\n",
      "The CommonGround_entani optimization problem had no optimal solution.\n",
      "The CommonGround_entani optimization problem had no optimal solution.\n",
      "The CommonGround_entani optimization problem had no optimal solution."
     ]
    },
    {
     "name": "stdout",
     "output_type": "stream",
     "text": [
      "\n",
      "The CommonGround_entani optimization problem had no optimal solution.\n",
      "The CommonGround optimization problem had no optimal solution.\n",
      "The CommonGround optimization problem had no optimal solution.\n",
      "The CommonGround optimization problem had no optimal solution.\n",
      "The CommonGround optimization problem had no optimal solution.\n",
      "The tCommonGround optimization problem had no optimal solution.\n",
      "The tCommonGround optimization problem had no optimal solution.\n",
      "The tCommonGround optimization problem had no optimal solution.\n",
      "The tCommonGround optimization problem had no optimal solution.\n",
      "The CommonGround_entani optimization problem had no optimal solution."
     ]
    },
    {
     "name": "stdout",
     "output_type": "stream",
     "text": [
      "\n",
      "The CommonGround_entani optimization problem had no optimal solution.\n",
      "The CommonGround_entani optimization problem had no optimal solution.\n",
      "The CommonGround_entani optimization problem had no optimal solution.\n",
      "The CommonGround optimization problem had no optimal solution.\n",
      "The CommonGround optimization problem had no optimal solution.\n",
      "The CommonGround optimization problem had no optimal solution.\n",
      "The CommonGround optimization problem had no optimal solution.\n",
      "The tCommonGround optimization problem had no optimal solution.\n",
      "The tCommonGround optimization problem had no optimal solution.\n",
      "The tCommonGround optimization problem had no optimal solution.\n",
      "The tCommonGround optimization problem had no optimal solution.\n",
      "The CommonGround_entani optimization problem had no optimal solution."
     ]
    },
    {
     "name": "stdout",
     "output_type": "stream",
     "text": [
      "\n",
      "The CommonGround_entani optimization problem had no optimal solution.\n",
      "The CommonGround_entani optimization problem had no optimal solution.\n",
      "The CommonGround optimization problem had no optimal solution.\n",
      "The CommonGround_entani optimization problem had no optimal solution.\n",
      "The CommonGround optimization problem had no optimal solution.\n",
      "The CommonGround optimization problem had no optimal solution.\n",
      "The tCommonGround optimization problem had no optimal solution.\n",
      "The CommonGround optimization problem had no optimal solution.\n",
      "The tCommonGround optimization problem had no optimal solution.\n",
      "The tCommonGround optimization problem had no optimal solution.\n",
      "The CommonGround_entani optimization problem had no optimal solution."
     ]
    },
    {
     "name": "stdout",
     "output_type": "stream",
     "text": [
      "\n",
      "The CommonGround_entani optimization problem had no optimal solution.\n",
      "The CommonGround optimization problem had no optimal solution.\n",
      "The CommonGround_entani optimization problem had no optimal solution.\n",
      "The CommonGround_entani optimization problem had no optimal solution.\n",
      "The CommonGround optimization problem had no optimal solution.\n",
      "The tCommonGround optimization problem had no optimal solution.\n",
      "The CommonGround optimization problem had no optimal solution.\n",
      "The tCommonGround optimization problem had no optimal solution.\n",
      "The tCommonGround optimization problem had no optimal solution.\n",
      "The CommonGround optimization problem had no optimal solution."
     ]
    },
    {
     "name": "stdout",
     "output_type": "stream",
     "text": [
      "\n",
      "The CommonGround_entani optimization problem had no optimal solution.\n",
      "The CommonGround optimization problem had no optimal solution.\n",
      "The CommonGround_entani optimization problem had no optimal solution.\n",
      "The tCommonGround optimization problem had no optimal solution.\n",
      "The CommonGround_entani optimization problem had no optimal solution.\n",
      "The CommonGround optimization problem had no optimal solution.\n",
      "The CommonGround optimization problem had no optimal solution.\n",
      "The tCommonGround optimization problem had no optimal solution.\n",
      "The tCommonGround optimization problem had no optimal solution.\n",
      "The CommonGround_entani optimization problem had no optimal solution.\n",
      "The CommonGround_entani optimization problem had no optimal solution."
     ]
    },
    {
     "name": "stdout",
     "output_type": "stream",
     "text": [
      "\n",
      "The CommonGround optimization problem had no optimal solution.\n",
      "The tCommonGround optimization problem had no optimal solution.\n",
      "The CommonGround optimization problem had no optimal solution.\n",
      "The tCommonGround optimization problem had no optimal solution.\n",
      "The CommonGround_entani optimization problem had no optimal solution.\n",
      "The CommonGround optimization problem had no optimal solution.\n",
      "The tCommonGround optimization problem had no optimal solution.\n",
      "The CommonGround_entani optimization problem had no optimal solution.\n",
      "The CommonGround_entani optimization problem had no optimal solution.\n",
      "The CommonGround optimization problem had no optimal solution.\n",
      "The CommonGround optimization problem had no optimal solution.\n",
      "The tCommonGround optimization problem had no optimal solution.\n",
      "The tCommonGround optimization problem had no optimal solution.\n",
      "The CommonGround_entani optimization problem had no optimal solution.\n",
      "The CommonGround optimization problem had no optimal solution.\n",
      "The CommonGround_entani optimization problem had no optimal solution.\n",
      "The CommonGround_entani optimization problem had no optimal solution.\n",
      "The CommonGround_entani optimization problem had no optimal solution."
     ]
    },
    {
     "name": "stdout",
     "output_type": "stream",
     "text": [
      "\n",
      "The CommonGround optimization problem had no optimal solution.\n",
      "The CommonGround optimization problem had no optimal solution.\n",
      "The CommonGround optimization problem had no optimal solution.\n",
      "The tCommonGround optimization problem had no optimal solution.\n",
      "The tCommonGround optimization problem had no optimal solution.\n",
      "The CommonGround_entani optimization problem had no optimal solution.\n",
      "The tCommonGround optimization problem had no optimal solution.\n",
      "The CommonGround optimization problem had no optimal solution.\n",
      "The tCommonGround optimization problem had no optimal solution.\n",
      "The CommonGround_entani optimization problem had no optimal solution.\n",
      "The CommonGround_entani optimization problem had no optimal solution."
     ]
    },
    {
     "name": "stdout",
     "output_type": "stream",
     "text": [
      "\n",
      "The CommonGround optimization problem had no optimal solution.\n",
      "The CommonGround_entani optimization problem had no optimal solution.\n",
      "The CommonGround optimization problem had no optimal solution.\n",
      "The tCommonGround optimization problem had no optimal solution.\n",
      "The CommonGround optimization problem had no optimal solution.\n",
      "The tCommonGround optimization problem had no optimal solution.\n",
      "The CommonGround_entani optimization problem had no optimal solution.\n",
      "The tCommonGround optimization problem had no optimal solution.\n",
      "The CommonGround optimization problem had no optimal solution.\n",
      "The tCommonGround optimization problem had no optimal solution.\n",
      "The CommonGround_entani optimization problem had no optimal solution.\n",
      "The CommonGround_entani optimization problem had no optimal solution."
     ]
    },
    {
     "name": "stdout",
     "output_type": "stream",
     "text": [
      "\n",
      "The CommonGround_entani optimization problem had no optimal solution.\n",
      "The CommonGround optimization problem had no optimal solution.\n",
      "The CommonGround optimization problem had no optimal solution.\n",
      "The CommonGround optimization problem had no optimal solution.\n",
      "The tCommonGround optimization problem had no optimal solution.\n",
      "The CommonGround_entani optimization problem had no optimal solution.\n",
      "The tCommonGround optimization problem had no optimal solution.\n",
      "The CommonGround optimization problem had no optimal solution.\n",
      "The tCommonGround optimization problem had no optimal solution.\n",
      "The CommonGround_entani optimization problem had no optimal solution.\n",
      "The CommonGround optimization problem had no optimal solution.\n",
      "The CommonGround_entani optimization problem had no optimal solution.\n",
      "The tCommonGround optimization problem had no optimal solution.\n",
      "The CommonGround optimization problem had no optimal solution.\n",
      "The CommonGround_entani optimization problem had no optimal solution."
     ]
    },
    {
     "name": "stdout",
     "output_type": "stream",
     "text": [
      "\n",
      "The tCommonGround optimization problem had no optimal solution.\n",
      "The CommonGround optimization problem had no optimal solution.\n",
      "The CommonGround_entani optimization problem had no optimal solution.\n",
      "The tCommonGround optimization problem had no optimal solution.\n",
      "The CommonGround optimization problem had no optimal solution.\n",
      "The tCommonGround optimization problem had no optimal solution.\n",
      "The CommonGround_entani optimization problem had no optimal solution.\n",
      "The CommonGround optimization problem had no optimal solution.\n",
      "The CommonGround_entani optimization problem had no optimal solution.\n",
      "The tCommonGround optimization problem had no optimal solution.\n",
      "The CommonGround_entani optimization problem had no optimal solution."
     ]
    },
    {
     "name": "stdout",
     "output_type": "stream",
     "text": [
      "\n",
      "The CommonGround optimization problem had no optimal solution.\n",
      "The CommonGround optimization problem had no optimal solution.\n",
      "The tCommonGround optimization problem had no optimal solution.\n"
     ]
    },
    {
     "name": "stdout",
     "output_type": "stream",
     "text": [
      "The tCommonGround optimization problem had no optimal solution.\n",
      "The CommonGround_entani optimization problem had no optimal solution.\n",
      "The CommonGround optimization problem had no optimal solution.\n",
      "The tCommonGround optimization problem had no optimal solution.\n",
      "The CommonGround_entani optimization problem had no optimal solution.\n",
      "The CommonGround_entani optimization problem had no optimal solution.\n",
      "The CommonGround optimization problem had no optimal solution.\n",
      "The CommonGround optimization problem had no optimal solution.\n",
      "The tCommonGround optimization problem had no optimal solution.\n",
      "The CommonGround_entani optimization problem had no optimal solution.\n",
      "The tCommonGround optimization problem had no optimal solution.\n",
      "The CommonGround optimization problem had no optimal solution.\n",
      "The tCommonGround optimization problem had no optimal solution.\n",
      "The CommonGround_entani optimization problem had no optimal solution.\n",
      "The CommonGround optimization problem had no optimal solution.\n",
      "The tCommonGround optimization problem had no optimal solution.\n",
      "The CommonGround_entani optimization problem had no optimal solution.\n",
      "The CommonGround_entani optimization problem had no optimal solution."
     ]
    },
    {
     "name": "stdout",
     "output_type": "stream",
     "text": [
      "\n",
      "The CommonGround optimization problem had no optimal solution.\n",
      "The tCommonGround optimization problem had no optimal solution.\n",
      "The CommonGround optimization problem had no optimal solution.\n",
      "The CommonGround_entani optimization problem had no optimal solution.\n",
      "The tCommonGround optimization problem had no optimal solution.\n",
      "The CommonGround optimization problem had no optimal solution.\n",
      "The tCommonGround optimization problem had no optimal solution.\n",
      "The CommonGround_entani optimization problem had no optimal solution.\n",
      "The CommonGround optimization problem had no optimal solution.\n",
      "The CommonGround_entani optimization problem had no optimal solution.\n",
      "The tCommonGround optimization problem had no optimal solution.\n",
      "The CommonGround optimization problem had no optimal solution.\n",
      "The tCommonGround optimization problem had no optimal solution.\n",
      "The CommonGround_entani optimization problem had no optimal solution."
     ]
    },
    {
     "name": "stdout",
     "output_type": "stream",
     "text": [
      "\n",
      "The CommonGround optimization problem had no optimal solution.\n"
     ]
    },
    {
     "name": "stdout",
     "output_type": "stream",
     "text": [
      "The tCommonGround optimization problem had no optimal solution.\n",
      "The CommonGround_entani optimization problem had no optimal solution.\n",
      "The CommonGround optimization problem had no optimal solution.\n",
      "The CommonGround_entani optimization problem had no optimal solution.\n",
      "The tCommonGround optimization problem had no optimal solution.\n",
      "The CommonGround optimization problem had no optimal solution.\n",
      "The tCommonGround optimization problem had no optimal solution.\n",
      "The CommonGround_entani optimization problem had no optimal solution."
     ]
    },
    {
     "name": "stdout",
     "output_type": "stream",
     "text": [
      "\n"
     ]
    },
    {
     "name": "stdout",
     "output_type": "stream",
     "text": [
      "The CommonGround optimization problem had no optimal solution.\n",
      "The CommonGround optimization problem had no optimal solution.\n",
      "The tCommonGround optimization problem had no optimal solution.\n",
      "The CommonGround_entani optimization problem had no optimal solution.\n",
      "The CommonGround optimization problem had no optimal solution.\n",
      "The CommonGround_entani optimization problem had no optimal solution.\n",
      "The tCommonGround optimization problem had no optimal solution.\n",
      "The CommonGround_entani optimization problem had no optimal solution."
     ]
    },
    {
     "name": "stdout",
     "output_type": "stream",
     "text": [
      "\n",
      "The CommonGround optimization problem had no optimal solution.\n",
      "The CommonGround_entani optimization problem had no optimal solution.\n",
      "The tCommonGround optimization problem had no optimal solution.\n",
      "The CommonGround optimization problem had no optimal solution.\n",
      "The tCommonGround optimization problem had no optimal solution.\n",
      "The CommonGround_entani optimization problem had no optimal solution.\n",
      "The CommonGround optimization problem had no optimal solution.\n",
      "The tCommonGround optimization problem had no optimal solution.\n",
      "The CommonGround_entani optimization problem had no optimal solution.\n",
      "The CommonGround optimization problem had no optimal solution.\n",
      "The tCommonGround optimization problem had no optimal solution.\n",
      "The CommonGround optimization problem had no optimal solution."
     ]
    },
    {
     "name": "stdout",
     "output_type": "stream",
     "text": [
      "\n",
      "The CommonGround_entani optimization problem had no optimal solution.\n",
      "The CommonGround optimization problem had no optimal solution.\n",
      "The CommonGround_entani optimization problem had no optimal solution.\n",
      "The tCommonGround optimization problem had no optimal solution.\n",
      "The CommonGround optimization problem had no optimal solution.\n",
      "The tCommonGround optimization problem had no optimal solution.\n",
      "The CommonGround_entani optimization problem had no optimal solution."
     ]
    },
    {
     "name": "stdout",
     "output_type": "stream",
     "text": [
      "\n",
      "The CommonGround optimization problem had no optimal solution.\n",
      "The tCommonGround optimization problem had no optimal solution.\n",
      "The CommonGround_entani optimization problem had no optimal solution.\n",
      "The CommonGround optimization problem had no optimal solution.\n",
      "The CommonGround_entani optimization problem had no optimal solution.\n",
      "The tCommonGround optimization problem had no optimal solution.\n",
      "The CommonGround optimization problem had no optimal solution.\n",
      "The CommonGround_entani optimization problem had no optimal solution.\n",
      "The CommonGround_entani optimization problem had no optimal solution."
     ]
    },
    {
     "name": "stdout",
     "output_type": "stream",
     "text": [
      "\n",
      "The CommonGround optimization problem had no optimal solution.\n",
      "The tCommonGround optimization problem had no optimal solution.\n",
      "The CommonGround optimization problem had no optimal solution.\n",
      "The tCommonGround optimization problem had no optimal solution.\n",
      "The tCommonGround optimization problem had no optimal solution.\n"
     ]
    },
    {
     "name": "stdout",
     "output_type": "stream",
     "text": [
      "The CommonGround_entani optimization problem had no optimal solution.\n",
      "The CommonGround optimization problem had no optimal solution.\n",
      "The tCommonGround optimization problem had no optimal solution.\n",
      "The CommonGround_entani optimization problem had no optimal solution.\n",
      "The CommonGround_entani optimization problem had no optimal solution.\n",
      "The CommonGround optimization problem had no optimal solution.\n",
      "The CommonGround_entani optimization problem had no optimal solution.\n",
      "The CommonGround optimization problem had no optimal solution.\n",
      "The CommonGround optimization problem had no optimal solution."
     ]
    },
    {
     "name": "stdout",
     "output_type": "stream",
     "text": [
      "\n",
      "The tCommonGround optimization problem had no optimal solution.\n",
      "The tCommonGround optimization problem had no optimal solution.\n",
      "The tCommonGround optimization problem had no optimal solution.\n"
     ]
    },
    {
     "name": "stdout",
     "output_type": "stream",
     "text": [
      "The CommonGround_entani optimization problem had no optimal solution.\n",
      "The CommonGround optimization problem had no optimal solution.\n",
      "The tCommonGround optimization problem had no optimal solution.\n",
      "The CommonGround_entani optimization problem had no optimal solution.\n",
      "The CommonGround_entani optimization problem had no optimal solution.\n",
      "The CommonGround optimization problem had no optimal solution.\n",
      "The CommonGround_entani optimization problem had no optimal solution.\n",
      "The CommonGround optimization problem had no optimal solution."
     ]
    },
    {
     "name": "stdout",
     "output_type": "stream",
     "text": [
      "\n",
      "The CommonGround optimization problem had no optimal solution.\n",
      "The tCommonGround optimization problem had no optimal solution.\n",
      "The tCommonGround optimization problem had no optimal solution.\n",
      "The CommonGround_entani optimization problem had no optimal solution.\n",
      "The CommonGround optimization problem had no optimal solution.\n",
      "The tCommonGround optimization problem had no optimal solution.\n",
      "The CommonGround_entani optimization problem had no optimal solution.\n",
      "The CommonGround_entani optimization problem had no optimal solution.\n",
      "The CommonGround optimization problem had no optimal solution.\n",
      "The CommonGround_entani optimization problem had no optimal solution."
     ]
    },
    {
     "name": "stdout",
     "output_type": "stream",
     "text": [
      "\n",
      "The CommonGround optimization problem had no optimal solution.\n",
      "The tCommonGround optimization problem had no optimal solution.\n",
      "The CommonGround optimization problem had no optimal solution.\n",
      "The tCommonGround optimization problem had no optimal solution.\n",
      "The CommonGround_entani optimization problem had no optimal solution.\n",
      "The CommonGround optimization problem had no optimal solution.\n",
      "The tCommonGround optimization problem had no optimal solution.\n",
      "The CommonGround_entani optimization problem had no optimal solution."
     ]
    },
    {
     "name": "stdout",
     "output_type": "stream",
     "text": [
      "\n",
      "The CommonGround_entani optimization problem had no optimal solution.\n",
      "The CommonGround_entani optimization problem had no optimal solution.\n",
      "The CommonGround optimization problem had no optimal solution.\n",
      "The CommonGround optimization problem had no optimal solution.\n",
      "The tCommonGround optimization problem had no optimal solution.\n",
      "The CommonGround optimization problem had no optimal solution.\n",
      "The tCommonGround optimization problem had no optimal solution.\n",
      "The tCommonGround optimization problem had no optimal solution.\n",
      "The CommonGround_entani optimization problem had no optimal solution.\n",
      "The CommonGround optimization problem had no optimal solution.\n",
      "The CommonGround_entani optimization problem had no optimal solution.\n",
      "The CommonGround optimization problem had no optimal solution.\n",
      "The tCommonGround optimization problem had no optimal solution.\n",
      "The CommonGround_entani optimization problem had no optimal solution.\n",
      "The tCommonGround optimization problem had no optimal solution.\n",
      "The CommonGround optimization problem had no optimal solution.\n",
      "The tCommonGround optimization problem had no optimal solution.\n",
      "The CommonGround_entani optimization problem had no optimal solution."
     ]
    },
    {
     "name": "stdout",
     "output_type": "stream",
     "text": [
      "\n",
      "The CommonGround_entani optimization problem had no optimal solution.\n",
      "The CommonGround optimization problem had no optimal solution."
     ]
    },
    {
     "name": "stdout",
     "output_type": "stream",
     "text": [
      "\n",
      "The CommonGround optimization problem had no optimal solution.\n",
      "The tCommonGround optimization problem had no optimal solution.\n",
      "The tCommonGround optimization problem had no optimal solution.\n",
      "The CommonGround_entani optimization problem had no optimal solution.\n",
      "The CommonGround optimization problem had no optimal solution.\n",
      "The tCommonGround optimization problem had no optimal solution.\n",
      "The CommonGround_entani optimization problem had no optimal solution."
     ]
    },
    {
     "name": "stdout",
     "output_type": "stream",
     "text": [
      "\n",
      "The CommonGround_entani optimization problem had no optimal solution.\n",
      "The CommonGround optimization problem had no optimal solution.\n",
      "The tCommonGround optimization problem had no optimal solution.\n",
      "The CommonGround optimization problem had no optimal solution.\n",
      "The tCommonGround optimization problem had no optimal solution.\n",
      "The CommonGround_entani optimization problem had no optimal solution.\n",
      "The CommonGround_entani optimization problem had no optimal solution.\n",
      "The CommonGround optimization problem had no optimal solution.\n",
      "The tCommonGround optimization problem had no optimal solution.\n",
      "The CommonGround optimization problem had no optimal solution.\n",
      "The tCommonGround optimization problem had no optimal solution.\n",
      "The CommonGround_entani optimization problem had no optimal solution.\n",
      "The CommonGround_entani optimization problem had no optimal solution.\n",
      "The CommonGround optimization problem had no optimal solution.\n",
      "The CommonGround optimization problem had no optimal solution.\n",
      "The CommonGround_entani optimization problem had no optimal solution."
     ]
    },
    {
     "name": "stdout",
     "output_type": "stream",
     "text": [
      "\n",
      "The tCommonGround optimization problem had no optimal solution.\n",
      "The CommonGround optimization problem had no optimal solution.\n"
     ]
    },
    {
     "name": "stdout",
     "output_type": "stream",
     "text": [
      "The tCommonGround optimization problem had no optimal solution.\n",
      "The CommonGround_entani optimization problem had no optimal solution.\n",
      "The CommonGround optimization problem had no optimal solution.\n",
      "The tCommonGround optimization problem had no optimal solution.\n",
      "The CommonGround_entani optimization problem had no optimal solution.\n",
      "The CommonGround_entani optimization problem had no optimal solution.\n",
      "The CommonGround optimization problem had no optimal solution.\n",
      "The CommonGround optimization problem had no optimal solution.\n",
      "The tCommonGround optimization problem had no optimal solution.\n",
      "The CommonGround_entani optimization problem had no optimal solution."
     ]
    },
    {
     "name": "stdout",
     "output_type": "stream",
     "text": [
      "\n",
      "The tCommonGround optimization problem had no optimal solution.\n",
      "The CommonGround optimization problem had no optimal solution.\n",
      "The tCommonGround optimization problem had no optimal solution.\n"
     ]
    },
    {
     "name": "stdout",
     "output_type": "stream",
     "text": [
      "The CommonGround_entani optimization problem had no optimal solution.\n",
      "The CommonGround optimization problem had no optimal solution.\n",
      "The tCommonGround optimization problem had no optimal solution.\n",
      "The CommonGround_entani optimization problem had no optimal solution.\n",
      "The CommonGround optimization problem had no optimal solution.\n",
      "The CommonGround_entani optimization problem had no optimal solution.\n",
      "The CommonGround_entani optimization problem had no optimal solution.\n",
      "The CommonGround optimization problem had no optimal solution.\n",
      "The tCommonGround optimization problem had no optimal solution.\n",
      "The CommonGround optimization problem had no optimal solution."
     ]
    },
    {
     "name": "stdout",
     "output_type": "stream",
     "text": [
      "\n",
      "The tCommonGround optimization problem had no optimal solution.\n",
      "The CommonGround_entani optimization problem had no optimal solution.\n",
      "The CommonGround optimization problem had no optimal solution.\n",
      "The tCommonGround optimization problem had no optimal solution.\n",
      "The CommonGround_entani optimization problem had no optimal solution.\n",
      "The CommonGround optimization problem had no optimal solution.\n",
      "The CommonGround_entani optimization problem had no optimal solution."
     ]
    },
    {
     "name": "stdout",
     "output_type": "stream",
     "text": [
      "\n",
      "The CommonGround_entani optimization problem had no optimal solution.\n",
      "The CommonGround optimization problem had no optimal solution.\n",
      "The tCommonGround optimization problem had no optimal solution.\n",
      "The tCommonGround optimization problem had no optimal solution."
     ]
    },
    {
     "name": "stdout",
     "output_type": "stream",
     "text": [
      "\n",
      "The CommonGround optimization problem had no optimal solution.\n",
      "The tCommonGround optimization problem had no optimal solution.\n",
      "The CommonGround_entani optimization problem had no optimal solution.\n",
      "The CommonGround optimization problem had no optimal solution.\n",
      "The CommonGround_entani optimization problem had no optimal solution.\n",
      "The CommonGround optimization problem had no optimal solution.\n",
      "The tCommonGround optimization problem had no optimal solution.\n",
      "The CommonGround_entani optimization problem had no optimal solution."
     ]
    },
    {
     "name": "stdout",
     "output_type": "stream",
     "text": [
      "\n",
      "The tCommonGround optimization problem had no optimal solution.\n",
      "The CommonGround optimization problem had no optimal solution.\n",
      "The CommonGround_entani optimization problem had no optimal solution.\n",
      "The tCommonGround optimization problem had no optimal solution."
     ]
    },
    {
     "name": "stdout",
     "output_type": "stream",
     "text": [
      "\n",
      "The CommonGround optimization problem had no optimal solution.\n",
      "The tCommonGround optimization problem had no optimal solution.\n",
      "The CommonGround_entani optimization problem had no optimal solution.\n",
      "The CommonGround optimization problem had no optimal solution.\n",
      "The CommonGround_entani optimization problem had no optimal solution.\n",
      "The tCommonGround optimization problem had no optimal solution.\n",
      "The CommonGround optimization problem had no optimal solution.\n",
      "The tCommonGround optimization problem had no optimal solution.\n",
      "The CommonGround_entani optimization problem had no optimal solution."
     ]
    },
    {
     "name": "stdout",
     "output_type": "stream",
     "text": [
      "\n"
     ]
    },
    {
     "name": "stdout",
     "output_type": "stream",
     "text": [
      "The CommonGround_entani optimization problem had no optimal solution.\n",
      "The CommonGround optimization problem had no optimal solution.\n",
      "The CommonGround optimization problem had no optimal solution.\n",
      "The tCommonGround optimization problem had no optimal solution.\n",
      "The tCommonGround optimization problem had no optimal solution.\n",
      "The CommonGround_entani optimization problem had no optimal solution.\n",
      "The CommonGround optimization problem had no optimal solution.\n",
      "The CommonGround_entani optimization problem had no optimal solution.\n",
      "The CommonGround optimization problem had no optimal solution.\n",
      "The CommonGround_entani optimization problem had no optimal solution."
     ]
    },
    {
     "name": "stdout",
     "output_type": "stream",
     "text": [
      "\n",
      "The tCommonGround optimization problem had no optimal solution.\n",
      "The CommonGround optimization problem had no optimal solution.\n"
     ]
    },
    {
     "name": "stdout",
     "output_type": "stream",
     "text": [
      "The CommonGround_entani optimization problem had no optimal solution.\n",
      "The CommonGround_entani optimization problem had no optimal solution.\n",
      "The CommonGround optimization problem had no optimal solution.\n",
      "The CommonGround optimization problem had no optimal solution.\n",
      "The tCommonGround optimization problem had no optimal solution.\n",
      "The tCommonGround optimization problem had no optimal solution.\n",
      "The tCommonGround optimization problem had no optimal solution.\n",
      "The CommonGround_entani optimization problem had no optimal solution.\n",
      "The CommonGround optimization problem had no optimal solution.\n",
      "The tCommonGround optimization problem had no optimal solution.\n",
      "The CommonGround_entani optimization problem had no optimal solution."
     ]
    },
    {
     "name": "stdout",
     "output_type": "stream",
     "text": [
      "\n",
      "The CommonGround_entani optimization problem had no optimal solution.\n",
      "The CommonGround optimization problem had no optimal solution.\n",
      "The CommonGround optimization problem had no optimal solution.\n",
      "The tCommonGround optimization problem had no optimal solution.\n",
      "The CommonGround_entani optimization problem had no optimal solution.\n",
      "The tCommonGround optimization problem had no optimal solution."
     ]
    },
    {
     "name": "stdout",
     "output_type": "stream",
     "text": [
      "\n",
      "The CommonGround optimization problem had no optimal solution.\n",
      "The tCommonGround optimization problem had no optimal solution.\n",
      "The CommonGround_entani optimization problem had no optimal solution.\n",
      "The CommonGround optimization problem had no optimal solution.\n",
      "The tCommonGround optimization problem had no optimal solution.\n",
      "The CommonGround_entani optimization problem had no optimal solution.\n",
      "The CommonGround_entani optimization problem had no optimal solution."
     ]
    },
    {
     "name": "stdout",
     "output_type": "stream",
     "text": [
      "\n",
      "The CommonGround optimization problem had no optimal solution.\n",
      "The CommonGround optimization problem had no optimal solution.\n"
     ]
    },
    {
     "name": "stdout",
     "output_type": "stream",
     "text": [
      "The tCommonGround optimization problem had no optimal solution.\n",
      "The tCommonGround optimization problem had no optimal solution.\n",
      "The CommonGround_entani optimization problem had no optimal solution.\n",
      "The CommonGround optimization problem had no optimal solution.\n",
      "The tCommonGround optimization problem had no optimal solution.\n",
      "The CommonGround_entani optimization problem had no optimal solution.\n",
      "The CommonGround optimization problem had no optimal solution.\n",
      "The tCommonGround optimization problem had no optimal solution.\n",
      "The CommonGround_entani optimization problem had no optimal solution.\n",
      "The CommonGround optimization problem had no optimal solution.\n",
      "The CommonGround_entani optimization problem had no optimal solution."
     ]
    },
    {
     "name": "stdout",
     "output_type": "stream",
     "text": [
      "\n"
     ]
    },
    {
     "name": "stdout",
     "output_type": "stream",
     "text": [
      "The CommonGround_entani optimization problem had no optimal solution.\n",
      "The CommonGround optimization problem had no optimal solution.\n",
      "The tCommonGround optimization problem had no optimal solution.\n",
      "The tCommonGround optimization problem had no optimal solution.\n",
      "The CommonGround_entani optimization problem had no optimal solution.\n",
      "The CommonGround optimization problem had no optimal solution.\n",
      "The CommonGround_entani optimization problem had no optimal solution.\n",
      "The tCommonGround optimization problem had no optimal solution.\n",
      "The CommonGround optimization problem had no optimal solution.\n",
      "The CommonGround_entani optimization problem had no optimal solution.\n",
      "The tCommonGround optimization problem had no optimal solution.\n",
      "The CommonGround_entani optimization problem had no optimal solution.\n",
      "The CommonGround optimization problem had no optimal solution.\n",
      "The CommonGround optimization problem had no optimal solution.\n",
      "The tCommonGround optimization problem had no optimal solution.\n",
      "The tCommonGround optimization problem had no optimal solution.\n",
      "The CommonGround_entani optimization problem had no optimal solution.\n",
      "The CommonGround optimization problem had no optimal solution.\n",
      "The tCommonGround optimization problem had no optimal solution.\n",
      "The CommonGround_entani optimization problem had no optimal solution."
     ]
    },
    {
     "name": "stdout",
     "output_type": "stream",
     "text": [
      "\n",
      "The CommonGround optimization problem had no optimal solution.\n"
     ]
    },
    {
     "name": "stdout",
     "output_type": "stream",
     "text": [
      "The CommonGround_entani optimization problem had no optimal solution.\n",
      "The CommonGround_entani optimization problem had no optimal solution.\n",
      "The tCommonGround optimization problem had no optimal solution.\n",
      "The CommonGround optimization problem had no optimal solution.\n",
      "The CommonGround optimization problem had no optimal solution.\n",
      "The tCommonGround optimization problem had no optimal solution.\n",
      "The CommonGround_entani optimization problem had no optimal solution.\n",
      "The CommonGround optimization problem had no optimal solution.\n",
      "The CommonGround optimization problem had no optimal solution."
     ]
    },
    {
     "name": "stdout",
     "output_type": "stream",
     "text": [
      "\n",
      "The tCommonGround optimization problem had no optimal solution.\n"
     ]
    },
    {
     "name": "stdout",
     "output_type": "stream",
     "text": [
      "The CommonGround_entani optimization problem had no optimal solution.\n",
      "The CommonGround_entani optimization problem had no optimal solution.\n",
      "The CommonGround optimization problem had no optimal solution.\n",
      "The CommonGround optimization problem had no optimal solution.\n",
      "The CommonGround_entani optimization problem had no optimal solution.\n",
      "The tCommonGround optimization problem had no optimal solution.\n",
      "The CommonGround optimization problem had no optimal solution.\n",
      "The tCommonGround optimization problem had no optimal solution.\n",
      "The CommonGround_entani optimization problem had no optimal solution.\n",
      "The CommonGround_entani optimization problem had no optimal solution.\n",
      "The CommonGround optimization problem had no optimal solution.\n",
      "The CommonGround optimization problem had no optimal solution.\n",
      "The tCommonGround optimization problem had no optimal solution.\n",
      "The tCommonGround optimization problem had no optimal solution.\n",
      "The CommonGround_entani optimization problem had no optimal solution.\n",
      "The CommonGround optimization problem had no optimal solution.\n",
      "The CommonGround_entani optimization problem had no optimal solution."
     ]
    },
    {
     "name": "stdout",
     "output_type": "stream",
     "text": [
      "\n",
      "The CommonGround optimization problem had no optimal solution.\n",
      "The CommonGround_entani optimization problem had no optimal solution.\n",
      "The tCommonGround optimization problem had no optimal solution.\n"
     ]
    },
    {
     "name": "stdout",
     "output_type": "stream",
     "text": [
      "The CommonGround optimization problem had no optimal solution.\n",
      "The tCommonGround optimization problem had no optimal solution.\n",
      "The CommonGround_entani optimization problem had no optimal solution.\n",
      "The CommonGround optimization problem had no optimal solution.\n",
      "The tCommonGround optimization problem had no optimal solution.\n",
      "The CommonGround_entani optimization problem had no optimal solution.\n",
      "The CommonGround_entani optimization problem had no optimal solution.\n",
      "The CommonGround optimization problem had no optimal solution.\n",
      "The CommonGround optimization problem had no optimal solution.\n",
      "The tCommonGround optimization problem had no optimal solution.\n",
      "The tCommonGround optimization problem had no optimal solution.\n",
      "The CommonGround_entani optimization problem had no optimal solution.\n",
      "The CommonGround optimization problem had no optimal solution.\n",
      "The tCommonGround optimization problem had no optimal solution.\n",
      "The CommonGround_entani optimization problem had no optimal solution.\n",
      "The CommonGround optimization problem had no optimal solution.\n",
      "The tCommonGround optimization problem had no optimal solution.\n",
      "The CommonGround_entani optimization problem had no optimal solution.\n",
      "The CommonGround_entani optimization problem had no optimal solution.\n",
      "The CommonGround optimization problem had no optimal solution.\n",
      "The CommonGround optimization problem had no optimal solution.\n",
      "The tCommonGround optimization problem had no optimal solution.\n",
      "The tCommonGround optimization problem had no optimal solution.\n",
      "The CommonGround_entani optimization problem had no optimal solution.\n",
      "The CommonGround optimization problem had no optimal solution.\n",
      "The tCommonGround optimization problem had no optimal solution.\n",
      "The CommonGround_entani optimization problem had no optimal solution."
     ]
    },
    {
     "name": "stdout",
     "output_type": "stream",
     "text": [
      "\n"
     ]
    },
    {
     "name": "stdout",
     "output_type": "stream",
     "text": [
      "The CommonGround optimization problem had no optimal solution.\n",
      "The tCommonGround optimization problem had no optimal solution.\n",
      "The CommonGround_entani optimization problem had no optimal solution.\n",
      "The CommonGround optimization problem had no optimal solution.\n",
      "The tCommonGround optimization problem had no optimal solution.\n",
      "The CommonGround_entani optimization problem had no optimal solution.\n",
      "The CommonGround optimization problem had no optimal solution.\n",
      "The CommonGround_entani optimization problem had no optimal solution."
     ]
    },
    {
     "name": "stdout",
     "output_type": "stream",
     "text": [
      "\n",
      "The tCommonGround optimization problem had no optimal solution.\n",
      "The CommonGround optimization problem had no optimal solution.\n"
     ]
    },
    {
     "name": "stdout",
     "output_type": "stream",
     "text": [
      "The tCommonGround optimization problem had no optimal solution.\n",
      "The CommonGround_entani optimization problem had no optimal solution.\n",
      "The CommonGround optimization problem had no optimal solution.\n",
      "The tCommonGround optimization problem had no optimal solution.\n",
      "The CommonGround_entani optimization problem had no optimal solution.\n",
      "The CommonGround optimization problem had no optimal solution.\n",
      "The CommonGround_entani optimization problem had no optimal solution.\n",
      "The CommonGround optimization problem had no optimal solution.\n",
      "The CommonGround_entani optimization problem had no optimal solution."
     ]
    },
    {
     "name": "stdout",
     "output_type": "stream",
     "text": [
      "\n",
      "The tCommonGround optimization problem had no optimal solution.\n",
      "The CommonGround optimization problem had no optimal solution.\n",
      "The tCommonGround optimization problem had no optimal solution.\n"
     ]
    },
    {
     "name": "stdout",
     "output_type": "stream",
     "text": [
      "The CommonGround_entani optimization problem had no optimal solution.\n",
      "The CommonGround optimization problem had no optimal solution.\n",
      "The tCommonGround optimization problem had no optimal solution.\n",
      "The CommonGround_entani optimization problem had no optimal solution.\n",
      "The CommonGround optimization problem had no optimal solution.\n",
      "The CommonGround_entani optimization problem had no optimal solution.\n",
      "The tCommonGround optimization problem had no optimal solution.\n",
      "The CommonGround optimization problem had no optimal solution.\n",
      "The tCommonGround optimization problem had no optimal solution.\n"
     ]
    },
    {
     "name": "stdout",
     "output_type": "stream",
     "text": [
      "The CommonGround_entani optimization problem had no optimal solution.\n",
      "The CommonGround_entani optimization problem had no optimal solution.\n",
      "The CommonGround optimization problem had no optimal solution.\n",
      "The tCommonGround optimization problem had no optimal solution.\n",
      "The CommonGround_entani optimization problem had no optimal solution.\n",
      "The CommonGround optimization problem had no optimal solution.\n",
      "The tCommonGround optimization problem had no optimal solution.\n",
      "The CommonGround optimization problem had no optimal solution.\n",
      "The CommonGround_entani optimization problem had no optimal solution.\n",
      "The tCommonGround optimization problem had no optimal solution.\n",
      "The CommonGround optimization problem had no optimal solution.\n",
      "The tCommonGround optimization problem had no optimal solution.\n",
      "The CommonGround_entani optimization problem had no optimal solution.\n",
      "The CommonGround optimization problem had no optimal solution.\n",
      "The CommonGround_entani optimization problem had no optimal solution.\n",
      "The tCommonGround optimization problem had no optimal solution.\n",
      "The CommonGround optimization problem had no optimal solution.\n",
      "The tCommonGround optimization problem had no optimal solution.\n",
      "The CommonGround_entani optimization problem had no optimal solution."
     ]
    },
    {
     "name": "stdout",
     "output_type": "stream",
     "text": [
      "\n"
     ]
    },
    {
     "name": "stdout",
     "output_type": "stream",
     "text": [
      "The CommonGround optimization problem had no optimal solution.\n",
      "The CommonGround_entani optimization problem had no optimal solution.\n",
      "The tCommonGround optimization problem had no optimal solution.\n",
      "The CommonGround optimization problem had no optimal solution.\n",
      "The tCommonGround optimization problem had no optimal solution.\n",
      "The CommonGround_entani optimization problem had no optimal solution.\n",
      "The CommonGround optimization problem had no optimal solution.\n",
      "The tCommonGround optimization problem had no optimal solution.\n",
      "The CommonGround_entani optimization problem had no optimal solution.\n",
      "The CommonGround_entani optimization problem had no optimal solution."
     ]
    },
    {
     "name": "stdout",
     "output_type": "stream",
     "text": [
      "\n",
      "The CommonGround optimization problem had no optimal solution.\n",
      "The CommonGround optimization problem had no optimal solution.\n",
      "The tCommonGround optimization problem had no optimal solution.\n",
      "The tCommonGround optimization problem had no optimal solution.\n",
      "The CommonGround_entani optimization problem had no optimal solution.\n",
      "The CommonGround optimization problem had no optimal solution.\n",
      "The CommonGround_entani optimization problem had no optimal solution.\n",
      "The tCommonGround optimization problem had no optimal solution.\n",
      "The CommonGround optimization problem had no optimal solution.\n",
      "The tCommonGround optimization problem had no optimal solution.\n",
      "The CommonGround_entani optimization problem had no optimal solution."
     ]
    },
    {
     "name": "stdout",
     "output_type": "stream",
     "text": [
      "\n",
      "The CommonGround optimization problem had no optimal solution.\n",
      "The tCommonGround optimization problem had no optimal solution.\n",
      "The CommonGround_entani optimization problem had no optimal solution.\n",
      "The CommonGround_entani optimization problem had no optimal solution.\n",
      "The CommonGround optimization problem had no optimal solution.\n",
      "The CommonGround optimization problem had no optimal solution.\n",
      "The tCommonGround optimization problem had no optimal solution.\n",
      "The tCommonGround optimization problem had no optimal solution.\n",
      "The CommonGround_entani optimization problem had no optimal solution.\n",
      "The CommonGround optimization problem had no optimal solution.\n",
      "The tCommonGround optimization problem had no optimal solution.\n",
      "The CommonGround_entani optimization problem had no optimal solution."
     ]
    },
    {
     "name": "stdout",
     "output_type": "stream",
     "text": [
      "\n"
     ]
    },
    {
     "name": "stdout",
     "output_type": "stream",
     "text": [
      "The CommonGround optimization problem had no optimal solution.\n",
      "The CommonGround_entani optimization problem had no optimal solution.\n",
      "The tCommonGround optimization problem had no optimal solution.\n",
      "The CommonGround optimization problem had no optimal solution.\n",
      "The CommonGround_entani optimization problem had no optimal solution.\n",
      "The tCommonGround optimization problem had no optimal solution.\n",
      "The CommonGround optimization problem had no optimal solution.\n",
      "The CommonGround_entani optimization problem had no optimal solution.\n",
      "The CommonGround optimization problem had no optimal solution.\n",
      "The CommonGround_entani optimization problem had no optimal solution."
     ]
    },
    {
     "name": "stdout",
     "output_type": "stream",
     "text": [
      "\n",
      "The tCommonGround optimization problem had no optimal solution.\n",
      "The CommonGround optimization problem had no optimal solution.\n",
      "The tCommonGround optimization problem had no optimal solution.\n",
      "The CommonGround_entani optimization problem had no optimal solution.\n",
      "The CommonGround optimization problem had no optimal solution.\n",
      "The tCommonGround optimization problem had no optimal solution.\n",
      "The CommonGround_entani optimization problem had no optimal solution.\n",
      "The CommonGround optimization problem had no optimal solution.\n",
      "The tCommonGround optimization problem had no optimal solution.\n",
      "The CommonGround_entani optimization problem had no optimal solution."
     ]
    },
    {
     "name": "stdout",
     "output_type": "stream",
     "text": [
      "\n",
      "The CommonGround_entani optimization problem had no optimal solution.\n",
      "The CommonGround optimization problem had no optimal solution.\n",
      "The CommonGround optimization problem had no optimal solution.\n",
      "The CommonGround_entani optimization problem had no optimal solution.\n",
      "The tCommonGround optimization problem had no optimal solution.\n",
      "The tCommonGround optimization problem had no optimal solution.\n",
      "The CommonGround optimization problem had no optimal solution.\n",
      "The tCommonGround optimization problem had no optimal solution.\n",
      "The CommonGround_entani optimization problem had no optimal solution.\n",
      "The CommonGround optimization problem had no optimal solution.\n",
      "The tCommonGround optimization problem had no optimal solution.\n",
      "The CommonGround_entani optimization problem had no optimal solution."
     ]
    },
    {
     "name": "stdout",
     "output_type": "stream",
     "text": [
      "\n"
     ]
    },
    {
     "name": "stdout",
     "output_type": "stream",
     "text": [
      "The CommonGround optimization problem had no optimal solution.\n",
      "The CommonGround optimization problem had no optimal solution.\n",
      "The tCommonGround optimization problem had no optimal solution.\n",
      "The CommonGround_entani optimization problem had no optimal solution.\n",
      "The CommonGround optimization problem had no optimal solution.\n",
      "The CommonGround_entani optimization problem had no optimal solution.\n",
      "The CommonGround optimization problem had no optimal solution.\n",
      "The tCommonGround optimization problem had no optimal solution.\n",
      "The CommonGround_entani optimization problem had no optimal solution."
     ]
    },
    {
     "name": "stdout",
     "output_type": "stream",
     "text": [
      "\n",
      "The CommonGround_entani optimization problem had no optimal solution.\n",
      "The CommonGround optimization problem had no optimal solution.\n"
     ]
    },
    {
     "name": "stdout",
     "output_type": "stream",
     "text": [
      "The CommonGround optimization problem had no optimal solution.\n",
      "The tCommonGround optimization problem had no optimal solution.\n",
      "The CommonGround_entani optimization problem had no optimal solution.\n",
      "The tCommonGround optimization problem had no optimal solution.\n",
      "The CommonGround optimization problem had no optimal solution.\n",
      "The tCommonGround optimization problem had no optimal solution.\n",
      "The CommonGround_entani optimization problem had no optimal solution.\n",
      "The CommonGround optimization problem had no optimal solution.\n",
      "The tCommonGround optimization problem had no optimal solution.\n",
      "The CommonGround_entani optimization problem had no optimal solution.\n",
      "The CommonGround_entani optimization problem had no optimal solution."
     ]
    },
    {
     "name": "stdout",
     "output_type": "stream",
     "text": [
      "\n",
      "The CommonGround optimization problem had no optimal solution.\n",
      "The CommonGround optimization problem had no optimal solution.\n",
      "The tCommonGround optimization problem had no optimal solution.\n",
      "The tCommonGround optimization problem had no optimal solution.\n",
      "The CommonGround_entani optimization problem had no optimal solution.\n",
      "The CommonGround_entani optimization problem had no optimal solution.\n",
      "The CommonGround optimization problem had no optimal solution.\n",
      "The CommonGround optimization problem had no optimal solution.\n",
      "The tCommonGround optimization problem had no optimal solution.\n",
      "The tCommonGround optimization problem had no optimal solution.\n",
      "The CommonGround_entani optimization problem had no optimal solution.\n",
      "The CommonGround optimization problem had no optimal solution.\n",
      "The CommonGround_entani optimization problem had no optimal solution."
     ]
    },
    {
     "name": "stdout",
     "output_type": "stream",
     "text": [
      "\n",
      "The tCommonGround optimization problem had no optimal solution.\n",
      "The CommonGround optimization problem had no optimal solution.\n",
      "The CommonGround_entani optimization problem had no optimal solution.\n",
      "The CommonGround optimization problem had no optimal solution.\n",
      "The CommonGround_entani optimization problem had no optimal solution.\n",
      "The tCommonGround optimization problem had no optimal solution.\n",
      "The tCommonGround optimization problem had no optimal solution.\n"
     ]
    },
    {
     "name": "stdout",
     "output_type": "stream",
     "text": [
      "The CommonGround optimization problem had no optimal solution.\n",
      "The CommonGround_entani optimization problem had no optimal solution.\n",
      "The CommonGround optimization problem had no optimal solution.\n",
      "The tCommonGround optimization problem had no optimal solution.\n",
      "The CommonGround_entani optimization problem had no optimal solution.\n",
      "The CommonGround_entani optimization problem had no optimal solution.\n",
      "The CommonGround optimization problem had no optimal solution.\n",
      "The CommonGround optimization problem had no optimal solution.\n",
      "The CommonGround_entani optimization problem had no optimal solution.\n",
      "The tCommonGround optimization problem had no optimal solution.\n",
      "The tCommonGround optimization problem had no optimal solution.\n",
      "The CommonGround optimization problem had no optimal solution.\n",
      "The tCommonGround optimization problem had no optimal solution.\n"
     ]
    },
    {
     "name": "stdout",
     "output_type": "stream",
     "text": [
      "The CommonGround_entani optimization problem had no optimal solution.\n",
      "The CommonGround optimization problem had no optimal solution.\n",
      "The CommonGround_entani optimization problem had no optimal solution.\n",
      "The CommonGround_entani optimization problem had no optimal solution.\n",
      "The CommonGround optimization problem had no optimal solution.\n",
      "The CommonGround_entani optimization problem had no optimal solution.\n",
      "The CommonGround optimization problem had no optimal solution.\n",
      "The tCommonGround optimization problem had no optimal solution.\n",
      "The tCommonGround optimization problem had no optimal solution.\n",
      "The CommonGround optimization problem had no optimal solution.\n",
      "The tCommonGround optimization problem had no optimal solution.\n",
      "The CommonGround_entani optimization problem had no optimal solution.\n",
      "The CommonGround_entani optimization problem had no optimal solution.\n",
      "The CommonGround optimization problem had no optimal solution.\n",
      "The CommonGround optimization problem had no optimal solution.\n",
      "The tCommonGround optimization problem had no optimal solution.\n",
      "The tCommonGround optimization problem had no optimal solution.\n",
      "The CommonGround_entani optimization problem had no optimal solution.\n",
      "The CommonGround optimization problem had no optimal solution.\n",
      "The tCommonGround optimization problem had no optimal solution.\n",
      "The CommonGround_entani optimization problem had no optimal solution."
     ]
    },
    {
     "name": "stdout",
     "output_type": "stream",
     "text": [
      "\n",
      "The CommonGround optimization problem had no optimal solution.\n"
     ]
    },
    {
     "name": "stdout",
     "output_type": "stream",
     "text": [
      "The CommonGround_entani optimization problem had no optimal solution.\n",
      "The tCommonGround optimization problem had no optimal solution.\n",
      "The CommonGround optimization problem had no optimal solution.\n",
      "The tCommonGround optimization problem had no optimal solution.\n",
      "The CommonGround_entani optimization problem had no optimal solution.\n",
      "The CommonGround optimization problem had no optimal solution.\n",
      "The CommonGround_entani optimization problem had no optimal solution.\n",
      "The tCommonGround optimization problem had no optimal solution.\n",
      "The CommonGround optimization problem had no optimal solution.\n",
      "The tCommonGround optimization problem had no optimal solution.\n",
      "The CommonGround_entani optimization problem had no optimal solution."
     ]
    },
    {
     "name": "stdout",
     "output_type": "stream",
     "text": [
      "\n"
     ]
    },
    {
     "name": "stdout",
     "output_type": "stream",
     "text": [
      "The CommonGround optimization problem had no optimal solution.\n",
      "The CommonGround_entani optimization problem had no optimal solution.\n",
      "The tCommonGround optimization problem had no optimal solution.\n",
      "The CommonGround optimization problem had no optimal solution.\n",
      "The CommonGround_entani optimization problem had no optimal solution.\n",
      "The tCommonGround optimization problem had no optimal solution.\n",
      "The CommonGround optimization problem had no optimal solution.\n",
      "The tCommonGround optimization problem had no optimal solution.\n",
      "The CommonGround_entani optimization problem had no optimal solution.\n",
      "The CommonGround optimization problem had no optimal solution.\n",
      "The CommonGround_entani optimization problem had no optimal solution."
     ]
    },
    {
     "name": "stdout",
     "output_type": "stream",
     "text": [
      "\n",
      "The CommonGround optimization problem had no optimal solution.\n"
     ]
    },
    {
     "name": "stdout",
     "output_type": "stream",
     "text": [
      "The tCommonGround optimization problem had no optimal solution.\n",
      "The tCommonGround optimization problem had no optimal solution.\n",
      "The CommonGround_entani optimization problem had no optimal solution.\n",
      "The CommonGround optimization problem had no optimal solution.\n",
      "The tCommonGround optimization problem had no optimal solution.\n",
      "The CommonGround_entani optimization problem had no optimal solution.\n",
      "The CommonGround optimization problem had no optimal solution.\n",
      "The tCommonGround optimization problem had no optimal solution.\n",
      "The CommonGround_entani optimization problem had no optimal solution.\n",
      "The CommonGround_entani optimization problem had no optimal solution.\n",
      "The CommonGround optimization problem had no optimal solution.\n",
      "The tCommonGround optimization problem had no optimal solution.\n",
      "The CommonGround_entani optimization problem had no optimal solution."
     ]
    },
    {
     "name": "stdout",
     "output_type": "stream",
     "text": [
      "\n",
      "The CommonGround optimization problem had no optimal solution.\n",
      "The tCommonGround optimization problem had no optimal solution.\n"
     ]
    },
    {
     "name": "stdout",
     "output_type": "stream",
     "text": [
      "The CommonGround_entani optimization problem had no optimal solution.\n",
      "The CommonGround optimization problem had no optimal solution.\n",
      "The tCommonGround optimization problem had no optimal solution.\n",
      "The CommonGround_entani optimization problem had no optimal solution.\n",
      "The CommonGround optimization problem had no optimal solution.\n",
      "The CommonGround_entani optimization problem had no optimal solution.\n",
      "The tCommonGround optimization problem had no optimal solution.\n",
      "The CommonGround optimization problem had no optimal solution.\n",
      "The CommonGround_entani optimization problem had no optimal solution.\n",
      "The tCommonGround optimization problem had no optimal solution.\n",
      "The CommonGround optimization problem had no optimal solution.\n",
      "The tCommonGround optimization problem had no optimal solution.\n"
     ]
    },
    {
     "name": "stdout",
     "output_type": "stream",
     "text": [
      "The CommonGround_entani optimization problem had no optimal solution.\n",
      "The CommonGround optimization problem had no optimal solution.\n",
      "The tCommonGround optimization problem had no optimal solution.\n",
      "The CommonGround_entani optimization problem had no optimal solution.\n",
      "The CommonGround optimization problem had no optimal solution.\n",
      "The tCommonGround optimization problem had no optimal solution.\n",
      "The CommonGround_entani optimization problem had no optimal solution.\n",
      "The CommonGround optimization problem had no optimal solution.\n",
      "The CommonGround_entani optimization problem had no optimal solution.\n",
      "The tCommonGround optimization problem had no optimal solution.\n",
      "The CommonGround optimization problem had no optimal solution.\n",
      "The tCommonGround optimization problem had no optimal solution.\n",
      "The CommonGround_entani optimization problem had no optimal solution.\n",
      "The CommonGround optimization problem had no optimal solution.\n",
      "The tCommonGround optimization problem had no optimal solution.\n",
      "The CommonGround_entani optimization problem had no optimal solution.\n",
      "The CommonGround optimization problem had no optimal solution.\n",
      "The CommonGround_entani optimization problem had no optimal solution."
     ]
    },
    {
     "name": "stdout",
     "output_type": "stream",
     "text": [
      "\n",
      "The tCommonGround optimization problem had no optimal solution.\n",
      "The CommonGround optimization problem had no optimal solution.\n",
      "The tCommonGround optimization problem had no optimal solution.\n",
      "The CommonGround_entani optimization problem had no optimal solution.\n",
      "The CommonGround optimization problem had no optimal solution.\n",
      "The tCommonGround optimization problem had no optimal solution.\n",
      "The CommonGround_entani optimization problem had no optimal solution."
     ]
    },
    {
     "name": "stdout",
     "output_type": "stream",
     "text": [
      "\n",
      "The CommonGround optimization problem had no optimal solution.\n"
     ]
    },
    {
     "name": "stdout",
     "output_type": "stream",
     "text": [
      "The tCommonGround optimization problem had no optimal solution.\n",
      "The CommonGround_entani optimization problem had no optimal solution.\n",
      "The CommonGround optimization problem had no optimal solution.\n",
      "The tCommonGround optimization problem had no optimal solution.\n",
      "The CommonGround_entani optimization problem had no optimal solution.\n",
      "The CommonGround optimization problem had no optimal solution.\n",
      "The tCommonGround optimization problem had no optimal solution.\n",
      "The CommonGround_entani optimization problem had no optimal solution.\n",
      "The CommonGround optimization problem had no optimal solution.\n",
      "The tCommonGround optimization problem had no optimal solution.\n",
      "The CommonGround_entani optimization problem had no optimal solution."
     ]
    },
    {
     "name": "stdout",
     "output_type": "stream",
     "text": [
      "\n",
      "The CommonGround_entani optimization problem had no optimal solution.\n",
      "The CommonGround optimization problem had no optimal solution.\n",
      "The CommonGround optimization problem had no optimal solution.\n",
      "The tCommonGround optimization problem had no optimal solution.\n",
      "The tCommonGround optimization problem had no optimal solution.\n",
      "The CommonGround_entani optimization problem had no optimal solution.\n",
      "The CommonGround optimization problem had no optimal solution.\n",
      "The tCommonGround optimization problem had no optimal solution.\n",
      "The CommonGround_entani optimization problem had no optimal solution."
     ]
    },
    {
     "name": "stdout",
     "output_type": "stream",
     "text": [
      "\n"
     ]
    },
    {
     "name": "stdout",
     "output_type": "stream",
     "text": [
      "The CommonGround optimization problem had no optimal solution.\n",
      "The CommonGround_entani optimization problem had no optimal solution.\n",
      "The tCommonGround optimization problem had no optimal solution.\n",
      "The CommonGround optimization problem had no optimal solution.\n",
      "The CommonGround_entani optimization problem had no optimal solution.\n",
      "The CommonGround optimization problem had no optimal solution.\n",
      "The tCommonGround optimization problem had no optimal solution.\n",
      "The tCommonGround optimization problem had no optimal solution.\n",
      "The CommonGround_entani optimization problem had no optimal solution.\n",
      "The CommonGround optimization problem had no optimal solution.\n",
      "The tCommonGround optimization problem had no optimal solution.\n",
      "The CommonGround_entani optimization problem had no optimal solution.\n",
      "The CommonGround optimization problem had no optimal solution.\n",
      "The CommonGround_entani optimization problem had no optimal solution."
     ]
    },
    {
     "name": "stdout",
     "output_type": "stream",
     "text": [
      "\n",
      "The CommonGround_entani optimization problem had no optimal solution.\n",
      "The tCommonGround optimization problem had no optimal solution.\n",
      "The CommonGround optimization problem had no optimal solution.\n",
      "The CommonGround optimization problem had no optimal solution.\n",
      "The tCommonGround optimization problem had no optimal solution.\n",
      "The tCommonGround optimization problem had no optimal solution.\n",
      "The CommonGround_entani optimization problem had no optimal solution.\n",
      "The CommonGround optimization problem had no optimal solution.\n",
      "The CommonGround_entani optimization problem had no optimal solution.\n",
      "The tCommonGround optimization problem had no optimal solution.\n",
      "The CommonGround optimization problem had no optimal solution.\n",
      "The CommonGround_entani optimization problem had no optimal solution.\n",
      "The tCommonGround optimization problem had no optimal solution.\n",
      "The CommonGround_entani optimization problem had no optimal solution."
     ]
    },
    {
     "name": "stdout",
     "output_type": "stream",
     "text": [
      "\n",
      "The CommonGround optimization problem had no optimal solution.\n",
      "The CommonGround optimization problem had no optimal solution.\n",
      "The tCommonGround optimization problem had no optimal solution.\n",
      "The tCommonGround optimization problem had no optimal solution.\n"
     ]
    },
    {
     "name": "stdout",
     "output_type": "stream",
     "text": [
      "The CommonGround_entani optimization problem had no optimal solution.\n",
      "The CommonGround optimization problem had no optimal solution.\n",
      "The tCommonGround optimization problem had no optimal solution.\n",
      "The CommonGround_entani optimization problem had no optimal solution.\n",
      "The CommonGround optimization problem had no optimal solution.\n",
      "The CommonGround_entani optimization problem had no optimal solution.\n",
      "The tCommonGround optimization problem had no optimal solution.\n",
      "The CommonGround optimization problem had no optimal solution.\n",
      "The CommonGround optimization problem had no optimal solution.\n",
      "The tCommonGround optimization problem had no optimal solution.\n",
      "The CommonGround_entani optimization problem had no optimal solution.\n",
      "The CommonGround optimization problem had no optimal solution.\n",
      "The CommonGround_entani optimization problem had no optimal solution.\n",
      "The CommonGround optimization problem had no optimal solution.\n",
      "The tCommonGround optimization problem had no optimal solution.\n",
      "The tCommonGround optimization problem had no optimal solution.\n",
      "The CommonGround_entani optimization problem had no optimal solution."
     ]
    },
    {
     "name": "stdout",
     "output_type": "stream",
     "text": [
      "\n",
      "The CommonGround optimization problem had no optimal solution.\n"
     ]
    },
    {
     "name": "stdout",
     "output_type": "stream",
     "text": [
      "The tCommonGround optimization problem had no optimal solution.\n",
      "The CommonGround_entani optimization problem had no optimal solution.\n",
      "The CommonGround optimization problem had no optimal solution.\n",
      "The tCommonGround optimization problem had no optimal solution.\n",
      "The CommonGround_entani optimization problem had no optimal solution.\n",
      "The CommonGround_entani optimization problem had no optimal solution.\n",
      "The CommonGround optimization problem had no optimal solution.\n",
      "The CommonGround optimization problem had no optimal solution.\n",
      "The CommonGround_entani optimization problem had no optimal solution."
     ]
    },
    {
     "name": "stdout",
     "output_type": "stream",
     "text": [
      "\n",
      "The tCommonGround optimization problem had no optimal solution.\n",
      "The CommonGround_entani optimization problem had no optimal solution.\n",
      "The CommonGround optimization problem had no optimal solution."
     ]
    },
    {
     "name": "stdout",
     "output_type": "stream",
     "text": [
      "\n",
      "The CommonGround optimization problem had no optimal solution.\n",
      "The tCommonGround optimization problem had no optimal solution.\n",
      "The tCommonGround optimization problem had no optimal solution.\n"
     ]
    },
    {
     "name": "stdout",
     "output_type": "stream",
     "text": [
      "The CommonGround_entani optimization problem had no optimal solution.\n",
      "The CommonGround optimization problem had no optimal solution.\n",
      "The CommonGround_entani optimization problem had no optimal solution.\n",
      "The tCommonGround optimization problem had no optimal solution.\n",
      "The CommonGround_entani optimization problem had no optimal solution.\n",
      "The CommonGround optimization problem had no optimal solution.\n",
      "The CommonGround optimization problem had no optimal solution.\n",
      "The tCommonGround optimization problem had no optimal solution.\n",
      "The tCommonGround optimization problem had no optimal solution.\n",
      "The CommonGround_entani optimization problem had no optimal solution.\n",
      "The CommonGround optimization problem had no optimal solution.\n",
      "The tCommonGround optimization problem had no optimal solution.\n",
      "The CommonGround_entani optimization problem had no optimal solution.\n",
      "The CommonGround optimization problem had no optimal solution.\n",
      "The tCommonGround optimization problem had no optimal solution.\n",
      "The CommonGround_entani optimization problem had no optimal solution.\n",
      "The CommonGround optimization problem had no optimal solution.\n",
      "The tCommonGround optimization problem had no optimal solution.\n",
      "The CommonGround optimization problem had no optimal solution.\n",
      "The CommonGround_entani optimization problem had no optimal solution."
     ]
    },
    {
     "name": "stdout",
     "output_type": "stream",
     "text": [
      "\n",
      "The CommonGround optimization problem had no optimal solution.\n",
      "The tCommonGround optimization problem had no optimal solution.\n"
     ]
    },
    {
     "name": "stdout",
     "output_type": "stream",
     "text": [
      "The CommonGround_entani optimization problem had no optimal solution.\n",
      "The CommonGround_entani optimization problem had no optimal solution.\n",
      "The CommonGround optimization problem had no optimal solution.\n",
      "The tCommonGround optimization problem had no optimal solution.\n",
      "The CommonGround optimization problem had no optimal solution.\n",
      "The CommonGround_entani optimization problem had no optimal solution.\n",
      "The tCommonGround optimization problem had no optimal solution.\n",
      "The CommonGround optimization problem had no optimal solution.\n"
     ]
    },
    {
     "name": "stdout",
     "output_type": "stream",
     "text": [
      "The CommonGround_entani optimization problem had no optimal solution.\n",
      "The tCommonGround optimization problem had no optimal solution.\n",
      "The CommonGround optimization problem had no optimal solution.\n",
      "The CommonGround_entani optimization problem had no optimal solution.\n",
      "The tCommonGround optimization problem had no optimal solution.\n",
      "The CommonGround optimization problem had no optimal solution.\n",
      "The tCommonGround optimization problem had no optimal solution.\n",
      "The CommonGround_entani optimization problem had no optimal solution.\n",
      "The CommonGround_entani optimization problem had no optimal solution."
     ]
    },
    {
     "name": "stdout",
     "output_type": "stream",
     "text": [
      "\n",
      "The CommonGround optimization problem had no optimal solution.\n",
      "The CommonGround optimization problem had no optimal solution.\n",
      "The tCommonGround optimization problem had no optimal solution.\n",
      "The tCommonGround optimization problem had no optimal solution.\n",
      "The CommonGround_entani optimization problem had no optimal solution.\n",
      "The CommonGround_entani optimization problem had no optimal solution.\n",
      "The CommonGround optimization problem had no optimal solution.\n",
      "The tCommonGround optimization problem had no optimal solution.\n",
      "The CommonGround optimization problem had no optimal solution.\n",
      "The tCommonGround optimization problem had no optimal solution.\n",
      "The CommonGround_entani optimization problem had no optimal solution.\n",
      "The CommonGround_entani optimization problem had no optimal solution."
     ]
    },
    {
     "name": "stdout",
     "output_type": "stream",
     "text": [
      "\n",
      "The CommonGround optimization problem had no optimal solution.\n",
      "The CommonGround optimization problem had no optimal solution.\n",
      "The tCommonGround optimization problem had no optimal solution.\n",
      "The CommonGround_entani optimization problem had no optimal solution.\n",
      "The CommonGround_entani optimization problem had no optimal solution.\n",
      "The CommonGround optimization problem had no optimal solution.\n",
      "The CommonGround optimization problem had no optimal solution.\n",
      "The tCommonGround optimization problem had no optimal solution.\n",
      "The tCommonGround optimization problem had no optimal solution.\n",
      "The CommonGround_entani optimization problem had no optimal solution."
     ]
    },
    {
     "name": "stdout",
     "output_type": "stream",
     "text": [
      "\n",
      "The CommonGround_entani optimization problem had no optimal solution.\n",
      "The CommonGround optimization problem had no optimal solution.\n",
      "The CommonGround optimization problem had no optimal solution.\n",
      "The CommonGround_entani optimization problem had no optimal solution.\n",
      "The tCommonGround optimization problem had no optimal solution.\n",
      "The CommonGround_entani optimization problem had no optimal solution.\n",
      "The tCommonGround optimization problem had no optimal solution.\n",
      "The CommonGround optimization problem had no optimal solution.\n",
      "The CommonGround optimization problem had no optimal solution.\n",
      "The CommonGround_entani optimization problem had no optimal solution.\n",
      "The CommonGround_entani optimization problem had no optimal solution."
     ]
    },
    {
     "name": "stdout",
     "output_type": "stream",
     "text": [
      "\n",
      "The CommonGround optimization problem had no optimal solution.\n",
      "The CommonGround optimization problem had no optimal solution.\n",
      "The tCommonGround optimization problem had no optimal solution.\n",
      "The CommonGround_entani optimization problem had no optimal solution.\n",
      "The tCommonGround optimization problem had no optimal solution.\n",
      "The CommonGround optimization problem had no optimal solution.\n",
      "The CommonGround_entani optimization problem had no optimal solution.\n",
      "The CommonGround optimization problem had no optimal solution.\n",
      "The tCommonGround optimization problem had no optimal solution.\n",
      "The CommonGround_entani optimization problem had no optimal solution.\n",
      "The CommonGround_entani optimization problem had no optimal solution."
     ]
    },
    {
     "name": "stdout",
     "output_type": "stream",
     "text": [
      "\n",
      "The CommonGround_entani optimization problem had no optimal solution.\n",
      "The CommonGround optimization problem had no optimal solution.\n",
      "The CommonGround optimization problem had no optimal solution.\n",
      "The CommonGround optimization problem had no optimal solution.\n",
      "The tCommonGround optimization problem had no optimal solution.\n",
      "The tCommonGround optimization problem had no optimal solution.\n",
      "The tCommonGround optimization problem had no optimal solution.\n",
      "The CommonGround_entani optimization problem had no optimal solution.\n",
      "The CommonGround optimization problem had no optimal solution.\n",
      "The tCommonGround optimization problem had no optimal solution.\n",
      "The CommonGround_entani optimization problem had no optimal solution.\n",
      "The CommonGround optimization problem had no optimal solution.\n",
      "The tCommonGround optimization problem had no optimal solution.\n",
      "The CommonGround_entani optimization problem had no optimal solution.\n",
      "The CommonGround_entani optimization problem had no optimal solution."
     ]
    },
    {
     "name": "stdout",
     "output_type": "stream",
     "text": [
      "\n",
      "The CommonGround optimization problem had no optimal solution.\n",
      "The CommonGround optimization problem had no optimal solution.\n",
      "The tCommonGround optimization problem had no optimal solution.\n",
      "The tCommonGround optimization problem had no optimal solution.\n",
      "The CommonGround_entani optimization problem had no optimal solution.\n",
      "The CommonGround_entani optimization problem had no optimal solution.\n",
      "The CommonGround optimization problem had no optimal solution.\n",
      "The tCommonGround optimization problem had no optimal solution.\n",
      "The CommonGround optimization problem had no optimal solution.\n",
      "The tCommonGround optimization problem had no optimal solution.\n",
      "The CommonGround_entani optimization problem had no optimal solution.\n",
      "The CommonGround_entani optimization problem had no optimal solution."
     ]
    },
    {
     "name": "stdout",
     "output_type": "stream",
     "text": [
      "\n",
      "The CommonGround optimization problem had no optimal solution.\n",
      "The CommonGround optimization problem had no optimal solution.\n",
      "The tCommonGround optimization problem had no optimal solution.\n",
      "The CommonGround_entani optimization problem had no optimal solution.\n",
      "The CommonGround optimization problem had no optimal solution.\n",
      "The tCommonGround optimization problem had no optimal solution.\n",
      "The CommonGround_entani optimization problem had no optimal solution.\n",
      "The CommonGround optimization problem had no optimal solution.\n",
      "The tCommonGround optimization problem had no optimal solution.\n",
      "The CommonGround_entani optimization problem had no optimal solution.\n",
      "The CommonGround optimization problem had no optimal solution.\n",
      "The CommonGround_entani optimization problem had no optimal solution.\n",
      "The CommonGround optimization problem had no optimal solution.\n",
      "The tCommonGround optimization problem had no optimal solution.\n",
      "The tCommonGround optimization problem had no optimal solution.\n"
     ]
    },
    {
     "name": "stdout",
     "output_type": "stream",
     "text": [
      "The CommonGround_entani optimization problem had no optimal solution.\n",
      "The CommonGround_entani optimization problem had no optimal solution.\n",
      "The CommonGround optimization problem had no optimal solution.\n",
      "The CommonGround optimization problem had no optimal solution.\n",
      "The tCommonGround optimization problem had no optimal solution.\n",
      "The tCommonGround optimization problem had no optimal solution.\n"
     ]
    },
    {
     "name": "stdout",
     "output_type": "stream",
     "text": [
      "The CommonGround_entani optimization problem had no optimal solution.\n",
      "The CommonGround_entani optimization problem had no optimal solution.\n",
      "The CommonGround optimization problem had no optimal solution.\n",
      "The CommonGround optimization problem had no optimal solution.\n",
      "The tCommonGround optimization problem had no optimal solution.\n",
      "The tCommonGround optimization problem had no optimal solution.\n",
      "The CommonGround_entani optimization problem had no optimal solution.\n",
      "The CommonGround optimization problem had no optimal solution.\n",
      "The CommonGround_entani optimization problem had no optimal solution.\n",
      "The tCommonGround optimization problem had no optimal solution.\n",
      "The CommonGround_entani optimization problem had no optimal solution.\n",
      "The CommonGround optimization problem had no optimal solution.\n",
      "The CommonGround optimization problem had no optimal solution.\n",
      "The tCommonGround optimization problem had no optimal solution.\n",
      "The tCommonGround optimization problem had no optimal solution.\n"
     ]
    },
    {
     "name": "stdout",
     "output_type": "stream",
     "text": [
      "The CommonGround_entani optimization problem had no optimal solution.\n",
      "The CommonGround optimization problem had no optimal solution.\n",
      "The tCommonGround optimization problem had no optimal solution.\n",
      "The CommonGround_entani optimization problem had no optimal solution.\n",
      "The CommonGround optimization problem had no optimal solution.\n",
      "The tCommonGround optimization problem had no optimal solution.\n",
      "The CommonGround_entani optimization problem had no optimal solution.\n",
      "The CommonGround_entani optimization problem had no optimal solution.\n",
      "The CommonGround optimization problem had no optimal solution.\n",
      "The tCommonGround optimization problem had no optimal solution.\n",
      "The CommonGround optimization problem had no optimal solution.\n",
      "The tCommonGround optimization problem had no optimal solution.\n",
      "The CommonGround_entani optimization problem had no optimal solution.\n",
      "The CommonGround optimization problem had no optimal solution.\n",
      "The tCommonGround optimization problem had no optimal solution.\n",
      "The CommonGround_entani optimization problem had no optimal solution.\n",
      "The CommonGround_entani optimization problem had no optimal solution.\n",
      "The CommonGround_entani optimization problem had no optimal solution."
     ]
    },
    {
     "name": "stdout",
     "output_type": "stream",
     "text": [
      "\n",
      "The CommonGround optimization problem had no optimal solution.\n",
      "The CommonGround optimization problem had no optimal solution.\n",
      "The tCommonGround optimization problem had no optimal solution.\n",
      "The CommonGround optimization problem had no optimal solution.\n",
      "The tCommonGround optimization problem had no optimal solution.\n",
      "The tCommonGround optimization problem had no optimal solution.\n"
     ]
    },
    {
     "name": "stdout",
     "output_type": "stream",
     "text": [
      "The CommonGround_entani optimization problem had no optimal solution.\n",
      "The CommonGround optimization problem had no optimal solution.\n",
      "The tCommonGround optimization problem had no optimal solution.\n",
      "The CommonGround_entani optimization problem had no optimal solution.\n",
      "The CommonGround optimization problem had no optimal solution.\n",
      "The CommonGround_entani optimization problem had no optimal solution.\n",
      "The tCommonGround optimization problem had no optimal solution.\n",
      "The CommonGround optimization problem had no optimal solution.\n",
      "The CommonGround_entani optimization problem had no optimal solution.\n",
      "The tCommonGround optimization problem had no optimal solution.\n",
      "The CommonGround optimization problem had no optimal solution.\n",
      "The tCommonGround optimization problem had no optimal solution.\n",
      "The CommonGround_entani optimization problem had no optimal solution.\n",
      "The CommonGround_entani optimization problem had no optimal solution.\n",
      "The CommonGround optimization problem had no optimal solution.\n",
      "The tCommonGround optimization problem had no optimal solution.\n",
      "The CommonGround_entani optimization problem had no optimal solution.\n",
      "The CommonGround optimization problem had no optimal solution.\n",
      "The tCommonGround optimization problem had no optimal solution.\n",
      "The CommonGround_entani optimization problem had no optimal solution."
     ]
    },
    {
     "name": "stdout",
     "output_type": "stream",
     "text": [
      "\n",
      "The CommonGround optimization problem had no optimal solution.\n",
      "The tCommonGround optimization problem had no optimal solution.\n",
      "The CommonGround_entani optimization problem had no optimal solution.\n",
      "The CommonGround optimization problem had no optimal solution.\n",
      "The CommonGround_entani optimization problem had no optimal solution.\n",
      "The tCommonGround optimization problem had no optimal solution.\n",
      "The CommonGround optimization problem had no optimal solution.\n",
      "The tCommonGround optimization problem had no optimal solution.\n",
      "The CommonGround_entani optimization problem had no optimal solution.\n",
      "The CommonGround optimization problem had no optimal solution.\n",
      "The tCommonGround optimization problem had no optimal solution.\n",
      "The CommonGround_entani optimization problem had no optimal solution."
     ]
    },
    {
     "name": "stdout",
     "output_type": "stream",
     "text": [
      "\n"
     ]
    },
    {
     "name": "stdout",
     "output_type": "stream",
     "text": [
      "The CommonGround optimization problem had no optimal solution.\n",
      "The tCommonGround optimization problem had no optimal solution.\n",
      "The CommonGround_entani optimization problem had no optimal solution.\n",
      "The CommonGround optimization problem had no optimal solution.\n",
      "The CommonGround optimization problem had no optimal solution.\n",
      "The tCommonGround optimization problem had no optimal solution.\n",
      "The CommonGround_entani optimization problem had no optimal solution.\n",
      "The CommonGround optimization problem had no optimal solution.\n",
      "The tCommonGround optimization problem had no optimal solution.\n",
      "The CommonGround_entani optimization problem had no optimal solution."
     ]
    },
    {
     "name": "stdout",
     "output_type": "stream",
     "text": [
      "\n",
      "The CommonGround optimization problem had no optimal solution.\n",
      "The CommonGround_entani optimization problem had no optimal solution.\n",
      "The tCommonGround optimization problem had no optimal solution.\n"
     ]
    },
    {
     "name": "stdout",
     "output_type": "stream",
     "text": [
      "The CommonGround_entani optimization problem had no optimal solution.\n",
      "The CommonGround optimization problem had no optimal solution.\n",
      "The CommonGround optimization problem had no optimal solution.\n",
      "The tCommonGround optimization problem had no optimal solution.\n",
      "The CommonGround_entani optimization problem had no optimal solution.\n",
      "The CommonGround optimization problem had no optimal solution.\n",
      "The tCommonGround optimization problem had no optimal solution.\n",
      "The CommonGround_entani optimization problem had no optimal solution.\n",
      "The CommonGround_entani optimization problem had no optimal solution.\n",
      "The CommonGround optimization problem had no optimal solution.\n",
      "The CommonGround optimization problem had no optimal solution.\n",
      "The tCommonGround optimization problem had no optimal solution.\n",
      "The tCommonGround optimization problem had no optimal solution.\n"
     ]
    },
    {
     "name": "stdout",
     "output_type": "stream",
     "text": [
      "The CommonGround_entani optimization problem had no optimal solution.\n",
      "The CommonGround optimization problem had no optimal solution.\n",
      "The CommonGround_entani optimization problem had no optimal solution.\n",
      "The CommonGround optimization problem had no optimal solution.\n",
      "The tCommonGround optimization problem had no optimal solution.\n",
      "The tCommonGround optimization problem had no optimal solution.\n",
      "The CommonGround_entani optimization problem had no optimal solution.\n",
      "The CommonGround optimization problem had no optimal solution.\n",
      "The tCommonGround optimization problem had no optimal solution.\n",
      "The CommonGround_entani optimization problem had no optimal solution.\n",
      "The CommonGround optimization problem had no optimal solution.\n",
      "The tCommonGround optimization problem had no optimal solution.\n",
      "The CommonGround_entani optimization problem had no optimal solution."
     ]
    },
    {
     "name": "stdout",
     "output_type": "stream",
     "text": [
      "\n",
      "The CommonGround optimization problem had no optimal solution.\n",
      "The tCommonGround optimization problem had no optimal solution.\n",
      "The CommonGround_entani optimization problem had no optimal solution.\n",
      "The CommonGround optimization problem had no optimal solution.\n",
      "The CommonGround_entani optimization problem had no optimal solution.\n",
      "The tCommonGround optimization problem had no optimal solution.\n",
      "The CommonGround optimization problem had no optimal solution.\n",
      "The CommonGround_entani optimization problem had no optimal solution.\n",
      "The tCommonGround optimization problem had no optimal solution.\n",
      "The CommonGround optimization problem had no optimal solution.\n",
      "The tCommonGround optimization problem had no optimal solution.\n",
      "The CommonGround_entani optimization problem had no optimal solution."
     ]
    },
    {
     "name": "stdout",
     "output_type": "stream",
     "text": [
      "\n"
     ]
    },
    {
     "name": "stdout",
     "output_type": "stream",
     "text": [
      "The CommonGround optimization problem had no optimal solution.\n",
      "The tCommonGround optimization problem had no optimal solution.\n",
      "The CommonGround_entani optimization problem had no optimal solution.\n",
      "The CommonGround optimization problem had no optimal solution.\n",
      "The CommonGround_entani optimization problem had no optimal solution.\n",
      "The tCommonGround optimization problem had no optimal solution.\n",
      "The CommonGround optimization problem had no optimal solution.\n",
      "The CommonGround_entani optimization problem had no optimal solution.\n",
      "The CommonGround optimization problem had no optimal solution.\n",
      "The tCommonGround optimization problem had no optimal solution.\n",
      "The tCommonGround optimization problem had no optimal solution.\n",
      "The CommonGround_entani optimization problem had no optimal solution."
     ]
    },
    {
     "name": "stdout",
     "output_type": "stream",
     "text": [
      "\n",
      "The CommonGround optimization problem had no optimal solution.\n"
     ]
    },
    {
     "name": "stdout",
     "output_type": "stream",
     "text": [
      "The tCommonGround optimization problem had no optimal solution.\n",
      "The CommonGround_entani optimization problem had no optimal solution.\n",
      "The CommonGround optimization problem had no optimal solution.\n",
      "The CommonGround_entani optimization problem had no optimal solution.\n",
      "The CommonGround optimization problem had no optimal solution.\n",
      "The tCommonGround optimization problem had no optimal solution.\n",
      "The tCommonGround optimization problem had no optimal solution.\n",
      "The CommonGround_entani optimization problem had no optimal solution.\n",
      "The CommonGround optimization problem had no optimal solution.\n",
      "The tCommonGround optimization problem had no optimal solution.\n",
      "The CommonGround_entani optimization problem had no optimal solution."
     ]
    },
    {
     "name": "stdout",
     "output_type": "stream",
     "text": [
      "\n",
      "The CommonGround_entani optimization problem had no optimal solution.\n",
      "The CommonGround optimization problem had no optimal solution.\n",
      "The CommonGround optimization problem had no optimal solution.\n",
      "The CommonGround_entani optimization problem had no optimal solution.\n",
      "The tCommonGround optimization problem had no optimal solution.\n",
      "The tCommonGround optimization problem had no optimal solution.\n",
      "The CommonGround optimization problem had no optimal solution.\n",
      "The tCommonGround optimization problem had no optimal solution.\n",
      "The CommonGround_entani optimization problem had no optimal solution.\n",
      "The CommonGround optimization problem had no optimal solution.\n",
      "The tCommonGround optimization problem had no optimal solution.\n",
      "The CommonGround_entani optimization problem had no optimal solution."
     ]
    },
    {
     "name": "stdout",
     "output_type": "stream",
     "text": [
      "\n",
      "The CommonGround optimization problem had no optimal solution.\n"
     ]
    },
    {
     "name": "stdout",
     "output_type": "stream",
     "text": [
      "The CommonGround_entani optimization problem had no optimal solution.\n",
      "The CommonGround optimization problem had no optimal solution.\n",
      "The tCommonGround optimization problem had no optimal solution.\n",
      "The CommonGround_entani optimization problem had no optimal solution.\n",
      "The CommonGround optimization problem had no optimal solution.\n",
      "The tCommonGround optimization problem had no optimal solution.\n",
      "The CommonGround_entani optimization problem had no optimal solution.\n",
      "The CommonGround optimization problem had no optimal solution.\n",
      "The tCommonGround optimization problem had no optimal solution.\n",
      "The CommonGround_entani optimization problem had no optimal solution.\n",
      "The CommonGround optimization problem had no optimal solution.\n",
      "The tCommonGround optimization problem had no optimal solution.\n"
     ]
    },
    {
     "name": "stdout",
     "output_type": "stream",
     "text": [
      "The CommonGround_entani optimization problem had no optimal solution.\n",
      "The CommonGround optimization problem had no optimal solution.\n",
      "The CommonGround_entani optimization problem had no optimal solution.\n",
      "The tCommonGround optimization problem had no optimal solution.\n",
      "The CommonGround optimization problem had no optimal solution.\n",
      "The tCommonGround optimization problem had no optimal solution.\n",
      "The CommonGround_entani optimization problem had no optimal solution.\n",
      "The CommonGround optimization problem had no optimal solution.\n",
      "The CommonGround_entani optimization problem had no optimal solution.\n",
      "The tCommonGround optimization problem had no optimal solution.\n",
      "The CommonGround optimization problem had no optimal solution.\n",
      "The tCommonGround optimization problem had no optimal solution.\n",
      "The CommonGround_entani optimization problem had no optimal solution.\n",
      "The CommonGround_entani optimization problem had no optimal solution.\n",
      "The CommonGround optimization problem had no optimal solution.\n",
      "The CommonGround optimization problem had no optimal solution.\n",
      "The tCommonGround optimization problem had no optimal solution.\n",
      "The tCommonGround optimization problem had no optimal solution.\n",
      "The CommonGround optimization problem had no optimal solution.\n",
      "The CommonGround_entani optimization problem had no optimal solution."
     ]
    },
    {
     "name": "stdout",
     "output_type": "stream",
     "text": [
      "\n",
      "The CommonGround optimization problem had no optimal solution.\n",
      "The CommonGround_entani optimization problem had no optimal solution.\n",
      "The CommonGround_entani optimization problem had no optimal solution.\n",
      "The CommonGround optimization problem had no optimal solution.\n",
      "The CommonGround optimization problem had no optimal solution.\n",
      "The tCommonGround optimization problem had no optimal solution.\n",
      "The CommonGround_entani optimization problem had no optimal solution.\n",
      "The CommonGround_entani optimization problem had no optimal solution."
     ]
    },
    {
     "name": "stdout",
     "output_type": "stream",
     "text": [
      "\n",
      "The CommonGround optimization problem had no optimal solution.\n",
      "The CommonGround optimization problem had no optimal solution.\n",
      "The tCommonGround optimization problem had no optimal solution.\n",
      "The tCommonGround optimization problem had no optimal solution.\n",
      "The CommonGround_entani optimization problem had no optimal solution.\n",
      "The CommonGround optimization problem had no optimal solution.\n",
      "The CommonGround_entani optimization problem had no optimal solution.\n",
      "The CommonGround optimization problem had no optimal solution.\n",
      "The tCommonGround optimization problem had no optimal solution.\n",
      "The CommonGround_entani optimization problem had no optimal solution.\n",
      "The CommonGround optimization problem had no optimal solution."
     ]
    },
    {
     "name": "stdout",
     "output_type": "stream",
     "text": [
      "\n"
     ]
    },
    {
     "name": "stdout",
     "output_type": "stream",
     "text": [
      "The CommonGround_entani optimization problem had no optimal solution.\n",
      "The CommonGround optimization problem had no optimal solution.\n",
      "The CommonGround_entani optimization problem had no optimal solution.\n",
      "The CommonGround optimization problem had no optimal solution.\n",
      "The tCommonGround optimization problem had no optimal solution.\n",
      "The tCommonGround optimization problem had no optimal solution.\n"
     ]
    },
    {
     "name": "stdout",
     "output_type": "stream",
     "text": [
      "The CommonGround_entani optimization problem had no optimal solution.\n",
      "The CommonGround optimization problem had no optimal solution.\n",
      "The CommonGround_entani optimization problem had no optimal solution.\n",
      "The tCommonGround optimization problem had no optimal solution.\n",
      "The CommonGround_entani optimization problem had no optimal solution.\n",
      "The CommonGround optimization problem had no optimal solution.\n",
      "The CommonGround optimization problem had no optimal solution.\n",
      "The tCommonGround optimization problem had no optimal solution.\n",
      "The tCommonGround optimization problem had no optimal solution.\n",
      "The CommonGround_entani optimization problem had no optimal solution.\n",
      "The CommonGround optimization problem had no optimal solution.\n",
      "The tCommonGround optimization problem had no optimal solution.\n",
      "The CommonGround_entani optimization problem had no optimal solution.\n",
      "The CommonGround_entani optimization problem had no optimal solution."
     ]
    },
    {
     "name": "stdout",
     "output_type": "stream",
     "text": [
      "\n",
      "The CommonGround optimization problem had no optimal solution.\n",
      "The CommonGround optimization problem had no optimal solution.\n",
      "The CommonGround_entani optimization problem had no optimal solution.\n",
      "The CommonGround optimization problem had no optimal solution.\n",
      "The tCommonGround optimization problem had no optimal solution.\n",
      "The tCommonGround optimization problem had no optimal solution.\n"
     ]
    },
    {
     "name": "stdout",
     "output_type": "stream",
     "text": [
      "The CommonGround_entani optimization problem had no optimal solution.\n",
      "The CommonGround optimization problem had no optimal solution.\n",
      "The tCommonGround optimization problem had no optimal solution.\n",
      "The CommonGround_entani optimization problem had no optimal solution.\n"
     ]
    },
    {
     "name": "stdout",
     "output_type": "stream",
     "text": [
      "The CommonGround_entani optimization problem had no optimal solution.\n",
      "The CommonGround_entani optimization problem had no optimal solution.\n",
      "The CommonGround_entani optimization problem had no optimal solution.\n",
      "The CommonGround optimization problem had no optimal solution.\n",
      "The CommonGround optimization problem had no optimal solution.\n",
      "The tCommonGround optimization problem had no optimal solution.\n",
      "The CommonGround optimization problem had no optimal solution.\n",
      "The CommonGround optimization problem had no optimal solution.\n",
      "The tCommonGround optimization problem had no optimal solution.\n",
      "The tCommonGround optimization problem had no optimal solution.\n",
      "The tCommonGround optimization problem had no optimal solution.\n",
      "The CommonGround_entani optimization problem had no optimal solution.\n",
      "The CommonGround optimization problem had no optimal solution.\n",
      "The tCommonGround optimization problem had no optimal solution.\n",
      "The CommonGround_entani optimization problem had no optimal solution.\n",
      "The CommonGround optimization problem had no optimal solution.\n",
      "The CommonGround_entani optimization problem had no optimal solution."
     ]
    },
    {
     "name": "stdout",
     "output_type": "stream",
     "text": [
      "\n",
      "The tCommonGround optimization problem had no optimal solution.\n",
      "The CommonGround optimization problem had no optimal solution."
     ]
    },
    {
     "name": "stdout",
     "output_type": "stream",
     "text": [
      "\n",
      "The CommonGround_entani optimization problem had no optimal solution.\n",
      "The tCommonGround optimization problem had no optimal solution.\n",
      "The CommonGround_entani optimization problem had no optimal solution.\n",
      "The CommonGround optimization problem had no optimal solution.\n",
      "The CommonGround optimization problem had no optimal solution.\n",
      "The tCommonGround optimization problem had no optimal solution.\n",
      "The tCommonGround optimization problem had no optimal solution.\n",
      "The CommonGround_entani optimization problem had no optimal solution."
     ]
    },
    {
     "name": "stdout",
     "output_type": "stream",
     "text": [
      "\n",
      "The CommonGround_entani optimization problem had no optimal solution.\n",
      "The CommonGround optimization problem had no optimal solution.\n",
      "The CommonGround optimization problem had no optimal solution.\n",
      "The tCommonGround optimization problem had no optimal solution.\n",
      "The CommonGround_entani optimization problem had no optimal solution.\n",
      "The tCommonGround optimization problem had no optimal solution.\n",
      "The CommonGround optimization problem had no optimal solution.\n",
      "The tCommonGround optimization problem had no optimal solution.\n",
      "The CommonGround_entani optimization problem had no optimal solution.\n",
      "The CommonGround optimization problem had no optimal solution.\n",
      "The tCommonGround optimization problem had no optimal solution.\n",
      "The CommonGround_entani optimization problem had no optimal solution."
     ]
    },
    {
     "name": "stdout",
     "output_type": "stream",
     "text": [
      "\n"
     ]
    },
    {
     "name": "stdout",
     "output_type": "stream",
     "text": [
      "The CommonGround optimization problem had no optimal solution.\n",
      "The CommonGround_entani optimization problem had no optimal solution.\n",
      "The tCommonGround optimization problem had no optimal solution.\n",
      "The CommonGround optimization problem had no optimal solution.\n",
      "The CommonGround_entani optimization problem had no optimal solution.\n",
      "The tCommonGround optimization problem had no optimal solution.\n",
      "The CommonGround optimization problem had no optimal solution.\n",
      "The tCommonGround optimization problem had no optimal solution.\n",
      "The CommonGround_entani optimization problem had no optimal solution.\n",
      "The CommonGround optimization problem had no optimal solution.\n",
      "The tCommonGround optimization problem had no optimal solution.\n",
      "The CommonGround_entani optimization problem had no optimal solution.\n",
      "The CommonGround_entani optimization problem had no optimal solution.\n",
      "The CommonGround optimization problem had no optimal solution.\n",
      "The CommonGround_entani optimization problem had no optimal solution."
     ]
    },
    {
     "name": "stdout",
     "output_type": "stream",
     "text": [
      "\n",
      "The CommonGround optimization problem had no optimal solution.\n",
      "The tCommonGround optimization problem had no optimal solution.\n",
      "The tCommonGround optimization problem had no optimal solution.\n"
     ]
    },
    {
     "name": "stdout",
     "output_type": "stream",
     "text": [
      "The CommonGround_entani optimization problem had no optimal solution.\n",
      "The CommonGround_entani optimization problem had no optimal solution.\n",
      "The CommonGround optimization problem had no optimal solution.\n",
      "The CommonGround optimization problem had no optimal solution.\n",
      "The tCommonGround optimization problem had no optimal solution.\n",
      "The tCommonGround optimization problem had no optimal solution.\n",
      "The CommonGround_entani optimization problem had no optimal solution.\n",
      "The CommonGround optimization problem had no optimal solution.\n",
      "The CommonGround_entani optimization problem had no optimal solution.\n",
      "The tCommonGround optimization problem had no optimal solution.\n",
      "The CommonGround optimization problem had no optimal solution.\n",
      "The tCommonGround optimization problem had no optimal solution.\n",
      "The CommonGround_entani optimization problem had no optimal solution.\n",
      "The CommonGround_entani optimization problem had no optimal solution.\n",
      "The CommonGround optimization problem had no optimal solution.\n",
      "The CommonGround optimization problem had no optimal solution.\n",
      "The tCommonGround optimization problem had no optimal solution.\n",
      "The CommonGround_entani optimization problem had no optimal solution."
     ]
    },
    {
     "name": "stdout",
     "output_type": "stream",
     "text": [
      "\n",
      "The CommonGround optimization problem had no optimal solution.\n"
     ]
    },
    {
     "name": "stdout",
     "output_type": "stream",
     "text": [
      "The tCommonGround optimization problem had no optimal solution.\n",
      "The CommonGround_entani optimization problem had no optimal solution.\n",
      "The CommonGround optimization problem had no optimal solution.\n",
      "The CommonGround_entani optimization problem had no optimal solution.\n",
      "The CommonGround_entani optimization problem had no optimal solution.\n",
      "The tCommonGround optimization problem had no optimal solution.\n",
      "The CommonGround optimization problem had no optimal solution.\n",
      "The tCommonGround optimization problem had no optimal solution.\n",
      "The CommonGround optimization problem had no optimal solution.\n",
      "The tCommonGround optimization problem had no optimal solution.\n",
      "The CommonGround_entani optimization problem had no optimal solution."
     ]
    },
    {
     "name": "stdout",
     "output_type": "stream",
     "text": [
      "\n",
      "The CommonGround optimization problem had no optimal solution.\n",
      "The tCommonGround optimization problem had no optimal solution.\n"
     ]
    },
    {
     "name": "stdout",
     "output_type": "stream",
     "text": [
      "The CommonGround_entani optimization problem had no optimal solution.\n",
      "The CommonGround_entani optimization problem had no optimal solution.\n",
      "The CommonGround_entani optimization problem had no optimal solution.\n",
      "The CommonGround optimization problem had no optimal solution.\n",
      "The tCommonGround optimization problem had no optimal solution.\n",
      "The CommonGround optimization problem had no optimal solution.\n",
      "The CommonGround optimization problem had no optimal solution.\n",
      "The tCommonGround optimization problem had no optimal solution.\n",
      "The tCommonGround optimization problem had no optimal solution.\n",
      "The CommonGround_entani optimization problem had no optimal solution.\n"
     ]
    },
    {
     "name": "stdout",
     "output_type": "stream",
     "text": [
      "The CommonGround optimization problem had no optimal solution.\n",
      "The tCommonGround optimization problem had no optimal solution.\n",
      "The CommonGround_entani optimization problem had no optimal solution.\n",
      "The CommonGround optimization problem had no optimal solution.\n",
      "The CommonGround_entani optimization problem had no optimal solution.\n",
      "The tCommonGround optimization problem had no optimal solution.\n",
      "The CommonGround optimization problem had no optimal solution.\n",
      "The CommonGround_entani optimization problem had no optimal solution.\n",
      "The tCommonGround optimization problem had no optimal solution.\n",
      "The CommonGround optimization problem had no optimal solution.\n",
      "The tCommonGround optimization problem had no optimal solution.\n",
      "The CommonGround_entani optimization problem had no optimal solution."
     ]
    },
    {
     "name": "stdout",
     "output_type": "stream",
     "text": [
      "\n",
      "The CommonGround optimization problem had no optimal solution.\n"
     ]
    },
    {
     "name": "stdout",
     "output_type": "stream",
     "text": [
      "The CommonGround_entani optimization problem had no optimal solution.\n",
      "The tCommonGround optimization problem had no optimal solution.\n",
      "The CommonGround optimization problem had no optimal solution.\n",
      "The tCommonGround optimization problem had no optimal solution.\n",
      "The CommonGround_entani optimization problem had no optimal solution.\n",
      "The CommonGround optimization problem had no optimal solution.\n",
      "The tCommonGround optimization problem had no optimal solution.\n",
      "The CommonGround_entani optimization problem had no optimal solution.\n",
      "The CommonGround optimization problem had no optimal solution.\n",
      "The CommonGround_entani optimization problem had no optimal solution."
     ]
    },
    {
     "name": "stdout",
     "output_type": "stream",
     "text": [
      "\n"
     ]
    },
    {
     "name": "stdout",
     "output_type": "stream",
     "text": [
      "The CommonGround optimization problem had no optimal solution.\n",
      "The tCommonGround optimization problem had no optimal solution.\n",
      "The CommonGround_entani optimization problem had no optimal solution.\n",
      "The tCommonGround optimization problem had no optimal solution.\n",
      "The CommonGround optimization problem had no optimal solution.\n",
      "The tCommonGround optimization problem had no optimal solution.\n",
      "The CommonGround_entani optimization problem had no optimal solution.\n",
      "The CommonGround optimization problem had no optimal solution.\n",
      "The CommonGround_entani optimization problem had no optimal solution.\n",
      "The CommonGround optimization problem had no optimal solution.\n",
      "The CommonGround_entani optimization problem had no optimal solution."
     ]
    },
    {
     "name": "stdout",
     "output_type": "stream",
     "text": [
      "\n"
     ]
    },
    {
     "name": "stdout",
     "output_type": "stream",
     "text": [
      "The tCommonGround optimization problem had no optimal solution.\n",
      "The CommonGround_entani optimization problem had no optimal solution.\n",
      "The CommonGround optimization problem had no optimal solution.\n",
      "The CommonGround optimization problem had no optimal solution.\n",
      "The tCommonGround optimization problem had no optimal solution.\n",
      "The tCommonGround optimization problem had no optimal solution.\n"
     ]
    },
    {
     "name": "stdout",
     "output_type": "stream",
     "text": [
      "The CommonGround_entani optimization problem had no optimal solution.\n",
      "The CommonGround optimization problem had no optimal solution.\n",
      "The tCommonGround optimization problem had no optimal solution.\n",
      "The CommonGround_entani optimization problem had no optimal solution.\n",
      "The CommonGround optimization problem had no optimal solution.\n",
      "The CommonGround_entani optimization problem had no optimal solution.\n",
      "The tCommonGround optimization problem had no optimal solution.\n",
      "The CommonGround_entani optimization problem had no optimal solution.\n"
     ]
    },
    {
     "name": "stdout",
     "output_type": "stream",
     "text": [
      "The CommonGround optimization problem had no optimal solution.\n",
      "The CommonGround optimization problem had no optimal solution.\n",
      "The tCommonGround optimization problem had no optimal solution.\n",
      "The CommonGround_entani optimization problem had no optimal solution.\n",
      "The CommonGround optimization problem had no optimal solution.\n",
      "The tCommonGround optimization problem had no optimal solution.\n",
      "The CommonGround_entani optimization problem had no optimal solution.\n",
      "The tCommonGround optimization problem had no optimal solution.\n",
      "The CommonGround_entani optimization problem had no optimal solution."
     ]
    },
    {
     "name": "stdout",
     "output_type": "stream",
     "text": [
      "\n",
      "The CommonGround optimization problem had no optimal solution.\n"
     ]
    },
    {
     "name": "stdout",
     "output_type": "stream",
     "text": [
      "The CommonGround_entani optimization problem had no optimal solution.\n",
      "The CommonGround optimization problem had no optimal solution.\n",
      "The tCommonGround optimization problem had no optimal solution.\n",
      "The CommonGround_entani optimization problem had no optimal solution.\n",
      "The CommonGround optimization problem had no optimal solution.\n",
      "The CommonGround_entani optimization problem had no optimal solution.\n",
      "The tCommonGround optimization problem had no optimal solution.\n",
      "The CommonGround_entani optimization problem had no optimal solution.\n",
      "The CommonGround optimization problem had no optimal solution.\n",
      "The CommonGround optimization problem had no optimal solution.\n",
      "The tCommonGround optimization problem had no optimal solution.\n",
      "The CommonGround_entani optimization problem had no optimal solution.\n",
      "The CommonGround optimization problem had no optimal solution.\n",
      "The tCommonGround optimization problem had no optimal solution.\n",
      "The CommonGround_entani optimization problem had no optimal solution.\n",
      "The CommonGround optimization problem had no optimal solution.\n",
      "The tCommonGround optimization problem had no optimal solution.\n",
      "The CommonGround_entani optimization problem had no optimal solution."
     ]
    },
    {
     "name": "stdout",
     "output_type": "stream",
     "text": [
      "\n",
      "The CommonGround_entani optimization problem had no optimal solution.\n",
      "The CommonGround optimization problem had no optimal solution.\n",
      "The CommonGround optimization problem had no optimal solution.\n",
      "The tCommonGround optimization problem had no optimal solution.\n",
      "The tCommonGround optimization problem had no optimal solution.\n",
      "The CommonGround_entani optimization problem had no optimal solution.\n",
      "The CommonGround optimization problem had no optimal solution.\n",
      "The tCommonGround optimization problem had no optimal solution.\n",
      "The CommonGround_entani optimization problem had no optimal solution.\n",
      "The CommonGround optimization problem had no optimal solution.\n",
      "The CommonGround_entani optimization problem had no optimal solution."
     ]
    },
    {
     "name": "stdout",
     "output_type": "stream",
     "text": [
      "\n",
      "The tCommonGround optimization problem had no optimal solution.\n",
      "The CommonGround_entani optimization problem had no optimal solution.\n",
      "The CommonGround optimization problem had no optimal solution.\n",
      "The CommonGround optimization problem had no optimal solution.\n",
      "The tCommonGround optimization problem had no optimal solution.\n",
      "The tCommonGround optimization problem had no optimal solution.\n",
      "The CommonGround_entani optimization problem had no optimal solution.\n",
      "The CommonGround optimization problem had no optimal solution.\n",
      "The tCommonGround optimization problem had no optimal solution.\n",
      "The CommonGround_entani optimization problem had no optimal solution.\n",
      "The CommonGround optimization problem had no optimal solution.\n",
      "The tCommonGround optimization problem had no optimal solution.\n",
      "The CommonGround_entani optimization problem had no optimal solution."
     ]
    },
    {
     "name": "stdout",
     "output_type": "stream",
     "text": [
      "\n"
     ]
    },
    {
     "name": "stdout",
     "output_type": "stream",
     "text": [
      "The CommonGround_entani optimization problem had no optimal solution.\n",
      "The CommonGround optimization problem had no optimal solution.\n",
      "The CommonGround optimization problem had no optimal solution.\n",
      "The tCommonGround optimization problem had no optimal solution.\n",
      "The tCommonGround optimization problem had no optimal solution.\n",
      "The CommonGround_entani optimization problem had no optimal solution.\n",
      "The CommonGround optimization problem had no optimal solution.\n",
      "The tCommonGround optimization problem had no optimal solution.\n",
      "The CommonGround_entani optimization problem had no optimal solution.\n",
      "The CommonGround optimization problem had no optimal solution.\n",
      "The tCommonGround optimization problem had no optimal solution.\n",
      "The CommonGround_entani optimization problem had no optimal solution."
     ]
    },
    {
     "name": "stdout",
     "output_type": "stream",
     "text": [
      "\n",
      "The CommonGround_entani optimization problem had no optimal solution.\n",
      "The CommonGround optimization problem had no optimal solution.\n",
      "The CommonGround optimization problem had no optimal solution.\n",
      "The tCommonGround optimization problem had no optimal solution.\n",
      "The tCommonGround optimization problem had no optimal solution.\n",
      "The CommonGround_entani optimization problem had no optimal solution.\n",
      "The CommonGround optimization problem had no optimal solution.\n",
      "The tCommonGround optimization problem had no optimal solution.\n",
      "The CommonGround_entani optimization problem had no optimal solution.\n",
      "The CommonGround optimization problem had no optimal solution.\n",
      "The tCommonGround optimization problem had no optimal solution.\n",
      "The CommonGround_entani optimization problem had no optimal solution.\n",
      "The CommonGround optimization problem had no optimal solution.\n",
      "The CommonGround_entani optimization problem had no optimal solution.\n",
      "The CommonGround optimization problem had no optimal solution.\n",
      "The tCommonGround optimization problem had no optimal solution.\n",
      "The CommonGround_entani optimization problem had no optimal solution.\n",
      "The CommonGround optimization problem had no optimal solution.\n",
      "The tCommonGround optimization problem had no optimal solution.\n",
      "The CommonGround_entani optimization problem had no optimal solution.\n",
      "The CommonGround_entani optimization problem had no optimal solution."
     ]
    },
    {
     "name": "stdout",
     "output_type": "stream",
     "text": [
      "\n",
      "The CommonGround optimization problem had no optimal solution.\n",
      "The CommonGround optimization problem had no optimal solution.\n",
      "The tCommonGround optimization problem had no optimal solution.\n",
      "The tCommonGround optimization problem had no optimal solution.\n"
     ]
    },
    {
     "name": "stdout",
     "output_type": "stream",
     "text": [
      "The CommonGround_entani optimization problem had no optimal solution.\n",
      "The CommonGround optimization problem had no optimal solution.\n",
      "The tCommonGround optimization problem had no optimal solution.\n",
      "The CommonGround_entani optimization problem had no optimal solution.\n",
      "The CommonGround optimization problem had no optimal solution.\n",
      "The tCommonGround optimization problem had no optimal solution.\n",
      "The CommonGround_entani optimization problem had no optimal solution.\n",
      "The CommonGround_entani optimization problem had no optimal solution.\n",
      "The CommonGround optimization problem had no optimal solution.\n",
      "The CommonGround optimization problem had no optimal solution."
     ]
    },
    {
     "name": "stdout",
     "output_type": "stream",
     "text": [
      "\n",
      "The CommonGround_entani optimization problem had no optimal solution.\n",
      "The tCommonGround optimization problem had no optimal solution.\n",
      "The CommonGround optimization problem had no optimal solution.\n",
      "The tCommonGround optimization problem had no optimal solution.\n",
      "The tCommonGround optimization problem had no optimal solution."
     ]
    },
    {
     "name": "stdout",
     "output_type": "stream",
     "text": [
      "\n",
      "The CommonGround_entani optimization problem had no optimal solution.\n",
      "The CommonGround optimization problem had no optimal solution.\n",
      "The CommonGround_entani optimization problem had no optimal solution.\n",
      "The CommonGround optimization problem had no optimal solution.\n",
      "The CommonGround_entani optimization problem had no optimal solution."
     ]
    },
    {
     "name": "stdout",
     "output_type": "stream",
     "text": [
      "\n",
      "The CommonGround_entani optimization problem had no optimal solution.\n",
      "The CommonGround optimization problem had no optimal solution.\n",
      "The CommonGround optimization problem had no optimal solution.\n",
      "The tCommonGround optimization problem had no optimal solution.\n",
      "The tCommonGround optimization problem had no optimal solution.\n",
      "The tCommonGround optimization problem had no optimal solution."
     ]
    },
    {
     "name": "stdout",
     "output_type": "stream",
     "text": [
      "\n",
      "The CommonGround_entani optimization problem had no optimal solution.\n",
      "The CommonGround optimization problem had no optimal solution.\n",
      "The tCommonGround optimization problem had no optimal solution.\n",
      "The CommonGround_entani optimization problem had no optimal solution.\n",
      "The CommonGround_entani optimization problem had no optimal solution.\n",
      "The CommonGround_entani optimization problem had no optimal solution.\n",
      "The CommonGround optimization problem had no optimal solution.\n",
      "The CommonGround_entani optimization problem had no optimal solution."
     ]
    },
    {
     "name": "stdout",
     "output_type": "stream",
     "text": [
      "\n",
      "The CommonGround optimization problem had no optimal solution.\n",
      "The CommonGround optimization problem had no optimal solution.\n",
      "The CommonGround optimization problem had no optimal solution.\n",
      "The tCommonGround optimization problem had no optimal solution.\n",
      "The tCommonGround optimization problem had no optimal solution.\n",
      "The tCommonGround optimization problem had no optimal solution.\n",
      "The tCommonGround optimization problem had no optimal solution.\n",
      "The CommonGround_entani optimization problem had no optimal solution."
     ]
    },
    {
     "name": "stdout",
     "output_type": "stream",
     "text": [
      "\n",
      "The CommonGround_entani optimization problem had no optimal solution.\n",
      "The CommonGround_entani optimization problem had no optimal solution.\n",
      "The CommonGround_entani optimization problem had no optimal solution.\n",
      "The CommonGround optimization problem had no optimal solution.\n",
      "The CommonGround optimization problem had no optimal solution.\n",
      "The CommonGround optimization problem had no optimal solution.\n",
      "The tCommonGround optimization problem had no optimal solution.\n",
      "The tCommonGround optimization problem had no optimal solution.\n",
      "The tCommonGround optimization problem had no optimal solution.\n",
      "The CommonGround_entani optimization problem had no optimal solution."
     ]
    },
    {
     "name": "stdout",
     "output_type": "stream",
     "text": [
      "\n",
      "The CommonGround_entani optimization problem had no optimal solution.\n",
      "The CommonGround_entani optimization problem had no optimal solution.\n",
      "The CommonGround optimization problem had no optimal solution.\n",
      "The CommonGround_entani optimization problem had no optimal solution.\n",
      "The CommonGround optimization problem had no optimal solution.\n",
      "The tCommonGround optimization problem had no optimal solution.\n",
      "The CommonGround optimization problem had no optimal solution.\n",
      "The CommonGround optimization problem had no optimal solution.\n",
      "The tCommonGround optimization problem had no optimal solution.\n",
      "The tCommonGround optimization problem had no optimal solution.\n",
      "The tCommonGround optimization problem had no optimal solution.\n",
      "The CommonGround_entani optimization problem had no optimal solution."
     ]
    },
    {
     "name": "stdout",
     "output_type": "stream",
     "text": [
      "\n",
      "The CommonGround optimization problem had no optimal solution.\n",
      "The CommonGround_entani optimization problem had no optimal solution.\n",
      "The CommonGround_entani optimization problem had no optimal solution.\n",
      "The CommonGround optimization problem had no optimal solution.\n",
      "The CommonGround optimization problem had no optimal solution.\n",
      "The tCommonGround optimization problem had no optimal solution.\n",
      "The CommonGround_entani optimization problem had no optimal solution.\n",
      "The tCommonGround optimization problem had no optimal solution.\n",
      "The tCommonGround optimization problem had no optimal solution.\n",
      "The CommonGround optimization problem had no optimal solution.\n",
      "The tCommonGround optimization problem had no optimal solution.\n",
      "The CommonGround_entani optimization problem had no optimal solution."
     ]
    },
    {
     "name": "stdout",
     "output_type": "stream",
     "text": [
      "\n"
     ]
    },
    {
     "name": "stdout",
     "output_type": "stream",
     "text": [
      "The CommonGround_entani optimization problem had no optimal solution.\n",
      "The CommonGround optimization problem had no optimal solution.\n",
      "The CommonGround optimization problem had no optimal solution.\n",
      "The tCommonGround optimization problem had no optimal solution.\n",
      "The tCommonGround optimization problem had no optimal solution.\n",
      "The CommonGround_entani optimization problem had no optimal solution.\n",
      "The CommonGround_entani optimization problem had no optimal solution.\n",
      "The CommonGround optimization problem had no optimal solution.\n",
      "The CommonGround optimization problem had no optimal solution.\n",
      "The tCommonGround optimization problem had no optimal solution.\n",
      "The tCommonGround optimization problem had no optimal solution.\n",
      "The CommonGround_entani optimization problem had no optimal solution."
     ]
    },
    {
     "name": "stdout",
     "output_type": "stream",
     "text": [
      "\n"
     ]
    },
    {
     "name": "stdout",
     "output_type": "stream",
     "text": [
      "The CommonGround optimization problem had no optimal solution.\n",
      "The tCommonGround optimization problem had no optimal solution.\n",
      "The CommonGround_entani optimization problem had no optimal solution.\n",
      "The CommonGround optimization problem had no optimal solution.\n",
      "The CommonGround_entani optimization problem had no optimal solution.\n",
      "The tCommonGround optimization problem had no optimal solution.\n",
      "The CommonGround optimization problem had no optimal solution.\n",
      "The tCommonGround optimization problem had no optimal solution.\n",
      "The CommonGround optimization problem had no optimal solution.\n",
      "The CommonGround_entani optimization problem had no optimal solution."
     ]
    },
    {
     "name": "stdout",
     "output_type": "stream",
     "text": [
      "\n",
      "The CommonGround optimization problem had no optimal solution.\n"
     ]
    },
    {
     "name": "stdout",
     "output_type": "stream",
     "text": [
      "The tCommonGround optimization problem had no optimal solution.\n",
      "The CommonGround_entani optimization problem had no optimal solution.\n",
      "The CommonGround optimization problem had no optimal solution.\n",
      "The tCommonGround optimization problem had no optimal solution.\n",
      "The CommonGround_entani optimization problem had no optimal solution.\n",
      "The CommonGround optimization problem had no optimal solution.\n",
      "The CommonGround_entani optimization problem had no optimal solution.\n",
      "The CommonGround optimization problem had no optimal solution.\n",
      "The tCommonGround optimization problem had no optimal solution.\n",
      "The CommonGround_entani optimization problem had no optimal solution."
     ]
    },
    {
     "name": "stdout",
     "output_type": "stream",
     "text": [
      "\n",
      "The CommonGround optimization problem had no optimal solution.\n"
     ]
    },
    {
     "name": "stdout",
     "output_type": "stream",
     "text": [
      "The tCommonGround optimization problem had no optimal solution.\n",
      "The CommonGround_entani optimization problem had no optimal solution.\n",
      "The CommonGround_entani optimization problem had no optimal solution.\n",
      "The CommonGround_entani optimization problem had no optimal solution.\n",
      "The CommonGround optimization problem had no optimal solution.\n",
      "The CommonGround optimization problem had no optimal solution.\n",
      "The tCommonGround optimization problem had no optimal solution.\n",
      "The tCommonGround optimization problem had no optimal solution.\n",
      "The CommonGround optimization problem had no optimal solution.\n",
      "The tCommonGround optimization problem had no optimal solution.\n"
     ]
    },
    {
     "name": "stdout",
     "output_type": "stream",
     "text": [
      "The CommonGround_entani optimization problem had no optimal solution.\n",
      "The CommonGround_entani optimization problem had no optimal solution.\n",
      "The CommonGround optimization problem had no optimal solution.\n",
      "The CommonGround optimization problem had no optimal solution.\n",
      "The tCommonGround optimization problem had no optimal solution.\n"
     ]
    },
    {
     "name": "stdout",
     "output_type": "stream",
     "text": [
      "The tCommonGround optimization problem had no optimal solution.\n"
     ]
    },
    {
     "name": "stdout",
     "output_type": "stream",
     "text": [
      "The CommonGround_entani optimization problem had no optimal solution.\n",
      "The CommonGround optimization problem had no optimal solution.\n",
      "The tCommonGround optimization problem had no optimal solution.\n"
     ]
    },
    {
     "name": "stdout",
     "output_type": "stream",
     "text": [
      "The CommonGround_entani optimization problem had no optimal solution.\n",
      "The CommonGround optimization problem had no optimal solution.\n"
     ]
    },
    {
     "name": "stdout",
     "output_type": "stream",
     "text": [
      "The tCommonGround optimization problem had no optimal solution.\n",
      "The CommonGround_entani optimization problem had no optimal solution.\n",
      "The CommonGround optimization problem had no optimal solution.\n"
     ]
    },
    {
     "name": "stdout",
     "output_type": "stream",
     "text": [
      "The tCommonGround optimization problem had no optimal solution.\n",
      "The CommonGround_entani optimization problem had no optimal solution.\n",
      "The CommonGround optimization problem had no optimal solution.\n",
      "The tCommonGround optimization problem had no optimal solution.\n"
     ]
    },
    {
     "name": "stdout",
     "output_type": "stream",
     "text": [
      "The CommonGround_entani optimization problem had no optimal solution.\n",
      "The CommonGround optimization problem had no optimal solution.\n",
      "The tCommonGround optimization problem had no optimal solution.\n"
     ]
    },
    {
     "name": "stdout",
     "output_type": "stream",
     "text": [
      "The CommonGround_entani optimization problem had no optimal solution.\n",
      "The CommonGround_entani optimization problem had no optimal solution.\n",
      "The CommonGround_entani optimization problem had no optimal solution.\n",
      "The CommonGround_entani optimization problem had no optimal solution.\n",
      "The CommonGround optimization problem had no optimal solution.\n",
      "The CommonGround optimization problem had no optimal solution.\n",
      "The CommonGround optimization problem had no optimal solution.\n",
      "The tCommonGround optimization problem had no optimal solution.\n",
      "The CommonGround optimization problem had no optimal solution.\n",
      "The tCommonGround optimization problem had no optimal solution.\n",
      "The tCommonGround optimization problem had no optimal solution.\n",
      "The tCommonGround optimization problem had no optimal solution.\n",
      "The CommonGround_entani optimization problem had no optimal solution.\n",
      "The CommonGround optimization problem had no optimal solution.\n",
      "The CommonGround_entani optimization problem had no optimal solution.\n",
      "The CommonGround_entani optimization problem had no optimal solution."
     ]
    },
    {
     "name": "stdout",
     "output_type": "stream",
     "text": [
      "\n",
      "The CommonGround optimization problem had no optimal solution.\n",
      "The CommonGround_entani optimization problem had no optimal solution.\n",
      "The CommonGround optimization problem had no optimal solution.\n"
     ]
    },
    {
     "name": "stdout",
     "output_type": "stream",
     "text": [
      "The CommonGround optimization problem had no optimal solution.\n",
      "The tCommonGround optimization problem had no optimal solution.\n",
      "The tCommonGround optimization problem had no optimal solution.\n",
      "The CommonGround_entani optimization problem had no optimal solution.\n",
      "The CommonGround optimization problem had no optimal solution.\n",
      "The tCommonGround optimization problem had no optimal solution.\n",
      "The CommonGround_entani optimization problem had no optimal solution.\n",
      "The CommonGround_entani optimization problem had no optimal solution.\n",
      "The CommonGround optimization problem had no optimal solution.\n",
      "The CommonGround_entani optimization problem had no optimal solution."
     ]
    },
    {
     "name": "stdout",
     "output_type": "stream",
     "text": [
      "\n",
      "The tCommonGround optimization problem had no optimal solution.\n",
      "The CommonGround optimization problem had no optimal solution.\n",
      "The CommonGround optimization problem had no optimal solution."
     ]
    },
    {
     "name": "stdout",
     "output_type": "stream",
     "text": [
      "\n",
      "The tCommonGround optimization problem had no optimal solution.\n"
     ]
    },
    {
     "name": "stdout",
     "output_type": "stream",
     "text": [
      "The CommonGround_entani optimization problem had no optimal solution.\n",
      "The CommonGround optimization problem had no optimal solution.\n",
      "The CommonGround_entani optimization problem had no optimal solution.\n",
      "The tCommonGround optimization problem had no optimal solution.\n",
      "The CommonGround_entani optimization problem had no optimal solution.\n",
      "The CommonGround optimization problem had no optimal solution.\n",
      "The CommonGround optimization problem had no optimal solution.\n",
      "The tCommonGround optimization problem had no optimal solution.\n",
      "The CommonGround_entani optimization problem had no optimal solution.\n",
      "The CommonGround optimization problem had no optimal solution.\n"
     ]
    },
    {
     "name": "stdout",
     "output_type": "stream",
     "text": [
      "The CommonGround_entani optimization problem had no optimal solution.\n",
      "The CommonGround optimization problem had no optimal solution.\n",
      "The tCommonGround optimization problem had no optimal solution.\n",
      "The CommonGround_entani optimization problem had no optimal solution.\n",
      "The CommonGround_entani optimization problem had no optimal solution.\n",
      "The CommonGround optimization problem had no optimal solution.\n",
      "The tCommonGround optimization problem had no optimal solution.\n",
      "The CommonGround optimization problem had no optimal solution.\n",
      "The tCommonGround optimization problem had no optimal solution.\n",
      "The CommonGround_entani optimization problem had no optimal solution.\n"
     ]
    },
    {
     "name": "stdout",
     "output_type": "stream",
     "text": [
      "The CommonGround optimization problem had no optimal solution.\n",
      "The tCommonGround optimization problem had no optimal solution.\n",
      "The CommonGround_entani optimization problem had no optimal solution.\n",
      "The CommonGround optimization problem had no optimal solution.\n",
      "The CommonGround_entani optimization problem had no optimal solution.\n",
      "The CommonGround_entani optimization problem had no optimal solution.\n",
      "The CommonGround optimization problem had no optimal solution.\n",
      "The tCommonGround optimization problem had no optimal solution.\n",
      "The CommonGround optimization problem had no optimal solution.\n",
      "The tCommonGround optimization problem had no optimal solution.\n",
      "The CommonGround_entani optimization problem had no optimal solution."
     ]
    },
    {
     "name": "stdout",
     "output_type": "stream",
     "text": [
      "\n",
      "The CommonGround optimization problem had no optimal solution.\n",
      "The CommonGround_entani optimization problem had no optimal solution.\n",
      "The CommonGround_entani optimization problem had no optimal solution.\n",
      "The CommonGround optimization problem had no optimal solution.\n",
      "The CommonGround optimization problem had no optimal solution.\n",
      "The tCommonGround optimization problem had no optimal solution.\n",
      "The tCommonGround optimization problem had no optimal solution.\n",
      "The CommonGround_entani optimization problem had no optimal solution.\n",
      "The CommonGround optimization problem had no optimal solution.\n",
      "The tCommonGround optimization problem had no optimal solution.\n",
      "The CommonGround_entani optimization problem had no optimal solution.\n",
      "The CommonGround optimization problem had no optimal solution.\n",
      "The tCommonGround optimization problem had no optimal solution.\n",
      "The CommonGround_entani optimization problem had no optimal solution."
     ]
    },
    {
     "name": "stdout",
     "output_type": "stream",
     "text": [
      "\n",
      "The CommonGround optimization problem had no optimal solution.\n",
      "The CommonGround_entani optimization problem had no optimal solution.\n",
      "The CommonGround optimization problem had no optimal solution.\n",
      "The CommonGround_entani optimization problem had no optimal solution.\n",
      "The tCommonGround optimization problem had no optimal solution.\n",
      "The CommonGround optimization problem had no optimal solution.\n",
      "The CommonGround_entani optimization problem had no optimal solution.\n",
      "The CommonGround optimization problem had no optimal solution.\n",
      "The CommonGround_entani optimization problem had no optimal solution."
     ]
    },
    {
     "name": "stdout",
     "output_type": "stream",
     "text": [
      "\n",
      "The CommonGround optimization problem had no optimal solution.\n",
      "The CommonGround_entani optimization problem had no optimal solution.\n",
      "The tCommonGround optimization problem had no optimal solution.\n"
     ]
    },
    {
     "name": "stdout",
     "output_type": "stream",
     "text": [
      "The CommonGround optimization problem had no optimal solution.\n",
      "The CommonGround_entani optimization problem had no optimal solution.\n",
      "The CommonGround optimization problem had no optimal solution.\n",
      "The tCommonGround optimization problem had no optimal solution.\n",
      "The tCommonGround optimization problem had no optimal solution.\n",
      "The CommonGround_entani optimization problem had no optimal solution.\n",
      "The CommonGround optimization problem had no optimal solution.\n",
      "The CommonGround_entani optimization problem had no optimal solution.\n",
      "The tCommonGround optimization problem had no optimal solution.\n",
      "The CommonGround optimization problem had no optimal solution.\n",
      "The CommonGround_entani optimization problem had no optimal solution.\n",
      "The tCommonGround optimization problem had no optimal solution.\n"
     ]
    },
    {
     "name": "stdout",
     "output_type": "stream",
     "text": [
      "The CommonGround optimization problem had no optimal solution.\n",
      "The CommonGround_entani optimization problem had no optimal solution.\n",
      "The tCommonGround optimization problem had no optimal solution.\n",
      "The CommonGround optimization problem had no optimal solution.\n",
      "The tCommonGround optimization problem had no optimal solution.\n",
      "The CommonGround_entani optimization problem had no optimal solution.\n",
      "The CommonGround optimization problem had no optimal solution.\n",
      "The tCommonGround optimization problem had no optimal solution.\n",
      "The CommonGround_entani optimization problem had no optimal solution.\n"
     ]
    },
    {
     "name": "stdout",
     "output_type": "stream",
     "text": [
      "The CommonGround optimization problem had no optimal solution.\n",
      "The tCommonGround optimization problem had no optimal solution.\n",
      "The CommonGround_entani optimization problem had no optimal solution.\n",
      "The CommonGround optimization problem had no optimal solution.\n",
      "The CommonGround_entani optimization problem had no optimal solution.\n",
      "The CommonGround_entani optimization problem had no optimal solution.\n",
      "The tCommonGround optimization problem had no optimal solution.\n",
      "The CommonGround optimization problem had no optimal solution.\n",
      "The CommonGround optimization problem had no optimal solution.\n",
      "The tCommonGround optimization problem had no optimal solution.\n",
      "The tCommonGround optimization problem had no optimal solution.\n",
      "The CommonGround_entani optimization problem had no optimal solution."
     ]
    },
    {
     "name": "stdout",
     "output_type": "stream",
     "text": [
      "\n",
      "The CommonGround optimization problem had no optimal solution.\n",
      "The CommonGround_entani optimization problem had no optimal solution.\n",
      "The CommonGround_entani optimization problem had no optimal solution.\n",
      "The CommonGround optimization problem had no optimal solution.\n"
     ]
    },
    {
     "name": "stdout",
     "output_type": "stream",
     "text": [
      "The CommonGround_entani optimization problem had no optimal solution.\n",
      "The CommonGround optimization problem had no optimal solution.\n",
      "The tCommonGround optimization problem had no optimal solution.\n",
      "The tCommonGround optimization problem had no optimal solution.\n",
      "The CommonGround optimization problem had no optimal solution."
     ]
    },
    {
     "name": "stdout",
     "output_type": "stream",
     "text": [
      "\n"
     ]
    },
    {
     "name": "stdout",
     "output_type": "stream",
     "text": [
      "The CommonGround_entani optimization problem had no optimal solution.\n",
      "The CommonGround optimization problem had no optimal solution.\n",
      "The CommonGround_entani optimization problem had no optimal solution.\n",
      "The tCommonGround optimization problem had no optimal solution.\n",
      "The CommonGround optimization problem had no optimal solution.\n",
      "The CommonGround_entani optimization problem had no optimal solution.\n",
      "The tCommonGround optimization problem had no optimal solution.\n",
      "The CommonGround optimization problem had no optimal solution.\n",
      "The CommonGround_entani optimization problem had no optimal solution.\n",
      "The CommonGround optimization problem had no optimal solution.\n",
      "The tCommonGround optimization problem had no optimal solution.\n",
      "The tCommonGround optimization problem had no optimal solution.\n"
     ]
    },
    {
     "name": "stdout",
     "output_type": "stream",
     "text": [
      "The CommonGround_entani optimization problem had no optimal solution.\n",
      "The CommonGround optimization problem had no optimal solution.\n",
      "The CommonGround_entani optimization problem had no optimal solution.\n",
      "The tCommonGround optimization problem had no optimal solution.\n",
      "The CommonGround optimization problem had no optimal solution.\n",
      "The CommonGround_entani optimization problem had no optimal solution.\n",
      "The CommonGround optimization problem had no optimal solution.\n",
      "The CommonGround_entani optimization problem had no optimal solution.\n",
      "The tCommonGround optimization problem had no optimal solution.\n",
      "The CommonGround optimization problem had no optimal solution.\n"
     ]
    },
    {
     "name": "stdout",
     "output_type": "stream",
     "text": [
      "The tCommonGround optimization problem had no optimal solution.\n",
      "The CommonGround_entani optimization problem had no optimal solution.\n",
      "The CommonGround optimization problem had no optimal solution.\n",
      "The tCommonGround optimization problem had no optimal solution.\n",
      "The CommonGround_entani optimization problem had no optimal solution.\n",
      "The CommonGround optimization problem had no optimal solution.\n",
      "The CommonGround_entani optimization problem had no optimal solution.\n",
      "The CommonGround_entani optimization problem had no optimal solution."
     ]
    },
    {
     "name": "stdout",
     "output_type": "stream",
     "text": [
      "\n"
     ]
    },
    {
     "name": "stdout",
     "output_type": "stream",
     "text": [
      "The CommonGround optimization problem had no optimal solution.\n",
      "The CommonGround optimization problem had no optimal solution.\n",
      "The tCommonGround optimization problem had no optimal solution.\n",
      "The CommonGround_entani optimization problem had no optimal solution.\n",
      "The CommonGround_entani optimization problem had no optimal solution.\n",
      "The CommonGround optimization problem had no optimal solution.\n",
      "The CommonGround optimization problem had no optimal solution.\n",
      "The tCommonGround optimization problem had no optimal solution.\n",
      "The tCommonGround optimization problem had no optimal solution.\n",
      "The CommonGround_entani optimization problem had no optimal solution.\n",
      "The CommonGround optimization problem had no optimal solution.\n",
      "The CommonGround_entani optimization problem had no optimal solution."
     ]
    },
    {
     "name": "stdout",
     "output_type": "stream",
     "text": [
      "\n",
      "The CommonGround optimization problem had no optimal solution.\n",
      "The tCommonGround optimization problem had no optimal solution.\n",
      "The CommonGround_entani optimization problem had no optimal solution.\n",
      "The CommonGround_entani optimization problem had no optimal solution.\n",
      "The CommonGround_entani optimization problem had no optimal solution.\n",
      "The CommonGround optimization problem had no optimal solution.\n",
      "The CommonGround optimization problem had no optimal solution.\n",
      "The CommonGround optimization problem had no optimal solution.\n",
      "The tCommonGround optimization problem had no optimal solution.\n",
      "The tCommonGround optimization problem had no optimal solution.\n",
      "The CommonGround_entani optimization problem had no optimal solution."
     ]
    },
    {
     "name": "stdout",
     "output_type": "stream",
     "text": [
      "\n",
      "The CommonGround optimization problem had no optimal solution.\n",
      "The tCommonGround optimization problem had no optimal solution.\n",
      "The CommonGround_entani optimization problem had no optimal solution.\n",
      "The CommonGround_entani optimization problem had no optimal solution.\n",
      "The CommonGround_entani optimization problem had no optimal solution.\n",
      "The CommonGround optimization problem had no optimal solution.\n",
      "The CommonGround optimization problem had no optimal solution.\n",
      "The CommonGround optimization problem had no optimal solution.\n",
      "The tCommonGround optimization problem had no optimal solution.\n",
      "The tCommonGround optimization problem had no optimal solution.\n",
      "The CommonGround_entani optimization problem had no optimal solution."
     ]
    },
    {
     "name": "stdout",
     "output_type": "stream",
     "text": [
      "\n",
      "The CommonGround optimization problem had no optimal solution.\n"
     ]
    },
    {
     "name": "stdout",
     "output_type": "stream",
     "text": [
      "The CommonGround_entani optimization problem had no optimal solution.\n",
      "The CommonGround_entani optimization problem had no optimal solution.\n",
      "The CommonGround optimization problem had no optimal solution.\n",
      "The CommonGround_entani optimization problem had no optimal solution.\n",
      "The CommonGround optimization problem had no optimal solution.\n",
      "The tCommonGround optimization problem had no optimal solution.\n",
      "The CommonGround optimization problem had no optimal solution.\n",
      "The tCommonGround optimization problem had no optimal solution.\n",
      "The CommonGround_entani optimization problem had no optimal solution.\n",
      "The CommonGround optimization problem had no optimal solution.\n",
      "The tCommonGround optimization problem had no optimal solution.\n"
     ]
    },
    {
     "name": "stdout",
     "output_type": "stream",
     "text": [
      "The CommonGround_entani optimization problem had no optimal solution.\n",
      "The CommonGround_entani optimization problem had no optimal solution.\n",
      "The CommonGround optimization problem had no optimal solution.\n",
      "The CommonGround optimization problem had no optimal solution.\n",
      "The tCommonGround optimization problem had no optimal solution.\n",
      "The CommonGround_entani optimization problem had no optimal solution.\n",
      "The CommonGround_entani optimization problem had no optimal solution.\n",
      "The CommonGround optimization problem had no optimal solution.\n",
      "The CommonGround optimization problem had no optimal solution.\n",
      "The tCommonGround optimization problem had no optimal solution.\n",
      "The tCommonGround optimization problem had no optimal solution."
     ]
    },
    {
     "name": "stdout",
     "output_type": "stream",
     "text": [
      "\n",
      "The CommonGround_entani optimization problem had no optimal solution.\n",
      "The CommonGround optimization problem had no optimal solution.\n",
      "The CommonGround_entani optimization problem had no optimal solution.\n",
      "The tCommonGround optimization problem had no optimal solution.\n",
      "The CommonGround optimization problem had no optimal solution.\n",
      "The CommonGround_entani optimization problem had no optimal solution."
     ]
    },
    {
     "name": "stdout",
     "output_type": "stream",
     "text": [
      "\n"
     ]
    },
    {
     "name": "stdout",
     "output_type": "stream",
     "text": [
      "The CommonGround optimization problem had no optimal solution.\n",
      "The tCommonGround optimization problem had no optimal solution.\n",
      "The tCommonGround optimization problem had no optimal solution.\n"
     ]
    },
    {
     "name": "stdout",
     "output_type": "stream",
     "text": [
      "The CommonGround_entani optimization problem had no optimal solution.\n",
      "The CommonGround optimization problem had no optimal solution.\n",
      "The tCommonGround optimization problem had no optimal solution.\n",
      "The CommonGround_entani optimization problem had no optimal solution.\n",
      "The CommonGround_entani optimization problem had no optimal solution.\n",
      "The CommonGround optimization problem had no optimal solution."
     ]
    },
    {
     "name": "stdout",
     "output_type": "stream",
     "text": [
      "\n",
      "The CommonGround optimization problem had no optimal solution.\n",
      "The CommonGround_entani optimization problem had no optimal solution.\n",
      "The tCommonGround optimization problem had no optimal solution.\n",
      "The tCommonGround optimization problem had no optimal solution.\n",
      "The CommonGround optimization problem had no optimal solution.\n",
      "The tCommonGround optimization problem had no optimal solution.\n",
      "The CommonGround_entani optimization problem had no optimal solution.\n",
      "The CommonGround optimization problem had no optimal solution.\n",
      "The CommonGround_entani optimization problem had no optimal solution.\n",
      "The CommonGround optimization problem had no optimal solution.\n",
      "The tCommonGround optimization problem had no optimal solution.\n",
      "The CommonGround_entani optimization problem had no optimal solution.\n",
      "The tCommonGround optimization problem had no optimal solution.\n",
      "The CommonGround_entani optimization problem had no optimal solution."
     ]
    },
    {
     "name": "stdout",
     "output_type": "stream",
     "text": [
      "\n"
     ]
    },
    {
     "name": "stdout",
     "output_type": "stream",
     "text": [
      "The CommonGround optimization problem had no optimal solution.\n",
      "The CommonGround optimization problem had no optimal solution.\n",
      "The tCommonGround optimization problem had no optimal solution.\n"
     ]
    },
    {
     "name": "stdout",
     "output_type": "stream",
     "text": [
      "The CommonGround_entani optimization problem had no optimal solution.\n",
      "The CommonGround_entani optimization problem had no optimal solution.\n",
      "The CommonGround optimization problem had no optimal solution.\n",
      "The CommonGround optimization problem had no optimal solution.\n",
      "The CommonGround_entani optimization problem had no optimal solution.\n",
      "The CommonGround_entani optimization problem had no optimal solution.\n",
      "The tCommonGround optimization problem had no optimal solution.\n",
      "The CommonGround optimization problem had no optimal solution.\n",
      "The CommonGround optimization problem had no optimal solution.\n",
      "The CommonGround_entani optimization problem had no optimal solution.\n",
      "The CommonGround_entani optimization problem had no optimal solution.\n",
      "The CommonGround_entani optimization problem had no optimal solution.\n",
      "The CommonGround optimization problem had no optimal solution.\n",
      "The CommonGround optimization problem had no optimal solution.\n",
      "The CommonGround_entani optimization problem had no optimal solution."
     ]
    },
    {
     "name": "stdout",
     "output_type": "stream",
     "text": [
      "\n",
      "The CommonGround optimization problem had no optimal solution.\n",
      "The CommonGround optimization problem had no optimal solution.\n"
     ]
    },
    {
     "name": "stdout",
     "output_type": "stream",
     "text": [
      "The CommonGround_entani optimization problem had no optimal solution.\n",
      "The CommonGround optimization problem had no optimal solution.\n",
      "The CommonGround_entani optimization problem had no optimal solution.\n",
      "The CommonGround_entani optimization problem had no optimal solution.\n",
      "The CommonGround_entani optimization problem had no optimal solution.\n",
      "The CommonGround optimization problem had no optimal solution.\n",
      "The CommonGround optimization problem had no optimal solution.\n",
      "The CommonGround optimization problem had no optimal solution.\n",
      "The tCommonGround optimization problem had no optimal solution."
     ]
    },
    {
     "name": "stdout",
     "output_type": "stream",
     "text": [
      "\n",
      "The tCommonGround optimization problem had no optimal solution.\n",
      "The CommonGround_entani optimization problem had no optimal solution.\n",
      "The CommonGround optimization problem had no optimal solution.\n",
      "The CommonGround_entani optimization problem had no optimal solution."
     ]
    },
    {
     "name": "stdout",
     "output_type": "stream",
     "text": [
      "\n",
      "The CommonGround_entani optimization problem had no optimal solution.\n",
      "The CommonGround optimization problem had no optimal solution.\n",
      "The CommonGround_entani optimization problem had no optimal solution.\n",
      "The CommonGround optimization problem had no optimal solution.\n",
      "The CommonGround optimization problem had no optimal solution.\n",
      "The tCommonGround optimization problem had no optimal solution.\n",
      "The tCommonGround optimization problem had no optimal solution.\n",
      "The CommonGround_entani optimization problem had no optimal solution.\n",
      "The CommonGround optimization problem had no optimal solution.\n",
      "The CommonGround_entani optimization problem had no optimal solution."
     ]
    },
    {
     "name": "stdout",
     "output_type": "stream",
     "text": [
      "\n",
      "The CommonGround optimization problem had no optimal solution.\n"
     ]
    },
    {
     "name": "stdout",
     "output_type": "stream",
     "text": [
      "The tCommonGround optimization problem had no optimal solution.\n",
      "The CommonGround_entani optimization problem had no optimal solution.\n",
      "The CommonGround optimization problem had no optimal solution.\n",
      "The CommonGround_entani optimization problem had no optimal solution.\n",
      "The tCommonGround optimization problem had no optimal solution.\n",
      "The CommonGround optimization problem had no optimal solution.\n",
      "The tCommonGround optimization problem had no optimal solution.\n",
      "The CommonGround_entani optimization problem had no optimal solution.\n",
      "The CommonGround optimization problem had no optimal solution.\n",
      "The CommonGround_entani optimization problem had no optimal solution."
     ]
    },
    {
     "name": "stdout",
     "output_type": "stream",
     "text": [
      "\n",
      "The CommonGround optimization problem had no optimal solution.\n",
      "The tCommonGround optimization problem had no optimal solution.\n",
      "The CommonGround_entani optimization problem had no optimal solution.\n",
      "The CommonGround optimization problem had no optimal solution.\n",
      "The CommonGround_entani optimization problem had no optimal solution.\n",
      "The CommonGround optimization problem had no optimal solution.\n",
      "The tCommonGround optimization problem had no optimal solution.\n",
      "The CommonGround optimization problem had no optimal solution.\n",
      "The CommonGround_entani optimization problem had no optimal solution."
     ]
    },
    {
     "name": "stdout",
     "output_type": "stream",
     "text": [
      "\n",
      "The CommonGround optimization problem had no optimal solution.\n",
      "The tCommonGround optimization problem had no optimal solution.\n",
      "The CommonGround_entani optimization problem had no optimal solution.\n",
      "The CommonGround_entani optimization problem had no optimal solution.\n",
      "The CommonGround optimization problem had no optimal solution.\n",
      "The CommonGround optimization problem had no optimal solution.\n",
      "The tCommonGround optimization problem had no optimal solution.\n",
      "The tCommonGround optimization problem had no optimal solution.\n",
      "The CommonGround_entani optimization problem had no optimal solution.\n",
      "The CommonGround optimization problem had no optimal solution.\n",
      "The tCommonGround optimization problem had no optimal solution.\n",
      "The CommonGround_entani optimization problem had no optimal solution."
     ]
    },
    {
     "name": "stdout",
     "output_type": "stream",
     "text": [
      "\n",
      "The CommonGround optimization problem had no optimal solution.\n",
      "The CommonGround_entani optimization problem had no optimal solution.\n",
      "The CommonGround_entani optimization problem had no optimal solution.\n",
      "The tCommonGround optimization problem had no optimal solution.\n",
      "The CommonGround optimization problem had no optimal solution.\n",
      "The CommonGround optimization problem had no optimal solution.\n",
      "The tCommonGround optimization problem had no optimal solution.\n",
      "The CommonGround_entani optimization problem had no optimal solution.\n",
      "The CommonGround optimization problem had no optimal solution.\n",
      "The tCommonGround optimization problem had no optimal solution.\n",
      "The CommonGround_entani optimization problem had no optimal solution."
     ]
    },
    {
     "name": "stdout",
     "output_type": "stream",
     "text": [
      "\n",
      "The CommonGround optimization problem had no optimal solution.\n",
      "The CommonGround_entani optimization problem had no optimal solution.\n",
      "The tCommonGround optimization problem had no optimal solution.\n",
      "The CommonGround_entani optimization problem had no optimal solution.\n",
      "The CommonGround optimization problem had no optimal solution.\n",
      "The CommonGround optimization problem had no optimal solution.\n",
      "The tCommonGround optimization problem had no optimal solution.\n",
      "The tCommonGround optimization problem had no optimal solution.\n",
      "The CommonGround_entani optimization problem had no optimal solution.\n",
      "The CommonGround optimization problem had no optimal solution.\n",
      "The tCommonGround optimization problem had no optimal solution.\n",
      "The CommonGround_entani optimization problem had no optimal solution.\n",
      "The CommonGround_entani optimization problem had no optimal solution."
     ]
    },
    {
     "name": "stdout",
     "output_type": "stream",
     "text": [
      "\n",
      "The CommonGround optimization problem had no optimal solution.\n",
      "The CommonGround optimization problem had no optimal solution.\n",
      "The tCommonGround optimization problem had no optimal solution.\n",
      "The CommonGround_entani optimization problem had no optimal solution.\n",
      "The tCommonGround optimization problem had no optimal solution.\n",
      "The CommonGround optimization problem had no optimal solution.\n",
      "The tCommonGround optimization problem had no optimal solution.\n",
      "The CommonGround_entani optimization problem had no optimal solution.\n",
      "The CommonGround optimization problem had no optimal solution.\n",
      "The tCommonGround optimization problem had no optimal solution.\n",
      "The CommonGround_entani optimization problem had no optimal solution.\n",
      "The CommonGround_entani optimization problem had no optimal solution."
     ]
    },
    {
     "name": "stdout",
     "output_type": "stream",
     "text": [
      "\n",
      "The CommonGround optimization problem had no optimal solution.\n",
      "The CommonGround optimization problem had no optimal solution.\n",
      "The CommonGround_entani optimization problem had no optimal solution.\n",
      "The tCommonGround optimization problem had no optimal solution.\n",
      "The tCommonGround optimization problem had no optimal solution.\n",
      "The CommonGround optimization problem had no optimal solution.\n",
      "The CommonGround_entani optimization problem had no optimal solution.\n",
      "The CommonGround optimization problem had no optimal solution.\n",
      "The CommonGround_entani optimization problem had no optimal solution.\n",
      "The CommonGround_entani optimization problem had no optimal solution."
     ]
    },
    {
     "name": "stdout",
     "output_type": "stream",
     "text": [
      "\n",
      "The CommonGround optimization problem had no optimal solution.\n",
      "The CommonGround optimization problem had no optimal solution.\n",
      "The tCommonGround optimization problem had no optimal solution.\n",
      "The CommonGround_entani optimization problem had no optimal solution.\n",
      "The CommonGround optimization problem had no optimal solution.\n",
      "The tCommonGround optimization problem had no optimal solution.\n",
      "The CommonGround_entani optimization problem had no optimal solution.\n",
      "The CommonGround optimization problem had no optimal solution.\n",
      "The CommonGround_entani optimization problem had no optimal solution."
     ]
    },
    {
     "name": "stdout",
     "output_type": "stream",
     "text": [
      "\n",
      "The CommonGround_entani optimization problem had no optimal solution.\n",
      "The CommonGround optimization problem had no optimal solution.\n",
      "The CommonGround optimization problem had no optimal solution.\n",
      "The tCommonGround optimization problem had no optimal solution.\n",
      "The CommonGround_entani optimization problem had no optimal solution.\n",
      "The tCommonGround optimization problem had no optimal solution.\n",
      "The CommonGround optimization problem had no optimal solution.\n",
      "The CommonGround_entani optimization problem had no optimal solution.\n",
      "The CommonGround optimization problem had no optimal solution.\n",
      "The CommonGround_entani optimization problem had no optimal solution.\n",
      "The CommonGround optimization problem had no optimal solution.\n",
      "The tCommonGround optimization problem had no optimal solution.\n",
      "The CommonGround_entani optimization problem had no optimal solution."
     ]
    },
    {
     "name": "stdout",
     "output_type": "stream",
     "text": [
      "\n",
      "The CommonGround optimization problem had no optimal solution.\n",
      "The CommonGround_entani optimization problem had no optimal solution.\n",
      "The CommonGround optimization problem had no optimal solution.\n",
      "The tCommonGround optimization problem had no optimal solution.\n"
     ]
    },
    {
     "name": "stdout",
     "output_type": "stream",
     "text": [
      "The tCommonGround optimization problem had no optimal solution.\n",
      "The CommonGround_entani optimization problem had no optimal solution.\n",
      "The CommonGround optimization problem had no optimal solution.\n",
      "The CommonGround_entani optimization problem had no optimal solution.\n",
      "The CommonGround optimization problem had no optimal solution.\n",
      "The CommonGround_entani optimization problem had no optimal solution.\n",
      "The CommonGround_entani optimization problem had no optimal solution.\n",
      "The CommonGround optimization problem had no optimal solution.\n",
      "The CommonGround optimization problem had no optimal solution.\n",
      "The tCommonGround optimization problem had no optimal solution.\n",
      "The CommonGround_entani optimization problem had no optimal solution.\n",
      "The tCommonGround optimization problem had no optimal solution.\n",
      "The CommonGround optimization problem had no optimal solution.\n",
      "The tCommonGround optimization problem had no optimal solution.\n",
      "The CommonGround_entani optimization problem had no optimal solution.\n",
      "The CommonGround optimization problem had no optimal solution.\n",
      "The tCommonGround optimization problem had no optimal solution.\n",
      "The CommonGround_entani optimization problem had no optimal solution."
     ]
    },
    {
     "name": "stdout",
     "output_type": "stream",
     "text": [
      "\n",
      "The CommonGround optimization problem had no optimal solution.\n",
      "The CommonGround_entani optimization problem had no optimal solution.\n",
      "The CommonGround optimization problem had no optimal solution.\n",
      "The tCommonGround optimization problem had no optimal solution.\n"
     ]
    },
    {
     "name": "stdout",
     "output_type": "stream",
     "text": [
      "The CommonGround_entani optimization problem had no optimal solution.\n",
      "The CommonGround optimization problem had no optimal solution.\n",
      "The tCommonGround optimization problem had no optimal solution.\n",
      "The CommonGround_entani optimization problem had no optimal solution.\n",
      "The CommonGround optimization problem had no optimal solution.\n",
      "The tCommonGround optimization problem had no optimal solution.\n",
      "The tCommonGround optimization problem had no optimal solution.\n",
      "The CommonGround_entani optimization problem had no optimal solution.\n",
      "The CommonGround_entani optimization problem had no optimal solution.\n",
      "The CommonGround optimization problem had no optimal solution.\n",
      "The CommonGround optimization problem had no optimal solution.\n",
      "The CommonGround_entani optimization problem had no optimal solution.\n",
      "The tCommonGround optimization problem had no optimal solution.\n",
      "The tCommonGround optimization problem had no optimal solution.\n",
      "The CommonGround_entani optimization problem had no optimal solution.\n",
      "The CommonGround optimization problem had no optimal solution.\n",
      "The tCommonGround optimization problem had no optimal solution.\n",
      "The CommonGround optimization problem had no optimal solution.\n",
      "The tCommonGround optimization problem had no optimal solution.\n",
      "The CommonGround_entani optimization problem had no optimal solution.\n",
      "The CommonGround_entani optimization problem had no optimal solution."
     ]
    },
    {
     "name": "stdout",
     "output_type": "stream",
     "text": [
      "\n",
      "The CommonGround optimization problem had no optimal solution.\n",
      "The CommonGround optimization problem had no optimal solution.\n",
      "The tCommonGround optimization problem had no optimal solution.\n",
      "The CommonGround_entani optimization problem had no optimal solution.\n",
      "The tCommonGround optimization problem had no optimal solution.\n",
      "The CommonGround optimization problem had no optimal solution.\n",
      "The CommonGround_entani optimization problem had no optimal solution.\n",
      "The CommonGround optimization problem had no optimal solution.\n",
      "The tCommonGround optimization problem had no optimal solution.\n",
      "The CommonGround_entani optimization problem had no optimal solution."
     ]
    },
    {
     "name": "stdout",
     "output_type": "stream",
     "text": [
      "\n",
      "The CommonGround_entani optimization problem had no optimal solution.\n",
      "The CommonGround optimization problem had no optimal solution.\n",
      "The CommonGround optimization problem had no optimal solution.\n",
      "The tCommonGround optimization problem had no optimal solution.\n",
      "The tCommonGround optimization problem had no optimal solution.\n",
      "The CommonGround_entani optimization problem had no optimal solution.\n",
      "The CommonGround optimization problem had no optimal solution.\n",
      "The tCommonGround optimization problem had no optimal solution.\n",
      "The CommonGround_entani optimization problem had no optimal solution.\n"
     ]
    },
    {
     "name": "stdout",
     "output_type": "stream",
     "text": [
      "The CommonGround optimization problem had no optimal solution.\n",
      "The CommonGround_entani optimization problem had no optimal solution.\n",
      "The CommonGround optimization problem had no optimal solution.\n",
      "The tCommonGround optimization problem had no optimal solution.\n"
     ]
    },
    {
     "name": "stdout",
     "output_type": "stream",
     "text": [
      "The CommonGround_entani optimization problem had no optimal solution.\n",
      "The CommonGround optimization problem had no optimal solution.\n",
      "The tCommonGround optimization problem had no optimal solution.\n",
      "The CommonGround_entani optimization problem had no optimal solution.\n",
      "The CommonGround optimization problem had no optimal solution.\n",
      "The CommonGround_entani optimization problem had no optimal solution.\n",
      "The CommonGround optimization problem had no optimal solution.\n",
      "The CommonGround_entani optimization problem had no optimal solution.\n",
      "The tCommonGround optimization problem had no optimal solution.\n",
      "The CommonGround optimization problem had no optimal solution.\n"
     ]
    },
    {
     "name": "stdout",
     "output_type": "stream",
     "text": [
      "The CommonGround_entani optimization problem had no optimal solution.\n",
      "The CommonGround optimization problem had no optimal solution.\n",
      "The tCommonGround optimization problem had no optimal solution.\n",
      "The CommonGround_entani optimization problem had no optimal solution.\n",
      "The CommonGround_entani optimization problem had no optimal solution.\n",
      "The CommonGround optimization problem had no optimal solution.\n",
      "The CommonGround_entani optimization problem had no optimal solution.\n"
     ]
    },
    {
     "name": "stdout",
     "output_type": "stream",
     "text": [
      "The tCommonGround optimization problem had no optimal solution.\n",
      "The CommonGround optimization problem had no optimal solution.\n",
      "The CommonGround optimization problem had no optimal solution.\n",
      "The tCommonGround optimization problem had no optimal solution.\n",
      "The tCommonGround optimization problem had no optimal solution.\n",
      "The CommonGround_entani optimization problem had no optimal solution.\n",
      "The CommonGround optimization problem had no optimal solution.\n",
      "The tCommonGround optimization problem had no optimal solution.\n",
      "The CommonGround_entani optimization problem had no optimal solution.\n",
      "The CommonGround optimization problem had no optimal solution.\n",
      "The CommonGround_entani optimization problem had no optimal solution.\n",
      "The CommonGround_entani optimization problem had no optimal solution."
     ]
    },
    {
     "name": "stdout",
     "output_type": "stream",
     "text": [
      "\n",
      "The tCommonGround optimization problem had no optimal solution.\n",
      "The CommonGround optimization problem had no optimal solution.\n",
      "The CommonGround optimization problem had no optimal solution.\n"
     ]
    },
    {
     "name": "stdout",
     "output_type": "stream",
     "text": [
      "The tCommonGround optimization problem had no optimal solution.\n",
      "The tCommonGround optimization problem had no optimal solution.\n",
      "The CommonGround_entani optimization problem had no optimal solution.\n",
      "The CommonGround optimization problem had no optimal solution.\n",
      "The tCommonGround optimization problem had no optimal solution.\n",
      "The CommonGround_entani optimization problem had no optimal solution.\n",
      "The CommonGround optimization problem had no optimal solution.\n",
      "The tCommonGround optimization problem had no optimal solution.\n",
      "The CommonGround optimization problem had no optimal solution.\n",
      "The CommonGround_entani optimization problem had no optimal solution."
     ]
    },
    {
     "name": "stdout",
     "output_type": "stream",
     "text": [
      "\n",
      "The CommonGround optimization problem had no optimal solution.\n",
      "The tCommonGround optimization problem had no optimal solution.\n",
      "The CommonGround_entani optimization problem had no optimal solution.\n",
      "The CommonGround optimization problem had no optimal solution.\n",
      "The CommonGround_entani optimization problem had no optimal solution.\n",
      "The CommonGround optimization problem had no optimal solution.\n",
      "The CommonGround_entani optimization problem had no optimal solution.\n",
      "The tCommonGround optimization problem had no optimal solution.\n",
      "The CommonGround optimization problem had no optimal solution.\n",
      "The tCommonGround optimization problem had no optimal solution.\n",
      "The CommonGround_entani optimization problem had no optimal solution."
     ]
    },
    {
     "name": "stdout",
     "output_type": "stream",
     "text": [
      "\n",
      "The CommonGround optimization problem had no optimal solution.\n",
      "The CommonGround_entani optimization problem had no optimal solution.\n",
      "The CommonGround optimization problem had no optimal solution.\n",
      "The CommonGround_entani optimization problem had no optimal solution.\n",
      "The CommonGround optimization problem had no optimal solution.\n",
      "The tCommonGround optimization problem had no optimal solution.\n",
      "The tCommonGround optimization problem had no optimal solution.\n",
      "The CommonGround_entani optimization problem had no optimal solution.\n",
      "The CommonGround optimization problem had no optimal solution.\n",
      "The CommonGround_entani optimization problem had no optimal solution."
     ]
    },
    {
     "name": "stdout",
     "output_type": "stream",
     "text": [
      "\n",
      "The CommonGround optimization problem had no optimal solution.\n"
     ]
    },
    {
     "name": "stdout",
     "output_type": "stream",
     "text": [
      "The CommonGround_entani optimization problem had no optimal solution.\n",
      "The CommonGround optimization problem had no optimal solution.\n",
      "The CommonGround_entani optimization problem had no optimal solution.\n",
      "The CommonGround optimization problem had no optimal solution.\n",
      "The tCommonGround optimization problem had no optimal solution.\n",
      "The CommonGround_entani optimization problem had no optimal solution.\n",
      "The CommonGround optimization problem had no optimal solution.\n",
      "The CommonGround_entani optimization problem had no optimal solution.\n",
      "The CommonGround optimization problem had no optimal solution.\n"
     ]
    },
    {
     "name": "stdout",
     "output_type": "stream",
     "text": [
      "The tCommonGround optimization problem had no optimal solution.\n",
      "The CommonGround_entani optimization problem had no optimal solution.\n",
      "The CommonGround_entani optimization problem had no optimal solution.\n",
      "The CommonGround optimization problem had no optimal solution.\n",
      "The tCommonGround optimization problem had no optimal solution.\n",
      "The CommonGround optimization problem had no optimal solution.\n",
      "The tCommonGround optimization problem had no optimal solution.\n",
      "The CommonGround_entani optimization problem had no optimal solution."
     ]
    },
    {
     "name": "stdout",
     "output_type": "stream",
     "text": [
      "\n",
      "The CommonGround optimization problem had no optimal solution.\n",
      "The tCommonGround optimization problem had no optimal solution.\n",
      "The CommonGround_entani optimization problem had no optimal solution.\n",
      "The CommonGround_entani optimization problem had no optimal solution.\n",
      "The CommonGround optimization problem had no optimal solution.\n",
      "The CommonGround optimization problem had no optimal solution.\n",
      "The tCommonGround optimization problem had no optimal solution.\n",
      "The CommonGround_entani optimization problem had no optimal solution.\n",
      "The tCommonGround optimization problem had no optimal solution.\n",
      "The CommonGround optimization problem had no optimal solution.\n",
      "The CommonGround_entani optimization problem had no optimal solution."
     ]
    },
    {
     "name": "stdout",
     "output_type": "stream",
     "text": [
      "\n",
      "The CommonGround optimization problem had no optimal solution.\n",
      "The tCommonGround optimization problem had no optimal solution.\n",
      "The CommonGround_entani optimization problem had no optimal solution.\n",
      "The CommonGround_entani optimization problem had no optimal solution.\n",
      "The CommonGround optimization problem had no optimal solution.\n",
      "The CommonGround optimization problem had no optimal solution.\n",
      "The tCommonGround optimization problem had no optimal solution.\n",
      "The CommonGround_entani optimization problem had no optimal solution.\n",
      "The CommonGround optimization problem had no optimal solution.\n",
      "The tCommonGround optimization problem had no optimal solution.\n",
      "The CommonGround_entani optimization problem had no optimal solution."
     ]
    },
    {
     "name": "stdout",
     "output_type": "stream",
     "text": [
      "\n",
      "The CommonGround_entani optimization problem had no optimal solution.\n",
      "The CommonGround optimization problem had no optimal solution.\n",
      "The CommonGround_entani optimization problem had no optimal solution.\n",
      "The CommonGround optimization problem had no optimal solution.\n",
      "The tCommonGround optimization problem had no optimal solution.\n",
      "The CommonGround optimization problem had no optimal solution.\n",
      "The tCommonGround optimization problem had no optimal solution.\n",
      "The CommonGround_entani optimization problem had no optimal solution.\n",
      "The CommonGround optimization problem had no optimal solution.\n",
      "The tCommonGround optimization problem had no optimal solution.\n",
      "The CommonGround_entani optimization problem had no optimal solution.\n",
      "The CommonGround_entani optimization problem had no optimal solution."
     ]
    },
    {
     "name": "stdout",
     "output_type": "stream",
     "text": [
      "\n",
      "The CommonGround_entani optimization problem had no optimal solution.\n",
      "The CommonGround optimization problem had no optimal solution.\n",
      "The CommonGround optimization problem had no optimal solution.\n",
      "The CommonGround optimization problem had no optimal solution.\n",
      "The tCommonGround optimization problem had no optimal solution.\n",
      "The tCommonGround optimization problem had no optimal solution.\n"
     ]
    },
    {
     "name": "stdout",
     "output_type": "stream",
     "text": [
      "The CommonGround_entani optimization problem had no optimal solution.\n",
      "The CommonGround optimization problem had no optimal solution.\n",
      "The tCommonGround optimization problem had no optimal solution.\n",
      "The CommonGround_entani optimization problem had no optimal solution.\n",
      "The CommonGround optimization problem had no optimal solution.\n",
      "The CommonGround_entani optimization problem had no optimal solution.\n",
      "The CommonGround_entani optimization problem had no optimal solution.\n",
      "The CommonGround optimization problem had no optimal solution.\n",
      "The CommonGround optimization problem had no optimal solution.\n",
      "The tCommonGround optimization problem had no optimal solution.\n"
     ]
    },
    {
     "name": "stdout",
     "output_type": "stream",
     "text": [
      "The CommonGround_entani optimization problem had no optimal solution.\n",
      "The CommonGround_entani optimization problem had no optimal solution.\n",
      "The CommonGround optimization problem had no optimal solution.\n",
      "The CommonGround optimization problem had no optimal solution.\n",
      "The tCommonGround optimization problem had no optimal solution.\n",
      "The tCommonGround optimization problem had no optimal solution.\n",
      "The CommonGround_entani optimization problem had no optimal solution.\n",
      "The CommonGround_entani optimization problem had no optimal solution.\n",
      "The CommonGround optimization problem had no optimal solution.\n",
      "The CommonGround optimization problem had no optimal solution.\n",
      "The tCommonGround optimization problem had no optimal solution.\n",
      "The tCommonGround optimization problem had no optimal solution.\n"
     ]
    },
    {
     "name": "stdout",
     "output_type": "stream",
     "text": [
      "The CommonGround_entani optimization problem had no optimal solution.\n",
      "The CommonGround_entani optimization problem had no optimal solution.\n",
      "The CommonGround optimization problem had no optimal solution.\n",
      "The CommonGround optimization problem had no optimal solution.\n",
      "The tCommonGround optimization problem had no optimal solution.\n",
      "The CommonGround_entani optimization problem had no optimal solution.\n",
      "The CommonGround_entani optimization problem had no optimal solution.\n",
      "The CommonGround optimization problem had no optimal solution.\n",
      "The CommonGround optimization problem had no optimal solution.\n",
      "The tCommonGround optimization problem had no optimal solution.\n",
      "The tCommonGround optimization problem had no optimal solution.\n"
     ]
    },
    {
     "name": "stdout",
     "output_type": "stream",
     "text": [
      "The CommonGround_entani optimization problem had no optimal solution.\n",
      "The CommonGround_entani optimization problem had no optimal solution.\n",
      "The CommonGround optimization problem had no optimal solution.\n",
      "The CommonGround optimization problem had no optimal solution.\n",
      "The tCommonGround optimization problem had no optimal solution.\n",
      "The tCommonGround optimization problem had no optimal solution.\n",
      "The CommonGround_entani optimization problem had no optimal solution.\n",
      "The CommonGround optimization problem had no optimal solution.\n",
      "The tCommonGround optimization problem had no optimal solution.\n"
     ]
    },
    {
     "name": "stdout",
     "output_type": "stream",
     "text": [
      "The CommonGround_entani optimization problem had no optimal solution.\n",
      "The CommonGround_entani optimization problem had no optimal solution.\n",
      "The CommonGround optimization problem had no optimal solution.\n",
      "The CommonGround_entani optimization problem had no optimal solution.\n",
      "The tCommonGround optimization problem had no optimal solution.\n",
      "The CommonGround optimization problem had no optimal solution.\n",
      "The CommonGround optimization problem had no optimal solution.\n",
      "The CommonGround_entani optimization problem had no optimal solution.\n",
      "The CommonGround optimization problem had no optimal solution.\n",
      "The tCommonGround optimization problem had no optimal solution.\n"
     ]
    },
    {
     "name": "stdout",
     "output_type": "stream",
     "text": [
      "The CommonGround_entani optimization problem had no optimal solution.\n",
      "The CommonGround_entani optimization problem had no optimal solution.\n",
      "The CommonGround optimization problem had no optimal solution.\n",
      "The tCommonGround optimization problem had no optimal solution.\n",
      "The CommonGround optimization problem had no optimal solution.\n",
      "The CommonGround_entani optimization problem had no optimal solution.\n",
      "The CommonGround optimization problem had no optimal solution.\n",
      "The tCommonGround optimization problem had no optimal solution."
     ]
    },
    {
     "name": "stdout",
     "output_type": "stream",
     "text": [
      "\n",
      "The CommonGround_entani optimization problem had no optimal solution.\n",
      "The CommonGround optimization problem had no optimal solution.\n",
      "The tCommonGround optimization problem had no optimal solution.\n",
      "The CommonGround_entani optimization problem had no optimal solution.\n",
      "The CommonGround optimization problem had no optimal solution.\n",
      "The tCommonGround optimization problem had no optimal solution.\n",
      "The CommonGround_entani optimization problem had no optimal solution."
     ]
    },
    {
     "name": "stdout",
     "output_type": "stream",
     "text": [
      "\n",
      "The CommonGround_entani optimization problem had no optimal solution.\n",
      "The CommonGround optimization problem had no optimal solution."
     ]
    },
    {
     "name": "stdout",
     "output_type": "stream",
     "text": [
      "\n",
      "The CommonGround optimization problem had no optimal solution.\n",
      "The tCommonGround optimization problem had no optimal solution.\n",
      "The tCommonGround optimization problem had no optimal solution.\n",
      "The CommonGround_entani optimization problem had no optimal solution.\n",
      "The CommonGround optimization problem had no optimal solution.\n",
      "The CommonGround_entani optimization problem had no optimal solution."
     ]
    },
    {
     "name": "stdout",
     "output_type": "stream",
     "text": [
      "\n",
      "The tCommonGround optimization problem had no optimal solution.\n",
      "The CommonGround optimization problem had no optimal solution.\n"
     ]
    },
    {
     "name": "stdout",
     "output_type": "stream",
     "text": [
      "The tCommonGround optimization problem had no optimal solution.\n",
      "The CommonGround_entani optimization problem had no optimal solution.\n",
      "The CommonGround optimization problem had no optimal solution.\n",
      "The tCommonGround optimization problem had no optimal solution.\n",
      "The CommonGround_entani optimization problem had no optimal solution.\n",
      "The CommonGround optimization problem had no optimal solution.\n",
      "The CommonGround_entani optimization problem had no optimal solution."
     ]
    },
    {
     "name": "stdout",
     "output_type": "stream",
     "text": [
      "\n",
      "The CommonGround optimization problem had no optimal solution.\n",
      "The tCommonGround optimization problem had no optimal solution.\n",
      "The CommonGround_entani optimization problem had no optimal solution.\n",
      "The CommonGround optimization problem had no optimal solution.\n",
      "The tCommonGround optimization problem had no optimal solution.\n",
      "The CommonGround_entani optimization problem had no optimal solution.\n",
      "The CommonGround optimization problem had no optimal solution.\n",
      "The CommonGround_entani optimization problem had no optimal solution."
     ]
    },
    {
     "name": "stdout",
     "output_type": "stream",
     "text": [
      "\n",
      "The tCommonGround optimization problem had no optimal solution.\n",
      "The CommonGround optimization problem had no optimal solution.\n",
      "The CommonGround_entani optimization problem had no optimal solution.\n"
     ]
    },
    {
     "name": "stdout",
     "output_type": "stream",
     "text": [
      "The CommonGround optimization problem had no optimal solution.\n",
      "The tCommonGround optimization problem had no optimal solution.\n",
      "The tCommonGround optimization problem had no optimal solution.\n",
      "The CommonGround_entani optimization problem had no optimal solution.\n",
      "The CommonGround optimization problem had no optimal solution.\n",
      "The tCommonGround optimization problem had no optimal solution.\n",
      "The CommonGround_entani optimization problem had no optimal solution.\n",
      "The CommonGround optimization problem had no optimal solution.\n",
      "The CommonGround_entani optimization problem had no optimal solution.\n",
      "The CommonGround optimization problem had no optimal solution.\n",
      "The tCommonGround optimization problem had no optimal solution.\n",
      "The CommonGround_entani optimization problem had no optimal solution."
     ]
    },
    {
     "name": "stdout",
     "output_type": "stream",
     "text": [
      "\n",
      "The CommonGround optimization problem had no optimal solution.\n",
      "The tCommonGround optimization problem had no optimal solution.\n"
     ]
    },
    {
     "name": "stdout",
     "output_type": "stream",
     "text": [
      "The CommonGround_entani optimization problem had no optimal solution.\n",
      "The CommonGround optimization problem had no optimal solution.\n",
      "The CommonGround_entani optimization problem had no optimal solution.\n",
      "The CommonGround optimization problem had no optimal solution.\n",
      "The CommonGround optimization problem had no optimal solution.\n",
      "The tCommonGround optimization problem had no optimal solution.\n",
      "The CommonGround_entani optimization problem had no optimal solution.\n",
      "The CommonGround optimization problem had no optimal solution.\n"
     ]
    },
    {
     "name": "stdout",
     "output_type": "stream",
     "text": [
      "The CommonGround_entani optimization problem had no optimal solution.\n",
      "The CommonGround optimization problem had no optimal solution.\n",
      "The tCommonGround optimization problem had no optimal solution.\n",
      "The tCommonGround optimization problem had no optimal solution.\n"
     ]
    },
    {
     "name": "stdout",
     "output_type": "stream",
     "text": [
      "The CommonGround_entani optimization problem had no optimal solution.\n",
      "The CommonGround_entani optimization problem had no optimal solution.\n",
      "The CommonGround optimization problem had no optimal solution.\n",
      "The CommonGround optimization problem had no optimal solution.\n",
      "The tCommonGround optimization problem had no optimal solution.\n",
      "The CommonGround_entani optimization problem had no optimal solution.\n",
      "The CommonGround optimization problem had no optimal solution.\n",
      "The CommonGround_entani optimization problem had no optimal solution.\n",
      "The CommonGround optimization problem had no optimal solution.\n",
      "The tCommonGround optimization problem had no optimal solution.\n",
      "The tCommonGround optimization problem had no optimal solution.\n"
     ]
    },
    {
     "name": "stdout",
     "output_type": "stream",
     "text": [
      "The CommonGround_entani optimization problem had no optimal solution.\n",
      "The CommonGround_entani optimization problem had no optimal solution.\n",
      "The CommonGround optimization problem had no optimal solution.\n",
      "The CommonGround optimization problem had no optimal solution.\n",
      "The tCommonGround optimization problem had no optimal solution.\n",
      "The tCommonGround optimization problem had no optimal solution.\n",
      "The CommonGround_entani optimization problem had no optimal solution.\n",
      "The CommonGround_entani optimization problem had no optimal solution.\n",
      "The CommonGround optimization problem had no optimal solution.\n",
      "The CommonGround optimization problem had no optimal solution.\n",
      "The tCommonGround optimization problem had no optimal solution.\n",
      "The CommonGround_entani optimization problem had no optimal solution.\n",
      "The CommonGround_entani optimization problem had no optimal solution.\n",
      "The CommonGround optimization problem had no optimal solution.\n",
      "The CommonGround optimization problem had no optimal solution.\n",
      "The CommonGround_entani optimization problem had no optimal solution.\n",
      "The CommonGround_entani optimization problem had no optimal solution."
     ]
    },
    {
     "name": "stdout",
     "output_type": "stream",
     "text": [
      "\n",
      "The tCommonGround optimization problem had no optimal solution.\n",
      "The CommonGround optimization problem had no optimal solution.\n",
      "The CommonGround optimization problem had no optimal solution.\n",
      "The tCommonGround optimization problem had no optimal solution.\n",
      "The CommonGround_entani optimization problem had no optimal solution."
     ]
    },
    {
     "name": "stdout",
     "output_type": "stream",
     "text": [
      "\n",
      "The CommonGround_entani optimization problem had no optimal solution.\n",
      "The CommonGround optimization problem had no optimal solution.\n",
      "The CommonGround optimization problem had no optimal solution.\n",
      "The CommonGround_entani optimization problem had no optimal solution.\n",
      "The tCommonGround optimization problem had no optimal solution.\n",
      "The tCommonGround optimization problem had no optimal solution.\n",
      "The CommonGround_entani optimization problem had no optimal solution.\n",
      "The CommonGround optimization problem had no optimal solution.\n",
      "The CommonGround optimization problem had no optimal solution.\n",
      "The tCommonGround optimization problem had no optimal solution.\n",
      "The CommonGround_entani optimization problem had no optimal solution.\n",
      "The CommonGround_entani optimization problem had no optimal solution."
     ]
    },
    {
     "name": "stdout",
     "output_type": "stream",
     "text": [
      "\n",
      "The CommonGround optimization problem had no optimal solution.\n",
      "The CommonGround optimization problem had no optimal solution.\n",
      "The CommonGround_entani optimization problem had no optimal solution.\n",
      "The tCommonGround optimization problem had no optimal solution.\n",
      "The CommonGround optimization problem had no optimal solution.\n",
      "The CommonGround_entani optimization problem had no optimal solution.\n",
      "The tCommonGround optimization problem had no optimal solution.\n",
      "The CommonGround optimization problem had no optimal solution.\n",
      "The tCommonGround optimization problem had no optimal solution.\n",
      "The CommonGround_entani optimization problem had no optimal solution.\n",
      "The CommonGround_entani optimization problem had no optimal solution."
     ]
    },
    {
     "name": "stdout",
     "output_type": "stream",
     "text": [
      "\n",
      "The CommonGround optimization problem had no optimal solution.\n",
      "The CommonGround_entani optimization problem had no optimal solution.\n",
      "The CommonGround optimization problem had no optimal solution.\n",
      "The tCommonGround optimization problem had no optimal solution.\n",
      "The CommonGround optimization problem had no optimal solution.\n",
      "The tCommonGround optimization problem had no optimal solution.\n",
      "The tCommonGround optimization problem had no optimal solution.\n",
      "The CommonGround_entani optimization problem had no optimal solution.\n",
      "The CommonGround optimization problem had no optimal solution.\n",
      "The CommonGround_entani optimization problem had no optimal solution.\n",
      "The CommonGround_entani optimization problem had no optimal solution."
     ]
    },
    {
     "name": "stdout",
     "output_type": "stream",
     "text": [
      "\n",
      "The CommonGround optimization problem had no optimal solution.\n",
      "The tCommonGround optimization problem had no optimal solution.\n",
      "The CommonGround_entani optimization problem had no optimal solution.\n",
      "The CommonGround optimization problem had no optimal solution.\n",
      "The tCommonGround optimization problem had no optimal solution.\n",
      "The CommonGround optimization problem had no optimal solution.\n",
      "The tCommonGround optimization problem had no optimal solution.\n",
      "The CommonGround_entani optimization problem had no optimal solution.\n",
      "The CommonGround optimization problem had no optimal solution.\n",
      "The tCommonGround optimization problem had no optimal solution.\n",
      "The CommonGround optimization problem had no optimal solution.\n",
      "The CommonGround_entani optimization problem had no optimal solution."
     ]
    },
    {
     "name": "stdout",
     "output_type": "stream",
     "text": [
      "\n"
     ]
    },
    {
     "name": "stdout",
     "output_type": "stream",
     "text": [
      "The CommonGround optimization problem had no optimal solution.\n",
      "The CommonGround_entani optimization problem had no optimal solution.\n",
      "The tCommonGround optimization problem had no optimal solution.\n",
      "The CommonGround optimization problem had no optimal solution.\n",
      "The tCommonGround optimization problem had no optimal solution.\n"
     ]
    },
    {
     "name": "stdout",
     "output_type": "stream",
     "text": [
      "The CommonGround_entani optimization problem had no optimal solution.\n",
      "The CommonGround optimization problem had no optimal solution.\n",
      "The CommonGround_entani optimization problem had no optimal solution.\n",
      "The tCommonGround optimization problem had no optimal solution.\n",
      "The CommonGround optimization problem had no optimal solution.\n",
      "The tCommonGround optimization problem had no optimal solution.\n",
      "The CommonGround_entani optimization problem had no optimal solution.\n",
      "The CommonGround_entani optimization problem had no optimal solution.\n",
      "The CommonGround optimization problem had no optimal solution.\n",
      "The CommonGround optimization problem had no optimal solution.\n"
     ]
    },
    {
     "name": "stdout",
     "output_type": "stream",
     "text": [
      "The CommonGround_entani optimization problem had no optimal solution.\n",
      "The CommonGround optimization problem had no optimal solution.\n",
      "The CommonGround_entani optimization problem had no optimal solution.\n",
      "The CommonGround optimization problem had no optimal solution.\n",
      "The tCommonGround optimization problem had no optimal solution.\n",
      "The CommonGround_entani optimization problem had no optimal solution.\n",
      "The CommonGround_entani optimization problem had no optimal solution.\n",
      "The CommonGround optimization problem had no optimal solution.\n",
      "The CommonGround optimization problem had no optimal solution.\n",
      "The tCommonGround optimization problem had no optimal solution.\n",
      "The CommonGround_entani optimization problem had no optimal solution.\n",
      "The CommonGround optimization problem had no optimal solution.\n",
      "The tCommonGround optimization problem had no optimal solution.\n",
      "The CommonGround_entani optimization problem had no optimal solution.\n",
      "The CommonGround optimization problem had no optimal solution.\n",
      "The CommonGround_entani optimization problem had no optimal solution."
     ]
    },
    {
     "name": "stdout",
     "output_type": "stream",
     "text": [
      "\n",
      "The tCommonGround optimization problem had no optimal solution.\n",
      "The CommonGround optimization problem had no optimal solution."
     ]
    },
    {
     "name": "stdout",
     "output_type": "stream",
     "text": [
      "\n",
      "The CommonGround_entani optimization problem had no optimal solution.\n",
      "The tCommonGround optimization problem had no optimal solution.\n",
      "The CommonGround optimization problem had no optimal solution.\n",
      "The CommonGround_entani optimization problem had no optimal solution.\n",
      "The CommonGround optimization problem had no optimal solution.\n",
      "The CommonGround_entani optimization problem had no optimal solution.\n",
      "The tCommonGround optimization problem had no optimal solution.\n",
      "The CommonGround optimization problem had no optimal solution.\n",
      "The tCommonGround optimization problem had no optimal solution.\n",
      "The CommonGround_entani optimization problem had no optimal solution.\n",
      "The CommonGround_entani optimization problem had no optimal solution."
     ]
    },
    {
     "name": "stdout",
     "output_type": "stream",
     "text": [
      "\n"
     ]
    },
    {
     "name": "stdout",
     "output_type": "stream",
     "text": [
      "The CommonGround optimization problem had no optimal solution.\n",
      "The CommonGround optimization problem had no optimal solution.\n",
      "The tCommonGround optimization problem had no optimal solution.\n",
      "The CommonGround_entani optimization problem had no optimal solution.\n",
      "The CommonGround optimization problem had no optimal solution.\n",
      "The tCommonGround optimization problem had no optimal solution.\n",
      "The CommonGround_entani optimization problem had no optimal solution.\n",
      "The CommonGround optimization problem had no optimal solution.\n",
      "The tCommonGround optimization problem had no optimal solution.\n",
      "The CommonGround_entani optimization problem had no optimal solution.\n",
      "The CommonGround optimization problem had no optimal solution.\n",
      "The CommonGround_entani optimization problem had no optimal solution."
     ]
    },
    {
     "name": "stdout",
     "output_type": "stream",
     "text": [
      "\n",
      "The tCommonGround optimization problem had no optimal solution.\n",
      "The CommonGround optimization problem had no optimal solution.\n",
      "The CommonGround_entani optimization problem had no optimal solution.\n",
      "The tCommonGround optimization problem had no optimal solution.\n",
      "The CommonGround optimization problem had no optimal solution.\n",
      "The tCommonGround optimization problem had no optimal solution.\n",
      "The CommonGround_entani optimization problem had no optimal solution.\n",
      "The CommonGround optimization problem had no optimal solution.\n",
      "The CommonGround_entani optimization problem had no optimal solution.\n",
      "The tCommonGround optimization problem had no optimal solution.\n",
      "The CommonGround optimization problem had no optimal solution.\n",
      "The tCommonGround optimization problem had no optimal solution.\n",
      "The CommonGround_entani optimization problem had no optimal solution."
     ]
    },
    {
     "name": "stdout",
     "output_type": "stream",
     "text": [
      "\n",
      "The CommonGround optimization problem had no optimal solution.\n",
      "The tCommonGround optimization problem had no optimal solution.\n",
      "The CommonGround_entani optimization problem had no optimal solution.\n",
      "The CommonGround optimization problem had no optimal solution.\n",
      "The tCommonGround optimization problem had no optimal solution.\n",
      "The CommonGround_entani optimization problem had no optimal solution.\n",
      "The CommonGround optimization problem had no optimal solution.\n",
      "The CommonGround_entani optimization problem had no optimal solution.\n",
      "The tCommonGround optimization problem had no optimal solution.\n",
      "The CommonGround optimization problem had no optimal solution.\n",
      "The tCommonGround optimization problem had no optimal solution.\n",
      "The CommonGround_entani optimization problem had no optimal solution."
     ]
    },
    {
     "name": "stdout",
     "output_type": "stream",
     "text": [
      "\n",
      "The CommonGround optimization problem had no optimal solution.\n"
     ]
    },
    {
     "name": "stdout",
     "output_type": "stream",
     "text": [
      "The CommonGround_entani optimization problem had no optimal solution.\n",
      "The tCommonGround optimization problem had no optimal solution.\n",
      "The CommonGround optimization problem had no optimal solution.\n",
      "The tCommonGround optimization problem had no optimal solution.\n",
      "The CommonGround_entani optimization problem had no optimal solution.\n",
      "The CommonGround optimization problem had no optimal solution.\n",
      "The CommonGround_entani optimization problem had no optimal solution.\n",
      "The tCommonGround optimization problem had no optimal solution.\n",
      "The CommonGround optimization problem had no optimal solution.\n",
      "The CommonGround_entani optimization problem had no optimal solution."
     ]
    },
    {
     "name": "stdout",
     "output_type": "stream",
     "text": [
      "\n",
      "The CommonGround optimization problem had no optimal solution.\n"
     ]
    },
    {
     "name": "stdout",
     "output_type": "stream",
     "text": [
      "The CommonGround_entani optimization problem had no optimal solution.\n",
      "The CommonGround optimization problem had no optimal solution.\n",
      "The CommonGround_entani optimization problem had no optimal solution.\n",
      "The CommonGround_entani optimization problem had no optimal solution.\n",
      "The tCommonGround optimization problem had no optimal solution.\n",
      "The CommonGround optimization problem had no optimal solution.\n",
      "The CommonGround optimization problem had no optimal solution.\n",
      "The tCommonGround optimization problem had no optimal solution.\n",
      "The CommonGround_entani optimization problem had no optimal solution.\n",
      "The CommonGround optimization problem had no optimal solution."
     ]
    },
    {
     "name": "stdout",
     "output_type": "stream",
     "text": [
      "\n",
      "The tCommonGround optimization problem had no optimal solution.\n",
      "The CommonGround_entani optimization problem had no optimal solution.\n",
      "The CommonGround optimization problem had no optimal solution.\n",
      "The CommonGround_entani optimization problem had no optimal solution.\n",
      "The tCommonGround optimization problem had no optimal solution.\n",
      "The CommonGround_entani optimization problem had no optimal solution.\n",
      "The CommonGround optimization problem had no optimal solution.\n",
      "The CommonGround optimization problem had no optimal solution.\n",
      "The tCommonGround optimization problem had no optimal solution.\n",
      "The tCommonGround optimization problem had no optimal solution.\n",
      "The CommonGround_entani optimization problem had no optimal solution."
     ]
    },
    {
     "name": "stdout",
     "output_type": "stream",
     "text": [
      "\n",
      "The CommonGround optimization problem had no optimal solution.\n",
      "The CommonGround optimization problem had no optimal solution.\n",
      "The tCommonGround optimization problem had no optimal solution.\n",
      "The CommonGround_entani optimization problem had no optimal solution.\n",
      "The CommonGround optimization problem had no optimal solution.\n",
      "The CommonGround_entani optimization problem had no optimal solution.\n",
      "The tCommonGround optimization problem had no optimal solution.\n",
      "The CommonGround optimization problem had no optimal solution.\n",
      "The CommonGround_entani optimization problem had no optimal solution."
     ]
    },
    {
     "name": "stdout",
     "output_type": "stream",
     "text": [
      "\n",
      "The CommonGround optimization problem had no optimal solution.\n",
      "The CommonGround_entani optimization problem had no optimal solution.\n",
      "The CommonGround optimization problem had no optimal solution.\n",
      "The tCommonGround optimization problem had no optimal solution.\n",
      "The CommonGround_entani optimization problem had no optimal solution.\n",
      "The CommonGround optimization problem had no optimal solution.\n",
      "The tCommonGround optimization problem had no optimal solution.\n",
      "The CommonGround_entani optimization problem had no optimal solution.\n",
      "The CommonGround optimization problem had no optimal solution.\n",
      "The CommonGround_entani optimization problem had no optimal solution."
     ]
    },
    {
     "name": "stdout",
     "output_type": "stream",
     "text": [
      "\n",
      "The CommonGround optimization problem had no optimal solution.\n",
      "The CommonGround_entani optimization problem had no optimal solution.\n",
      "The CommonGround optimization problem had no optimal solution.\n",
      "The tCommonGround optimization problem had no optimal solution.\n"
     ]
    },
    {
     "name": "stdout",
     "output_type": "stream",
     "text": [
      "The tCommonGround optimization problem had no optimal solution.\n",
      "The CommonGround_entani optimization problem had no optimal solution.\n",
      "The CommonGround optimization problem had no optimal solution.\n",
      "The tCommonGround optimization problem had no optimal solution.\n",
      "The CommonGround_entani optimization problem had no optimal solution.\n",
      "The CommonGround optimization problem had no optimal solution.\n",
      "The tCommonGround optimization problem had no optimal solution.\n",
      "The CommonGround_entani optimization problem had no optimal solution.\n"
     ]
    },
    {
     "name": "stdout",
     "output_type": "stream",
     "text": [
      "The CommonGround optimization problem had no optimal solution.\n",
      "The CommonGround_entani optimization problem had no optimal solution.\n",
      "The CommonGround optimization problem had no optimal solution.\n",
      "The CommonGround_entani optimization problem had no optimal solution.\n",
      "The tCommonGround optimization problem had no optimal solution.\n",
      "The CommonGround optimization problem had no optimal solution.\n",
      "The tCommonGround optimization problem had no optimal solution.\n",
      "The CommonGround_entani optimization problem had no optimal solution.\n",
      "The CommonGround optimization problem had no optimal solution.\n",
      "The tCommonGround optimization problem had no optimal solution.\n",
      "The CommonGround_entani optimization problem had no optimal solution.\n",
      "The CommonGround_entani optimization problem had no optimal solution."
     ]
    },
    {
     "name": "stdout",
     "output_type": "stream",
     "text": [
      "\n",
      "The CommonGround optimization problem had no optimal solution.\n",
      "The CommonGround optimization problem had no optimal solution.\n",
      "The tCommonGround optimization problem had no optimal solution.\n",
      "The tCommonGround optimization problem had no optimal solution.\n",
      "The CommonGround_entani optimization problem had no optimal solution.\n",
      "The CommonGround optimization problem had no optimal solution.\n",
      "The tCommonGround optimization problem had no optimal solution.\n",
      "The CommonGround_entani optimization problem had no optimal solution.\n",
      "The CommonGround optimization problem had no optimal solution.\n",
      "The tCommonGround optimization problem had no optimal solution.\n",
      "The CommonGround_entani optimization problem had no optimal solution."
     ]
    },
    {
     "name": "stdout",
     "output_type": "stream",
     "text": [
      "\n",
      "The CommonGround_entani optimization problem had no optimal solution.\n",
      "The CommonGround optimization problem had no optimal solution.\n"
     ]
    },
    {
     "name": "stdout",
     "output_type": "stream",
     "text": [
      "The CommonGround optimization problem had no optimal solution.\n",
      "The tCommonGround optimization problem had no optimal solution.\n",
      "The CommonGround_entani optimization problem had no optimal solution.\n",
      "The tCommonGround optimization problem had no optimal solution.\n",
      "The CommonGround_entani optimization problem had no optimal solution.\n",
      "The CommonGround optimization problem had no optimal solution.\n",
      "The CommonGround optimization problem had no optimal solution.\n",
      "The tCommonGround optimization problem had no optimal solution.\n",
      "The CommonGround_entani optimization problem had no optimal solution."
     ]
    },
    {
     "name": "stdout",
     "output_type": "stream",
     "text": [
      "\n",
      "The CommonGround_entani optimization problem had no optimal solution.\n",
      "The CommonGround optimization problem had no optimal solution.\n"
     ]
    },
    {
     "name": "stdout",
     "output_type": "stream",
     "text": [
      "The CommonGround optimization problem had no optimal solution.\n",
      "The tCommonGround optimization problem had no optimal solution.\n",
      "The tCommonGround optimization problem had no optimal solution.\n",
      "The CommonGround_entani optimization problem had no optimal solution.\n",
      "The CommonGround_entani optimization problem had no optimal solution."
     ]
    },
    {
     "name": "stdout",
     "output_type": "stream",
     "text": [
      "\n",
      "The CommonGround optimization problem had no optimal solution.\n",
      "The CommonGround_entani optimization problem had no optimal solution.\n",
      "The CommonGround optimization problem had no optimal solution.\n",
      "The tCommonGround optimization problem had no optimal solution.\n",
      "The CommonGround optimization problem had no optimal solution.\n",
      "The tCommonGround optimization problem had no optimal solution."
     ]
    },
    {
     "name": "stdout",
     "output_type": "stream",
     "text": [
      "\n",
      "The tCommonGround optimization problem had no optimal solution.\n",
      "The CommonGround_entani optimization problem had no optimal solution.\n",
      "The CommonGround optimization problem had no optimal solution.\n",
      "The CommonGround_entani optimization problem had no optimal solution.\n",
      "The tCommonGround optimization problem had no optimal solution.\n",
      "The CommonGround optimization problem had no optimal solution.\n",
      "The tCommonGround optimization problem had no optimal solution.\n",
      "The CommonGround_entani optimization problem had no optimal solution.\n",
      "The CommonGround_entani optimization problem had no optimal solution."
     ]
    },
    {
     "name": "stdout",
     "output_type": "stream",
     "text": [
      "\n",
      "The CommonGround optimization problem had no optimal solution.\n",
      "The CommonGround optimization problem had no optimal solution.\n",
      "The tCommonGround optimization problem had no optimal solution.\n",
      "The tCommonGround optimization problem had no optimal solution.\n"
     ]
    },
    {
     "name": "stdout",
     "output_type": "stream",
     "text": [
      "The CommonGround_entani optimization problem had no optimal solution.\n",
      "The CommonGround_entani optimization problem had no optimal solution.\n",
      "The CommonGround optimization problem had no optimal solution.\n",
      "The CommonGround optimization problem had no optimal solution.\n",
      "The tCommonGround optimization problem had no optimal solution.\n",
      "The CommonGround_entani optimization problem had no optimal solution.\n",
      "The CommonGround_entani optimization problem had no optimal solution.\n",
      "The CommonGround optimization problem had no optimal solution.\n",
      "The CommonGround optimization problem had no optimal solution.\n",
      "The tCommonGround optimization problem had no optimal solution.\n"
     ]
    },
    {
     "name": "stdout",
     "output_type": "stream",
     "text": [
      "The CommonGround_entani optimization problem had no optimal solution.\n",
      "The CommonGround_entani optimization problem had no optimal solution.\n",
      "The CommonGround optimization problem had no optimal solution.\n",
      "The tCommonGround optimization problem had no optimal solution.\n",
      "The CommonGround optimization problem had no optimal solution.\n",
      "The CommonGround_entani optimization problem had no optimal solution.\n",
      "The CommonGround_entani optimization problem had no optimal solution.\n",
      "The CommonGround optimization problem had no optimal solution.\n",
      "The CommonGround optimization problem had no optimal solution.\n",
      "The tCommonGround optimization problem had no optimal solution.\n",
      "The tCommonGround optimization problem had no optimal solution.\n"
     ]
    },
    {
     "name": "stdout",
     "output_type": "stream",
     "text": [
      "The CommonGround_entani optimization problem had no optimal solution.\n",
      "The CommonGround optimization problem had no optimal solution.\n",
      "The CommonGround_entani optimization problem had no optimal solution.\n",
      "The tCommonGround optimization problem had no optimal solution.\n",
      "The CommonGround optimization problem had no optimal solution.\n",
      "The CommonGround_entani optimization problem had no optimal solution.\n",
      "The CommonGround_entani optimization problem had no optimal solution.\n",
      "The CommonGround optimization problem had no optimal solution.\n",
      "The CommonGround optimization problem had no optimal solution.\n",
      "The tCommonGround optimization problem had no optimal solution.\n"
     ]
    },
    {
     "name": "stdout",
     "output_type": "stream",
     "text": [
      "The CommonGround_entani optimization problem had no optimal solution.\n",
      "The CommonGround optimization problem had no optimal solution.\n",
      "The CommonGround_entani optimization problem had no optimal solution.\n",
      "The CommonGround optimization problem had no optimal solution.\n",
      "The tCommonGround optimization problem had no optimal solution.\n",
      "The tCommonGround optimization problem had no optimal solution.\n",
      "The CommonGround_entani optimization problem had no optimal solution.\n",
      "The CommonGround optimization problem had no optimal solution.\n",
      "The tCommonGround optimization problem had no optimal solution.\n",
      "The CommonGround_entani optimization problem had no optimal solution.\n",
      "The CommonGround_entani optimization problem had no optimal solution.\n",
      "The CommonGround_entani optimization problem had no optimal solution.\n",
      "The CommonGround optimization problem had no optimal solution.\n",
      "The CommonGround optimization problem had no optimal solution.\n",
      "The CommonGround optimization problem had no optimal solution."
     ]
    },
    {
     "name": "stdout",
     "output_type": "stream",
     "text": [
      "\n",
      "The tCommonGround optimization problem had no optimal solution.\n"
     ]
    },
    {
     "name": "stdout",
     "output_type": "stream",
     "text": [
      "The CommonGround_entani optimization problem had no optimal solution.\n",
      "The CommonGround optimization problem had no optimal solution.\n",
      "The CommonGround_entani optimization problem had no optimal solution.\n",
      "The tCommonGround optimization problem had no optimal solution.\n",
      "The CommonGround_entani optimization problem had no optimal solution.\n"
     ]
    },
    {
     "name": "stdout",
     "output_type": "stream",
     "text": [
      "The CommonGround optimization problem had no optimal solution.\n",
      "The CommonGround optimization problem had no optimal solution.\n",
      "The CommonGround optimization problem had no optimal solution.\n"
     ]
    },
    {
     "name": "stdout",
     "output_type": "stream",
     "text": [
      "The tCommonGround optimization problem had no optimal solution.\n",
      "The CommonGround_entani optimization problem had no optimal solution.\n",
      "The CommonGround optimization problem had no optimal solution.\n",
      "The tCommonGround optimization problem had no optimal solution.\n",
      "The CommonGround_entani optimization problem had no optimal solution.\n",
      "The CommonGround_entani optimization problem had no optimal solution.\n",
      "The CommonGround optimization problem had no optimal solution.\n",
      "The CommonGround optimization problem had no optimal solution.\n",
      "The tCommonGround optimization problem had no optimal solution.\n",
      "The CommonGround_entani optimization problem had no optimal solution.\n",
      "The CommonGround optimization problem had no optimal solution.\n",
      "The CommonGround_entani optimization problem had no optimal solution.\n",
      "The tCommonGround optimization problem had no optimal solution.\n",
      "The CommonGround optimization problem had no optimal solution.\n"
     ]
    },
    {
     "name": "stdout",
     "output_type": "stream",
     "text": [
      "The CommonGround_entani optimization problem had no optimal solution.\n",
      "The CommonGround_entani optimization problem had no optimal solution.\n",
      "The CommonGround optimization problem had no optimal solution.\n",
      "The CommonGround optimization problem had no optimal solution.\n",
      "The tCommonGround optimization problem had no optimal solution.\n",
      "The CommonGround_entani optimization problem had no optimal solution.\n",
      "The CommonGround_entani optimization problem had no optimal solution.\n",
      "The CommonGround optimization problem had no optimal solution.\n",
      "The tCommonGround optimization problem had no optimal solution.\n",
      "The CommonGround optimization problem had no optimal solution.\n",
      "The tCommonGround optimization problem had no optimal solution.\n",
      "The CommonGround_entani optimization problem had no optimal solution.\n",
      "The CommonGround_entani optimization problem had no optimal solution."
     ]
    },
    {
     "name": "stdout",
     "output_type": "stream",
     "text": [
      "\n",
      "The CommonGround optimization problem had no optimal solution.\n",
      "The CommonGround optimization problem had no optimal solution.\n",
      "The tCommonGround optimization problem had no optimal solution.\n",
      "The CommonGround_entani optimization problem had no optimal solution.\n",
      "The CommonGround_entani optimization problem had no optimal solution.\n",
      "The CommonGround optimization problem had no optimal solution.\n",
      "The CommonGround optimization problem had no optimal solution.\n",
      "The tCommonGround optimization problem had no optimal solution.\n",
      "The tCommonGround optimization problem had no optimal solution.\n",
      "The CommonGround_entani optimization problem had no optimal solution."
     ]
    },
    {
     "name": "stdout",
     "output_type": "stream",
     "text": [
      "\n"
     ]
    },
    {
     "name": "stdout",
     "output_type": "stream",
     "text": [
      "The CommonGround optimization problem had no optimal solution.\n",
      "The CommonGround_entani optimization problem had no optimal solution.\n",
      "The tCommonGround optimization problem had no optimal solution.\n",
      "The CommonGround optimization problem had no optimal solution.\n",
      "The tCommonGround optimization problem had no optimal solution.\n",
      "The CommonGround_entani optimization problem had no optimal solution.\n",
      "The CommonGround_entani optimization problem had no optimal solution.\n",
      "The CommonGround optimization problem had no optimal solution.\n",
      "The tCommonGround optimization problem had no optimal solution.\n",
      "The CommonGround optimization problem had no optimal solution.\n",
      "The CommonGround_entani optimization problem had no optimal solution."
     ]
    },
    {
     "name": "stdout",
     "output_type": "stream",
     "text": [
      "\n"
     ]
    },
    {
     "name": "stdout",
     "output_type": "stream",
     "text": [
      "The CommonGround optimization problem had no optimal solution.\n",
      "The CommonGround_entani optimization problem had no optimal solution.\n",
      "The tCommonGround optimization problem had no optimal solution.\n",
      "The CommonGround optimization problem had no optimal solution.\n",
      "The tCommonGround optimization problem had no optimal solution.\n",
      "The CommonGround_entani optimization problem had no optimal solution.\n",
      "The CommonGround optimization problem had no optimal solution.\n",
      "The CommonGround_entani optimization problem had no optimal solution.\n",
      "The tCommonGround optimization problem had no optimal solution.\n",
      "The CommonGround_entani optimization problem had no optimal solution.\n",
      "The CommonGround optimization problem had no optimal solution.\n",
      "The CommonGround_entani optimization problem had no optimal solution."
     ]
    },
    {
     "name": "stdout",
     "output_type": "stream",
     "text": [
      "\n",
      "The CommonGround optimization problem had no optimal solution.\n",
      "The tCommonGround optimization problem had no optimal solution.\n",
      "The tCommonGround optimization problem had no optimal solution.\n",
      "The CommonGround optimization problem had no optimal solution.\n",
      "The tCommonGround optimization problem had no optimal solution.\n"
     ]
    },
    {
     "name": "stdout",
     "output_type": "stream",
     "text": [
      "The CommonGround_entani optimization problem had no optimal solution.\n",
      "The CommonGround optimization problem had no optimal solution.\n",
      "The tCommonGround optimization problem had no optimal solution.\n",
      "The CommonGround_entani optimization problem had no optimal solution.\n",
      "The CommonGround optimization problem had no optimal solution.\n",
      "The CommonGround_entani optimization problem had no optimal solution.\n",
      "The tCommonGround optimization problem had no optimal solution.\n",
      "The CommonGround optimization problem had no optimal solution.\n",
      "The CommonGround_entani optimization problem had no optimal solution.\n",
      "The CommonGround optimization problem had no optimal solution.\n",
      "The tCommonGround optimization problem had no optimal solution.\n"
     ]
    },
    {
     "name": "stderr",
     "output_type": "stream",
     "text": [
      "Excessive output truncated after 524833 bytes."
     ]
    }
   ],
   "source": [
    "desired_count = 1000\n",
    "run_experiments(pcms4, 4, 3, desired_count, \"4_3_0.65.csv\", \"PCM_4_3_0.65.csv\")\n",
    "run_experiments(pcms5, 5, 3, desired_count, \"5_3_0.65.csv\", \"PCM_5_3_0.65.csv\")\n",
    "run_experiments(pcms6, 6, 3, desired_count, \"6_3_0.65.csv\", \"PCM_6_3_0.65.csv\")\n",
    "run_experiments(pcms7, 7, 3, desired_count, \"7_3_0.65.csv\", \"PCM_7_3_0.65.csv\")\n",
    "run_experiments(pcms8, 8, 3, desired_count, \"8_3_0.65.csv\", \"PCM_8_3_0.65.csv\")"
   ]
  },
  {
   "cell_type": "code",
   "execution_count": 6,
   "metadata": {},
   "outputs": [
    {
     "data": {
      "text/plain": [
       "3-element Vector{Matrix{Float64}}:\n",
       " [1.0 2.0 … 1.0 1.0; 0.5 1.0 … 1.0 1.0; … ; 1.0 1.0 … 1.0 1.0; 1.0 1.0 … 1.0 1.0]\n",
       " [1.0 2.0 … 2.0 1.0; 0.5 1.0 … 1.0 1.0; … ; 0.5 1.0 … 1.0 1.0; 1.0 1.0 … 1.0 1.0]\n",
       " [1.0 1.0 … 2.0 1.0; 1.0 1.0 … 1.0 1.0; … ; 0.5 1.0 … 1.0 1.0; 1.0 1.0 … 1.0 1.0]"
      ]
     },
     "metadata": {},
     "output_type": "display_data"
    }
   ],
   "source": [
    "selected_pcms = random_select_pcms(pcms7, 3)"
   ]
  }
 ],
 "metadata": {
  "kernelspec": {
   "display_name": "Julia 1.9.3",
   "language": "julia",
   "name": "julia-1.9"
  },
  "language_info": {
   "file_extension": ".jl",
   "mimetype": "application/julia",
   "name": "julia",
   "version": "1.9.3"
  }
 },
 "nbformat": 4,
 "nbformat_minor": 2
}
