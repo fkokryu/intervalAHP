{
 "cells": [
  {
   "cell_type": "code",
   "execution_count": 1,
   "metadata": {},
   "outputs": [],
   "source": [
    "using LaTeXStrings"
   ]
  },
  {
   "cell_type": "code",
   "execution_count": 2,
   "metadata": {},
   "outputs": [
    {
     "data": {
      "text/plain": [
       "run_experiments (generic function with 1 method)"
      ]
     },
     "metadata": {},
     "output_type": "display_data"
    }
   ],
   "source": [
    "include(\"./sim.jl\")\n",
    "include(\"../display/display-crisp-matrix.jl\")\n",
    "include(\"../display/display-interval-vector.jl\")\n",
    "include(\"display-csv.jl\")"
   ]
  },
  {
   "cell_type": "code",
   "execution_count": 3,
   "metadata": {},
   "outputs": [
    {
     "name": "stdout",
     "output_type": "stream",
     "text": [
      "Number of threads: 4\n"
     ]
    }
   ],
   "source": [
    "using Base.Threads\n",
    "\n",
    "println(\"Number of threads: \", nthreads())"
   ]
  },
  {
   "cell_type": "code",
   "execution_count": 4,
   "metadata": {},
   "outputs": [
    {
     "data": {
      "text/plain": [
       "1001-element Vector{Matrix{Float64}}:\n",
       " [1.0 1.0 … 1.0 2.0; 1.0 1.0 … 1.0 2.0; … ; 1.0 1.0 … 1.0 2.0; 0.5 0.5 … 0.5 1.0]\n",
       " [1.0 1.0 … 2.0 2.0; 1.0 1.0 … 2.0 6.0; … ; 0.5 0.5 … 1.0 2.0; 0.5 0.16666666666666666 … 0.5 1.0]\n",
       " [1.0 1.0 … 1.0 2.0; 1.0 1.0 … 2.0 4.0; … ; 1.0 0.5 … 1.0 2.0; 0.5 0.25 … 0.5 1.0]\n",
       " [1.0 1.0 … 1.0 2.0; 1.0 1.0 … 2.0 2.0; … ; 1.0 0.5 … 1.0 2.0; 0.5 0.5 … 0.5 1.0]\n",
       " [1.0 1.0 … 1.0 2.0; 1.0 1.0 … 2.0 2.0; … ; 1.0 0.5 … 1.0 2.0; 0.5 0.5 … 0.5 1.0]\n",
       " [1.0 1.0 … 1.0 1.0; 1.0 1.0 … 2.0 2.0; … ; 1.0 0.5 … 1.0 1.0; 1.0 0.5 … 1.0 1.0]\n",
       " [1.0 1.0 … 2.0 2.0; 1.0 1.0 … 2.0 2.0; … ; 0.5 0.5 … 1.0 2.0; 0.5 0.5 … 0.5 1.0]\n",
       " [1.0 1.0 … 1.0 1.0; 1.0 1.0 … 2.0 5.0; … ; 1.0 0.5 … 1.0 1.0; 1.0 0.2 … 1.0 1.0]\n",
       " [1.0 1.0 … 2.0 1.0; 1.0 1.0 … 1.0 2.0; … ; 0.5 1.0 … 1.0 1.0; 1.0 0.5 … 1.0 1.0]\n",
       " [1.0 1.0 … 2.0 1.0; 1.0 1.0 … 2.0 4.0; … ; 0.5 0.5 … 1.0 2.0; 1.0 0.25 … 0.5 1.0]\n",
       " ⋮\n",
       " [1.0 1.0 … 1.0 2.0; 1.0 1.0 … 2.0 2.0; … ; 1.0 0.5 … 1.0 2.0; 0.5 0.5 … 0.5 1.0]\n",
       " [1.0 1.0 … 1.0 2.0; 1.0 1.0 … 2.0 3.0; … ; 1.0 0.5 … 1.0 3.0; 0.5 0.3333333333333333 … 0.3333333333333333 1.0]\n",
       " [1.0 1.0 … 1.0 3.0; 1.0 1.0 … 2.0 5.0; … ; 1.0 0.5 … 1.0 3.0; 0.3333333333333333 0.2 … 0.3333333333333333 1.0]\n",
       " [1.0 1.0 … 1.0 2.0; 1.0 1.0 … 2.0 2.0; … ; 1.0 0.5 … 1.0 2.0; 0.5 0.5 … 0.5 1.0]\n",
       " [1.0 1.0 … 2.0 2.0; 1.0 1.0 … 3.0 4.0; … ; 0.5 0.3333333333333333 … 1.0 2.0; 0.5 0.25 … 0.5 1.0]\n",
       " [1.0 1.0 … 1.0 2.0; 1.0 1.0 … 2.0 7.0; … ; 1.0 0.5 … 1.0 2.0; 0.5 0.14285714285714285 … 0.5 1.0]\n",
       " [1.0 1.0 … 1.0 2.0; 1.0 1.0 … 2.0 3.0; … ; 1.0 0.5 … 1.0 1.0; 0.5 0.3333333333333333 … 1.0 1.0]\n",
       " [1.0 1.0 … 1.0 2.0; 1.0 1.0 … 2.0 3.0; … ; 1.0 0.5 … 1.0 1.0; 0.5 0.3333333333333333 … 1.0 1.0]\n",
       " [1.0 1.0 … 1.0 2.0; 1.0 1.0 … 2.0 3.0; … ; 1.0 0.5 … 1.0 2.0; 0.5 0.3333333333333333 … 0.5 1.0]"
      ]
     },
     "metadata": {},
     "output_type": "display_data"
    }
   ],
   "source": [
    "perturbation_strength = 0.65\n",
    "desired_count = 1000\n",
    "\n",
    "pcms4 = generate_similar_pcms(4, perturbation_strength, desired_count)\n",
    "pcms5 = generate_similar_pcms(5, perturbation_strength, desired_count)\n",
    "pcms6 = generate_similar_pcms(6, perturbation_strength, desired_count)\n",
    "pcms7 = generate_similar_pcms(7, perturbation_strength, desired_count)\n",
    "pcms8 = generate_similar_pcms(8, perturbation_strength, desired_count)"
   ]
  },
  {
   "cell_type": "code",
   "execution_count": 5,
   "metadata": {},
   "outputs": [
    {
     "name": "stdout",
     "output_type": "stream",
     "text": [
      "The CommonGround_entani optimization problem had no optimal solution.\n"
     ]
    },
    {
     "name": "stdout",
     "output_type": "stream",
     "text": [
      "The CommonGround optimization problem had no optimal solution.\n",
      "The CommonGround optimization problem had no optimal solution.\n",
      "The tCommonGround optimization problem had no optimal solution.\n"
     ]
    },
    {
     "name": "stdout",
     "output_type": "stream",
     "text": [
      "The tCommonGround optimization problem had no optimal solution.\n",
      "The CommonGround_entani optimization problem had no optimal solution.\n",
      "The CommonGround optimization problem had no optimal solution.\n",
      "The tCommonGround optimization problem had no optimal solution.\n"
     ]
    },
    {
     "name": "stdout",
     "output_type": "stream",
     "text": [
      "The CommonGround optimization problem had no optimal solution.\n",
      "The tCommonGround optimization problem had no optimal solution.\n",
      "The CommonGround optimization problem had no optimal solution.\n",
      "The CommonGround optimization problem had no optimal solution.\n",
      "The tCommonGround optimization problem had no optimal solution.\n",
      "The tCommonGround optimization problem had no optimal solution.\n"
     ]
    },
    {
     "name": "stdout",
     "output_type": "stream",
     "text": [
      "The CommonGround_entani optimization problem had no optimal solution.\n",
      "The CommonGround optimization problem had no optimal solution.\n",
      "The tCommonGround optimization problem had no optimal solution.\n",
      "The CommonGround optimization problem had no optimal solution.\n",
      "The tCommonGround optimization problem had no optimal solution.\n"
     ]
    },
    {
     "name": "stdout",
     "output_type": "stream",
     "text": [
      "The CommonGround_entani optimization problem had no optimal solution.\n",
      "The CommonGround optimization problem had no optimal solution.\n",
      "The tCommonGround optimization problem had no optimal solution.\n"
     ]
    },
    {
     "name": "stdout",
     "output_type": "stream",
     "text": [
      "The CommonGround optimization problem had no optimal solution.\n",
      "The tCommonGround optimization problem had no optimal solution.\n",
      "The CommonGround optimization problem had no optimal solution.\n",
      "The CommonGround_entani optimization problem had no optimal solution.\n",
      "The CommonGround optimization problem had no optimal solution.\n",
      "The tCommonGround optimization problem had no optimal solution.\n",
      "The tCommonGround optimization problem had no optimal solution.\n",
      "The CommonGround_entani optimization problem had no optimal solution.\n",
      "The CommonGround optimization problem had no optimal solution.\n",
      "The tCommonGround optimization problem had no optimal solution.\n",
      "The CommonGround_entani optimization problem had no optimal solution."
     ]
    },
    {
     "name": "stdout",
     "output_type": "stream",
     "text": [
      "\n",
      "The CommonGround optimization problem had no optimal solution.\n",
      "The tCommonGround optimization problem had no optimal solution.\n",
      "The CommonGround_entani optimization problem had no optimal solution.\n",
      "The CommonGround optimization problem had no optimal solution.\n",
      "The tCommonGround optimization problem had no optimal solution.\n",
      "The CommonGround optimization problem had no optimal solution."
     ]
    },
    {
     "name": "stdout",
     "output_type": "stream",
     "text": [
      "\n"
     ]
    },
    {
     "name": "stdout",
     "output_type": "stream",
     "text": [
      "The CommonGround_entani optimization problem had no optimal solution.\n",
      "The CommonGround optimization problem had no optimal solution.\n",
      "The CommonGround optimization problem had no optimal solution.\n",
      "The tCommonGround optimization problem had no optimal solution.\n",
      "The CommonGround_entani optimization problem had no optimal solution.\n",
      "The CommonGround optimization problem had no optimal solution.\n",
      "The tCommonGround optimization problem had no optimal solution.\n",
      "The CommonGround optimization problem had no optimal solution.\n"
     ]
    },
    {
     "name": "stdout",
     "output_type": "stream",
     "text": [
      "The CommonGround optimization problem had no optimal solution.\n",
      "The tCommonGround optimization problem had no optimal solution.\n",
      "The CommonGround_entani optimization problem had no optimal solution.\n",
      "The CommonGround optimization problem had no optimal solution.\n",
      "The tCommonGround optimization problem had no optimal solution.\n",
      "The CommonGround_entani optimization problem had no optimal solution.\n",
      "The CommonGround optimization problem had no optimal solution.\n",
      "The tCommonGround optimization problem had no optimal solution.\n",
      "The CommonGround_entani optimization problem had no optimal solution.\n",
      "The CommonGround optimization problem had no optimal solution.\n",
      "The CommonGround_entani optimization problem had no optimal solution.\n",
      "The tCommonGround optimization problem had no optimal solution.\n",
      "The CommonGround optimization problem had no optimal solution.\n",
      "The tCommonGround optimization problem had no optimal solution.\n",
      "The CommonGround_entani optimization problem had no optimal solution.\n",
      "The CommonGround optimization problem had no optimal solution.\n",
      "The tCommonGround optimization problem had no optimal solution.\n",
      "The CommonGround optimization problem had no optimal solution.\n",
      "The tCommonGround optimization problem had no optimal solution.\n",
      "The CommonGround_entani optimization problem had no optimal solution.\n",
      "The CommonGround optimization problem had no optimal solution.\n",
      "The tCommonGround optimization problem had no optimal solution.\n"
     ]
    },
    {
     "name": "stdout",
     "output_type": "stream",
     "text": [
      "The CommonGround_entani optimization problem had no optimal solution.\n",
      "The CommonGround optimization problem had no optimal solution.\n",
      "The tCommonGround optimization problem had no optimal solution.\n",
      "The CommonGround optimization problem had no optimal solution.\n",
      "The tCommonGround optimization problem had no optimal solution.\n"
     ]
    },
    {
     "name": "stdout",
     "output_type": "stream",
     "text": [
      "The CommonGround_entani optimization problem had no optimal solution.\n",
      "The CommonGround optimization problem had no optimal solution.\n",
      "The tCommonGround optimization problem had no optimal solution.\n",
      "The CommonGround_entani optimization problem had no optimal solution.\n",
      "The CommonGround optimization problem had no optimal solution.\n",
      "The tCommonGround optimization problem had no optimal solution.\n"
     ]
    },
    {
     "name": "stdout",
     "output_type": "stream",
     "text": [
      "The CommonGround_entani optimization problem had no optimal solution.\n",
      "The CommonGround optimization problem had no optimal solution.\n",
      "The CommonGround_entani optimization problem had no optimal solution.\n",
      "The CommonGround optimization problem had no optimal solution.\n",
      "The tCommonGround optimization problem had no optimal solution.\n",
      "The tCommonGround optimization problem had no optimal solution.\n",
      "The CommonGround optimization problem had no optimal solution.\n",
      "The CommonGround_entani optimization problem had no optimal solution.\n",
      "The CommonGround optimization problem had no optimal solution.\n",
      "The tCommonGround optimization problem had no optimal solution.\n",
      "The CommonGround optimization problem had no optimal solution.\n",
      "The tCommonGround optimization problem had no optimal solution.\n",
      "The CommonGround optimization problem had no optimal solution."
     ]
    },
    {
     "name": "stdout",
     "output_type": "stream",
     "text": [
      "\n",
      "The tCommonGround optimization problem had no optimal solution.\n"
     ]
    },
    {
     "name": "stdout",
     "output_type": "stream",
     "text": [
      "The CommonGround optimization problem had no optimal solution.\n",
      "The tCommonGround optimization problem had no optimal solution.\n"
     ]
    },
    {
     "name": "stdout",
     "output_type": "stream",
     "text": [
      "The CommonGround_entani optimization problem had no optimal solution.\n",
      "The CommonGround optimization problem had no optimal solution.\n",
      "The tCommonGround optimization problem had no optimal solution.\n",
      "The CommonGround optimization problem had no optimal solution.\n",
      "The tCommonGround optimization problem had no optimal solution.\n"
     ]
    },
    {
     "name": "stdout",
     "output_type": "stream",
     "text": [
      "The CommonGround optimization problem had no optimal solution.\n",
      "The tCommonGround optimization problem had no optimal solution.\n",
      "The CommonGround optimization problem had no optimal solution.\n",
      "The CommonGround_entani optimization problem had no optimal solution.\n",
      "The tCommonGround optimization problem had no optimal solution.\n",
      "The CommonGround optimization problem had no optimal solution.\n"
     ]
    },
    {
     "name": "stdout",
     "output_type": "stream",
     "text": [
      "The tCommonGround optimization problem had no optimal solution.\n",
      "The CommonGround optimization problem had no optimal solution.\n",
      "The tCommonGround optimization problem had no optimal solution.\n",
      "The CommonGround_entani optimization problem had no optimal solution.\n",
      "The CommonGround optimization problem had no optimal solution.\n",
      "The tCommonGround optimization problem had no optimal solution.\n",
      "The CommonGround_entani optimization problem had no optimal solution.\n",
      "The CommonGround optimization problem had no optimal solution.\n",
      "The CommonGround optimization problem had no optimal solution."
     ]
    },
    {
     "name": "stdout",
     "output_type": "stream",
     "text": [
      "\n",
      "The tCommonGround optimization problem had no optimal solution.\n",
      "The CommonGround optimization problem had no optimal solution.\n",
      "The tCommonGround optimization problem had no optimal solution.\n",
      "The CommonGround_entani optimization problem had no optimal solution."
     ]
    },
    {
     "name": "stdout",
     "output_type": "stream",
     "text": [
      "\n",
      "The CommonGround optimization problem had no optimal solution.\n",
      "The tCommonGround optimization problem had no optimal solution.\n",
      "The CommonGround_entani optimization problem had no optimal solution.\n",
      "The CommonGround optimization problem had no optimal solution.\n",
      "The CommonGround_entani optimization problem had no optimal solution."
     ]
    },
    {
     "name": "stdout",
     "output_type": "stream",
     "text": [
      "\n",
      "The CommonGround optimization problem had no optimal solution.\n",
      "The CommonGround_entani optimization problem had no optimal solution.\n",
      "The tCommonGround optimization problem had no optimal solution.\n",
      "The CommonGround optimization problem had no optimal solution.\n",
      "The tCommonGround optimization problem had no optimal solution.\n",
      "The CommonGround optimization problem had no optimal solution.\n",
      "The tCommonGround optimization problem had no optimal solution.\n",
      "The CommonGround optimization problem had no optimal solution."
     ]
    },
    {
     "name": "stdout",
     "output_type": "stream",
     "text": [
      "\n",
      "The tCommonGround optimization problem had no optimal solution.\n"
     ]
    },
    {
     "name": "stdout",
     "output_type": "stream",
     "text": [
      "The CommonGround optimization problem had no optimal solution.\n",
      "The tCommonGround optimization problem had no optimal solution.\n",
      "The CommonGround optimization problem had no optimal solution.\n",
      "The tCommonGround optimization problem had no optimal solution.\n"
     ]
    },
    {
     "name": "stdout",
     "output_type": "stream",
     "text": [
      "The CommonGround_entani optimization problem had no optimal solution.\n",
      "The CommonGround optimization problem had no optimal solution.\n",
      "The CommonGround optimization problem had no optimal solution.\n",
      "The tCommonGround optimization problem had no optimal solution.\n",
      "The CommonGround optimization problem had no optimal solution.\n",
      "The tCommonGround optimization problem had no optimal solution.\n",
      "The CommonGround optimization problem had no optimal solution.\n",
      "The CommonGround_entani optimization problem had no optimal solution.\n",
      "The CommonGround optimization problem had no optimal solution.\n",
      "The tCommonGround optimization problem had no optimal solution.\n",
      "The CommonGround optimization problem had no optimal solution.\n",
      "The CommonGround_entani optimization problem had no optimal solution.\n",
      "The CommonGround optimization problem had no optimal solution.\n",
      "The tCommonGround optimization problem had no optimal solution.\n",
      "The CommonGround optimization problem had no optimal solution."
     ]
    },
    {
     "name": "stdout",
     "output_type": "stream",
     "text": [
      "\n",
      "The CommonGround_entani optimization problem had no optimal solution.\n",
      "The tCommonGround optimization problem had no optimal solution.\n",
      "The CommonGround optimization problem had no optimal solution.\n",
      "The CommonGround optimization problem had no optimal solution.\n",
      "The tCommonGround optimization problem had no optimal solution.\n",
      "The CommonGround optimization problem had no optimal solution."
     ]
    },
    {
     "name": "stdout",
     "output_type": "stream",
     "text": [
      "\n",
      "The CommonGround_entani optimization problem had no optimal solution.\n",
      "The tCommonGround optimization problem had no optimal solution.\n",
      "The CommonGround optimization problem had no optimal solution.\n",
      "The tCommonGround optimization problem had no optimal solution.\n",
      "The CommonGround_entani optimization problem had no optimal solution.\n",
      "The CommonGround optimization problem had no optimal solution.\n",
      "The tCommonGround optimization problem had no optimal solution.\n",
      "The CommonGround optimization problem had no optimal solution."
     ]
    },
    {
     "name": "stdout",
     "output_type": "stream",
     "text": [
      "\n",
      "The tCommonGround optimization problem had no optimal solution.\n",
      "The CommonGround optimization problem had no optimal solution.\n",
      "The CommonGround_entani optimization problem had no optimal solution.\n",
      "The CommonGround optimization problem had no optimal solution.\n",
      "The tCommonGround optimization problem had no optimal solution.\n",
      "The CommonGround optimization problem had no optimal solution.\n",
      "The tCommonGround optimization problem had no optimal solution.\n",
      "The CommonGround_entani optimization problem had no optimal solution."
     ]
    },
    {
     "name": "stdout",
     "output_type": "stream",
     "text": [
      "\n",
      "The CommonGround optimization problem had no optimal solution.\n",
      "The tCommonGround optimization problem had no optimal solution.\n",
      "The CommonGround optimization problem had no optimal solution.\n",
      "The tCommonGround optimization problem had no optimal solution.\n",
      "The CommonGround_entani optimization problem had no optimal solution."
     ]
    },
    {
     "name": "stdout",
     "output_type": "stream",
     "text": [
      "\n",
      "The CommonGround optimization problem had no optimal solution.\n",
      "The CommonGround_entani optimization problem had no optimal solution.\n",
      "The tCommonGround optimization problem had no optimal solution.\n",
      "The CommonGround optimization problem had no optimal solution.\n",
      "The tCommonGround optimization problem had no optimal solution.\n",
      "The CommonGround_entani optimization problem had no optimal solution."
     ]
    },
    {
     "name": "stdout",
     "output_type": "stream",
     "text": [
      "\n",
      "The CommonGround optimization problem had no optimal solution.\n",
      "The tCommonGround optimization problem had no optimal solution.\n"
     ]
    },
    {
     "name": "stdout",
     "output_type": "stream",
     "text": [
      "The CommonGround optimization problem had no optimal solution.\n",
      "The tCommonGround optimization problem had no optimal solution.\n",
      "The CommonGround_entani optimization problem had no optimal solution.\n",
      "The CommonGround optimization problem had no optimal solution.\n",
      "The tCommonGround optimization problem had no optimal solution.\n",
      "The CommonGround optimization problem had no optimal solution.\n",
      "The CommonGround optimization problem had no optimal solution.\n",
      "The tCommonGround optimization problem had no optimal solution.\n",
      "The CommonGround_entani optimization problem had no optimal solution.\n",
      "The CommonGround optimization problem had no optimal solution.\n",
      "The tCommonGround optimization problem had no optimal solution.\n",
      "The CommonGround optimization problem had no optimal solution.\n",
      "The tCommonGround optimization problem had no optimal solution.\n",
      "The CommonGround_entani optimization problem had no optimal solution.\n",
      "The CommonGround optimization problem had no optimal solution.\n",
      "The tCommonGround optimization problem had no optimal solution.\n",
      "The CommonGround_entani optimization problem had no optimal solution."
     ]
    },
    {
     "name": "stdout",
     "output_type": "stream",
     "text": [
      "\n",
      "The CommonGround optimization problem had no optimal solution.\n",
      "The tCommonGround optimization problem had no optimal solution.\n",
      "The CommonGround_entani optimization problem had no optimal solution.\n",
      "The CommonGround optimization problem had no optimal solution.\n",
      "The tCommonGround optimization problem had no optimal solution.\n",
      "The CommonGround optimization problem had no optimal solution.\n",
      "The tCommonGround optimization problem had no optimal solution.\n",
      "The CommonGround_entani optimization problem had no optimal solution.\n",
      "The CommonGround optimization problem had no optimal solution.\n",
      "The tCommonGround optimization problem had no optimal solution.\n",
      "The CommonGround_entani optimization problem had no optimal solution."
     ]
    },
    {
     "name": "stdout",
     "output_type": "stream",
     "text": [
      "\n",
      "The CommonGround optimization problem had no optimal solution.\n",
      "The tCommonGround optimization problem had no optimal solution.\n"
     ]
    },
    {
     "name": "stdout",
     "output_type": "stream",
     "text": [
      "The CommonGround_entani optimization problem had no optimal solution.\n",
      "The CommonGround optimization problem had no optimal solution.\n",
      "The tCommonGround optimization problem had no optimal solution.\n",
      "The CommonGround_entani optimization problem had no optimal solution.\n",
      "The CommonGround optimization problem had no optimal solution.\n",
      "The tCommonGround optimization problem had no optimal solution.\n",
      "The CommonGround_entani optimization problem had no optimal solution.\n",
      "The CommonGround optimization problem had no optimal solution.\n",
      "The tCommonGround optimization problem had no optimal solution.\n",
      "The CommonGround_entani optimization problem had no optimal solution.\n",
      "The CommonGround optimization problem had no optimal solution.\n",
      "The tCommonGround optimization problem had no optimal solution.\n"
     ]
    },
    {
     "name": "stdout",
     "output_type": "stream",
     "text": [
      "The CommonGround_entani optimization problem had no optimal solution.\n",
      "The CommonGround optimization problem had no optimal solution.\n",
      "The tCommonGround optimization problem had no optimal solution.\n"
     ]
    },
    {
     "name": "stdout",
     "output_type": "stream",
     "text": [
      "The CommonGround optimization problem had no optimal solution.\n",
      "The tCommonGround optimization problem had no optimal solution.\n",
      "The CommonGround optimization problem had no optimal solution.\n",
      "The tCommonGround optimization problem had no optimal solution.\n",
      "The CommonGround optimization problem had no optimal solution.\n",
      "The tCommonGround optimization problem had no optimal solution.\n",
      "The CommonGround optimization problem had no optimal solution.\n",
      "The tCommonGround optimization problem had no optimal solution.\n",
      "The CommonGround optimization problem had no optimal solution.\n",
      "The CommonGround_entani optimization problem had no optimal solution.\n",
      "The CommonGround optimization problem had no optimal solution.\n",
      "The tCommonGround optimization problem had no optimal solution.\n",
      "The CommonGround_entani optimization problem had no optimal solution.\n",
      "The CommonGround optimization problem had no optimal solution.\n",
      "The tCommonGround optimization problem had no optimal solution.\n",
      "The CommonGround optimization problem had no optimal solution."
     ]
    },
    {
     "name": "stdout",
     "output_type": "stream",
     "text": [
      "\n",
      "The tCommonGround optimization problem had no optimal solution.\n",
      "The CommonGround optimization problem had no optimal solution.\n",
      "The CommonGround_entani optimization problem had no optimal solution.\n",
      "The CommonGround optimization problem had no optimal solution.\n",
      "The tCommonGround optimization problem had no optimal solution.\n",
      "The CommonGround_entani optimization problem had no optimal solution."
     ]
    },
    {
     "name": "stdout",
     "output_type": "stream",
     "text": [
      "\n",
      "The CommonGround optimization problem had no optimal solution.\n",
      "The tCommonGround optimization problem had no optimal solution.\n"
     ]
    },
    {
     "name": "stdout",
     "output_type": "stream",
     "text": [
      "The CommonGround optimization problem had no optimal solution.\n",
      "The tCommonGround optimization problem had no optimal solution.\n",
      "The CommonGround_entani optimization problem had no optimal solution.\n",
      "The CommonGround optimization problem had no optimal solution.\n",
      "The tCommonGround optimization problem had no optimal solution.\n",
      "The CommonGround_entani optimization problem had no optimal solution.\n"
     ]
    },
    {
     "name": "stdout",
     "output_type": "stream",
     "text": [
      "The CommonGround optimization problem had no optimal solution.\n",
      "The tCommonGround optimization problem had no optimal solution.\n"
     ]
    },
    {
     "name": "stdout",
     "output_type": "stream",
     "text": [
      "The CommonGround_entani optimization problem had no optimal solution.\n",
      "The CommonGround optimization problem had no optimal solution.\n",
      "The tCommonGround optimization problem had no optimal solution.\n",
      "The CommonGround optimization problem had no optimal solution.\n",
      "The tCommonGround optimization problem had no optimal solution.\n",
      "The CommonGround optimization problem had no optimal solution.\n",
      "The tCommonGround optimization problem had no optimal solution.\n",
      "The CommonGround optimization problem had no optimal solution.\n",
      "The tCommonGround optimization problem had no optimal solution.\n",
      "The CommonGround optimization problem had no optimal solution.\n"
     ]
    },
    {
     "name": "stdout",
     "output_type": "stream",
     "text": [
      "The CommonGround optimization problem had no optimal solution.\n",
      "The tCommonGround optimization problem had no optimal solution.\n",
      "The CommonGround optimization problem had no optimal solution.\n",
      "The CommonGround_entani optimization problem had no optimal solution.\n",
      "The tCommonGround optimization problem had no optimal solution.\n",
      "The CommonGround optimization problem had no optimal solution.\n",
      "The CommonGround_entani optimization problem had no optimal solution.\n",
      "The CommonGround optimization problem had no optimal solution.\n",
      "The tCommonGround optimization problem had no optimal solution.\n",
      "The tCommonGround optimization problem had no optimal solution.\n"
     ]
    },
    {
     "name": "stdout",
     "output_type": "stream",
     "text": [
      "The CommonGround optimization problem had no optimal solution.\n",
      "The tCommonGround optimization problem had no optimal solution.\n",
      "The CommonGround_entani optimization problem had no optimal solution.\n",
      "The CommonGround optimization problem had no optimal solution.\n",
      "The tCommonGround optimization problem had no optimal solution.\n",
      "The CommonGround_entani optimization problem had no optimal solution.\n",
      "The CommonGround optimization problem had no optimal solution.\n",
      "The tCommonGround optimization problem had no optimal solution.\n",
      "The CommonGround optimization problem had no optimal solution.\n",
      "The tCommonGround optimization problem had no optimal solution.\n",
      "The CommonGround optimization problem had no optimal solution.\n",
      "The tCommonGround optimization problem had no optimal solution.\n",
      "The CommonGround_entani optimization problem had no optimal solution.\n",
      "The CommonGround_entani optimization problem had no optimal solution.\n",
      "The CommonGround optimization problem had no optimal solution.\n",
      "The CommonGround optimization problem had no optimal solution.\n",
      "The tCommonGround optimization problem had no optimal solution.\n",
      "The tCommonGround optimization problem had no optimal solution.\n",
      "The CommonGround optimization problem had no optimal solution.\n",
      "The tCommonGround optimization problem had no optimal solution.\n",
      "The CommonGround_entani optimization problem had no optimal solution."
     ]
    },
    {
     "name": "stdout",
     "output_type": "stream",
     "text": [
      "\n",
      "The CommonGround_entani optimization problem had no optimal solution.\n",
      "The CommonGround optimization problem had no optimal solution.\n",
      "The CommonGround optimization problem had no optimal solution.\n",
      "The tCommonGround optimization problem had no optimal solution.\n",
      "The tCommonGround optimization problem had no optimal solution.\n",
      "The CommonGround optimization problem had no optimal solution.\n",
      "The tCommonGround optimization problem had no optimal solution.\n",
      "The CommonGround optimization problem had no optimal solution."
     ]
    },
    {
     "name": "stdout",
     "output_type": "stream",
     "text": [
      "\n",
      "The tCommonGround optimization problem had no optimal solution.\n"
     ]
    },
    {
     "name": "stdout",
     "output_type": "stream",
     "text": [
      "The CommonGround_entani optimization problem had no optimal solution.\n",
      "The CommonGround_entani optimization problem had no optimal solution.\n",
      "The CommonGround optimization problem had no optimal solution.\n",
      "The CommonGround optimization problem had no optimal solution.\n",
      "The CommonGround_entani optimization problem had no optimal solution.\n",
      "The CommonGround optimization problem had no optimal solution.\n",
      "The tCommonGround optimization problem had no optimal solution.\n",
      "The tCommonGround optimization problem had no optimal solution.\n",
      "The CommonGround_entani optimization problem had no optimal solution.\n",
      "The CommonGround_entani optimization problem had no optimal solution.\n",
      "The CommonGround optimization problem had no optimal solution.\n",
      "The CommonGround optimization problem had no optimal solution.\n"
     ]
    },
    {
     "name": "stdout",
     "output_type": "stream",
     "text": [
      "The tCommonGround optimization problem had no optimal solution.\n",
      "The CommonGround optimization problem had no optimal solution.\n",
      "The tCommonGround optimization problem had no optimal solution.\n",
      "The CommonGround optimization problem had no optimal solution.\n",
      "The CommonGround_entani optimization problem had no optimal solution."
     ]
    },
    {
     "name": "stdout",
     "output_type": "stream",
     "text": [
      "\n",
      "The CommonGround optimization problem had no optimal solution.\n",
      "The tCommonGround optimization problem had no optimal solution.\n"
     ]
    },
    {
     "name": "stdout",
     "output_type": "stream",
     "text": [
      "The CommonGround_entani optimization problem had no optimal solution.\n",
      "The CommonGround optimization problem had no optimal solution.\n",
      "The tCommonGround optimization problem had no optimal solution.\n",
      "The CommonGround_entani optimization problem had no optimal solution.\n",
      "The CommonGround optimization problem had no optimal solution.\n",
      "The CommonGround optimization problem had no optimal solution.\n",
      "The tCommonGround optimization problem had no optimal solution.\n",
      "The CommonGround optimization problem had no optimal solution.\n",
      "The tCommonGround optimization problem had no optimal solution.\n",
      "The CommonGround_entani optimization problem had no optimal solution."
     ]
    },
    {
     "name": "stdout",
     "output_type": "stream",
     "text": [
      "\n",
      "The CommonGround optimization problem had no optimal solution.\n",
      "The tCommonGround optimization problem had no optimal solution.\n"
     ]
    },
    {
     "name": "stdout",
     "output_type": "stream",
     "text": [
      "The CommonGround_entani optimization problem had no optimal solution.\n",
      "The CommonGround optimization problem had no optimal solution.\n",
      "The CommonGround optimization problem had no optimal solution.\n",
      "The tCommonGround optimization problem had no optimal solution.\n",
      "The tCommonGround optimization problem had no optimal solution.\n"
     ]
    },
    {
     "name": "stdout",
     "output_type": "stream",
     "text": [
      "The CommonGround optimization problem had no optimal solution.\n",
      "The tCommonGround optimization problem had no optimal solution.\n",
      "The CommonGround optimization problem had no optimal solution.\n",
      "The tCommonGround optimization problem had no optimal solution.\n",
      "The CommonGround optimization problem had no optimal solution.\n",
      "The tCommonGround optimization problem had no optimal solution.\n",
      "The CommonGround optimization problem had no optimal solution.\n",
      "The CommonGround_entani optimization problem had no optimal solution.\n",
      "The CommonGround optimization problem had no optimal solution.\n",
      "The tCommonGround optimization problem had no optimal solution.\n",
      "The CommonGround optimization problem had no optimal solution.\n",
      "The tCommonGround optimization problem had no optimal solution.\n",
      "The CommonGround_entani optimization problem had no optimal solution.\n",
      "The CommonGround optimization problem had no optimal solution.\n",
      "The tCommonGround optimization problem had no optimal solution.\n",
      "The CommonGround optimization problem had no optimal solution.\n",
      "The tCommonGround optimization problem had no optimal solution.\n",
      "The CommonGround optimization problem had no optimal solution.\n",
      "The tCommonGround optimization problem had no optimal solution.\n",
      "The CommonGround optimization problem had no optimal solution.\n",
      "The CommonGround_entani optimization problem had no optimal solution.\n",
      "The CommonGround optimization problem had no optimal solution.\n",
      "The tCommonGround optimization problem had no optimal solution.\n",
      "The CommonGround optimization problem had no optimal solution.\n",
      "The CommonGround optimization problem had no optimal solution.\n",
      "The tCommonGround optimization problem had no optimal solution.\n",
      "The CommonGround optimization problem had no optimal solution.\n",
      "The tCommonGround optimization problem had no optimal solution.\n",
      "The CommonGround_entani optimization problem had no optimal solution.\n",
      "The CommonGround optimization problem had no optimal solution.\n",
      "The CommonGround optimization problem had no optimal solution.\n",
      "The tCommonGround optimization problem had no optimal solution.\n",
      "The tCommonGround optimization problem had no optimal solution.\n",
      "The CommonGround_entani optimization problem had no optimal solution.\n",
      "The CommonGround optimization problem had no optimal solution.\n",
      "The tCommonGround optimization problem had no optimal solution.\n",
      "The CommonGround optimization problem had no optimal solution.\n",
      "The tCommonGround optimization problem had no optimal solution.\n",
      "The CommonGround_entani optimization problem had no optimal solution.\n",
      "The CommonGround optimization problem had no optimal solution.\n",
      "The CommonGround optimization problem had no optimal solution.\n",
      "The tCommonGround optimization problem had no optimal solution.\n",
      "The CommonGround_entani optimization problem had no optimal solution.\n",
      "The CommonGround optimization problem had no optimal solution.\n",
      "The CommonGround_entani optimization problem had no optimal solution.\n",
      "The CommonGround optimization problem had no optimal solution.\n",
      "The tCommonGround optimization problem had no optimal solution.\n",
      "The CommonGround optimization problem had no optimal solution.\n",
      "The tCommonGround optimization problem had no optimal solution.\n",
      "The CommonGround optimization problem had no optimal solution."
     ]
    },
    {
     "name": "stdout",
     "output_type": "stream",
     "text": [
      "\n",
      "The CommonGround_entani optimization problem had no optimal solution.\n",
      "The tCommonGround optimization problem had no optimal solution.\n",
      "The CommonGround optimization problem had no optimal solution.\n",
      "The CommonGround optimization problem had no optimal solution.\n",
      "The tCommonGround optimization problem had no optimal solution.\n",
      "The CommonGround optimization problem had no optimal solution.\n",
      "The CommonGround_entani optimization problem had no optimal solution.\n",
      "The CommonGround optimization problem had no optimal solution.\n",
      "The tCommonGround optimization problem had no optimal solution.\n",
      "The CommonGround_entani optimization problem had no optimal solution.\n",
      "The CommonGround optimization problem had no optimal solution.\n",
      "The tCommonGround optimization problem had no optimal solution.\n",
      "The CommonGround_entani optimization problem had no optimal solution.\n",
      "The CommonGround optimization problem had no optimal solution.\n",
      "The CommonGround optimization problem had no optimal solution.\n",
      "The tCommonGround optimization problem had no optimal solution.\n",
      "The tCommonGround optimization problem had no optimal solution.\n",
      "The CommonGround_entani optimization problem had no optimal solution.\n",
      "The CommonGround optimization problem had no optimal solution.\n",
      "The tCommonGround optimization problem had no optimal solution.\n",
      "The CommonGround optimization problem had no optimal solution."
     ]
    },
    {
     "name": "stdout",
     "output_type": "stream",
     "text": [
      "\n"
     ]
    },
    {
     "name": "stdout",
     "output_type": "stream",
     "text": [
      "The tCommonGround optimization problem had no optimal solution.\n",
      "The CommonGround optimization problem had no optimal solution.\n",
      "The tCommonGround optimization problem had no optimal solution.\n",
      "The CommonGround_entani optimization problem had no optimal solution.\n"
     ]
    },
    {
     "name": "stdout",
     "output_type": "stream",
     "text": [
      "The CommonGround optimization problem had no optimal solution.\n",
      "The tCommonGround optimization problem had no optimal solution.\n",
      "The CommonGround_entani optimization problem had no optimal solution.\n",
      "The CommonGround optimization problem had no optimal solution.\n",
      "The CommonGround_entani optimization problem had no optimal solution.\n",
      "The CommonGround_entani optimization problem had no optimal solution."
     ]
    },
    {
     "name": "stdout",
     "output_type": "stream",
     "text": [
      "\n",
      "The CommonGround optimization problem had no optimal solution.\n",
      "The tCommonGround optimization problem had no optimal solution.\n",
      "The CommonGround optimization problem had no optimal solution.\n",
      "The tCommonGround optimization problem had no optimal solution.\n",
      "The CommonGround_entani optimization problem had no optimal solution.\n",
      "The CommonGround optimization problem had no optimal solution.\n",
      "The tCommonGround optimization problem had no optimal solution.\n",
      "The CommonGround_entani optimization problem had no optimal solution."
     ]
    },
    {
     "name": "stdout",
     "output_type": "stream",
     "text": [
      "\n",
      "The CommonGround_entani optimization problem had no optimal solution.\n",
      "The CommonGround optimization problem had no optimal solution.\n",
      "The tCommonGround optimization problem had no optimal solution.\n",
      "The CommonGround optimization problem had no optimal solution.\n",
      "The tCommonGround optimization problem had no optimal solution.\n",
      "The CommonGround_entani optimization problem had no optimal solution.\n",
      "The CommonGround optimization problem had no optimal solution.\n",
      "The CommonGround optimization problem had no optimal solution.\n",
      "The tCommonGround optimization problem had no optimal solution.\n",
      "The tCommonGround optimization problem had no optimal solution.\n",
      "The CommonGround optimization problem had no optimal solution.\n",
      "The tCommonGround optimization problem had no optimal solution.\n",
      "The CommonGround optimization problem had no optimal solution.\n",
      "The tCommonGround optimization problem had no optimal solution.\n",
      "The CommonGround_entani optimization problem had no optimal solution."
     ]
    },
    {
     "name": "stdout",
     "output_type": "stream",
     "text": [
      "\n",
      "The CommonGround optimization problem had no optimal solution.\n",
      "The tCommonGround optimization problem had no optimal solution.\n"
     ]
    },
    {
     "name": "stdout",
     "output_type": "stream",
     "text": [
      "The CommonGround optimization problem had no optimal solution.\n",
      "The tCommonGround optimization problem had no optimal solution.\n",
      "The CommonGround optimization problem had no optimal solution.\n",
      "The tCommonGround optimization problem had no optimal solution.\n",
      "The CommonGround optimization problem had no optimal solution.\n",
      "The tCommonGround optimization problem had no optimal solution.\n",
      "The CommonGround_entani optimization problem had no optimal solution.\n",
      "The CommonGround optimization problem had no optimal solution.\n",
      "The tCommonGround optimization problem had no optimal solution.\n",
      "The CommonGround optimization problem had no optimal solution.\n"
     ]
    },
    {
     "name": "stdout",
     "output_type": "stream",
     "text": [
      "The CommonGround optimization problem had no optimal solution.\n",
      "The tCommonGround optimization problem had no optimal solution.\n",
      "The CommonGround optimization problem had no optimal solution.\n",
      "The tCommonGround optimization problem had no optimal solution.\n",
      "The CommonGround optimization problem had no optimal solution.\n",
      "The tCommonGround optimization problem had no optimal solution.\n"
     ]
    },
    {
     "name": "stdout",
     "output_type": "stream",
     "text": [
      "The CommonGround_entani optimization problem had no optimal solution.\n",
      "The CommonGround optimization problem had no optimal solution.\n",
      "The tCommonGround optimization problem had no optimal solution.\n",
      "The CommonGround optimization problem had no optimal solution.\n",
      "The tCommonGround optimization problem had no optimal solution.\n"
     ]
    },
    {
     "name": "stdout",
     "output_type": "stream",
     "text": [
      "The CommonGround_entani optimization problem had no optimal solution.\n",
      "The CommonGround optimization problem had no optimal solution.\n",
      "The tCommonGround optimization problem had no optimal solution.\n",
      "The CommonGround_entani optimization problem had no optimal solution.\n",
      "The CommonGround optimization problem had no optimal solution.\n",
      "The CommonGround_entani optimization problem had no optimal solution.\n",
      "The CommonGround optimization problem had no optimal solution.\n",
      "The tCommonGround optimization problem had no optimal solution.\n",
      "The tCommonGround optimization problem had no optimal solution.\n"
     ]
    },
    {
     "name": "stdout",
     "output_type": "stream",
     "text": [
      "The CommonGround_entani optimization problem had no optimal solution.\n",
      "The CommonGround_entani optimization problem had no optimal solution.\n",
      "The CommonGround optimization problem had no optimal solution.\n",
      "The CommonGround optimization problem had no optimal solution.\n",
      "The tCommonGround optimization problem had no optimal solution.\n",
      "The tCommonGround optimization problem had no optimal solution.\n",
      "The CommonGround optimization problem had no optimal solution.\n",
      "The tCommonGround optimization problem had no optimal solution.\n",
      "The CommonGround_entani optimization problem had no optimal solution."
     ]
    },
    {
     "name": "stdout",
     "output_type": "stream",
     "text": [
      "\n",
      "The CommonGround_entani optimization problem had no optimal solution.\n",
      "The CommonGround_entani optimization problem had no optimal solution.\n",
      "The CommonGround optimization problem had no optimal solution.\n",
      "The CommonGround optimization problem had no optimal solution.\n",
      "The tCommonGround optimization problem had no optimal solution.\n",
      "The tCommonGround optimization problem had no optimal solution.\n",
      "The CommonGround optimization problem had no optimal solution.\n",
      "The tCommonGround optimization problem had no optimal solution.\n",
      "The CommonGround optimization problem had no optimal solution.\n",
      "The tCommonGround optimization problem had no optimal solution.\n",
      "The CommonGround_entani optimization problem had no optimal solution.\n",
      "The CommonGround_entani optimization problem had no optimal solution.\n",
      "The CommonGround optimization problem had no optimal solution.\n",
      "The CommonGround optimization problem had no optimal solution.\n",
      "The tCommonGround optimization problem had no optimal solution.\n",
      "The tCommonGround optimization problem had no optimal solution.\n",
      "The CommonGround_entani optimization problem had no optimal solution.\n",
      "The CommonGround optimization problem had no optimal solution.\n",
      "The tCommonGround optimization problem had no optimal solution.\n",
      "The CommonGround_entani optimization problem had no optimal solution.\n",
      "The CommonGround_entani optimization problem had no optimal solution.\n",
      "The CommonGround optimization problem had no optimal solution.\n",
      "The CommonGround_entani optimization problem had no optimal solution.\n",
      "The CommonGround optimization problem had no optimal solution."
     ]
    },
    {
     "name": "stdout",
     "output_type": "stream",
     "text": [
      "\n",
      "The CommonGround_entani optimization problem had no optimal solution.\n",
      "The tCommonGround optimization problem had no optimal solution.\n",
      "The CommonGround optimization problem had no optimal solution.\n"
     ]
    },
    {
     "name": "stdout",
     "output_type": "stream",
     "text": [
      "The CommonGround optimization problem had no optimal solution.\n",
      "The tCommonGround optimization problem had no optimal solution.\n",
      "The tCommonGround optimization problem had no optimal solution.\n",
      "The CommonGround optimization problem had no optimal solution."
     ]
    },
    {
     "name": "stdout",
     "output_type": "stream",
     "text": [
      "\n",
      "The tCommonGround optimization problem had no optimal solution.\n",
      "The CommonGround_entani optimization problem had no optimal solution.\n",
      "The CommonGround optimization problem had no optimal solution.\n",
      "The tCommonGround optimization problem had no optimal solution.\n",
      "The CommonGround optimization problem had no optimal solution.\n",
      "The tCommonGround optimization problem had no optimal solution.\n",
      "The CommonGround_entani optimization problem had no optimal solution.\n"
     ]
    },
    {
     "name": "stdout",
     "output_type": "stream",
     "text": [
      "The CommonGround optimization problem had no optimal solution.\n",
      "The tCommonGround optimization problem had no optimal solution.\n",
      "The CommonGround_entani optimization problem had no optimal solution.\n",
      "The CommonGround optimization problem had no optimal solution.\n",
      "The tCommonGround optimization problem had no optimal solution.\n",
      "The CommonGround optimization problem had no optimal solution.\n",
      "The tCommonGround optimization problem had no optimal solution.\n",
      "The CommonGround optimization problem had no optimal solution."
     ]
    },
    {
     "name": "stdout",
     "output_type": "stream",
     "text": [
      "\n",
      "The tCommonGround optimization problem had no optimal solution.\n"
     ]
    },
    {
     "name": "stdout",
     "output_type": "stream",
     "text": [
      "The CommonGround_entani optimization problem had no optimal solution.\n",
      "The CommonGround optimization problem had no optimal solution.\n",
      "The tCommonGround optimization problem had no optimal solution.\n",
      "The CommonGround optimization problem had no optimal solution.\n",
      "The tCommonGround optimization problem had no optimal solution.\n",
      "The CommonGround_entani optimization problem had no optimal solution.\n",
      "The CommonGround optimization problem had no optimal solution.\n",
      "The tCommonGround optimization problem had no optimal solution.\n",
      "The CommonGround optimization problem had no optimal solution.\n",
      "The tCommonGround optimization problem had no optimal solution.\n",
      "The CommonGround optimization problem had no optimal solution.\n",
      "The CommonGround_entani optimization problem had no optimal solution.\n",
      "The CommonGround optimization problem had no optimal solution.\n",
      "The CommonGround optimization problem had no optimal solution.\n",
      "The tCommonGround optimization problem had no optimal solution.\n",
      "The CommonGround_entani optimization problem had no optimal solution.\n",
      "The CommonGround optimization problem had no optimal solution.\n",
      "The tCommonGround optimization problem had no optimal solution.\n",
      "The CommonGround_entani optimization problem had no optimal solution.\n"
     ]
    },
    {
     "name": "stdout",
     "output_type": "stream",
     "text": [
      "The CommonGround optimization problem had no optimal solution.\n",
      "The tCommonGround optimization problem had no optimal solution.\n",
      "The CommonGround optimization problem had no optimal solution.\n",
      "The CommonGround_entani optimization problem had no optimal solution.\n",
      "The tCommonGround optimization problem had no optimal solution.\n",
      "The CommonGround optimization problem had no optimal solution.\n",
      "The tCommonGround optimization problem had no optimal solution.\n",
      "The CommonGround_entani optimization problem had no optimal solution.\n",
      "The CommonGround optimization problem had no optimal solution."
     ]
    },
    {
     "name": "stdout",
     "output_type": "stream",
     "text": [
      "\n",
      "The CommonGround optimization problem had no optimal solution.\n",
      "The tCommonGround optimization problem had no optimal solution.\n",
      "The tCommonGround optimization problem had no optimal solution.\n",
      "The CommonGround_entani optimization problem had no optimal solution.\n",
      "The CommonGround optimization problem had no optimal solution.\n",
      "The tCommonGround optimization problem had no optimal solution.\n",
      "The CommonGround optimization problem had no optimal solution.\n",
      "The tCommonGround optimization problem had no optimal solution.\n",
      "The CommonGround optimization problem had no optimal solution."
     ]
    },
    {
     "name": "stdout",
     "output_type": "stream",
     "text": [
      "\n",
      "The tCommonGround optimization problem had no optimal solution.\n"
     ]
    },
    {
     "name": "stdout",
     "output_type": "stream",
     "text": [
      "The CommonGround_entani optimization problem had no optimal solution.\n",
      "The CommonGround_entani optimization problem had no optimal solution.\n",
      "The CommonGround optimization problem had no optimal solution.\n",
      "The CommonGround optimization problem had no optimal solution.\n",
      "The tCommonGround optimization problem had no optimal solution.\n",
      "The tCommonGround optimization problem had no optimal solution.\n",
      "The CommonGround optimization problem had no optimal solution."
     ]
    },
    {
     "name": "stdout",
     "output_type": "stream",
     "text": [
      "\n",
      "The CommonGround_entani optimization problem had no optimal solution.\n",
      "The tCommonGround optimization problem had no optimal solution.\n"
     ]
    },
    {
     "name": "stdout",
     "output_type": "stream",
     "text": [
      "The CommonGround optimization problem had no optimal solution.\n",
      "The tCommonGround optimization problem had no optimal solution.\n",
      "The CommonGround optimization problem had no optimal solution.\n",
      "The tCommonGround optimization problem had no optimal solution.\n",
      "The CommonGround_entani optimization problem had no optimal solution.\n",
      "The CommonGround optimization problem had no optimal solution.\n",
      "The tCommonGround optimization problem had no optimal solution.\n",
      "The CommonGround optimization problem had no optimal solution.\n",
      "The tCommonGround optimization problem had no optimal solution.\n",
      "The CommonGround_entani optimization problem had no optimal solution.\n",
      "The CommonGround optimization problem had no optimal solution.\n",
      "The tCommonGround optimization problem had no optimal solution.\n",
      "The CommonGround_entani optimization problem had no optimal solution.\n",
      "The CommonGround optimization problem had no optimal solution.\n",
      "The tCommonGround optimization problem had no optimal solution.\n",
      "The CommonGround optimization problem had no optimal solution.\n",
      "The tCommonGround optimization problem had no optimal solution.\n",
      "The CommonGround optimization problem had no optimal solution."
     ]
    },
    {
     "name": "stdout",
     "output_type": "stream",
     "text": [
      "\n"
     ]
    },
    {
     "name": "stdout",
     "output_type": "stream",
     "text": [
      "The tCommonGround optimization problem had no optimal solution.\n",
      "The CommonGround_entani optimization problem had no optimal solution.\n",
      "The CommonGround optimization problem had no optimal solution.\n",
      "The tCommonGround optimization problem had no optimal solution.\n",
      "The CommonGround optimization problem had no optimal solution.\n",
      "The tCommonGround optimization problem had no optimal solution.\n",
      "The CommonGround_entani optimization problem had no optimal solution."
     ]
    },
    {
     "name": "stdout",
     "output_type": "stream",
     "text": [
      "\n",
      "The CommonGround optimization problem had no optimal solution.\n",
      "The tCommonGround optimization problem had no optimal solution.\n"
     ]
    },
    {
     "name": "stdout",
     "output_type": "stream",
     "text": [
      "The CommonGround_entani optimization problem had no optimal solution.\n",
      "The CommonGround optimization problem had no optimal solution.\n",
      "The CommonGround optimization problem had no optimal solution.\n",
      "The tCommonGround optimization problem had no optimal solution.\n",
      "The tCommonGround optimization problem had no optimal solution.\n",
      "The CommonGround_entani optimization problem had no optimal solution.\n",
      "The CommonGround_entani optimization problem had no optimal solution.\n",
      "The CommonGround optimization problem had no optimal solution.\n",
      "The tCommonGround optimization problem had no optimal solution.\n",
      "The CommonGround optimization problem had no optimal solution.\n",
      "The tCommonGround optimization problem had no optimal solution.\n",
      "The CommonGround_entani optimization problem had no optimal solution.\n",
      "The CommonGround optimization problem had no optimal solution.\n",
      "The tCommonGround optimization problem had no optimal solution.\n",
      "The CommonGround_entani optimization problem had no optimal solution.\n",
      "The CommonGround optimization problem had no optimal solution.\n",
      "The tCommonGround optimization problem had no optimal solution.\n",
      "The CommonGround optimization problem had no optimal solution.\n",
      "The tCommonGround optimization problem had no optimal solution.\n",
      "The CommonGround_entani optimization problem had no optimal solution.\n",
      "The CommonGround optimization problem had no optimal solution.\n",
      "The tCommonGround optimization problem had no optimal solution.\n",
      "The CommonGround optimization problem had no optimal solution.\n",
      "The tCommonGround optimization problem had no optimal solution.\n",
      "The CommonGround_entani optimization problem had no optimal solution.\n",
      "The CommonGround optimization problem had no optimal solution.\n",
      "The tCommonGround optimization problem had no optimal solution.\n",
      "The CommonGround_entani optimization problem had no optimal solution.\n",
      "The CommonGround optimization problem had no optimal solution.\n",
      "The tCommonGround optimization problem had no optimal solution.\n"
     ]
    },
    {
     "name": "stdout",
     "output_type": "stream",
     "text": [
      "The CommonGround_entani optimization problem had no optimal solution.\n",
      "The CommonGround optimization problem had no optimal solution.\n",
      "The tCommonGround optimization problem had no optimal solution.\n",
      "The CommonGround optimization problem had no optimal solution.\n",
      "The tCommonGround optimization problem had no optimal solution.\n",
      "The CommonGround_entani optimization problem had no optimal solution.\n",
      "The CommonGround optimization problem had no optimal solution.\n",
      "The tCommonGround optimization problem had no optimal solution.\n",
      "The CommonGround_entani optimization problem had no optimal solution.\n",
      "The CommonGround optimization problem had no optimal solution.\n",
      "The tCommonGround optimization problem had no optimal solution.\n",
      "The CommonGround_entani optimization problem had no optimal solution.\n",
      "The CommonGround optimization problem had no optimal solution.\n",
      "The tCommonGround optimization problem had no optimal solution.\n",
      "The CommonGround optimization problem had no optimal solution.\n",
      "The CommonGround_entani optimization problem had no optimal solution."
     ]
    },
    {
     "name": "stdout",
     "output_type": "stream",
     "text": [
      "\n",
      "The CommonGround optimization problem had no optimal solution.\n",
      "The tCommonGround optimization problem had no optimal solution.\n"
     ]
    },
    {
     "name": "stdout",
     "output_type": "stream",
     "text": [
      "The CommonGround_entani optimization problem had no optimal solution.\n",
      "The CommonGround optimization problem had no optimal solution.\n",
      "The CommonGround_entani optimization problem had no optimal solution.\n",
      "The CommonGround optimization problem had no optimal solution.\n",
      "The tCommonGround optimization problem had no optimal solution.\n",
      "The tCommonGround optimization problem had no optimal solution.\n",
      "The CommonGround_entani optimization problem had no optimal solution.\n",
      "The CommonGround optimization problem had no optimal solution.\n",
      "The tCommonGround optimization problem had no optimal solution.\n",
      "The CommonGround optimization problem had no optimal solution.\n",
      "The tCommonGround optimization problem had no optimal solution.\n",
      "The CommonGround_entani optimization problem had no optimal solution.\n",
      "The CommonGround optimization problem had no optimal solution.\n",
      "The CommonGround optimization problem had no optimal solution.\n",
      "The tCommonGround optimization problem had no optimal solution.\n",
      "The CommonGround optimization problem had no optimal solution.\n",
      "The tCommonGround optimization problem had no optimal solution.\n",
      "The CommonGround_entani optimization problem had no optimal solution.\n",
      "The CommonGround optimization problem had no optimal solution.\n",
      "The tCommonGround optimization problem had no optimal solution.\n",
      "The CommonGround_entani optimization problem had no optimal solution."
     ]
    },
    {
     "name": "stdout",
     "output_type": "stream",
     "text": [
      "\n",
      "The CommonGround optimization problem had no optimal solution.\n"
     ]
    },
    {
     "name": "stdout",
     "output_type": "stream",
     "text": [
      "The tCommonGround optimization problem had no optimal solution.\n",
      "The CommonGround_entani optimization problem had no optimal solution.\n",
      "The CommonGround optimization problem had no optimal solution.\n",
      "The tCommonGround optimization problem had no optimal solution.\n",
      "The CommonGround optimization problem had no optimal solution.\n",
      "The tCommonGround optimization problem had no optimal solution.\n",
      "The CommonGround_entani optimization problem had no optimal solution."
     ]
    },
    {
     "name": "stdout",
     "output_type": "stream",
     "text": [
      "\n"
     ]
    },
    {
     "name": "stdout",
     "output_type": "stream",
     "text": [
      "The CommonGround optimization problem had no optimal solution.\n",
      "The CommonGround_entani optimization problem had no optimal solution.\n",
      "The tCommonGround optimization problem had no optimal solution.\n",
      "The CommonGround optimization problem had no optimal solution.\n",
      "The tCommonGround optimization problem had no optimal solution.\n",
      "The CommonGround optimization problem had no optimal solution.\n",
      "The CommonGround_entani optimization problem had no optimal solution.\n",
      "The tCommonGround optimization problem had no optimal solution.\n",
      "The CommonGround optimization problem had no optimal solution.\n",
      "The tCommonGround optimization problem had no optimal solution.\n",
      "The CommonGround optimization problem had no optimal solution.\n",
      "The CommonGround_entani optimization problem had no optimal solution.\n",
      "The CommonGround optimization problem had no optimal solution.\n",
      "The tCommonGround optimization problem had no optimal solution.\n",
      "The tCommonGround optimization problem had no optimal solution.\n",
      "The CommonGround_entani optimization problem had no optimal solution.\n",
      "The CommonGround optimization problem had no optimal solution.\n",
      "The tCommonGround optimization problem had no optimal solution.\n",
      "The CommonGround_entani optimization problem had no optimal solution."
     ]
    },
    {
     "name": "stdout",
     "output_type": "stream",
     "text": [
      "\n",
      "The CommonGround optimization problem had no optimal solution.\n",
      "The tCommonGround optimization problem had no optimal solution.\n"
     ]
    },
    {
     "name": "stdout",
     "output_type": "stream",
     "text": [
      "The CommonGround_entani optimization problem had no optimal solution.\n",
      "The CommonGround optimization problem had no optimal solution.\n",
      "The tCommonGround optimization problem had no optimal solution.\n",
      "The CommonGround optimization problem had no optimal solution.\n",
      "The tCommonGround optimization problem had no optimal solution.\n",
      "The CommonGround optimization problem had no optimal solution.\n",
      "The tCommonGround optimization problem had no optimal solution.\n",
      "The CommonGround optimization problem had no optimal solution.\n",
      "The tCommonGround optimization problem had no optimal solution.\n",
      "The CommonGround_entani optimization problem had no optimal solution.\n",
      "The CommonGround optimization problem had no optimal solution.\n",
      "The tCommonGround optimization problem had no optimal solution.\n",
      "The CommonGround optimization problem had no optimal solution.\n",
      "The tCommonGround optimization problem had no optimal solution.\n",
      "The CommonGround optimization problem had no optimal solution."
     ]
    },
    {
     "name": "stdout",
     "output_type": "stream",
     "text": [
      "\n",
      "The tCommonGround optimization problem had no optimal solution.\n"
     ]
    },
    {
     "name": "stdout",
     "output_type": "stream",
     "text": [
      "The CommonGround optimization problem had no optimal solution.\n",
      "The tCommonGround optimization problem had no optimal solution.\n",
      "The CommonGround_entani optimization problem had no optimal solution.\n",
      "The CommonGround optimization problem had no optimal solution.\n",
      "The CommonGround optimization problem had no optimal solution.\n",
      "The tCommonGround optimization problem had no optimal solution.\n",
      "The tCommonGround optimization problem had no optimal solution.\n",
      "The CommonGround_entani optimization problem had no optimal solution.\n",
      "The CommonGround optimization problem had no optimal solution.\n"
     ]
    },
    {
     "name": "stdout",
     "output_type": "stream",
     "text": [
      "The tCommonGround optimization problem had no optimal solution.\n",
      "The CommonGround_entani optimization problem had no optimal solution.\n",
      "The CommonGround optimization problem had no optimal solution.\n",
      "The tCommonGround optimization problem had no optimal solution.\n",
      "The CommonGround optimization problem had no optimal solution."
     ]
    },
    {
     "name": "stdout",
     "output_type": "stream",
     "text": [
      "\n",
      "The CommonGround_entani optimization problem had no optimal solution.\n",
      "The tCommonGround optimization problem had no optimal solution.\n",
      "The CommonGround optimization problem had no optimal solution.\n",
      "The tCommonGround optimization problem had no optimal solution.\n",
      "The CommonGround optimization problem had no optimal solution."
     ]
    },
    {
     "name": "stdout",
     "output_type": "stream",
     "text": [
      "\n",
      "The CommonGround_entani optimization problem had no optimal solution.\n",
      "The CommonGround_entani optimization problem had no optimal solution.\n",
      "The tCommonGround optimization problem had no optimal solution.\n",
      "The CommonGround optimization problem had no optimal solution.\n",
      "The CommonGround optimization problem had no optimal solution.\n",
      "The tCommonGround optimization problem had no optimal solution.\n",
      "The tCommonGround optimization problem had no optimal solution.\n",
      "The CommonGround_entani optimization problem had no optimal solution.\n",
      "The CommonGround optimization problem had no optimal solution.\n",
      "The tCommonGround optimization problem had no optimal solution.\n",
      "The CommonGround_entani optimization problem had no optimal solution.\n",
      "The CommonGround optimization problem had no optimal solution.\n",
      "The tCommonGround optimization problem had no optimal solution.\n",
      "The CommonGround optimization problem had no optimal solution.\n",
      "The tCommonGround optimization problem had no optimal solution.\n",
      "The CommonGround_entani optimization problem had no optimal solution.\n",
      "The CommonGround optimization problem had no optimal solution.\n",
      "The tCommonGround optimization problem had no optimal solution.\n",
      "The CommonGround_entani optimization problem had no optimal solution.\n",
      "The CommonGround optimization problem had no optimal solution.\n",
      "The CommonGround optimization problem had no optimal solution.\n",
      "The tCommonGround optimization problem had no optimal solution.\n",
      "The CommonGround optimization problem had no optimal solution.\n",
      "The tCommonGround optimization problem had no optimal solution.\n",
      "The CommonGround_entani optimization problem had no optimal solution."
     ]
    },
    {
     "name": "stdout",
     "output_type": "stream",
     "text": [
      "\n",
      "The CommonGround optimization problem had no optimal solution.\n"
     ]
    },
    {
     "name": "stdout",
     "output_type": "stream",
     "text": [
      "The tCommonGround optimization problem had no optimal solution.\n",
      "The CommonGround_entani optimization problem had no optimal solution.\n",
      "The CommonGround optimization problem had no optimal solution.\n",
      "The CommonGround optimization problem had no optimal solution.\n",
      "The tCommonGround optimization problem had no optimal solution.\n",
      "The CommonGround_entani optimization problem had no optimal solution.\n",
      "The CommonGround optimization problem had no optimal solution.\n",
      "The tCommonGround optimization problem had no optimal solution.\n",
      "The CommonGround_entani optimization problem had no optimal solution.\n",
      "The CommonGround optimization problem had no optimal solution.\n",
      "The tCommonGround optimization problem had no optimal solution.\n",
      "The CommonGround_entani optimization problem had no optimal solution.\n",
      "The CommonGround optimization problem had no optimal solution.\n",
      "The tCommonGround optimization problem had no optimal solution.\n",
      "The CommonGround_entani optimization problem had no optimal solution.\n",
      "The CommonGround optimization problem had no optimal solution.\n",
      "The tCommonGround optimization problem had no optimal solution.\n",
      "The CommonGround optimization problem had no optimal solution."
     ]
    },
    {
     "name": "stdout",
     "output_type": "stream",
     "text": [
      "\n",
      "The CommonGround optimization problem had no optimal solution.\n",
      "The CommonGround optimization problem had no optimal solution.\n",
      "The tCommonGround optimization problem had no optimal solution.\n",
      "The CommonGround optimization problem had no optimal solution.\n",
      "The CommonGround optimization problem had no optimal solution."
     ]
    },
    {
     "name": "stdout",
     "output_type": "stream",
     "text": [
      "\n"
     ]
    },
    {
     "name": "stdout",
     "output_type": "stream",
     "text": [
      "The CommonGround optimization problem had no optimal solution.\n",
      "The tCommonGround optimization problem had no optimal solution.\n",
      "The CommonGround_entani optimization problem had no optimal solution.\n",
      "The CommonGround optimization problem had no optimal solution.\n",
      "The CommonGround optimization problem had no optimal solution.\n",
      "The tCommonGround optimization problem had no optimal solution.\n",
      "The tCommonGround optimization problem had no optimal solution.\n",
      "The CommonGround_entani optimization problem had no optimal solution.\n",
      "The CommonGround optimization problem had no optimal solution.\n",
      "The tCommonGround optimization problem had no optimal solution.\n",
      "The CommonGround optimization problem had no optimal solution.\n",
      "The tCommonGround optimization problem had no optimal solution.\n",
      "The CommonGround optimization problem had no optimal solution.\n",
      "The CommonGround_entani optimization problem had no optimal solution.\n",
      "The CommonGround optimization problem had no optimal solution.\n",
      "The tCommonGround optimization problem had no optimal solution.\n",
      "The tCommonGround optimization problem had no optimal solution.\n"
     ]
    },
    {
     "name": "stdout",
     "output_type": "stream",
     "text": [
      "The CommonGround optimization problem had no optimal solution.\n",
      "The CommonGround_entani optimization problem had no optimal solution.\n",
      "The CommonGround optimization problem had no optimal solution.\n",
      "The tCommonGround optimization problem had no optimal solution.\n",
      "The CommonGround_entani optimization problem had no optimal solution.\n",
      "The tCommonGround optimization problem had no optimal solution.\n",
      "The CommonGround optimization problem had no optimal solution.\n",
      "The tCommonGround optimization problem had no optimal solution.\n",
      "The CommonGround optimization problem had no optimal solution.\n",
      "The tCommonGround optimization problem had no optimal solution.\n",
      "The CommonGround_entani optimization problem had no optimal solution.\n",
      "The CommonGround_entani optimization problem had no optimal solution.\n",
      "The CommonGround optimization problem had no optimal solution.\n",
      "The tCommonGround optimization problem had no optimal solution.\n",
      "The CommonGround optimization problem had no optimal solution.\n",
      "The tCommonGround optimization problem had no optimal solution.\n",
      "The CommonGround optimization problem had no optimal solution.\n",
      "The CommonGround_entani optimization problem had no optimal solution."
     ]
    },
    {
     "name": "stdout",
     "output_type": "stream",
     "text": [
      "\n",
      "The CommonGround optimization problem had no optimal solution.\n",
      "The tCommonGround optimization problem had no optimal solution.\n",
      "The CommonGround_entani optimization problem had no optimal solution.\n",
      "The tCommonGround optimization problem had no optimal solution.\n",
      "The CommonGround optimization problem had no optimal solution.\n",
      "The tCommonGround optimization problem had no optimal solution.\n",
      "The CommonGround optimization problem had no optimal solution.\n",
      "The tCommonGround optimization problem had no optimal solution.\n",
      "The CommonGround optimization problem had no optimal solution."
     ]
    },
    {
     "name": "stdout",
     "output_type": "stream",
     "text": [
      "\n",
      "The CommonGround optimization problem had no optimal solution.\n",
      "The tCommonGround optimization problem had no optimal solution.\n",
      "The CommonGround optimization problem had no optimal solution.\n",
      "The tCommonGround optimization problem had no optimal solution.\n",
      "The CommonGround optimization problem had no optimal solution."
     ]
    },
    {
     "name": "stdout",
     "output_type": "stream",
     "text": [
      "\n",
      "The tCommonGround optimization problem had no optimal solution.\n",
      "The CommonGround_entani optimization problem had no optimal solution.\n",
      "The CommonGround optimization problem had no optimal solution.\n",
      "The tCommonGround optimization problem had no optimal solution.\n",
      "The CommonGround_entani optimization problem had no optimal solution."
     ]
    },
    {
     "name": "stdout",
     "output_type": "stream",
     "text": [
      "\n",
      "The CommonGround_entani optimization problem had no optimal solution.\n",
      "The CommonGround optimization problem had no optimal solution.\n",
      "The CommonGround optimization problem had no optimal solution.\n",
      "The CommonGround_entani optimization problem had no optimal solution.\n",
      "The tCommonGround optimization problem had no optimal solution.\n",
      "The CommonGround optimization problem had no optimal solution.\n",
      "The tCommonGround optimization problem had no optimal solution.\n",
      "The tCommonGround optimization problem had no optimal solution.\n",
      "The CommonGround_entani optimization problem had no optimal solution.\n",
      "The CommonGround optimization problem had no optimal solution.\n",
      "The tCommonGround optimization problem had no optimal solution.\n",
      "The CommonGround_entani optimization problem had no optimal solution.\n",
      "The CommonGround_entani optimization problem had no optimal solution.\n",
      "The CommonGround optimization problem had no optimal solution.\n",
      "The CommonGround optimization problem had no optimal solution.\n",
      "The tCommonGround optimization problem had no optimal solution.\n",
      "The tCommonGround optimization problem had no optimal solution.\n",
      "The CommonGround optimization problem had no optimal solution.\n",
      "The CommonGround optimization problem had no optimal solution.\n",
      "The tCommonGround optimization problem had no optimal solution.\n",
      "The CommonGround optimization problem had no optimal solution.\n",
      "The tCommonGround optimization problem had no optimal solution.\n",
      "The CommonGround_entani optimization problem had no optimal solution."
     ]
    },
    {
     "name": "stdout",
     "output_type": "stream",
     "text": [
      "\n",
      "The CommonGround optimization problem had no optimal solution.\n",
      "The tCommonGround optimization problem had no optimal solution.\n",
      "The CommonGround_entani optimization problem had no optimal solution.\n",
      "The CommonGround optimization problem had no optimal solution.\n",
      "The tCommonGround optimization problem had no optimal solution.\n",
      "The CommonGround optimization problem had no optimal solution.\n",
      "The tCommonGround optimization problem had no optimal solution.\n",
      "The CommonGround optimization problem had no optimal solution.\n",
      "The CommonGround optimization problem had no optimal solution.\n",
      "The tCommonGround optimization problem had no optimal solution.\n",
      "The CommonGround optimization problem had no optimal solution.\n",
      "The tCommonGround optimization problem had no optimal solution.\n",
      "The CommonGround optimization problem had no optimal solution."
     ]
    },
    {
     "name": "stdout",
     "output_type": "stream",
     "text": [
      "\n",
      "The CommonGround_entani optimization problem had no optimal solution.\n",
      "The tCommonGround optimization problem had no optimal solution.\n",
      "The CommonGround optimization problem had no optimal solution.\n",
      "The CommonGround optimization problem had no optimal solution.\n",
      "The tCommonGround optimization problem had no optimal solution.\n",
      "The CommonGround optimization problem had no optimal solution.\n",
      "The tCommonGround optimization problem had no optimal solution.\n",
      "The CommonGround_entani optimization problem had no optimal solution."
     ]
    },
    {
     "name": "stdout",
     "output_type": "stream",
     "text": [
      "\n",
      "The CommonGround optimization problem had no optimal solution.\n",
      "The CommonGround_entani optimization problem had no optimal solution.\n",
      "The tCommonGround optimization problem had no optimal solution.\n",
      "The CommonGround optimization problem had no optimal solution.\n",
      "The CommonGround optimization problem had no optimal solution.\n",
      "The CommonGround optimization problem had no optimal solution.\n",
      "The tCommonGround optimization problem had no optimal solution.\n",
      "The tCommonGround optimization problem had no optimal solution.\n",
      "The tCommonGround optimization problem had no optimal solution.\n",
      "The CommonGround optimization problem had no optimal solution.\n",
      "The tCommonGround optimization problem had no optimal solution.\n",
      "The CommonGround optimization problem had no optimal solution.\n",
      "The tCommonGround optimization problem had no optimal solution.\n",
      "The CommonGround_entani optimization problem had no optimal solution.\n",
      "The CommonGround optimization problem had no optimal solution.\n",
      "The tCommonGround optimization problem had no optimal solution.\n",
      "The CommonGround_entani optimization problem had no optimal solution.\n",
      "The CommonGround optimization problem had no optimal solution.\n",
      "The tCommonGround optimization problem had no optimal solution.\n",
      "The CommonGround optimization problem had no optimal solution.\n",
      "The CommonGround optimization problem had no optimal solution.\n",
      "The CommonGround_entani optimization problem had no optimal solution.\n",
      "The tCommonGround optimization problem had no optimal solution.\n",
      "The CommonGround optimization problem had no optimal solution.\n",
      "The tCommonGround optimization problem had no optimal solution.\n",
      "The CommonGround_entani optimization problem had no optimal solution."
     ]
    },
    {
     "name": "stdout",
     "output_type": "stream",
     "text": [
      "\n",
      "The CommonGround optimization problem had no optimal solution.\n",
      "The tCommonGround optimization problem had no optimal solution.\n",
      "The CommonGround optimization problem had no optimal solution.\n",
      "The CommonGround_entani optimization problem had no optimal solution.\n",
      "The CommonGround optimization problem had no optimal solution.\n",
      "The tCommonGround optimization problem had no optimal solution.\n",
      "The tCommonGround optimization problem had no optimal solution.\n",
      "The CommonGround optimization problem had no optimal solution.\n",
      "The tCommonGround optimization problem had no optimal solution.\n",
      "The CommonGround_entani optimization problem had no optimal solution.\n",
      "The CommonGround optimization problem had no optimal solution.\n",
      "The tCommonGround optimization problem had no optimal solution.\n",
      "The CommonGround_entani optimization problem had no optimal solution.\n",
      "The CommonGround optimization problem had no optimal solution.\n",
      "The tCommonGround optimization problem had no optimal solution.\n",
      "The CommonGround_entani optimization problem had no optimal solution."
     ]
    },
    {
     "name": "stdout",
     "output_type": "stream",
     "text": [
      "\n",
      "The CommonGround optimization problem had no optimal solution.\n",
      "The tCommonGround optimization problem had no optimal solution.\n",
      "The CommonGround_entani optimization problem had no optimal solution.\n",
      "The CommonGround optimization problem had no optimal solution.\n",
      "The tCommonGround optimization problem had no optimal solution.\n",
      "The CommonGround_entani optimization problem had no optimal solution.\n",
      "The CommonGround optimization problem had no optimal solution.\n",
      "The tCommonGround optimization problem had no optimal solution.\n",
      "The CommonGround_entani optimization problem had no optimal solution.\n",
      "The CommonGround optimization problem had no optimal solution.\n",
      "The tCommonGround optimization problem had no optimal solution.\n",
      "The CommonGround optimization problem had no optimal solution.\n",
      "The tCommonGround optimization problem had no optimal solution.\n",
      "The CommonGround_entani optimization problem had no optimal solution."
     ]
    },
    {
     "name": "stdout",
     "output_type": "stream",
     "text": [
      "\n",
      "The CommonGround optimization problem had no optimal solution.\n",
      "The tCommonGround optimization problem had no optimal solution.\n",
      "The CommonGround optimization problem had no optimal solution.\n",
      "The tCommonGround optimization problem had no optimal solution.\n",
      "The CommonGround optimization problem had no optimal solution.\n",
      "The CommonGround_entani optimization problem had no optimal solution.\n",
      "The tCommonGround optimization problem had no optimal solution.\n",
      "The CommonGround optimization problem had no optimal solution.\n",
      "The tCommonGround optimization problem had no optimal solution.\n",
      "The CommonGround optimization problem had no optimal solution.\n",
      "The tCommonGround optimization problem had no optimal solution.\n",
      "The CommonGround_entani optimization problem had no optimal solution.\n",
      "The CommonGround optimization problem had no optimal solution.\n",
      "The tCommonGround optimization problem had no optimal solution.\n",
      "The CommonGround_entani optimization problem had no optimal solution.\n",
      "The CommonGround optimization problem had no optimal solution.\n",
      "The tCommonGround optimization problem had no optimal solution.\n",
      "The CommonGround_entani optimization problem had no optimal solution."
     ]
    },
    {
     "name": "stdout",
     "output_type": "stream",
     "text": [
      "\n",
      "The CommonGround optimization problem had no optimal solution.\n",
      "The tCommonGround optimization problem had no optimal solution.\n"
     ]
    },
    {
     "name": "stdout",
     "output_type": "stream",
     "text": [
      "The CommonGround optimization problem had no optimal solution.\n",
      "The tCommonGround optimization problem had no optimal solution.\n",
      "The CommonGround optimization problem had no optimal solution.\n",
      "The CommonGround_entani optimization problem had no optimal solution.\n",
      "The CommonGround optimization problem had no optimal solution.\n",
      "The tCommonGround optimization problem had no optimal solution.\n",
      "The CommonGround_entani optimization problem had no optimal solution.\n",
      "The CommonGround optimization problem had no optimal solution.\n",
      "The CommonGround optimization problem had no optimal solution.\n",
      "The tCommonGround optimization problem had no optimal solution.\n"
     ]
    },
    {
     "name": "stdout",
     "output_type": "stream",
     "text": [
      "The CommonGround optimization problem had no optimal solution.\n",
      "The CommonGround optimization problem had no optimal solution.\n",
      "The tCommonGround optimization problem had no optimal solution.\n",
      "The CommonGround optimization problem had no optimal solution.\n",
      "The tCommonGround optimization problem had no optimal solution.\n",
      "The CommonGround optimization problem had no optimal solution."
     ]
    },
    {
     "name": "stdout",
     "output_type": "stream",
     "text": [
      "\n",
      "The tCommonGround optimization problem had no optimal solution.\n"
     ]
    },
    {
     "name": "stdout",
     "output_type": "stream",
     "text": [
      "The CommonGround_entani optimization problem had no optimal solution.\n",
      "The CommonGround optimization problem had no optimal solution.\n",
      "The tCommonGround optimization problem had no optimal solution.\n",
      "The CommonGround_entani optimization problem had no optimal solution.\n",
      "The CommonGround optimization problem had no optimal solution.\n",
      "The CommonGround_entani optimization problem had no optimal solution.\n",
      "The CommonGround optimization problem had no optimal solution.\n",
      "The CommonGround optimization problem had no optimal solution.\n",
      "The tCommonGround optimization problem had no optimal solution.\n",
      "The tCommonGround optimization problem had no optimal solution.\n",
      "The tCommonGround optimization problem had no optimal solution.\n",
      "The CommonGround_entani optimization problem had no optimal solution.\n",
      "The CommonGround optimization problem had no optimal solution.\n",
      "The tCommonGround optimization problem had no optimal solution.\n",
      "The CommonGround_entani optimization problem had no optimal solution."
     ]
    },
    {
     "name": "stdout",
     "output_type": "stream",
     "text": [
      "\n",
      "The CommonGround optimization problem had no optimal solution.\n",
      "The tCommonGround optimization problem had no optimal solution.\n"
     ]
    },
    {
     "name": "stdout",
     "output_type": "stream",
     "text": [
      "The CommonGround optimization problem had no optimal solution.\n",
      "The CommonGround_entani optimization problem had no optimal solution.\n",
      "The tCommonGround optimization problem had no optimal solution.\n",
      "The CommonGround optimization problem had no optimal solution.\n",
      "The CommonGround optimization problem had no optimal solution.\n",
      "The tCommonGround optimization problem had no optimal solution.\n",
      "The tCommonGround optimization problem had no optimal solution.\n",
      "The CommonGround_entani optimization problem had no optimal solution.\n",
      "The CommonGround optimization problem had no optimal solution.\n",
      "The tCommonGround optimization problem had no optimal solution.\n",
      "The CommonGround_entani optimization problem had no optimal solution.\n",
      "The CommonGround optimization problem had no optimal solution.\n"
     ]
    },
    {
     "name": "stdout",
     "output_type": "stream",
     "text": [
      "The CommonGround optimization problem had no optimal solution.\n",
      "The CommonGround_entani optimization problem had no optimal solution.\n",
      "The tCommonGround optimization problem had no optimal solution.\n",
      "The CommonGround optimization problem had no optimal solution.\n",
      "The tCommonGround optimization problem had no optimal solution.\n",
      "The CommonGround optimization problem had no optimal solution.\n",
      "The CommonGround_entani optimization problem had no optimal solution.\n",
      "The tCommonGround optimization problem had no optimal solution.\n",
      "The CommonGround optimization problem had no optimal solution.\n",
      "The tCommonGround optimization problem had no optimal solution.\n",
      "The CommonGround optimization problem had no optimal solution.\n",
      "The tCommonGround optimization problem had no optimal solution.\n",
      "The CommonGround optimization problem had no optimal solution.\n",
      "The tCommonGround optimization problem had no optimal solution.\n",
      "The CommonGround optimization problem had no optimal solution.\n",
      "The tCommonGround optimization problem had no optimal solution.\n",
      "The CommonGround_entani optimization problem had no optimal solution.\n",
      "The CommonGround optimization problem had no optimal solution.\n",
      "The tCommonGround optimization problem had no optimal solution.\n",
      "The CommonGround_entani optimization problem had no optimal solution.\n",
      "The CommonGround optimization problem had no optimal solution.\n",
      "The tCommonGround optimization problem had no optimal solution.\n",
      "The CommonGround_entani optimization problem had no optimal solution.\n",
      "The CommonGround optimization problem had no optimal solution.\n",
      "The CommonGround_entani optimization problem had no optimal solution.\n",
      "The tCommonGround optimization problem had no optimal solution.\n",
      "The CommonGround optimization problem had no optimal solution.\n",
      "The CommonGround_entani optimization problem had no optimal solution.\n",
      "The tCommonGround optimization problem had no optimal solution.\n",
      "The CommonGround_entani optimization problem had no optimal solution."
     ]
    },
    {
     "name": "stdout",
     "output_type": "stream",
     "text": [
      "\n",
      "The CommonGround optimization problem had no optimal solution.\n",
      "The CommonGround optimization problem had no optimal solution.\n",
      "The tCommonGround optimization problem had no optimal solution.\n",
      "The tCommonGround optimization problem had no optimal solution.\n"
     ]
    },
    {
     "name": "stdout",
     "output_type": "stream",
     "text": [
      "The CommonGround optimization problem had no optimal solution.\n",
      "The tCommonGround optimization problem had no optimal solution.\n",
      "The CommonGround_entani optimization problem had no optimal solution.\n",
      "The CommonGround optimization problem had no optimal solution.\n",
      "The CommonGround_entani optimization problem had no optimal solution.\n",
      "The tCommonGround optimization problem had no optimal solution.\n",
      "The CommonGround_entani optimization problem had no optimal solution.\n",
      "The CommonGround optimization problem had no optimal solution.\n",
      "The CommonGround optimization problem had no optimal solution.\n",
      "The tCommonGround optimization problem had no optimal solution.\n",
      "The tCommonGround optimization problem had no optimal solution.\n"
     ]
    },
    {
     "name": "stdout",
     "output_type": "stream",
     "text": [
      "The CommonGround_entani optimization problem had no optimal solution.\n",
      "The CommonGround_entani optimization problem had no optimal solution.\n",
      "The CommonGround optimization problem had no optimal solution.\n",
      "The CommonGround optimization problem had no optimal solution.\n",
      "The tCommonGround optimization problem had no optimal solution.\n",
      "The tCommonGround optimization problem had no optimal solution.\n",
      "The CommonGround optimization problem had no optimal solution.\n",
      "The tCommonGround optimization problem had no optimal solution.\n",
      "The CommonGround optimization problem had no optimal solution."
     ]
    },
    {
     "name": "stdout",
     "output_type": "stream",
     "text": [
      "\n",
      "The tCommonGround optimization problem had no optimal solution.\n"
     ]
    },
    {
     "name": "stdout",
     "output_type": "stream",
     "text": [
      "The CommonGround optimization problem had no optimal solution.\n",
      "The tCommonGround optimization problem had no optimal solution.\n",
      "The CommonGround optimization problem had no optimal solution.\n",
      "The CommonGround optimization problem had no optimal solution.\n",
      "The tCommonGround optimization problem had no optimal solution.\n"
     ]
    },
    {
     "name": "stdout",
     "output_type": "stream",
     "text": [
      "The CommonGround_entani optimization problem had no optimal solution.\n",
      "The CommonGround optimization problem had no optimal solution.\n",
      "The tCommonGround optimization problem had no optimal solution.\n",
      "The CommonGround optimization problem had no optimal solution.\n",
      "The tCommonGround optimization problem had no optimal solution.\n",
      "The CommonGround_entani optimization problem had no optimal solution.\n",
      "The CommonGround optimization problem had no optimal solution.\n",
      "The tCommonGround optimization problem had no optimal solution.\n"
     ]
    },
    {
     "name": "stdout",
     "output_type": "stream",
     "text": [
      "The CommonGround optimization problem had no optimal solution.\n",
      "The tCommonGround optimization problem had no optimal solution.\n",
      "The CommonGround_entani optimization problem had no optimal solution.\n",
      "The CommonGround optimization problem had no optimal solution.\n",
      "The CommonGround optimization problem had no optimal solution.\n",
      "The tCommonGround optimization problem had no optimal solution.\n",
      "The tCommonGround optimization problem had no optimal solution.\n",
      "The CommonGround optimization problem had no optimal solution.\n",
      "The CommonGround optimization problem had no optimal solution.\n",
      "The tCommonGround optimization problem had no optimal solution.\n",
      "The tCommonGround optimization problem had no optimal solution.\n",
      "The CommonGround_entani optimization problem had no optimal solution.\n",
      "The CommonGround optimization problem had no optimal solution.\n",
      "The CommonGround optimization problem had no optimal solution.\n",
      "The CommonGround_entani optimization problem had no optimal solution.\n",
      "The tCommonGround optimization problem had no optimal solution.\n",
      "The CommonGround optimization problem had no optimal solution.\n",
      "The tCommonGround optimization problem had no optimal solution.\n"
     ]
    },
    {
     "name": "stdout",
     "output_type": "stream",
     "text": [
      "The CommonGround_entani optimization problem had no optimal solution.\n",
      "The CommonGround_entani optimization problem had no optimal solution.\n",
      "The CommonGround optimization problem had no optimal solution.\n",
      "The CommonGround optimization problem had no optimal solution.\n",
      "The tCommonGround optimization problem had no optimal solution.\n",
      "The CommonGround_entani optimization problem had no optimal solution.\n",
      "The CommonGround_entani optimization problem had no optimal solution.\n",
      "The CommonGround optimization problem had no optimal solution.\n",
      "The tCommonGround optimization problem had no optimal solution.\n",
      "The CommonGround optimization problem had no optimal solution.\n",
      "The tCommonGround optimization problem had no optimal solution.\n"
     ]
    },
    {
     "name": "stdout",
     "output_type": "stream",
     "text": [
      "The CommonGround_entani optimization problem had no optimal solution.\n",
      "The CommonGround optimization problem had no optimal solution.\n",
      "The tCommonGround optimization problem had no optimal solution.\n",
      "The CommonGround optimization problem had no optimal solution.\n",
      "The tCommonGround optimization problem had no optimal solution.\n",
      "The CommonGround_entani optimization problem had no optimal solution."
     ]
    },
    {
     "name": "stdout",
     "output_type": "stream",
     "text": [
      "\n",
      "The CommonGround_entani optimization problem had no optimal solution.\n",
      "The CommonGround optimization problem had no optimal solution.\n",
      "The CommonGround optimization problem had no optimal solution.\n",
      "The tCommonGround optimization problem had no optimal solution.\n",
      "The tCommonGround optimization problem had no optimal solution.\n"
     ]
    },
    {
     "name": "stdout",
     "output_type": "stream",
     "text": [
      "The CommonGround_entani optimization problem had no optimal solution.\n",
      "The CommonGround optimization problem had no optimal solution.\n",
      "The tCommonGround optimization problem had no optimal solution.\n",
      "The CommonGround optimization problem had no optimal solution.\n",
      "The tCommonGround optimization problem had no optimal solution.\n",
      "The CommonGround_entani optimization problem had no optimal solution.\n",
      "The CommonGround optimization problem had no optimal solution.\n",
      "The CommonGround_entani optimization problem had no optimal solution.\n",
      "The tCommonGround optimization problem had no optimal solution.\n",
      "The CommonGround optimization problem had no optimal solution.\n",
      "The CommonGround_entani optimization problem had no optimal solution.\n",
      "The CommonGround optimization problem had no optimal solution.\n",
      "The tCommonGround optimization problem had no optimal solution.\n",
      "The CommonGround optimization problem had no optimal solution.\n",
      "The CommonGround_entani optimization problem had no optimal solution."
     ]
    },
    {
     "name": "stdout",
     "output_type": "stream",
     "text": [
      "\n",
      "The tCommonGround optimization problem had no optimal solution.\n",
      "The CommonGround optimization problem had no optimal solution.\n",
      "The tCommonGround optimization problem had no optimal solution.\n"
     ]
    },
    {
     "name": "stdout",
     "output_type": "stream",
     "text": [
      "The CommonGround_entani optimization problem had no optimal solution.\n"
     ]
    },
    {
     "name": "stdout",
     "output_type": "stream",
     "text": [
      "The CommonGround optimization problem had no optimal solution.\n",
      "The tCommonGround optimization problem had no optimal solution.\n"
     ]
    },
    {
     "name": "stdout",
     "output_type": "stream",
     "text": [
      "The CommonGround optimization problem had no optimal solution.\n",
      "The tCommonGround optimization problem had no optimal solution.\n",
      "The CommonGround_entani optimization problem had no optimal solution.\n",
      "The CommonGround optimization problem had no optimal solution.\n",
      "The tCommonGround optimization problem had no optimal solution.\n"
     ]
    },
    {
     "name": "stdout",
     "output_type": "stream",
     "text": [
      "The CommonGround_entani optimization problem had no optimal solution.\n",
      "The CommonGround optimization problem had no optimal solution.\n",
      "The tCommonGround optimization problem had no optimal solution.\n"
     ]
    },
    {
     "name": "stdout",
     "output_type": "stream",
     "text": [
      "The CommonGround_entani optimization problem had no optimal solution.\n",
      "The CommonGround optimization problem had no optimal solution.\n",
      "The CommonGround_entani optimization problem had no optimal solution.\n",
      "The tCommonGround optimization problem had no optimal solution.\n",
      "The CommonGround_entani optimization problem had no optimal solution.\n",
      "The CommonGround optimization problem had no optimal solution.\n",
      "The CommonGround_entani optimization problem had no optimal solution."
     ]
    },
    {
     "name": "stdout",
     "output_type": "stream",
     "text": [
      "\n",
      "The CommonGround optimization problem had no optimal solution.\n",
      "The tCommonGround optimization problem had no optimal solution.\n",
      "The tCommonGround optimization problem had no optimal solution.\n",
      "The CommonGround optimization problem had no optimal solution.\n",
      "The CommonGround_entani optimization problem had no optimal solution.\n",
      "The CommonGround_entani optimization problem had no optimal solution."
     ]
    },
    {
     "name": "stdout",
     "output_type": "stream",
     "text": [
      "\n",
      "The CommonGround optimization problem had no optimal solution.\n",
      "The CommonGround_entani optimization problem had no optimal solution.\n",
      "The CommonGround optimization problem had no optimal solution.\n",
      "The tCommonGround optimization problem had no optimal solution.\n",
      "The CommonGround optimization problem had no optimal solution.\n",
      "The CommonGround_entani optimization problem had no optimal solution.\n",
      "The tCommonGround optimization problem had no optimal solution.\n",
      "The CommonGround optimization problem had no optimal solution.\n",
      "The tCommonGround optimization problem had no optimal solution.\n",
      "The tCommonGround optimization problem had no optimal solution.\n",
      "The CommonGround_entani optimization problem had no optimal solution.\n",
      "The CommonGround_entani optimization problem had no optimal solution."
     ]
    },
    {
     "name": "stdout",
     "output_type": "stream",
     "text": [
      "\n",
      "The CommonGround_entani optimization problem had no optimal solution.\n",
      "The CommonGround optimization problem had no optimal solution.\n",
      "The CommonGround optimization problem had no optimal solution.\n",
      "The CommonGround optimization problem had no optimal solution.\n",
      "The CommonGround_entani optimization problem had no optimal solution.\n",
      "The tCommonGround optimization problem had no optimal solution.\n",
      "The tCommonGround optimization problem had no optimal solution.\n",
      "The tCommonGround optimization problem had no optimal solution.\n",
      "The CommonGround optimization problem had no optimal solution.\n",
      "The tCommonGround optimization problem had no optimal solution.\n",
      "The CommonGround_entani optimization problem had no optimal solution."
     ]
    },
    {
     "name": "stdout",
     "output_type": "stream",
     "text": [
      "\n",
      "The CommonGround optimization problem had no optimal solution.\n",
      "The tCommonGround optimization problem had no optimal solution.\n",
      "The CommonGround_entani optimization problem had no optimal solution.\n",
      "The CommonGround_entani optimization problem had no optimal solution.\n",
      "The CommonGround optimization problem had no optimal solution.\n",
      "The tCommonGround optimization problem had no optimal solution.\n",
      "The CommonGround_entani optimization problem had no optimal solution.\n",
      "The CommonGround optimization problem had no optimal solution.\n",
      "The CommonGround optimization problem had no optimal solution.\n",
      "The tCommonGround optimization problem had no optimal solution.\n",
      "The tCommonGround optimization problem had no optimal solution.\n",
      "The CommonGround_entani optimization problem had no optimal solution."
     ]
    },
    {
     "name": "stdout",
     "output_type": "stream",
     "text": [
      "\n",
      "The CommonGround optimization problem had no optimal solution.\n",
      "The tCommonGround optimization problem had no optimal solution.\n",
      "The CommonGround_entani optimization problem had no optimal solution.\n",
      "The CommonGround optimization problem had no optimal solution.\n",
      "The tCommonGround optimization problem had no optimal solution.\n",
      "The CommonGround_entani optimization problem had no optimal solution.\n",
      "The CommonGround optimization problem had no optimal solution.\n",
      "The tCommonGround optimization problem had no optimal solution.\n",
      "The CommonGround_entani optimization problem had no optimal solution.\n",
      "The CommonGround_entani optimization problem had no optimal solution.\n",
      "The CommonGround optimization problem had no optimal solution.\n",
      "The CommonGround optimization problem had no optimal solution.\n",
      "The tCommonGround optimization problem had no optimal solution.\n",
      "The tCommonGround optimization problem had no optimal solution.\n",
      "The CommonGround_entani optimization problem had no optimal solution."
     ]
    },
    {
     "name": "stdout",
     "output_type": "stream",
     "text": [
      "\n",
      "The CommonGround optimization problem had no optimal solution.\n",
      "The tCommonGround optimization problem had no optimal solution.\n",
      "The CommonGround_entani optimization problem had no optimal solution.\n",
      "The CommonGround_entani optimization problem had no optimal solution.\n",
      "The CommonGround optimization problem had no optimal solution.\n",
      "The CommonGround optimization problem had no optimal solution.\n",
      "The tCommonGround optimization problem had no optimal solution.\n",
      "The tCommonGround optimization problem had no optimal solution.\n",
      "The CommonGround_entani optimization problem had no optimal solution.\n",
      "The CommonGround_entani optimization problem had no optimal solution.\n",
      "The CommonGround optimization problem had no optimal solution.\n",
      "The CommonGround optimization problem had no optimal solution.\n",
      "The CommonGround_entani optimization problem had no optimal solution."
     ]
    },
    {
     "name": "stdout",
     "output_type": "stream",
     "text": [
      "\n",
      "The tCommonGround optimization problem had no optimal solution.\n",
      "The tCommonGround optimization problem had no optimal solution.\n",
      "The CommonGround optimization problem had no optimal solution.\n",
      "The tCommonGround optimization problem had no optimal solution.\n",
      "The CommonGround_entani optimization problem had no optimal solution.\n",
      "The CommonGround optimization problem had no optimal solution.\n",
      "The tCommonGround optimization problem had no optimal solution.\n",
      "The CommonGround_entani optimization problem had no optimal solution.\n",
      "The CommonGround optimization problem had no optimal solution.\n",
      "The CommonGround_entani optimization problem had no optimal solution."
     ]
    },
    {
     "name": "stdout",
     "output_type": "stream",
     "text": [
      "\n",
      "The tCommonGround optimization problem had no optimal solution.\n",
      "The CommonGround optimization problem had no optimal solution.\n",
      "The CommonGround_entani optimization problem had no optimal solution.\n",
      "The tCommonGround optimization problem had no optimal solution."
     ]
    },
    {
     "name": "stdout",
     "output_type": "stream",
     "text": [
      "\n",
      "The CommonGround optimization problem had no optimal solution.\n",
      "The tCommonGround optimization problem had no optimal solution.\n",
      "The CommonGround_entani optimization problem had no optimal solution.\n",
      "The CommonGround optimization problem had no optimal solution.\n",
      "The tCommonGround optimization problem had no optimal solution.\n",
      "The CommonGround_entani optimization problem had no optimal solution."
     ]
    },
    {
     "name": "stdout",
     "output_type": "stream",
     "text": [
      "\n",
      "The CommonGround optimization problem had no optimal solution.\n",
      "The tCommonGround optimization problem had no optimal solution.\n",
      "The CommonGround_entani optimization problem had no optimal solution.\n",
      "The CommonGround optimization problem had no optimal solution.\n",
      "The tCommonGround optimization problem had no optimal solution.\n",
      "The CommonGround_entani optimization problem had no optimal solution.\n",
      "The CommonGround optimization problem had no optimal solution.\n",
      "The tCommonGround optimization problem had no optimal solution.\n",
      "The CommonGround_entani optimization problem had no optimal solution.\n",
      "The CommonGround optimization problem had no optimal solution.\n",
      "The tCommonGround optimization problem had no optimal solution.\n",
      "The CommonGround_entani optimization problem had no optimal solution.\n",
      "The CommonGround_entani optimization problem had no optimal solution."
     ]
    },
    {
     "name": "stdout",
     "output_type": "stream",
     "text": [
      "\n",
      "The CommonGround_entani optimization problem had no optimal solution.\n",
      "The CommonGround optimization problem had no optimal solution.\n",
      "The CommonGround optimization problem had no optimal solution.\n",
      "The CommonGround optimization problem had no optimal solution.\n",
      "The tCommonGround optimization problem had no optimal solution.\n",
      "The tCommonGround optimization problem had no optimal solution.\n",
      "The tCommonGround optimization problem had no optimal solution.\n",
      "The CommonGround_entani optimization problem had no optimal solution.\n",
      "The CommonGround optimization problem had no optimal solution.\n",
      "The tCommonGround optimization problem had no optimal solution.\n",
      "The CommonGround_entani optimization problem had no optimal solution.\n",
      "The CommonGround_entani optimization problem had no optimal solution."
     ]
    },
    {
     "name": "stdout",
     "output_type": "stream",
     "text": [
      "\n",
      "The CommonGround optimization problem had no optimal solution.\n",
      "The CommonGround optimization problem had no optimal solution.\n",
      "The CommonGround_entani optimization problem had no optimal solution."
     ]
    },
    {
     "name": "stdout",
     "output_type": "stream",
     "text": [
      "\n",
      "The tCommonGround optimization problem had no optimal solution.\n",
      "The CommonGround optimization problem had no optimal solution.\n",
      "The tCommonGround optimization problem had no optimal solution.\n",
      "The CommonGround_entani optimization problem had no optimal solution.\n",
      "The CommonGround optimization problem had no optimal solution.\n",
      "The tCommonGround optimization problem had no optimal solution.\n",
      "The CommonGround_entani optimization problem had no optimal solution."
     ]
    },
    {
     "name": "stdout",
     "output_type": "stream",
     "text": [
      "\n",
      "The CommonGround_entani optimization problem had no optimal solution.\n",
      "The CommonGround optimization problem had no optimal solution.\n",
      "The CommonGround_entani optimization problem had no optimal solution.\n",
      "The CommonGround optimization problem had no optimal solution.\n",
      "The tCommonGround optimization problem had no optimal solution.\n",
      "The CommonGround optimization problem had no optimal solution.\n",
      "The tCommonGround optimization problem had no optimal solution.\n",
      "The tCommonGround optimization problem had no optimal solution.\n",
      "The CommonGround_entani optimization problem had no optimal solution.\n",
      "The CommonGround optimization problem had no optimal solution.\n",
      "The tCommonGround optimization problem had no optimal solution.\n",
      "The CommonGround_entani optimization problem had no optimal solution."
     ]
    },
    {
     "name": "stdout",
     "output_type": "stream",
     "text": [
      "\n",
      "The CommonGround_entani optimization problem had no optimal solution.\n",
      "The CommonGround optimization problem had no optimal solution.\n",
      "The CommonGround_entani optimization problem had no optimal solution.\n",
      "The tCommonGround optimization problem had no optimal solution.\n",
      "The CommonGround optimization problem had no optimal solution.\n",
      "The CommonGround optimization problem had no optimal solution.\n",
      "The tCommonGround optimization problem had no optimal solution.\n",
      "The tCommonGround optimization problem had no optimal solution.\n",
      "The CommonGround_entani optimization problem had no optimal solution.\n",
      "The CommonGround optimization problem had no optimal solution.\n",
      "The tCommonGround optimization problem had no optimal solution.\n",
      "The CommonGround_entani optimization problem had no optimal solution."
     ]
    },
    {
     "name": "stdout",
     "output_type": "stream",
     "text": [
      "\n",
      "The CommonGround optimization problem had no optimal solution.\n",
      "The CommonGround_entani optimization problem had no optimal solution.\n",
      "The tCommonGround optimization problem had no optimal solution.\n",
      "The CommonGround_entani optimization problem had no optimal solution.\n",
      "The CommonGround optimization problem had no optimal solution.\n",
      "The CommonGround optimization problem had no optimal solution.\n",
      "The tCommonGround optimization problem had no optimal solution.\n",
      "The tCommonGround optimization problem had no optimal solution.\n",
      "The CommonGround_entani optimization problem had no optimal solution.\n",
      "The CommonGround optimization problem had no optimal solution.\n",
      "The tCommonGround optimization problem had no optimal solution.\n",
      "The CommonGround_entani optimization problem had no optimal solution."
     ]
    },
    {
     "name": "stdout",
     "output_type": "stream",
     "text": [
      "\n",
      "The CommonGround_entani optimization problem had no optimal solution.\n",
      "The CommonGround optimization problem had no optimal solution.\n",
      "The CommonGround optimization problem had no optimal solution.\n",
      "The CommonGround_entani optimization problem had no optimal solution.\n",
      "The CommonGround optimization problem had no optimal solution.\n",
      "The tCommonGround optimization problem had no optimal solution.\n",
      "The tCommonGround optimization problem had no optimal solution.\n",
      "The tCommonGround optimization problem had no optimal solution.\n",
      "The CommonGround_entani optimization problem had no optimal solution.\n",
      "The CommonGround_entani optimization problem had no optimal solution.\n",
      "The CommonGround optimization problem had no optimal solution.\n",
      "The CommonGround optimization problem had no optimal solution.\n",
      "The tCommonGround optimization problem had no optimal solution.\n",
      "The tCommonGround optimization problem had no optimal solution.\n",
      "The CommonGround_entani optimization problem had no optimal solution."
     ]
    },
    {
     "name": "stdout",
     "output_type": "stream",
     "text": [
      "\n",
      "The CommonGround optimization problem had no optimal solution."
     ]
    },
    {
     "name": "stdout",
     "output_type": "stream",
     "text": [
      "\n",
      "The CommonGround_entani optimization problem had no optimal solution.\n",
      "The tCommonGround optimization problem had no optimal solution.\n",
      "The CommonGround optimization problem had no optimal solution.\n",
      "The tCommonGround optimization problem had no optimal solution.\n",
      "The CommonGround_entani optimization problem had no optimal solution.\n",
      "The CommonGround_entani optimization problem had no optimal solution.\n",
      "The CommonGround optimization problem had no optimal solution.\n",
      "The CommonGround optimization problem had no optimal solution.\n",
      "The tCommonGround optimization problem had no optimal solution.\n",
      "The tCommonGround optimization problem had no optimal solution.\n",
      "The CommonGround_entani optimization problem had no optimal solution."
     ]
    },
    {
     "name": "stdout",
     "output_type": "stream",
     "text": [
      "\n",
      "The CommonGround_entani optimization problem had no optimal solution.\n",
      "The CommonGround optimization problem had no optimal solution.\n",
      "The CommonGround optimization problem had no optimal solution.\n",
      "The tCommonGround optimization problem had no optimal solution.\n",
      "The tCommonGround optimization problem had no optimal solution.\n",
      "The CommonGround_entani optimization problem had no optimal solution.\n",
      "The CommonGround optimization problem had no optimal solution.\n",
      "The tCommonGround optimization problem had no optimal solution.\n",
      "The CommonGround_entani optimization problem had no optimal solution."
     ]
    },
    {
     "name": "stdout",
     "output_type": "stream",
     "text": [
      "\n",
      "The CommonGround_entani optimization problem had no optimal solution.\n",
      "The CommonGround optimization problem had no optimal solution.\n",
      "The CommonGround_entani optimization problem had no optimal solution.\n",
      "The CommonGround optimization problem had no optimal solution.\n",
      "The tCommonGround optimization problem had no optimal solution.\n",
      "The CommonGround_entani optimization problem had no optimal solution.\n",
      "The CommonGround optimization problem had no optimal solution.\n",
      "The tCommonGround optimization problem had no optimal solution.\n",
      "The CommonGround optimization problem had no optimal solution.\n",
      "The tCommonGround optimization problem had no optimal solution.\n",
      "The tCommonGround optimization problem had no optimal solution.\n",
      "The CommonGround_entani optimization problem had no optimal solution."
     ]
    },
    {
     "name": "stdout",
     "output_type": "stream",
     "text": [
      "\n",
      "The CommonGround_entani optimization problem had no optimal solution.\n",
      "The CommonGround optimization problem had no optimal solution.\n",
      "The CommonGround optimization problem had no optimal solution.\n",
      "The tCommonGround optimization problem had no optimal solution.\n",
      "The CommonGround_entani optimization problem had no optimal solution.\n",
      "The tCommonGround optimization problem had no optimal solution.\n",
      "The CommonGround optimization problem had no optimal solution.\n",
      "The CommonGround optimization problem had no optimal solution.\n",
      "The tCommonGround optimization problem had no optimal solution.\n",
      "The tCommonGround optimization problem had no optimal solution.\n",
      "The CommonGround_entani optimization problem had no optimal solution."
     ]
    },
    {
     "name": "stdout",
     "output_type": "stream",
     "text": [
      "\n",
      "The CommonGround_entani optimization problem had no optimal solution.\n",
      "The CommonGround optimization problem had no optimal solution.\n",
      "The CommonGround optimization problem had no optimal solution.\n",
      "The tCommonGround optimization problem had no optimal solution.\n",
      "The CommonGround_entani optimization problem had no optimal solution.\n",
      "The CommonGround_entani optimization problem had no optimal solution.\n",
      "The tCommonGround optimization problem had no optimal solution.\n",
      "The CommonGround optimization problem had no optimal solution.\n",
      "The CommonGround optimization problem had no optimal solution.\n",
      "The tCommonGround optimization problem had no optimal solution.\n",
      "The tCommonGround optimization problem had no optimal solution.\n",
      "The CommonGround_entani optimization problem had no optimal solution."
     ]
    },
    {
     "name": "stdout",
     "output_type": "stream",
     "text": [
      "\n",
      "The CommonGround_entani optimization problem had no optimal solution.\n",
      "The CommonGround optimization problem had no optimal solution.\n",
      "The CommonGround optimization problem had no optimal solution.\n",
      "The CommonGround_entani optimization problem had no optimal solution.\n",
      "The tCommonGround optimization problem had no optimal solution.\n",
      "The CommonGround_entani optimization problem had no optimal solution.\n",
      "The CommonGround optimization problem had no optimal solution.\n",
      "The CommonGround optimization problem had no optimal solution.\n",
      "The tCommonGround optimization problem had no optimal solution.\n",
      "The tCommonGround optimization problem had no optimal solution.\n",
      "The CommonGround_entani optimization problem had no optimal solution."
     ]
    },
    {
     "name": "stdout",
     "output_type": "stream",
     "text": [
      "\n",
      "The CommonGround_entani optimization problem had no optimal solution.\n",
      "The CommonGround optimization problem had no optimal solution.\n",
      "The CommonGround optimization problem had no optimal solution.\n",
      "The CommonGround_entani optimization problem had no optimal solution.\n",
      "The tCommonGround optimization problem had no optimal solution.\n",
      "The CommonGround_entani optimization problem had no optimal solution.\n",
      "The tCommonGround optimization problem had no optimal solution.\n",
      "The CommonGround optimization problem had no optimal solution.\n",
      "The CommonGround optimization problem had no optimal solution.\n",
      "The tCommonGround optimization problem had no optimal solution.\n",
      "The tCommonGround optimization problem had no optimal solution.\n",
      "The CommonGround_entani optimization problem had no optimal solution.\n",
      "The CommonGround_entani optimization problem had no optimal solution."
     ]
    },
    {
     "name": "stdout",
     "output_type": "stream",
     "text": [
      "\n",
      "The CommonGround optimization problem had no optimal solution.\n",
      "The CommonGround_entani optimization problem had no optimal solution.\n",
      "The CommonGround optimization problem had no optimal solution.\n",
      "The tCommonGround optimization problem had no optimal solution.\n",
      "The CommonGround_entani optimization problem had no optimal solution.\n",
      "The CommonGround optimization problem had no optimal solution.\n",
      "The CommonGround optimization problem had no optimal solution.\n",
      "The tCommonGround optimization problem had no optimal solution.\n",
      "The tCommonGround optimization problem had no optimal solution.\n",
      "The CommonGround_entani optimization problem had no optimal solution.\n",
      "The CommonGround_entani optimization problem had no optimal solution."
     ]
    },
    {
     "name": "stdout",
     "output_type": "stream",
     "text": [
      "\n",
      "The CommonGround optimization problem had no optimal solution.\n",
      "The CommonGround optimization problem had no optimal solution.\n",
      "The CommonGround_entani optimization problem had no optimal solution.\n",
      "The tCommonGround optimization problem had no optimal solution.\n",
      "The tCommonGround optimization problem had no optimal solution.\n",
      "The CommonGround optimization problem had no optimal solution.\n",
      "The CommonGround_entani optimization problem had no optimal solution.\n",
      "The CommonGround optimization problem had no optimal solution.\n",
      "The tCommonGround optimization problem had no optimal solution.\n",
      "The tCommonGround optimization problem had no optimal solution.\n",
      "The CommonGround_entani optimization problem had no optimal solution."
     ]
    },
    {
     "name": "stdout",
     "output_type": "stream",
     "text": [
      "\n",
      "The CommonGround_entani optimization problem had no optimal solution.\n",
      "The CommonGround optimization problem had no optimal solution.\n",
      "The CommonGround optimization problem had no optimal solution.\n",
      "The tCommonGround optimization problem had no optimal solution.\n",
      "The tCommonGround optimization problem had no optimal solution.\n",
      "The CommonGround optimization problem had no optimal solution.\n",
      "The tCommonGround optimization problem had no optimal solution.\n",
      "The CommonGround_entani optimization problem had no optimal solution.\n",
      "The CommonGround optimization problem had no optimal solution.\n",
      "The tCommonGround optimization problem had no optimal solution.\n",
      "The CommonGround_entani optimization problem had no optimal solution."
     ]
    },
    {
     "name": "stdout",
     "output_type": "stream",
     "text": [
      "\n",
      "The CommonGround optimization problem had no optimal solution.\n",
      "The tCommonGround optimization problem had no optimal solution.\n",
      "The CommonGround_entani optimization problem had no optimal solution.\n",
      "The CommonGround optimization problem had no optimal solution.\n",
      "The tCommonGround optimization problem had no optimal solution.\n",
      "The CommonGround_entani optimization problem had no optimal solution.\n",
      "The CommonGround_entani optimization problem had no optimal solution.\n",
      "The CommonGround optimization problem had no optimal solution.\n",
      "The CommonGround optimization problem had no optimal solution.\n",
      "The tCommonGround optimization problem had no optimal solution.\n",
      "The tCommonGround optimization problem had no optimal solution.\n",
      "The CommonGround_entani optimization problem had no optimal solution."
     ]
    },
    {
     "name": "stdout",
     "output_type": "stream",
     "text": [
      "\n"
     ]
    },
    {
     "name": "stdout",
     "output_type": "stream",
     "text": [
      "The CommonGround optimization problem had no optimal solution.\n",
      "The tCommonGround optimization problem had no optimal solution.\n",
      "The CommonGround_entani optimization problem had no optimal solution.\n",
      "The CommonGround optimization problem had no optimal solution.\n",
      "The CommonGround_entani optimization problem had no optimal solution.\n",
      "The CommonGround optimization problem had no optimal solution.\n",
      "The CommonGround_entani optimization problem had no optimal solution.\n",
      "The CommonGround optimization problem had no optimal solution."
     ]
    },
    {
     "name": "stdout",
     "output_type": "stream",
     "text": [
      "\n",
      "The CommonGround_entani optimization problem had no optimal solution.\n",
      "The CommonGround optimization problem had no optimal solution.\n",
      "The tCommonGround optimization problem had no optimal solution.\n",
      "The tCommonGround optimization problem had no optimal solution.\n",
      "The tCommonGround optimization problem had no optimal solution.\n"
     ]
    },
    {
     "name": "stdout",
     "output_type": "stream",
     "text": [
      "The CommonGround_entani optimization problem had no optimal solution.\n",
      "The CommonGround optimization problem had no optimal solution.\n",
      "The tCommonGround optimization problem had no optimal solution.\n",
      "The CommonGround_entani optimization problem had no optimal solution.\n",
      "The CommonGround_entani optimization problem had no optimal solution.\n",
      "The CommonGround optimization problem had no optimal solution.\n",
      "The CommonGround optimization problem had no optimal solution.\n",
      "The tCommonGround optimization problem had no optimal solution.\n",
      "The CommonGround_entani optimization problem had no optimal solution."
     ]
    },
    {
     "name": "stdout",
     "output_type": "stream",
     "text": [
      "\n",
      "The tCommonGround optimization problem had no optimal solution.\n",
      "The CommonGround optimization problem had no optimal solution.\n",
      "The tCommonGround optimization problem had no optimal solution.\n",
      "The CommonGround_entani optimization problem had no optimal solution.\n",
      "The CommonGround optimization problem had no optimal solution.\n",
      "The tCommonGround optimization problem had no optimal solution.\n",
      "The CommonGround_entani optimization problem had no optimal solution.\n",
      "The CommonGround optimization problem had no optimal solution.\n",
      "The CommonGround_entani optimization problem had no optimal solution."
     ]
    },
    {
     "name": "stdout",
     "output_type": "stream",
     "text": [
      "\n",
      "The tCommonGround optimization problem had no optimal solution.\n",
      "The CommonGround_entani optimization problem had no optimal solution.\n",
      "The CommonGround optimization problem had no optimal solution.\n",
      "The CommonGround optimization problem had no optimal solution.\n",
      "The tCommonGround optimization problem had no optimal solution.\n",
      "The tCommonGround optimization problem had no optimal solution.\n",
      "The CommonGround_entani optimization problem had no optimal solution.\n",
      "The CommonGround_entani optimization problem had no optimal solution.\n",
      "The CommonGround optimization problem had no optimal solution.\n",
      "The tCommonGround optimization problem had no optimal solution.\n",
      "The CommonGround optimization problem had no optimal solution.\n",
      "The CommonGround_entani optimization problem had no optimal solution."
     ]
    },
    {
     "name": "stdout",
     "output_type": "stream",
     "text": [
      "\n",
      "The tCommonGround optimization problem had no optimal solution.\n",
      "The CommonGround_entani optimization problem had no optimal solution.\n",
      "The CommonGround optimization problem had no optimal solution.\n",
      "The CommonGround optimization problem had no optimal solution.\n",
      "The tCommonGround optimization problem had no optimal solution.\n",
      "The tCommonGround optimization problem had no optimal solution.\n",
      "The CommonGround_entani optimization problem had no optimal solution.\n",
      "The CommonGround_entani optimization problem had no optimal solution.\n",
      "The CommonGround optimization problem had no optimal solution.\n",
      "The CommonGround optimization problem had no optimal solution.\n",
      "The tCommonGround optimization problem had no optimal solution.\n",
      "The CommonGround_entani optimization problem had no optimal solution."
     ]
    },
    {
     "name": "stdout",
     "output_type": "stream",
     "text": [
      "\n",
      "The tCommonGround optimization problem had no optimal solution.\n",
      "The CommonGround optimization problem had no optimal solution.\n",
      "The tCommonGround optimization problem had no optimal solution.\n"
     ]
    },
    {
     "name": "stdout",
     "output_type": "stream",
     "text": [
      "The CommonGround_entani optimization problem had no optimal solution.\n",
      "The CommonGround optimization problem had no optimal solution.\n",
      "The tCommonGround optimization problem had no optimal solution.\n",
      "The CommonGround_entani optimization problem had no optimal solution.\n",
      "The CommonGround_entani optimization problem had no optimal solution.\n",
      "The CommonGround optimization problem had no optimal solution.\n",
      "The CommonGround optimization problem had no optimal solution.\n",
      "The tCommonGround optimization problem had no optimal solution.\n",
      "The tCommonGround optimization problem had no optimal solution.\n",
      "The CommonGround_entani optimization problem had no optimal solution.\n",
      "The CommonGround optimization problem had no optimal solution.\n",
      "The tCommonGround optimization problem had no optimal solution.\n",
      "The CommonGround_entani optimization problem had no optimal solution.\n",
      "The CommonGround optimization problem had no optimal solution.\n",
      "The tCommonGround optimization problem had no optimal solution.\n",
      "The CommonGround_entani optimization problem had no optimal solution.\n",
      "The CommonGround optimization problem had no optimal solution.\n",
      "The tCommonGround optimization problem had no optimal solution.\n",
      "The CommonGround_entani optimization problem had no optimal solution."
     ]
    },
    {
     "name": "stdout",
     "output_type": "stream",
     "text": [
      "\n",
      "The CommonGround optimization problem had no optimal solution.\n",
      "The CommonGround_entani optimization problem had no optimal solution.\n",
      "The tCommonGround optimization problem had no optimal solution.\n",
      "The CommonGround optimization problem had no optimal solution.\n",
      "The CommonGround_entani optimization problem had no optimal solution.\n",
      "The tCommonGround optimization problem had no optimal solution.\n",
      "The CommonGround optimization problem had no optimal solution.\n",
      "The tCommonGround optimization problem had no optimal solution.\n",
      "The CommonGround_entani optimization problem had no optimal solution.\n",
      "The CommonGround optimization problem had no optimal solution.\n",
      "The CommonGround_entani optimization problem had no optimal solution."
     ]
    },
    {
     "name": "stdout",
     "output_type": "stream",
     "text": [
      "\n",
      "The tCommonGround optimization problem had no optimal solution.\n",
      "The CommonGround_entani optimization problem had no optimal solution.\n",
      "The CommonGround optimization problem had no optimal solution.\n",
      "The CommonGround optimization problem had no optimal solution.\n",
      "The CommonGround_entani optimization problem had no optimal solution.\n",
      "The tCommonGround optimization problem had no optimal solution.\n",
      "The tCommonGround optimization problem had no optimal solution.\n",
      "The CommonGround optimization problem had no optimal solution.\n",
      "The tCommonGround optimization problem had no optimal solution.\n",
      "The CommonGround_entani optimization problem had no optimal solution."
     ]
    },
    {
     "name": "stdout",
     "output_type": "stream",
     "text": [
      "\n",
      "The CommonGround optimization problem had no optimal solution.\n",
      "The tCommonGround optimization problem had no optimal solution.\n",
      "The CommonGround_entani optimization problem had no optimal solution.\n",
      "The CommonGround_entani optimization problem had no optimal solution.\n",
      "The CommonGround optimization problem had no optimal solution.\n",
      "The CommonGround optimization problem had no optimal solution.\n",
      "The CommonGround_entani optimization problem had no optimal solution.\n",
      "The tCommonGround optimization problem had no optimal solution.\n",
      "The tCommonGround optimization problem had no optimal solution.\n",
      "The CommonGround optimization problem had no optimal solution.\n",
      "The tCommonGround optimization problem had no optimal solution.\n",
      "The CommonGround_entani optimization problem had no optimal solution."
     ]
    },
    {
     "name": "stdout",
     "output_type": "stream",
     "text": [
      "\n",
      "The CommonGround optimization problem had no optimal solution.\n",
      "The tCommonGround optimization problem had no optimal solution.\n"
     ]
    },
    {
     "name": "stdout",
     "output_type": "stream",
     "text": [
      "The CommonGround_entani optimization problem had no optimal solution.\n",
      "The CommonGround optimization problem had no optimal solution.\n",
      "The CommonGround optimization problem had no optimal solution.\n",
      "The CommonGround_entani optimization problem had no optimal solution.\n",
      "The CommonGround optimization problem had no optimal solution.\n",
      "The tCommonGround optimization problem had no optimal solution.\n",
      "The tCommonGround optimization problem had no optimal solution.\n",
      "The CommonGround_entani optimization problem had no optimal solution.\n",
      "The CommonGround optimization problem had no optimal solution.\n",
      "The tCommonGround optimization problem had no optimal solution.\n",
      "The CommonGround_entani optimization problem had no optimal solution.\n",
      "The CommonGround_entani optimization problem had no optimal solution.\n",
      "The CommonGround_entani optimization problem had no optimal solution.\n",
      "The CommonGround optimization problem had no optimal solution.\n",
      "The CommonGround optimization problem had no optimal solution.\n",
      "The tCommonGround optimization problem had no optimal solution.\n",
      "The tCommonGround optimization problem had no optimal solution.\n",
      "The CommonGround optimization problem had no optimal solution.\n",
      "The tCommonGround optimization problem had no optimal solution.\n",
      "The CommonGround_entani optimization problem had no optimal solution."
     ]
    },
    {
     "name": "stdout",
     "output_type": "stream",
     "text": [
      "\n",
      "The CommonGround optimization problem had no optimal solution.\n",
      "The CommonGround_entani optimization problem had no optimal solution.\n",
      "The CommonGround optimization problem had no optimal solution.\n",
      "The CommonGround_entani optimization problem had no optimal solution.\n",
      "The tCommonGround optimization problem had no optimal solution.\n",
      "The CommonGround_entani optimization problem had no optimal solution.\n",
      "The tCommonGround optimization problem had no optimal solution.\n",
      "The CommonGround optimization problem had no optimal solution.\n",
      "The CommonGround optimization problem had no optimal solution.\n",
      "The tCommonGround optimization problem had no optimal solution.\n",
      "The CommonGround_entani optimization problem had no optimal solution.\n",
      "The CommonGround optimization problem had no optimal solution.\n",
      "The CommonGround_entani optimization problem had no optimal solution."
     ]
    },
    {
     "name": "stdout",
     "output_type": "stream",
     "text": [
      "\n",
      "The tCommonGround optimization problem had no optimal solution.\n",
      "The CommonGround optimization problem had no optimal solution.\n",
      "The CommonGround_entani optimization problem had no optimal solution.\n",
      "The tCommonGround optimization problem had no optimal solution.\n",
      "The CommonGround_entani optimization problem had no optimal solution.\n",
      "The CommonGround optimization problem had no optimal solution.\n",
      "The CommonGround optimization problem had no optimal solution.\n",
      "The tCommonGround optimization problem had no optimal solution.\n",
      "The tCommonGround optimization problem had no optimal solution.\n",
      "The CommonGround_entani optimization problem had no optimal solution.\n",
      "The CommonGround optimization problem had no optimal solution.\n",
      "The CommonGround_entani optimization problem had no optimal solution."
     ]
    },
    {
     "name": "stdout",
     "output_type": "stream",
     "text": [
      "\n",
      "The tCommonGround optimization problem had no optimal solution.\n",
      "The CommonGround optimization problem had no optimal solution.\n",
      "The CommonGround_entani optimization problem had no optimal solution.\n",
      "The CommonGround optimization problem had no optimal solution.\n",
      "The CommonGround optimization problem had no optimal solution.\n",
      "The tCommonGround optimization problem had no optimal solution.\n",
      "The tCommonGround optimization problem had no optimal solution.\n",
      "The CommonGround_entani optimization problem had no optimal solution.\n",
      "The CommonGround_entani optimization problem had no optimal solution."
     ]
    },
    {
     "name": "stdout",
     "output_type": "stream",
     "text": [
      "\n",
      "The CommonGround_entani optimization problem had no optimal solution.\n",
      "The CommonGround optimization problem had no optimal solution.\n",
      "The CommonGround optimization problem had no optimal solution.\n",
      "The CommonGround optimization problem had no optimal solution.\n",
      "The tCommonGround optimization problem had no optimal solution.\n",
      "The tCommonGround optimization problem had no optimal solution.\n",
      "The CommonGround_entani optimization problem had no optimal solution.\n",
      "The CommonGround optimization problem had no optimal solution.\n",
      "The tCommonGround optimization problem had no optimal solution.\n",
      "The CommonGround_entani optimization problem had no optimal solution.\n",
      "The CommonGround_entani optimization problem had no optimal solution."
     ]
    },
    {
     "name": "stdout",
     "output_type": "stream",
     "text": [
      "\n",
      "The CommonGround_entani optimization problem had no optimal solution.\n",
      "The CommonGround optimization problem had no optimal solution.\n",
      "The CommonGround optimization problem had no optimal solution.\n",
      "The CommonGround optimization problem had no optimal solution.\n",
      "The tCommonGround optimization problem had no optimal solution."
     ]
    },
    {
     "name": "stdout",
     "output_type": "stream",
     "text": [
      "\n",
      "The tCommonGround optimization problem had no optimal solution.\n",
      "The tCommonGround optimization problem had no optimal solution.\n",
      "The CommonGround_entani optimization problem had no optimal solution.\n",
      "The CommonGround optimization problem had no optimal solution.\n",
      "The tCommonGround optimization problem had no optimal solution.\n",
      "The CommonGround_entani optimization problem had no optimal solution."
     ]
    },
    {
     "name": "stdout",
     "output_type": "stream",
     "text": [
      "\n",
      "The CommonGround optimization problem had no optimal solution.\n",
      "The tCommonGround optimization problem had no optimal solution.\n",
      "The CommonGround_entani optimization problem had no optimal solution.\n",
      "The CommonGround optimization problem had no optimal solution.\n",
      "The CommonGround_entani optimization problem had no optimal solution.\n",
      "The CommonGround optimization problem had no optimal solution.\n",
      "The tCommonGround optimization problem had no optimal solution.\n",
      "The tCommonGround optimization problem had no optimal solution.\n",
      "The CommonGround_entani optimization problem had no optimal solution.\n",
      "The CommonGround optimization problem had no optimal solution.\n",
      "The tCommonGround optimization problem had no optimal solution.\n",
      "The CommonGround_entani optimization problem had no optimal solution."
     ]
    },
    {
     "name": "stdout",
     "output_type": "stream",
     "text": [
      "\n",
      "The CommonGround optimization problem had no optimal solution.\n",
      "The tCommonGround optimization problem had no optimal solution.\n",
      "The CommonGround_entani optimization problem had no optimal solution.\n",
      "The CommonGround_entani optimization problem had no optimal solution.\n",
      "The CommonGround optimization problem had no optimal solution.\n",
      "The CommonGround optimization problem had no optimal solution.\n",
      "The tCommonGround optimization problem had no optimal solution.\n",
      "The CommonGround_entani optimization problem had no optimal solution.\n",
      "The tCommonGround optimization problem had no optimal solution.\n",
      "The CommonGround optimization problem had no optimal solution.\n",
      "The tCommonGround optimization problem had no optimal solution.\n",
      "The CommonGround_entani optimization problem had no optimal solution."
     ]
    },
    {
     "name": "stdout",
     "output_type": "stream",
     "text": [
      "\n",
      "The CommonGround optimization problem had no optimal solution.\n",
      "The CommonGround_entani optimization problem had no optimal solution.\n",
      "The tCommonGround optimization problem had no optimal solution.\n"
     ]
    },
    {
     "name": "stdout",
     "output_type": "stream",
     "text": [
      "The CommonGround optimization problem had no optimal solution.\n",
      "The CommonGround_entani optimization problem had no optimal solution.\n",
      "The tCommonGround optimization problem had no optimal solution.\n",
      "The CommonGround optimization problem had no optimal solution.\n",
      "The CommonGround_entani optimization problem had no optimal solution.\n",
      "The tCommonGround optimization problem had no optimal solution.\n",
      "The CommonGround optimization problem had no optimal solution.\n",
      "The tCommonGround optimization problem had no optimal solution.\n",
      "The CommonGround_entani optimization problem had no optimal solution.\n",
      "The CommonGround optimization problem had no optimal solution.\n",
      "The CommonGround_entani optimization problem had no optimal solution.\n",
      "The tCommonGround optimization problem had no optimal solution.\n",
      "The CommonGround optimization problem had no optimal solution.\n",
      "The CommonGround_entani optimization problem had no optimal solution.\n",
      "The CommonGround optimization problem had no optimal solution.\n",
      "The tCommonGround optimization problem had no optimal solution.\n",
      "The CommonGround_entani optimization problem had no optimal solution.\n",
      "The tCommonGround optimization problem had no optimal solution.\n",
      "The CommonGround optimization problem had no optimal solution.\n",
      "The tCommonGround optimization problem had no optimal solution.\n",
      "The CommonGround_entani optimization problem had no optimal solution."
     ]
    },
    {
     "name": "stdout",
     "output_type": "stream",
     "text": [
      "\n",
      "The CommonGround optimization problem had no optimal solution.\n",
      "The tCommonGround optimization problem had no optimal solution.\n",
      "The CommonGround_entani optimization problem had no optimal solution.\n",
      "The CommonGround_entani optimization problem had no optimal solution.\n",
      "The CommonGround optimization problem had no optimal solution.\n",
      "The CommonGround optimization problem had no optimal solution.\n",
      "The tCommonGround optimization problem had no optimal solution.\n",
      "The CommonGround_entani optimization problem had no optimal solution.\n",
      "The tCommonGround optimization problem had no optimal solution.\n",
      "The CommonGround optimization problem had no optimal solution.\n",
      "The tCommonGround optimization problem had no optimal solution.\n",
      "The CommonGround_entani optimization problem had no optimal solution.\n",
      "The CommonGround_entani optimization problem had no optimal solution.\n",
      "The CommonGround_entani optimization problem had no optimal solution."
     ]
    },
    {
     "name": "stdout",
     "output_type": "stream",
     "text": [
      "\n",
      "The CommonGround optimization problem had no optimal solution.\n",
      "The CommonGround optimization problem had no optimal solution.\n",
      "The CommonGround optimization problem had no optimal solution.\n",
      "The tCommonGround optimization problem had no optimal solution.\n",
      "The tCommonGround optimization problem had no optimal solution.\n",
      "The tCommonGround optimization problem had no optimal solution.\n",
      "The CommonGround_entani optimization problem had no optimal solution.\n",
      "The CommonGround optimization problem had no optimal solution.\n",
      "The tCommonGround optimization problem had no optimal solution.\n",
      "The CommonGround_entani optimization problem had no optimal solution.\n",
      "The CommonGround_entani optimization problem had no optimal solution.\n",
      "The CommonGround optimization problem had no optimal solution.\n",
      "The CommonGround optimization problem had no optimal solution.\n",
      "The CommonGround_entani optimization problem had no optimal solution."
     ]
    },
    {
     "name": "stdout",
     "output_type": "stream",
     "text": [
      "\n",
      "The tCommonGround optimization problem had no optimal solution.\n",
      "The CommonGround optimization problem had no optimal solution.\n"
     ]
    },
    {
     "name": "stdout",
     "output_type": "stream",
     "text": [
      "The tCommonGround optimization problem had no optimal solution.\n",
      "The tCommonGround optimization problem had no optimal solution.\n",
      "The CommonGround_entani optimization problem had no optimal solution.\n",
      "The CommonGround optimization problem had no optimal solution.\n",
      "The tCommonGround optimization problem had no optimal solution.\n",
      "The CommonGround_entani optimization problem had no optimal solution.\n",
      "The CommonGround optimization problem had no optimal solution.\n",
      "The tCommonGround optimization problem had no optimal solution.\n",
      "The CommonGround_entani optimization problem had no optimal solution."
     ]
    },
    {
     "name": "stdout",
     "output_type": "stream",
     "text": [
      "\n",
      "The CommonGround optimization problem had no optimal solution.\n",
      "The tCommonGround optimization problem had no optimal solution.\n",
      "The CommonGround_entani optimization problem had no optimal solution.\n",
      "The CommonGround optimization problem had no optimal solution.\n",
      "The tCommonGround optimization problem had no optimal solution.\n",
      "The CommonGround_entani optimization problem had no optimal solution.\n",
      "The CommonGround_entani optimization problem had no optimal solution.\n",
      "The CommonGround optimization problem had no optimal solution.\n",
      "The CommonGround optimization problem had no optimal solution.\n",
      "The tCommonGround optimization problem had no optimal solution.\n",
      "The tCommonGround optimization problem had no optimal solution.\n",
      "The CommonGround_entani optimization problem had no optimal solution."
     ]
    },
    {
     "name": "stdout",
     "output_type": "stream",
     "text": [
      "\n",
      "The CommonGround optimization problem had no optimal solution.\n",
      "The CommonGround_entani optimization problem had no optimal solution.\n",
      "The tCommonGround optimization problem had no optimal solution.\n",
      "The CommonGround optimization problem had no optimal solution.\n",
      "The tCommonGround optimization problem had no optimal solution.\n",
      "The CommonGround_entani optimization problem had no optimal solution.\n",
      "The CommonGround_entani optimization problem had no optimal solution.\n",
      "The CommonGround optimization problem had no optimal solution.\n",
      "The CommonGround optimization problem had no optimal solution.\n",
      "The tCommonGround optimization problem had no optimal solution.\n",
      "The tCommonGround optimization problem had no optimal solution.\n",
      "The CommonGround_entani optimization problem had no optimal solution."
     ]
    },
    {
     "name": "stdout",
     "output_type": "stream",
     "text": [
      "\n",
      "The CommonGround optimization problem had no optimal solution.\n",
      "The CommonGround_entani optimization problem had no optimal solution.\n",
      "The CommonGround optimization problem had no optimal solution.\n",
      "The tCommonGround optimization problem had no optimal solution.\n"
     ]
    },
    {
     "name": "stdout",
     "output_type": "stream",
     "text": [
      "The tCommonGround optimization problem had no optimal solution.\n",
      "The CommonGround_entani optimization problem had no optimal solution.\n",
      "The CommonGround_entani optimization problem had no optimal solution.\n",
      "The CommonGround optimization problem had no optimal solution.\n",
      "The CommonGround optimization problem had no optimal solution.\n",
      "The tCommonGround optimization problem had no optimal solution.\n",
      "The tCommonGround optimization problem had no optimal solution.\n",
      "The CommonGround_entani optimization problem had no optimal solution.\n",
      "The CommonGround_entani optimization problem had no optimal solution.\n",
      "The CommonGround optimization problem had no optimal solution.\n",
      "The CommonGround optimization problem had no optimal solution.\n",
      "The tCommonGround optimization problem had no optimal solution.\n",
      "The CommonGround_entani optimization problem had no optimal solution.\n",
      "The CommonGround_entani optimization problem had no optimal solution.\n",
      "The CommonGround optimization problem had no optimal solution.\n",
      "The CommonGround optimization problem had no optimal solution.\n",
      "The tCommonGround optimization problem had no optimal solution.\n",
      "The tCommonGround optimization problem had no optimal solution.\n",
      "The CommonGround_entani optimization problem had no optimal solution.\n",
      "The CommonGround_entani optimization problem had no optimal solution."
     ]
    },
    {
     "name": "stdout",
     "output_type": "stream",
     "text": [
      "\n",
      "The CommonGround optimization problem had no optimal solution.\n",
      "The CommonGround optimization problem had no optimal solution.\n",
      "The tCommonGround optimization problem had no optimal solution.\n"
     ]
    },
    {
     "name": "stdout",
     "output_type": "stream",
     "text": [
      "The tCommonGround optimization problem had no optimal solution.\n",
      "The CommonGround_entani optimization problem had no optimal solution.\n",
      "The CommonGround_entani optimization problem had no optimal solution.\n",
      "The CommonGround optimization problem had no optimal solution.\n",
      "The CommonGround optimization problem had no optimal solution.\n",
      "The tCommonGround optimization problem had no optimal solution.\n",
      "The tCommonGround optimization problem had no optimal solution.\n",
      "The CommonGround_entani optimization problem had no optimal solution.\n"
     ]
    },
    {
     "name": "stdout",
     "output_type": "stream",
     "text": [
      "The CommonGround optimization problem had no optimal solution.\n",
      "The CommonGround_entani optimization problem had no optimal solution.\n",
      "The tCommonGround optimization problem had no optimal solution.\n",
      "The CommonGround optimization problem had no optimal solution.\n",
      "The tCommonGround optimization problem had no optimal solution.\n",
      "The CommonGround_entani optimization problem had no optimal solution.\n",
      "The CommonGround_entani optimization problem had no optimal solution.\n",
      "The CommonGround optimization problem had no optimal solution.\n",
      "The tCommonGround optimization problem had no optimal solution.\n",
      "The CommonGround optimization problem had no optimal solution.\n",
      "The tCommonGround optimization problem had no optimal solution.\n",
      "The CommonGround_entani optimization problem had no optimal solution."
     ]
    },
    {
     "name": "stdout",
     "output_type": "stream",
     "text": [
      "\n",
      "The CommonGround optimization problem had no optimal solution.\n",
      "The CommonGround_entani optimization problem had no optimal solution.\n",
      "The tCommonGround optimization problem had no optimal solution.\n",
      "The CommonGround optimization problem had no optimal solution.\n",
      "The tCommonGround optimization problem had no optimal solution.\n",
      "The CommonGround_entani optimization problem had no optimal solution.\n",
      "The CommonGround optimization problem had no optimal solution.\n",
      "The CommonGround_entani optimization problem had no optimal solution.\n",
      "The tCommonGround optimization problem had no optimal solution.\n",
      "The CommonGround optimization problem had no optimal solution.\n",
      "The tCommonGround optimization problem had no optimal solution.\n",
      "The CommonGround_entani optimization problem had no optimal solution."
     ]
    },
    {
     "name": "stdout",
     "output_type": "stream",
     "text": [
      "\n",
      "The CommonGround_entani optimization problem had no optimal solution.\n",
      "The CommonGround optimization problem had no optimal solution.\n",
      "The tCommonGround optimization problem had no optimal solution.\n",
      "The CommonGround optimization problem had no optimal solution.\n",
      "The tCommonGround optimization problem had no optimal solution.\n",
      "The CommonGround_entani optimization problem had no optimal solution.\n",
      "The CommonGround optimization problem had no optimal solution.\n",
      "The tCommonGround optimization problem had no optimal solution.\n",
      "The CommonGround_entani optimization problem had no optimal solution.\n",
      "The CommonGround optimization problem had no optimal solution.\n",
      "The tCommonGround optimization problem had no optimal solution.\n"
     ]
    },
    {
     "name": "stdout",
     "output_type": "stream",
     "text": [
      "The CommonGround_entani optimization problem had no optimal solution.\n",
      "The CommonGround optimization problem had no optimal solution.\n",
      "The CommonGround_entani optimization problem had no optimal solution.\n",
      "The tCommonGround optimization problem had no optimal solution.\n",
      "The CommonGround optimization problem had no optimal solution.\n",
      "The tCommonGround optimization problem had no optimal solution.\n",
      "The CommonGround_entani optimization problem had no optimal solution.\n",
      "The CommonGround_entani optimization problem had no optimal solution.\n",
      "The CommonGround optimization problem had no optimal solution.\n",
      "The CommonGround optimization problem had no optimal solution.\n",
      "The tCommonGround optimization problem had no optimal solution.\n",
      "The tCommonGround optimization problem had no optimal solution.\n",
      "The CommonGround_entani optimization problem had no optimal solution."
     ]
    },
    {
     "name": "stdout",
     "output_type": "stream",
     "text": [
      "\n",
      "The CommonGround optimization problem had no optimal solution.\n"
     ]
    },
    {
     "name": "stdout",
     "output_type": "stream",
     "text": [
      "The CommonGround_entani optimization problem had no optimal solution.\n",
      "The tCommonGround optimization problem had no optimal solution.\n",
      "The CommonGround optimization problem had no optimal solution.\n",
      "The tCommonGround optimization problem had no optimal solution.\n",
      "The CommonGround_entani optimization problem had no optimal solution.\n",
      "The CommonGround optimization problem had no optimal solution.\n",
      "The CommonGround_entani optimization problem had no optimal solution.\n",
      "The tCommonGround optimization problem had no optimal solution.\n",
      "The CommonGround optimization problem had no optimal solution.\n",
      "The CommonGround_entani optimization problem had no optimal solution."
     ]
    },
    {
     "name": "stdout",
     "output_type": "stream",
     "text": [
      "\n",
      "The tCommonGround optimization problem had no optimal solution.\n",
      "The CommonGround optimization problem had no optimal solution.\n",
      "The CommonGround_entani optimization problem had no optimal solution.\n",
      "The tCommonGround optimization problem had no optimal solution."
     ]
    },
    {
     "name": "stdout",
     "output_type": "stream",
     "text": [
      "\n",
      "The CommonGround optimization problem had no optimal solution.\n",
      "The tCommonGround optimization problem had no optimal solution.\n",
      "The CommonGround_entani optimization problem had no optimal solution.\n",
      "The CommonGround optimization problem had no optimal solution.\n",
      "The CommonGround_entani optimization problem had no optimal solution.\n",
      "The tCommonGround optimization problem had no optimal solution.\n",
      "The CommonGround_entani optimization problem had no optimal solution."
     ]
    },
    {
     "name": "stdout",
     "output_type": "stream",
     "text": [
      "\n",
      "The CommonGround optimization problem had no optimal solution.\n",
      "The CommonGround optimization problem had no optimal solution.\n",
      "The CommonGround_entani optimization problem had no optimal solution.\n",
      "The tCommonGround optimization problem had no optimal solution.\n"
     ]
    },
    {
     "name": "stdout",
     "output_type": "stream",
     "text": [
      "The tCommonGround optimization problem had no optimal solution.\n",
      "The CommonGround optimization problem had no optimal solution.\n",
      "The tCommonGround optimization problem had no optimal solution.\n",
      "The CommonGround_entani optimization problem had no optimal solution.\n",
      "The CommonGround optimization problem had no optimal solution.\n",
      "The tCommonGround optimization problem had no optimal solution.\n"
     ]
    },
    {
     "name": "stdout",
     "output_type": "stream",
     "text": [
      "The CommonGround optimization problem had no optimal solution.\n",
      "The tCommonGround optimization problem had no optimal solution.\n",
      "The CommonGround_entani optimization problem had no optimal solution.\n",
      "The CommonGround optimization problem had no optimal solution.\n",
      "The tCommonGround optimization problem had no optimal solution.\n",
      "The CommonGround_entani optimization problem had no optimal solution.\n",
      "The CommonGround optimization problem had no optimal solution.\n"
     ]
    },
    {
     "name": "stdout",
     "output_type": "stream",
     "text": [
      "The tCommonGround optimization problem had no optimal solution.\n",
      "The CommonGround_entani optimization problem had no optimal solution.\n",
      "The CommonGround optimization problem had no optimal solution.\n",
      "The CommonGround_entani optimization problem had no optimal solution.\n",
      "The tCommonGround optimization problem had no optimal solution.\n",
      "The CommonGround optimization problem had no optimal solution.\n",
      "The tCommonGround optimization problem had no optimal solution.\n",
      "The CommonGround_entani optimization problem had no optimal solution.\n",
      "The CommonGround_entani optimization problem had no optimal solution."
     ]
    },
    {
     "name": "stdout",
     "output_type": "stream",
     "text": [
      "\n",
      "The CommonGround optimization problem had no optimal solution.\n",
      "The CommonGround optimization problem had no optimal solution.\n",
      "The tCommonGround optimization problem had no optimal solution.\n",
      "The tCommonGround optimization problem had no optimal solution.\n",
      "The CommonGround_entani optimization problem had no optimal solution.\n",
      "The CommonGround_entani optimization problem had no optimal solution.\n",
      "The CommonGround optimization problem had no optimal solution.\n",
      "The CommonGround optimization problem had no optimal solution.\n",
      "The tCommonGround optimization problem had no optimal solution.\n",
      "The tCommonGround optimization problem had no optimal solution.\n",
      "The CommonGround optimization problem had no optimal solution.\n",
      "The CommonGround_entani optimization problem had no optimal solution."
     ]
    },
    {
     "name": "stdout",
     "output_type": "stream",
     "text": [
      "\n",
      "The tCommonGround optimization problem had no optimal solution.\n",
      "The CommonGround optimization problem had no optimal solution.\n"
     ]
    },
    {
     "name": "stdout",
     "output_type": "stream",
     "text": [
      "The tCommonGround optimization problem had no optimal solution.\n",
      "The CommonGround_entani optimization problem had no optimal solution.\n",
      "The CommonGround optimization problem had no optimal solution.\n",
      "The CommonGround optimization problem had no optimal solution.\n",
      "The tCommonGround optimization problem had no optimal solution.\n",
      "The tCommonGround optimization problem had no optimal solution.\n",
      "The CommonGround_entani optimization problem had no optimal solution.\n",
      "The CommonGround optimization problem had no optimal solution.\n",
      "The tCommonGround optimization problem had no optimal solution.\n",
      "The CommonGround_entani optimization problem had no optimal solution."
     ]
    },
    {
     "name": "stdout",
     "output_type": "stream",
     "text": [
      "\n",
      "The CommonGround optimization problem had no optimal solution.\n",
      "The tCommonGround optimization problem had no optimal solution.\n"
     ]
    },
    {
     "name": "stdout",
     "output_type": "stream",
     "text": [
      "The CommonGround_entani optimization problem had no optimal solution.\n",
      "The CommonGround optimization problem had no optimal solution.\n",
      "The tCommonGround optimization problem had no optimal solution.\n",
      "The CommonGround_entani optimization problem had no optimal solution.\n",
      "The CommonGround optimization problem had no optimal solution.\n",
      "The CommonGround_entani optimization problem had no optimal solution.\n",
      "The tCommonGround optimization problem had no optimal solution.\n",
      "The CommonGround optimization problem had no optimal solution.\n",
      "The CommonGround_entani optimization problem had no optimal solution.\n",
      "The tCommonGround optimization problem had no optimal solution.\n",
      "The CommonGround optimization problem had no optimal solution."
     ]
    },
    {
     "name": "stdout",
     "output_type": "stream",
     "text": [
      "\n",
      "The tCommonGround optimization problem had no optimal solution.\n",
      "The CommonGround_entani optimization problem had no optimal solution.\n",
      "The CommonGround optimization problem had no optimal solution.\n",
      "The tCommonGround optimization problem had no optimal solution.\n",
      "The CommonGround_entani optimization problem had no optimal solution.\n",
      "The CommonGround optimization problem had no optimal solution.\n",
      "The tCommonGround optimization problem had no optimal solution.\n",
      "The CommonGround_entani optimization problem had no optimal solution.\n",
      "The CommonGround optimization problem had no optimal solution.\n",
      "The CommonGround_entani optimization problem had no optimal solution."
     ]
    },
    {
     "name": "stdout",
     "output_type": "stream",
     "text": [
      "\n",
      "The tCommonGround optimization problem had no optimal solution.\n",
      "The CommonGround optimization problem had no optimal solution.\n",
      "The CommonGround_entani optimization problem had no optimal solution.\n",
      "The tCommonGround optimization problem had no optimal solution.\n",
      "The CommonGround optimization problem had no optimal solution.\n",
      "The CommonGround_entani optimization problem had no optimal solution.\n",
      "The tCommonGround optimization problem had no optimal solution.\n",
      "The CommonGround optimization problem had no optimal solution.\n",
      "The tCommonGround optimization problem had no optimal solution.\n",
      "The CommonGround_entani optimization problem had no optimal solution.\n",
      "The CommonGround optimization problem had no optimal solution.\n",
      "The tCommonGround optimization problem had no optimal solution.\n",
      "The CommonGround_entani optimization problem had no optimal solution."
     ]
    },
    {
     "name": "stdout",
     "output_type": "stream",
     "text": [
      "\n",
      "The CommonGround_entani optimization problem had no optimal solution.\n",
      "The CommonGround optimization problem had no optimal solution.\n"
     ]
    },
    {
     "name": "stdout",
     "output_type": "stream",
     "text": [
      "The CommonGround_entani optimization problem had no optimal solution.\n",
      "The CommonGround optimization problem had no optimal solution.\n",
      "The tCommonGround optimization problem had no optimal solution.\n",
      "The CommonGround optimization problem had no optimal solution.\n",
      "The tCommonGround optimization problem had no optimal solution.\n",
      "The tCommonGround optimization problem had no optimal solution.\n",
      "The CommonGround_entani optimization problem had no optimal solution.\n",
      "The CommonGround optimization problem had no optimal solution.\n",
      "The tCommonGround optimization problem had no optimal solution.\n",
      "The CommonGround_entani optimization problem had no optimal solution.\n",
      "The CommonGround_entani optimization problem had no optimal solution."
     ]
    },
    {
     "name": "stdout",
     "output_type": "stream",
     "text": [
      "\n",
      "The CommonGround optimization problem had no optimal solution.\n",
      "The CommonGround optimization problem had no optimal solution.\n",
      "The CommonGround_entani optimization problem had no optimal solution.\n",
      "The tCommonGround optimization problem had no optimal solution.\n",
      "The CommonGround optimization problem had no optimal solution.\n",
      "The tCommonGround optimization problem had no optimal solution.\n",
      "The CommonGround_entani optimization problem had no optimal solution.\n",
      "The tCommonGround optimization problem had no optimal solution.\n",
      "The CommonGround optimization problem had no optimal solution.\n",
      "The tCommonGround optimization problem had no optimal solution.\n",
      "The CommonGround_entani optimization problem had no optimal solution.\n",
      "The CommonGround_entani optimization problem had no optimal solution."
     ]
    },
    {
     "name": "stdout",
     "output_type": "stream",
     "text": [
      "\n",
      "The CommonGround_entani optimization problem had no optimal solution.\n",
      "The CommonGround_entani optimization problem had no optimal solution.\n",
      "The CommonGround optimization problem had no optimal solution.\n",
      "The CommonGround optimization problem had no optimal solution.\n",
      "The CommonGround optimization problem had no optimal solution.\n",
      "The CommonGround optimization problem had no optimal solution.\n",
      "The tCommonGround optimization problem had no optimal solution.\n",
      "The tCommonGround optimization problem had no optimal solution.\n",
      "The tCommonGround optimization problem had no optimal solution.\n",
      "The tCommonGround optimization problem had no optimal solution.\n",
      "The CommonGround_entani optimization problem had no optimal solution."
     ]
    },
    {
     "name": "stdout",
     "output_type": "stream",
     "text": [
      "\n",
      "The CommonGround optimization problem had no optimal solution.\n",
      "The tCommonGround optimization problem had no optimal solution.\n",
      "The CommonGround_entani optimization problem had no optimal solution.\n",
      "The CommonGround optimization problem had no optimal solution.\n",
      "The CommonGround_entani optimization problem had no optimal solution.\n",
      "The CommonGround_entani optimization problem had no optimal solution.\n",
      "The CommonGround optimization problem had no optimal solution.\n",
      "The tCommonGround optimization problem had no optimal solution.\n",
      "The CommonGround optimization problem had no optimal solution.\n",
      "The tCommonGround optimization problem had no optimal solution.\n",
      "The tCommonGround optimization problem had no optimal solution.\n",
      "The CommonGround_entani optimization problem had no optimal solution."
     ]
    },
    {
     "name": "stdout",
     "output_type": "stream",
     "text": [
      "\n"
     ]
    },
    {
     "name": "stdout",
     "output_type": "stream",
     "text": [
      "The CommonGround optimization problem had no optimal solution.\n",
      "The tCommonGround optimization problem had no optimal solution.\n",
      "The CommonGround_entani optimization problem had no optimal solution.\n",
      "The CommonGround_entani optimization problem had no optimal solution.\n",
      "The CommonGround optimization problem had no optimal solution.\n",
      "The CommonGround_entani optimization problem had no optimal solution.\n",
      "The tCommonGround optimization problem had no optimal solution.\n",
      "The CommonGround optimization problem had no optimal solution.\n",
      "The CommonGround optimization problem had no optimal solution.\n",
      "The tCommonGround optimization problem had no optimal solution.\n",
      "The tCommonGround optimization problem had no optimal solution.\n",
      "The CommonGround_entani optimization problem had no optimal solution."
     ]
    },
    {
     "name": "stdout",
     "output_type": "stream",
     "text": [
      "\n",
      "The CommonGround optimization problem had no optimal solution.\n",
      "The tCommonGround optimization problem had no optimal solution.\n",
      "The CommonGround_entani optimization problem had no optimal solution.\n",
      "The CommonGround optimization problem had no optimal solution.\n",
      "The CommonGround_entani optimization problem had no optimal solution.\n",
      "The tCommonGround optimization problem had no optimal solution.\n",
      "The CommonGround optimization problem had no optimal solution.\n",
      "The tCommonGround optimization problem had no optimal solution.\n",
      "The CommonGround_entani optimization problem had no optimal solution."
     ]
    },
    {
     "name": "stdout",
     "output_type": "stream",
     "text": [
      "\n"
     ]
    },
    {
     "name": "stdout",
     "output_type": "stream",
     "text": [
      "The CommonGround_entani optimization problem had no optimal solution.\n",
      "The CommonGround optimization problem had no optimal solution.\n",
      "The CommonGround_entani optimization problem had no optimal solution.\n",
      "The CommonGround optimization problem had no optimal solution.\n",
      "The tCommonGround optimization problem had no optimal solution.\n",
      "The CommonGround optimization problem had no optimal solution.\n",
      "The tCommonGround optimization problem had no optimal solution.\n",
      "The CommonGround_entani optimization problem had no optimal solution.\n",
      "The tCommonGround optimization problem had no optimal solution.\n",
      "The CommonGround optimization problem had no optimal solution.\n",
      "The tCommonGround optimization problem had no optimal solution.\n",
      "The CommonGround_entani optimization problem had no optimal solution."
     ]
    },
    {
     "name": "stdout",
     "output_type": "stream",
     "text": [
      "\n",
      "The CommonGround optimization problem had no optimal solution.\n",
      "The tCommonGround optimization problem had no optimal solution.\n",
      "The CommonGround_entani optimization problem had no optimal solution.\n",
      "The CommonGround_entani optimization problem had no optimal solution.\n",
      "The CommonGround_entani optimization problem had no optimal solution.\n",
      "The CommonGround optimization problem had no optimal solution.\n",
      "The CommonGround optimization problem had no optimal solution.\n",
      "The CommonGround optimization problem had no optimal solution.\n",
      "The tCommonGround optimization problem had no optimal solution.\n",
      "The tCommonGround optimization problem had no optimal solution.\n",
      "The tCommonGround optimization problem had no optimal solution.\n",
      "The CommonGround_entani optimization problem had no optimal solution.\n",
      "The CommonGround optimization problem had no optimal solution.\n",
      "The CommonGround_entani optimization problem had no optimal solution."
     ]
    },
    {
     "name": "stdout",
     "output_type": "stream",
     "text": [
      "\n",
      "The tCommonGround optimization problem had no optimal solution.\n",
      "The CommonGround optimization problem had no optimal solution.\n",
      "The tCommonGround optimization problem had no optimal solution.\n",
      "The CommonGround_entani optimization problem had no optimal solution.\n",
      "The CommonGround optimization problem had no optimal solution.\n",
      "The CommonGround_entani optimization problem had no optimal solution.\n",
      "The tCommonGround optimization problem had no optimal solution.\n",
      "The CommonGround optimization problem had no optimal solution.\n",
      "The tCommonGround optimization problem had no optimal solution.\n",
      "The CommonGround_entani optimization problem had no optimal solution.\n",
      "The CommonGround optimization problem had no optimal solution.\n",
      "The CommonGround_entani optimization problem had no optimal solution."
     ]
    },
    {
     "name": "stdout",
     "output_type": "stream",
     "text": [
      "\n",
      "The tCommonGround optimization problem had no optimal solution.\n",
      "The CommonGround_entani optimization problem had no optimal solution.\n",
      "The CommonGround optimization problem had no optimal solution.\n",
      "The tCommonGround optimization problem had no optimal solution.\n",
      "The CommonGround optimization problem had no optimal solution.\n",
      "The CommonGround_entani optimization problem had no optimal solution.\n",
      "The tCommonGround optimization problem had no optimal solution.\n",
      "The CommonGround optimization problem had no optimal solution.\n",
      "The tCommonGround optimization problem had no optimal solution.\n",
      "The CommonGround_entani optimization problem had no optimal solution."
     ]
    },
    {
     "name": "stdout",
     "output_type": "stream",
     "text": [
      "\n",
      "The CommonGround_entani optimization problem had no optimal solution.\n",
      "The CommonGround optimization problem had no optimal solution.\n",
      "The CommonGround_entani optimization problem had no optimal solution.\n",
      "The CommonGround optimization problem had no optimal solution.\n",
      "The CommonGround optimization problem had no optimal solution.\n",
      "The tCommonGround optimization problem had no optimal solution.\n",
      "The tCommonGround optimization problem had no optimal solution.\n",
      "The CommonGround_entani optimization problem had no optimal solution.\n",
      "The tCommonGround optimization problem had no optimal solution.\n",
      "The CommonGround optimization problem had no optimal solution.\n",
      "The tCommonGround optimization problem had no optimal solution.\n",
      "The CommonGround_entani optimization problem had no optimal solution.\n",
      "The CommonGround_entani optimization problem had no optimal solution."
     ]
    },
    {
     "name": "stdout",
     "output_type": "stream",
     "text": [
      "\n",
      "The CommonGround_entani optimization problem had no optimal solution.\n",
      "The CommonGround optimization problem had no optimal solution.\n",
      "The CommonGround optimization problem had no optimal solution.\n",
      "The CommonGround optimization problem had no optimal solution.\n",
      "The tCommonGround optimization problem had no optimal solution.\n",
      "The tCommonGround optimization problem had no optimal solution.\n",
      "The CommonGround_entani optimization problem had no optimal solution.\n",
      "The tCommonGround optimization problem had no optimal solution.\n",
      "The CommonGround optimization problem had no optimal solution.\n",
      "The tCommonGround optimization problem had no optimal solution.\n",
      "The CommonGround_entani optimization problem had no optimal solution.\n",
      "The CommonGround optimization problem had no optimal solution.\n",
      "The CommonGround optimization problem had no optimal solution."
     ]
    },
    {
     "name": "stdout",
     "output_type": "stream",
     "text": [
      "\n",
      "The CommonGround_entani optimization problem had no optimal solution.\n",
      "The CommonGround_entani optimization problem had no optimal solution.\n",
      "The tCommonGround optimization problem had no optimal solution.\n",
      "The CommonGround optimization problem had no optimal solution.\n",
      "The CommonGround optimization problem had no optimal solution.\n",
      "The tCommonGround optimization problem had no optimal solution.\n",
      "The tCommonGround optimization problem had no optimal solution.\n",
      "The CommonGround_entani optimization problem had no optimal solution."
     ]
    },
    {
     "name": "stdout",
     "output_type": "stream",
     "text": [
      "\n",
      "The CommonGround optimization problem had no optimal solution.\n",
      "The tCommonGround optimization problem had no optimal solution.\n",
      "The CommonGround_entani optimization problem had no optimal solution.\n",
      "The CommonGround_entani optimization problem had no optimal solution.\n",
      "The CommonGround optimization problem had no optimal solution.\n",
      "The CommonGround_entani optimization problem had no optimal solution.\n",
      "The CommonGround optimization problem had no optimal solution.\n",
      "The tCommonGround optimization problem had no optimal solution.\n",
      "The CommonGround optimization problem had no optimal solution.\n",
      "The tCommonGround optimization problem had no optimal solution.\n",
      "The tCommonGround optimization problem had no optimal solution.\n"
     ]
    },
    {
     "name": "stdout",
     "output_type": "stream",
     "text": [
      "The CommonGround_entani optimization problem had no optimal solution.\n",
      "The CommonGround optimization problem had no optimal solution.\n",
      "The tCommonGround optimization problem had no optimal solution.\n"
     ]
    },
    {
     "name": "stdout",
     "output_type": "stream",
     "text": [
      "The CommonGround_entani optimization problem had no optimal solution.\n",
      "The CommonGround_entani optimization problem had no optimal solution.\n",
      "The CommonGround optimization problem had no optimal solution.\n",
      "The CommonGround optimization problem had no optimal solution.\n",
      "The CommonGround_entani optimization problem had no optimal solution.\n",
      "The tCommonGround optimization problem had no optimal solution.\n",
      "The tCommonGround optimization problem had no optimal solution.\n",
      "The CommonGround optimization problem had no optimal solution.\n",
      "The tCommonGround optimization problem had no optimal solution.\n",
      "The CommonGround_entani optimization problem had no optimal solution.\n"
     ]
    },
    {
     "name": "stdout",
     "output_type": "stream",
     "text": [
      "The CommonGround optimization problem had no optimal solution.\n",
      "The tCommonGround optimization problem had no optimal solution.\n",
      "The CommonGround_entani optimization problem had no optimal solution.\n",
      "The CommonGround optimization problem had no optimal solution.\n",
      "The tCommonGround optimization problem had no optimal solution.\n",
      "The CommonGround_entani optimization problem had no optimal solution.\n",
      "The CommonGround optimization problem had no optimal solution.\n",
      "The tCommonGround optimization problem had no optimal solution.\n",
      "The CommonGround_entani optimization problem had no optimal solution.\n",
      "The CommonGround optimization problem had no optimal solution.\n",
      "The tCommonGround optimization problem had no optimal solution.\n",
      "The CommonGround_entani optimization problem had no optimal solution."
     ]
    },
    {
     "name": "stdout",
     "output_type": "stream",
     "text": [
      "\n",
      "The CommonGround_entani optimization problem had no optimal solution.\n",
      "The CommonGround optimization problem had no optimal solution.\n",
      "The CommonGround optimization problem had no optimal solution.\n",
      "The tCommonGround optimization problem had no optimal solution.\n",
      "The tCommonGround optimization problem had no optimal solution.\n",
      "The CommonGround_entani optimization problem had no optimal solution.\n",
      "The CommonGround optimization problem had no optimal solution.\n",
      "The tCommonGround optimization problem had no optimal solution.\n",
      "The CommonGround_entani optimization problem had no optimal solution.\n",
      "The CommonGround optimization problem had no optimal solution.\n",
      "The tCommonGround optimization problem had no optimal solution.\n",
      "The CommonGround_entani optimization problem had no optimal solution."
     ]
    },
    {
     "name": "stdout",
     "output_type": "stream",
     "text": [
      "\n",
      "The CommonGround optimization problem had no optimal solution.\n",
      "The CommonGround_entani optimization problem had no optimal solution.\n",
      "The CommonGround optimization problem had no optimal solution.\n",
      "The tCommonGround optimization problem had no optimal solution.\n",
      "The tCommonGround optimization problem had no optimal solution.\n",
      "The CommonGround_entani optimization problem had no optimal solution.\n",
      "The CommonGround optimization problem had no optimal solution.\n",
      "The CommonGround_entani optimization problem had no optimal solution.\n",
      "The tCommonGround optimization problem had no optimal solution.\n",
      "The CommonGround optimization problem had no optimal solution.\n",
      "The tCommonGround optimization problem had no optimal solution.\n",
      "The CommonGround_entani optimization problem had no optimal solution."
     ]
    },
    {
     "name": "stdout",
     "output_type": "stream",
     "text": [
      "\n",
      "The CommonGround optimization problem had no optimal solution.\n",
      "The CommonGround_entani optimization problem had no optimal solution.\n",
      "The CommonGround optimization problem had no optimal solution.\n",
      "The tCommonGround optimization problem had no optimal solution.\n",
      "The tCommonGround optimization problem had no optimal solution.\n",
      "The CommonGround_entani optimization problem had no optimal solution.\n",
      "The CommonGround optimization problem had no optimal solution.\n",
      "The tCommonGround optimization problem had no optimal solution.\n",
      "The CommonGround_entani optimization problem had no optimal solution.\n",
      "The CommonGround optimization problem had no optimal solution.\n",
      "The tCommonGround optimization problem had no optimal solution.\n",
      "The CommonGround_entani optimization problem had no optimal solution.\n",
      "The CommonGround_entani optimization problem had no optimal solution."
     ]
    },
    {
     "name": "stdout",
     "output_type": "stream",
     "text": [
      "\n"
     ]
    },
    {
     "name": "stdout",
     "output_type": "stream",
     "text": [
      "The CommonGround optimization problem had no optimal solution.\n",
      "The CommonGround optimization problem had no optimal solution.\n",
      "The tCommonGround optimization problem had no optimal solution.\n",
      "The tCommonGround optimization problem had no optimal solution.\n",
      "The CommonGround_entani optimization problem had no optimal solution.\n",
      "The CommonGround optimization problem had no optimal solution.\n",
      "The tCommonGround optimization problem had no optimal solution.\n",
      "The CommonGround_entani optimization problem had no optimal solution.\n",
      "The CommonGround optimization problem had no optimal solution.\n",
      "The tCommonGround optimization problem had no optimal solution.\n",
      "The CommonGround_entani optimization problem had no optimal solution.\n",
      "The CommonGround_entani optimization problem had no optimal solution."
     ]
    },
    {
     "name": "stdout",
     "output_type": "stream",
     "text": [
      "\n",
      "The CommonGround optimization problem had no optimal solution.\n",
      "The CommonGround optimization problem had no optimal solution.\n",
      "The tCommonGround optimization problem had no optimal solution."
     ]
    },
    {
     "name": "stdout",
     "output_type": "stream",
     "text": [
      "\n",
      "The tCommonGround optimization problem had no optimal solution.\n",
      "The CommonGround_entani optimization problem had no optimal solution.\n",
      "The CommonGround optimization problem had no optimal solution.\n",
      "The CommonGround_entani optimization problem had no optimal solution.\n",
      "The tCommonGround optimization problem had no optimal solution.\n",
      "The CommonGround_entani optimization problem had no optimal solution.\n",
      "The CommonGround_entani optimization problem had no optimal solution."
     ]
    },
    {
     "name": "stdout",
     "output_type": "stream",
     "text": [
      "\n",
      "The CommonGround optimization problem had no optimal solution.\n"
     ]
    },
    {
     "name": "stdout",
     "output_type": "stream",
     "text": [
      "The CommonGround_entani optimization problem had no optimal solution.\n",
      "The CommonGround optimization problem had no optimal solution.\n",
      "The tCommonGround optimization problem had no optimal solution.\n",
      "The CommonGround optimization problem had no optimal solution.\n",
      "The tCommonGround optimization problem had no optimal solution.\n",
      "The tCommonGround optimization problem had no optimal solution.\n",
      "The CommonGround optimization problem had no optimal solution.\n",
      "The tCommonGround optimization problem had no optimal solution.\n",
      "The CommonGround_entani optimization problem had no optimal solution."
     ]
    },
    {
     "name": "stdout",
     "output_type": "stream",
     "text": [
      "\n",
      "The CommonGround optimization problem had no optimal solution.\n",
      "The tCommonGround optimization problem had no optimal solution.\n",
      "The CommonGround optimization problem had no optimal solution.\n",
      "The tCommonGround optimization problem had no optimal solution.\n",
      "The CommonGround_entani optimization problem had no optimal solution.\n",
      "The CommonGround_entani optimization problem had no optimal solution.\n",
      "The CommonGround optimization problem had no optimal solution.\n",
      "The CommonGround optimization problem had no optimal solution.\n",
      "The tCommonGround optimization problem had no optimal solution.\n",
      "The CommonGround_entani optimization problem had no optimal solution."
     ]
    },
    {
     "name": "stdout",
     "output_type": "stream",
     "text": [
      "\n",
      "The CommonGround_entani optimization problem had no optimal solution.\n",
      "The CommonGround optimization problem had no optimal solution.\n",
      "The CommonGround optimization problem had no optimal solution.\n",
      "The tCommonGround optimization problem had no optimal solution.\n",
      "The tCommonGround optimization problem had no optimal solution.\n",
      "The CommonGround_entani optimization problem had no optimal solution.\n",
      "The CommonGround_entani optimization problem had no optimal solution.\n",
      "The CommonGround optimization problem had no optimal solution.\n",
      "The CommonGround optimization problem had no optimal solution.\n",
      "The tCommonGround optimization problem had no optimal solution.\n",
      "The tCommonGround optimization problem had no optimal solution.\n",
      "The CommonGround_entani optimization problem had no optimal solution."
     ]
    },
    {
     "name": "stdout",
     "output_type": "stream",
     "text": [
      "\n",
      "The CommonGround optimization problem had no optimal solution.\n",
      "The CommonGround_entani optimization problem had no optimal solution.\n",
      "The tCommonGround optimization problem had no optimal solution.\n",
      "The CommonGround optimization problem had no optimal solution.\n",
      "The tCommonGround optimization problem had no optimal solution.\n",
      "The CommonGround_entani optimization problem had no optimal solution.\n",
      "The CommonGround optimization problem had no optimal solution.\n",
      "The CommonGround_entani optimization problem had no optimal solution.\n",
      "The tCommonGround optimization problem had no optimal solution.\n",
      "The CommonGround optimization problem had no optimal solution.\n",
      "The tCommonGround optimization problem had no optimal solution.\n",
      "The CommonGround_entani optimization problem had no optimal solution."
     ]
    },
    {
     "name": "stdout",
     "output_type": "stream",
     "text": [
      "\n",
      "The CommonGround optimization problem had no optimal solution.\n",
      "The CommonGround optimization problem had no optimal solution.\n",
      "The tCommonGround optimization problem had no optimal solution.\n",
      "The tCommonGround optimization problem had no optimal solution.\n",
      "The CommonGround_entani optimization problem had no optimal solution.\n",
      "The CommonGround optimization problem had no optimal solution.\n",
      "The tCommonGround optimization problem had no optimal solution.\n",
      "The CommonGround_entani optimization problem had no optimal solution.\n",
      "The CommonGround optimization problem had no optimal solution.\n",
      "The CommonGround_entani optimization problem had no optimal solution.\n",
      "The tCommonGround optimization problem had no optimal solution.\n",
      "The CommonGround optimization problem had no optimal solution.\n",
      "The tCommonGround optimization problem had no optimal solution.\n",
      "The CommonGround_entani optimization problem had no optimal solution.\n",
      "The CommonGround_entani optimization problem had no optimal solution."
     ]
    },
    {
     "name": "stdout",
     "output_type": "stream",
     "text": [
      "\n",
      "The CommonGround optimization problem had no optimal solution.\n",
      "The CommonGround optimization problem had no optimal solution.\n",
      "The tCommonGround optimization problem had no optimal solution.\n",
      "The tCommonGround optimization problem had no optimal solution.\n"
     ]
    },
    {
     "name": "stdout",
     "output_type": "stream",
     "text": [
      "The CommonGround_entani optimization problem had no optimal solution.\n",
      "The CommonGround_entani optimization problem had no optimal solution.\n",
      "The CommonGround optimization problem had no optimal solution.\n",
      "The CommonGround optimization problem had no optimal solution.\n",
      "The tCommonGround optimization problem had no optimal solution.\n",
      "The CommonGround_entani optimization problem had no optimal solution.\n",
      "The CommonGround optimization problem had no optimal solution.\n",
      "The CommonGround optimization problem had no optimal solution."
     ]
    },
    {
     "name": "stdout",
     "output_type": "stream",
     "text": [
      "\n",
      "The tCommonGround optimization problem had no optimal solution.\n",
      "The CommonGround_entani optimization problem had no optimal solution.\n",
      "The CommonGround optimization problem had no optimal solution.\n",
      "The CommonGround optimization problem had no optimal solution.\n",
      "The tCommonGround optimization problem had no optimal solution.\n",
      "The tCommonGround optimization problem had no optimal solution.\n",
      "The CommonGround_entani optimization problem had no optimal solution."
     ]
    },
    {
     "name": "stdout",
     "output_type": "stream",
     "text": [
      "\n",
      "The CommonGround_entani optimization problem had no optimal solution.\n",
      "The CommonGround optimization problem had no optimal solution.\n",
      "The CommonGround optimization problem had no optimal solution.\n",
      "The tCommonGround optimization problem had no optimal solution.\n",
      "The tCommonGround optimization problem had no optimal solution.\n",
      "The CommonGround_entani optimization problem had no optimal solution.\n",
      "The CommonGround_entani optimization problem had no optimal solution.\n",
      "The CommonGround optimization problem had no optimal solution.\n",
      "The tCommonGround optimization problem had no optimal solution.\n",
      "The CommonGround_entani optimization problem had no optimal solution."
     ]
    },
    {
     "name": "stdout",
     "output_type": "stream",
     "text": [
      "\n",
      "The CommonGround_entani optimization problem had no optimal solution.\n",
      "The CommonGround optimization problem had no optimal solution.\n",
      "The CommonGround optimization problem had no optimal solution.\n",
      "The CommonGround optimization problem had no optimal solution.\n",
      "The tCommonGround optimization problem had no optimal solution.\n",
      "The tCommonGround optimization problem had no optimal solution.\n",
      "The tCommonGround optimization problem had no optimal solution.\n",
      "The CommonGround_entani optimization problem had no optimal solution.\n",
      "The CommonGround optimization problem had no optimal solution.\n",
      "The tCommonGround optimization problem had no optimal solution.\n",
      "The CommonGround_entani optimization problem had no optimal solution.\n",
      "The CommonGround_entani optimization problem had no optimal solution.\n",
      "The CommonGround optimization problem had no optimal solution.\n",
      "The CommonGround_entani optimization problem had no optimal solution."
     ]
    },
    {
     "name": "stdout",
     "output_type": "stream",
     "text": [
      "\n",
      "The CommonGround optimization problem had no optimal solution.\n"
     ]
    },
    {
     "name": "stdout",
     "output_type": "stream",
     "text": [
      "The tCommonGround optimization problem had no optimal solution.\n",
      "The tCommonGround optimization problem had no optimal solution.\n",
      "The CommonGround optimization problem had no optimal solution.\n",
      "The tCommonGround optimization problem had no optimal solution.\n",
      "The CommonGround_entani optimization problem had no optimal solution.\n",
      "The CommonGround optimization problem had no optimal solution.\n",
      "The tCommonGround optimization problem had no optimal solution.\n",
      "The CommonGround_entani optimization problem had no optimal solution.\n",
      "The CommonGround_entani optimization problem had no optimal solution.\n",
      "The CommonGround optimization problem had no optimal solution.\n",
      "The CommonGround optimization problem had no optimal solution.\n",
      "The tCommonGround optimization problem had no optimal solution.\n",
      "The tCommonGround optimization problem had no optimal solution.\n",
      "The CommonGround_entani optimization problem had no optimal solution."
     ]
    },
    {
     "name": "stdout",
     "output_type": "stream",
     "text": [
      "\n",
      "The CommonGround optimization problem had no optimal solution.\n",
      "The tCommonGround optimization problem had no optimal solution.\n"
     ]
    },
    {
     "name": "stdout",
     "output_type": "stream",
     "text": [
      "The CommonGround_entani optimization problem had no optimal solution.\n",
      "The CommonGround optimization problem had no optimal solution.\n",
      "The tCommonGround optimization problem had no optimal solution.\n",
      "The CommonGround_entani optimization problem had no optimal solution.\n",
      "The CommonGround_entani optimization problem had no optimal solution.\n",
      "The CommonGround optimization problem had no optimal solution.\n",
      "The CommonGround optimization problem had no optimal solution.\n",
      "The tCommonGround optimization problem had no optimal solution.\n",
      "The tCommonGround optimization problem had no optimal solution.\n",
      "The CommonGround_entani optimization problem had no optimal solution.\n"
     ]
    },
    {
     "name": "stdout",
     "output_type": "stream",
     "text": [
      "The CommonGround optimization problem had no optimal solution.\n",
      "The tCommonGround optimization problem had no optimal solution.\n",
      "The CommonGround_entani optimization problem had no optimal solution.\n",
      "The CommonGround optimization problem had no optimal solution.\n",
      "The tCommonGround optimization problem had no optimal solution.\n",
      "The CommonGround_entani optimization problem had no optimal solution.\n",
      "The CommonGround_entani optimization problem had no optimal solution.\n",
      "The CommonGround optimization problem had no optimal solution.\n",
      "The CommonGround optimization problem had no optimal solution.\n",
      "The tCommonGround optimization problem had no optimal solution.\n",
      "The tCommonGround optimization problem had no optimal solution.\n",
      "The CommonGround_entani optimization problem had no optimal solution."
     ]
    },
    {
     "name": "stdout",
     "output_type": "stream",
     "text": [
      "\n",
      "The CommonGround optimization problem had no optimal solution.\n",
      "The tCommonGround optimization problem had no optimal solution.\n"
     ]
    },
    {
     "name": "stdout",
     "output_type": "stream",
     "text": [
      "The CommonGround_entani optimization problem had no optimal solution.\n",
      "The CommonGround optimization problem had no optimal solution.\n",
      "The CommonGround_entani optimization problem had no optimal solution.\n",
      "The CommonGround_entani optimization problem had no optimal solution.\n",
      "The tCommonGround optimization problem had no optimal solution.\n",
      "The CommonGround optimization problem had no optimal solution.\n",
      "The CommonGround optimization problem had no optimal solution.\n",
      "The tCommonGround optimization problem had no optimal solution.\n",
      "The tCommonGround optimization problem had no optimal solution.\n",
      "The CommonGround_entani optimization problem had no optimal solution.\n",
      "The CommonGround optimization problem had no optimal solution.\n",
      "The tCommonGround optimization problem had no optimal solution.\n",
      "The CommonGround_entani optimization problem had no optimal solution.\n",
      "The CommonGround_entani optimization problem had no optimal solution.\n",
      "The CommonGround optimization problem had no optimal solution.\n",
      "The CommonGround optimization problem had no optimal solution.\n",
      "The tCommonGround optimization problem had no optimal solution.\n",
      "The tCommonGround optimization problem had no optimal solution.\n",
      "The CommonGround optimization problem had no optimal solution.\n",
      "The tCommonGround optimization problem had no optimal solution.\n",
      "The CommonGround_entani optimization problem had no optimal solution."
     ]
    },
    {
     "name": "stdout",
     "output_type": "stream",
     "text": [
      "\n",
      "The CommonGround optimization problem had no optimal solution.\n",
      "The tCommonGround optimization problem had no optimal solution.\n"
     ]
    },
    {
     "name": "stdout",
     "output_type": "stream",
     "text": [
      "The CommonGround_entani optimization problem had no optimal solution.\n",
      "The CommonGround optimization problem had no optimal solution.\n",
      "The CommonGround_entani optimization problem had no optimal solution.\n",
      "The CommonGround optimization problem had no optimal solution.\n",
      "The tCommonGround optimization problem had no optimal solution.\n",
      "The CommonGround optimization problem had no optimal solution.\n",
      "The tCommonGround optimization problem had no optimal solution.\n",
      "The tCommonGround optimization problem had no optimal solution.\n",
      "The CommonGround_entani optimization problem had no optimal solution."
     ]
    },
    {
     "name": "stdout",
     "output_type": "stream",
     "text": [
      "\n",
      "The CommonGround optimization problem had no optimal solution.\n",
      "The tCommonGround optimization problem had no optimal solution.\n",
      "The CommonGround_entani optimization problem had no optimal solution.\n",
      "The CommonGround optimization problem had no optimal solution.\n",
      "The CommonGround_entani optimization problem had no optimal solution.\n",
      "The CommonGround optimization problem had no optimal solution.\n",
      "The CommonGround_entani optimization problem had no optimal solution.\n",
      "The tCommonGround optimization problem had no optimal solution.\n",
      "The CommonGround optimization problem had no optimal solution.\n",
      "The CommonGround_entani optimization problem had no optimal solution."
     ]
    },
    {
     "name": "stdout",
     "output_type": "stream",
     "text": [
      "\n",
      "The tCommonGround optimization problem had no optimal solution.\n",
      "The CommonGround optimization problem had no optimal solution.\n",
      "The tCommonGround optimization problem had no optimal solution.\n",
      "The tCommonGround optimization problem had no optimal solution.\n",
      "The CommonGround_entani optimization problem had no optimal solution.\n",
      "The CommonGround optimization problem had no optimal solution.\n",
      "The CommonGround_entani optimization problem had no optimal solution.\n",
      "The tCommonGround optimization problem had no optimal solution.\n",
      "The CommonGround optimization problem had no optimal solution.\n",
      "The tCommonGround optimization problem had no optimal solution.\n",
      "The CommonGround_entani optimization problem had no optimal solution.\n",
      "The CommonGround optimization problem had no optimal solution."
     ]
    },
    {
     "name": "stdout",
     "output_type": "stream",
     "text": [
      "\n",
      "The CommonGround optimization problem had no optimal solution.\n",
      "The tCommonGround optimization problem had no optimal solution.\n",
      "The tCommonGround optimization problem had no optimal solution.\n",
      "The CommonGround_entani optimization problem had no optimal solution.\n",
      "The CommonGround_entani optimization problem had no optimal solution.\n",
      "The CommonGround optimization problem had no optimal solution.\n",
      "The CommonGround optimization problem had no optimal solution.\n",
      "The tCommonGround optimization problem had no optimal solution.\n",
      "The tCommonGround optimization problem had no optimal solution.\n",
      "The CommonGround_entani optimization problem had no optimal solution."
     ]
    },
    {
     "name": "stdout",
     "output_type": "stream",
     "text": [
      "\n",
      "The CommonGround optimization problem had no optimal solution.\n",
      "The CommonGround_entani optimization problem had no optimal solution.\n",
      "The tCommonGround optimization problem had no optimal solution.\n"
     ]
    },
    {
     "name": "stdout",
     "output_type": "stream",
     "text": [
      "The CommonGround optimization problem had no optimal solution.\n",
      "The tCommonGround optimization problem had no optimal solution.\n",
      "The CommonGround_entani optimization problem had no optimal solution.\n",
      "The CommonGround optimization problem had no optimal solution.\n",
      "The CommonGround_entani optimization problem had no optimal solution.\n",
      "The tCommonGround optimization problem had no optimal solution.\n",
      "The CommonGround optimization problem had no optimal solution.\n",
      "The tCommonGround optimization problem had no optimal solution.\n",
      "The CommonGround_entani optimization problem had no optimal solution.\n",
      "The CommonGround optimization problem had no optimal solution.\n",
      "The CommonGround optimization problem had no optimal solution.\n",
      "The tCommonGround optimization problem had no optimal solution.\n",
      "The tCommonGround optimization problem had no optimal solution.\n",
      "The CommonGround_entani optimization problem had no optimal solution.\n",
      "The CommonGround optimization problem had no optimal solution.\n",
      "The tCommonGround optimization problem had no optimal solution.\n",
      "The CommonGround_entani optimization problem had no optimal solution.\n",
      "The CommonGround optimization problem had no optimal solution.\n",
      "The tCommonGround optimization problem had no optimal solution.\n",
      "The CommonGround_entani optimization problem had no optimal solution.\n",
      "The CommonGround_entani optimization problem had no optimal solution."
     ]
    },
    {
     "name": "stdout",
     "output_type": "stream",
     "text": [
      "\n",
      "The CommonGround_entani optimization problem had no optimal solution.\n",
      "The CommonGround optimization problem had no optimal solution.\n",
      "The CommonGround optimization problem had no optimal solution.\n",
      "The tCommonGround optimization problem had no optimal solution.\n",
      "The CommonGround optimization problem had no optimal solution."
     ]
    },
    {
     "name": "stdout",
     "output_type": "stream",
     "text": [
      "\n",
      "The tCommonGround optimization problem had no optimal solution.\n",
      "The tCommonGround optimization problem had no optimal solution.\n"
     ]
    },
    {
     "name": "stdout",
     "output_type": "stream",
     "text": [
      "The CommonGround_entani optimization problem had no optimal solution.\n",
      "The CommonGround optimization problem had no optimal solution.\n",
      "The CommonGround_entani optimization problem had no optimal solution.\n",
      "The CommonGround_entani optimization problem had no optimal solution.\n",
      "The CommonGround optimization problem had no optimal solution.\n",
      "The tCommonGround optimization problem had no optimal solution.\n",
      "The CommonGround optimization problem had no optimal solution.\n",
      "The tCommonGround optimization problem had no optimal solution.\n",
      "The CommonGround_entani optimization problem had no optimal solution.\n",
      "The tCommonGround optimization problem had no optimal solution.\n",
      "The CommonGround optimization problem had no optimal solution.\n",
      "The tCommonGround optimization problem had no optimal solution.\n",
      "The CommonGround_entani optimization problem had no optimal solution.\n",
      "The CommonGround optimization problem had no optimal solution.\n",
      "The CommonGround_entani optimization problem had no optimal solution.\n",
      "The CommonGround optimization problem had no optimal solution.\n",
      "The tCommonGround optimization problem had no optimal solution.\n",
      "The tCommonGround optimization problem had no optimal solution.\n",
      "The CommonGround_entani optimization problem had no optimal solution."
     ]
    },
    {
     "name": "stdout",
     "output_type": "stream",
     "text": [
      "\n",
      "The CommonGround optimization problem had no optimal solution.\n",
      "The CommonGround_entani optimization problem had no optimal solution.\n",
      "The tCommonGround optimization problem had no optimal solution.\n",
      "The CommonGround optimization problem had no optimal solution.\n",
      "The tCommonGround optimization problem had no optimal solution.\n",
      "The CommonGround_entani optimization problem had no optimal solution.\n",
      "The CommonGround optimization problem had no optimal solution.\n",
      "The CommonGround_entani optimization problem had no optimal solution.\n",
      "The tCommonGround optimization problem had no optimal solution.\n",
      "The CommonGround optimization problem had no optimal solution.\n",
      "The tCommonGround optimization problem had no optimal solution.\n",
      "The CommonGround_entani optimization problem had no optimal solution."
     ]
    },
    {
     "name": "stdout",
     "output_type": "stream",
     "text": [
      "\n",
      "The CommonGround optimization problem had no optimal solution.\n",
      "The CommonGround_entani optimization problem had no optimal solution.\n",
      "The tCommonGround optimization problem had no optimal solution."
     ]
    },
    {
     "name": "stdout",
     "output_type": "stream",
     "text": [
      "\n",
      "The CommonGround optimization problem had no optimal solution.\n",
      "The CommonGround_entani optimization problem had no optimal solution.\n",
      "The CommonGround optimization problem had no optimal solution.\n",
      "The tCommonGround optimization problem had no optimal solution.\n",
      "The CommonGround_entani optimization problem had no optimal solution.\n",
      "The CommonGround optimization problem had no optimal solution.\n",
      "The CommonGround_entani optimization problem had no optimal solution."
     ]
    },
    {
     "name": "stdout",
     "output_type": "stream",
     "text": [
      "\n"
     ]
    },
    {
     "name": "stdout",
     "output_type": "stream",
     "text": [
      "The CommonGround optimization problem had no optimal solution.\n",
      "The tCommonGround optimization problem had no optimal solution.\n",
      "The tCommonGround optimization problem had no optimal solution.\n",
      "The tCommonGround optimization problem had no optimal solution.\n",
      "The CommonGround_entani optimization problem had no optimal solution.\n",
      "The CommonGround_entani optimization problem had no optimal solution.\n",
      "The CommonGround optimization problem had no optimal solution.\n",
      "The CommonGround optimization problem had no optimal solution.\n",
      "The CommonGround_entani optimization problem had no optimal solution.\n",
      "The CommonGround_entani optimization problem had no optimal solution."
     ]
    },
    {
     "name": "stdout",
     "output_type": "stream",
     "text": [
      "\n",
      "The tCommonGround optimization problem had no optimal solution.\n",
      "The CommonGround optimization problem had no optimal solution.\n",
      "The CommonGround optimization problem had no optimal solution.\n",
      "The tCommonGround optimization problem had no optimal solution.\n",
      "The tCommonGround optimization problem had no optimal solution.\n",
      "The CommonGround_entani optimization problem had no optimal solution.\n",
      "The CommonGround optimization problem had no optimal solution.\n",
      "The tCommonGround optimization problem had no optimal solution.\n",
      "The CommonGround_entani optimization problem had no optimal solution.\n",
      "The CommonGround_entani optimization problem had no optimal solution.\n",
      "The CommonGround optimization problem had no optimal solution.\n",
      "The CommonGround_entani optimization problem had no optimal solution."
     ]
    },
    {
     "name": "stdout",
     "output_type": "stream",
     "text": [
      "\n",
      "The CommonGround optimization problem had no optimal solution.\n",
      "The tCommonGround optimization problem had no optimal solution.\n",
      "The CommonGround optimization problem had no optimal solution.\n",
      "The tCommonGround optimization problem had no optimal solution.\n",
      "The tCommonGround optimization problem had no optimal solution.\n"
     ]
    },
    {
     "name": "stdout",
     "output_type": "stream",
     "text": [
      "The CommonGround_entani optimization problem had no optimal solution.\n",
      "The CommonGround optimization problem had no optimal solution.\n",
      "The tCommonGround optimization problem had no optimal solution.\n",
      "The CommonGround_entani optimization problem had no optimal solution.\n",
      "The CommonGround_entani optimization problem had no optimal solution.\n",
      "The CommonGround optimization problem had no optimal solution.\n",
      "The tCommonGround optimization problem had no optimal solution.\n",
      "The CommonGround optimization problem had no optimal solution.\n",
      "The CommonGround optimization problem had no optimal solution.\n",
      "The tCommonGround optimization problem had no optimal solution.\n",
      "The tCommonGround optimization problem had no optimal solution.\n",
      "The CommonGround_entani optimization problem had no optimal solution.\n",
      "The CommonGround_entani optimization problem had no optimal solution.\n",
      "The CommonGround optimization problem had no optimal solution.\n",
      "The CommonGround optimization problem had no optimal solution.\n",
      "The tCommonGround optimization problem had no optimal solution.\n",
      "The tCommonGround optimization problem had no optimal solution.\n",
      "The CommonGround_entani optimization problem had no optimal solution.\n",
      "The CommonGround optimization problem had no optimal solution.\n",
      "The CommonGround_entani optimization problem had no optimal solution."
     ]
    },
    {
     "name": "stdout",
     "output_type": "stream",
     "text": [
      "\n",
      "The tCommonGround optimization problem had no optimal solution.\n",
      "The CommonGround optimization problem had no optimal solution.\n"
     ]
    },
    {
     "name": "stdout",
     "output_type": "stream",
     "text": [
      "The tCommonGround optimization problem had no optimal solution.\n",
      "The CommonGround_entani optimization problem had no optimal solution.\n",
      "The CommonGround optimization problem had no optimal solution.\n",
      "The CommonGround_entani optimization problem had no optimal solution.\n",
      "The tCommonGround optimization problem had no optimal solution.\n",
      "The CommonGround optimization problem had no optimal solution.\n",
      "The CommonGround_entani optimization problem had no optimal solution.\n",
      "The tCommonGround optimization problem had no optimal solution.\n",
      "The CommonGround optimization problem had no optimal solution.\n",
      "The tCommonGround optimization problem had no optimal solution.\n",
      "The CommonGround_entani optimization problem had no optimal solution."
     ]
    },
    {
     "name": "stdout",
     "output_type": "stream",
     "text": [
      "\n"
     ]
    },
    {
     "name": "stdout",
     "output_type": "stream",
     "text": [
      "The CommonGround optimization problem had no optimal solution.\n",
      "The tCommonGround optimization problem had no optimal solution.\n",
      "The CommonGround_entani optimization problem had no optimal solution.\n",
      "The CommonGround optimization problem had no optimal solution.\n",
      "The tCommonGround optimization problem had no optimal solution.\n",
      "The CommonGround_entani optimization problem had no optimal solution.\n",
      "The CommonGround optimization problem had no optimal solution.\n",
      "The CommonGround_entani optimization problem had no optimal solution.\n",
      "The CommonGround optimization problem had no optimal solution.\n",
      "The tCommonGround optimization problem had no optimal solution.\n",
      "The tCommonGround optimization problem had no optimal solution.\n",
      "The CommonGround_entani optimization problem had no optimal solution."
     ]
    },
    {
     "name": "stdout",
     "output_type": "stream",
     "text": [
      "\n",
      "The CommonGround optimization problem had no optimal solution.\n",
      "The tCommonGround optimization problem had no optimal solution.\n",
      "The CommonGround_entani optimization problem had no optimal solution.\n",
      "The CommonGround_entani optimization problem had no optimal solution.\n",
      "The CommonGround optimization problem had no optimal solution.\n",
      "The CommonGround_entani optimization problem had no optimal solution.\n",
      "The CommonGround optimization problem had no optimal solution.\n",
      "The CommonGround optimization problem had no optimal solution.\n",
      "The tCommonGround optimization problem had no optimal solution.\n",
      "The tCommonGround optimization problem had no optimal solution.\n",
      "The tCommonGround optimization problem had no optimal solution.\n",
      "The CommonGround_entani optimization problem had no optimal solution.\n",
      "The CommonGround_entani optimization problem had no optimal solution."
     ]
    },
    {
     "name": "stdout",
     "output_type": "stream",
     "text": [
      "\n",
      "The CommonGround_entani optimization problem had no optimal solution.\n",
      "The CommonGround optimization problem had no optimal solution.\n",
      "The CommonGround optimization problem had no optimal solution.\n",
      "The tCommonGround optimization problem had no optimal solution.\n",
      "The tCommonGround optimization problem had no optimal solution.\n",
      "The CommonGround_entani optimization problem had no optimal solution.\n",
      "The CommonGround_entani optimization problem had no optimal solution.\n",
      "The CommonGround optimization problem had no optimal solution.\n",
      "The tCommonGround optimization problem had no optimal solution.\n",
      "The CommonGround optimization problem had no optimal solution.\n",
      "The tCommonGround optimization problem had no optimal solution.\n",
      "The CommonGround optimization problem had no optimal solution.\n",
      "The tCommonGround optimization problem had no optimal solution.\n",
      "The CommonGround_entani optimization problem had no optimal solution."
     ]
    },
    {
     "name": "stdout",
     "output_type": "stream",
     "text": [
      "\n"
     ]
    },
    {
     "name": "stdout",
     "output_type": "stream",
     "text": [
      "The CommonGround optimization problem had no optimal solution.\n",
      "The tCommonGround optimization problem had no optimal solution.\n",
      "The CommonGround_entani optimization problem had no optimal solution.\n",
      "The CommonGround optimization problem had no optimal solution.\n",
      "The tCommonGround optimization problem had no optimal solution.\n",
      "The CommonGround optimization problem had no optimal solution.\n",
      "The CommonGround_entani optimization problem had no optimal solution.\n",
      "The tCommonGround optimization problem had no optimal solution.\n",
      "The CommonGround optimization problem had no optimal solution.\n",
      "The tCommonGround optimization problem had no optimal solution.\n",
      "The CommonGround_entani optimization problem had no optimal solution."
     ]
    },
    {
     "name": "stdout",
     "output_type": "stream",
     "text": [
      "\n",
      "The CommonGround optimization problem had no optimal solution.\n",
      "The CommonGround_entani optimization problem had no optimal solution.\n",
      "The tCommonGround optimization problem had no optimal solution.\n",
      "The CommonGround optimization problem had no optimal solution.\n",
      "The tCommonGround optimization problem had no optimal solution.\n",
      "The CommonGround_entani optimization problem had no optimal solution.\n",
      "The CommonGround_entani optimization problem had no optimal solution.\n",
      "The CommonGround optimization problem had no optimal solution.\n",
      "The CommonGround optimization problem had no optimal solution.\n",
      "The tCommonGround optimization problem had no optimal solution.\n",
      "The CommonGround_entani optimization problem had no optimal solution."
     ]
    },
    {
     "name": "stdout",
     "output_type": "stream",
     "text": [
      "\n",
      "The CommonGround optimization problem had no optimal solution.\n",
      "The tCommonGround optimization problem had no optimal solution.\n",
      "The CommonGround_entani optimization problem had no optimal solution.\n",
      "The CommonGround optimization problem had no optimal solution.\n",
      "The tCommonGround optimization problem had no optimal solution.\n",
      "The CommonGround_entani optimization problem had no optimal solution.\n",
      "The CommonGround_entani optimization problem had no optimal solution.\n",
      "The CommonGround optimization problem had no optimal solution.\n",
      "The CommonGround optimization problem had no optimal solution.\n",
      "The tCommonGround optimization problem had no optimal solution.\n",
      "The CommonGround_entani optimization problem had no optimal solution."
     ]
    },
    {
     "name": "stdout",
     "output_type": "stream",
     "text": [
      "\n"
     ]
    },
    {
     "name": "stdout",
     "output_type": "stream",
     "text": [
      "The tCommonGround optimization problem had no optimal solution.\n",
      "The CommonGround optimization problem had no optimal solution.\n",
      "The tCommonGround optimization problem had no optimal solution.\n",
      "The CommonGround_entani optimization problem had no optimal solution.\n",
      "The CommonGround optimization problem had no optimal solution.\n",
      "The tCommonGround optimization problem had no optimal solution.\n",
      "The CommonGround_entani optimization problem had no optimal solution.\n",
      "The CommonGround_entani optimization problem had no optimal solution."
     ]
    },
    {
     "name": "stdout",
     "output_type": "stream",
     "text": [
      "\n",
      "The CommonGround optimization problem had no optimal solution.\n",
      "The CommonGround optimization problem had no optimal solution.\n",
      "The tCommonGround optimization problem had no optimal solution.\n",
      "The tCommonGround optimization problem had no optimal solution.\n",
      "The CommonGround_entani optimization problem had no optimal solution.\n",
      "The CommonGround optimization problem had no optimal solution.\n",
      "The tCommonGround optimization problem had no optimal solution.\n",
      "The CommonGround_entani optimization problem had no optimal solution.\n",
      "The CommonGround optimization problem had no optimal solution.\n",
      "The tCommonGround optimization problem had no optimal solution.\n",
      "The CommonGround_entani optimization problem had no optimal solution.\n",
      "The CommonGround optimization problem had no optimal solution.\n",
      "The CommonGround_entani optimization problem had no optimal solution."
     ]
    },
    {
     "name": "stdout",
     "output_type": "stream",
     "text": [
      "\n",
      "The tCommonGround optimization problem had no optimal solution.\n",
      "The CommonGround optimization problem had no optimal solution.\n",
      "The CommonGround_entani optimization problem had no optimal solution.\n",
      "The tCommonGround optimization problem had no optimal solution."
     ]
    },
    {
     "name": "stdout",
     "output_type": "stream",
     "text": [
      "\n",
      "The CommonGround optimization problem had no optimal solution.\n",
      "The tCommonGround optimization problem had no optimal solution.\n",
      "The CommonGround_entani optimization problem had no optimal solution.\n",
      "The CommonGround optimization problem had no optimal solution.\n",
      "The tCommonGround optimization problem had no optimal solution.\n",
      "The CommonGround_entani optimization problem had no optimal solution.\n",
      "The CommonGround_entani optimization problem had no optimal solution."
     ]
    },
    {
     "name": "stdout",
     "output_type": "stream",
     "text": [
      "\n",
      "The CommonGround optimization problem had no optimal solution.\n",
      "The CommonGround optimization problem had no optimal solution.\n",
      "The tCommonGround optimization problem had no optimal solution.\n",
      "The tCommonGround optimization problem had no optimal solution.\n",
      "The CommonGround_entani optimization problem had no optimal solution.\n",
      "The CommonGround optimization problem had no optimal solution.\n",
      "The CommonGround_entani optimization problem had no optimal solution.\n",
      "The tCommonGround optimization problem had no optimal solution.\n",
      "The CommonGround optimization problem had no optimal solution.\n",
      "The tCommonGround optimization problem had no optimal solution.\n",
      "The CommonGround_entani optimization problem had no optimal solution.\n",
      "The CommonGround optimization problem had no optimal solution.\n",
      "The CommonGround_entani optimization problem had no optimal solution."
     ]
    },
    {
     "name": "stdout",
     "output_type": "stream",
     "text": [
      "\n",
      "The tCommonGround optimization problem had no optimal solution.\n",
      "The CommonGround optimization problem had no optimal solution.\n",
      "The tCommonGround optimization problem had no optimal solution.\n",
      "The CommonGround_entani optimization problem had no optimal solution.\n",
      "The CommonGround optimization problem had no optimal solution.\n",
      "The CommonGround_entani optimization problem had no optimal solution.\n",
      "The tCommonGround optimization problem had no optimal solution.\n",
      "The CommonGround_entani optimization problem had no optimal solution.\n",
      "The CommonGround optimization problem had no optimal solution.\n",
      "The tCommonGround optimization problem had no optimal solution.\n",
      "The CommonGround optimization problem had no optimal solution.\n",
      "The CommonGround_entani optimization problem had no optimal solution."
     ]
    },
    {
     "name": "stdout",
     "output_type": "stream",
     "text": [
      "\n",
      "The tCommonGround optimization problem had no optimal solution.\n",
      "The CommonGround optimization problem had no optimal solution.\n"
     ]
    },
    {
     "name": "stdout",
     "output_type": "stream",
     "text": [
      "The tCommonGround optimization problem had no optimal solution.\n",
      "The CommonGround_entani optimization problem had no optimal solution.\n",
      "The CommonGround optimization problem had no optimal solution.\n",
      "The CommonGround_entani optimization problem had no optimal solution.\n",
      "The tCommonGround optimization problem had no optimal solution.\n",
      "The CommonGround optimization problem had no optimal solution.\n",
      "The tCommonGround optimization problem had no optimal solution.\n",
      "The CommonGround_entani optimization problem had no optimal solution."
     ]
    },
    {
     "name": "stdout",
     "output_type": "stream",
     "text": [
      "\n",
      "The CommonGround_entani optimization problem had no optimal solution.\n",
      "The CommonGround optimization problem had no optimal solution.\n",
      "The CommonGround optimization problem had no optimal solution.\n",
      "The tCommonGround optimization problem had no optimal solution.\n"
     ]
    },
    {
     "name": "stdout",
     "output_type": "stream",
     "text": [
      "The tCommonGround optimization problem had no optimal solution.\n",
      "The CommonGround_entani optimization problem had no optimal solution.\n",
      "The CommonGround_entani optimization problem had no optimal solution.\n",
      "The CommonGround optimization problem had no optimal solution.\n",
      "The CommonGround optimization problem had no optimal solution.\n",
      "The tCommonGround optimization problem had no optimal solution.\n",
      "The tCommonGround optimization problem had no optimal solution.\n",
      "The CommonGround_entani optimization problem had no optimal solution.\n",
      "The CommonGround optimization problem had no optimal solution.\n",
      "The CommonGround_entani optimization problem had no optimal solution.\n",
      "The tCommonGround optimization problem had no optimal solution.\n",
      "The CommonGround optimization problem had no optimal solution.\n",
      "The tCommonGround optimization problem had no optimal solution.\n",
      "The CommonGround_entani optimization problem had no optimal solution.\n",
      "The CommonGround optimization problem had no optimal solution.\n",
      "The CommonGround_entani optimization problem had no optimal solution.\n",
      "The tCommonGround optimization problem had no optimal solution.\n",
      "The CommonGround optimization problem had no optimal solution.\n",
      "The tCommonGround optimization problem had no optimal solution.\n",
      "The CommonGround_entani optimization problem had no optimal solution."
     ]
    },
    {
     "name": "stdout",
     "output_type": "stream",
     "text": [
      "\n",
      "The CommonGround optimization problem had no optimal solution.\n",
      "The CommonGround_entani optimization problem had no optimal solution.\n",
      "The tCommonGround optimization problem had no optimal solution."
     ]
    },
    {
     "name": "stdout",
     "output_type": "stream",
     "text": [
      "\n",
      "The CommonGround optimization problem had no optimal solution.\n",
      "The tCommonGround optimization problem had no optimal solution.\n",
      "The CommonGround_entani optimization problem had no optimal solution.\n",
      "The CommonGround optimization problem had no optimal solution.\n",
      "The tCommonGround optimization problem had no optimal solution.\n",
      "The CommonGround_entani optimization problem had no optimal solution.\n",
      "The CommonGround optimization problem had no optimal solution.\n",
      "The CommonGround_entani optimization problem had no optimal solution."
     ]
    },
    {
     "name": "stdout",
     "output_type": "stream",
     "text": [
      "\n"
     ]
    },
    {
     "name": "stdout",
     "output_type": "stream",
     "text": [
      "The CommonGround_entani optimization problem had no optimal solution.\n",
      "The tCommonGround optimization problem had no optimal solution.\n",
      "The CommonGround optimization problem had no optimal solution.\n",
      "The CommonGround optimization problem had no optimal solution.\n",
      "The tCommonGround optimization problem had no optimal solution.\n",
      "The tCommonGround optimization problem had no optimal solution.\n",
      "The CommonGround_entani optimization problem had no optimal solution.\n",
      "The CommonGround optimization problem had no optimal solution.\n",
      "The tCommonGround optimization problem had no optimal solution.\n",
      "The CommonGround_entani optimization problem had no optimal solution."
     ]
    },
    {
     "name": "stdout",
     "output_type": "stream",
     "text": [
      "\n",
      "The CommonGround optimization problem had no optimal solution.\n",
      "The CommonGround_entani optimization problem had no optimal solution.\n",
      "The CommonGround optimization problem had no optimal solution.\n",
      "The tCommonGround optimization problem had no optimal solution."
     ]
    },
    {
     "name": "stdout",
     "output_type": "stream",
     "text": [
      "\n",
      "The CommonGround_entani optimization problem had no optimal solution.\n",
      "The tCommonGround optimization problem had no optimal solution.\n",
      "The CommonGround optimization problem had no optimal solution.\n",
      "The tCommonGround optimization problem had no optimal solution.\n",
      "The CommonGround optimization problem had no optimal solution.\n",
      "The CommonGround_entani optimization problem had no optimal solution.\n",
      "The tCommonGround optimization problem had no optimal solution.\n",
      "The CommonGround optimization problem had no optimal solution.\n",
      "The tCommonGround optimization problem had no optimal solution.\n",
      "The CommonGround_entani optimization problem had no optimal solution.\n",
      "The CommonGround optimization problem had no optimal solution.\n",
      "The CommonGround_entani optimization problem had no optimal solution."
     ]
    },
    {
     "name": "stdout",
     "output_type": "stream",
     "text": [
      "\n",
      "The CommonGround_entani optimization problem had no optimal solution.\n",
      "The CommonGround optimization problem had no optimal solution.\n",
      "The CommonGround optimization problem had no optimal solution.\n",
      "The CommonGround_entani optimization problem had no optimal solution.\n",
      "The tCommonGround optimization problem had no optimal solution.\n",
      "The tCommonGround optimization problem had no optimal solution.\n",
      "The tCommonGround optimization problem had no optimal solution.\n",
      "The CommonGround optimization problem had no optimal solution.\n",
      "The tCommonGround optimization problem had no optimal solution.\n",
      "The CommonGround_entani optimization problem had no optimal solution."
     ]
    },
    {
     "name": "stdout",
     "output_type": "stream",
     "text": [
      "\n",
      "The CommonGround_entani optimization problem had no optimal solution.\n",
      "The CommonGround_entani optimization problem had no optimal solution.\n",
      "The CommonGround optimization problem had no optimal solution.\n",
      "The CommonGround_entani optimization problem had no optimal solution.\n",
      "The CommonGround optimization problem had no optimal solution.\n",
      "The CommonGround optimization problem had no optimal solution.\n",
      "The tCommonGround optimization problem had no optimal solution.\n",
      "The tCommonGround optimization problem had no optimal solution.\n",
      "The tCommonGround optimization problem had no optimal solution.\n",
      "The CommonGround optimization problem had no optimal solution.\n",
      "The tCommonGround optimization problem had no optimal solution.\n",
      "The CommonGround_entani optimization problem had no optimal solution."
     ]
    },
    {
     "name": "stdout",
     "output_type": "stream",
     "text": [
      "\n"
     ]
    },
    {
     "name": "stdout",
     "output_type": "stream",
     "text": [
      "The CommonGround_entani optimization problem had no optimal solution.\n",
      "The CommonGround optimization problem had no optimal solution.\n",
      "The CommonGround optimization problem had no optimal solution.\n",
      "The CommonGround_entani optimization problem had no optimal solution.\n",
      "The tCommonGround optimization problem had no optimal solution.\n",
      "The tCommonGround optimization problem had no optimal solution.\n",
      "The CommonGround optimization problem had no optimal solution.\n",
      "The tCommonGround optimization problem had no optimal solution.\n",
      "The CommonGround_entani optimization problem had no optimal solution.\n",
      "The CommonGround optimization problem had no optimal solution.\n",
      "The CommonGround_entani optimization problem had no optimal solution.\n",
      "The tCommonGround optimization problem had no optimal solution.\n",
      "The CommonGround optimization problem had no optimal solution."
     ]
    },
    {
     "name": "stdout",
     "output_type": "stream",
     "text": [
      "\n",
      "The CommonGround optimization problem had no optimal solution.\n",
      "The tCommonGround optimization problem had no optimal solution.\n",
      "The CommonGround_entani optimization problem had no optimal solution.\n",
      "The CommonGround optimization problem had no optimal solution.\n",
      "The tCommonGround optimization problem had no optimal solution.\n",
      "The tCommonGround optimization problem had no optimal solution.\n"
     ]
    },
    {
     "name": "stdout",
     "output_type": "stream",
     "text": [
      "The CommonGround_entani optimization problem had no optimal solution.\n",
      "The CommonGround optimization problem had no optimal solution.\n",
      "The CommonGround_entani optimization problem had no optimal solution.\n",
      "The tCommonGround optimization problem had no optimal solution.\n",
      "The CommonGround_entani optimization problem had no optimal solution.\n",
      "The CommonGround optimization problem had no optimal solution.\n",
      "The CommonGround optimization problem had no optimal solution.\n",
      "The tCommonGround optimization problem had no optimal solution.\n",
      "The tCommonGround optimization problem had no optimal solution.\n",
      "The CommonGround optimization problem had no optimal solution.\n"
     ]
    },
    {
     "name": "stdout",
     "output_type": "stream",
     "text": [
      "The tCommonGround optimization problem had no optimal solution.\n",
      "The CommonGround_entani optimization problem had no optimal solution.\n",
      "The CommonGround optimization problem had no optimal solution.\n",
      "The CommonGround_entani optimization problem had no optimal solution.\n",
      "The CommonGround optimization problem had no optimal solution.\n",
      "The tCommonGround optimization problem had no optimal solution.\n",
      "The CommonGround_entani optimization problem had no optimal solution.\n",
      "The CommonGround_entani optimization problem had no optimal solution."
     ]
    },
    {
     "name": "stdout",
     "output_type": "stream",
     "text": [
      "\n",
      "The tCommonGround optimization problem had no optimal solution.\n",
      "The CommonGround optimization problem had no optimal solution.\n",
      "The CommonGround optimization problem had no optimal solution."
     ]
    },
    {
     "name": "stdout",
     "output_type": "stream",
     "text": [
      "\n",
      "The tCommonGround optimization problem had no optimal solution.\n",
      "The tCommonGround optimization problem had no optimal solution.\n"
     ]
    },
    {
     "name": "stdout",
     "output_type": "stream",
     "text": [
      "The CommonGround_entani optimization problem had no optimal solution.\n",
      "The CommonGround_entani optimization problem had no optimal solution.\n",
      "The CommonGround optimization problem had no optimal solution.\n",
      "The CommonGround_entani optimization problem had no optimal solution.\n",
      "The CommonGround optimization problem had no optimal solution.\n",
      "The CommonGround optimization problem had no optimal solution.\n",
      "The tCommonGround optimization problem had no optimal solution.\n",
      "The CommonGround_entani optimization problem had no optimal solution.\n",
      "The tCommonGround optimization problem had no optimal solution.\n"
     ]
    },
    {
     "name": "stdout",
     "output_type": "stream",
     "text": [
      "The CommonGround optimization problem had no optimal solution.\n",
      "The tCommonGround optimization problem had no optimal solution.\n",
      "The CommonGround_entani optimization problem had no optimal solution.\n",
      "The CommonGround optimization problem had no optimal solution.\n",
      "The CommonGround_entani optimization problem had no optimal solution.\n",
      "The tCommonGround optimization problem had no optimal solution.\n",
      "The CommonGround_entani optimization problem had no optimal solution.\n",
      "The CommonGround optimization problem had no optimal solution.\n",
      "The CommonGround optimization problem had no optimal solution.\n",
      "The CommonGround_entani optimization problem had no optimal solution.\n",
      "The tCommonGround optimization problem had no optimal solution.\n",
      "The tCommonGround optimization problem had no optimal solution.\n",
      "The CommonGround optimization problem had no optimal solution.\n",
      "The tCommonGround optimization problem had no optimal solution.\n",
      "The CommonGround_entani optimization problem had no optimal solution.\n",
      "The CommonGround optimization problem had no optimal solution.\n",
      "The tCommonGround optimization problem had no optimal solution.\n",
      "The CommonGround_entani optimization problem had no optimal solution.\n",
      "The CommonGround optimization problem had no optimal solution.\n",
      "The CommonGround_entani optimization problem had no optimal solution.\n",
      "The tCommonGround optimization problem had no optimal solution.\n",
      "The CommonGround optimization problem had no optimal solution."
     ]
    },
    {
     "name": "stdout",
     "output_type": "stream",
     "text": [
      "\n",
      "The CommonGround optimization problem had no optimal solution.\n",
      "The CommonGround optimization problem had no optimal solution.\n",
      "The tCommonGround optimization problem had no optimal solution.\n",
      "The tCommonGround optimization problem had no optimal solution.\n",
      "The CommonGround_entani optimization problem had no optimal solution.\n",
      "The CommonGround_entani optimization problem had no optimal solution.\n",
      "The CommonGround optimization problem had no optimal solution.\n",
      "The CommonGround optimization problem had no optimal solution.\n",
      "The tCommonGround optimization problem had no optimal solution.\n",
      "The CommonGround_entani optimization problem had no optimal solution."
     ]
    },
    {
     "name": "stdout",
     "output_type": "stream",
     "text": [
      "\n",
      "The tCommonGround optimization problem had no optimal solution.\n",
      "The CommonGround optimization problem had no optimal solution.\n"
     ]
    },
    {
     "name": "stdout",
     "output_type": "stream",
     "text": [
      "The tCommonGround optimization problem had no optimal solution.\n"
     ]
    },
    {
     "name": "stdout",
     "output_type": "stream",
     "text": [
      "The CommonGround_entani optimization problem had no optimal solution.\n",
      "The CommonGround_entani optimization problem had no optimal solution.\n",
      "The CommonGround optimization problem had no optimal solution.\n",
      "The CommonGround_entani optimization problem had no optimal solution.\n",
      "The tCommonGround optimization problem had no optimal solution.\n",
      "The CommonGround optimization problem had no optimal solution.\n",
      "The CommonGround_entani optimization problem had no optimal solution.\n",
      "The CommonGround optimization problem had no optimal solution.\n",
      "The tCommonGround optimization problem had no optimal solution.\n",
      "The tCommonGround optimization problem had no optimal solution.\n",
      "The CommonGround optimization problem had no optimal solution.\n",
      "The CommonGround_entani optimization problem had no optimal solution.\n",
      "The tCommonGround optimization problem had no optimal solution.\n",
      "The CommonGround optimization problem had no optimal solution.\n",
      "The CommonGround_entani optimization problem had no optimal solution.\n",
      "The CommonGround_entani optimization problem had no optimal solution.\n",
      "The CommonGround optimization problem had no optimal solution.\n",
      "The CommonGround_entani optimization problem had no optimal solution."
     ]
    },
    {
     "name": "stdout",
     "output_type": "stream",
     "text": [
      "\n",
      "The CommonGround optimization problem had no optimal solution.\n",
      "The tCommonGround optimization problem had no optimal solution.\n",
      "The CommonGround optimization problem had no optimal solution.\n",
      "The tCommonGround optimization problem had no optimal solution.\n",
      "The CommonGround_entani optimization problem had no optimal solution.\n",
      "The tCommonGround optimization problem had no optimal solution.\n",
      "The CommonGround optimization problem had no optimal solution.\n",
      "The tCommonGround optimization problem had no optimal solution.\n",
      "The CommonGround_entani optimization problem had no optimal solution.\n",
      "The CommonGround_entani optimization problem had no optimal solution.\n",
      "The CommonGround optimization problem had no optimal solution.\n",
      "The CommonGround optimization problem had no optimal solution.\n",
      "The CommonGround_entani optimization problem had no optimal solution."
     ]
    },
    {
     "name": "stdout",
     "output_type": "stream",
     "text": [
      "\n",
      "The CommonGround_entani optimization problem had no optimal solution.\n",
      "The CommonGround optimization problem had no optimal solution.\n",
      "The CommonGround optimization problem had no optimal solution.\n",
      "The tCommonGround optimization problem had no optimal solution.\n",
      "The tCommonGround optimization problem had no optimal solution.\n"
     ]
    },
    {
     "name": "stdout",
     "output_type": "stream",
     "text": [
      "The tCommonGround optimization problem had no optimal solution.\n",
      "The tCommonGround optimization problem had no optimal solution.\n",
      "The CommonGround_entani optimization problem had no optimal solution.\n",
      "The CommonGround_entani optimization problem had no optimal solution.\n",
      "The CommonGround optimization problem had no optimal solution.\n",
      "The CommonGround_entani optimization problem had no optimal solution.\n",
      "The CommonGround_entani optimization problem had no optimal solution.\n",
      "The CommonGround optimization problem had no optimal solution.\n",
      "The CommonGround optimization problem had no optimal solution.\n",
      "The tCommonGround optimization problem had no optimal solution.\n",
      "The CommonGround optimization problem had no optimal solution.\n",
      "The tCommonGround optimization problem had no optimal solution.\n",
      "The tCommonGround optimization problem had no optimal solution.\n",
      "The tCommonGround optimization problem had no optimal solution.\n"
     ]
    },
    {
     "name": "stdout",
     "output_type": "stream",
     "text": [
      "The CommonGround_entani optimization problem had no optimal solution.\n",
      "The CommonGround_entani optimization problem had no optimal solution.\n",
      "The CommonGround optimization problem had no optimal solution.\n",
      "The CommonGround_entani optimization problem had no optimal solution.\n",
      "The CommonGround_entani optimization problem had no optimal solution.\n",
      "The CommonGround optimization problem had no optimal solution.\n",
      "The CommonGround optimization problem had no optimal solution.\n",
      "The CommonGround optimization problem had no optimal solution.\n",
      "The tCommonGround optimization problem had no optimal solution.\n",
      "The tCommonGround optimization problem had no optimal solution.\n",
      "The tCommonGround optimization problem had no optimal solution.\n",
      "The CommonGround_entani optimization problem had no optimal solution.\n",
      "The CommonGround optimization problem had no optimal solution.\n",
      "The tCommonGround optimization problem had no optimal solution.\n",
      "The CommonGround_entani optimization problem had no optimal solution.\n",
      "The CommonGround_entani optimization problem had no optimal solution."
     ]
    },
    {
     "name": "stdout",
     "output_type": "stream",
     "text": [
      "\n",
      "The CommonGround_entani optimization problem had no optimal solution.\n",
      "The CommonGround optimization problem had no optimal solution.\n",
      "The CommonGround optimization problem had no optimal solution.\n",
      "The CommonGround optimization problem had no optimal solution.\n",
      "The tCommonGround optimization problem had no optimal solution.\n",
      "The tCommonGround optimization problem had no optimal solution.\n",
      "The tCommonGround optimization problem had no optimal solution.\n",
      "The CommonGround_entani optimization problem had no optimal solution.\n",
      "The CommonGround optimization problem had no optimal solution.\n",
      "The CommonGround_entani optimization problem had no optimal solution."
     ]
    },
    {
     "name": "stdout",
     "output_type": "stream",
     "text": [
      "\n"
     ]
    },
    {
     "name": "stdout",
     "output_type": "stream",
     "text": [
      "The CommonGround optimization problem had no optimal solution.\n",
      "The CommonGround_entani optimization problem had no optimal solution.\n",
      "The CommonGround_entani optimization problem had no optimal solution.\n",
      "The CommonGround optimization problem had no optimal solution.\n",
      "The tCommonGround optimization problem had no optimal solution.\n",
      "The tCommonGround optimization problem had no optimal solution.\n",
      "The tCommonGround optimization problem had no optimal solution.\n",
      "The CommonGround_entani optimization problem had no optimal solution.\n",
      "The CommonGround_entani optimization problem had no optimal solution."
     ]
    },
    {
     "name": "stdout",
     "output_type": "stream",
     "text": [
      "\n",
      "The CommonGround optimization problem had no optimal solution.\n",
      "The CommonGround_entani optimization problem had no optimal solution.\n",
      "The CommonGround optimization problem had no optimal solution.\n",
      "The CommonGround optimization problem had no optimal solution.\n",
      "The tCommonGround optimization problem had no optimal solution.\n",
      "The tCommonGround optimization problem had no optimal solution."
     ]
    },
    {
     "name": "stdout",
     "output_type": "stream",
     "text": [
      "\n",
      "The CommonGround_entani optimization problem had no optimal solution.\n",
      "The tCommonGround optimization problem had no optimal solution.\n",
      "The CommonGround optimization problem had no optimal solution.\n",
      "The tCommonGround optimization problem had no optimal solution.\n",
      "The CommonGround_entani optimization problem had no optimal solution."
     ]
    },
    {
     "name": "stdout",
     "output_type": "stream",
     "text": [
      "\n",
      "The CommonGround_entani optimization problem had no optimal solution.\n",
      "The CommonGround optimization problem had no optimal solution.\n",
      "The CommonGround_entani optimization problem had no optimal solution.\n",
      "The CommonGround_entani optimization problem had no optimal solution.\n",
      "The CommonGround optimization problem had no optimal solution.\n",
      "The CommonGround optimization problem had no optimal solution.\n",
      "The CommonGround optimization problem had no optimal solution.\n",
      "The tCommonGround optimization problem had no optimal solution.\n",
      "The tCommonGround optimization problem had no optimal solution.\n",
      "The tCommonGround optimization problem had no optimal solution.\n",
      "The tCommonGround optimization problem had no optimal solution.\n",
      "The CommonGround_entani optimization problem had no optimal solution.\n",
      "The CommonGround_entani optimization problem had no optimal solution.\n",
      "The CommonGround optimization problem had no optimal solution.\n",
      "The CommonGround_entani optimization problem had no optimal solution.\n",
      "The CommonGround_entani optimization problem had no optimal solution."
     ]
    },
    {
     "name": "stdout",
     "output_type": "stream",
     "text": [
      "\n",
      "The CommonGround optimization problem had no optimal solution.\n",
      "The CommonGround optimization problem had no optimal solution.\n",
      "The tCommonGround optimization problem had no optimal solution.\n",
      "The CommonGround optimization problem had no optimal solution.\n",
      "The tCommonGround optimization problem had no optimal solution.\n",
      "The tCommonGround optimization problem had no optimal solution.\n",
      "The tCommonGround optimization problem had no optimal solution.\n"
     ]
    },
    {
     "name": "stdout",
     "output_type": "stream",
     "text": [
      "The CommonGround_entani optimization problem had no optimal solution.\n",
      "The CommonGround_entani optimization problem had no optimal solution.\n",
      "The CommonGround optimization problem had no optimal solution.\n",
      "The CommonGround_entani optimization problem had no optimal solution.\n",
      "The CommonGround_entani optimization problem had no optimal solution.\n",
      "The CommonGround optimization problem had no optimal solution.\n",
      "The tCommonGround optimization problem had no optimal solution.\n",
      "The CommonGround optimization problem had no optimal solution.\n",
      "The CommonGround optimization problem had no optimal solution.\n",
      "The tCommonGround optimization problem had no optimal solution.\n",
      "The tCommonGround optimization problem had no optimal solution.\n",
      "The tCommonGround optimization problem had no optimal solution.\n"
     ]
    },
    {
     "name": "stdout",
     "output_type": "stream",
     "text": [
      "The CommonGround_entani optimization problem had no optimal solution.\n",
      "The CommonGround_entani optimization problem had no optimal solution.\n",
      "The CommonGround_entani optimization problem had no optimal solution.\n",
      "The CommonGround optimization problem had no optimal solution.\n",
      "The CommonGround optimization problem had no optimal solution.\n",
      "The CommonGround_entani optimization problem had no optimal solution.\n",
      "The tCommonGround optimization problem had no optimal solution.\n",
      "The CommonGround optimization problem had no optimal solution.\n",
      "The tCommonGround optimization problem had no optimal solution.\n",
      "The CommonGround optimization problem had no optimal solution.\n",
      "The tCommonGround optimization problem had no optimal solution.\n",
      "The tCommonGround optimization problem had no optimal solution.\n"
     ]
    },
    {
     "name": "stdout",
     "output_type": "stream",
     "text": [
      "The CommonGround_entani optimization problem had no optimal solution.\n",
      "The CommonGround_entani optimization problem had no optimal solution.\n",
      "The CommonGround_entani optimization problem had no optimal solution.\n",
      "The CommonGround optimization problem had no optimal solution.\n",
      "The CommonGround optimization problem had no optimal solution.\n",
      "The tCommonGround optimization problem had no optimal solution.\n",
      "The CommonGround_entani optimization problem had no optimal solution.\n",
      "The CommonGround optimization problem had no optimal solution.\n",
      "The tCommonGround optimization problem had no optimal solution.\n",
      "The tCommonGround optimization problem had no optimal solution.\n",
      "The CommonGround optimization problem had no optimal solution.\n",
      "The tCommonGround optimization problem had no optimal solution.\n",
      "The CommonGround_entani optimization problem had no optimal solution.\n",
      "The CommonGround_entani optimization problem had no optimal solution."
     ]
    },
    {
     "name": "stdout",
     "output_type": "stream",
     "text": [
      "\n",
      "The CommonGround optimization problem had no optimal solution.\n",
      "The CommonGround_entani optimization problem had no optimal solution.\n",
      "The CommonGround_entani optimization problem had no optimal solution.\n",
      "The tCommonGround optimization problem had no optimal solution.\n",
      "The CommonGround optimization problem had no optimal solution.\n",
      "The CommonGround optimization problem had no optimal solution.\n",
      "The tCommonGround optimization problem had no optimal solution.\n",
      "The CommonGround optimization problem had no optimal solution.\n",
      "The tCommonGround optimization problem had no optimal solution.\n",
      "The tCommonGround optimization problem had no optimal solution.\n",
      "The CommonGround_entani optimization problem had no optimal solution.\n",
      "The CommonGround optimization problem had no optimal solution.\n",
      "The CommonGround_entani optimization problem had no optimal solution."
     ]
    },
    {
     "name": "stdout",
     "output_type": "stream",
     "text": [
      "\n",
      "The tCommonGround optimization problem had no optimal solution.\n",
      "The CommonGround optimization problem had no optimal solution.\n",
      "The tCommonGround optimization problem had no optimal solution.\n",
      "The CommonGround_entani optimization problem had no optimal solution.\n",
      "The CommonGround optimization problem had no optimal solution.\n",
      "The tCommonGround optimization problem had no optimal solution.\n",
      "The CommonGround_entani optimization problem had no optimal solution.\n",
      "The CommonGround optimization problem had no optimal solution.\n",
      "The tCommonGround optimization problem had no optimal solution.\n",
      "The CommonGround_entani optimization problem had no optimal solution.\n",
      "The CommonGround_entani optimization problem had no optimal solution."
     ]
    },
    {
     "name": "stdout",
     "output_type": "stream",
     "text": [
      "\n",
      "The CommonGround optimization problem had no optimal solution.\n",
      "The CommonGround optimization problem had no optimal solution.\n",
      "The tCommonGround optimization problem had no optimal solution.\n",
      "The tCommonGround optimization problem had no optimal solution.\n",
      "The CommonGround_entani optimization problem had no optimal solution.\n",
      "The CommonGround optimization problem had no optimal solution.\n",
      "The tCommonGround optimization problem had no optimal solution.\n",
      "The CommonGround_entani optimization problem had no optimal solution.\n",
      "The CommonGround optimization problem had no optimal solution.\n",
      "The CommonGround_entani optimization problem had no optimal solution.\n",
      "The tCommonGround optimization problem had no optimal solution.\n",
      "The CommonGround optimization problem had no optimal solution.\n",
      "The tCommonGround optimization problem had no optimal solution.\n",
      "The CommonGround_entani optimization problem had no optimal solution.\n",
      "The CommonGround optimization problem had no optimal solution."
     ]
    },
    {
     "name": "stdout",
     "output_type": "stream",
     "text": [
      "\n",
      "The CommonGround optimization problem had no optimal solution.\n",
      "The tCommonGround optimization problem had no optimal solution.\n",
      "The tCommonGround optimization problem had no optimal solution.\n",
      "The CommonGround_entani optimization problem had no optimal solution.\n",
      "The CommonGround_entani optimization problem had no optimal solution.\n",
      "The CommonGround optimization problem had no optimal solution.\n",
      "The CommonGround optimization problem had no optimal solution.\n",
      "The tCommonGround optimization problem had no optimal solution.\n",
      "The tCommonGround optimization problem had no optimal solution.\n",
      "The CommonGround_entani optimization problem had no optimal solution.\n",
      "The CommonGround optimization problem had no optimal solution.\n",
      "The CommonGround_entani optimization problem had no optimal solution."
     ]
    },
    {
     "name": "stdout",
     "output_type": "stream",
     "text": [
      "\n",
      "The tCommonGround optimization problem had no optimal solution.\n",
      "The CommonGround optimization problem had no optimal solution.\n",
      "The tCommonGround optimization problem had no optimal solution.\n"
     ]
    },
    {
     "name": "stdout",
     "output_type": "stream",
     "text": [
      "The CommonGround_entani optimization problem had no optimal solution.\n",
      "The CommonGround_entani optimization problem had no optimal solution.\n",
      "The CommonGround optimization problem had no optimal solution.\n",
      "The CommonGround optimization problem had no optimal solution.\n",
      "The tCommonGround optimization problem had no optimal solution.\n",
      "The tCommonGround optimization problem had no optimal solution.\n",
      "The CommonGround_entani optimization problem had no optimal solution.\n",
      "The CommonGround_entani optimization problem had no optimal solution.\n",
      "The CommonGround optimization problem had no optimal solution.\n",
      "The CommonGround optimization problem had no optimal solution.\n",
      "The tCommonGround optimization problem had no optimal solution.\n",
      "The tCommonGround optimization problem had no optimal solution.\n",
      "The CommonGround_entani optimization problem had no optimal solution.\n",
      "The CommonGround optimization problem had no optimal solution.\n",
      "The tCommonGround optimization problem had no optimal solution.\n",
      "The CommonGround_entani optimization problem had no optimal solution.\n",
      "The CommonGround optimization problem had no optimal solution.\n",
      "The tCommonGround optimization problem had no optimal solution.\n",
      "The CommonGround_entani optimization problem had no optimal solution.\n",
      "The CommonGround_entani optimization problem had no optimal solution."
     ]
    },
    {
     "name": "stdout",
     "output_type": "stream",
     "text": [
      "\n",
      "The CommonGround optimization problem had no optimal solution.\n",
      "The CommonGround optimization problem had no optimal solution.\n",
      "The tCommonGround optimization problem had no optimal solution.\n",
      "The tCommonGround optimization problem had no optimal solution.\n",
      "The CommonGround_entani optimization problem had no optimal solution.\n",
      "The CommonGround optimization problem had no optimal solution.\n",
      "The tCommonGround optimization problem had no optimal solution.\n",
      "The CommonGround_entani optimization problem had no optimal solution.\n",
      "The CommonGround optimization problem had no optimal solution.\n",
      "The tCommonGround optimization problem had no optimal solution.\n",
      "The CommonGround_entani optimization problem had no optimal solution.\n",
      "The CommonGround_entani optimization problem had no optimal solution."
     ]
    },
    {
     "name": "stdout",
     "output_type": "stream",
     "text": [
      "\n",
      "The CommonGround optimization problem had no optimal solution.\n",
      "The CommonGround optimization problem had no optimal solution.\n",
      "The tCommonGround optimization problem had no optimal solution.\n",
      "The CommonGround_entani optimization problem had no optimal solution.\n",
      "The tCommonGround optimization problem had no optimal solution.\n",
      "The CommonGround optimization problem had no optimal solution.\n",
      "The tCommonGround optimization problem had no optimal solution.\n",
      "The CommonGround_entani optimization problem had no optimal solution.\n",
      "The CommonGround optimization problem had no optimal solution.\n",
      "The tCommonGround optimization problem had no optimal solution.\n",
      "The CommonGround_entani optimization problem had no optimal solution.\n",
      "The CommonGround_entani optimization problem had no optimal solution."
     ]
    },
    {
     "name": "stdout",
     "output_type": "stream",
     "text": [
      "\n",
      "The CommonGround optimization problem had no optimal solution.\n",
      "The CommonGround optimization problem had no optimal solution.\n",
      "The tCommonGround optimization problem had no optimal solution.\n",
      "The tCommonGround optimization problem had no optimal solution.\n",
      "The CommonGround_entani optimization problem had no optimal solution.\n",
      "The CommonGround optimization problem had no optimal solution.\n",
      "The tCommonGround optimization problem had no optimal solution.\n",
      "The CommonGround_entani optimization problem had no optimal solution.\n",
      "The CommonGround optimization problem had no optimal solution.\n",
      "The tCommonGround optimization problem had no optimal solution.\n",
      "The CommonGround_entani optimization problem had no optimal solution.\n",
      "The CommonGround optimization problem had no optimal solution.\n",
      "The tCommonGround optimization problem had no optimal solution.\n",
      "The CommonGround_entani optimization problem had no optimal solution."
     ]
    },
    {
     "name": "stdout",
     "output_type": "stream",
     "text": [
      "\n"
     ]
    },
    {
     "name": "stdout",
     "output_type": "stream",
     "text": [
      "The CommonGround_entani optimization problem had no optimal solution.\n",
      "The CommonGround optimization problem had no optimal solution.\n",
      "The tCommonGround optimization problem had no optimal solution.\n",
      "The CommonGround optimization problem had no optimal solution.\n",
      "The tCommonGround optimization problem had no optimal solution.\n",
      "The CommonGround_entani optimization problem had no optimal solution.\n",
      "The CommonGround optimization problem had no optimal solution.\n",
      "The tCommonGround optimization problem had no optimal solution.\n",
      "The CommonGround_entani optimization problem had no optimal solution."
     ]
    },
    {
     "name": "stdout",
     "output_type": "stream",
     "text": [
      "\n",
      "The CommonGround optimization problem had no optimal solution.\n",
      "The CommonGround optimization problem had no optimal solution.\n",
      "The tCommonGround optimization problem had no optimal solution."
     ]
    },
    {
     "name": "stdout",
     "output_type": "stream",
     "text": [
      "\n",
      "The CommonGround_entani optimization problem had no optimal solution.\n",
      "The tCommonGround optimization problem had no optimal solution.\n",
      "The CommonGround optimization problem had no optimal solution.\n",
      "The tCommonGround optimization problem had no optimal solution.\n",
      "The CommonGround_entani optimization problem had no optimal solution.\n",
      "The CommonGround optimization problem had no optimal solution.\n",
      "The tCommonGround optimization problem had no optimal solution.\n",
      "The CommonGround_entani optimization problem had no optimal solution.\n",
      "The CommonGround optimization problem had no optimal solution.\n",
      "The tCommonGround optimization problem had no optimal solution.\n",
      "The CommonGround_entani optimization problem had no optimal solution."
     ]
    },
    {
     "name": "stdout",
     "output_type": "stream",
     "text": [
      "\n",
      "The CommonGround_entani optimization problem had no optimal solution.\n",
      "The CommonGround optimization problem had no optimal solution.\n",
      "The CommonGround optimization problem had no optimal solution.\n",
      "The tCommonGround optimization problem had no optimal solution.\n",
      "The tCommonGround optimization problem had no optimal solution.\n",
      "The CommonGround_entani optimization problem had no optimal solution.\n",
      "The CommonGround optimization problem had no optimal solution.\n",
      "The tCommonGround optimization problem had no optimal solution.\n",
      "The CommonGround_entani optimization problem had no optimal solution.\n",
      "The CommonGround optimization problem had no optimal solution.\n",
      "The tCommonGround optimization problem had no optimal solution.\n",
      "The CommonGround_entani optimization problem had no optimal solution.\n",
      "The CommonGround_entani optimization problem had no optimal solution."
     ]
    },
    {
     "name": "stdout",
     "output_type": "stream",
     "text": [
      "\n"
     ]
    },
    {
     "name": "stdout",
     "output_type": "stream",
     "text": [
      "The CommonGround optimization problem had no optimal solution.\n",
      "The CommonGround optimization problem had no optimal solution.\n",
      "The tCommonGround optimization problem had no optimal solution.\n",
      "The CommonGround_entani optimization problem had no optimal solution.\n",
      "The tCommonGround optimization problem had no optimal solution.\n",
      "The CommonGround optimization problem had no optimal solution.\n",
      "The tCommonGround optimization problem had no optimal solution.\n",
      "The CommonGround_entani optimization problem had no optimal solution."
     ]
    },
    {
     "name": "stdout",
     "output_type": "stream",
     "text": [
      "\n",
      "The CommonGround_entani optimization problem had no optimal solution.\n",
      "The CommonGround optimization problem had no optimal solution.\n",
      "The CommonGround optimization problem had no optimal solution.\n",
      "The tCommonGround optimization problem had no optimal solution.\n",
      "The tCommonGround optimization problem had no optimal solution.\n",
      "The CommonGround_entani optimization problem had no optimal solution.\n",
      "The CommonGround_entani optimization problem had no optimal solution.\n",
      "The CommonGround optimization problem had no optimal solution.\n",
      "The CommonGround optimization problem had no optimal solution.\n",
      "The tCommonGround optimization problem had no optimal solution.\n",
      "The tCommonGround optimization problem had no optimal solution.\n",
      "The CommonGround_entani optimization problem had no optimal solution.\n",
      "The CommonGround_entani optimization problem had no optimal solution."
     ]
    },
    {
     "name": "stdout",
     "output_type": "stream",
     "text": [
      "\n",
      "The CommonGround optimization problem had no optimal solution.\n",
      "The CommonGround optimization problem had no optimal solution.\n",
      "The CommonGround_entani optimization problem had no optimal solution.\n",
      "The CommonGround_entani optimization problem had no optimal solution.\n",
      "The tCommonGround optimization problem had no optimal solution.\n",
      "The tCommonGround optimization problem had no optimal solution.\n",
      "The CommonGround optimization problem had no optimal solution.\n",
      "The CommonGround optimization problem had no optimal solution.\n",
      "The tCommonGround optimization problem had no optimal solution.\n",
      "The tCommonGround optimization problem had no optimal solution.\n",
      "The CommonGround_entani optimization problem had no optimal solution.\n",
      "The CommonGround optimization problem had no optimal solution.\n",
      "The CommonGround_entani optimization problem had no optimal solution."
     ]
    },
    {
     "name": "stdout",
     "output_type": "stream",
     "text": [
      "\n",
      "The tCommonGround optimization problem had no optimal solution.\n",
      "The CommonGround_entani optimization problem had no optimal solution.\n",
      "The CommonGround_entani optimization problem had no optimal solution.\n",
      "The CommonGround optimization problem had no optimal solution.\n",
      "The CommonGround optimization problem had no optimal solution.\n",
      "The tCommonGround optimization problem had no optimal solution.\n",
      "The tCommonGround optimization problem had no optimal solution.\n",
      "The CommonGround optimization problem had no optimal solution.\n",
      "The tCommonGround optimization problem had no optimal solution.\n",
      "The CommonGround_entani optimization problem had no optimal solution.\n",
      "The CommonGround optimization problem had no optimal solution.\n",
      "The CommonGround_entani optimization problem had no optimal solution."
     ]
    },
    {
     "name": "stdout",
     "output_type": "stream",
     "text": [
      "\n",
      "The tCommonGround optimization problem had no optimal solution.\n",
      "The CommonGround_entani optimization problem had no optimal solution.\n",
      "The CommonGround_entani optimization problem had no optimal solution.\n",
      "The CommonGround optimization problem had no optimal solution.\n",
      "The CommonGround optimization problem had no optimal solution.\n"
     ]
    },
    {
     "name": "stdout",
     "output_type": "stream",
     "text": [
      "The tCommonGround optimization problem had no optimal solution.\n",
      "The CommonGround optimization problem had no optimal solution.\n",
      "The tCommonGround optimization problem had no optimal solution.\n",
      "The tCommonGround optimization problem had no optimal solution.\n",
      "The CommonGround_entani optimization problem had no optimal solution.\n",
      "The CommonGround optimization problem had no optimal solution.\n",
      "The tCommonGround optimization problem had no optimal solution.\n",
      "The CommonGround_entani optimization problem had no optimal solution."
     ]
    },
    {
     "name": "stdout",
     "output_type": "stream",
     "text": [
      "\n",
      "The CommonGround_entani optimization problem had no optimal solution.\n",
      "The CommonGround optimization problem had no optimal solution.\n"
     ]
    },
    {
     "name": "stdout",
     "output_type": "stream",
     "text": [
      "The CommonGround optimization problem had no optimal solution.\n",
      "The tCommonGround optimization problem had no optimal solution.\n",
      "The CommonGround optimization problem had no optimal solution.\n",
      "The tCommonGround optimization problem had no optimal solution.\n",
      "The tCommonGround optimization problem had no optimal solution.\n",
      "The CommonGround_entani optimization problem had no optimal solution."
     ]
    },
    {
     "name": "stdout",
     "output_type": "stream",
     "text": [
      "\n",
      "The CommonGround_entani optimization problem had no optimal solution.\n",
      "The CommonGround_entani optimization problem had no optimal solution.\n",
      "The CommonGround optimization problem had no optimal solution.\n",
      "The CommonGround_entani optimization problem had no optimal solution.\n",
      "The tCommonGround optimization problem had no optimal solution.\n",
      "The CommonGround optimization problem had no optimal solution.\n",
      "The CommonGround optimization problem had no optimal solution.\n",
      "The CommonGround optimization problem had no optimal solution.\n",
      "The tCommonGround optimization problem had no optimal solution.\n",
      "The tCommonGround optimization problem had no optimal solution.\n",
      "The tCommonGround optimization problem had no optimal solution.\n",
      "The CommonGround_entani optimization problem had no optimal solution."
     ]
    },
    {
     "name": "stdout",
     "output_type": "stream",
     "text": [
      "\n",
      "The CommonGround optimization problem had no optimal solution.\n",
      "The CommonGround_entani optimization problem had no optimal solution.\n",
      "The CommonGround_entani optimization problem had no optimal solution.\n",
      "The tCommonGround optimization problem had no optimal solution.\n",
      "The CommonGround_entani optimization problem had no optimal solution.\n",
      "The CommonGround optimization problem had no optimal solution.\n",
      "The CommonGround optimization problem had no optimal solution.\n",
      "The CommonGround optimization problem had no optimal solution.\n",
      "The tCommonGround optimization problem had no optimal solution.\n",
      "The tCommonGround optimization problem had no optimal solution.\n",
      "The tCommonGround optimization problem had no optimal solution.\n",
      "The CommonGround_entani optimization problem had no optimal solution."
     ]
    },
    {
     "name": "stdout",
     "output_type": "stream",
     "text": [
      "\n",
      "The CommonGround optimization problem had no optimal solution.\n",
      "The tCommonGround optimization problem had no optimal solution.\n",
      "The CommonGround_entani optimization problem had no optimal solution.\n",
      "The CommonGround_entani optimization problem had no optimal solution.\n",
      "The CommonGround_entani optimization problem had no optimal solution.\n",
      "The CommonGround optimization problem had no optimal solution.\n",
      "The CommonGround optimization problem had no optimal solution.\n",
      "The CommonGround optimization problem had no optimal solution.\n",
      "The tCommonGround optimization problem had no optimal solution.\n",
      "The tCommonGround optimization problem had no optimal solution.\n",
      "The tCommonGround optimization problem had no optimal solution.\n",
      "The CommonGround_entani optimization problem had no optimal solution."
     ]
    },
    {
     "name": "stdout",
     "output_type": "stream",
     "text": [
      "\n",
      "The CommonGround optimization problem had no optimal solution.\n"
     ]
    },
    {
     "name": "stdout",
     "output_type": "stream",
     "text": [
      "The tCommonGround optimization problem had no optimal solution.\n",
      "The CommonGround_entani optimization problem had no optimal solution.\n",
      "The CommonGround_entani optimization problem had no optimal solution.\n",
      "The CommonGround optimization problem had no optimal solution.\n",
      "The CommonGround optimization problem had no optimal solution.\n",
      "The tCommonGround optimization problem had no optimal solution.\n",
      "The CommonGround_entani optimization problem had no optimal solution.\n",
      "The CommonGround optimization problem had no optimal solution.\n",
      "The tCommonGround optimization problem had no optimal solution.\n",
      "The tCommonGround optimization problem had no optimal solution.\n",
      "The CommonGround_entani optimization problem had no optimal solution."
     ]
    },
    {
     "name": "stdout",
     "output_type": "stream",
     "text": [
      "\n",
      "The CommonGround optimization problem had no optimal solution.\n",
      "The tCommonGround optimization problem had no optimal solution.\n",
      "The CommonGround_entani optimization problem had no optimal solution.\n",
      "The CommonGround optimization problem had no optimal solution.\n",
      "The CommonGround_entani optimization problem had no optimal solution.\n",
      "The CommonGround_entani optimization problem had no optimal solution.\n",
      "The tCommonGround optimization problem had no optimal solution.\n",
      "The CommonGround optimization problem had no optimal solution.\n",
      "The CommonGround optimization problem had no optimal solution.\n",
      "The tCommonGround optimization problem had no optimal solution.\n",
      "The tCommonGround optimization problem had no optimal solution.\n",
      "The CommonGround_entani optimization problem had no optimal solution."
     ]
    },
    {
     "name": "stdout",
     "output_type": "stream",
     "text": [
      "\n",
      "The CommonGround optimization problem had no optimal solution.\n",
      "The tCommonGround optimization problem had no optimal solution.\n"
     ]
    },
    {
     "name": "stdout",
     "output_type": "stream",
     "text": [
      "The CommonGround_entani optimization problem had no optimal solution.\n",
      "The CommonGround optimization problem had no optimal solution.\n",
      "The CommonGround_entani optimization problem had no optimal solution.\n",
      "The tCommonGround optimization problem had no optimal solution.\n",
      "The CommonGround optimization problem had no optimal solution.\n",
      "The tCommonGround optimization problem had no optimal solution.\n",
      "The CommonGround optimization problem had no optimal solution.\n",
      "The tCommonGround optimization problem had no optimal solution.\n",
      "The CommonGround_entani optimization problem had no optimal solution.\n",
      "The CommonGround optimization problem had no optimal solution.\n",
      "The tCommonGround optimization problem had no optimal solution.\n",
      "The CommonGround_entani optimization problem had no optimal solution.\n",
      "The CommonGround optimization problem had no optimal solution.\n",
      "The CommonGround_entani optimization problem had no optimal solution.\n",
      "The CommonGround_entani optimization problem had no optimal solution.\n",
      "The tCommonGround optimization problem had no optimal solution.\n",
      "The CommonGround optimization problem had no optimal solution.\n",
      "The CommonGround optimization problem had no optimal solution.\n",
      "The tCommonGround optimization problem had no optimal solution.\n",
      "The tCommonGround optimization problem had no optimal solution.\n",
      "The CommonGround_entani optimization problem had no optimal solution.\n",
      "The CommonGround optimization problem had no optimal solution.\n",
      "The CommonGround_entani optimization problem had no optimal solution.\n",
      "The tCommonGround optimization problem had no optimal solution.\n",
      "The CommonGround_entani optimization problem had no optimal solution.\n",
      "The CommonGround_entani optimization problem had no optimal solution."
     ]
    },
    {
     "name": "stdout",
     "output_type": "stream",
     "text": [
      "\n",
      "The CommonGround optimization problem had no optimal solution.\n",
      "The CommonGround optimization problem had no optimal solution.\n",
      "The CommonGround optimization problem had no optimal solution.\n",
      "The tCommonGround optimization problem had no optimal solution.\n",
      "The tCommonGround optimization problem had no optimal solution.\n",
      "The tCommonGround optimization problem had no optimal solution.\n",
      "The CommonGround_entani optimization problem had no optimal solution."
     ]
    },
    {
     "name": "stdout",
     "output_type": "stream",
     "text": [
      "\n",
      "The CommonGround optimization problem had no optimal solution.\n",
      "The tCommonGround optimization problem had no optimal solution.\n"
     ]
    },
    {
     "name": "stdout",
     "output_type": "stream",
     "text": [
      "The CommonGround_entani optimization problem had no optimal solution.\n",
      "The CommonGround_entani optimization problem had no optimal solution.\n",
      "The CommonGround_entani optimization problem had no optimal solution.\n",
      "The CommonGround optimization problem had no optimal solution.\n",
      "The CommonGround optimization problem had no optimal solution.\n",
      "The CommonGround_entani optimization problem had no optimal solution.\n",
      "The CommonGround optimization problem had no optimal solution.\n",
      "The tCommonGround optimization problem had no optimal solution.\n",
      "The tCommonGround optimization problem had no optimal solution.\n",
      "The tCommonGround optimization problem had no optimal solution.\n",
      "The CommonGround_entani optimization problem had no optimal solution.\n",
      "The CommonGround_entani optimization problem had no optimal solution.\n",
      "The CommonGround optimization problem had no optimal solution.\n",
      "The CommonGround_entani optimization problem had no optimal solution."
     ]
    },
    {
     "name": "stdout",
     "output_type": "stream",
     "text": [
      "\n",
      "The CommonGround optimization problem had no optimal solution.\n",
      "The CommonGround optimization problem had no optimal solution.\n",
      "The CommonGround_entani optimization problem had no optimal solution.\n",
      "The tCommonGround optimization problem had no optimal solution.\n",
      "The CommonGround optimization problem had no optimal solution.\n",
      "The tCommonGround optimization problem had no optimal solution.\n",
      "The tCommonGround optimization problem had no optimal solution.\n",
      "The tCommonGround optimization problem had no optimal solution.\n",
      "The CommonGround_entani optimization problem had no optimal solution.\n",
      "The CommonGround optimization problem had no optimal solution.\n",
      "The CommonGround_entani optimization problem had no optimal solution.\n",
      "The CommonGround_entani optimization problem had no optimal solution."
     ]
    },
    {
     "name": "stdout",
     "output_type": "stream",
     "text": [
      "\n",
      "The tCommonGround optimization problem had no optimal solution.\n",
      "The CommonGround optimization problem had no optimal solution.\n",
      "The CommonGround optimization problem had no optimal solution.\n",
      "The CommonGround optimization problem had no optimal solution.\n",
      "The tCommonGround optimization problem had no optimal solution.\n",
      "The tCommonGround optimization problem had no optimal solution.\n",
      "The tCommonGround optimization problem had no optimal solution.\n",
      "The CommonGround_entani optimization problem had no optimal solution.\n",
      "The CommonGround optimization problem had no optimal solution.\n",
      "The CommonGround_entani optimization problem had no optimal solution.\n",
      "The CommonGround_entani optimization problem had no optimal solution."
     ]
    },
    {
     "name": "stdout",
     "output_type": "stream",
     "text": [
      "\n",
      "The tCommonGround optimization problem had no optimal solution.\n",
      "The CommonGround_entani optimization problem had no optimal solution.\n",
      "The CommonGround optimization problem had no optimal solution.\n",
      "The CommonGround optimization problem had no optimal solution.\n",
      "The CommonGround optimization problem had no optimal solution.\n",
      "The tCommonGround optimization problem had no optimal solution.\n",
      "The tCommonGround optimization problem had no optimal solution.\n",
      "The tCommonGround optimization problem had no optimal solution.\n"
     ]
    },
    {
     "name": "stdout",
     "output_type": "stream",
     "text": [
      "The CommonGround_entani optimization problem had no optimal solution.\n",
      "The CommonGround optimization problem had no optimal solution.\n",
      "The CommonGround_entani optimization problem had no optimal solution.\n",
      "The CommonGround_entani optimization problem had no optimal solution.\n",
      "The CommonGround_entani optimization problem had no optimal solution.\n",
      "The CommonGround optimization problem had no optimal solution.\n",
      "The CommonGround optimization problem had no optimal solution.\n",
      "The tCommonGround optimization problem had no optimal solution.\n",
      "The CommonGround optimization problem had no optimal solution.\n",
      "The tCommonGround optimization problem had no optimal solution.\n",
      "The tCommonGround optimization problem had no optimal solution.\n",
      "The tCommonGround optimization problem had no optimal solution.\n"
     ]
    },
    {
     "name": "stdout",
     "output_type": "stream",
     "text": [
      "The CommonGround_entani optimization problem had no optimal solution.\n",
      "The CommonGround optimization problem had no optimal solution.\n",
      "The CommonGround_entani optimization problem had no optimal solution.\n",
      "The tCommonGround optimization problem had no optimal solution.\n",
      "The CommonGround optimization problem had no optimal solution.\n",
      "The CommonGround_entani optimization problem had no optimal solution.\n",
      "The CommonGround optimization problem had no optimal solution.\n",
      "The CommonGround_entani optimization problem had no optimal solution.\n",
      "The CommonGround optimization problem had no optimal solution.\n",
      "The tCommonGround optimization problem had no optimal solution.\n",
      "The tCommonGround optimization problem had no optimal solution.\n",
      "The tCommonGround optimization problem had no optimal solution.\n"
     ]
    },
    {
     "name": "stdout",
     "output_type": "stream",
     "text": [
      "The CommonGround_entani optimization problem had no optimal solution.\n",
      "The CommonGround_entani optimization problem had no optimal solution.\n",
      "The CommonGround optimization problem had no optimal solution.\n",
      "The CommonGround_entani optimization problem had no optimal solution.\n",
      "The CommonGround optimization problem had no optimal solution.\n",
      "The tCommonGround optimization problem had no optimal solution.\n",
      "The CommonGround_entani optimization problem had no optimal solution.\n",
      "The CommonGround optimization problem had no optimal solution.\n",
      "The tCommonGround optimization problem had no optimal solution.\n",
      "The CommonGround optimization problem had no optimal solution.\n",
      "The tCommonGround optimization problem had no optimal solution.\n",
      "The tCommonGround optimization problem had no optimal solution.\n",
      "The CommonGround_entani optimization problem had no optimal solution.\n",
      "The CommonGround optimization problem had no optimal solution.\n",
      "The tCommonGround optimization problem had no optimal solution.\n",
      "The CommonGround_entani optimization problem had no optimal solution.\n",
      "The CommonGround optimization problem had no optimal solution.\n",
      "The CommonGround_entani optimization problem had no optimal solution.\n",
      "The CommonGround optimization problem had no optimal solution.\n",
      "The tCommonGround optimization problem had no optimal solution.\n",
      "The tCommonGround optimization problem had no optimal solution.\n",
      "The CommonGround_entani optimization problem had no optimal solution.\n",
      "The CommonGround_entani optimization problem had no optimal solution."
     ]
    },
    {
     "name": "stdout",
     "output_type": "stream",
     "text": [
      "\n",
      "The CommonGround optimization problem had no optimal solution.\n",
      "The CommonGround optimization problem had no optimal solution.\n",
      "The tCommonGround optimization problem had no optimal solution.\n",
      "The CommonGround_entani optimization problem had no optimal solution.\n",
      "The tCommonGround optimization problem had no optimal solution.\n",
      "The CommonGround_entani optimization problem had no optimal solution.\n",
      "The CommonGround optimization problem had no optimal solution.\n",
      "The CommonGround optimization problem had no optimal solution.\n",
      "The tCommonGround optimization problem had no optimal solution.\n",
      "The CommonGround_entani optimization problem had no optimal solution."
     ]
    },
    {
     "name": "stdout",
     "output_type": "stream",
     "text": [
      "\n",
      "The CommonGround optimization problem had no optimal solution.\n",
      "The CommonGround_entani optimization problem had no optimal solution.\n",
      "The tCommonGround optimization problem had no optimal solution.\n",
      "The CommonGround optimization problem had no optimal solution.\n",
      "The CommonGround_entani optimization problem had no optimal solution.\n",
      "The tCommonGround optimization problem had no optimal solution.\n",
      "The CommonGround optimization problem had no optimal solution.\n",
      "The CommonGround optimization problem had no optimal solution.\n",
      "The tCommonGround optimization problem had no optimal solution.\n",
      "The CommonGround_entani optimization problem had no optimal solution."
     ]
    },
    {
     "name": "stdout",
     "output_type": "stream",
     "text": [
      "\n",
      "The CommonGround optimization problem had no optimal solution.\n",
      "The tCommonGround optimization problem had no optimal solution.\n",
      "The CommonGround_entani optimization problem had no optimal solution.\n",
      "The CommonGround optimization problem had no optimal solution.\n",
      "The CommonGround_entani optimization problem had no optimal solution.\n",
      "The CommonGround_entani optimization problem had no optimal solution.\n",
      "The CommonGround optimization problem had no optimal solution.\n",
      "The tCommonGround optimization problem had no optimal solution.\n",
      "The CommonGround_entani optimization problem had no optimal solution."
     ]
    },
    {
     "name": "stdout",
     "output_type": "stream",
     "text": [
      "\n",
      "The tCommonGround optimization problem had no optimal solution.\n",
      "The CommonGround optimization problem had no optimal solution.\n",
      "The CommonGround optimization problem had no optimal solution.\n",
      "The tCommonGround optimization problem had no optimal solution.\n",
      "The tCommonGround optimization problem had no optimal solution.\n"
     ]
    },
    {
     "name": "stdout",
     "output_type": "stream",
     "text": [
      "The CommonGround_entani optimization problem had no optimal solution.\n",
      "The CommonGround optimization problem had no optimal solution.\n",
      "The tCommonGround optimization problem had no optimal solution.\n",
      "The CommonGround_entani optimization problem had no optimal solution.\n",
      "The CommonGround_entani optimization problem had no optimal solution.\n",
      "The CommonGround_entani optimization problem had no optimal solution.\n",
      "The CommonGround optimization problem had no optimal solution.\n",
      "The CommonGround optimization problem had no optimal solution.\n",
      "The CommonGround optimization problem had no optimal solution.\n",
      "The tCommonGround optimization problem had no optimal solution.\n",
      "The tCommonGround optimization problem had no optimal solution.\n",
      "The tCommonGround optimization problem had no optimal solution.\n",
      "The CommonGround_entani optimization problem had no optimal solution."
     ]
    },
    {
     "name": "stdout",
     "output_type": "stream",
     "text": [
      "\n",
      "The CommonGround optimization problem had no optimal solution.\n",
      "The tCommonGround optimization problem had no optimal solution.\n"
     ]
    },
    {
     "name": "stdout",
     "output_type": "stream",
     "text": [
      "The CommonGround_entani optimization problem had no optimal solution.\n",
      "The CommonGround_entani optimization problem had no optimal solution.\n",
      "The CommonGround_entani optimization problem had no optimal solution.\n",
      "The CommonGround optimization problem had no optimal solution.\n",
      "The CommonGround optimization problem had no optimal solution.\n",
      "The CommonGround optimization problem had no optimal solution.\n",
      "The tCommonGround optimization problem had no optimal solution.\n",
      "The tCommonGround optimization problem had no optimal solution.\n",
      "The tCommonGround optimization problem had no optimal solution.\n",
      "The CommonGround_entani optimization problem had no optimal solution.\n",
      "The CommonGround optimization problem had no optimal solution.\n",
      "The tCommonGround optimization problem had no optimal solution.\n"
     ]
    },
    {
     "name": "stdout",
     "output_type": "stream",
     "text": [
      "The CommonGround_entani optimization problem had no optimal solution.\n",
      "The CommonGround optimization problem had no optimal solution.\n",
      "The CommonGround_entani optimization problem had no optimal solution.\n",
      "The CommonGround_entani optimization problem had no optimal solution.\n",
      "The CommonGround_entani optimization problem had no optimal solution.\n",
      "The CommonGround optimization problem had no optimal solution.\n",
      "The tCommonGround optimization problem had no optimal solution.\n",
      "The tCommonGround optimization problem had no optimal solution.\n",
      "The CommonGround optimization problem had no optimal solution.\n",
      "The CommonGround optimization problem had no optimal solution.\n",
      "The tCommonGround optimization problem had no optimal solution.\n",
      "The tCommonGround optimization problem had no optimal solution.\n",
      "The CommonGround_entani optimization problem had no optimal solution.\n",
      "The CommonGround optimization problem had no optimal solution.\n",
      "The tCommonGround optimization problem had no optimal solution.\n",
      "The CommonGround_entani optimization problem had no optimal solution."
     ]
    },
    {
     "name": "stdout",
     "output_type": "stream",
     "text": [
      "\n",
      "The CommonGround_entani optimization problem had no optimal solution.\n",
      "The CommonGround_entani optimization problem had no optimal solution.\n",
      "The CommonGround_entani optimization problem had no optimal solution.\n",
      "The CommonGround optimization problem had no optimal solution.\n",
      "The CommonGround optimization problem had no optimal solution.\n",
      "The CommonGround optimization problem had no optimal solution.\n",
      "The CommonGround optimization problem had no optimal solution.\n"
     ]
    },
    {
     "name": "stdout",
     "output_type": "stream",
     "text": [
      "The tCommonGround optimization problem had no optimal solution.\n",
      "The tCommonGround optimization problem had no optimal solution.\n",
      "The tCommonGround optimization problem had no optimal solution.\n",
      "The CommonGround_entani optimization problem had no optimal solution.\n",
      "The tCommonGround optimization problem had no optimal solution.\n",
      "The CommonGround_entani optimization problem had no optimal solution."
     ]
    },
    {
     "name": "stdout",
     "output_type": "stream",
     "text": [
      "\n",
      "The CommonGround_entani optimization problem had no optimal solution.\n",
      "The CommonGround optimization problem had no optimal solution.\n",
      "The CommonGround optimization problem had no optimal solution.\n",
      "The CommonGround optimization problem had no optimal solution.\n",
      "The tCommonGround optimization problem had no optimal solution.\n",
      "The tCommonGround optimization problem had no optimal solution.\n",
      "The tCommonGround optimization problem had no optimal solution.\n",
      "The CommonGround_entani optimization problem had no optimal solution.\n",
      "The CommonGround optimization problem had no optimal solution.\n",
      "The tCommonGround optimization problem had no optimal solution.\n",
      "The CommonGround_entani optimization problem had no optimal solution.\n",
      "The CommonGround optimization problem had no optimal solution.\n",
      "The CommonGround_entani optimization problem had no optimal solution."
     ]
    },
    {
     "name": "stdout",
     "output_type": "stream",
     "text": [
      "\n",
      "The tCommonGround optimization problem had no optimal solution.\n",
      "The CommonGround_entani optimization problem had no optimal solution.\n",
      "The CommonGround optimization problem had no optimal solution.\n",
      "The CommonGround optimization problem had no optimal solution.\n",
      "The tCommonGround optimization problem had no optimal solution."
     ]
    },
    {
     "name": "stdout",
     "output_type": "stream",
     "text": [
      "\n",
      "The tCommonGround optimization problem had no optimal solution.\n",
      "The CommonGround_entani optimization problem had no optimal solution.\n",
      "The CommonGround optimization problem had no optimal solution.\n",
      "The CommonGround_entani optimization problem had no optimal solution.\n",
      "The tCommonGround optimization problem had no optimal solution.\n",
      "The CommonGround optimization problem had no optimal solution.\n",
      "The CommonGround_entani optimization problem had no optimal solution."
     ]
    },
    {
     "name": "stdout",
     "output_type": "stream",
     "text": [
      "\n",
      "The tCommonGround optimization problem had no optimal solution.\n",
      "The CommonGround_entani optimization problem had no optimal solution.\n",
      "The CommonGround optimization problem had no optimal solution.\n",
      "The CommonGround optimization problem had no optimal solution.\n",
      "The tCommonGround optimization problem had no optimal solution.\n",
      "The tCommonGround optimization problem had no optimal solution.\n"
     ]
    },
    {
     "name": "stdout",
     "output_type": "stream",
     "text": [
      "The CommonGround_entani optimization problem had no optimal solution.\n",
      "The CommonGround optimization problem had no optimal solution.\n",
      "The tCommonGround optimization problem had no optimal solution.\n",
      "The CommonGround_entani optimization problem had no optimal solution.\n",
      "The CommonGround optimization problem had no optimal solution.\n",
      "The tCommonGround optimization problem had no optimal solution.\n",
      "The CommonGround_entani optimization problem had no optimal solution.\n",
      "The CommonGround_entani optimization problem had no optimal solution.\n",
      "The CommonGround optimization problem had no optimal solution.\n",
      "The CommonGround optimization problem had no optimal solution.\n",
      "The tCommonGround optimization problem had no optimal solution.\n",
      "The tCommonGround optimization problem had no optimal solution."
     ]
    },
    {
     "name": "stdout",
     "output_type": "stream",
     "text": [
      "\n",
      "The CommonGround_entani optimization problem had no optimal solution.\n",
      "The CommonGround optimization problem had no optimal solution.\n",
      "The CommonGround_entani optimization problem had no optimal solution.\n",
      "The tCommonGround optimization problem had no optimal solution.\n",
      "The CommonGround optimization problem had no optimal solution.\n",
      "The tCommonGround optimization problem had no optimal solution.\n",
      "The CommonGround_entani optimization problem had no optimal solution."
     ]
    },
    {
     "name": "stdout",
     "output_type": "stream",
     "text": [
      "\n",
      "The CommonGround_entani optimization problem had no optimal solution.\n",
      "The CommonGround optimization problem had no optimal solution.\n",
      "The CommonGround optimization problem had no optimal solution.\n",
      "The tCommonGround optimization problem had no optimal solution.\n",
      "The tCommonGround optimization problem had no optimal solution.\n",
      "The CommonGround_entani optimization problem had no optimal solution.\n",
      "The CommonGround_entani optimization problem had no optimal solution.\n",
      "The CommonGround optimization problem had no optimal solution.\n",
      "The CommonGround optimization problem had no optimal solution.\n",
      "The tCommonGround optimization problem had no optimal solution.\n",
      "The tCommonGround optimization problem had no optimal solution.\n",
      "The CommonGround_entani optimization problem had no optimal solution."
     ]
    },
    {
     "name": "stdout",
     "output_type": "stream",
     "text": [
      "\n",
      "The CommonGround optimization problem had no optimal solution.\n",
      "The CommonGround_entani optimization problem had no optimal solution.\n",
      "The tCommonGround optimization problem had no optimal solution.\n",
      "The CommonGround optimization problem had no optimal solution.\n",
      "The tCommonGround optimization problem had no optimal solution.\n",
      "The CommonGround_entani optimization problem had no optimal solution.\n",
      "The CommonGround_entani optimization problem had no optimal solution.\n",
      "The CommonGround optimization problem had no optimal solution.\n",
      "The CommonGround optimization problem had no optimal solution.\n",
      "The tCommonGround optimization problem had no optimal solution.\n",
      "The tCommonGround optimization problem had no optimal solution.\n",
      "The CommonGround_entani optimization problem had no optimal solution."
     ]
    },
    {
     "name": "stdout",
     "output_type": "stream",
     "text": [
      "\n",
      "The CommonGround optimization problem had no optimal solution.\n",
      "The CommonGround_entani optimization problem had no optimal solution.\n",
      "The CommonGround optimization problem had no optimal solution.\n",
      "The tCommonGround optimization problem had no optimal solution.\n",
      "The tCommonGround optimization problem had no optimal solution.\n",
      "The CommonGround_entani optimization problem had no optimal solution.\n",
      "The CommonGround_entani optimization problem had no optimal solution.\n",
      "The CommonGround optimization problem had no optimal solution.\n",
      "The CommonGround optimization problem had no optimal solution.\n",
      "The tCommonGround optimization problem had no optimal solution.\n",
      "The tCommonGround optimization problem had no optimal solution.\n",
      "The CommonGround_entani optimization problem had no optimal solution.\n",
      "The CommonGround optimization problem had no optimal solution.\n",
      "The tCommonGround optimization problem had no optimal solution.\n"
     ]
    },
    {
     "name": "stdout",
     "output_type": "stream",
     "text": [
      "The CommonGround optimization problem had no optimal solution.\n",
      "The CommonGround_entani optimization problem had no optimal solution.\n",
      "The CommonGround_entani optimization problem had no optimal solution.\n",
      "The CommonGround optimization problem had no optimal solution.\n",
      "The tCommonGround optimization problem had no optimal solution.\n",
      "The CommonGround optimization problem had no optimal solution.\n",
      "The tCommonGround optimization problem had no optimal solution.\n",
      "The tCommonGround optimization problem had no optimal solution.\n",
      "The CommonGround_entani optimization problem had no optimal solution.\n",
      "The CommonGround optimization problem had no optimal solution.\n",
      "The tCommonGround optimization problem had no optimal solution.\n",
      "The CommonGround_entani optimization problem had no optimal solution."
     ]
    },
    {
     "name": "stdout",
     "output_type": "stream",
     "text": [
      "\n",
      "The CommonGround optimization problem had no optimal solution.\n"
     ]
    },
    {
     "name": "stdout",
     "output_type": "stream",
     "text": [
      "The tCommonGround optimization problem had no optimal solution.\n",
      "The CommonGround_entani optimization problem had no optimal solution.\n",
      "The CommonGround_entani optimization problem had no optimal solution.\n",
      "The CommonGround optimization problem had no optimal solution.\n",
      "The CommonGround optimization problem had no optimal solution.\n",
      "The tCommonGround optimization problem had no optimal solution.\n",
      "The tCommonGround optimization problem had no optimal solution.\n",
      "The CommonGround_entani optimization problem had no optimal solution.\n",
      "The CommonGround optimization problem had no optimal solution.\n",
      "The tCommonGround optimization problem had no optimal solution.\n",
      "The CommonGround_entani optimization problem had no optimal solution.\n",
      "The CommonGround optimization problem had no optimal solution.\n",
      "The CommonGround_entani optimization problem had no optimal solution."
     ]
    },
    {
     "name": "stdout",
     "output_type": "stream",
     "text": [
      "\n",
      "The tCommonGround optimization problem had no optimal solution.\n",
      "The CommonGround optimization problem had no optimal solution.\n",
      "The tCommonGround optimization problem had no optimal solution.\n",
      "The CommonGround_entani optimization problem had no optimal solution.\n",
      "The CommonGround optimization problem had no optimal solution.\n",
      "The tCommonGround optimization problem had no optimal solution.\n",
      "The CommonGround_entani optimization problem had no optimal solution.\n",
      "The CommonGround optimization problem had no optimal solution.\n",
      "The tCommonGround optimization problem had no optimal solution.\n",
      "The CommonGround_entani optimization problem had no optimal solution.\n",
      "The CommonGround_entani optimization problem had no optimal solution."
     ]
    },
    {
     "name": "stdout",
     "output_type": "stream",
     "text": [
      "\n",
      "The CommonGround optimization problem had no optimal solution.\n",
      "The CommonGround optimization problem had no optimal solution.\n"
     ]
    },
    {
     "name": "stdout",
     "output_type": "stream",
     "text": [
      "The tCommonGround optimization problem had no optimal solution.\n",
      "The tCommonGround optimization problem had no optimal solution.\n",
      "The CommonGround_entani optimization problem had no optimal solution.\n",
      "The CommonGround optimization problem had no optimal solution.\n",
      "The tCommonGround optimization problem had no optimal solution.\n",
      "The CommonGround_entani optimization problem had no optimal solution.\n",
      "The CommonGround_entani optimization problem had no optimal solution.\n",
      "The CommonGround optimization problem had no optimal solution.\n",
      "The CommonGround optimization problem had no optimal solution.\n",
      "The tCommonGround optimization problem had no optimal solution.\n",
      "The tCommonGround optimization problem had no optimal solution.\n",
      "The CommonGround_entani optimization problem had no optimal solution."
     ]
    },
    {
     "name": "stdout",
     "output_type": "stream",
     "text": [
      "\n",
      "The CommonGround optimization problem had no optimal solution.\n",
      "The tCommonGround optimization problem had no optimal solution.\n",
      "The CommonGround_entani optimization problem had no optimal solution.\n",
      "The CommonGround optimization problem had no optimal solution.\n",
      "The tCommonGround optimization problem had no optimal solution.\n",
      "The CommonGround_entani optimization problem had no optimal solution.\n",
      "The CommonGround_entani optimization problem had no optimal solution.\n",
      "The CommonGround optimization problem had no optimal solution.\n",
      "The CommonGround optimization problem had no optimal solution.\n",
      "The tCommonGround optimization problem had no optimal solution.\n",
      "The tCommonGround optimization problem had no optimal solution.\n",
      "The CommonGround_entani optimization problem had no optimal solution."
     ]
    },
    {
     "name": "stdout",
     "output_type": "stream",
     "text": [
      "\n"
     ]
    },
    {
     "name": "stdout",
     "output_type": "stream",
     "text": [
      "The CommonGround optimization problem had no optimal solution.\n",
      "The tCommonGround optimization problem had no optimal solution.\n",
      "The CommonGround_entani optimization problem had no optimal solution.\n",
      "The CommonGround optimization problem had no optimal solution.\n",
      "The tCommonGround optimization problem had no optimal solution.\n",
      "The CommonGround_entani optimization problem had no optimal solution.\n",
      "The CommonGround_entani optimization problem had no optimal solution.\n",
      "The CommonGround optimization problem had no optimal solution.\n",
      "The CommonGround optimization problem had no optimal solution.\n",
      "The tCommonGround optimization problem had no optimal solution.\n",
      "The tCommonGround optimization problem had no optimal solution.\n",
      "The CommonGround_entani optimization problem had no optimal solution."
     ]
    },
    {
     "name": "stdout",
     "output_type": "stream",
     "text": [
      "\n",
      "The CommonGround optimization problem had no optimal solution.\n"
     ]
    },
    {
     "name": "stdout",
     "output_type": "stream",
     "text": [
      "The tCommonGround optimization problem had no optimal solution.\n",
      "The CommonGround_entani optimization problem had no optimal solution.\n",
      "The CommonGround optimization problem had no optimal solution.\n",
      "The tCommonGround optimization problem had no optimal solution.\n",
      "The CommonGround_entani optimization problem had no optimal solution.\n",
      "The CommonGround_entani optimization problem had no optimal solution.\n",
      "The CommonGround optimization problem had no optimal solution.\n",
      "The CommonGround optimization problem had no optimal solution.\n",
      "The tCommonGround optimization problem had no optimal solution.\n",
      "The tCommonGround optimization problem had no optimal solution.\n",
      "The CommonGround_entani optimization problem had no optimal solution."
     ]
    },
    {
     "name": "stdout",
     "output_type": "stream",
     "text": [
      "\n",
      "The CommonGround optimization problem had no optimal solution.\n",
      "The tCommonGround optimization problem had no optimal solution.\n",
      "The CommonGround_entani optimization problem had no optimal solution.\n",
      "The CommonGround optimization problem had no optimal solution.\n",
      "The tCommonGround optimization problem had no optimal solution.\n",
      "The CommonGround_entani optimization problem had no optimal solution.\n",
      "The CommonGround_entani optimization problem had no optimal solution.\n",
      "The CommonGround optimization problem had no optimal solution.\n",
      "The CommonGround optimization problem had no optimal solution.\n",
      "The tCommonGround optimization problem had no optimal solution.\n",
      "The CommonGround_entani optimization problem had no optimal solution.\n",
      "The CommonGround optimization problem had no optimal solution.\n",
      "The tCommonGround optimization problem had no optimal solution.\n",
      "The CommonGround optimization problem had no optimal solution."
     ]
    },
    {
     "name": "stdout",
     "output_type": "stream",
     "text": [
      "\n",
      "The tCommonGround optimization problem had no optimal solution.\n"
     ]
    },
    {
     "name": "stdout",
     "output_type": "stream",
     "text": [
      "The tCommonGround optimization problem had no optimal solution.\n",
      "The CommonGround_entani optimization problem had no optimal solution.\n",
      "The CommonGround optimization problem had no optimal solution.\n",
      "The tCommonGround optimization problem had no optimal solution.\n",
      "The CommonGround_entani optimization problem had no optimal solution.\n",
      "The CommonGround_entani optimization problem had no optimal solution.\n",
      "The CommonGround optimization problem had no optimal solution.\n",
      "The CommonGround optimization problem had no optimal solution.\n",
      "The tCommonGround optimization problem had no optimal solution.\n",
      "The tCommonGround optimization problem had no optimal solution."
     ]
    },
    {
     "name": "stdout",
     "output_type": "stream",
     "text": [
      "\n",
      "The CommonGround_entani optimization problem had no optimal solution.\n",
      "The CommonGround optimization problem had no optimal solution.\n",
      "The tCommonGround optimization problem had no optimal solution.\n",
      "The CommonGround_entani optimization problem had no optimal solution.\n",
      "The CommonGround optimization problem had no optimal solution.\n",
      "The CommonGround_entani optimization problem had no optimal solution."
     ]
    },
    {
     "name": "stdout",
     "output_type": "stream",
     "text": [
      "\n",
      "The tCommonGround optimization problem had no optimal solution.\n",
      "The CommonGround optimization problem had no optimal solution.\n",
      "The tCommonGround optimization problem had no optimal solution.\n",
      "The CommonGround_entani optimization problem had no optimal solution.\n",
      "The CommonGround optimization problem had no optimal solution.\n",
      "The tCommonGround optimization problem had no optimal solution.\n",
      "The CommonGround_entani optimization problem had no optimal solution.\n",
      "The CommonGround optimization problem had no optimal solution.\n",
      "The CommonGround_entani optimization problem had no optimal solution."
     ]
    },
    {
     "name": "stdout",
     "output_type": "stream",
     "text": [
      "\n",
      "The tCommonGround optimization problem had no optimal solution.\n",
      "The CommonGround optimization problem had no optimal solution."
     ]
    },
    {
     "name": "stdout",
     "output_type": "stream",
     "text": [
      "\n",
      "The tCommonGround optimization problem had no optimal solution.\n",
      "The CommonGround_entani optimization problem had no optimal solution.\n",
      "The CommonGround optimization problem had no optimal solution.\n",
      "The tCommonGround optimization problem had no optimal solution.\n",
      "The CommonGround_entani optimization problem had no optimal solution.\n",
      "The CommonGround optimization problem had no optimal solution.\n",
      "The CommonGround_entani optimization problem had no optimal solution."
     ]
    },
    {
     "name": "stdout",
     "output_type": "stream",
     "text": [
      "\n",
      "The CommonGround_entani optimization problem had no optimal solution.\n",
      "The tCommonGround optimization problem had no optimal solution.\n",
      "The CommonGround optimization problem had no optimal solution.\n",
      "The tCommonGround optimization problem had no optimal solution.\n",
      "The CommonGround optimization problem had no optimal solution.\n",
      "The tCommonGround optimization problem had no optimal solution.\n",
      "The CommonGround_entani optimization problem had no optimal solution.\n",
      "The CommonGround optimization problem had no optimal solution.\n",
      "The tCommonGround optimization problem had no optimal solution.\n",
      "The CommonGround_entani optimization problem had no optimal solution.\n",
      "The CommonGround_entani optimization problem had no optimal solution.\n",
      "The CommonGround optimization problem had no optimal solution."
     ]
    },
    {
     "name": "stdout",
     "output_type": "stream",
     "text": [
      "\n",
      "The tCommonGround optimization problem had no optimal solution.\n",
      "The CommonGround optimization problem had no optimal solution.\n",
      "The tCommonGround optimization problem had no optimal solution.\n",
      "The CommonGround optimization problem had no optimal solution.\n",
      "The tCommonGround optimization problem had no optimal solution.\n",
      "The CommonGround_entani optimization problem had no optimal solution.\n",
      "The CommonGround optimization problem had no optimal solution.\n",
      "The CommonGround_entani optimization problem had no optimal solution."
     ]
    },
    {
     "name": "stdout",
     "output_type": "stream",
     "text": [
      "\n",
      "The tCommonGround optimization problem had no optimal solution.\n",
      "The CommonGround_entani optimization problem had no optimal solution.\n",
      "The CommonGround optimization problem had no optimal solution.\n",
      "The tCommonGround optimization problem had no optimal solution.\n",
      "The CommonGround optimization problem had no optimal solution.\n",
      "The CommonGround_entani optimization problem had no optimal solution.\n",
      "The tCommonGround optimization problem had no optimal solution.\n",
      "The CommonGround optimization problem had no optimal solution.\n",
      "The tCommonGround optimization problem had no optimal solution.\n",
      "The CommonGround_entani optimization problem had no optimal solution."
     ]
    },
    {
     "name": "stdout",
     "output_type": "stream",
     "text": [
      "\n",
      "The CommonGround_entani optimization problem had no optimal solution.\n",
      "The CommonGround optimization problem had no optimal solution.\n",
      "The CommonGround optimization problem had no optimal solution.\n",
      "The tCommonGround optimization problem had no optimal solution.\n",
      "The CommonGround_entani optimization problem had no optimal solution.\n",
      "The tCommonGround optimization problem had no optimal solution.\n",
      "The CommonGround optimization problem had no optimal solution.\n",
      "The tCommonGround optimization problem had no optimal solution.\n",
      "The CommonGround_entani optimization problem had no optimal solution.\n",
      "The CommonGround optimization problem had no optimal solution.\n",
      "The tCommonGround optimization problem had no optimal solution.\n",
      "The CommonGround_entani optimization problem had no optimal solution.\n",
      "The CommonGround optimization problem had no optimal solution.\n",
      "The CommonGround_entani optimization problem had no optimal solution."
     ]
    },
    {
     "name": "stdout",
     "output_type": "stream",
     "text": [
      "\n",
      "The CommonGround_entani optimization problem had no optimal solution.\n",
      "The CommonGround optimization problem had no optimal solution.\n",
      "The tCommonGround optimization problem had no optimal solution.\n",
      "The CommonGround optimization problem had no optimal solution.\n",
      "The CommonGround_entani optimization problem had no optimal solution.\n",
      "The tCommonGround optimization problem had no optimal solution.\n",
      "The CommonGround optimization problem had no optimal solution.\n",
      "The tCommonGround optimization problem had no optimal solution.\n"
     ]
    },
    {
     "name": "stdout",
     "output_type": "stream",
     "text": [
      "The tCommonGround optimization problem had no optimal solution.\n",
      "The CommonGround_entani optimization problem had no optimal solution.\n",
      "The CommonGround_entani optimization problem had no optimal solution.\n",
      "The CommonGround optimization problem had no optimal solution.\n",
      "The tCommonGround optimization problem had no optimal solution.\n",
      "The CommonGround optimization problem had no optimal solution.\n",
      "The tCommonGround optimization problem had no optimal solution.\n",
      "The CommonGround_entani optimization problem had no optimal solution.\n",
      "The CommonGround_entani optimization problem had no optimal solution."
     ]
    },
    {
     "name": "stdout",
     "output_type": "stream",
     "text": [
      "\n",
      "The CommonGround optimization problem had no optimal solution.\n",
      "The CommonGround optimization problem had no optimal solution.\n",
      "The CommonGround_entani optimization problem had no optimal solution.\n",
      "The tCommonGround optimization problem had no optimal solution.\n",
      "The tCommonGround optimization problem had no optimal solution.\n",
      "The CommonGround optimization problem had no optimal solution.\n",
      "The tCommonGround optimization problem had no optimal solution.\n",
      "The CommonGround_entani optimization problem had no optimal solution.\n",
      "The CommonGround_entani optimization problem had no optimal solution.\n",
      "The CommonGround optimization problem had no optimal solution.\n",
      "The CommonGround optimization problem had no optimal solution.\n",
      "The tCommonGround optimization problem had no optimal solution.\n",
      "The tCommonGround optimization problem had no optimal solution.\n",
      "The CommonGround_entani optimization problem had no optimal solution."
     ]
    },
    {
     "name": "stdout",
     "output_type": "stream",
     "text": [
      "\n",
      "The CommonGround optimization problem had no optimal solution.\n",
      "The CommonGround_entani optimization problem had no optimal solution.\n",
      "The CommonGround_entani optimization problem had no optimal solution.\n",
      "The CommonGround optimization problem had no optimal solution.\n",
      "The CommonGround optimization problem had no optimal solution.\n",
      "The tCommonGround optimization problem had no optimal solution.\n",
      "The tCommonGround optimization problem had no optimal solution.\n",
      "The CommonGround_entani optimization problem had no optimal solution.\n",
      "The CommonGround optimization problem had no optimal solution.\n",
      "The tCommonGround optimization problem had no optimal solution.\n",
      "The CommonGround_entani optimization problem had no optimal solution."
     ]
    },
    {
     "name": "stdout",
     "output_type": "stream",
     "text": [
      "\n",
      "The CommonGround optimization problem had no optimal solution.\n",
      "The tCommonGround optimization problem had no optimal solution.\n",
      "The CommonGround_entani optimization problem had no optimal solution.\n",
      "The CommonGround_entani optimization problem had no optimal solution.\n",
      "The CommonGround optimization problem had no optimal solution.\n",
      "The CommonGround optimization problem had no optimal solution.\n",
      "The tCommonGround optimization problem had no optimal solution.\n",
      "The CommonGround_entani optimization problem had no optimal solution.\n",
      "The tCommonGround optimization problem had no optimal solution.\n",
      "The CommonGround optimization problem had no optimal solution.\n",
      "The tCommonGround optimization problem had no optimal solution.\n",
      "The CommonGround_entani optimization problem had no optimal solution."
     ]
    },
    {
     "name": "stdout",
     "output_type": "stream",
     "text": [
      "\n"
     ]
    },
    {
     "name": "stdout",
     "output_type": "stream",
     "text": [
      "The CommonGround optimization problem had no optimal solution.\n",
      "The tCommonGround optimization problem had no optimal solution.\n",
      "The CommonGround_entani optimization problem had no optimal solution.\n",
      "The CommonGround optimization problem had no optimal solution.\n",
      "The CommonGround_entani optimization problem had no optimal solution.\n",
      "The CommonGround optimization problem had no optimal solution.\n",
      "The CommonGround_entani optimization problem had no optimal solution.\n",
      "The tCommonGround optimization problem had no optimal solution.\n",
      "The CommonGround optimization problem had no optimal solution.\n",
      "The tCommonGround optimization problem had no optimal solution.\n",
      "The tCommonGround optimization problem had no optimal solution.\n",
      "The CommonGround_entani optimization problem had no optimal solution."
     ]
    },
    {
     "name": "stdout",
     "output_type": "stream",
     "text": [
      "\n",
      "The CommonGround optimization problem had no optimal solution.\n",
      "The tCommonGround optimization problem had no optimal solution.\n"
     ]
    },
    {
     "name": "stdout",
     "output_type": "stream",
     "text": [
      "The CommonGround_entani optimization problem had no optimal solution.\n",
      "The CommonGround_entani optimization problem had no optimal solution.\n",
      "The CommonGround_entani optimization problem had no optimal solution.\n",
      "The CommonGround optimization problem had no optimal solution.\n",
      "The CommonGround optimization problem had no optimal solution.\n",
      "The tCommonGround optimization problem had no optimal solution.\n",
      "The CommonGround optimization problem had no optimal solution.\n",
      "The tCommonGround optimization problem had no optimal solution.\n",
      "The tCommonGround optimization problem had no optimal solution.\n",
      "The CommonGround_entani optimization problem had no optimal solution.\n"
     ]
    },
    {
     "name": "stdout",
     "output_type": "stream",
     "text": [
      "The CommonGround optimization problem had no optimal solution.\n",
      "The tCommonGround optimization problem had no optimal solution.\n",
      "The CommonGround_entani optimization problem had no optimal solution.\n",
      "The CommonGround_entani optimization problem had no optimal solution.\n",
      "The CommonGround_entani optimization problem had no optimal solution.\n",
      "The CommonGround optimization problem had no optimal solution.\n",
      "The CommonGround optimization problem had no optimal solution.\n",
      "The tCommonGround optimization problem had no optimal solution.\n",
      "The tCommonGround optimization problem had no optimal solution.\n",
      "The CommonGround optimization problem had no optimal solution.\n",
      "The tCommonGround optimization problem had no optimal solution.\n",
      "The CommonGround_entani optimization problem had no optimal solution."
     ]
    },
    {
     "name": "stdout",
     "output_type": "stream",
     "text": [
      "\n",
      "The CommonGround optimization problem had no optimal solution.\n",
      "The tCommonGround optimization problem had no optimal solution.\n"
     ]
    },
    {
     "name": "stdout",
     "output_type": "stream",
     "text": [
      "The CommonGround_entani optimization problem had no optimal solution.\n",
      "The CommonGround optimization problem had no optimal solution.\n",
      "The CommonGround_entani optimization problem had no optimal solution.\n",
      "The CommonGround_entani optimization problem had no optimal solution.\n",
      "The CommonGround optimization problem had no optimal solution.\n",
      "The tCommonGround optimization problem had no optimal solution.\n",
      "The CommonGround optimization problem had no optimal solution.\n",
      "The tCommonGround optimization problem had no optimal solution.\n",
      "The tCommonGround optimization problem had no optimal solution.\n",
      "The CommonGround_entani optimization problem had no optimal solution.\n",
      "The CommonGround optimization problem had no optimal solution.\n",
      "The tCommonGround optimization problem had no optimal solution.\n"
     ]
    },
    {
     "name": "stdout",
     "output_type": "stream",
     "text": [
      "The CommonGround_entani optimization problem had no optimal solution.\n",
      "The CommonGround optimization problem had no optimal solution.\n",
      "The CommonGround_entani optimization problem had no optimal solution.\n",
      "The tCommonGround optimization problem had no optimal solution.\n",
      "The CommonGround optimization problem had no optimal solution.\n",
      "The tCommonGround optimization problem had no optimal solution.\n",
      "The CommonGround_entani optimization problem had no optimal solution.\n",
      "The CommonGround optimization problem had no optimal solution.\n"
     ]
    },
    {
     "name": "stdout",
     "output_type": "stream",
     "text": [
      "The tCommonGround optimization problem had no optimal solution.\n",
      "The CommonGround_entani optimization problem had no optimal solution.\n",
      "The CommonGround optimization problem had no optimal solution.\n",
      "The tCommonGround optimization problem had no optimal solution.\n",
      "The CommonGround_entani optimization problem had no optimal solution.\n",
      "The CommonGround optimization problem had no optimal solution.\n",
      "The tCommonGround optimization problem had no optimal solution.\n",
      "The CommonGround optimization problem had no optimal solution.\n",
      "The CommonGround_entani optimization problem had no optimal solution."
     ]
    },
    {
     "name": "stdout",
     "output_type": "stream",
     "text": [
      "\n",
      "The tCommonGround optimization problem had no optimal solution.\n",
      "The CommonGround optimization problem had no optimal solution.\n",
      "The tCommonGround optimization problem had no optimal solution.\n"
     ]
    },
    {
     "name": "stdout",
     "output_type": "stream",
     "text": [
      "The CommonGround_entani optimization problem had no optimal solution.\n",
      "The CommonGround_entani optimization problem had no optimal solution.\n",
      "The CommonGround optimization problem had no optimal solution.\n",
      "The CommonGround_entani optimization problem had no optimal solution.\n",
      "The CommonGround optimization problem had no optimal solution.\n",
      "The tCommonGround optimization problem had no optimal solution.\n",
      "The tCommonGround optimization problem had no optimal solution.\n",
      "The CommonGround optimization problem had no optimal solution.\n",
      "The tCommonGround optimization problem had no optimal solution.\n",
      "The CommonGround_entani optimization problem had no optimal solution.\n",
      "The CommonGround optimization problem had no optimal solution.\n"
     ]
    },
    {
     "name": "stdout",
     "output_type": "stream",
     "text": [
      "The tCommonGround optimization problem had no optimal solution.\n",
      "The CommonGround_entani optimization problem had no optimal solution.\n",
      "The CommonGround_entani optimization problem had no optimal solution.\n",
      "The CommonGround optimization problem had no optimal solution.\n",
      "The CommonGround_entani optimization problem had no optimal solution.\n",
      "The CommonGround optimization problem had no optimal solution.\n",
      "The CommonGround optimization problem had no optimal solution.\n",
      "The tCommonGround optimization problem had no optimal solution.\n",
      "The tCommonGround optimization problem had no optimal solution.\n",
      "The tCommonGround optimization problem had no optimal solution.\n",
      "The CommonGround_entani optimization problem had no optimal solution."
     ]
    },
    {
     "name": "stdout",
     "output_type": "stream",
     "text": [
      "\n",
      "The CommonGround optimization problem had no optimal solution.\n"
     ]
    },
    {
     "name": "stdout",
     "output_type": "stream",
     "text": [
      "The CommonGround_entani optimization problem had no optimal solution.\n",
      "The CommonGround_entani optimization problem had no optimal solution.\n",
      "The CommonGround optimization problem had no optimal solution.\n",
      "The CommonGround optimization problem had no optimal solution.\n",
      "The CommonGround_entani optimization problem had no optimal solution.\n",
      "The tCommonGround optimization problem had no optimal solution.\n",
      "The CommonGround optimization problem had no optimal solution.\n",
      "The CommonGround_entani optimization problem had no optimal solution.\n",
      "The tCommonGround optimization problem had no optimal solution.\n",
      "The CommonGround optimization problem had no optimal solution.\n",
      "The tCommonGround optimization problem had no optimal solution.\n"
     ]
    },
    {
     "name": "stdout",
     "output_type": "stream",
     "text": [
      "The CommonGround_entani optimization problem had no optimal solution.\n",
      "The CommonGround optimization problem had no optimal solution.\n",
      "The CommonGround_entani optimization problem had no optimal solution.\n",
      "The tCommonGround optimization problem had no optimal solution.\n",
      "The CommonGround optimization problem had no optimal solution.\n",
      "The CommonGround_entani optimization problem had no optimal solution.\n",
      "The tCommonGround optimization problem had no optimal solution.\n",
      "The CommonGround optimization problem had no optimal solution.\n",
      "The tCommonGround optimization problem had no optimal solution.\n"
     ]
    },
    {
     "name": "stdout",
     "output_type": "stream",
     "text": [
      "The CommonGround optimization problem had no optimal solution.\n",
      "The tCommonGround optimization problem had no optimal solution.\n",
      "The CommonGround_entani optimization problem had no optimal solution.\n",
      "The CommonGround optimization problem had no optimal solution.\n",
      "The tCommonGround optimization problem had no optimal solution.\n"
     ]
    },
    {
     "name": "stdout",
     "output_type": "stream",
     "text": [
      "The CommonGround_entani optimization problem had no optimal solution.\n",
      "The CommonGround optimization problem had no optimal solution.\n",
      "The CommonGround optimization problem had no optimal solution.\n",
      "The tCommonGround optimization problem had no optimal solution.\n",
      "The tCommonGround optimization problem had no optimal solution.\n",
      "The CommonGround_entani optimization problem had no optimal solution.\n",
      "The CommonGround optimization problem had no optimal solution.\n",
      "The tCommonGround optimization problem had no optimal solution.\n",
      "The CommonGround_entani optimization problem had no optimal solution.\n",
      "The CommonGround_entani optimization problem had no optimal solution.\n",
      "The CommonGround optimization problem had no optimal solution.\n",
      "The tCommonGround optimization problem had no optimal solution.\n",
      "The CommonGround_entani optimization problem had no optimal solution.\n",
      "The CommonGround optimization problem had no optimal solution.\n",
      "The tCommonGround optimization problem had no optimal solution.\n",
      "The CommonGround optimization problem had no optimal solution.\n",
      "The tCommonGround optimization problem had no optimal solution.\n",
      "The CommonGround_entani optimization problem had no optimal solution.\n",
      "The CommonGround_entani optimization problem had no optimal solution.\n",
      "The CommonGround optimization problem had no optimal solution.\n",
      "The CommonGround optimization problem had no optimal solution.\n",
      "The tCommonGround optimization problem had no optimal solution.\n",
      "The tCommonGround optimization problem had no optimal solution.\n",
      "The CommonGround_entani optimization problem had no optimal solution.\n",
      "The CommonGround optimization problem had no optimal solution.\n",
      "The CommonGround_entani optimization problem had no optimal solution."
     ]
    },
    {
     "name": "stdout",
     "output_type": "stream",
     "text": [
      "\n"
     ]
    },
    {
     "name": "stdout",
     "output_type": "stream",
     "text": [
      "The CommonGround optimization problem had no optimal solution.\n",
      "The tCommonGround optimization problem had no optimal solution.\n",
      "The CommonGround_entani optimization problem had no optimal solution.\n",
      "The CommonGround_entani optimization problem had no optimal solution.\n",
      "The CommonGround optimization problem had no optimal solution.\n",
      "The CommonGround optimization problem had no optimal solution.\n",
      "The tCommonGround optimization problem had no optimal solution.\n",
      "The tCommonGround optimization problem had no optimal solution.\n",
      "The CommonGround_entani optimization problem had no optimal solution.\n",
      "The CommonGround optimization problem had no optimal solution.\n",
      "The CommonGround_entani optimization problem had no optimal solution."
     ]
    },
    {
     "name": "stdout",
     "output_type": "stream",
     "text": [
      "\n",
      "The CommonGround optimization problem had no optimal solution.\n",
      "The tCommonGround optimization problem had no optimal solution.\n",
      "The tCommonGround optimization problem had no optimal solution.\n"
     ]
    },
    {
     "name": "stdout",
     "output_type": "stream",
     "text": [
      "The CommonGround_entani optimization problem had no optimal solution.\n",
      "The CommonGround_entani optimization problem had no optimal solution.\n",
      "The CommonGround optimization problem had no optimal solution.\n",
      "The CommonGround optimization problem had no optimal solution.\n",
      "The tCommonGround optimization problem had no optimal solution.\n",
      "The tCommonGround optimization problem had no optimal solution.\n",
      "The CommonGround_entani optimization problem had no optimal solution.\n",
      "The CommonGround optimization problem had no optimal solution.\n",
      "The CommonGround optimization problem had no optimal solution.\n"
     ]
    },
    {
     "name": "stdout",
     "output_type": "stream",
     "text": [
      "The tCommonGround optimization problem had no optimal solution.\n",
      "The tCommonGround optimization problem had no optimal solution.\n",
      "The CommonGround_entani optimization problem had no optimal solution.\n",
      "The CommonGround optimization problem had no optimal solution.\n",
      "The CommonGround_entani optimization problem had no optimal solution.\n",
      "The tCommonGround optimization problem had no optimal solution.\n",
      "The CommonGround optimization problem had no optimal solution.\n",
      "The CommonGround_entani optimization problem had no optimal solution."
     ]
    },
    {
     "name": "stdout",
     "output_type": "stream",
     "text": [
      "\n",
      "The tCommonGround optimization problem had no optimal solution.\n",
      "The CommonGround optimization problem had no optimal solution.\n",
      "The CommonGround_entani optimization problem had no optimal solution.\n",
      "The tCommonGround optimization problem had no optimal solution.\n",
      "The CommonGround optimization problem had no optimal solution.\n",
      "The tCommonGround optimization problem had no optimal solution.\n",
      "The CommonGround_entani optimization problem had no optimal solution.\n",
      "The CommonGround optimization problem had no optimal solution.\n",
      "The tCommonGround optimization problem had no optimal solution.\n",
      "The CommonGround_entani optimization problem had no optimal solution.\n",
      "The CommonGround optimization problem had no optimal solution.\n",
      "The CommonGround_entani optimization problem had no optimal solution."
     ]
    },
    {
     "name": "stdout",
     "output_type": "stream",
     "text": [
      "\n",
      "The tCommonGround optimization problem had no optimal solution.\n",
      "The CommonGround_entani optimization problem had no optimal solution.\n",
      "The CommonGround optimization problem had no optimal solution.\n",
      "The CommonGround optimization problem had no optimal solution.\n",
      "The tCommonGround optimization problem had no optimal solution.\n",
      "The tCommonGround optimization problem had no optimal solution.\n",
      "The CommonGround_entani optimization problem had no optimal solution.\n",
      "The CommonGround optimization problem had no optimal solution.\n",
      "The tCommonGround optimization problem had no optimal solution.\n",
      "The CommonGround_entani optimization problem had no optimal solution."
     ]
    },
    {
     "name": "stdout",
     "output_type": "stream",
     "text": [
      "\n",
      "The CommonGround optimization problem had no optimal solution.\n",
      "The CommonGround_entani optimization problem had no optimal solution.\n",
      "The tCommonGround optimization problem had no optimal solution.\n",
      "The CommonGround optimization problem had no optimal solution.\n",
      "The CommonGround_entani optimization problem had no optimal solution.\n",
      "The tCommonGround optimization problem had no optimal solution.\n",
      "The CommonGround optimization problem had no optimal solution.\n",
      "The tCommonGround optimization problem had no optimal solution.\n",
      "The CommonGround_entani optimization problem had no optimal solution.\n",
      "The CommonGround optimization problem had no optimal solution.\n",
      "The tCommonGround optimization problem had no optimal solution.\n",
      "The CommonGround_entani optimization problem had no optimal solution."
     ]
    },
    {
     "name": "stdout",
     "output_type": "stream",
     "text": [
      "\n",
      "The CommonGround optimization problem had no optimal solution.\n",
      "The tCommonGround optimization problem had no optimal solution.\n",
      "The CommonGround_entani optimization problem had no optimal solution.\n",
      "The CommonGround optimization problem had no optimal solution.\n",
      "The CommonGround_entani optimization problem had no optimal solution.\n",
      "The tCommonGround optimization problem had no optimal solution.\n",
      "The CommonGround optimization problem had no optimal solution.\n",
      "The tCommonGround optimization problem had no optimal solution.\n",
      "The CommonGround_entani optimization problem had no optimal solution.\n",
      "The CommonGround optimization problem had no optimal solution.\n",
      "The tCommonGround optimization problem had no optimal solution.\n",
      "The CommonGround_entani optimization problem had no optimal solution.\n",
      "The CommonGround_entani optimization problem had no optimal solution."
     ]
    },
    {
     "name": "stdout",
     "output_type": "stream",
     "text": [
      "\n",
      "The CommonGround optimization problem had no optimal solution.\n"
     ]
    },
    {
     "name": "stdout",
     "output_type": "stream",
     "text": [
      "The CommonGround optimization problem had no optimal solution.\n",
      "The tCommonGround optimization problem had no optimal solution.\n"
     ]
    },
    {
     "name": "stdout",
     "output_type": "stream",
     "text": [
      "The CommonGround_entani optimization problem had no optimal solution.\n",
      "The CommonGround_entani optimization problem had no optimal solution.\n",
      "The CommonGround optimization problem had no optimal solution.\n",
      "The tCommonGround optimization problem had no optimal solution.\n",
      "The CommonGround optimization problem had no optimal solution.\n",
      "The CommonGround_entani optimization problem had no optimal solution.\n",
      "The CommonGround optimization problem had no optimal solution.\n",
      "The tCommonGround optimization problem had no optimal solution.\n",
      "The tCommonGround optimization problem had no optimal solution.\n"
     ]
    },
    {
     "name": "stdout",
     "output_type": "stream",
     "text": [
      "The tCommonGround optimization problem had no optimal solution.\n",
      "The CommonGround_entani optimization problem had no optimal solution.\n",
      "The CommonGround_entani optimization problem had no optimal solution."
     ]
    },
    {
     "name": "stdout",
     "output_type": "stream",
     "text": [
      "\n",
      "The CommonGround_entani optimization problem had no optimal solution.\n",
      "The CommonGround optimization problem had no optimal solution.\n",
      "The CommonGround optimization problem had no optimal solution.\n",
      "The CommonGround optimization problem had no optimal solution.\n",
      "The tCommonGround optimization problem had no optimal solution.\n",
      "The tCommonGround optimization problem had no optimal solution.\n",
      "The tCommonGround optimization problem had no optimal solution.\n",
      "The CommonGround_entani optimization problem had no optimal solution.\n",
      "The CommonGround optimization problem had no optimal solution.\n",
      "The tCommonGround optimization problem had no optimal solution.\n",
      "The CommonGround_entani optimization problem had no optimal solution."
     ]
    },
    {
     "name": "stdout",
     "output_type": "stream",
     "text": [
      "\n",
      "The CommonGround optimization problem had no optimal solution.\n",
      "The CommonGround_entani optimization problem had no optimal solution.\n",
      "The CommonGround_entani optimization problem had no optimal solution.\n",
      "The CommonGround optimization problem had no optimal solution.\n",
      "The tCommonGround optimization problem had no optimal solution.\n"
     ]
    },
    {
     "name": "stdout",
     "output_type": "stream",
     "text": [
      "The tCommonGround optimization problem had no optimal solution.\n",
      "The CommonGround optimization problem had no optimal solution.\n",
      "The tCommonGround optimization problem had no optimal solution.\n",
      "The CommonGround_entani optimization problem had no optimal solution.\n",
      "The CommonGround optimization problem had no optimal solution.\n"
     ]
    },
    {
     "name": "stdout",
     "output_type": "stream",
     "text": [
      "The tCommonGround optimization problem had no optimal solution.\n",
      "The CommonGround_entani optimization problem had no optimal solution.\n",
      "The CommonGround optimization problem had no optimal solution.\n"
     ]
    },
    {
     "name": "stdout",
     "output_type": "stream",
     "text": [
      "The CommonGround_entani optimization problem had no optimal solution.\n",
      "The CommonGround_entani optimization problem had no optimal solution.\n",
      "The CommonGround_entani optimization problem had no optimal solution."
     ]
    },
    {
     "name": "stdout",
     "output_type": "stream",
     "text": [
      "\n",
      "The CommonGround optimization problem had no optimal solution.\n",
      "The CommonGround optimization problem had no optimal solution.\n",
      "The CommonGround_entani optimization problem had no optimal solution.\n",
      "The CommonGround optimization problem had no optimal solution.\n",
      "The tCommonGround optimization problem had no optimal solution.\n",
      "The CommonGround optimization problem had no optimal solution.\n",
      "The tCommonGround optimization problem had no optimal solution.\n",
      "The tCommonGround optimization problem had no optimal solution.\n",
      "The CommonGround_entani optimization problem had no optimal solution."
     ]
    },
    {
     "name": "stdout",
     "output_type": "stream",
     "text": [
      "\n",
      "The CommonGround_entani optimization problem had no optimal solution.\n",
      "The CommonGround optimization problem had no optimal solution.\n",
      "The CommonGround optimization problem had no optimal solution.\n",
      "The CommonGround_entani optimization problem had no optimal solution.\n",
      "The tCommonGround optimization problem had no optimal solution.\n",
      "The tCommonGround optimization problem had no optimal solution.\n",
      "The CommonGround optimization problem had no optimal solution.\n",
      "The tCommonGround optimization problem had no optimal solution.\n",
      "The CommonGround_entani optimization problem had no optimal solution.\n",
      "The CommonGround optimization problem had no optimal solution.\n",
      "The CommonGround_entani optimization problem had no optimal solution.\n",
      "The CommonGround_entani optimization problem had no optimal solution."
     ]
    },
    {
     "name": "stdout",
     "output_type": "stream",
     "text": [
      "\n",
      "The tCommonGround optimization problem had no optimal solution.\n",
      "The CommonGround optimization problem had no optimal solution.\n",
      "The CommonGround optimization problem had no optimal solution.\n",
      "The CommonGround_entani optimization problem had no optimal solution.\n",
      "The tCommonGround optimization problem had no optimal solution.\n",
      "The CommonGround optimization problem had no optimal solution.\n",
      "The tCommonGround optimization problem had no optimal solution.\n",
      "The CommonGround_entani optimization problem had no optimal solution.\n",
      "The CommonGround_entani optimization problem had no optimal solution."
     ]
    },
    {
     "name": "stdout",
     "output_type": "stream",
     "text": [
      "\n",
      "The CommonGround_entani optimization problem had no optimal solution.\n",
      "The CommonGround optimization problem had no optimal solution.\n",
      "The CommonGround optimization problem had no optimal solution.\n",
      "The CommonGround optimization problem had no optimal solution.\n",
      "The tCommonGround optimization problem had no optimal solution.\n",
      "The tCommonGround optimization problem had no optimal solution.\n",
      "The tCommonGround optimization problem had no optimal solution.\n",
      "The CommonGround_entani optimization problem had no optimal solution.\n",
      "The CommonGround optimization problem had no optimal solution.\n",
      "The tCommonGround optimization problem had no optimal solution.\n",
      "The CommonGround_entani optimization problem had no optimal solution.\n",
      "The CommonGround_entani optimization problem had no optimal solution.\n",
      "The CommonGround optimization problem had no optimal solution.\n",
      "The CommonGround optimization problem had no optimal solution.\n",
      "The tCommonGround optimization problem had no optimal solution.\n",
      "The tCommonGround optimization problem had no optimal solution.\n",
      "The CommonGround_entani optimization problem had no optimal solution.\n",
      "The CommonGround optimization problem had no optimal solution.\n",
      "The tCommonGround optimization problem had no optimal solution.\n",
      "The CommonGround_entani optimization problem had no optimal solution."
     ]
    },
    {
     "name": "stdout",
     "output_type": "stream",
     "text": [
      "\n",
      "The CommonGround_entani optimization problem had no optimal solution.\n",
      "The CommonGround_entani optimization problem had no optimal solution.\n",
      "The CommonGround optimization problem had no optimal solution."
     ]
    },
    {
     "name": "stdout",
     "output_type": "stream",
     "text": [
      "\n",
      "The CommonGround optimization problem had no optimal solution.\n",
      "The tCommonGround optimization problem had no optimal solution.\n",
      "The CommonGround optimization problem had no optimal solution.\n",
      "The tCommonGround optimization problem had no optimal solution.\n",
      "The tCommonGround optimization problem had no optimal solution.\n",
      "The CommonGround_entani optimization problem had no optimal solution.\n",
      "The CommonGround optimization problem had no optimal solution.\n",
      "The tCommonGround optimization problem had no optimal solution.\n",
      "The CommonGround_entani optimization problem had no optimal solution."
     ]
    },
    {
     "name": "stdout",
     "output_type": "stream",
     "text": [
      "\n"
     ]
    },
    {
     "name": "stdout",
     "output_type": "stream",
     "text": [
      "The CommonGround_entani optimization problem had no optimal solution.\n",
      "The CommonGround_entani optimization problem had no optimal solution.\n",
      "The CommonGround optimization problem had no optimal solution.\n",
      "The CommonGround optimization problem had no optimal solution.\n",
      "The tCommonGround optimization problem had no optimal solution.\n",
      "The tCommonGround optimization problem had no optimal solution.\n",
      "The CommonGround optimization problem had no optimal solution.\n",
      "The CommonGround_entani optimization problem had no optimal solution.\n",
      "The tCommonGround optimization problem had no optimal solution.\n",
      "The CommonGround optimization problem had no optimal solution.\n",
      "The tCommonGround optimization problem had no optimal solution.\n",
      "The CommonGround_entani optimization problem had no optimal solution.\n",
      "The CommonGround_entani optimization problem had no optimal solution.\n",
      "The CommonGround optimization problem had no optimal solution.\n",
      "The CommonGround_entani optimization problem had no optimal solution.\n",
      "The tCommonGround optimization problem had no optimal solution.\n",
      "The CommonGround optimization problem had no optimal solution.\n",
      "The tCommonGround optimization problem had no optimal solution.\n",
      "The CommonGround optimization problem had no optimal solution.\n",
      "The CommonGround_entani optimization problem had no optimal solution."
     ]
    },
    {
     "name": "stdout",
     "output_type": "stream",
     "text": [
      "\n",
      "The CommonGround optimization problem had no optimal solution.\n",
      "The CommonGround_entani optimization problem had no optimal solution.\n",
      "The tCommonGround optimization problem had no optimal solution.\n",
      "The CommonGround_entani optimization problem had no optimal solution.\n",
      "The CommonGround optimization problem had no optimal solution.\n",
      "The tCommonGround optimization problem had no optimal solution.\n",
      "The CommonGround optimization problem had no optimal solution.\n",
      "The tCommonGround optimization problem had no optimal solution.\n",
      "The CommonGround_entani optimization problem had no optimal solution.\n",
      "The CommonGround_entani optimization problem had no optimal solution.\n",
      "The CommonGround optimization problem had no optimal solution.\n",
      "The CommonGround_entani optimization problem had no optimal solution."
     ]
    },
    {
     "name": "stdout",
     "output_type": "stream",
     "text": [
      "\n",
      "The CommonGround optimization problem had no optimal solution.\n",
      "The tCommonGround optimization problem had no optimal solution.\n",
      "The CommonGround optimization problem had no optimal solution.\n",
      "The tCommonGround optimization problem had no optimal solution.\n",
      "The tCommonGround optimization problem had no optimal solution.\n",
      "The CommonGround_entani optimization problem had no optimal solution.\n",
      "The CommonGround optimization problem had no optimal solution.\n",
      "The tCommonGround optimization problem had no optimal solution.\n",
      "The CommonGround_entani optimization problem had no optimal solution.\n",
      "The CommonGround_entani optimization problem had no optimal solution."
     ]
    },
    {
     "name": "stdout",
     "output_type": "stream",
     "text": [
      "\n"
     ]
    },
    {
     "name": "stdout",
     "output_type": "stream",
     "text": [
      "The CommonGround optimization problem had no optimal solution.\n",
      "The tCommonGround optimization problem had no optimal solution.\n",
      "The CommonGround_entani optimization problem had no optimal solution.\n",
      "The CommonGround optimization problem had no optimal solution.\n",
      "The tCommonGround optimization problem had no optimal solution.\n",
      "The CommonGround_entani optimization problem had no optimal solution.\n",
      "The CommonGround_entani optimization problem had no optimal solution.\n",
      "The CommonGround_entani optimization problem had no optimal solution.\n",
      "The CommonGround optimization problem had no optimal solution.\n",
      "The CommonGround optimization problem had no optimal solution.\n",
      "The CommonGround optimization problem had no optimal solution.\n",
      "The tCommonGround optimization problem had no optimal solution.\n",
      "The tCommonGround optimization problem had no optimal solution.\n",
      "The tCommonGround optimization problem had no optimal solution."
     ]
    },
    {
     "name": "stdout",
     "output_type": "stream",
     "text": [
      "\n",
      "The CommonGround_entani optimization problem had no optimal solution.\n",
      "The CommonGround optimization problem had no optimal solution.\n",
      "The tCommonGround optimization problem had no optimal solution.\n",
      "The CommonGround_entani optimization problem had no optimal solution.\n",
      "The CommonGround_entani optimization problem had no optimal solution.\n",
      "The CommonGround optimization problem had no optimal solution.\n",
      "The CommonGround_entani optimization problem had no optimal solution."
     ]
    },
    {
     "name": "stdout",
     "output_type": "stream",
     "text": [
      "\n",
      "The CommonGround optimization problem had no optimal solution.\n",
      "The tCommonGround optimization problem had no optimal solution.\n",
      "The tCommonGround optimization problem had no optimal solution.\n",
      "The CommonGround optimization problem had no optimal solution.\n",
      "The tCommonGround optimization problem had no optimal solution.\n"
     ]
    },
    {
     "name": "stdout",
     "output_type": "stream",
     "text": [
      "The CommonGround_entani optimization problem had no optimal solution.\n",
      "The CommonGround optimization problem had no optimal solution.\n",
      "The tCommonGround optimization problem had no optimal solution.\n",
      "The CommonGround_entani optimization problem had no optimal solution.\n",
      "The CommonGround_entani optimization problem had no optimal solution.\n",
      "The CommonGround optimization problem had no optimal solution.\n",
      "The CommonGround optimization problem had no optimal solution.\n",
      "The tCommonGround optimization problem had no optimal solution.\n",
      "The CommonGround_entani optimization problem had no optimal solution.\n",
      "The tCommonGround optimization problem had no optimal solution.\n",
      "The CommonGround optimization problem had no optimal solution.\n",
      "The tCommonGround optimization problem had no optimal solution.\n"
     ]
    },
    {
     "name": "stdout",
     "output_type": "stream",
     "text": [
      "The CommonGround_entani optimization problem had no optimal solution.\n",
      "The CommonGround optimization problem had no optimal solution.\n",
      "The CommonGround_entani optimization problem had no optimal solution.\n",
      "The tCommonGround optimization problem had no optimal solution.\n",
      "The CommonGround optimization problem had no optimal solution.\n",
      "The tCommonGround optimization problem had no optimal solution.\n",
      "The CommonGround_entani optimization problem had no optimal solution.\n",
      "The CommonGround optimization problem had no optimal solution.\n",
      "The CommonGround_entani optimization problem had no optimal solution.\n",
      "The CommonGround optimization problem had no optimal solution.\n",
      "The tCommonGround optimization problem had no optimal solution.\n",
      "The tCommonGround optimization problem had no optimal solution.\n"
     ]
    },
    {
     "name": "stdout",
     "output_type": "stream",
     "text": [
      "The CommonGround_entani optimization problem had no optimal solution.\n",
      "The CommonGround_entani optimization problem had no optimal solution.\n",
      "The CommonGround optimization problem had no optimal solution.\n",
      "The CommonGround optimization problem had no optimal solution.\n",
      "The tCommonGround optimization problem had no optimal solution.\n",
      "The CommonGround_entani optimization problem had no optimal solution.\n",
      "The CommonGround optimization problem had no optimal solution.\n",
      "The tCommonGround optimization problem had no optimal solution.\n",
      "The CommonGround_entani optimization problem had no optimal solution.\n",
      "The CommonGround optimization problem had no optimal solution.\n",
      "The tCommonGround optimization problem had no optimal solution.\n",
      "The CommonGround_entani optimization problem had no optimal solution.\n",
      "The CommonGround_entani optimization problem had no optimal solution.\n",
      "The CommonGround optimization problem had no optimal solution.\n",
      "The CommonGround optimization problem had no optimal solution.\n",
      "The tCommonGround optimization problem had no optimal solution.\n",
      "The CommonGround_entani optimization problem had no optimal solution."
     ]
    },
    {
     "name": "stdout",
     "output_type": "stream",
     "text": [
      "\n",
      "The tCommonGround optimization problem had no optimal solution.\n",
      "The CommonGround optimization problem had no optimal solution."
     ]
    },
    {
     "name": "stdout",
     "output_type": "stream",
     "text": [
      "\n",
      "The tCommonGround optimization problem had no optimal solution.\n"
     ]
    },
    {
     "name": "stdout",
     "output_type": "stream",
     "text": [
      "The CommonGround_entani optimization problem had no optimal solution.\n",
      "The CommonGround optimization problem had no optimal solution.\n",
      "The CommonGround_entani optimization problem had no optimal solution.\n",
      "The tCommonGround optimization problem had no optimal solution.\n",
      "The CommonGround optimization problem had no optimal solution.\n",
      "The tCommonGround optimization problem had no optimal solution.\n",
      "The CommonGround_entani optimization problem had no optimal solution.\n",
      "The CommonGround optimization problem had no optimal solution.\n",
      "The tCommonGround optimization problem had no optimal solution.\n",
      "The CommonGround_entani optimization problem had no optimal solution.\n",
      "The CommonGround optimization problem had no optimal solution.\n"
     ]
    },
    {
     "name": "stdout",
     "output_type": "stream",
     "text": [
      "The CommonGround_entani optimization problem had no optimal solution.\n",
      "The CommonGround optimization problem had no optimal solution.\n",
      "The tCommonGround optimization problem had no optimal solution.\n",
      "The CommonGround_entani optimization problem had no optimal solution.\n",
      "The CommonGround optimization problem had no optimal solution.\n",
      "The CommonGround_entani optimization problem had no optimal solution.\n",
      "The tCommonGround optimization problem had no optimal solution.\n",
      "The CommonGround optimization problem had no optimal solution.\n",
      "The tCommonGround optimization problem had no optimal solution.\n",
      "The CommonGround_entani optimization problem had no optimal solution.\n",
      "The CommonGround optimization problem had no optimal solution.\n",
      "The tCommonGround optimization problem had no optimal solution.\n"
     ]
    },
    {
     "name": "stdout",
     "output_type": "stream",
     "text": [
      "The CommonGround_entani optimization problem had no optimal solution.\n",
      "The CommonGround optimization problem had no optimal solution.\n",
      "The tCommonGround optimization problem had no optimal solution.\n",
      "The CommonGround_entani optimization problem had no optimal solution.\n",
      "The CommonGround_entani optimization problem had no optimal solution.\n",
      "The CommonGround optimization problem had no optimal solution.\n",
      "The CommonGround optimization problem had no optimal solution.\n",
      "The tCommonGround optimization problem had no optimal solution.\n",
      "The tCommonGround optimization problem had no optimal solution.\n",
      "The CommonGround_entani optimization problem had no optimal solution.\n",
      "The CommonGround optimization problem had no optimal solution.\n",
      "The tCommonGround optimization problem had no optimal solution.\n"
     ]
    },
    {
     "name": "stdout",
     "output_type": "stream",
     "text": [
      "The CommonGround_entani optimization problem had no optimal solution.\n",
      "The CommonGround optimization problem had no optimal solution.\n",
      "The tCommonGround optimization problem had no optimal solution.\n",
      "The CommonGround_entani optimization problem had no optimal solution.\n",
      "The CommonGround_entani optimization problem had no optimal solution.\n",
      "The CommonGround optimization problem had no optimal solution.\n",
      "The CommonGround optimization problem had no optimal solution.\n",
      "The tCommonGround optimization problem had no optimal solution.\n",
      "The tCommonGround optimization problem had no optimal solution.\n",
      "The CommonGround_entani optimization problem had no optimal solution.\n",
      "The CommonGround optimization problem had no optimal solution.\n",
      "The tCommonGround optimization problem had no optimal solution.\n",
      "The CommonGround_entani optimization problem had no optimal solution.\n",
      "The CommonGround optimization problem had no optimal solution.\n",
      "The tCommonGround optimization problem had no optimal solution.\n",
      "The CommonGround_entani optimization problem had no optimal solution.\n",
      "The CommonGround_entani optimization problem had no optimal solution.\n",
      "The CommonGround optimization problem had no optimal solution.\n",
      "The CommonGround optimization problem had no optimal solution.\n",
      "The tCommonGround optimization problem had no optimal solution.\n",
      "The CommonGround_entani optimization problem had no optimal solution."
     ]
    },
    {
     "name": "stdout",
     "output_type": "stream",
     "text": [
      "\n",
      "The CommonGround optimization problem had no optimal solution.\n",
      "The tCommonGround optimization problem had no optimal solution.\n"
     ]
    },
    {
     "name": "stdout",
     "output_type": "stream",
     "text": [
      "The CommonGround_entani optimization problem had no optimal solution.\n",
      "The CommonGround optimization problem had no optimal solution.\n",
      "The CommonGround_entani optimization problem had no optimal solution.\n",
      "The CommonGround optimization problem had no optimal solution.\n",
      "The tCommonGround optimization problem had no optimal solution.\n",
      "The CommonGround_entani optimization problem had no optimal solution.\n",
      "The tCommonGround optimization problem had no optimal solution.\n",
      "The CommonGround optimization problem had no optimal solution.\n",
      "The CommonGround_entani optimization problem had no optimal solution.\n",
      "The CommonGround optimization problem had no optimal solution.\n",
      "The tCommonGround optimization problem had no optimal solution.\n"
     ]
    },
    {
     "name": "stdout",
     "output_type": "stream",
     "text": [
      "The CommonGround_entani optimization problem had no optimal solution.\n",
      "The CommonGround optimization problem had no optimal solution.\n",
      "The CommonGround_entani optimization problem had no optimal solution.\n",
      "The tCommonGround optimization problem had no optimal solution.\n",
      "The CommonGround optimization problem had no optimal solution.\n",
      "The tCommonGround optimization problem had no optimal solution.\n",
      "The CommonGround_entani optimization problem had no optimal solution.\n"
     ]
    },
    {
     "name": "stdout",
     "output_type": "stream",
     "text": [
      "The CommonGround optimization problem had no optimal solution.\n",
      "The tCommonGround optimization problem had no optimal solution.\n",
      "The CommonGround_entani optimization problem had no optimal solution.\n",
      "The CommonGround optimization problem had no optimal solution.\n",
      "The CommonGround_entani optimization problem had no optimal solution.\n",
      "The tCommonGround optimization problem had no optimal solution.\n",
      "The CommonGround optimization problem had no optimal solution.\n",
      "The tCommonGround optimization problem had no optimal solution.\n",
      "The CommonGround_entani optimization problem had no optimal solution.\n",
      "The CommonGround optimization problem had no optimal solution.\n",
      "The tCommonGround optimization problem had no optimal solution.\n",
      "The CommonGround_entani optimization problem had no optimal solution."
     ]
    },
    {
     "name": "stdout",
     "output_type": "stream",
     "text": [
      "\n"
     ]
    },
    {
     "name": "stdout",
     "output_type": "stream",
     "text": [
      "The CommonGround optimization problem had no optimal solution.\n",
      "The tCommonGround optimization problem had no optimal solution.\n",
      "The CommonGround_entani optimization problem had no optimal solution.\n",
      "The CommonGround optimization problem had no optimal solution.\n",
      "The CommonGround_entani optimization problem had no optimal solution.\n",
      "The tCommonGround optimization problem had no optimal solution.\n",
      "The CommonGround optimization problem had no optimal solution.\n",
      "The tCommonGround optimization problem had no optimal solution.\n",
      "The CommonGround_entani optimization problem had no optimal solution."
     ]
    },
    {
     "name": "stdout",
     "output_type": "stream",
     "text": [
      "\n",
      "The CommonGround optimization problem had no optimal solution.\n",
      "The CommonGround_entani optimization problem had no optimal solution.\n",
      "The tCommonGround optimization problem had no optimal solution.\n"
     ]
    },
    {
     "name": "stdout",
     "output_type": "stream",
     "text": [
      "The CommonGround_entani optimization problem had no optimal solution.\n",
      "The CommonGround optimization problem had no optimal solution.\n",
      "The tCommonGround optimization problem had no optimal solution.\n",
      "The CommonGround_entani optimization problem had no optimal solution.\n",
      "The CommonGround_entani optimization problem had no optimal solution.\n",
      "The CommonGround optimization problem had no optimal solution.\n",
      "The CommonGround optimization problem had no optimal solution.\n",
      "The CommonGround optimization problem had no optimal solution.\n",
      "The tCommonGround optimization problem had no optimal solution.\n",
      "The tCommonGround optimization problem had no optimal solution.\n",
      "The tCommonGround optimization problem had no optimal solution.\n",
      "The CommonGround_entani optimization problem had no optimal solution.\n",
      "The CommonGround optimization problem had no optimal solution.\n",
      "The tCommonGround optimization problem had no optimal solution.\n",
      "The CommonGround_entani optimization problem had no optimal solution.\n",
      "The CommonGround_entani optimization problem had no optimal solution.\n",
      "The CommonGround optimization problem had no optimal solution.\n",
      "The CommonGround_entani optimization problem had no optimal solution."
     ]
    },
    {
     "name": "stdout",
     "output_type": "stream",
     "text": [
      "\n"
     ]
    },
    {
     "name": "stdout",
     "output_type": "stream",
     "text": [
      "The CommonGround optimization problem had no optimal solution.\n",
      "The tCommonGround optimization problem had no optimal solution.\n",
      "The CommonGround optimization problem had no optimal solution.\n",
      "The tCommonGround optimization problem had no optimal solution.\n",
      "The tCommonGround optimization problem had no optimal solution.\n",
      "The CommonGround_entani optimization problem had no optimal solution.\n",
      "The CommonGround optimization problem had no optimal solution.\n",
      "The tCommonGround optimization problem had no optimal solution.\n",
      "The CommonGround_entani optimization problem had no optimal solution.\n",
      "The CommonGround_entani optimization problem had no optimal solution.\n",
      "The CommonGround_entani optimization problem had no optimal solution."
     ]
    },
    {
     "name": "stdout",
     "output_type": "stream",
     "text": [
      "\n",
      "The CommonGround optimization problem had no optimal solution.\n",
      "The CommonGround optimization problem had no optimal solution.\n",
      "The CommonGround optimization problem had no optimal solution.\n",
      "The tCommonGround optimization problem had no optimal solution.\n",
      "The tCommonGround optimization problem had no optimal solution.\n",
      "The tCommonGround optimization problem had no optimal solution."
     ]
    },
    {
     "name": "stdout",
     "output_type": "stream",
     "text": [
      "\n",
      "The CommonGround_entani optimization problem had no optimal solution.\n",
      "The CommonGround optimization problem had no optimal solution.\n",
      "The tCommonGround optimization problem had no optimal solution.\n",
      "The CommonGround_entani optimization problem had no optimal solution."
     ]
    },
    {
     "name": "stdout",
     "output_type": "stream",
     "text": [
      "\n",
      "The CommonGround_entani optimization problem had no optimal solution.\n",
      "The CommonGround optimization problem had no optimal solution.\n",
      "The CommonGround_entani optimization problem had no optimal solution.\n",
      "The CommonGround optimization problem had no optimal solution.\n",
      "The tCommonGround optimization problem had no optimal solution."
     ]
    },
    {
     "name": "stdout",
     "output_type": "stream",
     "text": [
      "\n",
      "The CommonGround optimization problem had no optimal solution.\n",
      "The tCommonGround optimization problem had no optimal solution.\n",
      "The CommonGround_entani optimization problem had no optimal solution.\n",
      "The CommonGround_entani optimization problem had no optimal solution.\n",
      "The CommonGround optimization problem had no optimal solution.\n",
      "The CommonGround optimization problem had no optimal solution.\n",
      "The tCommonGround optimization problem had no optimal solution.\n",
      "The tCommonGround optimization problem had no optimal solution.\n",
      "The CommonGround_entani optimization problem had no optimal solution."
     ]
    },
    {
     "name": "stdout",
     "output_type": "stream",
     "text": [
      "\n"
     ]
    },
    {
     "name": "stdout",
     "output_type": "stream",
     "text": [
      "The CommonGround optimization problem had no optimal solution.\n",
      "The CommonGround_entani optimization problem had no optimal solution.\n",
      "The tCommonGround optimization problem had no optimal solution.\n",
      "The CommonGround optimization problem had no optimal solution.\n",
      "The tCommonGround optimization problem had no optimal solution.\n",
      "The CommonGround_entani optimization problem had no optimal solution.\n",
      "The CommonGround optimization problem had no optimal solution.\n",
      "The CommonGround_entani optimization problem had no optimal solution.\n",
      "The tCommonGround optimization problem had no optimal solution.\n",
      "The CommonGround optimization problem had no optimal solution.\n",
      "The tCommonGround optimization problem had no optimal solution.\n",
      "The CommonGround_entani optimization problem had no optimal solution."
     ]
    },
    {
     "name": "stdout",
     "output_type": "stream",
     "text": [
      "\n",
      "The CommonGround_entani optimization problem had no optimal solution.\n",
      "The CommonGround optimization problem had no optimal solution.\n",
      "The tCommonGround optimization problem had no optimal solution.\n",
      "The CommonGround optimization problem had no optimal solution.\n",
      "The tCommonGround optimization problem had no optimal solution.\n",
      "The CommonGround_entani optimization problem had no optimal solution.\n",
      "The CommonGround optimization problem had no optimal solution.\n",
      "The tCommonGround optimization problem had no optimal solution.\n",
      "The CommonGround_entani optimization problem had no optimal solution.\n",
      "The CommonGround optimization problem had no optimal solution.\n",
      "The CommonGround_entani optimization problem had no optimal solution."
     ]
    },
    {
     "name": "stdout",
     "output_type": "stream",
     "text": [
      "\n",
      "The tCommonGround optimization problem had no optimal solution.\n",
      "The CommonGround optimization problem had no optimal solution.\n"
     ]
    },
    {
     "name": "stdout",
     "output_type": "stream",
     "text": [
      "The CommonGround_entani optimization problem had no optimal solution.\n",
      "The tCommonGround optimization problem had no optimal solution.\n",
      "The CommonGround optimization problem had no optimal solution.\n",
      "The tCommonGround optimization problem had no optimal solution.\n",
      "The CommonGround_entani optimization problem had no optimal solution.\n",
      "The CommonGround optimization problem had no optimal solution.\n",
      "The CommonGround_entani optimization problem had no optimal solution.\n",
      "The CommonGround optimization problem had no optimal solution.\n",
      "The CommonGround_entani optimization problem had no optimal solution."
     ]
    },
    {
     "name": "stdout",
     "output_type": "stream",
     "text": [
      "\n",
      "The CommonGround_entani optimization problem had no optimal solution.\n",
      "The tCommonGround optimization problem had no optimal solution.\n",
      "The CommonGround optimization problem had no optimal solution."
     ]
    },
    {
     "name": "stdout",
     "output_type": "stream",
     "text": [
      "\n",
      "The CommonGround optimization problem had no optimal solution.\n",
      "The tCommonGround optimization problem had no optimal solution.\n",
      "The tCommonGround optimization problem had no optimal solution.\n",
      "The CommonGround_entani optimization problem had no optimal solution.\n",
      "The CommonGround optimization problem had no optimal solution.\n",
      "The tCommonGround optimization problem had no optimal solution.\n",
      "The CommonGround_entani optimization problem had no optimal solution.\n",
      "The CommonGround_entani optimization problem had no optimal solution."
     ]
    },
    {
     "name": "stdout",
     "output_type": "stream",
     "text": [
      "\n",
      "The CommonGround_entani optimization problem had no optimal solution.\n",
      "The CommonGround optimization problem had no optimal solution.\n",
      "The CommonGround optimization problem had no optimal solution.\n",
      "The tCommonGround optimization problem had no optimal solution.\n",
      "The CommonGround optimization problem had no optimal solution."
     ]
    },
    {
     "name": "stdout",
     "output_type": "stream",
     "text": [
      "\n",
      "The tCommonGround optimization problem had no optimal solution.\n",
      "The tCommonGround optimization problem had no optimal solution.\n",
      "The CommonGround_entani optimization problem had no optimal solution.\n",
      "The CommonGround optimization problem had no optimal solution.\n",
      "The tCommonGround optimization problem had no optimal solution.\n",
      "The CommonGround_entani optimization problem had no optimal solution.\n",
      "The CommonGround optimization problem had no optimal solution.\n",
      "The tCommonGround optimization problem had no optimal solution.\n",
      "The CommonGround_entani optimization problem had no optimal solution.\n",
      "The CommonGround optimization problem had no optimal solution.\n",
      "The tCommonGround optimization problem had no optimal solution.\n",
      "The CommonGround_entani optimization problem had no optimal solution.\n",
      "The CommonGround optimization problem had no optimal solution.\n",
      "The tCommonGround optimization problem had no optimal solution.\n",
      "The CommonGround_entani optimization problem had no optimal solution.\n",
      "The CommonGround optimization problem had no optimal solution.\n",
      "The CommonGround optimization problem had no optimal solution."
     ]
    },
    {
     "name": "stdout",
     "output_type": "stream",
     "text": [
      "\n",
      "The CommonGround_entani optimization problem had no optimal solution.\n",
      "The tCommonGround optimization problem had no optimal solution.\n",
      "The CommonGround optimization problem had no optimal solution.\n",
      "The tCommonGround optimization problem had no optimal solution.\n",
      "The CommonGround_entani optimization problem had no optimal solution.\n",
      "The CommonGround optimization problem had no optimal solution.\n",
      "The tCommonGround optimization problem had no optimal solution.\n",
      "The CommonGround_entani optimization problem had no optimal solution.\n"
     ]
    },
    {
     "name": "stdout",
     "output_type": "stream",
     "text": [
      "The CommonGround_entani optimization problem had no optimal solution.\n",
      "The CommonGround_entani optimization problem had no optimal solution.\n",
      "The CommonGround optimization problem had no optimal solution.\n",
      "The CommonGround optimization problem had no optimal solution.\n",
      "The tCommonGround optimization problem had no optimal solution.\n",
      "The CommonGround optimization problem had no optimal solution.\n",
      "The tCommonGround optimization problem had no optimal solution.\n",
      "The tCommonGround optimization problem had no optimal solution.\n",
      "The CommonGround_entani optimization problem had no optimal solution.\n",
      "The CommonGround optimization problem had no optimal solution.\n",
      "The tCommonGround optimization problem had no optimal solution.\n",
      "The CommonGround_entani optimization problem had no optimal solution."
     ]
    },
    {
     "name": "stdout",
     "output_type": "stream",
     "text": [
      "\n",
      "The CommonGround_entani optimization problem had no optimal solution.\n",
      "The CommonGround optimization problem had no optimal solution.\n",
      "The CommonGround optimization problem had no optimal solution.\n",
      "The tCommonGround optimization problem had no optimal solution.\n",
      "The tCommonGround optimization problem had no optimal solution.\n",
      "The CommonGround_entani optimization problem had no optimal solution.\n",
      "The CommonGround optimization problem had no optimal solution.\n",
      "The tCommonGround optimization problem had no optimal solution.\n",
      "The CommonGround_entani optimization problem had no optimal solution.\n",
      "The CommonGround optimization problem had no optimal solution.\n",
      "The CommonGround_entani optimization problem had no optimal solution.\n",
      "The CommonGround_entani optimization problem had no optimal solution."
     ]
    },
    {
     "name": "stdout",
     "output_type": "stream",
     "text": [
      "\n",
      "The tCommonGround optimization problem had no optimal solution.\n",
      "The CommonGround optimization problem had no optimal solution.\n",
      "The CommonGround optimization problem had no optimal solution.\n",
      "The tCommonGround optimization problem had no optimal solution.\n",
      "The tCommonGround optimization problem had no optimal solution.\n",
      "The CommonGround_entani optimization problem had no optimal solution.\n",
      "The CommonGround optimization problem had no optimal solution.\n",
      "The tCommonGround optimization problem had no optimal solution.\n",
      "The CommonGround_entani optimization problem had no optimal solution."
     ]
    },
    {
     "name": "stdout",
     "output_type": "stream",
     "text": [
      "\n",
      "The CommonGround optimization problem had no optimal solution.\n",
      "The CommonGround_entani optimization problem had no optimal solution.\n",
      "The CommonGround_entani optimization problem had no optimal solution.\n",
      "The tCommonGround optimization problem had no optimal solution.\n",
      "The CommonGround optimization problem had no optimal solution.\n",
      "The CommonGround optimization problem had no optimal solution.\n",
      "The tCommonGround optimization problem had no optimal solution.\n",
      "The tCommonGround optimization problem had no optimal solution.\n",
      "The CommonGround_entani optimization problem had no optimal solution.\n",
      "The CommonGround optimization problem had no optimal solution.\n",
      "The tCommonGround optimization problem had no optimal solution.\n",
      "The CommonGround_entani optimization problem had no optimal solution."
     ]
    },
    {
     "name": "stdout",
     "output_type": "stream",
     "text": [
      "\n",
      "The CommonGround_entani optimization problem had no optimal solution.\n",
      "The CommonGround optimization problem had no optimal solution.\n",
      "The CommonGround_entani optimization problem had no optimal solution.\n",
      "The CommonGround optimization problem had no optimal solution.\n",
      "The CommonGround_entani optimization problem had no optimal solution.\n",
      "The CommonGround optimization problem had no optimal solution.\n",
      "The CommonGround optimization problem had no optimal solution.\n",
      "The tCommonGround optimization problem had no optimal solution.\n",
      "The tCommonGround optimization problem had no optimal solution.\n",
      "The tCommonGround optimization problem had no optimal solution.\n",
      "The CommonGround_entani optimization problem had no optimal solution."
     ]
    },
    {
     "name": "stdout",
     "output_type": "stream",
     "text": [
      "\n",
      "The CommonGround_entani optimization problem had no optimal solution.\n",
      "The CommonGround optimization problem had no optimal solution.\n",
      "The CommonGround_entani optimization problem had no optimal solution.\n",
      "The CommonGround_entani optimization problem had no optimal solution.\n",
      "The CommonGround optimization problem had no optimal solution.\n",
      "The CommonGround optimization problem had no optimal solution.\n",
      "The tCommonGround optimization problem had no optimal solution.\n",
      "The tCommonGround optimization problem had no optimal solution.\n",
      "The tCommonGround optimization problem had no optimal solution.\n",
      "The CommonGround optimization problem had no optimal solution.\n",
      "The tCommonGround optimization problem had no optimal solution.\n",
      "The CommonGround_entani optimization problem had no optimal solution.\n",
      "The CommonGround_entani optimization problem had no optimal solution."
     ]
    },
    {
     "name": "stdout",
     "output_type": "stream",
     "text": [
      "\n",
      "The CommonGround_entani optimization problem had no optimal solution.\n",
      "The CommonGround optimization problem had no optimal solution.\n",
      "The CommonGround optimization problem had no optimal solution.\n",
      "The CommonGround optimization problem had no optimal solution.\n",
      "The tCommonGround optimization problem had no optimal solution.\n",
      "The CommonGround_entani optimization problem had no optimal solution.\n",
      "The tCommonGround optimization problem had no optimal solution.\n",
      "The tCommonGround optimization problem had no optimal solution.\n",
      "The CommonGround optimization problem had no optimal solution.\n",
      "The tCommonGround optimization problem had no optimal solution.\n",
      "The CommonGround_entani optimization problem had no optimal solution."
     ]
    },
    {
     "name": "stdout",
     "output_type": "stream",
     "text": [
      "\n",
      "The CommonGround optimization problem had no optimal solution.\n",
      "The CommonGround_entani optimization problem had no optimal solution.\n",
      "The tCommonGround optimization problem had no optimal solution.\n",
      "The CommonGround optimization problem had no optimal solution.\n",
      "The CommonGround_entani optimization problem had no optimal solution.\n",
      "The CommonGround optimization problem had no optimal solution.\n",
      "The tCommonGround optimization problem had no optimal solution.\n",
      "The CommonGround_entani optimization problem had no optimal solution.\n"
     ]
    },
    {
     "name": "stdout",
     "output_type": "stream",
     "text": [
      "The CommonGround optimization problem had no optimal solution.\n",
      "The CommonGround_entani optimization problem had no optimal solution.\n",
      "The tCommonGround optimization problem had no optimal solution.\n",
      "The CommonGround optimization problem had no optimal solution.\n",
      "The tCommonGround optimization problem had no optimal solution.\n",
      "The CommonGround_entani optimization problem had no optimal solution.\n",
      "The CommonGround optimization problem had no optimal solution.\n",
      "The tCommonGround optimization problem had no optimal solution.\n",
      "The CommonGround_entani optimization problem had no optimal solution.\n",
      "The CommonGround optimization problem had no optimal solution.\n",
      "The tCommonGround optimization problem had no optimal solution.\n",
      "The CommonGround_entani optimization problem had no optimal solution.\n",
      "The CommonGround optimization problem had no optimal solution.\n",
      "The CommonGround_entani optimization problem had no optimal solution."
     ]
    },
    {
     "name": "stdout",
     "output_type": "stream",
     "text": [
      "\n",
      "The tCommonGround optimization problem had no optimal solution.\n",
      "The CommonGround_entani optimization problem had no optimal solution.\n",
      "The CommonGround optimization problem had no optimal solution.\n",
      "The tCommonGround optimization problem had no optimal solution.\n",
      "The CommonGround optimization problem had no optimal solution.\n",
      "The tCommonGround optimization problem had no optimal solution.\n",
      "The CommonGround_entani optimization problem had no optimal solution.\n",
      "The CommonGround optimization problem had no optimal solution.\n",
      "The tCommonGround optimization problem had no optimal solution.\n",
      "The CommonGround_entani optimization problem had no optimal solution.\n",
      "The CommonGround optimization problem had no optimal solution.\n",
      "The CommonGround_entani optimization problem had no optimal solution.\n",
      "The CommonGround_entani optimization problem had no optimal solution."
     ]
    },
    {
     "name": "stdout",
     "output_type": "stream",
     "text": [
      "\n",
      "The CommonGround optimization problem had no optimal solution.\n",
      "The tCommonGround optimization problem had no optimal solution.\n",
      "The CommonGround optimization problem had no optimal solution.\n",
      "The tCommonGround optimization problem had no optimal solution.\n",
      "The tCommonGround optimization problem had no optimal solution.\n",
      "The CommonGround_entani optimization problem had no optimal solution.\n",
      "The CommonGround optimization problem had no optimal solution.\n",
      "The tCommonGround optimization problem had no optimal solution.\n",
      "The CommonGround_entani optimization problem had no optimal solution.\n",
      "The CommonGround_entani optimization problem had no optimal solution.\n",
      "The CommonGround_entani optimization problem had no optimal solution."
     ]
    },
    {
     "name": "stdout",
     "output_type": "stream",
     "text": [
      "\n",
      "The CommonGround optimization problem had no optimal solution.\n",
      "The CommonGround optimization problem had no optimal solution.\n",
      "The CommonGround optimization problem had no optimal solution.\n",
      "The tCommonGround optimization problem had no optimal solution.\n",
      "The tCommonGround optimization problem had no optimal solution.\n",
      "The CommonGround_entani optimization problem had no optimal solution.\n",
      "The CommonGround optimization problem had no optimal solution.\n",
      "The tCommonGround optimization problem had no optimal solution.\n",
      "The CommonGround_entani optimization problem had no optimal solution.\n",
      "The CommonGround optimization problem had no optimal solution.\n",
      "The CommonGround_entani optimization problem had no optimal solution."
     ]
    },
    {
     "name": "stdout",
     "output_type": "stream",
     "text": [
      "\n",
      "The tCommonGround optimization problem had no optimal solution.\n",
      "The CommonGround optimization problem had no optimal solution.\n",
      "The CommonGround_entani optimization problem had no optimal solution.\n",
      "The CommonGround optimization problem had no optimal solution.\n",
      "The tCommonGround optimization problem had no optimal solution.\n",
      "The CommonGround_entani optimization problem had no optimal solution.\n",
      "The tCommonGround optimization problem had no optimal solution.\n",
      "The CommonGround optimization problem had no optimal solution.\n",
      "The CommonGround_entani optimization problem had no optimal solution.\n",
      "The CommonGround optimization problem had no optimal solution.\n",
      "The CommonGround_entani optimization problem had no optimal solution."
     ]
    },
    {
     "name": "stdout",
     "output_type": "stream",
     "text": [
      "\n",
      "The tCommonGround optimization problem had no optimal solution.\n",
      "The CommonGround optimization problem had no optimal solution.\n",
      "The CommonGround_entani optimization problem had no optimal solution.\n",
      "The tCommonGround optimization problem had no optimal solution.\n",
      "The CommonGround_entani optimization problem had no optimal solution.\n",
      "The CommonGround optimization problem had no optimal solution.\n",
      "The CommonGround optimization problem had no optimal solution.\n",
      "The tCommonGround optimization problem had no optimal solution.\n",
      "The CommonGround_entani optimization problem had no optimal solution."
     ]
    },
    {
     "name": "stdout",
     "output_type": "stream",
     "text": [
      "\n",
      "The CommonGround optimization problem had no optimal solution.\n",
      "The tCommonGround optimization problem had no optimal solution.\n",
      "The CommonGround_entani optimization problem had no optimal solution.\n",
      "The CommonGround_entani optimization problem had no optimal solution.\n",
      "The CommonGround optimization problem had no optimal solution.\n",
      "The CommonGround optimization problem had no optimal solution.\n",
      "The tCommonGround optimization problem had no optimal solution.\n",
      "The tCommonGround optimization problem had no optimal solution.\n",
      "The CommonGround_entani optimization problem had no optimal solution.\n",
      "The CommonGround_entani optimization problem had no optimal solution."
     ]
    },
    {
     "name": "stdout",
     "output_type": "stream",
     "text": [
      "\n",
      "The CommonGround optimization problem had no optimal solution.\n",
      "The CommonGround optimization problem had no optimal solution.\n",
      "The tCommonGround optimization problem had no optimal solution.\n",
      "The CommonGround_entani optimization problem had no optimal solution.\n",
      "The CommonGround_entani optimization problem had no optimal solution.\n",
      "The tCommonGround optimization problem had no optimal solution.\n",
      "The CommonGround optimization problem had no optimal solution.\n",
      "The CommonGround optimization problem had no optimal solution.\n",
      "The tCommonGround optimization problem had no optimal solution.\n",
      "The tCommonGround optimization problem had no optimal solution.\n",
      "The CommonGround_entani optimization problem had no optimal solution."
     ]
    },
    {
     "name": "stdout",
     "output_type": "stream",
     "text": [
      "\n",
      "The CommonGround_entani optimization problem had no optimal solution.\n",
      "The CommonGround optimization problem had no optimal solution.\n",
      "The CommonGround optimization problem had no optimal solution.\n",
      "The CommonGround_entani optimization problem had no optimal solution.\n",
      "The tCommonGround optimization problem had no optimal solution.\n",
      "The CommonGround_entani optimization problem had no optimal solution.\n",
      "The tCommonGround optimization problem had no optimal solution.\n",
      "The CommonGround optimization problem had no optimal solution.\n",
      "The CommonGround optimization problem had no optimal solution.\n",
      "The tCommonGround optimization problem had no optimal solution.\n",
      "The tCommonGround optimization problem had no optimal solution.\n",
      "The CommonGround_entani optimization problem had no optimal solution."
     ]
    },
    {
     "name": "stdout",
     "output_type": "stream",
     "text": [
      "\n",
      "The CommonGround optimization problem had no optimal solution.\n",
      "The tCommonGround optimization problem had no optimal solution.\n",
      "The CommonGround_entani optimization problem had no optimal solution.\n",
      "The CommonGround optimization problem had no optimal solution.\n",
      "The CommonGround_entani optimization problem had no optimal solution.\n",
      "The tCommonGround optimization problem had no optimal solution.\n",
      "The CommonGround optimization problem had no optimal solution.\n",
      "The tCommonGround optimization problem had no optimal solution.\n",
      "The CommonGround_entani optimization problem had no optimal solution.\n",
      "The CommonGround optimization problem had no optimal solution.\n",
      "The CommonGround_entani optimization problem had no optimal solution."
     ]
    },
    {
     "name": "stdout",
     "output_type": "stream",
     "text": [
      "\n"
     ]
    },
    {
     "name": "stdout",
     "output_type": "stream",
     "text": [
      "The tCommonGround optimization problem had no optimal solution.\n",
      "The CommonGround optimization problem had no optimal solution.\n",
      "The tCommonGround optimization problem had no optimal solution.\n",
      "The CommonGround_entani optimization problem had no optimal solution.\n",
      "The CommonGround optimization problem had no optimal solution.\n",
      "The CommonGround_entani optimization problem had no optimal solution.\n",
      "The tCommonGround optimization problem had no optimal solution.\n",
      "The CommonGround optimization problem had no optimal solution.\n",
      "The tCommonGround optimization problem had no optimal solution.\n",
      "The CommonGround_entani optimization problem had no optimal solution.\n",
      "The CommonGround optimization problem had no optimal solution.\n",
      "The CommonGround_entani optimization problem had no optimal solution."
     ]
    },
    {
     "name": "stdout",
     "output_type": "stream",
     "text": [
      "\n"
     ]
    },
    {
     "name": "stdout",
     "output_type": "stream",
     "text": [
      "The tCommonGround optimization problem had no optimal solution.\n",
      "The CommonGround_entani optimization problem had no optimal solution.\n",
      "The CommonGround optimization problem had no optimal solution.\n",
      "The tCommonGround optimization problem had no optimal solution.\n",
      "The CommonGround optimization problem had no optimal solution.\n",
      "The CommonGround_entani optimization problem had no optimal solution.\n",
      "The tCommonGround optimization problem had no optimal solution.\n",
      "The CommonGround optimization problem had no optimal solution.\n",
      "The tCommonGround optimization problem had no optimal solution.\n",
      "The CommonGround_entani optimization problem had no optimal solution.\n",
      "The CommonGround_entani optimization problem had no optimal solution."
     ]
    },
    {
     "name": "stdout",
     "output_type": "stream",
     "text": [
      "\n"
     ]
    },
    {
     "name": "stdout",
     "output_type": "stream",
     "text": [
      "The CommonGround optimization problem had no optimal solution.\n",
      "The CommonGround_entani optimization problem had no optimal solution.\n",
      "The CommonGround optimization problem had no optimal solution.\n",
      "The CommonGround optimization problem had no optimal solution.\n",
      "The tCommonGround optimization problem had no optimal solution.\n",
      "The CommonGround_entani optimization problem had no optimal solution.\n",
      "The tCommonGround optimization problem had no optimal solution.\n",
      "The CommonGround optimization problem had no optimal solution.\n",
      "The tCommonGround optimization problem had no optimal solution.\n",
      "The CommonGround_entani optimization problem had no optimal solution."
     ]
    },
    {
     "name": "stdout",
     "output_type": "stream",
     "text": [
      "\n",
      "The CommonGround optimization problem had no optimal solution.\n",
      "The CommonGround_entani optimization problem had no optimal solution.\n",
      "The CommonGround_entani optimization problem had no optimal solution.\n",
      "The CommonGround optimization problem had no optimal solution.\n",
      "The CommonGround optimization problem had no optimal solution.\n",
      "The tCommonGround optimization problem had no optimal solution.\n",
      "The tCommonGround optimization problem had no optimal solution.\n",
      "The CommonGround_entani optimization problem had no optimal solution."
     ]
    },
    {
     "name": "stdout",
     "output_type": "stream",
     "text": [
      "\n",
      "The CommonGround_entani optimization problem had no optimal solution.\n",
      "The CommonGround_entani optimization problem had no optimal solution.\n",
      "The CommonGround optimization problem had no optimal solution.\n",
      "The CommonGround optimization problem had no optimal solution.\n",
      "The CommonGround_entani optimization problem had no optimal solution.\n",
      "The tCommonGround optimization problem had no optimal solution.\n",
      "The CommonGround optimization problem had no optimal solution.\n",
      "The tCommonGround optimization problem had no optimal solution.\n",
      "The tCommonGround optimization problem had no optimal solution.\n",
      "The CommonGround optimization problem had no optimal solution.\n",
      "The tCommonGround optimization problem had no optimal solution.\n",
      "The CommonGround_entani optimization problem had no optimal solution.\n",
      "The CommonGround optimization problem had no optimal solution.\n",
      "The tCommonGround optimization problem had no optimal solution.\n",
      "The CommonGround_entani optimization problem had no optimal solution.\n",
      "The CommonGround_entani optimization problem had no optimal solution."
     ]
    },
    {
     "name": "stdout",
     "output_type": "stream",
     "text": [
      "\n",
      "The CommonGround optimization problem had no optimal solution.\n",
      "The CommonGround optimization problem had no optimal solution.\n",
      "The tCommonGround optimization problem had no optimal solution.\n",
      "The CommonGround_entani optimization problem had no optimal solution.\n",
      "The CommonGround optimization problem had no optimal solution.\n",
      "The tCommonGround optimization problem had no optimal solution.\n",
      "The CommonGround_entani optimization problem had no optimal solution."
     ]
    },
    {
     "name": "stdout",
     "output_type": "stream",
     "text": [
      "\n",
      "The CommonGround optimization problem had no optimal solution.\n",
      "The CommonGround_entani optimization problem had no optimal solution.\n",
      "The CommonGround_entani optimization problem had no optimal solution.\n",
      "The tCommonGround optimization problem had no optimal solution.\n",
      "The CommonGround optimization problem had no optimal solution.\n",
      "The CommonGround optimization problem had no optimal solution.\n",
      "The CommonGround_entani optimization problem had no optimal solution.\n",
      "The tCommonGround optimization problem had no optimal solution.\n",
      "The tCommonGround optimization problem had no optimal solution.\n",
      "The CommonGround optimization problem had no optimal solution.\n",
      "The tCommonGround optimization problem had no optimal solution.\n",
      "The CommonGround_entani optimization problem had no optimal solution."
     ]
    },
    {
     "name": "stdout",
     "output_type": "stream",
     "text": [
      "\n",
      "The CommonGround optimization problem had no optimal solution.\n",
      "The CommonGround_entani optimization problem had no optimal solution.\n",
      "The tCommonGround optimization problem had no optimal solution."
     ]
    },
    {
     "name": "stdout",
     "output_type": "stream",
     "text": [
      "\n",
      "The CommonGround_entani optimization problem had no optimal solution.\n",
      "The CommonGround optimization problem had no optimal solution.\n",
      "The tCommonGround optimization problem had no optimal solution.\n",
      "The CommonGround optimization problem had no optimal solution.\n",
      "The CommonGround_entani optimization problem had no optimal solution.\n",
      "The tCommonGround optimization problem had no optimal solution.\n",
      "The CommonGround optimization problem had no optimal solution.\n",
      "The tCommonGround optimization problem had no optimal solution.\n",
      "The CommonGround_entani optimization problem had no optimal solution."
     ]
    },
    {
     "name": "stdout",
     "output_type": "stream",
     "text": [
      "\n",
      "The CommonGround optimization problem had no optimal solution.\n",
      "The tCommonGround optimization problem had no optimal solution.\n"
     ]
    },
    {
     "name": "stdout",
     "output_type": "stream",
     "text": [
      "The CommonGround_entani optimization problem had no optimal solution.\n",
      "The CommonGround optimization problem had no optimal solution.\n",
      "The CommonGround_entani optimization problem had no optimal solution.\n",
      "The tCommonGround optimization problem had no optimal solution.\n",
      "The CommonGround optimization problem had no optimal solution.\n",
      "The tCommonGround optimization problem had no optimal solution.\n",
      "The CommonGround_entani optimization problem had no optimal solution.\n",
      "The CommonGround_entani optimization problem had no optimal solution.\n",
      "The CommonGround optimization problem had no optimal solution.\n",
      "The tCommonGround optimization problem had no optimal solution.\n",
      "The CommonGround optimization problem had no optimal solution.\n",
      "The tCommonGround optimization problem had no optimal solution.\n",
      "The CommonGround_entani optimization problem had no optimal solution.\n",
      "The CommonGround optimization problem had no optimal solution.\n",
      "The CommonGround_entani optimization problem had no optimal solution.\n",
      "The tCommonGround optimization problem had no optimal solution.\n",
      "The CommonGround optimization problem had no optimal solution.\n",
      "The tCommonGround optimization problem had no optimal solution.\n",
      "The CommonGround_entani optimization problem had no optimal solution."
     ]
    },
    {
     "name": "stdout",
     "output_type": "stream",
     "text": [
      "\n",
      "The CommonGround optimization problem had no optimal solution.\n",
      "The tCommonGround optimization problem had no optimal solution.\n",
      "The CommonGround_entani optimization problem had no optimal solution.\n",
      "The CommonGround optimization problem had no optimal solution.\n",
      "The CommonGround_entani optimization problem had no optimal solution.\n",
      "The tCommonGround optimization problem had no optimal solution.\n",
      "The CommonGround optimization problem had no optimal solution.\n",
      "The tCommonGround optimization problem had no optimal solution.\n",
      "The CommonGround_entani optimization problem had no optimal solution.\n",
      "The CommonGround optimization problem had no optimal solution.\n",
      "The tCommonGround optimization problem had no optimal solution.\n",
      "The CommonGround_entani optimization problem had no optimal solution."
     ]
    },
    {
     "name": "stdout",
     "output_type": "stream",
     "text": [
      "\n"
     ]
    },
    {
     "name": "stdout",
     "output_type": "stream",
     "text": [
      "The CommonGround optimization problem had no optimal solution.\n",
      "The CommonGround_entani optimization problem had no optimal solution.\n",
      "The CommonGround_entani optimization problem had no optimal solution.\n",
      "The CommonGround optimization problem had no optimal solution.\n",
      "The CommonGround optimization problem had no optimal solution.\n",
      "The tCommonGround optimization problem had no optimal solution.\n",
      "The tCommonGround optimization problem had no optimal solution.\n",
      "The CommonGround_entani optimization problem had no optimal solution.\n",
      "The CommonGround optimization problem had no optimal solution.\n",
      "The CommonGround_entani optimization problem had no optimal solution."
     ]
    },
    {
     "name": "stdout",
     "output_type": "stream",
     "text": [
      "\n",
      "The tCommonGround optimization problem had no optimal solution.\n",
      "The CommonGround optimization problem had no optimal solution.\n"
     ]
    },
    {
     "name": "stdout",
     "output_type": "stream",
     "text": [
      "The tCommonGround optimization problem had no optimal solution.\n",
      "The CommonGround_entani optimization problem had no optimal solution.\n",
      "The CommonGround_entani optimization problem had no optimal solution.\n",
      "The CommonGround optimization problem had no optimal solution.\n",
      "The CommonGround optimization problem had no optimal solution.\n",
      "The tCommonGround optimization problem had no optimal solution.\n",
      "The tCommonGround optimization problem had no optimal solution.\n",
      "The CommonGround_entani optimization problem had no optimal solution.\n",
      "The CommonGround optimization problem had no optimal solution.\n",
      "The CommonGround_entani optimization problem had no optimal solution."
     ]
    },
    {
     "name": "stdout",
     "output_type": "stream",
     "text": [
      "\n",
      "The tCommonGround optimization problem had no optimal solution.\n",
      "The CommonGround optimization problem had no optimal solution.\n"
     ]
    },
    {
     "name": "stdout",
     "output_type": "stream",
     "text": [
      "The tCommonGround optimization problem had no optimal solution.\n",
      "The CommonGround_entani optimization problem had no optimal solution.\n",
      "The CommonGround optimization problem had no optimal solution.\n",
      "The CommonGround_entani optimization problem had no optimal solution.\n",
      "The CommonGround optimization problem had no optimal solution.\n",
      "The tCommonGround optimization problem had no optimal solution.\n",
      "The CommonGround_entani optimization problem had no optimal solution."
     ]
    },
    {
     "name": "stdout",
     "output_type": "stream",
     "text": [
      "\n",
      "The CommonGround optimization problem had no optimal solution.\n"
     ]
    },
    {
     "name": "stdout",
     "output_type": "stream",
     "text": [
      "The tCommonGround optimization problem had no optimal solution.\n",
      "The CommonGround_entani optimization problem had no optimal solution.\n",
      "The CommonGround_entani optimization problem had no optimal solution.\n",
      "The CommonGround optimization problem had no optimal solution.\n",
      "The CommonGround optimization problem had no optimal solution.\n",
      "The tCommonGround optimization problem had no optimal solution.\n",
      "The CommonGround_entani optimization problem had no optimal solution.\n",
      "The CommonGround optimization problem had no optimal solution.\n",
      "The tCommonGround optimization problem had no optimal solution.\n",
      "The CommonGround_entani optimization problem had no optimal solution."
     ]
    },
    {
     "name": "stdout",
     "output_type": "stream",
     "text": [
      "\n",
      "The CommonGround optimization problem had no optimal solution.\n",
      "The CommonGround_entani optimization problem had no optimal solution.\n",
      "The CommonGround_entani optimization problem had no optimal solution.\n",
      "The CommonGround_entani optimization problem had no optimal solution.\n",
      "The CommonGround optimization problem had no optimal solution.\n",
      "The CommonGround optimization problem had no optimal solution.\n",
      "The CommonGround optimization problem had no optimal solution.\n",
      "The tCommonGround optimization problem had no optimal solution.\n",
      "The tCommonGround optimization problem had no optimal solution.\n",
      "The tCommonGround optimization problem had no optimal solution.\n",
      "The tCommonGround optimization problem had no optimal solution.\n",
      "The CommonGround_entani optimization problem had no optimal solution."
     ]
    },
    {
     "name": "stdout",
     "output_type": "stream",
     "text": [
      "\n",
      "The CommonGround_entani optimization problem had no optimal solution.\n",
      "The CommonGround_entani optimization problem had no optimal solution.\n",
      "The CommonGround_entani optimization problem had no optimal solution.\n",
      "The CommonGround optimization problem had no optimal solution.\n",
      "The CommonGround optimization problem had no optimal solution.\n",
      "The CommonGround optimization problem had no optimal solution.\n",
      "The tCommonGround optimization problem had no optimal solution.\n",
      "The CommonGround optimization problem had no optimal solution.\n",
      "The tCommonGround optimization problem had no optimal solution.\n",
      "The tCommonGround optimization problem had no optimal solution.\n",
      "The tCommonGround optimization problem had no optimal solution.\n",
      "The CommonGround_entani optimization problem had no optimal solution."
     ]
    },
    {
     "name": "stdout",
     "output_type": "stream",
     "text": [
      "\n",
      "The CommonGround_entani optimization problem had no optimal solution.\n",
      "The CommonGround_entani optimization problem had no optimal solution.\n",
      "The CommonGround optimization problem had no optimal solution.\n",
      "The CommonGround optimization problem had no optimal solution.\n",
      "The CommonGround optimization problem had no optimal solution.\n",
      "The tCommonGround optimization problem had no optimal solution.\n",
      "The CommonGround_entani optimization problem had no optimal solution.\n",
      "The CommonGround optimization problem had no optimal solution.\n",
      "The tCommonGround optimization problem had no optimal solution.\n",
      "The CommonGround_entani optimization problem had no optimal solution."
     ]
    },
    {
     "name": "stdout",
     "output_type": "stream",
     "text": [
      "\n",
      "The CommonGround_entani optimization problem had no optimal solution.\n",
      "The CommonGround_entani optimization problem had no optimal solution.\n",
      "The CommonGround optimization problem had no optimal solution."
     ]
    },
    {
     "name": "stdout",
     "output_type": "stream",
     "text": [
      "\n",
      "The CommonGround optimization problem had no optimal solution.\n",
      "The tCommonGround optimization problem had no optimal solution.\n",
      "The tCommonGround optimization problem had no optimal solution.\n",
      "The CommonGround optimization problem had no optimal solution.\n",
      "The tCommonGround optimization problem had no optimal solution.\n",
      "The CommonGround_entani optimization problem had no optimal solution.\n",
      "The CommonGround optimization problem had no optimal solution.\n",
      "The tCommonGround optimization problem had no optimal solution.\n",
      "The CommonGround_entani optimization problem had no optimal solution."
     ]
    },
    {
     "name": "stdout",
     "output_type": "stream",
     "text": [
      "\n"
     ]
    },
    {
     "name": "stdout",
     "output_type": "stream",
     "text": [
      "The CommonGround optimization problem had no optimal solution.\n",
      "The CommonGround_entani optimization problem had no optimal solution.\n",
      "The tCommonGround optimization problem had no optimal solution.\n",
      "The CommonGround optimization problem had no optimal solution.\n",
      "The tCommonGround optimization problem had no optimal solution.\n",
      "The CommonGround_entani optimization problem had no optimal solution.\n",
      "The CommonGround optimization problem had no optimal solution.\n",
      "The CommonGround_entani optimization problem had no optimal solution.\n",
      "The tCommonGround optimization problem had no optimal solution.\n",
      "The CommonGround optimization problem had no optimal solution.\n",
      "The tCommonGround optimization problem had no optimal solution.\n",
      "The CommonGround_entani optimization problem had no optimal solution."
     ]
    },
    {
     "name": "stdout",
     "output_type": "stream",
     "text": [
      "\n",
      "The CommonGround optimization problem had no optimal solution.\n",
      "The CommonGround_entani optimization problem had no optimal solution.\n",
      "The tCommonGround optimization problem had no optimal solution.\n"
     ]
    },
    {
     "name": "stdout",
     "output_type": "stream",
     "text": [
      "The CommonGround optimization problem had no optimal solution.\n",
      "The CommonGround_entani optimization problem had no optimal solution.\n",
      "The tCommonGround optimization problem had no optimal solution.\n",
      "The CommonGround optimization problem had no optimal solution.\n",
      "The CommonGround_entani optimization problem had no optimal solution.\n",
      "The tCommonGround optimization problem had no optimal solution.\n",
      "The CommonGround optimization problem had no optimal solution.\n",
      "The tCommonGround optimization problem had no optimal solution.\n",
      "The CommonGround_entani optimization problem had no optimal solution.\n",
      "The CommonGround optimization problem had no optimal solution.\n",
      "The tCommonGround optimization problem had no optimal solution.\n",
      "The CommonGround_entani optimization problem had no optimal solution.\n",
      "The CommonGround optimization problem had no optimal solution.\n",
      "The CommonGround_entani optimization problem had no optimal solution.\n",
      "The CommonGround_entani optimization problem had no optimal solution.\n",
      "The tCommonGround optimization problem had no optimal solution.\n",
      "The CommonGround optimization problem had no optimal solution.\n",
      "The CommonGround optimization problem had no optimal solution.\n",
      "The tCommonGround optimization problem had no optimal solution.\n",
      "The tCommonGround optimization problem had no optimal solution.\n",
      "The CommonGround_entani optimization problem had no optimal solution."
     ]
    },
    {
     "name": "stdout",
     "output_type": "stream",
     "text": [
      "\n",
      "The CommonGround optimization problem had no optimal solution.\n",
      "The tCommonGround optimization problem had no optimal solution.\n",
      "The CommonGround_entani optimization problem had no optimal solution.\n",
      "The CommonGround_entani optimization problem had no optimal solution.\n",
      "The CommonGround_entani optimization problem had no optimal solution.\n",
      "The CommonGround optimization problem had no optimal solution.\n",
      "The CommonGround optimization problem had no optimal solution.\n",
      "The tCommonGround optimization problem had no optimal solution.\n",
      "The CommonGround_entani optimization problem had no optimal solution."
     ]
    },
    {
     "name": "stdout",
     "output_type": "stream",
     "text": [
      "\n",
      "The CommonGround optimization problem had no optimal solution.\n",
      "The CommonGround optimization problem had no optimal solution.\n",
      "The tCommonGround optimization problem had no optimal solution.\n",
      "The tCommonGround optimization problem had no optimal solution.\n"
     ]
    },
    {
     "name": "stdout",
     "output_type": "stream",
     "text": [
      "The CommonGround_entani optimization problem had no optimal solution.\n",
      "The CommonGround_entani optimization problem had no optimal solution.\n",
      "The CommonGround_entani optimization problem had no optimal solution.\n",
      "The CommonGround optimization problem had no optimal solution.\n",
      "The CommonGround_entani optimization problem had no optimal solution.\n",
      "The CommonGround optimization problem had no optimal solution.\n",
      "The tCommonGround optimization problem had no optimal solution.\n",
      "The CommonGround optimization problem had no optimal solution.\n",
      "The tCommonGround optimization problem had no optimal solution.\n",
      "The tCommonGround optimization problem had no optimal solution.\n",
      "The CommonGround optimization problem had no optimal solution.\n"
     ]
    },
    {
     "name": "stdout",
     "output_type": "stream",
     "text": [
      "The CommonGround_entani optimization problem had no optimal solution.\n",
      "The CommonGround_entani optimization problem had no optimal solution.\n",
      "The CommonGround optimization problem had no optimal solution.\n",
      "The CommonGround_entani optimization problem had no optimal solution.\n",
      "The CommonGround optimization problem had no optimal solution.\n",
      "The CommonGround_entani optimization problem had no optimal solution.\n",
      "The tCommonGround optimization problem had no optimal solution.\n",
      "The tCommonGround optimization problem had no optimal solution.\n",
      "The CommonGround optimization problem had no optimal solution.\n",
      "The CommonGround optimization problem had no optimal solution.\n",
      "The tCommonGround optimization problem had no optimal solution.\n"
     ]
    },
    {
     "name": "stdout",
     "output_type": "stream",
     "text": [
      "The tCommonGround optimization problem had no optimal solution.\n",
      "The CommonGround_entani optimization problem had no optimal solution.\n",
      "The CommonGround optimization problem had no optimal solution.\n",
      "The tCommonGround optimization problem had no optimal solution.\n",
      "The CommonGround_entani optimization problem had no optimal solution.\n",
      "The CommonGround_entani optimization problem had no optimal solution.\n",
      "The CommonGround optimization problem had no optimal solution.\n",
      "The CommonGround optimization problem had no optimal solution.\n",
      "The tCommonGround optimization problem had no optimal solution.\n",
      "The tCommonGround optimization problem had no optimal solution.\n",
      "The CommonGround_entani optimization problem had no optimal solution.\n",
      "The CommonGround_entani optimization problem had no optimal solution.\n",
      "The CommonGround optimization problem had no optimal solution.\n",
      "The CommonGround optimization problem had no optimal solution.\n",
      "The tCommonGround optimization problem had no optimal solution.\n",
      "The tCommonGround optimization problem had no optimal solution.\n",
      "The CommonGround_entani optimization problem had no optimal solution.\n",
      "The CommonGround optimization problem had no optimal solution.\n",
      "The CommonGround_entani optimization problem had no optimal solution.\n",
      "The CommonGround_entani optimization problem had no optimal solution."
     ]
    },
    {
     "name": "stdout",
     "output_type": "stream",
     "text": [
      "\n",
      "The tCommonGround optimization problem had no optimal solution.\n",
      "The CommonGround optimization problem had no optimal solution.\n",
      "The CommonGround optimization problem had no optimal solution.\n",
      "The tCommonGround optimization problem had no optimal solution.\n",
      "The tCommonGround optimization problem had no optimal solution.\n",
      "The CommonGround_entani optimization problem had no optimal solution."
     ]
    },
    {
     "name": "stdout",
     "output_type": "stream",
     "text": [
      "\n",
      "The CommonGround optimization problem had no optimal solution.\n",
      "The CommonGround_entani optimization problem had no optimal solution.\n",
      "The CommonGround_entani optimization problem had no optimal solution.\n",
      "The CommonGround optimization problem had no optimal solution.\n",
      "The tCommonGround optimization problem had no optimal solution.\n",
      "The CommonGround optimization problem had no optimal solution.\n",
      "The tCommonGround optimization problem had no optimal solution.\n",
      "The CommonGround_entani optimization problem had no optimal solution.\n",
      "The CommonGround optimization problem had no optimal solution.\n",
      "The tCommonGround optimization problem had no optimal solution.\n",
      "The CommonGround_entani optimization problem had no optimal solution.\n",
      "The CommonGround_entani optimization problem had no optimal solution.\n",
      "The CommonGround optimization problem had no optimal solution.\n",
      "The tCommonGround optimization problem had no optimal solution.\n",
      "The CommonGround_entani optimization problem had no optimal solution.\n",
      "The CommonGround optimization problem had no optimal solution.\n",
      "The CommonGround optimization problem had no optimal solution.\n",
      "The tCommonGround optimization problem had no optimal solution.\n",
      "The tCommonGround optimization problem had no optimal solution.\n",
      "The CommonGround_entani optimization problem had no optimal solution."
     ]
    },
    {
     "name": "stdout",
     "output_type": "stream",
     "text": [
      "\n",
      "The CommonGround optimization problem had no optimal solution.\n",
      "The tCommonGround optimization problem had no optimal solution.\n"
     ]
    },
    {
     "name": "stdout",
     "output_type": "stream",
     "text": [
      "The CommonGround_entani optimization problem had no optimal solution.\n",
      "The CommonGround_entani optimization problem had no optimal solution.\n",
      "The CommonGround optimization problem had no optimal solution.\n",
      "The CommonGround optimization problem had no optimal solution.\n",
      "The tCommonGround optimization problem had no optimal solution.\n",
      "The tCommonGround optimization problem had no optimal solution.\n",
      "The CommonGround_entani optimization problem had no optimal solution.\n",
      "The CommonGround_entani optimization problem had no optimal solution.\n",
      "The CommonGround optimization problem had no optimal solution.\n",
      "The tCommonGround optimization problem had no optimal solution.\n",
      "The CommonGround optimization problem had no optimal solution.\n",
      "The tCommonGround optimization problem had no optimal solution.\n",
      "The CommonGround_entani optimization problem had no optimal solution.\n",
      "The CommonGround_entani optimization problem had no optimal solution.\n",
      "The CommonGround optimization problem had no optimal solution.\n",
      "The CommonGround optimization problem had no optimal solution.\n",
      "The tCommonGround optimization problem had no optimal solution.\n",
      "The tCommonGround optimization problem had no optimal solution.\n",
      "The CommonGround_entani optimization problem had no optimal solution."
     ]
    },
    {
     "name": "stdout",
     "output_type": "stream",
     "text": [
      "\n",
      "The CommonGround optimization problem had no optimal solution.\n",
      "The tCommonGround optimization problem had no optimal solution.\n"
     ]
    },
    {
     "name": "stdout",
     "output_type": "stream",
     "text": [
      "The CommonGround_entani optimization problem had no optimal solution.\n",
      "The CommonGround_entani optimization problem had no optimal solution.\n",
      "The CommonGround optimization problem had no optimal solution.\n",
      "The CommonGround optimization problem had no optimal solution.\n",
      "The tCommonGround optimization problem had no optimal solution.\n",
      "The CommonGround_entani optimization problem had no optimal solution.\n",
      "The CommonGround_entani optimization problem had no optimal solution.\n",
      "The CommonGround optimization problem had no optimal solution."
     ]
    },
    {
     "name": "stdout",
     "output_type": "stream",
     "text": [
      "\n",
      "The CommonGround optimization problem had no optimal solution.\n",
      "The tCommonGround optimization problem had no optimal solution.\n"
     ]
    },
    {
     "name": "stdout",
     "output_type": "stream",
     "text": [
      "The CommonGround_entani optimization problem had no optimal solution.\n",
      "The CommonGround optimization problem had no optimal solution.\n",
      "The CommonGround optimization problem had no optimal solution.\n",
      "The tCommonGround optimization problem had no optimal solution.\n",
      "The CommonGround_entani optimization problem had no optimal solution.\n",
      "The CommonGround_entani optimization problem had no optimal solution.\n",
      "The CommonGround optimization problem had no optimal solution."
     ]
    },
    {
     "name": "stdout",
     "output_type": "stream",
     "text": [
      "\n",
      "The CommonGround optimization problem had no optimal solution.\n",
      "The tCommonGround optimization problem had no optimal solution.\n",
      "The tCommonGround optimization problem had no optimal solution.\n",
      "The CommonGround_entani optimization problem had no optimal solution.\n",
      "The CommonGround optimization problem had no optimal solution.\n",
      "The CommonGround_entani optimization problem had no optimal solution."
     ]
    },
    {
     "name": "stdout",
     "output_type": "stream",
     "text": [
      "\n",
      "The CommonGround_entani optimization problem had no optimal solution.\n",
      "The CommonGround optimization problem had no optimal solution.\n",
      "The tCommonGround optimization problem had no optimal solution.\n",
      "The CommonGround optimization problem had no optimal solution.\n",
      "The tCommonGround optimization problem had no optimal solution.\n",
      "The tCommonGround optimization problem had no optimal solution.\n",
      "The CommonGround_entani optimization problem had no optimal solution.\n",
      "The CommonGround optimization problem had no optimal solution.\n",
      "The tCommonGround optimization problem had no optimal solution.\n",
      "The CommonGround_entani optimization problem had no optimal solution.\n",
      "The CommonGround optimization problem had no optimal solution.\n",
      "The CommonGround_entani optimization problem had no optimal solution.\n",
      "The CommonGround optimization problem had no optimal solution.\n",
      "The tCommonGround optimization problem had no optimal solution.\n",
      "The CommonGround_entani optimization problem had no optimal solution.\n",
      "The CommonGround optimization problem had no optimal solution.\n",
      "The CommonGround_entani optimization problem had no optimal solution."
     ]
    },
    {
     "name": "stdout",
     "output_type": "stream",
     "text": [
      "\n",
      "The tCommonGround optimization problem had no optimal solution.\n",
      "The CommonGround optimization problem had no optimal solution.\n",
      "The CommonGround_entani optimization problem had no optimal solution.\n",
      "The CommonGround optimization problem had no optimal solution.\n",
      "The tCommonGround optimization problem had no optimal solution.\n"
     ]
    },
    {
     "name": "stdout",
     "output_type": "stream",
     "text": [
      "The tCommonGround optimization problem had no optimal solution.\n",
      "The CommonGround_entani optimization problem had no optimal solution.\n",
      "The CommonGround optimization problem had no optimal solution.\n",
      "The tCommonGround optimization problem had no optimal solution.\n",
      "The CommonGround_entani optimization problem had no optimal solution.\n",
      "The CommonGround_entani optimization problem had no optimal solution.\n",
      "The CommonGround optimization problem had no optimal solution.\n",
      "The CommonGround optimization problem had no optimal solution.\n",
      "The CommonGround_entani optimization problem had no optimal solution.\n",
      "The tCommonGround optimization problem had no optimal solution.\n",
      "The CommonGround optimization problem had no optimal solution.\n",
      "The tCommonGround optimization problem had no optimal solution.\n",
      "The CommonGround_entani optimization problem had no optimal solution.\n",
      "The CommonGround optimization problem had no optimal solution.\n",
      "The tCommonGround optimization problem had no optimal solution.\n",
      "The CommonGround_entani optimization problem had no optimal solution."
     ]
    },
    {
     "name": "stdout",
     "output_type": "stream",
     "text": [
      "\n"
     ]
    },
    {
     "name": "stdout",
     "output_type": "stream",
     "text": [
      "The CommonGround optimization problem had no optimal solution.\n",
      "The CommonGround_entani optimization problem had no optimal solution.\n",
      "The CommonGround_entani optimization problem had no optimal solution.\n",
      "The tCommonGround optimization problem had no optimal solution.\n",
      "The CommonGround optimization problem had no optimal solution.\n",
      "The tCommonGround optimization problem had no optimal solution.\n",
      "The CommonGround_entani optimization problem had no optimal solution.\n",
      "The CommonGround optimization problem had no optimal solution.\n",
      "The tCommonGround optimization problem had no optimal solution.\n",
      "The CommonGround_entani optimization problem had no optimal solution."
     ]
    },
    {
     "name": "stdout",
     "output_type": "stream",
     "text": [
      "\n",
      "The CommonGround_entani optimization problem had no optimal solution.\n",
      "The CommonGround_entani optimization problem had no optimal solution.\n",
      "The CommonGround optimization problem had no optimal solution.\n",
      "The CommonGround optimization problem had no optimal solution.\n",
      "The tCommonGround optimization problem had no optimal solution.\n",
      "The tCommonGround optimization problem had no optimal solution.\n",
      "The CommonGround_entani optimization problem had no optimal solution.\n",
      "The CommonGround optimization problem had no optimal solution.\n",
      "The tCommonGround optimization problem had no optimal solution.\n",
      "The CommonGround_entani optimization problem had no optimal solution.\n",
      "The CommonGround optimization problem had no optimal solution.\n",
      "The CommonGround_entani optimization problem had no optimal solution."
     ]
    },
    {
     "name": "stdout",
     "output_type": "stream",
     "text": [
      "\n",
      "The CommonGround optimization problem had no optimal solution.\n",
      "The tCommonGround optimization problem had no optimal solution.\n",
      "The CommonGround_entani optimization problem had no optimal solution.\n",
      "The CommonGround_entani optimization problem had no optimal solution.\n",
      "The CommonGround optimization problem had no optimal solution.\n",
      "The CommonGround optimization problem had no optimal solution.\n",
      "The CommonGround_entani optimization problem had no optimal solution.\n",
      "The tCommonGround optimization problem had no optimal solution.\n",
      "The tCommonGround optimization problem had no optimal solution.\n",
      "The CommonGround optimization problem had no optimal solution.\n",
      "The tCommonGround optimization problem had no optimal solution.\n",
      "The CommonGround_entani optimization problem had no optimal solution.\n",
      "The CommonGround_entani optimization problem had no optimal solution.\n",
      "The CommonGround optimization problem had no optimal solution.\n",
      "The CommonGround optimization problem had no optimal solution.\n",
      "The CommonGround_entani optimization problem had no optimal solution.\n",
      "The tCommonGround optimization problem had no optimal solution.\n",
      "The CommonGround optimization problem had no optimal solution.\n",
      "The tCommonGround optimization problem had no optimal solution.\n",
      "The tCommonGround optimization problem had no optimal solution.\n",
      "The CommonGround_entani optimization problem had no optimal solution."
     ]
    },
    {
     "name": "stdout",
     "output_type": "stream",
     "text": [
      "\n",
      "The CommonGround optimization problem had no optimal solution.\n",
      "The tCommonGround optimization problem had no optimal solution.\n",
      "The CommonGround_entani optimization problem had no optimal solution.\n",
      "The CommonGround optimization problem had no optimal solution.\n",
      "The CommonGround_entani optimization problem had no optimal solution.\n",
      "The CommonGround optimization problem had no optimal solution.\n",
      "The CommonGround_entani optimization problem had no optimal solution.\n",
      "The tCommonGround optimization problem had no optimal solution.\n",
      "The CommonGround optimization problem had no optimal solution.\n",
      "The CommonGround_entani optimization problem had no optimal solution."
     ]
    },
    {
     "name": "stdout",
     "output_type": "stream",
     "text": [
      "\n",
      "The CommonGround optimization problem had no optimal solution.\n",
      "The tCommonGround optimization problem had no optimal solution.\n",
      "The CommonGround_entani optimization problem had no optimal solution.\n",
      "The CommonGround optimization problem had no optimal solution.\n",
      "The CommonGround_entani optimization problem had no optimal solution.\n",
      "The tCommonGround optimization problem had no optimal solution.\n",
      "The CommonGround_entani optimization problem had no optimal solution.\n",
      "The CommonGround optimization problem had no optimal solution.\n",
      "The tCommonGround optimization problem had no optimal solution.\n",
      "The CommonGround optimization problem had no optimal solution.\n",
      "The tCommonGround optimization problem had no optimal solution.\n",
      "The CommonGround_entani optimization problem had no optimal solution."
     ]
    },
    {
     "name": "stdout",
     "output_type": "stream",
     "text": [
      "\n",
      "The CommonGround optimization problem had no optimal solution.\n",
      "The tCommonGround optimization problem had no optimal solution.\n"
     ]
    },
    {
     "name": "stdout",
     "output_type": "stream",
     "text": [
      "The CommonGround_entani optimization problem had no optimal solution.\n",
      "The CommonGround optimization problem had no optimal solution.\n",
      "The tCommonGround optimization problem had no optimal solution.\n",
      "The CommonGround_entani optimization problem had no optimal solution.\n",
      "The CommonGround optimization problem had no optimal solution.\n",
      "The tCommonGround optimization problem had no optimal solution.\n",
      "The CommonGround_entani optimization problem had no optimal solution.\n",
      "The CommonGround optimization problem had no optimal solution.\n",
      "The CommonGround_entani optimization problem had no optimal solution.\n",
      "The CommonGround_entani optimization problem had no optimal solution.\n",
      "The tCommonGround optimization problem had no optimal solution."
     ]
    },
    {
     "name": "stdout",
     "output_type": "stream",
     "text": [
      "\n",
      "The CommonGround optimization problem had no optimal solution.\n",
      "The CommonGround optimization problem had no optimal solution.\n",
      "The tCommonGround optimization problem had no optimal solution.\n",
      "The tCommonGround optimization problem had no optimal solution.\n",
      "The CommonGround_entani optimization problem had no optimal solution.\n",
      "The CommonGround optimization problem had no optimal solution.\n",
      "The tCommonGround optimization problem had no optimal solution.\n",
      "The CommonGround_entani optimization problem had no optimal solution."
     ]
    },
    {
     "name": "stdout",
     "output_type": "stream",
     "text": [
      "\n",
      "The CommonGround optimization problem had no optimal solution.\n",
      "The CommonGround_entani optimization problem had no optimal solution.\n",
      "The CommonGround optimization problem had no optimal solution.\n",
      "The tCommonGround optimization problem had no optimal solution.\n",
      "The tCommonGround optimization problem had no optimal solution."
     ]
    },
    {
     "name": "stdout",
     "output_type": "stream",
     "text": [
      "\n",
      "The CommonGround_entani optimization problem had no optimal solution.\n",
      "The CommonGround optimization problem had no optimal solution.\n",
      "The CommonGround_entani optimization problem had no optimal solution.\n",
      "The tCommonGround optimization problem had no optimal solution.\n",
      "The CommonGround optimization problem had no optimal solution.\n",
      "The tCommonGround optimization problem had no optimal solution.\n",
      "The CommonGround_entani optimization problem had no optimal solution.\n",
      "The CommonGround_entani optimization problem had no optimal solution."
     ]
    },
    {
     "name": "stdout",
     "output_type": "stream",
     "text": [
      "\n",
      "The CommonGround optimization problem had no optimal solution.\n",
      "The CommonGround optimization problem had no optimal solution.\n",
      "The CommonGround optimization problem had no optimal solution.\n",
      "The tCommonGround optimization problem had no optimal solution.\n",
      "The tCommonGround optimization problem had no optimal solution.\n",
      "The CommonGround_entani optimization problem had no optimal solution.\n",
      "The CommonGround optimization problem had no optimal solution.\n",
      "The tCommonGround optimization problem had no optimal solution.\n",
      "The CommonGround_entani optimization problem had no optimal solution.\n",
      "The CommonGround_entani optimization problem had no optimal solution.\n",
      "The CommonGround optimization problem had no optimal solution.\n",
      "The CommonGround optimization problem had no optimal solution.\n",
      "The tCommonGround optimization problem had no optimal solution.\n",
      "The CommonGround_entani optimization problem had no optimal solution."
     ]
    },
    {
     "name": "stdout",
     "output_type": "stream",
     "text": [
      "\n",
      "The tCommonGround optimization problem had no optimal solution.\n",
      "The CommonGround optimization problem had no optimal solution.\n",
      "The tCommonGround optimization problem had no optimal solution.\n",
      "The CommonGround_entani optimization problem had no optimal solution.\n",
      "The CommonGround optimization problem had no optimal solution.\n",
      "The tCommonGround optimization problem had no optimal solution.\n",
      "The CommonGround_entani optimization problem had no optimal solution.\n",
      "The CommonGround_entani optimization problem had no optimal solution.\n",
      "The CommonGround optimization problem had no optimal solution.\n",
      "The CommonGround optimization problem had no optimal solution.\n",
      "The tCommonGround optimization problem had no optimal solution.\n",
      "The CommonGround_entani optimization problem had no optimal solution."
     ]
    },
    {
     "name": "stdout",
     "output_type": "stream",
     "text": [
      "\n",
      "The tCommonGround optimization problem had no optimal solution.\n",
      "The CommonGround optimization problem had no optimal solution.\n",
      "The tCommonGround optimization problem had no optimal solution.\n"
     ]
    },
    {
     "name": "stdout",
     "output_type": "stream",
     "text": [
      "The CommonGround_entani optimization problem had no optimal solution.\n",
      "The CommonGround_entani optimization problem had no optimal solution.\n",
      "The CommonGround optimization problem had no optimal solution.\n",
      "The CommonGround optimization problem had no optimal solution.\n",
      "The tCommonGround optimization problem had no optimal solution.\n",
      "The tCommonGround optimization problem had no optimal solution.\n",
      "The CommonGround_entani optimization problem had no optimal solution.\n",
      "The CommonGround optimization problem had no optimal solution.\n"
     ]
    },
    {
     "name": "stdout",
     "output_type": "stream",
     "text": [
      "The tCommonGround optimization problem had no optimal solution.\n",
      "The CommonGround_entani optimization problem had no optimal solution.\n",
      "The CommonGround optimization problem had no optimal solution.\n",
      "The tCommonGround optimization problem had no optimal solution.\n",
      "The CommonGround_entani optimization problem had no optimal solution.\n",
      "The CommonGround optimization problem had no optimal solution.\n",
      "The tCommonGround optimization problem had no optimal solution.\n",
      "The CommonGround_entani optimization problem had no optimal solution.\n",
      "The CommonGround optimization problem had no optimal solution.\n",
      "The CommonGround_entani optimization problem had no optimal solution."
     ]
    },
    {
     "name": "stdout",
     "output_type": "stream",
     "text": [
      "\n",
      "The CommonGround_entani optimization problem had no optimal solution.\n",
      "The CommonGround optimization problem had no optimal solution.\n",
      "The CommonGround optimization problem had no optimal solution.\n",
      "The tCommonGround optimization problem had no optimal solution.\n",
      "The tCommonGround optimization problem had no optimal solution.\n",
      "The tCommonGround optimization problem had no optimal solution.\n"
     ]
    },
    {
     "name": "stdout",
     "output_type": "stream",
     "text": [
      "The CommonGround_entani optimization problem had no optimal solution.\n",
      "The CommonGround_entani optimization problem had no optimal solution.\n",
      "The CommonGround optimization problem had no optimal solution.\n",
      "The tCommonGround optimization problem had no optimal solution.\n",
      "The CommonGround optimization problem had no optimal solution.\n",
      "The CommonGround_entani optimization problem had no optimal solution.\n",
      "The tCommonGround optimization problem had no optimal solution.\n",
      "The CommonGround optimization problem had no optimal solution.\n",
      "The CommonGround_entani optimization problem had no optimal solution.\n",
      "The tCommonGround optimization problem had no optimal solution.\n",
      "The CommonGround optimization problem had no optimal solution.\n",
      "The tCommonGround optimization problem had no optimal solution.\n",
      "The CommonGround_entani optimization problem had no optimal solution.\n",
      "The CommonGround_entani optimization problem had no optimal solution.\n",
      "The CommonGround optimization problem had no optimal solution.\n",
      "The CommonGround optimization problem had no optimal solution.\n",
      "The tCommonGround optimization problem had no optimal solution.\n",
      "The tCommonGround optimization problem had no optimal solution.\n",
      "The CommonGround_entani optimization problem had no optimal solution."
     ]
    },
    {
     "name": "stdout",
     "output_type": "stream",
     "text": [
      "\n"
     ]
    },
    {
     "name": "stdout",
     "output_type": "stream",
     "text": [
      "The CommonGround_entani optimization problem had no optimal solution.\n",
      "The CommonGround optimization problem had no optimal solution.\n",
      "The CommonGround optimization problem had no optimal solution.\n",
      "The tCommonGround optimization problem had no optimal solution.\n",
      "The tCommonGround optimization problem had no optimal solution.\n",
      "The CommonGround_entani optimization problem had no optimal solution.\n",
      "The CommonGround_entani optimization problem had no optimal solution.\n",
      "The CommonGround optimization problem had no optimal solution.\n",
      "The CommonGround optimization problem had no optimal solution.\n",
      "The tCommonGround optimization problem had no optimal solution.\n",
      "The tCommonGround optimization problem had no optimal solution.\n",
      "The CommonGround_entani optimization problem had no optimal solution."
     ]
    },
    {
     "name": "stdout",
     "output_type": "stream",
     "text": [
      "\n",
      "The CommonGround optimization problem had no optimal solution.\n",
      "The CommonGround_entani optimization problem had no optimal solution.\n",
      "The CommonGround_entani optimization problem had no optimal solution.\n",
      "The CommonGround_entani optimization problem had no optimal solution.\n",
      "The CommonGround optimization problem had no optimal solution.\n",
      "The CommonGround optimization problem had no optimal solution.\n",
      "The CommonGround optimization problem had no optimal solution.\n",
      "The tCommonGround optimization problem had no optimal solution.\n",
      "The tCommonGround optimization problem had no optimal solution.\n",
      "The CommonGround_entani optimization problem had no optimal solution."
     ]
    },
    {
     "name": "stdout",
     "output_type": "stream",
     "text": [
      "\n",
      "The CommonGround_entani optimization problem had no optimal solution.\n",
      "The CommonGround_entani optimization problem had no optimal solution.\n",
      "The CommonGround_entani optimization problem had no optimal solution.\n",
      "The CommonGround optimization problem had no optimal solution.\n",
      "The CommonGround optimization problem had no optimal solution.\n",
      "The CommonGround optimization problem had no optimal solution.\n",
      "The CommonGround optimization problem had no optimal solution.\n",
      "The tCommonGround optimization problem had no optimal solution.\n",
      "The tCommonGround optimization problem had no optimal solution.\n",
      "The tCommonGround optimization problem had no optimal solution.\n",
      "The tCommonGround optimization problem had no optimal solution.\n",
      "The CommonGround_entani optimization problem had no optimal solution.\n",
      "The CommonGround_entani optimization problem had no optimal solution.\n",
      "The CommonGround_entani optimization problem had no optimal solution."
     ]
    },
    {
     "name": "stdout",
     "output_type": "stream",
     "text": [
      "\n",
      "The CommonGround_entani optimization problem had no optimal solution.\n",
      "The CommonGround optimization problem had no optimal solution.\n",
      "The CommonGround optimization problem had no optimal solution.\n",
      "The CommonGround optimization problem had no optimal solution.\n",
      "The CommonGround optimization problem had no optimal solution.\n",
      "The tCommonGround optimization problem had no optimal solution.\n",
      "The tCommonGround optimization problem had no optimal solution.\n",
      "The tCommonGround optimization problem had no optimal solution.\n",
      "The tCommonGround optimization problem had no optimal solution.\n",
      "The CommonGround_entani optimization problem had no optimal solution."
     ]
    },
    {
     "name": "stdout",
     "output_type": "stream",
     "text": [
      "\n",
      "The CommonGround_entani optimization problem had no optimal solution.\n",
      "The CommonGround_entani optimization problem had no optimal solution.\n",
      "The CommonGround_entani optimization problem had no optimal solution.\n",
      "The CommonGround optimization problem had no optimal solution.\n",
      "The CommonGround optimization problem had no optimal solution.\n",
      "The CommonGround optimization problem had no optimal solution.\n",
      "The CommonGround optimization problem had no optimal solution.\n",
      "The tCommonGround optimization problem had no optimal solution.\n",
      "The tCommonGround optimization problem had no optimal solution.\n",
      "The tCommonGround optimization problem had no optimal solution.\n",
      "The tCommonGround optimization problem had no optimal solution.\n",
      "The CommonGround_entani optimization problem had no optimal solution."
     ]
    },
    {
     "name": "stdout",
     "output_type": "stream",
     "text": [
      "\n",
      "The CommonGround_entani optimization problem had no optimal solution.\n",
      "The CommonGround_entani optimization problem had no optimal solution.\n",
      "The CommonGround optimization problem had no optimal solution.\n",
      "The CommonGround_entani optimization problem had no optimal solution.\n",
      "The CommonGround optimization problem had no optimal solution.\n",
      "The CommonGround optimization problem had no optimal solution.\n",
      "The tCommonGround optimization problem had no optimal solution.\n",
      "The CommonGround optimization problem had no optimal solution.\n",
      "The tCommonGround optimization problem had no optimal solution.\n",
      "The tCommonGround optimization problem had no optimal solution.\n",
      "The CommonGround_entani optimization problem had no optimal solution."
     ]
    },
    {
     "name": "stdout",
     "output_type": "stream",
     "text": [
      "\n",
      "The CommonGround_entani optimization problem had no optimal solution.\n",
      "The CommonGround optimization problem had no optimal solution.\n",
      "The CommonGround_entani optimization problem had no optimal solution.\n",
      "The CommonGround_entani optimization problem had no optimal solution.\n",
      "The CommonGround optimization problem had no optimal solution.\n",
      "The tCommonGround optimization problem had no optimal solution.\n",
      "The CommonGround optimization problem had no optimal solution.\n",
      "The tCommonGround optimization problem had no optimal solution.\n",
      "The tCommonGround optimization problem had no optimal solution.\n",
      "The CommonGround optimization problem had no optimal solution."
     ]
    },
    {
     "name": "stdout",
     "output_type": "stream",
     "text": [
      "\n",
      "The CommonGround_entani optimization problem had no optimal solution.\n",
      "The CommonGround optimization problem had no optimal solution.\n",
      "The CommonGround_entani optimization problem had no optimal solution.\n",
      "The tCommonGround optimization problem had no optimal solution.\n",
      "The CommonGround_entani optimization problem had no optimal solution.\n",
      "The CommonGround optimization problem had no optimal solution.\n",
      "The CommonGround optimization problem had no optimal solution.\n",
      "The tCommonGround optimization problem had no optimal solution.\n",
      "The tCommonGround optimization problem had no optimal solution.\n",
      "The CommonGround_entani optimization problem had no optimal solution.\n",
      "The CommonGround_entani optimization problem had no optimal solution."
     ]
    },
    {
     "name": "stdout",
     "output_type": "stream",
     "text": [
      "\n",
      "The CommonGround optimization problem had no optimal solution.\n",
      "The tCommonGround optimization problem had no optimal solution.\n",
      "The CommonGround optimization problem had no optimal solution.\n",
      "The tCommonGround optimization problem had no optimal solution.\n",
      "The CommonGround_entani optimization problem had no optimal solution.\n",
      "The CommonGround optimization problem had no optimal solution.\n",
      "The tCommonGround optimization problem had no optimal solution.\n",
      "The CommonGround_entani optimization problem had no optimal solution.\n",
      "The CommonGround_entani optimization problem had no optimal solution.\n",
      "The CommonGround optimization problem had no optimal solution.\n",
      "The CommonGround optimization problem had no optimal solution.\n",
      "The tCommonGround optimization problem had no optimal solution.\n",
      "The tCommonGround optimization problem had no optimal solution.\n",
      "The CommonGround_entani optimization problem had no optimal solution.\n",
      "The CommonGround optimization problem had no optimal solution.\n",
      "The CommonGround_entani optimization problem had no optimal solution.\n",
      "The CommonGround_entani optimization problem had no optimal solution.\n",
      "The CommonGround_entani optimization problem had no optimal solution."
     ]
    },
    {
     "name": "stdout",
     "output_type": "stream",
     "text": [
      "\n",
      "The CommonGround optimization problem had no optimal solution.\n",
      "The CommonGround optimization problem had no optimal solution.\n",
      "The CommonGround optimization problem had no optimal solution.\n",
      "The tCommonGround optimization problem had no optimal solution.\n",
      "The tCommonGround optimization problem had no optimal solution.\n",
      "The CommonGround_entani optimization problem had no optimal solution.\n",
      "The tCommonGround optimization problem had no optimal solution.\n",
      "The CommonGround optimization problem had no optimal solution.\n",
      "The tCommonGround optimization problem had no optimal solution.\n",
      "The CommonGround_entani optimization problem had no optimal solution.\n",
      "The CommonGround_entani optimization problem had no optimal solution."
     ]
    },
    {
     "name": "stdout",
     "output_type": "stream",
     "text": [
      "\n",
      "The CommonGround optimization problem had no optimal solution.\n",
      "The CommonGround_entani optimization problem had no optimal solution.\n",
      "The CommonGround optimization problem had no optimal solution.\n",
      "The tCommonGround optimization problem had no optimal solution.\n",
      "The CommonGround optimization problem had no optimal solution.\n",
      "The tCommonGround optimization problem had no optimal solution.\n",
      "The CommonGround_entani optimization problem had no optimal solution.\n",
      "The tCommonGround optimization problem had no optimal solution.\n",
      "The CommonGround optimization problem had no optimal solution.\n",
      "The tCommonGround optimization problem had no optimal solution.\n",
      "The CommonGround_entani optimization problem had no optimal solution.\n",
      "The CommonGround_entani optimization problem had no optimal solution."
     ]
    },
    {
     "name": "stdout",
     "output_type": "stream",
     "text": [
      "\n",
      "The CommonGround_entani optimization problem had no optimal solution.\n",
      "The CommonGround optimization problem had no optimal solution.\n",
      "The CommonGround optimization problem had no optimal solution.\n",
      "The CommonGround optimization problem had no optimal solution.\n",
      "The tCommonGround optimization problem had no optimal solution.\n",
      "The CommonGround_entani optimization problem had no optimal solution.\n",
      "The tCommonGround optimization problem had no optimal solution.\n",
      "The CommonGround optimization problem had no optimal solution.\n",
      "The tCommonGround optimization problem had no optimal solution.\n",
      "The CommonGround_entani optimization problem had no optimal solution.\n",
      "The CommonGround optimization problem had no optimal solution.\n",
      "The CommonGround_entani optimization problem had no optimal solution.\n",
      "The tCommonGround optimization problem had no optimal solution.\n",
      "The CommonGround optimization problem had no optimal solution.\n",
      "The CommonGround_entani optimization problem had no optimal solution."
     ]
    },
    {
     "name": "stdout",
     "output_type": "stream",
     "text": [
      "\n",
      "The tCommonGround optimization problem had no optimal solution.\n",
      "The CommonGround optimization problem had no optimal solution.\n",
      "The CommonGround_entani optimization problem had no optimal solution.\n",
      "The tCommonGround optimization problem had no optimal solution.\n",
      "The CommonGround optimization problem had no optimal solution.\n",
      "The tCommonGround optimization problem had no optimal solution.\n",
      "The CommonGround_entani optimization problem had no optimal solution.\n",
      "The CommonGround optimization problem had no optimal solution.\n",
      "The CommonGround_entani optimization problem had no optimal solution.\n",
      "The tCommonGround optimization problem had no optimal solution.\n",
      "The CommonGround_entani optimization problem had no optimal solution."
     ]
    },
    {
     "name": "stdout",
     "output_type": "stream",
     "text": [
      "\n",
      "The CommonGround optimization problem had no optimal solution.\n",
      "The CommonGround optimization problem had no optimal solution.\n",
      "The tCommonGround optimization problem had no optimal solution.\n"
     ]
    },
    {
     "name": "stdout",
     "output_type": "stream",
     "text": [
      "The tCommonGround optimization problem had no optimal solution.\n",
      "The CommonGround_entani optimization problem had no optimal solution.\n",
      "The CommonGround optimization problem had no optimal solution.\n",
      "The tCommonGround optimization problem had no optimal solution.\n",
      "The CommonGround_entani optimization problem had no optimal solution.\n",
      "The CommonGround_entani optimization problem had no optimal solution.\n",
      "The CommonGround optimization problem had no optimal solution.\n",
      "The CommonGround optimization problem had no optimal solution.\n",
      "The tCommonGround optimization problem had no optimal solution.\n",
      "The CommonGround_entani optimization problem had no optimal solution.\n",
      "The tCommonGround optimization problem had no optimal solution.\n",
      "The CommonGround optimization problem had no optimal solution.\n",
      "The tCommonGround optimization problem had no optimal solution.\n",
      "The CommonGround_entani optimization problem had no optimal solution.\n",
      "The CommonGround optimization problem had no optimal solution.\n",
      "The tCommonGround optimization problem had no optimal solution.\n",
      "The CommonGround_entani optimization problem had no optimal solution.\n",
      "The CommonGround_entani optimization problem had no optimal solution."
     ]
    },
    {
     "name": "stdout",
     "output_type": "stream",
     "text": [
      "\n",
      "The CommonGround optimization problem had no optimal solution.\n",
      "The tCommonGround optimization problem had no optimal solution.\n",
      "The CommonGround optimization problem had no optimal solution.\n",
      "The CommonGround_entani optimization problem had no optimal solution.\n",
      "The tCommonGround optimization problem had no optimal solution.\n",
      "The CommonGround optimization problem had no optimal solution.\n",
      "The tCommonGround optimization problem had no optimal solution.\n",
      "The CommonGround_entani optimization problem had no optimal solution.\n",
      "The CommonGround optimization problem had no optimal solution.\n",
      "The CommonGround_entani optimization problem had no optimal solution.\n",
      "The tCommonGround optimization problem had no optimal solution.\n",
      "The CommonGround optimization problem had no optimal solution.\n",
      "The tCommonGround optimization problem had no optimal solution.\n",
      "The CommonGround_entani optimization problem had no optimal solution."
     ]
    },
    {
     "name": "stdout",
     "output_type": "stream",
     "text": [
      "\n",
      "The CommonGround optimization problem had no optimal solution.\n"
     ]
    },
    {
     "name": "stdout",
     "output_type": "stream",
     "text": [
      "The tCommonGround optimization problem had no optimal solution.\n",
      "The CommonGround_entani optimization problem had no optimal solution.\n",
      "The CommonGround optimization problem had no optimal solution.\n",
      "The CommonGround_entani optimization problem had no optimal solution.\n",
      "The tCommonGround optimization problem had no optimal solution.\n",
      "The CommonGround optimization problem had no optimal solution.\n",
      "The tCommonGround optimization problem had no optimal solution.\n",
      "The CommonGround_entani optimization problem had no optimal solution."
     ]
    },
    {
     "name": "stdout",
     "output_type": "stream",
     "text": [
      "\n"
     ]
    },
    {
     "name": "stdout",
     "output_type": "stream",
     "text": [
      "The CommonGround optimization problem had no optimal solution.\n",
      "The CommonGround optimization problem had no optimal solution.\n",
      "The tCommonGround optimization problem had no optimal solution.\n",
      "The CommonGround_entani optimization problem had no optimal solution.\n",
      "The CommonGround optimization problem had no optimal solution.\n",
      "The CommonGround_entani optimization problem had no optimal solution.\n",
      "The tCommonGround optimization problem had no optimal solution.\n",
      "The CommonGround_entani optimization problem had no optimal solution."
     ]
    },
    {
     "name": "stdout",
     "output_type": "stream",
     "text": [
      "\n",
      "The CommonGround optimization problem had no optimal solution.\n",
      "The CommonGround_entani optimization problem had no optimal solution.\n",
      "The tCommonGround optimization problem had no optimal solution.\n",
      "The CommonGround optimization problem had no optimal solution.\n",
      "The tCommonGround optimization problem had no optimal solution.\n",
      "The CommonGround_entani optimization problem had no optimal solution.\n",
      "The CommonGround optimization problem had no optimal solution.\n",
      "The tCommonGround optimization problem had no optimal solution.\n",
      "The CommonGround_entani optimization problem had no optimal solution.\n",
      "The CommonGround optimization problem had no optimal solution.\n",
      "The tCommonGround optimization problem had no optimal solution.\n",
      "The CommonGround optimization problem had no optimal solution."
     ]
    },
    {
     "name": "stdout",
     "output_type": "stream",
     "text": [
      "\n",
      "The CommonGround_entani optimization problem had no optimal solution.\n",
      "The CommonGround optimization problem had no optimal solution.\n",
      "The CommonGround_entani optimization problem had no optimal solution.\n",
      "The tCommonGround optimization problem had no optimal solution.\n",
      "The CommonGround optimization problem had no optimal solution.\n",
      "The tCommonGround optimization problem had no optimal solution.\n",
      "The CommonGround_entani optimization problem had no optimal solution."
     ]
    },
    {
     "name": "stdout",
     "output_type": "stream",
     "text": [
      "\n",
      "The CommonGround optimization problem had no optimal solution.\n",
      "The tCommonGround optimization problem had no optimal solution.\n",
      "The CommonGround_entani optimization problem had no optimal solution.\n",
      "The CommonGround optimization problem had no optimal solution.\n",
      "The CommonGround_entani optimization problem had no optimal solution.\n",
      "The tCommonGround optimization problem had no optimal solution.\n",
      "The CommonGround optimization problem had no optimal solution.\n",
      "The CommonGround_entani optimization problem had no optimal solution.\n",
      "The CommonGround_entani optimization problem had no optimal solution."
     ]
    },
    {
     "name": "stdout",
     "output_type": "stream",
     "text": [
      "\n",
      "The CommonGround optimization problem had no optimal solution.\n",
      "The tCommonGround optimization problem had no optimal solution.\n",
      "The CommonGround optimization problem had no optimal solution.\n",
      "The tCommonGround optimization problem had no optimal solution.\n",
      "The tCommonGround optimization problem had no optimal solution.\n"
     ]
    },
    {
     "name": "stdout",
     "output_type": "stream",
     "text": [
      "The CommonGround_entani optimization problem had no optimal solution.\n",
      "The CommonGround optimization problem had no optimal solution.\n",
      "The tCommonGround optimization problem had no optimal solution.\n",
      "The CommonGround_entani optimization problem had no optimal solution.\n",
      "The CommonGround_entani optimization problem had no optimal solution.\n",
      "The CommonGround optimization problem had no optimal solution.\n",
      "The CommonGround_entani optimization problem had no optimal solution.\n",
      "The CommonGround optimization problem had no optimal solution.\n",
      "The CommonGround optimization problem had no optimal solution."
     ]
    },
    {
     "name": "stdout",
     "output_type": "stream",
     "text": [
      "\n",
      "The tCommonGround optimization problem had no optimal solution.\n",
      "The tCommonGround optimization problem had no optimal solution.\n",
      "The tCommonGround optimization problem had no optimal solution.\n"
     ]
    },
    {
     "name": "stdout",
     "output_type": "stream",
     "text": [
      "The CommonGround_entani optimization problem had no optimal solution.\n",
      "The CommonGround optimization problem had no optimal solution.\n",
      "The tCommonGround optimization problem had no optimal solution.\n",
      "The CommonGround_entani optimization problem had no optimal solution.\n",
      "The CommonGround_entani optimization problem had no optimal solution.\n",
      "The CommonGround optimization problem had no optimal solution.\n",
      "The CommonGround_entani optimization problem had no optimal solution.\n",
      "The CommonGround optimization problem had no optimal solution."
     ]
    },
    {
     "name": "stdout",
     "output_type": "stream",
     "text": [
      "\n",
      "The CommonGround optimization problem had no optimal solution.\n",
      "The tCommonGround optimization problem had no optimal solution.\n",
      "The tCommonGround optimization problem had no optimal solution.\n",
      "The CommonGround_entani optimization problem had no optimal solution.\n",
      "The CommonGround optimization problem had no optimal solution.\n",
      "The tCommonGround optimization problem had no optimal solution.\n",
      "The CommonGround_entani optimization problem had no optimal solution.\n",
      "The CommonGround_entani optimization problem had no optimal solution.\n",
      "The CommonGround optimization problem had no optimal solution.\n",
      "The CommonGround_entani optimization problem had no optimal solution."
     ]
    },
    {
     "name": "stdout",
     "output_type": "stream",
     "text": [
      "\n",
      "The CommonGround optimization problem had no optimal solution.\n",
      "The tCommonGround optimization problem had no optimal solution.\n",
      "The CommonGround optimization problem had no optimal solution.\n",
      "The tCommonGround optimization problem had no optimal solution.\n",
      "The CommonGround_entani optimization problem had no optimal solution.\n",
      "The CommonGround optimization problem had no optimal solution.\n",
      "The tCommonGround optimization problem had no optimal solution.\n",
      "The CommonGround_entani optimization problem had no optimal solution."
     ]
    },
    {
     "name": "stdout",
     "output_type": "stream",
     "text": [
      "\n",
      "The CommonGround_entani optimization problem had no optimal solution.\n",
      "The CommonGround_entani optimization problem had no optimal solution.\n",
      "The CommonGround optimization problem had no optimal solution.\n",
      "The CommonGround optimization problem had no optimal solution.\n",
      "The tCommonGround optimization problem had no optimal solution.\n",
      "The CommonGround optimization problem had no optimal solution.\n",
      "The tCommonGround optimization problem had no optimal solution.\n",
      "The tCommonGround optimization problem had no optimal solution.\n",
      "The CommonGround_entani optimization problem had no optimal solution.\n",
      "The CommonGround optimization problem had no optimal solution.\n",
      "The CommonGround_entani optimization problem had no optimal solution.\n",
      "The CommonGround optimization problem had no optimal solution.\n",
      "The tCommonGround optimization problem had no optimal solution.\n",
      "The CommonGround_entani optimization problem had no optimal solution.\n",
      "The tCommonGround optimization problem had no optimal solution.\n",
      "The CommonGround optimization problem had no optimal solution.\n",
      "The tCommonGround optimization problem had no optimal solution.\n",
      "The CommonGround_entani optimization problem had no optimal solution."
     ]
    },
    {
     "name": "stdout",
     "output_type": "stream",
     "text": [
      "\n",
      "The CommonGround_entani optimization problem had no optimal solution.\n",
      "The CommonGround optimization problem had no optimal solution."
     ]
    },
    {
     "name": "stdout",
     "output_type": "stream",
     "text": [
      "\n",
      "The CommonGround optimization problem had no optimal solution.\n",
      "The tCommonGround optimization problem had no optimal solution.\n",
      "The tCommonGround optimization problem had no optimal solution.\n",
      "The CommonGround_entani optimization problem had no optimal solution.\n",
      "The CommonGround optimization problem had no optimal solution.\n",
      "The tCommonGround optimization problem had no optimal solution.\n",
      "The CommonGround_entani optimization problem had no optimal solution."
     ]
    },
    {
     "name": "stdout",
     "output_type": "stream",
     "text": [
      "\n",
      "The CommonGround_entani optimization problem had no optimal solution.\n",
      "The CommonGround optimization problem had no optimal solution.\n",
      "The tCommonGround optimization problem had no optimal solution.\n",
      "The CommonGround optimization problem had no optimal solution.\n",
      "The tCommonGround optimization problem had no optimal solution.\n",
      "The CommonGround_entani optimization problem had no optimal solution.\n",
      "The CommonGround_entani optimization problem had no optimal solution.\n",
      "The CommonGround optimization problem had no optimal solution.\n",
      "The tCommonGround optimization problem had no optimal solution.\n",
      "The CommonGround optimization problem had no optimal solution.\n",
      "The tCommonGround optimization problem had no optimal solution.\n",
      "The CommonGround_entani optimization problem had no optimal solution.\n",
      "The CommonGround_entani optimization problem had no optimal solution.\n",
      "The CommonGround optimization problem had no optimal solution.\n",
      "The CommonGround optimization problem had no optimal solution.\n",
      "The CommonGround_entani optimization problem had no optimal solution."
     ]
    },
    {
     "name": "stdout",
     "output_type": "stream",
     "text": [
      "\n",
      "The tCommonGround optimization problem had no optimal solution.\n",
      "The CommonGround optimization problem had no optimal solution.\n"
     ]
    },
    {
     "name": "stdout",
     "output_type": "stream",
     "text": [
      "The tCommonGround optimization problem had no optimal solution.\n",
      "The CommonGround_entani optimization problem had no optimal solution.\n",
      "The CommonGround optimization problem had no optimal solution.\n",
      "The tCommonGround optimization problem had no optimal solution.\n",
      "The CommonGround_entani optimization problem had no optimal solution.\n",
      "The CommonGround_entani optimization problem had no optimal solution.\n",
      "The CommonGround optimization problem had no optimal solution.\n",
      "The CommonGround optimization problem had no optimal solution.\n",
      "The tCommonGround optimization problem had no optimal solution.\n",
      "The CommonGround_entani optimization problem had no optimal solution."
     ]
    },
    {
     "name": "stdout",
     "output_type": "stream",
     "text": [
      "\n",
      "The tCommonGround optimization problem had no optimal solution.\n",
      "The CommonGround optimization problem had no optimal solution.\n",
      "The tCommonGround optimization problem had no optimal solution.\n"
     ]
    },
    {
     "name": "stdout",
     "output_type": "stream",
     "text": [
      "The CommonGround_entani optimization problem had no optimal solution.\n",
      "The CommonGround optimization problem had no optimal solution.\n",
      "The tCommonGround optimization problem had no optimal solution.\n",
      "The CommonGround_entani optimization problem had no optimal solution.\n",
      "The CommonGround optimization problem had no optimal solution.\n",
      "The CommonGround_entani optimization problem had no optimal solution.\n",
      "The CommonGround_entani optimization problem had no optimal solution.\n",
      "The CommonGround optimization problem had no optimal solution.\n",
      "The tCommonGround optimization problem had no optimal solution.\n",
      "The CommonGround optimization problem had no optimal solution."
     ]
    },
    {
     "name": "stdout",
     "output_type": "stream",
     "text": [
      "\n",
      "The tCommonGround optimization problem had no optimal solution.\n",
      "The CommonGround_entani optimization problem had no optimal solution.\n",
      "The CommonGround optimization problem had no optimal solution.\n",
      "The tCommonGround optimization problem had no optimal solution.\n",
      "The CommonGround_entani optimization problem had no optimal solution.\n",
      "The CommonGround optimization problem had no optimal solution.\n",
      "The CommonGround_entani optimization problem had no optimal solution."
     ]
    },
    {
     "name": "stdout",
     "output_type": "stream",
     "text": [
      "\n",
      "The CommonGround_entani optimization problem had no optimal solution.\n",
      "The CommonGround optimization problem had no optimal solution.\n",
      "The tCommonGround optimization problem had no optimal solution.\n",
      "The tCommonGround optimization problem had no optimal solution."
     ]
    },
    {
     "name": "stdout",
     "output_type": "stream",
     "text": [
      "\n",
      "The CommonGround optimization problem had no optimal solution.\n",
      "The tCommonGround optimization problem had no optimal solution.\n",
      "The CommonGround_entani optimization problem had no optimal solution.\n",
      "The CommonGround optimization problem had no optimal solution.\n",
      "The CommonGround_entani optimization problem had no optimal solution.\n",
      "The CommonGround optimization problem had no optimal solution.\n",
      "The tCommonGround optimization problem had no optimal solution.\n",
      "The CommonGround_entani optimization problem had no optimal solution."
     ]
    },
    {
     "name": "stdout",
     "output_type": "stream",
     "text": [
      "\n",
      "The tCommonGround optimization problem had no optimal solution.\n",
      "The CommonGround optimization problem had no optimal solution.\n",
      "The CommonGround_entani optimization problem had no optimal solution.\n",
      "The tCommonGround optimization problem had no optimal solution."
     ]
    },
    {
     "name": "stdout",
     "output_type": "stream",
     "text": [
      "\n",
      "The CommonGround optimization problem had no optimal solution.\n",
      "The tCommonGround optimization problem had no optimal solution.\n",
      "The CommonGround_entani optimization problem had no optimal solution.\n",
      "The CommonGround optimization problem had no optimal solution.\n",
      "The CommonGround_entani optimization problem had no optimal solution.\n",
      "The tCommonGround optimization problem had no optimal solution.\n",
      "The CommonGround optimization problem had no optimal solution.\n",
      "The tCommonGround optimization problem had no optimal solution.\n",
      "The CommonGround_entani optimization problem had no optimal solution."
     ]
    },
    {
     "name": "stdout",
     "output_type": "stream",
     "text": [
      "\n"
     ]
    },
    {
     "name": "stdout",
     "output_type": "stream",
     "text": [
      "The CommonGround_entani optimization problem had no optimal solution.\n",
      "The CommonGround optimization problem had no optimal solution.\n",
      "The CommonGround optimization problem had no optimal solution.\n",
      "The tCommonGround optimization problem had no optimal solution.\n",
      "The tCommonGround optimization problem had no optimal solution.\n",
      "The CommonGround_entani optimization problem had no optimal solution.\n",
      "The CommonGround optimization problem had no optimal solution.\n",
      "The CommonGround_entani optimization problem had no optimal solution.\n",
      "The CommonGround optimization problem had no optimal solution.\n",
      "The CommonGround_entani optimization problem had no optimal solution."
     ]
    },
    {
     "name": "stdout",
     "output_type": "stream",
     "text": [
      "\n",
      "The tCommonGround optimization problem had no optimal solution.\n",
      "The CommonGround optimization problem had no optimal solution.\n"
     ]
    },
    {
     "name": "stdout",
     "output_type": "stream",
     "text": [
      "The CommonGround_entani optimization problem had no optimal solution.\n",
      "The CommonGround_entani optimization problem had no optimal solution.\n",
      "The CommonGround optimization problem had no optimal solution.\n",
      "The CommonGround optimization problem had no optimal solution.\n",
      "The tCommonGround optimization problem had no optimal solution.\n",
      "The tCommonGround optimization problem had no optimal solution.\n",
      "The tCommonGround optimization problem had no optimal solution.\n",
      "The CommonGround_entani optimization problem had no optimal solution.\n",
      "The CommonGround optimization problem had no optimal solution.\n",
      "The tCommonGround optimization problem had no optimal solution.\n",
      "The CommonGround_entani optimization problem had no optimal solution."
     ]
    },
    {
     "name": "stdout",
     "output_type": "stream",
     "text": [
      "\n",
      "The CommonGround_entani optimization problem had no optimal solution.\n",
      "The CommonGround optimization problem had no optimal solution.\n",
      "The CommonGround optimization problem had no optimal solution.\n",
      "The tCommonGround optimization problem had no optimal solution.\n",
      "The CommonGround_entani optimization problem had no optimal solution.\n",
      "The tCommonGround optimization problem had no optimal solution."
     ]
    },
    {
     "name": "stdout",
     "output_type": "stream",
     "text": [
      "\n",
      "The CommonGround optimization problem had no optimal solution.\n",
      "The tCommonGround optimization problem had no optimal solution.\n",
      "The CommonGround_entani optimization problem had no optimal solution.\n",
      "The CommonGround optimization problem had no optimal solution.\n",
      "The tCommonGround optimization problem had no optimal solution.\n",
      "The CommonGround_entani optimization problem had no optimal solution.\n",
      "The CommonGround_entani optimization problem had no optimal solution."
     ]
    },
    {
     "name": "stdout",
     "output_type": "stream",
     "text": [
      "\n",
      "The CommonGround optimization problem had no optimal solution.\n",
      "The CommonGround optimization problem had no optimal solution.\n"
     ]
    },
    {
     "name": "stdout",
     "output_type": "stream",
     "text": [
      "The tCommonGround optimization problem had no optimal solution.\n",
      "The tCommonGround optimization problem had no optimal solution.\n",
      "The CommonGround_entani optimization problem had no optimal solution.\n",
      "The CommonGround optimization problem had no optimal solution.\n",
      "The tCommonGround optimization problem had no optimal solution.\n",
      "The CommonGround_entani optimization problem had no optimal solution.\n",
      "The CommonGround optimization problem had no optimal solution.\n",
      "The tCommonGround optimization problem had no optimal solution.\n",
      "The CommonGround_entani optimization problem had no optimal solution.\n",
      "The CommonGround optimization problem had no optimal solution.\n",
      "The CommonGround_entani optimization problem had no optimal solution."
     ]
    },
    {
     "name": "stdout",
     "output_type": "stream",
     "text": [
      "\n"
     ]
    },
    {
     "name": "stdout",
     "output_type": "stream",
     "text": [
      "The CommonGround_entani optimization problem had no optimal solution.\n",
      "The CommonGround optimization problem had no optimal solution.\n",
      "The tCommonGround optimization problem had no optimal solution.\n",
      "The tCommonGround optimization problem had no optimal solution.\n",
      "The CommonGround_entani optimization problem had no optimal solution.\n",
      "The CommonGround optimization problem had no optimal solution.\n",
      "The CommonGround_entani optimization problem had no optimal solution.\n",
      "The tCommonGround optimization problem had no optimal solution.\n",
      "The CommonGround optimization problem had no optimal solution.\n",
      "The CommonGround_entani optimization problem had no optimal solution.\n",
      "The tCommonGround optimization problem had no optimal solution.\n",
      "The CommonGround_entani optimization problem had no optimal solution.\n",
      "The CommonGround optimization problem had no optimal solution.\n",
      "The CommonGround optimization problem had no optimal solution.\n",
      "The tCommonGround optimization problem had no optimal solution.\n",
      "The tCommonGround optimization problem had no optimal solution.\n",
      "The CommonGround_entani optimization problem had no optimal solution.\n",
      "The CommonGround optimization problem had no optimal solution.\n",
      "The tCommonGround optimization problem had no optimal solution.\n",
      "The CommonGround_entani optimization problem had no optimal solution."
     ]
    },
    {
     "name": "stdout",
     "output_type": "stream",
     "text": [
      "\n",
      "The CommonGround optimization problem had no optimal solution.\n"
     ]
    },
    {
     "name": "stdout",
     "output_type": "stream",
     "text": [
      "The CommonGround_entani optimization problem had no optimal solution.\n",
      "The CommonGround_entani optimization problem had no optimal solution.\n",
      "The tCommonGround optimization problem had no optimal solution.\n",
      "The CommonGround optimization problem had no optimal solution.\n",
      "The CommonGround optimization problem had no optimal solution.\n",
      "The tCommonGround optimization problem had no optimal solution.\n",
      "The CommonGround_entani optimization problem had no optimal solution.\n",
      "The CommonGround optimization problem had no optimal solution.\n",
      "The CommonGround optimization problem had no optimal solution."
     ]
    },
    {
     "name": "stdout",
     "output_type": "stream",
     "text": [
      "\n",
      "The tCommonGround optimization problem had no optimal solution.\n"
     ]
    },
    {
     "name": "stdout",
     "output_type": "stream",
     "text": [
      "The CommonGround_entani optimization problem had no optimal solution.\n",
      "The CommonGround_entani optimization problem had no optimal solution.\n",
      "The CommonGround optimization problem had no optimal solution.\n",
      "The CommonGround optimization problem had no optimal solution.\n",
      "The CommonGround_entani optimization problem had no optimal solution.\n",
      "The tCommonGround optimization problem had no optimal solution.\n",
      "The CommonGround optimization problem had no optimal solution.\n",
      "The tCommonGround optimization problem had no optimal solution.\n",
      "The CommonGround_entani optimization problem had no optimal solution.\n",
      "The CommonGround_entani optimization problem had no optimal solution.\n",
      "The CommonGround optimization problem had no optimal solution.\n",
      "The CommonGround optimization problem had no optimal solution.\n",
      "The tCommonGround optimization problem had no optimal solution.\n",
      "The tCommonGround optimization problem had no optimal solution.\n",
      "The CommonGround_entani optimization problem had no optimal solution.\n",
      "The CommonGround optimization problem had no optimal solution.\n",
      "The CommonGround_entani optimization problem had no optimal solution."
     ]
    },
    {
     "name": "stdout",
     "output_type": "stream",
     "text": [
      "\n",
      "The CommonGround optimization problem had no optimal solution.\n",
      "The CommonGround_entani optimization problem had no optimal solution.\n",
      "The tCommonGround optimization problem had no optimal solution.\n"
     ]
    },
    {
     "name": "stdout",
     "output_type": "stream",
     "text": [
      "The CommonGround optimization problem had no optimal solution.\n",
      "The tCommonGround optimization problem had no optimal solution.\n",
      "The CommonGround_entani optimization problem had no optimal solution.\n",
      "The CommonGround optimization problem had no optimal solution.\n",
      "The tCommonGround optimization problem had no optimal solution.\n",
      "The CommonGround_entani optimization problem had no optimal solution.\n",
      "The CommonGround_entani optimization problem had no optimal solution.\n",
      "The CommonGround optimization problem had no optimal solution.\n",
      "The CommonGround optimization problem had no optimal solution.\n",
      "The tCommonGround optimization problem had no optimal solution.\n",
      "The tCommonGround optimization problem had no optimal solution.\n",
      "The CommonGround_entani optimization problem had no optimal solution.\n",
      "The CommonGround optimization problem had no optimal solution.\n",
      "The tCommonGround optimization problem had no optimal solution.\n",
      "The CommonGround_entani optimization problem had no optimal solution.\n",
      "The CommonGround optimization problem had no optimal solution.\n",
      "The tCommonGround optimization problem had no optimal solution.\n",
      "The CommonGround_entani optimization problem had no optimal solution.\n",
      "The CommonGround_entani optimization problem had no optimal solution.\n",
      "The CommonGround optimization problem had no optimal solution.\n",
      "The CommonGround optimization problem had no optimal solution.\n",
      "The tCommonGround optimization problem had no optimal solution.\n",
      "The tCommonGround optimization problem had no optimal solution.\n",
      "The CommonGround_entani optimization problem had no optimal solution.\n",
      "The CommonGround optimization problem had no optimal solution.\n",
      "The tCommonGround optimization problem had no optimal solution.\n",
      "The CommonGround_entani optimization problem had no optimal solution."
     ]
    },
    {
     "name": "stdout",
     "output_type": "stream",
     "text": [
      "\n"
     ]
    },
    {
     "name": "stdout",
     "output_type": "stream",
     "text": [
      "The CommonGround optimization problem had no optimal solution.\n",
      "The tCommonGround optimization problem had no optimal solution.\n",
      "The CommonGround_entani optimization problem had no optimal solution.\n",
      "The CommonGround optimization problem had no optimal solution.\n",
      "The tCommonGround optimization problem had no optimal solution.\n",
      "The CommonGround_entani optimization problem had no optimal solution.\n",
      "The CommonGround optimization problem had no optimal solution.\n",
      "The CommonGround_entani optimization problem had no optimal solution."
     ]
    },
    {
     "name": "stdout",
     "output_type": "stream",
     "text": [
      "\n",
      "The tCommonGround optimization problem had no optimal solution.\n",
      "The CommonGround optimization problem had no optimal solution.\n"
     ]
    },
    {
     "name": "stdout",
     "output_type": "stream",
     "text": [
      "The tCommonGround optimization problem had no optimal solution.\n",
      "The CommonGround_entani optimization problem had no optimal solution.\n",
      "The CommonGround optimization problem had no optimal solution.\n",
      "The tCommonGround optimization problem had no optimal solution.\n",
      "The CommonGround_entani optimization problem had no optimal solution.\n",
      "The CommonGround optimization problem had no optimal solution.\n",
      "The CommonGround_entani optimization problem had no optimal solution.\n",
      "The CommonGround optimization problem had no optimal solution.\n",
      "The CommonGround_entani optimization problem had no optimal solution."
     ]
    },
    {
     "name": "stdout",
     "output_type": "stream",
     "text": [
      "\n",
      "The tCommonGround optimization problem had no optimal solution.\n",
      "The CommonGround optimization problem had no optimal solution.\n",
      "The tCommonGround optimization problem had no optimal solution.\n"
     ]
    },
    {
     "name": "stdout",
     "output_type": "stream",
     "text": [
      "The CommonGround_entani optimization problem had no optimal solution.\n",
      "The CommonGround optimization problem had no optimal solution.\n",
      "The tCommonGround optimization problem had no optimal solution.\n",
      "The CommonGround_entani optimization problem had no optimal solution.\n",
      "The CommonGround optimization problem had no optimal solution.\n",
      "The CommonGround_entani optimization problem had no optimal solution.\n",
      "The tCommonGround optimization problem had no optimal solution.\n",
      "The CommonGround optimization problem had no optimal solution.\n",
      "The tCommonGround optimization problem had no optimal solution.\n"
     ]
    },
    {
     "name": "stdout",
     "output_type": "stream",
     "text": [
      "The CommonGround_entani optimization problem had no optimal solution.\n",
      "The CommonGround_entani optimization problem had no optimal solution.\n",
      "The CommonGround optimization problem had no optimal solution.\n",
      "The tCommonGround optimization problem had no optimal solution.\n",
      "The CommonGround_entani optimization problem had no optimal solution.\n",
      "The CommonGround optimization problem had no optimal solution.\n",
      "The tCommonGround optimization problem had no optimal solution.\n",
      "The CommonGround optimization problem had no optimal solution.\n",
      "The CommonGround_entani optimization problem had no optimal solution.\n",
      "The tCommonGround optimization problem had no optimal solution.\n",
      "The CommonGround optimization problem had no optimal solution.\n",
      "The tCommonGround optimization problem had no optimal solution.\n",
      "The CommonGround_entani optimization problem had no optimal solution.\n",
      "The CommonGround optimization problem had no optimal solution.\n",
      "The CommonGround_entani optimization problem had no optimal solution.\n",
      "The tCommonGround optimization problem had no optimal solution.\n",
      "The CommonGround optimization problem had no optimal solution.\n",
      "The tCommonGround optimization problem had no optimal solution.\n",
      "The CommonGround_entani optimization problem had no optimal solution."
     ]
    },
    {
     "name": "stdout",
     "output_type": "stream",
     "text": [
      "\n"
     ]
    },
    {
     "name": "stdout",
     "output_type": "stream",
     "text": [
      "The CommonGround optimization problem had no optimal solution.\n",
      "The CommonGround_entani optimization problem had no optimal solution.\n",
      "The tCommonGround optimization problem had no optimal solution.\n",
      "The CommonGround optimization problem had no optimal solution.\n",
      "The tCommonGround optimization problem had no optimal solution.\n",
      "The CommonGround_entani optimization problem had no optimal solution.\n",
      "The CommonGround optimization problem had no optimal solution.\n",
      "The tCommonGround optimization problem had no optimal solution.\n",
      "The CommonGround_entani optimization problem had no optimal solution.\n",
      "The CommonGround_entani optimization problem had no optimal solution."
     ]
    },
    {
     "name": "stdout",
     "output_type": "stream",
     "text": [
      "\n",
      "The CommonGround optimization problem had no optimal solution.\n",
      "The CommonGround optimization problem had no optimal solution.\n",
      "The tCommonGround optimization problem had no optimal solution.\n",
      "The tCommonGround optimization problem had no optimal solution.\n",
      "The CommonGround_entani optimization problem had no optimal solution.\n",
      "The CommonGround optimization problem had no optimal solution.\n",
      "The CommonGround_entani optimization problem had no optimal solution.\n",
      "The tCommonGround optimization problem had no optimal solution.\n",
      "The CommonGround optimization problem had no optimal solution.\n",
      "The tCommonGround optimization problem had no optimal solution.\n",
      "The CommonGround_entani optimization problem had no optimal solution."
     ]
    },
    {
     "name": "stdout",
     "output_type": "stream",
     "text": [
      "\n",
      "The CommonGround optimization problem had no optimal solution.\n",
      "The tCommonGround optimization problem had no optimal solution.\n",
      "The CommonGround_entani optimization problem had no optimal solution.\n",
      "The CommonGround_entani optimization problem had no optimal solution.\n",
      "The CommonGround optimization problem had no optimal solution.\n",
      "The CommonGround optimization problem had no optimal solution.\n",
      "The tCommonGround optimization problem had no optimal solution.\n",
      "The tCommonGround optimization problem had no optimal solution.\n",
      "The CommonGround_entani optimization problem had no optimal solution.\n",
      "The CommonGround optimization problem had no optimal solution.\n",
      "The tCommonGround optimization problem had no optimal solution.\n",
      "The CommonGround_entani optimization problem had no optimal solution."
     ]
    },
    {
     "name": "stdout",
     "output_type": "stream",
     "text": [
      "\n"
     ]
    },
    {
     "name": "stdout",
     "output_type": "stream",
     "text": [
      "The CommonGround optimization problem had no optimal solution.\n",
      "The CommonGround_entani optimization problem had no optimal solution.\n",
      "The tCommonGround optimization problem had no optimal solution.\n",
      "The CommonGround optimization problem had no optimal solution.\n",
      "The CommonGround_entani optimization problem had no optimal solution.\n",
      "The tCommonGround optimization problem had no optimal solution.\n",
      "The CommonGround optimization problem had no optimal solution.\n",
      "The CommonGround_entani optimization problem had no optimal solution.\n",
      "The CommonGround optimization problem had no optimal solution.\n",
      "The CommonGround_entani optimization problem had no optimal solution."
     ]
    },
    {
     "name": "stdout",
     "output_type": "stream",
     "text": [
      "\n",
      "The tCommonGround optimization problem had no optimal solution.\n",
      "The CommonGround optimization problem had no optimal solution.\n",
      "The tCommonGround optimization problem had no optimal solution.\n",
      "The CommonGround_entani optimization problem had no optimal solution.\n",
      "The CommonGround optimization problem had no optimal solution.\n",
      "The tCommonGround optimization problem had no optimal solution.\n",
      "The CommonGround_entani optimization problem had no optimal solution.\n",
      "The CommonGround optimization problem had no optimal solution.\n",
      "The tCommonGround optimization problem had no optimal solution.\n",
      "The CommonGround_entani optimization problem had no optimal solution."
     ]
    },
    {
     "name": "stdout",
     "output_type": "stream",
     "text": [
      "\n",
      "The CommonGround_entani optimization problem had no optimal solution.\n",
      "The CommonGround optimization problem had no optimal solution.\n",
      "The CommonGround optimization problem had no optimal solution.\n",
      "The CommonGround_entani optimization problem had no optimal solution.\n",
      "The tCommonGround optimization problem had no optimal solution.\n",
      "The tCommonGround optimization problem had no optimal solution.\n",
      "The CommonGround optimization problem had no optimal solution.\n",
      "The tCommonGround optimization problem had no optimal solution.\n",
      "The CommonGround_entani optimization problem had no optimal solution.\n",
      "The CommonGround optimization problem had no optimal solution.\n",
      "The tCommonGround optimization problem had no optimal solution.\n",
      "The CommonGround_entani optimization problem had no optimal solution."
     ]
    },
    {
     "name": "stdout",
     "output_type": "stream",
     "text": [
      "\n"
     ]
    },
    {
     "name": "stdout",
     "output_type": "stream",
     "text": [
      "The CommonGround optimization problem had no optimal solution.\n",
      "The CommonGround optimization problem had no optimal solution.\n",
      "The tCommonGround optimization problem had no optimal solution.\n",
      "The CommonGround_entani optimization problem had no optimal solution.\n",
      "The CommonGround optimization problem had no optimal solution.\n",
      "The CommonGround_entani optimization problem had no optimal solution.\n",
      "The CommonGround optimization problem had no optimal solution.\n",
      "The tCommonGround optimization problem had no optimal solution.\n",
      "The CommonGround_entani optimization problem had no optimal solution."
     ]
    },
    {
     "name": "stdout",
     "output_type": "stream",
     "text": [
      "\n",
      "The CommonGround_entani optimization problem had no optimal solution.\n",
      "The CommonGround optimization problem had no optimal solution.\n"
     ]
    },
    {
     "name": "stdout",
     "output_type": "stream",
     "text": [
      "The CommonGround optimization problem had no optimal solution.\n",
      "The tCommonGround optimization problem had no optimal solution.\n",
      "The CommonGround_entani optimization problem had no optimal solution.\n",
      "The tCommonGround optimization problem had no optimal solution.\n",
      "The CommonGround optimization problem had no optimal solution.\n",
      "The tCommonGround optimization problem had no optimal solution.\n",
      "The CommonGround_entani optimization problem had no optimal solution.\n",
      "The CommonGround optimization problem had no optimal solution.\n",
      "The tCommonGround optimization problem had no optimal solution.\n",
      "The CommonGround_entani optimization problem had no optimal solution.\n",
      "The CommonGround_entani optimization problem had no optimal solution."
     ]
    },
    {
     "name": "stdout",
     "output_type": "stream",
     "text": [
      "\n",
      "The CommonGround optimization problem had no optimal solution.\n",
      "The CommonGround optimization problem had no optimal solution.\n",
      "The tCommonGround optimization problem had no optimal solution.\n",
      "The tCommonGround optimization problem had no optimal solution.\n",
      "The CommonGround_entani optimization problem had no optimal solution.\n",
      "The CommonGround_entani optimization problem had no optimal solution.\n",
      "The CommonGround optimization problem had no optimal solution.\n",
      "The CommonGround optimization problem had no optimal solution.\n",
      "The tCommonGround optimization problem had no optimal solution.\n",
      "The tCommonGround optimization problem had no optimal solution.\n",
      "The CommonGround_entani optimization problem had no optimal solution.\n",
      "The CommonGround optimization problem had no optimal solution.\n",
      "The CommonGround_entani optimization problem had no optimal solution."
     ]
    },
    {
     "name": "stdout",
     "output_type": "stream",
     "text": [
      "\n",
      "The tCommonGround optimization problem had no optimal solution.\n",
      "The CommonGround optimization problem had no optimal solution.\n",
      "The CommonGround_entani optimization problem had no optimal solution.\n",
      "The CommonGround optimization problem had no optimal solution.\n",
      "The CommonGround_entani optimization problem had no optimal solution.\n",
      "The tCommonGround optimization problem had no optimal solution.\n",
      "The tCommonGround optimization problem had no optimal solution.\n"
     ]
    },
    {
     "name": "stdout",
     "output_type": "stream",
     "text": [
      "The CommonGround optimization problem had no optimal solution.\n",
      "The CommonGround_entani optimization problem had no optimal solution.\n",
      "The CommonGround optimization problem had no optimal solution.\n",
      "The tCommonGround optimization problem had no optimal solution.\n",
      "The CommonGround_entani optimization problem had no optimal solution.\n",
      "The CommonGround_entani optimization problem had no optimal solution.\n",
      "The CommonGround optimization problem had no optimal solution.\n",
      "The CommonGround optimization problem had no optimal solution.\n",
      "The CommonGround_entani optimization problem had no optimal solution.\n",
      "The tCommonGround optimization problem had no optimal solution.\n",
      "The tCommonGround optimization problem had no optimal solution.\n",
      "The CommonGround optimization problem had no optimal solution.\n",
      "The tCommonGround optimization problem had no optimal solution.\n"
     ]
    },
    {
     "name": "stdout",
     "output_type": "stream",
     "text": [
      "The CommonGround_entani optimization problem had no optimal solution.\n",
      "The CommonGround optimization problem had no optimal solution.\n",
      "The CommonGround_entani optimization problem had no optimal solution.\n",
      "The CommonGround_entani optimization problem had no optimal solution.\n",
      "The CommonGround optimization problem had no optimal solution.\n",
      "The CommonGround_entani optimization problem had no optimal solution.\n",
      "The CommonGround optimization problem had no optimal solution.\n",
      "The tCommonGround optimization problem had no optimal solution.\n",
      "The tCommonGround optimization problem had no optimal solution.\n",
      "The CommonGround optimization problem had no optimal solution.\n",
      "The tCommonGround optimization problem had no optimal solution.\n",
      "The CommonGround_entani optimization problem had no optimal solution.\n",
      "The CommonGround_entani optimization problem had no optimal solution.\n",
      "The CommonGround optimization problem had no optimal solution.\n",
      "The CommonGround optimization problem had no optimal solution.\n",
      "The tCommonGround optimization problem had no optimal solution.\n",
      "The tCommonGround optimization problem had no optimal solution.\n",
      "The CommonGround_entani optimization problem had no optimal solution.\n",
      "The CommonGround optimization problem had no optimal solution.\n",
      "The tCommonGround optimization problem had no optimal solution.\n",
      "The CommonGround_entani optimization problem had no optimal solution."
     ]
    },
    {
     "name": "stdout",
     "output_type": "stream",
     "text": [
      "\n",
      "The CommonGround optimization problem had no optimal solution.\n"
     ]
    },
    {
     "name": "stdout",
     "output_type": "stream",
     "text": [
      "The CommonGround_entani optimization problem had no optimal solution.\n",
      "The tCommonGround optimization problem had no optimal solution.\n",
      "The CommonGround optimization problem had no optimal solution.\n",
      "The tCommonGround optimization problem had no optimal solution.\n",
      "The CommonGround_entani optimization problem had no optimal solution.\n",
      "The CommonGround optimization problem had no optimal solution.\n",
      "The CommonGround_entani optimization problem had no optimal solution.\n",
      "The tCommonGround optimization problem had no optimal solution.\n",
      "The CommonGround optimization problem had no optimal solution.\n",
      "The tCommonGround optimization problem had no optimal solution.\n",
      "The CommonGround_entani optimization problem had no optimal solution."
     ]
    },
    {
     "name": "stdout",
     "output_type": "stream",
     "text": [
      "\n"
     ]
    },
    {
     "name": "stdout",
     "output_type": "stream",
     "text": [
      "The CommonGround optimization problem had no optimal solution.\n",
      "The CommonGround_entani optimization problem had no optimal solution.\n",
      "The tCommonGround optimization problem had no optimal solution.\n",
      "The CommonGround optimization problem had no optimal solution.\n",
      "The CommonGround_entani optimization problem had no optimal solution.\n",
      "The tCommonGround optimization problem had no optimal solution.\n",
      "The CommonGround optimization problem had no optimal solution.\n",
      "The tCommonGround optimization problem had no optimal solution.\n",
      "The CommonGround_entani optimization problem had no optimal solution.\n",
      "The CommonGround optimization problem had no optimal solution.\n",
      "The CommonGround_entani optimization problem had no optimal solution."
     ]
    },
    {
     "name": "stdout",
     "output_type": "stream",
     "text": [
      "\n",
      "The CommonGround optimization problem had no optimal solution.\n"
     ]
    },
    {
     "name": "stdout",
     "output_type": "stream",
     "text": [
      "The tCommonGround optimization problem had no optimal solution.\n",
      "The tCommonGround optimization problem had no optimal solution.\n",
      "The CommonGround_entani optimization problem had no optimal solution.\n",
      "The CommonGround optimization problem had no optimal solution.\n",
      "The tCommonGround optimization problem had no optimal solution.\n",
      "The CommonGround_entani optimization problem had no optimal solution.\n",
      "The CommonGround optimization problem had no optimal solution.\n",
      "The tCommonGround optimization problem had no optimal solution.\n",
      "The CommonGround_entani optimization problem had no optimal solution.\n",
      "The CommonGround_entani optimization problem had no optimal solution.\n",
      "The CommonGround optimization problem had no optimal solution.\n",
      "The tCommonGround optimization problem had no optimal solution.\n",
      "The CommonGround_entani optimization problem had no optimal solution."
     ]
    },
    {
     "name": "stdout",
     "output_type": "stream",
     "text": [
      "\n",
      "The CommonGround optimization problem had no optimal solution.\n",
      "The tCommonGround optimization problem had no optimal solution.\n"
     ]
    },
    {
     "name": "stdout",
     "output_type": "stream",
     "text": [
      "The CommonGround_entani optimization problem had no optimal solution.\n",
      "The CommonGround optimization problem had no optimal solution.\n",
      "The tCommonGround optimization problem had no optimal solution.\n",
      "The CommonGround_entani optimization problem had no optimal solution.\n",
      "The CommonGround optimization problem had no optimal solution.\n",
      "The CommonGround_entani optimization problem had no optimal solution.\n",
      "The tCommonGround optimization problem had no optimal solution.\n",
      "The CommonGround optimization problem had no optimal solution.\n",
      "The CommonGround_entani optimization problem had no optimal solution.\n",
      "The tCommonGround optimization problem had no optimal solution.\n",
      "The CommonGround optimization problem had no optimal solution.\n",
      "The tCommonGround optimization problem had no optimal solution.\n"
     ]
    },
    {
     "name": "stdout",
     "output_type": "stream",
     "text": [
      "The CommonGround_entani optimization problem had no optimal solution.\n",
      "The CommonGround optimization problem had no optimal solution.\n",
      "The tCommonGround optimization problem had no optimal solution.\n",
      "The CommonGround_entani optimization problem had no optimal solution.\n",
      "The CommonGround optimization problem had no optimal solution.\n",
      "The tCommonGround optimization problem had no optimal solution.\n",
      "The CommonGround_entani optimization problem had no optimal solution.\n",
      "The CommonGround optimization problem had no optimal solution.\n",
      "The CommonGround_entani optimization problem had no optimal solution.\n",
      "The tCommonGround optimization problem had no optimal solution.\n",
      "The CommonGround optimization problem had no optimal solution.\n",
      "The tCommonGround optimization problem had no optimal solution.\n",
      "The CommonGround_entani optimization problem had no optimal solution.\n",
      "The CommonGround optimization problem had no optimal solution.\n",
      "The tCommonGround optimization problem had no optimal solution.\n",
      "The CommonGround_entani optimization problem had no optimal solution.\n",
      "The CommonGround optimization problem had no optimal solution.\n",
      "The CommonGround_entani optimization problem had no optimal solution."
     ]
    },
    {
     "name": "stdout",
     "output_type": "stream",
     "text": [
      "\n",
      "The tCommonGround optimization problem had no optimal solution.\n",
      "The CommonGround optimization problem had no optimal solution.\n",
      "The tCommonGround optimization problem had no optimal solution.\n",
      "The CommonGround_entani optimization problem had no optimal solution.\n",
      "The CommonGround optimization problem had no optimal solution.\n",
      "The tCommonGround optimization problem had no optimal solution.\n",
      "The CommonGround_entani optimization problem had no optimal solution."
     ]
    },
    {
     "name": "stdout",
     "output_type": "stream",
     "text": [
      "\n",
      "The CommonGround optimization problem had no optimal solution.\n"
     ]
    },
    {
     "name": "stdout",
     "output_type": "stream",
     "text": [
      "The tCommonGround optimization problem had no optimal solution.\n",
      "The CommonGround_entani optimization problem had no optimal solution.\n",
      "The CommonGround optimization problem had no optimal solution.\n",
      "The tCommonGround optimization problem had no optimal solution.\n",
      "The CommonGround_entani optimization problem had no optimal solution.\n",
      "The CommonGround optimization problem had no optimal solution.\n",
      "The tCommonGround optimization problem had no optimal solution.\n",
      "The CommonGround_entani optimization problem had no optimal solution.\n",
      "The CommonGround optimization problem had no optimal solution.\n",
      "The tCommonGround optimization problem had no optimal solution.\n",
      "The CommonGround_entani optimization problem had no optimal solution."
     ]
    },
    {
     "name": "stdout",
     "output_type": "stream",
     "text": [
      "\n",
      "The CommonGround_entani optimization problem had no optimal solution.\n",
      "The CommonGround optimization problem had no optimal solution.\n",
      "The CommonGround optimization problem had no optimal solution.\n",
      "The tCommonGround optimization problem had no optimal solution.\n",
      "The tCommonGround optimization problem had no optimal solution.\n",
      "The CommonGround_entani optimization problem had no optimal solution.\n",
      "The CommonGround optimization problem had no optimal solution.\n",
      "The tCommonGround optimization problem had no optimal solution.\n",
      "The CommonGround_entani optimization problem had no optimal solution."
     ]
    },
    {
     "name": "stdout",
     "output_type": "stream",
     "text": [
      "\n"
     ]
    },
    {
     "name": "stdout",
     "output_type": "stream",
     "text": [
      "The CommonGround optimization problem had no optimal solution.\n",
      "The CommonGround_entani optimization problem had no optimal solution.\n",
      "The tCommonGround optimization problem had no optimal solution.\n",
      "The CommonGround optimization problem had no optimal solution.\n",
      "The CommonGround_entani optimization problem had no optimal solution.\n",
      "The CommonGround optimization problem had no optimal solution.\n",
      "The tCommonGround optimization problem had no optimal solution.\n",
      "The tCommonGround optimization problem had no optimal solution.\n",
      "The CommonGround_entani optimization problem had no optimal solution.\n",
      "The CommonGround optimization problem had no optimal solution.\n",
      "The tCommonGround optimization problem had no optimal solution.\n",
      "The CommonGround_entani optimization problem had no optimal solution.\n",
      "The CommonGround optimization problem had no optimal solution.\n",
      "The CommonGround_entani optimization problem had no optimal solution."
     ]
    },
    {
     "name": "stdout",
     "output_type": "stream",
     "text": [
      "\n",
      "The CommonGround_entani optimization problem had no optimal solution.\n",
      "The tCommonGround optimization problem had no optimal solution.\n",
      "The CommonGround optimization problem had no optimal solution.\n",
      "The CommonGround optimization problem had no optimal solution.\n",
      "The tCommonGround optimization problem had no optimal solution.\n",
      "The tCommonGround optimization problem had no optimal solution.\n",
      "The CommonGround_entani optimization problem had no optimal solution.\n",
      "The CommonGround optimization problem had no optimal solution.\n",
      "The CommonGround_entani optimization problem had no optimal solution.\n",
      "The tCommonGround optimization problem had no optimal solution.\n",
      "The CommonGround optimization problem had no optimal solution.\n",
      "The CommonGround_entani optimization problem had no optimal solution.\n",
      "The tCommonGround optimization problem had no optimal solution.\n",
      "The CommonGround_entani optimization problem had no optimal solution."
     ]
    },
    {
     "name": "stdout",
     "output_type": "stream",
     "text": [
      "\n",
      "The CommonGround optimization problem had no optimal solution.\n",
      "The CommonGround optimization problem had no optimal solution.\n",
      "The tCommonGround optimization problem had no optimal solution.\n",
      "The tCommonGround optimization problem had no optimal solution.\n"
     ]
    },
    {
     "name": "stdout",
     "output_type": "stream",
     "text": [
      "The CommonGround_entani optimization problem had no optimal solution.\n",
      "The CommonGround optimization problem had no optimal solution.\n",
      "The tCommonGround optimization problem had no optimal solution.\n",
      "The CommonGround_entani optimization problem had no optimal solution.\n",
      "The CommonGround optimization problem had no optimal solution.\n",
      "The CommonGround_entani optimization problem had no optimal solution.\n",
      "The tCommonGround optimization problem had no optimal solution.\n",
      "The CommonGround optimization problem had no optimal solution.\n",
      "The CommonGround optimization problem had no optimal solution.\n",
      "The tCommonGround optimization problem had no optimal solution.\n",
      "The CommonGround_entani optimization problem had no optimal solution.\n",
      "The CommonGround optimization problem had no optimal solution.\n",
      "The CommonGround_entani optimization problem had no optimal solution.\n",
      "The CommonGround optimization problem had no optimal solution.\n",
      "The tCommonGround optimization problem had no optimal solution.\n",
      "The tCommonGround optimization problem had no optimal solution.\n",
      "The CommonGround_entani optimization problem had no optimal solution."
     ]
    },
    {
     "name": "stdout",
     "output_type": "stream",
     "text": [
      "\n",
      "The CommonGround optimization problem had no optimal solution.\n"
     ]
    },
    {
     "name": "stdout",
     "output_type": "stream",
     "text": [
      "The tCommonGround optimization problem had no optimal solution.\n",
      "The CommonGround_entani optimization problem had no optimal solution.\n",
      "The CommonGround optimization problem had no optimal solution.\n",
      "The tCommonGround optimization problem had no optimal solution.\n",
      "The CommonGround_entani optimization problem had no optimal solution.\n",
      "The CommonGround_entani optimization problem had no optimal solution.\n",
      "The CommonGround optimization problem had no optimal solution.\n",
      "The CommonGround optimization problem had no optimal solution.\n",
      "The CommonGround_entani optimization problem had no optimal solution."
     ]
    },
    {
     "name": "stdout",
     "output_type": "stream",
     "text": [
      "\n",
      "The tCommonGround optimization problem had no optimal solution.\n",
      "The CommonGround_entani optimization problem had no optimal solution.\n",
      "The CommonGround optimization problem had no optimal solution."
     ]
    },
    {
     "name": "stdout",
     "output_type": "stream",
     "text": [
      "\n",
      "The CommonGround optimization problem had no optimal solution.\n",
      "The tCommonGround optimization problem had no optimal solution.\n",
      "The tCommonGround optimization problem had no optimal solution.\n"
     ]
    },
    {
     "name": "stdout",
     "output_type": "stream",
     "text": [
      "The CommonGround_entani optimization problem had no optimal solution.\n",
      "The CommonGround optimization problem had no optimal solution.\n",
      "The CommonGround_entani optimization problem had no optimal solution.\n",
      "The tCommonGround optimization problem had no optimal solution.\n",
      "The CommonGround_entani optimization problem had no optimal solution.\n",
      "The CommonGround optimization problem had no optimal solution.\n",
      "The CommonGround optimization problem had no optimal solution.\n",
      "The tCommonGround optimization problem had no optimal solution.\n",
      "The tCommonGround optimization problem had no optimal solution.\n",
      "The CommonGround_entani optimization problem had no optimal solution.\n",
      "The CommonGround optimization problem had no optimal solution.\n",
      "The tCommonGround optimization problem had no optimal solution.\n",
      "The CommonGround_entani optimization problem had no optimal solution.\n",
      "The CommonGround optimization problem had no optimal solution.\n",
      "The tCommonGround optimization problem had no optimal solution.\n",
      "The CommonGround_entani optimization problem had no optimal solution.\n",
      "The CommonGround optimization problem had no optimal solution.\n",
      "The tCommonGround optimization problem had no optimal solution.\n",
      "The CommonGround optimization problem had no optimal solution.\n",
      "The CommonGround_entani optimization problem had no optimal solution."
     ]
    },
    {
     "name": "stdout",
     "output_type": "stream",
     "text": [
      "\n",
      "The CommonGround optimization problem had no optimal solution.\n",
      "The tCommonGround optimization problem had no optimal solution.\n"
     ]
    },
    {
     "name": "stdout",
     "output_type": "stream",
     "text": [
      "The CommonGround_entani optimization problem had no optimal solution.\n",
      "The CommonGround_entani optimization problem had no optimal solution.\n",
      "The CommonGround optimization problem had no optimal solution.\n",
      "The tCommonGround optimization problem had no optimal solution.\n",
      "The CommonGround optimization problem had no optimal solution.\n",
      "The CommonGround_entani optimization problem had no optimal solution.\n",
      "The tCommonGround optimization problem had no optimal solution.\n",
      "The CommonGround optimization problem had no optimal solution.\n"
     ]
    },
    {
     "name": "stdout",
     "output_type": "stream",
     "text": [
      "The CommonGround_entani optimization problem had no optimal solution.\n",
      "The tCommonGround optimization problem had no optimal solution.\n",
      "The CommonGround optimization problem had no optimal solution.\n",
      "The CommonGround_entani optimization problem had no optimal solution.\n",
      "The tCommonGround optimization problem had no optimal solution.\n",
      "The CommonGround optimization problem had no optimal solution.\n",
      "The tCommonGround optimization problem had no optimal solution.\n",
      "The CommonGround_entani optimization problem had no optimal solution.\n",
      "The CommonGround_entani optimization problem had no optimal solution."
     ]
    },
    {
     "name": "stdout",
     "output_type": "stream",
     "text": [
      "\n",
      "The CommonGround optimization problem had no optimal solution.\n",
      "The CommonGround optimization problem had no optimal solution.\n",
      "The tCommonGround optimization problem had no optimal solution.\n",
      "The tCommonGround optimization problem had no optimal solution.\n",
      "The CommonGround_entani optimization problem had no optimal solution.\n",
      "The CommonGround_entani optimization problem had no optimal solution.\n",
      "The CommonGround optimization problem had no optimal solution.\n",
      "The tCommonGround optimization problem had no optimal solution.\n",
      "The CommonGround optimization problem had no optimal solution.\n",
      "The tCommonGround optimization problem had no optimal solution.\n",
      "The CommonGround_entani optimization problem had no optimal solution.\n",
      "The CommonGround_entani optimization problem had no optimal solution."
     ]
    },
    {
     "name": "stdout",
     "output_type": "stream",
     "text": [
      "\n",
      "The CommonGround optimization problem had no optimal solution.\n",
      "The CommonGround optimization problem had no optimal solution.\n",
      "The tCommonGround optimization problem had no optimal solution.\n",
      "The CommonGround_entani optimization problem had no optimal solution.\n",
      "The CommonGround_entani optimization problem had no optimal solution.\n",
      "The CommonGround optimization problem had no optimal solution.\n",
      "The CommonGround optimization problem had no optimal solution.\n",
      "The tCommonGround optimization problem had no optimal solution.\n",
      "The tCommonGround optimization problem had no optimal solution.\n",
      "The CommonGround_entani optimization problem had no optimal solution."
     ]
    },
    {
     "name": "stdout",
     "output_type": "stream",
     "text": [
      "\n",
      "The CommonGround_entani optimization problem had no optimal solution.\n",
      "The CommonGround optimization problem had no optimal solution.\n",
      "The CommonGround optimization problem had no optimal solution.\n",
      "The CommonGround_entani optimization problem had no optimal solution.\n",
      "The tCommonGround optimization problem had no optimal solution.\n",
      "The CommonGround_entani optimization problem had no optimal solution.\n",
      "The tCommonGround optimization problem had no optimal solution.\n",
      "The CommonGround optimization problem had no optimal solution.\n",
      "The CommonGround optimization problem had no optimal solution.\n",
      "The CommonGround_entani optimization problem had no optimal solution.\n",
      "The CommonGround_entani optimization problem had no optimal solution."
     ]
    },
    {
     "name": "stdout",
     "output_type": "stream",
     "text": [
      "\n",
      "The CommonGround optimization problem had no optimal solution.\n",
      "The CommonGround optimization problem had no optimal solution.\n",
      "The tCommonGround optimization problem had no optimal solution.\n",
      "The CommonGround_entani optimization problem had no optimal solution.\n",
      "The tCommonGround optimization problem had no optimal solution.\n",
      "The CommonGround optimization problem had no optimal solution.\n",
      "The CommonGround_entani optimization problem had no optimal solution.\n",
      "The CommonGround optimization problem had no optimal solution.\n",
      "The tCommonGround optimization problem had no optimal solution.\n",
      "The CommonGround_entani optimization problem had no optimal solution.\n",
      "The CommonGround_entani optimization problem had no optimal solution."
     ]
    },
    {
     "name": "stdout",
     "output_type": "stream",
     "text": [
      "\n",
      "The CommonGround_entani optimization problem had no optimal solution.\n",
      "The CommonGround optimization problem had no optimal solution.\n",
      "The CommonGround optimization problem had no optimal solution.\n",
      "The CommonGround optimization problem had no optimal solution.\n",
      "The tCommonGround optimization problem had no optimal solution.\n",
      "The tCommonGround optimization problem had no optimal solution.\n",
      "The tCommonGround optimization problem had no optimal solution.\n",
      "The CommonGround_entani optimization problem had no optimal solution.\n",
      "The CommonGround optimization problem had no optimal solution.\n",
      "The tCommonGround optimization problem had no optimal solution.\n",
      "The CommonGround_entani optimization problem had no optimal solution.\n",
      "The CommonGround optimization problem had no optimal solution.\n",
      "The tCommonGround optimization problem had no optimal solution.\n",
      "The CommonGround_entani optimization problem had no optimal solution.\n",
      "The CommonGround_entani optimization problem had no optimal solution."
     ]
    },
    {
     "name": "stdout",
     "output_type": "stream",
     "text": [
      "\n",
      "The CommonGround optimization problem had no optimal solution.\n",
      "The CommonGround optimization problem had no optimal solution.\n",
      "The tCommonGround optimization problem had no optimal solution.\n",
      "The tCommonGround optimization problem had no optimal solution.\n",
      "The CommonGround_entani optimization problem had no optimal solution.\n",
      "The CommonGround_entani optimization problem had no optimal solution.\n",
      "The CommonGround optimization problem had no optimal solution.\n",
      "The tCommonGround optimization problem had no optimal solution.\n",
      "The CommonGround optimization problem had no optimal solution.\n",
      "The tCommonGround optimization problem had no optimal solution.\n",
      "The CommonGround_entani optimization problem had no optimal solution.\n",
      "The CommonGround_entani optimization problem had no optimal solution."
     ]
    },
    {
     "name": "stdout",
     "output_type": "stream",
     "text": [
      "\n",
      "The CommonGround optimization problem had no optimal solution.\n",
      "The CommonGround optimization problem had no optimal solution.\n",
      "The tCommonGround optimization problem had no optimal solution.\n",
      "The CommonGround_entani optimization problem had no optimal solution.\n",
      "The CommonGround optimization problem had no optimal solution.\n",
      "The tCommonGround optimization problem had no optimal solution.\n",
      "The CommonGround_entani optimization problem had no optimal solution.\n",
      "The CommonGround optimization problem had no optimal solution.\n",
      "The tCommonGround optimization problem had no optimal solution.\n",
      "The CommonGround_entani optimization problem had no optimal solution.\n",
      "The CommonGround optimization problem had no optimal solution.\n",
      "The CommonGround_entani optimization problem had no optimal solution.\n",
      "The CommonGround optimization problem had no optimal solution.\n",
      "The tCommonGround optimization problem had no optimal solution.\n",
      "The tCommonGround optimization problem had no optimal solution.\n"
     ]
    },
    {
     "name": "stdout",
     "output_type": "stream",
     "text": [
      "The CommonGround_entani optimization problem had no optimal solution.\n",
      "The CommonGround_entani optimization problem had no optimal solution.\n",
      "The CommonGround optimization problem had no optimal solution.\n",
      "The CommonGround optimization problem had no optimal solution.\n",
      "The tCommonGround optimization problem had no optimal solution.\n",
      "The tCommonGround optimization problem had no optimal solution.\n"
     ]
    },
    {
     "name": "stdout",
     "output_type": "stream",
     "text": [
      "The CommonGround_entani optimization problem had no optimal solution.\n",
      "The CommonGround_entani optimization problem had no optimal solution.\n",
      "The CommonGround optimization problem had no optimal solution.\n",
      "The CommonGround optimization problem had no optimal solution.\n",
      "The tCommonGround optimization problem had no optimal solution.\n",
      "The tCommonGround optimization problem had no optimal solution.\n",
      "The CommonGround_entani optimization problem had no optimal solution.\n",
      "The CommonGround optimization problem had no optimal solution.\n",
      "The CommonGround_entani optimization problem had no optimal solution.\n",
      "The tCommonGround optimization problem had no optimal solution.\n",
      "The CommonGround_entani optimization problem had no optimal solution.\n",
      "The CommonGround optimization problem had no optimal solution.\n",
      "The CommonGround optimization problem had no optimal solution.\n",
      "The tCommonGround optimization problem had no optimal solution.\n",
      "The tCommonGround optimization problem had no optimal solution.\n"
     ]
    },
    {
     "name": "stdout",
     "output_type": "stream",
     "text": [
      "The CommonGround_entani optimization problem had no optimal solution.\n",
      "The CommonGround optimization problem had no optimal solution.\n",
      "The tCommonGround optimization problem had no optimal solution.\n",
      "The CommonGround_entani optimization problem had no optimal solution.\n",
      "The CommonGround optimization problem had no optimal solution.\n",
      "The tCommonGround optimization problem had no optimal solution.\n",
      "The CommonGround_entani optimization problem had no optimal solution.\n",
      "The CommonGround_entani optimization problem had no optimal solution.\n",
      "The CommonGround optimization problem had no optimal solution.\n",
      "The tCommonGround optimization problem had no optimal solution.\n",
      "The CommonGround optimization problem had no optimal solution.\n",
      "The tCommonGround optimization problem had no optimal solution.\n",
      "The CommonGround_entani optimization problem had no optimal solution.\n",
      "The CommonGround optimization problem had no optimal solution.\n",
      "The tCommonGround optimization problem had no optimal solution.\n",
      "The CommonGround_entani optimization problem had no optimal solution.\n",
      "The CommonGround_entani optimization problem had no optimal solution.\n",
      "The CommonGround_entani optimization problem had no optimal solution."
     ]
    },
    {
     "name": "stdout",
     "output_type": "stream",
     "text": [
      "\n",
      "The CommonGround optimization problem had no optimal solution.\n",
      "The CommonGround optimization problem had no optimal solution.\n",
      "The tCommonGround optimization problem had no optimal solution.\n",
      "The CommonGround optimization problem had no optimal solution.\n",
      "The tCommonGround optimization problem had no optimal solution.\n",
      "The tCommonGround optimization problem had no optimal solution.\n"
     ]
    },
    {
     "name": "stdout",
     "output_type": "stream",
     "text": [
      "The CommonGround_entani optimization problem had no optimal solution.\n",
      "The CommonGround optimization problem had no optimal solution.\n",
      "The tCommonGround optimization problem had no optimal solution.\n",
      "The CommonGround_entani optimization problem had no optimal solution.\n",
      "The CommonGround optimization problem had no optimal solution.\n",
      "The CommonGround_entani optimization problem had no optimal solution.\n",
      "The tCommonGround optimization problem had no optimal solution.\n",
      "The CommonGround optimization problem had no optimal solution.\n",
      "The CommonGround_entani optimization problem had no optimal solution.\n",
      "The tCommonGround optimization problem had no optimal solution.\n",
      "The CommonGround optimization problem had no optimal solution.\n",
      "The tCommonGround optimization problem had no optimal solution.\n",
      "The CommonGround_entani optimization problem had no optimal solution.\n",
      "The CommonGround_entani optimization problem had no optimal solution.\n",
      "The CommonGround optimization problem had no optimal solution.\n",
      "The tCommonGround optimization problem had no optimal solution.\n",
      "The CommonGround_entani optimization problem had no optimal solution.\n",
      "The CommonGround optimization problem had no optimal solution.\n",
      "The tCommonGround optimization problem had no optimal solution.\n",
      "The CommonGround_entani optimization problem had no optimal solution."
     ]
    },
    {
     "name": "stdout",
     "output_type": "stream",
     "text": [
      "\n",
      "The CommonGround optimization problem had no optimal solution.\n",
      "The tCommonGround optimization problem had no optimal solution.\n",
      "The CommonGround_entani optimization problem had no optimal solution.\n",
      "The CommonGround optimization problem had no optimal solution.\n",
      "The CommonGround_entani optimization problem had no optimal solution.\n",
      "The tCommonGround optimization problem had no optimal solution.\n",
      "The CommonGround optimization problem had no optimal solution.\n",
      "The tCommonGround optimization problem had no optimal solution.\n",
      "The CommonGround_entani optimization problem had no optimal solution.\n",
      "The CommonGround optimization problem had no optimal solution.\n",
      "The tCommonGround optimization problem had no optimal solution.\n",
      "The CommonGround_entani optimization problem had no optimal solution."
     ]
    },
    {
     "name": "stdout",
     "output_type": "stream",
     "text": [
      "\n"
     ]
    },
    {
     "name": "stdout",
     "output_type": "stream",
     "text": [
      "The CommonGround optimization problem had no optimal solution.\n",
      "The tCommonGround optimization problem had no optimal solution.\n",
      "The CommonGround_entani optimization problem had no optimal solution.\n",
      "The CommonGround optimization problem had no optimal solution.\n",
      "The CommonGround optimization problem had no optimal solution.\n",
      "The tCommonGround optimization problem had no optimal solution.\n",
      "The CommonGround_entani optimization problem had no optimal solution.\n",
      "The CommonGround optimization problem had no optimal solution.\n",
      "The tCommonGround optimization problem had no optimal solution.\n",
      "The CommonGround_entani optimization problem had no optimal solution."
     ]
    },
    {
     "name": "stdout",
     "output_type": "stream",
     "text": [
      "\n",
      "The CommonGround optimization problem had no optimal solution.\n",
      "The CommonGround_entani optimization problem had no optimal solution.\n",
      "The tCommonGround optimization problem had no optimal solution.\n"
     ]
    },
    {
     "name": "stdout",
     "output_type": "stream",
     "text": [
      "The CommonGround_entani optimization problem had no optimal solution.\n",
      "The CommonGround optimization problem had no optimal solution.\n",
      "The CommonGround optimization problem had no optimal solution.\n",
      "The tCommonGround optimization problem had no optimal solution.\n",
      "The CommonGround_entani optimization problem had no optimal solution.\n",
      "The CommonGround optimization problem had no optimal solution.\n",
      "The tCommonGround optimization problem had no optimal solution.\n",
      "The CommonGround_entani optimization problem had no optimal solution.\n",
      "The CommonGround_entani optimization problem had no optimal solution.\n",
      "The CommonGround optimization problem had no optimal solution.\n",
      "The CommonGround optimization problem had no optimal solution.\n",
      "The tCommonGround optimization problem had no optimal solution.\n",
      "The tCommonGround optimization problem had no optimal solution.\n"
     ]
    },
    {
     "name": "stdout",
     "output_type": "stream",
     "text": [
      "The CommonGround_entani optimization problem had no optimal solution.\n",
      "The CommonGround optimization problem had no optimal solution.\n",
      "The CommonGround_entani optimization problem had no optimal solution.\n",
      "The CommonGround optimization problem had no optimal solution.\n",
      "The tCommonGround optimization problem had no optimal solution.\n",
      "The tCommonGround optimization problem had no optimal solution.\n",
      "The CommonGround_entani optimization problem had no optimal solution.\n",
      "The CommonGround optimization problem had no optimal solution.\n",
      "The tCommonGround optimization problem had no optimal solution.\n",
      "The CommonGround_entani optimization problem had no optimal solution.\n",
      "The CommonGround optimization problem had no optimal solution.\n",
      "The tCommonGround optimization problem had no optimal solution.\n",
      "The CommonGround_entani optimization problem had no optimal solution."
     ]
    },
    {
     "name": "stdout",
     "output_type": "stream",
     "text": [
      "\n",
      "The CommonGround optimization problem had no optimal solution.\n",
      "The tCommonGround optimization problem had no optimal solution.\n",
      "The CommonGround_entani optimization problem had no optimal solution.\n",
      "The CommonGround optimization problem had no optimal solution.\n",
      "The CommonGround_entani optimization problem had no optimal solution.\n",
      "The tCommonGround optimization problem had no optimal solution.\n",
      "The CommonGround optimization problem had no optimal solution.\n",
      "The CommonGround_entani optimization problem had no optimal solution.\n",
      "The tCommonGround optimization problem had no optimal solution.\n",
      "The CommonGround optimization problem had no optimal solution.\n",
      "The tCommonGround optimization problem had no optimal solution.\n",
      "The CommonGround_entani optimization problem had no optimal solution."
     ]
    },
    {
     "name": "stdout",
     "output_type": "stream",
     "text": [
      "\n"
     ]
    },
    {
     "name": "stdout",
     "output_type": "stream",
     "text": [
      "The CommonGround optimization problem had no optimal solution.\n",
      "The tCommonGround optimization problem had no optimal solution.\n",
      "The CommonGround_entani optimization problem had no optimal solution.\n",
      "The CommonGround optimization problem had no optimal solution.\n",
      "The CommonGround_entani optimization problem had no optimal solution.\n",
      "The tCommonGround optimization problem had no optimal solution.\n",
      "The CommonGround optimization problem had no optimal solution.\n",
      "The CommonGround_entani optimization problem had no optimal solution.\n",
      "The CommonGround optimization problem had no optimal solution.\n",
      "The tCommonGround optimization problem had no optimal solution.\n",
      "The tCommonGround optimization problem had no optimal solution.\n",
      "The CommonGround_entani optimization problem had no optimal solution."
     ]
    },
    {
     "name": "stdout",
     "output_type": "stream",
     "text": [
      "\n",
      "The CommonGround optimization problem had no optimal solution.\n"
     ]
    },
    {
     "name": "stdout",
     "output_type": "stream",
     "text": [
      "The tCommonGround optimization problem had no optimal solution.\n",
      "The CommonGround_entani optimization problem had no optimal solution.\n",
      "The CommonGround optimization problem had no optimal solution.\n",
      "The CommonGround_entani optimization problem had no optimal solution.\n",
      "The CommonGround optimization problem had no optimal solution.\n",
      "The tCommonGround optimization problem had no optimal solution.\n",
      "The tCommonGround optimization problem had no optimal solution.\n",
      "The CommonGround_entani optimization problem had no optimal solution.\n",
      "The CommonGround optimization problem had no optimal solution.\n",
      "The tCommonGround optimization problem had no optimal solution.\n",
      "The CommonGround_entani optimization problem had no optimal solution."
     ]
    },
    {
     "name": "stdout",
     "output_type": "stream",
     "text": [
      "\n",
      "The CommonGround_entani optimization problem had no optimal solution.\n",
      "The CommonGround optimization problem had no optimal solution.\n",
      "The CommonGround optimization problem had no optimal solution.\n",
      "The CommonGround_entani optimization problem had no optimal solution.\n",
      "The tCommonGround optimization problem had no optimal solution.\n",
      "The tCommonGround optimization problem had no optimal solution.\n",
      "The CommonGround optimization problem had no optimal solution.\n",
      "The tCommonGround optimization problem had no optimal solution.\n",
      "The CommonGround_entani optimization problem had no optimal solution.\n",
      "The CommonGround optimization problem had no optimal solution.\n",
      "The tCommonGround optimization problem had no optimal solution.\n",
      "The CommonGround_entani optimization problem had no optimal solution."
     ]
    },
    {
     "name": "stdout",
     "output_type": "stream",
     "text": [
      "\n",
      "The CommonGround optimization problem had no optimal solution.\n"
     ]
    },
    {
     "name": "stdout",
     "output_type": "stream",
     "text": [
      "The CommonGround_entani optimization problem had no optimal solution.\n",
      "The CommonGround optimization problem had no optimal solution.\n",
      "The tCommonGround optimization problem had no optimal solution.\n",
      "The CommonGround_entani optimization problem had no optimal solution.\n",
      "The CommonGround optimization problem had no optimal solution.\n",
      "The tCommonGround optimization problem had no optimal solution.\n",
      "The CommonGround_entani optimization problem had no optimal solution.\n",
      "The CommonGround optimization problem had no optimal solution.\n",
      "The tCommonGround optimization problem had no optimal solution.\n",
      "The CommonGround_entani optimization problem had no optimal solution.\n",
      "The CommonGround optimization problem had no optimal solution.\n",
      "The tCommonGround optimization problem had no optimal solution.\n"
     ]
    },
    {
     "name": "stdout",
     "output_type": "stream",
     "text": [
      "The CommonGround_entani optimization problem had no optimal solution.\n",
      "The CommonGround optimization problem had no optimal solution.\n",
      "The CommonGround_entani optimization problem had no optimal solution.\n",
      "The tCommonGround optimization problem had no optimal solution.\n",
      "The CommonGround optimization problem had no optimal solution.\n",
      "The tCommonGround optimization problem had no optimal solution.\n",
      "The CommonGround_entani optimization problem had no optimal solution.\n",
      "The CommonGround optimization problem had no optimal solution.\n",
      "The CommonGround_entani optimization problem had no optimal solution.\n",
      "The tCommonGround optimization problem had no optimal solution.\n",
      "The CommonGround optimization problem had no optimal solution.\n",
      "The tCommonGround optimization problem had no optimal solution.\n",
      "The CommonGround_entani optimization problem had no optimal solution.\n",
      "The CommonGround_entani optimization problem had no optimal solution.\n",
      "The CommonGround optimization problem had no optimal solution.\n",
      "The CommonGround optimization problem had no optimal solution.\n",
      "The tCommonGround optimization problem had no optimal solution.\n",
      "The tCommonGround optimization problem had no optimal solution.\n",
      "The CommonGround optimization problem had no optimal solution.\n",
      "The CommonGround_entani optimization problem had no optimal solution."
     ]
    },
    {
     "name": "stdout",
     "output_type": "stream",
     "text": [
      "\n",
      "The CommonGround optimization problem had no optimal solution.\n",
      "The CommonGround_entani optimization problem had no optimal solution.\n",
      "The CommonGround_entani optimization problem had no optimal solution.\n",
      "The CommonGround optimization problem had no optimal solution.\n",
      "The CommonGround optimization problem had no optimal solution.\n",
      "The tCommonGround optimization problem had no optimal solution.\n",
      "The CommonGround_entani optimization problem had no optimal solution.\n",
      "The CommonGround_entani optimization problem had no optimal solution."
     ]
    },
    {
     "name": "stdout",
     "output_type": "stream",
     "text": [
      "\n",
      "The CommonGround optimization problem had no optimal solution.\n",
      "The CommonGround optimization problem had no optimal solution.\n",
      "The tCommonGround optimization problem had no optimal solution.\n",
      "The tCommonGround optimization problem had no optimal solution.\n",
      "The CommonGround_entani optimization problem had no optimal solution.\n",
      "The CommonGround optimization problem had no optimal solution.\n",
      "The CommonGround_entani optimization problem had no optimal solution.\n",
      "The CommonGround optimization problem had no optimal solution.\n",
      "The tCommonGround optimization problem had no optimal solution.\n",
      "The CommonGround_entani optimization problem had no optimal solution.\n",
      "The CommonGround optimization problem had no optimal solution."
     ]
    },
    {
     "name": "stdout",
     "output_type": "stream",
     "text": [
      "\n"
     ]
    },
    {
     "name": "stdout",
     "output_type": "stream",
     "text": [
      "The CommonGround_entani optimization problem had no optimal solution.\n",
      "The CommonGround optimization problem had no optimal solution.\n",
      "The CommonGround_entani optimization problem had no optimal solution.\n",
      "The CommonGround optimization problem had no optimal solution.\n",
      "The tCommonGround optimization problem had no optimal solution.\n",
      "The tCommonGround optimization problem had no optimal solution.\n"
     ]
    },
    {
     "name": "stdout",
     "output_type": "stream",
     "text": [
      "The CommonGround_entani optimization problem had no optimal solution.\n",
      "The CommonGround optimization problem had no optimal solution.\n",
      "The CommonGround_entani optimization problem had no optimal solution.\n",
      "The tCommonGround optimization problem had no optimal solution.\n",
      "The CommonGround_entani optimization problem had no optimal solution.\n",
      "The CommonGround optimization problem had no optimal solution.\n",
      "The CommonGround optimization problem had no optimal solution.\n",
      "The tCommonGround optimization problem had no optimal solution.\n",
      "The tCommonGround optimization problem had no optimal solution.\n",
      "The CommonGround_entani optimization problem had no optimal solution.\n",
      "The CommonGround optimization problem had no optimal solution.\n",
      "The tCommonGround optimization problem had no optimal solution.\n",
      "The CommonGround_entani optimization problem had no optimal solution.\n",
      "The CommonGround_entani optimization problem had no optimal solution."
     ]
    },
    {
     "name": "stdout",
     "output_type": "stream",
     "text": [
      "\n",
      "The CommonGround optimization problem had no optimal solution.\n",
      "The CommonGround optimization problem had no optimal solution.\n",
      "The CommonGround_entani optimization problem had no optimal solution.\n",
      "The CommonGround optimization problem had no optimal solution.\n",
      "The tCommonGround optimization problem had no optimal solution.\n",
      "The tCommonGround optimization problem had no optimal solution.\n"
     ]
    },
    {
     "name": "stdout",
     "output_type": "stream",
     "text": [
      "The CommonGround_entani optimization problem had no optimal solution.\n",
      "The CommonGround optimization problem had no optimal solution.\n",
      "The tCommonGround optimization problem had no optimal solution.\n",
      "The CommonGround_entani optimization problem had no optimal solution.\n"
     ]
    },
    {
     "name": "stdout",
     "output_type": "stream",
     "text": [
      "The CommonGround_entani optimization problem had no optimal solution.\n",
      "The CommonGround_entani optimization problem had no optimal solution.\n",
      "The CommonGround_entani optimization problem had no optimal solution.\n",
      "The CommonGround optimization problem had no optimal solution.\n",
      "The CommonGround optimization problem had no optimal solution.\n",
      "The tCommonGround optimization problem had no optimal solution.\n",
      "The CommonGround optimization problem had no optimal solution.\n",
      "The CommonGround optimization problem had no optimal solution.\n",
      "The tCommonGround optimization problem had no optimal solution.\n",
      "The tCommonGround optimization problem had no optimal solution.\n",
      "The tCommonGround optimization problem had no optimal solution.\n",
      "The CommonGround_entani optimization problem had no optimal solution.\n",
      "The CommonGround optimization problem had no optimal solution.\n",
      "The tCommonGround optimization problem had no optimal solution.\n",
      "The CommonGround_entani optimization problem had no optimal solution.\n",
      "The CommonGround optimization problem had no optimal solution.\n",
      "The CommonGround_entani optimization problem had no optimal solution."
     ]
    },
    {
     "name": "stdout",
     "output_type": "stream",
     "text": [
      "\n",
      "The tCommonGround optimization problem had no optimal solution.\n",
      "The CommonGround optimization problem had no optimal solution."
     ]
    },
    {
     "name": "stdout",
     "output_type": "stream",
     "text": [
      "\n",
      "The CommonGround_entani optimization problem had no optimal solution.\n",
      "The tCommonGround optimization problem had no optimal solution.\n",
      "The CommonGround_entani optimization problem had no optimal solution.\n",
      "The CommonGround optimization problem had no optimal solution.\n",
      "The CommonGround optimization problem had no optimal solution.\n",
      "The tCommonGround optimization problem had no optimal solution.\n",
      "The tCommonGround optimization problem had no optimal solution.\n",
      "The CommonGround_entani optimization problem had no optimal solution."
     ]
    },
    {
     "name": "stdout",
     "output_type": "stream",
     "text": [
      "\n",
      "The CommonGround_entani optimization problem had no optimal solution.\n",
      "The CommonGround optimization problem had no optimal solution.\n",
      "The CommonGround optimization problem had no optimal solution.\n",
      "The tCommonGround optimization problem had no optimal solution.\n",
      "The CommonGround_entani optimization problem had no optimal solution.\n",
      "The tCommonGround optimization problem had no optimal solution.\n",
      "The CommonGround optimization problem had no optimal solution.\n",
      "The tCommonGround optimization problem had no optimal solution.\n",
      "The CommonGround_entani optimization problem had no optimal solution.\n",
      "The CommonGround optimization problem had no optimal solution.\n",
      "The tCommonGround optimization problem had no optimal solution.\n",
      "The CommonGround_entani optimization problem had no optimal solution."
     ]
    },
    {
     "name": "stdout",
     "output_type": "stream",
     "text": [
      "\n"
     ]
    },
    {
     "name": "stdout",
     "output_type": "stream",
     "text": [
      "The CommonGround optimization problem had no optimal solution.\n",
      "The CommonGround_entani optimization problem had no optimal solution.\n",
      "The tCommonGround optimization problem had no optimal solution.\n",
      "The CommonGround optimization problem had no optimal solution.\n",
      "The CommonGround_entani optimization problem had no optimal solution.\n",
      "The tCommonGround optimization problem had no optimal solution.\n",
      "The CommonGround optimization problem had no optimal solution.\n",
      "The tCommonGround optimization problem had no optimal solution.\n",
      "The CommonGround_entani optimization problem had no optimal solution.\n",
      "The CommonGround optimization problem had no optimal solution.\n",
      "The tCommonGround optimization problem had no optimal solution.\n",
      "The CommonGround_entani optimization problem had no optimal solution.\n",
      "The CommonGround_entani optimization problem had no optimal solution.\n",
      "The CommonGround optimization problem had no optimal solution.\n",
      "The CommonGround_entani optimization problem had no optimal solution."
     ]
    },
    {
     "name": "stdout",
     "output_type": "stream",
     "text": [
      "\n",
      "The CommonGround optimization problem had no optimal solution.\n",
      "The tCommonGround optimization problem had no optimal solution.\n",
      "The tCommonGround optimization problem had no optimal solution.\n"
     ]
    },
    {
     "name": "stdout",
     "output_type": "stream",
     "text": [
      "The CommonGround_entani optimization problem had no optimal solution.\n",
      "The CommonGround_entani optimization problem had no optimal solution.\n",
      "The CommonGround optimization problem had no optimal solution.\n",
      "The CommonGround optimization problem had no optimal solution.\n",
      "The tCommonGround optimization problem had no optimal solution.\n",
      "The tCommonGround optimization problem had no optimal solution.\n",
      "The CommonGround_entani optimization problem had no optimal solution.\n",
      "The CommonGround optimization problem had no optimal solution.\n",
      "The CommonGround_entani optimization problem had no optimal solution.\n",
      "The tCommonGround optimization problem had no optimal solution.\n",
      "The CommonGround optimization problem had no optimal solution.\n",
      "The tCommonGround optimization problem had no optimal solution.\n",
      "The CommonGround_entani optimization problem had no optimal solution.\n",
      "The CommonGround_entani optimization problem had no optimal solution.\n",
      "The CommonGround optimization problem had no optimal solution.\n",
      "The CommonGround optimization problem had no optimal solution.\n",
      "The tCommonGround optimization problem had no optimal solution.\n",
      "The CommonGround_entani optimization problem had no optimal solution."
     ]
    },
    {
     "name": "stdout",
     "output_type": "stream",
     "text": [
      "\n",
      "The CommonGround optimization problem had no optimal solution.\n"
     ]
    },
    {
     "name": "stdout",
     "output_type": "stream",
     "text": [
      "The tCommonGround optimization problem had no optimal solution.\n",
      "The CommonGround_entani optimization problem had no optimal solution.\n",
      "The CommonGround optimization problem had no optimal solution.\n",
      "The CommonGround_entani optimization problem had no optimal solution.\n",
      "The CommonGround_entani optimization problem had no optimal solution.\n",
      "The tCommonGround optimization problem had no optimal solution.\n",
      "The CommonGround optimization problem had no optimal solution.\n",
      "The tCommonGround optimization problem had no optimal solution.\n",
      "The CommonGround optimization problem had no optimal solution.\n",
      "The tCommonGround optimization problem had no optimal solution.\n",
      "The CommonGround_entani optimization problem had no optimal solution."
     ]
    },
    {
     "name": "stdout",
     "output_type": "stream",
     "text": [
      "\n",
      "The CommonGround optimization problem had no optimal solution.\n",
      "The tCommonGround optimization problem had no optimal solution.\n"
     ]
    },
    {
     "name": "stdout",
     "output_type": "stream",
     "text": [
      "The CommonGround_entani optimization problem had no optimal solution.\n",
      "The CommonGround_entani optimization problem had no optimal solution.\n",
      "The CommonGround_entani optimization problem had no optimal solution.\n",
      "The CommonGround optimization problem had no optimal solution.\n",
      "The tCommonGround optimization problem had no optimal solution.\n",
      "The CommonGround optimization problem had no optimal solution.\n",
      "The CommonGround optimization problem had no optimal solution.\n",
      "The tCommonGround optimization problem had no optimal solution.\n",
      "The tCommonGround optimization problem had no optimal solution.\n",
      "The CommonGround_entani optimization problem had no optimal solution.\n"
     ]
    },
    {
     "name": "stdout",
     "output_type": "stream",
     "text": [
      "The CommonGround optimization problem had no optimal solution.\n",
      "The tCommonGround optimization problem had no optimal solution.\n",
      "The CommonGround_entani optimization problem had no optimal solution.\n",
      "The CommonGround optimization problem had no optimal solution.\n",
      "The CommonGround_entani optimization problem had no optimal solution.\n",
      "The tCommonGround optimization problem had no optimal solution.\n",
      "The CommonGround optimization problem had no optimal solution.\n",
      "The CommonGround_entani optimization problem had no optimal solution.\n",
      "The tCommonGround optimization problem had no optimal solution.\n",
      "The CommonGround optimization problem had no optimal solution.\n",
      "The tCommonGround optimization problem had no optimal solution.\n",
      "The CommonGround_entani optimization problem had no optimal solution."
     ]
    },
    {
     "name": "stdout",
     "output_type": "stream",
     "text": [
      "\n",
      "The CommonGround optimization problem had no optimal solution.\n"
     ]
    },
    {
     "name": "stdout",
     "output_type": "stream",
     "text": [
      "The CommonGround_entani optimization problem had no optimal solution.\n",
      "The tCommonGround optimization problem had no optimal solution.\n",
      "The CommonGround optimization problem had no optimal solution.\n",
      "The tCommonGround optimization problem had no optimal solution.\n",
      "The CommonGround_entani optimization problem had no optimal solution.\n",
      "The CommonGround optimization problem had no optimal solution.\n",
      "The tCommonGround optimization problem had no optimal solution.\n",
      "The CommonGround_entani optimization problem had no optimal solution.\n",
      "The CommonGround optimization problem had no optimal solution.\n",
      "The CommonGround_entani optimization problem had no optimal solution."
     ]
    },
    {
     "name": "stdout",
     "output_type": "stream",
     "text": [
      "\n"
     ]
    },
    {
     "name": "stdout",
     "output_type": "stream",
     "text": [
      "The CommonGround optimization problem had no optimal solution.\n",
      "The tCommonGround optimization problem had no optimal solution.\n",
      "The CommonGround_entani optimization problem had no optimal solution.\n",
      "The tCommonGround optimization problem had no optimal solution.\n",
      "The CommonGround optimization problem had no optimal solution.\n",
      "The tCommonGround optimization problem had no optimal solution.\n",
      "The CommonGround_entani optimization problem had no optimal solution.\n",
      "The CommonGround optimization problem had no optimal solution.\n",
      "The CommonGround_entani optimization problem had no optimal solution.\n",
      "The CommonGround optimization problem had no optimal solution.\n",
      "The CommonGround_entani optimization problem had no optimal solution."
     ]
    },
    {
     "name": "stdout",
     "output_type": "stream",
     "text": [
      "\n"
     ]
    },
    {
     "name": "stdout",
     "output_type": "stream",
     "text": [
      "The tCommonGround optimization problem had no optimal solution.\n",
      "The CommonGround_entani optimization problem had no optimal solution.\n",
      "The CommonGround optimization problem had no optimal solution.\n",
      "The CommonGround optimization problem had no optimal solution.\n",
      "The tCommonGround optimization problem had no optimal solution.\n",
      "The tCommonGround optimization problem had no optimal solution.\n"
     ]
    },
    {
     "name": "stdout",
     "output_type": "stream",
     "text": [
      "The CommonGround_entani optimization problem had no optimal solution.\n",
      "The CommonGround optimization problem had no optimal solution.\n",
      "The tCommonGround optimization problem had no optimal solution.\n",
      "The CommonGround_entani optimization problem had no optimal solution.\n",
      "The CommonGround optimization problem had no optimal solution.\n",
      "The CommonGround_entani optimization problem had no optimal solution.\n",
      "The tCommonGround optimization problem had no optimal solution.\n",
      "The CommonGround_entani optimization problem had no optimal solution.\n"
     ]
    },
    {
     "name": "stdout",
     "output_type": "stream",
     "text": [
      "The CommonGround optimization problem had no optimal solution.\n",
      "The CommonGround optimization problem had no optimal solution.\n",
      "The tCommonGround optimization problem had no optimal solution.\n",
      "The CommonGround_entani optimization problem had no optimal solution.\n",
      "The CommonGround optimization problem had no optimal solution.\n",
      "The tCommonGround optimization problem had no optimal solution.\n",
      "The CommonGround_entani optimization problem had no optimal solution.\n",
      "The tCommonGround optimization problem had no optimal solution.\n",
      "The CommonGround_entani optimization problem had no optimal solution."
     ]
    },
    {
     "name": "stdout",
     "output_type": "stream",
     "text": [
      "\n",
      "The CommonGround optimization problem had no optimal solution.\n"
     ]
    },
    {
     "name": "stdout",
     "output_type": "stream",
     "text": [
      "The CommonGround_entani optimization problem had no optimal solution.\n",
      "The CommonGround optimization problem had no optimal solution.\n",
      "The tCommonGround optimization problem had no optimal solution.\n",
      "The CommonGround_entani optimization problem had no optimal solution.\n",
      "The CommonGround optimization problem had no optimal solution.\n",
      "The CommonGround_entani optimization problem had no optimal solution.\n",
      "The tCommonGround optimization problem had no optimal solution.\n",
      "The CommonGround_entani optimization problem had no optimal solution.\n",
      "The CommonGround optimization problem had no optimal solution.\n",
      "The CommonGround optimization problem had no optimal solution.\n",
      "The tCommonGround optimization problem had no optimal solution.\n",
      "The CommonGround_entani optimization problem had no optimal solution.\n",
      "The CommonGround optimization problem had no optimal solution.\n",
      "The tCommonGround optimization problem had no optimal solution.\n",
      "The CommonGround_entani optimization problem had no optimal solution.\n",
      "The CommonGround optimization problem had no optimal solution.\n",
      "The tCommonGround optimization problem had no optimal solution.\n",
      "The CommonGround_entani optimization problem had no optimal solution."
     ]
    },
    {
     "name": "stdout",
     "output_type": "stream",
     "text": [
      "\n",
      "The CommonGround_entani optimization problem had no optimal solution.\n",
      "The CommonGround optimization problem had no optimal solution.\n",
      "The CommonGround optimization problem had no optimal solution.\n",
      "The tCommonGround optimization problem had no optimal solution.\n",
      "The tCommonGround optimization problem had no optimal solution.\n",
      "The CommonGround_entani optimization problem had no optimal solution.\n",
      "The CommonGround optimization problem had no optimal solution.\n",
      "The tCommonGround optimization problem had no optimal solution.\n",
      "The CommonGround_entani optimization problem had no optimal solution.\n",
      "The CommonGround optimization problem had no optimal solution.\n",
      "The CommonGround_entani optimization problem had no optimal solution."
     ]
    },
    {
     "name": "stdout",
     "output_type": "stream",
     "text": [
      "\n",
      "The tCommonGround optimization problem had no optimal solution.\n",
      "The CommonGround_entani optimization problem had no optimal solution.\n",
      "The CommonGround optimization problem had no optimal solution.\n",
      "The CommonGround optimization problem had no optimal solution.\n",
      "The tCommonGround optimization problem had no optimal solution.\n",
      "The tCommonGround optimization problem had no optimal solution.\n",
      "The CommonGround_entani optimization problem had no optimal solution.\n",
      "The CommonGround optimization problem had no optimal solution.\n",
      "The tCommonGround optimization problem had no optimal solution.\n",
      "The CommonGround_entani optimization problem had no optimal solution.\n",
      "The CommonGround optimization problem had no optimal solution.\n",
      "The tCommonGround optimization problem had no optimal solution.\n",
      "The CommonGround_entani optimization problem had no optimal solution."
     ]
    },
    {
     "name": "stdout",
     "output_type": "stream",
     "text": [
      "\n"
     ]
    },
    {
     "name": "stdout",
     "output_type": "stream",
     "text": [
      "The CommonGround_entani optimization problem had no optimal solution.\n",
      "The CommonGround optimization problem had no optimal solution.\n",
      "The CommonGround optimization problem had no optimal solution.\n",
      "The tCommonGround optimization problem had no optimal solution.\n",
      "The tCommonGround optimization problem had no optimal solution.\n",
      "The CommonGround_entani optimization problem had no optimal solution.\n",
      "The CommonGround optimization problem had no optimal solution.\n",
      "The tCommonGround optimization problem had no optimal solution.\n",
      "The CommonGround_entani optimization problem had no optimal solution.\n",
      "The CommonGround optimization problem had no optimal solution.\n",
      "The tCommonGround optimization problem had no optimal solution.\n",
      "The CommonGround_entani optimization problem had no optimal solution."
     ]
    },
    {
     "name": "stdout",
     "output_type": "stream",
     "text": [
      "\n",
      "The CommonGround_entani optimization problem had no optimal solution.\n",
      "The CommonGround optimization problem had no optimal solution.\n",
      "The CommonGround optimization problem had no optimal solution.\n",
      "The tCommonGround optimization problem had no optimal solution.\n",
      "The tCommonGround optimization problem had no optimal solution.\n",
      "The CommonGround_entani optimization problem had no optimal solution.\n",
      "The CommonGround optimization problem had no optimal solution.\n",
      "The tCommonGround optimization problem had no optimal solution.\n",
      "The CommonGround_entani optimization problem had no optimal solution.\n",
      "The CommonGround optimization problem had no optimal solution.\n",
      "The tCommonGround optimization problem had no optimal solution.\n",
      "The CommonGround_entani optimization problem had no optimal solution.\n",
      "The CommonGround optimization problem had no optimal solution.\n",
      "The CommonGround_entani optimization problem had no optimal solution.\n",
      "The CommonGround optimization problem had no optimal solution.\n",
      "The tCommonGround optimization problem had no optimal solution.\n",
      "The CommonGround_entani optimization problem had no optimal solution.\n",
      "The CommonGround optimization problem had no optimal solution.\n",
      "The tCommonGround optimization problem had no optimal solution.\n",
      "The CommonGround_entani optimization problem had no optimal solution.\n",
      "The CommonGround_entani optimization problem had no optimal solution."
     ]
    },
    {
     "name": "stdout",
     "output_type": "stream",
     "text": [
      "\n",
      "The CommonGround optimization problem had no optimal solution.\n",
      "The CommonGround optimization problem had no optimal solution.\n",
      "The tCommonGround optimization problem had no optimal solution.\n",
      "The tCommonGround optimization problem had no optimal solution.\n"
     ]
    },
    {
     "name": "stdout",
     "output_type": "stream",
     "text": [
      "The CommonGround_entani optimization problem had no optimal solution.\n",
      "The CommonGround optimization problem had no optimal solution.\n",
      "The tCommonGround optimization problem had no optimal solution.\n",
      "The CommonGround_entani optimization problem had no optimal solution.\n",
      "The CommonGround optimization problem had no optimal solution.\n",
      "The tCommonGround optimization problem had no optimal solution.\n",
      "The CommonGround_entani optimization problem had no optimal solution.\n",
      "The CommonGround_entani optimization problem had no optimal solution.\n",
      "The CommonGround optimization problem had no optimal solution.\n",
      "The CommonGround optimization problem had no optimal solution."
     ]
    },
    {
     "name": "stdout",
     "output_type": "stream",
     "text": [
      "\n",
      "The CommonGround_entani optimization problem had no optimal solution.\n",
      "The tCommonGround optimization problem had no optimal solution.\n",
      "The CommonGround optimization problem had no optimal solution.\n",
      "The tCommonGround optimization problem had no optimal solution.\n",
      "The tCommonGround optimization problem had no optimal solution."
     ]
    },
    {
     "name": "stdout",
     "output_type": "stream",
     "text": [
      "\n",
      "The CommonGround_entani optimization problem had no optimal solution.\n",
      "The CommonGround optimization problem had no optimal solution.\n",
      "The CommonGround_entani optimization problem had no optimal solution.\n",
      "The CommonGround optimization problem had no optimal solution.\n",
      "The CommonGround_entani optimization problem had no optimal solution."
     ]
    },
    {
     "name": "stdout",
     "output_type": "stream",
     "text": [
      "\n",
      "The CommonGround_entani optimization problem had no optimal solution.\n",
      "The CommonGround optimization problem had no optimal solution.\n",
      "The CommonGround optimization problem had no optimal solution.\n",
      "The tCommonGround optimization problem had no optimal solution.\n",
      "The tCommonGround optimization problem had no optimal solution.\n",
      "The tCommonGround optimization problem had no optimal solution."
     ]
    },
    {
     "name": "stdout",
     "output_type": "stream",
     "text": [
      "\n",
      "The CommonGround_entani optimization problem had no optimal solution.\n",
      "The CommonGround optimization problem had no optimal solution.\n",
      "The tCommonGround optimization problem had no optimal solution.\n",
      "The CommonGround_entani optimization problem had no optimal solution.\n",
      "The CommonGround_entani optimization problem had no optimal solution.\n",
      "The CommonGround_entani optimization problem had no optimal solution.\n",
      "The CommonGround optimization problem had no optimal solution.\n",
      "The CommonGround_entani optimization problem had no optimal solution."
     ]
    },
    {
     "name": "stdout",
     "output_type": "stream",
     "text": [
      "\n",
      "The CommonGround optimization problem had no optimal solution.\n",
      "The CommonGround optimization problem had no optimal solution.\n",
      "The CommonGround optimization problem had no optimal solution.\n",
      "The tCommonGround optimization problem had no optimal solution.\n",
      "The tCommonGround optimization problem had no optimal solution.\n",
      "The tCommonGround optimization problem had no optimal solution.\n",
      "The tCommonGround optimization problem had no optimal solution.\n",
      "The CommonGround_entani optimization problem had no optimal solution."
     ]
    },
    {
     "name": "stdout",
     "output_type": "stream",
     "text": [
      "\n",
      "The CommonGround_entani optimization problem had no optimal solution.\n",
      "The CommonGround_entani optimization problem had no optimal solution.\n",
      "The CommonGround_entani optimization problem had no optimal solution.\n",
      "The CommonGround optimization problem had no optimal solution.\n",
      "The CommonGround optimization problem had no optimal solution.\n",
      "The CommonGround optimization problem had no optimal solution.\n",
      "The tCommonGround optimization problem had no optimal solution.\n",
      "The tCommonGround optimization problem had no optimal solution.\n",
      "The tCommonGround optimization problem had no optimal solution.\n",
      "The CommonGround_entani optimization problem had no optimal solution."
     ]
    },
    {
     "name": "stdout",
     "output_type": "stream",
     "text": [
      "\n",
      "The CommonGround_entani optimization problem had no optimal solution.\n",
      "The CommonGround_entani optimization problem had no optimal solution.\n",
      "The CommonGround optimization problem had no optimal solution.\n",
      "The CommonGround_entani optimization problem had no optimal solution.\n",
      "The CommonGround optimization problem had no optimal solution.\n",
      "The tCommonGround optimization problem had no optimal solution.\n",
      "The CommonGround optimization problem had no optimal solution.\n",
      "The CommonGround optimization problem had no optimal solution.\n",
      "The tCommonGround optimization problem had no optimal solution.\n",
      "The tCommonGround optimization problem had no optimal solution.\n",
      "The tCommonGround optimization problem had no optimal solution.\n",
      "The CommonGround_entani optimization problem had no optimal solution."
     ]
    },
    {
     "name": "stdout",
     "output_type": "stream",
     "text": [
      "\n",
      "The CommonGround optimization problem had no optimal solution.\n",
      "The CommonGround_entani optimization problem had no optimal solution.\n",
      "The CommonGround_entani optimization problem had no optimal solution.\n",
      "The CommonGround optimization problem had no optimal solution.\n",
      "The CommonGround optimization problem had no optimal solution.\n",
      "The tCommonGround optimization problem had no optimal solution.\n",
      "The CommonGround_entani optimization problem had no optimal solution.\n",
      "The tCommonGround optimization problem had no optimal solution.\n",
      "The tCommonGround optimization problem had no optimal solution.\n",
      "The CommonGround optimization problem had no optimal solution.\n",
      "The tCommonGround optimization problem had no optimal solution.\n",
      "The CommonGround_entani optimization problem had no optimal solution."
     ]
    },
    {
     "name": "stdout",
     "output_type": "stream",
     "text": [
      "\n"
     ]
    },
    {
     "name": "stdout",
     "output_type": "stream",
     "text": [
      "The CommonGround_entani optimization problem had no optimal solution.\n",
      "The CommonGround optimization problem had no optimal solution.\n",
      "The CommonGround optimization problem had no optimal solution.\n",
      "The tCommonGround optimization problem had no optimal solution.\n",
      "The tCommonGround optimization problem had no optimal solution.\n",
      "The CommonGround_entani optimization problem had no optimal solution.\n",
      "The CommonGround_entani optimization problem had no optimal solution.\n",
      "The CommonGround optimization problem had no optimal solution.\n",
      "The CommonGround optimization problem had no optimal solution.\n",
      "The tCommonGround optimization problem had no optimal solution.\n",
      "The tCommonGround optimization problem had no optimal solution.\n",
      "The CommonGround_entani optimization problem had no optimal solution."
     ]
    },
    {
     "name": "stdout",
     "output_type": "stream",
     "text": [
      "\n"
     ]
    },
    {
     "name": "stdout",
     "output_type": "stream",
     "text": [
      "The CommonGround optimization problem had no optimal solution.\n",
      "The tCommonGround optimization problem had no optimal solution.\n",
      "The CommonGround_entani optimization problem had no optimal solution.\n",
      "The CommonGround optimization problem had no optimal solution.\n",
      "The CommonGround_entani optimization problem had no optimal solution.\n",
      "The tCommonGround optimization problem had no optimal solution.\n",
      "The CommonGround optimization problem had no optimal solution.\n",
      "The tCommonGround optimization problem had no optimal solution.\n",
      "The CommonGround optimization problem had no optimal solution.\n",
      "The CommonGround_entani optimization problem had no optimal solution."
     ]
    },
    {
     "name": "stdout",
     "output_type": "stream",
     "text": [
      "\n",
      "The CommonGround optimization problem had no optimal solution.\n"
     ]
    },
    {
     "name": "stdout",
     "output_type": "stream",
     "text": [
      "The tCommonGround optimization problem had no optimal solution.\n",
      "The CommonGround_entani optimization problem had no optimal solution.\n",
      "The CommonGround optimization problem had no optimal solution.\n",
      "The tCommonGround optimization problem had no optimal solution.\n",
      "The CommonGround_entani optimization problem had no optimal solution.\n",
      "The CommonGround optimization problem had no optimal solution.\n",
      "The CommonGround_entani optimization problem had no optimal solution.\n",
      "The CommonGround optimization problem had no optimal solution.\n",
      "The tCommonGround optimization problem had no optimal solution.\n",
      "The CommonGround_entani optimization problem had no optimal solution."
     ]
    },
    {
     "name": "stdout",
     "output_type": "stream",
     "text": [
      "\n",
      "The CommonGround optimization problem had no optimal solution.\n"
     ]
    },
    {
     "name": "stdout",
     "output_type": "stream",
     "text": [
      "The tCommonGround optimization problem had no optimal solution.\n",
      "The CommonGround_entani optimization problem had no optimal solution.\n",
      "The CommonGround_entani optimization problem had no optimal solution.\n",
      "The CommonGround_entani optimization problem had no optimal solution.\n",
      "The CommonGround optimization problem had no optimal solution.\n",
      "The CommonGround optimization problem had no optimal solution.\n",
      "The tCommonGround optimization problem had no optimal solution.\n",
      "The tCommonGround optimization problem had no optimal solution.\n",
      "The CommonGround optimization problem had no optimal solution.\n",
      "The tCommonGround optimization problem had no optimal solution.\n"
     ]
    },
    {
     "name": "stdout",
     "output_type": "stream",
     "text": [
      "The CommonGround_entani optimization problem had no optimal solution.\n",
      "The CommonGround_entani optimization problem had no optimal solution.\n",
      "The CommonGround optimization problem had no optimal solution.\n",
      "The CommonGround optimization problem had no optimal solution.\n",
      "The tCommonGround optimization problem had no optimal solution.\n"
     ]
    },
    {
     "name": "stdout",
     "output_type": "stream",
     "text": [
      "The tCommonGround optimization problem had no optimal solution.\n"
     ]
    },
    {
     "name": "stdout",
     "output_type": "stream",
     "text": [
      "The CommonGround_entani optimization problem had no optimal solution.\n",
      "The CommonGround optimization problem had no optimal solution.\n",
      "The tCommonGround optimization problem had no optimal solution.\n"
     ]
    },
    {
     "name": "stdout",
     "output_type": "stream",
     "text": [
      "The CommonGround_entani optimization problem had no optimal solution.\n",
      "The CommonGround optimization problem had no optimal solution.\n"
     ]
    },
    {
     "name": "stdout",
     "output_type": "stream",
     "text": [
      "The tCommonGround optimization problem had no optimal solution.\n",
      "The CommonGround_entani optimization problem had no optimal solution.\n",
      "The CommonGround optimization problem had no optimal solution.\n"
     ]
    },
    {
     "name": "stdout",
     "output_type": "stream",
     "text": [
      "The tCommonGround optimization problem had no optimal solution.\n",
      "The CommonGround_entani optimization problem had no optimal solution.\n",
      "The CommonGround optimization problem had no optimal solution.\n",
      "The tCommonGround optimization problem had no optimal solution.\n"
     ]
    },
    {
     "name": "stdout",
     "output_type": "stream",
     "text": [
      "The CommonGround_entani optimization problem had no optimal solution.\n",
      "The CommonGround optimization problem had no optimal solution.\n",
      "The tCommonGround optimization problem had no optimal solution.\n"
     ]
    },
    {
     "name": "stdout",
     "output_type": "stream",
     "text": [
      "The CommonGround_entani optimization problem had no optimal solution.\n",
      "The CommonGround_entani optimization problem had no optimal solution.\n",
      "The CommonGround_entani optimization problem had no optimal solution.\n",
      "The CommonGround_entani optimization problem had no optimal solution.\n",
      "The CommonGround optimization problem had no optimal solution.\n",
      "The CommonGround optimization problem had no optimal solution.\n",
      "The CommonGround optimization problem had no optimal solution.\n",
      "The tCommonGround optimization problem had no optimal solution.\n",
      "The CommonGround optimization problem had no optimal solution.\n",
      "The tCommonGround optimization problem had no optimal solution.\n",
      "The tCommonGround optimization problem had no optimal solution.\n",
      "The tCommonGround optimization problem had no optimal solution.\n",
      "The CommonGround_entani optimization problem had no optimal solution.\n",
      "The CommonGround optimization problem had no optimal solution.\n",
      "The CommonGround_entani optimization problem had no optimal solution.\n",
      "The CommonGround_entani optimization problem had no optimal solution."
     ]
    },
    {
     "name": "stdout",
     "output_type": "stream",
     "text": [
      "\n",
      "The CommonGround optimization problem had no optimal solution.\n",
      "The CommonGround_entani optimization problem had no optimal solution.\n",
      "The CommonGround optimization problem had no optimal solution.\n"
     ]
    },
    {
     "name": "stdout",
     "output_type": "stream",
     "text": [
      "The CommonGround optimization problem had no optimal solution.\n",
      "The tCommonGround optimization problem had no optimal solution.\n",
      "The tCommonGround optimization problem had no optimal solution.\n",
      "The CommonGround_entani optimization problem had no optimal solution.\n",
      "The CommonGround optimization problem had no optimal solution.\n",
      "The tCommonGround optimization problem had no optimal solution.\n",
      "The CommonGround_entani optimization problem had no optimal solution.\n",
      "The CommonGround_entani optimization problem had no optimal solution.\n",
      "The CommonGround optimization problem had no optimal solution.\n",
      "The CommonGround_entani optimization problem had no optimal solution."
     ]
    },
    {
     "name": "stdout",
     "output_type": "stream",
     "text": [
      "\n",
      "The tCommonGround optimization problem had no optimal solution.\n",
      "The CommonGround optimization problem had no optimal solution.\n",
      "The CommonGround optimization problem had no optimal solution."
     ]
    },
    {
     "name": "stdout",
     "output_type": "stream",
     "text": [
      "\n",
      "The tCommonGround optimization problem had no optimal solution.\n"
     ]
    },
    {
     "name": "stdout",
     "output_type": "stream",
     "text": [
      "The CommonGround_entani optimization problem had no optimal solution.\n",
      "The CommonGround optimization problem had no optimal solution.\n",
      "The CommonGround_entani optimization problem had no optimal solution.\n",
      "The tCommonGround optimization problem had no optimal solution.\n",
      "The CommonGround_entani optimization problem had no optimal solution.\n",
      "The CommonGround optimization problem had no optimal solution.\n",
      "The CommonGround optimization problem had no optimal solution.\n",
      "The tCommonGround optimization problem had no optimal solution.\n",
      "The CommonGround_entani optimization problem had no optimal solution.\n",
      "The CommonGround optimization problem had no optimal solution.\n"
     ]
    },
    {
     "name": "stdout",
     "output_type": "stream",
     "text": [
      "The CommonGround_entani optimization problem had no optimal solution.\n",
      "The CommonGround optimization problem had no optimal solution.\n",
      "The tCommonGround optimization problem had no optimal solution.\n",
      "The CommonGround_entani optimization problem had no optimal solution.\n",
      "The CommonGround_entani optimization problem had no optimal solution.\n",
      "The CommonGround optimization problem had no optimal solution.\n",
      "The tCommonGround optimization problem had no optimal solution.\n",
      "The CommonGround optimization problem had no optimal solution.\n",
      "The tCommonGround optimization problem had no optimal solution.\n",
      "The CommonGround_entani optimization problem had no optimal solution.\n"
     ]
    },
    {
     "name": "stdout",
     "output_type": "stream",
     "text": [
      "The CommonGround optimization problem had no optimal solution.\n",
      "The tCommonGround optimization problem had no optimal solution.\n",
      "The CommonGround_entani optimization problem had no optimal solution.\n",
      "The CommonGround optimization problem had no optimal solution.\n",
      "The CommonGround_entani optimization problem had no optimal solution.\n",
      "The CommonGround_entani optimization problem had no optimal solution.\n",
      "The CommonGround optimization problem had no optimal solution.\n",
      "The tCommonGround optimization problem had no optimal solution.\n",
      "The CommonGround optimization problem had no optimal solution.\n",
      "The tCommonGround optimization problem had no optimal solution.\n",
      "The CommonGround_entani optimization problem had no optimal solution."
     ]
    },
    {
     "name": "stdout",
     "output_type": "stream",
     "text": [
      "\n",
      "The CommonGround optimization problem had no optimal solution.\n",
      "The CommonGround_entani optimization problem had no optimal solution.\n",
      "The CommonGround_entani optimization problem had no optimal solution.\n",
      "The CommonGround optimization problem had no optimal solution.\n",
      "The CommonGround optimization problem had no optimal solution.\n",
      "The tCommonGround optimization problem had no optimal solution.\n",
      "The tCommonGround optimization problem had no optimal solution.\n",
      "The CommonGround_entani optimization problem had no optimal solution.\n",
      "The CommonGround optimization problem had no optimal solution.\n",
      "The tCommonGround optimization problem had no optimal solution.\n",
      "The CommonGround_entani optimization problem had no optimal solution.\n",
      "The CommonGround optimization problem had no optimal solution.\n",
      "The tCommonGround optimization problem had no optimal solution.\n",
      "The CommonGround_entani optimization problem had no optimal solution."
     ]
    },
    {
     "name": "stdout",
     "output_type": "stream",
     "text": [
      "\n",
      "The CommonGround optimization problem had no optimal solution.\n",
      "The CommonGround_entani optimization problem had no optimal solution.\n",
      "The CommonGround optimization problem had no optimal solution.\n",
      "The CommonGround_entani optimization problem had no optimal solution.\n",
      "The tCommonGround optimization problem had no optimal solution.\n",
      "The CommonGround optimization problem had no optimal solution.\n",
      "The CommonGround_entani optimization problem had no optimal solution.\n",
      "The CommonGround optimization problem had no optimal solution.\n",
      "The CommonGround_entani optimization problem had no optimal solution."
     ]
    },
    {
     "name": "stdout",
     "output_type": "stream",
     "text": [
      "\n",
      "The CommonGround optimization problem had no optimal solution.\n",
      "The CommonGround_entani optimization problem had no optimal solution.\n",
      "The tCommonGround optimization problem had no optimal solution.\n"
     ]
    },
    {
     "name": "stdout",
     "output_type": "stream",
     "text": [
      "The CommonGround optimization problem had no optimal solution.\n",
      "The CommonGround_entani optimization problem had no optimal solution.\n",
      "The CommonGround optimization problem had no optimal solution.\n",
      "The tCommonGround optimization problem had no optimal solution.\n",
      "The tCommonGround optimization problem had no optimal solution.\n",
      "The CommonGround_entani optimization problem had no optimal solution.\n",
      "The CommonGround optimization problem had no optimal solution.\n",
      "The CommonGround_entani optimization problem had no optimal solution.\n",
      "The tCommonGround optimization problem had no optimal solution.\n",
      "The CommonGround optimization problem had no optimal solution.\n",
      "The CommonGround_entani optimization problem had no optimal solution.\n",
      "The tCommonGround optimization problem had no optimal solution.\n"
     ]
    },
    {
     "name": "stdout",
     "output_type": "stream",
     "text": [
      "The CommonGround optimization problem had no optimal solution.\n",
      "The CommonGround_entani optimization problem had no optimal solution.\n",
      "The tCommonGround optimization problem had no optimal solution.\n",
      "The CommonGround optimization problem had no optimal solution.\n",
      "The tCommonGround optimization problem had no optimal solution.\n",
      "The CommonGround_entani optimization problem had no optimal solution.\n",
      "The CommonGround optimization problem had no optimal solution.\n",
      "The tCommonGround optimization problem had no optimal solution.\n",
      "The CommonGround_entani optimization problem had no optimal solution.\n"
     ]
    },
    {
     "name": "stdout",
     "output_type": "stream",
     "text": [
      "The CommonGround optimization problem had no optimal solution.\n",
      "The tCommonGround optimization problem had no optimal solution.\n",
      "The CommonGround_entani optimization problem had no optimal solution.\n",
      "The CommonGround optimization problem had no optimal solution.\n",
      "The CommonGround_entani optimization problem had no optimal solution.\n",
      "The CommonGround_entani optimization problem had no optimal solution.\n",
      "The tCommonGround optimization problem had no optimal solution.\n",
      "The CommonGround optimization problem had no optimal solution.\n",
      "The CommonGround optimization problem had no optimal solution.\n",
      "The tCommonGround optimization problem had no optimal solution.\n",
      "The tCommonGround optimization problem had no optimal solution.\n",
      "The CommonGround_entani optimization problem had no optimal solution."
     ]
    },
    {
     "name": "stdout",
     "output_type": "stream",
     "text": [
      "\n",
      "The CommonGround optimization problem had no optimal solution.\n",
      "The CommonGround_entani optimization problem had no optimal solution.\n",
      "The CommonGround_entani optimization problem had no optimal solution.\n",
      "The CommonGround optimization problem had no optimal solution.\n"
     ]
    },
    {
     "name": "stdout",
     "output_type": "stream",
     "text": [
      "The CommonGround_entani optimization problem had no optimal solution.\n",
      "The CommonGround optimization problem had no optimal solution.\n",
      "The tCommonGround optimization problem had no optimal solution.\n",
      "The tCommonGround optimization problem had no optimal solution.\n",
      "The CommonGround optimization problem had no optimal solution."
     ]
    },
    {
     "name": "stdout",
     "output_type": "stream",
     "text": [
      "\n"
     ]
    },
    {
     "name": "stdout",
     "output_type": "stream",
     "text": [
      "The CommonGround_entani optimization problem had no optimal solution.\n",
      "The CommonGround optimization problem had no optimal solution.\n",
      "The CommonGround_entani optimization problem had no optimal solution.\n",
      "The tCommonGround optimization problem had no optimal solution.\n",
      "The CommonGround optimization problem had no optimal solution.\n",
      "The CommonGround_entani optimization problem had no optimal solution.\n",
      "The tCommonGround optimization problem had no optimal solution.\n",
      "The CommonGround optimization problem had no optimal solution.\n",
      "The CommonGround_entani optimization problem had no optimal solution.\n",
      "The CommonGround optimization problem had no optimal solution.\n",
      "The tCommonGround optimization problem had no optimal solution.\n",
      "The tCommonGround optimization problem had no optimal solution.\n"
     ]
    },
    {
     "name": "stdout",
     "output_type": "stream",
     "text": [
      "The CommonGround_entani optimization problem had no optimal solution.\n",
      "The CommonGround optimization problem had no optimal solution.\n",
      "The CommonGround_entani optimization problem had no optimal solution.\n",
      "The tCommonGround optimization problem had no optimal solution.\n",
      "The CommonGround optimization problem had no optimal solution.\n",
      "The CommonGround_entani optimization problem had no optimal solution.\n",
      "The CommonGround optimization problem had no optimal solution.\n",
      "The CommonGround_entani optimization problem had no optimal solution.\n",
      "The tCommonGround optimization problem had no optimal solution.\n",
      "The CommonGround optimization problem had no optimal solution.\n"
     ]
    },
    {
     "name": "stdout",
     "output_type": "stream",
     "text": [
      "The tCommonGround optimization problem had no optimal solution.\n",
      "The CommonGround_entani optimization problem had no optimal solution.\n",
      "The CommonGround optimization problem had no optimal solution.\n",
      "The tCommonGround optimization problem had no optimal solution.\n",
      "The CommonGround_entani optimization problem had no optimal solution.\n",
      "The CommonGround optimization problem had no optimal solution.\n",
      "The CommonGround_entani optimization problem had no optimal solution.\n",
      "The CommonGround_entani optimization problem had no optimal solution."
     ]
    },
    {
     "name": "stdout",
     "output_type": "stream",
     "text": [
      "\n"
     ]
    },
    {
     "name": "stdout",
     "output_type": "stream",
     "text": [
      "The CommonGround optimization problem had no optimal solution.\n",
      "The CommonGround optimization problem had no optimal solution.\n",
      "The tCommonGround optimization problem had no optimal solution.\n",
      "The CommonGround_entani optimization problem had no optimal solution.\n",
      "The CommonGround_entani optimization problem had no optimal solution.\n",
      "The CommonGround optimization problem had no optimal solution.\n",
      "The CommonGround optimization problem had no optimal solution.\n",
      "The tCommonGround optimization problem had no optimal solution.\n",
      "The tCommonGround optimization problem had no optimal solution.\n",
      "The CommonGround_entani optimization problem had no optimal solution.\n",
      "The CommonGround optimization problem had no optimal solution.\n",
      "The CommonGround_entani optimization problem had no optimal solution."
     ]
    },
    {
     "name": "stdout",
     "output_type": "stream",
     "text": [
      "\n",
      "The CommonGround optimization problem had no optimal solution.\n",
      "The tCommonGround optimization problem had no optimal solution.\n",
      "The CommonGround_entani optimization problem had no optimal solution.\n",
      "The CommonGround_entani optimization problem had no optimal solution.\n",
      "The CommonGround_entani optimization problem had no optimal solution.\n",
      "The CommonGround optimization problem had no optimal solution.\n",
      "The CommonGround optimization problem had no optimal solution.\n",
      "The CommonGround optimization problem had no optimal solution.\n",
      "The tCommonGround optimization problem had no optimal solution.\n",
      "The tCommonGround optimization problem had no optimal solution.\n",
      "The CommonGround_entani optimization problem had no optimal solution."
     ]
    },
    {
     "name": "stdout",
     "output_type": "stream",
     "text": [
      "\n",
      "The CommonGround optimization problem had no optimal solution.\n",
      "The tCommonGround optimization problem had no optimal solution.\n",
      "The CommonGround_entani optimization problem had no optimal solution.\n",
      "The CommonGround_entani optimization problem had no optimal solution.\n",
      "The CommonGround_entani optimization problem had no optimal solution.\n",
      "The CommonGround optimization problem had no optimal solution.\n",
      "The CommonGround optimization problem had no optimal solution.\n",
      "The CommonGround optimization problem had no optimal solution.\n",
      "The tCommonGround optimization problem had no optimal solution.\n",
      "The tCommonGround optimization problem had no optimal solution.\n",
      "The CommonGround_entani optimization problem had no optimal solution."
     ]
    },
    {
     "name": "stdout",
     "output_type": "stream",
     "text": [
      "\n",
      "The CommonGround optimization problem had no optimal solution.\n"
     ]
    },
    {
     "name": "stdout",
     "output_type": "stream",
     "text": [
      "The CommonGround_entani optimization problem had no optimal solution.\n",
      "The CommonGround_entani optimization problem had no optimal solution.\n",
      "The CommonGround optimization problem had no optimal solution.\n",
      "The CommonGround_entani optimization problem had no optimal solution.\n",
      "The CommonGround optimization problem had no optimal solution.\n",
      "The tCommonGround optimization problem had no optimal solution.\n",
      "The CommonGround optimization problem had no optimal solution.\n",
      "The tCommonGround optimization problem had no optimal solution.\n",
      "The CommonGround_entani optimization problem had no optimal solution.\n",
      "The CommonGround optimization problem had no optimal solution.\n",
      "The tCommonGround optimization problem had no optimal solution.\n"
     ]
    },
    {
     "name": "stdout",
     "output_type": "stream",
     "text": [
      "The CommonGround_entani optimization problem had no optimal solution.\n",
      "The CommonGround_entani optimization problem had no optimal solution.\n",
      "The CommonGround optimization problem had no optimal solution.\n",
      "The CommonGround optimization problem had no optimal solution.\n",
      "The tCommonGround optimization problem had no optimal solution.\n",
      "The CommonGround_entani optimization problem had no optimal solution.\n",
      "The CommonGround_entani optimization problem had no optimal solution.\n",
      "The CommonGround optimization problem had no optimal solution.\n",
      "The CommonGround optimization problem had no optimal solution.\n",
      "The tCommonGround optimization problem had no optimal solution.\n",
      "The tCommonGround optimization problem had no optimal solution."
     ]
    },
    {
     "name": "stdout",
     "output_type": "stream",
     "text": [
      "\n",
      "The CommonGround_entani optimization problem had no optimal solution.\n",
      "The CommonGround optimization problem had no optimal solution.\n",
      "The CommonGround_entani optimization problem had no optimal solution.\n",
      "The tCommonGround optimization problem had no optimal solution.\n",
      "The CommonGround optimization problem had no optimal solution.\n",
      "The CommonGround_entani optimization problem had no optimal solution."
     ]
    },
    {
     "name": "stdout",
     "output_type": "stream",
     "text": [
      "\n"
     ]
    },
    {
     "name": "stdout",
     "output_type": "stream",
     "text": [
      "The CommonGround optimization problem had no optimal solution.\n",
      "The tCommonGround optimization problem had no optimal solution.\n",
      "The tCommonGround optimization problem had no optimal solution.\n"
     ]
    },
    {
     "name": "stdout",
     "output_type": "stream",
     "text": [
      "The CommonGround_entani optimization problem had no optimal solution.\n",
      "The CommonGround optimization problem had no optimal solution.\n",
      "The tCommonGround optimization problem had no optimal solution.\n",
      "The CommonGround_entani optimization problem had no optimal solution.\n",
      "The CommonGround_entani optimization problem had no optimal solution.\n",
      "The CommonGround optimization problem had no optimal solution."
     ]
    },
    {
     "name": "stdout",
     "output_type": "stream",
     "text": [
      "\n",
      "The CommonGround optimization problem had no optimal solution.\n",
      "The CommonGround_entani optimization problem had no optimal solution.\n",
      "The tCommonGround optimization problem had no optimal solution.\n",
      "The tCommonGround optimization problem had no optimal solution.\n",
      "The CommonGround optimization problem had no optimal solution.\n",
      "The tCommonGround optimization problem had no optimal solution.\n",
      "The CommonGround_entani optimization problem had no optimal solution.\n",
      "The CommonGround optimization problem had no optimal solution.\n",
      "The CommonGround_entani optimization problem had no optimal solution.\n",
      "The CommonGround optimization problem had no optimal solution.\n",
      "The tCommonGround optimization problem had no optimal solution.\n",
      "The CommonGround_entani optimization problem had no optimal solution.\n",
      "The tCommonGround optimization problem had no optimal solution.\n",
      "The CommonGround_entani optimization problem had no optimal solution."
     ]
    },
    {
     "name": "stdout",
     "output_type": "stream",
     "text": [
      "\n"
     ]
    },
    {
     "name": "stdout",
     "output_type": "stream",
     "text": [
      "The CommonGround optimization problem had no optimal solution.\n",
      "The CommonGround optimization problem had no optimal solution.\n",
      "The tCommonGround optimization problem had no optimal solution.\n"
     ]
    },
    {
     "name": "stdout",
     "output_type": "stream",
     "text": [
      "The CommonGround_entani optimization problem had no optimal solution.\n",
      "The CommonGround_entani optimization problem had no optimal solution.\n",
      "The CommonGround optimization problem had no optimal solution.\n",
      "The CommonGround optimization problem had no optimal solution.\n",
      "The CommonGround_entani optimization problem had no optimal solution.\n",
      "The CommonGround_entani optimization problem had no optimal solution.\n",
      "The tCommonGround optimization problem had no optimal solution.\n",
      "The CommonGround optimization problem had no optimal solution.\n",
      "The CommonGround optimization problem had no optimal solution.\n",
      "The CommonGround_entani optimization problem had no optimal solution.\n",
      "The CommonGround_entani optimization problem had no optimal solution.\n",
      "The CommonGround_entani optimization problem had no optimal solution.\n",
      "The CommonGround optimization problem had no optimal solution.\n",
      "The CommonGround optimization problem had no optimal solution.\n",
      "The CommonGround_entani optimization problem had no optimal solution."
     ]
    },
    {
     "name": "stdout",
     "output_type": "stream",
     "text": [
      "\n",
      "The CommonGround optimization problem had no optimal solution.\n",
      "The CommonGround optimization problem had no optimal solution.\n"
     ]
    },
    {
     "name": "stdout",
     "output_type": "stream",
     "text": [
      "The CommonGround_entani optimization problem had no optimal solution.\n",
      "The CommonGround optimization problem had no optimal solution.\n",
      "The CommonGround_entani optimization problem had no optimal solution.\n",
      "The CommonGround_entani optimization problem had no optimal solution.\n",
      "The CommonGround_entani optimization problem had no optimal solution.\n",
      "The CommonGround optimization problem had no optimal solution.\n",
      "The CommonGround optimization problem had no optimal solution.\n",
      "The CommonGround optimization problem had no optimal solution.\n",
      "The tCommonGround optimization problem had no optimal solution."
     ]
    },
    {
     "name": "stdout",
     "output_type": "stream",
     "text": [
      "\n",
      "The tCommonGround optimization problem had no optimal solution.\n",
      "The CommonGround_entani optimization problem had no optimal solution.\n",
      "The CommonGround optimization problem had no optimal solution.\n",
      "The CommonGround_entani optimization problem had no optimal solution."
     ]
    },
    {
     "name": "stdout",
     "output_type": "stream",
     "text": [
      "\n",
      "The CommonGround_entani optimization problem had no optimal solution.\n",
      "The CommonGround optimization problem had no optimal solution.\n",
      "The CommonGround_entani optimization problem had no optimal solution.\n",
      "The CommonGround optimization problem had no optimal solution.\n",
      "The CommonGround optimization problem had no optimal solution.\n",
      "The tCommonGround optimization problem had no optimal solution.\n",
      "The tCommonGround optimization problem had no optimal solution.\n",
      "The CommonGround_entani optimization problem had no optimal solution.\n",
      "The CommonGround optimization problem had no optimal solution.\n",
      "The CommonGround_entani optimization problem had no optimal solution."
     ]
    },
    {
     "name": "stdout",
     "output_type": "stream",
     "text": [
      "\n",
      "The CommonGround optimization problem had no optimal solution.\n"
     ]
    },
    {
     "name": "stdout",
     "output_type": "stream",
     "text": [
      "The tCommonGround optimization problem had no optimal solution.\n",
      "The CommonGround_entani optimization problem had no optimal solution.\n",
      "The CommonGround optimization problem had no optimal solution.\n",
      "The CommonGround_entani optimization problem had no optimal solution.\n",
      "The tCommonGround optimization problem had no optimal solution.\n",
      "The CommonGround optimization problem had no optimal solution.\n",
      "The tCommonGround optimization problem had no optimal solution.\n",
      "The CommonGround_entani optimization problem had no optimal solution.\n",
      "The CommonGround optimization problem had no optimal solution.\n",
      "The CommonGround_entani optimization problem had no optimal solution."
     ]
    },
    {
     "name": "stdout",
     "output_type": "stream",
     "text": [
      "\n",
      "The CommonGround optimization problem had no optimal solution.\n",
      "The tCommonGround optimization problem had no optimal solution.\n",
      "The CommonGround_entani optimization problem had no optimal solution.\n",
      "The CommonGround optimization problem had no optimal solution.\n",
      "The CommonGround_entani optimization problem had no optimal solution.\n",
      "The CommonGround optimization problem had no optimal solution.\n",
      "The tCommonGround optimization problem had no optimal solution.\n",
      "The CommonGround optimization problem had no optimal solution.\n",
      "The CommonGround_entani optimization problem had no optimal solution."
     ]
    },
    {
     "name": "stdout",
     "output_type": "stream",
     "text": [
      "\n",
      "The CommonGround optimization problem had no optimal solution.\n",
      "The tCommonGround optimization problem had no optimal solution.\n",
      "The CommonGround_entani optimization problem had no optimal solution.\n",
      "The CommonGround_entani optimization problem had no optimal solution.\n",
      "The CommonGround optimization problem had no optimal solution.\n",
      "The CommonGround optimization problem had no optimal solution.\n",
      "The tCommonGround optimization problem had no optimal solution.\n",
      "The tCommonGround optimization problem had no optimal solution.\n",
      "The CommonGround_entani optimization problem had no optimal solution.\n",
      "The CommonGround optimization problem had no optimal solution.\n",
      "The tCommonGround optimization problem had no optimal solution.\n",
      "The CommonGround_entani optimization problem had no optimal solution."
     ]
    },
    {
     "name": "stdout",
     "output_type": "stream",
     "text": [
      "\n",
      "The CommonGround optimization problem had no optimal solution.\n",
      "The CommonGround_entani optimization problem had no optimal solution.\n",
      "The CommonGround_entani optimization problem had no optimal solution.\n",
      "The tCommonGround optimization problem had no optimal solution.\n",
      "The CommonGround optimization problem had no optimal solution.\n",
      "The CommonGround optimization problem had no optimal solution.\n",
      "The tCommonGround optimization problem had no optimal solution.\n",
      "The CommonGround_entani optimization problem had no optimal solution.\n",
      "The CommonGround optimization problem had no optimal solution.\n",
      "The tCommonGround optimization problem had no optimal solution.\n",
      "The CommonGround_entani optimization problem had no optimal solution."
     ]
    },
    {
     "name": "stdout",
     "output_type": "stream",
     "text": [
      "\n",
      "The CommonGround optimization problem had no optimal solution.\n",
      "The CommonGround_entani optimization problem had no optimal solution.\n",
      "The tCommonGround optimization problem had no optimal solution.\n",
      "The CommonGround_entani optimization problem had no optimal solution.\n",
      "The CommonGround optimization problem had no optimal solution.\n",
      "The CommonGround optimization problem had no optimal solution.\n",
      "The tCommonGround optimization problem had no optimal solution.\n",
      "The tCommonGround optimization problem had no optimal solution.\n",
      "The CommonGround_entani optimization problem had no optimal solution.\n",
      "The CommonGround optimization problem had no optimal solution.\n",
      "The tCommonGround optimization problem had no optimal solution.\n",
      "The CommonGround_entani optimization problem had no optimal solution.\n",
      "The CommonGround_entani optimization problem had no optimal solution."
     ]
    },
    {
     "name": "stdout",
     "output_type": "stream",
     "text": [
      "\n",
      "The CommonGround optimization problem had no optimal solution.\n",
      "The CommonGround optimization problem had no optimal solution.\n",
      "The tCommonGround optimization problem had no optimal solution.\n",
      "The CommonGround_entani optimization problem had no optimal solution.\n",
      "The tCommonGround optimization problem had no optimal solution.\n",
      "The CommonGround optimization problem had no optimal solution.\n",
      "The tCommonGround optimization problem had no optimal solution.\n",
      "The CommonGround_entani optimization problem had no optimal solution.\n",
      "The CommonGround optimization problem had no optimal solution.\n",
      "The tCommonGround optimization problem had no optimal solution.\n",
      "The CommonGround_entani optimization problem had no optimal solution.\n",
      "The CommonGround_entani optimization problem had no optimal solution."
     ]
    },
    {
     "name": "stdout",
     "output_type": "stream",
     "text": [
      "\n",
      "The CommonGround optimization problem had no optimal solution.\n",
      "The CommonGround optimization problem had no optimal solution.\n",
      "The CommonGround_entani optimization problem had no optimal solution.\n",
      "The tCommonGround optimization problem had no optimal solution.\n",
      "The tCommonGround optimization problem had no optimal solution.\n",
      "The CommonGround optimization problem had no optimal solution.\n",
      "The CommonGround_entani optimization problem had no optimal solution.\n",
      "The CommonGround optimization problem had no optimal solution.\n",
      "The CommonGround_entani optimization problem had no optimal solution.\n",
      "The CommonGround_entani optimization problem had no optimal solution."
     ]
    },
    {
     "name": "stdout",
     "output_type": "stream",
     "text": [
      "\n",
      "The CommonGround optimization problem had no optimal solution.\n",
      "The CommonGround optimization problem had no optimal solution.\n",
      "The tCommonGround optimization problem had no optimal solution.\n",
      "The CommonGround_entani optimization problem had no optimal solution.\n",
      "The CommonGround optimization problem had no optimal solution.\n",
      "The tCommonGround optimization problem had no optimal solution.\n",
      "The CommonGround_entani optimization problem had no optimal solution.\n",
      "The CommonGround optimization problem had no optimal solution.\n",
      "The CommonGround_entani optimization problem had no optimal solution."
     ]
    },
    {
     "name": "stdout",
     "output_type": "stream",
     "text": [
      "\n",
      "The CommonGround_entani optimization problem had no optimal solution.\n",
      "The CommonGround optimization problem had no optimal solution.\n",
      "The CommonGround optimization problem had no optimal solution.\n",
      "The tCommonGround optimization problem had no optimal solution.\n",
      "The CommonGround_entani optimization problem had no optimal solution.\n",
      "The tCommonGround optimization problem had no optimal solution.\n",
      "The CommonGround optimization problem had no optimal solution.\n",
      "The CommonGround_entani optimization problem had no optimal solution.\n",
      "The CommonGround optimization problem had no optimal solution.\n",
      "The CommonGround_entani optimization problem had no optimal solution.\n",
      "The CommonGround optimization problem had no optimal solution.\n",
      "The tCommonGround optimization problem had no optimal solution.\n",
      "The CommonGround_entani optimization problem had no optimal solution."
     ]
    },
    {
     "name": "stdout",
     "output_type": "stream",
     "text": [
      "\n",
      "The CommonGround optimization problem had no optimal solution.\n",
      "The CommonGround_entani optimization problem had no optimal solution.\n",
      "The CommonGround optimization problem had no optimal solution.\n",
      "The tCommonGround optimization problem had no optimal solution.\n"
     ]
    },
    {
     "name": "stdout",
     "output_type": "stream",
     "text": [
      "The tCommonGround optimization problem had no optimal solution.\n",
      "The CommonGround_entani optimization problem had no optimal solution.\n",
      "The CommonGround optimization problem had no optimal solution.\n",
      "The CommonGround_entani optimization problem had no optimal solution.\n",
      "The CommonGround optimization problem had no optimal solution.\n",
      "The CommonGround_entani optimization problem had no optimal solution.\n",
      "The CommonGround_entani optimization problem had no optimal solution.\n",
      "The CommonGround optimization problem had no optimal solution.\n",
      "The CommonGround optimization problem had no optimal solution.\n",
      "The tCommonGround optimization problem had no optimal solution.\n",
      "The CommonGround_entani optimization problem had no optimal solution.\n",
      "The tCommonGround optimization problem had no optimal solution.\n",
      "The CommonGround optimization problem had no optimal solution.\n",
      "The tCommonGround optimization problem had no optimal solution.\n",
      "The CommonGround_entani optimization problem had no optimal solution.\n",
      "The CommonGround optimization problem had no optimal solution.\n",
      "The tCommonGround optimization problem had no optimal solution.\n",
      "The CommonGround_entani optimization problem had no optimal solution."
     ]
    },
    {
     "name": "stdout",
     "output_type": "stream",
     "text": [
      "\n",
      "The CommonGround optimization problem had no optimal solution.\n",
      "The CommonGround_entani optimization problem had no optimal solution.\n",
      "The CommonGround optimization problem had no optimal solution.\n",
      "The tCommonGround optimization problem had no optimal solution.\n"
     ]
    },
    {
     "name": "stdout",
     "output_type": "stream",
     "text": [
      "The CommonGround_entani optimization problem had no optimal solution.\n",
      "The CommonGround optimization problem had no optimal solution.\n",
      "The tCommonGround optimization problem had no optimal solution.\n",
      "The CommonGround_entani optimization problem had no optimal solution.\n",
      "The CommonGround optimization problem had no optimal solution.\n",
      "The tCommonGround optimization problem had no optimal solution.\n",
      "The tCommonGround optimization problem had no optimal solution.\n",
      "The CommonGround_entani optimization problem had no optimal solution.\n",
      "The CommonGround_entani optimization problem had no optimal solution.\n",
      "The CommonGround optimization problem had no optimal solution.\n",
      "The CommonGround optimization problem had no optimal solution.\n",
      "The CommonGround_entani optimization problem had no optimal solution.\n",
      "The tCommonGround optimization problem had no optimal solution.\n",
      "The tCommonGround optimization problem had no optimal solution.\n",
      "The CommonGround_entani optimization problem had no optimal solution.\n",
      "The CommonGround optimization problem had no optimal solution.\n",
      "The tCommonGround optimization problem had no optimal solution.\n",
      "The CommonGround optimization problem had no optimal solution.\n",
      "The tCommonGround optimization problem had no optimal solution.\n",
      "The CommonGround_entani optimization problem had no optimal solution.\n",
      "The CommonGround_entani optimization problem had no optimal solution."
     ]
    },
    {
     "name": "stdout",
     "output_type": "stream",
     "text": [
      "\n",
      "The CommonGround optimization problem had no optimal solution.\n",
      "The CommonGround optimization problem had no optimal solution.\n",
      "The tCommonGround optimization problem had no optimal solution.\n",
      "The CommonGround_entani optimization problem had no optimal solution.\n",
      "The tCommonGround optimization problem had no optimal solution.\n",
      "The CommonGround optimization problem had no optimal solution.\n",
      "The CommonGround_entani optimization problem had no optimal solution.\n",
      "The CommonGround optimization problem had no optimal solution.\n",
      "The tCommonGround optimization problem had no optimal solution.\n",
      "The CommonGround_entani optimization problem had no optimal solution."
     ]
    },
    {
     "name": "stdout",
     "output_type": "stream",
     "text": [
      "\n",
      "The CommonGround_entani optimization problem had no optimal solution.\n",
      "The CommonGround optimization problem had no optimal solution.\n",
      "The CommonGround optimization problem had no optimal solution.\n",
      "The tCommonGround optimization problem had no optimal solution.\n",
      "The tCommonGround optimization problem had no optimal solution.\n",
      "The CommonGround_entani optimization problem had no optimal solution.\n",
      "The CommonGround optimization problem had no optimal solution.\n",
      "The tCommonGround optimization problem had no optimal solution.\n",
      "The CommonGround_entani optimization problem had no optimal solution.\n"
     ]
    },
    {
     "name": "stdout",
     "output_type": "stream",
     "text": [
      "The CommonGround optimization problem had no optimal solution.\n",
      "The CommonGround_entani optimization problem had no optimal solution.\n",
      "The CommonGround optimization problem had no optimal solution.\n",
      "The tCommonGround optimization problem had no optimal solution.\n"
     ]
    },
    {
     "name": "stdout",
     "output_type": "stream",
     "text": [
      "The CommonGround_entani optimization problem had no optimal solution.\n",
      "The CommonGround optimization problem had no optimal solution.\n",
      "The tCommonGround optimization problem had no optimal solution.\n",
      "The CommonGround_entani optimization problem had no optimal solution.\n",
      "The CommonGround optimization problem had no optimal solution.\n",
      "The CommonGround_entani optimization problem had no optimal solution.\n",
      "The CommonGround optimization problem had no optimal solution.\n",
      "The CommonGround_entani optimization problem had no optimal solution.\n",
      "The tCommonGround optimization problem had no optimal solution.\n",
      "The CommonGround optimization problem had no optimal solution.\n"
     ]
    },
    {
     "name": "stdout",
     "output_type": "stream",
     "text": [
      "The CommonGround_entani optimization problem had no optimal solution.\n",
      "The CommonGround optimization problem had no optimal solution.\n",
      "The tCommonGround optimization problem had no optimal solution.\n",
      "The CommonGround_entani optimization problem had no optimal solution.\n",
      "The CommonGround_entani optimization problem had no optimal solution.\n",
      "The CommonGround optimization problem had no optimal solution.\n",
      "The CommonGround_entani optimization problem had no optimal solution.\n"
     ]
    },
    {
     "name": "stdout",
     "output_type": "stream",
     "text": [
      "The tCommonGround optimization problem had no optimal solution.\n",
      "The CommonGround optimization problem had no optimal solution.\n",
      "The CommonGround optimization problem had no optimal solution.\n",
      "The tCommonGround optimization problem had no optimal solution.\n",
      "The tCommonGround optimization problem had no optimal solution.\n",
      "The CommonGround_entani optimization problem had no optimal solution.\n",
      "The CommonGround optimization problem had no optimal solution.\n",
      "The tCommonGround optimization problem had no optimal solution.\n",
      "The CommonGround_entani optimization problem had no optimal solution.\n",
      "The CommonGround optimization problem had no optimal solution.\n",
      "The CommonGround_entani optimization problem had no optimal solution.\n",
      "The CommonGround_entani optimization problem had no optimal solution."
     ]
    },
    {
     "name": "stdout",
     "output_type": "stream",
     "text": [
      "\n",
      "The tCommonGround optimization problem had no optimal solution.\n",
      "The CommonGround optimization problem had no optimal solution.\n",
      "The CommonGround optimization problem had no optimal solution.\n"
     ]
    },
    {
     "name": "stdout",
     "output_type": "stream",
     "text": [
      "The tCommonGround optimization problem had no optimal solution.\n",
      "The tCommonGround optimization problem had no optimal solution.\n",
      "The CommonGround_entani optimization problem had no optimal solution.\n",
      "The CommonGround optimization problem had no optimal solution.\n",
      "The tCommonGround optimization problem had no optimal solution.\n",
      "The CommonGround_entani optimization problem had no optimal solution.\n",
      "The CommonGround optimization problem had no optimal solution.\n",
      "The tCommonGround optimization problem had no optimal solution.\n",
      "The CommonGround optimization problem had no optimal solution.\n",
      "The CommonGround_entani optimization problem had no optimal solution."
     ]
    },
    {
     "name": "stdout",
     "output_type": "stream",
     "text": [
      "\n",
      "The CommonGround optimization problem had no optimal solution.\n",
      "The tCommonGround optimization problem had no optimal solution.\n",
      "The CommonGround_entani optimization problem had no optimal solution.\n",
      "The CommonGround optimization problem had no optimal solution.\n",
      "The CommonGround_entani optimization problem had no optimal solution.\n",
      "The CommonGround optimization problem had no optimal solution.\n",
      "The CommonGround_entani optimization problem had no optimal solution.\n",
      "The tCommonGround optimization problem had no optimal solution.\n",
      "The CommonGround optimization problem had no optimal solution.\n",
      "The tCommonGround optimization problem had no optimal solution.\n",
      "The CommonGround_entani optimization problem had no optimal solution."
     ]
    },
    {
     "name": "stdout",
     "output_type": "stream",
     "text": [
      "\n",
      "The CommonGround optimization problem had no optimal solution.\n",
      "The CommonGround_entani optimization problem had no optimal solution.\n",
      "The CommonGround optimization problem had no optimal solution.\n",
      "The CommonGround_entani optimization problem had no optimal solution.\n",
      "The CommonGround optimization problem had no optimal solution.\n",
      "The tCommonGround optimization problem had no optimal solution.\n",
      "The tCommonGround optimization problem had no optimal solution.\n",
      "The CommonGround_entani optimization problem had no optimal solution.\n",
      "The CommonGround optimization problem had no optimal solution.\n",
      "The CommonGround_entani optimization problem had no optimal solution."
     ]
    },
    {
     "name": "stdout",
     "output_type": "stream",
     "text": [
      "\n",
      "The CommonGround optimization problem had no optimal solution.\n"
     ]
    },
    {
     "name": "stdout",
     "output_type": "stream",
     "text": [
      "The CommonGround_entani optimization problem had no optimal solution.\n",
      "The CommonGround optimization problem had no optimal solution.\n",
      "The CommonGround_entani optimization problem had no optimal solution.\n",
      "The CommonGround optimization problem had no optimal solution.\n",
      "The tCommonGround optimization problem had no optimal solution.\n",
      "The CommonGround_entani optimization problem had no optimal solution.\n",
      "The CommonGround optimization problem had no optimal solution.\n",
      "The CommonGround_entani optimization problem had no optimal solution.\n",
      "The CommonGround optimization problem had no optimal solution.\n"
     ]
    },
    {
     "name": "stdout",
     "output_type": "stream",
     "text": [
      "The tCommonGround optimization problem had no optimal solution.\n",
      "The CommonGround_entani optimization problem had no optimal solution.\n",
      "The CommonGround_entani optimization problem had no optimal solution.\n",
      "The CommonGround optimization problem had no optimal solution.\n",
      "The tCommonGround optimization problem had no optimal solution.\n",
      "The CommonGround optimization problem had no optimal solution.\n",
      "The tCommonGround optimization problem had no optimal solution.\n",
      "The CommonGround_entani optimization problem had no optimal solution."
     ]
    },
    {
     "name": "stdout",
     "output_type": "stream",
     "text": [
      "\n",
      "The CommonGround optimization problem had no optimal solution.\n",
      "The tCommonGround optimization problem had no optimal solution.\n",
      "The CommonGround_entani optimization problem had no optimal solution.\n",
      "The CommonGround_entani optimization problem had no optimal solution.\n",
      "The CommonGround optimization problem had no optimal solution.\n",
      "The CommonGround optimization problem had no optimal solution.\n",
      "The tCommonGround optimization problem had no optimal solution.\n",
      "The CommonGround_entani optimization problem had no optimal solution.\n",
      "The tCommonGround optimization problem had no optimal solution.\n",
      "The CommonGround optimization problem had no optimal solution.\n",
      "The CommonGround_entani optimization problem had no optimal solution."
     ]
    },
    {
     "name": "stdout",
     "output_type": "stream",
     "text": [
      "\n",
      "The CommonGround optimization problem had no optimal solution.\n",
      "The tCommonGround optimization problem had no optimal solution.\n",
      "The CommonGround_entani optimization problem had no optimal solution.\n",
      "The CommonGround_entani optimization problem had no optimal solution.\n",
      "The CommonGround optimization problem had no optimal solution.\n",
      "The CommonGround optimization problem had no optimal solution.\n",
      "The tCommonGround optimization problem had no optimal solution.\n",
      "The CommonGround_entani optimization problem had no optimal solution.\n",
      "The CommonGround optimization problem had no optimal solution.\n",
      "The tCommonGround optimization problem had no optimal solution.\n",
      "The CommonGround_entani optimization problem had no optimal solution."
     ]
    },
    {
     "name": "stdout",
     "output_type": "stream",
     "text": [
      "\n",
      "The CommonGround_entani optimization problem had no optimal solution.\n",
      "The CommonGround optimization problem had no optimal solution.\n",
      "The CommonGround_entani optimization problem had no optimal solution.\n",
      "The CommonGround optimization problem had no optimal solution.\n",
      "The tCommonGround optimization problem had no optimal solution.\n",
      "The CommonGround optimization problem had no optimal solution.\n",
      "The tCommonGround optimization problem had no optimal solution.\n",
      "The CommonGround_entani optimization problem had no optimal solution.\n",
      "The CommonGround optimization problem had no optimal solution.\n",
      "The tCommonGround optimization problem had no optimal solution.\n",
      "The CommonGround_entani optimization problem had no optimal solution.\n",
      "The CommonGround_entani optimization problem had no optimal solution."
     ]
    },
    {
     "name": "stdout",
     "output_type": "stream",
     "text": [
      "\n",
      "The CommonGround_entani optimization problem had no optimal solution.\n",
      "The CommonGround optimization problem had no optimal solution.\n",
      "The CommonGround optimization problem had no optimal solution.\n",
      "The CommonGround optimization problem had no optimal solution.\n",
      "The tCommonGround optimization problem had no optimal solution.\n",
      "The tCommonGround optimization problem had no optimal solution.\n"
     ]
    },
    {
     "name": "stdout",
     "output_type": "stream",
     "text": [
      "The CommonGround_entani optimization problem had no optimal solution.\n",
      "The CommonGround optimization problem had no optimal solution.\n",
      "The tCommonGround optimization problem had no optimal solution.\n",
      "The CommonGround_entani optimization problem had no optimal solution.\n",
      "The CommonGround optimization problem had no optimal solution.\n",
      "The CommonGround_entani optimization problem had no optimal solution.\n",
      "The CommonGround_entani optimization problem had no optimal solution.\n",
      "The CommonGround optimization problem had no optimal solution.\n",
      "The CommonGround optimization problem had no optimal solution.\n",
      "The tCommonGround optimization problem had no optimal solution.\n"
     ]
    },
    {
     "name": "stdout",
     "output_type": "stream",
     "text": [
      "The CommonGround_entani optimization problem had no optimal solution.\n",
      "The CommonGround_entani optimization problem had no optimal solution.\n",
      "The CommonGround optimization problem had no optimal solution.\n",
      "The CommonGround optimization problem had no optimal solution.\n",
      "The tCommonGround optimization problem had no optimal solution.\n",
      "The tCommonGround optimization problem had no optimal solution.\n",
      "The CommonGround_entani optimization problem had no optimal solution.\n",
      "The CommonGround_entani optimization problem had no optimal solution.\n",
      "The CommonGround optimization problem had no optimal solution.\n",
      "The CommonGround optimization problem had no optimal solution.\n",
      "The tCommonGround optimization problem had no optimal solution.\n",
      "The tCommonGround optimization problem had no optimal solution.\n"
     ]
    },
    {
     "name": "stdout",
     "output_type": "stream",
     "text": [
      "The CommonGround_entani optimization problem had no optimal solution.\n",
      "The CommonGround_entani optimization problem had no optimal solution.\n",
      "The CommonGround optimization problem had no optimal solution.\n",
      "The CommonGround optimization problem had no optimal solution.\n",
      "The tCommonGround optimization problem had no optimal solution.\n",
      "The CommonGround_entani optimization problem had no optimal solution.\n",
      "The CommonGround_entani optimization problem had no optimal solution.\n",
      "The CommonGround optimization problem had no optimal solution.\n",
      "The CommonGround optimization problem had no optimal solution.\n",
      "The tCommonGround optimization problem had no optimal solution.\n",
      "The tCommonGround optimization problem had no optimal solution.\n"
     ]
    },
    {
     "name": "stdout",
     "output_type": "stream",
     "text": [
      "The CommonGround_entani optimization problem had no optimal solution.\n",
      "The CommonGround_entani optimization problem had no optimal solution.\n",
      "The CommonGround optimization problem had no optimal solution.\n",
      "The CommonGround optimization problem had no optimal solution.\n",
      "The tCommonGround optimization problem had no optimal solution.\n",
      "The tCommonGround optimization problem had no optimal solution.\n",
      "The CommonGround_entani optimization problem had no optimal solution.\n",
      "The CommonGround optimization problem had no optimal solution.\n",
      "The tCommonGround optimization problem had no optimal solution.\n"
     ]
    },
    {
     "name": "stdout",
     "output_type": "stream",
     "text": [
      "The CommonGround_entani optimization problem had no optimal solution.\n",
      "The CommonGround_entani optimization problem had no optimal solution.\n",
      "The CommonGround optimization problem had no optimal solution.\n",
      "The CommonGround_entani optimization problem had no optimal solution.\n",
      "The tCommonGround optimization problem had no optimal solution.\n",
      "The CommonGround optimization problem had no optimal solution.\n",
      "The CommonGround optimization problem had no optimal solution.\n",
      "The CommonGround_entani optimization problem had no optimal solution.\n",
      "The CommonGround optimization problem had no optimal solution.\n",
      "The tCommonGround optimization problem had no optimal solution.\n"
     ]
    },
    {
     "name": "stdout",
     "output_type": "stream",
     "text": [
      "The CommonGround_entani optimization problem had no optimal solution.\n",
      "The CommonGround_entani optimization problem had no optimal solution.\n",
      "The CommonGround optimization problem had no optimal solution.\n",
      "The tCommonGround optimization problem had no optimal solution.\n",
      "The CommonGround optimization problem had no optimal solution.\n",
      "The CommonGround_entani optimization problem had no optimal solution.\n",
      "The CommonGround optimization problem had no optimal solution.\n",
      "The tCommonGround optimization problem had no optimal solution."
     ]
    },
    {
     "name": "stdout",
     "output_type": "stream",
     "text": [
      "\n",
      "The CommonGround_entani optimization problem had no optimal solution.\n",
      "The CommonGround optimization problem had no optimal solution.\n",
      "The tCommonGround optimization problem had no optimal solution.\n",
      "The CommonGround_entani optimization problem had no optimal solution.\n",
      "The CommonGround optimization problem had no optimal solution.\n",
      "The tCommonGround optimization problem had no optimal solution.\n",
      "The CommonGround_entani optimization problem had no optimal solution."
     ]
    },
    {
     "name": "stdout",
     "output_type": "stream",
     "text": [
      "\n",
      "The CommonGround_entani optimization problem had no optimal solution.\n",
      "The CommonGround optimization problem had no optimal solution."
     ]
    },
    {
     "name": "stdout",
     "output_type": "stream",
     "text": [
      "\n",
      "The CommonGround optimization problem had no optimal solution.\n",
      "The tCommonGround optimization problem had no optimal solution.\n",
      "The tCommonGround optimization problem had no optimal solution.\n",
      "The CommonGround_entani optimization problem had no optimal solution.\n",
      "The CommonGround optimization problem had no optimal solution.\n",
      "The CommonGround_entani optimization problem had no optimal solution."
     ]
    },
    {
     "name": "stdout",
     "output_type": "stream",
     "text": [
      "\n",
      "The tCommonGround optimization problem had no optimal solution.\n",
      "The CommonGround optimization problem had no optimal solution.\n"
     ]
    },
    {
     "name": "stdout",
     "output_type": "stream",
     "text": [
      "The tCommonGround optimization problem had no optimal solution.\n",
      "The CommonGround_entani optimization problem had no optimal solution.\n",
      "The CommonGround optimization problem had no optimal solution.\n",
      "The tCommonGround optimization problem had no optimal solution.\n",
      "The CommonGround_entani optimization problem had no optimal solution.\n",
      "The CommonGround optimization problem had no optimal solution.\n",
      "The CommonGround_entani optimization problem had no optimal solution."
     ]
    },
    {
     "name": "stdout",
     "output_type": "stream",
     "text": [
      "\n",
      "The CommonGround optimization problem had no optimal solution.\n",
      "The tCommonGround optimization problem had no optimal solution.\n",
      "The CommonGround_entani optimization problem had no optimal solution.\n",
      "The CommonGround optimization problem had no optimal solution.\n",
      "The tCommonGround optimization problem had no optimal solution.\n",
      "The CommonGround_entani optimization problem had no optimal solution.\n",
      "The CommonGround optimization problem had no optimal solution.\n",
      "The CommonGround_entani optimization problem had no optimal solution."
     ]
    },
    {
     "name": "stdout",
     "output_type": "stream",
     "text": [
      "\n",
      "The tCommonGround optimization problem had no optimal solution.\n",
      "The CommonGround optimization problem had no optimal solution.\n",
      "The CommonGround_entani optimization problem had no optimal solution.\n"
     ]
    },
    {
     "name": "stdout",
     "output_type": "stream",
     "text": [
      "The CommonGround optimization problem had no optimal solution.\n",
      "The tCommonGround optimization problem had no optimal solution.\n",
      "The tCommonGround optimization problem had no optimal solution.\n",
      "The CommonGround_entani optimization problem had no optimal solution.\n",
      "The CommonGround optimization problem had no optimal solution.\n",
      "The tCommonGround optimization problem had no optimal solution.\n",
      "The CommonGround_entani optimization problem had no optimal solution.\n",
      "The CommonGround optimization problem had no optimal solution.\n",
      "The CommonGround_entani optimization problem had no optimal solution.\n",
      "The CommonGround optimization problem had no optimal solution.\n",
      "The tCommonGround optimization problem had no optimal solution.\n",
      "The CommonGround_entani optimization problem had no optimal solution."
     ]
    },
    {
     "name": "stdout",
     "output_type": "stream",
     "text": [
      "\n",
      "The CommonGround optimization problem had no optimal solution.\n",
      "The tCommonGround optimization problem had no optimal solution.\n"
     ]
    },
    {
     "name": "stdout",
     "output_type": "stream",
     "text": [
      "The CommonGround_entani optimization problem had no optimal solution.\n",
      "The CommonGround optimization problem had no optimal solution.\n",
      "The CommonGround_entani optimization problem had no optimal solution.\n",
      "The CommonGround optimization problem had no optimal solution.\n",
      "The CommonGround optimization problem had no optimal solution.\n",
      "The tCommonGround optimization problem had no optimal solution.\n",
      "The CommonGround_entani optimization problem had no optimal solution.\n",
      "The CommonGround optimization problem had no optimal solution.\n"
     ]
    },
    {
     "name": "stdout",
     "output_type": "stream",
     "text": [
      "The CommonGround_entani optimization problem had no optimal solution.\n",
      "The CommonGround optimization problem had no optimal solution.\n",
      "The tCommonGround optimization problem had no optimal solution.\n",
      "The tCommonGround optimization problem had no optimal solution.\n"
     ]
    },
    {
     "name": "stdout",
     "output_type": "stream",
     "text": [
      "The CommonGround_entani optimization problem had no optimal solution.\n",
      "The CommonGround_entani optimization problem had no optimal solution.\n",
      "The CommonGround optimization problem had no optimal solution.\n",
      "The CommonGround optimization problem had no optimal solution.\n",
      "The tCommonGround optimization problem had no optimal solution.\n",
      "The CommonGround_entani optimization problem had no optimal solution.\n",
      "The CommonGround optimization problem had no optimal solution.\n",
      "The CommonGround_entani optimization problem had no optimal solution.\n",
      "The CommonGround optimization problem had no optimal solution.\n",
      "The tCommonGround optimization problem had no optimal solution.\n",
      "The tCommonGround optimization problem had no optimal solution.\n"
     ]
    },
    {
     "name": "stdout",
     "output_type": "stream",
     "text": [
      "The CommonGround_entani optimization problem had no optimal solution.\n",
      "The CommonGround_entani optimization problem had no optimal solution.\n",
      "The CommonGround optimization problem had no optimal solution.\n",
      "The CommonGround optimization problem had no optimal solution.\n",
      "The tCommonGround optimization problem had no optimal solution.\n",
      "The tCommonGround optimization problem had no optimal solution.\n",
      "The CommonGround_entani optimization problem had no optimal solution.\n",
      "The CommonGround_entani optimization problem had no optimal solution.\n",
      "The CommonGround optimization problem had no optimal solution.\n",
      "The CommonGround optimization problem had no optimal solution.\n",
      "The tCommonGround optimization problem had no optimal solution.\n",
      "The CommonGround_entani optimization problem had no optimal solution.\n",
      "The CommonGround_entani optimization problem had no optimal solution.\n",
      "The CommonGround optimization problem had no optimal solution.\n",
      "The CommonGround optimization problem had no optimal solution.\n",
      "The CommonGround_entani optimization problem had no optimal solution.\n",
      "The CommonGround_entani optimization problem had no optimal solution."
     ]
    },
    {
     "name": "stdout",
     "output_type": "stream",
     "text": [
      "\n",
      "The tCommonGround optimization problem had no optimal solution.\n",
      "The CommonGround optimization problem had no optimal solution.\n",
      "The CommonGround optimization problem had no optimal solution.\n",
      "The tCommonGround optimization problem had no optimal solution.\n",
      "The CommonGround_entani optimization problem had no optimal solution."
     ]
    },
    {
     "name": "stdout",
     "output_type": "stream",
     "text": [
      "\n",
      "The CommonGround_entani optimization problem had no optimal solution.\n",
      "The CommonGround optimization problem had no optimal solution.\n",
      "The CommonGround optimization problem had no optimal solution.\n",
      "The CommonGround_entani optimization problem had no optimal solution.\n",
      "The tCommonGround optimization problem had no optimal solution.\n",
      "The tCommonGround optimization problem had no optimal solution.\n",
      "The CommonGround_entani optimization problem had no optimal solution.\n",
      "The CommonGround optimization problem had no optimal solution.\n",
      "The CommonGround optimization problem had no optimal solution.\n",
      "The tCommonGround optimization problem had no optimal solution.\n",
      "The CommonGround_entani optimization problem had no optimal solution.\n",
      "The CommonGround_entani optimization problem had no optimal solution."
     ]
    },
    {
     "name": "stdout",
     "output_type": "stream",
     "text": [
      "\n",
      "The CommonGround optimization problem had no optimal solution.\n",
      "The CommonGround optimization problem had no optimal solution.\n",
      "The CommonGround_entani optimization problem had no optimal solution.\n",
      "The tCommonGround optimization problem had no optimal solution.\n",
      "The CommonGround optimization problem had no optimal solution.\n",
      "The CommonGround_entani optimization problem had no optimal solution.\n",
      "The tCommonGround optimization problem had no optimal solution.\n",
      "The CommonGround optimization problem had no optimal solution.\n",
      "The tCommonGround optimization problem had no optimal solution.\n",
      "The CommonGround_entani optimization problem had no optimal solution.\n",
      "The CommonGround_entani optimization problem had no optimal solution."
     ]
    },
    {
     "name": "stdout",
     "output_type": "stream",
     "text": [
      "\n",
      "The CommonGround optimization problem had no optimal solution.\n",
      "The CommonGround_entani optimization problem had no optimal solution.\n",
      "The CommonGround optimization problem had no optimal solution.\n",
      "The tCommonGround optimization problem had no optimal solution.\n",
      "The CommonGround optimization problem had no optimal solution.\n",
      "The tCommonGround optimization problem had no optimal solution.\n",
      "The tCommonGround optimization problem had no optimal solution.\n",
      "The CommonGround_entani optimization problem had no optimal solution.\n",
      "The CommonGround optimization problem had no optimal solution.\n",
      "The CommonGround_entani optimization problem had no optimal solution.\n",
      "The CommonGround_entani optimization problem had no optimal solution."
     ]
    },
    {
     "name": "stdout",
     "output_type": "stream",
     "text": [
      "\n",
      "The CommonGround optimization problem had no optimal solution.\n",
      "The tCommonGround optimization problem had no optimal solution.\n",
      "The CommonGround_entani optimization problem had no optimal solution.\n",
      "The CommonGround optimization problem had no optimal solution.\n",
      "The tCommonGround optimization problem had no optimal solution.\n",
      "The CommonGround optimization problem had no optimal solution.\n",
      "The tCommonGround optimization problem had no optimal solution.\n",
      "The CommonGround_entani optimization problem had no optimal solution.\n",
      "The CommonGround optimization problem had no optimal solution.\n",
      "The tCommonGround optimization problem had no optimal solution.\n",
      "The CommonGround optimization problem had no optimal solution.\n",
      "The CommonGround_entani optimization problem had no optimal solution."
     ]
    },
    {
     "name": "stdout",
     "output_type": "stream",
     "text": [
      "\n"
     ]
    },
    {
     "name": "stdout",
     "output_type": "stream",
     "text": [
      "The CommonGround optimization problem had no optimal solution.\n",
      "The CommonGround_entani optimization problem had no optimal solution.\n",
      "The tCommonGround optimization problem had no optimal solution.\n",
      "The CommonGround optimization problem had no optimal solution.\n",
      "The tCommonGround optimization problem had no optimal solution.\n"
     ]
    },
    {
     "name": "stdout",
     "output_type": "stream",
     "text": [
      "The CommonGround_entani optimization problem had no optimal solution.\n",
      "The CommonGround optimization problem had no optimal solution.\n",
      "The CommonGround_entani optimization problem had no optimal solution.\n",
      "The tCommonGround optimization problem had no optimal solution.\n",
      "The CommonGround optimization problem had no optimal solution.\n",
      "The tCommonGround optimization problem had no optimal solution.\n",
      "The CommonGround_entani optimization problem had no optimal solution.\n",
      "The CommonGround_entani optimization problem had no optimal solution.\n",
      "The CommonGround optimization problem had no optimal solution.\n",
      "The CommonGround optimization problem had no optimal solution.\n"
     ]
    },
    {
     "name": "stdout",
     "output_type": "stream",
     "text": [
      "The CommonGround_entani optimization problem had no optimal solution.\n",
      "The CommonGround optimization problem had no optimal solution.\n",
      "The CommonGround_entani optimization problem had no optimal solution.\n",
      "The CommonGround optimization problem had no optimal solution.\n",
      "The tCommonGround optimization problem had no optimal solution.\n",
      "The CommonGround_entani optimization problem had no optimal solution.\n",
      "The CommonGround_entani optimization problem had no optimal solution.\n",
      "The CommonGround optimization problem had no optimal solution.\n",
      "The CommonGround optimization problem had no optimal solution.\n",
      "The tCommonGround optimization problem had no optimal solution.\n",
      "The CommonGround_entani optimization problem had no optimal solution.\n",
      "The CommonGround optimization problem had no optimal solution.\n",
      "The tCommonGround optimization problem had no optimal solution.\n",
      "The CommonGround_entani optimization problem had no optimal solution.\n",
      "The CommonGround optimization problem had no optimal solution.\n",
      "The CommonGround_entani optimization problem had no optimal solution."
     ]
    },
    {
     "name": "stdout",
     "output_type": "stream",
     "text": [
      "\n",
      "The tCommonGround optimization problem had no optimal solution.\n",
      "The CommonGround optimization problem had no optimal solution."
     ]
    },
    {
     "name": "stdout",
     "output_type": "stream",
     "text": [
      "\n",
      "The CommonGround_entani optimization problem had no optimal solution.\n",
      "The tCommonGround optimization problem had no optimal solution.\n",
      "The CommonGround optimization problem had no optimal solution.\n",
      "The CommonGround_entani optimization problem had no optimal solution.\n",
      "The CommonGround optimization problem had no optimal solution.\n",
      "The CommonGround_entani optimization problem had no optimal solution.\n",
      "The tCommonGround optimization problem had no optimal solution.\n",
      "The CommonGround optimization problem had no optimal solution.\n",
      "The tCommonGround optimization problem had no optimal solution.\n",
      "The CommonGround_entani optimization problem had no optimal solution.\n",
      "The CommonGround_entani optimization problem had no optimal solution."
     ]
    },
    {
     "name": "stdout",
     "output_type": "stream",
     "text": [
      "\n"
     ]
    },
    {
     "name": "stdout",
     "output_type": "stream",
     "text": [
      "The CommonGround optimization problem had no optimal solution.\n",
      "The CommonGround optimization problem had no optimal solution.\n",
      "The tCommonGround optimization problem had no optimal solution.\n",
      "The CommonGround_entani optimization problem had no optimal solution.\n",
      "The CommonGround optimization problem had no optimal solution.\n",
      "The tCommonGround optimization problem had no optimal solution.\n",
      "The CommonGround_entani optimization problem had no optimal solution.\n",
      "The CommonGround optimization problem had no optimal solution.\n",
      "The tCommonGround optimization problem had no optimal solution.\n",
      "The CommonGround_entani optimization problem had no optimal solution.\n",
      "The CommonGround optimization problem had no optimal solution.\n",
      "The CommonGround_entani optimization problem had no optimal solution."
     ]
    },
    {
     "name": "stdout",
     "output_type": "stream",
     "text": [
      "\n",
      "The tCommonGround optimization problem had no optimal solution.\n",
      "The CommonGround optimization problem had no optimal solution.\n",
      "The CommonGround_entani optimization problem had no optimal solution.\n",
      "The tCommonGround optimization problem had no optimal solution.\n",
      "The CommonGround optimization problem had no optimal solution.\n",
      "The tCommonGround optimization problem had no optimal solution.\n",
      "The CommonGround_entani optimization problem had no optimal solution.\n",
      "The CommonGround optimization problem had no optimal solution.\n",
      "The CommonGround_entani optimization problem had no optimal solution.\n",
      "The tCommonGround optimization problem had no optimal solution.\n",
      "The CommonGround optimization problem had no optimal solution.\n",
      "The tCommonGround optimization problem had no optimal solution.\n",
      "The CommonGround_entani optimization problem had no optimal solution."
     ]
    },
    {
     "name": "stdout",
     "output_type": "stream",
     "text": [
      "\n",
      "The CommonGround optimization problem had no optimal solution.\n",
      "The tCommonGround optimization problem had no optimal solution.\n",
      "The CommonGround_entani optimization problem had no optimal solution.\n",
      "The CommonGround optimization problem had no optimal solution.\n",
      "The tCommonGround optimization problem had no optimal solution.\n",
      "The CommonGround_entani optimization problem had no optimal solution.\n",
      "The CommonGround optimization problem had no optimal solution.\n",
      "The CommonGround_entani optimization problem had no optimal solution.\n",
      "The tCommonGround optimization problem had no optimal solution.\n",
      "The CommonGround optimization problem had no optimal solution.\n",
      "The tCommonGround optimization problem had no optimal solution.\n",
      "The CommonGround_entani optimization problem had no optimal solution."
     ]
    },
    {
     "name": "stdout",
     "output_type": "stream",
     "text": [
      "\n",
      "The CommonGround optimization problem had no optimal solution.\n"
     ]
    },
    {
     "name": "stdout",
     "output_type": "stream",
     "text": [
      "The CommonGround_entani optimization problem had no optimal solution.\n",
      "The tCommonGround optimization problem had no optimal solution.\n",
      "The CommonGround optimization problem had no optimal solution.\n",
      "The tCommonGround optimization problem had no optimal solution.\n",
      "The CommonGround_entani optimization problem had no optimal solution.\n",
      "The CommonGround optimization problem had no optimal solution.\n",
      "The CommonGround_entani optimization problem had no optimal solution.\n",
      "The tCommonGround optimization problem had no optimal solution.\n",
      "The CommonGround optimization problem had no optimal solution.\n",
      "The CommonGround_entani optimization problem had no optimal solution."
     ]
    },
    {
     "name": "stdout",
     "output_type": "stream",
     "text": [
      "\n",
      "The CommonGround optimization problem had no optimal solution.\n"
     ]
    },
    {
     "name": "stdout",
     "output_type": "stream",
     "text": [
      "The CommonGround_entani optimization problem had no optimal solution.\n",
      "The CommonGround optimization problem had no optimal solution.\n",
      "The CommonGround_entani optimization problem had no optimal solution.\n",
      "The CommonGround_entani optimization problem had no optimal solution.\n",
      "The tCommonGround optimization problem had no optimal solution.\n",
      "The CommonGround optimization problem had no optimal solution.\n",
      "The CommonGround optimization problem had no optimal solution.\n",
      "The tCommonGround optimization problem had no optimal solution.\n",
      "The CommonGround_entani optimization problem had no optimal solution.\n",
      "The CommonGround optimization problem had no optimal solution."
     ]
    },
    {
     "name": "stdout",
     "output_type": "stream",
     "text": [
      "\n",
      "The tCommonGround optimization problem had no optimal solution.\n",
      "The CommonGround_entani optimization problem had no optimal solution.\n",
      "The CommonGround optimization problem had no optimal solution.\n",
      "The CommonGround_entani optimization problem had no optimal solution.\n",
      "The tCommonGround optimization problem had no optimal solution.\n",
      "The CommonGround_entani optimization problem had no optimal solution.\n",
      "The CommonGround optimization problem had no optimal solution.\n",
      "The CommonGround optimization problem had no optimal solution.\n",
      "The tCommonGround optimization problem had no optimal solution.\n",
      "The tCommonGround optimization problem had no optimal solution.\n",
      "The CommonGround_entani optimization problem had no optimal solution."
     ]
    },
    {
     "name": "stdout",
     "output_type": "stream",
     "text": [
      "\n",
      "The CommonGround optimization problem had no optimal solution.\n",
      "The CommonGround optimization problem had no optimal solution.\n",
      "The tCommonGround optimization problem had no optimal solution.\n",
      "The CommonGround_entani optimization problem had no optimal solution.\n",
      "The CommonGround optimization problem had no optimal solution.\n",
      "The CommonGround_entani optimization problem had no optimal solution.\n",
      "The tCommonGround optimization problem had no optimal solution.\n",
      "The CommonGround optimization problem had no optimal solution.\n",
      "The CommonGround_entani optimization problem had no optimal solution."
     ]
    },
    {
     "name": "stdout",
     "output_type": "stream",
     "text": [
      "\n",
      "The CommonGround optimization problem had no optimal solution.\n",
      "The CommonGround_entani optimization problem had no optimal solution.\n",
      "The CommonGround optimization problem had no optimal solution.\n",
      "The tCommonGround optimization problem had no optimal solution.\n",
      "The CommonGround_entani optimization problem had no optimal solution.\n",
      "The CommonGround optimization problem had no optimal solution.\n",
      "The tCommonGround optimization problem had no optimal solution.\n",
      "The CommonGround_entani optimization problem had no optimal solution.\n",
      "The CommonGround optimization problem had no optimal solution.\n",
      "The CommonGround_entani optimization problem had no optimal solution."
     ]
    },
    {
     "name": "stdout",
     "output_type": "stream",
     "text": [
      "\n",
      "The CommonGround optimization problem had no optimal solution.\n",
      "The CommonGround_entani optimization problem had no optimal solution.\n",
      "The CommonGround optimization problem had no optimal solution.\n",
      "The tCommonGround optimization problem had no optimal solution.\n"
     ]
    },
    {
     "name": "stdout",
     "output_type": "stream",
     "text": [
      "The tCommonGround optimization problem had no optimal solution.\n",
      "The CommonGround_entani optimization problem had no optimal solution.\n",
      "The CommonGround optimization problem had no optimal solution.\n",
      "The tCommonGround optimization problem had no optimal solution.\n",
      "The CommonGround_entani optimization problem had no optimal solution.\n",
      "The CommonGround optimization problem had no optimal solution.\n",
      "The tCommonGround optimization problem had no optimal solution.\n",
      "The CommonGround_entani optimization problem had no optimal solution.\n"
     ]
    },
    {
     "name": "stdout",
     "output_type": "stream",
     "text": [
      "The CommonGround optimization problem had no optimal solution.\n",
      "The CommonGround_entani optimization problem had no optimal solution.\n",
      "The CommonGround optimization problem had no optimal solution.\n",
      "The CommonGround_entani optimization problem had no optimal solution.\n",
      "The tCommonGround optimization problem had no optimal solution.\n",
      "The CommonGround optimization problem had no optimal solution.\n",
      "The tCommonGround optimization problem had no optimal solution.\n",
      "The CommonGround_entani optimization problem had no optimal solution.\n",
      "The CommonGround optimization problem had no optimal solution.\n",
      "The tCommonGround optimization problem had no optimal solution.\n",
      "The CommonGround_entani optimization problem had no optimal solution.\n",
      "The CommonGround_entani optimization problem had no optimal solution."
     ]
    },
    {
     "name": "stdout",
     "output_type": "stream",
     "text": [
      "\n",
      "The CommonGround optimization problem had no optimal solution.\n",
      "The CommonGround optimization problem had no optimal solution.\n",
      "The tCommonGround optimization problem had no optimal solution.\n",
      "The tCommonGround optimization problem had no optimal solution.\n",
      "The CommonGround_entani optimization problem had no optimal solution.\n",
      "The CommonGround optimization problem had no optimal solution.\n",
      "The tCommonGround optimization problem had no optimal solution.\n",
      "The CommonGround_entani optimization problem had no optimal solution.\n",
      "The CommonGround optimization problem had no optimal solution.\n",
      "The tCommonGround optimization problem had no optimal solution.\n",
      "The CommonGround_entani optimization problem had no optimal solution."
     ]
    },
    {
     "name": "stdout",
     "output_type": "stream",
     "text": [
      "\n",
      "The CommonGround_entani optimization problem had no optimal solution.\n",
      "The CommonGround optimization problem had no optimal solution.\n"
     ]
    },
    {
     "name": "stdout",
     "output_type": "stream",
     "text": [
      "The CommonGround optimization problem had no optimal solution.\n",
      "The tCommonGround optimization problem had no optimal solution.\n",
      "The CommonGround_entani optimization problem had no optimal solution.\n",
      "The tCommonGround optimization problem had no optimal solution.\n",
      "The CommonGround_entani optimization problem had no optimal solution.\n",
      "The CommonGround optimization problem had no optimal solution.\n",
      "The CommonGround optimization problem had no optimal solution.\n",
      "The tCommonGround optimization problem had no optimal solution.\n",
      "The CommonGround_entani optimization problem had no optimal solution."
     ]
    },
    {
     "name": "stdout",
     "output_type": "stream",
     "text": [
      "\n",
      "The CommonGround_entani optimization problem had no optimal solution.\n",
      "The CommonGround optimization problem had no optimal solution.\n"
     ]
    },
    {
     "name": "stdout",
     "output_type": "stream",
     "text": [
      "The CommonGround optimization problem had no optimal solution.\n",
      "The tCommonGround optimization problem had no optimal solution.\n",
      "The tCommonGround optimization problem had no optimal solution.\n",
      "The CommonGround_entani optimization problem had no optimal solution.\n",
      "The CommonGround_entani optimization problem had no optimal solution."
     ]
    },
    {
     "name": "stdout",
     "output_type": "stream",
     "text": [
      "\n",
      "The CommonGround optimization problem had no optimal solution.\n",
      "The CommonGround_entani optimization problem had no optimal solution.\n",
      "The CommonGround optimization problem had no optimal solution.\n",
      "The tCommonGround optimization problem had no optimal solution.\n",
      "The CommonGround optimization problem had no optimal solution.\n",
      "The tCommonGround optimization problem had no optimal solution."
     ]
    },
    {
     "name": "stdout",
     "output_type": "stream",
     "text": [
      "\n",
      "The tCommonGround optimization problem had no optimal solution.\n",
      "The CommonGround_entani optimization problem had no optimal solution.\n",
      "The CommonGround optimization problem had no optimal solution.\n",
      "The CommonGround_entani optimization problem had no optimal solution.\n",
      "The tCommonGround optimization problem had no optimal solution.\n",
      "The CommonGround optimization problem had no optimal solution.\n",
      "The tCommonGround optimization problem had no optimal solution.\n",
      "The CommonGround_entani optimization problem had no optimal solution.\n",
      "The CommonGround_entani optimization problem had no optimal solution."
     ]
    },
    {
     "name": "stdout",
     "output_type": "stream",
     "text": [
      "\n",
      "The CommonGround optimization problem had no optimal solution.\n",
      "The CommonGround optimization problem had no optimal solution.\n",
      "The tCommonGround optimization problem had no optimal solution.\n",
      "The tCommonGround optimization problem had no optimal solution.\n"
     ]
    },
    {
     "name": "stdout",
     "output_type": "stream",
     "text": [
      "The CommonGround_entani optimization problem had no optimal solution.\n",
      "The CommonGround_entani optimization problem had no optimal solution.\n",
      "The CommonGround optimization problem had no optimal solution.\n",
      "The CommonGround optimization problem had no optimal solution.\n",
      "The tCommonGround optimization problem had no optimal solution.\n",
      "The CommonGround_entani optimization problem had no optimal solution.\n",
      "The CommonGround_entani optimization problem had no optimal solution.\n",
      "The CommonGround optimization problem had no optimal solution.\n",
      "The CommonGround optimization problem had no optimal solution.\n",
      "The tCommonGround optimization problem had no optimal solution.\n"
     ]
    },
    {
     "name": "stdout",
     "output_type": "stream",
     "text": [
      "The CommonGround_entani optimization problem had no optimal solution.\n",
      "The CommonGround_entani optimization problem had no optimal solution.\n",
      "The CommonGround optimization problem had no optimal solution.\n",
      "The tCommonGround optimization problem had no optimal solution.\n",
      "The CommonGround optimization problem had no optimal solution.\n",
      "The CommonGround_entani optimization problem had no optimal solution.\n",
      "The CommonGround_entani optimization problem had no optimal solution.\n",
      "The CommonGround optimization problem had no optimal solution.\n",
      "The CommonGround optimization problem had no optimal solution.\n",
      "The tCommonGround optimization problem had no optimal solution.\n",
      "The tCommonGround optimization problem had no optimal solution.\n"
     ]
    },
    {
     "name": "stdout",
     "output_type": "stream",
     "text": [
      "The CommonGround_entani optimization problem had no optimal solution.\n",
      "The CommonGround optimization problem had no optimal solution.\n",
      "The CommonGround_entani optimization problem had no optimal solution.\n",
      "The tCommonGround optimization problem had no optimal solution.\n",
      "The CommonGround optimization problem had no optimal solution.\n",
      "The CommonGround_entani optimization problem had no optimal solution.\n",
      "The CommonGround_entani optimization problem had no optimal solution.\n",
      "The CommonGround optimization problem had no optimal solution.\n",
      "The CommonGround optimization problem had no optimal solution.\n",
      "The tCommonGround optimization problem had no optimal solution.\n"
     ]
    },
    {
     "name": "stdout",
     "output_type": "stream",
     "text": [
      "The CommonGround_entani optimization problem had no optimal solution.\n",
      "The CommonGround optimization problem had no optimal solution.\n",
      "The CommonGround_entani optimization problem had no optimal solution.\n",
      "The CommonGround optimization problem had no optimal solution.\n",
      "The tCommonGround optimization problem had no optimal solution.\n",
      "The tCommonGround optimization problem had no optimal solution.\n",
      "The CommonGround_entani optimization problem had no optimal solution.\n",
      "The CommonGround optimization problem had no optimal solution.\n",
      "The tCommonGround optimization problem had no optimal solution.\n",
      "The CommonGround_entani optimization problem had no optimal solution.\n",
      "The CommonGround_entani optimization problem had no optimal solution.\n",
      "The CommonGround_entani optimization problem had no optimal solution.\n",
      "The CommonGround optimization problem had no optimal solution.\n",
      "The CommonGround optimization problem had no optimal solution.\n",
      "The CommonGround optimization problem had no optimal solution."
     ]
    },
    {
     "name": "stdout",
     "output_type": "stream",
     "text": [
      "\n",
      "The tCommonGround optimization problem had no optimal solution.\n"
     ]
    },
    {
     "name": "stdout",
     "output_type": "stream",
     "text": [
      "The CommonGround_entani optimization problem had no optimal solution.\n",
      "The CommonGround optimization problem had no optimal solution.\n",
      "The CommonGround_entani optimization problem had no optimal solution.\n",
      "The tCommonGround optimization problem had no optimal solution.\n",
      "The CommonGround_entani optimization problem had no optimal solution.\n"
     ]
    },
    {
     "name": "stdout",
     "output_type": "stream",
     "text": [
      "The CommonGround optimization problem had no optimal solution.\n",
      "The CommonGround optimization problem had no optimal solution.\n",
      "The CommonGround optimization problem had no optimal solution.\n"
     ]
    },
    {
     "name": "stdout",
     "output_type": "stream",
     "text": [
      "The tCommonGround optimization problem had no optimal solution.\n",
      "The CommonGround_entani optimization problem had no optimal solution.\n",
      "The CommonGround optimization problem had no optimal solution.\n",
      "The tCommonGround optimization problem had no optimal solution.\n",
      "The CommonGround_entani optimization problem had no optimal solution.\n",
      "The CommonGround_entani optimization problem had no optimal solution.\n",
      "The CommonGround optimization problem had no optimal solution.\n",
      "The CommonGround optimization problem had no optimal solution.\n",
      "The tCommonGround optimization problem had no optimal solution.\n",
      "The CommonGround_entani optimization problem had no optimal solution.\n",
      "The CommonGround optimization problem had no optimal solution.\n",
      "The CommonGround_entani optimization problem had no optimal solution.\n",
      "The tCommonGround optimization problem had no optimal solution.\n",
      "The CommonGround optimization problem had no optimal solution.\n"
     ]
    },
    {
     "name": "stdout",
     "output_type": "stream",
     "text": [
      "The CommonGround_entani optimization problem had no optimal solution.\n",
      "The CommonGround_entani optimization problem had no optimal solution.\n",
      "The CommonGround optimization problem had no optimal solution.\n",
      "The CommonGround optimization problem had no optimal solution.\n",
      "The tCommonGround optimization problem had no optimal solution.\n",
      "The CommonGround_entani optimization problem had no optimal solution.\n",
      "The CommonGround_entani optimization problem had no optimal solution.\n",
      "The CommonGround optimization problem had no optimal solution.\n",
      "The tCommonGround optimization problem had no optimal solution.\n",
      "The CommonGround optimization problem had no optimal solution.\n",
      "The tCommonGround optimization problem had no optimal solution.\n",
      "The CommonGround_entani optimization problem had no optimal solution.\n",
      "The CommonGround_entani optimization problem had no optimal solution."
     ]
    },
    {
     "name": "stdout",
     "output_type": "stream",
     "text": [
      "\n",
      "The CommonGround optimization problem had no optimal solution.\n",
      "The CommonGround optimization problem had no optimal solution.\n",
      "The tCommonGround optimization problem had no optimal solution.\n",
      "The CommonGround_entani optimization problem had no optimal solution.\n",
      "The CommonGround_entani optimization problem had no optimal solution.\n",
      "The CommonGround optimization problem had no optimal solution.\n",
      "The CommonGround optimization problem had no optimal solution.\n",
      "The tCommonGround optimization problem had no optimal solution.\n",
      "The tCommonGround optimization problem had no optimal solution.\n",
      "The CommonGround_entani optimization problem had no optimal solution."
     ]
    },
    {
     "name": "stdout",
     "output_type": "stream",
     "text": [
      "\n"
     ]
    },
    {
     "name": "stdout",
     "output_type": "stream",
     "text": [
      "The CommonGround optimization problem had no optimal solution.\n",
      "The CommonGround_entani optimization problem had no optimal solution.\n",
      "The tCommonGround optimization problem had no optimal solution.\n",
      "The CommonGround optimization problem had no optimal solution.\n",
      "The tCommonGround optimization problem had no optimal solution.\n",
      "The CommonGround_entani optimization problem had no optimal solution.\n",
      "The CommonGround_entani optimization problem had no optimal solution.\n",
      "The CommonGround optimization problem had no optimal solution.\n",
      "The tCommonGround optimization problem had no optimal solution.\n",
      "The CommonGround optimization problem had no optimal solution.\n",
      "The CommonGround_entani optimization problem had no optimal solution."
     ]
    },
    {
     "name": "stdout",
     "output_type": "stream",
     "text": [
      "\n"
     ]
    },
    {
     "name": "stdout",
     "output_type": "stream",
     "text": [
      "The CommonGround optimization problem had no optimal solution.\n",
      "The CommonGround_entani optimization problem had no optimal solution.\n",
      "The tCommonGround optimization problem had no optimal solution.\n",
      "The CommonGround optimization problem had no optimal solution.\n",
      "The tCommonGround optimization problem had no optimal solution.\n",
      "The CommonGround_entani optimization problem had no optimal solution.\n",
      "The CommonGround optimization problem had no optimal solution.\n",
      "The CommonGround_entani optimization problem had no optimal solution.\n",
      "The tCommonGround optimization problem had no optimal solution.\n",
      "The CommonGround_entani optimization problem had no optimal solution.\n",
      "The CommonGround optimization problem had no optimal solution.\n",
      "The CommonGround_entani optimization problem had no optimal solution."
     ]
    },
    {
     "name": "stdout",
     "output_type": "stream",
     "text": [
      "\n",
      "The CommonGround optimization problem had no optimal solution.\n",
      "The tCommonGround optimization problem had no optimal solution.\n",
      "The tCommonGround optimization problem had no optimal solution.\n",
      "The CommonGround optimization problem had no optimal solution.\n",
      "The tCommonGround optimization problem had no optimal solution.\n"
     ]
    },
    {
     "name": "stdout",
     "output_type": "stream",
     "text": [
      "The CommonGround_entani optimization problem had no optimal solution.\n",
      "The CommonGround optimization problem had no optimal solution.\n",
      "The tCommonGround optimization problem had no optimal solution.\n",
      "The CommonGround_entani optimization problem had no optimal solution.\n",
      "The CommonGround optimization problem had no optimal solution.\n",
      "The CommonGround_entani optimization problem had no optimal solution.\n",
      "The tCommonGround optimization problem had no optimal solution.\n",
      "The CommonGround optimization problem had no optimal solution.\n",
      "The CommonGround_entani optimization problem had no optimal solution.\n",
      "The CommonGround optimization problem had no optimal solution.\n",
      "The tCommonGround optimization problem had no optimal solution.\n"
     ]
    },
    {
     "name": "stderr",
     "output_type": "stream",
     "text": [
      "Excessive output truncated after 524833 bytes."
     ]
    }
   ],
   "source": [
    "desired_count = 1000\n",
    "run_experiments(pcms4, 4, 3, desired_count, \"4_3_0.65.csv\", \"PCM_4_3_0.65.csv\")\n",
    "run_experiments(pcms5, 5, 3, desired_count, \"5_3_0.65.csv\", \"PCM_5_3_0.65.csv\")\n",
    "run_experiments(pcms6, 6, 3, desired_count, \"6_3_0.65.csv\", \"PCM_6_3_0.65.csv\")\n",
    "run_experiments(pcms7, 7, 3, desired_count, \"7_3_0.65.csv\", \"PCM_7_3_0.65.csv\")\n",
    "run_experiments(pcms8, 8, 3, desired_count, \"8_3_0.65.csv\", \"PCM_8_3_0.65.csv\")"
   ]
  },
  {
   "cell_type": "code",
   "execution_count": 6,
   "metadata": {},
   "outputs": [
    {
     "data": {
      "text/plain": [
       "3-element Vector{Matrix{Float64}}:\n",
       " [1.0 2.0 … 1.0 1.0; 0.5 1.0 … 1.0 1.0; … ; 1.0 1.0 … 1.0 1.0; 1.0 1.0 … 1.0 1.0]\n",
       " [1.0 2.0 … 2.0 1.0; 0.5 1.0 … 1.0 1.0; … ; 0.5 1.0 … 1.0 1.0; 1.0 1.0 … 1.0 1.0]\n",
       " [1.0 1.0 … 2.0 1.0; 1.0 1.0 … 1.0 1.0; … ; 0.5 1.0 … 1.0 1.0; 1.0 1.0 … 1.0 1.0]"
      ]
     },
     "metadata": {},
     "output_type": "display_data"
    }
   ],
   "source": [
    "selected_pcms = random_select_pcms(pcms7, 3)"
   ]
  },
  {
   "cell_type": "code",
   "execution_count": 7,
   "metadata": {},
   "outputs": [],
   "source": [
    "    # PerfectIncorporationの計算\n",
    "    PerfectIncorporation_before = solvePerfectIncorporationLP(selected_pcms)\n",
    "    if PerfectIncorporation_before === nothing\n",
    "        PerfectIncorporation_before = \"Error\"\n",
    "    end\n",
    "    PerfectIncorporation = solveonePerfectIncorporationLP(selected_pcms)\n",
    "    if PerfectIncorporation === nothing\n",
    "        PerfectIncorporation = \"Error\"\n",
    "    end\n",
    "    tPerfectIncorporation2 = solvetPerfectIncorporationLP2(selected_pcms)\n",
    "    if tPerfectIncorporation2 === nothing\n",
    "        tPerfectIncorporation2 = \"Error\"\n",
    "    end\n",
    "\n",
    "    # CommonGroundの計算\n",
    "    CommonGround_before = solveCommonGroundLP(selected_pcms)\n",
    "    if CommonGround_before === nothing\n",
    "        CommonGround_before = \"Error\"\n",
    "    end\n",
    "    CommonGround = solveoneCommonGroundLP(selected_pcms)\n",
    "    if CommonGround === nothing\n",
    "        CommonGround = \"Error\"\n",
    "    end\n",
    "    tCommonGround2 = solvetCommonGroundLP2(selected_pcms)\n",
    "    if tCommonGround2 === nothing\n",
    "        tCommonGround2 = \"Error\"\n",
    "    end\n",
    "\n",
    "    # PartialIncorporationの計算\n",
    "    PartialIncorporation_before = solvePartialIncorporationLP(selected_pcms)\n",
    "    if PartialIncorporation_before === nothing\n",
    "        PartialIncorporation_before = \"Error\"\n",
    "    end\n",
    "    PartialIncorporation = solveonePartialIncorporationLP(selected_pcms)\n",
    "    if PartialIncorporation === nothing\n",
    "        PartialIncorporation = \"Error\"\n",
    "    end\n",
    "    tPartialIncorporation2 = solvetPartialIncorporationLP2(selected_pcms)\n",
    "    if tPartialIncorporation2 === nothing\n",
    "        tPartialIncorporation2 = \"Error\"\n",
    "    end\n"
   ]
  },
  {
   "cell_type": "code",
   "execution_count": 8,
   "metadata": {},
   "outputs": [
    {
     "data": {
      "text/plain": [
       "7-element Vector{Interval{Float64}}:\n",
       " [0.11087, 0.221741]\n",
       " [0.0789473, 0.221741]\n",
       " [0.157894, 0.31579]\n",
       " [0.0267971, 0.157895]\n",
       " [0.101082, 0.202167]\n",
       " [0.0288808, 0.110871]\n",
       " [0.0631578, 0.202167]"
      ]
     },
     "metadata": {},
     "output_type": "display_data"
    }
   ],
   "source": [
    "PerfectIncorporation.W_perfect_center_1"
   ]
  },
  {
   "cell_type": "code",
   "execution_count": 9,
   "metadata": {},
   "outputs": [
    {
     "data": {
      "text/latex": [
       "$\\begin{pmatrix} \\left[ 0.1, 0.2 \\right] \\\\ \\left[ 0.077, 0.2 \\right] \\\\ \\left[ 0.154, 0.256 \\right] \\\\ \\left[ 0.051, 0.154 \\right] \\\\ \\left[ 0.1, 0.2 \\right] \\\\ \\left[ 0.025, 0.101 \\right] \\\\ \\left[ 0.051, 0.165 \\right] \\end{pmatrix}$"
      ],
      "text/plain": [
       "L\"$\\begin{pmatrix} \\left[ 0.1, 0.2 \\right] \\\\ \\left[ 0.077, 0.2 \\right] \\\\ \\left[ 0.154, 0.256 \\right] \\\\ \\left[ 0.051, 0.154 \\right] \\\\ \\left[ 0.1, 0.2 \\right] \\\\ \\left[ 0.025, 0.101 \\right] \\\\ \\left[ 0.051, 0.165 \\right] \\end{pmatrix}$\""
      ]
     },
     "metadata": {},
     "output_type": "display_data"
    },
    {
     "data": {
      "text/latex": [
       "$\\begin{pmatrix} \\left[ 0.111, 0.222 \\right] \\\\ \\left[ 0.079, 0.222 \\right] \\\\ \\left[ 0.158, 0.316 \\right] \\\\ \\left[ 0.027, 0.158 \\right] \\\\ \\left[ 0.101, 0.202 \\right] \\\\ \\left[ 0.029, 0.111 \\right] \\\\ \\left[ 0.063, 0.202 \\right] \\end{pmatrix}$"
      ],
      "text/plain": [
       "L\"$\\begin{pmatrix} \\left[ 0.111, 0.222 \\right] \\\\ \\left[ 0.079, 0.222 \\right] \\\\ \\left[ 0.158, 0.316 \\right] \\\\ \\left[ 0.027, 0.158 \\right] \\\\ \\left[ 0.101, 0.202 \\right] \\\\ \\left[ 0.029, 0.111 \\right] \\\\ \\left[ 0.063, 0.202 \\right] \\end{pmatrix}$\""
      ]
     },
     "metadata": {},
     "output_type": "display_data"
    },
    {
     "data": {
      "text/latex": [
       "$\\begin{pmatrix} \\left[ 0.1, 0.2 \\right] \\\\ \\left[ 0.084, 0.2 \\right] \\\\ \\left[ 0.168, 0.335 \\right] \\\\ \\left[ 0.05, 0.168 \\right] \\\\ \\left[ 0.1, 0.201 \\right] \\\\ \\left[ 0.029, 0.1 \\right] \\\\ \\left[ 0.067, 0.2 \\right] \\end{pmatrix}$"
      ],
      "text/plain": [
       "L\"$\\begin{pmatrix} \\left[ 0.1, 0.2 \\right] \\\\ \\left[ 0.084, 0.2 \\right] \\\\ \\left[ 0.168, 0.335 \\right] \\\\ \\left[ 0.05, 0.168 \\right] \\\\ \\left[ 0.1, 0.201 \\right] \\\\ \\left[ 0.029, 0.1 \\right] \\\\ \\left[ 0.067, 0.2 \\right] \\end{pmatrix}$\""
      ]
     },
     "metadata": {},
     "output_type": "display_data"
    }
   ],
   "source": [
    "display(L\"%$(intervalVectorLaTeXString(PerfectIncorporation_before.W_perfect_entani))\")\n",
    "display(L\"%$(intervalVectorLaTeXString(PerfectIncorporation.W_perfect_center_1))\") \n",
    "display(L\"%$(intervalVectorLaTeXString(tPerfectIncorporation2.W_tperfect_center_1))\")"
   ]
  },
  {
   "cell_type": "code",
   "execution_count": 10,
   "metadata": {},
   "outputs": [
    {
     "data": {
      "text/plain": [
       "intervalmatrixLaTeXString (generic function with 1 method)"
      ]
     },
     "metadata": {},
     "output_type": "display_data"
    }
   ],
   "source": [
    "include(\"../generate-pcm.jl\")\n",
    "include(\"../display/display-interval-matrix.jl\")"
   ]
  },
  {
   "cell_type": "code",
   "execution_count": 11,
   "metadata": {},
   "outputs": [
    {
     "data": {
      "text/latex": [
       "$\\begin{pmatrix} \\left[ 1.0, 1.0 \\right] & \\left[ 0.385, 2.0 \\right] & \\left[ 0.769, 2.564 \\right] & \\left[ 0.253, 1.538 \\right] & \\left[ 0.5, 2.0 \\right] & \\left[ 0.127, 1.013 \\right] & \\left[ 0.256, 1.646 \\right] \\\\\\left[ 0.5, 2.6 \\right] & \\left[ 1.0, 1.0 \\right] & \\left[ 0.769, 3.333 \\right] & \\left[ 0.253, 2.0 \\right] & \\left[ 0.5, 2.6 \\right] & \\left[ 0.127, 1.316 \\right] & \\left[ 0.256, 2.139 \\right] \\\\\\left[ 0.39, 1.3 \\right] & \\left[ 0.3, 1.3 \\right] & \\left[ 1.0, 1.0 \\right] & \\left[ 0.197, 1.0 \\right] & \\left[ 0.39, 1.3 \\right] & \\left[ 0.099, 0.658 \\right] & \\left[ 0.2, 1.07 \\right] \\\\\\left[ 0.65, 3.95 \\right] & \\left[ 0.5, 3.95 \\right] & \\left[ 1.0, 5.064 \\right] & \\left[ 1.0, 1.0 \\right] & \\left[ 0.65, 3.95 \\right] & \\left[ 0.165, 2.0 \\right] & \\left[ 0.333, 3.25 \\right] \\\\\\left[ 0.5, 2.0 \\right] & \\left[ 0.385, 2.0 \\right] & \\left[ 0.769, 2.564 \\right] & \\left[ 0.253, 1.538 \\right] & \\left[ 1.0, 1.0 \\right] & \\left[ 0.127, 1.013 \\right] & \\left[ 0.256, 1.646 \\right] \\\\\\left[ 0.988, 7.9 \\right] & \\left[ 0.76, 7.9 \\right] & \\left[ 1.519, 10.128 \\right] & \\left[ 0.5, 6.077 \\right] & \\left[ 0.988, 7.9 \\right] & \\left[ 1.0, 1.0 \\right] & \\left[ 0.506, 6.5 \\right] \\\\\\left[ 0.608, 3.9 \\right] & \\left[ 0.467, 3.9 \\right] & \\left[ 0.935, 5.0 \\right] & \\left[ 0.308, 3.0 \\right] & \\left[ 0.608, 3.9 \\right] & \\left[ 0.154, 1.975 \\right] & \\left[ 1.0, 1.0 \\right] \\end{pmatrix}$"
      ],
      "text/plain": [
       "\"\\$\\\\begin{pmatrix} \\\\left[ 1.0, 1.0 \\\\right] & \\\\left[ 0.385, 2.0 \\\\right] & \\\\left[ 0.769, 2.564 \\\\right] & \\\\left[ 0.253, 1.538 \\\\right] & \\\\left[ 0.5, 2.0 \\\\right] & \\\\left[ 0.127, 1.013 \\\\right] & \\\\left[ 0.256, 1.646 \\\\right] \\\\\\\\\\\\left[ 0.5, 2.6 \\\\right] & \\\\left[ 1.0, 1.0 \\\\right] & \\\\l\" ⋯ 861 bytes ⋯ \"ight] & \\\\left[ 1.0, 1.0 \\\\right] & \\\\left[ 0.506, 6.5 \\\\right] \\\\\\\\\\\\left[ 0.608, 3.9 \\\\right] & \\\\left[ 0.467, 3.9 \\\\right] & \\\\left[ 0.935, 5.0 \\\\right] & \\\\left[ 0.308, 3.0 \\\\right] & \\\\left[ 0.608, 3.9 \\\\right] & \\\\left[ 0.154, 1.975 \\\\right] & \\\\left[ 1.0, 1.0 \\\\right] \\\\end{pmatrix}\\$\""
      ]
     },
     "metadata": {},
     "output_type": "display_data"
    },
    {
     "data": {
      "text/latex": [
       "$\\begin{pmatrix} \\left[ 1.0, 1.0 \\right] & \\left[ 0.356, 2.0 \\right] & \\left[ 0.712, 2.848 \\right] & \\left[ 0.121, 1.424 \\right] & \\left[ 0.456, 1.823 \\right] & \\left[ 0.13, 1.0 \\right] & \\left[ 0.285, 1.823 \\right] \\\\\\left[ 0.5, 2.809 \\right] & \\left[ 1.0, 1.0 \\right] & \\left[ 0.712, 4.0 \\right] & \\left[ 0.121, 2.0 \\right] & \\left[ 0.456, 2.561 \\right] & \\left[ 0.13, 1.404 \\right] & \\left[ 0.285, 2.561 \\right] \\\\\\left[ 0.351, 1.404 \\right] & \\left[ 0.25, 1.404 \\right] & \\left[ 1.0, 1.0 \\right] & \\left[ 0.085, 1.0 \\right] & \\left[ 0.32, 1.28 \\right] & \\left[ 0.091, 0.702 \\right] & \\left[ 0.2, 1.28 \\right] \\\\\\left[ 0.702, 8.275 \\right] & \\left[ 0.5, 8.275 \\right] & \\left[ 1.0, 11.784 \\right] & \\left[ 1.0, 1.0 \\right] & \\left[ 0.64, 7.544 \\right] & \\left[ 0.183, 4.137 \\right] & \\left[ 0.4, 7.544 \\right] \\\\\\left[ 0.548, 2.194 \\right] & \\left[ 0.391, 2.194 \\right] & \\left[ 0.781, 3.124 \\right] & \\left[ 0.133, 1.562 \\right] & \\left[ 1.0, 1.0 \\right] & \\left[ 0.143, 1.097 \\right] & \\left[ 0.312, 2.0 \\right] \\\\\\left[ 1.0, 7.678 \\right] & \\left[ 0.712, 7.678 \\right] & \\left[ 1.424, 10.934 \\right] & \\left[ 0.242, 5.467 \\right] & \\left[ 0.912, 7.0 \\right] & \\left[ 1.0, 1.0 \\right] & \\left[ 0.57, 7.0 \\right] \\\\\\left[ 0.548, 3.511 \\right] & \\left[ 0.391, 3.511 \\right] & \\left[ 0.781, 5.0 \\right] & \\left[ 0.133, 2.5 \\right] & \\left[ 0.5, 3.201 \\right] & \\left[ 0.143, 1.755 \\right] & \\left[ 1.0, 1.0 \\right] \\end{pmatrix}$"
      ],
      "text/plain": [
       "\"\\$\\\\begin{pmatrix} \\\\left[ 1.0, 1.0 \\\\right] & \\\\left[ 0.356, 2.0 \\\\right] & \\\\left[ 0.712, 2.848 \\\\right] & \\\\left[ 0.121, 1.424 \\\\right] & \\\\left[ 0.456, 1.823 \\\\right] & \\\\left[ 0.13, 1.0 \\\\right] & \\\\left[ 0.285, 1.823 \\\\right] \\\\\\\\\\\\left[ 0.5, 2.809 \\\\right] & \\\\left[ 1.0, 1.0 \\\\right] &\" ⋯ 890 bytes ⋯ \"t] & \\\\left[ 1.0, 1.0 \\\\right] & \\\\left[ 0.57, 7.0 \\\\right] \\\\\\\\\\\\left[ 0.548, 3.511 \\\\right] & \\\\left[ 0.391, 3.511 \\\\right] & \\\\left[ 0.781, 5.0 \\\\right] & \\\\left[ 0.133, 2.5 \\\\right] & \\\\left[ 0.5, 3.201 \\\\right] & \\\\left[ 0.143, 1.755 \\\\right] & \\\\left[ 1.0, 1.0 \\\\right] \\\\end{pmatrix}\\$\""
      ]
     },
     "metadata": {},
     "output_type": "display_data"
    },
    {
     "data": {
      "text/latex": [
       "$\\begin{pmatrix} \\left[ 1.0, 1.0 \\right] & \\left[ 0.419, 2.0 \\right] & \\left[ 0.838, 3.352 \\right] & \\left[ 0.25, 1.676 \\right] & \\left[ 0.5, 2.011 \\right] & \\left[ 0.143, 1.0 \\right] & \\left[ 0.335, 2.0 \\right] \\\\\\left[ 0.5, 2.387 \\right] & \\left[ 1.0, 1.0 \\right] & \\left[ 0.838, 4.0 \\right] & \\left[ 0.25, 2.0 \\right] & \\left[ 0.5, 2.4 \\right] & \\left[ 0.143, 1.193 \\right] & \\left[ 0.335, 2.387 \\right] \\\\\\left[ 0.298, 1.193 \\right] & \\left[ 0.25, 1.193 \\right] & \\left[ 1.0, 1.0 \\right] & \\left[ 0.149, 1.0 \\right] & \\left[ 0.298, 1.2 \\right] & \\left[ 0.085, 0.597 \\right] & \\left[ 0.2, 1.193 \\right] \\\\\\left[ 0.597, 4.0 \\right] & \\left[ 0.5, 4.0 \\right] & \\left[ 1.0, 6.704 \\right] & \\left[ 1.0, 1.0 \\right] & \\left[ 0.597, 4.022 \\right] & \\left[ 0.17, 2.0 \\right] & \\left[ 0.4, 4.0 \\right] \\\\\\left[ 0.497, 2.0 \\right] & \\left[ 0.417, 2.0 \\right] & \\left[ 0.833, 3.352 \\right] & \\left[ 0.249, 1.676 \\right] & \\left[ 1.0, 1.0 \\right] & \\left[ 0.142, 1.0 \\right] & \\left[ 0.333, 2.0 \\right] \\\\\\left[ 1.0, 7.0 \\right] & \\left[ 0.838, 7.0 \\right] & \\left[ 1.676, 11.732 \\right] & \\left[ 0.5, 5.866 \\right] & \\left[ 1.0, 7.039 \\right] & \\left[ 1.0, 1.0 \\right] & \\left[ 0.67, 7.0 \\right] \\\\\\left[ 0.5, 2.983 \\right] & \\left[ 0.419, 2.983 \\right] & \\left[ 0.838, 5.0 \\right] & \\left[ 0.25, 2.5 \\right] & \\left[ 0.5, 3.0 \\right] & \\left[ 0.143, 1.492 \\right] & \\left[ 1.0, 1.0 \\right] \\end{pmatrix}$"
      ],
      "text/plain": [
       "\"\\$\\\\begin{pmatrix} \\\\left[ 1.0, 1.0 \\\\right] & \\\\left[ 0.419, 2.0 \\\\right] & \\\\left[ 0.838, 3.352 \\\\right] & \\\\left[ 0.25, 1.676 \\\\right] & \\\\left[ 0.5, 2.011 \\\\right] & \\\\left[ 0.143, 1.0 \\\\right] & \\\\left[ 0.335, 2.0 \\\\right] \\\\\\\\\\\\left[ 0.5, 2.387 \\\\right] & \\\\left[ 1.0, 1.0 \\\\right] & \\\\le\" ⋯ 857 bytes ⋯ \"\\\\right] & \\\\left[ 1.0, 1.0 \\\\right] & \\\\left[ 0.67, 7.0 \\\\right] \\\\\\\\\\\\left[ 0.5, 2.983 \\\\right] & \\\\left[ 0.419, 2.983 \\\\right] & \\\\left[ 0.838, 5.0 \\\\right] & \\\\left[ 0.25, 2.5 \\\\right] & \\\\left[ 0.5, 3.0 \\\\right] & \\\\left[ 0.143, 1.492 \\\\right] & \\\\left[ 1.0, 1.0 \\\\right] \\\\end{pmatrix}\\$\""
      ]
     },
     "metadata": {},
     "output_type": "display_data"
    }
   ],
   "source": [
    "display(L\"%$(intervalmatrixLaTeXString(create_interval_pcm(PerfectIncorporation_before.W_perfect_entani)))\")\n",
    "display(L\"%$(intervalmatrixLaTeXString(create_interval_pcm(PerfectIncorporation.W_perfect_center_1)))\")\n",
    "display(L\"%$(intervalmatrixLaTeXString(create_interval_pcm(tPerfectIncorporation2.W_tperfect_center_1)))\")"
   ]
  }
 ],
 "metadata": {
  "kernelspec": {
   "display_name": "Julia 1.9.3",
   "language": "julia",
   "name": "julia-1.9"
  },
  "language_info": {
   "file_extension": ".jl",
   "mimetype": "application/julia",
   "name": "julia",
   "version": "1.9.3"
  }
 },
 "nbformat": 4,
 "nbformat_minor": 2
}
