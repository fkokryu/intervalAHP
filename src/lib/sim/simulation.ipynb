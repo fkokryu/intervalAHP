{
 "cells": [
  {
   "cell_type": "code",
   "execution_count": 1,
   "metadata": {},
   "outputs": [],
   "source": [
    "using LaTeXStrings"
   ]
  },
  {
   "cell_type": "code",
   "execution_count": 2,
   "metadata": {},
   "outputs": [
    {
     "data": {
      "text/plain": [
       "run_experiments (generic function with 1 method)"
      ]
     },
     "metadata": {},
     "output_type": "display_data"
    }
   ],
   "source": [
    "include(\"./sim.jl\")\n",
    "include(\"../display/display-crisp-matrix.jl\")\n",
    "include(\"../display/display-interval-vector.jl\")\n",
    "include(\"display-csv.jl\")"
   ]
  },
  {
   "cell_type": "code",
   "execution_count": 3,
   "metadata": {},
   "outputs": [
    {
     "name": "stdout",
     "output_type": "stream",
     "text": [
      "Number of threads: 4\n"
     ]
    }
   ],
   "source": [
    "using Base.Threads\n",
    "\n",
    "println(\"Number of threads: \", nthreads())"
   ]
  },
  {
   "cell_type": "code",
   "execution_count": 4,
   "metadata": {},
   "outputs": [
    {
     "data": {
      "text/plain": [
       "1001-element Vector{Matrix{Float64}}:\n",
       " [1.0 0.1370833807526438 … 0.3213477642236067 0.32702747587756853; 7.294830303349619 1.0 … 0.49091595926370296 0.46172168057718316; … ; 3.1118934417236512 2.037008537061707 … 1.0 0.7382525628270085; 3.057847042718749 2.165806896375177 … 1.3545499878397655 1.0]\n",
       " [1.0 0.196914569350767 … 0.3599880832195299 0.6238066659529503; 5.078344397253229 1.0 … 0.5700521765926041 1.6449412834504002; … ; 2.7778697312882286 1.7542253868362372 … 1.0 0.740181770307551; 1.6030607792117173 0.6079244347873727 … 1.351019492934138 1.0]\n",
       " [1.0 0.15762692188746052 … 0.5400667824468879 0.41647171399373356; 6.344093940462537 1.0 … 1.8278001452479349 1.8582828869992776; … ; 1.8516228594346915 0.5471057667874041 … 1.0 0.3148905166902731; 2.4011234530445122 0.538131200042843 … 3.1757069425612516 1.0]\n",
       " [1.0 0.19738402089664436 … 0.9039026045849737 0.9751379802669076; 5.06626623298766 1.0 … 0.9507696692686746 1.0940742691195322; … ; 1.106313882632465 1.0517794501892272 … 1.0 0.26634641232451967; 1.0254958992842094 0.9140147321120718 … 3.7545089917771746 1.0]\n",
       " [1.0 0.14637618222136567 … 0.2768045570272433 0.28117712013273505; 6.831712542466051 1.0 … 1.1632102533658035 0.5516514916125163; … ; 3.6126572869303564 0.8596898085332837 … 1.0 0.6664252444117283; 3.556477139846695 1.8127386859354435 … 1.5005433968557527 1.0]\n",
       " [1.0 0.16450035871120244 … 0.3352109927952852 0.23370333538661073; 6.079014099632478 1.0 … 2.1777077052831206 1.1971076653524833; … ; 2.983195722971723 0.45919844870548937 … 1.0 0.9449759872611675; 4.2789290890766285 0.8353467519611565 … 1.0582279480966592 1.0]\n",
       " [1.0 0.155577928665165 … 0.9943696171959765 0.3056305262639723; 6.427646958536137 1.0 … 1.55488793821977 1.6913281019999993; … ; 1.005662263515151 0.6431331644034264 … 1.0 0.9728012636588952; 3.271924477649535 0.5912513360462099 … 1.027959191005576 1.0]\n",
       " [1.0 0.11473103619383175 … 0.23040785389835342 0.2984467542397975; 8.716037379027547 1.0 … 0.6490046020746112 0.7724848157498289; … ; 4.3401298309959495 1.5408211233069768 … 1.0 0.6073673271988038; 3.350681439130395 1.2945238270208959 … 1.6464501055926564 1.0]\n",
       " [1.0 0.1734046263726105 … 0.3739330577351597 0.539463219442828; 5.766858825618688 1.0 … 0.5919883332425155 0.7798192162409848; … ; 2.6742754600430536 1.6892224793057489 … 1.0 0.25577891316382106; 1.8536944947476244 1.2823484971560042 … 3.909626433354656 1.0]\n",
       " [1.0 0.18587928144263546 … 0.5629680286465181 0.7368775102564686; 5.379835731227591 1.0 … 2.1615926777670866 0.45670632203801137; … ; 1.776299805877413 0.4626218483646024 … 1.0 1.0400014978525625; 1.3570776500587622 2.189590885314635 … 0.9615370766915633 1.0]\n",
       " ⋮\n",
       " [1.0 0.18529579229375476 … 0.9018413208965791 0.5376575489354516; 5.39677662196814 1.0 … 0.7082755891688428 0.4883441786512156; … ; 1.1088425167809288 1.411879803980671 … 1.0 0.3022511115160858; 1.8599199471484682 2.0477360921183796 … 3.3085072706069436 1.0]\n",
       " [1.0 0.22543849565537893 … 0.24250735528596207 0.520849537951523; 4.435799649447049 1.0 … 1.5577781412797564 0.6336034105441232; … ; 4.1235862673971715 0.6419399357975798 … 1.0 1.07195878180694; 1.9199402651540278 1.5782743327426605 … 0.9328716896319061 1.0]\n",
       " [1.0 0.13234900413034334 … 0.2965782183599228 0.6097716172864426; 7.5557803141091595 1.0 … 0.6150214874629543 0.7097088079218465; … ; 3.371791784069642 1.6259594508236346 … 1.0 1.000988069934171; 1.6399582592087851 1.4090285886801626 … 0.9990129053843407 1.0]\n",
       " [1.0 0.12978101254398614 … 0.43830075281017117 0.8489909259324544; 7.705287394495201 1.0 … 0.46523965864660655 1.2137070078604022; … ; 2.281538403912123 2.1494298291530525 … 1.0 0.8533693154297682; 1.177868890532241 0.823922078000408 … 1.1718255881937665 1.0]\n",
       " [1.0 0.11751177824727747 … 0.5326078627871156 0.9222116576979759; 8.509785273572508 1.0 … 0.5211441060727439 2.0676068603973956; … ; 1.8775539564268544 1.9188550505460673 … 1.0 0.6966921817454049; 1.0843497711753063 0.4836509392350339 … 1.4353541294158432 1.0]\n",
       " [1.0 0.21505182030734116 … 0.8257523826764931 0.9134826472634904; 4.650042015784153 1.0 … 1.0345339978798525 1.244093182349048; … ; 1.2110167902376763 0.9666187887970569 … 1.0 0.9460938729684794; 1.09471154487246 0.8037983120459187 … 1.0569775669959514 1.0]\n",
       " [1.0 0.1638557457801836 … 0.6056259299905107 1.0109297575474878; 6.102929105345648 1.0 … 0.4727515813568149 0.971216011153292; … ; 1.6511842549668714 2.1152758434566463 … 1.0 0.47905189461568615; 0.989188410504402 1.0296370617001338 … 2.087456518259339 1.0]\n",
       " [1.0 0.19294532456597338 … 0.567243611436704 0.8377164160698913; 5.182815402495395 1.0 … 0.4539505747130099 0.7533762710362214; … ; 1.7629109959779339 2.202882991462684 … 1.0 0.7568972769139002; 1.1937213844888641 1.3273579729615896 … 1.321183244412377 1.0]\n",
       " [1.0 0.15952815623759195 … 0.752518565581661 0.9830377042705134; 6.268485912359309 1.0 … 0.8088059891319345 0.985706382577847; … ; 1.3288708687566368 1.23639044892987 … 1.0 1.0418354360904472; 1.0172549797996546 1.014500887561235 … 0.9598444872950019 1.0]"
      ]
     },
     "metadata": {},
     "output_type": "display_data"
    }
   ],
   "source": [
    "# 例：5x5のPCMをdesired_count個生成する\n",
    "n = 5\n",
    "perturbation_strength = 0.8\n",
    "desired_count = 1000\n",
    "\n",
    "pcms = generate_similar_pcms(n, perturbation_strength, desired_count)"
   ]
  },
  {
   "cell_type": "code",
   "execution_count": 5,
   "metadata": {},
   "outputs": [
    {
     "data": {
      "text/latex": [
       "$A = \\begin{pmatrix} 1.0 & 0.137 & 0.281 & 0.321 & 0.327 \\\\7.295 & 1.0 & 0.595 & 0.491 & 0.462 \\\\3.559 & 1.682 & 1.0 & 0.24 & 0.442 \\\\3.112 & 2.037 & 4.175 & 1.0 & 0.738 \\\\3.058 & 2.166 & 2.261 & 1.355 & 1.0 \\\\ \\end{pmatrix}$"
      ],
      "text/plain": [
       "L\"$A = \\begin{pmatrix} 1.0 & 0.137 & 0.281 & 0.321 & 0.327 \\\\7.295 & 1.0 & 0.595 & 0.491 & 0.462 \\\\3.559 & 1.682 & 1.0 & 0.24 & 0.442 \\\\3.112 & 2.037 & 4.175 & 1.0 & 0.738 \\\\3.058 & 2.166 & 2.261 & 1.355 & 1.0 \\\\ \\end{pmatrix}$\""
      ]
     },
     "metadata": {},
     "output_type": "display_data"
    },
    {
     "data": {
      "text/latex": [
       "$A = \\begin{pmatrix} 1.0 & 0.197 & 0.646 & 0.36 & 0.624 \\\\5.078 & 1.0 & 0.669 & 0.57 & 1.645 \\\\1.549 & 1.494 & 1.0 & 0.556 & 0.892 \\\\2.778 & 1.754 & 1.799 & 1.0 & 0.74 \\\\1.603 & 0.608 & 1.121 & 1.351 & 1.0 \\\\ \\end{pmatrix}$"
      ],
      "text/plain": [
       "L\"$A = \\begin{pmatrix} 1.0 & 0.197 & 0.646 & 0.36 & 0.624 \\\\5.078 & 1.0 & 0.669 & 0.57 & 1.645 \\\\1.549 & 1.494 & 1.0 & 0.556 & 0.892 \\\\2.778 & 1.754 & 1.799 & 1.0 & 0.74 \\\\1.603 & 0.608 & 1.121 & 1.351 & 1.0 \\\\ \\end{pmatrix}$\""
      ]
     },
     "metadata": {},
     "output_type": "display_data"
    },
    {
     "data": {
      "text/latex": [
       "$A = \\begin{pmatrix} 1.0 & 0.158 & 0.242 & 0.54 & 0.416 \\\\6.344 & 1.0 & 0.546 & 1.828 & 1.858 \\\\4.127 & 1.832 & 1.0 & 0.301 & 1.041 \\\\1.852 & 0.547 & 3.317 & 1.0 & 0.315 \\\\2.401 & 0.538 & 0.961 & 3.176 & 1.0 \\\\ \\end{pmatrix}$"
      ],
      "text/plain": [
       "L\"$A = \\begin{pmatrix} 1.0 & 0.158 & 0.242 & 0.54 & 0.416 \\\\6.344 & 1.0 & 0.546 & 1.828 & 1.858 \\\\4.127 & 1.832 & 1.0 & 0.301 & 1.041 \\\\1.852 & 0.547 & 3.317 & 1.0 & 0.315 \\\\2.401 & 0.538 & 0.961 & 3.176 & 1.0 \\\\ \\end{pmatrix}$\""
      ]
     },
     "metadata": {},
     "output_type": "display_data"
    }
   ],
   "source": [
    "display(L\"A = %$(matrixLaTeXString(pcms[1]))\")\n",
    "display(L\"A = %$(matrixLaTeXString(pcms[2]))\")\n",
    "display(L\"A = %$(matrixLaTeXString(pcms[3]))\")"
   ]
  },
  {
   "cell_type": "code",
   "execution_count": 6,
   "metadata": {},
   "outputs": [
    {
     "ename": "ErrorException",
     "evalue": "type NamedTuple has no field V",
     "output_type": "error",
     "traceback": [
      "type NamedTuple has no field V\n",
      "\n",
      "Stacktrace:\n",
      " [1] getproperty(x::NamedTuple{(:wᴸ_center_1, :wᵁ_center_1, :W_center_1, :optimalValue_center_1), Tuple{Vector{Float64}, Vector{Float64}, Vector{Interval{Float64}}, Float64}}, f::Symbol)\n",
      "   @ Base ./Base.jl:37\n",
      " [2] top-level scope\n",
      "   @ /workspaces/intervalAHP/src/lib/sim/simulation.ipynb:4"
     ]
    }
   ],
   "source": [
    "A1 = solveCrispAHPLP(pcms[1])\n",
    "A2 = solveCrispAHPLP(pcms[2])\n",
    "A3 = solveCrispAHPLP(pcms[3])\n",
    "display(L\"V1 = %$(intervalVectorLaTeXString(A1.V))\")\n",
    "display(L\"V2 = %$(intervalVectorLaTeXString(A2.V))\")\n",
    "display(L\"V3 = %$(intervalVectorLaTeXString(A3.V))\")"
   ]
  },
  {
   "cell_type": "code",
   "execution_count": 7,
   "metadata": {},
   "outputs": [
    {
     "name": "stdout",
     "output_type": "stream",
     "text": [
      "The CommonGround_entani optimization problem had no optimal solution.\n",
      "The CommonGround_entani optimization problem had no optimal solution.\n",
      "The CommonGround_entani optimization problem had no optimal solution.\n",
      "The CommonGround_entani optimization problem had no optimal solution.\n",
      "The CommonGround optimization problem had no optimal solution.\n",
      "The CommonGround optimization problem had no optimal solution.\n",
      "The CommonGround optimization problem had no optimal solution.\n",
      "The CommonGround optimization problem had no optimal solution.\n",
      "The tCommonGround optimization problem had no optimal solution.\n",
      "The tCommonGround optimization problem had no optimal solution.\n",
      "The tCommonGround optimization problem had no optimal solution.\n",
      "The tCommonGround optimization problem had no optimal solution."
     ]
    },
    {
     "name": "stdout",
     "output_type": "stream",
     "text": [
      "\n"
     ]
    },
    {
     "name": "stdout",
     "output_type": "stream",
     "text": [
      "The CommonGround_entani optimization problem had no optimal solution.\n",
      "The CommonGround optimization problem had no optimal solution.\n",
      "The tCommonGround optimization problem had no optimal solution.\n"
     ]
    },
    {
     "data": {
      "text/plain": [
       "\"results.csv\""
      ]
     },
     "metadata": {},
     "output_type": "display_data"
    }
   ],
   "source": [
    "run_experiments(pcms, 5, 3, 5)"
   ]
  },
  {
   "cell_type": "code",
   "execution_count": 8,
   "metadata": {},
   "outputs": [
    {
     "data": {
      "text/plain": [
       "3-element Vector{Matrix{Float64}}:\n",
       " [1.0 0.2169895165288165 … 0.5316368767251489 0.48391968950854414; 4.608517572632126 1.0 … 0.5974592080008378 1.7019590660657375; … ; 1.8809831367604513 1.6737544364678998 … 1.0 1.0249866857589518; 2.0664585915393796 0.587558196867571 … 0.9756224289484791 1.0]\n",
       " [1.0 0.22100238876381414 … 0.34649436125059024 0.3890693839968006; 4.524837969370108 1.0 … 0.962919625510748 0.4505663283541761; … ; 2.886049851982394 1.03850827577596 … 1.0 0.8639791140668734; 2.5702356472444086 2.2194290542144803 … 1.1574353867107467 1.0]\n",
       " [1.0 0.11398034694060281 … 0.4753165662823334 1.0488203433666705; 8.77344232441333 1.0 … 1.1850722547058516 0.585427879764193; … ; 2.1038610284961323 0.8438304044576685 … 1.0 0.483585327757017; 0.9534521391814739 1.7081523353530659 … 2.0678873873991095 1.0]"
      ]
     },
     "metadata": {},
     "output_type": "display_data"
    }
   ],
   "source": [
    "selected_pcms = random_select_pcms(pcms, 3)"
   ]
  },
  {
   "cell_type": "code",
   "execution_count": 9,
   "metadata": {},
   "outputs": [
    {
     "name": "stdout",
     "output_type": "stream",
     "text": [
      "The CommonGround_entani optimization problem had no optimal solution.\n",
      "The CommonGround optimization problem had no optimal solution.\n",
      "The tCommonGround optimization problem had no optimal solution.\n"
     ]
    }
   ],
   "source": [
    "    # PerfectIncorporationの計算\n",
    "    PerfectIncorporation_before = solvePerfectIncorporationLP(selected_pcms)\n",
    "    if PerfectIncorporation_before === nothing\n",
    "        PerfectIncorporation_before = \"Error\"\n",
    "    end\n",
    "    PerfectIncorporation = solveonePerfectIncorporationLP(selected_pcms)\n",
    "    if PerfectIncorporation === nothing\n",
    "        PerfectIncorporation = \"Error\"\n",
    "    end\n",
    "    tPerfectIncorporation2 = solvetPerfectIncorporationLP2(selected_pcms)\n",
    "    if tPerfectIncorporation2 === nothing\n",
    "        tPerfectIncorporation2 = \"Error\"\n",
    "    end\n",
    "\n",
    "    # CommonGroundの計算\n",
    "    CommonGround_before = solveCommonGroundLP(selected_pcms)\n",
    "    if CommonGround_before === nothing\n",
    "        CommonGround_before = \"Error\"\n",
    "    end\n",
    "    CommonGround = solveoneCommonGroundLP(selected_pcms)\n",
    "    if CommonGround === nothing\n",
    "        CommonGround = \"Error\"\n",
    "    end\n",
    "    tCommonGround2 = solvetCommonGroundLP2(selected_pcms)\n",
    "    if tCommonGround2 === nothing\n",
    "        tCommonGround2 = \"Error\"\n",
    "    end\n",
    "\n",
    "    # PartialIncorporationの計算\n",
    "    PartialIncorporation_before = solvePartialIncorporationLP(selected_pcms)\n",
    "    if PartialIncorporation_before === nothing\n",
    "        PartialIncorporation_before = \"Error\"\n",
    "    end\n",
    "    PartialIncorporation = solveonePartialIncorporationLP(selected_pcms)\n",
    "    if PartialIncorporation === nothing\n",
    "        PartialIncorporation = \"Error\"\n",
    "    end\n",
    "    tPartialIncorporation2 = solvetPartialIncorporationLP2(selected_pcms)\n",
    "    if tPartialIncorporation2 === nothing\n",
    "        tPartialIncorporation2 = \"Error\"\n",
    "    end\n"
   ]
  },
  {
   "cell_type": "code",
   "execution_count": 22,
   "metadata": {},
   "outputs": [
    {
     "data": {
      "text/plain": [
       "5-element Vector{Interval{Float64}}:\n",
       " [0.999999e-08, 0.2266]\n",
       " [0.130047, 0.266107]\n",
       " [0.140258, 0.248203]\n",
       " [0.187552, 0.324639]\n",
       " [0.0887574, 0.387837]"
      ]
     },
     "metadata": {},
     "output_type": "display_data"
    }
   ],
   "source": [
    "PerfectIncorporation.W_perfect_center_1"
   ]
  },
  {
   "cell_type": "code",
   "execution_count": 11,
   "metadata": {},
   "outputs": [
    {
     "data": {
      "text/latex": [
       "$\\begin{pmatrix} \\left[ 0.026, 0.212 \\right] \\\\ \\left[ 0.126, 0.274 \\right] \\\\ \\left[ 0.129, 0.241 \\right] \\\\ \\left[ 0.188, 0.297 \\right] \\\\ \\left[ 0.161, 0.388 \\right] \\end{pmatrix}$"
      ],
      "text/plain": [
       "L\"$\\begin{pmatrix} \\left[ 0.026, 0.212 \\right] \\\\ \\left[ 0.126, 0.274 \\right] \\\\ \\left[ 0.129, 0.241 \\right] \\\\ \\left[ 0.188, 0.297 \\right] \\\\ \\left[ 0.161, 0.388 \\right] \\end{pmatrix}$\""
      ]
     },
     "metadata": {},
     "output_type": "display_data"
    },
    {
     "data": {
      "text/latex": [
       "$\\begin{pmatrix} \\left[ 0.0, 0.227 \\right] \\\\ \\left[ 0.13, 0.266 \\right] \\\\ \\left[ 0.14, 0.248 \\right] \\\\ \\left[ 0.188, 0.325 \\right] \\\\ \\left[ 0.089, 0.388 \\right] \\end{pmatrix}$"
      ],
      "text/plain": [
       "L\"$\\begin{pmatrix} \\left[ 0.0, 0.227 \\right] \\\\ \\left[ 0.13, 0.266 \\right] \\\\ \\left[ 0.14, 0.248 \\right] \\\\ \\left[ 0.188, 0.325 \\right] \\\\ \\left[ 0.089, 0.388 \\right] \\end{pmatrix}$\""
      ]
     },
     "metadata": {},
     "output_type": "display_data"
    },
    {
     "data": {
      "text/latex": [
       "$\\begin{pmatrix} \\left[ 0.0, 0.227 \\right] \\\\ \\left[ 0.126, 0.256 \\right] \\\\ \\left[ 0.135, 0.241 \\right] \\\\ \\left[ 0.188, 0.312 \\right] \\\\ \\left[ 0.127, 0.388 \\right] \\end{pmatrix}$"
      ],
      "text/plain": [
       "L\"$\\begin{pmatrix} \\left[ 0.0, 0.227 \\right] \\\\ \\left[ 0.126, 0.256 \\right] \\\\ \\left[ 0.135, 0.241 \\right] \\\\ \\left[ 0.188, 0.312 \\right] \\\\ \\left[ 0.127, 0.388 \\right] \\end{pmatrix}$\""
      ]
     },
     "metadata": {},
     "output_type": "display_data"
    }
   ],
   "source": [
    "display(L\"%$(intervalVectorLaTeXString(PerfectIncorporation_before.W_perfect_entani))\")\n",
    "display(L\"%$(intervalVectorLaTeXString(PerfectIncorporation.W_perfect_center_1))\") \n",
    "display(L\"%$(intervalVectorLaTeXString(tPerfectIncorporation2.W_tperfect_center_1))\")"
   ]
  },
  {
   "cell_type": "code",
   "execution_count": 12,
   "metadata": {},
   "outputs": [
    {
     "data": {
      "text/plain": [
       "intervalmatrixLaTeXString (generic function with 1 method)"
      ]
     },
     "metadata": {},
     "output_type": "display_data"
    }
   ],
   "source": [
    "include(\"../generate-pcm.jl\")\n",
    "include(\"../display/display-interval-matrix.jl\")"
   ]
  },
  {
   "cell_type": "code",
   "execution_count": 13,
   "metadata": {},
   "outputs": [
    {
     "data": {
      "text/latex": [
       "$\\begin{pmatrix} \\left[ 1.0, 1.0 \\right] & \\left[ 0.597, 10.568 \\right] & \\left[ 0.608, 9.325 \\right] & \\left[ 0.886, 11.487 \\right] & \\left[ 0.759, 14.986 \\right] \\\\\\left[ 0.095, 1.675 \\right] & \\left[ 1.0, 1.0 \\right] & \\left[ 0.471, 1.909 \\right] & \\left[ 0.686, 2.351 \\right] & \\left[ 0.588, 3.067 \\right] \\\\\\left[ 0.107, 1.646 \\right] & \\left[ 0.524, 2.125 \\right] & \\left[ 1.0, 1.0 \\right] & \\left[ 0.777, 2.31 \\right] & \\left[ 0.666, 3.014 \\right] \\\\\\left[ 0.087, 1.129 \\right] & \\left[ 0.425, 1.458 \\right] & \\left[ 0.433, 1.287 \\right] & \\left[ 1.0, 1.0 \\right] & \\left[ 0.541, 2.068 \\right] \\\\\\left[ 0.067, 1.318 \\right] & \\left[ 0.326, 1.702 \\right] & \\left[ 0.332, 1.502 \\right] & \\left[ 0.484, 1.85 \\right] & \\left[ 1.0, 1.0 \\right] \\end{pmatrix}$"
      ],
      "text/plain": [
       "\"\\$\\\\begin{pmatrix} \\\\left[ 1.0, 1.0 \\\\right] & \\\\left[ 0.597, 10.568 \\\\right] & \\\\left[ 0.608, 9.325 \\\\right] & \\\\left[ 0.886, 11.487 \\\\right] & \\\\left[ 0.759, 14.986 \\\\right] \\\\\\\\\\\\left[ 0.095, 1.675 \\\\right] & \\\\left[ 1.0, 1.0 \\\\right] & \\\\left[ 0.471, 1.909 \\\\right] & \\\\left[ 0.686, 2.351\" ⋯ 219 bytes ⋯ \"ft[ 0.425, 1.458 \\\\right] & \\\\left[ 0.433, 1.287 \\\\right] & \\\\left[ 1.0, 1.0 \\\\right] & \\\\left[ 0.541, 2.068 \\\\right] \\\\\\\\\\\\left[ 0.067, 1.318 \\\\right] & \\\\left[ 0.326, 1.702 \\\\right] & \\\\left[ 0.332, 1.502 \\\\right] & \\\\left[ 0.484, 1.85 \\\\right] & \\\\left[ 1.0, 1.0 \\\\right] \\\\end{pmatrix}\\$\""
      ]
     },
     "metadata": {},
     "output_type": "display_data"
    },
    {
     "data": {
      "text/latex": [
       "$\\begin{pmatrix} \\left[ 1.0, 1.0 \\right] & \\left[ 0.574, 2.6610668662e7 \\right] & \\left[ 0.619, 2.4820249295e7 \\right] & \\left[ 0.828, 3.2463839995e7 \\right] & \\left[ 0.392, 3.8783684716e7 \\right] \\\\\\left[ 0.0, 1.742 \\right] & \\left[ 1.0, 1.0 \\right] & \\left[ 0.527, 1.909 \\right] & \\left[ 0.705, 2.496 \\right] & \\left[ 0.334, 2.982 \\right] \\\\\\left[ 0.0, 1.616 \\right] & \\left[ 0.524, 1.897 \\right] & \\left[ 1.0, 1.0 \\right] & \\left[ 0.756, 2.315 \\right] & \\left[ 0.358, 2.765 \\right] \\\\\\left[ 0.0, 1.208 \\right] & \\left[ 0.401, 1.419 \\right] & \\left[ 0.432, 1.323 \\right] & \\left[ 1.0, 1.0 \\right] & \\left[ 0.273, 2.068 \\right] \\\\\\left[ 0.0, 2.553 \\right] & \\left[ 0.335, 2.998 \\right] & \\left[ 0.362, 2.796 \\right] & \\left[ 0.484, 3.658 \\right] & \\left[ 1.0, 1.0 \\right] \\end{pmatrix}$"
      ],
      "text/plain": [
       "\"\\$\\\\begin{pmatrix} \\\\left[ 1.0, 1.0 \\\\right] & \\\\left[ 0.574, 2.6610668662e7 \\\\right] & \\\\left[ 0.619, 2.4820249295e7 \\\\right] & \\\\left[ 0.828, 3.2463839995e7 \\\\right] & \\\\left[ 0.392, 3.8783684716e7 \\\\right] \\\\\\\\\\\\left[ 0.0, 1.742 \\\\right] & \\\\left[ 1.0, 1.0 \\\\right] & \\\\left[ 0.527, 1.90\" ⋯ 246 bytes ⋯ \"eft[ 0.401, 1.419 \\\\right] & \\\\left[ 0.432, 1.323 \\\\right] & \\\\left[ 1.0, 1.0 \\\\right] & \\\\left[ 0.273, 2.068 \\\\right] \\\\\\\\\\\\left[ 0.0, 2.553 \\\\right] & \\\\left[ 0.335, 2.998 \\\\right] & \\\\left[ 0.362, 2.796 \\\\right] & \\\\left[ 0.484, 3.658 \\\\right] & \\\\left[ 1.0, 1.0 \\\\right] \\\\end{pmatrix}\\$\""
      ]
     },
     "metadata": {},
     "output_type": "display_data"
    },
    {
     "data": {
      "text/latex": [
       "$\\begin{pmatrix} \\left[ 1.0, 1.0 \\right] & \\left[ 0.558, 2.557894369e7 \\right] & \\left[ 0.596, 2.4131345758e7 \\right] & \\left[ 0.828, 3.1205181116e7 \\right] & \\left[ 0.562, 3.8783684716e7 \\right] \\\\\\left[ 0.0, 1.792 \\right] & \\left[ 1.0, 1.0 \\right] & \\left[ 0.528, 1.909 \\right] & \\left[ 0.733, 2.468 \\right] & \\left[ 0.498, 3.067 \\right] \\\\\\left[ 0.0, 1.677 \\right] & \\left[ 0.524, 1.893 \\right] & \\left[ 1.0, 1.0 \\right] & \\left[ 0.777, 2.31 \\right] & \\left[ 0.528, 2.871 \\right] \\\\\\left[ 0.0, 1.208 \\right] & \\left[ 0.405, 1.364 \\right] & \\left[ 0.433, 1.287 \\right] & \\left[ 1.0, 1.0 \\right] & \\left[ 0.408, 2.068 \\right] \\\\\\left[ 0.0, 1.78 \\right] & \\left[ 0.326, 2.009 \\right] & \\left[ 0.348, 1.895 \\right] & \\left[ 0.484, 2.451 \\right] & \\left[ 1.0, 1.0 \\right] \\end{pmatrix}$"
      ],
      "text/plain": [
       "\"\\$\\\\begin{pmatrix} \\\\left[ 1.0, 1.0 \\\\right] & \\\\left[ 0.558, 2.557894369e7 \\\\right] & \\\\left[ 0.596, 2.4131345758e7 \\\\right] & \\\\left[ 0.828, 3.1205181116e7 \\\\right] & \\\\left[ 0.562, 3.8783684716e7 \\\\right] \\\\\\\\\\\\left[ 0.0, 1.792 \\\\right] & \\\\left[ 1.0, 1.0 \\\\right] & \\\\left[ 0.528, 1.909\" ⋯ 243 bytes ⋯ \"left[ 0.405, 1.364 \\\\right] & \\\\left[ 0.433, 1.287 \\\\right] & \\\\left[ 1.0, 1.0 \\\\right] & \\\\left[ 0.408, 2.068 \\\\right] \\\\\\\\\\\\left[ 0.0, 1.78 \\\\right] & \\\\left[ 0.326, 2.009 \\\\right] & \\\\left[ 0.348, 1.895 \\\\right] & \\\\left[ 0.484, 2.451 \\\\right] & \\\\left[ 1.0, 1.0 \\\\right] \\\\end{pmatrix}\\$\""
      ]
     },
     "metadata": {},
     "output_type": "display_data"
    }
   ],
   "source": [
    "display(L\"%$(intervalmatrixLaTeXString(create_interval_pcm(PerfectIncorporation_before.W_perfect_entani)))\")\n",
    "display(L\"%$(intervalmatrixLaTeXString(create_interval_pcm(PerfectIncorporation.W_perfect_center_1)))\")\n",
    "display(L\"%$(intervalmatrixLaTeXString(create_interval_pcm(tPerfectIncorporation2.W_tperfect_center_1)))\")"
   ]
  },
  {
   "cell_type": "code",
   "execution_count": 19,
   "metadata": {},
   "outputs": [
    {
     "data": {
      "text/plain": [
       "79.37519693117757"
      ]
     },
     "metadata": {},
     "output_type": "display_data"
    }
   ],
   "source": [
    "A = calculate_result(PerfectIncorporation_before, 5, \"perfect_entani\")\n",
    "B = calculate_result(PerfectIncorporation, 5, \"perfect_center_1\")\n",
    "C = calculate_result(tPerfectIncorporation2, 5, \"tperfect_center_1\")"
   ]
  },
  {
   "cell_type": "code",
   "execution_count": 15,
   "metadata": {},
   "outputs": [
    {
     "data": {
      "text/plain": [
       "19.37591305494572"
      ]
     },
     "metadata": {},
     "output_type": "display_data"
    }
   ],
   "source": [
    "A"
   ]
  },
  {
   "cell_type": "code",
   "execution_count": 16,
   "metadata": {},
   "outputs": [
    {
     "data": {
      "text/plain": [
       "80.98479341907705"
      ]
     },
     "metadata": {},
     "output_type": "display_data"
    }
   ],
   "source": [
    "B"
   ]
  },
  {
   "cell_type": "code",
   "execution_count": 20,
   "metadata": {},
   "outputs": [
    {
     "data": {
      "text/plain": [
       "79.37519693117757"
      ]
     },
     "metadata": {},
     "output_type": "display_data"
    }
   ],
   "source": [
    "C"
   ]
  }
 ],
 "metadata": {
  "kernelspec": {
   "display_name": "Julia 1.9.3",
   "language": "julia",
   "name": "julia-1.9"
  },
  "language_info": {
   "file_extension": ".jl",
   "mimetype": "application/julia",
   "name": "julia",
   "version": "1.9.3"
  }
 },
 "nbformat": 4,
 "nbformat_minor": 2
}
