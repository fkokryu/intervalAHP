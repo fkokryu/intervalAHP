{
 "cells": [
  {
   "cell_type": "code",
   "execution_count": 2,
   "metadata": {},
   "outputs": [
    {
     "data": {
      "text/plain": [
       "\"/workspaces/intervalAHP/src/lib/sim/distributionmap_perfect.png\""
      ]
     },
     "metadata": {},
     "output_type": "display_data"
    }
   ],
   "source": [
    "using CSV\n",
    "using DataFrames\n",
    "using Plots\n",
    "\n",
    "# CSVファイルの読み込み\n",
    "df = CSV.read(\"5_3_0.65_perfect.csv\", DataFrame)\n",
    "\n",
    "# 散布図の作成\n",
    "scatter(df[!, :entani論文のPerfectIncorporation], df[!, :解の非唯一性考慮のPerfectIncorporation], \n",
    "    legend=false, \n",
    "    marker=:circle, \n",
    "    markersize=4, \n",
    "    markercolor=:blue, \n",
    "    color=:lightblue,\n",
    "    grid=true)\n",
    "\n",
    "# y=xの線を追加\n",
    "x_values = 0:1:maximum([maximum(df[!, :解の非唯一性考慮のPerfectIncorporation]), maximum(df[!, :entani論文のPerfectIncorporation])]) # xとyの最大値を基に範囲を設定\n",
    "plot!(x_values, x_values, line=:solid, color=:black, linewidth=2, label=false)\n",
    "\n",
    "savefig(\"distributionmap_perfect.png\")"
   ]
  },
  {
   "cell_type": "code",
   "execution_count": 6,
   "metadata": {},
   "outputs": [
    {
     "data": {
      "text/plain": [
       "\"/workspaces/intervalAHP/src/lib/sim/distributionmap_common_filtered.png\""
      ]
     },
     "metadata": {},
     "output_type": "display_data"
    }
   ],
   "source": [
    "using CSV\n",
    "using DataFrames\n",
    "using Plots\n",
    "\n",
    "# CSVファイルの読み込み\n",
    "df = CSV.read(\"5_3_0.65_common.csv\", DataFrame)\n",
    "\n",
    "# \"Error\"が含まれる行を除外\n",
    "df_filtered = filter(row -> row[:entani論文のCommonGround] != \"Error\" && row[:解の非唯一性考慮のCommonGround] != \"Error\", df)\n",
    "\n",
    "# df_filtered から特定の列を Float64 として選択\n",
    "x_values = parse.(Float64, df_filtered[!, :entani論文のCommonGround])\n",
    "y_values = parse.(Float64, df_filtered[!, :解の非唯一性考慮のCommonGround])\n",
    "\n",
    "# 散布図の作成\n",
    "scatter(x_values, y_values, \n",
    "    legend=false, \n",
    "    marker=:circle, \n",
    "    markersize=4, \n",
    "    markercolor=:blue, \n",
    "    grid=true)\n",
    "\n",
    "# y=xの線を追加\n",
    "x_values = 0:1:maximum([maximum(parse.(Float64, df_filtered[!, :解の非唯一性考慮のCommonGround])), maximum(parse.(Float64, df_filtered[!, :entani論文のCommonGround]))]) \n",
    "plot!(x_values, x_values, line=:solid, color=:black, linewidth=2, label=false)\n",
    "\n",
    "# グラフの保存\n",
    "savefig(\"distributionmap_common_filtered.png\")\n"
   ]
  },
  {
   "cell_type": "code",
   "execution_count": 6,
   "metadata": {},
   "outputs": [
    {
     "data": {
      "text/plain": [
       "\"/workspaces/intervalAHP/src/lib/sim/distributionmap_partial.png\""
      ]
     },
     "metadata": {},
     "output_type": "display_data"
    }
   ],
   "source": [
    "using CSV\n",
    "using DataFrames\n",
    "using Plots\n",
    "\n",
    "# CSVファイルの読み込み\n",
    "df = CSV.read(\"5_3_0.65_partial.csv\", DataFrame)\n",
    "\n",
    "# 散布図の作成\n",
    "scatter(df[!, :entani論文のPartialIncorporation], df[!, :解の非唯一性考慮のPartialIncorporation], \n",
    "    legend=false, \n",
    "    marker=:circle, \n",
    "    markersize=4, \n",
    "    markercolor=:blue, \n",
    "    color=:lightblue,\n",
    "    grid=true)\n",
    "\n",
    "# y=xの線を追加\n",
    "x_values = 0:1:maximum([maximum(df[!, :解の非唯一性考慮のPartialIncorporation]), maximum(df[!, :entani論文のPartialIncorporation])]) # xとyの最大値を基に範囲を設定\n",
    "plot!(x_values, x_values, line=:solid, color=:black, linewidth=2, label=false)\n",
    "\n",
    "# グラフの保存 (オプション)\n",
    "savefig(\"distributionmap_partial.png\")"
   ]
  },
  {
   "cell_type": "code",
   "execution_count": 20,
   "metadata": {},
   "outputs": [
    {
     "data": {
      "text/plain": [
       "\"/workspaces/intervalAHP/src/lib/sim/boxplot_comparison_perfect.png\""
      ]
     },
     "metadata": {},
     "output_type": "display_data"
    }
   ],
   "source": [
    "using CSV\n",
    "using DataFrames\n",
    "using StatsPlots\n",
    "\n",
    "# CSVファイルの読み込み\n",
    "df = CSV.read(\"5_3_0.65_perfect.csv\", DataFrame)\n",
    "\n",
    "# カテゴリ（グループ名）を準備\n",
    "categories = repeat([\"Group 1\", \"Group 2\"], inner = size(df, 1))\n",
    "\n",
    "# データの準備\n",
    "data = [df[!, :entani論文のPerfectIncorporation]; df[!, :解の非唯一性考慮のPerfectIncorporation]]\n",
    "\n",
    "# 箱ひげ図の作成、色使いとスタイルの調整\n",
    "boxplot(categories, data, legend=false, \n",
    "    linewidth=2, \n",
    "    color=:lightblue,\n",
    "    whisker_color=:darkblue,\n",
    "    median_color=:red,\n",
    "    whisker_width=0.7,\n",
    "    outlier_shape=:circle,\n",
    "    outlier_color=:orange,\n",
    "    outlier_stroke_color=:red)\n",
    "\n",
    "# グラフの保存 (オプション)\n",
    "savefig(\"boxplot_comparison_perfect.png\")"
   ]
  },
  {
   "cell_type": "code",
   "execution_count": 7,
   "metadata": {},
   "outputs": [
    {
     "data": {
      "text/plain": [
       "\"/workspaces/intervalAHP/src/lib/sim/boxplot_comparison_common.png\""
      ]
     },
     "metadata": {},
     "output_type": "display_data"
    }
   ],
   "source": [
    "using CSV\n",
    "using DataFrames\n",
    "using StatsPlots\n",
    "\n",
    "# CSVファイルの読み込み\n",
    "df = CSV.read(\"5_3_0.65_common.csv\", DataFrame)\n",
    "\n",
    "# \"Error\"が含まれる行を除外\n",
    "df_filtered = filter(row -> row[:entani論文のCommonGround] != \"Error\" && row[:解の非唯一性考慮のCommonGround] != \"Error\", df)\n",
    "\n",
    "# df_filtered から特定の列を Float64 として選択\n",
    "x_values = parse.(Float64, df_filtered[!, :entani論文のCommonGround])\n",
    "y_values = parse.(Float64, df_filtered[!, :解の非唯一性考慮のCommonGround])\n",
    "\n",
    "# カテゴリ（グループ名）を準備\n",
    "categories = repeat([\"Group 1\", \"Group 2\"], inner = size(df_filtered, 1))\n",
    "\n",
    "# データの準備\n",
    "data = [x_values; y_values]\n",
    "\n",
    "\n",
    "\n",
    "# 箱ひげ図の作成、色使いとスタイルの調整\n",
    "boxplot(categories, data, legend=false, \n",
    "    linewidth=2, \n",
    "    color=:lightblue,\n",
    "    whisker_color=:darkblue,\n",
    "    median_color=:red,\n",
    "    whisker_width=0.7,\n",
    "    outlier_shape=:circle,\n",
    "    outlier_color=:orange,\n",
    "    outlier_stroke_color=:red)\n",
    "\n",
    "# グラフの保存 (オプション)\n",
    "savefig(\"boxplot_comparison_common.png\")"
   ]
  },
  {
   "cell_type": "code",
   "execution_count": 18,
   "metadata": {},
   "outputs": [
    {
     "data": {
      "text/plain": [
       "\"/workspaces/intervalAHP/src/lib/sim/boxplot_comparison_partial.png\""
      ]
     },
     "metadata": {},
     "output_type": "display_data"
    }
   ],
   "source": [
    "using CSV\n",
    "using DataFrames\n",
    "using StatsPlots\n",
    "\n",
    "# CSVファイルの読み込み\n",
    "df = CSV.read(\"5_3_0.65_partial.csv\", DataFrame)\n",
    "\n",
    "# カテゴリ（グループ名）を準備\n",
    "categories = repeat([\"Group 1\", \"Group 2\"], inner = size(df, 1))\n",
    "\n",
    "# データの準備\n",
    "data = [df[!, :entani論文のPartialIncorporation]; df[!, :解の非唯一性考慮のPartialIncorporation]]\n",
    "\n",
    "# 箱ひげ図の作成、色使いとスタイルの調整\n",
    "boxplot(categories, data, legend=false, \n",
    "    linewidth=2, \n",
    "    color=:lightblue,\n",
    "    whisker_color=:darkblue,\n",
    "    median_color=:red,\n",
    "    whisker_width=0.7,\n",
    "    outlier_shape=:circle,\n",
    "    outlier_color=:orange,\n",
    "    outlier_stroke_color=:red)\n",
    "\n",
    "# グラフの保存 (オプション)\n",
    "savefig(\"boxplot_comparison_partial.png\")"
   ]
  },
  {
   "cell_type": "code",
   "execution_count": null,
   "metadata": {},
   "outputs": [],
   "source": []
  }
 ],
 "metadata": {
  "kernelspec": {
   "display_name": "Julia 1.9.3",
   "language": "julia",
   "name": "julia-1.9"
  },
  "language_info": {
   "file_extension": ".jl",
   "mimetype": "application/julia",
   "name": "julia",
   "version": "1.9.3"
  }
 },
 "nbformat": 4,
 "nbformat_minor": 2
}
